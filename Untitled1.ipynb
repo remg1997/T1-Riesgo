{
 "cells": [
  {
   "cell_type": "code",
   "execution_count": 1,
   "id": "bdaa0594-2894-4dd9-9180-eb960a5e7409",
   "metadata": {},
   "outputs": [],
   "source": [
    "import numpy as np\n",
    "import pandas as pd\n",
    "import matplotlib.pyplot as plt\n",
    "import scripts.helpers as helpers\n",
    "from scipy.optimize import minimize, show_options"
   ]
  },
  {
   "cell_type": "markdown",
   "id": "abcb77c6-db2f-419c-b0cd-0c480072a093",
   "metadata": {},
   "source": [
    "#### Empecemos por cargar los datos"
   ]
  },
  {
   "cell_type": "code",
   "execution_count": 2,
   "id": "e855ea57-92fe-4ec3-a7df-e5f7f9701205",
   "metadata": {},
   "outputs": [],
   "source": [
    "path = \"./data/data.xlsx\""
   ]
  },
  {
   "cell_type": "code",
   "execution_count": 3,
   "id": "bdaa34da-b002-4f12-8f14-3e5919a2c388",
   "metadata": {},
   "outputs": [],
   "source": [
    "df = helpers.dataframe(path)"
   ]
  },
  {
   "cell_type": "code",
   "execution_count": 4,
   "id": "86adfecd-97bd-46dc-9323-f687bc5b0d8d",
   "metadata": {},
   "outputs": [],
   "source": [
    "firstyields = df[df.index == \"2022-02-11\"]"
   ]
  },
  {
   "cell_type": "code",
   "execution_count": 5,
   "id": "d2d298e2-4185-4ca4-b457-b8729e82a519",
   "metadata": {},
   "outputs": [],
   "source": [
    "today = firstyields.index"
   ]
  },
  {
   "cell_type": "code",
   "execution_count": 6,
   "id": "6f08be5b-1a75-423a-8481-39137f2b2991",
   "metadata": {},
   "outputs": [
    {
     "data": {
      "text/plain": [
       "DatetimeIndex(['2022-02-11'], dtype='datetime64[ns]', name='Date', freq=None)"
      ]
     },
     "execution_count": 6,
     "metadata": {},
     "output_type": "execute_result"
    }
   ],
   "source": [
    "today"
   ]
  },
  {
   "cell_type": "markdown",
   "id": "2eb90e9f-883f-46e8-94a8-32c2aa45ba82",
   "metadata": {},
   "source": [
    "#### Partimos de un vector de alphas (nuestra curva), creada al azar"
   ]
  },
  {
   "cell_type": "code",
   "execution_count": 7,
   "id": "be46c996-d824-460d-b868-c143b2036724",
   "metadata": {},
   "outputs": [],
   "source": [
    "np.random.seed(23)"
   ]
  },
  {
   "cell_type": "code",
   "execution_count": 8,
   "id": "d1b70b26-c8fc-4ce8-a34a-a34fa8fa6217",
   "metadata": {},
   "outputs": [],
   "source": [
    "alphas = np.random.uniform(low = 0.0, high = 0.1, size = 5)"
   ]
  },
  {
   "cell_type": "code",
   "execution_count": 9,
   "id": "6e2d43c1-4bbe-424a-a716-c05f77d74df7",
   "metadata": {},
   "outputs": [
    {
     "data": {
      "text/plain": [
       "array([0.05172979, 0.09469626, 0.07654598, 0.02823958, 0.02210454])"
      ]
     },
     "execution_count": 9,
     "metadata": {},
     "output_type": "execute_result"
    }
   ],
   "source": [
    "alphas"
   ]
  },
  {
   "cell_type": "code",
   "execution_count": 25,
   "id": "cbd3213f-08de-45f5-b12e-a2e8530cffd6",
   "metadata": {},
   "outputs": [],
   "source": [
    "alphas = (0.1,0.11,0.12,0.13,0.14)"
   ]
  },
  {
   "cell_type": "markdown",
   "id": "42d33d71-1c6d-4534-9f20-b4ca8af3993c",
   "metadata": {},
   "source": [
    "#### Suponemos que: \n",
    "- $\\alpha_1$ representa la tasa forward entre 0 y 3 meses, \n",
    "- $\\alpha_2$ la tasa entre 3 meses y 1 año, \n",
    "- $\\alpha_3$ la tasa entre 1 y 3 años,\n",
    "- $\\alpha_4$ la tasa entre 3 y 5 años ,\n",
    "- $\\alpha_5$ la tasa entre 5 y 10 años."
   ]
  },
  {
   "cell_type": "markdown",
   "id": "ad9e14c4-772d-452e-87d6-631e695fe34e",
   "metadata": {},
   "source": [
    "#### Ahora bien, para valorar un bono, se sigue que:"
   ]
  },
  {
   "cell_type": "markdown",
   "id": "7080a27d-7be1-480c-a034-560a785c4795",
   "metadata": {},
   "source": [
    "$$ \\sum_{i=1}^{T} \\frac{(C \\% *100)}{{(1+y_i)}^{t_i}} + \\frac {N}{{(1+y_i)}^{T}}$$ "
   ]
  },
  {
   "cell_type": "markdown",
   "id": "f03c1b3d-1b7a-43ca-9652-739909f62b11",
   "metadata": {},
   "source": [
    "#### Además, para traer a valor presente usando una curva forward, se sigue el factor de descuento a un plazo T es: "
   ]
  },
  {
   "cell_type": "markdown",
   "id": "672de528-012f-49db-8bcb-2e1a72d451e7",
   "metadata": {},
   "source": [
    "### $$ e^{-\\int_{0}^{T} f(t) \\,dt}$$"
   ]
  },
  {
   "cell_type": "markdown",
   "id": "7b564185-5e86-4fb8-9a0b-9e66cfb41f07",
   "metadata": {},
   "source": [
    "#### Con lo anterior, para valorar un bono para el taller, se sigue que:\n",
    "$$ \\sum_{i=1}^{T} (C \\% *100)*e^{-\\int_{0}^{T} f(t) \\,dt} +  {N}*{e^{-\\int_{0}^{T} f(t) \\,dt}}$$ "
   ]
  },
  {
   "cell_type": "markdown",
   "id": "73b2a9f3-21cd-4f01-8dc7-5d09d700279a",
   "metadata": {},
   "source": [
    "#### Así, para convertir las tasas anualizadas utilzaremos la siguiente función:"
   ]
  },
  {
   "cell_type": "code",
   "execution_count": 43,
   "id": "fe3cfc81-8fab-427a-9bbd-1b5f0d3e06c1",
   "metadata": {},
   "outputs": [],
   "source": [
    "def rateconverter(rate, T, today):\n",
    "    \"\"\"\n",
    "    Returns a converted interest rate, for a desired maturity.\n",
    "    Parameters:\n",
    "        rate: yearly interest rate\n",
    "        T: maturity in months\n",
    "        today: current date, expressed as a DateTimeIndex\n",
    "    \"\"\"\n",
    "    days = (today[0].date()+relativedelta(months=T) - today[0].date()).days\n",
    "    newrate = rate*days/360\n",
    "    return newrate"
   ]
  },
  {
   "cell_type": "code",
   "execution_count": 44,
   "id": "1ddfbc14-6238-4bf8-bee3-441ce9f88508",
   "metadata": {},
   "outputs": [
    {
     "data": {
      "text/plain": [
       "0.08875277777777778"
      ]
     },
     "execution_count": 44,
     "metadata": {},
     "output_type": "execute_result"
    }
   ],
   "source": [
    "helpers.rateconverter(firstyields[\"3M\"][0], 3 , today)"
   ]
  },
  {
   "cell_type": "code",
   "execution_count": 45,
   "id": "8de3300b-f40b-4ee6-b451-5881665c56d3",
   "metadata": {},
   "outputs": [
    {
     "data": {
      "text/plain": [
       "0.9488543210558013"
      ]
     },
     "execution_count": 45,
     "metadata": {},
     "output_type": "execute_result"
    }
   ],
   "source": [
    "helpers.discountfactor(alphas, 6)"
   ]
  },
  {
   "cell_type": "code",
   "execution_count": 46,
   "id": "a59f66e2-32bc-4f24-a5a7-d60d38904cdf",
   "metadata": {},
   "outputs": [],
   "source": [
    "tmb = 100 +helpers.rateconverter(firstyields[\"3M\"][0], 3 , today)*helpers.discountfactor(alphas, 6)"
   ]
  },
  {
   "cell_type": "code",
   "execution_count": 47,
   "id": "523b5edc-a590-4977-93db-e56aa853a726",
   "metadata": {},
   "outputs": [
    {
     "data": {
      "text/plain": [
       "100.08421345670016"
      ]
     },
     "execution_count": 47,
     "metadata": {},
     "output_type": "execute_result"
    }
   ],
   "source": [
    "tmb"
   ]
  },
  {
   "cell_type": "markdown",
   "id": "3ce9fc53-28d4-4fd6-be37-220cfe72085b",
   "metadata": {},
   "source": [
    "#### Y para hallar los factores de descuento, asumiendo una curva constante a trozos:"
   ]
  },
  {
   "cell_type": "code",
   "execution_count": 48,
   "id": "7ac14df7-92e0-4b4d-b750-d4cf1586e8f3",
   "metadata": {},
   "outputs": [],
   "source": [
    "def discountfactor(curve, T):\n",
    "    \"\"\"\n",
    "    Returns the discount factor for a given maturity and forward curve, assuming a constant stepwise curve \n",
    "    Parameters:\n",
    "        curve: forward curve\n",
    "        T: maturity in months\n",
    "    \"\"\"\n",
    "    intervals_r=[3,12,36,60,120]\n",
    "    intervals_l=[0,3,12,36,60]\n",
    "    mask = [(t<=T) for t in intervals_l]\n",
    "    minimum = np.minimum(T, intervals_r)\n",
    "    areas = (minimum-intervals_l)*curve*mask/12\n",
    "    totalarea = np.sum(areas)\n",
    "    discountfactor = np.exp(-1*totalarea)\n",
    "    return discountfactor"
   ]
  },
  {
   "cell_type": "markdown",
   "id": "6fd88cdc-ca41-4012-b28b-9d1051cb5525",
   "metadata": {},
   "source": [
    "#### Miremos cómo se comporta la función para el factor de descuento:"
   ]
  },
  {
   "cell_type": "code",
   "execution_count": 49,
   "id": "59fdefd2-c50f-4f13-afc6-b2ef1161a300",
   "metadata": {},
   "outputs": [],
   "source": [
    "alphas = np.arange (0.1,1,0.0075)\n",
    "maturities = np.arange(1,122,1)\n",
    "discounts = list(map(helpers.discountfactor, alphas, maturities))"
   ]
  },
  {
   "cell_type": "code",
   "execution_count": 50,
   "id": "826cbb31-50ad-47fe-a59e-acfa49ac6868",
   "metadata": {},
   "outputs": [
    {
     "data": {
      "text/plain": [
       "[<matplotlib.lines.Line2D at 0x7fb7e556e250>]"
      ]
     },
     "execution_count": 50,
     "metadata": {},
     "output_type": "execute_result"
    },
    {
     "data": {
      "image/png": "[encoded data removed]",
      "text/plain": [
       "<Figure size 700x500 with 1 Axes>"
      ]
     },
     "metadata": {},
     "output_type": "display_data"
    }
   ],
   "source": [
    "plt.style.use('seaborn-whitegrid')\n",
    "plt.rcParams.update({'figure.figsize':(7,5), 'figure.dpi':100})\n",
    "plt.xlabel('Maturities')\n",
    "plt.ylabel('Discount Factors')\n",
    "plt.title('Factores de Descuento a Diez Años')\n",
    "plt.plot(maturities,discounts)"
   ]
  },
  {
   "cell_type": "markdown",
   "id": "7dc77ffe-72aa-4641-834a-f90372914909",
   "metadata": {},
   "source": [
    "#### Ahora definamos la función de pagos para un bono específico:"
   ]
  },
  {
   "cell_type": "code",
   "execution_count": 51,
   "id": "5cfb4a3f-4bad-4b15-8fcc-55b5a0abbaf6",
   "metadata": {},
   "outputs": [],
   "source": [
    "def singlebondpayment(T, rate, alpha, today):\n",
    "    return helpers.rateconverter(rate, T, today)*helpers.discountfactor(alpha, T)"
   ]
  },
  {
   "cell_type": "code",
   "execution_count": 53,
   "id": "116b4da6-bee8-4062-a2b4-d57cff1e6641",
   "metadata": {},
   "outputs": [],
   "source": [
    "alphas = (0.1,0.11,0.12,0.13,0.14)"
   ]
  },
  {
   "cell_type": "code",
   "execution_count": 54,
   "id": "21eefae5-7416-4dc9-99ee-89d221010086",
   "metadata": {},
   "outputs": [
    {
     "data": {
      "text/plain": [
       "5.326154600364473"
      ]
     },
     "execution_count": 54,
     "metadata": {},
     "output_type": "execute_result"
    }
   ],
   "source": [
    "singlebondpayment(120, firstyields[\"10Y\"][0], alphas, today)"
   ]
  },
  {
   "cell_type": "markdown",
   "id": "1e8e142e-4356-455d-a4fa-a140f0f12666",
   "metadata": {},
   "source": [
    "#### Generalizando para cualquier bono:"
   ]
  },
  {
   "cell_type": "code",
   "execution_count": 55,
   "id": "d4b87859-2abe-4e9e-8691-9c63bc213971",
   "metadata": {},
   "outputs": [],
   "source": [
    "def bondvalue(today, T, rates, alpha):\n",
    "    if T == 3:\n",
    "        return singlebondpayment(T, rates[\"3M\"][0], alpha, today) + 100*helpers.discountfactor(alpha , T)\n",
    "    else:\n",
    "        maturitynames = [i for i in rates.columns]\n",
    "        maturitydates = [120,84,60,36,24,12,6,3]\n",
    "        maturitydict = {maturitydates[i]: maturitynames[i] for i in range(len(maturitynames))}\n",
    "        periods = np.arange(6,T+6,6)\n",
    "        bondpayments= np.array([singlebondpayment(i, rate = firstyields[maturitydict[T]][0], today = today, alpha = alphas) for i in periods])\n",
    "        sumpayments = np.sum(bondpayments) \n",
    "        return sumpayments + 100*helpers.discountfactor(alpha, T)"
   ]
  },
  {
   "cell_type": "code",
   "execution_count": 56,
   "id": "86fbe114-5885-481b-8a91-71d9b48c97da",
   "metadata": {},
   "outputs": [
    {
     "data": {
      "text/plain": [
       "118.75222870108522"
      ]
     },
     "execution_count": 56,
     "metadata": {},
     "output_type": "execute_result"
    }
   ],
   "source": [
    "bondvalue(today,120,firstyields,alphas)"
   ]
  },
  {
   "cell_type": "markdown",
   "id": "7bbe7822-7d81-4082-a004-5fb8795314a4",
   "metadata": {},
   "source": [
    "#### Definamos el error como la diferencia de los cuadrados"
   ]
  },
  {
   "cell_type": "code",
   "execution_count": 57,
   "id": "5ae84f68-3b3d-4219-b404-8e016da28554",
   "metadata": {},
   "outputs": [],
   "source": [
    "def error(alpha):\n",
    "    maturitydates = [120,84,60,36,24,12,6,3]\n",
    "    bondvalues = [bondvalue(today, i, firstyields, alpha) for i in maturitydates]\n",
    "    error = np.sum(np.square(np.subtract(bondvalues,100)))\n",
    "    return error"
   ]
  },
  {
   "cell_type": "code",
   "execution_count": 58,
   "id": "d2db407e-4721-4a81-9c1d-0005a857ece9",
   "metadata": {},
   "outputs": [],
   "source": [
    "maturitydates = [120,84,60,36,24,12,6,3]\n"
   ]
  },
  {
   "cell_type": "code",
   "execution_count": 59,
   "id": "a9619fd6-426d-47d9-be60-e105b58d986a",
   "metadata": {},
   "outputs": [],
   "source": [
    "bondvalues = [bondvalue(today, i, firstyields, alphas) for i in maturitydates]\n"
   ]
  },
  {
   "cell_type": "code",
   "execution_count": 60,
   "id": "8a9f8089-f051-4d9f-8e97-09a321ebe12f",
   "metadata": {},
   "outputs": [
    {
     "data": {
      "text/plain": [
       "[118.75222870108522,\n",
       " 99.68790239511273,\n",
       " 89.02356770267328,\n",
       " 85.05092260751854,\n",
       " 86.10198638620884,\n",
       " 91.23550568709972,\n",
       " 95.21555960952702,\n",
       " 97.61755266671997]"
      ]
     },
     "execution_count": 60,
     "metadata": {},
     "output_type": "execute_result"
    }
   ],
   "source": [
    "bondvalues"
   ]
  },
  {
   "cell_type": "code",
   "execution_count": 61,
   "id": "225ef056-0c7e-49ff-86a8-1e3557022f19",
   "metadata": {},
   "outputs": [
    {
     "data": {
      "text/plain": [
       "994.2385351528062"
      ]
     },
     "execution_count": 61,
     "metadata": {},
     "output_type": "execute_result"
    }
   ],
   "source": [
    "error(alphas)"
   ]
  },
  {
   "cell_type": "markdown",
   "id": "3e0f8a42-57fb-429d-9519-f419746e9eac",
   "metadata": {},
   "source": [
    "#### Podemos minimizar esta función con respecto a los parámetros "
   ]
  },
  {
   "cell_type": "code",
   "execution_count": 62,
   "id": "b860de73-d60b-4b2a-884a-d51b96c98704",
   "metadata": {},
   "outputs": [],
   "source": [
    "res = minimize(error, alphas,bounds = ((0,1),(0,1),(0,1),(0,1),(0,1)), method=\"L-BFGS-B\")"
   ]
  },
  {
   "cell_type": "code",
   "execution_count": 63,
   "id": "677a3bfa-a5e9-44f1-97ad-b9333ef73b4d",
   "metadata": {},
   "outputs": [
    {
     "data": {
      "text/plain": [
       "      fun: 68.84814274569332\n",
       " hess_inv: <5x5 LbfgsInvHessProduct with dtype=float64>\n",
       "      jac: array([ 3.12638804e-05, -8.52651283e-06, -1.83320026e-04, -2.50111043e-04,\n",
       "       -3.97903932e-05])\n",
       "  message: 'CONVERGENCE: REL_REDUCTION_OF_F_<=_FACTR*EPSMCH'\n",
       "     nfev: 120\n",
       "      nit: 16\n",
       "     njev: 20\n",
       "   status: 0\n",
       "  success: True\n",
       "        x: array([0.0030213 , 0.01100222, 0.06976179, 0.12423011, 0.31365211])"
      ]
     },
     "execution_count": 63,
     "metadata": {},
     "output_type": "execute_result"
    }
   ],
   "source": [
    "res"
   ]
  },
  {
   "cell_type": "code",
   "execution_count": null,
   "id": "0665a6c9-fcee-482f-9c08-244e3c2cdd08",
   "metadata": {},
   "outputs": [],
   "source": []
  }
 ],
 "metadata": {
  "kernelspec": {
   "display_name": "Python 3 (ipykernel)",
   "language": "python",
   "name": "python3"
  },
  "language_info": {
   "codemirror_mode": {
    "name": "ipython",
    "version": 3
   },
   "file_extension": ".py",
   "mimetype": "text/x-python",
   "name": "python",
   "nbconvert_exporter": "python",
   "pygments_lexer": "ipython3",
   "version": "3.9.7"
  }
 },
 "nbformat": 4,
 "nbformat_minor": 5
}
