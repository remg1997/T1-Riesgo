{
 "cells": [
  {
   "cell_type": "code",
   "execution_count": 131,
   "id": "bdaa0594-2894-4dd9-9180-eb960a5e7409",
   "metadata": {},
   "outputs": [],
   "source": [
    "import numpy as np\n",
    "import pandas as pd\n",
    "import matplotlib.pyplot as plt\n",
    "import scripts.helpers as helpers\n",
    "from scipy.optimize import minimize, show_options"
   ]
  },
  {
   "cell_type": "markdown",
   "id": "abcb77c6-db2f-419c-b0cd-0c480072a093",
   "metadata": {},
   "source": [
    "#### Empecemos por cargar los datos"
   ]
  },
  {
   "cell_type": "code",
   "execution_count": 132,
   "id": "e855ea57-92fe-4ec3-a7df-e5f7f9701205",
   "metadata": {},
   "outputs": [],
   "source": [
    "path = \"./data/data.xlsx\""
   ]
  },
  {
   "cell_type": "code",
   "execution_count": 133,
   "id": "bdaa34da-b002-4f12-8f14-3e5919a2c388",
   "metadata": {},
   "outputs": [],
   "source": [
    "df = helpers.dataframe(path)"
   ]
  },
  {
   "cell_type": "code",
   "execution_count": 134,
   "id": "86adfecd-97bd-46dc-9323-f687bc5b0d8d",
   "metadata": {},
   "outputs": [],
   "source": [
    "firstyields = df[df.index == \"2022-02-11\"]"
   ]
  },
  {
   "cell_type": "code",
   "execution_count": 135,
   "id": "d2d298e2-4185-4ca4-b457-b8729e82a519",
   "metadata": {},
   "outputs": [],
   "source": [
    "today = firstyields.index"
   ]
  },
  {
   "cell_type": "code",
   "execution_count": 136,
   "id": "6f08be5b-1a75-423a-8481-39137f2b2991",
   "metadata": {},
   "outputs": [
    {
     "data": {
      "text/plain": [
       "DatetimeIndex(['2022-02-11'], dtype='datetime64[ns]', name='Date', freq=None)"
      ]
     },
     "execution_count": 136,
     "metadata": {},
     "output_type": "execute_result"
    }
   ],
   "source": [
    "today"
   ]
  },
  {
   "cell_type": "markdown",
   "id": "2eb90e9f-883f-46e8-94a8-32c2aa45ba82",
   "metadata": {},
   "source": [
    "#### Partimos de un vector de alphas (nuestra curva), creada al azar"
   ]
  },
  {
   "cell_type": "code",
   "execution_count": 137,
   "id": "be46c996-d824-460d-b868-c143b2036724",
   "metadata": {},
   "outputs": [],
   "source": [
    "np.random.seed(23)"
   ]
  },
  {
   "cell_type": "code",
   "execution_count": 138,
   "id": "d1b70b26-c8fc-4ce8-a34a-a34fa8fa6217",
   "metadata": {},
   "outputs": [],
   "source": [
    "alphas = np.random.uniform(low = 0.0, high = 0.1, size = 5)"
   ]
  },
  {
   "cell_type": "code",
   "execution_count": 139,
   "id": "6e2d43c1-4bbe-424a-a716-c05f77d74df7",
   "metadata": {},
   "outputs": [
    {
     "data": {
      "text/plain": [
       "array([0.05172979, 0.09469626, 0.07654598, 0.02823958, 0.02210454])"
      ]
     },
     "execution_count": 139,
     "metadata": {},
     "output_type": "execute_result"
    }
   ],
   "source": [
    "alphas"
   ]
  },
  {
   "cell_type": "code",
   "execution_count": 140,
   "id": "cbd3213f-08de-45f5-b12e-a2e8530cffd6",
   "metadata": {},
   "outputs": [],
   "source": [
    "alphas = (0.1,0.11,0.12,0.13,0.14)"
   ]
  },
  {
   "cell_type": "markdown",
   "id": "42d33d71-1c6d-4534-9f20-b4ca8af3993c",
   "metadata": {},
   "source": [
    "#### Suponemos que: \n",
    "- $\\alpha_1$ representa la tasa forward entre 0 y 3 meses, \n",
    "- $\\alpha_2$ la tasa entre 3 meses y 1 año, \n",
    "- $\\alpha_3$ la tasa entre 1 y 3 años,\n",
    "- $\\alpha_4$ la tasa entre 3 y 5 años ,\n",
    "- $\\alpha_5$ la tasa entre 5 y 10 años."
   ]
  },
  {
   "cell_type": "markdown",
   "id": "ad9e14c4-772d-452e-87d6-631e695fe34e",
   "metadata": {},
   "source": [
    "#### Ahora bien, para valorar un bono, se sigue que:"
   ]
  },
  {
   "cell_type": "markdown",
   "id": "7080a27d-7be1-480c-a034-560a785c4795",
   "metadata": {},
   "source": [
    "$$ \\sum_{i=1}^{T} \\frac{(C \\% *100)}{{(1+y_i)}^{t_i}} + \\frac {N}{{(1+y_i)}^{T}}$$ "
   ]
  },
  {
   "cell_type": "markdown",
   "id": "f03c1b3d-1b7a-43ca-9652-739909f62b11",
   "metadata": {},
   "source": [
    "#### Además, para traer a valor presente usando una curva forward, se sigue el factor de descuento a un plazo T es: "
   ]
  },
  {
   "cell_type": "markdown",
   "id": "672de528-012f-49db-8bcb-2e1a72d451e7",
   "metadata": {},
   "source": [
    "### $$ e^{-\\int_{0}^{T} f(t) \\,dt}$$"
   ]
  },
  {
   "cell_type": "markdown",
   "id": "7b564185-5e86-4fb8-9a0b-9e66cfb41f07",
   "metadata": {},
   "source": [
    "#### Con lo anterior, para valorar un bono para el taller, se sigue que:\n",
    "$$ \\sum_{i=1}^{T} (C \\% *100)*e^{-\\int_{0}^{T} f(t) \\,dt} +  {N}*{e^{-\\int_{0}^{T} f(t) \\,dt}}$$ "
   ]
  },
  {
   "cell_type": "markdown",
   "id": "73b2a9f3-21cd-4f01-8dc7-5d09d700279a",
   "metadata": {},
   "source": [
    "#### Así, para convertir las tasas anualizadas utilzaremos la siguiente función:"
   ]
  },
  {
   "cell_type": "code",
   "execution_count": 147,
   "id": "fe3cfc81-8fab-427a-9bbd-1b5f0d3e06c1",
   "metadata": {},
   "outputs": [],
   "source": [
    "def rateconverter(rate, T, today):\n",
    "    \"\"\"\n",
    "    Returns a converted interest rate, for a desired maturity.\n",
    "    Parameters:\n",
    "        rate: yearly interest rate\n",
    "        T: maturity in months\n",
    "        today: current date, expressed as a DateTimeIndex\n",
    "    \"\"\"\n",
    "    days = (today[0].date()+relativedelta(months=T) - today[0].date()).days\n",
    "    newrate = rate*days/360\n",
    "    return newrate"
   ]
  },
  {
   "cell_type": "code",
   "execution_count": 145,
   "id": "a59f66e2-32bc-4f24-a5a7-d60d38904cdf",
   "metadata": {},
   "outputs": [],
   "source": [
    "tmb = 100 +helpers.rateconverter(firstyields[\"3M\"][0], 3 , today)*helpers.discountfactor(alphas, 6)"
   ]
  },
  {
   "cell_type": "code",
   "execution_count": 146,
   "id": "523b5edc-a590-4977-93db-e56aa853a726",
   "metadata": {},
   "outputs": [
    {
     "data": {
      "text/plain": [
       "100.04726900176104"
      ]
     },
     "execution_count": 146,
     "metadata": {},
     "output_type": "execute_result"
    }
   ],
   "source": [
    "tmb"
   ]
  },
  {
   "cell_type": "markdown",
   "id": "3ce9fc53-28d4-4fd6-be37-220cfe72085b",
   "metadata": {},
   "source": [
    "#### Y para hallar los factores de descuento, asumiendo una curva constante a trozos:"
   ]
  },
  {
   "cell_type": "code",
   "execution_count": 12,
   "id": "7ac14df7-92e0-4b4d-b750-d4cf1586e8f3",
   "metadata": {},
   "outputs": [],
   "source": [
    "def discountfactor(curve, T):\n",
    "    \"\"\"\n",
    "    Returns the discount factor for a given maturity and forward curve, assuming a constant stepwise curve \n",
    "    Parameters:\n",
    "        curve: forward curve\n",
    "        T: maturity in months\n",
    "        \n",
    "    \"\"\"\n",
    "    intervals_r=[3,12,36,60,120]\n",
    "    intervals_l=[0,3,12,36,60]\n",
    "    mask = [(t<T) for t in intervals_l]\n",
    "    minimum = np.minimum(T, intervals_r)\n",
    "    areas = (minimum-intervals_l)*curve*mask\n",
    "    totalarea = np.sum(areas)\n",
    "    discountfactor = np.exp(-1*totalarea)\n",
    "    return discountfactor"
   ]
  },
  {
   "cell_type": "markdown",
   "id": "6fd88cdc-ca41-4012-b28b-9d1051cb5525",
   "metadata": {},
   "source": [
    "#### Miremos cómo se comporta la función para el factor de descuento:"
   ]
  },
  {
   "cell_type": "code",
   "execution_count": 13,
   "id": "59fdefd2-c50f-4f13-afc6-b2ef1161a300",
   "metadata": {},
   "outputs": [],
   "source": [
    "alphas = np.arange (0.1,1,0.0075)\n",
    "maturities = np.arange(1,122,1)\n",
    "discounts = list(map(discountfactor, alphas, maturities))"
   ]
  },
  {
   "cell_type": "code",
   "execution_count": 14,
   "id": "826cbb31-50ad-47fe-a59e-acfa49ac6868",
   "metadata": {},
   "outputs": [
    {
     "data": {
      "text/plain": [
       "[<matplotlib.lines.Line2D at 0x7feee1f7dfa0>]"
      ]
     },
     "execution_count": 14,
     "metadata": {},
     "output_type": "execute_result"
    },
    {
     "data": {
      "image/png": "[encoded data removed]",
      "text/plain": [
       "<Figure size 700x500 with 1 Axes>"
      ]
     },
     "metadata": {},
     "output_type": "display_data"
    }
   ],
   "source": [
    "plt.style.use('seaborn-whitegrid')\n",
    "plt.rcParams.update({'figure.figsize':(7,5), 'figure.dpi':100})\n",
    "plt.xlabel('Maturities')\n",
    "plt.ylabel('Discount Factors')\n",
    "plt.title('Factores de Descuento a Diez Años')\n",
    "plt.plot(maturities,discounts)"
   ]
  },
  {
   "cell_type": "markdown",
   "id": "7dc77ffe-72aa-4641-834a-f90372914909",
   "metadata": {},
   "source": [
    "#### Ahora definamos la función de pagos para un bono específico:"
   ]
  },
  {
   "cell_type": "code",
   "execution_count": 123,
   "id": "5cfb4a3f-4bad-4b15-8fcc-55b5a0abbaf6",
   "metadata": {},
   "outputs": [],
   "source": [
    "def singlebondpayment(T, rate, alpha, today):\n",
    "    return helpers.rateconverter(rate, T, today)*helpers.discountfactor(alpha, T)"
   ]
  },
  {
   "cell_type": "code",
   "execution_count": 124,
   "id": "21eefae5-7416-4dc9-99ee-89d221010086",
   "metadata": {},
   "outputs": [
    {
     "data": {
      "text/plain": [
       "3.0211576097153954e-06"
      ]
     },
     "execution_count": 124,
     "metadata": {},
     "output_type": "execute_result"
    }
   ],
   "source": [
    "singlebondpayment(120, firstyields[\"10Y\"][0], alphas, today)"
   ]
  },
  {
   "cell_type": "markdown",
   "id": "1e8e142e-4356-455d-a4fa-a140f0f12666",
   "metadata": {},
   "source": [
    "#### Generalizando para cualquier bono:"
   ]
  },
  {
   "cell_type": "code",
   "execution_count": 117,
   "id": "d4b87859-2abe-4e9e-8691-9c63bc213971",
   "metadata": {},
   "outputs": [],
   "source": [
    "def bondvalue(today, T, rates, alpha):\n",
    "    if T == 3:\n",
    "        return singlebondpayment(T, rates[\"3M\"][0], alpha, today) + 100*helpers.discountfactor(alpha , T)\n",
    "    else:\n",
    "        maturitynames = [i for i in rates.columns]\n",
    "        maturitydates = [120,84,60,36,24,12,6,3]\n",
    "        maturitydict = {maturitydates[i]: maturitynames[i] for i in range(len(maturitynames))}\n",
    "        periods = np.arange(6,T+6,6)\n",
    "        bondpayments= np.array([singlebondpayment(i, rate = firstyields[maturitydict[T]][0], today = today, alpha = alphas) for i in periods])\n",
    "        sumpayments = np.sum(bondpayments) \n",
    "        return sumpayments + 100*discountfactor(alpha, T)"
   ]
  },
  {
   "cell_type": "code",
   "execution_count": 122,
   "id": "86fbe114-5885-481b-8a91-71d9b48c97da",
   "metadata": {},
   "outputs": [
    {
     "data": {
      "text/plain": [
       "2.0602795354261887"
      ]
     },
     "execution_count": 122,
     "metadata": {},
     "output_type": "execute_result"
    }
   ],
   "source": [
    "bondvalue(today,120,firstyields,alphas)"
   ]
  },
  {
   "cell_type": "markdown",
   "id": "7bbe7822-7d81-4082-a004-5fb8795314a4",
   "metadata": {},
   "source": [
    "#### Definamos el error como la diferencia de los cuadrados"
   ]
  },
  {
   "cell_type": "code",
   "execution_count": 119,
   "id": "d83a1321-4fd1-4d76-888f-eee2c85150ba",
   "metadata": {},
   "outputs": [
    {
     "data": {
      "text/plain": [
       "[0.1403010022745978,\n",
       " 0.1402287194295352,\n",
       " 0.13415696052633394,\n",
       " 0.12513464491287127,\n",
       " 0.1342338650001906,\n",
       " 2.9051674489886588,\n",
       " 7.756719536753283,\n",
       " 12.773734422284571]"
      ]
     },
     "execution_count": 119,
     "metadata": {},
     "output_type": "execute_result"
    }
   ],
   "source": [
    "bondvalues"
   ]
  },
  {
   "cell_type": "code",
   "execution_count": 100,
   "id": "5ae84f68-3b3d-4219-b404-8e016da28554",
   "metadata": {},
   "outputs": [],
   "source": [
    "def error(alpha):\n",
    "    maturitydates = [120,84,60,36,24,12,6,3]\n",
    "    bondvalues = [bondvalue(today, i, firstyields, alpha) for i in maturitydates]\n",
    "    error = np.sum(np.square(np.subtract(bondvalues,100)))\n",
    "    return error"
   ]
  },
  {
   "cell_type": "code",
   "execution_count": 101,
   "id": "225ef056-0c7e-49ff-86a8-1e3557022f19",
   "metadata": {},
   "outputs": [
    {
     "data": {
      "text/plain": [
       "46335.147741621346"
      ]
     },
     "execution_count": 101,
     "metadata": {},
     "output_type": "execute_result"
    }
   ],
   "source": [
    "error(alphas)"
   ]
  },
  {
   "cell_type": "markdown",
   "id": "3e0f8a42-57fb-429d-9519-f419746e9eac",
   "metadata": {},
   "source": [
    "#### Podemos minimizar esta función con respecto a los parámetros "
   ]
  },
  {
   "cell_type": "code",
   "execution_count": 104,
   "id": "9d37a83f-4c74-4ab0-972c-8a7ce1367fd7",
   "metadata": {},
   "outputs": [
    {
     "data": {
      "text/plain": [
       "array([0.05172979, 0.09469626, 0.07654598, 0.02823958, 0.02210454])"
      ]
     },
     "execution_count": 104,
     "metadata": {},
     "output_type": "execute_result"
    }
   ],
   "source": [
    "alphas"
   ]
  },
  {
   "cell_type": "code",
   "execution_count": 109,
   "id": "0221287c-c571-4450-8d48-310f8fae75c8",
   "metadata": {},
   "outputs": [
    {
     "data": {
      "text/plain": [
       "5"
      ]
     },
     "execution_count": 109,
     "metadata": {},
     "output_type": "execute_result"
    }
   ],
   "source": [
    "len(alphas)"
   ]
  },
  {
   "cell_type": "code",
   "execution_count": 112,
   "id": "b860de73-d60b-4b2a-884a-d51b96c98704",
   "metadata": {},
   "outputs": [],
   "source": [
    "res = minimize(error, alphas,bounds = ((0,1),(0,1),(0,1),(0,1),(0,1)), method=\"L-BFGS-B\")"
   ]
  },
  {
   "cell_type": "code",
   "execution_count": 113,
   "id": "677a3bfa-a5e9-44f1-97ad-b9333ef73b4d",
   "metadata": {},
   "outputs": [
    {
     "data": {
      "text/plain": [
       "      fun: 0.0712987330681923\n",
       " hess_inv: <5x5 LbfgsInvHessProduct with dtype=float64>\n",
       "      jac: array([0.00441922, 0.01110504, 0.02618066, 0.00207468, 0.05627837])\n",
       "  message: 'CONVERGENCE: REL_REDUCTION_OF_F_<=_FACTR*EPSMCH'\n",
       "     nfev: 258\n",
       "      nit: 18\n",
       "     njev: 43\n",
       "   status: 0\n",
       "  success: True\n",
       "        x: array([0.0001675 , 0.00077432, 0.00098978, 0.00064728, 0.00041419])"
      ]
     },
     "execution_count": 113,
     "metadata": {},
     "output_type": "execute_result"
    }
   ],
   "source": [
    "res"
   ]
  },
  {
   "cell_type": "code",
   "execution_count": 57,
   "id": "82c3c25c-cd3f-4ee0-9df9-6d06a348f728",
   "metadata": {},
   "outputs": [
    {
     "name": "stdout",
     "output_type": "stream",
     "text": [
      "\n",
      "\n",
      "bfgs\n",
      "====\n",
      "\n",
      "Minimization of scalar function of one or more variables using the\n",
      "BFGS algorithm.\n",
      "\n",
      "Options\n",
      "-------\n",
      "disp : bool\n",
      "    Set to True to print convergence messages.\n",
      "maxiter : int\n",
      "    Maximum number of iterations to perform.\n",
      "gtol : float\n",
      "    Gradient norm must be less than `gtol` before successful\n",
      "    termination.\n",
      "norm : float\n",
      "    Order of norm (Inf is max, -Inf is min).\n",
      "eps : float or ndarray\n",
      "    If `jac is None` the absolute step size used for numerical\n",
      "    approximation of the jacobian via forward differences.\n",
      "return_all : bool, optional\n",
      "    Set to True to return a list of the best solution at each of the\n",
      "    iterations.\n",
      "finite_diff_rel_step : None or array_like, optional\n",
      "    If `jac in ['2-point', '3-point', 'cs']` the relative step size to\n",
      "    use for numerical approximation of the jacobian. The absolute step\n",
      "    size is computed as ``h = rel_step * sign(x0) * max(1, abs(x0))``,\n",
      "    possibly adjusted to fit into the bounds. For ``method='3-point'``\n",
      "    the sign of `h` is ignored. If None (default) then step is selected\n",
      "    automatically.\n",
      "\n",
      "cg\n",
      "==\n",
      "\n",
      "Minimization of scalar function of one or more variables using the\n",
      "conjugate gradient algorithm.\n",
      "\n",
      "Options\n",
      "-------\n",
      "disp : bool\n",
      "    Set to True to print convergence messages.\n",
      "maxiter : int\n",
      "    Maximum number of iterations to perform.\n",
      "gtol : float\n",
      "    Gradient norm must be less than `gtol` before successful\n",
      "    termination.\n",
      "norm : float\n",
      "    Order of norm (Inf is max, -Inf is min).\n",
      "eps : float or ndarray\n",
      "    If `jac is None` the absolute step size used for numerical\n",
      "    approximation of the jacobian via forward differences.\n",
      "return_all : bool, optional\n",
      "    Set to True to return a list of the best solution at each of the\n",
      "    iterations.\n",
      "finite_diff_rel_step : None or array_like, optional\n",
      "    If `jac in ['2-point', '3-point', 'cs']` the relative step size to\n",
      "    use for numerical approximation of the jacobian. The absolute step\n",
      "    size is computed as ``h = rel_step * sign(x0) * max(1, abs(x0))``,\n",
      "    possibly adjusted to fit into the bounds. For ``method='3-point'``\n",
      "    the sign of `h` is ignored. If None (default) then step is selected\n",
      "    automatically.\n",
      "\n",
      "cobyla\n",
      "======\n",
      "\n",
      "Minimize a scalar function of one or more variables using the\n",
      "Constrained Optimization BY Linear Approximation (COBYLA) algorithm.\n",
      "\n",
      "Options\n",
      "-------\n",
      "rhobeg : float\n",
      "    Reasonable initial changes to the variables.\n",
      "tol : float\n",
      "    Final accuracy in the optimization (not precisely guaranteed).\n",
      "    This is a lower bound on the size of the trust region.\n",
      "disp : bool\n",
      "    Set to True to print convergence messages. If False,\n",
      "    `verbosity` is ignored as set to 0.\n",
      "maxiter : int\n",
      "    Maximum number of function evaluations.\n",
      "catol : float\n",
      "    Tolerance (absolute) for constraint violations\n",
      "\n",
      "dogleg\n",
      "======\n",
      "\n",
      "Minimization of scalar function of one or more variables using\n",
      "the dog-leg trust-region algorithm.\n",
      "\n",
      "Options\n",
      "-------\n",
      "initial_trust_radius : float\n",
      "    Initial trust-region radius.\n",
      "max_trust_radius : float\n",
      "    Maximum value of the trust-region radius. No steps that are longer\n",
      "    than this value will be proposed.\n",
      "eta : float\n",
      "    Trust region related acceptance stringency for proposed steps.\n",
      "gtol : float\n",
      "    Gradient norm must be less than `gtol` before successful\n",
      "    termination.\n",
      "\n",
      "l-bfgs-b\n",
      "========\n",
      "\n",
      "Minimize a scalar function of one or more variables using the L-BFGS-B\n",
      "algorithm.\n",
      "\n",
      "Options\n",
      "-------\n",
      "disp : None or int\n",
      "    If `disp is None` (the default), then the supplied version of `iprint`\n",
      "    is used. If `disp is not None`, then it overrides the supplied version\n",
      "    of `iprint` with the behaviour you outlined.\n",
      "maxcor : int\n",
      "    The maximum number of variable metric corrections used to\n",
      "    define the limited memory matrix. (The limited memory BFGS\n",
      "    method does not store the full hessian but uses this many terms\n",
      "    in an approximation to it.)\n",
      "ftol : float\n",
      "    The iteration stops when ``(f^k -\n",
      "    f^{k+1})/max{|f^k|,|f^{k+1}|,1} <= ftol``.\n",
      "gtol : float\n",
      "    The iteration will stop when ``max{|proj g_i | i = 1, ..., n}\n",
      "    <= gtol`` where ``pg_i`` is the i-th component of the\n",
      "    projected gradient.\n",
      "eps : float or ndarray\n",
      "    If `jac is None` the absolute step size used for numerical\n",
      "    approximation of the jacobian via forward differences.\n",
      "maxfun : int\n",
      "    Maximum number of function evaluations.\n",
      "maxiter : int\n",
      "    Maximum number of iterations.\n",
      "iprint : int, optional\n",
      "    Controls the frequency of output. ``iprint < 0`` means no output;\n",
      "    ``iprint = 0``    print only one line at the last iteration;\n",
      "    ``0 < iprint < 99`` print also f and ``|proj g|`` every iprint iterations;\n",
      "    ``iprint = 99``   print details of every iteration except n-vectors;\n",
      "    ``iprint = 100``  print also the changes of active set and final x;\n",
      "    ``iprint > 100``  print details of every iteration including x and g.\n",
      "callback : callable, optional\n",
      "    Called after each iteration, as ``callback(xk)``, where ``xk`` is the\n",
      "    current parameter vector.\n",
      "maxls : int, optional\n",
      "    Maximum number of line search steps (per iteration). Default is 20.\n",
      "finite_diff_rel_step : None or array_like, optional\n",
      "    If `jac in ['2-point', '3-point', 'cs']` the relative step size to\n",
      "    use for numerical approximation of the jacobian. The absolute step\n",
      "    size is computed as ``h = rel_step * sign(x0) * max(1, abs(x0))``,\n",
      "    possibly adjusted to fit into the bounds. For ``method='3-point'``\n",
      "    the sign of `h` is ignored. If None (default) then step is selected\n",
      "    automatically.\n",
      "\n",
      "Notes\n",
      "-----\n",
      "The option `ftol` is exposed via the `scipy.optimize.minimize` interface,\n",
      "but calling `scipy.optimize.fmin_l_bfgs_b` directly exposes `factr`. The\n",
      "relationship between the two is ``ftol = factr * numpy.finfo(float).eps``.\n",
      "I.e., `factr` multiplies the default machine floating-point precision to\n",
      "arrive at `ftol`.\n",
      "\n",
      "nelder-mead\n",
      "===========\n",
      "\n",
      "Minimization of scalar function of one or more variables using the\n",
      "Nelder-Mead algorithm.\n",
      "\n",
      "Options\n",
      "-------\n",
      "disp : bool\n",
      "    Set to True to print convergence messages.\n",
      "maxiter, maxfev : int\n",
      "    Maximum allowed number of iterations and function evaluations.\n",
      "    Will default to ``N*200``, where ``N`` is the number of\n",
      "    variables, if neither `maxiter` or `maxfev` is set. If both\n",
      "    `maxiter` and `maxfev` are set, minimization will stop at the\n",
      "    first reached.\n",
      "return_all : bool, optional\n",
      "    Set to True to return a list of the best solution at each of the\n",
      "    iterations.\n",
      "initial_simplex : array_like of shape (N + 1, N)\n",
      "    Initial simplex. If given, overrides `x0`.\n",
      "    ``initial_simplex[j,:]`` should contain the coordinates of\n",
      "    the jth vertex of the ``N+1`` vertices in the simplex, where\n",
      "    ``N`` is the dimension.\n",
      "xatol : float, optional\n",
      "    Absolute error in xopt between iterations that is acceptable for\n",
      "    convergence.\n",
      "fatol : number, optional\n",
      "    Absolute error in func(xopt) between iterations that is acceptable for\n",
      "    convergence.\n",
      "adaptive : bool, optional\n",
      "    Adapt algorithm parameters to dimensionality of problem. Useful for\n",
      "    high-dimensional minimization [1]_.\n",
      "bounds : sequence or `Bounds`, optional\n",
      "    Bounds on variables. There are two ways to specify the bounds:\n",
      "\n",
      "        1. Instance of `Bounds` class.\n",
      "        2. Sequence of ``(min, max)`` pairs for each element in `x`. None\n",
      "           is used to specify no bound.\n",
      "\n",
      "    Note that this just clips all vertices in simplex based on\n",
      "    the bounds.\n",
      "\n",
      "References\n",
      "----------\n",
      ".. [1] Gao, F. and Han, L.\n",
      "   Implementing the Nelder-Mead simplex algorithm with adaptive\n",
      "   parameters. 2012. Computational Optimization and Applications.\n",
      "   51:1, pp. 259-277\n",
      "\n",
      "newton-cg\n",
      "=========\n",
      "\n",
      "Minimization of scalar function of one or more variables using the\n",
      "Newton-CG algorithm.\n",
      "\n",
      "Note that the `jac` parameter (Jacobian) is required.\n",
      "\n",
      "Options\n",
      "-------\n",
      "disp : bool\n",
      "    Set to True to print convergence messages.\n",
      "xtol : float\n",
      "    Average relative error in solution `xopt` acceptable for\n",
      "    convergence.\n",
      "maxiter : int\n",
      "    Maximum number of iterations to perform.\n",
      "eps : float or ndarray\n",
      "    If `hessp` is approximated, use this value for the step size.\n",
      "return_all : bool, optional\n",
      "    Set to True to return a list of the best solution at each of the\n",
      "    iterations.\n",
      "\n",
      "powell\n",
      "======\n",
      "\n",
      "Minimization of scalar function of one or more variables using the\n",
      "modified Powell algorithm.\n",
      "\n",
      "Options\n",
      "-------\n",
      "disp : bool\n",
      "    Set to True to print convergence messages.\n",
      "xtol : float\n",
      "    Relative error in solution `xopt` acceptable for convergence.\n",
      "ftol : float\n",
      "    Relative error in ``fun(xopt)`` acceptable for convergence.\n",
      "maxiter, maxfev : int\n",
      "    Maximum allowed number of iterations and function evaluations.\n",
      "    Will default to ``N*1000``, where ``N`` is the number of\n",
      "    variables, if neither `maxiter` or `maxfev` is set. If both\n",
      "    `maxiter` and `maxfev` are set, minimization will stop at the\n",
      "    first reached.\n",
      "direc : ndarray\n",
      "    Initial set of direction vectors for the Powell method.\n",
      "return_all : bool, optional\n",
      "    Set to True to return a list of the best solution at each of the\n",
      "    iterations.\n",
      "bounds : `Bounds`\n",
      "    If bounds are not provided, then an unbounded line search will be used.\n",
      "    If bounds are provided and the initial guess is within the bounds, then\n",
      "    every function evaluation throughout the minimization procedure will be\n",
      "    within the bounds. If bounds are provided, the initial guess is outside\n",
      "    the bounds, and `direc` is full rank (or left to default), then some\n",
      "    function evaluations during the first iteration may be outside the\n",
      "    bounds, but every function evaluation after the first iteration will be\n",
      "    within the bounds. If `direc` is not full rank, then some parameters may\n",
      "    not be optimized and the solution is not guaranteed to be within the\n",
      "    bounds.\n",
      "return_all : bool, optional\n",
      "    Set to True to return a list of the best solution at each of the\n",
      "    iterations.\n",
      "\n",
      "slsqp\n",
      "=====\n",
      "\n",
      "Minimize a scalar function of one or more variables using Sequential\n",
      "Least Squares Programming (SLSQP).\n",
      "\n",
      "Options\n",
      "-------\n",
      "ftol : float\n",
      "    Precision goal for the value of f in the stopping criterion.\n",
      "eps : float\n",
      "    Step size used for numerical approximation of the Jacobian.\n",
      "disp : bool\n",
      "    Set to True to print convergence messages. If False,\n",
      "    `verbosity` is ignored and set to 0.\n",
      "maxiter : int\n",
      "    Maximum number of iterations.\n",
      "finite_diff_rel_step : None or array_like, optional\n",
      "    If `jac in ['2-point', '3-point', 'cs']` the relative step size to\n",
      "    use for numerical approximation of `jac`. The absolute step\n",
      "    size is computed as ``h = rel_step * sign(x0) * max(1, abs(x0))``,\n",
      "    possibly adjusted to fit into the bounds. For ``method='3-point'``\n",
      "    the sign of `h` is ignored. If None (default) then step is selected\n",
      "    automatically.\n",
      "\n",
      "tnc\n",
      "===\n",
      "\n",
      "Minimize a scalar function of one or more variables using a truncated\n",
      "Newton (TNC) algorithm.\n",
      "\n",
      "Options\n",
      "-------\n",
      "eps : float or ndarray\n",
      "    If `jac is None` the absolute step size used for numerical\n",
      "    approximation of the jacobian via forward differences.\n",
      "scale : list of floats\n",
      "    Scaling factors to apply to each variable. If None, the\n",
      "    factors are up-low for interval bounded variables and\n",
      "    1+|x] fo the others. Defaults to None.\n",
      "offset : float\n",
      "    Value to subtract from each variable. If None, the\n",
      "    offsets are (up+low)/2 for interval bounded variables\n",
      "    and x for the others.\n",
      "disp : bool\n",
      "   Set to True to print convergence messages.\n",
      "maxCGit : int\n",
      "    Maximum number of hessian*vector evaluations per main\n",
      "    iteration. If maxCGit == 0, the direction chosen is\n",
      "    -gradient if maxCGit < 0, maxCGit is set to\n",
      "    max(1,min(50,n/2)). Defaults to -1.\n",
      "maxiter : int, optional\n",
      "    Maximum number of function evaluations. This keyword is deprecated\n",
      "    in favor of `maxfun`. Only if `maxfun` is None is this keyword used.\n",
      "eta : float\n",
      "    Severity of the line search. If < 0 or > 1, set to 0.25.\n",
      "    Defaults to -1.\n",
      "stepmx : float\n",
      "    Maximum step for the line search. May be increased during\n",
      "    call. If too small, it will be set to 10.0. Defaults to 0.\n",
      "accuracy : float\n",
      "    Relative precision for finite difference calculations. If\n",
      "    <= machine_precision, set to sqrt(machine_precision).\n",
      "    Defaults to 0.\n",
      "minfev : float\n",
      "    Minimum function value estimate. Defaults to 0.\n",
      "ftol : float\n",
      "    Precision goal for the value of f in the stopping criterion.\n",
      "    If ftol < 0.0, ftol is set to 0.0 defaults to -1.\n",
      "xtol : float\n",
      "    Precision goal for the value of x in the stopping\n",
      "    criterion (after applying x scaling factors). If xtol <\n",
      "    0.0, xtol is set to sqrt(machine_precision). Defaults to\n",
      "    -1.\n",
      "gtol : float\n",
      "    Precision goal for the value of the projected gradient in\n",
      "    the stopping criterion (after applying x scaling factors).\n",
      "    If gtol < 0.0, gtol is set to 1e-2 * sqrt(accuracy).\n",
      "    Setting it to 0.0 is not recommended. Defaults to -1.\n",
      "rescale : float\n",
      "    Scaling factor (in log10) used to trigger f value\n",
      "    rescaling.  If 0, rescale at each iteration.  If a large\n",
      "    value, never rescale.  If < 0, rescale is set to 1.3.\n",
      "finite_diff_rel_step : None or array_like, optional\n",
      "    If `jac in ['2-point', '3-point', 'cs']` the relative step size to\n",
      "    use for numerical approximation of the jacobian. The absolute step\n",
      "    size is computed as ``h = rel_step * sign(x0) * max(1, abs(x0))``,\n",
      "    possibly adjusted to fit into the bounds. For ``method='3-point'``\n",
      "    the sign of `h` is ignored. If None (default) then step is selected\n",
      "    automatically.\n",
      "maxfun : int\n",
      "    Maximum number of function evaluations. If None, `maxfun` is\n",
      "    set to max(100, 10*len(x0)). Defaults to None.\n",
      "\n",
      "trust-ncg\n",
      "=========\n",
      "\n",
      "Minimization of scalar function of one or more variables using\n",
      "the Newton conjugate gradient trust-region algorithm.\n",
      "\n",
      "Options\n",
      "-------\n",
      "initial_trust_radius : float\n",
      "    Initial trust-region radius.\n",
      "max_trust_radius : float\n",
      "    Maximum value of the trust-region radius. No steps that are longer\n",
      "    than this value will be proposed.\n",
      "eta : float\n",
      "    Trust region related acceptance stringency for proposed steps.\n",
      "gtol : float\n",
      "    Gradient norm must be less than `gtol` before successful\n",
      "    termination.\n",
      "\n",
      "trust-constr\n",
      "============\n",
      "\n",
      "Minimize a scalar function subject to constraints.\n",
      "\n",
      "    Parameters\n",
      "    ----------\n",
      "    gtol : float, optional\n",
      "        Tolerance for termination by the norm of the Lagrangian gradient.\n",
      "        The algorithm will terminate when both the infinity norm (i.e., max\n",
      "        abs value) of the Lagrangian gradient and the constraint violation\n",
      "        are smaller than ``gtol``. Default is 1e-8.\n",
      "    xtol : float, optional\n",
      "        Tolerance for termination by the change of the independent variable.\n",
      "        The algorithm will terminate when ``tr_radius < xtol``, where\n",
      "        ``tr_radius`` is the radius of the trust region used in the algorithm.\n",
      "        Default is 1e-8.\n",
      "    barrier_tol : float, optional\n",
      "        Threshold on the barrier parameter for the algorithm termination.\n",
      "        When inequality constraints are present, the algorithm will terminate\n",
      "        only when the barrier parameter is less than `barrier_tol`.\n",
      "        Default is 1e-8.\n",
      "    sparse_jacobian : {bool, None}, optional\n",
      "        Determines how to represent Jacobians of the constraints. If bool,\n",
      "        then Jacobians of all the constraints will be converted to the\n",
      "        corresponding format. If None (default), then Jacobians won't be\n",
      "        converted, but the algorithm can proceed only if they all have the\n",
      "        same format.\n",
      "    initial_tr_radius: float, optional\n",
      "        Initial trust radius. The trust radius gives the maximum distance\n",
      "        between solution points in consecutive iterations. It reflects the\n",
      "        trust the algorithm puts in the local approximation of the optimization\n",
      "        problem. For an accurate local approximation the trust-region should be\n",
      "        large and for an  approximation valid only close to the current point it\n",
      "        should be a small one. The trust radius is automatically updated throughout\n",
      "        the optimization process, with ``initial_tr_radius`` being its initial value.\n",
      "        Default is 1 (recommended in [1]_, p. 19).\n",
      "    initial_constr_penalty : float, optional\n",
      "        Initial constraints penalty parameter. The penalty parameter is used for\n",
      "        balancing the requirements of decreasing the objective function\n",
      "        and satisfying the constraints. It is used for defining the merit function:\n",
      "        ``merit_function(x) = fun(x) + constr_penalty * constr_norm_l2(x)``,\n",
      "        where ``constr_norm_l2(x)`` is the l2 norm of a vector containing all\n",
      "        the constraints. The merit function is used for accepting or rejecting\n",
      "        trial points and ``constr_penalty`` weights the two conflicting goals\n",
      "        of reducing objective function and constraints. The penalty is automatically\n",
      "        updated throughout the optimization  process, with\n",
      "        ``initial_constr_penalty`` being its  initial value. Default is 1\n",
      "        (recommended in [1]_, p 19).\n",
      "    initial_barrier_parameter, initial_barrier_tolerance: float, optional\n",
      "        Initial barrier parameter and initial tolerance for the barrier subproblem.\n",
      "        Both are used only when inequality constraints are present. For dealing with\n",
      "        optimization problems ``min_x f(x)`` subject to inequality constraints\n",
      "        ``c(x) <= 0`` the algorithm introduces slack variables, solving the problem\n",
      "        ``min_(x,s) f(x) + barrier_parameter*sum(ln(s))`` subject to the equality\n",
      "        constraints  ``c(x) + s = 0`` instead of the original problem. This subproblem\n",
      "        is solved for decreasing values of ``barrier_parameter`` and with decreasing\n",
      "        tolerances for the termination, starting with ``initial_barrier_parameter``\n",
      "        for the barrier parameter and ``initial_barrier_tolerance`` for the\n",
      "        barrier tolerance. Default is 0.1 for both values (recommended in [1]_ p. 19).\n",
      "        Also note that ``barrier_parameter`` and ``barrier_tolerance`` are updated\n",
      "        with the same prefactor.\n",
      "    factorization_method : string or None, optional\n",
      "        Method to factorize the Jacobian of the constraints. Use None (default)\n",
      "        for the auto selection or one of:\n",
      "\n",
      "            - 'NormalEquation' (requires scikit-sparse)\n",
      "            - 'AugmentedSystem'\n",
      "            - 'QRFactorization'\n",
      "            - 'SVDFactorization'\n",
      "\n",
      "        The methods 'NormalEquation' and 'AugmentedSystem' can be used only\n",
      "        with sparse constraints. The projections required by the algorithm\n",
      "        will be computed using, respectively, the the normal equation  and the\n",
      "        augmented system approaches explained in [1]_. 'NormalEquation'\n",
      "        computes the Cholesky factorization of ``A A.T`` and 'AugmentedSystem'\n",
      "        performs the LU factorization of an augmented system. They usually\n",
      "        provide similar results. 'AugmentedSystem' is used by default for\n",
      "        sparse matrices.\n",
      "\n",
      "        The methods 'QRFactorization' and 'SVDFactorization' can be used\n",
      "        only with dense constraints. They compute the required projections\n",
      "        using, respectively, QR and SVD factorizations. The 'SVDFactorization'\n",
      "        method can cope with Jacobian matrices with deficient row rank and will\n",
      "        be used whenever other factorization methods fail (which may imply the\n",
      "        conversion of sparse matrices to a dense format when required).\n",
      "        By default, 'QRFactorization' is used for dense matrices.\n",
      "    finite_diff_rel_step : None or array_like, optional\n",
      "        Relative step size for the finite difference approximation.\n",
      "    maxiter : int, optional\n",
      "        Maximum number of algorithm iterations. Default is 1000.\n",
      "    verbose : {0, 1, 2}, optional\n",
      "        Level of algorithm's verbosity:\n",
      "\n",
      "            * 0 (default) : work silently.\n",
      "            * 1 : display a termination report.\n",
      "            * 2 : display progress during iterations.\n",
      "            * 3 : display progress during iterations (more complete report).\n",
      "\n",
      "    disp : bool, optional\n",
      "        If True (default), then `verbose` will be set to 1 if it was 0.\n",
      "\n",
      "    Returns\n",
      "    -------\n",
      "    `OptimizeResult` with the fields documented below. Note the following:\n",
      "\n",
      "        1. All values corresponding to the constraints are ordered as they\n",
      "           were passed to the solver. And values corresponding to `bounds`\n",
      "           constraints are put *after* other constraints.\n",
      "        2. All numbers of function, Jacobian or Hessian evaluations correspond\n",
      "           to numbers of actual Python function calls. It means, for example,\n",
      "           that if a Jacobian is estimated by finite differences, then the\n",
      "           number of Jacobian evaluations will be zero and the number of\n",
      "           function evaluations will be incremented by all calls during the\n",
      "           finite difference estimation.\n",
      "\n",
      "    x : ndarray, shape (n,)\n",
      "        Solution found.\n",
      "    optimality : float\n",
      "        Infinity norm of the Lagrangian gradient at the solution.\n",
      "    constr_violation : float\n",
      "        Maximum constraint violation at the solution.\n",
      "    fun : float\n",
      "        Objective function at the solution.\n",
      "    grad : ndarray, shape (n,)\n",
      "        Gradient of the objective function at the solution.\n",
      "    lagrangian_grad : ndarray, shape (n,)\n",
      "        Gradient of the Lagrangian function at the solution.\n",
      "    nit : int\n",
      "        Total number of iterations.\n",
      "    nfev : integer\n",
      "        Number of the objective function evaluations.\n",
      "    njev : integer\n",
      "        Number of the objective function gradient evaluations.\n",
      "    nhev : integer\n",
      "        Number of the objective function Hessian evaluations.\n",
      "    cg_niter : int\n",
      "        Total number of the conjugate gradient method iterations.\n",
      "    method : {'equality_constrained_sqp', 'tr_interior_point'}\n",
      "        Optimization method used.\n",
      "    constr : list of ndarray\n",
      "        List of constraint values at the solution.\n",
      "    jac : list of {ndarray, sparse matrix}\n",
      "        List of the Jacobian matrices of the constraints at the solution.\n",
      "    v : list of ndarray\n",
      "        List of the Lagrange multipliers for the constraints at the solution.\n",
      "        For an inequality constraint a positive multiplier means that the upper\n",
      "        bound is active, a negative multiplier means that the lower bound is\n",
      "        active and if a multiplier is zero it means the constraint is not\n",
      "        active.\n",
      "    constr_nfev : list of int\n",
      "        Number of constraint evaluations for each of the constraints.\n",
      "    constr_njev : list of int\n",
      "        Number of Jacobian matrix evaluations for each of the constraints.\n",
      "    constr_nhev : list of int\n",
      "        Number of Hessian evaluations for each of the constraints.\n",
      "    tr_radius : float\n",
      "        Radius of the trust region at the last iteration.\n",
      "    constr_penalty : float\n",
      "        Penalty parameter at the last iteration, see `initial_constr_penalty`.\n",
      "    barrier_tolerance : float\n",
      "        Tolerance for the barrier subproblem at the last iteration.\n",
      "        Only for problems with inequality constraints.\n",
      "    barrier_parameter : float\n",
      "        Barrier parameter at the last iteration. Only for problems\n",
      "        with inequality constraints.\n",
      "    execution_time : float\n",
      "        Total execution time.\n",
      "    message : str\n",
      "        Termination message.\n",
      "    status : {0, 1, 2, 3}\n",
      "        Termination status:\n",
      "\n",
      "            * 0 : The maximum number of function evaluations is exceeded.\n",
      "            * 1 : `gtol` termination condition is satisfied.\n",
      "            * 2 : `xtol` termination condition is satisfied.\n",
      "            * 3 : `callback` function requested termination.\n",
      "\n",
      "    cg_stop_cond : int\n",
      "        Reason for CG subproblem termination at the last iteration:\n",
      "\n",
      "            * 0 : CG subproblem not evaluated.\n",
      "            * 1 : Iteration limit was reached.\n",
      "            * 2 : Reached the trust-region boundary.\n",
      "            * 3 : Negative curvature detected.\n",
      "            * 4 : Tolerance was satisfied.\n",
      "\n",
      "    References\n",
      "    ----------\n",
      "    .. [1] Conn, A. R., Gould, N. I., & Toint, P. L.\n",
      "           Trust region methods. 2000. Siam. pp. 19.\n",
      "\n",
      "trust-exact\n",
      "===========\n",
      "\n",
      "Minimization of scalar function of one or more variables using\n",
      "a nearly exact trust-region algorithm.\n",
      "\n",
      "Options\n",
      "-------\n",
      "initial_tr_radius : float\n",
      "    Initial trust-region radius.\n",
      "max_tr_radius : float\n",
      "    Maximum value of the trust-region radius. No steps that are longer\n",
      "    than this value will be proposed.\n",
      "eta : float\n",
      "    Trust region related acceptance stringency for proposed steps.\n",
      "gtol : float\n",
      "    Gradient norm must be less than ``gtol`` before successful\n",
      "    termination.\n",
      "\n",
      "trust-krylov\n",
      "============\n",
      "\n",
      "Minimization of a scalar function of one or more variables using\n",
      "a nearly exact trust-region algorithm that only requires matrix\n",
      "vector products with the hessian matrix.\n",
      "\n",
      ".. versionadded:: 1.0.0\n",
      "\n",
      "Options\n",
      "-------\n",
      "inexact : bool, optional\n",
      "    Accuracy to solve subproblems. If True requires less nonlinear\n",
      "    iterations, but more vector products.\n"
     ]
    }
   ],
   "source": [
    "show_options(\"minimize\")"
   ]
  },
  {
   "cell_type": "code",
   "execution_count": null,
   "id": "ff0dc0bd-d108-445f-a98a-0920d0fe828b",
   "metadata": {},
   "outputs": [],
   "source": []
  }
 ],
 "metadata": {
  "kernelspec": {
   "display_name": "Python 3 (ipykernel)",
   "language": "python",
   "name": "python3"
  },
  "language_info": {
   "codemirror_mode": {
    "name": "ipython",
    "version": 3
   },
   "file_extension": ".py",
   "mimetype": "text/x-python",
   "name": "python",
   "nbconvert_exporter": "python",
   "pygments_lexer": "ipython3",
   "version": "3.9.7"
  }
 },
 "nbformat": 4,
 "nbformat_minor": 5
}
