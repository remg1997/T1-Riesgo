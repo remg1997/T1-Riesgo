{
 "cells": [
  {
   "cell_type": "markdown",
   "metadata": {},
   "source": [
    "# Optimización del Activo\n",
    "## Import de paquetes y funciones"
   ]
  },
  {
   "cell_type": "code",
   "execution_count": 1,
   "metadata": {
    "vscode": {
     "languageId": "r"
    }
   },
   "outputs": [
    {
     "name": "stderr",
     "output_type": "stream",
     "text": [
      "Warning message:\n",
      "\"package 'readxl' was built under R version 3.6.3\"Warning message:\n",
      "\"package 'lubridate' was built under R version 3.6.3\"\n",
      "Attaching package: 'lubridate'\n",
      "\n",
      "The following objects are masked from 'package:base':\n",
      "\n",
      "    date, intersect, setdiff, union\n",
      "\n",
      "Warning message:\n",
      "\"package 'tidyr' was built under R version 3.6.3\""
     ]
    }
   ],
   "source": [
    "library(\"readxl\")\n",
    "library(\"lubridate\")\n",
    "library('tidyr')\n",
    "library('ggplot2')"
   ]
  },
  {
   "cell_type": "code",
   "execution_count": 2,
   "metadata": {
    "vscode": {
     "languageId": "r"
    }
   },
   "outputs": [
    {
     "data": {
      "text/html": [
       "<style>\n",
       ".list-inline {list-style: none; margin:0; padding: 0}\n",
       ".list-inline>li {display: inline-block}\n",
       ".list-inline>li:not(:last-child)::after {content: \"\\00b7\"; padding: 0 .5ex}\n",
       "</style>\n",
       "<ol class=list-inline><li>'.GlobalEnv'</li><li>'package:ggplot2'</li><li>'package:tidyr'</li><li>'package:lubridate'</li><li>'package:readxl'</li><li>'jupyter:irkernel'</li><li>'jupyter:irkernel'</li><li>'package:stats'</li><li>'package:graphics'</li><li>'package:grDevices'</li><li>'package:utils'</li><li>'package:datasets'</li><li>'package:methods'</li><li>'Autoloads'</li><li>'package:base'</li></ol>\n"
      ],
      "text/latex": [
       "\\begin{enumerate*}\n",
       "\\item '.GlobalEnv'\n",
       "\\item 'package:ggplot2'\n",
       "\\item 'package:tidyr'\n",
       "\\item 'package:lubridate'\n",
       "\\item 'package:readxl'\n",
       "\\item 'jupyter:irkernel'\n",
       "\\item 'jupyter:irkernel'\n",
       "\\item 'package:stats'\n",
       "\\item 'package:graphics'\n",
       "\\item 'package:grDevices'\n",
       "\\item 'package:utils'\n",
       "\\item 'package:datasets'\n",
       "\\item 'package:methods'\n",
       "\\item 'Autoloads'\n",
       "\\item 'package:base'\n",
       "\\end{enumerate*}\n"
      ],
      "text/markdown": [
       "1. '.GlobalEnv'\n",
       "2. 'package:ggplot2'\n",
       "3. 'package:tidyr'\n",
       "4. 'package:lubridate'\n",
       "5. 'package:readxl'\n",
       "6. 'jupyter:irkernel'\n",
       "7. 'jupyter:irkernel'\n",
       "8. 'package:stats'\n",
       "9. 'package:graphics'\n",
       "10. 'package:grDevices'\n",
       "11. 'package:utils'\n",
       "12. 'package:datasets'\n",
       "13. 'package:methods'\n",
       "14. 'Autoloads'\n",
       "15. 'package:base'\n",
       "\n",
       "\n"
      ],
      "text/plain": [
       " [1] \".GlobalEnv\"        \"package:ggplot2\"   \"package:tidyr\"    \n",
       " [4] \"package:lubridate\" \"package:readxl\"    \"jupyter:irkernel\" \n",
       " [7] \"jupyter:irkernel\"  \"package:stats\"     \"package:graphics\" \n",
       "[10] \"package:grDevices\" \"package:utils\"     \"package:datasets\" \n",
       "[13] \"package:methods\"   \"Autoloads\"         \"package:base\"     "
      ]
     },
     "metadata": {},
     "output_type": "display_data"
    }
   ],
   "source": [
    "search()"
   ]
  },
  {
   "cell_type": "code",
   "execution_count": 3,
   "metadata": {
    "vscode": {
     "languageId": "r"
    }
   },
   "outputs": [],
   "source": [
    "source(\"helpers.R\")"
   ]
  },
  {
   "cell_type": "markdown",
   "metadata": {},
   "source": [
    "## Import de bases de datos de los indices"
   ]
  },
  {
   "cell_type": "code",
   "execution_count": 4,
   "metadata": {
    "vscode": {
     "languageId": "r"
    }
   },
   "outputs": [],
   "source": [
    "path <- 'C:/Users/Diana C Contreras/OneDrive - Universidad de Los Andes/Riesgo Financiero/Talleres/T1-Riesgo/Taller 2/data/data.xlsx'"
   ]
  },
  {
   "cell_type": "code",
   "execution_count": 5,
   "metadata": {
    "vscode": {
     "languageId": "r"
    }
   },
   "outputs": [],
   "source": [
    "tes_cop <- read_excel(path, sheet=1,skip=7, col_names=c('Date','6m','1y','3y','5y','10y','15y'))"
   ]
  },
  {
   "cell_type": "code",
   "execution_count": 6,
   "metadata": {
    "vscode": {
     "languageId": "r"
    }
   },
   "outputs": [
    {
     "data": {
      "text/html": [
       "<table class=\"dataframe\">\n",
       "<caption>A tibble: 6 × 7</caption>\n",
       "<thead>\n",
       "\t<tr><th scope=col>Date</th><th scope=col>6m</th><th scope=col>1y</th><th scope=col>3y</th><th scope=col>5y</th><th scope=col>10y</th><th scope=col>15y</th></tr>\n",
       "\t<tr><th scope=col>&lt;dttm&gt;</th><th scope=col>&lt;dbl&gt;</th><th scope=col>&lt;dbl&gt;</th><th scope=col>&lt;dbl&gt;</th><th scope=col>&lt;dbl&gt;</th><th scope=col>&lt;dbl&gt;</th><th scope=col>&lt;dbl&gt;</th></tr>\n",
       "</thead>\n",
       "<tbody>\n",
       "\t<tr><td>2012-04-27</td><td>5.4042</td><td>5.5328</td><td>6.0056</td><td>6.4139</td><td>6.9276</td><td>7.3809</td></tr>\n",
       "\t<tr><td>2012-04-30</td><td>5.3703</td><td>5.5107</td><td>5.9953</td><td>6.4264</td><td>6.9410</td><td>7.3830</td></tr>\n",
       "\t<tr><td>2012-05-01</td><td>5.3749</td><td>5.5176</td><td>6.0044</td><td>6.4312</td><td>6.9430</td><td>7.3839</td></tr>\n",
       "\t<tr><td>2012-05-02</td><td>5.4176</td><td>5.5513</td><td>6.0613</td><td>6.4281</td><td>6.9308</td><td>7.3765</td></tr>\n",
       "\t<tr><td>2012-05-03</td><td>5.4304</td><td>5.5508</td><td>6.0495</td><td>6.4076</td><td>6.8896</td><td>7.3203</td></tr>\n",
       "\t<tr><td>2012-05-04</td><td>5.4570</td><td>5.5736</td><td>6.0911</td><td>6.4363</td><td>6.9042</td><td>7.3267</td></tr>\n",
       "</tbody>\n",
       "</table>\n"
      ],
      "text/latex": [
       "A tibble: 6 × 7\n",
       "\\begin{tabular}{lllllll}\n",
       " Date & 6m & 1y & 3y & 5y & 10y & 15y\\\\\n",
       " <dttm> & <dbl> & <dbl> & <dbl> & <dbl> & <dbl> & <dbl>\\\\\n",
       "\\hline\n",
       "\t 2012-04-27 & 5.4042 & 5.5328 & 6.0056 & 6.4139 & 6.9276 & 7.3809\\\\\n",
       "\t 2012-04-30 & 5.3703 & 5.5107 & 5.9953 & 6.4264 & 6.9410 & 7.3830\\\\\n",
       "\t 2012-05-01 & 5.3749 & 5.5176 & 6.0044 & 6.4312 & 6.9430 & 7.3839\\\\\n",
       "\t 2012-05-02 & 5.4176 & 5.5513 & 6.0613 & 6.4281 & 6.9308 & 7.3765\\\\\n",
       "\t 2012-05-03 & 5.4304 & 5.5508 & 6.0495 & 6.4076 & 6.8896 & 7.3203\\\\\n",
       "\t 2012-05-04 & 5.4570 & 5.5736 & 6.0911 & 6.4363 & 6.9042 & 7.3267\\\\\n",
       "\\end{tabular}\n"
      ],
      "text/markdown": [
       "\n",
       "A tibble: 6 × 7\n",
       "\n",
       "| Date &lt;dttm&gt; | 6m &lt;dbl&gt; | 1y &lt;dbl&gt; | 3y &lt;dbl&gt; | 5y &lt;dbl&gt; | 10y &lt;dbl&gt; | 15y &lt;dbl&gt; |\n",
       "|---|---|---|---|---|---|---|\n",
       "| 2012-04-27 | 5.4042 | 5.5328 | 6.0056 | 6.4139 | 6.9276 | 7.3809 |\n",
       "| 2012-04-30 | 5.3703 | 5.5107 | 5.9953 | 6.4264 | 6.9410 | 7.3830 |\n",
       "| 2012-05-01 | 5.3749 | 5.5176 | 6.0044 | 6.4312 | 6.9430 | 7.3839 |\n",
       "| 2012-05-02 | 5.4176 | 5.5513 | 6.0613 | 6.4281 | 6.9308 | 7.3765 |\n",
       "| 2012-05-03 | 5.4304 | 5.5508 | 6.0495 | 6.4076 | 6.8896 | 7.3203 |\n",
       "| 2012-05-04 | 5.4570 | 5.5736 | 6.0911 | 6.4363 | 6.9042 | 7.3267 |\n",
       "\n"
      ],
      "text/plain": [
       "  Date       6m     1y     3y     5y     10y    15y   \n",
       "1 2012-04-27 5.4042 5.5328 6.0056 6.4139 6.9276 7.3809\n",
       "2 2012-04-30 5.3703 5.5107 5.9953 6.4264 6.9410 7.3830\n",
       "3 2012-05-01 5.3749 5.5176 6.0044 6.4312 6.9430 7.3839\n",
       "4 2012-05-02 5.4176 5.5513 6.0613 6.4281 6.9308 7.3765\n",
       "5 2012-05-03 5.4304 5.5508 6.0495 6.4076 6.8896 7.3203\n",
       "6 2012-05-04 5.4570 5.5736 6.0911 6.4363 6.9042 7.3267"
      ]
     },
     "metadata": {},
     "output_type": "display_data"
    }
   ],
   "source": [
    "tes_cop <- tes_cop[tes_cop$Date >= \"2012-04-26\",]\n",
    "yields <- c('6m','1y','3y','5y','10y','15y')\n",
    "tes_cop[, yields] <- sapply(tes_cop[, yields], as.numeric)\n",
    "head(tes_cop)"
   ]
  },
  {
   "cell_type": "code",
   "execution_count": 7,
   "metadata": {
    "vscode": {
     "languageId": "r"
    }
   },
   "outputs": [
    {
     "data": {
      "text/html": [
       "<table class=\"dataframe\">\n",
       "<caption>A tibble: 6 × 8</caption>\n",
       "<thead>\n",
       "\t<tr><th scope=col>Date</th><th scope=col>3m</th><th scope=col>6m</th><th scope=col>1y</th><th scope=col>3y</th><th scope=col>5y</th><th scope=col>10y</th><th scope=col>15y</th></tr>\n",
       "\t<tr><th scope=col>&lt;dttm&gt;</th><th scope=col>&lt;dbl&gt;</th><th scope=col>&lt;dbl&gt;</th><th scope=col>&lt;dbl&gt;</th><th scope=col>&lt;dbl&gt;</th><th scope=col>&lt;dbl&gt;</th><th scope=col>&lt;dbl&gt;</th><th scope=col>&lt;dbl&gt;</th></tr>\n",
       "</thead>\n",
       "<tbody>\n",
       "\t<tr><td>2009-10-13</td><td>1.1404</td><td>1.2181</td><td>1.5046</td><td>2.5661</td><td>3.4811</td><td>4.7076</td><td>5.3309</td></tr>\n",
       "\t<tr><td>2009-10-14</td><td>1.1381</td><td>1.2208</td><td>1.5196</td><td>2.6013</td><td>3.5293</td><td>4.7843</td><td>5.4388</td></tr>\n",
       "\t<tr><td>2009-10-15</td><td>1.1055</td><td>1.1932</td><td>1.5041</td><td>2.6295</td><td>3.5733</td><td>4.8308</td><td>5.4545</td></tr>\n",
       "\t<tr><td>2009-10-16</td><td>1.2114</td><td>1.2897</td><td>1.5619</td><td>2.6139</td><td>3.5447</td><td>4.7820</td><td>5.4008</td></tr>\n",
       "\t<tr><td>2009-10-19</td><td>1.1778</td><td>1.2627</td><td>1.5420</td><td>2.5997</td><td>3.5283</td><td>4.7502</td><td>5.3610</td></tr>\n",
       "\t<tr><td>2009-10-20</td><td>1.1593</td><td>1.2421</td><td>1.5096</td><td>2.5454</td><td>3.4739</td><td>4.7214</td><td>5.3203</td></tr>\n",
       "</tbody>\n",
       "</table>\n"
      ],
      "text/latex": [
       "A tibble: 6 × 8\n",
       "\\begin{tabular}{llllllll}\n",
       " Date & 3m & 6m & 1y & 3y & 5y & 10y & 15y\\\\\n",
       " <dttm> & <dbl> & <dbl> & <dbl> & <dbl> & <dbl> & <dbl> & <dbl>\\\\\n",
       "\\hline\n",
       "\t 2009-10-13 & 1.1404 & 1.2181 & 1.5046 & 2.5661 & 3.4811 & 4.7076 & 5.3309\\\\\n",
       "\t 2009-10-14 & 1.1381 & 1.2208 & 1.5196 & 2.6013 & 3.5293 & 4.7843 & 5.4388\\\\\n",
       "\t 2009-10-15 & 1.1055 & 1.1932 & 1.5041 & 2.6295 & 3.5733 & 4.8308 & 5.4545\\\\\n",
       "\t 2009-10-16 & 1.2114 & 1.2897 & 1.5619 & 2.6139 & 3.5447 & 4.7820 & 5.4008\\\\\n",
       "\t 2009-10-19 & 1.1778 & 1.2627 & 1.5420 & 2.5997 & 3.5283 & 4.7502 & 5.3610\\\\\n",
       "\t 2009-10-20 & 1.1593 & 1.2421 & 1.5096 & 2.5454 & 3.4739 & 4.7214 & 5.3203\\\\\n",
       "\\end{tabular}\n"
      ],
      "text/markdown": [
       "\n",
       "A tibble: 6 × 8\n",
       "\n",
       "| Date &lt;dttm&gt; | 3m &lt;dbl&gt; | 6m &lt;dbl&gt; | 1y &lt;dbl&gt; | 3y &lt;dbl&gt; | 5y &lt;dbl&gt; | 10y &lt;dbl&gt; | 15y &lt;dbl&gt; |\n",
       "|---|---|---|---|---|---|---|---|\n",
       "| 2009-10-13 | 1.1404 | 1.2181 | 1.5046 | 2.5661 | 3.4811 | 4.7076 | 5.3309 |\n",
       "| 2009-10-14 | 1.1381 | 1.2208 | 1.5196 | 2.6013 | 3.5293 | 4.7843 | 5.4388 |\n",
       "| 2009-10-15 | 1.1055 | 1.1932 | 1.5041 | 2.6295 | 3.5733 | 4.8308 | 5.4545 |\n",
       "| 2009-10-16 | 1.2114 | 1.2897 | 1.5619 | 2.6139 | 3.5447 | 4.7820 | 5.4008 |\n",
       "| 2009-10-19 | 1.1778 | 1.2627 | 1.5420 | 2.5997 | 3.5283 | 4.7502 | 5.3610 |\n",
       "| 2009-10-20 | 1.1593 | 1.2421 | 1.5096 | 2.5454 | 3.4739 | 4.7214 | 5.3203 |\n",
       "\n"
      ],
      "text/plain": [
       "  Date       3m     6m     1y     3y     5y     10y    15y   \n",
       "1 2009-10-13 1.1404 1.2181 1.5046 2.5661 3.4811 4.7076 5.3309\n",
       "2 2009-10-14 1.1381 1.2208 1.5196 2.6013 3.5293 4.7843 5.4388\n",
       "3 2009-10-15 1.1055 1.1932 1.5041 2.6295 3.5733 4.8308 5.4545\n",
       "4 2009-10-16 1.2114 1.2897 1.5619 2.6139 3.5447 4.7820 5.4008\n",
       "5 2009-10-19 1.1778 1.2627 1.5420 2.5997 3.5283 4.7502 5.3610\n",
       "6 2009-10-20 1.1593 1.2421 1.5096 2.5454 3.4739 4.7214 5.3203"
      ]
     },
     "metadata": {},
     "output_type": "display_data"
    }
   ],
   "source": [
    "corp_usa <- read_excel(path, sheet='Corporativo A EEUU',skip=8, col_names=c('Date','3m','6m','1y','3y','5y','10y','15y'))\n",
    "head(corp_usa)"
   ]
  },
  {
   "cell_type": "code",
   "execution_count": 8,
   "metadata": {
    "vscode": {
     "languageId": "r"
    }
   },
   "outputs": [
    {
     "data": {
      "text/html": [
       "<table class=\"dataframe\">\n",
       "<caption>A tibble: 6 × 3</caption>\n",
       "<thead>\n",
       "\t<tr><th scope=col>Date</th><th scope=col>colcap</th><th scope=col>spx</th></tr>\n",
       "\t<tr><th scope=col>&lt;dttm&gt;</th><th scope=col>&lt;dbl&gt;</th><th scope=col>&lt;dbl&gt;</th></tr>\n",
       "</thead>\n",
       "<tbody>\n",
       "\t<tr><td>2009-10-13</td><td>1303.03</td><td>1073.19</td></tr>\n",
       "\t<tr><td>2009-10-14</td><td>1294.39</td><td>1092.02</td></tr>\n",
       "\t<tr><td>2009-10-15</td><td>1294.11</td><td>1096.56</td></tr>\n",
       "\t<tr><td>2009-10-16</td><td>1301.69</td><td>1087.68</td></tr>\n",
       "\t<tr><td>2009-10-19</td><td>1330.80</td><td>1097.91</td></tr>\n",
       "\t<tr><td>2009-10-20</td><td>1315.97</td><td>1091.06</td></tr>\n",
       "</tbody>\n",
       "</table>\n"
      ],
      "text/latex": [
       "A tibble: 6 × 3\n",
       "\\begin{tabular}{lll}\n",
       " Date & colcap & spx\\\\\n",
       " <dttm> & <dbl> & <dbl>\\\\\n",
       "\\hline\n",
       "\t 2009-10-13 & 1303.03 & 1073.19\\\\\n",
       "\t 2009-10-14 & 1294.39 & 1092.02\\\\\n",
       "\t 2009-10-15 & 1294.11 & 1096.56\\\\\n",
       "\t 2009-10-16 & 1301.69 & 1087.68\\\\\n",
       "\t 2009-10-19 & 1330.80 & 1097.91\\\\\n",
       "\t 2009-10-20 & 1315.97 & 1091.06\\\\\n",
       "\\end{tabular}\n"
      ],
      "text/markdown": [
       "\n",
       "A tibble: 6 × 3\n",
       "\n",
       "| Date &lt;dttm&gt; | colcap &lt;dbl&gt; | spx &lt;dbl&gt; |\n",
       "|---|---|---|\n",
       "| 2009-10-13 | 1303.03 | 1073.19 |\n",
       "| 2009-10-14 | 1294.39 | 1092.02 |\n",
       "| 2009-10-15 | 1294.11 | 1096.56 |\n",
       "| 2009-10-16 | 1301.69 | 1087.68 |\n",
       "| 2009-10-19 | 1330.80 | 1097.91 |\n",
       "| 2009-10-20 | 1315.97 | 1091.06 |\n",
       "\n"
      ],
      "text/plain": [
       "  Date       colcap  spx    \n",
       "1 2009-10-13 1303.03 1073.19\n",
       "2 2009-10-14 1294.39 1092.02\n",
       "3 2009-10-15 1294.11 1096.56\n",
       "4 2009-10-16 1301.69 1087.68\n",
       "5 2009-10-19 1330.80 1097.91\n",
       "6 2009-10-20 1315.97 1091.06"
      ]
     },
     "metadata": {},
     "output_type": "display_data"
    }
   ],
   "source": [
    "index <- read_excel(path, sheet='Indices Accionarios',skip=7, col_names=c('Date','colcap','spx'))\n",
    "head(index)"
   ]
  },
  {
   "cell_type": "code",
   "execution_count": 9,
   "metadata": {
    "vscode": {
     "languageId": "r"
    }
   },
   "outputs": [
    {
     "data": {
      "text/html": [
       "<table class=\"dataframe\">\n",
       "<caption>A tibble: 6 × 2</caption>\n",
       "<thead>\n",
       "\t<tr><th scope=col>Date</th><th scope=col>ipc</th></tr>\n",
       "\t<tr><th scope=col>&lt;dttm&gt;</th><th scope=col>&lt;dbl&gt;</th></tr>\n",
       "</thead>\n",
       "<tbody>\n",
       "\t<tr><td>1954-07-31</td><td>0.02632</td></tr>\n",
       "\t<tr><td>1954-08-31</td><td>0.02612</td></tr>\n",
       "\t<tr><td>1954-09-30</td><td>0.02576</td></tr>\n",
       "\t<tr><td>1954-10-31</td><td>0.02585</td></tr>\n",
       "\t<tr><td>1954-11-30</td><td>0.02591</td></tr>\n",
       "\t<tr><td>1954-12-31</td><td>0.02605</td></tr>\n",
       "</tbody>\n",
       "</table>\n"
      ],
      "text/latex": [
       "A tibble: 6 × 2\n",
       "\\begin{tabular}{ll}\n",
       " Date & ipc\\\\\n",
       " <dttm> & <dbl>\\\\\n",
       "\\hline\n",
       "\t 1954-07-31 & 0.02632\\\\\n",
       "\t 1954-08-31 & 0.02612\\\\\n",
       "\t 1954-09-30 & 0.02576\\\\\n",
       "\t 1954-10-31 & 0.02585\\\\\n",
       "\t 1954-11-30 & 0.02591\\\\\n",
       "\t 1954-12-31 & 0.02605\\\\\n",
       "\\end{tabular}\n"
      ],
      "text/markdown": [
       "\n",
       "A tibble: 6 × 2\n",
       "\n",
       "| Date &lt;dttm&gt; | ipc &lt;dbl&gt; |\n",
       "|---|---|\n",
       "| 1954-07-31 | 0.02632 |\n",
       "| 1954-08-31 | 0.02612 |\n",
       "| 1954-09-30 | 0.02576 |\n",
       "| 1954-10-31 | 0.02585 |\n",
       "| 1954-11-30 | 0.02591 |\n",
       "| 1954-12-31 | 0.02605 |\n",
       "\n"
      ],
      "text/plain": [
       "  Date       ipc    \n",
       "1 1954-07-31 0.02632\n",
       "2 1954-08-31 0.02612\n",
       "3 1954-09-30 0.02576\n",
       "4 1954-10-31 0.02585\n",
       "5 1954-11-30 0.02591\n",
       "6 1954-12-31 0.02605"
      ]
     },
     "metadata": {},
     "output_type": "display_data"
    }
   ],
   "source": [
    "ipc <- read_excel(path, sheet='IPC',skip=1, col_names=c('Date','ipc'))\n",
    "head(ipc)"
   ]
  },
  {
   "cell_type": "code",
   "execution_count": 10,
   "metadata": {
    "vscode": {
     "languageId": "r"
    }
   },
   "outputs": [
    {
     "data": {
      "text/html": [
       "<table class=\"dataframe\">\n",
       "<caption>A tibble: 6 × 2</caption>\n",
       "<thead>\n",
       "\t<tr><th scope=col>Date</th><th scope=col>trm</th></tr>\n",
       "\t<tr><th scope=col>&lt;dttm&gt;</th><th scope=col>&lt;dbl&gt;</th></tr>\n",
       "</thead>\n",
       "<tbody>\n",
       "\t<tr><td>1991-11-27</td><td>693.32</td></tr>\n",
       "\t<tr><td>1991-11-28</td><td>693.99</td></tr>\n",
       "\t<tr><td>1991-11-29</td><td>694.70</td></tr>\n",
       "\t<tr><td>1991-11-30</td><td>694.70</td></tr>\n",
       "\t<tr><td>1991-12-01</td><td>643.42</td></tr>\n",
       "\t<tr><td>1991-12-02</td><td>643.42</td></tr>\n",
       "</tbody>\n",
       "</table>\n"
      ],
      "text/latex": [
       "A tibble: 6 × 2\n",
       "\\begin{tabular}{ll}\n",
       " Date & trm\\\\\n",
       " <dttm> & <dbl>\\\\\n",
       "\\hline\n",
       "\t 1991-11-27 & 693.32\\\\\n",
       "\t 1991-11-28 & 693.99\\\\\n",
       "\t 1991-11-29 & 694.70\\\\\n",
       "\t 1991-11-30 & 694.70\\\\\n",
       "\t 1991-12-01 & 643.42\\\\\n",
       "\t 1991-12-02 & 643.42\\\\\n",
       "\\end{tabular}\n"
      ],
      "text/markdown": [
       "\n",
       "A tibble: 6 × 2\n",
       "\n",
       "| Date &lt;dttm&gt; | trm &lt;dbl&gt; |\n",
       "|---|---|\n",
       "| 1991-11-27 | 693.32 |\n",
       "| 1991-11-28 | 693.99 |\n",
       "| 1991-11-29 | 694.70 |\n",
       "| 1991-11-30 | 694.70 |\n",
       "| 1991-12-01 | 643.42 |\n",
       "| 1991-12-02 | 643.42 |\n",
       "\n"
      ],
      "text/plain": [
       "  Date       trm   \n",
       "1 1991-11-27 693.32\n",
       "2 1991-11-28 693.99\n",
       "3 1991-11-29 694.70\n",
       "4 1991-11-30 694.70\n",
       "5 1991-12-01 643.42\n",
       "6 1991-12-02 643.42"
      ]
     },
     "metadata": {},
     "output_type": "display_data"
    }
   ],
   "source": [
    "trm <- read_excel(path, sheet='TRM',skip=1, col_names=c('Date','trm'))\n",
    "head(trm)"
   ]
  },
  {
   "cell_type": "markdown",
   "metadata": {},
   "source": [
    "## Simulaciones a futuro"
   ]
  },
  {
   "cell_type": "code",
   "execution_count": null,
   "metadata": {
    "vscode": {
     "languageId": "r"
    }
   },
   "outputs": [],
   "source": []
  }
 ],
 "metadata": {
  "interpreter": {
   "hash": "aa5dfc9bc22e8b9bd7d7586b99fc6c73114eec00d3f85e09b6fdc2730a892aa2"
  },
  "kernelspec": {
   "display_name": "R",
   "language": "R",
   "name": "ir"
  },
  "language_info": {
   "codemirror_mode": "r",
   "file_extension": ".r",
   "mimetype": "text/x-r-source",
   "name": "R",
   "pygments_lexer": "r",
   "version": "3.6.1"
  },
  "orig_nbformat": 4
 },
 "nbformat": 4,
 "nbformat_minor": 2
}
