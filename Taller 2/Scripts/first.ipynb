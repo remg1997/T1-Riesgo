{
 "cells": [
  {
   "cell_type": "markdown",
   "metadata": {},
   "source": [
    "# Optimización del Activo\n",
    "## Import de paquetes y funciones"
   ]
  },
  {
   "cell_type": "code",
   "execution_count": 1,
   "metadata": {
    "vscode": {
     "languageId": "r"
    }
   },
   "outputs": [
    {
     "name": "stderr",
     "output_type": "stream",
     "text": [
      "Warning message:\n",
      "\"package 'readxl' was built under R version 3.6.3\"Warning message:\n",
      "\"package 'lubridate' was built under R version 3.6.3\"\n",
      "Attaching package: 'lubridate'\n",
      "\n",
      "The following objects are masked from 'package:base':\n",
      "\n",
      "    date, intersect, setdiff, union\n",
      "\n",
      "Warning message:\n",
      "\"package 'tidyr' was built under R version 3.6.3\"Warning message:\n",
      "\"package 'YieldCurve' was built under R version 3.6.3\"Loading required package: xts\n",
      "Loading required package: zoo\n",
      "Warning message:\n",
      "\"package 'zoo' was built under R version 3.6.3\"\n",
      "Attaching package: 'zoo'\n",
      "\n",
      "The following objects are masked from 'package:base':\n",
      "\n",
      "    as.Date, as.Date.numeric\n",
      "\n",
      "Registered S3 method overwritten by 'xts':\n",
      "  method     from\n",
      "  as.zoo.xts zoo \n"
     ]
    }
   ],
   "source": [
    "library(\"readxl\")\n",
    "library(\"lubridate\")\n",
    "library('tidyr')\n",
    "library('ggplot2')\n",
    "library('YieldCurve')"
   ]
  },
  {
   "cell_type": "code",
   "execution_count": 2,
   "metadata": {
    "vscode": {
     "languageId": "r"
    }
   },
   "outputs": [
    {
     "data": {
      "text/html": [
       "<style>\n",
       ".list-inline {list-style: none; margin:0; padding: 0}\n",
       ".list-inline>li {display: inline-block}\n",
       ".list-inline>li:not(:last-child)::after {content: \"\\00b7\"; padding: 0 .5ex}\n",
       "</style>\n",
       "<ol class=list-inline><li>'.GlobalEnv'</li><li>'package:YieldCurve'</li><li>'package:xts'</li><li>'package:zoo'</li><li>'package:ggplot2'</li><li>'package:tidyr'</li><li>'package:lubridate'</li><li>'package:readxl'</li><li>'jupyter:irkernel'</li><li>'jupyter:irkernel'</li><li>'package:stats'</li><li>'package:graphics'</li><li>'package:grDevices'</li><li>'package:utils'</li><li>'package:datasets'</li><li>'package:methods'</li><li>'Autoloads'</li><li>'package:base'</li></ol>\n"
      ],
      "text/latex": [
       "\\begin{enumerate*}\n",
       "\\item '.GlobalEnv'\n",
       "\\item 'package:YieldCurve'\n",
       "\\item 'package:xts'\n",
       "\\item 'package:zoo'\n",
       "\\item 'package:ggplot2'\n",
       "\\item 'package:tidyr'\n",
       "\\item 'package:lubridate'\n",
       "\\item 'package:readxl'\n",
       "\\item 'jupyter:irkernel'\n",
       "\\item 'jupyter:irkernel'\n",
       "\\item 'package:stats'\n",
       "\\item 'package:graphics'\n",
       "\\item 'package:grDevices'\n",
       "\\item 'package:utils'\n",
       "\\item 'package:datasets'\n",
       "\\item 'package:methods'\n",
       "\\item 'Autoloads'\n",
       "\\item 'package:base'\n",
       "\\end{enumerate*}\n"
      ],
      "text/markdown": [
       "1. '.GlobalEnv'\n",
       "2. 'package:YieldCurve'\n",
       "3. 'package:xts'\n",
       "4. 'package:zoo'\n",
       "5. 'package:ggplot2'\n",
       "6. 'package:tidyr'\n",
       "7. 'package:lubridate'\n",
       "8. 'package:readxl'\n",
       "9. 'jupyter:irkernel'\n",
       "10. 'jupyter:irkernel'\n",
       "11. 'package:stats'\n",
       "12. 'package:graphics'\n",
       "13. 'package:grDevices'\n",
       "14. 'package:utils'\n",
       "15. 'package:datasets'\n",
       "16. 'package:methods'\n",
       "17. 'Autoloads'\n",
       "18. 'package:base'\n",
       "\n",
       "\n"
      ],
      "text/plain": [
       " [1] \".GlobalEnv\"         \"package:YieldCurve\" \"package:xts\"       \n",
       " [4] \"package:zoo\"        \"package:ggplot2\"    \"package:tidyr\"     \n",
       " [7] \"package:lubridate\"  \"package:readxl\"     \"jupyter:irkernel\"  \n",
       "[10] \"jupyter:irkernel\"   \"package:stats\"      \"package:graphics\"  \n",
       "[13] \"package:grDevices\"  \"package:utils\"      \"package:datasets\"  \n",
       "[16] \"package:methods\"    \"Autoloads\"          \"package:base\"      "
      ]
     },
     "metadata": {},
     "output_type": "display_data"
    }
   ],
   "source": [
    "search()"
   ]
  },
  {
   "cell_type": "code",
   "execution_count": 3,
   "metadata": {
    "vscode": {
     "languageId": "r"
    }
   },
   "outputs": [],
   "source": [
    "source(\"helpers.R\")"
   ]
  },
  {
   "cell_type": "markdown",
   "metadata": {},
   "source": [
    "## Import de bases de datos de los indices\n",
    "En esta sección se importan todos los datos de las tasas de interés de los bonos y activos requeridos.   \n",
    "Adicionalmente, se encuentra la estimación de Nelson Sieguel para descomponer el comportamiento de las tasas."
   ]
  },
  {
   "cell_type": "code",
   "execution_count": 4,
   "metadata": {
    "vscode": {
     "languageId": "r"
    }
   },
   "outputs": [],
   "source": [
    "path <- 'C:/Users/Diana C Contreras/OneDrive - Universidad de Los Andes/Riesgo Financiero/Talleres/T1-Riesgo/Taller 2/data/data.xlsx'"
   ]
  },
  {
   "cell_type": "markdown",
   "metadata": {},
   "source": [
    "### Empezamos con los bonos TES en pesos."
   ]
  },
  {
   "cell_type": "code",
   "execution_count": 5,
   "metadata": {
    "vscode": {
     "languageId": "r"
    }
   },
   "outputs": [],
   "source": [
    "tes_cop <- read_excel(path, sheet=1,skip=7, col_names=c('Date','6m','1y','3y','5y','10y','15y'))"
   ]
  },
  {
   "cell_type": "code",
   "execution_count": 6,
   "metadata": {
    "vscode": {
     "languageId": "r"
    }
   },
   "outputs": [
    {
     "data": {
      "text/html": [
       "<table class=\"dataframe\">\n",
       "<caption>A matrix: 6 × 6 of type dbl</caption>\n",
       "<thead>\n",
       "\t<tr><th scope=col>6m</th><th scope=col>1y</th><th scope=col>3y</th><th scope=col>5y</th><th scope=col>10y</th><th scope=col>15y</th></tr>\n",
       "</thead>\n",
       "<tbody>\n",
       "\t<tr><td>5.4042</td><td>5.5328</td><td>6.0056</td><td>6.4139</td><td>6.9276</td><td>7.3809</td></tr>\n",
       "\t<tr><td>5.3703</td><td>5.5107</td><td>5.9953</td><td>6.4264</td><td>6.9410</td><td>7.3830</td></tr>\n",
       "\t<tr><td>5.3749</td><td>5.5176</td><td>6.0044</td><td>6.4312</td><td>6.9430</td><td>7.3839</td></tr>\n",
       "\t<tr><td>5.4176</td><td>5.5513</td><td>6.0613</td><td>6.4281</td><td>6.9308</td><td>7.3765</td></tr>\n",
       "\t<tr><td>5.4304</td><td>5.5508</td><td>6.0495</td><td>6.4076</td><td>6.8896</td><td>7.3203</td></tr>\n",
       "\t<tr><td>5.4570</td><td>5.5736</td><td>6.0911</td><td>6.4363</td><td>6.9042</td><td>7.3267</td></tr>\n",
       "</tbody>\n",
       "</table>\n"
      ],
      "text/latex": [
       "A matrix: 6 × 6 of type dbl\n",
       "\\begin{tabular}{llllll}\n",
       " 6m & 1y & 3y & 5y & 10y & 15y\\\\\n",
       "\\hline\n",
       "\t 5.4042 & 5.5328 & 6.0056 & 6.4139 & 6.9276 & 7.3809\\\\\n",
       "\t 5.3703 & 5.5107 & 5.9953 & 6.4264 & 6.9410 & 7.3830\\\\\n",
       "\t 5.3749 & 5.5176 & 6.0044 & 6.4312 & 6.9430 & 7.3839\\\\\n",
       "\t 5.4176 & 5.5513 & 6.0613 & 6.4281 & 6.9308 & 7.3765\\\\\n",
       "\t 5.4304 & 5.5508 & 6.0495 & 6.4076 & 6.8896 & 7.3203\\\\\n",
       "\t 5.4570 & 5.5736 & 6.0911 & 6.4363 & 6.9042 & 7.3267\\\\\n",
       "\\end{tabular}\n"
      ],
      "text/markdown": [
       "\n",
       "A matrix: 6 × 6 of type dbl\n",
       "\n",
       "| 6m | 1y | 3y | 5y | 10y | 15y |\n",
       "|---|---|---|---|---|---|\n",
       "| 5.4042 | 5.5328 | 6.0056 | 6.4139 | 6.9276 | 7.3809 |\n",
       "| 5.3703 | 5.5107 | 5.9953 | 6.4264 | 6.9410 | 7.3830 |\n",
       "| 5.3749 | 5.5176 | 6.0044 | 6.4312 | 6.9430 | 7.3839 |\n",
       "| 5.4176 | 5.5513 | 6.0613 | 6.4281 | 6.9308 | 7.3765 |\n",
       "| 5.4304 | 5.5508 | 6.0495 | 6.4076 | 6.8896 | 7.3203 |\n",
       "| 5.4570 | 5.5736 | 6.0911 | 6.4363 | 6.9042 | 7.3267 |\n",
       "\n"
      ],
      "text/plain": [
       "     6m     1y     3y     5y     10y    15y   \n",
       "[1,] 5.4042 5.5328 6.0056 6.4139 6.9276 7.3809\n",
       "[2,] 5.3703 5.5107 5.9953 6.4264 6.9410 7.3830\n",
       "[3,] 5.3749 5.5176 6.0044 6.4312 6.9430 7.3839\n",
       "[4,] 5.4176 5.5513 6.0613 6.4281 6.9308 7.3765\n",
       "[5,] 5.4304 5.5508 6.0495 6.4076 6.8896 7.3203\n",
       "[6,] 5.4570 5.5736 6.0911 6.4363 6.9042 7.3267"
      ]
     },
     "metadata": {},
     "output_type": "display_data"
    }
   ],
   "source": [
    "tes_cop <- tes_cop[tes_cop$Date >= \"2012-04-26\",]\n",
    "tes_cop <- as.data.frame(tes_cop)\n",
    "rownames(tes_cop) <- tes_cop$Date\n",
    "tes_cop <- tes_cop[,-c(1)]\n",
    "tes_cop <- sapply(tes_cop, as.numeric)\n",
    "\n",
    "head(tes_cop)\n"
   ]
  },
  {
   "cell_type": "code",
   "execution_count": 7,
   "metadata": {
    "vscode": {
     "languageId": "r"
    }
   },
   "outputs": [
    {
     "data": {
      "text/html": [
       "<table class=\"dataframe\">\n",
       "<caption>A matrix: 6 × 4 of type dbl</caption>\n",
       "<thead>\n",
       "\t<tr><th scope=col>beta_0</th><th scope=col>beta_1</th><th scope=col>beta_2</th><th scope=col>lambda</th></tr>\n",
       "</thead>\n",
       "<tbody>\n",
       "\t<tr><td>8.378015</td><td>-3.115947</td><td> 0.03615750</td><td>0.1887807</td></tr>\n",
       "\t<tr><td>8.308243</td><td>-3.090228</td><td>-0.07008414</td><td>0.2109684</td></tr>\n",
       "\t<tr><td>8.295119</td><td>-3.071663</td><td>-0.04108135</td><td>0.2109684</td></tr>\n",
       "\t<tr><td>8.253432</td><td>-2.979203</td><td>-0.04322311</td><td>0.2109684</td></tr>\n",
       "\t<tr><td>8.161660</td><td>-2.874677</td><td>-0.02401636</td><td>0.2109684</td></tr>\n",
       "\t<tr><td>8.095042</td><td>-2.787337</td><td>-0.02597386</td><td>0.2241687</td></tr>\n",
       "</tbody>\n",
       "</table>\n"
      ],
      "text/latex": [
       "A matrix: 6 × 4 of type dbl\n",
       "\\begin{tabular}{llll}\n",
       " beta\\_0 & beta\\_1 & beta\\_2 & lambda\\\\\n",
       "\\hline\n",
       "\t 8.378015 & -3.115947 &  0.03615750 & 0.1887807\\\\\n",
       "\t 8.308243 & -3.090228 & -0.07008414 & 0.2109684\\\\\n",
       "\t 8.295119 & -3.071663 & -0.04108135 & 0.2109684\\\\\n",
       "\t 8.253432 & -2.979203 & -0.04322311 & 0.2109684\\\\\n",
       "\t 8.161660 & -2.874677 & -0.02401636 & 0.2109684\\\\\n",
       "\t 8.095042 & -2.787337 & -0.02597386 & 0.2241687\\\\\n",
       "\\end{tabular}\n"
      ],
      "text/markdown": [
       "\n",
       "A matrix: 6 × 4 of type dbl\n",
       "\n",
       "| beta_0 | beta_1 | beta_2 | lambda |\n",
       "|---|---|---|---|\n",
       "| 8.378015 | -3.115947 |  0.03615750 | 0.1887807 |\n",
       "| 8.308243 | -3.090228 | -0.07008414 | 0.2109684 |\n",
       "| 8.295119 | -3.071663 | -0.04108135 | 0.2109684 |\n",
       "| 8.253432 | -2.979203 | -0.04322311 | 0.2109684 |\n",
       "| 8.161660 | -2.874677 | -0.02401636 | 0.2109684 |\n",
       "| 8.095042 | -2.787337 | -0.02597386 | 0.2241687 |\n",
       "\n"
      ],
      "text/plain": [
       "     beta_0   beta_1    beta_2      lambda   \n",
       "[1,] 8.378015 -3.115947  0.03615750 0.1887807\n",
       "[2,] 8.308243 -3.090228 -0.07008414 0.2109684\n",
       "[3,] 8.295119 -3.071663 -0.04108135 0.2109684\n",
       "[4,] 8.253432 -2.979203 -0.04322311 0.2109684\n",
       "[5,] 8.161660 -2.874677 -0.02401636 0.2109684\n",
       "[6,] 8.095042 -2.787337 -0.02597386 0.2241687"
      ]
     },
     "metadata": {},
     "output_type": "display_data"
    }
   ],
   "source": [
    "tes_maturity <- c(0.5,1,3,5,10,15)\n",
    "tes_cop_ns <- Nelson.Siegel( rate=tes_cop,\tmaturity=tes_maturity)\n",
    "head(tes_cop_ns)"
   ]
  },
  {
   "cell_type": "markdown",
   "metadata": {},
   "source": [
    "### TES en UVR   \n",
    "Notese que en este caso se importan directamente los resultados de Nelson Sieguel"
   ]
  },
  {
   "cell_type": "code",
   "execution_count": 8,
   "metadata": {
    "vscode": {
     "languageId": "r"
    }
   },
   "outputs": [
    {
     "data": {
      "text/html": [
       "<table class=\"dataframe\">\n",
       "<caption>A data.frame: 6 × 4</caption>\n",
       "<thead>\n",
       "\t<tr><th></th><th scope=col>beta_0</th><th scope=col>beta_1</th><th scope=col>beta_2</th><th scope=col>lambda</th></tr>\n",
       "\t<tr><th></th><th scope=col>&lt;dbl&gt;</th><th scope=col>&lt;dbl&gt;</th><th scope=col>&lt;dbl&gt;</th><th scope=col>&lt;dbl&gt;</th></tr>\n",
       "</thead>\n",
       "<tbody>\n",
       "\t<tr><th scope=row>2022-04-08</th><td>0.09647801</td><td>-0.03119406</td><td>0.04511467</td><td>3.7</td></tr>\n",
       "\t<tr><th scope=row>2022-04-07</th><td>0.09405698</td><td>-0.02969244</td><td>0.04226096</td><td>3.7</td></tr>\n",
       "\t<tr><th scope=row>2022-04-06</th><td>0.09469592</td><td>-0.02990299</td><td>0.04248866</td><td>3.7</td></tr>\n",
       "\t<tr><th scope=row>2022-04-05</th><td>0.09408631</td><td>-0.02883965</td><td>0.04186647</td><td>3.7</td></tr>\n",
       "\t<tr><th scope=row>2022-04-04</th><td>0.09664698</td><td>-0.03390216</td><td>0.04312384</td><td>3.7</td></tr>\n",
       "\t<tr><th scope=row>2022-04-01</th><td>0.09685086</td><td>-0.03217370</td><td>0.04468412</td><td>3.7</td></tr>\n",
       "</tbody>\n",
       "</table>\n"
      ],
      "text/latex": [
       "A data.frame: 6 × 4\n",
       "\\begin{tabular}{r|llll}\n",
       "  & beta\\_0 & beta\\_1 & beta\\_2 & lambda\\\\\n",
       "  & <dbl> & <dbl> & <dbl> & <dbl>\\\\\n",
       "\\hline\n",
       "\t2022-04-08 & 0.09647801 & -0.03119406 & 0.04511467 & 3.7\\\\\n",
       "\t2022-04-07 & 0.09405698 & -0.02969244 & 0.04226096 & 3.7\\\\\n",
       "\t2022-04-06 & 0.09469592 & -0.02990299 & 0.04248866 & 3.7\\\\\n",
       "\t2022-04-05 & 0.09408631 & -0.02883965 & 0.04186647 & 3.7\\\\\n",
       "\t2022-04-04 & 0.09664698 & -0.03390216 & 0.04312384 & 3.7\\\\\n",
       "\t2022-04-01 & 0.09685086 & -0.03217370 & 0.04468412 & 3.7\\\\\n",
       "\\end{tabular}\n"
      ],
      "text/markdown": [
       "\n",
       "A data.frame: 6 × 4\n",
       "\n",
       "| <!--/--> | beta_0 &lt;dbl&gt; | beta_1 &lt;dbl&gt; | beta_2 &lt;dbl&gt; | lambda &lt;dbl&gt; |\n",
       "|---|---|---|---|---|\n",
       "| 2022-04-08 | 0.09647801 | -0.03119406 | 0.04511467 | 3.7 |\n",
       "| 2022-04-07 | 0.09405698 | -0.02969244 | 0.04226096 | 3.7 |\n",
       "| 2022-04-06 | 0.09469592 | -0.02990299 | 0.04248866 | 3.7 |\n",
       "| 2022-04-05 | 0.09408631 | -0.02883965 | 0.04186647 | 3.7 |\n",
       "| 2022-04-04 | 0.09664698 | -0.03390216 | 0.04312384 | 3.7 |\n",
       "| 2022-04-01 | 0.09685086 | -0.03217370 | 0.04468412 | 3.7 |\n",
       "\n"
      ],
      "text/plain": [
       "           beta_0     beta_1      beta_2     lambda\n",
       "2022-04-08 0.09647801 -0.03119406 0.04511467 3.7   \n",
       "2022-04-07 0.09405698 -0.02969244 0.04226096 3.7   \n",
       "2022-04-06 0.09469592 -0.02990299 0.04248866 3.7   \n",
       "2022-04-05 0.09408631 -0.02883965 0.04186647 3.7   \n",
       "2022-04-04 0.09664698 -0.03390216 0.04312384 3.7   \n",
       "2022-04-01 0.09685086 -0.03217370 0.04468412 3.7   "
      ]
     },
     "metadata": {},
     "output_type": "display_data"
    }
   ],
   "source": [
    "tes_uvr_ns <- read_excel(path, sheet='TES UVR Betas',skip=1, col_names=c('Date','beta_0','beta_1','beta_2','lambda'))\n",
    "tes_uvr_ns <- as.data.frame(tes_uvr_ns)\n",
    "rownames(tes_uvr_ns) <- tes_uvr_ns$Date\n",
    "tes_uvr_ns <- tes_uvr_ns[,-c(1)]\n",
    "head(tes_uvr_ns)"
   ]
  },
  {
   "cell_type": "markdown",
   "metadata": {},
   "source": [
    "### Corporativo a EEUU"
   ]
  },
  {
   "cell_type": "code",
   "execution_count": 9,
   "metadata": {
    "vscode": {
     "languageId": "r"
    }
   },
   "outputs": [
    {
     "data": {
      "text/html": [
       "<table class=\"dataframe\">\n",
       "<caption>A data.frame: 6 × 7</caption>\n",
       "<thead>\n",
       "\t<tr><th></th><th scope=col>3m</th><th scope=col>6m</th><th scope=col>1y</th><th scope=col>3y</th><th scope=col>5y</th><th scope=col>10y</th><th scope=col>15y</th></tr>\n",
       "\t<tr><th></th><th scope=col>&lt;dbl&gt;</th><th scope=col>&lt;dbl&gt;</th><th scope=col>&lt;dbl&gt;</th><th scope=col>&lt;dbl&gt;</th><th scope=col>&lt;dbl&gt;</th><th scope=col>&lt;dbl&gt;</th><th scope=col>&lt;dbl&gt;</th></tr>\n",
       "</thead>\n",
       "<tbody>\n",
       "\t<tr><th scope=row>2009-10-13</th><td>1.1404</td><td>1.2181</td><td>1.5046</td><td>2.5661</td><td>3.4811</td><td>4.7076</td><td>5.3309</td></tr>\n",
       "\t<tr><th scope=row>2009-10-14</th><td>1.1381</td><td>1.2208</td><td>1.5196</td><td>2.6013</td><td>3.5293</td><td>4.7843</td><td>5.4388</td></tr>\n",
       "\t<tr><th scope=row>2009-10-15</th><td>1.1055</td><td>1.1932</td><td>1.5041</td><td>2.6295</td><td>3.5733</td><td>4.8308</td><td>5.4545</td></tr>\n",
       "\t<tr><th scope=row>2009-10-16</th><td>1.2114</td><td>1.2897</td><td>1.5619</td><td>2.6139</td><td>3.5447</td><td>4.7820</td><td>5.4008</td></tr>\n",
       "\t<tr><th scope=row>2009-10-19</th><td>1.1778</td><td>1.2627</td><td>1.5420</td><td>2.5997</td><td>3.5283</td><td>4.7502</td><td>5.3610</td></tr>\n",
       "\t<tr><th scope=row>2009-10-20</th><td>1.1593</td><td>1.2421</td><td>1.5096</td><td>2.5454</td><td>3.4739</td><td>4.7214</td><td>5.3203</td></tr>\n",
       "</tbody>\n",
       "</table>\n"
      ],
      "text/latex": [
       "A data.frame: 6 × 7\n",
       "\\begin{tabular}{r|lllllll}\n",
       "  & 3m & 6m & 1y & 3y & 5y & 10y & 15y\\\\\n",
       "  & <dbl> & <dbl> & <dbl> & <dbl> & <dbl> & <dbl> & <dbl>\\\\\n",
       "\\hline\n",
       "\t2009-10-13 & 1.1404 & 1.2181 & 1.5046 & 2.5661 & 3.4811 & 4.7076 & 5.3309\\\\\n",
       "\t2009-10-14 & 1.1381 & 1.2208 & 1.5196 & 2.6013 & 3.5293 & 4.7843 & 5.4388\\\\\n",
       "\t2009-10-15 & 1.1055 & 1.1932 & 1.5041 & 2.6295 & 3.5733 & 4.8308 & 5.4545\\\\\n",
       "\t2009-10-16 & 1.2114 & 1.2897 & 1.5619 & 2.6139 & 3.5447 & 4.7820 & 5.4008\\\\\n",
       "\t2009-10-19 & 1.1778 & 1.2627 & 1.5420 & 2.5997 & 3.5283 & 4.7502 & 5.3610\\\\\n",
       "\t2009-10-20 & 1.1593 & 1.2421 & 1.5096 & 2.5454 & 3.4739 & 4.7214 & 5.3203\\\\\n",
       "\\end{tabular}\n"
      ],
      "text/markdown": [
       "\n",
       "A data.frame: 6 × 7\n",
       "\n",
       "| <!--/--> | 3m &lt;dbl&gt; | 6m &lt;dbl&gt; | 1y &lt;dbl&gt; | 3y &lt;dbl&gt; | 5y &lt;dbl&gt; | 10y &lt;dbl&gt; | 15y &lt;dbl&gt; |\n",
       "|---|---|---|---|---|---|---|---|\n",
       "| 2009-10-13 | 1.1404 | 1.2181 | 1.5046 | 2.5661 | 3.4811 | 4.7076 | 5.3309 |\n",
       "| 2009-10-14 | 1.1381 | 1.2208 | 1.5196 | 2.6013 | 3.5293 | 4.7843 | 5.4388 |\n",
       "| 2009-10-15 | 1.1055 | 1.1932 | 1.5041 | 2.6295 | 3.5733 | 4.8308 | 5.4545 |\n",
       "| 2009-10-16 | 1.2114 | 1.2897 | 1.5619 | 2.6139 | 3.5447 | 4.7820 | 5.4008 |\n",
       "| 2009-10-19 | 1.1778 | 1.2627 | 1.5420 | 2.5997 | 3.5283 | 4.7502 | 5.3610 |\n",
       "| 2009-10-20 | 1.1593 | 1.2421 | 1.5096 | 2.5454 | 3.4739 | 4.7214 | 5.3203 |\n",
       "\n"
      ],
      "text/plain": [
       "           3m     6m     1y     3y     5y     10y    15y   \n",
       "2009-10-13 1.1404 1.2181 1.5046 2.5661 3.4811 4.7076 5.3309\n",
       "2009-10-14 1.1381 1.2208 1.5196 2.6013 3.5293 4.7843 5.4388\n",
       "2009-10-15 1.1055 1.1932 1.5041 2.6295 3.5733 4.8308 5.4545\n",
       "2009-10-16 1.2114 1.2897 1.5619 2.6139 3.5447 4.7820 5.4008\n",
       "2009-10-19 1.1778 1.2627 1.5420 2.5997 3.5283 4.7502 5.3610\n",
       "2009-10-20 1.1593 1.2421 1.5096 2.5454 3.4739 4.7214 5.3203"
      ]
     },
     "metadata": {},
     "output_type": "display_data"
    }
   ],
   "source": [
    "corp_usa <- read_excel(path, sheet='Corporativo A EEUU',skip=8, col_names=c('Date','3m','6m','1y','3y','5y','10y','15y'))\n",
    "\n",
    "corp_usa <- as.data.frame(corp_usa)\n",
    "rownames(corp_usa) <- corp_usa$Date\n",
    "corp_usa <- corp_usa[,-c(1)]\n",
    "head(corp_usa)"
   ]
  },
  {
   "cell_type": "code",
   "execution_count": 10,
   "metadata": {
    "vscode": {
     "languageId": "r"
    }
   },
   "outputs": [
    {
     "data": {
      "text/html": [
       "<table class=\"dataframe\">\n",
       "<caption>A data.frame: 6 × 4</caption>\n",
       "<thead>\n",
       "\t<tr><th></th><th scope=col>beta_0</th><th scope=col>beta_1</th><th scope=col>beta_2</th><th scope=col>lambda</th></tr>\n",
       "\t<tr><th></th><th scope=col>&lt;dbl&gt;</th><th scope=col>&lt;dbl&gt;</th><th scope=col>&lt;dbl&gt;</th><th scope=col>&lt;dbl&gt;</th></tr>\n",
       "</thead>\n",
       "<tbody>\n",
       "\t<tr><th scope=row>2009-10-13</th><td>6.461855</td><td>-5.425669</td><td>-4.169706</td><td>0.5517879</td></tr>\n",
       "\t<tr><th scope=row>2009-10-14</th><td>6.731600</td><td>-5.748756</td><td>-3.643443</td><td>0.4781896</td></tr>\n",
       "\t<tr><th scope=row>2009-10-15</th><td>6.607364</td><td>-5.625489</td><td>-4.118086</td><td>0.5517879</td></tr>\n",
       "\t<tr><th scope=row>2009-10-16</th><td>6.550958</td><td>-5.437508</td><td>-4.269783</td><td>0.5517879</td></tr>\n",
       "\t<tr><th scope=row>2009-10-19</th><td>6.495381</td><td>-5.421099</td><td>-4.152560</td><td>0.5517879</td></tr>\n",
       "\t<tr><th scope=row>2009-10-20</th><td>6.476177</td><td>-5.408359</td><td>-4.283447</td><td>0.5517879</td></tr>\n",
       "</tbody>\n",
       "</table>\n"
      ],
      "text/latex": [
       "A data.frame: 6 × 4\n",
       "\\begin{tabular}{r|llll}\n",
       "  & beta\\_0 & beta\\_1 & beta\\_2 & lambda\\\\\n",
       "  & <dbl> & <dbl> & <dbl> & <dbl>\\\\\n",
       "\\hline\n",
       "\t2009-10-13 & 6.461855 & -5.425669 & -4.169706 & 0.5517879\\\\\n",
       "\t2009-10-14 & 6.731600 & -5.748756 & -3.643443 & 0.4781896\\\\\n",
       "\t2009-10-15 & 6.607364 & -5.625489 & -4.118086 & 0.5517879\\\\\n",
       "\t2009-10-16 & 6.550958 & -5.437508 & -4.269783 & 0.5517879\\\\\n",
       "\t2009-10-19 & 6.495381 & -5.421099 & -4.152560 & 0.5517879\\\\\n",
       "\t2009-10-20 & 6.476177 & -5.408359 & -4.283447 & 0.5517879\\\\\n",
       "\\end{tabular}\n"
      ],
      "text/markdown": [
       "\n",
       "A data.frame: 6 × 4\n",
       "\n",
       "| <!--/--> | beta_0 &lt;dbl&gt; | beta_1 &lt;dbl&gt; | beta_2 &lt;dbl&gt; | lambda &lt;dbl&gt; |\n",
       "|---|---|---|---|---|\n",
       "| 2009-10-13 | 6.461855 | -5.425669 | -4.169706 | 0.5517879 |\n",
       "| 2009-10-14 | 6.731600 | -5.748756 | -3.643443 | 0.4781896 |\n",
       "| 2009-10-15 | 6.607364 | -5.625489 | -4.118086 | 0.5517879 |\n",
       "| 2009-10-16 | 6.550958 | -5.437508 | -4.269783 | 0.5517879 |\n",
       "| 2009-10-19 | 6.495381 | -5.421099 | -4.152560 | 0.5517879 |\n",
       "| 2009-10-20 | 6.476177 | -5.408359 | -4.283447 | 0.5517879 |\n",
       "\n"
      ],
      "text/plain": [
       "           beta_0   beta_1    beta_2    lambda   \n",
       "2009-10-13 6.461855 -5.425669 -4.169706 0.5517879\n",
       "2009-10-14 6.731600 -5.748756 -3.643443 0.4781896\n",
       "2009-10-15 6.607364 -5.625489 -4.118086 0.5517879\n",
       "2009-10-16 6.550958 -5.437508 -4.269783 0.5517879\n",
       "2009-10-19 6.495381 -5.421099 -4.152560 0.5517879\n",
       "2009-10-20 6.476177 -5.408359 -4.283447 0.5517879"
      ]
     },
     "metadata": {},
     "output_type": "display_data"
    }
   ],
   "source": [
    "corp_usa_maturity <- c(3/12,0.5,1,3,5,10,15)\n",
    "corp_usa_ns <- Nelson.Siegel( rate=corp_usa,\tmaturity=corp_usa_maturity)\n",
    "head(corp_usa_ns)"
   ]
  },
  {
   "cell_type": "markdown",
   "metadata": {},
   "source": [
    "### ETF's de seguimiento de la economía colombiana (COLCAP) y estadounidense (SPX)"
   ]
  },
  {
   "cell_type": "code",
   "execution_count": 11,
   "metadata": {
    "vscode": {
     "languageId": "r"
    }
   },
   "outputs": [
    {
     "data": {
      "text/html": [
       "<table class=\"dataframe\">\n",
       "<caption>A data.frame: 6 × 2</caption>\n",
       "<thead>\n",
       "\t<tr><th></th><th scope=col>colcap</th><th scope=col>spx</th></tr>\n",
       "\t<tr><th></th><th scope=col>&lt;dbl&gt;</th><th scope=col>&lt;dbl&gt;</th></tr>\n",
       "</thead>\n",
       "<tbody>\n",
       "\t<tr><th scope=row>2009-10-13</th><td>1303.03</td><td>1073.19</td></tr>\n",
       "\t<tr><th scope=row>2009-10-14</th><td>1294.39</td><td>1092.02</td></tr>\n",
       "\t<tr><th scope=row>2009-10-15</th><td>1294.11</td><td>1096.56</td></tr>\n",
       "\t<tr><th scope=row>2009-10-16</th><td>1301.69</td><td>1087.68</td></tr>\n",
       "\t<tr><th scope=row>2009-10-19</th><td>1330.80</td><td>1097.91</td></tr>\n",
       "\t<tr><th scope=row>2009-10-20</th><td>1315.97</td><td>1091.06</td></tr>\n",
       "</tbody>\n",
       "</table>\n"
      ],
      "text/latex": [
       "A data.frame: 6 × 2\n",
       "\\begin{tabular}{r|ll}\n",
       "  & colcap & spx\\\\\n",
       "  & <dbl> & <dbl>\\\\\n",
       "\\hline\n",
       "\t2009-10-13 & 1303.03 & 1073.19\\\\\n",
       "\t2009-10-14 & 1294.39 & 1092.02\\\\\n",
       "\t2009-10-15 & 1294.11 & 1096.56\\\\\n",
       "\t2009-10-16 & 1301.69 & 1087.68\\\\\n",
       "\t2009-10-19 & 1330.80 & 1097.91\\\\\n",
       "\t2009-10-20 & 1315.97 & 1091.06\\\\\n",
       "\\end{tabular}\n"
      ],
      "text/markdown": [
       "\n",
       "A data.frame: 6 × 2\n",
       "\n",
       "| <!--/--> | colcap &lt;dbl&gt; | spx &lt;dbl&gt; |\n",
       "|---|---|---|\n",
       "| 2009-10-13 | 1303.03 | 1073.19 |\n",
       "| 2009-10-14 | 1294.39 | 1092.02 |\n",
       "| 2009-10-15 | 1294.11 | 1096.56 |\n",
       "| 2009-10-16 | 1301.69 | 1087.68 |\n",
       "| 2009-10-19 | 1330.80 | 1097.91 |\n",
       "| 2009-10-20 | 1315.97 | 1091.06 |\n",
       "\n"
      ],
      "text/plain": [
       "           colcap  spx    \n",
       "2009-10-13 1303.03 1073.19\n",
       "2009-10-14 1294.39 1092.02\n",
       "2009-10-15 1294.11 1096.56\n",
       "2009-10-16 1301.69 1087.68\n",
       "2009-10-19 1330.80 1097.91\n",
       "2009-10-20 1315.97 1091.06"
      ]
     },
     "metadata": {},
     "output_type": "display_data"
    }
   ],
   "source": [
    "index <- read_excel(path, sheet='Indices Accionarios',skip=7, col_names=c('Date','colcap','spx'))\n",
    "index <- as.data.frame(index)\n",
    "rownames(index) <- index$Date\n",
    "index <- index[,-c(1)]\n",
    "head(index)"
   ]
  },
  {
   "cell_type": "markdown",
   "metadata": {},
   "source": [
    "### Indice de Precios al consumidor"
   ]
  },
  {
   "cell_type": "code",
   "execution_count": 16,
   "metadata": {
    "vscode": {
     "languageId": "r"
    }
   },
   "outputs": [
    {
     "data": {
      "text/html": [
       "<table class=\"dataframe\">\n",
       "<caption>A data.frame: 6 × 2</caption>\n",
       "<thead>\n",
       "\t<tr><th></th><th scope=col>Date</th><th scope=col>ipc</th></tr>\n",
       "\t<tr><th></th><th scope=col>&lt;dttm&gt;</th><th scope=col>&lt;dbl&gt;</th></tr>\n",
       "</thead>\n",
       "<tbody>\n",
       "\t<tr><th scope=row>1</th><td>1954-07-31</td><td>0.02632</td></tr>\n",
       "\t<tr><th scope=row>2</th><td>1954-08-31</td><td>0.02612</td></tr>\n",
       "\t<tr><th scope=row>3</th><td>1954-09-30</td><td>0.02576</td></tr>\n",
       "\t<tr><th scope=row>4</th><td>1954-10-31</td><td>0.02585</td></tr>\n",
       "\t<tr><th scope=row>5</th><td>1954-11-30</td><td>0.02591</td></tr>\n",
       "\t<tr><th scope=row>6</th><td>1954-12-31</td><td>0.02605</td></tr>\n",
       "</tbody>\n",
       "</table>\n"
      ],
      "text/latex": [
       "A data.frame: 6 × 2\n",
       "\\begin{tabular}{r|ll}\n",
       "  & Date & ipc\\\\\n",
       "  & <dttm> & <dbl>\\\\\n",
       "\\hline\n",
       "\t1 & 1954-07-31 & 0.02632\\\\\n",
       "\t2 & 1954-08-31 & 0.02612\\\\\n",
       "\t3 & 1954-09-30 & 0.02576\\\\\n",
       "\t4 & 1954-10-31 & 0.02585\\\\\n",
       "\t5 & 1954-11-30 & 0.02591\\\\\n",
       "\t6 & 1954-12-31 & 0.02605\\\\\n",
       "\\end{tabular}\n"
      ],
      "text/markdown": [
       "\n",
       "A data.frame: 6 × 2\n",
       "\n",
       "| <!--/--> | Date &lt;dttm&gt; | ipc &lt;dbl&gt; |\n",
       "|---|---|---|\n",
       "| 1 | 1954-07-31 | 0.02632 |\n",
       "| 2 | 1954-08-31 | 0.02612 |\n",
       "| 3 | 1954-09-30 | 0.02576 |\n",
       "| 4 | 1954-10-31 | 0.02585 |\n",
       "| 5 | 1954-11-30 | 0.02591 |\n",
       "| 6 | 1954-12-31 | 0.02605 |\n",
       "\n"
      ],
      "text/plain": [
       "  Date       ipc    \n",
       "1 1954-07-31 0.02632\n",
       "2 1954-08-31 0.02612\n",
       "3 1954-09-30 0.02576\n",
       "4 1954-10-31 0.02585\n",
       "5 1954-11-30 0.02591\n",
       "6 1954-12-31 0.02605"
      ]
     },
     "metadata": {},
     "output_type": "display_data"
    }
   ],
   "source": [
    "ipc <- read_excel(path, sheet='IPC',skip=1, col_names=c('Date','ipc'))\n",
    "ipc <- as.data.frame(ipc)\n",
    "\n",
    "head(ipc)"
   ]
  },
  {
   "cell_type": "markdown",
   "metadata": {},
   "source": [
    "### Tasa de cambio"
   ]
  },
  {
   "cell_type": "code",
   "execution_count": 17,
   "metadata": {
    "vscode": {
     "languageId": "r"
    }
   },
   "outputs": [
    {
     "data": {
      "text/html": [
       "<table class=\"dataframe\">\n",
       "<caption>A data.frame: 6 × 2</caption>\n",
       "<thead>\n",
       "\t<tr><th></th><th scope=col>Date</th><th scope=col>trm</th></tr>\n",
       "\t<tr><th></th><th scope=col>&lt;dttm&gt;</th><th scope=col>&lt;dbl&gt;</th></tr>\n",
       "</thead>\n",
       "<tbody>\n",
       "\t<tr><th scope=row>1</th><td>1991-11-27</td><td>693.32</td></tr>\n",
       "\t<tr><th scope=row>2</th><td>1991-11-28</td><td>693.99</td></tr>\n",
       "\t<tr><th scope=row>3</th><td>1991-11-29</td><td>694.70</td></tr>\n",
       "\t<tr><th scope=row>4</th><td>1991-11-30</td><td>694.70</td></tr>\n",
       "\t<tr><th scope=row>5</th><td>1991-12-01</td><td>643.42</td></tr>\n",
       "\t<tr><th scope=row>6</th><td>1991-12-02</td><td>643.42</td></tr>\n",
       "</tbody>\n",
       "</table>\n"
      ],
      "text/latex": [
       "A data.frame: 6 × 2\n",
       "\\begin{tabular}{r|ll}\n",
       "  & Date & trm\\\\\n",
       "  & <dttm> & <dbl>\\\\\n",
       "\\hline\n",
       "\t1 & 1991-11-27 & 693.32\\\\\n",
       "\t2 & 1991-11-28 & 693.99\\\\\n",
       "\t3 & 1991-11-29 & 694.70\\\\\n",
       "\t4 & 1991-11-30 & 694.70\\\\\n",
       "\t5 & 1991-12-01 & 643.42\\\\\n",
       "\t6 & 1991-12-02 & 643.42\\\\\n",
       "\\end{tabular}\n"
      ],
      "text/markdown": [
       "\n",
       "A data.frame: 6 × 2\n",
       "\n",
       "| <!--/--> | Date &lt;dttm&gt; | trm &lt;dbl&gt; |\n",
       "|---|---|---|\n",
       "| 1 | 1991-11-27 | 693.32 |\n",
       "| 2 | 1991-11-28 | 693.99 |\n",
       "| 3 | 1991-11-29 | 694.70 |\n",
       "| 4 | 1991-11-30 | 694.70 |\n",
       "| 5 | 1991-12-01 | 643.42 |\n",
       "| 6 | 1991-12-02 | 643.42 |\n",
       "\n"
      ],
      "text/plain": [
       "  Date       trm   \n",
       "1 1991-11-27 693.32\n",
       "2 1991-11-28 693.99\n",
       "3 1991-11-29 694.70\n",
       "4 1991-11-30 694.70\n",
       "5 1991-12-01 643.42\n",
       "6 1991-12-02 643.42"
      ]
     },
     "metadata": {},
     "output_type": "display_data"
    }
   ],
   "source": [
    "trm <- read_excel(path, sheet='TRM',skip=1, col_names=c('Date','trm'))\n",
    "trm <- as.data.frame(trm)\n",
    "head(trm)"
   ]
  },
  {
   "cell_type": "markdown",
   "metadata": {},
   "source": [
    "## Simulaciones de proyección"
   ]
  }
 ],
 "metadata": {
  "interpreter": {
   "hash": "aa5dfc9bc22e8b9bd7d7586b99fc6c73114eec00d3f85e09b6fdc2730a892aa2"
  },
  "kernelspec": {
   "display_name": "R",
   "language": "R",
   "name": "ir"
  },
  "language_info": {
   "codemirror_mode": "r",
   "file_extension": ".r",
   "mimetype": "text/x-r-source",
   "name": "R",
   "pygments_lexer": "r",
   "version": "3.6.1"
  },
  "orig_nbformat": 4
 },
 "nbformat": 4,
 "nbformat_minor": 2
}
