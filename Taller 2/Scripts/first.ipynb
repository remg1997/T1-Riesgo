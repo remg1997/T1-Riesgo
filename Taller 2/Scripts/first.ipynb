{
 "cells": [
  {
   "cell_type": "markdown",
   "metadata": {
    "tags": []
   },
   "source": [
    "# Optimización del Activo\n",
    "## Import de paquetes y funciones"
   ]
  },
  {
   "cell_type": "code",
   "execution_count": 1,
   "metadata": {
    "vscode": {
     "languageId": "r"
    }
   },
   "outputs": [
    {
     "name": "stderr",
     "output_type": "stream",
     "text": [
      "Warning message:\n",
      "\"package 'readxl' was built under R version 3.6.3\"Warning message:\n",
      "\"package 'lubridate' was built under R version 3.6.3\"\n",
      "Attaching package: 'lubridate'\n",
      "\n",
      "The following objects are masked from 'package:base':\n",
      "\n",
      "    date, intersect, setdiff, union\n",
      "\n",
      "Warning message:\n",
      "\"package 'tidyr' was built under R version 3.6.3\"Warning message:\n",
      "\"package 'YieldCurve' was built under R version 3.6.3\"Loading required package: xts\n",
      "Loading required package: zoo\n",
      "Warning message:\n",
      "\"package 'zoo' was built under R version 3.6.3\"\n",
      "Attaching package: 'zoo'\n",
      "\n",
      "The following objects are masked from 'package:base':\n",
      "\n",
      "    as.Date, as.Date.numeric\n",
      "\n",
      "Registered S3 method overwritten by 'xts':\n",
      "  method     from\n",
      "  as.zoo.xts zoo \n",
      "Warning message:\n",
      "\"package 'dplyr' was built under R version 3.6.3\"\n",
      "Attaching package: 'dplyr'\n",
      "\n",
      "The following objects are masked from 'package:xts':\n",
      "\n",
      "    first, last\n",
      "\n",
      "The following objects are masked from 'package:stats':\n",
      "\n",
      "    filter, lag\n",
      "\n",
      "The following objects are masked from 'package:base':\n",
      "\n",
      "    intersect, setdiff, setequal, union\n",
      "\n"
     ]
    }
   ],
   "source": [
    "library(\"readxl\")\n",
    "library(\"lubridate\")\n",
    "library('tidyr')\n",
    "library('ggplot2')\n",
    "library('YieldCurve')\n",
    "library('dplyr')"
   ]
  },
  {
   "cell_type": "code",
   "execution_count": 2,
   "metadata": {
    "vscode": {
     "languageId": "r"
    }
   },
   "outputs": [
    {
     "data": {
      "text/html": [
       "<style>\n",
       ".list-inline {list-style: none; margin:0; padding: 0}\n",
       ".list-inline>li {display: inline-block}\n",
       ".list-inline>li:not(:last-child)::after {content: \"\\00b7\"; padding: 0 .5ex}\n",
       "</style>\n",
       "<ol class=list-inline><li>'.GlobalEnv'</li><li>'package:dplyr'</li><li>'package:YieldCurve'</li><li>'package:xts'</li><li>'package:zoo'</li><li>'package:ggplot2'</li><li>'package:tidyr'</li><li>'package:lubridate'</li><li>'package:readxl'</li><li>'jupyter:irkernel'</li><li>'jupyter:irkernel'</li><li>'package:stats'</li><li>'package:graphics'</li><li>'package:grDevices'</li><li>'package:utils'</li><li>'package:datasets'</li><li>'package:methods'</li><li>'Autoloads'</li><li>'package:base'</li></ol>\n"
      ],
      "text/latex": [
       "\\begin{enumerate*}\n",
       "\\item '.GlobalEnv'\n",
       "\\item 'package:dplyr'\n",
       "\\item 'package:YieldCurve'\n",
       "\\item 'package:xts'\n",
       "\\item 'package:zoo'\n",
       "\\item 'package:ggplot2'\n",
       "\\item 'package:tidyr'\n",
       "\\item 'package:lubridate'\n",
       "\\item 'package:readxl'\n",
       "\\item 'jupyter:irkernel'\n",
       "\\item 'jupyter:irkernel'\n",
       "\\item 'package:stats'\n",
       "\\item 'package:graphics'\n",
       "\\item 'package:grDevices'\n",
       "\\item 'package:utils'\n",
       "\\item 'package:datasets'\n",
       "\\item 'package:methods'\n",
       "\\item 'Autoloads'\n",
       "\\item 'package:base'\n",
       "\\end{enumerate*}\n"
      ],
      "text/markdown": [
       "1. '.GlobalEnv'\n",
       "2. 'package:dplyr'\n",
       "3. 'package:YieldCurve'\n",
       "4. 'package:xts'\n",
       "5. 'package:zoo'\n",
       "6. 'package:ggplot2'\n",
       "7. 'package:tidyr'\n",
       "8. 'package:lubridate'\n",
       "9. 'package:readxl'\n",
       "10. 'jupyter:irkernel'\n",
       "11. 'jupyter:irkernel'\n",
       "12. 'package:stats'\n",
       "13. 'package:graphics'\n",
       "14. 'package:grDevices'\n",
       "15. 'package:utils'\n",
       "16. 'package:datasets'\n",
       "17. 'package:methods'\n",
       "18. 'Autoloads'\n",
       "19. 'package:base'\n",
       "\n",
       "\n"
      ],
      "text/plain": [
       " [1] \".GlobalEnv\"         \"package:dplyr\"      \"package:YieldCurve\"\n",
       " [4] \"package:xts\"        \"package:zoo\"        \"package:ggplot2\"   \n",
       " [7] \"package:tidyr\"      \"package:lubridate\"  \"package:readxl\"    \n",
       "[10] \"jupyter:irkernel\"   \"jupyter:irkernel\"   \"package:stats\"     \n",
       "[13] \"package:graphics\"   \"package:grDevices\"  \"package:utils\"     \n",
       "[16] \"package:datasets\"   \"package:methods\"    \"Autoloads\"         \n",
       "[19] \"package:base\"      "
      ]
     },
     "metadata": {},
     "output_type": "display_data"
    }
   ],
   "source": [
    "search()"
   ]
  },
  {
   "cell_type": "code",
   "execution_count": 3,
   "metadata": {
    "vscode": {
     "languageId": "r"
    }
   },
   "outputs": [],
   "source": [
    "source(\"helpers.R\")"
   ]
  },
  {
   "cell_type": "markdown",
   "metadata": {
    "jp-MarkdownHeadingCollapsed": true,
    "tags": []
   },
   "source": [
    "## Simulación de personas"
   ]
  },
  {
   "cell_type": "code",
   "execution_count": 4,
   "metadata": {
    "vscode": {
     "languageId": "r"
    }
   },
   "outputs": [],
   "source": [
    "pathmort <- 'C:/Users/Diana C Contreras/OneDrive - Universidad de Los Andes/Riesgo Financiero/Talleres/T1-Riesgo/Taller 2/data/Mortality.xlsx'"
   ]
  },
  {
   "cell_type": "code",
   "execution_count": 5,
   "metadata": {
    "vscode": {
     "languageId": "r"
    }
   },
   "outputs": [
    {
     "data": {
      "text/html": [
       "<table class=\"dataframe\">\n",
       "<caption>A data.frame: 6 × 3</caption>\n",
       "<thead>\n",
       "\t<tr><th></th><th scope=col>age</th><th scope=col>q_m</th><th scope=col>q_f</th></tr>\n",
       "\t<tr><th></th><th scope=col>&lt;dbl&gt;</th><th scope=col>&lt;dbl&gt;</th><th scope=col>&lt;dbl&gt;</th></tr>\n",
       "</thead>\n",
       "<tbody>\n",
       "\t<tr><th scope=row>1</th><td>50</td><td>0.003353</td><td>0.001880</td></tr>\n",
       "\t<tr><th scope=row>2</th><td>51</td><td>0.003641</td><td>0.002042</td></tr>\n",
       "\t<tr><th scope=row>3</th><td>52</td><td>0.003956</td><td>0.002219</td></tr>\n",
       "\t<tr><th scope=row>4</th><td>53</td><td>0.004301</td><td>0.002412</td></tr>\n",
       "\t<tr><th scope=row>5</th><td>54</td><td>0.004681</td><td>0.002625</td></tr>\n",
       "\t<tr><th scope=row>6</th><td>55</td><td>0.005050</td><td>0.002833</td></tr>\n",
       "</tbody>\n",
       "</table>\n"
      ],
      "text/latex": [
       "A data.frame: 6 × 3\n",
       "\\begin{tabular}{r|lll}\n",
       "  & age & q\\_m & q\\_f\\\\\n",
       "  & <dbl> & <dbl> & <dbl>\\\\\n",
       "\\hline\n",
       "\t1 & 50 & 0.003353 & 0.001880\\\\\n",
       "\t2 & 51 & 0.003641 & 0.002042\\\\\n",
       "\t3 & 52 & 0.003956 & 0.002219\\\\\n",
       "\t4 & 53 & 0.004301 & 0.002412\\\\\n",
       "\t5 & 54 & 0.004681 & 0.002625\\\\\n",
       "\t6 & 55 & 0.005050 & 0.002833\\\\\n",
       "\\end{tabular}\n"
      ],
      "text/markdown": [
       "\n",
       "A data.frame: 6 × 3\n",
       "\n",
       "| <!--/--> | age &lt;dbl&gt; | q_m &lt;dbl&gt; | q_f &lt;dbl&gt; |\n",
       "|---|---|---|---|\n",
       "| 1 | 50 | 0.003353 | 0.001880 |\n",
       "| 2 | 51 | 0.003641 | 0.002042 |\n",
       "| 3 | 52 | 0.003956 | 0.002219 |\n",
       "| 4 | 53 | 0.004301 | 0.002412 |\n",
       "| 5 | 54 | 0.004681 | 0.002625 |\n",
       "| 6 | 55 | 0.005050 | 0.002833 |\n",
       "\n"
      ],
      "text/plain": [
       "  age q_m      q_f     \n",
       "1 50  0.003353 0.001880\n",
       "2 51  0.003641 0.002042\n",
       "3 52  0.003956 0.002219\n",
       "4 53  0.004301 0.002412\n",
       "5 54  0.004681 0.002625\n",
       "6 55  0.005050 0.002833"
      ]
     },
     "metadata": {},
     "output_type": "display_data"
    }
   ],
   "source": [
    "mortality <- read_excel(pathmort, sheet=1,skip=2, col_names=c('age','i_m','d_m','q_m','e_m','age_2','i_f','d_f','q_f','e_f'))\n",
    "mortality <- mortality[,c(1,4,9)]\n",
    "mortality <- data.frame(lapply(mortality, function(x) as.numeric(as.character(x))))\n",
    "head(mortality)"
   ]
  },
  {
   "cell_type": "code",
   "execution_count": 38,
   "metadata": {
    "vscode": {
     "languageId": "r"
    }
   },
   "outputs": [],
   "source": [
    "simulaciones <- function(future=60){\n",
    "    t_ages<- list()\n",
    "    for (i in 50:89){\n",
    "        m=7500\n",
    "        f=7500\n",
    "        t_l <- c(15000)\n",
    "        k <- i-1\n",
    "        for (j in 1:future){\n",
    "            s <- k+j\n",
    "            if (s<110){\n",
    "               p_m <- mortality[mortality$age==s,2]\n",
    "               p_f <- mortality[mortality$age==s,3]\n",
    "            }\n",
    "            else {\n",
    "               p_m <- 1\n",
    "               p_f <- 1\n",
    "            }\n",
    "            m <- sum(rbinom(m, size=1, prob= (1-p_m)))\n",
    "            f <- sum(rbinom(f, size=1, prob= (1-p_f)))\n",
    "            t_l <- c(t_l, (m+f) )\n",
    "        }\n",
    "    t_ages<- c(t_ages, t_l)\n",
    "    }\n",
    "    t_ages <- as.data.frame(matrix(t_ages, byrow=TRUE, nrow= length(c(50:89)) ))\n",
    "    t_ages <- data.frame(lapply(t_ages, function(x) as.numeric(as.character(x))))\n",
    "    t_sum <- colSums(t_ages)\n",
    "return(t_sum) \n",
    "}"
   ]
  },
  {
   "cell_type": "code",
   "execution_count": 23,
   "metadata": {},
   "outputs": [
    {
     "data": {
      "text/html": [
       "0.003641"
      ],
      "text/latex": [
       "0.003641"
      ],
      "text/markdown": [
       "0.003641"
      ],
      "text/plain": [
       "[1] 0.003641"
      ]
     },
     "metadata": {},
     "output_type": "display_data"
    }
   ],
   "source": [
    "mortality[mortality$age==51,2]"
   ]
  },
  {
   "cell_type": "code",
   "execution_count": 39,
   "metadata": {
    "vscode": {
     "languageId": "r"
    }
   },
   "outputs": [],
   "source": [
    "future <- 30\n",
    "sims <- data.frame(matrix(NA, nrow = 1000, ncol = (future+1)))\n",
    "for (i in 1:1000){\n",
    "    sims[i,] <- simulaciones(future)\n",
    "}\n"
   ]
  },
  {
   "cell_type": "code",
   "execution_count": 40,
   "metadata": {},
   "outputs": [
    {
     "data": {
      "text/html": [
       "<table class=\"dataframe\">\n",
       "<caption>A data.frame: 1000 × 31</caption>\n",
       "<thead>\n",
       "\t<tr><th scope=col>X1</th><th scope=col>X2</th><th scope=col>X3</th><th scope=col>X4</th><th scope=col>X5</th><th scope=col>X6</th><th scope=col>X7</th><th scope=col>X8</th><th scope=col>X9</th><th scope=col>X10</th><th scope=col>...</th><th scope=col>X22</th><th scope=col>X23</th><th scope=col>X24</th><th scope=col>X25</th><th scope=col>X26</th><th scope=col>X27</th><th scope=col>X28</th><th scope=col>X29</th><th scope=col>X30</th><th scope=col>X31</th></tr>\n",
       "\t<tr><th scope=col>&lt;dbl&gt;</th><th scope=col>&lt;dbl&gt;</th><th scope=col>&lt;dbl&gt;</th><th scope=col>&lt;dbl&gt;</th><th scope=col>&lt;dbl&gt;</th><th scope=col>&lt;dbl&gt;</th><th scope=col>&lt;dbl&gt;</th><th scope=col>&lt;dbl&gt;</th><th scope=col>&lt;dbl&gt;</th><th scope=col>&lt;dbl&gt;</th><th scope=col>...</th><th scope=col>&lt;dbl&gt;</th><th scope=col>&lt;dbl&gt;</th><th scope=col>&lt;dbl&gt;</th><th scope=col>&lt;dbl&gt;</th><th scope=col>&lt;dbl&gt;</th><th scope=col>&lt;dbl&gt;</th><th scope=col>&lt;dbl&gt;</th><th scope=col>&lt;dbl&gt;</th><th scope=col>&lt;dbl&gt;</th><th scope=col>&lt;dbl&gt;</th></tr>\n",
       "</thead>\n",
       "<tbody>\n",
       "\t<tr><td>6e+05</td><td>583656</td><td>566680</td><td>548964</td><td>530915</td><td>512597</td><td>493894</td><td>474947</td><td>455990</td><td>436708</td><td>...</td><td>228000</td><td>213406</td><td>199373</td><td>185737</td><td>172633</td><td>159779</td><td>147440</td><td>135248</td><td>123804</td><td>112810</td></tr>\n",
       "\t<tr><td>6e+05</td><td>583664</td><td>566734</td><td>549299</td><td>531424</td><td>513162</td><td>494365</td><td>475349</td><td>456091</td><td>436898</td><td>...</td><td>228122</td><td>213550</td><td>199456</td><td>185907</td><td>172522</td><td>159830</td><td>147355</td><td>135323</td><td>123820</td><td>112814</td></tr>\n",
       "\t<tr><td>6e+05</td><td>583829</td><td>566945</td><td>549234</td><td>531058</td><td>512716</td><td>493941</td><td>474953</td><td>455312</td><td>436267</td><td>...</td><td>227943</td><td>213285</td><td>199241</td><td>185779</td><td>172910</td><td>160110</td><td>147695</td><td>135871</td><td>124316</td><td>113171</td></tr>\n",
       "\t<tr><td>6e+05</td><td>583726</td><td>566924</td><td>549303</td><td>531231</td><td>512730</td><td>493955</td><td>474648</td><td>455380</td><td>436024</td><td>...</td><td>228097</td><td>213559</td><td>199544</td><td>185868</td><td>172730</td><td>159689</td><td>147471</td><td>135454</td><td>123774</td><td>112592</td></tr>\n",
       "\t<tr><td>6e+05</td><td>583794</td><td>566854</td><td>549166</td><td>531206</td><td>512760</td><td>494106</td><td>475218</td><td>456113</td><td>436858</td><td>...</td><td>228412</td><td>213876</td><td>199888</td><td>186192</td><td>172947</td><td>159961</td><td>147483</td><td>135651</td><td>124207</td><td>112928</td></tr>\n",
       "\t<tr><td>6e+05</td><td>583761</td><td>566678</td><td>549167</td><td>531082</td><td>512697</td><td>493904</td><td>474781</td><td>455759</td><td>436455</td><td>...</td><td>228414</td><td>213694</td><td>199652</td><td>185940</td><td>172670</td><td>159762</td><td>147429</td><td>135374</td><td>123968</td><td>112955</td></tr>\n",
       "\t<tr><td>6e+05</td><td>583717</td><td>566684</td><td>549086</td><td>531014</td><td>512460</td><td>493555</td><td>474478</td><td>455264</td><td>436145</td><td>...</td><td>228011</td><td>213460</td><td>199342</td><td>185665</td><td>172364</td><td>159424</td><td>147083</td><td>134998</td><td>123725</td><td>112632</td></tr>\n",
       "\t<tr><td>6e+05</td><td>583434</td><td>566508</td><td>549068</td><td>530946</td><td>512551</td><td>493693</td><td>474653</td><td>455396</td><td>436103</td><td>...</td><td>228444</td><td>214050</td><td>199977</td><td>186231</td><td>172899</td><td>160041</td><td>147551</td><td>135563</td><td>123882</td><td>112748</td></tr>\n",
       "\t<tr><td>6e+05</td><td>583987</td><td>567037</td><td>549456</td><td>530985</td><td>512656</td><td>493989</td><td>474644</td><td>455234</td><td>435976</td><td>...</td><td>228371</td><td>213761</td><td>199636</td><td>186076</td><td>172794</td><td>160005</td><td>147627</td><td>135732</td><td>124149</td><td>113068</td></tr>\n",
       "\t<tr><td>6e+05</td><td>583599</td><td>566678</td><td>549169</td><td>531106</td><td>512625</td><td>493809</td><td>474778</td><td>455633</td><td>436408</td><td>...</td><td>228041</td><td>213616</td><td>199598</td><td>185721</td><td>172572</td><td>159797</td><td>147413</td><td>135425</td><td>123797</td><td>112833</td></tr>\n",
       "\t<tr><td>6e+05</td><td>583737</td><td>566987</td><td>549507</td><td>531420</td><td>512941</td><td>494290</td><td>475460</td><td>456262</td><td>436678</td><td>...</td><td>228593</td><td>213964</td><td>199968</td><td>186381</td><td>172960</td><td>160199</td><td>147768</td><td>135758</td><td>124218</td><td>113156</td></tr>\n",
       "\t<tr><td>6e+05</td><td>583600</td><td>566561</td><td>549124</td><td>531133</td><td>512845</td><td>494037</td><td>474917</td><td>455484</td><td>436400</td><td>...</td><td>228009</td><td>213474</td><td>199465</td><td>185867</td><td>172621</td><td>160054</td><td>147737</td><td>135785</td><td>124293</td><td>113064</td></tr>\n",
       "\t<tr><td>6e+05</td><td>583731</td><td>566805</td><td>549197</td><td>531285</td><td>513000</td><td>494268</td><td>475306</td><td>455893</td><td>436502</td><td>...</td><td>228132</td><td>213411</td><td>199284</td><td>185555</td><td>172290</td><td>159461</td><td>147077</td><td>135000</td><td>123508</td><td>112589</td></tr>\n",
       "\t<tr><td>6e+05</td><td>583673</td><td>566667</td><td>548988</td><td>530972</td><td>512579</td><td>493604</td><td>474651</td><td>455742</td><td>436606</td><td>...</td><td>228580</td><td>213860</td><td>199808</td><td>186057</td><td>172863</td><td>159807</td><td>147351</td><td>135170</td><td>123686</td><td>112675</td></tr>\n",
       "\t<tr><td>6e+05</td><td>583554</td><td>566694</td><td>549252</td><td>531294</td><td>513094</td><td>494318</td><td>475241</td><td>456002</td><td>436820</td><td>...</td><td>228244</td><td>213528</td><td>199396</td><td>185639</td><td>172446</td><td>159563</td><td>147328</td><td>135378</td><td>123931</td><td>112956</td></tr>\n",
       "\t<tr><td>6e+05</td><td>583614</td><td>566593</td><td>548842</td><td>531034</td><td>512508</td><td>493793</td><td>475088</td><td>455868</td><td>436661</td><td>...</td><td>228259</td><td>213727</td><td>199647</td><td>186268</td><td>172906</td><td>160052</td><td>147753</td><td>135854</td><td>124358</td><td>113284</td></tr>\n",
       "\t<tr><td>6e+05</td><td>583631</td><td>566651</td><td>549108</td><td>531005</td><td>512492</td><td>494049</td><td>474793</td><td>455495</td><td>436381</td><td>...</td><td>228557</td><td>214019</td><td>199877</td><td>186175</td><td>172812</td><td>159879</td><td>147544</td><td>135570</td><td>124112</td><td>113025</td></tr>\n",
       "\t<tr><td>6e+05</td><td>583561</td><td>566492</td><td>548963</td><td>530958</td><td>512584</td><td>493812</td><td>474765</td><td>455635</td><td>436325</td><td>...</td><td>227994</td><td>213449</td><td>199215</td><td>185868</td><td>172746</td><td>159781</td><td>147327</td><td>135461</td><td>123721</td><td>112876</td></tr>\n",
       "\t<tr><td>6e+05</td><td>583688</td><td>566812</td><td>549267</td><td>531305</td><td>512878</td><td>494296</td><td>475076</td><td>455835</td><td>436823</td><td>...</td><td>227896</td><td>213494</td><td>199453</td><td>185704</td><td>172473</td><td>159649</td><td>147270</td><td>135302</td><td>123747</td><td>112649</td></tr>\n",
       "\t<tr><td>6e+05</td><td>583715</td><td>567024</td><td>549360</td><td>531095</td><td>512525</td><td>493956</td><td>474846</td><td>455762</td><td>436466</td><td>...</td><td>228389</td><td>213691</td><td>199505</td><td>185690</td><td>172233</td><td>159358</td><td>147235</td><td>135194</td><td>123756</td><td>112768</td></tr>\n",
       "\t<tr><td>6e+05</td><td>583755</td><td>566900</td><td>549263</td><td>531406</td><td>513009</td><td>494231</td><td>475254</td><td>455602</td><td>436251</td><td>...</td><td>228487</td><td>213908</td><td>199761</td><td>185953</td><td>172831</td><td>160076</td><td>147748</td><td>135788</td><td>124359</td><td>113222</td></tr>\n",
       "\t<tr><td>6e+05</td><td>583678</td><td>566930</td><td>549210</td><td>531330</td><td>512772</td><td>493983</td><td>475074</td><td>455580</td><td>436345</td><td>...</td><td>228095</td><td>213633</td><td>199419</td><td>185786</td><td>172479</td><td>159583</td><td>147162</td><td>135296</td><td>123850</td><td>112754</td></tr>\n",
       "\t<tr><td>6e+05</td><td>583720</td><td>566616</td><td>549287</td><td>531303</td><td>512700</td><td>493901</td><td>474941</td><td>455715</td><td>436555</td><td>...</td><td>228601</td><td>214077</td><td>199731</td><td>186019</td><td>172740</td><td>160199</td><td>147681</td><td>135811</td><td>124314</td><td>113173</td></tr>\n",
       "\t<tr><td>6e+05</td><td>583803</td><td>566839</td><td>549314</td><td>531472</td><td>513228</td><td>494210</td><td>474951</td><td>455620</td><td>436440</td><td>...</td><td>228163</td><td>213591</td><td>199816</td><td>185956</td><td>172549</td><td>159750</td><td>147575</td><td>135469</td><td>123822</td><td>112707</td></tr>\n",
       "\t<tr><td>6e+05</td><td>583739</td><td>567035</td><td>549602</td><td>531419</td><td>513187</td><td>494457</td><td>475463</td><td>456375</td><td>437059</td><td>...</td><td>228324</td><td>213812</td><td>199620</td><td>186196</td><td>172948</td><td>160114</td><td>147590</td><td>135719</td><td>124151</td><td>112861</td></tr>\n",
       "\t<tr><td>6e+05</td><td>583839</td><td>567065</td><td>549423</td><td>531452</td><td>513030</td><td>494111</td><td>475162</td><td>455879</td><td>436513</td><td>...</td><td>228168</td><td>213737</td><td>199714</td><td>185992</td><td>172669</td><td>159864</td><td>147506</td><td>135590</td><td>123975</td><td>113006</td></tr>\n",
       "\t<tr><td>6e+05</td><td>583661</td><td>566671</td><td>549093</td><td>531127</td><td>512909</td><td>493845</td><td>475205</td><td>455895</td><td>436413</td><td>...</td><td>228121</td><td>213697</td><td>199629</td><td>185889</td><td>172631</td><td>159800</td><td>147254</td><td>135229</td><td>123921</td><td>112863</td></tr>\n",
       "\t<tr><td>6e+05</td><td>583708</td><td>566768</td><td>549150</td><td>531345</td><td>512827</td><td>493878</td><td>474676</td><td>455506</td><td>436096</td><td>...</td><td>228482</td><td>213968</td><td>199905</td><td>186319</td><td>172898</td><td>160119</td><td>147863</td><td>136007</td><td>124593</td><td>113587</td></tr>\n",
       "\t<tr><td>6e+05</td><td>583709</td><td>566718</td><td>549098</td><td>531222</td><td>512817</td><td>494003</td><td>474976</td><td>455778</td><td>436876</td><td>...</td><td>228480</td><td>213977</td><td>199872</td><td>186323</td><td>172818</td><td>159718</td><td>147313</td><td>135302</td><td>123930</td><td>112985</td></tr>\n",
       "\t<tr><td>6e+05</td><td>583817</td><td>567004</td><td>549340</td><td>531255</td><td>512803</td><td>494059</td><td>475114</td><td>455813</td><td>436546</td><td>...</td><td>228434</td><td>213861</td><td>199879</td><td>186249</td><td>173077</td><td>160364</td><td>147806</td><td>135708</td><td>124202</td><td>113104</td></tr>\n",
       "\t<tr><td>...</td><td>...</td><td>...</td><td>...</td><td>...</td><td>...</td><td>...</td><td>...</td><td>...</td><td>...</td><td></td><td>...</td><td>...</td><td>...</td><td>...</td><td>...</td><td>...</td><td>...</td><td>...</td><td>...</td><td>...</td></tr>\n",
       "\t<tr><td>6e+05</td><td>583741</td><td>566768</td><td>549394</td><td>531354</td><td>513012</td><td>494100</td><td>475127</td><td>455931</td><td>436842</td><td>...</td><td>228536</td><td>213980</td><td>199904</td><td>186235</td><td>172998</td><td>159958</td><td>147609</td><td>135615</td><td>124035</td><td>112960</td></tr>\n",
       "\t<tr><td>6e+05</td><td>583676</td><td>566503</td><td>548960</td><td>531008</td><td>512911</td><td>494222</td><td>475078</td><td>455666</td><td>436585</td><td>...</td><td>228276</td><td>213607</td><td>199638</td><td>185970</td><td>172350</td><td>159590</td><td>147156</td><td>135206</td><td>123601</td><td>112658</td></tr>\n",
       "\t<tr><td>6e+05</td><td>583703</td><td>566883</td><td>549403</td><td>531489</td><td>513140</td><td>494344</td><td>475180</td><td>455901</td><td>436626</td><td>...</td><td>228547</td><td>214084</td><td>199954</td><td>186375</td><td>173119</td><td>160307</td><td>148035</td><td>136166</td><td>124475</td><td>113310</td></tr>\n",
       "\t<tr><td>6e+05</td><td>583786</td><td>566711</td><td>549036</td><td>531107</td><td>512759</td><td>494070</td><td>475279</td><td>455904</td><td>436652</td><td>...</td><td>227880</td><td>213586</td><td>199660</td><td>186001</td><td>172849</td><td>159948</td><td>147419</td><td>135438</td><td>123816</td><td>112749</td></tr>\n",
       "\t<tr><td>6e+05</td><td>583694</td><td>566575</td><td>549119</td><td>531284</td><td>512898</td><td>494052</td><td>475040</td><td>455700</td><td>436573</td><td>...</td><td>228623</td><td>214114</td><td>199981</td><td>186280</td><td>173180</td><td>160179</td><td>147831</td><td>135976</td><td>124303</td><td>113275</td></tr>\n",
       "\t<tr><td>6e+05</td><td>583696</td><td>566617</td><td>549185</td><td>531122</td><td>512976</td><td>494300</td><td>475242</td><td>455985</td><td>436616</td><td>...</td><td>228238</td><td>213899</td><td>199945</td><td>186234</td><td>172908</td><td>160048</td><td>147713</td><td>135783</td><td>124069</td><td>112991</td></tr>\n",
       "\t<tr><td>6e+05</td><td>583763</td><td>566667</td><td>549079</td><td>531286</td><td>512855</td><td>493879</td><td>474858</td><td>455640</td><td>436371</td><td>...</td><td>228617</td><td>213920</td><td>199809</td><td>186024</td><td>172581</td><td>159758</td><td>147336</td><td>135317</td><td>123748</td><td>112723</td></tr>\n",
       "\t<tr><td>6e+05</td><td>583692</td><td>566823</td><td>549184</td><td>531294</td><td>512997</td><td>494222</td><td>475146</td><td>455817</td><td>436562</td><td>...</td><td>228840</td><td>214336</td><td>200137</td><td>186191</td><td>173045</td><td>160151</td><td>147810</td><td>135725</td><td>124126</td><td>113058</td></tr>\n",
       "\t<tr><td>6e+05</td><td>583620</td><td>566694</td><td>549255</td><td>531235</td><td>512868</td><td>494031</td><td>474991</td><td>455761</td><td>436480</td><td>...</td><td>227917</td><td>213242</td><td>198986</td><td>185071</td><td>172006</td><td>159137</td><td>146727</td><td>134679</td><td>123243</td><td>112283</td></tr>\n",
       "\t<tr><td>6e+05</td><td>583600</td><td>566650</td><td>549022</td><td>531020</td><td>512747</td><td>494072</td><td>474966</td><td>455299</td><td>436009</td><td>...</td><td>228064</td><td>213373</td><td>199302</td><td>185749</td><td>172550</td><td>159738</td><td>147153</td><td>135211</td><td>123871</td><td>112714</td></tr>\n",
       "\t<tr><td>6e+05</td><td>583720</td><td>566618</td><td>549115</td><td>531007</td><td>512545</td><td>493824</td><td>474905</td><td>455763</td><td>436622</td><td>...</td><td>228143</td><td>213705</td><td>199623</td><td>185949</td><td>172579</td><td>159692</td><td>147246</td><td>135242</td><td>123680</td><td>112348</td></tr>\n",
       "\t<tr><td>6e+05</td><td>583794</td><td>566772</td><td>549219</td><td>531091</td><td>512784</td><td>494040</td><td>475121</td><td>456023</td><td>436844</td><td>...</td><td>228507</td><td>214013</td><td>200006</td><td>186240</td><td>172762</td><td>159920</td><td>147315</td><td>135296</td><td>123597</td><td>112571</td></tr>\n",
       "\t<tr><td>6e+05</td><td>583788</td><td>566771</td><td>549370</td><td>531340</td><td>512885</td><td>493869</td><td>474798</td><td>455496</td><td>436175</td><td>...</td><td>228279</td><td>213676</td><td>199673</td><td>185748</td><td>172598</td><td>159801</td><td>147489</td><td>135475</td><td>124072</td><td>113075</td></tr>\n",
       "\t<tr><td>6e+05</td><td>583645</td><td>566790</td><td>549226</td><td>531424</td><td>512973</td><td>494136</td><td>475077</td><td>455815</td><td>436548</td><td>...</td><td>228254</td><td>213898</td><td>199563</td><td>185662</td><td>172598</td><td>159843</td><td>147385</td><td>135500</td><td>124159</td><td>113136</td></tr>\n",
       "\t<tr><td>6e+05</td><td>583326</td><td>566221</td><td>548824</td><td>530793</td><td>512267</td><td>493752</td><td>474982</td><td>455535</td><td>436523</td><td>...</td><td>228476</td><td>213835</td><td>199687</td><td>186071</td><td>172587</td><td>159607</td><td>147117</td><td>135051</td><td>123682</td><td>112663</td></tr>\n",
       "\t<tr><td>6e+05</td><td>583800</td><td>567073</td><td>549413</td><td>531321</td><td>512645</td><td>494129</td><td>474921</td><td>455857</td><td>436504</td><td>...</td><td>228357</td><td>213828</td><td>199727</td><td>186057</td><td>172764</td><td>160047</td><td>147620</td><td>135794</td><td>124396</td><td>113189</td></tr>\n",
       "\t<tr><td>6e+05</td><td>583858</td><td>566806</td><td>549186</td><td>531039</td><td>512673</td><td>493893</td><td>475065</td><td>455729</td><td>436710</td><td>...</td><td>228451</td><td>214061</td><td>199746</td><td>185994</td><td>172666</td><td>159901</td><td>147678</td><td>135754</td><td>124237</td><td>113231</td></tr>\n",
       "\t<tr><td>6e+05</td><td>583560</td><td>566657</td><td>549186</td><td>531182</td><td>512513</td><td>493463</td><td>474655</td><td>455413</td><td>436088</td><td>...</td><td>228084</td><td>213740</td><td>199569</td><td>185967</td><td>172727</td><td>159966</td><td>147613</td><td>135753</td><td>124413</td><td>113501</td></tr>\n",
       "\t<tr><td>6e+05</td><td>583402</td><td>566491</td><td>548875</td><td>530944</td><td>512611</td><td>494111</td><td>475326</td><td>456040</td><td>437015</td><td>...</td><td>228270</td><td>213643</td><td>199320</td><td>185659</td><td>172545</td><td>159838</td><td>147638</td><td>135854</td><td>124182</td><td>113072</td></tr>\n",
       "\t<tr><td>6e+05</td><td>583614</td><td>566478</td><td>549045</td><td>531146</td><td>512632</td><td>493743</td><td>474796</td><td>455710</td><td>436382</td><td>...</td><td>228268</td><td>213594</td><td>199652</td><td>185777</td><td>172530</td><td>159688</td><td>147325</td><td>135498</td><td>123898</td><td>112994</td></tr>\n",
       "\t<tr><td>6e+05</td><td>583653</td><td>566747</td><td>549419</td><td>531441</td><td>512877</td><td>493817</td><td>474744</td><td>455829</td><td>436448</td><td>...</td><td>228387</td><td>214017</td><td>199818</td><td>186078</td><td>173047</td><td>160300</td><td>147962</td><td>135802</td><td>124183</td><td>113257</td></tr>\n",
       "\t<tr><td>6e+05</td><td>583756</td><td>566740</td><td>549332</td><td>531437</td><td>512939</td><td>494093</td><td>475213</td><td>456192</td><td>437006</td><td>...</td><td>228384</td><td>213604</td><td>199170</td><td>185479</td><td>172280</td><td>159397</td><td>146983</td><td>135177</td><td>123689</td><td>112935</td></tr>\n",
       "\t<tr><td>6e+05</td><td>583640</td><td>566613</td><td>549044</td><td>531087</td><td>512761</td><td>494052</td><td>475115</td><td>455961</td><td>436798</td><td>...</td><td>228703</td><td>214212</td><td>200057</td><td>186354</td><td>173155</td><td>160334</td><td>147877</td><td>135867</td><td>124357</td><td>113372</td></tr>\n",
       "\t<tr><td>6e+05</td><td>583799</td><td>566583</td><td>549172</td><td>530969</td><td>512430</td><td>494025</td><td>474886</td><td>455809</td><td>436391</td><td>...</td><td>228290</td><td>213610</td><td>199534</td><td>185855</td><td>172635</td><td>159811</td><td>147390</td><td>135569</td><td>123936</td><td>112903</td></tr>\n",
       "\t<tr><td>6e+05</td><td>583626</td><td>566613</td><td>549274</td><td>531268</td><td>512739</td><td>493993</td><td>474833</td><td>455500</td><td>436095</td><td>...</td><td>227625</td><td>213192</td><td>199159</td><td>185624</td><td>172306</td><td>159666</td><td>147162</td><td>135167</td><td>123770</td><td>112588</td></tr>\n",
       "\t<tr><td>6e+05</td><td>583628</td><td>566573</td><td>549160</td><td>531578</td><td>513230</td><td>494200</td><td>475232</td><td>456157</td><td>437113</td><td>...</td><td>229292</td><td>214761</td><td>200521</td><td>186677</td><td>173314</td><td>160321</td><td>147841</td><td>135853</td><td>124254</td><td>113268</td></tr>\n",
       "\t<tr><td>6e+05</td><td>583734</td><td>566777</td><td>549316</td><td>531252</td><td>513098</td><td>494293</td><td>474890</td><td>455621</td><td>436201</td><td>...</td><td>228806</td><td>214304</td><td>200115</td><td>186402</td><td>173103</td><td>160210</td><td>147777</td><td>135728</td><td>124244</td><td>113184</td></tr>\n",
       "\t<tr><td>6e+05</td><td>583553</td><td>566605</td><td>549111</td><td>530857</td><td>512463</td><td>493687</td><td>474678</td><td>455562</td><td>436199</td><td>...</td><td>228694</td><td>214215</td><td>199931</td><td>186239</td><td>172972</td><td>160178</td><td>147720</td><td>135820</td><td>124347</td><td>113268</td></tr>\n",
       "\t<tr><td>6e+05</td><td>583954</td><td>567136</td><td>549582</td><td>531475</td><td>513074</td><td>494378</td><td>475226</td><td>456128</td><td>436976</td><td>...</td><td>229110</td><td>214639</td><td>200538</td><td>186508</td><td>173262</td><td>160469</td><td>148025</td><td>135897</td><td>124471</td><td>113464</td></tr>\n",
       "\t<tr><td>6e+05</td><td>583620</td><td>566804</td><td>549239</td><td>531321</td><td>512720</td><td>493821</td><td>474900</td><td>456018</td><td>437061</td><td>...</td><td>228312</td><td>213810</td><td>199687</td><td>185917</td><td>172914</td><td>160141</td><td>147597</td><td>135614</td><td>124002</td><td>113074</td></tr>\n",
       "</tbody>\n",
       "</table>\n"
      ],
      "text/latex": [
       "A data.frame: 1000 × 31\n",
       "\\begin{tabular}{lllllllllllllllllllll}\n",
       " X1 & X2 & X3 & X4 & X5 & X6 & X7 & X8 & X9 & X10 & ... & X22 & X23 & X24 & X25 & X26 & X27 & X28 & X29 & X30 & X31\\\\\n",
       " <dbl> & <dbl> & <dbl> & <dbl> & <dbl> & <dbl> & <dbl> & <dbl> & <dbl> & <dbl> & ... & <dbl> & <dbl> & <dbl> & <dbl> & <dbl> & <dbl> & <dbl> & <dbl> & <dbl> & <dbl>\\\\\n",
       "\\hline\n",
       "\t 6e+05 & 583656 & 566680 & 548964 & 530915 & 512597 & 493894 & 474947 & 455990 & 436708 & ... & 228000 & 213406 & 199373 & 185737 & 172633 & 159779 & 147440 & 135248 & 123804 & 112810\\\\\n",
       "\t 6e+05 & 583664 & 566734 & 549299 & 531424 & 513162 & 494365 & 475349 & 456091 & 436898 & ... & 228122 & 213550 & 199456 & 185907 & 172522 & 159830 & 147355 & 135323 & 123820 & 112814\\\\\n",
       "\t 6e+05 & 583829 & 566945 & 549234 & 531058 & 512716 & 493941 & 474953 & 455312 & 436267 & ... & 227943 & 213285 & 199241 & 185779 & 172910 & 160110 & 147695 & 135871 & 124316 & 113171\\\\\n",
       "\t 6e+05 & 583726 & 566924 & 549303 & 531231 & 512730 & 493955 & 474648 & 455380 & 436024 & ... & 228097 & 213559 & 199544 & 185868 & 172730 & 159689 & 147471 & 135454 & 123774 & 112592\\\\\n",
       "\t 6e+05 & 583794 & 566854 & 549166 & 531206 & 512760 & 494106 & 475218 & 456113 & 436858 & ... & 228412 & 213876 & 199888 & 186192 & 172947 & 159961 & 147483 & 135651 & 124207 & 112928\\\\\n",
       "\t 6e+05 & 583761 & 566678 & 549167 & 531082 & 512697 & 493904 & 474781 & 455759 & 436455 & ... & 228414 & 213694 & 199652 & 185940 & 172670 & 159762 & 147429 & 135374 & 123968 & 112955\\\\\n",
       "\t 6e+05 & 583717 & 566684 & 549086 & 531014 & 512460 & 493555 & 474478 & 455264 & 436145 & ... & 228011 & 213460 & 199342 & 185665 & 172364 & 159424 & 147083 & 134998 & 123725 & 112632\\\\\n",
       "\t 6e+05 & 583434 & 566508 & 549068 & 530946 & 512551 & 493693 & 474653 & 455396 & 436103 & ... & 228444 & 214050 & 199977 & 186231 & 172899 & 160041 & 147551 & 135563 & 123882 & 112748\\\\\n",
       "\t 6e+05 & 583987 & 567037 & 549456 & 530985 & 512656 & 493989 & 474644 & 455234 & 435976 & ... & 228371 & 213761 & 199636 & 186076 & 172794 & 160005 & 147627 & 135732 & 124149 & 113068\\\\\n",
       "\t 6e+05 & 583599 & 566678 & 549169 & 531106 & 512625 & 493809 & 474778 & 455633 & 436408 & ... & 228041 & 213616 & 199598 & 185721 & 172572 & 159797 & 147413 & 135425 & 123797 & 112833\\\\\n",
       "\t 6e+05 & 583737 & 566987 & 549507 & 531420 & 512941 & 494290 & 475460 & 456262 & 436678 & ... & 228593 & 213964 & 199968 & 186381 & 172960 & 160199 & 147768 & 135758 & 124218 & 113156\\\\\n",
       "\t 6e+05 & 583600 & 566561 & 549124 & 531133 & 512845 & 494037 & 474917 & 455484 & 436400 & ... & 228009 & 213474 & 199465 & 185867 & 172621 & 160054 & 147737 & 135785 & 124293 & 113064\\\\\n",
       "\t 6e+05 & 583731 & 566805 & 549197 & 531285 & 513000 & 494268 & 475306 & 455893 & 436502 & ... & 228132 & 213411 & 199284 & 185555 & 172290 & 159461 & 147077 & 135000 & 123508 & 112589\\\\\n",
       "\t 6e+05 & 583673 & 566667 & 548988 & 530972 & 512579 & 493604 & 474651 & 455742 & 436606 & ... & 228580 & 213860 & 199808 & 186057 & 172863 & 159807 & 147351 & 135170 & 123686 & 112675\\\\\n",
       "\t 6e+05 & 583554 & 566694 & 549252 & 531294 & 513094 & 494318 & 475241 & 456002 & 436820 & ... & 228244 & 213528 & 199396 & 185639 & 172446 & 159563 & 147328 & 135378 & 123931 & 112956\\\\\n",
       "\t 6e+05 & 583614 & 566593 & 548842 & 531034 & 512508 & 493793 & 475088 & 455868 & 436661 & ... & 228259 & 213727 & 199647 & 186268 & 172906 & 160052 & 147753 & 135854 & 124358 & 113284\\\\\n",
       "\t 6e+05 & 583631 & 566651 & 549108 & 531005 & 512492 & 494049 & 474793 & 455495 & 436381 & ... & 228557 & 214019 & 199877 & 186175 & 172812 & 159879 & 147544 & 135570 & 124112 & 113025\\\\\n",
       "\t 6e+05 & 583561 & 566492 & 548963 & 530958 & 512584 & 493812 & 474765 & 455635 & 436325 & ... & 227994 & 213449 & 199215 & 185868 & 172746 & 159781 & 147327 & 135461 & 123721 & 112876\\\\\n",
       "\t 6e+05 & 583688 & 566812 & 549267 & 531305 & 512878 & 494296 & 475076 & 455835 & 436823 & ... & 227896 & 213494 & 199453 & 185704 & 172473 & 159649 & 147270 & 135302 & 123747 & 112649\\\\\n",
       "\t 6e+05 & 583715 & 567024 & 549360 & 531095 & 512525 & 493956 & 474846 & 455762 & 436466 & ... & 228389 & 213691 & 199505 & 185690 & 172233 & 159358 & 147235 & 135194 & 123756 & 112768\\\\\n",
       "\t 6e+05 & 583755 & 566900 & 549263 & 531406 & 513009 & 494231 & 475254 & 455602 & 436251 & ... & 228487 & 213908 & 199761 & 185953 & 172831 & 160076 & 147748 & 135788 & 124359 & 113222\\\\\n",
       "\t 6e+05 & 583678 & 566930 & 549210 & 531330 & 512772 & 493983 & 475074 & 455580 & 436345 & ... & 228095 & 213633 & 199419 & 185786 & 172479 & 159583 & 147162 & 135296 & 123850 & 112754\\\\\n",
       "\t 6e+05 & 583720 & 566616 & 549287 & 531303 & 512700 & 493901 & 474941 & 455715 & 436555 & ... & 228601 & 214077 & 199731 & 186019 & 172740 & 160199 & 147681 & 135811 & 124314 & 113173\\\\\n",
       "\t 6e+05 & 583803 & 566839 & 549314 & 531472 & 513228 & 494210 & 474951 & 455620 & 436440 & ... & 228163 & 213591 & 199816 & 185956 & 172549 & 159750 & 147575 & 135469 & 123822 & 112707\\\\\n",
       "\t 6e+05 & 583739 & 567035 & 549602 & 531419 & 513187 & 494457 & 475463 & 456375 & 437059 & ... & 228324 & 213812 & 199620 & 186196 & 172948 & 160114 & 147590 & 135719 & 124151 & 112861\\\\\n",
       "\t 6e+05 & 583839 & 567065 & 549423 & 531452 & 513030 & 494111 & 475162 & 455879 & 436513 & ... & 228168 & 213737 & 199714 & 185992 & 172669 & 159864 & 147506 & 135590 & 123975 & 113006\\\\\n",
       "\t 6e+05 & 583661 & 566671 & 549093 & 531127 & 512909 & 493845 & 475205 & 455895 & 436413 & ... & 228121 & 213697 & 199629 & 185889 & 172631 & 159800 & 147254 & 135229 & 123921 & 112863\\\\\n",
       "\t 6e+05 & 583708 & 566768 & 549150 & 531345 & 512827 & 493878 & 474676 & 455506 & 436096 & ... & 228482 & 213968 & 199905 & 186319 & 172898 & 160119 & 147863 & 136007 & 124593 & 113587\\\\\n",
       "\t 6e+05 & 583709 & 566718 & 549098 & 531222 & 512817 & 494003 & 474976 & 455778 & 436876 & ... & 228480 & 213977 & 199872 & 186323 & 172818 & 159718 & 147313 & 135302 & 123930 & 112985\\\\\n",
       "\t 6e+05 & 583817 & 567004 & 549340 & 531255 & 512803 & 494059 & 475114 & 455813 & 436546 & ... & 228434 & 213861 & 199879 & 186249 & 173077 & 160364 & 147806 & 135708 & 124202 & 113104\\\\\n",
       "\t ... & ... & ... & ... & ... & ... & ... & ... & ... & ... &  & ... & ... & ... & ... & ... & ... & ... & ... & ... & ...\\\\\n",
       "\t 6e+05 & 583741 & 566768 & 549394 & 531354 & 513012 & 494100 & 475127 & 455931 & 436842 & ... & 228536 & 213980 & 199904 & 186235 & 172998 & 159958 & 147609 & 135615 & 124035 & 112960\\\\\n",
       "\t 6e+05 & 583676 & 566503 & 548960 & 531008 & 512911 & 494222 & 475078 & 455666 & 436585 & ... & 228276 & 213607 & 199638 & 185970 & 172350 & 159590 & 147156 & 135206 & 123601 & 112658\\\\\n",
       "\t 6e+05 & 583703 & 566883 & 549403 & 531489 & 513140 & 494344 & 475180 & 455901 & 436626 & ... & 228547 & 214084 & 199954 & 186375 & 173119 & 160307 & 148035 & 136166 & 124475 & 113310\\\\\n",
       "\t 6e+05 & 583786 & 566711 & 549036 & 531107 & 512759 & 494070 & 475279 & 455904 & 436652 & ... & 227880 & 213586 & 199660 & 186001 & 172849 & 159948 & 147419 & 135438 & 123816 & 112749\\\\\n",
       "\t 6e+05 & 583694 & 566575 & 549119 & 531284 & 512898 & 494052 & 475040 & 455700 & 436573 & ... & 228623 & 214114 & 199981 & 186280 & 173180 & 160179 & 147831 & 135976 & 124303 & 113275\\\\\n",
       "\t 6e+05 & 583696 & 566617 & 549185 & 531122 & 512976 & 494300 & 475242 & 455985 & 436616 & ... & 228238 & 213899 & 199945 & 186234 & 172908 & 160048 & 147713 & 135783 & 124069 & 112991\\\\\n",
       "\t 6e+05 & 583763 & 566667 & 549079 & 531286 & 512855 & 493879 & 474858 & 455640 & 436371 & ... & 228617 & 213920 & 199809 & 186024 & 172581 & 159758 & 147336 & 135317 & 123748 & 112723\\\\\n",
       "\t 6e+05 & 583692 & 566823 & 549184 & 531294 & 512997 & 494222 & 475146 & 455817 & 436562 & ... & 228840 & 214336 & 200137 & 186191 & 173045 & 160151 & 147810 & 135725 & 124126 & 113058\\\\\n",
       "\t 6e+05 & 583620 & 566694 & 549255 & 531235 & 512868 & 494031 & 474991 & 455761 & 436480 & ... & 227917 & 213242 & 198986 & 185071 & 172006 & 159137 & 146727 & 134679 & 123243 & 112283\\\\\n",
       "\t 6e+05 & 583600 & 566650 & 549022 & 531020 & 512747 & 494072 & 474966 & 455299 & 436009 & ... & 228064 & 213373 & 199302 & 185749 & 172550 & 159738 & 147153 & 135211 & 123871 & 112714\\\\\n",
       "\t 6e+05 & 583720 & 566618 & 549115 & 531007 & 512545 & 493824 & 474905 & 455763 & 436622 & ... & 228143 & 213705 & 199623 & 185949 & 172579 & 159692 & 147246 & 135242 & 123680 & 112348\\\\\n",
       "\t 6e+05 & 583794 & 566772 & 549219 & 531091 & 512784 & 494040 & 475121 & 456023 & 436844 & ... & 228507 & 214013 & 200006 & 186240 & 172762 & 159920 & 147315 & 135296 & 123597 & 112571\\\\\n",
       "\t 6e+05 & 583788 & 566771 & 549370 & 531340 & 512885 & 493869 & 474798 & 455496 & 436175 & ... & 228279 & 213676 & 199673 & 185748 & 172598 & 159801 & 147489 & 135475 & 124072 & 113075\\\\\n",
       "\t 6e+05 & 583645 & 566790 & 549226 & 531424 & 512973 & 494136 & 475077 & 455815 & 436548 & ... & 228254 & 213898 & 199563 & 185662 & 172598 & 159843 & 147385 & 135500 & 124159 & 113136\\\\\n",
       "\t 6e+05 & 583326 & 566221 & 548824 & 530793 & 512267 & 493752 & 474982 & 455535 & 436523 & ... & 228476 & 213835 & 199687 & 186071 & 172587 & 159607 & 147117 & 135051 & 123682 & 112663\\\\\n",
       "\t 6e+05 & 583800 & 567073 & 549413 & 531321 & 512645 & 494129 & 474921 & 455857 & 436504 & ... & 228357 & 213828 & 199727 & 186057 & 172764 & 160047 & 147620 & 135794 & 124396 & 113189\\\\\n",
       "\t 6e+05 & 583858 & 566806 & 549186 & 531039 & 512673 & 493893 & 475065 & 455729 & 436710 & ... & 228451 & 214061 & 199746 & 185994 & 172666 & 159901 & 147678 & 135754 & 124237 & 113231\\\\\n",
       "\t 6e+05 & 583560 & 566657 & 549186 & 531182 & 512513 & 493463 & 474655 & 455413 & 436088 & ... & 228084 & 213740 & 199569 & 185967 & 172727 & 159966 & 147613 & 135753 & 124413 & 113501\\\\\n",
       "\t 6e+05 & 583402 & 566491 & 548875 & 530944 & 512611 & 494111 & 475326 & 456040 & 437015 & ... & 228270 & 213643 & 199320 & 185659 & 172545 & 159838 & 147638 & 135854 & 124182 & 113072\\\\\n",
       "\t 6e+05 & 583614 & 566478 & 549045 & 531146 & 512632 & 493743 & 474796 & 455710 & 436382 & ... & 228268 & 213594 & 199652 & 185777 & 172530 & 159688 & 147325 & 135498 & 123898 & 112994\\\\\n",
       "\t 6e+05 & 583653 & 566747 & 549419 & 531441 & 512877 & 493817 & 474744 & 455829 & 436448 & ... & 228387 & 214017 & 199818 & 186078 & 173047 & 160300 & 147962 & 135802 & 124183 & 113257\\\\\n",
       "\t 6e+05 & 583756 & 566740 & 549332 & 531437 & 512939 & 494093 & 475213 & 456192 & 437006 & ... & 228384 & 213604 & 199170 & 185479 & 172280 & 159397 & 146983 & 135177 & 123689 & 112935\\\\\n",
       "\t 6e+05 & 583640 & 566613 & 549044 & 531087 & 512761 & 494052 & 475115 & 455961 & 436798 & ... & 228703 & 214212 & 200057 & 186354 & 173155 & 160334 & 147877 & 135867 & 124357 & 113372\\\\\n",
       "\t 6e+05 & 583799 & 566583 & 549172 & 530969 & 512430 & 494025 & 474886 & 455809 & 436391 & ... & 228290 & 213610 & 199534 & 185855 & 172635 & 159811 & 147390 & 135569 & 123936 & 112903\\\\\n",
       "\t 6e+05 & 583626 & 566613 & 549274 & 531268 & 512739 & 493993 & 474833 & 455500 & 436095 & ... & 227625 & 213192 & 199159 & 185624 & 172306 & 159666 & 147162 & 135167 & 123770 & 112588\\\\\n",
       "\t 6e+05 & 583628 & 566573 & 549160 & 531578 & 513230 & 494200 & 475232 & 456157 & 437113 & ... & 229292 & 214761 & 200521 & 186677 & 173314 & 160321 & 147841 & 135853 & 124254 & 113268\\\\\n",
       "\t 6e+05 & 583734 & 566777 & 549316 & 531252 & 513098 & 494293 & 474890 & 455621 & 436201 & ... & 228806 & 214304 & 200115 & 186402 & 173103 & 160210 & 147777 & 135728 & 124244 & 113184\\\\\n",
       "\t 6e+05 & 583553 & 566605 & 549111 & 530857 & 512463 & 493687 & 474678 & 455562 & 436199 & ... & 228694 & 214215 & 199931 & 186239 & 172972 & 160178 & 147720 & 135820 & 124347 & 113268\\\\\n",
       "\t 6e+05 & 583954 & 567136 & 549582 & 531475 & 513074 & 494378 & 475226 & 456128 & 436976 & ... & 229110 & 214639 & 200538 & 186508 & 173262 & 160469 & 148025 & 135897 & 124471 & 113464\\\\\n",
       "\t 6e+05 & 583620 & 566804 & 549239 & 531321 & 512720 & 493821 & 474900 & 456018 & 437061 & ... & 228312 & 213810 & 199687 & 185917 & 172914 & 160141 & 147597 & 135614 & 124002 & 113074\\\\\n",
       "\\end{tabular}\n"
      ],
      "text/markdown": [
       "\n",
       "A data.frame: 1000 × 31\n",
       "\n",
       "| X1 &lt;dbl&gt; | X2 &lt;dbl&gt; | X3 &lt;dbl&gt; | X4 &lt;dbl&gt; | X5 &lt;dbl&gt; | X6 &lt;dbl&gt; | X7 &lt;dbl&gt; | X8 &lt;dbl&gt; | X9 &lt;dbl&gt; | X10 &lt;dbl&gt; | ... ... | X22 &lt;dbl&gt; | X23 &lt;dbl&gt; | X24 &lt;dbl&gt; | X25 &lt;dbl&gt; | X26 &lt;dbl&gt; | X27 &lt;dbl&gt; | X28 &lt;dbl&gt; | X29 &lt;dbl&gt; | X30 &lt;dbl&gt; | X31 &lt;dbl&gt; |\n",
       "|---|---|---|---|---|---|---|---|---|---|---|---|---|---|---|---|---|---|---|---|---|\n",
       "| 6e+05 | 583656 | 566680 | 548964 | 530915 | 512597 | 493894 | 474947 | 455990 | 436708 | ... | 228000 | 213406 | 199373 | 185737 | 172633 | 159779 | 147440 | 135248 | 123804 | 112810 |\n",
       "| 6e+05 | 583664 | 566734 | 549299 | 531424 | 513162 | 494365 | 475349 | 456091 | 436898 | ... | 228122 | 213550 | 199456 | 185907 | 172522 | 159830 | 147355 | 135323 | 123820 | 112814 |\n",
       "| 6e+05 | 583829 | 566945 | 549234 | 531058 | 512716 | 493941 | 474953 | 455312 | 436267 | ... | 227943 | 213285 | 199241 | 185779 | 172910 | 160110 | 147695 | 135871 | 124316 | 113171 |\n",
       "| 6e+05 | 583726 | 566924 | 549303 | 531231 | 512730 | 493955 | 474648 | 455380 | 436024 | ... | 228097 | 213559 | 199544 | 185868 | 172730 | 159689 | 147471 | 135454 | 123774 | 112592 |\n",
       "| 6e+05 | 583794 | 566854 | 549166 | 531206 | 512760 | 494106 | 475218 | 456113 | 436858 | ... | 228412 | 213876 | 199888 | 186192 | 172947 | 159961 | 147483 | 135651 | 124207 | 112928 |\n",
       "| 6e+05 | 583761 | 566678 | 549167 | 531082 | 512697 | 493904 | 474781 | 455759 | 436455 | ... | 228414 | 213694 | 199652 | 185940 | 172670 | 159762 | 147429 | 135374 | 123968 | 112955 |\n",
       "| 6e+05 | 583717 | 566684 | 549086 | 531014 | 512460 | 493555 | 474478 | 455264 | 436145 | ... | 228011 | 213460 | 199342 | 185665 | 172364 | 159424 | 147083 | 134998 | 123725 | 112632 |\n",
       "| 6e+05 | 583434 | 566508 | 549068 | 530946 | 512551 | 493693 | 474653 | 455396 | 436103 | ... | 228444 | 214050 | 199977 | 186231 | 172899 | 160041 | 147551 | 135563 | 123882 | 112748 |\n",
       "| 6e+05 | 583987 | 567037 | 549456 | 530985 | 512656 | 493989 | 474644 | 455234 | 435976 | ... | 228371 | 213761 | 199636 | 186076 | 172794 | 160005 | 147627 | 135732 | 124149 | 113068 |\n",
       "| 6e+05 | 583599 | 566678 | 549169 | 531106 | 512625 | 493809 | 474778 | 455633 | 436408 | ... | 228041 | 213616 | 199598 | 185721 | 172572 | 159797 | 147413 | 135425 | 123797 | 112833 |\n",
       "| 6e+05 | 583737 | 566987 | 549507 | 531420 | 512941 | 494290 | 475460 | 456262 | 436678 | ... | 228593 | 213964 | 199968 | 186381 | 172960 | 160199 | 147768 | 135758 | 124218 | 113156 |\n",
       "| 6e+05 | 583600 | 566561 | 549124 | 531133 | 512845 | 494037 | 474917 | 455484 | 436400 | ... | 228009 | 213474 | 199465 | 185867 | 172621 | 160054 | 147737 | 135785 | 124293 | 113064 |\n",
       "| 6e+05 | 583731 | 566805 | 549197 | 531285 | 513000 | 494268 | 475306 | 455893 | 436502 | ... | 228132 | 213411 | 199284 | 185555 | 172290 | 159461 | 147077 | 135000 | 123508 | 112589 |\n",
       "| 6e+05 | 583673 | 566667 | 548988 | 530972 | 512579 | 493604 | 474651 | 455742 | 436606 | ... | 228580 | 213860 | 199808 | 186057 | 172863 | 159807 | 147351 | 135170 | 123686 | 112675 |\n",
       "| 6e+05 | 583554 | 566694 | 549252 | 531294 | 513094 | 494318 | 475241 | 456002 | 436820 | ... | 228244 | 213528 | 199396 | 185639 | 172446 | 159563 | 147328 | 135378 | 123931 | 112956 |\n",
       "| 6e+05 | 583614 | 566593 | 548842 | 531034 | 512508 | 493793 | 475088 | 455868 | 436661 | ... | 228259 | 213727 | 199647 | 186268 | 172906 | 160052 | 147753 | 135854 | 124358 | 113284 |\n",
       "| 6e+05 | 583631 | 566651 | 549108 | 531005 | 512492 | 494049 | 474793 | 455495 | 436381 | ... | 228557 | 214019 | 199877 | 186175 | 172812 | 159879 | 147544 | 135570 | 124112 | 113025 |\n",
       "| 6e+05 | 583561 | 566492 | 548963 | 530958 | 512584 | 493812 | 474765 | 455635 | 436325 | ... | 227994 | 213449 | 199215 | 185868 | 172746 | 159781 | 147327 | 135461 | 123721 | 112876 |\n",
       "| 6e+05 | 583688 | 566812 | 549267 | 531305 | 512878 | 494296 | 475076 | 455835 | 436823 | ... | 227896 | 213494 | 199453 | 185704 | 172473 | 159649 | 147270 | 135302 | 123747 | 112649 |\n",
       "| 6e+05 | 583715 | 567024 | 549360 | 531095 | 512525 | 493956 | 474846 | 455762 | 436466 | ... | 228389 | 213691 | 199505 | 185690 | 172233 | 159358 | 147235 | 135194 | 123756 | 112768 |\n",
       "| 6e+05 | 583755 | 566900 | 549263 | 531406 | 513009 | 494231 | 475254 | 455602 | 436251 | ... | 228487 | 213908 | 199761 | 185953 | 172831 | 160076 | 147748 | 135788 | 124359 | 113222 |\n",
       "| 6e+05 | 583678 | 566930 | 549210 | 531330 | 512772 | 493983 | 475074 | 455580 | 436345 | ... | 228095 | 213633 | 199419 | 185786 | 172479 | 159583 | 147162 | 135296 | 123850 | 112754 |\n",
       "| 6e+05 | 583720 | 566616 | 549287 | 531303 | 512700 | 493901 | 474941 | 455715 | 436555 | ... | 228601 | 214077 | 199731 | 186019 | 172740 | 160199 | 147681 | 135811 | 124314 | 113173 |\n",
       "| 6e+05 | 583803 | 566839 | 549314 | 531472 | 513228 | 494210 | 474951 | 455620 | 436440 | ... | 228163 | 213591 | 199816 | 185956 | 172549 | 159750 | 147575 | 135469 | 123822 | 112707 |\n",
       "| 6e+05 | 583739 | 567035 | 549602 | 531419 | 513187 | 494457 | 475463 | 456375 | 437059 | ... | 228324 | 213812 | 199620 | 186196 | 172948 | 160114 | 147590 | 135719 | 124151 | 112861 |\n",
       "| 6e+05 | 583839 | 567065 | 549423 | 531452 | 513030 | 494111 | 475162 | 455879 | 436513 | ... | 228168 | 213737 | 199714 | 185992 | 172669 | 159864 | 147506 | 135590 | 123975 | 113006 |\n",
       "| 6e+05 | 583661 | 566671 | 549093 | 531127 | 512909 | 493845 | 475205 | 455895 | 436413 | ... | 228121 | 213697 | 199629 | 185889 | 172631 | 159800 | 147254 | 135229 | 123921 | 112863 |\n",
       "| 6e+05 | 583708 | 566768 | 549150 | 531345 | 512827 | 493878 | 474676 | 455506 | 436096 | ... | 228482 | 213968 | 199905 | 186319 | 172898 | 160119 | 147863 | 136007 | 124593 | 113587 |\n",
       "| 6e+05 | 583709 | 566718 | 549098 | 531222 | 512817 | 494003 | 474976 | 455778 | 436876 | ... | 228480 | 213977 | 199872 | 186323 | 172818 | 159718 | 147313 | 135302 | 123930 | 112985 |\n",
       "| 6e+05 | 583817 | 567004 | 549340 | 531255 | 512803 | 494059 | 475114 | 455813 | 436546 | ... | 228434 | 213861 | 199879 | 186249 | 173077 | 160364 | 147806 | 135708 | 124202 | 113104 |\n",
       "| ... | ... | ... | ... | ... | ... | ... | ... | ... | ... | <!----> | ... | ... | ... | ... | ... | ... | ... | ... | ... | ... |\n",
       "| 6e+05 | 583741 | 566768 | 549394 | 531354 | 513012 | 494100 | 475127 | 455931 | 436842 | ... | 228536 | 213980 | 199904 | 186235 | 172998 | 159958 | 147609 | 135615 | 124035 | 112960 |\n",
       "| 6e+05 | 583676 | 566503 | 548960 | 531008 | 512911 | 494222 | 475078 | 455666 | 436585 | ... | 228276 | 213607 | 199638 | 185970 | 172350 | 159590 | 147156 | 135206 | 123601 | 112658 |\n",
       "| 6e+05 | 583703 | 566883 | 549403 | 531489 | 513140 | 494344 | 475180 | 455901 | 436626 | ... | 228547 | 214084 | 199954 | 186375 | 173119 | 160307 | 148035 | 136166 | 124475 | 113310 |\n",
       "| 6e+05 | 583786 | 566711 | 549036 | 531107 | 512759 | 494070 | 475279 | 455904 | 436652 | ... | 227880 | 213586 | 199660 | 186001 | 172849 | 159948 | 147419 | 135438 | 123816 | 112749 |\n",
       "| 6e+05 | 583694 | 566575 | 549119 | 531284 | 512898 | 494052 | 475040 | 455700 | 436573 | ... | 228623 | 214114 | 199981 | 186280 | 173180 | 160179 | 147831 | 135976 | 124303 | 113275 |\n",
       "| 6e+05 | 583696 | 566617 | 549185 | 531122 | 512976 | 494300 | 475242 | 455985 | 436616 | ... | 228238 | 213899 | 199945 | 186234 | 172908 | 160048 | 147713 | 135783 | 124069 | 112991 |\n",
       "| 6e+05 | 583763 | 566667 | 549079 | 531286 | 512855 | 493879 | 474858 | 455640 | 436371 | ... | 228617 | 213920 | 199809 | 186024 | 172581 | 159758 | 147336 | 135317 | 123748 | 112723 |\n",
       "| 6e+05 | 583692 | 566823 | 549184 | 531294 | 512997 | 494222 | 475146 | 455817 | 436562 | ... | 228840 | 214336 | 200137 | 186191 | 173045 | 160151 | 147810 | 135725 | 124126 | 113058 |\n",
       "| 6e+05 | 583620 | 566694 | 549255 | 531235 | 512868 | 494031 | 474991 | 455761 | 436480 | ... | 227917 | 213242 | 198986 | 185071 | 172006 | 159137 | 146727 | 134679 | 123243 | 112283 |\n",
       "| 6e+05 | 583600 | 566650 | 549022 | 531020 | 512747 | 494072 | 474966 | 455299 | 436009 | ... | 228064 | 213373 | 199302 | 185749 | 172550 | 159738 | 147153 | 135211 | 123871 | 112714 |\n",
       "| 6e+05 | 583720 | 566618 | 549115 | 531007 | 512545 | 493824 | 474905 | 455763 | 436622 | ... | 228143 | 213705 | 199623 | 185949 | 172579 | 159692 | 147246 | 135242 | 123680 | 112348 |\n",
       "| 6e+05 | 583794 | 566772 | 549219 | 531091 | 512784 | 494040 | 475121 | 456023 | 436844 | ... | 228507 | 214013 | 200006 | 186240 | 172762 | 159920 | 147315 | 135296 | 123597 | 112571 |\n",
       "| 6e+05 | 583788 | 566771 | 549370 | 531340 | 512885 | 493869 | 474798 | 455496 | 436175 | ... | 228279 | 213676 | 199673 | 185748 | 172598 | 159801 | 147489 | 135475 | 124072 | 113075 |\n",
       "| 6e+05 | 583645 | 566790 | 549226 | 531424 | 512973 | 494136 | 475077 | 455815 | 436548 | ... | 228254 | 213898 | 199563 | 185662 | 172598 | 159843 | 147385 | 135500 | 124159 | 113136 |\n",
       "| 6e+05 | 583326 | 566221 | 548824 | 530793 | 512267 | 493752 | 474982 | 455535 | 436523 | ... | 228476 | 213835 | 199687 | 186071 | 172587 | 159607 | 147117 | 135051 | 123682 | 112663 |\n",
       "| 6e+05 | 583800 | 567073 | 549413 | 531321 | 512645 | 494129 | 474921 | 455857 | 436504 | ... | 228357 | 213828 | 199727 | 186057 | 172764 | 160047 | 147620 | 135794 | 124396 | 113189 |\n",
       "| 6e+05 | 583858 | 566806 | 549186 | 531039 | 512673 | 493893 | 475065 | 455729 | 436710 | ... | 228451 | 214061 | 199746 | 185994 | 172666 | 159901 | 147678 | 135754 | 124237 | 113231 |\n",
       "| 6e+05 | 583560 | 566657 | 549186 | 531182 | 512513 | 493463 | 474655 | 455413 | 436088 | ... | 228084 | 213740 | 199569 | 185967 | 172727 | 159966 | 147613 | 135753 | 124413 | 113501 |\n",
       "| 6e+05 | 583402 | 566491 | 548875 | 530944 | 512611 | 494111 | 475326 | 456040 | 437015 | ... | 228270 | 213643 | 199320 | 185659 | 172545 | 159838 | 147638 | 135854 | 124182 | 113072 |\n",
       "| 6e+05 | 583614 | 566478 | 549045 | 531146 | 512632 | 493743 | 474796 | 455710 | 436382 | ... | 228268 | 213594 | 199652 | 185777 | 172530 | 159688 | 147325 | 135498 | 123898 | 112994 |\n",
       "| 6e+05 | 583653 | 566747 | 549419 | 531441 | 512877 | 493817 | 474744 | 455829 | 436448 | ... | 228387 | 214017 | 199818 | 186078 | 173047 | 160300 | 147962 | 135802 | 124183 | 113257 |\n",
       "| 6e+05 | 583756 | 566740 | 549332 | 531437 | 512939 | 494093 | 475213 | 456192 | 437006 | ... | 228384 | 213604 | 199170 | 185479 | 172280 | 159397 | 146983 | 135177 | 123689 | 112935 |\n",
       "| 6e+05 | 583640 | 566613 | 549044 | 531087 | 512761 | 494052 | 475115 | 455961 | 436798 | ... | 228703 | 214212 | 200057 | 186354 | 173155 | 160334 | 147877 | 135867 | 124357 | 113372 |\n",
       "| 6e+05 | 583799 | 566583 | 549172 | 530969 | 512430 | 494025 | 474886 | 455809 | 436391 | ... | 228290 | 213610 | 199534 | 185855 | 172635 | 159811 | 147390 | 135569 | 123936 | 112903 |\n",
       "| 6e+05 | 583626 | 566613 | 549274 | 531268 | 512739 | 493993 | 474833 | 455500 | 436095 | ... | 227625 | 213192 | 199159 | 185624 | 172306 | 159666 | 147162 | 135167 | 123770 | 112588 |\n",
       "| 6e+05 | 583628 | 566573 | 549160 | 531578 | 513230 | 494200 | 475232 | 456157 | 437113 | ... | 229292 | 214761 | 200521 | 186677 | 173314 | 160321 | 147841 | 135853 | 124254 | 113268 |\n",
       "| 6e+05 | 583734 | 566777 | 549316 | 531252 | 513098 | 494293 | 474890 | 455621 | 436201 | ... | 228806 | 214304 | 200115 | 186402 | 173103 | 160210 | 147777 | 135728 | 124244 | 113184 |\n",
       "| 6e+05 | 583553 | 566605 | 549111 | 530857 | 512463 | 493687 | 474678 | 455562 | 436199 | ... | 228694 | 214215 | 199931 | 186239 | 172972 | 160178 | 147720 | 135820 | 124347 | 113268 |\n",
       "| 6e+05 | 583954 | 567136 | 549582 | 531475 | 513074 | 494378 | 475226 | 456128 | 436976 | ... | 229110 | 214639 | 200538 | 186508 | 173262 | 160469 | 148025 | 135897 | 124471 | 113464 |\n",
       "| 6e+05 | 583620 | 566804 | 549239 | 531321 | 512720 | 493821 | 474900 | 456018 | 437061 | ... | 228312 | 213810 | 199687 | 185917 | 172914 | 160141 | 147597 | 135614 | 124002 | 113074 |\n",
       "\n"
      ],
      "text/plain": [
       "     X1    X2     X3     X4     X5     X6     X7     X8     X9     X10    ...\n",
       "1    6e+05 583656 566680 548964 530915 512597 493894 474947 455990 436708 ...\n",
       "2    6e+05 583664 566734 549299 531424 513162 494365 475349 456091 436898 ...\n",
       "3    6e+05 583829 566945 549234 531058 512716 493941 474953 455312 436267 ...\n",
       "4    6e+05 583726 566924 549303 531231 512730 493955 474648 455380 436024 ...\n",
       "5    6e+05 583794 566854 549166 531206 512760 494106 475218 456113 436858 ...\n",
       "6    6e+05 583761 566678 549167 531082 512697 493904 474781 455759 436455 ...\n",
       "7    6e+05 583717 566684 549086 531014 512460 493555 474478 455264 436145 ...\n",
       "8    6e+05 583434 566508 549068 530946 512551 493693 474653 455396 436103 ...\n",
       "9    6e+05 583987 567037 549456 530985 512656 493989 474644 455234 435976 ...\n",
       "10   6e+05 583599 566678 549169 531106 512625 493809 474778 455633 436408 ...\n",
       "11   6e+05 583737 566987 549507 531420 512941 494290 475460 456262 436678 ...\n",
       "12   6e+05 583600 566561 549124 531133 512845 494037 474917 455484 436400 ...\n",
       "13   6e+05 583731 566805 549197 531285 513000 494268 475306 455893 436502 ...\n",
       "14   6e+05 583673 566667 548988 530972 512579 493604 474651 455742 436606 ...\n",
       "15   6e+05 583554 566694 549252 531294 513094 494318 475241 456002 436820 ...\n",
       "16   6e+05 583614 566593 548842 531034 512508 493793 475088 455868 436661 ...\n",
       "17   6e+05 583631 566651 549108 531005 512492 494049 474793 455495 436381 ...\n",
       "18   6e+05 583561 566492 548963 530958 512584 493812 474765 455635 436325 ...\n",
       "19   6e+05 583688 566812 549267 531305 512878 494296 475076 455835 436823 ...\n",
       "20   6e+05 583715 567024 549360 531095 512525 493956 474846 455762 436466 ...\n",
       "21   6e+05 583755 566900 549263 531406 513009 494231 475254 455602 436251 ...\n",
       "22   6e+05 583678 566930 549210 531330 512772 493983 475074 455580 436345 ...\n",
       "23   6e+05 583720 566616 549287 531303 512700 493901 474941 455715 436555 ...\n",
       "24   6e+05 583803 566839 549314 531472 513228 494210 474951 455620 436440 ...\n",
       "25   6e+05 583739 567035 549602 531419 513187 494457 475463 456375 437059 ...\n",
       "26   6e+05 583839 567065 549423 531452 513030 494111 475162 455879 436513 ...\n",
       "27   6e+05 583661 566671 549093 531127 512909 493845 475205 455895 436413 ...\n",
       "28   6e+05 583708 566768 549150 531345 512827 493878 474676 455506 436096 ...\n",
       "29   6e+05 583709 566718 549098 531222 512817 494003 474976 455778 436876 ...\n",
       "30   6e+05 583817 567004 549340 531255 512803 494059 475114 455813 436546 ...\n",
       "...  ...   ...    ...    ...    ...    ...    ...    ...    ...    ...       \n",
       "971  6e+05 583741 566768 549394 531354 513012 494100 475127 455931 436842 ...\n",
       "972  6e+05 583676 566503 548960 531008 512911 494222 475078 455666 436585 ...\n",
       "973  6e+05 583703 566883 549403 531489 513140 494344 475180 455901 436626 ...\n",
       "974  6e+05 583786 566711 549036 531107 512759 494070 475279 455904 436652 ...\n",
       "975  6e+05 583694 566575 549119 531284 512898 494052 475040 455700 436573 ...\n",
       "976  6e+05 583696 566617 549185 531122 512976 494300 475242 455985 436616 ...\n",
       "977  6e+05 583763 566667 549079 531286 512855 493879 474858 455640 436371 ...\n",
       "978  6e+05 583692 566823 549184 531294 512997 494222 475146 455817 436562 ...\n",
       "979  6e+05 583620 566694 549255 531235 512868 494031 474991 455761 436480 ...\n",
       "980  6e+05 583600 566650 549022 531020 512747 494072 474966 455299 436009 ...\n",
       "981  6e+05 583720 566618 549115 531007 512545 493824 474905 455763 436622 ...\n",
       "982  6e+05 583794 566772 549219 531091 512784 494040 475121 456023 436844 ...\n",
       "983  6e+05 583788 566771 549370 531340 512885 493869 474798 455496 436175 ...\n",
       "984  6e+05 583645 566790 549226 531424 512973 494136 475077 455815 436548 ...\n",
       "985  6e+05 583326 566221 548824 530793 512267 493752 474982 455535 436523 ...\n",
       "986  6e+05 583800 567073 549413 531321 512645 494129 474921 455857 436504 ...\n",
       "987  6e+05 583858 566806 549186 531039 512673 493893 475065 455729 436710 ...\n",
       "988  6e+05 583560 566657 549186 531182 512513 493463 474655 455413 436088 ...\n",
       "989  6e+05 583402 566491 548875 530944 512611 494111 475326 456040 437015 ...\n",
       "990  6e+05 583614 566478 549045 531146 512632 493743 474796 455710 436382 ...\n",
       "991  6e+05 583653 566747 549419 531441 512877 493817 474744 455829 436448 ...\n",
       "992  6e+05 583756 566740 549332 531437 512939 494093 475213 456192 437006 ...\n",
       "993  6e+05 583640 566613 549044 531087 512761 494052 475115 455961 436798 ...\n",
       "994  6e+05 583799 566583 549172 530969 512430 494025 474886 455809 436391 ...\n",
       "995  6e+05 583626 566613 549274 531268 512739 493993 474833 455500 436095 ...\n",
       "996  6e+05 583628 566573 549160 531578 513230 494200 475232 456157 437113 ...\n",
       "997  6e+05 583734 566777 549316 531252 513098 494293 474890 455621 436201 ...\n",
       "998  6e+05 583553 566605 549111 530857 512463 493687 474678 455562 436199 ...\n",
       "999  6e+05 583954 567136 549582 531475 513074 494378 475226 456128 436976 ...\n",
       "1000 6e+05 583620 566804 549239 531321 512720 493821 474900 456018 437061 ...\n",
       "     X22    X23    X24    X25    X26    X27    X28    X29    X30    X31   \n",
       "1    228000 213406 199373 185737 172633 159779 147440 135248 123804 112810\n",
       "2    228122 213550 199456 185907 172522 159830 147355 135323 123820 112814\n",
       "3    227943 213285 199241 185779 172910 160110 147695 135871 124316 113171\n",
       "4    228097 213559 199544 185868 172730 159689 147471 135454 123774 112592\n",
       "5    228412 213876 199888 186192 172947 159961 147483 135651 124207 112928\n",
       "6    228414 213694 199652 185940 172670 159762 147429 135374 123968 112955\n",
       "7    228011 213460 199342 185665 172364 159424 147083 134998 123725 112632\n",
       "8    228444 214050 199977 186231 172899 160041 147551 135563 123882 112748\n",
       "9    228371 213761 199636 186076 172794 160005 147627 135732 124149 113068\n",
       "10   228041 213616 199598 185721 172572 159797 147413 135425 123797 112833\n",
       "11   228593 213964 199968 186381 172960 160199 147768 135758 124218 113156\n",
       "12   228009 213474 199465 185867 172621 160054 147737 135785 124293 113064\n",
       "13   228132 213411 199284 185555 172290 159461 147077 135000 123508 112589\n",
       "14   228580 213860 199808 186057 172863 159807 147351 135170 123686 112675\n",
       "15   228244 213528 199396 185639 172446 159563 147328 135378 123931 112956\n",
       "16   228259 213727 199647 186268 172906 160052 147753 135854 124358 113284\n",
       "17   228557 214019 199877 186175 172812 159879 147544 135570 124112 113025\n",
       "18   227994 213449 199215 185868 172746 159781 147327 135461 123721 112876\n",
       "19   227896 213494 199453 185704 172473 159649 147270 135302 123747 112649\n",
       "20   228389 213691 199505 185690 172233 159358 147235 135194 123756 112768\n",
       "21   228487 213908 199761 185953 172831 160076 147748 135788 124359 113222\n",
       "22   228095 213633 199419 185786 172479 159583 147162 135296 123850 112754\n",
       "23   228601 214077 199731 186019 172740 160199 147681 135811 124314 113173\n",
       "24   228163 213591 199816 185956 172549 159750 147575 135469 123822 112707\n",
       "25   228324 213812 199620 186196 172948 160114 147590 135719 124151 112861\n",
       "26   228168 213737 199714 185992 172669 159864 147506 135590 123975 113006\n",
       "27   228121 213697 199629 185889 172631 159800 147254 135229 123921 112863\n",
       "28   228482 213968 199905 186319 172898 160119 147863 136007 124593 113587\n",
       "29   228480 213977 199872 186323 172818 159718 147313 135302 123930 112985\n",
       "30   228434 213861 199879 186249 173077 160364 147806 135708 124202 113104\n",
       "...  ...    ...    ...    ...    ...    ...    ...    ...    ...    ...   \n",
       "971  228536 213980 199904 186235 172998 159958 147609 135615 124035 112960\n",
       "972  228276 213607 199638 185970 172350 159590 147156 135206 123601 112658\n",
       "973  228547 214084 199954 186375 173119 160307 148035 136166 124475 113310\n",
       "974  227880 213586 199660 186001 172849 159948 147419 135438 123816 112749\n",
       "975  228623 214114 199981 186280 173180 160179 147831 135976 124303 113275\n",
       "976  228238 213899 199945 186234 172908 160048 147713 135783 124069 112991\n",
       "977  228617 213920 199809 186024 172581 159758 147336 135317 123748 112723\n",
       "978  228840 214336 200137 186191 173045 160151 147810 135725 124126 113058\n",
       "979  227917 213242 198986 185071 172006 159137 146727 134679 123243 112283\n",
       "980  228064 213373 199302 185749 172550 159738 147153 135211 123871 112714\n",
       "981  228143 213705 199623 185949 172579 159692 147246 135242 123680 112348\n",
       "982  228507 214013 200006 186240 172762 159920 147315 135296 123597 112571\n",
       "983  228279 213676 199673 185748 172598 159801 147489 135475 124072 113075\n",
       "984  228254 213898 199563 185662 172598 159843 147385 135500 124159 113136\n",
       "985  228476 213835 199687 186071 172587 159607 147117 135051 123682 112663\n",
       "986  228357 213828 199727 186057 172764 160047 147620 135794 124396 113189\n",
       "987  228451 214061 199746 185994 172666 159901 147678 135754 124237 113231\n",
       "988  228084 213740 199569 185967 172727 159966 147613 135753 124413 113501\n",
       "989  228270 213643 199320 185659 172545 159838 147638 135854 124182 113072\n",
       "990  228268 213594 199652 185777 172530 159688 147325 135498 123898 112994\n",
       "991  228387 214017 199818 186078 173047 160300 147962 135802 124183 113257\n",
       "992  228384 213604 199170 185479 172280 159397 146983 135177 123689 112935\n",
       "993  228703 214212 200057 186354 173155 160334 147877 135867 124357 113372\n",
       "994  228290 213610 199534 185855 172635 159811 147390 135569 123936 112903\n",
       "995  227625 213192 199159 185624 172306 159666 147162 135167 123770 112588\n",
       "996  229292 214761 200521 186677 173314 160321 147841 135853 124254 113268\n",
       "997  228806 214304 200115 186402 173103 160210 147777 135728 124244 113184\n",
       "998  228694 214215 199931 186239 172972 160178 147720 135820 124347 113268\n",
       "999  229110 214639 200538 186508 173262 160469 148025 135897 124471 113464\n",
       "1000 228312 213810 199687 185917 172914 160141 147597 135614 124002 113074"
      ]
     },
     "metadata": {},
     "output_type": "display_data"
    }
   ],
   "source": [
    "sims"
   ]
  },
  {
   "cell_type": "code",
   "execution_count": 41,
   "metadata": {
    "vscode": {
     "languageId": "r"
    }
   },
   "outputs": [],
   "source": [
    "write.csv(sims,'C:/Users/Diana C Contreras/OneDrive - Universidad de Los Andes/Riesgo Financiero/Talleres/T1-Riesgo/Taller 2/data/proyection.csv',row.names=F)"
   ]
  },
  {
   "cell_type": "code",
   "execution_count": 42,
   "metadata": {
    "vscode": {
     "languageId": "r"
    }
   },
   "outputs": [],
   "source": [
    "# install.packages('data.table')\n",
    "library('data.table')"
   ]
  },
  {
   "cell_type": "code",
   "execution_count": 43,
   "metadata": {
    "vscode": {
     "languageId": "r"
    }
   },
   "outputs": [],
   "source": [
    "sims$id <- seq(1, 1000, 1)"
   ]
  },
  {
   "cell_type": "code",
   "execution_count": 44,
   "metadata": {
    "vscode": {
     "languageId": "r"
    }
   },
   "outputs": [
    {
     "name": "stderr",
     "output_type": "stream",
     "text": [
      "Warning message in melt(data = sims, id.vars = \"id\", variable.name = \"period_f\", :\n",
      "\"The melt generic in data.table has been passed a data.frame and will attempt to redirect to the relevant reshape2 method; please note that reshape2 is deprecated, and this redirection is now deprecated as well. To continue using melt methods from reshape2 while both libraries are attached, e.g. melt.list, you can prepend the namespace like reshape2::melt(sims). In the next version, this warning will become an error.\""
     ]
    }
   ],
   "source": [
    "long_sims <- melt(data= sims,id.vars='id', variable.name=\"period_f\", value.name= \"alive\")"
   ]
  },
  {
   "cell_type": "code",
   "execution_count": 45,
   "metadata": {
    "vscode": {
     "languageId": "r"
    }
   },
   "outputs": [
    {
     "data": {
      "text/html": [
       "<table class=\"dataframe\">\n",
       "<caption>A data.frame: 6 × 3</caption>\n",
       "<thead>\n",
       "\t<tr><th></th><th scope=col>id</th><th scope=col>period_f</th><th scope=col>alive</th></tr>\n",
       "\t<tr><th></th><th scope=col>&lt;dbl&gt;</th><th scope=col>&lt;fct&gt;</th><th scope=col>&lt;dbl&gt;</th></tr>\n",
       "</thead>\n",
       "<tbody>\n",
       "\t<tr><th scope=row>1</th><td>1</td><td>X1</td><td>6e+05</td></tr>\n",
       "\t<tr><th scope=row>2</th><td>2</td><td>X1</td><td>6e+05</td></tr>\n",
       "\t<tr><th scope=row>3</th><td>3</td><td>X1</td><td>6e+05</td></tr>\n",
       "\t<tr><th scope=row>4</th><td>4</td><td>X1</td><td>6e+05</td></tr>\n",
       "\t<tr><th scope=row>5</th><td>5</td><td>X1</td><td>6e+05</td></tr>\n",
       "\t<tr><th scope=row>6</th><td>6</td><td>X1</td><td>6e+05</td></tr>\n",
       "</tbody>\n",
       "</table>\n"
      ],
      "text/latex": [
       "A data.frame: 6 × 3\n",
       "\\begin{tabular}{r|lll}\n",
       "  & id & period\\_f & alive\\\\\n",
       "  & <dbl> & <fct> & <dbl>\\\\\n",
       "\\hline\n",
       "\t1 & 1 & X1 & 6e+05\\\\\n",
       "\t2 & 2 & X1 & 6e+05\\\\\n",
       "\t3 & 3 & X1 & 6e+05\\\\\n",
       "\t4 & 4 & X1 & 6e+05\\\\\n",
       "\t5 & 5 & X1 & 6e+05\\\\\n",
       "\t6 & 6 & X1 & 6e+05\\\\\n",
       "\\end{tabular}\n"
      ],
      "text/markdown": [
       "\n",
       "A data.frame: 6 × 3\n",
       "\n",
       "| <!--/--> | id &lt;dbl&gt; | period_f &lt;fct&gt; | alive &lt;dbl&gt; |\n",
       "|---|---|---|---|\n",
       "| 1 | 1 | X1 | 6e+05 |\n",
       "| 2 | 2 | X1 | 6e+05 |\n",
       "| 3 | 3 | X1 | 6e+05 |\n",
       "| 4 | 4 | X1 | 6e+05 |\n",
       "| 5 | 5 | X1 | 6e+05 |\n",
       "| 6 | 6 | X1 | 6e+05 |\n",
       "\n"
      ],
      "text/plain": [
       "  id period_f alive\n",
       "1 1  X1       6e+05\n",
       "2 2  X1       6e+05\n",
       "3 3  X1       6e+05\n",
       "4 4  X1       6e+05\n",
       "5 5  X1       6e+05\n",
       "6 6  X1       6e+05"
      ]
     },
     "metadata": {},
     "output_type": "display_data"
    }
   ],
   "source": [
    "head(long_sims)"
   ]
  },
  {
   "cell_type": "code",
   "execution_count": 46,
   "metadata": {
    "vscode": {
     "languageId": "r"
    }
   },
   "outputs": [],
   "source": [
    "long_sims$period_f <- as.numeric(substring(as.character(long_sims$period_f), 2))"
   ]
  },
  {
   "cell_type": "code",
   "execution_count": 34,
   "metadata": {
    "vscode": {
     "languageId": "r"
    }
   },
   "outputs": [
    {
     "data": {
      "text/html": [
       "<table class=\"dataframe\">\n",
       "<caption>A data.frame: 6 × 3</caption>\n",
       "<thead>\n",
       "\t<tr><th></th><th scope=col>id</th><th scope=col>period_f</th><th scope=col>alive</th></tr>\n",
       "\t<tr><th></th><th scope=col>&lt;dbl&gt;</th><th scope=col>&lt;dbl&gt;</th><th scope=col>&lt;dbl&gt;</th></tr>\n",
       "</thead>\n",
       "<tbody>\n",
       "\t<tr><th scope=row>1</th><td>1</td><td>1</td><td>6e+05</td></tr>\n",
       "\t<tr><th scope=row>2</th><td>2</td><td>1</td><td>6e+05</td></tr>\n",
       "\t<tr><th scope=row>3</th><td>3</td><td>1</td><td>6e+05</td></tr>\n",
       "\t<tr><th scope=row>4</th><td>4</td><td>1</td><td>6e+05</td></tr>\n",
       "\t<tr><th scope=row>5</th><td>5</td><td>1</td><td>6e+05</td></tr>\n",
       "\t<tr><th scope=row>6</th><td>6</td><td>1</td><td>6e+05</td></tr>\n",
       "</tbody>\n",
       "</table>\n"
      ],
      "text/latex": [
       "A data.frame: 6 × 3\n",
       "\\begin{tabular}{r|lll}\n",
       "  & id & period\\_f & alive\\\\\n",
       "  & <dbl> & <dbl> & <dbl>\\\\\n",
       "\\hline\n",
       "\t1 & 1 & 1 & 6e+05\\\\\n",
       "\t2 & 2 & 1 & 6e+05\\\\\n",
       "\t3 & 3 & 1 & 6e+05\\\\\n",
       "\t4 & 4 & 1 & 6e+05\\\\\n",
       "\t5 & 5 & 1 & 6e+05\\\\\n",
       "\t6 & 6 & 1 & 6e+05\\\\\n",
       "\\end{tabular}\n"
      ],
      "text/markdown": [
       "\n",
       "A data.frame: 6 × 3\n",
       "\n",
       "| <!--/--> | id &lt;dbl&gt; | period_f &lt;dbl&gt; | alive &lt;dbl&gt; |\n",
       "|---|---|---|---|\n",
       "| 1 | 1 | 1 | 6e+05 |\n",
       "| 2 | 2 | 1 | 6e+05 |\n",
       "| 3 | 3 | 1 | 6e+05 |\n",
       "| 4 | 4 | 1 | 6e+05 |\n",
       "| 5 | 5 | 1 | 6e+05 |\n",
       "| 6 | 6 | 1 | 6e+05 |\n",
       "\n"
      ],
      "text/plain": [
       "  id period_f alive\n",
       "1 1  1        6e+05\n",
       "2 2  1        6e+05\n",
       "3 3  1        6e+05\n",
       "4 4  1        6e+05\n",
       "5 5  1        6e+05\n",
       "6 6  1        6e+05"
      ]
     },
     "metadata": {},
     "output_type": "display_data"
    }
   ],
   "source": [
    "head(long_sims)"
   ]
  },
  {
   "cell_type": "code",
   "execution_count": 47,
   "metadata": {
    "vscode": {
     "languageId": "r"
    }
   },
   "outputs": [],
   "source": [
    "long_sims$flow <- long_sims$alive*0.000018\n",
    "c_l_sims <- long_sims %>%\n",
    "            group_by(period_f) %>%\n",
    "            summarise(alive = mean(alive), flow = mean(flow))\n"
   ]
  },
  {
   "cell_type": "code",
   "execution_count": 48,
   "metadata": {
    "vscode": {
     "languageId": "r"
    }
   },
   "outputs": [
    {
     "data": {
      "image/png": "[encoded data removed]",
      "text/plain": [
       "plot without title"
      ]
     },
     "metadata": {},
     "output_type": "display_data"
    }
   ],
   "source": [
    "ggplot(c_l_sims,aes(period_f,alive))+  geom_col( fill='deeppink4') + labs(x=\"años en el futuro\", y='Afiliados vivos',title='Evolución de afiliados vivos') +theme_classic()"
   ]
  },
  {
   "cell_type": "code",
   "execution_count": 49,
   "metadata": {
    "vscode": {
     "languageId": "r"
    }
   },
   "outputs": [
    {
     "data": {
      "image/png": "[encoded data removed]",
      "text/plain": [
       "plot without title"
      ]
     },
     "metadata": {},
     "output_type": "display_data"
    }
   ],
   "source": [
    "\n",
    "ggplot(c_l_sims,aes(period_f,flow))+ geom_col(fill='chartreuse4') + labs(x=\"años en el futuro\", y='Billones de pesos',title='Flujos anuales de la compañia') +theme_classic()"
   ]
  },
  {
   "cell_type": "code",
   "execution_count": 49,
   "metadata": {
    "vscode": {
     "languageId": "r"
    }
   },
   "outputs": [
    {
     "data": {
      "text/html": [
       "<table class=\"dataframe\">\n",
       "<caption>A data.frame: 6 × 4</caption>\n",
       "<thead>\n",
       "\t<tr><th></th><th scope=col>id</th><th scope=col>period_f</th><th scope=col>alive</th><th scope=col>flow</th></tr>\n",
       "\t<tr><th></th><th scope=col>&lt;dbl&gt;</th><th scope=col>&lt;dbl&gt;</th><th scope=col>&lt;dbl&gt;</th><th scope=col>&lt;dbl&gt;</th></tr>\n",
       "</thead>\n",
       "<tbody>\n",
       "\t<tr><th scope=row>1</th><td>1</td><td>1</td><td>6e+05</td><td>10.8</td></tr>\n",
       "\t<tr><th scope=row>2</th><td>2</td><td>1</td><td>6e+05</td><td>10.8</td></tr>\n",
       "\t<tr><th scope=row>3</th><td>3</td><td>1</td><td>6e+05</td><td>10.8</td></tr>\n",
       "\t<tr><th scope=row>4</th><td>4</td><td>1</td><td>6e+05</td><td>10.8</td></tr>\n",
       "\t<tr><th scope=row>5</th><td>5</td><td>1</td><td>6e+05</td><td>10.8</td></tr>\n",
       "\t<tr><th scope=row>6</th><td>6</td><td>1</td><td>6e+05</td><td>10.8</td></tr>\n",
       "</tbody>\n",
       "</table>\n"
      ],
      "text/latex": [
       "A data.frame: 6 × 4\n",
       "\\begin{tabular}{r|llll}\n",
       "  & id & period\\_f & alive & flow\\\\\n",
       "  & <dbl> & <dbl> & <dbl> & <dbl>\\\\\n",
       "\\hline\n",
       "\t1 & 1 & 1 & 6e+05 & 10.8\\\\\n",
       "\t2 & 2 & 1 & 6e+05 & 10.8\\\\\n",
       "\t3 & 3 & 1 & 6e+05 & 10.8\\\\\n",
       "\t4 & 4 & 1 & 6e+05 & 10.8\\\\\n",
       "\t5 & 5 & 1 & 6e+05 & 10.8\\\\\n",
       "\t6 & 6 & 1 & 6e+05 & 10.8\\\\\n",
       "\\end{tabular}\n"
      ],
      "text/markdown": [
       "\n",
       "A data.frame: 6 × 4\n",
       "\n",
       "| <!--/--> | id &lt;dbl&gt; | period_f &lt;dbl&gt; | alive &lt;dbl&gt; | flow &lt;dbl&gt; |\n",
       "|---|---|---|---|---|\n",
       "| 1 | 1 | 1 | 6e+05 | 10.8 |\n",
       "| 2 | 2 | 1 | 6e+05 | 10.8 |\n",
       "| 3 | 3 | 1 | 6e+05 | 10.8 |\n",
       "| 4 | 4 | 1 | 6e+05 | 10.8 |\n",
       "| 5 | 5 | 1 | 6e+05 | 10.8 |\n",
       "| 6 | 6 | 1 | 6e+05 | 10.8 |\n",
       "\n"
      ],
      "text/plain": [
       "  id period_f alive flow\n",
       "1 1  1        6e+05 10.8\n",
       "2 2  1        6e+05 10.8\n",
       "3 3  1        6e+05 10.8\n",
       "4 4  1        6e+05 10.8\n",
       "5 5  1        6e+05 10.8\n",
       "6 6  1        6e+05 10.8"
      ]
     },
     "metadata": {},
     "output_type": "display_data"
    }
   ],
   "source": [
    "head(long_sims)"
   ]
  },
  {
   "cell_type": "markdown",
   "metadata": {},
   "source": [
    "## Import de bases de datos de los indices\n",
    "En esta sección se importan todos los datos de las tasas de interés de los bonos y activos requeridos.   \n",
    "Adicionalmente, se encuentra la estimación de Nelson Sieguel para descomponer el comportamiento de las tasas."
   ]
  },
  {
   "cell_type": "code",
   "execution_count": 2,
   "metadata": {
    "vscode": {
     "languageId": "r"
    }
   },
   "outputs": [],
   "source": [
    "path <- 'C:/Users/Diana C Contreras/OneDrive - Universidad de Los Andes/Riesgo Financiero/Talleres/T1-Riesgo/Taller 2/data/data.xlsx'"
   ]
  },
  {
   "cell_type": "markdown",
   "metadata": {},
   "source": [
    "### Empezamos con los bonos TES en pesos."
   ]
  },
  {
   "cell_type": "code",
   "execution_count": 3,
   "metadata": {
    "vscode": {
     "languageId": "r"
    }
   },
   "outputs": [],
   "source": [
    "tes_cop <- read_excel(path, sheet=1,skip=7, col_names=c('Date','6m','1y','3y','5y','10y','15y'))"
   ]
  },
  {
   "cell_type": "code",
   "execution_count": 4,
   "metadata": {
    "vscode": {
     "languageId": "r"
    }
   },
   "outputs": [
    {
     "data": {
      "text/html": [
       "<table class=\"dataframe\">\n",
       "<caption>A data.frame: 6 × 7</caption>\n",
       "<thead>\n",
       "\t<tr><th></th><th scope=col>Date</th><th scope=col>tes_cop_6m</th><th scope=col>tes_cop_1y</th><th scope=col>tes_cop_3y</th><th scope=col>tes_cop_5y</th><th scope=col>tes_cop_10y</th><th scope=col>tes_cop_15y</th></tr>\n",
       "\t<tr><th></th><th scope=col>&lt;dttm&gt;</th><th scope=col>&lt;dbl&gt;</th><th scope=col>&lt;dbl&gt;</th><th scope=col>&lt;dbl&gt;</th><th scope=col>&lt;dbl&gt;</th><th scope=col>&lt;dbl&gt;</th><th scope=col>&lt;dbl&gt;</th></tr>\n",
       "</thead>\n",
       "<tbody>\n",
       "\t<tr><th scope=row>1</th><td>2012-04-27</td><td>5.4042</td><td>5.5328</td><td>6.0056</td><td>6.4139</td><td>6.9276</td><td>7.3809</td></tr>\n",
       "\t<tr><th scope=row>2</th><td>2012-04-30</td><td>5.3703</td><td>5.5107</td><td>5.9953</td><td>6.4264</td><td>6.9410</td><td>7.3830</td></tr>\n",
       "\t<tr><th scope=row>3</th><td>2012-05-01</td><td>5.3749</td><td>5.5176</td><td>6.0044</td><td>6.4312</td><td>6.9430</td><td>7.3839</td></tr>\n",
       "\t<tr><th scope=row>4</th><td>2012-05-02</td><td>5.4176</td><td>5.5513</td><td>6.0613</td><td>6.4281</td><td>6.9308</td><td>7.3765</td></tr>\n",
       "\t<tr><th scope=row>5</th><td>2012-05-03</td><td>5.4304</td><td>5.5508</td><td>6.0495</td><td>6.4076</td><td>6.8896</td><td>7.3203</td></tr>\n",
       "\t<tr><th scope=row>6</th><td>2012-05-04</td><td>5.4570</td><td>5.5736</td><td>6.0911</td><td>6.4363</td><td>6.9042</td><td>7.3267</td></tr>\n",
       "</tbody>\n",
       "</table>\n"
      ],
      "text/latex": [
       "A data.frame: 6 × 7\n",
       "\\begin{tabular}{r|lllllll}\n",
       "  & Date & tes\\_cop\\_6m & tes\\_cop\\_1y & tes\\_cop\\_3y & tes\\_cop\\_5y & tes\\_cop\\_10y & tes\\_cop\\_15y\\\\\n",
       "  & <dttm> & <dbl> & <dbl> & <dbl> & <dbl> & <dbl> & <dbl>\\\\\n",
       "\\hline\n",
       "\t1 & 2012-04-27 & 5.4042 & 5.5328 & 6.0056 & 6.4139 & 6.9276 & 7.3809\\\\\n",
       "\t2 & 2012-04-30 & 5.3703 & 5.5107 & 5.9953 & 6.4264 & 6.9410 & 7.3830\\\\\n",
       "\t3 & 2012-05-01 & 5.3749 & 5.5176 & 6.0044 & 6.4312 & 6.9430 & 7.3839\\\\\n",
       "\t4 & 2012-05-02 & 5.4176 & 5.5513 & 6.0613 & 6.4281 & 6.9308 & 7.3765\\\\\n",
       "\t5 & 2012-05-03 & 5.4304 & 5.5508 & 6.0495 & 6.4076 & 6.8896 & 7.3203\\\\\n",
       "\t6 & 2012-05-04 & 5.4570 & 5.5736 & 6.0911 & 6.4363 & 6.9042 & 7.3267\\\\\n",
       "\\end{tabular}\n"
      ],
      "text/markdown": [
       "\n",
       "A data.frame: 6 × 7\n",
       "\n",
       "| <!--/--> | Date &lt;dttm&gt; | tes_cop_6m &lt;dbl&gt; | tes_cop_1y &lt;dbl&gt; | tes_cop_3y &lt;dbl&gt; | tes_cop_5y &lt;dbl&gt; | tes_cop_10y &lt;dbl&gt; | tes_cop_15y &lt;dbl&gt; |\n",
       "|---|---|---|---|---|---|---|---|\n",
       "| 1 | 2012-04-27 | 5.4042 | 5.5328 | 6.0056 | 6.4139 | 6.9276 | 7.3809 |\n",
       "| 2 | 2012-04-30 | 5.3703 | 5.5107 | 5.9953 | 6.4264 | 6.9410 | 7.3830 |\n",
       "| 3 | 2012-05-01 | 5.3749 | 5.5176 | 6.0044 | 6.4312 | 6.9430 | 7.3839 |\n",
       "| 4 | 2012-05-02 | 5.4176 | 5.5513 | 6.0613 | 6.4281 | 6.9308 | 7.3765 |\n",
       "| 5 | 2012-05-03 | 5.4304 | 5.5508 | 6.0495 | 6.4076 | 6.8896 | 7.3203 |\n",
       "| 6 | 2012-05-04 | 5.4570 | 5.5736 | 6.0911 | 6.4363 | 6.9042 | 7.3267 |\n",
       "\n"
      ],
      "text/plain": [
       "  Date       tes_cop_6m tes_cop_1y tes_cop_3y tes_cop_5y tes_cop_10y\n",
       "1 2012-04-27 5.4042     5.5328     6.0056     6.4139     6.9276     \n",
       "2 2012-04-30 5.3703     5.5107     5.9953     6.4264     6.9410     \n",
       "3 2012-05-01 5.3749     5.5176     6.0044     6.4312     6.9430     \n",
       "4 2012-05-02 5.4176     5.5513     6.0613     6.4281     6.9308     \n",
       "5 2012-05-03 5.4304     5.5508     6.0495     6.4076     6.8896     \n",
       "6 2012-05-04 5.4570     5.5736     6.0911     6.4363     6.9042     \n",
       "  tes_cop_15y\n",
       "1 7.3809     \n",
       "2 7.3830     \n",
       "3 7.3839     \n",
       "4 7.3765     \n",
       "5 7.3203     \n",
       "6 7.3267     "
      ]
     },
     "metadata": {},
     "output_type": "display_data"
    }
   ],
   "source": [
    "tes_cop <- tes_cop[tes_cop$Date >= \"2012-04-26\",]\n",
    "tes_cop <- as.data.frame(tes_cop)\n",
    "# rownames(tes_cop) <- tes_cop$Date\n",
    "# tes_cop <- tes_cop[,-c(1)]\n",
    "tes_cop[,-c(1)] <- sapply(tes_cop[,-c(1)], as.numeric)\n",
    "colnames( tes_cop) <- c('Date','tes_cop_6m','tes_cop_1y','tes_cop_3y','tes_cop_5y','tes_cop_10y','tes_cop_15y')\n",
    "head(tes_cop)"
   ]
  },
  {
   "cell_type": "code",
   "execution_count": 5,
   "metadata": {},
   "outputs": [],
   "source": [
    "tes_maturity <- c(0.5,1,3,5,10,15)"
   ]
  },
  {
   "cell_type": "markdown",
   "metadata": {},
   "source": [
    "### TES en UVR   \n",
    "Notese que en este caso se importan directamente los resultados de Nelson Sieguel"
   ]
  },
  {
   "cell_type": "code",
   "execution_count": 6,
   "metadata": {
    "vscode": {
     "languageId": "r"
    }
   },
   "outputs": [
    {
     "data": {
      "text/html": [
       "<table class=\"dataframe\">\n",
       "<caption>A data.frame: 6 × 5</caption>\n",
       "<thead>\n",
       "\t<tr><th></th><th scope=col>Date</th><th scope=col>beta_0</th><th scope=col>beta_1</th><th scope=col>beta_2</th><th scope=col>lambda</th></tr>\n",
       "\t<tr><th></th><th scope=col>&lt;dttm&gt;</th><th scope=col>&lt;dbl&gt;</th><th scope=col>&lt;dbl&gt;</th><th scope=col>&lt;dbl&gt;</th><th scope=col>&lt;dbl&gt;</th></tr>\n",
       "</thead>\n",
       "<tbody>\n",
       "\t<tr><th scope=row>1</th><td>2022-04-08</td><td>0.09647801</td><td>-0.03119406</td><td>0.04511467</td><td>3.7</td></tr>\n",
       "\t<tr><th scope=row>2</th><td>2022-04-07</td><td>0.09405698</td><td>-0.02969244</td><td>0.04226096</td><td>3.7</td></tr>\n",
       "\t<tr><th scope=row>3</th><td>2022-04-06</td><td>0.09469592</td><td>-0.02990299</td><td>0.04248866</td><td>3.7</td></tr>\n",
       "\t<tr><th scope=row>4</th><td>2022-04-05</td><td>0.09408631</td><td>-0.02883965</td><td>0.04186647</td><td>3.7</td></tr>\n",
       "\t<tr><th scope=row>5</th><td>2022-04-04</td><td>0.09664698</td><td>-0.03390216</td><td>0.04312384</td><td>3.7</td></tr>\n",
       "\t<tr><th scope=row>6</th><td>2022-04-01</td><td>0.09685086</td><td>-0.03217370</td><td>0.04468412</td><td>3.7</td></tr>\n",
       "</tbody>\n",
       "</table>\n"
      ],
      "text/latex": [
       "A data.frame: 6 × 5\n",
       "\\begin{tabular}{r|lllll}\n",
       "  & Date & beta\\_0 & beta\\_1 & beta\\_2 & lambda\\\\\n",
       "  & <dttm> & <dbl> & <dbl> & <dbl> & <dbl>\\\\\n",
       "\\hline\n",
       "\t1 & 2022-04-08 & 0.09647801 & -0.03119406 & 0.04511467 & 3.7\\\\\n",
       "\t2 & 2022-04-07 & 0.09405698 & -0.02969244 & 0.04226096 & 3.7\\\\\n",
       "\t3 & 2022-04-06 & 0.09469592 & -0.02990299 & 0.04248866 & 3.7\\\\\n",
       "\t4 & 2022-04-05 & 0.09408631 & -0.02883965 & 0.04186647 & 3.7\\\\\n",
       "\t5 & 2022-04-04 & 0.09664698 & -0.03390216 & 0.04312384 & 3.7\\\\\n",
       "\t6 & 2022-04-01 & 0.09685086 & -0.03217370 & 0.04468412 & 3.7\\\\\n",
       "\\end{tabular}\n"
      ],
      "text/markdown": [
       "\n",
       "A data.frame: 6 × 5\n",
       "\n",
       "| <!--/--> | Date &lt;dttm&gt; | beta_0 &lt;dbl&gt; | beta_1 &lt;dbl&gt; | beta_2 &lt;dbl&gt; | lambda &lt;dbl&gt; |\n",
       "|---|---|---|---|---|---|\n",
       "| 1 | 2022-04-08 | 0.09647801 | -0.03119406 | 0.04511467 | 3.7 |\n",
       "| 2 | 2022-04-07 | 0.09405698 | -0.02969244 | 0.04226096 | 3.7 |\n",
       "| 3 | 2022-04-06 | 0.09469592 | -0.02990299 | 0.04248866 | 3.7 |\n",
       "| 4 | 2022-04-05 | 0.09408631 | -0.02883965 | 0.04186647 | 3.7 |\n",
       "| 5 | 2022-04-04 | 0.09664698 | -0.03390216 | 0.04312384 | 3.7 |\n",
       "| 6 | 2022-04-01 | 0.09685086 | -0.03217370 | 0.04468412 | 3.7 |\n",
       "\n"
      ],
      "text/plain": [
       "  Date       beta_0     beta_1      beta_2     lambda\n",
       "1 2022-04-08 0.09647801 -0.03119406 0.04511467 3.7   \n",
       "2 2022-04-07 0.09405698 -0.02969244 0.04226096 3.7   \n",
       "3 2022-04-06 0.09469592 -0.02990299 0.04248866 3.7   \n",
       "4 2022-04-05 0.09408631 -0.02883965 0.04186647 3.7   \n",
       "5 2022-04-04 0.09664698 -0.03390216 0.04312384 3.7   \n",
       "6 2022-04-01 0.09685086 -0.03217370 0.04468412 3.7   "
      ]
     },
     "metadata": {},
     "output_type": "display_data"
    }
   ],
   "source": [
    "tes_uvr_ns <- read_excel(path, sheet='TES UVR Betas',skip=1, col_names=c('Date','beta_0','beta_1','beta_2','lambda'))\n",
    "tes_uvr_ns <- as.data.frame(tes_uvr_ns)\n",
    "# rownames(tes_uvr_ns) <- tes_uvr_ns$Date\n",
    "# tes_uvr_ns <- tes_uvr_ns[,-c(1)]\n",
    "head(tes_uvr_ns)"
   ]
  },
  {
   "cell_type": "code",
   "execution_count": 7,
   "metadata": {},
   "outputs": [],
   "source": [
    "nelson_sieguel_rate <- function(insumo,maturity){\n",
    "    x <- insumo[,1] + insumo[,2]*((1 - exp(-insumo[,4]*maturity))/(insumo[,4]*maturity))+insumo[,3]*(((1- exp(-insumo[,4]*maturity))/(insumo[,4]*maturity))-exp(-insumo[,4]*maturity))\n",
    "    x <- as.data.frame(x)\n",
    "    names(x) <- c('rate')\n",
    "    return(x)\n",
    "}"
   ]
  },
  {
   "cell_type": "code",
   "execution_count": 8,
   "metadata": {},
   "outputs": [
    {
     "data": {
      "text/html": [
       "<table class=\"dataframe\">\n",
       "<caption>A data.frame: 6 × 7</caption>\n",
       "<thead>\n",
       "\t<tr><th></th><th scope=col>tes_uvr_6m</th><th scope=col>tes_uvr_1y</th><th scope=col>tes_uvr_3y</th><th scope=col>tes_uvr_5y</th><th scope=col>tes_uvr_10y</th><th scope=col>tes_uvr_15y</th><th scope=col>Date</th></tr>\n",
       "\t<tr><th></th><th scope=col>&lt;dbl&gt;</th><th scope=col>&lt;dbl&gt;</th><th scope=col>&lt;dbl&gt;</th><th scope=col>&lt;dbl&gt;</th><th scope=col>&lt;dbl&gt;</th><th scope=col>&lt;dbl&gt;</th><th scope=col>&lt;dttm&gt;</th></tr>\n",
       "</thead>\n",
       "<tbody>\n",
       "\t<tr><th scope=row>1</th><td>9.572581</td><td>9.903193</td><td>9.773142</td><td>9.723047</td><td>9.685424</td><td>9.672883</td><td>2022-04-08</td></tr>\n",
       "\t<tr><th scope=row>2</th><td>9.313754</td><td>9.632505</td><td>9.518862</td><td>9.473636</td><td>9.439667</td><td>9.428344</td><td>2022-04-07</td></tr>\n",
       "\t<tr><th scope=row>3</th><td>9.374849</td><td>9.696289</td><td>9.582910</td><td>9.537623</td><td>9.503607</td><td>9.492269</td><td>2022-04-06</td></tr>\n",
       "\t<tr><th scope=row>4</th><td>9.343768</td><td>9.648494</td><td>9.525925</td><td>9.479046</td><td>9.443839</td><td>9.432103</td><td>2022-04-05</td></tr>\n",
       "\t<tr><th scope=row>5</th><td>9.406722</td><td>9.801153</td><td>9.747710</td><td>9.714545</td><td>9.689621</td><td>9.681314</td><td>2022-04-04</td></tr>\n",
       "\t<tr><th scope=row>6</th><td>9.552395</td><td>9.904371</td><td>9.797723</td><td>9.752710</td><td>9.718898</td><td>9.707627</td><td>2022-04-01</td></tr>\n",
       "</tbody>\n",
       "</table>\n"
      ],
      "text/latex": [
       "A data.frame: 6 × 7\n",
       "\\begin{tabular}{r|lllllll}\n",
       "  & tes\\_uvr\\_6m & tes\\_uvr\\_1y & tes\\_uvr\\_3y & tes\\_uvr\\_5y & tes\\_uvr\\_10y & tes\\_uvr\\_15y & Date\\\\\n",
       "  & <dbl> & <dbl> & <dbl> & <dbl> & <dbl> & <dbl> & <dttm>\\\\\n",
       "\\hline\n",
       "\t1 & 9.572581 & 9.903193 & 9.773142 & 9.723047 & 9.685424 & 9.672883 & 2022-04-08\\\\\n",
       "\t2 & 9.313754 & 9.632505 & 9.518862 & 9.473636 & 9.439667 & 9.428344 & 2022-04-07\\\\\n",
       "\t3 & 9.374849 & 9.696289 & 9.582910 & 9.537623 & 9.503607 & 9.492269 & 2022-04-06\\\\\n",
       "\t4 & 9.343768 & 9.648494 & 9.525925 & 9.479046 & 9.443839 & 9.432103 & 2022-04-05\\\\\n",
       "\t5 & 9.406722 & 9.801153 & 9.747710 & 9.714545 & 9.689621 & 9.681314 & 2022-04-04\\\\\n",
       "\t6 & 9.552395 & 9.904371 & 9.797723 & 9.752710 & 9.718898 & 9.707627 & 2022-04-01\\\\\n",
       "\\end{tabular}\n"
      ],
      "text/markdown": [
       "\n",
       "A data.frame: 6 × 7\n",
       "\n",
       "| <!--/--> | tes_uvr_6m &lt;dbl&gt; | tes_uvr_1y &lt;dbl&gt; | tes_uvr_3y &lt;dbl&gt; | tes_uvr_5y &lt;dbl&gt; | tes_uvr_10y &lt;dbl&gt; | tes_uvr_15y &lt;dbl&gt; | Date &lt;dttm&gt; |\n",
       "|---|---|---|---|---|---|---|---|\n",
       "| 1 | 9.572581 | 9.903193 | 9.773142 | 9.723047 | 9.685424 | 9.672883 | 2022-04-08 |\n",
       "| 2 | 9.313754 | 9.632505 | 9.518862 | 9.473636 | 9.439667 | 9.428344 | 2022-04-07 |\n",
       "| 3 | 9.374849 | 9.696289 | 9.582910 | 9.537623 | 9.503607 | 9.492269 | 2022-04-06 |\n",
       "| 4 | 9.343768 | 9.648494 | 9.525925 | 9.479046 | 9.443839 | 9.432103 | 2022-04-05 |\n",
       "| 5 | 9.406722 | 9.801153 | 9.747710 | 9.714545 | 9.689621 | 9.681314 | 2022-04-04 |\n",
       "| 6 | 9.552395 | 9.904371 | 9.797723 | 9.752710 | 9.718898 | 9.707627 | 2022-04-01 |\n",
       "\n"
      ],
      "text/plain": [
       "  tes_uvr_6m tes_uvr_1y tes_uvr_3y tes_uvr_5y tes_uvr_10y tes_uvr_15y\n",
       "1 9.572581   9.903193   9.773142   9.723047   9.685424    9.672883   \n",
       "2 9.313754   9.632505   9.518862   9.473636   9.439667    9.428344   \n",
       "3 9.374849   9.696289   9.582910   9.537623   9.503607    9.492269   \n",
       "4 9.343768   9.648494   9.525925   9.479046   9.443839    9.432103   \n",
       "5 9.406722   9.801153   9.747710   9.714545   9.689621    9.681314   \n",
       "6 9.552395   9.904371   9.797723   9.752710   9.718898    9.707627   \n",
       "  Date      \n",
       "1 2022-04-08\n",
       "2 2022-04-07\n",
       "3 2022-04-06\n",
       "4 2022-04-05\n",
       "5 2022-04-04\n",
       "6 2022-04-01"
      ]
     },
     "metadata": {},
     "output_type": "display_data"
    }
   ],
   "source": [
    "tes_uvr <- data.frame(matrix(NA, nrow = nrow(tes_uvr_ns), ncol = 6))\n",
    "for (j in 1:6){\n",
    "    mat <- tes_maturity[j]\n",
    "    tes_uvr[,j]<- (nelson_sieguel_rate(tes_uvr_ns[,-c(1)],mat))*100\n",
    "}\n",
    "tes_uvr$Date <- tes_uvr_ns$Date\n",
    "\n",
    "colnames( tes_uvr) <- c('tes_uvr_6m','tes_uvr_1y','tes_uvr_3y','tes_uvr_5y','tes_uvr_10y','tes_uvr_15y','Date')\n",
    "head(tes_uvr)"
   ]
  },
  {
   "cell_type": "markdown",
   "metadata": {
    "tags": []
   },
   "source": [
    "### Corporativo a EEUU"
   ]
  },
  {
   "cell_type": "code",
   "execution_count": 9,
   "metadata": {
    "vscode": {
     "languageId": "r"
    }
   },
   "outputs": [
    {
     "data": {
      "text/html": [
       "<table class=\"dataframe\">\n",
       "<caption>A data.frame: 6 × 8</caption>\n",
       "<thead>\n",
       "\t<tr><th></th><th scope=col>Date</th><th scope=col>corp_usa_3m</th><th scope=col>corp_usa_6m</th><th scope=col>corp_usa_1y</th><th scope=col>corp_usa_3y</th><th scope=col>corp_usa_5y</th><th scope=col>corp_usa_10y</th><th scope=col>corp_usa_15y</th></tr>\n",
       "\t<tr><th></th><th scope=col>&lt;dttm&gt;</th><th scope=col>&lt;dbl&gt;</th><th scope=col>&lt;dbl&gt;</th><th scope=col>&lt;dbl&gt;</th><th scope=col>&lt;dbl&gt;</th><th scope=col>&lt;dbl&gt;</th><th scope=col>&lt;dbl&gt;</th><th scope=col>&lt;dbl&gt;</th></tr>\n",
       "</thead>\n",
       "<tbody>\n",
       "\t<tr><th scope=row>1</th><td>2009-10-13</td><td>1.1404</td><td>1.2181</td><td>1.5046</td><td>2.5661</td><td>3.4811</td><td>4.7076</td><td>5.3309</td></tr>\n",
       "\t<tr><th scope=row>2</th><td>2009-10-14</td><td>1.1381</td><td>1.2208</td><td>1.5196</td><td>2.6013</td><td>3.5293</td><td>4.7843</td><td>5.4388</td></tr>\n",
       "\t<tr><th scope=row>3</th><td>2009-10-15</td><td>1.1055</td><td>1.1932</td><td>1.5041</td><td>2.6295</td><td>3.5733</td><td>4.8308</td><td>5.4545</td></tr>\n",
       "\t<tr><th scope=row>4</th><td>2009-10-16</td><td>1.2114</td><td>1.2897</td><td>1.5619</td><td>2.6139</td><td>3.5447</td><td>4.7820</td><td>5.4008</td></tr>\n",
       "\t<tr><th scope=row>5</th><td>2009-10-19</td><td>1.1778</td><td>1.2627</td><td>1.5420</td><td>2.5997</td><td>3.5283</td><td>4.7502</td><td>5.3610</td></tr>\n",
       "\t<tr><th scope=row>6</th><td>2009-10-20</td><td>1.1593</td><td>1.2421</td><td>1.5096</td><td>2.5454</td><td>3.4739</td><td>4.7214</td><td>5.3203</td></tr>\n",
       "</tbody>\n",
       "</table>\n"
      ],
      "text/latex": [
       "A data.frame: 6 × 8\n",
       "\\begin{tabular}{r|llllllll}\n",
       "  & Date & corp\\_usa\\_3m & corp\\_usa\\_6m & corp\\_usa\\_1y & corp\\_usa\\_3y & corp\\_usa\\_5y & corp\\_usa\\_10y & corp\\_usa\\_15y\\\\\n",
       "  & <dttm> & <dbl> & <dbl> & <dbl> & <dbl> & <dbl> & <dbl> & <dbl>\\\\\n",
       "\\hline\n",
       "\t1 & 2009-10-13 & 1.1404 & 1.2181 & 1.5046 & 2.5661 & 3.4811 & 4.7076 & 5.3309\\\\\n",
       "\t2 & 2009-10-14 & 1.1381 & 1.2208 & 1.5196 & 2.6013 & 3.5293 & 4.7843 & 5.4388\\\\\n",
       "\t3 & 2009-10-15 & 1.1055 & 1.1932 & 1.5041 & 2.6295 & 3.5733 & 4.8308 & 5.4545\\\\\n",
       "\t4 & 2009-10-16 & 1.2114 & 1.2897 & 1.5619 & 2.6139 & 3.5447 & 4.7820 & 5.4008\\\\\n",
       "\t5 & 2009-10-19 & 1.1778 & 1.2627 & 1.5420 & 2.5997 & 3.5283 & 4.7502 & 5.3610\\\\\n",
       "\t6 & 2009-10-20 & 1.1593 & 1.2421 & 1.5096 & 2.5454 & 3.4739 & 4.7214 & 5.3203\\\\\n",
       "\\end{tabular}\n"
      ],
      "text/markdown": [
       "\n",
       "A data.frame: 6 × 8\n",
       "\n",
       "| <!--/--> | Date &lt;dttm&gt; | corp_usa_3m &lt;dbl&gt; | corp_usa_6m &lt;dbl&gt; | corp_usa_1y &lt;dbl&gt; | corp_usa_3y &lt;dbl&gt; | corp_usa_5y &lt;dbl&gt; | corp_usa_10y &lt;dbl&gt; | corp_usa_15y &lt;dbl&gt; |\n",
       "|---|---|---|---|---|---|---|---|---|\n",
       "| 1 | 2009-10-13 | 1.1404 | 1.2181 | 1.5046 | 2.5661 | 3.4811 | 4.7076 | 5.3309 |\n",
       "| 2 | 2009-10-14 | 1.1381 | 1.2208 | 1.5196 | 2.6013 | 3.5293 | 4.7843 | 5.4388 |\n",
       "| 3 | 2009-10-15 | 1.1055 | 1.1932 | 1.5041 | 2.6295 | 3.5733 | 4.8308 | 5.4545 |\n",
       "| 4 | 2009-10-16 | 1.2114 | 1.2897 | 1.5619 | 2.6139 | 3.5447 | 4.7820 | 5.4008 |\n",
       "| 5 | 2009-10-19 | 1.1778 | 1.2627 | 1.5420 | 2.5997 | 3.5283 | 4.7502 | 5.3610 |\n",
       "| 6 | 2009-10-20 | 1.1593 | 1.2421 | 1.5096 | 2.5454 | 3.4739 | 4.7214 | 5.3203 |\n",
       "\n"
      ],
      "text/plain": [
       "  Date       corp_usa_3m corp_usa_6m corp_usa_1y corp_usa_3y corp_usa_5y\n",
       "1 2009-10-13 1.1404      1.2181      1.5046      2.5661      3.4811     \n",
       "2 2009-10-14 1.1381      1.2208      1.5196      2.6013      3.5293     \n",
       "3 2009-10-15 1.1055      1.1932      1.5041      2.6295      3.5733     \n",
       "4 2009-10-16 1.2114      1.2897      1.5619      2.6139      3.5447     \n",
       "5 2009-10-19 1.1778      1.2627      1.5420      2.5997      3.5283     \n",
       "6 2009-10-20 1.1593      1.2421      1.5096      2.5454      3.4739     \n",
       "  corp_usa_10y corp_usa_15y\n",
       "1 4.7076       5.3309      \n",
       "2 4.7843       5.4388      \n",
       "3 4.8308       5.4545      \n",
       "4 4.7820       5.4008      \n",
       "5 4.7502       5.3610      \n",
       "6 4.7214       5.3203      "
      ]
     },
     "metadata": {},
     "output_type": "display_data"
    }
   ],
   "source": [
    "corp_usa <- read_excel(path, sheet='Corporativo A EEUU',skip=8, col_names=c('Date','corp_usa_3m','corp_usa_6m','corp_usa_1y','corp_usa_3y','corp_usa_5y','corp_usa_10y','corp_usa_15y'))\n",
    "\n",
    "corp_usa <- as.data.frame(corp_usa)\n",
    "# rownames(corp_usa) <- corp_usa$Date\n",
    "# corp_usa <- corp_usa[,-c(1)]\n",
    "head(corp_usa)"
   ]
  },
  {
   "cell_type": "markdown",
   "metadata": {
    "tags": []
   },
   "source": [
    "### ETF's de seguimiento de la economía colombiana (COLCAP) y estadounidense (SPX)"
   ]
  },
  {
   "cell_type": "code",
   "execution_count": 10,
   "metadata": {
    "vscode": {
     "languageId": "r"
    }
   },
   "outputs": [
    {
     "data": {
      "text/html": [
       "<table class=\"dataframe\">\n",
       "<caption>A data.frame: 6 × 3</caption>\n",
       "<thead>\n",
       "\t<tr><th></th><th scope=col>Date</th><th scope=col>colcap</th><th scope=col>spx</th></tr>\n",
       "\t<tr><th></th><th scope=col>&lt;dttm&gt;</th><th scope=col>&lt;dbl&gt;</th><th scope=col>&lt;dbl&gt;</th></tr>\n",
       "</thead>\n",
       "<tbody>\n",
       "\t<tr><th scope=row>1</th><td>2009-10-13</td><td>1303.03</td><td>1073.19</td></tr>\n",
       "\t<tr><th scope=row>2</th><td>2009-10-14</td><td>1294.39</td><td>1092.02</td></tr>\n",
       "\t<tr><th scope=row>3</th><td>2009-10-15</td><td>1294.11</td><td>1096.56</td></tr>\n",
       "\t<tr><th scope=row>4</th><td>2009-10-16</td><td>1301.69</td><td>1087.68</td></tr>\n",
       "\t<tr><th scope=row>5</th><td>2009-10-19</td><td>1330.80</td><td>1097.91</td></tr>\n",
       "\t<tr><th scope=row>6</th><td>2009-10-20</td><td>1315.97</td><td>1091.06</td></tr>\n",
       "</tbody>\n",
       "</table>\n"
      ],
      "text/latex": [
       "A data.frame: 6 × 3\n",
       "\\begin{tabular}{r|lll}\n",
       "  & Date & colcap & spx\\\\\n",
       "  & <dttm> & <dbl> & <dbl>\\\\\n",
       "\\hline\n",
       "\t1 & 2009-10-13 & 1303.03 & 1073.19\\\\\n",
       "\t2 & 2009-10-14 & 1294.39 & 1092.02\\\\\n",
       "\t3 & 2009-10-15 & 1294.11 & 1096.56\\\\\n",
       "\t4 & 2009-10-16 & 1301.69 & 1087.68\\\\\n",
       "\t5 & 2009-10-19 & 1330.80 & 1097.91\\\\\n",
       "\t6 & 2009-10-20 & 1315.97 & 1091.06\\\\\n",
       "\\end{tabular}\n"
      ],
      "text/markdown": [
       "\n",
       "A data.frame: 6 × 3\n",
       "\n",
       "| <!--/--> | Date &lt;dttm&gt; | colcap &lt;dbl&gt; | spx &lt;dbl&gt; |\n",
       "|---|---|---|---|\n",
       "| 1 | 2009-10-13 | 1303.03 | 1073.19 |\n",
       "| 2 | 2009-10-14 | 1294.39 | 1092.02 |\n",
       "| 3 | 2009-10-15 | 1294.11 | 1096.56 |\n",
       "| 4 | 2009-10-16 | 1301.69 | 1087.68 |\n",
       "| 5 | 2009-10-19 | 1330.80 | 1097.91 |\n",
       "| 6 | 2009-10-20 | 1315.97 | 1091.06 |\n",
       "\n"
      ],
      "text/plain": [
       "  Date       colcap  spx    \n",
       "1 2009-10-13 1303.03 1073.19\n",
       "2 2009-10-14 1294.39 1092.02\n",
       "3 2009-10-15 1294.11 1096.56\n",
       "4 2009-10-16 1301.69 1087.68\n",
       "5 2009-10-19 1330.80 1097.91\n",
       "6 2009-10-20 1315.97 1091.06"
      ]
     },
     "metadata": {},
     "output_type": "display_data"
    }
   ],
   "source": [
    "index <- read_excel(path, sheet='Indices Accionarios',skip=7, col_names=c('Date','colcap','spx'))\n",
    "index <- as.data.frame(index)\n",
    "head(index)"
   ]
  },
  {
   "cell_type": "markdown",
   "metadata": {
    "tags": []
   },
   "source": [
    "### Indice de Precios al consumidor"
   ]
  },
  {
   "cell_type": "code",
   "execution_count": 11,
   "metadata": {
    "vscode": {
     "languageId": "r"
    }
   },
   "outputs": [
    {
     "data": {
      "text/html": [
       "<table class=\"dataframe\">\n",
       "<caption>A data.frame: 6 × 2</caption>\n",
       "<thead>\n",
       "\t<tr><th></th><th scope=col>Date</th><th scope=col>ipc</th></tr>\n",
       "\t<tr><th></th><th scope=col>&lt;dttm&gt;</th><th scope=col>&lt;dbl&gt;</th></tr>\n",
       "</thead>\n",
       "<tbody>\n",
       "\t<tr><th scope=row>1</th><td>1954-07-31</td><td>0.02632</td></tr>\n",
       "\t<tr><th scope=row>2</th><td>1954-08-31</td><td>0.02612</td></tr>\n",
       "\t<tr><th scope=row>3</th><td>1954-09-30</td><td>0.02576</td></tr>\n",
       "\t<tr><th scope=row>4</th><td>1954-10-31</td><td>0.02585</td></tr>\n",
       "\t<tr><th scope=row>5</th><td>1954-11-30</td><td>0.02591</td></tr>\n",
       "\t<tr><th scope=row>6</th><td>1954-12-31</td><td>0.02605</td></tr>\n",
       "</tbody>\n",
       "</table>\n"
      ],
      "text/latex": [
       "A data.frame: 6 × 2\n",
       "\\begin{tabular}{r|ll}\n",
       "  & Date & ipc\\\\\n",
       "  & <dttm> & <dbl>\\\\\n",
       "\\hline\n",
       "\t1 & 1954-07-31 & 0.02632\\\\\n",
       "\t2 & 1954-08-31 & 0.02612\\\\\n",
       "\t3 & 1954-09-30 & 0.02576\\\\\n",
       "\t4 & 1954-10-31 & 0.02585\\\\\n",
       "\t5 & 1954-11-30 & 0.02591\\\\\n",
       "\t6 & 1954-12-31 & 0.02605\\\\\n",
       "\\end{tabular}\n"
      ],
      "text/markdown": [
       "\n",
       "A data.frame: 6 × 2\n",
       "\n",
       "| <!--/--> | Date &lt;dttm&gt; | ipc &lt;dbl&gt; |\n",
       "|---|---|---|\n",
       "| 1 | 1954-07-31 | 0.02632 |\n",
       "| 2 | 1954-08-31 | 0.02612 |\n",
       "| 3 | 1954-09-30 | 0.02576 |\n",
       "| 4 | 1954-10-31 | 0.02585 |\n",
       "| 5 | 1954-11-30 | 0.02591 |\n",
       "| 6 | 1954-12-31 | 0.02605 |\n",
       "\n"
      ],
      "text/plain": [
       "  Date       ipc    \n",
       "1 1954-07-31 0.02632\n",
       "2 1954-08-31 0.02612\n",
       "3 1954-09-30 0.02576\n",
       "4 1954-10-31 0.02585\n",
       "5 1954-11-30 0.02591\n",
       "6 1954-12-31 0.02605"
      ]
     },
     "metadata": {},
     "output_type": "display_data"
    }
   ],
   "source": [
    "ipc <- read_excel(path, sheet='IPC',skip=1, col_names=c('Date','ipc'))\n",
    "ipc <- as.data.frame(ipc)\n",
    "\n",
    "head(ipc)"
   ]
  },
  {
   "cell_type": "markdown",
   "metadata": {
    "tags": []
   },
   "source": [
    "### Tasa de cambio"
   ]
  },
  {
   "cell_type": "code",
   "execution_count": 12,
   "metadata": {
    "vscode": {
     "languageId": "r"
    }
   },
   "outputs": [
    {
     "data": {
      "text/html": [
       "<table class=\"dataframe\">\n",
       "<caption>A data.frame: 6 × 2</caption>\n",
       "<thead>\n",
       "\t<tr><th></th><th scope=col>Date</th><th scope=col>trm</th></tr>\n",
       "\t<tr><th></th><th scope=col>&lt;dttm&gt;</th><th scope=col>&lt;dbl&gt;</th></tr>\n",
       "</thead>\n",
       "<tbody>\n",
       "\t<tr><th scope=row>1</th><td>1991-11-27</td><td>693.32</td></tr>\n",
       "\t<tr><th scope=row>2</th><td>1991-11-28</td><td>693.99</td></tr>\n",
       "\t<tr><th scope=row>3</th><td>1991-11-29</td><td>694.70</td></tr>\n",
       "\t<tr><th scope=row>4</th><td>1991-11-30</td><td>694.70</td></tr>\n",
       "\t<tr><th scope=row>5</th><td>1991-12-01</td><td>643.42</td></tr>\n",
       "\t<tr><th scope=row>6</th><td>1991-12-02</td><td>643.42</td></tr>\n",
       "</tbody>\n",
       "</table>\n"
      ],
      "text/latex": [
       "A data.frame: 6 × 2\n",
       "\\begin{tabular}{r|ll}\n",
       "  & Date & trm\\\\\n",
       "  & <dttm> & <dbl>\\\\\n",
       "\\hline\n",
       "\t1 & 1991-11-27 & 693.32\\\\\n",
       "\t2 & 1991-11-28 & 693.99\\\\\n",
       "\t3 & 1991-11-29 & 694.70\\\\\n",
       "\t4 & 1991-11-30 & 694.70\\\\\n",
       "\t5 & 1991-12-01 & 643.42\\\\\n",
       "\t6 & 1991-12-02 & 643.42\\\\\n",
       "\\end{tabular}\n"
      ],
      "text/markdown": [
       "\n",
       "A data.frame: 6 × 2\n",
       "\n",
       "| <!--/--> | Date &lt;dttm&gt; | trm &lt;dbl&gt; |\n",
       "|---|---|---|\n",
       "| 1 | 1991-11-27 | 693.32 |\n",
       "| 2 | 1991-11-28 | 693.99 |\n",
       "| 3 | 1991-11-29 | 694.70 |\n",
       "| 4 | 1991-11-30 | 694.70 |\n",
       "| 5 | 1991-12-01 | 643.42 |\n",
       "| 6 | 1991-12-02 | 643.42 |\n",
       "\n"
      ],
      "text/plain": [
       "  Date       trm   \n",
       "1 1991-11-27 693.32\n",
       "2 1991-11-28 693.99\n",
       "3 1991-11-29 694.70\n",
       "4 1991-11-30 694.70\n",
       "5 1991-12-01 643.42\n",
       "6 1991-12-02 643.42"
      ]
     },
     "metadata": {},
     "output_type": "display_data"
    }
   ],
   "source": [
    "trm <- read_excel(path, sheet='TRM',skip=1, col_names=c('Date','trm'))\n",
    "trm <- as.data.frame(trm)\n",
    "head(trm)"
   ]
  },
  {
   "cell_type": "markdown",
   "metadata": {
    "tags": []
   },
   "source": [
    "### Merge bases"
   ]
  },
  {
   "cell_type": "code",
   "execution_count": 13,
   "metadata": {},
   "outputs": [],
   "source": [
    "joint <- merge(tes_cop, tes_uvr, by='Date')\n",
    "joint <- merge(joint, corp_usa, by='Date')\n",
    "joint <- merge(joint, index, by='Date')\n",
    "joint <- merge(joint, ipc, by='Date')\n",
    "joint <- merge(joint, trm, by='Date')"
   ]
  },
  {
   "cell_type": "code",
   "execution_count": 14,
   "metadata": {},
   "outputs": [
    {
     "data": {
      "text/html": [
       "<table class=\"dataframe\">\n",
       "<caption>A data.frame: 6 × 24</caption>\n",
       "<thead>\n",
       "\t<tr><th></th><th scope=col>Date</th><th scope=col>tes_cop_6m</th><th scope=col>tes_cop_1y</th><th scope=col>tes_cop_3y</th><th scope=col>tes_cop_5y</th><th scope=col>tes_cop_10y</th><th scope=col>tes_cop_15y</th><th scope=col>tes_uvr_6m</th><th scope=col>tes_uvr_1y</th><th scope=col>tes_uvr_3y</th><th scope=col>...</th><th scope=col>corp_usa_6m</th><th scope=col>corp_usa_1y</th><th scope=col>corp_usa_3y</th><th scope=col>corp_usa_5y</th><th scope=col>corp_usa_10y</th><th scope=col>corp_usa_15y</th><th scope=col>colcap</th><th scope=col>spx</th><th scope=col>ipc</th><th scope=col>trm</th></tr>\n",
       "\t<tr><th></th><th scope=col>&lt;dttm&gt;</th><th scope=col>&lt;dbl&gt;</th><th scope=col>&lt;dbl&gt;</th><th scope=col>&lt;dbl&gt;</th><th scope=col>&lt;dbl&gt;</th><th scope=col>&lt;dbl&gt;</th><th scope=col>&lt;dbl&gt;</th><th scope=col>&lt;dbl&gt;</th><th scope=col>&lt;dbl&gt;</th><th scope=col>&lt;dbl&gt;</th><th scope=col>...</th><th scope=col>&lt;dbl&gt;</th><th scope=col>&lt;dbl&gt;</th><th scope=col>&lt;dbl&gt;</th><th scope=col>&lt;dbl&gt;</th><th scope=col>&lt;dbl&gt;</th><th scope=col>&lt;dbl&gt;</th><th scope=col>&lt;dbl&gt;</th><th scope=col>&lt;dbl&gt;</th><th scope=col>&lt;dbl&gt;</th><th scope=col>&lt;dbl&gt;</th></tr>\n",
       "</thead>\n",
       "<tbody>\n",
       "\t<tr><th scope=row>1</th><td>2012-04-30</td><td>5.3703</td><td>5.5107</td><td>5.9953</td><td>6.4264</td><td>6.9410</td><td>7.3830</td><td>6.871962</td><td>7.476124</td><td>8.005419</td><td>...</td><td>0.6107</td><td>0.7131</td><td>1.1709</td><td>1.7525</td><td>3.0489</td><td>4.0806</td><td>1785.66</td><td>1397.91</td><td>77.42308</td><td>1761.20</td></tr>\n",
       "\t<tr><th scope=row>2</th><td>2012-05-31</td><td>5.3893</td><td>5.5285</td><td>6.0999</td><td>6.5436</td><td>7.1331</td><td>7.3794</td><td>6.970332</td><td>7.391326</td><td>7.599899</td><td>...</td><td>0.6806</td><td>0.7850</td><td>1.2292</td><td>1.7413</td><td>2.8987</td><td>3.8612</td><td>1726.55</td><td>1310.33</td><td>77.65538</td><td>1827.83</td></tr>\n",
       "\t<tr><th scope=row>3</th><td>2012-07-31</td><td>5.2797</td><td>5.3194</td><td>5.5589</td><td>5.8738</td><td>6.5601</td><td>6.9485</td><td>6.424124</td><td>7.206612</td><td>8.124908</td><td>...</td><td>0.4938</td><td>0.6355</td><td>1.1502</td><td>1.6431</td><td>2.6416</td><td>3.6462</td><td>1673.87</td><td>1379.32</td><td>77.70289</td><td>1789.02</td></tr>\n",
       "\t<tr><th scope=row>4</th><td>2012-08-31</td><td>4.8166</td><td>4.9088</td><td>5.2919</td><td>5.7554</td><td>6.5772</td><td>6.9073</td><td>6.235762</td><td>7.167292</td><td>8.231727</td><td>...</td><td>0.4358</td><td>0.5918</td><td>1.0962</td><td>1.6241</td><td>2.6855</td><td>3.6992</td><td>1668.50</td><td>1406.58</td><td>77.73476</td><td>1830.50</td></tr>\n",
       "\t<tr><th scope=row>5</th><td>2012-10-31</td><td>4.8347</td><td>4.9113</td><td>5.1819</td><td>5.4656</td><td>6.1046</td><td>6.3920</td><td>5.765135</td><td>6.444034</td><td>7.236066</td><td>...</td><td>0.4613</td><td>0.5624</td><td>0.9868</td><td>1.4708</td><td>2.5739</td><td>3.6532</td><td>1809.93</td><td>1412.16</td><td>78.08470</td><td>1829.89</td></tr>\n",
       "\t<tr><th scope=row>6</th><td>2012-11-30</td><td>4.8763</td><td>4.9550</td><td>5.2502</td><td>5.4218</td><td>5.9219</td><td>6.2859</td><td>5.704788</td><td>6.359417</td><td>7.151934</td><td>...</td><td>0.4868</td><td>0.5983</td><td>1.0144</td><td>1.4903</td><td>2.6414</td><td>3.7378</td><td>1759.53</td><td>1416.18</td><td>77.97795</td><td>1817.93</td></tr>\n",
       "</tbody>\n",
       "</table>\n"
      ],
      "text/latex": [
       "A data.frame: 6 × 24\n",
       "\\begin{tabular}{r|lllllllllllllllllllll}\n",
       "  & Date & tes\\_cop\\_6m & tes\\_cop\\_1y & tes\\_cop\\_3y & tes\\_cop\\_5y & tes\\_cop\\_10y & tes\\_cop\\_15y & tes\\_uvr\\_6m & tes\\_uvr\\_1y & tes\\_uvr\\_3y & ... & corp\\_usa\\_6m & corp\\_usa\\_1y & corp\\_usa\\_3y & corp\\_usa\\_5y & corp\\_usa\\_10y & corp\\_usa\\_15y & colcap & spx & ipc & trm\\\\\n",
       "  & <dttm> & <dbl> & <dbl> & <dbl> & <dbl> & <dbl> & <dbl> & <dbl> & <dbl> & <dbl> & ... & <dbl> & <dbl> & <dbl> & <dbl> & <dbl> & <dbl> & <dbl> & <dbl> & <dbl> & <dbl>\\\\\n",
       "\\hline\n",
       "\t1 & 2012-04-30 & 5.3703 & 5.5107 & 5.9953 & 6.4264 & 6.9410 & 7.3830 & 6.871962 & 7.476124 & 8.005419 & ... & 0.6107 & 0.7131 & 1.1709 & 1.7525 & 3.0489 & 4.0806 & 1785.66 & 1397.91 & 77.42308 & 1761.20\\\\\n",
       "\t2 & 2012-05-31 & 5.3893 & 5.5285 & 6.0999 & 6.5436 & 7.1331 & 7.3794 & 6.970332 & 7.391326 & 7.599899 & ... & 0.6806 & 0.7850 & 1.2292 & 1.7413 & 2.8987 & 3.8612 & 1726.55 & 1310.33 & 77.65538 & 1827.83\\\\\n",
       "\t3 & 2012-07-31 & 5.2797 & 5.3194 & 5.5589 & 5.8738 & 6.5601 & 6.9485 & 6.424124 & 7.206612 & 8.124908 & ... & 0.4938 & 0.6355 & 1.1502 & 1.6431 & 2.6416 & 3.6462 & 1673.87 & 1379.32 & 77.70289 & 1789.02\\\\\n",
       "\t4 & 2012-08-31 & 4.8166 & 4.9088 & 5.2919 & 5.7554 & 6.5772 & 6.9073 & 6.235762 & 7.167292 & 8.231727 & ... & 0.4358 & 0.5918 & 1.0962 & 1.6241 & 2.6855 & 3.6992 & 1668.50 & 1406.58 & 77.73476 & 1830.50\\\\\n",
       "\t5 & 2012-10-31 & 4.8347 & 4.9113 & 5.1819 & 5.4656 & 6.1046 & 6.3920 & 5.765135 & 6.444034 & 7.236066 & ... & 0.4613 & 0.5624 & 0.9868 & 1.4708 & 2.5739 & 3.6532 & 1809.93 & 1412.16 & 78.08470 & 1829.89\\\\\n",
       "\t6 & 2012-11-30 & 4.8763 & 4.9550 & 5.2502 & 5.4218 & 5.9219 & 6.2859 & 5.704788 & 6.359417 & 7.151934 & ... & 0.4868 & 0.5983 & 1.0144 & 1.4903 & 2.6414 & 3.7378 & 1759.53 & 1416.18 & 77.97795 & 1817.93\\\\\n",
       "\\end{tabular}\n"
      ],
      "text/markdown": [
       "\n",
       "A data.frame: 6 × 24\n",
       "\n",
       "| <!--/--> | Date &lt;dttm&gt; | tes_cop_6m &lt;dbl&gt; | tes_cop_1y &lt;dbl&gt; | tes_cop_3y &lt;dbl&gt; | tes_cop_5y &lt;dbl&gt; | tes_cop_10y &lt;dbl&gt; | tes_cop_15y &lt;dbl&gt; | tes_uvr_6m &lt;dbl&gt; | tes_uvr_1y &lt;dbl&gt; | tes_uvr_3y &lt;dbl&gt; | ... ... | corp_usa_6m &lt;dbl&gt; | corp_usa_1y &lt;dbl&gt; | corp_usa_3y &lt;dbl&gt; | corp_usa_5y &lt;dbl&gt; | corp_usa_10y &lt;dbl&gt; | corp_usa_15y &lt;dbl&gt; | colcap &lt;dbl&gt; | spx &lt;dbl&gt; | ipc &lt;dbl&gt; | trm &lt;dbl&gt; |\n",
       "|---|---|---|---|---|---|---|---|---|---|---|---|---|---|---|---|---|---|---|---|---|---|\n",
       "| 1 | 2012-04-30 | 5.3703 | 5.5107 | 5.9953 | 6.4264 | 6.9410 | 7.3830 | 6.871962 | 7.476124 | 8.005419 | ... | 0.6107 | 0.7131 | 1.1709 | 1.7525 | 3.0489 | 4.0806 | 1785.66 | 1397.91 | 77.42308 | 1761.20 |\n",
       "| 2 | 2012-05-31 | 5.3893 | 5.5285 | 6.0999 | 6.5436 | 7.1331 | 7.3794 | 6.970332 | 7.391326 | 7.599899 | ... | 0.6806 | 0.7850 | 1.2292 | 1.7413 | 2.8987 | 3.8612 | 1726.55 | 1310.33 | 77.65538 | 1827.83 |\n",
       "| 3 | 2012-07-31 | 5.2797 | 5.3194 | 5.5589 | 5.8738 | 6.5601 | 6.9485 | 6.424124 | 7.206612 | 8.124908 | ... | 0.4938 | 0.6355 | 1.1502 | 1.6431 | 2.6416 | 3.6462 | 1673.87 | 1379.32 | 77.70289 | 1789.02 |\n",
       "| 4 | 2012-08-31 | 4.8166 | 4.9088 | 5.2919 | 5.7554 | 6.5772 | 6.9073 | 6.235762 | 7.167292 | 8.231727 | ... | 0.4358 | 0.5918 | 1.0962 | 1.6241 | 2.6855 | 3.6992 | 1668.50 | 1406.58 | 77.73476 | 1830.50 |\n",
       "| 5 | 2012-10-31 | 4.8347 | 4.9113 | 5.1819 | 5.4656 | 6.1046 | 6.3920 | 5.765135 | 6.444034 | 7.236066 | ... | 0.4613 | 0.5624 | 0.9868 | 1.4708 | 2.5739 | 3.6532 | 1809.93 | 1412.16 | 78.08470 | 1829.89 |\n",
       "| 6 | 2012-11-30 | 4.8763 | 4.9550 | 5.2502 | 5.4218 | 5.9219 | 6.2859 | 5.704788 | 6.359417 | 7.151934 | ... | 0.4868 | 0.5983 | 1.0144 | 1.4903 | 2.6414 | 3.7378 | 1759.53 | 1416.18 | 77.97795 | 1817.93 |\n",
       "\n"
      ],
      "text/plain": [
       "  Date       tes_cop_6m tes_cop_1y tes_cop_3y tes_cop_5y tes_cop_10y\n",
       "1 2012-04-30 5.3703     5.5107     5.9953     6.4264     6.9410     \n",
       "2 2012-05-31 5.3893     5.5285     6.0999     6.5436     7.1331     \n",
       "3 2012-07-31 5.2797     5.3194     5.5589     5.8738     6.5601     \n",
       "4 2012-08-31 4.8166     4.9088     5.2919     5.7554     6.5772     \n",
       "5 2012-10-31 4.8347     4.9113     5.1819     5.4656     6.1046     \n",
       "6 2012-11-30 4.8763     4.9550     5.2502     5.4218     5.9219     \n",
       "  tes_cop_15y tes_uvr_6m tes_uvr_1y tes_uvr_3y ... corp_usa_6m corp_usa_1y\n",
       "1 7.3830      6.871962   7.476124   8.005419   ... 0.6107      0.7131     \n",
       "2 7.3794      6.970332   7.391326   7.599899   ... 0.6806      0.7850     \n",
       "3 6.9485      6.424124   7.206612   8.124908   ... 0.4938      0.6355     \n",
       "4 6.9073      6.235762   7.167292   8.231727   ... 0.4358      0.5918     \n",
       "5 6.3920      5.765135   6.444034   7.236066   ... 0.4613      0.5624     \n",
       "6 6.2859      5.704788   6.359417   7.151934   ... 0.4868      0.5983     \n",
       "  corp_usa_3y corp_usa_5y corp_usa_10y corp_usa_15y colcap  spx     ipc     \n",
       "1 1.1709      1.7525      3.0489       4.0806       1785.66 1397.91 77.42308\n",
       "2 1.2292      1.7413      2.8987       3.8612       1726.55 1310.33 77.65538\n",
       "3 1.1502      1.6431      2.6416       3.6462       1673.87 1379.32 77.70289\n",
       "4 1.0962      1.6241      2.6855       3.6992       1668.50 1406.58 77.73476\n",
       "5 0.9868      1.4708      2.5739       3.6532       1809.93 1412.16 78.08470\n",
       "6 1.0144      1.4903      2.6414       3.7378       1759.53 1416.18 77.97795\n",
       "  trm    \n",
       "1 1761.20\n",
       "2 1827.83\n",
       "3 1789.02\n",
       "4 1830.50\n",
       "5 1829.89\n",
       "6 1817.93"
      ]
     },
     "metadata": {},
     "output_type": "display_data"
    }
   ],
   "source": [
    "head(joint)"
   ]
  },
  {
   "cell_type": "markdown",
   "metadata": {
    "tags": []
   },
   "source": [
    "# Simulaciones de proyección\n",
    "En esta sección se estiman las 1000 simulaciones para cada uno de los productos financieros. En el caso de los bonos TES cop, TES UVR y corp EEUU se realiza el análisis de componentes principales."
   ]
  },
  {
   "cell_type": "markdown",
   "metadata": {
    "tags": []
   },
   "source": [
    "## Set up "
   ]
  },
  {
   "cell_type": "code",
   "execution_count": 15,
   "metadata": {
    "vscode": {
     "languageId": "r"
    }
   },
   "outputs": [],
   "source": [
    "librerias <- c(\"forecast\",\"xts\",\"rugarch\",\"timeSeries\",\"ggplot2\",\"astsa\",\"scales\",\"lubridate\",\"reshape2\",\"quantmod\",\"xtable\",\"tseries\")"
   ]
  },
  {
   "cell_type": "code",
   "execution_count": 16,
   "metadata": {
    "vscode": {
     "languageId": "r"
    }
   },
   "outputs": [],
   "source": [
    "library('stats')"
   ]
  },
  {
   "cell_type": "code",
   "execution_count": 17,
   "metadata": {
    "vscode": {
     "languageId": "r"
    }
   },
   "outputs": [
    {
     "name": "stderr",
     "output_type": "stream",
     "text": [
      "Warning message:\n",
      "\"package 'forecast' was built under R version 3.6.3\"Registered S3 method overwritten by 'quantmod':\n",
      "  method            from\n",
      "  as.zoo.data.frame zoo \n",
      "Warning message:\n",
      "\"package 'rugarch' was built under R version 3.6.3\"\n",
      "Attaching package: 'rugarch'\n",
      "\n",
      "The following object is masked from 'package:stats':\n",
      "\n",
      "    sigma\n",
      "\n",
      "Warning message:\n",
      "\"package 'timeSeries' was built under R version 3.6.3\"Warning message:\n",
      "\"package 'timeDate' was built under R version 3.6.2\"\n",
      "Attaching package: 'timeSeries'\n",
      "\n",
      "The following object is masked from 'package:zoo':\n",
      "\n",
      "    time<-\n",
      "\n",
      "\n",
      "Attaching package: 'astsa'\n",
      "\n",
      "The following object is masked from 'package:forecast':\n",
      "\n",
      "    gas\n",
      "\n",
      "Warning message:\n",
      "\"package 'scales' was built under R version 3.6.3\"Warning message:\n",
      "\"package 'reshape2' was built under R version 3.6.3\"\n",
      "Attaching package: 'reshape2'\n",
      "\n",
      "The following object is masked from 'package:tidyr':\n",
      "\n",
      "    smiths\n",
      "\n",
      "Version 0.4-0 included new data defaults. See ?getSymbols.\n",
      "Warning message:\n",
      "\"package 'xtable' was built under R version 3.6.3\"\n",
      "Attaching package: 'xtable'\n",
      "\n",
      "The following object is masked from 'package:timeSeries':\n",
      "\n",
      "    align\n",
      "\n",
      "The following object is masked from 'package:timeDate':\n",
      "\n",
      "    align\n",
      "\n",
      "Warning message:\n",
      "\"package 'tseries' was built under R version 3.6.3\""
     ]
    }
   ],
   "source": [
    "if(length(setdiff(librerias, rownames(installed.packages()))) > 0){\n",
    "  install.packages(setdiff(librerias, rownames(installed.packages())))}\n",
    "invisible(sapply(librerias, require, character.only = TRUE,quietly = TRUE))"
   ]
  },
  {
   "cell_type": "code",
   "execution_count": 18,
   "metadata": {
    "vscode": {
     "languageId": "r"
    }
   },
   "outputs": [],
   "source": [
    "future <- 260 #52 semanas y 5 dìas a la semana para evaluar a un año\n",
    "simulations <- 1000"
   ]
  },
  {
   "cell_type": "code",
   "execution_count": 18,
   "metadata": {
    "vscode": {
     "languageId": "r"
    }
   },
   "outputs": [],
   "source": [
    "i_tes_cop <- tes_cop_ns[-nrow(tes_cop_ns),]\n",
    "f_tes_cop <- tes_cop_ns[-1,]\n",
    "delta_tes_cop_ns <- f_tes_cop - i_tes_cop"
   ]
  },
  {
   "cell_type": "code",
   "execution_count": 19,
   "metadata": {
    "vscode": {
     "languageId": "r"
    }
   },
   "outputs": [
    {
     "data": {
      "text/html": [
       "<table class=\"dataframe\">\n",
       "<caption>A matrix: 6 × 4 of type dbl</caption>\n",
       "<thead>\n",
       "\t<tr><th scope=col>beta_0</th><th scope=col>beta_1</th><th scope=col>beta_2</th><th scope=col>lambda</th></tr>\n",
       "</thead>\n",
       "<tbody>\n",
       "\t<tr><td>-0.06977175</td><td> 0.02571902</td><td>-0.106241637</td><td> 0.02218765</td></tr>\n",
       "\t<tr><td>-0.01312430</td><td> 0.01856500</td><td> 0.029002789</td><td> 0.00000000</td></tr>\n",
       "\t<tr><td>-0.04168666</td><td> 0.09245968</td><td>-0.002141761</td><td> 0.00000000</td></tr>\n",
       "\t<tr><td>-0.09177265</td><td> 0.10452687</td><td> 0.019206748</td><td> 0.00000000</td></tr>\n",
       "\t<tr><td>-0.06661783</td><td> 0.08733963</td><td>-0.001957500</td><td> 0.01320032</td></tr>\n",
       "\t<tr><td> 0.04701532</td><td>-0.02721950</td><td>-0.017491214</td><td>-0.01320032</td></tr>\n",
       "</tbody>\n",
       "</table>\n"
      ],
      "text/latex": [
       "A matrix: 6 × 4 of type dbl\n",
       "\\begin{tabular}{llll}\n",
       " beta\\_0 & beta\\_1 & beta\\_2 & lambda\\\\\n",
       "\\hline\n",
       "\t -0.06977175 &  0.02571902 & -0.106241637 &  0.02218765\\\\\n",
       "\t -0.01312430 &  0.01856500 &  0.029002789 &  0.00000000\\\\\n",
       "\t -0.04168666 &  0.09245968 & -0.002141761 &  0.00000000\\\\\n",
       "\t -0.09177265 &  0.10452687 &  0.019206748 &  0.00000000\\\\\n",
       "\t -0.06661783 &  0.08733963 & -0.001957500 &  0.01320032\\\\\n",
       "\t  0.04701532 & -0.02721950 & -0.017491214 & -0.01320032\\\\\n",
       "\\end{tabular}\n"
      ],
      "text/markdown": [
       "\n",
       "A matrix: 6 × 4 of type dbl\n",
       "\n",
       "| beta_0 | beta_1 | beta_2 | lambda |\n",
       "|---|---|---|---|\n",
       "| -0.06977175 |  0.02571902 | -0.106241637 |  0.02218765 |\n",
       "| -0.01312430 |  0.01856500 |  0.029002789 |  0.00000000 |\n",
       "| -0.04168666 |  0.09245968 | -0.002141761 |  0.00000000 |\n",
       "| -0.09177265 |  0.10452687 |  0.019206748 |  0.00000000 |\n",
       "| -0.06661783 |  0.08733963 | -0.001957500 |  0.01320032 |\n",
       "|  0.04701532 | -0.02721950 | -0.017491214 | -0.01320032 |\n",
       "\n"
      ],
      "text/plain": [
       "     beta_0      beta_1      beta_2       lambda     \n",
       "[1,] -0.06977175  0.02571902 -0.106241637  0.02218765\n",
       "[2,] -0.01312430  0.01856500  0.029002789  0.00000000\n",
       "[3,] -0.04168666  0.09245968 -0.002141761  0.00000000\n",
       "[4,] -0.09177265  0.10452687  0.019206748  0.00000000\n",
       "[5,] -0.06661783  0.08733963 -0.001957500  0.01320032\n",
       "[6,]  0.04701532 -0.02721950 -0.017491214 -0.01320032"
      ]
     },
     "metadata": {},
     "output_type": "display_data"
    }
   ],
   "source": [
    "head(delta_tes_cop_ns)"
   ]
  },
  {
   "cell_type": "markdown",
   "metadata": {},
   "source": [
    "Con la metodologìa de PCA reducimos la dimensionalidad:"
   ]
  },
  {
   "cell_type": "code",
   "execution_count": 20,
   "metadata": {
    "vscode": {
     "languageId": "r"
    }
   },
   "outputs": [
    {
     "data": {
      "text/plain": [
       "Importance of components:\n",
       "                          PC1    PC2     PC3     PC4\n",
       "Standard deviation     1.6131 1.1051 0.38098 0.17741\n",
       "Proportion of Variance 0.6506 0.3053 0.03629 0.00787\n",
       "Cumulative Proportion  0.6506 0.9558 0.99213 1.00000"
      ]
     },
     "metadata": {},
     "output_type": "display_data"
    }
   ],
   "source": [
    "pca_tes_cop <- prcomp(delta_tes_cop_ns, scale=TRUE)\n",
    "summary(pca_tes_cop)"
   ]
  },
  {
   "cell_type": "code",
   "execution_count": 21,
   "metadata": {
    "vscode": {
     "languageId": "r"
    }
   },
   "outputs": [
    {
     "data": {
      "text/html": [
       "<table class=\"dataframe\">\n",
       "<caption>A matrix: 6 × 4 of type dbl</caption>\n",
       "<thead>\n",
       "\t<tr><th scope=col>PC1</th><th scope=col>PC2</th><th scope=col>PC3</th><th scope=col>PC4</th></tr>\n",
       "</thead>\n",
       "<tbody>\n",
       "\t<tr><td>-0.01321555</td><td>-0.23584992</td><td> 0.064994517</td><td>-0.067192525</td></tr>\n",
       "\t<tr><td>-0.04888901</td><td>-0.02182426</td><td>-0.003923853</td><td> 0.005501787</td></tr>\n",
       "\t<tr><td>-0.15294004</td><td>-0.12858967</td><td>-0.085797390</td><td> 0.026638042</td></tr>\n",
       "\t<tr><td>-0.23522372</td><td>-0.17617426</td><td>-0.065824742</td><td>-0.033053438</td></tr>\n",
       "\t<tr><td>-0.13905373</td><td>-0.22124785</td><td>-0.007551177</td><td> 0.010983057</td></tr>\n",
       "\t<tr><td> 0.05181849</td><td> 0.14164076</td><td>-0.059745127</td><td> 0.011150354</td></tr>\n",
       "</tbody>\n",
       "</table>\n"
      ],
      "text/latex": [
       "A matrix: 6 × 4 of type dbl\n",
       "\\begin{tabular}{llll}\n",
       " PC1 & PC2 & PC3 & PC4\\\\\n",
       "\\hline\n",
       "\t -0.01321555 & -0.23584992 &  0.064994517 & -0.067192525\\\\\n",
       "\t -0.04888901 & -0.02182426 & -0.003923853 &  0.005501787\\\\\n",
       "\t -0.15294004 & -0.12858967 & -0.085797390 &  0.026638042\\\\\n",
       "\t -0.23522372 & -0.17617426 & -0.065824742 & -0.033053438\\\\\n",
       "\t -0.13905373 & -0.22124785 & -0.007551177 &  0.010983057\\\\\n",
       "\t  0.05181849 &  0.14164076 & -0.059745127 &  0.011150354\\\\\n",
       "\\end{tabular}\n"
      ],
      "text/markdown": [
       "\n",
       "A matrix: 6 × 4 of type dbl\n",
       "\n",
       "| PC1 | PC2 | PC3 | PC4 |\n",
       "|---|---|---|---|\n",
       "| -0.01321555 | -0.23584992 |  0.064994517 | -0.067192525 |\n",
       "| -0.04888901 | -0.02182426 | -0.003923853 |  0.005501787 |\n",
       "| -0.15294004 | -0.12858967 | -0.085797390 |  0.026638042 |\n",
       "| -0.23522372 | -0.17617426 | -0.065824742 | -0.033053438 |\n",
       "| -0.13905373 | -0.22124785 | -0.007551177 |  0.010983057 |\n",
       "|  0.05181849 |  0.14164076 | -0.059745127 |  0.011150354 |\n",
       "\n"
      ],
      "text/plain": [
       "     PC1         PC2         PC3          PC4         \n",
       "[1,] -0.01321555 -0.23584992  0.064994517 -0.067192525\n",
       "[2,] -0.04888901 -0.02182426 -0.003923853  0.005501787\n",
       "[3,] -0.15294004 -0.12858967 -0.085797390  0.026638042\n",
       "[4,] -0.23522372 -0.17617426 -0.065824742 -0.033053438\n",
       "[5,] -0.13905373 -0.22124785 -0.007551177  0.010983057\n",
       "[6,]  0.05181849  0.14164076 -0.059745127  0.011150354"
      ]
     },
     "metadata": {},
     "output_type": "display_data"
    }
   ],
   "source": [
    "head(pca_tes_cop$x)"
   ]
  },
  {
   "cell_type": "markdown",
   "metadata": {},
   "source": [
    "Seleccionamos los primeros 2 componentes que explican el 95% del comportamiento de la serie y corremos un arima para cada uno de ellos"
   ]
  },
  {
   "cell_type": "code",
   "execution_count": 27,
   "metadata": {
    "vscode": {
     "languageId": "r"
    }
   },
   "outputs": [
    {
     "data": {
      "text/plain": [
       "\n",
       "\tBox-Pierce test\n",
       "\n",
       "data:  arima_pca_1_tes_cop$residuals\n",
       "X-squared = 0.018292, df = 1, p-value = 0.8924\n"
      ]
     },
     "metadata": {},
     "output_type": "display_data"
    },
    {
     "data": {
      "text/plain": [
       "\n",
       "\tBox-Pierce test\n",
       "\n",
       "data:  arima_pca_1_tes_cop$residuals\n",
       "X-squared = 0.018292, df = 1, p-value = 0.8924\n"
      ]
     },
     "metadata": {},
     "output_type": "display_data"
    }
   ],
   "source": [
    "arima_pca_1_tes_cop <- auto.arima(pca_tes_cop$x[,1],stepwise = T,approximation = F)\n",
    "Box.test(arima_pca_1_tes_cop$residuals)\n",
    "arima_pca_2_tes_cop  <- auto.arima(pca_tes_cop$x[,2],stepwise = T,approximation = F)\n",
    "Box.test(arima_pca_1_tes_cop$residuals)\n"
   ]
  },
  {
   "cell_type": "markdown",
   "metadata": {},
   "source": [
    "Simulamos a 260 periodos en el futuro (1 año) y realizamos el mismo procedimiento 1000 veces"
   ]
  },
  {
   "cell_type": "code",
   "execution_count": 28,
   "metadata": {
    "vscode": {
     "languageId": "r"
    }
   },
   "outputs": [],
   "source": [
    "sim_pca_1_tes_cop <- replicate(expr = simulate(object = arima_pca_1_tes_cop,nsim = future),n = simulations)\n",
    "sim_pca_2_tes_cop <- replicate(expr = simulate(object =arima_pca_2_tes_cop,nsim = future),n = simulations)\n",
    "Bt1 <- pca_tes_cop$rotation[,1] #Eigen values del primer componente\n",
    "Bt2 <- pca_tes_cop$rotation[,2] #Eigen values del segundo componente\n"
   ]
  },
  {
   "cell_type": "markdown",
   "metadata": {},
   "source": [
    "Reversamos el procedimiento de PCA, multiplicando los eigen values por el cambio en cada componente"
   ]
  },
  {
   "cell_type": "code",
   "execution_count": 29,
   "metadata": {
    "vscode": {
     "languageId": "r"
    }
   },
   "outputs": [
    {
     "data": {
      "text/html": [
       "<table class=\"dataframe\">\n",
       "<caption>A matrix: 3 × 1000 of type dbl</caption>\n",
       "<tbody>\n",
       "\t<tr><td>-0.1856780</td><td>-0.1778925</td><td>-1.02601113</td><td>-1.92734556</td><td>-0.3000903</td><td> 1.315765</td><td>-0.91823480</td><td> 0.4103676</td><td> 0.2669049</td><td> 0.6059881</td><td>...</td><td>-0.4663345</td><td>-0.0313809</td><td> 0.014388927</td><td> 1.03903354</td><td>-1.32588407</td><td>-1.3320434</td><td> 0.4669779</td><td>-0.6306242</td><td>-1.4325079</td><td>-1.60840683</td></tr>\n",
       "\t<tr><td> 0.5445780</td><td>-0.9806836</td><td>-0.07267132</td><td> 1.58757888</td><td> 1.0100853</td><td> 1.023286</td><td>-0.02164902</td><td>-0.5937949</td><td> 0.7180511</td><td> 0.2410138</td><td>...</td><td>-0.1487819</td><td>-0.4129208</td><td>-0.817239892</td><td>-1.22346427</td><td> 0.37972805</td><td> 1.1926767</td><td>-0.4528030</td><td> 1.0400085</td><td> 0.7165630</td><td>-0.11204069</td></tr>\n",
       "\t<tr><td>-0.5560755</td><td> 0.3176130</td><td> 0.49447835</td><td>-0.06387172</td><td>-1.0962893</td><td>-1.639022</td><td>-0.17529489</td><td>-0.4070562</td><td>-1.3540915</td><td>-0.1571198</td><td>...</td><td>-0.6434944</td><td> 0.6516976</td><td> 0.005204321</td><td>-0.06921579</td><td> 0.05620399</td><td> 0.6300882</td><td>-0.6084632</td><td>-1.1760778</td><td> 0.1119728</td><td>-0.05696253</td></tr>\n",
       "</tbody>\n",
       "</table>\n"
      ],
      "text/latex": [
       "A matrix: 3 × 1000 of type dbl\n",
       "\\begin{tabular}{lllllllllllllllllllll}\n",
       "\t -0.1856780 & -0.1778925 & -1.02601113 & -1.92734556 & -0.3000903 &  1.315765 & -0.91823480 &  0.4103676 &  0.2669049 &  0.6059881 & ... & -0.4663345 & -0.0313809 &  0.014388927 &  1.03903354 & -1.32588407 & -1.3320434 &  0.4669779 & -0.6306242 & -1.4325079 & -1.60840683\\\\\n",
       "\t  0.5445780 & -0.9806836 & -0.07267132 &  1.58757888 &  1.0100853 &  1.023286 & -0.02164902 & -0.5937949 &  0.7180511 &  0.2410138 & ... & -0.1487819 & -0.4129208 & -0.817239892 & -1.22346427 &  0.37972805 &  1.1926767 & -0.4528030 &  1.0400085 &  0.7165630 & -0.11204069\\\\\n",
       "\t -0.5560755 &  0.3176130 &  0.49447835 & -0.06387172 & -1.0962893 & -1.639022 & -0.17529489 & -0.4070562 & -1.3540915 & -0.1571198 & ... & -0.6434944 &  0.6516976 &  0.005204321 & -0.06921579 &  0.05620399 &  0.6300882 & -0.6084632 & -1.1760778 &  0.1119728 & -0.05696253\\\\\n",
       "\\end{tabular}\n"
      ],
      "text/markdown": [
       "\n",
       "A matrix: 3 × 1000 of type dbl\n",
       "\n",
       "| -0.1856780 | -0.1778925 | -1.02601113 | -1.92734556 | -0.3000903 |  1.315765 | -0.91823480 |  0.4103676 |  0.2669049 |  0.6059881 | ... | -0.4663345 | -0.0313809 |  0.014388927 |  1.03903354 | -1.32588407 | -1.3320434 |  0.4669779 | -0.6306242 | -1.4325079 | -1.60840683 |\n",
       "|  0.5445780 | -0.9806836 | -0.07267132 |  1.58757888 |  1.0100853 |  1.023286 | -0.02164902 | -0.5937949 |  0.7180511 |  0.2410138 | ... | -0.1487819 | -0.4129208 | -0.817239892 | -1.22346427 |  0.37972805 |  1.1926767 | -0.4528030 |  1.0400085 |  0.7165630 | -0.11204069 |\n",
       "| -0.5560755 |  0.3176130 |  0.49447835 | -0.06387172 | -1.0962893 | -1.639022 | -0.17529489 | -0.4070562 | -1.3540915 | -0.1571198 | ... | -0.6434944 |  0.6516976 |  0.005204321 | -0.06921579 |  0.05620399 |  0.6300882 | -0.6084632 | -1.1760778 |  0.1119728 | -0.05696253 |\n",
       "\n"
      ],
      "text/plain": [
       "     [,1]       [,2]       [,3]        [,4]        [,5]       [,6]     \n",
       "[1,] -0.1856780 -0.1778925 -1.02601113 -1.92734556 -0.3000903  1.315765\n",
       "[2,]  0.5445780 -0.9806836 -0.07267132  1.58757888  1.0100853  1.023286\n",
       "[3,] -0.5560755  0.3176130  0.49447835 -0.06387172 -1.0962893 -1.639022\n",
       "     [,7]        [,8]       [,9]       [,10]      [,11] [,12]      [,13]     \n",
       "[1,] -0.91823480  0.4103676  0.2669049  0.6059881 ...   -0.4663345 -0.0313809\n",
       "[2,] -0.02164902 -0.5937949  0.7180511  0.2410138 ...   -0.1487819 -0.4129208\n",
       "[3,] -0.17529489 -0.4070562 -1.3540915 -0.1571198 ...   -0.6434944  0.6516976\n",
       "     [,14]        [,15]       [,16]       [,17]      [,18]      [,19]     \n",
       "[1,]  0.014388927  1.03903354 -1.32588407 -1.3320434  0.4669779 -0.6306242\n",
       "[2,] -0.817239892 -1.22346427  0.37972805  1.1926767 -0.4528030  1.0400085\n",
       "[3,]  0.005204321 -0.06921579  0.05620399  0.6300882 -0.6084632 -1.1760778\n",
       "     [,20]      [,21]      \n",
       "[1,] -1.4325079 -1.60840683\n",
       "[2,]  0.7165630 -0.11204069\n",
       "[3,]  0.1119728 -0.05696253"
      ]
     },
     "metadata": {},
     "output_type": "display_data"
    }
   ],
   "source": [
    "delta<-matrix(,nrow=future, ncol=simulations)\n",
    "\n",
    "for (i in 1:future){\n",
    "        for (j in 1:simulations){\n",
    "                delta[i,j] <- sum(sim_pca_1_tes_cop[i,j]*Bt1)+sum(sim_pca_2_tes_cop[i,j]*Bt2)\n",
    "        }\n",
    "}\n",
    "head(delta, 3)"
   ]
  },
  {
   "cell_type": "code",
   "execution_count": 30,
   "metadata": {
    "vscode": {
     "languageId": "r"
    }
   },
   "outputs": [],
   "source": [
    "f_ns_tes_cop <- list()\n",
    "alpha <- tes_cop_ns[nrow(tes_cop_ns),] \n",
    "alphanuevo <- alpha + 2\n",
    "for (i in 1:simulations){\n",
    "        newalph <- alpha\n",
    "        for (j in 1:future){\n",
    "                newalph <-  newalph + delta[j,i] \n",
    "                        if (j==260){\n",
    "                                f_ns_tes_cop <- append(f_ns_tes_cop, newalph) #Guardamos unicamente los resultados del último periodo pues es la frontera a un año\n",
    "                        }\n",
    "        }\n",
    "}\n",
    "mat_f_ns_tes_cop <- matrix(f_ns_tes_cop, ncol=4,byrow=T)\n",
    "mat_f_ns_tes_cop <- as.data.frame(mat_f_ns_tes_cop )"
   ]
  },
  {
   "cell_type": "code",
   "execution_count": 31,
   "metadata": {
    "vscode": {
     "languageId": "r"
    }
   },
   "outputs": [],
   "source": [
    "names(mat_f_ns_tes_cop) <- c('beta_0','beta_1', 'beta_2', 'lambda')"
   ]
  },
  {
   "cell_type": "code",
   "execution_count": 32,
   "metadata": {
    "vscode": {
     "languageId": "r"
    }
   },
   "outputs": [],
   "source": [
    "mat_f_ns_tes_cop<- data.frame(lapply(mat_f_ns_tes_cop, function(x) as.numeric(x)))"
   ]
  },
  {
   "cell_type": "markdown",
   "metadata": {},
   "source": [
    "Calculamos las tasas del bono por medio de los parametros de NS"
   ]
  },
  {
   "cell_type": "code",
   "execution_count": 33,
   "metadata": {
    "vscode": {
     "languageId": "r"
    }
   },
   "outputs": [],
   "source": [
    "tes_f_rates <- nelson_sieguel_rate(mat_f_ns_tes_cop,0.5)"
   ]
  },
  {
   "cell_type": "code",
   "execution_count": 34,
   "metadata": {
    "vscode": {
     "languageId": "r"
    }
   },
   "outputs": [
    {
     "data": {
      "text/plain": [
       "      rate        \n",
       " Min.   :  3.142  \n",
       " 1st Qu.:  4.715  \n",
       " Median :  7.684  \n",
       " Mean   : 11.610  \n",
       " 3rd Qu.: 11.615  \n",
       " Max.   :345.468  "
      ]
     },
     "metadata": {},
     "output_type": "display_data"
    },
    {
     "data": {
      "text/plain": [
       "      Date                           6m              1y              3y       \n",
       " Min.   :2012-04-27 00:00:00   Min.   :1.946   Min.   :2.137   Min.   :3.026  \n",
       " 1st Qu.:2014-10-21 18:00:00   1st Qu.:4.136   1st Qu.:4.336   1st Qu.:5.118  \n",
       " Median :2017-04-15 12:00:00   Median :4.637   Median :4.739   Median :5.450  \n",
       " Mean   :2017-04-15 12:00:00   Mean   :4.617   Mean   :4.759   Mean   :5.490  \n",
       " 3rd Qu.:2019-10-09 06:00:00   3rd Qu.:5.289   3rd Qu.:5.368   3rd Qu.:5.853  \n",
       " Max.   :2022-04-04 00:00:00   Max.   :7.951   Max.   :8.104   Max.   :9.205  \n",
       "       5y             10y              15y        \n",
       " Min.   :3.888   Min.   : 4.811   Min.   : 5.212  \n",
       " 1st Qu.:5.607   1st Qu.: 6.430   1st Qu.: 6.850  \n",
       " Median :6.040   Median : 6.815   Median : 7.221  \n",
       " Mean   :6.058   Mean   : 6.869   Mean   : 7.304  \n",
       " 3rd Qu.:6.449   3rd Qu.: 7.248   3rd Qu.: 7.726  \n",
       " Max.   :9.802   Max.   :10.249   Max.   :10.284  "
      ]
     },
     "metadata": {},
     "output_type": "display_data"
    }
   ],
   "source": [
    "summary(tes_f_rates)\n",
    "summary(tes_cop)"
   ]
  },
  {
   "cell_type": "code",
   "execution_count": 36,
   "metadata": {},
   "outputs": [
    {
     "name": "stderr",
     "output_type": "stream",
     "text": [
      "`stat_bin()` using `bins = 30`. Pick better value with `binwidth`.\n"
     ]
    },
    {
     "data": {
      "image/png": "[encoded data removed]",
      "text/plain": [
       "plot without title"
      ]
     },
     "metadata": {},
     "output_type": "display_data"
    }
   ],
   "source": [
    "ggplot(tes_f_rates, aes(rate))+geom_area(stat = \"bin\")"
   ]
  },
  {
   "cell_type": "code",
   "execution_count": 10,
   "metadata": {},
   "outputs": [],
   "source": [
    "i_tes_uvr <- tes_uvr_ns[-nrow(tes_uvr_ns),]\n",
    "f_tes_uvr <- tes_uvr_ns[-1,]\n",
    "delta_tes_uvr_ns <- f_tes_uvr - i_tes_uvr"
   ]
  },
  {
   "cell_type": "code",
   "execution_count": 13,
   "metadata": {},
   "outputs": [
    {
     "data": {
      "text/plain": [
       "     beta_0             beta_1             beta_2             lambda   \n",
       " Min.   :-0.03172   Min.   :-0.14127   Min.   :-0.10238   Min.   :3.7  \n",
       " 1st Qu.: 0.08206   1st Qu.:-0.05854   1st Qu.:-0.01466   1st Qu.:3.7  \n",
       " Median : 0.08882   Median :-0.04336   Median : 0.01870   Median :3.7  \n",
       " Mean   : 0.09619   Mean   :-0.04391   Mean   : 0.02938   Mean   :3.7  \n",
       " 3rd Qu.: 0.10313   3rd Qu.:-0.02884   3rd Qu.: 0.05738   3rd Qu.:3.7  \n",
       " Max.   : 0.22068   Max.   : 0.10092   Max.   : 0.45919   Max.   :3.7  "
      ]
     },
     "metadata": {},
     "output_type": "display_data"
    }
   ],
   "source": [
    "summary(tes_uvr_ns) "
   ]
  },
  {
   "cell_type": "markdown",
   "metadata": {},
   "source": [
    "**Notese que lambda es una constante, por eso no se incluye en el análisis de PCA**"
   ]
  },
  {
   "cell_type": "code",
   "execution_count": 12,
   "metadata": {},
   "outputs": [
    {
     "data": {
      "text/plain": [
       "Importance of components:\n",
       "                          PC1     PC2     PC3\n",
       "Standard deviation     1.6857 0.39083 0.07464\n",
       "Proportion of Variance 0.9472 0.05092 0.00186\n",
       "Cumulative Proportion  0.9472 0.99814 1.00000"
      ]
     },
     "metadata": {},
     "output_type": "display_data"
    }
   ],
   "source": [
    "pca_tes_uvr <- prcomp(delta_tes_uvr_ns[,1:3], scale=TRUE)\n",
    "summary(pca_tes_uvr)"
   ]
  },
  {
   "cell_type": "markdown",
   "metadata": {},
   "source": [
    "Dado que el componente principal nos da 94% de la variación. Nos quedamos unicamente con este"
   ]
  },
  {
   "cell_type": "code",
   "execution_count": 18,
   "metadata": {},
   "outputs": [
    {
     "data": {
      "text/plain": [
       "\n",
       "\tBox-Pierce test\n",
       "\n",
       "data:  arima_pca_1_tes_uvr$residuals\n",
       "X-squared = 0.00085204, df = 1, p-value = 0.9767\n"
      ]
     },
     "metadata": {},
     "output_type": "display_data"
    }
   ],
   "source": [
    "arima_pca_1_tes_uvr <- auto.arima(pca_tes_uvr$x[,1],stepwise = T,approximation = F)\n",
    "Box.test(arima_pca_1_tes_uvr$residuals)"
   ]
  },
  {
   "cell_type": "code",
   "execution_count": 25,
   "metadata": {},
   "outputs": [],
   "source": [
    "sim_pca_1_tes_uvr <- replicate(expr = simulate(object = arima_pca_1_tes_uvr,nsim = future),n = simulations)\n",
    "Bt1 <- pca_tes_uvr$rotation[,1] #Eigen values del primer componente\n"
   ]
  },
  {
   "cell_type": "code",
   "execution_count": 28,
   "metadata": {},
   "outputs": [],
   "source": [
    "delta<-matrix(,nrow=future, ncol=simulations)\n",
    "\n",
    "for (i in 1:future){\n",
    "        for (j in 1:simulations){\n",
    "                delta[i,j] <- sum(sim_pca_1_tes_uvr[i,j]*Bt1)\n",
    "        }\n",
    "}\n"
   ]
  },
  {
   "cell_type": "code",
   "execution_count": 29,
   "metadata": {},
   "outputs": [],
   "source": [
    "f_ns_tes_uvr <- list()\n",
    "alpha <- tes_uvr_ns[nrow(tes_uvr_ns),] \n",
    "alphanuevo <- alpha + 2\n",
    "for (i in 1:simulations){\n",
    "        newalph <- alpha\n",
    "        for (j in 1:future){\n",
    "                newalph <-  newalph + delta[j,i] \n",
    "                        if (j==260){\n",
    "                                f_ns_tes_uvr <- append(f_ns_tes_uvr, newalph) #Guardamos unicamente los resultados del último periodo pues es la frontera a un año\n",
    "                        }\n",
    "        }\n",
    "}\n",
    "mat_f_ns_tes_uvr <- matrix(f_ns_tes_uvr, ncol=4,byrow=T)\n",
    "mat_f_ns_tes_uvr <- as.data.frame(mat_f_ns_tes_uvr )"
   ]
  },
  {
   "cell_type": "code",
   "execution_count": null,
   "metadata": {},
   "outputs": [],
   "source": [
    "names(mat_f_ns_tes_uvr) <- c('beta_0','beta_1', 'beta_2', 'lambda')"
   ]
  },
  {
   "cell_type": "code",
   "execution_count": null,
   "metadata": {},
   "outputs": [],
   "source": [
    "mat_f_ns_tes_uvr<- data.frame(lapply(mat_f_ns_tes_cop, function(x) as.numeric(x)))"
   ]
  },
  {
   "cell_type": "code",
   "execution_count": null,
   "metadata": {},
   "outputs": [],
   "source": [
    "uvr_f_rates <- nelson_sieguel_rate(mat_f_ns_tes_uvr,0.5)"
   ]
  },
  {
   "cell_type": "code",
   "execution_count": 35,
   "metadata": {},
   "outputs": [],
   "source": [
    "i_corp_usa <- corp_usa_ns[-nrow(corp_usa_ns),]\n",
    "f_corp_usa <- corp_usa_ns[-1,]\n",
    "delta_corp_usa_ns <- f_corp_usa - i_corp_usa"
   ]
  },
  {
   "cell_type": "code",
   "execution_count": 36,
   "metadata": {},
   "outputs": [
    {
     "data": {
      "text/html": [
       "<table class=\"dataframe\">\n",
       "<caption>A data.frame: 6 × 4</caption>\n",
       "<thead>\n",
       "\t<tr><th></th><th scope=col>beta_0</th><th scope=col>beta_1</th><th scope=col>beta_2</th><th scope=col>lambda</th></tr>\n",
       "\t<tr><th></th><th scope=col>&lt;dbl&gt;</th><th scope=col>&lt;dbl&gt;</th><th scope=col>&lt;dbl&gt;</th><th scope=col>&lt;dbl&gt;</th></tr>\n",
       "</thead>\n",
       "<tbody>\n",
       "\t<tr><th scope=row>2009-10-14</th><td> 0.26974428</td><td>-0.32308707</td><td> 0.52626276</td><td>-0.07359831</td></tr>\n",
       "\t<tr><th scope=row>2009-10-15</th><td>-0.12423572</td><td> 0.12326676</td><td>-0.47464279</td><td> 0.07359831</td></tr>\n",
       "\t<tr><th scope=row>2009-10-16</th><td>-0.05640593</td><td> 0.18798050</td><td>-0.15169724</td><td> 0.00000000</td></tr>\n",
       "\t<tr><th scope=row>2009-10-19</th><td>-0.05557738</td><td> 0.01640991</td><td> 0.11722380</td><td> 0.00000000</td></tr>\n",
       "\t<tr><th scope=row>2009-10-20</th><td>-0.01920371</td><td> 0.01273971</td><td>-0.13088711</td><td> 0.00000000</td></tr>\n",
       "\t<tr><th scope=row>2009-10-21</th><td> 0.06431601</td><td>-0.09982943</td><td>-0.01404811</td><td> 0.00000000</td></tr>\n",
       "</tbody>\n",
       "</table>\n"
      ],
      "text/latex": [
       "A data.frame: 6 × 4\n",
       "\\begin{tabular}{r|llll}\n",
       "  & beta\\_0 & beta\\_1 & beta\\_2 & lambda\\\\\n",
       "  & <dbl> & <dbl> & <dbl> & <dbl>\\\\\n",
       "\\hline\n",
       "\t2009-10-14 &  0.26974428 & -0.32308707 &  0.52626276 & -0.07359831\\\\\n",
       "\t2009-10-15 & -0.12423572 &  0.12326676 & -0.47464279 &  0.07359831\\\\\n",
       "\t2009-10-16 & -0.05640593 &  0.18798050 & -0.15169724 &  0.00000000\\\\\n",
       "\t2009-10-19 & -0.05557738 &  0.01640991 &  0.11722380 &  0.00000000\\\\\n",
       "\t2009-10-20 & -0.01920371 &  0.01273971 & -0.13088711 &  0.00000000\\\\\n",
       "\t2009-10-21 &  0.06431601 & -0.09982943 & -0.01404811 &  0.00000000\\\\\n",
       "\\end{tabular}\n"
      ],
      "text/markdown": [
       "\n",
       "A data.frame: 6 × 4\n",
       "\n",
       "| <!--/--> | beta_0 &lt;dbl&gt; | beta_1 &lt;dbl&gt; | beta_2 &lt;dbl&gt; | lambda &lt;dbl&gt; |\n",
       "|---|---|---|---|---|\n",
       "| 2009-10-14 |  0.26974428 | -0.32308707 |  0.52626276 | -0.07359831 |\n",
       "| 2009-10-15 | -0.12423572 |  0.12326676 | -0.47464279 |  0.07359831 |\n",
       "| 2009-10-16 | -0.05640593 |  0.18798050 | -0.15169724 |  0.00000000 |\n",
       "| 2009-10-19 | -0.05557738 |  0.01640991 |  0.11722380 |  0.00000000 |\n",
       "| 2009-10-20 | -0.01920371 |  0.01273971 | -0.13088711 |  0.00000000 |\n",
       "| 2009-10-21 |  0.06431601 | -0.09982943 | -0.01404811 |  0.00000000 |\n",
       "\n"
      ],
      "text/plain": [
       "           beta_0      beta_1      beta_2      lambda     \n",
       "2009-10-14  0.26974428 -0.32308707  0.52626276 -0.07359831\n",
       "2009-10-15 -0.12423572  0.12326676 -0.47464279  0.07359831\n",
       "2009-10-16 -0.05640593  0.18798050 -0.15169724  0.00000000\n",
       "2009-10-19 -0.05557738  0.01640991  0.11722380  0.00000000\n",
       "2009-10-20 -0.01920371  0.01273971 -0.13088711  0.00000000\n",
       "2009-10-21  0.06431601 -0.09982943 -0.01404811  0.00000000"
      ]
     },
     "metadata": {},
     "output_type": "display_data"
    }
   ],
   "source": [
    "head(delta_corp_usa_ns)"
   ]
  },
  {
   "cell_type": "code",
   "execution_count": 37,
   "metadata": {},
   "outputs": [
    {
     "data": {
      "text/plain": [
       "Importance of components:\n",
       "                          PC1   PC2     PC3     PC4\n",
       "Standard deviation     1.5543 1.147 0.49601 0.14860\n",
       "Proportion of Variance 0.6039 0.329 0.06151 0.00552\n",
       "Cumulative Proportion  0.6039 0.933 0.99448 1.00000"
      ]
     },
     "metadata": {},
     "output_type": "display_data"
    }
   ],
   "source": [
    "pca_corp_usa <- prcomp(delta_corp_usa_ns, scale=TRUE)\n",
    "summary(pca_corp_usa)"
   ]
  },
  {
   "cell_type": "markdown",
   "metadata": {},
   "source": [
    "Los primeros 2 componentes capturan el 94 % de la variación por lo que se hace el análisis con ambos."
   ]
  },
  {
   "cell_type": "code",
   "execution_count": 38,
   "metadata": {},
   "outputs": [
    {
     "data": {
      "text/plain": [
       "\n",
       "\tBox-Pierce test\n",
       "\n",
       "data:  arima_pca_1_corp_usa$residuals\n",
       "X-squared = 0.0030951, df = 1, p-value = 0.9556\n"
      ]
     },
     "metadata": {},
     "output_type": "display_data"
    },
    {
     "data": {
      "text/plain": [
       "\n",
       "\tBox-Pierce test\n",
       "\n",
       "data:  arima_pca_1_corp_usa$residuals\n",
       "X-squared = 0.0030951, df = 1, p-value = 0.9556\n"
      ]
     },
     "metadata": {},
     "output_type": "display_data"
    }
   ],
   "source": [
    "arima_pca_1_corp_usa <- auto.arima(pca_corp_usa$x[,1],stepwise = T,approximation = F)\n",
    "Box.test(arima_pca_1_corp_usa$residuals)\n",
    "arima_pca_2_corp_usa  <- auto.arima(pca_corp_usa$x[,2],stepwise = T,approximation = F)\n",
    "Box.test(arima_pca_1_corp_usa$residuals)\n"
   ]
  },
  {
   "cell_type": "code",
   "execution_count": 40,
   "metadata": {},
   "outputs": [],
   "source": [
    "sim_pca_1_corp_usa <- replicate(expr = simulate(object = arima_pca_1_corp_usa,nsim = future),n = simulations)\n",
    "sim_pca_2_corp_usa <- replicate(expr = simulate(object =arima_pca_2_corp_usa,nsim = future),n = simulations)\n",
    "Bt1 <- pca_corp_usa$rotation[,1] #Eigen values del primer componente\n",
    "Bt2 <- pca_corp_usa$rotation[,2] #Eigen values del segundo componente"
   ]
  },
  {
   "cell_type": "code",
   "execution_count": 42,
   "metadata": {},
   "outputs": [],
   "source": [
    "delta<-matrix(,nrow=future, ncol=simulations)\n",
    "\n",
    "for (i in 1:future){\n",
    "        for (j in 1:simulations){\n",
    "                delta[i,j] <- sum(sim_pca_1_corp_usa[i,j]*Bt1)+sum(sim_pca_2_corp_usa[i,j]*Bt2)\n",
    "        }\n",
    "}\n"
   ]
  },
  {
   "cell_type": "code",
   "execution_count": 43,
   "metadata": {},
   "outputs": [],
   "source": [
    "f_ns_corp_usa <- list()\n",
    "alpha <- corp_usa_ns[nrow(tes_cop_ns),] \n",
    "alphanuevo <- alpha + 2\n",
    "for (i in 1:simulations){\n",
    "        newalph <- alpha\n",
    "        for (j in 1:future){\n",
    "                newalph <-  newalph + delta[j,i] \n",
    "                        if (j==260){\n",
    "                                f_ns_corp_usa <- append(f_ns_corp_usa, newalph) #Guardamos unicamente los resultados del último periodo pues es la frontera a un año\n",
    "                        }\n",
    "        }\n",
    "}\n",
    "mat_f_ns_corp_usa <- matrix(f_ns_corp_usa, ncol=4,byrow=T)\n",
    "mat_f_ns_corp_usa <- as.data.frame(mat_f_ns_corp_usa )"
   ]
  },
  {
   "cell_type": "code",
   "execution_count": 44,
   "metadata": {},
   "outputs": [],
   "source": [
    "names(mat_f_ns_corp_usa) <- c('beta_0','beta_1', 'beta_2', 'lambda')"
   ]
  },
  {
   "cell_type": "code",
   "execution_count": 45,
   "metadata": {},
   "outputs": [],
   "source": [
    "mat_f_ns_corp_usa<- data.frame(lapply(mat_f_ns_corp_usa, function(x) as.numeric(x)))"
   ]
  },
  {
   "cell_type": "code",
   "execution_count": 51,
   "metadata": {},
   "outputs": [
    {
     "data": {
      "text/plain": [
       "     beta_0             beta_1            beta_2            lambda        \n",
       " Min.   :-14.6913   Min.   :-21.410   Min.   :-22.292   Min.   :-18.9215  \n",
       " 1st Qu.:  0.3466   1st Qu.: -6.372   1st Qu.: -7.254   1st Qu.: -3.8836  \n",
       " Median :  4.9406   Median : -1.778   Median : -2.660   Median :  0.7104  \n",
       " Mean   :  4.9535   Mean   : -1.766   Mean   : -2.647   Mean   :  0.7233  \n",
       " 3rd Qu.:  9.5684   3rd Qu.:  2.849   3rd Qu.:  1.968   3rd Qu.:  5.3383  \n",
       " Max.   : 26.3094   Max.   : 19.590   Max.   : 18.708   Max.   : 22.0792  "
      ]
     },
     "metadata": {},
     "output_type": "display_data"
    },
    {
     "data": {
      "text/plain": [
       "     beta_0           beta_1            beta_2            lambda      \n",
       " Min.   : 3.229   Min.   :-10.415   Min.   :-7.2610   Min.   :0.1216  \n",
       " 1st Qu.: 4.799   1st Qu.: -6.305   1st Qu.:-4.6519   1st Qu.:0.1939  \n",
       " Median : 5.671   Median : -4.996   Median :-3.6463   Median :0.2657  \n",
       " Mean   : 5.865   Mean   : -5.001   Mean   :-3.1210   Mean   :0.2910  \n",
       " 3rd Qu.: 6.760   3rd Qu.: -3.614   3rd Qu.:-0.8426   3rd Qu.:0.4219  \n",
       " Max.   :10.781   Max.   : -1.194   Max.   : 0.1801   Max.   :1.0000  "
      ]
     },
     "metadata": {},
     "output_type": "display_data"
    }
   ],
   "source": [
    "summary(mat_f_ns_corp_usa)\n",
    "summary(corp_usa_ns)"
   ]
  },
  {
   "cell_type": "code",
   "execution_count": null,
   "metadata": {},
   "outputs": [],
   "source": [
    "tes_f_rates <- nelson_sieguel_rate(mat_f_ns_corp_usa,0.5)"
   ]
  },
  {
   "cell_type": "code",
   "execution_count": 52,
   "metadata": {},
   "outputs": [],
   "source": [
    "i_index <- index[-nrow(index),]\n",
    "f_index <- index[-1,]\n",
    "delta_index <- f_index - i_index"
   ]
  },
  {
   "cell_type": "code",
   "execution_count": 69,
   "metadata": {},
   "outputs": [
    {
     "data": {
      "text/plain": [
       "\n",
       "\tBox-Pierce test\n",
       "\n",
       "data:  arima_colcap$residuals\n",
       "X-squared = 4.1225e-05, df = 1, p-value = 0.9949\n"
      ]
     },
     "metadata": {},
     "output_type": "display_data"
    },
    {
     "data": {
      "text/plain": [
       "\n",
       "\tBox-Pierce test\n",
       "\n",
       "data:  arima_spx$residuals\n",
       "X-squared = 0.75103, df = 1, p-value = 0.3862\n"
      ]
     },
     "metadata": {},
     "output_type": "display_data"
    }
   ],
   "source": [
    "arima_colcap <- auto.arima(delta_index[,1],stepwise = T,approximation = F)\n",
    "Box.test(arima_colcap$residuals)\n",
    "arima_spx  <- auto.arima(delta_index[,2],stepwise = T,approximation = F)\n",
    "Box.test(arima_spx$residuals)"
   ]
  },
  {
   "cell_type": "code",
   "execution_count": 70,
   "metadata": {},
   "outputs": [],
   "source": [
    "sim_arima_colcap <- replicate(expr = simulate(object = arima_colcap,nsim = future),n = simulations)\n",
    "sim_arima_spx <- replicate(expr = simulate(object =arima_spx,nsim = future),n = simulations)"
   ]
  },
  {
   "cell_type": "code",
   "execution_count": 76,
   "metadata": {},
   "outputs": [],
   "source": [
    "f_colcap <- list()\n",
    "f_spx <- list()\n",
    "alpha_1 <- ipc$ipc[nrow(index),1] \n",
    "alpha_2 <- index[nrow(index),2] \n",
    "for (i in 1:simulations){\n",
    "        newalph_1 <- alpha_1\n",
    "        newalph_2 <- alpha_2\n",
    "        for (j in 1:future){\n",
    "                newalph_1 <-  newalph_1 + sim_arima_colcap[j,i] \n",
    "                newalph_2 <-  newalph_2 + sim_arima_spx[j,i] \n",
    "                        if (j==260){\n",
    "                                f_colcap <- append(f_colcap, newalph_1) #Guardamos unicamente los resultados del último periodo pues es la frontera a un año\n",
    "                                f_spx <- append(f_spx, newalph_2)\n",
    "                        }\n",
    "        }\n",
    "}\n",
    "mat_f_colcap <- matrix(f_colcap, ncol=1,byrow=T)\n",
    "mat_f_colcap <- as.data.frame(mat_f_colcap)\n",
    "mat_f_spx <- matrix(f_spx, ncol=1,byrow=T)\n",
    "mat_f_spx <- as.data.frame(mat_f_spx)"
   ]
  },
  {
   "cell_type": "code",
   "execution_count": 77,
   "metadata": {},
   "outputs": [],
   "source": [
    "mat_f_colcap<- data.frame(lapply(mat_f_colcap, function(x) as.numeric(x)))\n",
    "mat_f_spx<- data.frame(lapply(mat_f_spx, function(x) as.numeric(x)))"
   ]
  },
  {
   "cell_type": "code",
   "execution_count": 78,
   "metadata": {},
   "outputs": [
    {
     "data": {
      "text/plain": [
       "       V1        \n",
       " Min.   : 723.9  \n",
       " 1st Qu.:1436.2  \n",
       " Median :1631.8  \n",
       " Mean   :1622.8  \n",
       " 3rd Qu.:1815.7  \n",
       " Max.   :2533.5  "
      ]
     },
     "metadata": {},
     "output_type": "display_data"
    },
    {
     "data": {
      "text/plain": [
       "   Min. 1st Qu.  Median    Mean 3rd Qu.    Max. \n",
       "    894    1347    1495    1494    1653    1942 "
      ]
     },
     "metadata": {},
     "output_type": "display_data"
    },
    {
     "data": {
      "text/plain": [
       "       V1      \n",
       " Min.   :3928  \n",
       " 1st Qu.:4641  \n",
       " Median :4839  \n",
       " Mean   :4831  \n",
       " 3rd Qu.:5038  \n",
       " Max.   :5705  "
      ]
     },
     "metadata": {},
     "output_type": "display_data"
    },
    {
     "data": {
      "text/plain": [
       "   Min. 1st Qu.  Median    Mean 3rd Qu.    Max. \n",
       "   1023    1435    2089    2284    2820    4797 "
      ]
     },
     "metadata": {},
     "output_type": "display_data"
    }
   ],
   "source": [
    "summary(mat_f_colcap)\n",
    "summary(index[,1])\n",
    "summary(mat_f_spx)\n",
    "summary(index[,2])"
   ]
  },
  {
   "cell_type": "code",
   "execution_count": 108,
   "metadata": {},
   "outputs": [],
   "source": [
    "i_ipc <- ipc$ipc[-nrow(ipc)]\n",
    "f_ipc <- ipc$ipc[-1]\n",
    "delta_ipc <- f_ipc - i_ipc"
   ]
  },
  {
   "cell_type": "code",
   "execution_count": 109,
   "metadata": {},
   "outputs": [],
   "source": [
    "i_trm <- trm$trm[-nrow(trm)]\n",
    "f_trm <- trm$trm[-1]\n",
    "delta_trm <- f_trm - i_trm"
   ]
  },
  {
   "cell_type": "code",
   "execution_count": 110,
   "metadata": {},
   "outputs": [
    {
     "data": {
      "text/plain": [
       "\n",
       "\tBox-Pierce test\n",
       "\n",
       "data:  arima_ipc$residuals\n",
       "X-squared = 1.4667, df = 1, p-value = 0.2259\n"
      ]
     },
     "metadata": {},
     "output_type": "display_data"
    },
    {
     "data": {
      "text/plain": [
       "\n",
       "\tBox-Pierce test\n",
       "\n",
       "data:  arima_trm$residuals\n",
       "X-squared = 0.00036673, df = 1, p-value = 0.9847\n"
      ]
     },
     "metadata": {},
     "output_type": "display_data"
    }
   ],
   "source": [
    "arima_ipc <- auto.arima(delta_ipc,stepwise = T,approximation = F)\n",
    "Box.test(arima_ipc$residuals)\n",
    "arima_trm  <- auto.arima(delta_trm,stepwise = T,approximation = F)\n",
    "Box.test(arima_trm$residuals)"
   ]
  },
  {
   "cell_type": "code",
   "execution_count": 111,
   "metadata": {},
   "outputs": [],
   "source": [
    "sim_arima_ipc <- replicate(expr = simulate(object = arima_ipc,nsim = future),n = simulations)\n",
    "sim_arima_trm <- replicate(expr = simulate(object =arima_trm,nsim = future),n = simulations)"
   ]
  },
  {
   "cell_type": "code",
   "execution_count": 112,
   "metadata": {},
   "outputs": [],
   "source": [
    "f_ipc <- list()\n",
    "f_trm <- list()\n",
    "alpha_1 <- ipc$ipc[nrow(ipc)] \n",
    "alpha_2 <- trm$trm[nrow(trm)] \n",
    "for (i in 1:simulations){\n",
    "        newalph_1 <- alpha_1\n",
    "        newalph_2 <- alpha_2\n",
    "        for (j in 1:future){\n",
    "                newalph_1 <-  newalph_1 + sim_arima_ipc[j,i] \n",
    "                newalph_2 <-  newalph_2 + sim_arima_trm[j,i] \n",
    "                        if (j==260){\n",
    "                                f_ipc <- append(f_ipc, newalph_1) #Guardamos unicamente los resultados del último periodo pues es la frontera a un año\n",
    "                                f_trm <- append(f_trm, newalph_2)\n",
    "                        }\n",
    "        }\n",
    "}\n",
    "mat_f_ipc <- matrix(f_ipc, ncol=1,byrow=T)\n",
    "mat_f_ipc <- as.data.frame(mat_f_ipc)\n",
    "mat_f_trm <- matrix(f_trm, ncol=1,byrow=T)\n",
    "mat_f_trm <- as.data.frame(mat_f_trm)"
   ]
  },
  {
   "cell_type": "code",
   "execution_count": 113,
   "metadata": {},
   "outputs": [],
   "source": [
    "mat_f_ipc<- data.frame(lapply(mat_f_ipc, function(x) as.numeric(x)))\n",
    "mat_f_trm<- data.frame(lapply(mat_f_trm, function(x) as.numeric(x)))\n"
   ]
  },
  {
   "cell_type": "code",
   "execution_count": 114,
   "metadata": {},
   "outputs": [
    {
     "data": {
      "text/plain": [
       "       V1        \n",
       " Min.   :-66.04  \n",
       " 1st Qu.:280.57  \n",
       " Median :354.08  \n",
       " Mean   :357.35  \n",
       " 3rd Qu.:437.31  \n",
       " Max.   :738.79  "
      ]
     },
     "metadata": {},
     "output_type": "display_data"
    },
    {
     "data": {
      "text/plain": [
       "      Date                          ipc           \n",
       " Min.   :1954-07-31 00:00:00   Min.   :  0.02576  \n",
       " 1st Qu.:1971-06-30 00:00:00   1st Qu.:  0.12935  \n",
       " Median :1988-05-31 00:00:00   Median :  4.16885  \n",
       " Mean   :1988-05-30 20:48:42   Mean   : 28.11323  \n",
       " 3rd Qu.:2005-04-30 00:00:00   3rd Qu.: 57.71621  \n",
       " Max.   :2022-03-31 00:00:00   Max.   :116.26000  "
      ]
     },
     "metadata": {},
     "output_type": "display_data"
    },
    {
     "data": {
      "text/plain": [
       "       V1      \n",
       " Min.   :3179  \n",
       " 1st Qu.:3662  \n",
       " Median :3825  \n",
       " Mean   :3828  \n",
       " 3rd Qu.:3974  \n",
       " Max.   :4551  "
      ]
     },
     "metadata": {},
     "output_type": "display_data"
    },
    {
     "data": {
      "text/plain": [
       "      Date                          trm        \n",
       " Min.   :1991-11-27 00:00:00   Min.   : 620.6  \n",
       " 1st Qu.:1999-07-01 12:00:00   1st Qu.:1699.7  \n",
       " Median :2007-02-03 00:00:00   Median :2103.1  \n",
       " Mean   :2007-02-03 00:00:00   Mean   :2134.1  \n",
       " 3rd Qu.:2014-09-07 12:00:00   3rd Qu.:2816.6  \n",
       " Max.   :2022-04-12 00:00:00   Max.   :4153.9  "
      ]
     },
     "metadata": {},
     "output_type": "display_data"
    }
   ],
   "source": [
    "summary(mat_f_ipc)\n",
    "summary(ipc)\n",
    "summary(mat_f_trm)\n",
    "summary(trm)"
   ]
  },
  {
   "cell_type": "markdown",
   "metadata": {},
   "source": [
    "## Proyección conjunta"
   ]
  },
  {
   "cell_type": "code",
   "execution_count": 72,
   "metadata": {},
   "outputs": [],
   "source": [
    "delta_joint <- apply(joint[,-c(1)],2,function(x){returns(x,method = 'simple')}) \n",
    "delta_joint[which(!is.finite(delta_joint))] = 0"
   ]
  },
  {
   "cell_type": "code",
   "execution_count": 81,
   "metadata": {},
   "outputs": [
    {
     "data": {
      "text/plain": [
       "   tes_cop_6m          tes_cop_1y          tes_cop_3y        \n",
       " Min.   :-0.313196   Min.   :-0.310856   Min.   :-0.2787839  \n",
       " 1st Qu.:-0.045226   1st Qu.:-0.042053   1st Qu.:-0.0481881  \n",
       " Median : 0.003686   Median : 0.006363   Median :-0.0009985  \n",
       " Mean   : 0.009997   Mean   : 0.009246   Mean   : 0.0088413  \n",
       " 3rd Qu.: 0.041403   3rd Qu.: 0.037636   3rd Qu.: 0.0451324  \n",
       " Max.   : 0.495530   Max.   : 0.409173   Max.   : 0.4403006  \n",
       "   tes_cop_5y         tes_cop_10y         tes_cop_15y       \n",
       " Min.   :-0.226516   Min.   :-0.121380   Min.   :-0.107717  \n",
       " 1st Qu.:-0.044270   1st Qu.:-0.029781   1st Qu.:-0.030805  \n",
       " Median : 0.000000   Median :-0.004366   Median :-0.005072  \n",
       " Mean   : 0.008135   Mean   : 0.006614   Mean   : 0.005613  \n",
       " 3rd Qu.: 0.040290   3rd Qu.: 0.036152   3rd Qu.: 0.036079  \n",
       " Max.   : 0.367116   Max.   : 0.255792   Max.   : 0.208925  \n",
       "   tes_uvr_6m          tes_uvr_1y          tes_uvr_3y       \n",
       " Min.   :-0.157812   Min.   :-0.109865   Min.   :-0.132972  \n",
       " 1st Qu.:-0.030445   1st Qu.:-0.030267   1st Qu.:-0.030730  \n",
       " Median :-0.004188   Median :-0.004544   Median :-0.006758  \n",
       " Mean   : 0.007157   Mean   : 0.005810   Mean   : 0.005389  \n",
       " 3rd Qu.: 0.033468   3rd Qu.: 0.032180   3rd Qu.: 0.032937  \n",
       " Max.   : 0.293956   Max.   : 0.223535   Max.   : 0.227046  \n",
       "   tes_uvr_5y         tes_uvr_10y         tes_uvr_15y         corp_usa_3m      \n",
       " Min.   :-0.148474   Min.   :-0.159805   Min.   :-0.163527   Min.   :-0.64686  \n",
       " 1st Qu.:-0.029820   1st Qu.:-0.030523   1st Qu.:-0.031500   1st Qu.:-0.06097  \n",
       " Median :-0.004807   Median :-0.006339   Median :-0.006674   Median : 0.02268  \n",
       " Mean   : 0.005511   Mean   : 0.005647   Mean   : 0.005700   Mean   : 0.03769  \n",
       " 3rd Qu.: 0.028370   3rd Qu.: 0.027870   3rd Qu.: 0.027904   3rd Qu.: 0.12019  \n",
       " Max.   : 0.267774   Max.   : 0.298389   Max.   : 0.308605   Max.   : 1.11498  \n",
       "  corp_usa_6m        corp_usa_1y        corp_usa_3y        corp_usa_5y      \n",
       " Min.   :-0.58669   Min.   :-0.54465   Min.   :-0.46585   Min.   :-0.36348  \n",
       " 1st Qu.:-0.06472   1st Qu.:-0.07168   1st Qu.:-0.06024   1st Qu.:-0.05716  \n",
       " Median : 0.01184   Median : 0.01289   Median : 0.01317   Median : 0.00000  \n",
       " Mean   : 0.03542   Mean   : 0.03335   Mean   : 0.02351   Mean   : 0.01586  \n",
       " 3rd Qu.: 0.11088   3rd Qu.: 0.10386   3rd Qu.: 0.08882   3rd Qu.: 0.06897  \n",
       " Max.   : 1.10651   Max.   : 1.04168   Max.   : 0.52055   Max.   : 0.63533  \n",
       "  corp_usa_10y        corp_usa_15y           colcap         \n",
       " Min.   :-0.195668   Min.   :-0.138419   Min.   :-0.307902  \n",
       " 1st Qu.:-0.041788   1st Qu.:-0.035324   1st Qu.:-0.027846  \n",
       " Median :-0.008578   Median :-0.006169   Median : 0.008672  \n",
       " Mean   : 0.005918   Mean   : 0.001335   Mean   : 0.001076  \n",
       " 3rd Qu.: 0.028153   3rd Qu.: 0.023759   3rd Qu.: 0.043341  \n",
       " Max.   : 0.529892   Max.   : 0.343482   Max.   : 0.118704  \n",
       "      spx                  ipc                 trm           \n",
       " Min.   :-0.1987059   Min.   :-0.006906   Min.   :-0.085799  \n",
       " 1st Qu.:-0.0003892   1st Qu.: 0.001401   1st Qu.:-0.018069  \n",
       " Median : 0.0207628   Median : 0.003871   Median : 0.005586  \n",
       " Mean   : 0.0164891   Mean   : 0.005314   Mean   : 0.011119  \n",
       " 3rd Qu.: 0.0431170   3rd Qu.: 0.007156   3rd Qu.: 0.031529  \n",
       " Max.   : 0.1268441   Max.   : 0.032239   Max.   : 0.256291  "
      ]
     },
     "metadata": {},
     "output_type": "display_data"
    }
   ],
   "source": [
    "summary(delta_joint)"
   ]
  },
  {
   "cell_type": "code",
   "execution_count": 85,
   "metadata": {},
   "outputs": [],
   "source": [
    "mean_delta_joint = colMeans(delta_joint)"
   ]
  },
  {
   "cell_type": "code",
   "execution_count": 20,
   "metadata": {},
   "outputs": [
    {
     "data": {
      "text/plain": [
       "Importance of components:\n",
       "                          PC1    PC2    PC3     PC4     PC5     PC6     PC7\n",
       "Standard deviation     3.1726 2.3737 1.5267 1.29148 1.07610 0.83226 0.70800\n",
       "Proportion of Variance 0.4376 0.2450 0.1013 0.07252 0.05035 0.03012 0.02179\n",
       "Cumulative Proportion  0.4376 0.6826 0.7839 0.85644 0.90679 0.93690 0.95870\n",
       "                           PC8     PC9   PC10    PC11   PC12    PC13    PC14\n",
       "Standard deviation     0.58944 0.53964 0.3426 0.30083 0.2091 0.14147 0.12737\n",
       "Proportion of Variance 0.01511 0.01266 0.0051 0.00393 0.0019 0.00087 0.00071\n",
       "Cumulative Proportion  0.97380 0.98646 0.9916 0.99550 0.9974 0.99827 0.99898\n",
       "                          PC15    PC16    PC17    PC18    PC19    PC20\n",
       "Standard deviation     0.10168 0.08478 0.05180 0.04288 0.03365 0.01786\n",
       "Proportion of Variance 0.00045 0.00031 0.00012 0.00008 0.00005 0.00001\n",
       "Cumulative Proportion  0.99943 0.99974 0.99986 0.99994 0.99999 1.00000\n",
       "                            PC21      PC22      PC23\n",
       "Standard deviation     1.695e-15 1.413e-15 9.941e-16\n",
       "Proportion of Variance 0.000e+00 0.000e+00 0.000e+00\n",
       "Cumulative Proportion  1.000e+00 1.000e+00 1.000e+00"
      ]
     },
     "metadata": {},
     "output_type": "display_data"
    }
   ],
   "source": [
    "pca_joint <- prcomp(delta_joint[, -c(1)], scale=TRUE, center=TRUE)\n",
    "summary(pca_joint)"
   ]
  },
  {
   "cell_type": "code",
   "execution_count": 96,
   "metadata": {},
   "outputs": [
    {
     "data": {
      "text/plain": [
       "Importance of components:\n",
       "                          PC1    PC2    PC3     PC4     PC5     PC6     PC7\n",
       "Standard deviation     0.4419 0.2206 0.1587 0.11715 0.09059 0.05874 0.04549\n",
       "Proportion of Variance 0.6482 0.1616 0.0836 0.04557 0.02725 0.01146 0.00687\n",
       "Cumulative Proportion  0.6482 0.8098 0.8934 0.93901 0.96625 0.97771 0.98458\n",
       "                           PC8     PC9    PC10    PC11    PC12    PC13     PC14\n",
       "Standard deviation     0.03738 0.03188 0.02940 0.02507 0.01597 0.01443 0.008679\n",
       "Proportion of Variance 0.00464 0.00337 0.00287 0.00209 0.00085 0.00069 0.000250\n",
       "Cumulative Proportion  0.98922 0.99259 0.99546 0.99755 0.99840 0.99909 0.999340\n",
       "                           PC15     PC16    PC17     PC18     PC19     PC20\n",
       "Standard deviation     0.007734 0.007478 0.00526 0.005036 0.004197 0.003601\n",
       "Proportion of Variance 0.000200 0.000190 0.00009 0.000080 0.000060 0.000040\n",
       "Cumulative Proportion  0.999540 0.999720 0.99981 0.999900 0.999960 1.000000\n",
       "                            PC21      PC22      PC23\n",
       "Standard deviation     0.0006001 5.154e-06 3.092e-07\n",
       "Proportion of Variance 0.0000000 0.000e+00 0.000e+00\n",
       "Cumulative Proportion  1.0000000 1.000e+00 1.000e+00"
      ]
     },
     "metadata": {},
     "output_type": "display_data"
    }
   ],
   "source": [
    "pca_joint <- prcomp(delta_joint)\n",
    "summary(pca_joint)"
   ]
  },
  {
   "cell_type": "code",
   "execution_count": 97,
   "metadata": {},
   "outputs": [
    {
     "data": {
      "text/plain": [
       "\n",
       "\tBox-Pierce test\n",
       "\n",
       "data:  arima_pca_1_joint$residuals\n",
       "X-squared = 0.070259, df = 1, p-value = 0.791\n"
      ]
     },
     "metadata": {},
     "output_type": "display_data"
    },
    {
     "data": {
      "text/plain": [
       "\n",
       "\tBox-Pierce test\n",
       "\n",
       "data:  arima_pca_2_joint$residuals\n",
       "X-squared = 0.0080964, df = 1, p-value = 0.9283\n"
      ]
     },
     "metadata": {},
     "output_type": "display_data"
    },
    {
     "data": {
      "text/plain": [
       "\n",
       "\tBox-Pierce test\n",
       "\n",
       "data:  arima_pca_3_joint$residuals\n",
       "X-squared = 1.0632, df = 1, p-value = 0.3025\n"
      ]
     },
     "metadata": {},
     "output_type": "display_data"
    }
   ],
   "source": [
    "arima_pca_1_joint <- auto.arima(pca_joint$x[,1],stepwise = T,approximation = F)\n",
    "Box.test(arima_pca_1_joint$residuals)\n",
    "arima_pca_2_joint <- auto.arima(pca_joint$x[,2],stepwise = T,approximation = F)\n",
    "Box.test(arima_pca_2_joint$residuals)\n",
    "arima_pca_3_joint <- auto.arima(pca_joint$x[,3],stepwise = T,approximation = F)\n",
    "Box.test(arima_pca_3_joint$residuals)"
   ]
  },
  {
   "cell_type": "code",
   "execution_count": 98,
   "metadata": {},
   "outputs": [],
   "source": [
    "sim_pca_1_joint <- replicate(expr = simulate(object = arima_pca_1_joint,nsim = future),n = simulations)\n",
    "sim_pca_2_joint <- replicate(expr = simulate(object =arima_pca_2_joint,nsim = future),n = simulations)\n",
    "sim_pca_3_joint <- replicate(expr = simulate(object =arima_pca_3_joint,nsim = future),n = simulations)"
   ]
  },
  {
   "cell_type": "code",
   "execution_count": 99,
   "metadata": {},
   "outputs": [],
   "source": [
    "sim_pca_1_joint_r <- sapply(sim_pca_1_joint,function(x){scale(x%*%t(pca_joint$rotation[,1]), center = -pca_joint$center, scale = F)})\n",
    "sim_pca_2_joint_r <- sapply(sim_pca_1_joint,function(x){scale(x%*%t(pca_joint$rotation[,2]), center = -pca_joint$center, scale = F)})\n",
    "sim_pca_3_joint_r <- sapply(sim_pca_1_joint,function(x){scale(x%*%t(pca_joint$rotation[,3]), center = -pca_joint$center, scale = F)})"
   ]
  },
  {
   "cell_type": "code",
   "execution_count": 100,
   "metadata": {},
   "outputs": [],
   "source": [
    "sim_pca_1_joint_r <- t(sim_pca_1_joint_r)\n",
    "sim_pca_2_joint_r <- t(sim_pca_2_joint_r)\n",
    "sim_pca_3_joint_r <- t(sim_pca_3_joint_r)"
   ]
  },
  {
   "cell_type": "code",
   "execution_count": 101,
   "metadata": {},
   "outputs": [],
   "source": [
    "sum_sims <- sim_pca_1_joint_r+ sim_pca_2_joint_r+sim_pca_3_joint_r"
   ]
  },
  {
   "cell_type": "code",
   "execution_count": 102,
   "metadata": {},
   "outputs": [],
   "source": [
    "sum_sims_df <- as.data.frame(sum_sims)"
   ]
  },
  {
   "cell_type": "code",
   "execution_count": 103,
   "metadata": {},
   "outputs": [
    {
     "data": {
      "text/plain": [
       "       V1                 V2                 V3                 V4          \n",
       " Min.   :-0.34300   Min.   :-0.38008   Min.   :-0.53924   Min.   :-0.67069  \n",
       " 1st Qu.:-0.02194   1st Qu.:-0.02904   1st Qu.:-0.05224   1st Qu.:-0.07237  \n",
       " Median : 0.03044   Median : 0.02823   Median : 0.02721   Median : 0.02525  \n",
       " Mean   : 0.03062   Mean   : 0.02843   Mean   : 0.02748   Mean   : 0.02558  \n",
       " 3rd Qu.: 0.08324   3rd Qu.: 0.08595   3rd Qu.: 0.10729   3rd Qu.: 0.12363  \n",
       " Max.   : 0.36820   Max.   : 0.39752   Max.   : 0.53953   Max.   : 0.65468  \n",
       "       V5                 V6                 V7                 V8          \n",
       " Min.   :-0.79302   Min.   :-0.83115   Min.   :-0.73817   Min.   :-0.93865  \n",
       " 1st Qu.:-0.09332   1st Qu.:-0.10122   1st Qu.:-0.08429   1st Qu.:-0.11568  \n",
       " Median : 0.02083   Median : 0.01787   Median : 0.02239   Median : 0.01859  \n",
       " Mean   : 0.02122   Mean   : 0.01828   Mean   : 0.02276   Mean   : 0.01905  \n",
       " 3rd Qu.: 0.13588   3rd Qu.: 0.13789   3rd Qu.: 0.12991   3rd Qu.: 0.15391  \n",
       " Max.   : 0.75690   Max.   : 0.78575   Max.   : 0.71027   Max.   : 0.88435  \n",
       "       V9                V10                V11                V12          \n",
       " Min.   :-1.15755   Min.   :-1.20356   Min.   :-1.23747   Min.   :-1.24866  \n",
       " 1st Qu.:-0.14724   1st Qu.:-0.15333   1st Qu.:-0.15770   1st Qu.:-0.15912  \n",
       " Median : 0.01759   Median : 0.01801   Median : 0.01846   Median : 0.01863  \n",
       " Mean   : 0.01816   Mean   : 0.01860   Mean   : 0.01907   Mean   : 0.01924  \n",
       " 3rd Qu.: 0.18371   3rd Qu.: 0.19070   3rd Qu.: 0.19601   3rd Qu.: 0.19779  \n",
       " Max.   : 1.08043   Max.   : 1.12285   Max.   : 1.15437   Max.   : 1.16482  \n",
       "      V13                 V14                V15                V16          \n",
       " Min.   :-0.735465   Min.   :-0.74781   Min.   :-0.78864   Min.   :-0.56225  \n",
       " 1st Qu.:-0.005069   1st Qu.:-0.01265   1st Qu.:-0.02366   1st Qu.:-0.01757  \n",
       " Median : 0.114091   Median : 0.10729   Median : 0.10114   Median : 0.07130  \n",
       " Mean   : 0.114500   Mean   : 0.10770   Mean   : 0.10157   Mean   : 0.07160  \n",
       " 3rd Qu.: 0.234188   3rd Qu.: 0.22817   3rd Qu.: 0.22692   3rd Qu.: 0.16086  \n",
       " Max.   : 0.882461   Max.   : 0.88068   Max.   : 0.90589   Max.   : 0.64429  \n",
       "      V17                V18                V19                 V20           \n",
       " Min.   :-0.50734   Min.   :-0.37186   Min.   :-0.238608   Min.   :-0.431287  \n",
       " 1st Qu.:-0.02967   1st Qu.:-0.03649   1st Qu.:-0.029772   1st Qu.:-0.065178  \n",
       " Median : 0.04826   Median : 0.01823   Median : 0.004299   Median : 0.002647  \n",
       " Mean   : 0.04853   Mean   : 0.01841   Mean   : 0.004416   Mean   : 0.002416  \n",
       " 3rd Qu.: 0.12680   3rd Qu.: 0.07337   3rd Qu.: 0.038637   3rd Qu.: 0.069942  \n",
       " Max.   : 0.55077   Max.   : 0.37103   Max.   : 0.223993   Max.   : 0.482430  \n",
       "      V21                V22                 V23          \n",
       " Min.   :0.009428   Min.   :-0.005804   Min.   :-0.36215  \n",
       " 1st Qu.:0.043164   1st Qu.: 0.012914   1st Qu.:-0.02170  \n",
       " Median :0.049414   Median : 0.015968   Median : 0.03384  \n",
       " Mean   :0.049393   Mean   : 0.015979   Mean   : 0.03403  \n",
       " 3rd Qu.:0.055615   3rd Qu.: 0.019046   3rd Qu.: 0.08981  \n",
       " Max.   :0.093625   Max.   : 0.035659   Max.   : 0.39198  "
      ]
     },
     "metadata": {},
     "output_type": "display_data"
    }
   ],
   "source": [
    "summary(sum_sims_df)"
   ]
  },
  {
   "cell_type": "code",
   "execution_count": 104,
   "metadata": {},
   "outputs": [],
   "source": [
    "sum_sims_df$index <- c(0, rep(1:(nrow(sum_sims_df)-1)%/%260))"
   ]
  },
  {
   "cell_type": "code",
   "execution_count": 105,
   "metadata": {},
   "outputs": [],
   "source": [
    "sum_sims_collapsed <- group_by(sum_sims_df, index) %>%\n",
    "  summarise_all(list(sum))"
   ]
  },
  {
   "cell_type": "code",
   "execution_count": 109,
   "metadata": {},
   "outputs": [],
   "source": [
    "colnames(sum_sims_collapsed)[-c(1)]  <- colnames(joint)[-c(1)] "
   ]
  },
  {
   "cell_type": "code",
   "execution_count": 110,
   "metadata": {},
   "outputs": [
    {
     "data": {
      "text/plain": [
       "     index         tes_cop_6m        tes_cop_1y        tes_cop_3y    \n",
       " Min.   :  0.0   Min.   : 0.6428   Min.   :-0.6116   Min.   :-3.957  \n",
       " 1st Qu.:249.8   1st Qu.: 6.5682   1st Qu.: 5.8670   1st Qu.: 5.031  \n",
       " Median :499.5   Median : 7.9747   Median : 7.4048   Median : 7.164  \n",
       " Mean   :499.5   Mean   : 7.9624   Mean   : 7.3913   Mean   : 7.146  \n",
       " 3rd Qu.:749.2   3rd Qu.: 9.4489   3rd Qu.: 9.0166   3rd Qu.: 9.400  \n",
       " Max.   :999.0   Max.   :14.5604   Max.   :14.6053   Max.   :17.154  \n",
       "   tes_cop_5y      tes_cop_10y       tes_cop_15y        tes_uvr_6m    \n",
       " Min.   :-6.989   Min.   :-10.434   Min.   :-11.889   Min.   :-8.990  \n",
       " 1st Qu.: 4.054   1st Qu.:  2.479   1st Qu.:  1.582   1st Qu.: 3.078  \n",
       " Median : 6.675   Median :  5.544   Median :  4.780   Median : 5.942  \n",
       " Mean   : 6.652   Mean   :  5.517   Mean   :  4.752   Mean   : 5.917  \n",
       " 3rd Qu.: 9.422   3rd Qu.:  8.757   3rd Qu.:  8.131   3rd Qu.: 8.944  \n",
       " Max.   :18.948   Max.   : 19.896   Max.   : 19.752   Max.   :19.355  \n",
       "   tes_uvr_1y        tes_uvr_3y         tes_uvr_5y       tes_uvr_10y      \n",
       " Min.   :-13.809   Min.   :-18.3124   Min.   :-19.107   Min.   :-19.6589  \n",
       " 1st Qu.:  1.379   1st Qu.:  0.3334   1st Qu.:  0.276   1st Qu.:  0.2687  \n",
       " Median :  4.985   Median :  4.7593   Median :  4.877   Median :  4.9989  \n",
       " Mean   :  4.953   Mean   :  4.7204   Mean   :  4.836   Mean   :  4.9573  \n",
       " 3rd Qu.:  8.763   3rd Qu.:  9.3982   3rd Qu.:  9.699   3rd Qu.:  9.9567  \n",
       " Max.   : 21.865   Max.   : 25.4829   Max.   : 26.419   Max.   : 27.1472  \n",
       "  tes_uvr_15y        corp_usa_3m     corp_usa_6m     corp_usa_1y    \n",
       " Min.   :-19.8354   Min.   :13.12   Min.   :11.24   Min.   : 8.968  \n",
       " 1st Qu.:  0.2726   1st Qu.:26.60   1st Qu.:24.81   1st Qu.:23.086  \n",
       " Median :  5.0456   Median :29.80   Median :28.03   Median :26.437  \n",
       " Mean   :  5.0036   Mean   :29.77   Mean   :28.00   Mean   :26.408  \n",
       " 3rd Qu.: 10.0483   3rd Qu.:33.15   3rd Qu.:31.41   3rd Qu.:29.950  \n",
       " Max.   : 27.3943   Max.   :44.78   Max.   :43.11   Max.   :42.129  \n",
       "  corp_usa_3y      corp_usa_5y      corp_usa_10y     corp_usa_15y    \n",
       " Min.   : 6.199   Min.   : 1.727   Min.   :-2.858   Min.   :-3.6129  \n",
       " 1st Qu.:16.251   1st Qu.:10.543   1st Qu.: 3.331   1st Qu.: 0.2413  \n",
       " Median :18.637   Median :12.635   Median : 4.800   Median : 1.1562  \n",
       " Mean   :18.616   Mean   :12.617   Mean   : 4.787   Mean   : 1.1481  \n",
       " 3rd Qu.:21.138   3rd Qu.:14.828   3rd Qu.: 6.340   3rd Qu.: 2.1151  \n",
       " Max.   :29.810   Max.   :22.433   Max.   :11.680   Max.   : 5.4398  \n",
       "     colcap             spx             ipc             trm        \n",
       " Min.   :-7.8487   Min.   :12.06   Min.   :3.728   Min.   : 1.086  \n",
       " 1st Qu.:-1.2817   1st Qu.:12.67   1st Qu.:4.073   1st Qu.: 7.369  \n",
       " Median : 0.6122   Median :12.84   Median :4.155   Median : 8.860  \n",
       " Mean   : 0.6281   Mean   :12.84   Mean   :4.154   Mean   : 8.847  \n",
       " 3rd Qu.: 2.4192   3rd Qu.:13.01   3rd Qu.:4.241   3rd Qu.:10.423  \n",
       " Max.   :10.0319   Max.   :13.71   Max.   :4.539   Max.   :15.843  "
      ]
     },
     "metadata": {},
     "output_type": "display_data"
    }
   ],
   "source": [
    "summary(sum_sims_collapsed)"
   ]
  },
  {
   "cell_type": "markdown",
   "metadata": {
    "tags": []
   },
   "source": [
    "# Calibración de la curva"
   ]
  },
  {
   "cell_type": "code",
   "execution_count": 67,
   "metadata": {
    "vscode": {
     "languageId": "r"
    }
   },
   "outputs": [
    {
     "data": {
      "text/html": [
       "0.424283357506555"
      ],
      "text/latex": [
       "0.424283357506555"
      ],
      "text/markdown": [
       "0.424283357506555"
      ],
      "text/plain": [
       "[1] 0.4242834"
      ]
     },
     "metadata": {},
     "output_type": "display_data"
    }
   ],
   "source": [
    "gamma <- log(0.6)/log(0.3)\n",
    "gamma"
   ]
  },
  {
   "cell_type": "code",
   "execution_count": 68,
   "metadata": {
    "vscode": {
     "languageId": "r"
    }
   },
   "outputs": [
    {
     "data": {
      "text/html": [
       "0.575716642493445"
      ],
      "text/latex": [
       "0.575716642493445"
      ],
      "text/markdown": [
       "0.575716642493445"
      ],
      "text/plain": [
       "[1] 0.5757166"
      ]
     },
     "metadata": {},
     "output_type": "display_data"
    }
   ],
   "source": [
    "1- gamma"
   ]
  },
  {
   "cell_type": "markdown",
   "metadata": {},
   "source": [
    "# Restricción del activo"
   ]
  },
  {
   "cell_type": "code",
   "execution_count": 125,
   "metadata": {},
   "outputs": [
    {
     "name": "stderr",
     "output_type": "stream",
     "text": [
      "Installing package into 'C:/Users/Diana C Contreras/Documents/R/win-library/3.6'\n",
      "(as 'lib' is unspecified)\n"
     ]
    },
    {
     "name": "stdout",
     "output_type": "stream",
     "text": [
      "package 'quadprog' successfully unpacked and MD5 sums checked\n"
     ]
    },
    {
     "name": "stderr",
     "output_type": "stream",
     "text": [
      "Warning message:\n",
      "\"cannot remove prior installation of package 'quadprog'\"Warning message in file.copy(savedcopy, lib, recursive = TRUE):\n",
      "\"problema al copiar C:\\Users\\Diana C Contreras\\Documents\\R\\win-library\\3.6\\00LOCK\\quadprog\\libs\\x64\\quadprog.dll  a C:\\Users\\Diana C Contreras\\Documents\\R\\win-library\\3.6\\quadprog\\libs\\x64\\quadprog.dll: Permission denied\"Warning message:\n",
      "\"restored 'quadprog'\""
     ]
    },
    {
     "name": "stdout",
     "output_type": "stream",
     "text": [
      "\n",
      "The downloaded binary packages are in\n",
      "\tC:\\Users\\Diana C Contreras\\AppData\\Local\\Temp\\Rtmpmaq3rz\\downloaded_packages\n"
     ]
    }
   ],
   "source": [
    "install.packages('quadprog')"
   ]
  },
  {
   "cell_type": "code",
   "execution_count": 126,
   "metadata": {},
   "outputs": [],
   "source": [
    "library('quadprog')"
   ]
  },
  {
   "cell_type": "code",
   "execution_count": 149,
   "metadata": {},
   "outputs": [],
   "source": [
    "varcov <- cov(sum_sims_collapsed[,c(2:22)])"
   ]
  },
  {
   "cell_type": "code",
   "execution_count": 138,
   "metadata": {},
   "outputs": [
    {
     "data": {
      "text/html": [
       "<style>\n",
       ".dl-inline {width: auto; margin:0; padding: 0}\n",
       ".dl-inline>dt, .dl-inline>dd {float: none; width: auto; display: inline-block}\n",
       ".dl-inline>dt::after {content: \":\\0020\"; padding-right: .5ex}\n",
       ".dl-inline>dt:not(:first-of-type) {padding-left: .5ex}\n",
       "</style><dl class=dl-inline><dt>tes_cop_6m</dt><dd>7.96235531742021</dd><dt>tes_cop_1y</dt><dd>7.39126270628383</dd><dt>tes_cop_3y</dt><dd>7.14555581087937</dd><dt>tes_cop_5y</dt><dd>6.65164350801705</dd><dt>tes_cop_10y</dt><dd>5.51715822711157</dd><dt>tes_cop_15y</dt><dd>4.75175256796634</dd><dt>tes_uvr_6m</dt><dd>5.91692101897745</dd><dt>tes_uvr_1y</dt><dd>4.95283645525138</dd><dt>tes_uvr_3y</dt><dd>4.72040369433642</dd><dt>tes_uvr_5y</dt><dd>4.83638849720991</dd><dt>tes_uvr_10y</dt><dd>4.95732223240105</dd><dt>tes_uvr_15y</dt><dd>5.00363028696876</dd><dt>corp_usa_3m</dt><dd>29.7700709271298</dd><dt>corp_usa_6m</dt><dd>28.0029267606339</dd><dt>corp_usa_1y</dt><dd>26.407874336002</dd><dt>corp_usa_3y</dt><dd>18.616053094326</dd><dt>corp_usa_5y</dt><dd>12.6168112983955</dd><dt>corp_usa_10y</dt><dd>4.78749964998109</dd><dt>corp_usa_15y</dt><dd>1.14813061338281</dd><dt>colcap</dt><dd>0.62810549643817</dd><dt>spx</dt><dd>12.8420699166041</dd></dl>\n"
      ],
      "text/latex": [
       "\\begin{description*}\n",
       "\\item[tes\\textbackslash{}\\_cop\\textbackslash{}\\_6m] 7.96235531742021\n",
       "\\item[tes\\textbackslash{}\\_cop\\textbackslash{}\\_1y] 7.39126270628383\n",
       "\\item[tes\\textbackslash{}\\_cop\\textbackslash{}\\_3y] 7.14555581087937\n",
       "\\item[tes\\textbackslash{}\\_cop\\textbackslash{}\\_5y] 6.65164350801705\n",
       "\\item[tes\\textbackslash{}\\_cop\\textbackslash{}\\_10y] 5.51715822711157\n",
       "\\item[tes\\textbackslash{}\\_cop\\textbackslash{}\\_15y] 4.75175256796634\n",
       "\\item[tes\\textbackslash{}\\_uvr\\textbackslash{}\\_6m] 5.91692101897745\n",
       "\\item[tes\\textbackslash{}\\_uvr\\textbackslash{}\\_1y] 4.95283645525138\n",
       "\\item[tes\\textbackslash{}\\_uvr\\textbackslash{}\\_3y] 4.72040369433642\n",
       "\\item[tes\\textbackslash{}\\_uvr\\textbackslash{}\\_5y] 4.83638849720991\n",
       "\\item[tes\\textbackslash{}\\_uvr\\textbackslash{}\\_10y] 4.95732223240105\n",
       "\\item[tes\\textbackslash{}\\_uvr\\textbackslash{}\\_15y] 5.00363028696876\n",
       "\\item[corp\\textbackslash{}\\_usa\\textbackslash{}\\_3m] 29.7700709271298\n",
       "\\item[corp\\textbackslash{}\\_usa\\textbackslash{}\\_6m] 28.0029267606339\n",
       "\\item[corp\\textbackslash{}\\_usa\\textbackslash{}\\_1y] 26.407874336002\n",
       "\\item[corp\\textbackslash{}\\_usa\\textbackslash{}\\_3y] 18.616053094326\n",
       "\\item[corp\\textbackslash{}\\_usa\\textbackslash{}\\_5y] 12.6168112983955\n",
       "\\item[corp\\textbackslash{}\\_usa\\textbackslash{}\\_10y] 4.78749964998109\n",
       "\\item[corp\\textbackslash{}\\_usa\\textbackslash{}\\_15y] 1.14813061338281\n",
       "\\item[colcap] 0.62810549643817\n",
       "\\item[spx] 12.8420699166041\n",
       "\\end{description*}\n"
      ],
      "text/markdown": [
       "tes_cop_6m\n",
       ":   7.96235531742021tes_cop_1y\n",
       ":   7.39126270628383tes_cop_3y\n",
       ":   7.14555581087937tes_cop_5y\n",
       ":   6.65164350801705tes_cop_10y\n",
       ":   5.51715822711157tes_cop_15y\n",
       ":   4.75175256796634tes_uvr_6m\n",
       ":   5.91692101897745tes_uvr_1y\n",
       ":   4.95283645525138tes_uvr_3y\n",
       ":   4.72040369433642tes_uvr_5y\n",
       ":   4.83638849720991tes_uvr_10y\n",
       ":   4.95732223240105tes_uvr_15y\n",
       ":   5.00363028696876corp_usa_3m\n",
       ":   29.7700709271298corp_usa_6m\n",
       ":   28.0029267606339corp_usa_1y\n",
       ":   26.407874336002corp_usa_3y\n",
       ":   18.616053094326corp_usa_5y\n",
       ":   12.6168112983955corp_usa_10y\n",
       ":   4.78749964998109corp_usa_15y\n",
       ":   1.14813061338281colcap\n",
       ":   0.62810549643817spx\n",
       ":   12.8420699166041\n",
       "\n"
      ],
      "text/plain": [
       "  tes_cop_6m   tes_cop_1y   tes_cop_3y   tes_cop_5y  tes_cop_10y  tes_cop_15y \n",
       "   7.9623553    7.3912627    7.1455558    6.6516435    5.5171582    4.7517526 \n",
       "  tes_uvr_6m   tes_uvr_1y   tes_uvr_3y   tes_uvr_5y  tes_uvr_10y  tes_uvr_15y \n",
       "   5.9169210    4.9528365    4.7204037    4.8363885    4.9573222    5.0036303 \n",
       " corp_usa_3m  corp_usa_6m  corp_usa_1y  corp_usa_3y  corp_usa_5y corp_usa_10y \n",
       "  29.7700709   28.0029268   26.4078743   18.6160531   12.6168113    4.7874996 \n",
       "corp_usa_15y       colcap          spx \n",
       "   1.1481306    0.6281055   12.8420699 "
      ]
     },
     "metadata": {},
     "output_type": "display_data"
    }
   ],
   "source": [
    "returns <- colMeans(sum_sims_collapsed[,c(2:22)])\n",
    "returns"
   ]
  },
  {
   "cell_type": "code",
   "execution_count": 151,
   "metadata": {},
   "outputs": [
    {
     "data": {
      "text/html": [
       "<style>\n",
       ".list-inline {list-style: none; margin:0; padding: 0}\n",
       ".list-inline>li {display: inline-block}\n",
       ".list-inline>li:not(:last-child)::after {content: \"\\00b7\"; padding: 0 .5ex}\n",
       "</style>\n",
       "<ol class=list-inline><li>1</li><li>-1</li></ol>\n"
      ],
      "text/latex": [
       "\\begin{enumerate*}\n",
       "\\item 1\n",
       "\\item -1\n",
       "\\end{enumerate*}\n"
      ],
      "text/markdown": [
       "1. 1\n",
       "2. -1\n",
       "\n",
       "\n"
      ],
      "text/plain": [
       "[1]  1 -1"
      ]
     },
     "metadata": {},
     "output_type": "display_data"
    }
   ],
   "source": [
    "one<- matrix(1, nrow = 1, ncol = 21) #Matrix that defines the  \"greater or equal to\" restriction. \n",
    "minusone<- matrix(0, nrow = 1, ncol = 21) #Matrix that defines \"less or equal to\" restriction\n",
    "sumone <- rbind(one, minusone) #Matrix of constraints of x \n",
    "Amat <- sumone\n",
    "b0 <- c(1,-1) # Lower bounds\n",
    "b0"
   ]
  },
  {
   "cell_type": "code",
   "execution_count": 146,
   "metadata": {},
   "outputs": [],
   "source": [
    "fn3<- function(phi){\n",
    "  res <- solve.QP(Dmat=varcov, dvec=1/phi*returns, Amat=t(Amat), bvec=b0)\n",
    "  return(res$solution)\n",
    "}"
   ]
  },
  {
   "cell_type": "code",
   "execution_count": 152,
   "metadata": {},
   "outputs": [
    {
     "ename": "ERROR",
     "evalue": "Error in solve.QP(Dmat = varcov, dvec = 1/phi * returns, Amat = t(Amat), : matrix D in quadratic function is not positive definite!\n",
     "output_type": "error",
     "traceback": [
      "Error in solve.QP(Dmat = varcov, dvec = 1/phi * returns, Amat = t(Amat), : matrix D in quadratic function is not positive definite!\nTraceback:\n",
      "1. fn3(0.424283357506555)",
      "2. solve.QP(Dmat = varcov, dvec = 1/phi * returns, Amat = t(Amat), \n .     bvec = b0)   # at line 2 of file <text>",
      "3. stop(\"matrix D in quadratic function is not positive definite!\")"
     ]
    }
   ],
   "source": [
    "fn3(0.424283357506555)"
   ]
  }
 ],
 "metadata": {
  "interpreter": {
   "hash": "55e5e45f2c7483bd6dc7929c8833acb9fd534bb579ffc2e2f3d3d3e99b23c691"
  },
  "kernelspec": {
   "display_name": "R",
   "language": "R",
   "name": "ir"
  },
  "language_info": {
   "codemirror_mode": "r",
   "file_extension": ".r",
   "mimetype": "text/x-r-source",
   "name": "R",
   "pygments_lexer": "r",
   "version": "3.6.1"
  }
 },
 "nbformat": 4,
 "nbformat_minor": 4
}
