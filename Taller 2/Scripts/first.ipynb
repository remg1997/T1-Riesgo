{
 "cells": [
  {
   "cell_type": "markdown",
   "metadata": {},
   "source": [
    "# Optimización del Activo\n",
    "## Import de paquetes y funciones"
   ]
  },
  {
   "cell_type": "code",
   "execution_count": 56,
   "metadata": {
    "vscode": {
     "languageId": "r"
    }
   },
   "outputs": [
    {
     "name": "stderr",
     "output_type": "stream",
     "text": [
      "Warning message:\n",
      "\"package 'dplyr' was built under R version 3.6.3\"\n",
      "Attaching package: 'dplyr'\n",
      "\n",
      "The following objects are masked from 'package:data.table':\n",
      "\n",
      "    between, first, last\n",
      "\n",
      "The following objects are masked from 'package:xts':\n",
      "\n",
      "    first, last\n",
      "\n",
      "The following objects are masked from 'package:stats':\n",
      "\n",
      "    filter, lag\n",
      "\n",
      "The following objects are masked from 'package:base':\n",
      "\n",
      "    intersect, setdiff, setequal, union\n",
      "\n"
     ]
    }
   ],
   "source": [
    "library(\"readxl\")\n",
    "library(\"lubridate\")\n",
    "library('tidyr')\n",
    "library('ggplot2')\n",
    "library('YieldCurve')\n",
    "library('dplyr')"
   ]
  },
  {
   "cell_type": "code",
   "execution_count": 2,
   "metadata": {
    "vscode": {
     "languageId": "r"
    }
   },
   "outputs": [
    {
     "data": {
      "text/html": [
       "<style>\n",
       ".list-inline {list-style: none; margin:0; padding: 0}\n",
       ".list-inline>li {display: inline-block}\n",
       ".list-inline>li:not(:last-child)::after {content: \"\\00b7\"; padding: 0 .5ex}\n",
       "</style>\n",
       "<ol class=list-inline><li>'.GlobalEnv'</li><li>'package:YieldCurve'</li><li>'package:xts'</li><li>'package:zoo'</li><li>'package:ggplot2'</li><li>'package:tidyr'</li><li>'package:lubridate'</li><li>'package:readxl'</li><li>'jupyter:irkernel'</li><li>'jupyter:irkernel'</li><li>'package:stats'</li><li>'package:graphics'</li><li>'package:grDevices'</li><li>'package:utils'</li><li>'package:datasets'</li><li>'package:methods'</li><li>'Autoloads'</li><li>'package:base'</li></ol>\n"
      ],
      "text/latex": [
       "\\begin{enumerate*}\n",
       "\\item '.GlobalEnv'\n",
       "\\item 'package:YieldCurve'\n",
       "\\item 'package:xts'\n",
       "\\item 'package:zoo'\n",
       "\\item 'package:ggplot2'\n",
       "\\item 'package:tidyr'\n",
       "\\item 'package:lubridate'\n",
       "\\item 'package:readxl'\n",
       "\\item 'jupyter:irkernel'\n",
       "\\item 'jupyter:irkernel'\n",
       "\\item 'package:stats'\n",
       "\\item 'package:graphics'\n",
       "\\item 'package:grDevices'\n",
       "\\item 'package:utils'\n",
       "\\item 'package:datasets'\n",
       "\\item 'package:methods'\n",
       "\\item 'Autoloads'\n",
       "\\item 'package:base'\n",
       "\\end{enumerate*}\n"
      ],
      "text/markdown": [
       "1. '.GlobalEnv'\n",
       "2. 'package:YieldCurve'\n",
       "3. 'package:xts'\n",
       "4. 'package:zoo'\n",
       "5. 'package:ggplot2'\n",
       "6. 'package:tidyr'\n",
       "7. 'package:lubridate'\n",
       "8. 'package:readxl'\n",
       "9. 'jupyter:irkernel'\n",
       "10. 'jupyter:irkernel'\n",
       "11. 'package:stats'\n",
       "12. 'package:graphics'\n",
       "13. 'package:grDevices'\n",
       "14. 'package:utils'\n",
       "15. 'package:datasets'\n",
       "16. 'package:methods'\n",
       "17. 'Autoloads'\n",
       "18. 'package:base'\n",
       "\n",
       "\n"
      ],
      "text/plain": [
       " [1] \".GlobalEnv\"         \"package:YieldCurve\" \"package:xts\"       \n",
       " [4] \"package:zoo\"        \"package:ggplot2\"    \"package:tidyr\"     \n",
       " [7] \"package:lubridate\"  \"package:readxl\"     \"jupyter:irkernel\"  \n",
       "[10] \"jupyter:irkernel\"   \"package:stats\"      \"package:graphics\"  \n",
       "[13] \"package:grDevices\"  \"package:utils\"      \"package:datasets\"  \n",
       "[16] \"package:methods\"    \"Autoloads\"          \"package:base\"      "
      ]
     },
     "metadata": {},
     "output_type": "display_data"
    }
   ],
   "source": [
    "search()"
   ]
  },
  {
   "cell_type": "code",
   "execution_count": 3,
   "metadata": {
    "vscode": {
     "languageId": "r"
    }
   },
   "outputs": [],
   "source": [
    "source(\"helpers.R\")"
   ]
  },
  {
   "cell_type": "markdown",
   "metadata": {},
   "source": [
    "### Simulación de personas"
   ]
  },
  {
   "cell_type": "code",
   "execution_count": 4,
   "metadata": {
    "vscode": {
     "languageId": "r"
    }
   },
   "outputs": [],
   "source": [
    "pathmort <- 'C:/Users/Diana C Contreras/OneDrive - Universidad de Los Andes/Riesgo Financiero/Talleres/T1-Riesgo/Taller 2/data/Mortality.xlsx'"
   ]
  },
  {
   "cell_type": "code",
   "execution_count": 5,
   "metadata": {
    "vscode": {
     "languageId": "r"
    }
   },
   "outputs": [
    {
     "data": {
      "text/html": [
       "<table class=\"dataframe\">\n",
       "<caption>A data.frame: 6 × 3</caption>\n",
       "<thead>\n",
       "\t<tr><th></th><th scope=col>age</th><th scope=col>q_m</th><th scope=col>q_f</th></tr>\n",
       "\t<tr><th></th><th scope=col>&lt;dbl&gt;</th><th scope=col>&lt;dbl&gt;</th><th scope=col>&lt;dbl&gt;</th></tr>\n",
       "</thead>\n",
       "<tbody>\n",
       "\t<tr><th scope=row>1</th><td>50</td><td>0.003353</td><td>0.001880</td></tr>\n",
       "\t<tr><th scope=row>2</th><td>51</td><td>0.003641</td><td>0.002042</td></tr>\n",
       "\t<tr><th scope=row>3</th><td>52</td><td>0.003956</td><td>0.002219</td></tr>\n",
       "\t<tr><th scope=row>4</th><td>53</td><td>0.004301</td><td>0.002412</td></tr>\n",
       "\t<tr><th scope=row>5</th><td>54</td><td>0.004681</td><td>0.002625</td></tr>\n",
       "\t<tr><th scope=row>6</th><td>55</td><td>0.005050</td><td>0.002833</td></tr>\n",
       "</tbody>\n",
       "</table>\n"
      ],
      "text/latex": [
       "A data.frame: 6 × 3\n",
       "\\begin{tabular}{r|lll}\n",
       "  & age & q\\_m & q\\_f\\\\\n",
       "  & <dbl> & <dbl> & <dbl>\\\\\n",
       "\\hline\n",
       "\t1 & 50 & 0.003353 & 0.001880\\\\\n",
       "\t2 & 51 & 0.003641 & 0.002042\\\\\n",
       "\t3 & 52 & 0.003956 & 0.002219\\\\\n",
       "\t4 & 53 & 0.004301 & 0.002412\\\\\n",
       "\t5 & 54 & 0.004681 & 0.002625\\\\\n",
       "\t6 & 55 & 0.005050 & 0.002833\\\\\n",
       "\\end{tabular}\n"
      ],
      "text/markdown": [
       "\n",
       "A data.frame: 6 × 3\n",
       "\n",
       "| <!--/--> | age &lt;dbl&gt; | q_m &lt;dbl&gt; | q_f &lt;dbl&gt; |\n",
       "|---|---|---|---|\n",
       "| 1 | 50 | 0.003353 | 0.001880 |\n",
       "| 2 | 51 | 0.003641 | 0.002042 |\n",
       "| 3 | 52 | 0.003956 | 0.002219 |\n",
       "| 4 | 53 | 0.004301 | 0.002412 |\n",
       "| 5 | 54 | 0.004681 | 0.002625 |\n",
       "| 6 | 55 | 0.005050 | 0.002833 |\n",
       "\n"
      ],
      "text/plain": [
       "  age q_m      q_f     \n",
       "1 50  0.003353 0.001880\n",
       "2 51  0.003641 0.002042\n",
       "3 52  0.003956 0.002219\n",
       "4 53  0.004301 0.002412\n",
       "5 54  0.004681 0.002625\n",
       "6 55  0.005050 0.002833"
      ]
     },
     "metadata": {},
     "output_type": "display_data"
    }
   ],
   "source": [
    "mortality <- read_excel(pathmort, sheet=1,skip=2, col_names=c('age','i_m','d_m','q_m','e_m','age_2','i_f','d_f','q_f','e_f'))\n",
    "mortality <- mortality[,c(1,4,9)]\n",
    "mortality <- data.frame(lapply(mortality, function(x) as.numeric(as.character(x))))\n",
    "head(mortality)"
   ]
  },
  {
   "cell_type": "code",
   "execution_count": 6,
   "metadata": {
    "vscode": {
     "languageId": "r"
    }
   },
   "outputs": [],
   "source": [
    "simulaciones <- function(future=60){\n",
    "    t_ages<- list()\n",
    "    for (i in 50:89){\n",
    "        m=7500\n",
    "        f=7500\n",
    "        t_l <- c(15000)\n",
    "        for (j in 1:future){\n",
    "            m <- sum(rbinom(m, size=1, prob= (1-mortality$q_m[j])))\n",
    "            f <- sum(rbinom(f, size=1, prob= (1-mortality$q_f[j])))\n",
    "            t_l <- c(t_l, (m+f) )\n",
    "        }\n",
    "    t_ages<- c(t_ages, t_l)\n",
    "    }\n",
    "    t_ages <- as.data.frame(matrix(t_ages, byrow=TRUE, nrow= length(c(50:89)) ))\n",
    "    t_ages <- data.frame(lapply(t_ages, function(x) as.numeric(as.character(x))))\n",
    "    t_sum <- colSums(t_ages)\n",
    "return(t_sum) \n",
    "}"
   ]
  },
  {
   "cell_type": "code",
   "execution_count": 7,
   "metadata": {
    "vscode": {
     "languageId": "r"
    }
   },
   "outputs": [],
   "source": [
    "future <- 60\n",
    "sims <- data.frame(matrix(NA, nrow = 1000, ncol = (future+1)))\n",
    "for (i in 1:1000){\n",
    "    sims[i,] <- simulaciones(future)\n",
    "}\n"
   ]
  },
  {
   "cell_type": "code",
   "execution_count": 10,
   "metadata": {
    "vscode": {
     "languageId": "r"
    }
   },
   "outputs": [],
   "source": [
    "write.csv(sims,'C:/Users/Diana C Contreras/OneDrive - Universidad de Los Andes/Riesgo Financiero/Talleres/T1-Riesgo/Taller 2/data/proyection.csv',row.names=F)"
   ]
  },
  {
   "cell_type": "code",
   "execution_count": 11,
   "metadata": {
    "vscode": {
     "languageId": "r"
    }
   },
   "outputs": [
    {
     "name": "stderr",
     "output_type": "stream",
     "text": [
      "Installing package into 'C:/Users/Diana C Contreras/Documents/R/win-library/3.6'\n",
      "(as 'lib' is unspecified)\n"
     ]
    },
    {
     "name": "stdout",
     "output_type": "stream",
     "text": [
      "\n",
      "  There is a binary version available but the source version is later:\n",
      "           binary source needs_compilation\n",
      "data.table 1.14.0 1.14.2              TRUE\n",
      "\n",
      "  Binaries will be installed\n",
      "package 'data.table' successfully unpacked and MD5 sums checked\n",
      "\n",
      "The downloaded binary packages are in\n",
      "\tC:\\Users\\Diana C Contreras\\AppData\\Local\\Temp\\RtmpEnl9rI\\downloaded_packages\n"
     ]
    },
    {
     "name": "stderr",
     "output_type": "stream",
     "text": [
      "Warning message:\n",
      "\"package 'data.table' was built under R version 3.6.3\"\n",
      "Attaching package: 'data.table'\n",
      "\n",
      "The following objects are masked from 'package:xts':\n",
      "\n",
      "    first, last\n",
      "\n",
      "The following objects are masked from 'package:lubridate':\n",
      "\n",
      "    hour, isoweek, mday, minute, month, quarter, second, wday, week,\n",
      "    yday, year\n",
      "\n"
     ]
    }
   ],
   "source": [
    "install.packages('data.table')\n",
    "library('data.table')"
   ]
  },
  {
   "cell_type": "code",
   "execution_count": 12,
   "metadata": {
    "vscode": {
     "languageId": "r"
    }
   },
   "outputs": [],
   "source": [
    "sims$id <- seq(1, 1000, 1)"
   ]
  },
  {
   "cell_type": "code",
   "execution_count": 16,
   "metadata": {
    "vscode": {
     "languageId": "r"
    }
   },
   "outputs": [
    {
     "name": "stderr",
     "output_type": "stream",
     "text": [
      "Warning message in melt(data = sims, id.vars = \"id\", variable.name = \"period_f\", :\n",
      "\"The melt generic in data.table has been passed a data.frame and will attempt to redirect to the relevant reshape2 method; please note that reshape2 is deprecated, and this redirection is now deprecated as well. To continue using melt methods from reshape2 while both libraries are attached, e.g. melt.list, you can prepend the namespace like reshape2::melt(sims). In the next version, this warning will become an error.\""
     ]
    }
   ],
   "source": [
    "long_sims <- melt(data= sims,id.vars='id', variable.name=\"period_f\", value.name= \"alive\")"
   ]
  },
  {
   "cell_type": "code",
   "execution_count": 17,
   "metadata": {
    "vscode": {
     "languageId": "r"
    }
   },
   "outputs": [
    {
     "data": {
      "text/html": [
       "<table class=\"dataframe\">\n",
       "<caption>A data.frame: 6 × 3</caption>\n",
       "<thead>\n",
       "\t<tr><th></th><th scope=col>id</th><th scope=col>period_f</th><th scope=col>alive</th></tr>\n",
       "\t<tr><th></th><th scope=col>&lt;dbl&gt;</th><th scope=col>&lt;fct&gt;</th><th scope=col>&lt;dbl&gt;</th></tr>\n",
       "</thead>\n",
       "<tbody>\n",
       "\t<tr><th scope=row>1</th><td>1</td><td>X1</td><td>6e+05</td></tr>\n",
       "\t<tr><th scope=row>2</th><td>2</td><td>X1</td><td>6e+05</td></tr>\n",
       "\t<tr><th scope=row>3</th><td>3</td><td>X1</td><td>6e+05</td></tr>\n",
       "\t<tr><th scope=row>4</th><td>4</td><td>X1</td><td>6e+05</td></tr>\n",
       "\t<tr><th scope=row>5</th><td>5</td><td>X1</td><td>6e+05</td></tr>\n",
       "\t<tr><th scope=row>6</th><td>6</td><td>X1</td><td>6e+05</td></tr>\n",
       "</tbody>\n",
       "</table>\n"
      ],
      "text/latex": [
       "A data.frame: 6 × 3\n",
       "\\begin{tabular}{r|lll}\n",
       "  & id & period\\_f & alive\\\\\n",
       "  & <dbl> & <fct> & <dbl>\\\\\n",
       "\\hline\n",
       "\t1 & 1 & X1 & 6e+05\\\\\n",
       "\t2 & 2 & X1 & 6e+05\\\\\n",
       "\t3 & 3 & X1 & 6e+05\\\\\n",
       "\t4 & 4 & X1 & 6e+05\\\\\n",
       "\t5 & 5 & X1 & 6e+05\\\\\n",
       "\t6 & 6 & X1 & 6e+05\\\\\n",
       "\\end{tabular}\n"
      ],
      "text/markdown": [
       "\n",
       "A data.frame: 6 × 3\n",
       "\n",
       "| <!--/--> | id &lt;dbl&gt; | period_f &lt;fct&gt; | alive &lt;dbl&gt; |\n",
       "|---|---|---|---|\n",
       "| 1 | 1 | X1 | 6e+05 |\n",
       "| 2 | 2 | X1 | 6e+05 |\n",
       "| 3 | 3 | X1 | 6e+05 |\n",
       "| 4 | 4 | X1 | 6e+05 |\n",
       "| 5 | 5 | X1 | 6e+05 |\n",
       "| 6 | 6 | X1 | 6e+05 |\n",
       "\n"
      ],
      "text/plain": [
       "  id period_f alive\n",
       "1 1  X1       6e+05\n",
       "2 2  X1       6e+05\n",
       "3 3  X1       6e+05\n",
       "4 4  X1       6e+05\n",
       "5 5  X1       6e+05\n",
       "6 6  X1       6e+05"
      ]
     },
     "metadata": {},
     "output_type": "display_data"
    }
   ],
   "source": [
    "head(long_sims)"
   ]
  },
  {
   "cell_type": "code",
   "execution_count": 20,
   "metadata": {
    "vscode": {
     "languageId": "r"
    }
   },
   "outputs": [],
   "source": [
    "long_sims$period_f <- as.numeric(substring(as.character(long_sims$period_f), 2))"
   ]
  },
  {
   "cell_type": "code",
   "execution_count": 21,
   "metadata": {
    "vscode": {
     "languageId": "r"
    }
   },
   "outputs": [
    {
     "data": {
      "text/html": [
       "<table class=\"dataframe\">\n",
       "<caption>A data.frame: 6 × 3</caption>\n",
       "<thead>\n",
       "\t<tr><th></th><th scope=col>id</th><th scope=col>period_f</th><th scope=col>alive</th></tr>\n",
       "\t<tr><th></th><th scope=col>&lt;dbl&gt;</th><th scope=col>&lt;dbl&gt;</th><th scope=col>&lt;dbl&gt;</th></tr>\n",
       "</thead>\n",
       "<tbody>\n",
       "\t<tr><th scope=row>1</th><td>1</td><td>1</td><td>6e+05</td></tr>\n",
       "\t<tr><th scope=row>2</th><td>2</td><td>1</td><td>6e+05</td></tr>\n",
       "\t<tr><th scope=row>3</th><td>3</td><td>1</td><td>6e+05</td></tr>\n",
       "\t<tr><th scope=row>4</th><td>4</td><td>1</td><td>6e+05</td></tr>\n",
       "\t<tr><th scope=row>5</th><td>5</td><td>1</td><td>6e+05</td></tr>\n",
       "\t<tr><th scope=row>6</th><td>6</td><td>1</td><td>6e+05</td></tr>\n",
       "</tbody>\n",
       "</table>\n"
      ],
      "text/latex": [
       "A data.frame: 6 × 3\n",
       "\\begin{tabular}{r|lll}\n",
       "  & id & period\\_f & alive\\\\\n",
       "  & <dbl> & <dbl> & <dbl>\\\\\n",
       "\\hline\n",
       "\t1 & 1 & 1 & 6e+05\\\\\n",
       "\t2 & 2 & 1 & 6e+05\\\\\n",
       "\t3 & 3 & 1 & 6e+05\\\\\n",
       "\t4 & 4 & 1 & 6e+05\\\\\n",
       "\t5 & 5 & 1 & 6e+05\\\\\n",
       "\t6 & 6 & 1 & 6e+05\\\\\n",
       "\\end{tabular}\n"
      ],
      "text/markdown": [
       "\n",
       "A data.frame: 6 × 3\n",
       "\n",
       "| <!--/--> | id &lt;dbl&gt; | period_f &lt;dbl&gt; | alive &lt;dbl&gt; |\n",
       "|---|---|---|---|\n",
       "| 1 | 1 | 1 | 6e+05 |\n",
       "| 2 | 2 | 1 | 6e+05 |\n",
       "| 3 | 3 | 1 | 6e+05 |\n",
       "| 4 | 4 | 1 | 6e+05 |\n",
       "| 5 | 5 | 1 | 6e+05 |\n",
       "| 6 | 6 | 1 | 6e+05 |\n",
       "\n"
      ],
      "text/plain": [
       "  id period_f alive\n",
       "1 1  1        6e+05\n",
       "2 2  1        6e+05\n",
       "3 3  1        6e+05\n",
       "4 4  1        6e+05\n",
       "5 5  1        6e+05\n",
       "6 6  1        6e+05"
      ]
     },
     "metadata": {},
     "output_type": "display_data"
    }
   ],
   "source": [
    "head(long_sims)"
   ]
  },
  {
   "cell_type": "code",
   "execution_count": 58,
   "metadata": {
    "vscode": {
     "languageId": "r"
    }
   },
   "outputs": [],
   "source": [
    "long_sims$flow <- long_sims$alive*0.000018\n",
    "c_l_sims <- long_sims %>%\n",
    "            group_by(period_f) %>%\n",
    "            summarise(alive = mean(alive), flow = mean(flow))\n"
   ]
  },
  {
   "cell_type": "code",
   "execution_count": 62,
   "metadata": {
    "vscode": {
     "languageId": "r"
    }
   },
   "outputs": [
    {
     "data": {
      "image/png": "[encoded data removed]",
      "text/plain": [
       "plot without title"
      ]
     },
     "metadata": {},
     "output_type": "display_data"
    }
   ],
   "source": [
    "ggplot(c_l_sims,aes(period_f,alive))+  geom_col( fill='deeppink4') + labs(x=\"años en el futuro\", y='Afiliados vivos',title='Evolución de afiliados vivos') +theme_classic()"
   ]
  },
  {
   "cell_type": "code",
   "execution_count": 63,
   "metadata": {
    "vscode": {
     "languageId": "r"
    }
   },
   "outputs": [
    {
     "data": {
      "image/png": "[encoded data removed]",
      "text/plain": [
       "plot without title"
      ]
     },
     "metadata": {},
     "output_type": "display_data"
    }
   ],
   "source": [
    "\n",
    "ggplot(c_l_sims,aes(period_f,flow))+ geom_col(fill='chartreuse4') + labs(x=\"años en el futuro\", y='Billones de pesos',title='Flujos anuales de la compañia') +theme_classic()"
   ]
  },
  {
   "cell_type": "code",
   "execution_count": 49,
   "metadata": {
    "vscode": {
     "languageId": "r"
    }
   },
   "outputs": [
    {
     "data": {
      "text/html": [
       "<table class=\"dataframe\">\n",
       "<caption>A data.frame: 6 × 4</caption>\n",
       "<thead>\n",
       "\t<tr><th></th><th scope=col>id</th><th scope=col>period_f</th><th scope=col>alive</th><th scope=col>flow</th></tr>\n",
       "\t<tr><th></th><th scope=col>&lt;dbl&gt;</th><th scope=col>&lt;dbl&gt;</th><th scope=col>&lt;dbl&gt;</th><th scope=col>&lt;dbl&gt;</th></tr>\n",
       "</thead>\n",
       "<tbody>\n",
       "\t<tr><th scope=row>1</th><td>1</td><td>1</td><td>6e+05</td><td>10.8</td></tr>\n",
       "\t<tr><th scope=row>2</th><td>2</td><td>1</td><td>6e+05</td><td>10.8</td></tr>\n",
       "\t<tr><th scope=row>3</th><td>3</td><td>1</td><td>6e+05</td><td>10.8</td></tr>\n",
       "\t<tr><th scope=row>4</th><td>4</td><td>1</td><td>6e+05</td><td>10.8</td></tr>\n",
       "\t<tr><th scope=row>5</th><td>5</td><td>1</td><td>6e+05</td><td>10.8</td></tr>\n",
       "\t<tr><th scope=row>6</th><td>6</td><td>1</td><td>6e+05</td><td>10.8</td></tr>\n",
       "</tbody>\n",
       "</table>\n"
      ],
      "text/latex": [
       "A data.frame: 6 × 4\n",
       "\\begin{tabular}{r|llll}\n",
       "  & id & period\\_f & alive & flow\\\\\n",
       "  & <dbl> & <dbl> & <dbl> & <dbl>\\\\\n",
       "\\hline\n",
       "\t1 & 1 & 1 & 6e+05 & 10.8\\\\\n",
       "\t2 & 2 & 1 & 6e+05 & 10.8\\\\\n",
       "\t3 & 3 & 1 & 6e+05 & 10.8\\\\\n",
       "\t4 & 4 & 1 & 6e+05 & 10.8\\\\\n",
       "\t5 & 5 & 1 & 6e+05 & 10.8\\\\\n",
       "\t6 & 6 & 1 & 6e+05 & 10.8\\\\\n",
       "\\end{tabular}\n"
      ],
      "text/markdown": [
       "\n",
       "A data.frame: 6 × 4\n",
       "\n",
       "| <!--/--> | id &lt;dbl&gt; | period_f &lt;dbl&gt; | alive &lt;dbl&gt; | flow &lt;dbl&gt; |\n",
       "|---|---|---|---|---|\n",
       "| 1 | 1 | 1 | 6e+05 | 10.8 |\n",
       "| 2 | 2 | 1 | 6e+05 | 10.8 |\n",
       "| 3 | 3 | 1 | 6e+05 | 10.8 |\n",
       "| 4 | 4 | 1 | 6e+05 | 10.8 |\n",
       "| 5 | 5 | 1 | 6e+05 | 10.8 |\n",
       "| 6 | 6 | 1 | 6e+05 | 10.8 |\n",
       "\n"
      ],
      "text/plain": [
       "  id period_f alive flow\n",
       "1 1  1        6e+05 10.8\n",
       "2 2  1        6e+05 10.8\n",
       "3 3  1        6e+05 10.8\n",
       "4 4  1        6e+05 10.8\n",
       "5 5  1        6e+05 10.8\n",
       "6 6  1        6e+05 10.8"
      ]
     },
     "metadata": {},
     "output_type": "display_data"
    }
   ],
   "source": [
    "head(long_sims)"
   ]
  },
  {
   "cell_type": "markdown",
   "metadata": {},
   "source": [
    "## Import de bases de datos de los indices\n",
    "En esta sección se importan todos los datos de las tasas de interés de los bonos y activos requeridos.   \n",
    "Adicionalmente, se encuentra la estimación de Nelson Sieguel para descomponer el comportamiento de las tasas."
   ]
  },
  {
   "cell_type": "code",
   "execution_count": 4,
   "metadata": {
    "vscode": {
     "languageId": "r"
    }
   },
   "outputs": [],
   "source": [
    "path <- 'C:/Users/Diana C Contreras/OneDrive - Universidad de Los Andes/Riesgo Financiero/Talleres/T1-Riesgo/Taller 2/data/data.xlsx'"
   ]
  },
  {
   "cell_type": "markdown",
   "metadata": {},
   "source": [
    "### Empezamos con los bonos TES en pesos."
   ]
  },
  {
   "cell_type": "code",
   "execution_count": 66,
   "metadata": {
    "vscode": {
     "languageId": "r"
    }
   },
   "outputs": [],
   "source": [
    "tes_cop <- read_excel(path, sheet=1,skip=7, col_names=c('Date','6m','1y','3y','5y','10y','15y'))"
   ]
  },
  {
   "cell_type": "code",
   "execution_count": 67,
   "metadata": {
    "vscode": {
     "languageId": "r"
    }
   },
   "outputs": [
    {
     "data": {
      "text/html": [
       "2592"
      ],
      "text/latex": [
       "2592"
      ],
      "text/markdown": [
       "2592"
      ],
      "text/plain": [
       "[1] 2592"
      ]
     },
     "metadata": {},
     "output_type": "display_data"
    }
   ],
   "source": [
    "tes_cop <- tes_cop[tes_cop$Date >= \"2012-04-26\",]\n",
    "tes_cop <- as.data.frame(tes_cop)\n",
    "rownames(tes_cop) <- tes_cop$Date\n",
    "tes_cop <- tes_cop[,-c(1)]\n",
    "tes_cop <- sapply(tes_cop, as.numeric)\n",
    "\n"
   ]
  },
  {
   "cell_type": "code",
   "execution_count": 121,
   "metadata": {
    "vscode": {
     "languageId": "r"
    }
   },
   "outputs": [],
   "source": [
    "tes_maturity <- c(0.5,1,3,5,10,15)\n",
    "tes_cop_ns <- Nelson.Siegel( rate=tes_cop,\tmaturity=tes_maturity)\n"
   ]
  },
  {
   "cell_type": "markdown",
   "metadata": {},
   "source": [
    "### TES en UVR   \n",
    "Notese que en este caso se importan directamente los resultados de Nelson Sieguel"
   ]
  },
  {
   "cell_type": "code",
   "execution_count": 8,
   "metadata": {
    "vscode": {
     "languageId": "r"
    }
   },
   "outputs": [
    {
     "data": {
      "text/html": [
       "<table class=\"dataframe\">\n",
       "<caption>A data.frame: 6 × 4</caption>\n",
       "<thead>\n",
       "\t<tr><th></th><th scope=col>beta_0</th><th scope=col>beta_1</th><th scope=col>beta_2</th><th scope=col>lambda</th></tr>\n",
       "\t<tr><th></th><th scope=col>&lt;dbl&gt;</th><th scope=col>&lt;dbl&gt;</th><th scope=col>&lt;dbl&gt;</th><th scope=col>&lt;dbl&gt;</th></tr>\n",
       "</thead>\n",
       "<tbody>\n",
       "\t<tr><th scope=row>2022-04-08</th><td>0.09647801</td><td>-0.03119406</td><td>0.04511467</td><td>3.7</td></tr>\n",
       "\t<tr><th scope=row>2022-04-07</th><td>0.09405698</td><td>-0.02969244</td><td>0.04226096</td><td>3.7</td></tr>\n",
       "\t<tr><th scope=row>2022-04-06</th><td>0.09469592</td><td>-0.02990299</td><td>0.04248866</td><td>3.7</td></tr>\n",
       "\t<tr><th scope=row>2022-04-05</th><td>0.09408631</td><td>-0.02883965</td><td>0.04186647</td><td>3.7</td></tr>\n",
       "\t<tr><th scope=row>2022-04-04</th><td>0.09664698</td><td>-0.03390216</td><td>0.04312384</td><td>3.7</td></tr>\n",
       "\t<tr><th scope=row>2022-04-01</th><td>0.09685086</td><td>-0.03217370</td><td>0.04468412</td><td>3.7</td></tr>\n",
       "</tbody>\n",
       "</table>\n"
      ],
      "text/latex": [
       "A data.frame: 6 × 4\n",
       "\\begin{tabular}{r|llll}\n",
       "  & beta\\_0 & beta\\_1 & beta\\_2 & lambda\\\\\n",
       "  & <dbl> & <dbl> & <dbl> & <dbl>\\\\\n",
       "\\hline\n",
       "\t2022-04-08 & 0.09647801 & -0.03119406 & 0.04511467 & 3.7\\\\\n",
       "\t2022-04-07 & 0.09405698 & -0.02969244 & 0.04226096 & 3.7\\\\\n",
       "\t2022-04-06 & 0.09469592 & -0.02990299 & 0.04248866 & 3.7\\\\\n",
       "\t2022-04-05 & 0.09408631 & -0.02883965 & 0.04186647 & 3.7\\\\\n",
       "\t2022-04-04 & 0.09664698 & -0.03390216 & 0.04312384 & 3.7\\\\\n",
       "\t2022-04-01 & 0.09685086 & -0.03217370 & 0.04468412 & 3.7\\\\\n",
       "\\end{tabular}\n"
      ],
      "text/markdown": [
       "\n",
       "A data.frame: 6 × 4\n",
       "\n",
       "| <!--/--> | beta_0 &lt;dbl&gt; | beta_1 &lt;dbl&gt; | beta_2 &lt;dbl&gt; | lambda &lt;dbl&gt; |\n",
       "|---|---|---|---|---|\n",
       "| 2022-04-08 | 0.09647801 | -0.03119406 | 0.04511467 | 3.7 |\n",
       "| 2022-04-07 | 0.09405698 | -0.02969244 | 0.04226096 | 3.7 |\n",
       "| 2022-04-06 | 0.09469592 | -0.02990299 | 0.04248866 | 3.7 |\n",
       "| 2022-04-05 | 0.09408631 | -0.02883965 | 0.04186647 | 3.7 |\n",
       "| 2022-04-04 | 0.09664698 | -0.03390216 | 0.04312384 | 3.7 |\n",
       "| 2022-04-01 | 0.09685086 | -0.03217370 | 0.04468412 | 3.7 |\n",
       "\n"
      ],
      "text/plain": [
       "           beta_0     beta_1      beta_2     lambda\n",
       "2022-04-08 0.09647801 -0.03119406 0.04511467 3.7   \n",
       "2022-04-07 0.09405698 -0.02969244 0.04226096 3.7   \n",
       "2022-04-06 0.09469592 -0.02990299 0.04248866 3.7   \n",
       "2022-04-05 0.09408631 -0.02883965 0.04186647 3.7   \n",
       "2022-04-04 0.09664698 -0.03390216 0.04312384 3.7   \n",
       "2022-04-01 0.09685086 -0.03217370 0.04468412 3.7   "
      ]
     },
     "metadata": {},
     "output_type": "display_data"
    }
   ],
   "source": [
    "tes_uvr_ns <- read_excel(path, sheet='TES UVR Betas',skip=1, col_names=c('Date','beta_0','beta_1','beta_2','lambda'))\n",
    "tes_uvr_ns <- as.data.frame(tes_uvr_ns)\n",
    "rownames(tes_uvr_ns) <- tes_uvr_ns$Date\n",
    "tes_uvr_ns <- tes_uvr_ns[,-c(1)]\n",
    "head(tes_uvr_ns)"
   ]
  },
  {
   "cell_type": "markdown",
   "metadata": {},
   "source": [
    "### Corporativo a EEUU"
   ]
  },
  {
   "cell_type": "code",
   "execution_count": 9,
   "metadata": {
    "vscode": {
     "languageId": "r"
    }
   },
   "outputs": [
    {
     "data": {
      "text/html": [
       "<table class=\"dataframe\">\n",
       "<caption>A data.frame: 6 × 7</caption>\n",
       "<thead>\n",
       "\t<tr><th></th><th scope=col>3m</th><th scope=col>6m</th><th scope=col>1y</th><th scope=col>3y</th><th scope=col>5y</th><th scope=col>10y</th><th scope=col>15y</th></tr>\n",
       "\t<tr><th></th><th scope=col>&lt;dbl&gt;</th><th scope=col>&lt;dbl&gt;</th><th scope=col>&lt;dbl&gt;</th><th scope=col>&lt;dbl&gt;</th><th scope=col>&lt;dbl&gt;</th><th scope=col>&lt;dbl&gt;</th><th scope=col>&lt;dbl&gt;</th></tr>\n",
       "</thead>\n",
       "<tbody>\n",
       "\t<tr><th scope=row>2009-10-13</th><td>1.1404</td><td>1.2181</td><td>1.5046</td><td>2.5661</td><td>3.4811</td><td>4.7076</td><td>5.3309</td></tr>\n",
       "\t<tr><th scope=row>2009-10-14</th><td>1.1381</td><td>1.2208</td><td>1.5196</td><td>2.6013</td><td>3.5293</td><td>4.7843</td><td>5.4388</td></tr>\n",
       "\t<tr><th scope=row>2009-10-15</th><td>1.1055</td><td>1.1932</td><td>1.5041</td><td>2.6295</td><td>3.5733</td><td>4.8308</td><td>5.4545</td></tr>\n",
       "\t<tr><th scope=row>2009-10-16</th><td>1.2114</td><td>1.2897</td><td>1.5619</td><td>2.6139</td><td>3.5447</td><td>4.7820</td><td>5.4008</td></tr>\n",
       "\t<tr><th scope=row>2009-10-19</th><td>1.1778</td><td>1.2627</td><td>1.5420</td><td>2.5997</td><td>3.5283</td><td>4.7502</td><td>5.3610</td></tr>\n",
       "\t<tr><th scope=row>2009-10-20</th><td>1.1593</td><td>1.2421</td><td>1.5096</td><td>2.5454</td><td>3.4739</td><td>4.7214</td><td>5.3203</td></tr>\n",
       "</tbody>\n",
       "</table>\n"
      ],
      "text/latex": [
       "A data.frame: 6 × 7\n",
       "\\begin{tabular}{r|lllllll}\n",
       "  & 3m & 6m & 1y & 3y & 5y & 10y & 15y\\\\\n",
       "  & <dbl> & <dbl> & <dbl> & <dbl> & <dbl> & <dbl> & <dbl>\\\\\n",
       "\\hline\n",
       "\t2009-10-13 & 1.1404 & 1.2181 & 1.5046 & 2.5661 & 3.4811 & 4.7076 & 5.3309\\\\\n",
       "\t2009-10-14 & 1.1381 & 1.2208 & 1.5196 & 2.6013 & 3.5293 & 4.7843 & 5.4388\\\\\n",
       "\t2009-10-15 & 1.1055 & 1.1932 & 1.5041 & 2.6295 & 3.5733 & 4.8308 & 5.4545\\\\\n",
       "\t2009-10-16 & 1.2114 & 1.2897 & 1.5619 & 2.6139 & 3.5447 & 4.7820 & 5.4008\\\\\n",
       "\t2009-10-19 & 1.1778 & 1.2627 & 1.5420 & 2.5997 & 3.5283 & 4.7502 & 5.3610\\\\\n",
       "\t2009-10-20 & 1.1593 & 1.2421 & 1.5096 & 2.5454 & 3.4739 & 4.7214 & 5.3203\\\\\n",
       "\\end{tabular}\n"
      ],
      "text/markdown": [
       "\n",
       "A data.frame: 6 × 7\n",
       "\n",
       "| <!--/--> | 3m &lt;dbl&gt; | 6m &lt;dbl&gt; | 1y &lt;dbl&gt; | 3y &lt;dbl&gt; | 5y &lt;dbl&gt; | 10y &lt;dbl&gt; | 15y &lt;dbl&gt; |\n",
       "|---|---|---|---|---|---|---|---|\n",
       "| 2009-10-13 | 1.1404 | 1.2181 | 1.5046 | 2.5661 | 3.4811 | 4.7076 | 5.3309 |\n",
       "| 2009-10-14 | 1.1381 | 1.2208 | 1.5196 | 2.6013 | 3.5293 | 4.7843 | 5.4388 |\n",
       "| 2009-10-15 | 1.1055 | 1.1932 | 1.5041 | 2.6295 | 3.5733 | 4.8308 | 5.4545 |\n",
       "| 2009-10-16 | 1.2114 | 1.2897 | 1.5619 | 2.6139 | 3.5447 | 4.7820 | 5.4008 |\n",
       "| 2009-10-19 | 1.1778 | 1.2627 | 1.5420 | 2.5997 | 3.5283 | 4.7502 | 5.3610 |\n",
       "| 2009-10-20 | 1.1593 | 1.2421 | 1.5096 | 2.5454 | 3.4739 | 4.7214 | 5.3203 |\n",
       "\n"
      ],
      "text/plain": [
       "           3m     6m     1y     3y     5y     10y    15y   \n",
       "2009-10-13 1.1404 1.2181 1.5046 2.5661 3.4811 4.7076 5.3309\n",
       "2009-10-14 1.1381 1.2208 1.5196 2.6013 3.5293 4.7843 5.4388\n",
       "2009-10-15 1.1055 1.1932 1.5041 2.6295 3.5733 4.8308 5.4545\n",
       "2009-10-16 1.2114 1.2897 1.5619 2.6139 3.5447 4.7820 5.4008\n",
       "2009-10-19 1.1778 1.2627 1.5420 2.5997 3.5283 4.7502 5.3610\n",
       "2009-10-20 1.1593 1.2421 1.5096 2.5454 3.4739 4.7214 5.3203"
      ]
     },
     "metadata": {},
     "output_type": "display_data"
    }
   ],
   "source": [
    "corp_usa <- read_excel(path, sheet='Corporativo A EEUU',skip=8, col_names=c('Date','3m','6m','1y','3y','5y','10y','15y'))\n",
    "\n",
    "corp_usa <- as.data.frame(corp_usa)\n",
    "rownames(corp_usa) <- corp_usa$Date\n",
    "corp_usa <- corp_usa[,-c(1)]\n",
    "head(corp_usa)"
   ]
  },
  {
   "cell_type": "code",
   "execution_count": 10,
   "metadata": {
    "vscode": {
     "languageId": "r"
    }
   },
   "outputs": [
    {
     "data": {
      "text/html": [
       "<table class=\"dataframe\">\n",
       "<caption>A data.frame: 6 × 4</caption>\n",
       "<thead>\n",
       "\t<tr><th></th><th scope=col>beta_0</th><th scope=col>beta_1</th><th scope=col>beta_2</th><th scope=col>lambda</th></tr>\n",
       "\t<tr><th></th><th scope=col>&lt;dbl&gt;</th><th scope=col>&lt;dbl&gt;</th><th scope=col>&lt;dbl&gt;</th><th scope=col>&lt;dbl&gt;</th></tr>\n",
       "</thead>\n",
       "<tbody>\n",
       "\t<tr><th scope=row>2009-10-13</th><td>6.461855</td><td>-5.425669</td><td>-4.169706</td><td>0.5517879</td></tr>\n",
       "\t<tr><th scope=row>2009-10-14</th><td>6.731600</td><td>-5.748756</td><td>-3.643443</td><td>0.4781896</td></tr>\n",
       "\t<tr><th scope=row>2009-10-15</th><td>6.607364</td><td>-5.625489</td><td>-4.118086</td><td>0.5517879</td></tr>\n",
       "\t<tr><th scope=row>2009-10-16</th><td>6.550958</td><td>-5.437508</td><td>-4.269783</td><td>0.5517879</td></tr>\n",
       "\t<tr><th scope=row>2009-10-19</th><td>6.495381</td><td>-5.421099</td><td>-4.152560</td><td>0.5517879</td></tr>\n",
       "\t<tr><th scope=row>2009-10-20</th><td>6.476177</td><td>-5.408359</td><td>-4.283447</td><td>0.5517879</td></tr>\n",
       "</tbody>\n",
       "</table>\n"
      ],
      "text/latex": [
       "A data.frame: 6 × 4\n",
       "\\begin{tabular}{r|llll}\n",
       "  & beta\\_0 & beta\\_1 & beta\\_2 & lambda\\\\\n",
       "  & <dbl> & <dbl> & <dbl> & <dbl>\\\\\n",
       "\\hline\n",
       "\t2009-10-13 & 6.461855 & -5.425669 & -4.169706 & 0.5517879\\\\\n",
       "\t2009-10-14 & 6.731600 & -5.748756 & -3.643443 & 0.4781896\\\\\n",
       "\t2009-10-15 & 6.607364 & -5.625489 & -4.118086 & 0.5517879\\\\\n",
       "\t2009-10-16 & 6.550958 & -5.437508 & -4.269783 & 0.5517879\\\\\n",
       "\t2009-10-19 & 6.495381 & -5.421099 & -4.152560 & 0.5517879\\\\\n",
       "\t2009-10-20 & 6.476177 & -5.408359 & -4.283447 & 0.5517879\\\\\n",
       "\\end{tabular}\n"
      ],
      "text/markdown": [
       "\n",
       "A data.frame: 6 × 4\n",
       "\n",
       "| <!--/--> | beta_0 &lt;dbl&gt; | beta_1 &lt;dbl&gt; | beta_2 &lt;dbl&gt; | lambda &lt;dbl&gt; |\n",
       "|---|---|---|---|---|\n",
       "| 2009-10-13 | 6.461855 | -5.425669 | -4.169706 | 0.5517879 |\n",
       "| 2009-10-14 | 6.731600 | -5.748756 | -3.643443 | 0.4781896 |\n",
       "| 2009-10-15 | 6.607364 | -5.625489 | -4.118086 | 0.5517879 |\n",
       "| 2009-10-16 | 6.550958 | -5.437508 | -4.269783 | 0.5517879 |\n",
       "| 2009-10-19 | 6.495381 | -5.421099 | -4.152560 | 0.5517879 |\n",
       "| 2009-10-20 | 6.476177 | -5.408359 | -4.283447 | 0.5517879 |\n",
       "\n"
      ],
      "text/plain": [
       "           beta_0   beta_1    beta_2    lambda   \n",
       "2009-10-13 6.461855 -5.425669 -4.169706 0.5517879\n",
       "2009-10-14 6.731600 -5.748756 -3.643443 0.4781896\n",
       "2009-10-15 6.607364 -5.625489 -4.118086 0.5517879\n",
       "2009-10-16 6.550958 -5.437508 -4.269783 0.5517879\n",
       "2009-10-19 6.495381 -5.421099 -4.152560 0.5517879\n",
       "2009-10-20 6.476177 -5.408359 -4.283447 0.5517879"
      ]
     },
     "metadata": {},
     "output_type": "display_data"
    }
   ],
   "source": [
    "corp_usa_maturity <- c(3/12,0.5,1,3,5,10,15)\n",
    "corp_usa_ns <- Nelson.Siegel( rate=corp_usa,\tmaturity=corp_usa_maturity)\n",
    "head(corp_usa_ns)"
   ]
  },
  {
   "cell_type": "markdown",
   "metadata": {},
   "source": [
    "### ETF's de seguimiento de la economía colombiana (COLCAP) y estadounidense (SPX)"
   ]
  },
  {
   "cell_type": "code",
   "execution_count": 11,
   "metadata": {
    "vscode": {
     "languageId": "r"
    }
   },
   "outputs": [
    {
     "data": {
      "text/html": [
       "<table class=\"dataframe\">\n",
       "<caption>A data.frame: 6 × 2</caption>\n",
       "<thead>\n",
       "\t<tr><th></th><th scope=col>colcap</th><th scope=col>spx</th></tr>\n",
       "\t<tr><th></th><th scope=col>&lt;dbl&gt;</th><th scope=col>&lt;dbl&gt;</th></tr>\n",
       "</thead>\n",
       "<tbody>\n",
       "\t<tr><th scope=row>2009-10-13</th><td>1303.03</td><td>1073.19</td></tr>\n",
       "\t<tr><th scope=row>2009-10-14</th><td>1294.39</td><td>1092.02</td></tr>\n",
       "\t<tr><th scope=row>2009-10-15</th><td>1294.11</td><td>1096.56</td></tr>\n",
       "\t<tr><th scope=row>2009-10-16</th><td>1301.69</td><td>1087.68</td></tr>\n",
       "\t<tr><th scope=row>2009-10-19</th><td>1330.80</td><td>1097.91</td></tr>\n",
       "\t<tr><th scope=row>2009-10-20</th><td>1315.97</td><td>1091.06</td></tr>\n",
       "</tbody>\n",
       "</table>\n"
      ],
      "text/latex": [
       "A data.frame: 6 × 2\n",
       "\\begin{tabular}{r|ll}\n",
       "  & colcap & spx\\\\\n",
       "  & <dbl> & <dbl>\\\\\n",
       "\\hline\n",
       "\t2009-10-13 & 1303.03 & 1073.19\\\\\n",
       "\t2009-10-14 & 1294.39 & 1092.02\\\\\n",
       "\t2009-10-15 & 1294.11 & 1096.56\\\\\n",
       "\t2009-10-16 & 1301.69 & 1087.68\\\\\n",
       "\t2009-10-19 & 1330.80 & 1097.91\\\\\n",
       "\t2009-10-20 & 1315.97 & 1091.06\\\\\n",
       "\\end{tabular}\n"
      ],
      "text/markdown": [
       "\n",
       "A data.frame: 6 × 2\n",
       "\n",
       "| <!--/--> | colcap &lt;dbl&gt; | spx &lt;dbl&gt; |\n",
       "|---|---|---|\n",
       "| 2009-10-13 | 1303.03 | 1073.19 |\n",
       "| 2009-10-14 | 1294.39 | 1092.02 |\n",
       "| 2009-10-15 | 1294.11 | 1096.56 |\n",
       "| 2009-10-16 | 1301.69 | 1087.68 |\n",
       "| 2009-10-19 | 1330.80 | 1097.91 |\n",
       "| 2009-10-20 | 1315.97 | 1091.06 |\n",
       "\n"
      ],
      "text/plain": [
       "           colcap  spx    \n",
       "2009-10-13 1303.03 1073.19\n",
       "2009-10-14 1294.39 1092.02\n",
       "2009-10-15 1294.11 1096.56\n",
       "2009-10-16 1301.69 1087.68\n",
       "2009-10-19 1330.80 1097.91\n",
       "2009-10-20 1315.97 1091.06"
      ]
     },
     "metadata": {},
     "output_type": "display_data"
    }
   ],
   "source": [
    "index <- read_excel(path, sheet='Indices Accionarios',skip=7, col_names=c('Date','colcap','spx'))\n",
    "index <- as.data.frame(index)\n",
    "rownames(index) <- index$Date\n",
    "index <- index[,-c(1)]\n",
    "head(index)"
   ]
  },
  {
   "cell_type": "markdown",
   "metadata": {},
   "source": [
    "### Indice de Precios al consumidor"
   ]
  },
  {
   "cell_type": "code",
   "execution_count": 12,
   "metadata": {
    "vscode": {
     "languageId": "r"
    }
   },
   "outputs": [
    {
     "data": {
      "text/html": [
       "<table class=\"dataframe\">\n",
       "<caption>A data.frame: 6 × 2</caption>\n",
       "<thead>\n",
       "\t<tr><th></th><th scope=col>Date</th><th scope=col>ipc</th></tr>\n",
       "\t<tr><th></th><th scope=col>&lt;dttm&gt;</th><th scope=col>&lt;dbl&gt;</th></tr>\n",
       "</thead>\n",
       "<tbody>\n",
       "\t<tr><th scope=row>1</th><td>1954-07-31</td><td>0.02632</td></tr>\n",
       "\t<tr><th scope=row>2</th><td>1954-08-31</td><td>0.02612</td></tr>\n",
       "\t<tr><th scope=row>3</th><td>1954-09-30</td><td>0.02576</td></tr>\n",
       "\t<tr><th scope=row>4</th><td>1954-10-31</td><td>0.02585</td></tr>\n",
       "\t<tr><th scope=row>5</th><td>1954-11-30</td><td>0.02591</td></tr>\n",
       "\t<tr><th scope=row>6</th><td>1954-12-31</td><td>0.02605</td></tr>\n",
       "</tbody>\n",
       "</table>\n"
      ],
      "text/latex": [
       "A data.frame: 6 × 2\n",
       "\\begin{tabular}{r|ll}\n",
       "  & Date & ipc\\\\\n",
       "  & <dttm> & <dbl>\\\\\n",
       "\\hline\n",
       "\t1 & 1954-07-31 & 0.02632\\\\\n",
       "\t2 & 1954-08-31 & 0.02612\\\\\n",
       "\t3 & 1954-09-30 & 0.02576\\\\\n",
       "\t4 & 1954-10-31 & 0.02585\\\\\n",
       "\t5 & 1954-11-30 & 0.02591\\\\\n",
       "\t6 & 1954-12-31 & 0.02605\\\\\n",
       "\\end{tabular}\n"
      ],
      "text/markdown": [
       "\n",
       "A data.frame: 6 × 2\n",
       "\n",
       "| <!--/--> | Date &lt;dttm&gt; | ipc &lt;dbl&gt; |\n",
       "|---|---|---|\n",
       "| 1 | 1954-07-31 | 0.02632 |\n",
       "| 2 | 1954-08-31 | 0.02612 |\n",
       "| 3 | 1954-09-30 | 0.02576 |\n",
       "| 4 | 1954-10-31 | 0.02585 |\n",
       "| 5 | 1954-11-30 | 0.02591 |\n",
       "| 6 | 1954-12-31 | 0.02605 |\n",
       "\n"
      ],
      "text/plain": [
       "  Date       ipc    \n",
       "1 1954-07-31 0.02632\n",
       "2 1954-08-31 0.02612\n",
       "3 1954-09-30 0.02576\n",
       "4 1954-10-31 0.02585\n",
       "5 1954-11-30 0.02591\n",
       "6 1954-12-31 0.02605"
      ]
     },
     "metadata": {},
     "output_type": "display_data"
    }
   ],
   "source": [
    "ipc <- read_excel(path, sheet='IPC',skip=1, col_names=c('Date','ipc'))\n",
    "ipc <- as.data.frame(ipc)\n",
    "\n",
    "head(ipc)"
   ]
  },
  {
   "cell_type": "markdown",
   "metadata": {},
   "source": [
    "### Tasa de cambio"
   ]
  },
  {
   "cell_type": "code",
   "execution_count": 13,
   "metadata": {
    "vscode": {
     "languageId": "r"
    }
   },
   "outputs": [
    {
     "data": {
      "text/html": [
       "<table class=\"dataframe\">\n",
       "<caption>A data.frame: 6 × 2</caption>\n",
       "<thead>\n",
       "\t<tr><th></th><th scope=col>Date</th><th scope=col>trm</th></tr>\n",
       "\t<tr><th></th><th scope=col>&lt;dttm&gt;</th><th scope=col>&lt;dbl&gt;</th></tr>\n",
       "</thead>\n",
       "<tbody>\n",
       "\t<tr><th scope=row>1</th><td>1991-11-27</td><td>693.32</td></tr>\n",
       "\t<tr><th scope=row>2</th><td>1991-11-28</td><td>693.99</td></tr>\n",
       "\t<tr><th scope=row>3</th><td>1991-11-29</td><td>694.70</td></tr>\n",
       "\t<tr><th scope=row>4</th><td>1991-11-30</td><td>694.70</td></tr>\n",
       "\t<tr><th scope=row>5</th><td>1991-12-01</td><td>643.42</td></tr>\n",
       "\t<tr><th scope=row>6</th><td>1991-12-02</td><td>643.42</td></tr>\n",
       "</tbody>\n",
       "</table>\n"
      ],
      "text/latex": [
       "A data.frame: 6 × 2\n",
       "\\begin{tabular}{r|ll}\n",
       "  & Date & trm\\\\\n",
       "  & <dttm> & <dbl>\\\\\n",
       "\\hline\n",
       "\t1 & 1991-11-27 & 693.32\\\\\n",
       "\t2 & 1991-11-28 & 693.99\\\\\n",
       "\t3 & 1991-11-29 & 694.70\\\\\n",
       "\t4 & 1991-11-30 & 694.70\\\\\n",
       "\t5 & 1991-12-01 & 643.42\\\\\n",
       "\t6 & 1991-12-02 & 643.42\\\\\n",
       "\\end{tabular}\n"
      ],
      "text/markdown": [
       "\n",
       "A data.frame: 6 × 2\n",
       "\n",
       "| <!--/--> | Date &lt;dttm&gt; | trm &lt;dbl&gt; |\n",
       "|---|---|---|\n",
       "| 1 | 1991-11-27 | 693.32 |\n",
       "| 2 | 1991-11-28 | 693.99 |\n",
       "| 3 | 1991-11-29 | 694.70 |\n",
       "| 4 | 1991-11-30 | 694.70 |\n",
       "| 5 | 1991-12-01 | 643.42 |\n",
       "| 6 | 1991-12-02 | 643.42 |\n",
       "\n"
      ],
      "text/plain": [
       "  Date       trm   \n",
       "1 1991-11-27 693.32\n",
       "2 1991-11-28 693.99\n",
       "3 1991-11-29 694.70\n",
       "4 1991-11-30 694.70\n",
       "5 1991-12-01 643.42\n",
       "6 1991-12-02 643.42"
      ]
     },
     "metadata": {},
     "output_type": "display_data"
    }
   ],
   "source": [
    "trm <- read_excel(path, sheet='TRM',skip=1, col_names=c('Date','trm'))\n",
    "trm <- as.data.frame(trm)\n",
    "head(trm)"
   ]
  },
  {
   "cell_type": "markdown",
   "metadata": {},
   "source": [
    "## Simulaciones de proyección\n",
    "En esta sección se estiman las 1000 simulaciones para cada uno de los productos financieros. En el caso de los bonos TES cop, TES UVR y corp EEUU se realiza el análisis de componentes principales."
   ]
  },
  {
   "cell_type": "code",
   "execution_count": 14,
   "metadata": {
    "vscode": {
     "languageId": "r"
    }
   },
   "outputs": [],
   "source": [
    "librerias <- c(\"forecast\",\"xts\",\"rugarch\",\"timeSeries\",\"ggplot2\",\"astsa\",\"scales\",\"lubridate\",\"reshape2\",\"quantmod\",\"xtable\",\"tseries\")"
   ]
  },
  {
   "cell_type": "code",
   "execution_count": 15,
   "metadata": {
    "vscode": {
     "languageId": "r"
    }
   },
   "outputs": [],
   "source": [
    "library('stats')"
   ]
  },
  {
   "cell_type": "code",
   "execution_count": 16,
   "metadata": {
    "vscode": {
     "languageId": "r"
    }
   },
   "outputs": [
    {
     "name": "stderr",
     "output_type": "stream",
     "text": [
      "Warning message:\n",
      "\"package 'forecast' was built under R version 3.6.3\"Registered S3 method overwritten by 'quantmod':\n",
      "  method            from\n",
      "  as.zoo.data.frame zoo \n",
      "Warning message:\n",
      "\"package 'rugarch' was built under R version 3.6.3\"\n",
      "Attaching package: 'rugarch'\n",
      "\n",
      "The following object is masked from 'package:stats':\n",
      "\n",
      "    sigma\n",
      "\n",
      "Warning message:\n",
      "\"package 'timeSeries' was built under R version 3.6.3\"Warning message:\n",
      "\"package 'timeDate' was built under R version 3.6.2\"\n",
      "Attaching package: 'timeSeries'\n",
      "\n",
      "The following object is masked from 'package:zoo':\n",
      "\n",
      "    time<-\n",
      "\n",
      "\n",
      "Attaching package: 'astsa'\n",
      "\n",
      "The following object is masked from 'package:forecast':\n",
      "\n",
      "    gas\n",
      "\n",
      "Warning message:\n",
      "\"package 'scales' was built under R version 3.6.3\"Warning message:\n",
      "\"package 'reshape2' was built under R version 3.6.3\"\n",
      "Attaching package: 'reshape2'\n",
      "\n",
      "The following object is masked from 'package:tidyr':\n",
      "\n",
      "    smiths\n",
      "\n",
      "Version 0.4-0 included new data defaults. See ?getSymbols.\n",
      "Warning message:\n",
      "\"package 'xtable' was built under R version 3.6.3\"\n",
      "Attaching package: 'xtable'\n",
      "\n",
      "The following object is masked from 'package:timeSeries':\n",
      "\n",
      "    align\n",
      "\n",
      "The following object is masked from 'package:timeDate':\n",
      "\n",
      "    align\n",
      "\n",
      "Warning message:\n",
      "\"package 'tseries' was built under R version 3.6.3\""
     ]
    }
   ],
   "source": [
    "if(length(setdiff(librerias, rownames(installed.packages()))) > 0){\n",
    "  install.packages(setdiff(librerias, rownames(installed.packages())))}\n",
    "invisible(sapply(librerias, require, character.only = TRUE,quietly = TRUE))"
   ]
  },
  {
   "cell_type": "markdown",
   "metadata": {},
   "source": [
    "### TES Pesos\n",
    "Lo primero es que obtenemos el cambio en los betas y el lambda de NSiegel:"
   ]
  },
  {
   "cell_type": "code",
   "execution_count": 17,
   "metadata": {
    "vscode": {
     "languageId": "r"
    }
   },
   "outputs": [],
   "source": [
    "i_tes_cop <- tes_cop_ns[-nrow(tes_cop_ns),]\n",
    "f_tes_cop <- tes_cop_ns[-1,]\n",
    "delta_tes_cop_ns <- f_tes_cop - i_tes_cop"
   ]
  },
  {
   "cell_type": "code",
   "execution_count": 18,
   "metadata": {
    "vscode": {
     "languageId": "r"
    }
   },
   "outputs": [
    {
     "data": {
      "text/html": [
       "<table class=\"dataframe\">\n",
       "<caption>A matrix: 6 × 4 of type dbl</caption>\n",
       "<thead>\n",
       "\t<tr><th scope=col>beta_0</th><th scope=col>beta_1</th><th scope=col>beta_2</th><th scope=col>lambda</th></tr>\n",
       "</thead>\n",
       "<tbody>\n",
       "\t<tr><td>-0.06977175</td><td> 0.02571902</td><td>-0.106241637</td><td> 0.02218765</td></tr>\n",
       "\t<tr><td>-0.01312430</td><td> 0.01856500</td><td> 0.029002789</td><td> 0.00000000</td></tr>\n",
       "\t<tr><td>-0.04168666</td><td> 0.09245968</td><td>-0.002141761</td><td> 0.00000000</td></tr>\n",
       "\t<tr><td>-0.09177265</td><td> 0.10452687</td><td> 0.019206748</td><td> 0.00000000</td></tr>\n",
       "\t<tr><td>-0.06661783</td><td> 0.08733963</td><td>-0.001957500</td><td> 0.01320032</td></tr>\n",
       "\t<tr><td> 0.04701532</td><td>-0.02721950</td><td>-0.017491214</td><td>-0.01320032</td></tr>\n",
       "</tbody>\n",
       "</table>\n"
      ],
      "text/latex": [
       "A matrix: 6 × 4 of type dbl\n",
       "\\begin{tabular}{llll}\n",
       " beta\\_0 & beta\\_1 & beta\\_2 & lambda\\\\\n",
       "\\hline\n",
       "\t -0.06977175 &  0.02571902 & -0.106241637 &  0.02218765\\\\\n",
       "\t -0.01312430 &  0.01856500 &  0.029002789 &  0.00000000\\\\\n",
       "\t -0.04168666 &  0.09245968 & -0.002141761 &  0.00000000\\\\\n",
       "\t -0.09177265 &  0.10452687 &  0.019206748 &  0.00000000\\\\\n",
       "\t -0.06661783 &  0.08733963 & -0.001957500 &  0.01320032\\\\\n",
       "\t  0.04701532 & -0.02721950 & -0.017491214 & -0.01320032\\\\\n",
       "\\end{tabular}\n"
      ],
      "text/markdown": [
       "\n",
       "A matrix: 6 × 4 of type dbl\n",
       "\n",
       "| beta_0 | beta_1 | beta_2 | lambda |\n",
       "|---|---|---|---|\n",
       "| -0.06977175 |  0.02571902 | -0.106241637 |  0.02218765 |\n",
       "| -0.01312430 |  0.01856500 |  0.029002789 |  0.00000000 |\n",
       "| -0.04168666 |  0.09245968 | -0.002141761 |  0.00000000 |\n",
       "| -0.09177265 |  0.10452687 |  0.019206748 |  0.00000000 |\n",
       "| -0.06661783 |  0.08733963 | -0.001957500 |  0.01320032 |\n",
       "|  0.04701532 | -0.02721950 | -0.017491214 | -0.01320032 |\n",
       "\n"
      ],
      "text/plain": [
       "     beta_0      beta_1      beta_2       lambda     \n",
       "[1,] -0.06977175  0.02571902 -0.106241637  0.02218765\n",
       "[2,] -0.01312430  0.01856500  0.029002789  0.00000000\n",
       "[3,] -0.04168666  0.09245968 -0.002141761  0.00000000\n",
       "[4,] -0.09177265  0.10452687  0.019206748  0.00000000\n",
       "[5,] -0.06661783  0.08733963 -0.001957500  0.01320032\n",
       "[6,]  0.04701532 -0.02721950 -0.017491214 -0.01320032"
      ]
     },
     "metadata": {},
     "output_type": "display_data"
    }
   ],
   "source": [
    "head(delta_tes_cop_ns)"
   ]
  },
  {
   "cell_type": "markdown",
   "metadata": {},
   "source": [
    "Con la metodologìa de PCA reducimos la dimensionalidad:"
   ]
  },
  {
   "cell_type": "code",
   "execution_count": 19,
   "metadata": {
    "vscode": {
     "languageId": "r"
    }
   },
   "outputs": [
    {
     "data": {
      "text/plain": [
       "Importance of components:\n",
       "                          PC1    PC2     PC3     PC4\n",
       "Standard deviation     1.6131 1.1051 0.38098 0.17741\n",
       "Proportion of Variance 0.6506 0.3053 0.03629 0.00787\n",
       "Cumulative Proportion  0.6506 0.9558 0.99213 1.00000"
      ]
     },
     "metadata": {},
     "output_type": "display_data"
    }
   ],
   "source": [
    "pca_tes_cop <- prcomp(delta_tes_cop_ns, scale=TRUE)\n",
    "summary(pca_tes_cop)"
   ]
  },
  {
   "cell_type": "code",
   "execution_count": 20,
   "metadata": {
    "vscode": {
     "languageId": "r"
    }
   },
   "outputs": [
    {
     "data": {
      "text/html": [
       "<table class=\"dataframe\">\n",
       "<caption>A matrix: 6 × 4 of type dbl</caption>\n",
       "<thead>\n",
       "\t<tr><th scope=col>PC1</th><th scope=col>PC2</th><th scope=col>PC3</th><th scope=col>PC4</th></tr>\n",
       "</thead>\n",
       "<tbody>\n",
       "\t<tr><td>-0.01321555</td><td>-0.23584992</td><td> 0.064994517</td><td>-0.067192525</td></tr>\n",
       "\t<tr><td>-0.04888901</td><td>-0.02182426</td><td>-0.003923853</td><td> 0.005501787</td></tr>\n",
       "\t<tr><td>-0.15294004</td><td>-0.12858967</td><td>-0.085797390</td><td> 0.026638042</td></tr>\n",
       "\t<tr><td>-0.23522372</td><td>-0.17617426</td><td>-0.065824742</td><td>-0.033053438</td></tr>\n",
       "\t<tr><td>-0.13905373</td><td>-0.22124785</td><td>-0.007551177</td><td> 0.010983057</td></tr>\n",
       "\t<tr><td> 0.05181849</td><td> 0.14164076</td><td>-0.059745127</td><td> 0.011150354</td></tr>\n",
       "</tbody>\n",
       "</table>\n"
      ],
      "text/latex": [
       "A matrix: 6 × 4 of type dbl\n",
       "\\begin{tabular}{llll}\n",
       " PC1 & PC2 & PC3 & PC4\\\\\n",
       "\\hline\n",
       "\t -0.01321555 & -0.23584992 &  0.064994517 & -0.067192525\\\\\n",
       "\t -0.04888901 & -0.02182426 & -0.003923853 &  0.005501787\\\\\n",
       "\t -0.15294004 & -0.12858967 & -0.085797390 &  0.026638042\\\\\n",
       "\t -0.23522372 & -0.17617426 & -0.065824742 & -0.033053438\\\\\n",
       "\t -0.13905373 & -0.22124785 & -0.007551177 &  0.010983057\\\\\n",
       "\t  0.05181849 &  0.14164076 & -0.059745127 &  0.011150354\\\\\n",
       "\\end{tabular}\n"
      ],
      "text/markdown": [
       "\n",
       "A matrix: 6 × 4 of type dbl\n",
       "\n",
       "| PC1 | PC2 | PC3 | PC4 |\n",
       "|---|---|---|---|\n",
       "| -0.01321555 | -0.23584992 |  0.064994517 | -0.067192525 |\n",
       "| -0.04888901 | -0.02182426 | -0.003923853 |  0.005501787 |\n",
       "| -0.15294004 | -0.12858967 | -0.085797390 |  0.026638042 |\n",
       "| -0.23522372 | -0.17617426 | -0.065824742 | -0.033053438 |\n",
       "| -0.13905373 | -0.22124785 | -0.007551177 |  0.010983057 |\n",
       "|  0.05181849 |  0.14164076 | -0.059745127 |  0.011150354 |\n",
       "\n"
      ],
      "text/plain": [
       "     PC1         PC2         PC3          PC4         \n",
       "[1,] -0.01321555 -0.23584992  0.064994517 -0.067192525\n",
       "[2,] -0.04888901 -0.02182426 -0.003923853  0.005501787\n",
       "[3,] -0.15294004 -0.12858967 -0.085797390  0.026638042\n",
       "[4,] -0.23522372 -0.17617426 -0.065824742 -0.033053438\n",
       "[5,] -0.13905373 -0.22124785 -0.007551177  0.010983057\n",
       "[6,]  0.05181849  0.14164076 -0.059745127  0.011150354"
      ]
     },
     "metadata": {},
     "output_type": "display_data"
    }
   ],
   "source": [
    "head(pca_tes_cop$x)"
   ]
  },
  {
   "cell_type": "markdown",
   "metadata": {},
   "source": [
    "Seleccionamos los primeros 2 componentes que explican el 95% del comportamiento de la serie y corremos un arima para cada uno de ellos"
   ]
  },
  {
   "cell_type": "code",
   "execution_count": 45,
   "metadata": {
    "vscode": {
     "languageId": "r"
    }
   },
   "outputs": [
    {
     "data": {
      "text/plain": [
       "\n",
       "\tBox-Pierce test\n",
       "\n",
       "data:  arima_pca_1_tes_cop$residuals\n",
       "X-squared = 0.018308, df = 1, p-value = 0.8924\n"
      ]
     },
     "metadata": {},
     "output_type": "display_data"
    },
    {
     "data": {
      "text/plain": [
       "\n",
       "\tBox-Pierce test\n",
       "\n",
       "data:  arima_pca_1_tes_cop$residuals\n",
       "X-squared = 0.018308, df = 1, p-value = 0.8924\n"
      ]
     },
     "metadata": {},
     "output_type": "display_data"
    }
   ],
   "source": [
    "arima_pca_1_tes_cop <- auto.arima(pca_tes_cop$x[,1],stepwise = T,approximation = F)\n",
    "Box.test(arima_pca_1_tes_cop$residuals)\n",
    "arima_pca_2_tes_cop  <- auto.arima(pca_tes_cop$x[,2],stepwise = T,approximation = F)\n",
    "Box.test(arima_pca_1_tes_cop$residuals)\n"
   ]
  },
  {
   "cell_type": "markdown",
   "metadata": {},
   "source": [
    "Simulamos a 260 periodos en el futuro (1 año) y realizamos el mismo procedimiento 1000 veces"
   ]
  },
  {
   "cell_type": "code",
   "execution_count": 147,
   "metadata": {
    "vscode": {
     "languageId": "r"
    }
   },
   "outputs": [],
   "source": [
    "future <- 260 #52 semanas y 5 dìas a la semana para evaluar a un año\n",
    "simulations <- 1000"
   ]
  },
  {
   "cell_type": "code",
   "execution_count": 47,
   "metadata": {
    "vscode": {
     "languageId": "r"
    }
   },
   "outputs": [],
   "source": [
    "sim_pca_1_tes_cop <- replicate(expr = simulate(object = arima_pca_1_tes_cop,nsim = future),n = simulations)\n",
    "sim_pca_2_tes_cop <- replicate(expr = simulate(object =arima_pca_2_tes_cop,nsim = future),n = simulations)\n",
    "Bt1 <- pca_tes_cop$rotation[,1] #Eigen values del primer componente\n",
    "Bt2 <- pca_tes_cop$rotation[,2] #Eigen values del segundo componente\n"
   ]
  },
  {
   "cell_type": "markdown",
   "metadata": {},
   "source": [
    "Reversamos el procedimiento de PCA, multiplicando los eigen values por el cambio en cada componente"
   ]
  },
  {
   "cell_type": "code",
   "execution_count": 59,
   "metadata": {
    "vscode": {
     "languageId": "r"
    }
   },
   "outputs": [
    {
     "data": {
      "text/html": [
       "<table class=\"dataframe\">\n",
       "<caption>A matrix: 3 × 1000 of type dbl</caption>\n",
       "<tbody>\n",
       "\t<tr><td> 0.8667266</td><td>-0.6162629</td><td>-0.7101092</td><td>-0.02593674</td><td>-1.4947931</td><td> 0.1331738</td><td> 0.2385630</td><td>-1.3218142</td><td>-0.2986355</td><td>-1.3195469</td><td>...</td><td>-0.05672787</td><td>-0.51160508</td><td>-0.9750071</td><td>-0.81583947</td><td> 0.2662714</td><td>-1.3493055</td><td>-0.8440075</td><td>-0.63457252</td><td>-1.41531198</td><td> 0.1629867</td></tr>\n",
       "\t<tr><td>-0.8934856</td><td> 0.6276854</td><td> 0.8532216</td><td> 0.14676585</td><td> 0.5528627</td><td>-0.2451592</td><td>-0.4553099</td><td>-0.2240811</td><td> 0.5991739</td><td>-0.0370114</td><td>...</td><td>-0.90343711</td><td>-0.03551573</td><td> 0.3742178</td><td> 0.23826482</td><td>-1.1378925</td><td> 0.5160537</td><td> 1.1304199</td><td>-0.14146838</td><td> 0.28514031</td><td>-0.2556540</td></tr>\n",
       "\t<tr><td> 0.1433665</td><td>-0.8739295</td><td> 0.3607352</td><td>-0.56205363</td><td> 1.7892906</td><td> 0.4841982</td><td> 0.1907714</td><td> 1.0055555</td><td>-0.6151569</td><td>-0.1830808</td><td>...</td><td> 0.07051410</td><td> 0.04185852</td><td> 0.4738914</td><td> 0.04853035</td><td> 1.2690662</td><td>-1.0985671</td><td>-0.2457784</td><td> 0.05247762</td><td>-0.09210574</td><td>-0.4420530</td></tr>\n",
       "</tbody>\n",
       "</table>\n"
      ],
      "text/latex": [
       "A matrix: 3 × 1000 of type dbl\n",
       "\\begin{tabular}{lllllllllllllllllllll}\n",
       "\t  0.8667266 & -0.6162629 & -0.7101092 & -0.02593674 & -1.4947931 &  0.1331738 &  0.2385630 & -1.3218142 & -0.2986355 & -1.3195469 & ... & -0.05672787 & -0.51160508 & -0.9750071 & -0.81583947 &  0.2662714 & -1.3493055 & -0.8440075 & -0.63457252 & -1.41531198 &  0.1629867\\\\\n",
       "\t -0.8934856 &  0.6276854 &  0.8532216 &  0.14676585 &  0.5528627 & -0.2451592 & -0.4553099 & -0.2240811 &  0.5991739 & -0.0370114 & ... & -0.90343711 & -0.03551573 &  0.3742178 &  0.23826482 & -1.1378925 &  0.5160537 &  1.1304199 & -0.14146838 &  0.28514031 & -0.2556540\\\\\n",
       "\t  0.1433665 & -0.8739295 &  0.3607352 & -0.56205363 &  1.7892906 &  0.4841982 &  0.1907714 &  1.0055555 & -0.6151569 & -0.1830808 & ... &  0.07051410 &  0.04185852 &  0.4738914 &  0.04853035 &  1.2690662 & -1.0985671 & -0.2457784 &  0.05247762 & -0.09210574 & -0.4420530\\\\\n",
       "\\end{tabular}\n"
      ],
      "text/markdown": [
       "\n",
       "A matrix: 3 × 1000 of type dbl\n",
       "\n",
       "|  0.8667266 | -0.6162629 | -0.7101092 | -0.02593674 | -1.4947931 |  0.1331738 |  0.2385630 | -1.3218142 | -0.2986355 | -1.3195469 | ... | -0.05672787 | -0.51160508 | -0.9750071 | -0.81583947 |  0.2662714 | -1.3493055 | -0.8440075 | -0.63457252 | -1.41531198 |  0.1629867 |\n",
       "| -0.8934856 |  0.6276854 |  0.8532216 |  0.14676585 |  0.5528627 | -0.2451592 | -0.4553099 | -0.2240811 |  0.5991739 | -0.0370114 | ... | -0.90343711 | -0.03551573 |  0.3742178 |  0.23826482 | -1.1378925 |  0.5160537 |  1.1304199 | -0.14146838 |  0.28514031 | -0.2556540 |\n",
       "|  0.1433665 | -0.8739295 |  0.3607352 | -0.56205363 |  1.7892906 |  0.4841982 |  0.1907714 |  1.0055555 | -0.6151569 | -0.1830808 | ... |  0.07051410 |  0.04185852 |  0.4738914 |  0.04853035 |  1.2690662 | -1.0985671 | -0.2457784 |  0.05247762 | -0.09210574 | -0.4420530 |\n",
       "\n"
      ],
      "text/plain": [
       "     [,1]       [,2]       [,3]       [,4]        [,5]       [,6]      \n",
       "[1,]  0.8667266 -0.6162629 -0.7101092 -0.02593674 -1.4947931  0.1331738\n",
       "[2,] -0.8934856  0.6276854  0.8532216  0.14676585  0.5528627 -0.2451592\n",
       "[3,]  0.1433665 -0.8739295  0.3607352 -0.56205363  1.7892906  0.4841982\n",
       "     [,7]       [,8]       [,9]       [,10]      [,11] [,12]       [,13]      \n",
       "[1,]  0.2385630 -1.3218142 -0.2986355 -1.3195469 ...   -0.05672787 -0.51160508\n",
       "[2,] -0.4553099 -0.2240811  0.5991739 -0.0370114 ...   -0.90343711 -0.03551573\n",
       "[3,]  0.1907714  1.0055555 -0.6151569 -0.1830808 ...    0.07051410  0.04185852\n",
       "     [,14]      [,15]       [,16]      [,17]      [,18]      [,19]      \n",
       "[1,] -0.9750071 -0.81583947  0.2662714 -1.3493055 -0.8440075 -0.63457252\n",
       "[2,]  0.3742178  0.23826482 -1.1378925  0.5160537  1.1304199 -0.14146838\n",
       "[3,]  0.4738914  0.04853035  1.2690662 -1.0985671 -0.2457784  0.05247762\n",
       "     [,20]       [,21]     \n",
       "[1,] -1.41531198  0.1629867\n",
       "[2,]  0.28514031 -0.2556540\n",
       "[3,] -0.09210574 -0.4420530"
      ]
     },
     "metadata": {},
     "output_type": "display_data"
    }
   ],
   "source": [
    "delta<-matrix(,nrow=future, ncol=simulations)\n",
    "\n",
    "for (i in 1:future){\n",
    "        for (j in 1:simulations){\n",
    "                delta[i,j] <- sum(sim_pca_1_tes_cop[i,j]*Bt1)+sum(sim_pca_2_tes_cop[i,j]*Bt2)\n",
    "        }\n",
    "}\n",
    "head(delta, 3)"
   ]
  },
  {
   "cell_type": "code",
   "execution_count": 108,
   "metadata": {
    "vscode": {
     "languageId": "r"
    }
   },
   "outputs": [],
   "source": [
    "f_ns_tes_cop <- list()\n",
    "alpha <- tes_cop_ns[nrow(tes_cop_ns),] \n",
    "alphanuevo <- alpha + 2\n",
    "for (i in 1:simulations){\n",
    "        newalph <- alpha\n",
    "        for (j in 1:future){\n",
    "                newalph <-  newalph + delta[j,i] \n",
    "                        if (j==260){\n",
    "                                f_ns_tes_cop <- append(f_ns_tes_cop, newalph) #Guardamos unicamente los resultados del último periodo pues es la frontera a un año\n",
    "                        }\n",
    "        }\n",
    "}\n",
    "mat_f_ns_tes_cop <- matrix(f_ns_tes_cop, ncol=4,byrow=T)\n",
    "mat_f_ns_tes_cop <- as.data.frame(mat_f_ns_tes_cop )"
   ]
  },
  {
   "cell_type": "code",
   "execution_count": 109,
   "metadata": {
    "vscode": {
     "languageId": "r"
    }
   },
   "outputs": [],
   "source": [
    "names(mat_f_ns_tes_cop) <- c('beta_0','beta_1', 'beta_2', 'lambda')"
   ]
  },
  {
   "cell_type": "code",
   "execution_count": 110,
   "metadata": {
    "vscode": {
     "languageId": "r"
    }
   },
   "outputs": [],
   "source": [
    "mat_f_ns_tes_cop<- data.frame(lapply(mat_f_ns_tes_cop, function(x) as.numeric(x)))"
   ]
  },
  {
   "cell_type": "markdown",
   "metadata": {},
   "source": [
    "Calculamos las tasas del bono por medio de los parametros de NS"
   ]
  },
  {
   "cell_type": "code",
   "execution_count": 138,
   "metadata": {
    "vscode": {
     "languageId": "r"
    }
   },
   "outputs": [],
   "source": [
    "nelson_sieguel_rate <- function(insumo,maturity){\n",
    "    x <- insumo[,1] + insumo[,2]*((1 - exp(-insumo[,4]*maturity))/insumo[,4]*maturity)+insumo[,3]*(((1- exp(-insumo[,4]*maturity))/insumo[,4]*maturity)-exp(-insumo[,4]*maturity))\n",
    "    x <- as.data.frame(x)\n",
    "    names(x) <- c('rate')\n",
    "    return(x)\n",
    "}"
   ]
  },
  {
   "cell_type": "code",
   "execution_count": 142,
   "metadata": {
    "vscode": {
     "languageId": "r"
    }
   },
   "outputs": [],
   "source": [
    "tes_f_rates <- nelson_sieguel_rate(mat_f_ns_tes_cop,0.5)"
   ]
  },
  {
   "cell_type": "code",
   "execution_count": 146,
   "metadata": {
    "vscode": {
     "languageId": "r"
    }
   },
   "outputs": [
    {
     "data": {
      "text/plain": [
       "      rate       \n",
       " Min.   : 11.27  \n",
       " 1st Qu.: 11.61  \n",
       " Median : 12.95  \n",
       " Mean   : 24.46  \n",
       " 3rd Qu.: 16.57  \n",
       " Max.   :849.82  "
      ]
     },
     "metadata": {},
     "output_type": "display_data"
    },
    {
     "data": {
      "text/plain": [
       "       6m              1y              3y              5y       \n",
       " Min.   :1.946   Min.   :2.137   Min.   :3.026   Min.   :3.888  \n",
       " 1st Qu.:4.136   1st Qu.:4.336   1st Qu.:5.118   1st Qu.:5.607  \n",
       " Median :4.637   Median :4.739   Median :5.450   Median :6.040  \n",
       " Mean   :4.617   Mean   :4.759   Mean   :5.490   Mean   :6.058  \n",
       " 3rd Qu.:5.289   3rd Qu.:5.368   3rd Qu.:5.853   3rd Qu.:6.449  \n",
       " Max.   :7.951   Max.   :8.104   Max.   :9.205   Max.   :9.802  \n",
       "      10y              15y        \n",
       " Min.   : 4.811   Min.   : 5.212  \n",
       " 1st Qu.: 6.430   1st Qu.: 6.850  \n",
       " Median : 6.815   Median : 7.221  \n",
       " Mean   : 6.869   Mean   : 7.304  \n",
       " 3rd Qu.: 7.248   3rd Qu.: 7.726  \n",
       " Max.   :10.249   Max.   :10.284  "
      ]
     },
     "metadata": {},
     "output_type": "display_data"
    }
   ],
   "source": [
    "summary(tes_f_rates)\n",
    "summary(tes_cop)"
   ]
  }
 ],
 "metadata": {
  "interpreter": {
   "hash": "aa5dfc9bc22e8b9bd7d7586b99fc6c73114eec00d3f85e09b6fdc2730a892aa2"
  },
  "kernelspec": {
   "display_name": "R",
   "language": "R",
   "name": "ir"
  },
  "language_info": {
   "codemirror_mode": "r",
   "file_extension": ".r",
   "mimetype": "text/x-r-source",
   "name": "R",
   "pygments_lexer": "r",
   "version": "3.6.1"
  },
  "orig_nbformat": 4
 },
 "nbformat": 4,
 "nbformat_minor": 2
}
