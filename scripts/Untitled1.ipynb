{
 "cells": [
  {
   "cell_type": "code",
   "execution_count": 11,
   "id": "bdaa0594-2894-4dd9-9180-eb960a5e7409",
   "metadata": {},
   "outputs": [],
   "source": [
    "import time\n",
    "import numpy as np\n",
    "import pandas as pd\n",
    "import multiprocessing\n",
    "import matplotlib.pyplot as plt\n",
    "import helpers as helpers\n",
    "from scipy.optimize import minimize, show_options, basinhopping, differential_evolution, brute"
   ]
  },
  {
   "cell_type": "markdown",
   "id": "abcb77c6-db2f-419c-b0cd-0c480072a093",
   "metadata": {},
   "source": [
    "#### Empecemos por cargar los datos"
   ]
  },
  {
   "cell_type": "code",
   "execution_count": 2,
   "id": "e855ea57-92fe-4ec3-a7df-e5f7f9701205",
   "metadata": {},
   "outputs": [],
   "source": [
    "path = \"../data/data.xlsx\""
   ]
  },
  {
   "cell_type": "code",
   "execution_count": 3,
   "id": "bdaa34da-b002-4f12-8f14-3e5919a2c388",
   "metadata": {},
   "outputs": [],
   "source": [
    "df = helpers.dataframe(path)"
   ]
  },
  {
   "cell_type": "code",
   "execution_count": 4,
   "id": "4f4937fa-3ee5-48a4-9c38-57fb8e13e0ea",
   "metadata": {},
   "outputs": [
    {
     "data": {
      "text/html": [
       "<div>\n",
       "<style scoped>\n",
       "    .dataframe tbody tr th:only-of-type {\n",
       "        vertical-align: middle;\n",
       "    }\n",
       "\n",
       "    .dataframe tbody tr th {\n",
       "        vertical-align: top;\n",
       "    }\n",
       "\n",
       "    .dataframe thead th {\n",
       "        text-align: right;\n",
       "    }\n",
       "</style>\n",
       "<table border=\"1\" class=\"dataframe\">\n",
       "  <thead>\n",
       "    <tr style=\"text-align: right;\">\n",
       "      <th></th>\n",
       "      <th>10Y</th>\n",
       "      <th>7Y</th>\n",
       "      <th>5Y</th>\n",
       "      <th>3Y</th>\n",
       "      <th>2Y</th>\n",
       "      <th>1Y</th>\n",
       "      <th>6M</th>\n",
       "      <th>3M</th>\n",
       "    </tr>\n",
       "    <tr>\n",
       "      <th>Date</th>\n",
       "      <th></th>\n",
       "      <th></th>\n",
       "      <th></th>\n",
       "      <th></th>\n",
       "      <th></th>\n",
       "      <th></th>\n",
       "      <th></th>\n",
       "      <th></th>\n",
       "    </tr>\n",
       "  </thead>\n",
       "  <tbody>\n",
       "    <tr>\n",
       "      <th>2022-02-16</th>\n",
       "      <td>2.044</td>\n",
       "      <td>2.025</td>\n",
       "      <td>1.921</td>\n",
       "      <td>1.762</td>\n",
       "      <td>1.530</td>\n",
       "      <td>1.043</td>\n",
       "      <td>0.699</td>\n",
       "      <td>0.402</td>\n",
       "    </tr>\n",
       "    <tr>\n",
       "      <th>2022-02-11</th>\n",
       "      <td>1.941</td>\n",
       "      <td>1.940</td>\n",
       "      <td>1.856</td>\n",
       "      <td>1.728</td>\n",
       "      <td>1.505</td>\n",
       "      <td>1.029</td>\n",
       "      <td>0.692</td>\n",
       "      <td>0.359</td>\n",
       "    </tr>\n",
       "    <tr>\n",
       "      <th>2022-02-04</th>\n",
       "      <td>1.911</td>\n",
       "      <td>1.884</td>\n",
       "      <td>1.770</td>\n",
       "      <td>1.536</td>\n",
       "      <td>1.313</td>\n",
       "      <td>0.869</td>\n",
       "      <td>0.550</td>\n",
       "      <td>0.230</td>\n",
       "    </tr>\n",
       "    <tr>\n",
       "      <th>2022-01-28</th>\n",
       "      <td>1.772</td>\n",
       "      <td>1.739</td>\n",
       "      <td>1.613</td>\n",
       "      <td>1.375</td>\n",
       "      <td>1.164</td>\n",
       "      <td>0.744</td>\n",
       "      <td>0.424</td>\n",
       "      <td>0.185</td>\n",
       "    </tr>\n",
       "    <tr>\n",
       "      <th>2022-01-21</th>\n",
       "      <td>1.760</td>\n",
       "      <td>1.713</td>\n",
       "      <td>1.559</td>\n",
       "      <td>1.287</td>\n",
       "      <td>1.005</td>\n",
       "      <td>0.555</td>\n",
       "      <td>0.354</td>\n",
       "      <td>0.167</td>\n",
       "    </tr>\n",
       "    <tr>\n",
       "      <th>...</th>\n",
       "      <td>...</td>\n",
       "      <td>...</td>\n",
       "      <td>...</td>\n",
       "      <td>...</td>\n",
       "      <td>...</td>\n",
       "      <td>...</td>\n",
       "      <td>...</td>\n",
       "      <td>...</td>\n",
       "    </tr>\n",
       "    <tr>\n",
       "      <th>2018-03-16</th>\n",
       "      <td>2.845</td>\n",
       "      <td>2.778</td>\n",
       "      <td>2.643</td>\n",
       "      <td>2.444</td>\n",
       "      <td>2.293</td>\n",
       "      <td>2.054</td>\n",
       "      <td>1.945</td>\n",
       "      <td>1.773</td>\n",
       "    </tr>\n",
       "    <tr>\n",
       "      <th>2018-03-09</th>\n",
       "      <td>2.895</td>\n",
       "      <td>2.811</td>\n",
       "      <td>2.651</td>\n",
       "      <td>2.432</td>\n",
       "      <td>2.260</td>\n",
       "      <td>2.023</td>\n",
       "      <td>1.874</td>\n",
       "      <td>1.664</td>\n",
       "    </tr>\n",
       "    <tr>\n",
       "      <th>2018-03-02</th>\n",
       "      <td>2.865</td>\n",
       "      <td>2.788</td>\n",
       "      <td>2.629</td>\n",
       "      <td>2.397</td>\n",
       "      <td>2.243</td>\n",
       "      <td>2.044</td>\n",
       "      <td>1.841</td>\n",
       "      <td>1.644</td>\n",
       "    </tr>\n",
       "    <tr>\n",
       "      <th>2018-02-23</th>\n",
       "      <td>2.868</td>\n",
       "      <td>2.791</td>\n",
       "      <td>2.619</td>\n",
       "      <td>2.388</td>\n",
       "      <td>2.240</td>\n",
       "      <td>2.001</td>\n",
       "      <td>1.852</td>\n",
       "      <td>1.641</td>\n",
       "    </tr>\n",
       "    <tr>\n",
       "      <th>2018-02-16</th>\n",
       "      <td>2.876</td>\n",
       "      <td>2.805</td>\n",
       "      <td>2.630</td>\n",
       "      <td>2.385</td>\n",
       "      <td>2.192</td>\n",
       "      <td>1.975</td>\n",
       "      <td>1.825</td>\n",
       "      <td>1.594</td>\n",
       "    </tr>\n",
       "  </tbody>\n",
       "</table>\n",
       "<p>210 rows × 8 columns</p>\n",
       "</div>"
      ],
      "text/plain": [
       "              10Y     7Y     5Y     3Y     2Y     1Y     6M     3M\n",
       "Date                                                              \n",
       "2022-02-16  2.044  2.025  1.921  1.762  1.530  1.043  0.699  0.402\n",
       "2022-02-11  1.941  1.940  1.856  1.728  1.505  1.029  0.692  0.359\n",
       "2022-02-04  1.911  1.884  1.770  1.536  1.313  0.869  0.550  0.230\n",
       "2022-01-28  1.772  1.739  1.613  1.375  1.164  0.744  0.424  0.185\n",
       "2022-01-21  1.760  1.713  1.559  1.287  1.005  0.555  0.354  0.167\n",
       "...           ...    ...    ...    ...    ...    ...    ...    ...\n",
       "2018-03-16  2.845  2.778  2.643  2.444  2.293  2.054  1.945  1.773\n",
       "2018-03-09  2.895  2.811  2.651  2.432  2.260  2.023  1.874  1.664\n",
       "2018-03-02  2.865  2.788  2.629  2.397  2.243  2.044  1.841  1.644\n",
       "2018-02-23  2.868  2.791  2.619  2.388  2.240  2.001  1.852  1.641\n",
       "2018-02-16  2.876  2.805  2.630  2.385  2.192  1.975  1.825  1.594\n",
       "\n",
       "[210 rows x 8 columns]"
      ]
     },
     "execution_count": 4,
     "metadata": {},
     "output_type": "execute_result"
    }
   ],
   "source": [
    "df"
   ]
  },
  {
   "cell_type": "code",
   "execution_count": 5,
   "id": "86adfecd-97bd-46dc-9323-f687bc5b0d8d",
   "metadata": {},
   "outputs": [],
   "source": [
    "firstyields = df[df.index == \"2022-02-11\"]"
   ]
  },
  {
   "cell_type": "code",
   "execution_count": 6,
   "id": "d2d298e2-4185-4ca4-b457-b8729e82a519",
   "metadata": {},
   "outputs": [],
   "source": [
    "today = firstyields.index"
   ]
  },
  {
   "cell_type": "code",
   "execution_count": 7,
   "id": "6f08be5b-1a75-423a-8481-39137f2b2991",
   "metadata": {},
   "outputs": [
    {
     "data": {
      "text/plain": [
       "DatetimeIndex(['2022-02-11'], dtype='datetime64[ns]', name='Date', freq=None)"
      ]
     },
     "execution_count": 7,
     "metadata": {},
     "output_type": "execute_result"
    }
   ],
   "source": [
    "today"
   ]
  },
  {
   "cell_type": "markdown",
   "id": "2eb90e9f-883f-46e8-94a8-32c2aa45ba82",
   "metadata": {},
   "source": [
    "#### Partimos de un vector de alphas (nuestra curva), creada al azar"
   ]
  },
  {
   "cell_type": "code",
   "execution_count": 8,
   "id": "cbd3213f-08de-45f5-b12e-a2e8530cffd6",
   "metadata": {},
   "outputs": [],
   "source": [
    "alphas = (0.1,0.11,0.12,0.13,0.14)"
   ]
  },
  {
   "cell_type": "markdown",
   "id": "42d33d71-1c6d-4534-9f20-b4ca8af3993c",
   "metadata": {},
   "source": [
    "#### Suponemos que: \n",
    "- $\\alpha_1$ representa la tasa forward entre 0 y 3 meses, \n",
    "- $\\alpha_2$ la tasa entre 3 meses y 1 año, \n",
    "- $\\alpha_3$ la tasa entre 1 y 3 años,\n",
    "- $\\alpha_4$ la tasa entre 3 y 5 años ,\n",
    "- $\\alpha_5$ la tasa entre 5 y 10 años."
   ]
  },
  {
   "cell_type": "markdown",
   "id": "ad9e14c4-772d-452e-87d6-631e695fe34e",
   "metadata": {},
   "source": [
    "#### Ahora bien, para valorar un bono, se sigue que:"
   ]
  },
  {
   "cell_type": "markdown",
   "id": "7080a27d-7be1-480c-a034-560a785c4795",
   "metadata": {},
   "source": [
    "$$ \\sum_{i=1}^{T} \\frac{(C \\% *100)}{{(1+y_i)}^{t_i}} + \\frac {N}{{(1+y_i)}^{T}}$$ "
   ]
  },
  {
   "cell_type": "markdown",
   "id": "f03c1b3d-1b7a-43ca-9652-739909f62b11",
   "metadata": {},
   "source": [
    "#### Además, para traer a valor presente usando una curva forward, se sigue el factor de descuento a un plazo T es: "
   ]
  },
  {
   "cell_type": "markdown",
   "id": "672de528-012f-49db-8bcb-2e1a72d451e7",
   "metadata": {},
   "source": [
    "### $$ e^{-\\int_{0}^{T} f(t) \\,dt}$$"
   ]
  },
  {
   "cell_type": "markdown",
   "id": "7b564185-5e86-4fb8-9a0b-9e66cfb41f07",
   "metadata": {},
   "source": [
    "#### Con lo anterior, para valorar un bono para el taller, se sigue que:\n",
    "$$ \\sum_{i=1}^{T} (C \\% *100)*e^{-\\int_{0}^{T} f(t) \\,dt} +  {N}*{e^{-\\int_{0}^{T} f(t) \\,dt}}$$ "
   ]
  },
  {
   "cell_type": "markdown",
   "id": "73b2a9f3-21cd-4f01-8dc7-5d09d700279a",
   "metadata": {},
   "source": [
    "#### Así, para convertir las tasas anualizadas utilzaremos la siguiente función:"
   ]
  },
  {
   "cell_type": "code",
   "execution_count": 9,
   "id": "fe3cfc81-8fab-427a-9bbd-1b5f0d3e06c1",
   "metadata": {},
   "outputs": [],
   "source": [
    "def rateconverter(rate, T, today):\n",
    "    \"\"\"\n",
    "    Returns a converted interest rate, for a desired maturity.\n",
    "    Parameters:\n",
    "        rate: yearly interest rate\n",
    "        T: maturity in months\n",
    "        today: current date, expressed as a DateTimeIndex\n",
    "    \"\"\"\n",
    "    days = (today[0].date()+relativedelta(months=T) - today[0].date()).days\n",
    "    semrate = ((1+rate)**(1/2)-1)\n",
    "    newrate = semrate*days/360\n",
    "    return round(newrate,decimals = 5)"
   ]
  },
  {
   "cell_type": "markdown",
   "id": "3ce9fc53-28d4-4fd6-be37-220cfe72085b",
   "metadata": {},
   "source": [
    "#### Y para hallar los factores de descuento, asumiendo una curva constante a trozos:"
   ]
  },
  {
   "cell_type": "code",
   "execution_count": 10,
   "id": "7ac14df7-92e0-4b4d-b750-d4cf1586e8f3",
   "metadata": {},
   "outputs": [],
   "source": [
    "def discountfactor(curve, T):\n",
    "    \"\"\"\n",
    "    Returns the discount factor for a given maturity and forward curve, assuming a constant stepwise curve \n",
    "    Parameters:\n",
    "        curve: forward curve\n",
    "        T: maturity in months\n",
    "    \"\"\"\n",
    "    intervals_r=[3,12,36,60,120]\n",
    "    intervals_l=[0,3,12,36,60]\n",
    "    mask = [(t<=T) for t in intervals_l]\n",
    "    minimum = np.minimum(T, intervals_r)\n",
    "    areas = ((minimum-intervals_l)/12)*curve*mask\n",
    "    totalarea = np.sum(areas)\n",
    "    print(totalarea)\n",
    "    discountfactor = np.exp(-totalarea)\n",
    "    return discountfactor"
   ]
  },
  {
   "cell_type": "code",
   "execution_count": 9,
   "id": "8de3300b-f40b-4ee6-b451-5881665c56d3",
   "metadata": {},
   "outputs": [
    {
     "data": {
      "text/plain": [
       "0.9488543210558013"
      ]
     },
     "execution_count": 9,
     "metadata": {},
     "output_type": "execute_result"
    }
   ],
   "source": [
    "helpers.discountfactor(alphas, 6)"
   ]
  },
  {
   "cell_type": "code",
   "execution_count": 12,
   "id": "a59f66e2-32bc-4f24-a5a7-d60d38904cdf",
   "metadata": {},
   "outputs": [
    {
     "data": {
      "text/plain": [
       "100.01869688458873"
      ]
     },
     "execution_count": 12,
     "metadata": {},
     "output_type": "execute_result"
    }
   ],
   "source": [
    "tmb = 100 +helpers.threemonthrateconverter(firstyields[\"3M\"][0], 3 , today)*helpers.discountfactor(alphas, 6)\n",
    "tmb"
   ]
  },
  {
   "cell_type": "markdown",
   "id": "6fd88cdc-ca41-4012-b28b-9d1051cb5525",
   "metadata": {},
   "source": [
    "#### Miremos cómo se comporta la función para el factor de descuento:"
   ]
  },
  {
   "cell_type": "code",
   "execution_count": 13,
   "id": "59fdefd2-c50f-4f13-afc6-b2ef1161a300",
   "metadata": {},
   "outputs": [],
   "source": [
    "alphas = np.arange (0.1,0.6,.01)\n",
    "maturities = np.arange(1,51,1)\n",
    "discounts = list(map(helpers.discountfactor, alphas, maturities))"
   ]
  },
  {
   "cell_type": "code",
   "execution_count": 14,
   "id": "826cbb31-50ad-47fe-a59e-acfa49ac6868",
   "metadata": {},
   "outputs": [
    {
     "data": {
      "text/plain": [
       "[<matplotlib.lines.Line2D at 0x7fad23eee760>]"
      ]
     },
     "execution_count": 14,
     "metadata": {},
     "output_type": "execute_result"
    },
    {
     "data": {
      "image/png": "[encoded data removed]",
      "text/plain": [
       "<Figure size 700x500 with 1 Axes>"
      ]
     },
     "metadata": {},
     "output_type": "display_data"
    }
   ],
   "source": [
    "plt.style.use('seaborn-whitegrid')\n",
    "plt.rcParams.update({'figure.figsize':(7,5), 'figure.dpi':100})\n",
    "plt.xlabel('Maturities')\n",
    "plt.ylabel('Discount Factors')\n",
    "plt.title('Factores de Descuento a Diez Años')\n",
    "plt.plot(maturities,discounts)"
   ]
  },
  {
   "cell_type": "markdown",
   "id": "7dc77ffe-72aa-4641-834a-f90372914909",
   "metadata": {
    "tags": []
   },
   "source": [
    "#### Ahora definamos la función de pagos para un bono específico:"
   ]
  },
  {
   "cell_type": "code",
   "execution_count": 15,
   "id": "588969e6-46a3-4d4e-976f-131b1f61b5f0",
   "metadata": {},
   "outputs": [],
   "source": [
    "alphas2 = [0.07853351, 0.08539753, 0.04942368, 0.08465615, 0.0079]"
   ]
  },
  {
   "cell_type": "code",
   "execution_count": 16,
   "id": "5cfb4a3f-4bad-4b15-8fcc-55b5a0abbaf6",
   "metadata": {},
   "outputs": [],
   "source": [
    "def singlebondpayment(T, rate, alpha, today, threemonth = False):\n",
    "    if threemonth == True:\n",
    "        return helpers.threemonthrateconverter(rate, T, today)*helpers.discountfactor(alpha, T)\n",
    "    return helpers.rateconverter(rate, T, today)*helpers.discountfactor(alpha, T)"
   ]
  },
  {
   "cell_type": "markdown",
   "id": "1e8e142e-4356-455d-a4fa-a140f0f12666",
   "metadata": {},
   "source": [
    "#### Generalizando para cualquier bono:"
   ]
  },
  {
   "cell_type": "code",
   "execution_count": 19,
   "id": "d4b87859-2abe-4e9e-8691-9c63bc213971",
   "metadata": {},
   "outputs": [],
   "source": [
    "def bondvalue(today, T, rates, alpha):\n",
    "    if T == 3:\n",
    "        return singlebondpayment(3, rates[\"3M\"][0], alpha, today, threemonth= True) + 100*helpers.discountfactor(alpha , T)\n",
    "    else:\n",
    "        maturitynames = [i for i in rates.columns]\n",
    "        maturitydates = [3,6,12,24,36,60,84,120]\n",
    "        maturitydict = {maturitydates[i]: maturitynames[i] for i in range(len(maturitynames))}\n",
    "        periods = np.arange(6,T+6,6)\n",
    "        bondpayments= np.array([singlebondpayment(i, rate = rates[maturitydict[T]][0], today = today, alpha = alphas) for i in periods])\n",
    "        sumpayments = np.sum(bondpayments) \n",
    "        return sumpayments + 100*helpers.discountfactor(alpha, T)"
   ]
  },
  {
   "cell_type": "code",
   "execution_count": 20,
   "id": "1cac2f82-98c4-43b3-b92d-ca6f31dc9db3",
   "metadata": {},
   "outputs": [
    {
     "data": {
      "text/plain": [
       "98.0751315605398"
      ]
     },
     "execution_count": 20,
     "metadata": {},
     "output_type": "execute_result"
    }
   ],
   "source": [
    "bondvalue(today, 3, firstyields, alphas2)"
   ]
  },
  {
   "cell_type": "markdown",
   "id": "7bbe7822-7d81-4082-a004-5fb8795314a4",
   "metadata": {},
   "source": [
    "#### Definamos el error como la diferencia de los cuadrados"
   ]
  },
  {
   "cell_type": "code",
   "execution_count": 19,
   "id": "5ae84f68-3b3d-4219-b404-8e016da28554",
   "metadata": {},
   "outputs": [],
   "source": [
    "def error(alpha):\n",
    "    maturitydates = [3,6,12,24,36,60,84,120]\n",
    "    bondvalues = [bondvalue(today, i, firstyields, alpha) for i in maturitydates]\n",
    "    errorval= np.sum(np.abs(np.subtract(100,bondvalues)))\n",
    "    return errorval"
   ]
  },
  {
   "cell_type": "markdown",
   "id": "3e0f8a42-57fb-429d-9519-f419746e9eac",
   "metadata": {},
   "source": [
    "#### Podemos minimizar esta función con respecto a los parámetros "
   ]
  },
  {
   "cell_type": "code",
   "execution_count": 20,
   "id": "b5c8aecb-198e-4fa6-81de-c6f456a85bd7",
   "metadata": {},
   "outputs": [
    {
     "name": "stdout",
     "output_type": "stream",
     "text": [
      "14.86930333525305 [0.14776064 0.12060268 0.01963866 0.08061655 0.15900981]\n",
      "6.118526596716549 [0.06864925 0.04485298 0.10873423 0.0526355  0.10506115]\n",
      "1.8610884302070474 [0.12864258 0.06583472 0.13295547 0.05515292 0.07017211]\n",
      "1.7935892229619839 [0.10513317 0.04262001 0.14178623 0.06836445 0.15941752]\n",
      "1.6728671154241397 [0.0287505  0.04448555 0.09905524 0.07404676 0.01827882]\n",
      "1.584312148874318 [0.00307729 0.12556562 0.12361307 0.14968058 0.09245035]\n",
      "1.4927893443158666 [0.00784337 0.07531106 0.08777279 0.14406302 0.00220892]\n"
     ]
    }
   ],
   "source": [
    "func = 10000000\n",
    "a = []\n",
    "for i in range(100):\n",
    "    alphas = np.random.uniform(low = 0, high = 0.16, size = 5)\n",
    "    res = minimize(error, alphas, bounds = ((0,.3),(0,.3),(0,.3),(0,.3),(0,.3)))\n",
    "    if res.fun < func:\n",
    "        func = res.fun\n",
    "        a.append(np.array(alphas))\n",
    "        print(func, alphas)\n",
    "    else:\n",
    "        continue"
   ]
  },
  {
   "cell_type": "code",
   "execution_count": 21,
   "id": "669c878a-7c11-4c12-9ec2-136f923c0bc0",
   "metadata": {},
   "outputs": [],
   "source": [
    "alpha1 = []\n",
    "alpha2 =[]\n",
    "alpha3 =[]\n",
    "alpha4=[]\n",
    "alpha5=[]\n",
    "for i in a:\n",
    "    alpha1.append(i[0])\n",
    "    alpha2.append(i[1])\n",
    "    alpha3.append(i[2])\n",
    "    alpha4.append(i[3])\n",
    "    alpha5.append(i[4])"
   ]
  },
  {
   "cell_type": "code",
   "execution_count": 22,
   "id": "62720a23-1cc4-4d1a-93d4-bd6ab749d95b",
   "metadata": {},
   "outputs": [
    {
     "data": {
      "text/plain": [
       "Text(0.5, 1.0, 'Alpha Vol')"
      ]
     },
     "execution_count": 22,
     "metadata": {},
     "output_type": "execute_result"
    },
    {
     "data": {
      "image/png": "[encoded data removed]",
      "text/plain": [
       "<Figure size 700x500 with 1 Axes>"
      ]
     },
     "metadata": {},
     "output_type": "display_data"
    }
   ],
   "source": [
    "plt.plot([alpha1,alpha2, alpha3, alpha4,alpha5])\n",
    "plt.title(\"Alpha Vol\")"
   ]
  },
  {
   "cell_type": "code",
   "execution_count": 23,
   "id": "c15ec819-3188-4209-9632-f4fac0162e09",
   "metadata": {},
   "outputs": [
    {
     "data": {
      "text/plain": [
       "array([0.00784337, 0.07531106, 0.08777279, 0.14406302, 0.00220892])"
      ]
     },
     "execution_count": 23,
     "metadata": {},
     "output_type": "execute_result"
    }
   ],
   "source": [
    "alphas = a[-1] # Usaremos este vector de alphas como el que optimiza\n",
    "alphas"
   ]
  },
  {
   "cell_type": "markdown",
   "id": "d152577b-5e46-4290-b8b9-5ddc3c561d47",
   "metadata": {},
   "source": [
    "#### Usemos estos valores para calcular el valor del cupón que valora a par"
   ]
  },
  {
   "cell_type": "code",
   "execution_count": 24,
   "id": "80866bb8-ddf2-4dd5-bd6e-53be610d17bc",
   "metadata": {},
   "outputs": [],
   "source": [
    "alphas = [0.00136473, 0.0051052, 0.00770603, 0.00757789, 0.0070979]"
   ]
  },
  {
   "cell_type": "code",
   "execution_count": 28,
   "id": "85ce7e57-ea42-4271-b644-3ce0a1c375c7",
   "metadata": {},
   "outputs": [
    {
     "ename": "SyntaxError",
     "evalue": "cannot assign to literal (609821952.py, line 2)",
     "output_type": "error",
     "traceback": [
      "\u001b[0;36m  Input \u001b[0;32mIn [28]\u001b[0;36m\u001b[0m\n\u001b[0;31m    100 = helpers.discountfactor(alphas[2], 12)*helpers.rateconverter(c,12,today) + helpers.discountfactor(alphas[2], 24)*helpers.rateconverter(c,24,today) +\u001b[0m\n\u001b[0m    ^\u001b[0m\n\u001b[0;31mSyntaxError\u001b[0m\u001b[0;31m:\u001b[0m cannot assign to literal\n"
     ]
    }
   ],
   "source": [
    "# Sabemos que para valorar a par, el valor final del bono debe ser 100, y esto a su vez debe equivaler a la suma de los bonos traidos a valor presente más el nocional que se paga en el último periodo también traido a valor presente\n",
    "100 = helpers.discountfactor(alphas[2], 12)*helpers.rateconverter(c,12,today) + helpers.discountfactor(alphas[2], 24)*helpers.rateconverter(c,24,today) +\n",
    "helpers.discountfactor(alphas[3], 36)*helpers.rateconverter(c,36,today) +helpers.discountfactor(alphas[3], 48)*helpers.rateconverter(c,48,today) +\n",
    "helpers.discountfactor(alphas[4], 60)*helpers.rateconverter(c,60,today)+helpers.discountfactor(alphas[4], 72)*helpers.rateconverter(c,72,today) + \n",
    "helpers.discountfactor(alphas[4], 84)*helpers.rateconverter(c,84,today) + helpers.discountfactor(alphas[4], 84)*100"
   ]
  },
  {
   "cell_type": "code",
   "execution_count": 25,
   "id": "8877264d-b06e-42de-81b6-4bba1038020d",
   "metadata": {},
   "outputs": [],
   "source": [
    "# Traigamos a valor presente el pago del nocional\n",
    "pvnotional = helpers.discountfactor(alphas[4], 84)*100"
   ]
  },
  {
   "cell_type": "code",
   "execution_count": 33,
   "id": "b91cbd98-b05a-4423-ac33-1cd30a0f7b39",
   "metadata": {},
   "outputs": [
    {
     "data": {
      "text/plain": [
       "95.15288235085674"
      ]
     },
     "execution_count": 33,
     "metadata": {},
     "output_type": "execute_result"
    }
   ],
   "source": [
    "pvnotional"
   ]
  },
  {
   "cell_type": "code",
   "execution_count": 26,
   "id": "ddb08178-b9c2-4fc6-b097-8bef4c2de4e1",
   "metadata": {},
   "outputs": [
    {
     "name": "stdout",
     "output_type": "stream",
     "text": [
      "4.847117649143257\n"
     ]
    }
   ],
   "source": [
    "# Restando del valor original, obtenemos que la suma de los cupones traidos a valor presente es:\n",
    "totalcoupons = 100-pvnotional\n",
    "print(totalcoupons)"
   ]
  },
  {
   "cell_type": "markdown",
   "id": "a98f593b-cf84-459c-bdb8-9fe0e15098b3",
   "metadata": {},
   "source": [
    "#### Iterando sobre algunos valores de C obtenemos que el valor de C que satisface la valoración a par del bono es:"
   ]
  },
  {
   "cell_type": "code",
   "execution_count": 27,
   "id": "1573d9ec-182f-496e-a3a7-e817e7dcbb8b",
   "metadata": {},
   "outputs": [],
   "source": [
    "c = 0.37"
   ]
  },
  {
   "cell_type": "code",
   "execution_count": 58,
   "id": "8cd0aa4b-d0e3-40e6-abb6-44fb269b19dc",
   "metadata": {},
   "outputs": [
    {
     "data": {
      "text/plain": [
       "4.671265863175387"
      ]
     },
     "execution_count": 58,
     "metadata": {},
     "output_type": "execute_result"
    }
   ],
   "source": [
    "couponsum =\\\n",
    "  helpers.discountfactor(alphas[2], 12)*helpers.rateconverter(c,12,today) \\\n",
    "+ helpers.discountfactor(alphas[2], 24)*helpers.rateconverter(c,24,today)\\\n",
    "+ helpers.discountfactor(alphas[3], 36)*helpers.rateconverter(c,36,today)\\\n",
    "+ helpers.discountfactor(alphas[3], 48)*helpers.rateconverter(c,48,today)\\\n",
    "+ helpers.discountfactor(alphas[4], 60)*helpers.rateconverter(c,60,today)\\\n",
    "+ helpers.discountfactor(alphas[4], 72)*helpers.rateconverter(c,72,today)\\\n",
    "+ helpers.discountfactor(alphas[4], 84)*helpers.rateconverter(c,84,today)\n",
    "\n",
    "couponsum"
   ]
  },
  {
   "cell_type": "code",
   "execution_count": 34,
   "id": "579fad50-92f8-49c8-a73c-aac6f9d722a4",
   "metadata": {},
   "outputs": [],
   "source": [
    "def couponerror(c):\n",
    "    couponsum =\\\n",
    "  helpers.discountfactor(alphas[2], 12)*helpers.rateconverter(c,12,today) \\\n",
    "+ helpers.discountfactor(alphas[2], 24)*helpers.rateconverter(c,24,today)\\\n",
    "+ helpers.discountfactor(alphas[3], 36)*helpers.rateconverter(c,36,today)\\\n",
    "+ helpers.discountfactor(alphas[3], 48)*helpers.rateconverter(c,48,today)\\\n",
    "+ helpers.discountfactor(alphas[4], 60)*helpers.rateconverter(c,60,today)\\\n",
    "+ helpers.discountfactor(alphas[4], 72)*helpers.rateconverter(c,72,today)\\\n",
    "+ helpers.discountfactor(alphas[4], 84)*helpers.rateconverter(c,84,today)\n",
    "    \n",
    "    totalcoupons = 4.84711\n",
    "    return couponsum - totalcoupons"
   ]
  },
  {
   "cell_type": "code",
   "execution_count": 37,
   "id": "c8f52c9d-f803-40f2-90e2-d7f51eb16f16",
   "metadata": {},
   "outputs": [
    {
     "name": "stderr",
     "output_type": "stream",
     "text": [
      "/Users/rafael/Factored/Universidad/Riesgo/T1-Riesgo/scripts/helpers.py:35: RuntimeWarning: invalid value encountered in sqrt\n",
      "  semrate = ((1+rate)**(1/2))-1\n",
      "/Users/rafael/Factored/Universidad/Riesgo/T1-Riesgo/scripts/helpers.py:35: RuntimeWarning: invalid value encountered in sqrt\n",
      "  semrate = ((1+rate)**(1/2))-1\n",
      "/Users/rafael/Factored/Universidad/Riesgo/T1-Riesgo/scripts/helpers.py:35: RuntimeWarning: invalid value encountered in sqrt\n",
      "  semrate = ((1+rate)**(1/2))-1\n"
     ]
    }
   ],
   "source": [
    "coupon = minimize(couponerror,c)"
   ]
  },
  {
   "cell_type": "code",
   "execution_count": 38,
   "id": "a1a6a7a6-9b4a-4d1a-a78a-2d302b6948ee",
   "metadata": {},
   "outputs": [
    {
     "data": {
      "text/plain": [
       "      fun: array([nan])\n",
       " hess_inv: array([[1]])\n",
       "      jac: array([nan])\n",
       "  message: 'Desired error not necessarily achieved due to precision loss.'\n",
       "     nfev: 224\n",
       "      nit: 1\n",
       "     njev: 112\n",
       "   status: 2\n",
       "  success: False\n",
       "        x: array([-1033.87])"
      ]
     },
     "execution_count": 38,
     "metadata": {},
     "output_type": "execute_result"
    }
   ],
   "source": [
    "coupon"
   ]
  },
  {
   "cell_type": "markdown",
   "id": "d0dfb86b-1cb7-4f55-a19a-62b4d6763f80",
   "metadata": {},
   "source": [
    "#### Calibración de curvas del último año"
   ]
  },
  {
   "cell_type": "code",
   "execution_count": 243,
   "id": "6e866491-cb15-45d6-8a80-315cff1fa65f",
   "metadata": {
    "tags": []
   },
   "outputs": [],
   "source": [
    "def error2(alpha, df, day):\n",
    "    firstyields = df[df.index == day]\n",
    "    maturitydates = [3,6,12,24,36,60,84,120]\n",
    "    bondvalues = [bondvalue(today, i, firstyields, alpha) for i in maturitydates]\n",
    "    errorval= np.sum(np.abs(np.subtract(100,bondvalues)))\n",
    "    return errorval"
   ]
  },
  {
   "cell_type": "code",
   "execution_count": 275,
   "id": "ece9c811-f3be-49e3-abb2-e0acddc5fa33",
   "metadata": {},
   "outputs": [],
   "source": [
    "lastyear = df"
   ]
  },
  {
   "cell_type": "code",
   "execution_count": null,
   "id": "f1281249-6832-4f76-a5ae-1b48d46ae2c3",
   "metadata": {},
   "outputs": [],
   "source": [
    "### No correr! Toma un buen tiempo\n",
    "alphalevels = []\n",
    "for i in lastyear.index:\n",
    "    res = minimize(error2, alphas, args = (lastyear, i), bounds = ((0,.3),(0,.3),(0,.3),(0,.3),(0,.3)))\n",
    "    alphalevels.append(res.x)"
   ]
  },
  {
   "cell_type": "code",
   "execution_count": 278,
   "id": "caede649-633e-4662-8444-49d6290e5c14",
   "metadata": {},
   "outputs": [],
   "source": [
    "dfalpha = pd.DataFrame(alphalevels)"
   ]
  },
  {
   "cell_type": "code",
   "execution_count": 48,
   "id": "539998f8-4648-4722-97f6-1ca371b4425b",
   "metadata": {},
   "outputs": [],
   "source": [
    "dfalpha.to_csv(\"alphaniveles.csv\")"
   ]
  },
  {
   "cell_type": "code",
   "execution_count": 161,
   "id": "d92f0e38-e973-4b82-8dae-a9e2e86d37f3",
   "metadata": {},
   "outputs": [
    {
     "ename": "NameError",
     "evalue": "name 'lastyear' is not defined",
     "output_type": "error",
     "traceback": [
      "\u001b[0;31m---------------------------------------------------------------------------\u001b[0m",
      "\u001b[0;31mNameError\u001b[0m                                 Traceback (most recent call last)",
      "Input \u001b[0;32mIn [161]\u001b[0m, in \u001b[0;36m<cell line: 1>\u001b[0;34m()\u001b[0m\n\u001b[0;32m----> 1\u001b[0m \u001b[43mlastyear\u001b[49m\n",
      "\u001b[0;31mNameError\u001b[0m: name 'lastyear' is not defined"
     ]
    }
   ],
   "source": [
    "lastyear"
   ]
  },
  {
   "cell_type": "code",
   "execution_count": null,
   "id": "e20dc55d-fbc1-4c07-aa13-ed0cd37208fb",
   "metadata": {},
   "outputs": [],
   "source": [
    "\n",
    "alphalevels2 = []\n",
    "for i in lastyear.index:\n",
    "    res = minimize(error2, alphas, args = (lastyear, i), bounds = ((0,.3),(0,.3),(0,.3),(0,.3),(0,.3)))\n",
    "    alphalevels.append(res.x)"
   ]
  },
  {
   "cell_type": "markdown",
   "id": "82804a05-8d2f-4561-b722-72d30ac22d79",
   "metadata": {},
   "source": [
    "####  Segunda parte"
   ]
  },
  {
   "cell_type": "code",
   "execution_count": 139,
   "id": "79dad720-afee-4342-993c-ceb0a83a2147",
   "metadata": {},
   "outputs": [],
   "source": [
    "import sympy\n",
    "import time\n",
    "import numpy as np\n",
    "import pandas as pd\n",
    "import matplotlib.pyplot as plt\n",
    "import helpers as helpers\n",
    "from scipy.optimize import minimize, show_options, basinhopping, differential_evolution, brute\n",
    "from math import sqrt as msqrt"
   ]
  },
  {
   "cell_type": "code",
   "execution_count": 140,
   "id": "8d2b3141-332f-44a3-beca-bd43fa8c0dce",
   "metadata": {},
   "outputs": [],
   "source": [
    "dfalpha = pd.read_csv(\"../data/alphaniveles.csv\")"
   ]
  },
  {
   "cell_type": "code",
   "execution_count": 141,
   "id": "8c191865-1d01-4356-a507-7d6b5c966294",
   "metadata": {},
   "outputs": [
    {
     "data": {
      "text/html": [
       "<div>\n",
       "<style scoped>\n",
       "    .dataframe tbody tr th:only-of-type {\n",
       "        vertical-align: middle;\n",
       "    }\n",
       "\n",
       "    .dataframe tbody tr th {\n",
       "        vertical-align: top;\n",
       "    }\n",
       "\n",
       "    .dataframe thead th {\n",
       "        text-align: right;\n",
       "    }\n",
       "</style>\n",
       "<table border=\"1\" class=\"dataframe\">\n",
       "  <thead>\n",
       "    <tr style=\"text-align: right;\">\n",
       "      <th></th>\n",
       "      <th>Unnamed: 0</th>\n",
       "      <th>0</th>\n",
       "      <th>1</th>\n",
       "      <th>2</th>\n",
       "      <th>3</th>\n",
       "      <th>4</th>\n",
       "    </tr>\n",
       "  </thead>\n",
       "  <tbody>\n",
       "    <tr>\n",
       "      <th>0</th>\n",
       "      <td>0</td>\n",
       "      <td>0.00000000000</td>\n",
       "      <td>0.03442301881</td>\n",
       "      <td>0.05072898445</td>\n",
       "      <td>0.03172771897</td>\n",
       "      <td>0.00000000000</td>\n",
       "    </tr>\n",
       "    <tr>\n",
       "      <th>1</th>\n",
       "      <td>1</td>\n",
       "      <td>0.00000000000</td>\n",
       "      <td>0.03322962224</td>\n",
       "      <td>0.05003963865</td>\n",
       "      <td>0.03145619829</td>\n",
       "      <td>0.00000000000</td>\n",
       "    </tr>\n",
       "    <tr>\n",
       "      <th>2</th>\n",
       "      <td>2</td>\n",
       "      <td>0.01959401328</td>\n",
       "      <td>0.02107562037</td>\n",
       "      <td>0.04375111075</td>\n",
       "      <td>0.02403385797</td>\n",
       "      <td>0.00000000000</td>\n",
       "    </tr>\n",
       "    <tr>\n",
       "      <th>3</th>\n",
       "      <td>3</td>\n",
       "      <td>0.00585733585</td>\n",
       "      <td>0.02291917042</td>\n",
       "      <td>0.03833434012</td>\n",
       "      <td>0.01211406715</td>\n",
       "      <td>0.00000000000</td>\n",
       "    </tr>\n",
       "    <tr>\n",
       "      <th>4</th>\n",
       "      <td>4</td>\n",
       "      <td>0.00958430115</td>\n",
       "      <td>0.02423163149</td>\n",
       "      <td>0.03059171532</td>\n",
       "      <td>0.00738332981</td>\n",
       "      <td>0.00000000000</td>\n",
       "    </tr>\n",
       "    <tr>\n",
       "      <th>...</th>\n",
       "      <td>...</td>\n",
       "      <td>...</td>\n",
       "      <td>...</td>\n",
       "      <td>...</td>\n",
       "      <td>...</td>\n",
       "      <td>...</td>\n",
       "    </tr>\n",
       "    <tr>\n",
       "      <th>205</th>\n",
       "      <td>205</td>\n",
       "      <td>0.05332877848</td>\n",
       "      <td>0.03092176767</td>\n",
       "      <td>0.08041909961</td>\n",
       "      <td>0.11056538963</td>\n",
       "      <td>0.19611240552</td>\n",
       "    </tr>\n",
       "    <tr>\n",
       "      <th>206</th>\n",
       "      <td>206</td>\n",
       "      <td>0.01907220600</td>\n",
       "      <td>0.03679880888</td>\n",
       "      <td>0.08045159325</td>\n",
       "      <td>0.10870484430</td>\n",
       "      <td>0.16234882443</td>\n",
       "    </tr>\n",
       "    <tr>\n",
       "      <th>207</th>\n",
       "      <td>207</td>\n",
       "      <td>0.04832108261</td>\n",
       "      <td>0.02529805610</td>\n",
       "      <td>0.08078085274</td>\n",
       "      <td>0.11167507652</td>\n",
       "      <td>0.15651809987</td>\n",
       "    </tr>\n",
       "    <tr>\n",
       "      <th>208</th>\n",
       "      <td>208</td>\n",
       "      <td>0.03079054466</td>\n",
       "      <td>0.03430044622</td>\n",
       "      <td>0.07944924243</td>\n",
       "      <td>0.10642038184</td>\n",
       "      <td>0.15783559394</td>\n",
       "    </tr>\n",
       "    <tr>\n",
       "      <th>209</th>\n",
       "      <td>209</td>\n",
       "      <td>0.02466953402</td>\n",
       "      <td>0.03648170173</td>\n",
       "      <td>0.07713428612</td>\n",
       "      <td>0.10545255559</td>\n",
       "      <td>0.14635579750</td>\n",
       "    </tr>\n",
       "  </tbody>\n",
       "</table>\n",
       "<p>210 rows × 6 columns</p>\n",
       "</div>"
      ],
      "text/plain": [
       "     Unnamed: 0             0             1             2             3  \\\n",
       "0             0 0.00000000000 0.03442301881 0.05072898445 0.03172771897   \n",
       "1             1 0.00000000000 0.03322962224 0.05003963865 0.03145619829   \n",
       "2             2 0.01959401328 0.02107562037 0.04375111075 0.02403385797   \n",
       "3             3 0.00585733585 0.02291917042 0.03833434012 0.01211406715   \n",
       "4             4 0.00958430115 0.02423163149 0.03059171532 0.00738332981   \n",
       "..          ...           ...           ...           ...           ...   \n",
       "205         205 0.05332877848 0.03092176767 0.08041909961 0.11056538963   \n",
       "206         206 0.01907220600 0.03679880888 0.08045159325 0.10870484430   \n",
       "207         207 0.04832108261 0.02529805610 0.08078085274 0.11167507652   \n",
       "208         208 0.03079054466 0.03430044622 0.07944924243 0.10642038184   \n",
       "209         209 0.02466953402 0.03648170173 0.07713428612 0.10545255559   \n",
       "\n",
       "                4  \n",
       "0   0.00000000000  \n",
       "1   0.00000000000  \n",
       "2   0.00000000000  \n",
       "3   0.00000000000  \n",
       "4   0.00000000000  \n",
       "..            ...  \n",
       "205 0.19611240552  \n",
       "206 0.16234882443  \n",
       "207 0.15651809987  \n",
       "208 0.15783559394  \n",
       "209 0.14635579750  \n",
       "\n",
       "[210 rows x 6 columns]"
      ]
     },
     "execution_count": 141,
     "metadata": {},
     "output_type": "execute_result"
    }
   ],
   "source": [
    "dfalpha"
   ]
  },
  {
   "cell_type": "code",
   "execution_count": 142,
   "id": "a5c73b46-3262-4099-a60d-055b9b0e1837",
   "metadata": {},
   "outputs": [],
   "source": [
    "alphadiff = dfalpha.diff()"
   ]
  },
  {
   "cell_type": "code",
   "execution_count": 143,
   "id": "d83f9b54-701b-406d-9527-8177b64626ba",
   "metadata": {},
   "outputs": [],
   "source": [
    "alphadiff = alphadiff.drop(columns= \"Unnamed: 0\")"
   ]
  },
  {
   "cell_type": "code",
   "execution_count": 144,
   "id": "254a63f9-7cd4-468d-9243-dfa0432b7fad",
   "metadata": {},
   "outputs": [],
   "source": [
    "alphadiff = alphadiff.iloc[1:]"
   ]
  },
  {
   "cell_type": "code",
   "execution_count": 145,
   "id": "8cc5514d-0973-41cb-b652-ccb46aa1b369",
   "metadata": {},
   "outputs": [
    {
     "data": {
      "text/html": [
       "<div>\n",
       "<style scoped>\n",
       "    .dataframe tbody tr th:only-of-type {\n",
       "        vertical-align: middle;\n",
       "    }\n",
       "\n",
       "    .dataframe tbody tr th {\n",
       "        vertical-align: top;\n",
       "    }\n",
       "\n",
       "    .dataframe thead th {\n",
       "        text-align: right;\n",
       "    }\n",
       "</style>\n",
       "<table border=\"1\" class=\"dataframe\">\n",
       "  <thead>\n",
       "    <tr style=\"text-align: right;\">\n",
       "      <th></th>\n",
       "      <th>0</th>\n",
       "      <th>1</th>\n",
       "      <th>2</th>\n",
       "      <th>3</th>\n",
       "      <th>4</th>\n",
       "    </tr>\n",
       "  </thead>\n",
       "  <tbody>\n",
       "    <tr>\n",
       "      <th>1</th>\n",
       "      <td>0.00000000000</td>\n",
       "      <td>-0.00119339657</td>\n",
       "      <td>-0.00068934580</td>\n",
       "      <td>-0.00027152069</td>\n",
       "      <td>0.00000000000</td>\n",
       "    </tr>\n",
       "    <tr>\n",
       "      <th>2</th>\n",
       "      <td>0.01959401328</td>\n",
       "      <td>-0.01215400187</td>\n",
       "      <td>-0.00628852791</td>\n",
       "      <td>-0.00742234032</td>\n",
       "      <td>0.00000000000</td>\n",
       "    </tr>\n",
       "    <tr>\n",
       "      <th>3</th>\n",
       "      <td>-0.01373667743</td>\n",
       "      <td>0.00184355005</td>\n",
       "      <td>-0.00541677063</td>\n",
       "      <td>-0.01191979082</td>\n",
       "      <td>0.00000000000</td>\n",
       "    </tr>\n",
       "    <tr>\n",
       "      <th>4</th>\n",
       "      <td>0.00372696530</td>\n",
       "      <td>0.00131246107</td>\n",
       "      <td>-0.00774262480</td>\n",
       "      <td>-0.00473073734</td>\n",
       "      <td>0.00000000000</td>\n",
       "    </tr>\n",
       "    <tr>\n",
       "      <th>5</th>\n",
       "      <td>0.00304296345</td>\n",
       "      <td>-0.00102097215</td>\n",
       "      <td>-0.00151737370</td>\n",
       "      <td>-0.00638264177</td>\n",
       "      <td>0.00000000000</td>\n",
       "    </tr>\n",
       "    <tr>\n",
       "      <th>...</th>\n",
       "      <td>...</td>\n",
       "      <td>...</td>\n",
       "      <td>...</td>\n",
       "      <td>...</td>\n",
       "      <td>...</td>\n",
       "    </tr>\n",
       "    <tr>\n",
       "      <th>205</th>\n",
       "      <td>0.05332877848</td>\n",
       "      <td>-0.01295736107</td>\n",
       "      <td>-0.00004730868</td>\n",
       "      <td>0.00289900618</td>\n",
       "      <td>0.01559467580</td>\n",
       "    </tr>\n",
       "    <tr>\n",
       "      <th>206</th>\n",
       "      <td>-0.03425657248</td>\n",
       "      <td>0.00587704121</td>\n",
       "      <td>0.00003249365</td>\n",
       "      <td>-0.00186054533</td>\n",
       "      <td>-0.03376358109</td>\n",
       "    </tr>\n",
       "    <tr>\n",
       "      <th>207</th>\n",
       "      <td>0.02924887662</td>\n",
       "      <td>-0.01150075278</td>\n",
       "      <td>0.00032925948</td>\n",
       "      <td>0.00297023222</td>\n",
       "      <td>-0.00583072457</td>\n",
       "    </tr>\n",
       "    <tr>\n",
       "      <th>208</th>\n",
       "      <td>-0.01753053795</td>\n",
       "      <td>0.00900239012</td>\n",
       "      <td>-0.00133161031</td>\n",
       "      <td>-0.00525469468</td>\n",
       "      <td>0.00131749408</td>\n",
       "    </tr>\n",
       "    <tr>\n",
       "      <th>209</th>\n",
       "      <td>-0.00612101064</td>\n",
       "      <td>0.00218125551</td>\n",
       "      <td>-0.00231495631</td>\n",
       "      <td>-0.00096782625</td>\n",
       "      <td>-0.01147979645</td>\n",
       "    </tr>\n",
       "  </tbody>\n",
       "</table>\n",
       "<p>209 rows × 5 columns</p>\n",
       "</div>"
      ],
      "text/plain": [
       "                 0              1              2              3              4\n",
       "1    0.00000000000 -0.00119339657 -0.00068934580 -0.00027152069  0.00000000000\n",
       "2    0.01959401328 -0.01215400187 -0.00628852791 -0.00742234032  0.00000000000\n",
       "3   -0.01373667743  0.00184355005 -0.00541677063 -0.01191979082  0.00000000000\n",
       "4    0.00372696530  0.00131246107 -0.00774262480 -0.00473073734  0.00000000000\n",
       "5    0.00304296345 -0.00102097215 -0.00151737370 -0.00638264177  0.00000000000\n",
       "..             ...            ...            ...            ...            ...\n",
       "205  0.05332877848 -0.01295736107 -0.00004730868  0.00289900618  0.01559467580\n",
       "206 -0.03425657248  0.00587704121  0.00003249365 -0.00186054533 -0.03376358109\n",
       "207  0.02924887662 -0.01150075278  0.00032925948  0.00297023222 -0.00583072457\n",
       "208 -0.01753053795  0.00900239012 -0.00133161031 -0.00525469468  0.00131749408\n",
       "209 -0.00612101064  0.00218125551 -0.00231495631 -0.00096782625 -0.01147979645\n",
       "\n",
       "[209 rows x 5 columns]"
      ]
     },
     "execution_count": 145,
     "metadata": {},
     "output_type": "execute_result"
    }
   ],
   "source": [
    "alphadiff"
   ]
  },
  {
   "cell_type": "code",
   "execution_count": 146,
   "id": "b6d2c201-e38c-47b4-8044-e8d46db2b70f",
   "metadata": {},
   "outputs": [],
   "source": [
    "columnnames = {'0': 'alpha1', '1': 'alpha2', '2': 'alpha3', '3': 'alpha4', '4': 'alpha5'}"
   ]
  },
  {
   "cell_type": "code",
   "execution_count": 147,
   "id": "67386b45-cec5-4ac3-83c2-8477e693ed5e",
   "metadata": {
    "tags": []
   },
   "outputs": [],
   "source": [
    "alphadiff.rename(columns = columnnames, inplace=True)"
   ]
  },
  {
   "cell_type": "code",
   "execution_count": 148,
   "id": "91086d63-d01f-4c8d-9f3e-ef13bc4fb56e",
   "metadata": {},
   "outputs": [],
   "source": [
    "varcov = alphadiff.cov()"
   ]
  },
  {
   "cell_type": "code",
   "execution_count": 149,
   "id": "1b8601e6-8ef3-442a-89c7-543f5fb8ca46",
   "metadata": {},
   "outputs": [],
   "source": [
    "pd.set_option('display.float_format', lambda x: '%.11f' % x)"
   ]
  },
  {
   "cell_type": "code",
   "execution_count": 150,
   "id": "379842ca-0f75-4bab-b6ed-c743ffe55498",
   "metadata": {},
   "outputs": [
    {
     "data": {
      "text/html": [
       "<div>\n",
       "<style scoped>\n",
       "    .dataframe tbody tr th:only-of-type {\n",
       "        vertical-align: middle;\n",
       "    }\n",
       "\n",
       "    .dataframe tbody tr th {\n",
       "        vertical-align: top;\n",
       "    }\n",
       "\n",
       "    .dataframe thead th {\n",
       "        text-align: right;\n",
       "    }\n",
       "</style>\n",
       "<table border=\"1\" class=\"dataframe\">\n",
       "  <thead>\n",
       "    <tr style=\"text-align: right;\">\n",
       "      <th></th>\n",
       "      <th>alpha1</th>\n",
       "      <th>alpha2</th>\n",
       "      <th>alpha3</th>\n",
       "      <th>alpha4</th>\n",
       "      <th>alpha5</th>\n",
       "    </tr>\n",
       "  </thead>\n",
       "  <tbody>\n",
       "    <tr>\n",
       "      <th>alpha1</th>\n",
       "      <td>0.00022805626</td>\n",
       "      <td>-0.00008126533</td>\n",
       "      <td>0.00000239949</td>\n",
       "      <td>0.00000915210</td>\n",
       "      <td>-0.00001522078</td>\n",
       "    </tr>\n",
       "    <tr>\n",
       "      <th>alpha2</th>\n",
       "      <td>-0.00008126533</td>\n",
       "      <td>0.00009998439</td>\n",
       "      <td>-0.00002623875</td>\n",
       "      <td>-0.00000773631</td>\n",
       "      <td>-0.00000043530</td>\n",
       "    </tr>\n",
       "    <tr>\n",
       "      <th>alpha3</th>\n",
       "      <td>0.00000239949</td>\n",
       "      <td>-0.00002623875</td>\n",
       "      <td>0.00002351571</td>\n",
       "      <td>0.00000839250</td>\n",
       "      <td>0.00001874815</td>\n",
       "    </tr>\n",
       "    <tr>\n",
       "      <th>alpha4</th>\n",
       "      <td>0.00000915210</td>\n",
       "      <td>-0.00000773631</td>\n",
       "      <td>0.00000839250</td>\n",
       "      <td>0.00002804817</td>\n",
       "      <td>0.00002560018</td>\n",
       "    </tr>\n",
       "    <tr>\n",
       "      <th>alpha5</th>\n",
       "      <td>-0.00001522078</td>\n",
       "      <td>-0.00000043530</td>\n",
       "      <td>0.00001874815</td>\n",
       "      <td>0.00002560018</td>\n",
       "      <td>0.00017889639</td>\n",
       "    </tr>\n",
       "  </tbody>\n",
       "</table>\n",
       "</div>"
      ],
      "text/plain": [
       "               alpha1         alpha2         alpha3         alpha4  \\\n",
       "alpha1  0.00022805626 -0.00008126533  0.00000239949  0.00000915210   \n",
       "alpha2 -0.00008126533  0.00009998439 -0.00002623875 -0.00000773631   \n",
       "alpha3  0.00000239949 -0.00002623875  0.00002351571  0.00000839250   \n",
       "alpha4  0.00000915210 -0.00000773631  0.00000839250  0.00002804817   \n",
       "alpha5 -0.00001522078 -0.00000043530  0.00001874815  0.00002560018   \n",
       "\n",
       "               alpha5  \n",
       "alpha1 -0.00001522078  \n",
       "alpha2 -0.00000043530  \n",
       "alpha3  0.00001874815  \n",
       "alpha4  0.00002560018  \n",
       "alpha5  0.00017889639  "
      ]
     },
     "execution_count": 150,
     "metadata": {},
     "output_type": "execute_result"
    }
   ],
   "source": [
    "varcov"
   ]
  },
  {
   "cell_type": "code",
   "execution_count": 151,
   "id": "8f796226-04fb-403a-bda7-384b58ffec75",
   "metadata": {},
   "outputs": [],
   "source": [
    "varcov2 = sympy.Matrix(varcov.values)"
   ]
  },
  {
   "cell_type": "code",
   "execution_count": 152,
   "id": "2fd2596d-333d-4a94-b3c8-a22815f502cb",
   "metadata": {},
   "outputs": [],
   "source": [
    "calceigenvalues = varcov2.eigenvals() "
   ]
  },
  {
   "cell_type": "code",
   "execution_count": 153,
   "id": "dbdb1725-3ece-4e59-817d-c0b92b042e25",
   "metadata": {},
   "outputs": [],
   "source": [
    "eigenvalues = []\n",
    "for i in calceigenvalues:\n",
    "    eigenvalues.append(i)"
   ]
  },
  {
   "cell_type": "code",
   "execution_count": 154,
   "id": "54fb0035-8137-4d08-934c-afb33c4452ad",
   "metadata": {},
   "outputs": [],
   "source": [
    "eigenvalues.sort(reverse= True)"
   ]
  },
  {
   "cell_type": "code",
   "execution_count": 155,
   "id": "019eac37-2136-49d0-a5d5-44be90eee4de",
   "metadata": {},
   "outputs": [
    {
     "data": {
      "text/plain": [
       "[0.000270267460406596,\n",
       " 0.000185345994198844,\n",
       " 6.92479966323723e-5,\n",
       " 2.36578158831054e-5,\n",
       " 9.98165974576045e-6]"
      ]
     },
     "execution_count": 155,
     "metadata": {},
     "output_type": "execute_result"
    }
   ],
   "source": [
    "eigenvalues"
   ]
  },
  {
   "cell_type": "code",
   "execution_count": 156,
   "id": "b9d40b49-e7e3-490b-9e48-a79c05f8cb37",
   "metadata": {},
   "outputs": [],
   "source": [
    "eigenvectors = []\n",
    "for i in range(4,-1,-1):\n",
    "    calc = (varcov2.eigenvects()[i][2][0]) #Eigenvectors are organized from lowest to greatest associated eigenvalue\n",
    "    d= []\n",
    "    for j in range(0,5):\n",
    "        d.append(calc[j])\n",
    "    eigenvectors.append(d)"
   ]
  },
  {
   "cell_type": "code",
   "execution_count": 157,
   "id": "6f937368-861c-4a85-a67b-d1deb59a7367",
   "metadata": {},
   "outputs": [],
   "source": [
    "A = pd.DataFrame(eigenvectors).transpose()"
   ]
  },
  {
   "cell_type": "code",
   "execution_count": 158,
   "id": "3374bfee-9cf5-4fb2-b192-f286ae510c3f",
   "metadata": {},
   "outputs": [
    {
     "data": {
      "text/html": [
       "<div>\n",
       "<style scoped>\n",
       "    .dataframe tbody tr th:only-of-type {\n",
       "        vertical-align: middle;\n",
       "    }\n",
       "\n",
       "    .dataframe tbody tr th {\n",
       "        vertical-align: top;\n",
       "    }\n",
       "\n",
       "    .dataframe thead th {\n",
       "        text-align: right;\n",
       "    }\n",
       "</style>\n",
       "<table border=\"1\" class=\"dataframe\">\n",
       "  <thead>\n",
       "    <tr style=\"text-align: right;\">\n",
       "      <th></th>\n",
       "      <th>0</th>\n",
       "      <th>1</th>\n",
       "      <th>2</th>\n",
       "      <th>3</th>\n",
       "      <th>4</th>\n",
       "    </tr>\n",
       "  </thead>\n",
       "  <tbody>\n",
       "    <tr>\n",
       "      <th>0</th>\n",
       "      <td>0.0626260315277638</td>\n",
       "      <td>0.890352827414663</td>\n",
       "      <td>-0.431775882829697</td>\n",
       "      <td>0.0117478704908033</td>\n",
       "      <td>-0.129543033140980</td>\n",
       "    </tr>\n",
       "    <tr>\n",
       "      <th>1</th>\n",
       "      <td>-0.123919186434048</td>\n",
       "      <td>-0.433344255915067</td>\n",
       "      <td>-0.800838586887104</td>\n",
       "      <td>0.175550527864868</td>\n",
       "      <td>-0.353123719138169</td>\n",
       "    </tr>\n",
       "    <tr>\n",
       "      <th>2</th>\n",
       "      <td>0.141795409486756</td>\n",
       "      <td>0.0463220617475552</td>\n",
       "      <td>0.387831086015843</td>\n",
       "      <td>0.197833269196064</td>\n",
       "      <td>-0.887804806679322</td>\n",
       "    </tr>\n",
       "    <tr>\n",
       "      <th>3</th>\n",
       "      <td>0.174274616382160</td>\n",
       "      <td>0.0356910899060476</td>\n",
       "      <td>0.0463224307663882</td>\n",
       "      <td>0.947647292372982</td>\n",
       "      <td>0.261100260153488</td>\n",
       "    </tr>\n",
       "    <tr>\n",
       "      <th>4</th>\n",
       "      <td>0.964491801593949</td>\n",
       "      <td>-0.126747825531270</td>\n",
       "      <td>-0.140244165251059</td>\n",
       "      <td>-0.178523406203925</td>\n",
       "      <td>0.0463844902045418</td>\n",
       "    </tr>\n",
       "  </tbody>\n",
       "</table>\n",
       "</div>"
      ],
      "text/plain": [
       "                    0                   1                   2  \\\n",
       "0  0.0626260315277638   0.890352827414663  -0.431775882829697   \n",
       "1  -0.123919186434048  -0.433344255915067  -0.800838586887104   \n",
       "2   0.141795409486756  0.0463220617475552   0.387831086015843   \n",
       "3   0.174274616382160  0.0356910899060476  0.0463224307663882   \n",
       "4   0.964491801593949  -0.126747825531270  -0.140244165251059   \n",
       "\n",
       "                    3                   4  \n",
       "0  0.0117478704908033  -0.129543033140980  \n",
       "1   0.175550527864868  -0.353123719138169  \n",
       "2   0.197833269196064  -0.887804806679322  \n",
       "3   0.947647292372982   0.261100260153488  \n",
       "4  -0.178523406203925  0.0463844902045418  "
      ]
     },
     "execution_count": 158,
     "metadata": {},
     "output_type": "execute_result"
    }
   ],
   "source": [
    "A"
   ]
  },
  {
   "cell_type": "code",
   "execution_count": 159,
   "id": "68180a34-eee5-449e-a05b-4be53d510196",
   "metadata": {},
   "outputs": [],
   "source": [
    "sqeigenvalues = [msqrt(i) for i in eigenvalues]"
   ]
  },
  {
   "cell_type": "code",
   "execution_count": 160,
   "id": "f883e162-2a75-492c-80da-15c06e349170",
   "metadata": {},
   "outputs": [
    {
     "data": {
      "text/html": [
       "<div>\n",
       "<style scoped>\n",
       "    .dataframe tbody tr th:only-of-type {\n",
       "        vertical-align: middle;\n",
       "    }\n",
       "\n",
       "    .dataframe tbody tr th {\n",
       "        vertical-align: top;\n",
       "    }\n",
       "\n",
       "    .dataframe thead th {\n",
       "        text-align: right;\n",
       "    }\n",
       "</style>\n",
       "<table border=\"1\" class=\"dataframe\">\n",
       "  <thead>\n",
       "    <tr style=\"text-align: right;\">\n",
       "      <th></th>\n",
       "      <th>0</th>\n",
       "      <th>1</th>\n",
       "      <th>2</th>\n",
       "      <th>3</th>\n",
       "      <th>4</th>\n",
       "    </tr>\n",
       "  </thead>\n",
       "  <tbody>\n",
       "    <tr>\n",
       "      <th>0</th>\n",
       "      <td>0.00102956026426067</td>\n",
       "      <td>0.0121214268319146</td>\n",
       "      <td>-0.00359303946696056</td>\n",
       "      <td>5.71408207285932e-5</td>\n",
       "      <td>-0.000409275212122835</td>\n",
       "    </tr>\n",
       "    <tr>\n",
       "      <th>1</th>\n",
       "      <td>-0.00203720828575007</td>\n",
       "      <td>-0.00589962824777845</td>\n",
       "      <td>-0.00666420882633046</td>\n",
       "      <td>0.000853865494124159</td>\n",
       "      <td>-0.00111565077296433</td>\n",
       "    </tr>\n",
       "    <tr>\n",
       "      <th>2</th>\n",
       "      <td>0.00233109005473888</td>\n",
       "      <td>0.000630637051838011</td>\n",
       "      <td>0.00322735116523109</td>\n",
       "      <td>0.000962247190087202</td>\n",
       "      <td>-0.00280490962552896</td>\n",
       "    </tr>\n",
       "    <tr>\n",
       "      <th>3</th>\n",
       "      <td>0.00286504215131049</td>\n",
       "      <td>0.000485905049690997</td>\n",
       "      <td>0.000385473873293725</td>\n",
       "      <td>0.00460929017644617</td>\n",
       "      <td>0.000824914020990613</td>\n",
       "    </tr>\n",
       "    <tr>\n",
       "      <th>4</th>\n",
       "      <td>0.0158560651202382</td>\n",
       "      <td>-0.00172556816351417</td>\n",
       "      <td>-0.00116704716682091</td>\n",
       "      <td>-0.000868325366520008</td>\n",
       "      <td>0.000146546067413856</td>\n",
       "    </tr>\n",
       "  </tbody>\n",
       "</table>\n",
       "</div>"
      ],
      "text/plain": [
       "                      0                     1                     2  \\\n",
       "0   0.00102956026426067    0.0121214268319146  -0.00359303946696056   \n",
       "1  -0.00203720828575007  -0.00589962824777845  -0.00666420882633046   \n",
       "2   0.00233109005473888  0.000630637051838011   0.00322735116523109   \n",
       "3   0.00286504215131049  0.000485905049690997  0.000385473873293725   \n",
       "4    0.0158560651202382  -0.00172556816351417  -0.00116704716682091   \n",
       "\n",
       "                       3                      4  \n",
       "0    5.71408207285932e-5  -0.000409275212122835  \n",
       "1   0.000853865494124159   -0.00111565077296433  \n",
       "2   0.000962247190087202   -0.00280490962552896  \n",
       "3    0.00460929017644617   0.000824914020990613  \n",
       "4  -0.000868325366520008   0.000146546067413856  "
      ]
     },
     "execution_count": 160,
     "metadata": {},
     "output_type": "execute_result"
    }
   ],
   "source": [
    "B = A.mul(sqeigenvalues)\n",
    "B"
   ]
  },
  {
   "cell_type": "code",
   "execution_count": 132,
   "id": "fd54cc1a-bd10-4dfd-aca9-8e9f9c18c86b",
   "metadata": {},
   "outputs": [
    {
     "data": {
      "text/plain": [
       "Text(0.5, 1.0, 'Components')"
      ]
     },
     "execution_count": 132,
     "metadata": {},
     "output_type": "execute_result"
    },
    {
     "data": {
      "image/png": "[encoded data removed]",
      "text/plain": [
       "<Figure size 1000x1000 with 1 Axes>"
      ]
     },
     "metadata": {},
     "output_type": "display_data"
    }
   ],
   "source": [
    "plt.step(y = B.loc[0,:], x = [0,0.33,1,3,5], label = \"comp1\", linestyle = \":\")\n",
    "plt.step(y = B.loc[1,:], x = [0,0.33,1,3,5], label = \"comp2\", linestyle = \"-.\")\n",
    "plt.step(y = B.loc[2,:], x = [0,0.33,1,3,5], label = \"comp3\", linestyle = \"--\")\n",
    "plt.style.use('seaborn-whitegrid')\n",
    "plt.rcParams.update({'figure.figsize':(8,8), 'figure.dpi':100})\n",
    "plt.legend(title='Parameter where:')\n",
    "plt.title('Components')"
   ]
  },
  {
   "cell_type": "code",
   "execution_count": null,
   "id": "872d84cd-a46f-4169-b43c-ec74ddcd66b8",
   "metadata": {},
   "outputs": [],
   "source": []
  },
  {
   "cell_type": "code",
   "execution_count": 108,
   "id": "7e2c2098-808c-4365-9b1a-fe0d803191a5",
   "metadata": {},
   "outputs": [
    {
     "data": {
      "text/plain": [
       "5"
      ]
     },
     "execution_count": 108,
     "metadata": {},
     "output_type": "execute_result"
    }
   ],
   "source": [
    "len(B.loc[0,:])"
   ]
  },
  {
   "cell_type": "code",
   "execution_count": 109,
   "id": "7ba59319-bbdb-4bb4-9b62-13e8838421d4",
   "metadata": {},
   "outputs": [],
   "source": []
  },
  {
   "cell_type": "code",
   "execution_count": 85,
   "id": "c3f1fb54-1e8e-4b94-af7d-965e0e6a4306",
   "metadata": {},
   "outputs": [],
   "source": [
    "X=alphadiff"
   ]
  },
  {
   "cell_type": "code",
   "execution_count": 86,
   "id": "b36b9193-20b1-4460-8b7f-24454183bff7",
   "metadata": {},
   "outputs": [
    {
     "data": {
      "text/html": [
       "<div>\n",
       "<style scoped>\n",
       "    .dataframe tbody tr th:only-of-type {\n",
       "        vertical-align: middle;\n",
       "    }\n",
       "\n",
       "    .dataframe tbody tr th {\n",
       "        vertical-align: top;\n",
       "    }\n",
       "\n",
       "    .dataframe thead th {\n",
       "        text-align: right;\n",
       "    }\n",
       "</style>\n",
       "<table border=\"1\" class=\"dataframe\">\n",
       "  <thead>\n",
       "    <tr style=\"text-align: right;\">\n",
       "      <th></th>\n",
       "      <th>alpha1</th>\n",
       "      <th>alpha2</th>\n",
       "      <th>alpha3</th>\n",
       "      <th>alpha4</th>\n",
       "      <th>alpha5</th>\n",
       "    </tr>\n",
       "  </thead>\n",
       "  <tbody>\n",
       "    <tr>\n",
       "      <th>1</th>\n",
       "      <td>0.00000000000</td>\n",
       "      <td>-0.00119339657</td>\n",
       "      <td>-0.00068934580</td>\n",
       "      <td>-0.00027152069</td>\n",
       "      <td>0.00000000000</td>\n",
       "    </tr>\n",
       "    <tr>\n",
       "      <th>2</th>\n",
       "      <td>0.01959401328</td>\n",
       "      <td>-0.01215400187</td>\n",
       "      <td>-0.00628852791</td>\n",
       "      <td>-0.00742234032</td>\n",
       "      <td>0.00000000000</td>\n",
       "    </tr>\n",
       "    <tr>\n",
       "      <th>3</th>\n",
       "      <td>-0.01373667743</td>\n",
       "      <td>0.00184355005</td>\n",
       "      <td>-0.00541677063</td>\n",
       "      <td>-0.01191979082</td>\n",
       "      <td>0.00000000000</td>\n",
       "    </tr>\n",
       "    <tr>\n",
       "      <th>4</th>\n",
       "      <td>0.00372696530</td>\n",
       "      <td>0.00131246107</td>\n",
       "      <td>-0.00774262480</td>\n",
       "      <td>-0.00473073734</td>\n",
       "      <td>0.00000000000</td>\n",
       "    </tr>\n",
       "    <tr>\n",
       "      <th>5</th>\n",
       "      <td>0.00304296345</td>\n",
       "      <td>-0.00102097215</td>\n",
       "      <td>-0.00151737370</td>\n",
       "      <td>-0.00638264177</td>\n",
       "      <td>0.00000000000</td>\n",
       "    </tr>\n",
       "    <tr>\n",
       "      <th>...</th>\n",
       "      <td>...</td>\n",
       "      <td>...</td>\n",
       "      <td>...</td>\n",
       "      <td>...</td>\n",
       "      <td>...</td>\n",
       "    </tr>\n",
       "    <tr>\n",
       "      <th>205</th>\n",
       "      <td>0.05332877848</td>\n",
       "      <td>-0.01295736107</td>\n",
       "      <td>-0.00004730868</td>\n",
       "      <td>0.00289900618</td>\n",
       "      <td>0.01559467580</td>\n",
       "    </tr>\n",
       "    <tr>\n",
       "      <th>206</th>\n",
       "      <td>-0.03425657248</td>\n",
       "      <td>0.00587704121</td>\n",
       "      <td>0.00003249365</td>\n",
       "      <td>-0.00186054533</td>\n",
       "      <td>-0.03376358109</td>\n",
       "    </tr>\n",
       "    <tr>\n",
       "      <th>207</th>\n",
       "      <td>0.02924887662</td>\n",
       "      <td>-0.01150075278</td>\n",
       "      <td>0.00032925948</td>\n",
       "      <td>0.00297023222</td>\n",
       "      <td>-0.00583072457</td>\n",
       "    </tr>\n",
       "    <tr>\n",
       "      <th>208</th>\n",
       "      <td>-0.01753053795</td>\n",
       "      <td>0.00900239012</td>\n",
       "      <td>-0.00133161031</td>\n",
       "      <td>-0.00525469468</td>\n",
       "      <td>0.00131749408</td>\n",
       "    </tr>\n",
       "    <tr>\n",
       "      <th>209</th>\n",
       "      <td>-0.00612101064</td>\n",
       "      <td>0.00218125551</td>\n",
       "      <td>-0.00231495631</td>\n",
       "      <td>-0.00096782625</td>\n",
       "      <td>-0.01147979645</td>\n",
       "    </tr>\n",
       "  </tbody>\n",
       "</table>\n",
       "<p>209 rows × 5 columns</p>\n",
       "</div>"
      ],
      "text/plain": [
       "            alpha1         alpha2         alpha3         alpha4         alpha5\n",
       "1    0.00000000000 -0.00119339657 -0.00068934580 -0.00027152069  0.00000000000\n",
       "2    0.01959401328 -0.01215400187 -0.00628852791 -0.00742234032  0.00000000000\n",
       "3   -0.01373667743  0.00184355005 -0.00541677063 -0.01191979082  0.00000000000\n",
       "4    0.00372696530  0.00131246107 -0.00774262480 -0.00473073734  0.00000000000\n",
       "5    0.00304296345 -0.00102097215 -0.00151737370 -0.00638264177  0.00000000000\n",
       "..             ...            ...            ...            ...            ...\n",
       "205  0.05332877848 -0.01295736107 -0.00004730868  0.00289900618  0.01559467580\n",
       "206 -0.03425657248  0.00587704121  0.00003249365 -0.00186054533 -0.03376358109\n",
       "207  0.02924887662 -0.01150075278  0.00032925948  0.00297023222 -0.00583072457\n",
       "208 -0.01753053795  0.00900239012 -0.00133161031 -0.00525469468  0.00131749408\n",
       "209 -0.00612101064  0.00218125551 -0.00231495631 -0.00096782625 -0.01147979645\n",
       "\n",
       "[209 rows x 5 columns]"
      ]
     },
     "execution_count": 86,
     "metadata": {},
     "output_type": "execute_result"
    }
   ],
   "source": [
    "X"
   ]
  },
  {
   "cell_type": "code",
   "execution_count": null,
   "id": "667e2c1f-9338-4fa9-aa90-6693055703a7",
   "metadata": {},
   "outputs": [],
   "source": []
  }
 ],
 "metadata": {
  "kernelspec": {
   "display_name": "Python 3 (ipykernel)",
   "language": "python",
   "name": "python3"
  },
  "language_info": {
   "codemirror_mode": {
    "name": "ipython",
    "version": 3
   },
   "file_extension": ".py",
   "mimetype": "text/x-python",
   "name": "python",
   "nbconvert_exporter": "python",
   "pygments_lexer": "ipython3",
   "version": "3.9.7"
  }
 },
 "nbformat": 4,
 "nbformat_minor": 5
}
