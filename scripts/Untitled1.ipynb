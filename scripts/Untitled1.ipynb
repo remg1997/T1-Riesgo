{
 "cells": [
  {
   "cell_type": "code",
   "execution_count": 1,
   "id": "bdaa0594-2894-4dd9-9180-eb960a5e7409",
   "metadata": {},
   "outputs": [],
   "source": [
    "import time\n",
    "import numpy as np\n",
    "import pandas as pd\n",
    "import multiprocessing\n",
    "import matplotlib.pyplot as plt\n",
    "import helpers as helpers\n",
    "from scipy.optimize import minimize, show_options, basinhopping, differential_evolution, brute"
   ]
  },
  {
   "cell_type": "markdown",
   "id": "abcb77c6-db2f-419c-b0cd-0c480072a093",
   "metadata": {},
   "source": [
    "#### Empecemos por cargar los datos"
   ]
  },
  {
   "cell_type": "code",
   "execution_count": 2,
   "id": "e855ea57-92fe-4ec3-a7df-e5f7f9701205",
   "metadata": {},
   "outputs": [],
   "source": [
    "path = \"../data/data.xlsx\""
   ]
  },
  {
   "cell_type": "code",
   "execution_count": 3,
   "id": "bdaa34da-b002-4f12-8f14-3e5919a2c388",
   "metadata": {},
   "outputs": [],
   "source": [
    "df = helpers.dataframe(path)"
   ]
  },
  {
   "cell_type": "code",
   "execution_count": 4,
   "id": "86adfecd-97bd-46dc-9323-f687bc5b0d8d",
   "metadata": {},
   "outputs": [],
   "source": [
    "firstyields = df[df.index == \"2022-02-11\"]"
   ]
  },
  {
   "cell_type": "code",
   "execution_count": 5,
   "id": "d2d298e2-4185-4ca4-b457-b8729e82a519",
   "metadata": {},
   "outputs": [],
   "source": [
    "today = firstyields.index"
   ]
  },
  {
   "cell_type": "code",
   "execution_count": 6,
   "id": "6f08be5b-1a75-423a-8481-39137f2b2991",
   "metadata": {},
   "outputs": [
    {
     "data": {
      "text/plain": [
       "DatetimeIndex(['2022-02-11'], dtype='datetime64[ns]', name='Date', freq=None)"
      ]
     },
     "execution_count": 6,
     "metadata": {},
     "output_type": "execute_result"
    }
   ],
   "source": [
    "today"
   ]
  },
  {
   "cell_type": "markdown",
   "id": "2eb90e9f-883f-46e8-94a8-32c2aa45ba82",
   "metadata": {},
   "source": [
    "#### Partimos de un vector de alphas (nuestra curva), creada al azar"
   ]
  },
  {
   "cell_type": "code",
   "execution_count": 7,
   "id": "cbd3213f-08de-45f5-b12e-a2e8530cffd6",
   "metadata": {},
   "outputs": [],
   "source": [
    "alphas = (0.1,0.11,0.12,0.13,0.14)"
   ]
  },
  {
   "cell_type": "markdown",
   "id": "42d33d71-1c6d-4534-9f20-b4ca8af3993c",
   "metadata": {},
   "source": [
    "#### Suponemos que: \n",
    "- $\\alpha_1$ representa la tasa forward entre 0 y 3 meses, \n",
    "- $\\alpha_2$ la tasa entre 3 meses y 1 año, \n",
    "- $\\alpha_3$ la tasa entre 1 y 3 años,\n",
    "- $\\alpha_4$ la tasa entre 3 y 5 años ,\n",
    "- $\\alpha_5$ la tasa entre 5 y 10 años."
   ]
  },
  {
   "cell_type": "markdown",
   "id": "ad9e14c4-772d-452e-87d6-631e695fe34e",
   "metadata": {},
   "source": [
    "#### Ahora bien, para valorar un bono, se sigue que:"
   ]
  },
  {
   "cell_type": "markdown",
   "id": "7080a27d-7be1-480c-a034-560a785c4795",
   "metadata": {},
   "source": [
    "$$ \\sum_{i=1}^{T} \\frac{(C \\% *100)}{{(1+y_i)}^{t_i}} + \\frac {N}{{(1+y_i)}^{T}}$$ "
   ]
  },
  {
   "cell_type": "markdown",
   "id": "f03c1b3d-1b7a-43ca-9652-739909f62b11",
   "metadata": {},
   "source": [
    "#### Además, para traer a valor presente usando una curva forward, se sigue el factor de descuento a un plazo T es: "
   ]
  },
  {
   "cell_type": "markdown",
   "id": "672de528-012f-49db-8bcb-2e1a72d451e7",
   "metadata": {},
   "source": [
    "### $$ e^{-\\int_{0}^{T} f(t) \\,dt}$$"
   ]
  },
  {
   "cell_type": "markdown",
   "id": "7b564185-5e86-4fb8-9a0b-9e66cfb41f07",
   "metadata": {},
   "source": [
    "#### Con lo anterior, para valorar un bono para el taller, se sigue que:\n",
    "$$ \\sum_{i=1}^{T} (C \\% *100)*e^{-\\int_{0}^{T} f(t) \\,dt} +  {N}*{e^{-\\int_{0}^{T} f(t) \\,dt}}$$ "
   ]
  },
  {
   "cell_type": "markdown",
   "id": "73b2a9f3-21cd-4f01-8dc7-5d09d700279a",
   "metadata": {},
   "source": [
    "#### Así, para convertir las tasas anualizadas utilzaremos la siguiente función:"
   ]
  },
  {
   "cell_type": "code",
   "execution_count": 8,
   "id": "fe3cfc81-8fab-427a-9bbd-1b5f0d3e06c1",
   "metadata": {},
   "outputs": [],
   "source": [
    "def rateconverter(rate, T, today):\n",
    "    \"\"\"\n",
    "    Returns a converted interest rate, for a desired maturity.\n",
    "    Parameters:\n",
    "        rate: yearly interest rate\n",
    "        T: maturity in months\n",
    "        today: current date, expressed as a DateTimeIndex\n",
    "    \"\"\"\n",
    "    days = (today[0].date()+relativedelta(months=T) - today[0].date()).days\n",
    "    newrate = rate*days/360\n",
    "    return round(newrate,decimals = 5)"
   ]
  },
  {
   "cell_type": "markdown",
   "id": "3ce9fc53-28d4-4fd6-be37-220cfe72085b",
   "metadata": {},
   "source": [
    "#### Y para hallar los factores de descuento, asumiendo una curva constante a trozos:"
   ]
  },
  {
   "cell_type": "code",
   "execution_count": 9,
   "id": "7ac14df7-92e0-4b4d-b750-d4cf1586e8f3",
   "metadata": {},
   "outputs": [],
   "source": [
    "def discountfactor(curve, T):\n",
    "    \"\"\"\n",
    "    Returns the discount factor for a given maturity and forward curve, assuming a constant stepwise curve \n",
    "    Parameters:\n",
    "        curve: forward curve\n",
    "        T: maturity in months\n",
    "    \"\"\"\n",
    "    intervals_r=[3,12,36,60,120]\n",
    "    intervals_l=[0,3,12,36,60]\n",
    "    mask = [(t<=T) for t in intervals_l]\n",
    "    minimum = np.minimum(T, intervals_r)\n",
    "    areas = ((minimum-intervals_l)/12)*curve*mask\n",
    "    totalarea = np.sum(areas)\n",
    "    print(totalarea)\n",
    "    discountfactor = np.exp(-totalarea)\n",
    "    return discountfactor"
   ]
  },
  {
   "cell_type": "code",
   "execution_count": 10,
   "id": "d527ee8e-6852-4763-8489-659a745a8f85",
   "metadata": {},
   "outputs": [
    {
     "name": "stdout",
     "output_type": "stream",
     "text": [
      "0.10750000000000001\n"
     ]
    },
    {
     "data": {
      "text/plain": [
       "0.8980765224508025"
      ]
     },
     "execution_count": 10,
     "metadata": {},
     "output_type": "execute_result"
    }
   ],
   "source": [
    "discountfactor(alphas, 12)"
   ]
  },
  {
   "cell_type": "code",
   "execution_count": 8,
   "id": "8de3300b-f40b-4ee6-b451-5881665c56d3",
   "metadata": {},
   "outputs": [
    {
     "data": {
      "text/plain": [
       "0.9488543210558013"
      ]
     },
     "execution_count": 8,
     "metadata": {},
     "output_type": "execute_result"
    }
   ],
   "source": [
    "helpers.discountfactor(alphas, 6)"
   ]
  },
  {
   "cell_type": "code",
   "execution_count": 9,
   "id": "a59f66e2-32bc-4f24-a5a7-d60d38904cdf",
   "metadata": {},
   "outputs": [
    {
     "data": {
      "text/plain": [
       "100.08421345670016"
      ]
     },
     "execution_count": 9,
     "metadata": {},
     "output_type": "execute_result"
    }
   ],
   "source": [
    "tmb = 100 +helpers.rateconverter(firstyields[\"3M\"][0], 3 , today)*helpers.discountfactor(alphas, 6)\n",
    "tmb"
   ]
  },
  {
   "cell_type": "markdown",
   "id": "6fd88cdc-ca41-4012-b28b-9d1051cb5525",
   "metadata": {},
   "source": [
    "#### Miremos cómo se comporta la función para el factor de descuento:"
   ]
  },
  {
   "cell_type": "code",
   "execution_count": 10,
   "id": "59fdefd2-c50f-4f13-afc6-b2ef1161a300",
   "metadata": {},
   "outputs": [],
   "source": [
    "alphas = np.arange (0.1,0.6,.01)\n",
    "maturities = np.arange(1,51,1)\n",
    "discounts = list(map(helpers.discountfactor, alphas, maturities))"
   ]
  },
  {
   "cell_type": "code",
   "execution_count": 11,
   "id": "826cbb31-50ad-47fe-a59e-acfa49ac6868",
   "metadata": {},
   "outputs": [
    {
     "data": {
      "text/plain": [
       "[<matplotlib.lines.Line2D at 0x7fe530927ca0>]"
      ]
     },
     "execution_count": 11,
     "metadata": {},
     "output_type": "execute_result"
    },
    {
     "data": {
      "image/png": "[encoded data removed]",
      "text/plain": [
       "<Figure size 700x500 with 1 Axes>"
      ]
     },
     "metadata": {},
     "output_type": "display_data"
    }
   ],
   "source": [
    "plt.style.use('seaborn-whitegrid')\n",
    "plt.rcParams.update({'figure.figsize':(7,5), 'figure.dpi':100})\n",
    "plt.xlabel('Maturities')\n",
    "plt.ylabel('Discount Factors')\n",
    "plt.title('Factores de Descuento a Diez Años')\n",
    "plt.plot(maturities,discounts)"
   ]
  },
  {
   "cell_type": "markdown",
   "id": "7dc77ffe-72aa-4641-834a-f90372914909",
   "metadata": {},
   "source": [
    "#### Ahora definamos la función de pagos para un bono específico:"
   ]
  },
  {
   "cell_type": "code",
   "execution_count": 15,
   "id": "588969e6-46a3-4d4e-976f-131b1f61b5f0",
   "metadata": {},
   "outputs": [],
   "source": [
    "alphas2 = [0.07853351, 0.08539753, 0.04942368, 0.08465615, 0.0079]"
   ]
  },
  {
   "cell_type": "code",
   "execution_count": 25,
   "id": "5cfb4a3f-4bad-4b15-8fcc-55b5a0abbaf6",
   "metadata": {},
   "outputs": [],
   "source": [
    "def singlebondpayment(T, rate, alpha, today):\n",
    "    return helpers.rateconverter(rate, T, today)*helpers.discountfactor(alpha, T)"
   ]
  },
  {
   "cell_type": "markdown",
   "id": "1e8e142e-4356-455d-a4fa-a140f0f12666",
   "metadata": {},
   "source": [
    "#### Generalizando para cualquier bono:"
   ]
  },
  {
   "cell_type": "code",
   "execution_count": 27,
   "id": "d4b87859-2abe-4e9e-8691-9c63bc213971",
   "metadata": {},
   "outputs": [],
   "source": [
    "def bondvalue(today, T, rates, alpha):\n",
    "    if T == 3:\n",
    "        return singlebondpayment(3, rates[\"3M\"][0], alpha, today) + 100*helpers.discountfactor(alpha , T)\n",
    "    else:\n",
    "        maturitynames = [i for i in rates.columns]\n",
    "        maturitydates = [3,6,12,24,36,60,84,120]\n",
    "        maturitydict = {maturitydates[i]: maturitynames[i] for i in range(len(maturitynames))}\n",
    "        periods = np.arange(6,T+6,6)\n",
    "        bondpayments= np.array([singlebondpayment(i, rate = rates[maturitydict[T]][0], today = today, alpha = alphas) for i in periods])\n",
    "        sumpayments = np.sum(bondpayments) \n",
    "        return sumpayments + 100*helpers.discountfactor(alpha, T)"
   ]
  },
  {
   "cell_type": "code",
   "execution_count": 214,
   "id": "1cac2f82-98c4-43b3-b92d-ca6f31dc9db3",
   "metadata": {},
   "outputs": [
    {
     "data": {
      "text/plain": [
       "97.61755266671997"
      ]
     },
     "execution_count": 214,
     "metadata": {},
     "output_type": "execute_result"
    }
   ],
   "source": [
    "bondvalue(today, 3, firstyields, alphas)"
   ]
  },
  {
   "cell_type": "code",
   "execution_count": 215,
   "id": "bc0035c2-84ed-4a73-afdd-03162c828d44",
   "metadata": {},
   "outputs": [
    {
     "data": {
      "text/html": [
       "<div>\n",
       "<style scoped>\n",
       "    .dataframe tbody tr th:only-of-type {\n",
       "        vertical-align: middle;\n",
       "    }\n",
       "\n",
       "    .dataframe tbody tr th {\n",
       "        vertical-align: top;\n",
       "    }\n",
       "\n",
       "    .dataframe thead th {\n",
       "        text-align: right;\n",
       "    }\n",
       "</style>\n",
       "<table border=\"1\" class=\"dataframe\">\n",
       "  <thead>\n",
       "    <tr style=\"text-align: right;\">\n",
       "      <th></th>\n",
       "      <th>10Y</th>\n",
       "      <th>7Y</th>\n",
       "      <th>5Y</th>\n",
       "      <th>3Y</th>\n",
       "      <th>2Y</th>\n",
       "      <th>1Y</th>\n",
       "      <th>6M</th>\n",
       "      <th>3M</th>\n",
       "    </tr>\n",
       "    <tr>\n",
       "      <th>Date</th>\n",
       "      <th></th>\n",
       "      <th></th>\n",
       "      <th></th>\n",
       "      <th></th>\n",
       "      <th></th>\n",
       "      <th></th>\n",
       "      <th></th>\n",
       "      <th></th>\n",
       "    </tr>\n",
       "  </thead>\n",
       "  <tbody>\n",
       "    <tr>\n",
       "      <th>2022-02-11</th>\n",
       "      <td>1.941</td>\n",
       "      <td>1.94</td>\n",
       "      <td>1.856</td>\n",
       "      <td>1.728</td>\n",
       "      <td>1.505</td>\n",
       "      <td>1.029</td>\n",
       "      <td>0.692</td>\n",
       "      <td>0.359</td>\n",
       "    </tr>\n",
       "  </tbody>\n",
       "</table>\n",
       "</div>"
      ],
      "text/plain": [
       "              10Y    7Y     5Y     3Y     2Y     1Y     6M     3M\n",
       "Date                                                             \n",
       "2022-02-11  1.941  1.94  1.856  1.728  1.505  1.029  0.692  0.359"
      ]
     },
     "execution_count": 215,
     "metadata": {},
     "output_type": "execute_result"
    }
   ],
   "source": [
    "firstyields"
   ]
  },
  {
   "cell_type": "markdown",
   "id": "7bbe7822-7d81-4082-a004-5fb8795314a4",
   "metadata": {},
   "source": [
    "#### Definamos el error como la diferencia de los cuadrados"
   ]
  },
  {
   "cell_type": "code",
   "execution_count": 237,
   "id": "5ae84f68-3b3d-4219-b404-8e016da28554",
   "metadata": {},
   "outputs": [],
   "source": [
    "def error(alpha):\n",
    "    maturitydates = [3,6,12,24,36,60,84,120]\n",
    "    bondvalues = [bondvalue(today, i, firstyields, alpha) for i in maturitydates]\n",
    "    errorval= np.sum(np.abs(np.subtract(100,bondvalues)))\n",
    "    return errorval"
   ]
  },
  {
   "cell_type": "markdown",
   "id": "3e0f8a42-57fb-429d-9519-f419746e9eac",
   "metadata": {},
   "source": [
    "#### Podemos minimizar esta función con respecto a los parámetros "
   ]
  },
  {
   "cell_type": "code",
   "execution_count": 35,
   "id": "b5c8aecb-198e-4fa6-81de-c6f456a85bd7",
   "metadata": {},
   "outputs": [
    {
     "name": "stdout",
     "output_type": "stream",
     "text": [
      "9.189744772682673 [0.12104214 0.19954794 0.14989033 0.11590815 0.12478853]\n",
      "7.731168431842832 [0.10400356 0.133036   0.17164897 0.16197918 0.13114437]\n",
      "4.086209501820136 [0.14562989 0.11980872 0.19727529 0.17611479 0.17343718]\n",
      "3.9200763502088023 [0.16850882 0.13250518 0.19575581 0.1606836  0.10102819]\n",
      "3.5655215547909194 [0.12162346 0.17919055 0.12832388 0.19062333 0.10658798]\n"
     ]
    }
   ],
   "source": [
    "func = 10000000\n",
    "a = []\n",
    "for i in range(100):\n",
    "    alphas = np.random.uniform(low = 0.1, high = 0.2, size = 5)\n",
    "    res = minimize(error, alphas, bounds = ((0,.3),(0,.3),(0,.3),(0,.3),(0,.3)))\n",
    "    if res.fun < func:\n",
    "        func = res.fun\n",
    "        a.append(np.array(alphas))\n",
    "        print(func, alphas)\n",
    "    else:\n",
    "        continue"
   ]
  },
  {
   "cell_type": "code",
   "execution_count": 36,
   "id": "669c878a-7c11-4c12-9ec2-136f923c0bc0",
   "metadata": {},
   "outputs": [],
   "source": [
    "alpha1 = []\n",
    "alpha2 =[]\n",
    "alpha3 =[]\n",
    "alpha4=[]\n",
    "alpha5=[]\n",
    "for i in a:\n",
    "    alpha1.append(i[0])\n",
    "    alpha2.append(i[1])\n",
    "    alpha3.append(i[2])\n",
    "    alpha4.append(i[3])\n",
    "    alpha5.append(i[4])"
   ]
  },
  {
   "cell_type": "code",
   "execution_count": 37,
   "id": "62720a23-1cc4-4d1a-93d4-bd6ab749d95b",
   "metadata": {},
   "outputs": [
    {
     "data": {
      "text/plain": [
       "Text(0.5, 1.0, 'Alpha Vol')"
      ]
     },
     "execution_count": 37,
     "metadata": {},
     "output_type": "execute_result"
    },
    {
     "data": {
      "image/png": "[encoded data removed]",
      "text/plain": [
       "<Figure size 700x500 with 1 Axes>"
      ]
     },
     "metadata": {},
     "output_type": "display_data"
    }
   ],
   "source": [
    "plt.plot([alpha1,alpha2, alpha3, alpha4,alpha5])\n",
    "plt.title(\"Alpha Vol\")"
   ]
  },
  {
   "cell_type": "code",
   "execution_count": 182,
   "id": "c15ec819-3188-4209-9632-f4fac0162e09",
   "metadata": {},
   "outputs": [
    {
     "data": {
      "text/plain": [
       "array([0.12162346, 0.17919055, 0.12832388, 0.19062333, 0.10658798])"
      ]
     },
     "execution_count": 182,
     "metadata": {},
     "output_type": "execute_result"
    }
   ],
   "source": [
    "a[-1] # Usaremos este vector de alphas como el que optimiza"
   ]
  },
  {
   "cell_type": "markdown",
   "id": "d152577b-5e46-4290-b8b9-5ddc3c561d47",
   "metadata": {},
   "source": [
    "#### Usemos estos valores para calcular el valor del cupón que valora a par"
   ]
  },
  {
   "cell_type": "code",
   "execution_count": 234,
   "id": "80866bb8-ddf2-4dd5-bd6e-53be610d17bc",
   "metadata": {},
   "outputs": [],
   "source": [
    "alphas = [0.12162346, 0.17919055, 0.12832388, 0.19062333, 0.10658798]"
   ]
  },
  {
   "cell_type": "code",
   "execution_count": null,
   "id": "85ce7e57-ea42-4271-b644-3ce0a1c375c7",
   "metadata": {},
   "outputs": [],
   "source": [
    "# Sabemos que para valorar a par, el valor final del bono debe ser 100, y esto a su vez debe equivaler a la suma de los bonos traidos a valor presente más el nocional que se paga en el último periodo también traido a valor presente\n",
    "100 = helpers.discountfactor(alphas[2], 12)*helpers.rateconverter(c,12,today) + helpers.discountfactor(alphas[2], 24)*helpers.rateconverter(c,24,today) +\n",
    "helpers.discountfactor(alphas[3], 36)*helpers.rateconverter(c,36,today) +helpers.discountfactor(alphas[3], 48)*helpers.rateconverter(c,48,today) +\n",
    "helpers.discountfactor(alphas[4], 60)*helpers.rateconverter(c,60,today)+helpers.discountfactor(alphas[4], 72)*helpers.rateconverter(c,72,today) + \n",
    "helpers.discountfactor(alphas[4], 84)*helpers.rateconverter(c,84,today) + helpers.discountfactor(alphas[4], 84)*100"
   ]
  },
  {
   "cell_type": "code",
   "execution_count": 41,
   "id": "8877264d-b06e-42de-81b6-4bba1038020d",
   "metadata": {},
   "outputs": [],
   "source": [
    "# Traigamos a valor presente el pago del nocional\n",
    "pvnotional = helpers.discountfactor(alphas[4], 84)*100"
   ]
  },
  {
   "cell_type": "code",
   "execution_count": 42,
   "id": "ddb08178-b9c2-4fc6-b097-8bef4c2de4e1",
   "metadata": {},
   "outputs": [
    {
     "name": "stdout",
     "output_type": "stream",
     "text": [
      "52.57951416297477\n"
     ]
    }
   ],
   "source": [
    "# Restando del valor original, obtenemos que la suma de los cupones traidos a valor presente es:\n",
    "totalcoupons = 100-pvnotional\n",
    "print(totalcoupons)"
   ]
  },
  {
   "cell_type": "markdown",
   "id": "a98f593b-cf84-459c-bdb8-9fe0e15098b3",
   "metadata": {},
   "source": [
    "#### Iterando sobre algunos valores de C obtenemos que el valor de C que satisface la valoración a par del bono es:"
   ]
  },
  {
   "cell_type": "code",
   "execution_count": 172,
   "id": "1573d9ec-182f-496e-a3a7-e817e7dcbb8b",
   "metadata": {},
   "outputs": [],
   "source": [
    "c = 3.36446691306639"
   ]
  },
  {
   "cell_type": "code",
   "execution_count": 173,
   "id": "8cd0aa4b-d0e3-40e6-abb6-44fb269b19dc",
   "metadata": {},
   "outputs": [
    {
     "data": {
      "text/plain": [
       "52.5795141629748"
      ]
     },
     "execution_count": 173,
     "metadata": {},
     "output_type": "execute_result"
    }
   ],
   "source": [
    "couponsum =\\\n",
    "  helpers.discountfactor(alphas[2], 12)*helpers.rateconverter(c,12,today) \\\n",
    "+ helpers.discountfactor(alphas[2], 24)*helpers.rateconverter(c,24,today)\\\n",
    "+ helpers.discountfactor(alphas[3], 36)*helpers.rateconverter(c,36,today)\\\n",
    "+ helpers.discountfactor(alphas[3], 48)*helpers.rateconverter(c,48,today)\\\n",
    "+ helpers.discountfactor(alphas[4], 60)*helpers.rateconverter(c,60,today)\\\n",
    "+ helpers.discountfactor(alphas[4], 72)*helpers.rateconverter(c,72,today)\\\n",
    "+ helpers.discountfactor(alphas[4], 84)*helpers.rateconverter(c,84,today)\n",
    "\n",
    "couponsum"
   ]
  },
  {
   "cell_type": "code",
   "execution_count": 179,
   "id": "579fad50-92f8-49c8-a73c-aac6f9d722a4",
   "metadata": {},
   "outputs": [
    {
     "data": {
      "text/plain": [
       "0.0"
      ]
     },
     "execution_count": 179,
     "metadata": {},
     "output_type": "execute_result"
    }
   ],
   "source": [
    "np.around(couponsum - totalcoupons, 13) ## La diferencia es 0 hasta la 13a cifra significativa"
   ]
  },
  {
   "cell_type": "markdown",
   "id": "d0dfb86b-1cb7-4f55-a19a-62b4d6763f80",
   "metadata": {},
   "source": [
    "#### Calibración de curvas del último año"
   ]
  },
  {
   "cell_type": "code",
   "execution_count": 243,
   "id": "6e866491-cb15-45d6-8a80-315cff1fa65f",
   "metadata": {
    "tags": []
   },
   "outputs": [],
   "source": [
    "def error2(alpha, df, day):\n",
    "    firstyields = df[df.index == day]\n",
    "    maturitydates = [3,6,12,24,36,60,84,120]\n",
    "    bondvalues = [bondvalue(today, i, firstyields, alpha) for i in maturitydates]\n",
    "    errorval= np.sum(np.abs(np.subtract(100,bondvalues)))\n",
    "    return errorval"
   ]
  },
  {
   "cell_type": "code",
   "execution_count": 275,
   "id": "ece9c811-f3be-49e3-abb2-e0acddc5fa33",
   "metadata": {},
   "outputs": [],
   "source": [
    "lastyear = df"
   ]
  },
  {
   "cell_type": "code",
   "execution_count": null,
   "id": "f1281249-6832-4f76-a5ae-1b48d46ae2c3",
   "metadata": {},
   "outputs": [],
   "source": [
    "### No correr! Toma un buen tiempo\n",
    "alphalevels = []\n",
    "for i in lastyear.index:\n",
    "    res = minimize(error2, alphas, args = (lastyear, i), bounds = ((0,.3),(0,.3),(0,.3),(0,.3),(0,.3)))\n",
    "    alphalevels.append(res.x)"
   ]
  },
  {
   "cell_type": "code",
   "execution_count": 278,
   "id": "caede649-633e-4662-8444-49d6290e5c14",
   "metadata": {},
   "outputs": [],
   "source": [
    "dfalpha = pd.DataFrame(alphalevels)"
   ]
  },
  {
   "cell_type": "code",
   "execution_count": 48,
   "id": "539998f8-4648-4722-97f6-1ca371b4425b",
   "metadata": {},
   "outputs": [],
   "source": [
    "dfalpha.to_csv(\"alphaniveles.csv\")"
   ]
  },
  {
   "cell_type": "markdown",
   "id": "82804a05-8d2f-4561-b722-72d30ac22d79",
   "metadata": {},
   "source": [
    "####  Segunda parte"
   ]
  },
  {
   "cell_type": "code",
   "execution_count": 19,
   "id": "79dad720-afee-4342-993c-ceb0a83a2147",
   "metadata": {},
   "outputs": [],
   "source": [
    "import sympy\n",
    "import time\n",
    "import numpy as np\n",
    "import pandas as pd\n",
    "import matplotlib.pyplot as plt\n",
    "import helpers as helpers\n",
    "from scipy.optimize import minimize, show_options, basinhopping, differential_evolution, brute\n",
    "from math import sqrt as msqrt"
   ]
  },
  {
   "cell_type": "code",
   "execution_count": 42,
   "id": "8d2b3141-332f-44a3-beca-bd43fa8c0dce",
   "metadata": {},
   "outputs": [],
   "source": [
    "dfalpha = pd.read_csv(\"../data/alphaniveles.csv\")"
   ]
  },
  {
   "cell_type": "code",
   "execution_count": 44,
   "id": "a5c73b46-3262-4099-a60d-055b9b0e1837",
   "metadata": {},
   "outputs": [],
   "source": [
    "alphadiff = dfalpha.diff()"
   ]
  },
  {
   "cell_type": "code",
   "execution_count": 45,
   "id": "d83f9b54-701b-406d-9527-8177b64626ba",
   "metadata": {},
   "outputs": [],
   "source": [
    "alphadiff = alphadiff.drop(columns= \"Unnamed: 0\")"
   ]
  },
  {
   "cell_type": "code",
   "execution_count": 46,
   "id": "254a63f9-7cd4-468d-9243-dfa0432b7fad",
   "metadata": {},
   "outputs": [],
   "source": [
    "alphadiff = alphadiff.iloc[1:]"
   ]
  },
  {
   "cell_type": "code",
   "execution_count": 47,
   "id": "b6d2c201-e38c-47b4-8044-e8d46db2b70f",
   "metadata": {},
   "outputs": [],
   "source": [
    "columnnames = {'0': 'alpha1', '1': 'alpha2', '2': 'alpha3', '3': 'alpha4', '4': 'alpha5'}"
   ]
  },
  {
   "cell_type": "code",
   "execution_count": 48,
   "id": "67386b45-cec5-4ac3-83c2-8477e693ed5e",
   "metadata": {
    "tags": []
   },
   "outputs": [],
   "source": [
    "alphadiff.rename(columns = columnnames, inplace=True)"
   ]
  },
  {
   "cell_type": "code",
   "execution_count": 49,
   "id": "91086d63-d01f-4c8d-9f3e-ef13bc4fb56e",
   "metadata": {},
   "outputs": [],
   "source": [
    "varcov = alphadiff.cov()"
   ]
  },
  {
   "cell_type": "code",
   "execution_count": 50,
   "id": "1b8601e6-8ef3-442a-89c7-543f5fb8ca46",
   "metadata": {},
   "outputs": [],
   "source": [
    "pd.set_option('display.float_format', lambda x: '%.11f' % x)"
   ]
  },
  {
   "cell_type": "code",
   "execution_count": 51,
   "id": "379842ca-0f75-4bab-b6ed-c743ffe55498",
   "metadata": {},
   "outputs": [
    {
     "data": {
      "text/html": [
       "<div>\n",
       "<style scoped>\n",
       "    .dataframe tbody tr th:only-of-type {\n",
       "        vertical-align: middle;\n",
       "    }\n",
       "\n",
       "    .dataframe tbody tr th {\n",
       "        vertical-align: top;\n",
       "    }\n",
       "\n",
       "    .dataframe thead th {\n",
       "        text-align: right;\n",
       "    }\n",
       "</style>\n",
       "<table border=\"1\" class=\"dataframe\">\n",
       "  <thead>\n",
       "    <tr style=\"text-align: right;\">\n",
       "      <th></th>\n",
       "      <th>alpha1</th>\n",
       "      <th>alpha2</th>\n",
       "      <th>alpha3</th>\n",
       "      <th>alpha4</th>\n",
       "      <th>alpha5</th>\n",
       "    </tr>\n",
       "  </thead>\n",
       "  <tbody>\n",
       "    <tr>\n",
       "      <th>alpha1</th>\n",
       "      <td>0.00022805626</td>\n",
       "      <td>-0.00008126533</td>\n",
       "      <td>0.00000239949</td>\n",
       "      <td>0.00000915210</td>\n",
       "      <td>-0.00001522078</td>\n",
       "    </tr>\n",
       "    <tr>\n",
       "      <th>alpha2</th>\n",
       "      <td>-0.00008126533</td>\n",
       "      <td>0.00009998439</td>\n",
       "      <td>-0.00002623875</td>\n",
       "      <td>-0.00000773631</td>\n",
       "      <td>-0.00000043530</td>\n",
       "    </tr>\n",
       "    <tr>\n",
       "      <th>alpha3</th>\n",
       "      <td>0.00000239949</td>\n",
       "      <td>-0.00002623875</td>\n",
       "      <td>0.00002351571</td>\n",
       "      <td>0.00000839250</td>\n",
       "      <td>0.00001874815</td>\n",
       "    </tr>\n",
       "    <tr>\n",
       "      <th>alpha4</th>\n",
       "      <td>0.00000915210</td>\n",
       "      <td>-0.00000773631</td>\n",
       "      <td>0.00000839250</td>\n",
       "      <td>0.00002804817</td>\n",
       "      <td>0.00002560018</td>\n",
       "    </tr>\n",
       "    <tr>\n",
       "      <th>alpha5</th>\n",
       "      <td>-0.00001522078</td>\n",
       "      <td>-0.00000043530</td>\n",
       "      <td>0.00001874815</td>\n",
       "      <td>0.00002560018</td>\n",
       "      <td>0.00017889639</td>\n",
       "    </tr>\n",
       "  </tbody>\n",
       "</table>\n",
       "</div>"
      ],
      "text/plain": [
       "               alpha1         alpha2         alpha3         alpha4  \\\n",
       "alpha1  0.00022805626 -0.00008126533  0.00000239949  0.00000915210   \n",
       "alpha2 -0.00008126533  0.00009998439 -0.00002623875 -0.00000773631   \n",
       "alpha3  0.00000239949 -0.00002623875  0.00002351571  0.00000839250   \n",
       "alpha4  0.00000915210 -0.00000773631  0.00000839250  0.00002804817   \n",
       "alpha5 -0.00001522078 -0.00000043530  0.00001874815  0.00002560018   \n",
       "\n",
       "               alpha5  \n",
       "alpha1 -0.00001522078  \n",
       "alpha2 -0.00000043530  \n",
       "alpha3  0.00001874815  \n",
       "alpha4  0.00002560018  \n",
       "alpha5  0.00017889639  "
      ]
     },
     "execution_count": 51,
     "metadata": {},
     "output_type": "execute_result"
    }
   ],
   "source": [
    "varcov"
   ]
  },
  {
   "cell_type": "code",
   "execution_count": 52,
   "id": "8f796226-04fb-403a-bda7-384b58ffec75",
   "metadata": {},
   "outputs": [],
   "source": [
    "varcov2 = sympy.Matrix(varcov.values)"
   ]
  },
  {
   "cell_type": "code",
   "execution_count": 53,
   "id": "2fd2596d-333d-4a94-b3c8-a22815f502cb",
   "metadata": {},
   "outputs": [],
   "source": [
    "calceigenvalues = varcov2.eigenvals() "
   ]
  },
  {
   "cell_type": "code",
   "execution_count": 54,
   "id": "dbdb1725-3ece-4e59-817d-c0b92b042e25",
   "metadata": {},
   "outputs": [],
   "source": [
    "eigenvalues = []\n",
    "for i in calceigenvalues:\n",
    "    eigenvalues.append(i)"
   ]
  },
  {
   "cell_type": "code",
   "execution_count": 55,
   "id": "54fb0035-8137-4d08-934c-afb33c4452ad",
   "metadata": {},
   "outputs": [],
   "source": [
    "eigenvalues.sort(reverse= True)"
   ]
  },
  {
   "cell_type": "code",
   "execution_count": 56,
   "id": "019eac37-2136-49d0-a5d5-44be90eee4de",
   "metadata": {},
   "outputs": [
    {
     "data": {
      "text/plain": [
       "[0.000270267460406596,\n",
       " 0.000185345994198844,\n",
       " 6.92479966323723e-5,\n",
       " 2.36578158831054e-5,\n",
       " 9.98165974576045e-6]"
      ]
     },
     "execution_count": 56,
     "metadata": {},
     "output_type": "execute_result"
    }
   ],
   "source": [
    "eigenvalues"
   ]
  },
  {
   "cell_type": "code",
   "execution_count": 57,
   "id": "b9d40b49-e7e3-490b-9e48-a79c05f8cb37",
   "metadata": {},
   "outputs": [],
   "source": [
    "eigenvectors = []\n",
    "for i in range(4,-1,-1):\n",
    "    calc = (varcov2.eigenvects()[i][2][0]) #Eigenvectors are organized from lowest to greatest associated eigenvalue\n",
    "    d= []\n",
    "    for j in range(0,5):\n",
    "        d.append(calc[j])\n",
    "    eigenvectors.append(d)"
   ]
  },
  {
   "cell_type": "code",
   "execution_count": 58,
   "id": "6f937368-861c-4a85-a67b-d1deb59a7367",
   "metadata": {},
   "outputs": [],
   "source": [
    "A = pd.DataFrame(eigenvectors).transpose()"
   ]
  },
  {
   "cell_type": "code",
   "execution_count": 59,
   "id": "3374bfee-9cf5-4fb2-b192-f286ae510c3f",
   "metadata": {},
   "outputs": [
    {
     "data": {
      "text/html": [
       "<div>\n",
       "<style scoped>\n",
       "    .dataframe tbody tr th:only-of-type {\n",
       "        vertical-align: middle;\n",
       "    }\n",
       "\n",
       "    .dataframe tbody tr th {\n",
       "        vertical-align: top;\n",
       "    }\n",
       "\n",
       "    .dataframe thead th {\n",
       "        text-align: right;\n",
       "    }\n",
       "</style>\n",
       "<table border=\"1\" class=\"dataframe\">\n",
       "  <thead>\n",
       "    <tr style=\"text-align: right;\">\n",
       "      <th></th>\n",
       "      <th>0</th>\n",
       "      <th>1</th>\n",
       "      <th>2</th>\n",
       "      <th>3</th>\n",
       "      <th>4</th>\n",
       "    </tr>\n",
       "  </thead>\n",
       "  <tbody>\n",
       "    <tr>\n",
       "      <th>0</th>\n",
       "      <td>0.0626260315277638</td>\n",
       "      <td>0.890352827414663</td>\n",
       "      <td>-0.431775882829697</td>\n",
       "      <td>0.0117478704908033</td>\n",
       "      <td>-0.129543033140980</td>\n",
       "    </tr>\n",
       "    <tr>\n",
       "      <th>1</th>\n",
       "      <td>-0.123919186434048</td>\n",
       "      <td>-0.433344255915067</td>\n",
       "      <td>-0.800838586887104</td>\n",
       "      <td>0.175550527864868</td>\n",
       "      <td>-0.353123719138169</td>\n",
       "    </tr>\n",
       "    <tr>\n",
       "      <th>2</th>\n",
       "      <td>0.141795409486756</td>\n",
       "      <td>0.0463220617475552</td>\n",
       "      <td>0.387831086015843</td>\n",
       "      <td>0.197833269196064</td>\n",
       "      <td>-0.887804806679322</td>\n",
       "    </tr>\n",
       "    <tr>\n",
       "      <th>3</th>\n",
       "      <td>0.174274616382160</td>\n",
       "      <td>0.0356910899060476</td>\n",
       "      <td>0.0463224307663882</td>\n",
       "      <td>0.947647292372982</td>\n",
       "      <td>0.261100260153488</td>\n",
       "    </tr>\n",
       "    <tr>\n",
       "      <th>4</th>\n",
       "      <td>0.964491801593949</td>\n",
       "      <td>-0.126747825531270</td>\n",
       "      <td>-0.140244165251059</td>\n",
       "      <td>-0.178523406203925</td>\n",
       "      <td>0.0463844902045418</td>\n",
       "    </tr>\n",
       "  </tbody>\n",
       "</table>\n",
       "</div>"
      ],
      "text/plain": [
       "                    0                   1                   2  \\\n",
       "0  0.0626260315277638   0.890352827414663  -0.431775882829697   \n",
       "1  -0.123919186434048  -0.433344255915067  -0.800838586887104   \n",
       "2   0.141795409486756  0.0463220617475552   0.387831086015843   \n",
       "3   0.174274616382160  0.0356910899060476  0.0463224307663882   \n",
       "4   0.964491801593949  -0.126747825531270  -0.140244165251059   \n",
       "\n",
       "                    3                   4  \n",
       "0  0.0117478704908033  -0.129543033140980  \n",
       "1   0.175550527864868  -0.353123719138169  \n",
       "2   0.197833269196064  -0.887804806679322  \n",
       "3   0.947647292372982   0.261100260153488  \n",
       "4  -0.178523406203925  0.0463844902045418  "
      ]
     },
     "execution_count": 59,
     "metadata": {},
     "output_type": "execute_result"
    }
   ],
   "source": [
    "A"
   ]
  },
  {
   "cell_type": "code",
   "execution_count": 60,
   "id": "68180a34-eee5-449e-a05b-4be53d510196",
   "metadata": {},
   "outputs": [],
   "source": [
    "sqeigenvalues = [msqrt(i) for i in eigenvalues]"
   ]
  },
  {
   "cell_type": "code",
   "execution_count": 61,
   "id": "f883e162-2a75-492c-80da-15c06e349170",
   "metadata": {},
   "outputs": [
    {
     "data": {
      "text/html": [
       "<div>\n",
       "<style scoped>\n",
       "    .dataframe tbody tr th:only-of-type {\n",
       "        vertical-align: middle;\n",
       "    }\n",
       "\n",
       "    .dataframe tbody tr th {\n",
       "        vertical-align: top;\n",
       "    }\n",
       "\n",
       "    .dataframe thead th {\n",
       "        text-align: right;\n",
       "    }\n",
       "</style>\n",
       "<table border=\"1\" class=\"dataframe\">\n",
       "  <thead>\n",
       "    <tr style=\"text-align: right;\">\n",
       "      <th></th>\n",
       "      <th>0</th>\n",
       "      <th>1</th>\n",
       "      <th>2</th>\n",
       "      <th>3</th>\n",
       "      <th>4</th>\n",
       "    </tr>\n",
       "  </thead>\n",
       "  <tbody>\n",
       "    <tr>\n",
       "      <th>0</th>\n",
       "      <td>0.00102956026426067</td>\n",
       "      <td>0.0121214268319146</td>\n",
       "      <td>-0.00359303946696056</td>\n",
       "      <td>5.71408207285932e-5</td>\n",
       "      <td>-0.000409275212122835</td>\n",
       "    </tr>\n",
       "    <tr>\n",
       "      <th>1</th>\n",
       "      <td>-0.00203720828575007</td>\n",
       "      <td>-0.00589962824777845</td>\n",
       "      <td>-0.00666420882633046</td>\n",
       "      <td>0.000853865494124159</td>\n",
       "      <td>-0.00111565077296433</td>\n",
       "    </tr>\n",
       "    <tr>\n",
       "      <th>2</th>\n",
       "      <td>0.00233109005473888</td>\n",
       "      <td>0.000630637051838011</td>\n",
       "      <td>0.00322735116523109</td>\n",
       "      <td>0.000962247190087202</td>\n",
       "      <td>-0.00280490962552896</td>\n",
       "    </tr>\n",
       "    <tr>\n",
       "      <th>3</th>\n",
       "      <td>0.00286504215131049</td>\n",
       "      <td>0.000485905049690997</td>\n",
       "      <td>0.000385473873293725</td>\n",
       "      <td>0.00460929017644617</td>\n",
       "      <td>0.000824914020990613</td>\n",
       "    </tr>\n",
       "    <tr>\n",
       "      <th>4</th>\n",
       "      <td>0.0158560651202382</td>\n",
       "      <td>-0.00172556816351417</td>\n",
       "      <td>-0.00116704716682091</td>\n",
       "      <td>-0.000868325366520008</td>\n",
       "      <td>0.000146546067413856</td>\n",
       "    </tr>\n",
       "  </tbody>\n",
       "</table>\n",
       "</div>"
      ],
      "text/plain": [
       "                      0                     1                     2  \\\n",
       "0   0.00102956026426067    0.0121214268319146  -0.00359303946696056   \n",
       "1  -0.00203720828575007  -0.00589962824777845  -0.00666420882633046   \n",
       "2   0.00233109005473888  0.000630637051838011   0.00322735116523109   \n",
       "3   0.00286504215131049  0.000485905049690997  0.000385473873293725   \n",
       "4    0.0158560651202382  -0.00172556816351417  -0.00116704716682091   \n",
       "\n",
       "                       3                      4  \n",
       "0    5.71408207285932e-5  -0.000409275212122835  \n",
       "1   0.000853865494124159   -0.00111565077296433  \n",
       "2   0.000962247190087202   -0.00280490962552896  \n",
       "3    0.00460929017644617   0.000824914020990613  \n",
       "4  -0.000868325366520008   0.000146546067413856  "
      ]
     },
     "execution_count": 61,
     "metadata": {},
     "output_type": "execute_result"
    }
   ],
   "source": [
    "B = A.mul(sqeigenvalues)\n",
    "B"
   ]
  },
  {
   "cell_type": "code",
   "execution_count": 62,
   "id": "c3f1fb54-1e8e-4b94-af7d-965e0e6a4306",
   "metadata": {},
   "outputs": [],
   "source": [
    "X=alphadiff"
   ]
  },
  {
   "cell_type": "code",
   "execution_count": 63,
   "id": "b36b9193-20b1-4460-8b7f-24454183bff7",
   "metadata": {},
   "outputs": [
    {
     "data": {
      "text/html": [
       "<div>\n",
       "<style scoped>\n",
       "    .dataframe tbody tr th:only-of-type {\n",
       "        vertical-align: middle;\n",
       "    }\n",
       "\n",
       "    .dataframe tbody tr th {\n",
       "        vertical-align: top;\n",
       "    }\n",
       "\n",
       "    .dataframe thead th {\n",
       "        text-align: right;\n",
       "    }\n",
       "</style>\n",
       "<table border=\"1\" class=\"dataframe\">\n",
       "  <thead>\n",
       "    <tr style=\"text-align: right;\">\n",
       "      <th></th>\n",
       "      <th>alpha1</th>\n",
       "      <th>alpha2</th>\n",
       "      <th>alpha3</th>\n",
       "      <th>alpha4</th>\n",
       "      <th>alpha5</th>\n",
       "    </tr>\n",
       "  </thead>\n",
       "  <tbody>\n",
       "    <tr>\n",
       "      <th>1</th>\n",
       "      <td>0.00000000000</td>\n",
       "      <td>-0.00119339657</td>\n",
       "      <td>-0.00068934580</td>\n",
       "      <td>-0.00027152069</td>\n",
       "      <td>0.00000000000</td>\n",
       "    </tr>\n",
       "    <tr>\n",
       "      <th>2</th>\n",
       "      <td>0.01959401328</td>\n",
       "      <td>-0.01215400187</td>\n",
       "      <td>-0.00628852791</td>\n",
       "      <td>-0.00742234032</td>\n",
       "      <td>0.00000000000</td>\n",
       "    </tr>\n",
       "    <tr>\n",
       "      <th>3</th>\n",
       "      <td>-0.01373667743</td>\n",
       "      <td>0.00184355005</td>\n",
       "      <td>-0.00541677063</td>\n",
       "      <td>-0.01191979082</td>\n",
       "      <td>0.00000000000</td>\n",
       "    </tr>\n",
       "    <tr>\n",
       "      <th>4</th>\n",
       "      <td>0.00372696530</td>\n",
       "      <td>0.00131246107</td>\n",
       "      <td>-0.00774262480</td>\n",
       "      <td>-0.00473073734</td>\n",
       "      <td>0.00000000000</td>\n",
       "    </tr>\n",
       "    <tr>\n",
       "      <th>5</th>\n",
       "      <td>0.00304296345</td>\n",
       "      <td>-0.00102097215</td>\n",
       "      <td>-0.00151737370</td>\n",
       "      <td>-0.00638264177</td>\n",
       "      <td>0.00000000000</td>\n",
       "    </tr>\n",
       "    <tr>\n",
       "      <th>...</th>\n",
       "      <td>...</td>\n",
       "      <td>...</td>\n",
       "      <td>...</td>\n",
       "      <td>...</td>\n",
       "      <td>...</td>\n",
       "    </tr>\n",
       "    <tr>\n",
       "      <th>205</th>\n",
       "      <td>0.05332877848</td>\n",
       "      <td>-0.01295736107</td>\n",
       "      <td>-0.00004730868</td>\n",
       "      <td>0.00289900618</td>\n",
       "      <td>0.01559467580</td>\n",
       "    </tr>\n",
       "    <tr>\n",
       "      <th>206</th>\n",
       "      <td>-0.03425657248</td>\n",
       "      <td>0.00587704121</td>\n",
       "      <td>0.00003249365</td>\n",
       "      <td>-0.00186054533</td>\n",
       "      <td>-0.03376358109</td>\n",
       "    </tr>\n",
       "    <tr>\n",
       "      <th>207</th>\n",
       "      <td>0.02924887662</td>\n",
       "      <td>-0.01150075278</td>\n",
       "      <td>0.00032925948</td>\n",
       "      <td>0.00297023222</td>\n",
       "      <td>-0.00583072457</td>\n",
       "    </tr>\n",
       "    <tr>\n",
       "      <th>208</th>\n",
       "      <td>-0.01753053795</td>\n",
       "      <td>0.00900239012</td>\n",
       "      <td>-0.00133161031</td>\n",
       "      <td>-0.00525469468</td>\n",
       "      <td>0.00131749408</td>\n",
       "    </tr>\n",
       "    <tr>\n",
       "      <th>209</th>\n",
       "      <td>-0.00612101064</td>\n",
       "      <td>0.00218125551</td>\n",
       "      <td>-0.00231495631</td>\n",
       "      <td>-0.00096782625</td>\n",
       "      <td>-0.01147979645</td>\n",
       "    </tr>\n",
       "  </tbody>\n",
       "</table>\n",
       "<p>209 rows × 5 columns</p>\n",
       "</div>"
      ],
      "text/plain": [
       "            alpha1         alpha2         alpha3         alpha4         alpha5\n",
       "1    0.00000000000 -0.00119339657 -0.00068934580 -0.00027152069  0.00000000000\n",
       "2    0.01959401328 -0.01215400187 -0.00628852791 -0.00742234032  0.00000000000\n",
       "3   -0.01373667743  0.00184355005 -0.00541677063 -0.01191979082  0.00000000000\n",
       "4    0.00372696530  0.00131246107 -0.00774262480 -0.00473073734  0.00000000000\n",
       "5    0.00304296345 -0.00102097215 -0.00151737370 -0.00638264177  0.00000000000\n",
       "..             ...            ...            ...            ...            ...\n",
       "205  0.05332877848 -0.01295736107 -0.00004730868  0.00289900618  0.01559467580\n",
       "206 -0.03425657248  0.00587704121  0.00003249365 -0.00186054533 -0.03376358109\n",
       "207  0.02924887662 -0.01150075278  0.00032925948  0.00297023222 -0.00583072457\n",
       "208 -0.01753053795  0.00900239012 -0.00133161031 -0.00525469468  0.00131749408\n",
       "209 -0.00612101064  0.00218125551 -0.00231495631 -0.00096782625 -0.01147979645\n",
       "\n",
       "[209 rows x 5 columns]"
      ]
     },
     "execution_count": 63,
     "metadata": {},
     "output_type": "execute_result"
    }
   ],
   "source": [
    "X"
   ]
  }
 ],
 "metadata": {
  "kernelspec": {
   "display_name": "Python 3 (ipykernel)",
   "language": "python",
   "name": "python3"
  },
  "language_info": {
   "codemirror_mode": {
    "name": "ipython",
    "version": 3
   },
   "file_extension": ".py",
   "mimetype": "text/x-python",
   "name": "python",
   "nbconvert_exporter": "python",
   "pygments_lexer": "ipython3",
   "version": "3.9.7"
  }
 },
 "nbformat": 4,
 "nbformat_minor": 5
}
