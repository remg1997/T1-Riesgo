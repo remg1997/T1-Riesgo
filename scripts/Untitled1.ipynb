{
 "cells": [
  {
   "cell_type": "code",
   "execution_count": 1,
   "id": "bdaa0594-2894-4dd9-9180-eb960a5e7409",
   "metadata": {},
   "outputs": [],
   "source": [
    "import time\n",
    "import numpy as np\n",
    "import pandas as pd\n",
    "import multiprocessing\n",
    "import matplotlib.pyplot as plt\n",
    "import scripts.helpers as helpers\n",
    "from scipy.optimize import minimize, show_options, basinhopping, differential_evolution, brute"
   ]
  },
  {
   "cell_type": "markdown",
   "id": "abcb77c6-db2f-419c-b0cd-0c480072a093",
   "metadata": {},
   "source": [
    "#### Empecemos por cargar los datos"
   ]
  },
  {
   "cell_type": "code",
   "execution_count": 2,
   "id": "e855ea57-92fe-4ec3-a7df-e5f7f9701205",
   "metadata": {},
   "outputs": [],
   "source": [
    "path = \"./data/data.xlsx\""
   ]
  },
  {
   "cell_type": "code",
   "execution_count": 3,
   "id": "bdaa34da-b002-4f12-8f14-3e5919a2c388",
   "metadata": {},
   "outputs": [],
   "source": [
    "df = helpers.dataframe(path)"
   ]
  },
  {
   "cell_type": "code",
   "execution_count": 4,
   "id": "86adfecd-97bd-46dc-9323-f687bc5b0d8d",
   "metadata": {},
   "outputs": [],
   "source": [
    "firstyields = df[df.index == \"2022-02-11\"]"
   ]
  },
  {
   "cell_type": "code",
   "execution_count": 5,
   "id": "d2d298e2-4185-4ca4-b457-b8729e82a519",
   "metadata": {},
   "outputs": [],
   "source": [
    "today = firstyields.index"
   ]
  },
  {
   "cell_type": "code",
   "execution_count": 6,
   "id": "6f08be5b-1a75-423a-8481-39137f2b2991",
   "metadata": {},
   "outputs": [
    {
     "data": {
      "text/plain": [
       "DatetimeIndex(['2022-02-11'], dtype='datetime64[ns]', name='Date', freq=None)"
      ]
     },
     "execution_count": 6,
     "metadata": {},
     "output_type": "execute_result"
    }
   ],
   "source": [
    "today"
   ]
  },
  {
   "cell_type": "markdown",
   "id": "2eb90e9f-883f-46e8-94a8-32c2aa45ba82",
   "metadata": {},
   "source": [
    "#### Partimos de un vector de alphas (nuestra curva), creada al azar"
   ]
  },
  {
   "cell_type": "code",
   "execution_count": 7,
   "id": "cbd3213f-08de-45f5-b12e-a2e8530cffd6",
   "metadata": {},
   "outputs": [],
   "source": [
    "alphas = (0.1,0.11,0.12,0.13,0.14)"
   ]
  },
  {
   "cell_type": "markdown",
   "id": "42d33d71-1c6d-4534-9f20-b4ca8af3993c",
   "metadata": {},
   "source": [
    "#### Suponemos que: \n",
    "- $\\alpha_1$ representa la tasa forward entre 0 y 3 meses, \n",
    "- $\\alpha_2$ la tasa entre 3 meses y 1 año, \n",
    "- $\\alpha_3$ la tasa entre 1 y 3 años,\n",
    "- $\\alpha_4$ la tasa entre 3 y 5 años ,\n",
    "- $\\alpha_5$ la tasa entre 5 y 10 años."
   ]
  },
  {
   "cell_type": "markdown",
   "id": "ad9e14c4-772d-452e-87d6-631e695fe34e",
   "metadata": {},
   "source": [
    "#### Ahora bien, para valorar un bono, se sigue que:"
   ]
  },
  {
   "cell_type": "markdown",
   "id": "7080a27d-7be1-480c-a034-560a785c4795",
   "metadata": {},
   "source": [
    "$$ \\sum_{i=1}^{T} \\frac{(C \\% *100)}{{(1+y_i)}^{t_i}} + \\frac {N}{{(1+y_i)}^{T}}$$ "
   ]
  },
  {
   "cell_type": "markdown",
   "id": "f03c1b3d-1b7a-43ca-9652-739909f62b11",
   "metadata": {},
   "source": [
    "#### Además, para traer a valor presente usando una curva forward, se sigue el factor de descuento a un plazo T es: "
   ]
  },
  {
   "cell_type": "markdown",
   "id": "672de528-012f-49db-8bcb-2e1a72d451e7",
   "metadata": {},
   "source": [
    "### $$ e^{-\\int_{0}^{T} f(t) \\,dt}$$"
   ]
  },
  {
   "cell_type": "markdown",
   "id": "7b564185-5e86-4fb8-9a0b-9e66cfb41f07",
   "metadata": {},
   "source": [
    "#### Con lo anterior, para valorar un bono para el taller, se sigue que:\n",
    "$$ \\sum_{i=1}^{T} (C \\% *100)*e^{-\\int_{0}^{T} f(t) \\,dt} +  {N}*{e^{-\\int_{0}^{T} f(t) \\,dt}}$$ "
   ]
  },
  {
   "cell_type": "markdown",
   "id": "73b2a9f3-21cd-4f01-8dc7-5d09d700279a",
   "metadata": {},
   "source": [
    "#### Así, para convertir las tasas anualizadas utilzaremos la siguiente función:"
   ]
  },
  {
   "cell_type": "code",
   "execution_count": 8,
   "id": "fe3cfc81-8fab-427a-9bbd-1b5f0d3e06c1",
   "metadata": {},
   "outputs": [],
   "source": [
    "def rateconverter(rate, T, today):\n",
    "    \"\"\"\n",
    "    Returns a converted interest rate, for a desired maturity.\n",
    "    Parameters:\n",
    "        rate: yearly interest rate\n",
    "        T: maturity in months\n",
    "        today: current date, expressed as a DateTimeIndex\n",
    "    \"\"\"\n",
    "    days = (today[0].date()+relativedelta(months=T) - today[0].date()).days\n",
    "    newrate = rate*days/360\n",
    "    return round(newrate,decimals = 5)"
   ]
  },
  {
   "cell_type": "markdown",
   "id": "3ce9fc53-28d4-4fd6-be37-220cfe72085b",
   "metadata": {},
   "source": [
    "#### Y para hallar los factores de descuento, asumiendo una curva constante a trozos:"
   ]
  },
  {
   "cell_type": "code",
   "execution_count": 9,
   "id": "7ac14df7-92e0-4b4d-b750-d4cf1586e8f3",
   "metadata": {},
   "outputs": [],
   "source": [
    "def discountfactor(curve, T):\n",
    "    \"\"\"\n",
    "    Returns the discount factor for a given maturity and forward curve, assuming a constant stepwise curve \n",
    "    Parameters:\n",
    "        curve: forward curve\n",
    "        T: maturity in months\n",
    "    \"\"\"\n",
    "    intervals_r=[3,12,36,60,120]\n",
    "    intervals_l=[0,3,12,36,60]\n",
    "    mask = [(t<=T) for t in intervals_l]\n",
    "    minimum = np.minimum(T, intervals_r)\n",
    "    areas = ((minimum-intervals_l)/12)*curve*mask\n",
    "    totalarea = np.sum(areas)\n",
    "    print(totalarea)\n",
    "    discountfactor = np.exp(-totalarea)\n",
    "    return discountfactor"
   ]
  },
  {
   "cell_type": "code",
   "execution_count": 10,
   "id": "d527ee8e-6852-4763-8489-659a745a8f85",
   "metadata": {},
   "outputs": [
    {
     "name": "stdout",
     "output_type": "stream",
     "text": [
      "0.10750000000000001\n"
     ]
    },
    {
     "data": {
      "text/plain": [
       "0.8980765224508025"
      ]
     },
     "execution_count": 10,
     "metadata": {},
     "output_type": "execute_result"
    }
   ],
   "source": [
    "discountfactor(alphas, 12)"
   ]
  },
  {
   "cell_type": "code",
   "execution_count": 11,
   "id": "8de3300b-f40b-4ee6-b451-5881665c56d3",
   "metadata": {},
   "outputs": [
    {
     "data": {
      "text/plain": [
       "0.9488543210558013"
      ]
     },
     "execution_count": 11,
     "metadata": {},
     "output_type": "execute_result"
    }
   ],
   "source": [
    "helpers.discountfactor(alphas, 6)"
   ]
  },
  {
   "cell_type": "code",
   "execution_count": 12,
   "id": "a59f66e2-32bc-4f24-a5a7-d60d38904cdf",
   "metadata": {},
   "outputs": [
    {
     "data": {
      "text/plain": [
       "100.08421345670016"
      ]
     },
     "execution_count": 12,
     "metadata": {},
     "output_type": "execute_result"
    }
   ],
   "source": [
    "tmb = 100 +helpers.rateconverter(firstyields[\"3M\"][0], 3 , today)*helpers.discountfactor(alphas, 6)\n",
    "tmb"
   ]
  },
  {
   "cell_type": "markdown",
   "id": "6fd88cdc-ca41-4012-b28b-9d1051cb5525",
   "metadata": {},
   "source": [
    "#### Miremos cómo se comporta la función para el factor de descuento:"
   ]
  },
  {
   "cell_type": "code",
   "execution_count": 13,
   "id": "59fdefd2-c50f-4f13-afc6-b2ef1161a300",
   "metadata": {},
   "outputs": [],
   "source": [
    "alphas = np.arange (0.1,0.6,.01)\n",
    "maturities = np.arange(1,51,1)\n",
    "discounts = list(map(helpers.discountfactor, alphas, maturities))"
   ]
  },
  {
   "cell_type": "code",
   "execution_count": 14,
   "id": "826cbb31-50ad-47fe-a59e-acfa49ac6868",
   "metadata": {},
   "outputs": [
    {
     "data": {
      "text/plain": [
       "[<matplotlib.lines.Line2D at 0x7fc2ed0874c0>]"
      ]
     },
     "execution_count": 14,
     "metadata": {},
     "output_type": "execute_result"
    },
    {
     "data": {
      "image/png": "[encoded data removed]",
      "text/plain": [
       "<Figure size 700x500 with 1 Axes>"
      ]
     },
     "metadata": {},
     "output_type": "display_data"
    }
   ],
   "source": [
    "plt.style.use('seaborn-whitegrid')\n",
    "plt.rcParams.update({'figure.figsize':(7,5), 'figure.dpi':100})\n",
    "plt.xlabel('Maturities')\n",
    "plt.ylabel('Discount Factors')\n",
    "plt.title('Factores de Descuento a Diez Años')\n",
    "plt.plot(maturities,discounts)"
   ]
  },
  {
   "cell_type": "markdown",
   "id": "e9850e59-93da-4d9f-9257-e2b58c114a18",
   "metadata": {
    "tags": []
   },
   "source": [
    "#  <span style=\"color:red\">Germán 1 Le pregunté a Diego, y me dijo que no era normal que para esos valores iniciales los factores de descuento dieran así, sobretodo tomando en cuenta que estoy metiendo alphas que crecen constante. </span> \n",
    " "
   ]
  },
  {
   "cell_type": "markdown",
   "id": "7dc77ffe-72aa-4641-834a-f90372914909",
   "metadata": {},
   "source": [
    "#### Ahora definamos la función de pagos para un bono específico:"
   ]
  },
  {
   "cell_type": "code",
   "execution_count": 15,
   "id": "588969e6-46a3-4d4e-976f-131b1f61b5f0",
   "metadata": {},
   "outputs": [],
   "source": [
    "alphas2 = [0.07853351, 0.08539753, 0.04942368, 0.08465615, 0.0079]"
   ]
  },
  {
   "cell_type": "code",
   "execution_count": 25,
   "id": "5cfb4a3f-4bad-4b15-8fcc-55b5a0abbaf6",
   "metadata": {},
   "outputs": [],
   "source": [
    "def singlebondpayment(T, rate, alpha, today):\n",
    "    return helpers.rateconverter(rate, T, today)*helpers.discountfactor(alpha, T)"
   ]
  },
  {
   "cell_type": "markdown",
   "id": "1e8e142e-4356-455d-a4fa-a140f0f12666",
   "metadata": {},
   "source": [
    "#### Generalizando para cualquier bono:"
   ]
  },
  {
   "cell_type": "code",
   "execution_count": 27,
   "id": "d4b87859-2abe-4e9e-8691-9c63bc213971",
   "metadata": {},
   "outputs": [],
   "source": [
    "def bondvalue(today, T, rates, alpha):\n",
    "    if T == 3:\n",
    "        return singlebondpayment(3, rates[\"3M\"][0], alpha, today) + 100*helpers.discountfactor(alpha , T)\n",
    "    else:\n",
    "        maturitynames = [i for i in rates.columns]\n",
    "        maturitydates = [3,6,12,24,36,60,84,120]\n",
    "        maturitydict = {maturitydates[i]: maturitynames[i] for i in range(len(maturitynames))}\n",
    "        periods = np.arange(6,T+6,6)\n",
    "        bondpayments= np.array([singlebondpayment(i, rate = rates[maturitydict[T]][0], today = today, alpha = alphas) for i in periods])\n",
    "        sumpayments = np.sum(bondpayments) \n",
    "        return sumpayments + 100*helpers.discountfactor(alpha, T)"
   ]
  },
  {
   "cell_type": "markdown",
   "id": "7bbe7822-7d81-4082-a004-5fb8795314a4",
   "metadata": {},
   "source": [
    "#### Definamos el error como la diferencia de los cuadrados"
   ]
  },
  {
   "cell_type": "code",
   "execution_count": 29,
   "id": "5ae84f68-3b3d-4219-b404-8e016da28554",
   "metadata": {},
   "outputs": [],
   "source": [
    "def error(alpha):\n",
    "    maturitydates = [3,6,12,24,36,60,84,120]\n",
    "    bondvalues = [bondvalue(today, i, firstyields, alpha) for i in maturitydates]\n",
    "    errorval= np.sum(np.square(np.subtract(100,bondvalues)))\n",
    "    return errorval"
   ]
  },
  {
   "cell_type": "markdown",
   "id": "3e0f8a42-57fb-429d-9519-f419746e9eac",
   "metadata": {},
   "source": [
    "#### Podemos minimizar esta función con respecto a los parámetros "
   ]
  },
  {
   "cell_type": "code",
   "execution_count": 31,
   "id": "b5c8aecb-198e-4fa6-81de-c6f456a85bd7",
   "metadata": {},
   "outputs": [
    {
     "name": "stdout",
     "output_type": "stream",
     "text": [
      "236.09795088496153 [0.1881746  0.12888353 0.10608345 0.24757428 0.185098  ]\n",
      "74.10906926720534 [0.22533779 0.16398923 0.23809723 0.26740403 0.26589932]\n",
      "51.671173757323636 [0.18163774 0.26130462 0.13027394 0.22879886 0.25596779]\n",
      "28.426234712228094 [0.14118276 0.28244432 0.25382246 0.23638375 0.21894035]\n",
      "25.73432289072914 [0.12913949 0.29502434 0.2645453  0.22789019 0.25763544]\n",
      "6.966273380398602 [0.19503805 0.11723083 0.18029748 0.25845339 0.12911189]\n",
      "5.367036809215258 [0.22615293 0.21719166 0.24545236 0.23305941 0.13733982]\n",
      "5.346426663420709 [0.2756761  0.17487172 0.26733164 0.29260373 0.12291427]\n"
     ]
    }
   ],
   "source": [
    "func = 10000000\n",
    "a = []\n",
    "for i in range(100):\n",
    "    alphas = np.random.uniform(low = 0.1, high = 0.3, size = 5)\n",
    "    res = minimize(error, alphas, bounds = ((0,.3),(0,.3),(0,.3),(0,.3),(0,.3)))\n",
    "    if res.fun < func:\n",
    "        func = res.fun\n",
    "        a.append(np.array(alphas))\n",
    "        print(func, alphas)\n",
    "    else:\n",
    "        continue"
   ]
  },
  {
   "cell_type": "markdown",
   "id": "56a4f75c-d029-4ea8-a4c7-669efa8d7b67",
   "metadata": {},
   "source": [
    "#  <span style=\"color:red\">Germán 2 De aquí me genera muchas dudas que cambiando el vector inicial de alphas cambie tanto el mínimo que encuentra el optimizador</span> \n"
   ]
  },
  {
   "cell_type": "code",
   "execution_count": 32,
   "id": "669c878a-7c11-4c12-9ec2-136f923c0bc0",
   "metadata": {},
   "outputs": [],
   "source": [
    "alpha1 = []\n",
    "alpha2 =[]\n",
    "alpha3 =[]\n",
    "alpha4=[]\n",
    "alpha5=[]\n",
    "for i in a:\n",
    "    alpha1.append(i[0])\n",
    "    alpha2.append(i[1])\n",
    "    alpha3.append(i[2])\n",
    "    alpha4.append(i[3])\n",
    "    alpha5.append(i[4])"
   ]
  },
  {
   "cell_type": "code",
   "execution_count": 33,
   "id": "62720a23-1cc4-4d1a-93d4-bd6ab749d95b",
   "metadata": {},
   "outputs": [
    {
     "data": {
      "text/plain": [
       "Text(0.5, 1.0, 'Alpha Vol')"
      ]
     },
     "execution_count": 33,
     "metadata": {},
     "output_type": "execute_result"
    },
    {
     "data": {
      "image/png": "[encoded data removed]",
      "text/plain": [
       "<Figure size 700x500 with 1 Axes>"
      ]
     },
     "metadata": {},
     "output_type": "display_data"
    }
   ],
   "source": [
    "plt.plot([alpha1,alpha2, alpha3, alpha4,alpha5])\n",
    "plt.title(\"Alpha Vol\")"
   ]
  },
  {
   "cell_type": "code",
   "execution_count": null,
   "id": "da58d933-23dc-4fb6-b540-bbd258fd4ce1",
   "metadata": {},
   "outputs": [],
   "source": [
    "iterating_alphas = a"
   ]
  },
  {
   "cell_type": "code",
   "execution_count": 25,
   "id": "d3d92e43-9fad-4c66-a9c0-014aa477e50c",
   "metadata": {},
   "outputs": [],
   "source": [
    "alphas = [0.00343939424789704, 0.0105322205923502, 0.0817121232717679, 0.159800322624318, 0.274481567907549]"
   ]
  },
  {
   "cell_type": "markdown",
   "id": "d152577b-5e46-4290-b8b9-5ddc3c561d47",
   "metadata": {},
   "source": [
    "#### Usemos estos valores para calcular el valor del cupón que valora a par"
   ]
  },
  {
   "cell_type": "code",
   "execution_count": null,
   "id": "85ce7e57-ea42-4271-b644-3ce0a1c375c7",
   "metadata": {},
   "outputs": [],
   "source": [
    "# Sabemos que para valorar a par, el valor final del bono debe ser 100, y esto a su vez debe equivaler a la suma de los bonos traidos a valor presente más el nocional que se paga en el último periodo también traido a valor presente\n",
    "100 = helpers.discountfactor(alphas[2], 12)*helpers.rateconverter(c,12,today) + helpers.discountfactor(alphas[2], 24)*helpers.rateconverter(c,24,today) +\n",
    "helpers.discountfactor(alphas[3], 36)*helpers.rateconverter(c,36,today) +helpers.discountfactor(alphas[3], 48)*helpers.rateconverter(c,48,today) +\n",
    "helpers.discountfactor(alphas[4], 60)*helpers.rateconverter(c,60,today)+helpers.discountfactor(alphas[4], 72)*helpers.rateconverter(c,72,today) + \n",
    "helpers.discountfactor(alphas[4], 84)*helpers.rateconverter(c,84,today) + helpers.discountfactor(alphas[4], 84)*100"
   ]
  },
  {
   "cell_type": "code",
   "execution_count": 27,
   "id": "8877264d-b06e-42de-81b6-4bba1038020d",
   "metadata": {},
   "outputs": [],
   "source": [
    "# Traigamos a valor presente el pago del nocional\n",
    "pvnotional = helpers.discountfactor(alphas[4], 84)*100"
   ]
  },
  {
   "cell_type": "code",
   "execution_count": 28,
   "id": "ddb08178-b9c2-4fc6-b097-8bef4c2de4e1",
   "metadata": {},
   "outputs": [
    {
     "name": "stdout",
     "output_type": "stream",
     "text": [
      "85.35938946849538\n"
     ]
    }
   ],
   "source": [
    "# Restando del valor original, obtenemos que la suma de los cupones traidos a valor presente es:\n",
    "totalcoupons = 100-pvnotional\n",
    "print(totalcoupons)"
   ]
  },
  {
   "cell_type": "markdown",
   "id": "a98f593b-cf84-459c-bdb8-9fe0e15098b3",
   "metadata": {},
   "source": [
    "#### Iterando sobre algunos valores de C obtenemos que el valor de C que satisface la valoración a par del bono es:"
   ]
  },
  {
   "cell_type": "markdown",
   "id": "ca6a95bf-91c1-4470-8475-1ffe67960604",
   "metadata": {},
   "source": [
    "#  <span style=\"color:red\">Germán 3 Con esos alphas obtuve un C muy alto, y Diego dice que está mal</span> "
   ]
  },
  {
   "cell_type": "code",
   "execution_count": 29,
   "id": "1573d9ec-182f-496e-a3a7-e817e7dcbb8b",
   "metadata": {},
   "outputs": [],
   "source": [
    "c = 8.3840515175172702"
   ]
  },
  {
   "cell_type": "code",
   "execution_count": 30,
   "id": "8cd0aa4b-d0e3-40e6-abb6-44fb269b19dc",
   "metadata": {},
   "outputs": [],
   "source": [
    "couponsum =\\\n",
    "  helpers.discountfactor(alphas[2], 12)*helpers.rateconverter(c,12,today) \\\n",
    "+ helpers.discountfactor(alphas[2], 24)*helpers.rateconverter(c,24,today)\\\n",
    "+ helpers.discountfactor(alphas[3], 36)*helpers.rateconverter(c,36,today)\\\n",
    "+ helpers.discountfactor(alphas[3], 48)*helpers.rateconverter(c,48,today)\\\n",
    "+ helpers.discountfactor(alphas[4], 60)*helpers.rateconverter(c,60,today)\\\n",
    "+ helpers.discountfactor(alphas[4], 72)*helpers.rateconverter(c,72,today)\\\n",
    "+ helpers.discountfactor(alphas[4], 84)*helpers.rateconverter(c,84,today)"
   ]
  },
  {
   "cell_type": "code",
   "execution_count": 31,
   "id": "579fad50-92f8-49c8-a73c-aac6f9d722a4",
   "metadata": {},
   "outputs": [
    {
     "data": {
      "text/plain": [
       "-0.0"
      ]
     },
     "execution_count": 31,
     "metadata": {},
     "output_type": "execute_result"
    }
   ],
   "source": [
    "np.around(couponsum - totalcoupons, 13) ## La diferencia es 0 hasta la 13a cifra significativa"
   ]
  },
  {
   "cell_type": "markdown",
   "id": "d0dfb86b-1cb7-4f55-a19a-62b4d6763f80",
   "metadata": {},
   "source": [
    "#### Calibración de curvas del último año"
   ]
  },
  {
   "cell_type": "code",
   "execution_count": 91,
   "id": "ece9c811-f3be-49e3-abb2-e0acddc5fa33",
   "metadata": {},
   "outputs": [],
   "source": [
    "lastyear = df.sort_index().loc['2021-02-04':'2022-02-04']"
   ]
  },
  {
   "cell_type": "code",
   "execution_count": 98,
   "id": "0c1ee376-ba12-4d53-acdd-e0b70af5d7a7",
   "metadata": {},
   "outputs": [
    {
     "data": {
      "text/html": [
       "<div>\n",
       "<style scoped>\n",
       "    .dataframe tbody tr th:only-of-type {\n",
       "        vertical-align: middle;\n",
       "    }\n",
       "\n",
       "    .dataframe tbody tr th {\n",
       "        vertical-align: top;\n",
       "    }\n",
       "\n",
       "    .dataframe thead th {\n",
       "        text-align: right;\n",
       "    }\n",
       "</style>\n",
       "<table border=\"1\" class=\"dataframe\">\n",
       "  <thead>\n",
       "    <tr style=\"text-align: right;\">\n",
       "      <th></th>\n",
       "      <th>10Y</th>\n",
       "      <th>7Y</th>\n",
       "      <th>5Y</th>\n",
       "      <th>3Y</th>\n",
       "      <th>2Y</th>\n",
       "      <th>1Y</th>\n",
       "      <th>6M</th>\n",
       "      <th>3M</th>\n",
       "    </tr>\n",
       "    <tr>\n",
       "      <th>Date</th>\n",
       "      <th></th>\n",
       "      <th></th>\n",
       "      <th></th>\n",
       "      <th></th>\n",
       "      <th></th>\n",
       "      <th></th>\n",
       "      <th></th>\n",
       "      <th></th>\n",
       "    </tr>\n",
       "  </thead>\n",
       "  <tbody>\n",
       "    <tr>\n",
       "      <th>2021-02-05</th>\n",
       "      <td>1.165</td>\n",
       "      <td>0.819</td>\n",
       "      <td>0.463</td>\n",
       "      <td>0.178</td>\n",
       "      <td>0.104</td>\n",
       "      <td>0.060</td>\n",
       "      <td>0.044</td>\n",
       "      <td>0.025</td>\n",
       "    </tr>\n",
       "    <tr>\n",
       "      <th>2021-02-12</th>\n",
       "      <td>1.211</td>\n",
       "      <td>0.847</td>\n",
       "      <td>0.492</td>\n",
       "      <td>0.196</td>\n",
       "      <td>0.111</td>\n",
       "      <td>0.065</td>\n",
       "      <td>0.053</td>\n",
       "      <td>0.039</td>\n",
       "    </tr>\n",
       "    <tr>\n",
       "      <th>2021-02-19</th>\n",
       "      <td>1.339</td>\n",
       "      <td>0.972</td>\n",
       "      <td>0.577</td>\n",
       "      <td>0.209</td>\n",
       "      <td>0.108</td>\n",
       "      <td>0.051</td>\n",
       "      <td>0.039</td>\n",
       "      <td>0.029</td>\n",
       "    </tr>\n",
       "  </tbody>\n",
       "</table>\n",
       "</div>"
      ],
      "text/plain": [
       "              10Y     7Y     5Y     3Y     2Y     1Y     6M     3M\n",
       "Date                                                              \n",
       "2021-02-05  1.165  0.819  0.463  0.178  0.104  0.060  0.044  0.025\n",
       "2021-02-12  1.211  0.847  0.492  0.196  0.111  0.065  0.053  0.039\n",
       "2021-02-19  1.339  0.972  0.577  0.209  0.108  0.051  0.039  0.029"
      ]
     },
     "execution_count": 98,
     "metadata": {},
     "output_type": "execute_result"
    }
   ],
   "source": [
    "try1"
   ]
  },
  {
   "cell_type": "code",
   "execution_count": 92,
   "id": "6abe6363-aae0-400e-af6d-1ef12a24334b",
   "metadata": {},
   "outputs": [],
   "source": [
    "try1 = lastyear.loc['2021-02-05':'2021-02-19']"
   ]
  },
  {
   "cell_type": "code",
   "execution_count": 104,
   "id": "fdf38e8f-a68b-443d-bbbb-5e692603a32a",
   "metadata": {},
   "outputs": [
    {
     "name": "stdout",
     "output_type": "stream",
     "text": [
      "Date\n",
      "2021-02-05    1.165\n",
      "2021-02-12    1.211\n",
      "2021-02-19    1.339\n",
      "Name: 10Y, dtype: float64\n",
      "Date\n",
      "2021-02-05    0.819\n",
      "2021-02-12    0.847\n",
      "2021-02-19    0.972\n",
      "Name: 7Y, dtype: float64\n",
      "Date\n",
      "2021-02-05    0.463\n",
      "2021-02-12    0.492\n",
      "2021-02-19    0.577\n",
      "Name: 5Y, dtype: float64\n",
      "Date\n",
      "2021-02-05    0.178\n",
      "2021-02-12    0.196\n",
      "2021-02-19    0.209\n",
      "Name: 3Y, dtype: float64\n",
      "Date\n",
      "2021-02-05    0.104\n",
      "2021-02-12    0.111\n",
      "2021-02-19    0.108\n",
      "Name: 2Y, dtype: float64\n",
      "Date\n",
      "2021-02-05    0.060\n",
      "2021-02-12    0.065\n",
      "2021-02-19    0.051\n",
      "Name: 1Y, dtype: float64\n",
      "Date\n",
      "2021-02-05    0.044\n",
      "2021-02-12    0.053\n",
      "2021-02-19    0.039\n",
      "Name: 6M, dtype: float64\n",
      "Date\n",
      "2021-02-05    0.025\n",
      "2021-02-12    0.039\n",
      "2021-02-19    0.029\n",
      "Name: 3M, dtype: float64\n"
     ]
    }
   ],
   "source": [
    "alpha_mat = []\n",
    "alphas = (0.1,0.11,0.12,0.13,0.14)\n",
    "for label, content in try1.iteritems():\n",
    "    currentyields = label\n",
    "    today = content\n",
    "    print(today)\n",
    "    maturitydates = [3,6,12,24,36,60,84,120]\n",
    "    #print(row)\n",
    "    #bondvalues = [bondvalue(today, i, currentyields, alphas) for i in maturitydates]\n",
    "    #print(bondvalues)\n",
    "    #errorval= np.sum(np.square(np.subtract(100,bondvalues)))\n",
    "    "
   ]
  },
  {
   "cell_type": "code",
   "execution_count": null,
   "id": "5cc29d98-b923-407b-800b-2e09d80c7c88",
   "metadata": {},
   "outputs": [],
   "source": []
  }
 ],
 "metadata": {
  "kernelspec": {
   "display_name": "Python 3 (ipykernel)",
   "language": "python",
   "name": "python3"
  },
  "language_info": {
   "codemirror_mode": {
    "name": "ipython",
    "version": 3
   },
   "file_extension": ".py",
   "mimetype": "text/x-python",
   "name": "python",
   "nbconvert_exporter": "python",
   "pygments_lexer": "ipython3",
   "version": "3.9.7"
  }
 },
 "nbformat": 4,
 "nbformat_minor": 5
}
