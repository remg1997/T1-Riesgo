{
 "cells": [
  {
   "cell_type": "code",
   "execution_count": 1,
   "id": "f0afcc4e-e98c-48ad-b51f-f6dc2b1c3226",
   "metadata": {},
   "outputs": [],
   "source": [
    "library(\"readxl\")"
   ]
  },
  {
   "cell_type": "code",
   "execution_count": 2,
   "id": "d18f324a-67d1-44be-aae4-6da1209ff9c8",
   "metadata": {},
   "outputs": [
    {
     "name": "stderr",
     "output_type": "stream",
     "text": [
      "\n",
      "Attaching package: ‘lubridate’\n",
      "\n",
      "The following object is masked from ‘package:base’:\n",
      "\n",
      "    date\n",
      "\n"
     ]
    }
   ],
   "source": [
    "library(\"lubridate\")"
   ]
  },
  {
   "cell_type": "code",
   "execution_count": 3,
   "id": "fd9a067d-bee2-44b6-97f5-5b0a841eacab",
   "metadata": {},
   "outputs": [
    {
     "data": {
      "text/html": [
       "<ol class=list-inline>\n",
       "\t<li>'.GlobalEnv'</li>\n",
       "\t<li>'package:lubridate'</li>\n",
       "\t<li>'package:readxl'</li>\n",
       "\t<li>'jupyter:irkernel'</li>\n",
       "\t<li>'package:stats'</li>\n",
       "\t<li>'package:graphics'</li>\n",
       "\t<li>'package:grDevices'</li>\n",
       "\t<li>'package:utils'</li>\n",
       "\t<li>'package:datasets'</li>\n",
       "\t<li>'package:methods'</li>\n",
       "\t<li>'Autoloads'</li>\n",
       "\t<li>'package:base'</li>\n",
       "</ol>\n"
      ],
      "text/latex": [
       "\\begin{enumerate*}\n",
       "\\item '.GlobalEnv'\n",
       "\\item 'package:lubridate'\n",
       "\\item 'package:readxl'\n",
       "\\item 'jupyter:irkernel'\n",
       "\\item 'package:stats'\n",
       "\\item 'package:graphics'\n",
       "\\item 'package:grDevices'\n",
       "\\item 'package:utils'\n",
       "\\item 'package:datasets'\n",
       "\\item 'package:methods'\n",
       "\\item 'Autoloads'\n",
       "\\item 'package:base'\n",
       "\\end{enumerate*}\n"
      ],
      "text/markdown": [
       "1. '.GlobalEnv'\n",
       "2. 'package:lubridate'\n",
       "3. 'package:readxl'\n",
       "4. 'jupyter:irkernel'\n",
       "5. 'package:stats'\n",
       "6. 'package:graphics'\n",
       "7. 'package:grDevices'\n",
       "8. 'package:utils'\n",
       "9. 'package:datasets'\n",
       "10. 'package:methods'\n",
       "11. 'Autoloads'\n",
       "12. 'package:base'\n",
       "\n",
       "\n"
      ],
      "text/plain": [
       " [1] \".GlobalEnv\"        \"package:lubridate\" \"package:readxl\"   \n",
       " [4] \"jupyter:irkernel\"  \"package:stats\"     \"package:graphics\" \n",
       " [7] \"package:grDevices\" \"package:utils\"     \"package:datasets\" \n",
       "[10] \"package:methods\"   \"Autoloads\"         \"package:base\"     "
      ]
     },
     "metadata": {},
     "output_type": "display_data"
    }
   ],
   "source": [
    "search()"
   ]
  },
  {
   "cell_type": "code",
   "execution_count": 4,
   "id": "5ba0a704-f05a-4a5f-a80e-2af93790495f",
   "metadata": {},
   "outputs": [],
   "source": [
    "source(\"helpers.R\")"
   ]
  },
  {
   "cell_type": "code",
   "execution_count": 5,
   "id": "9f0daf38-b921-4bb5-8ae8-d7111b9c9888",
   "metadata": {},
   "outputs": [],
   "source": [
    "path <- \"../data/data.xlsx\""
   ]
  },
  {
   "cell_type": "code",
   "execution_count": 6,
   "id": "1273d7c3-de1a-4dd6-92b4-ac589352aecd",
   "metadata": {},
   "outputs": [],
   "source": [
    "df <- DataFraming(path)"
   ]
  },
  {
   "cell_type": "code",
   "execution_count": 7,
   "id": "4301fc67-fb5d-4370-9e65-45a7b97fb714",
   "metadata": {},
   "outputs": [],
   "source": [
    "df <- df[-c(210),]"
   ]
  },
  {
   "cell_type": "code",
   "execution_count": 8,
   "id": "fbe01fa1-e480-4471-b334-0c3f9b8d8bbe",
   "metadata": {},
   "outputs": [],
   "source": [
    "df$Date <- as.Date(df$Date)"
   ]
  },
  {
   "cell_type": "code",
   "execution_count": 9,
   "id": "4b94c154-5d47-4cc6-b0eb-6a950de33181",
   "metadata": {},
   "outputs": [],
   "source": [
    "firstYields <- df[df$Date == \"2022-02-11\",]"
   ]
  },
  {
   "cell_type": "code",
   "execution_count": 10,
   "id": "7086da3b-8eb5-4aef-bd27-988ebcf96117",
   "metadata": {},
   "outputs": [
    {
     "data": {
      "text/html": [
       "<table>\n",
       "<thead><tr><th></th><th scope=col>Date</th><th scope=col>10Y</th><th scope=col>7Y</th><th scope=col>5Y</th><th scope=col>3Y</th><th scope=col>2Y</th><th scope=col>1Y</th><th scope=col>6M</th><th scope=col>3M</th></tr></thead>\n",
       "<tbody>\n",
       "\t<tr><th scope=row>209</th><td>2022-02-11</td><td>1.941     </td><td>1.94      </td><td>1.856     </td><td>1.728     </td><td>1.505     </td><td>1.029     </td><td>0.692     </td><td>0.359     </td></tr>\n",
       "</tbody>\n",
       "</table>\n"
      ],
      "text/latex": [
       "\\begin{tabular}{r|lllllllll}\n",
       "  & Date & 10Y & 7Y & 5Y & 3Y & 2Y & 1Y & 6M & 3M\\\\\n",
       "\\hline\n",
       "\t209 & 2022-02-11 & 1.941      & 1.94       & 1.856      & 1.728      & 1.505      & 1.029      & 0.692      & 0.359     \\\\\n",
       "\\end{tabular}\n"
      ],
      "text/markdown": [
       "\n",
       "| <!--/--> | Date | 10Y | 7Y | 5Y | 3Y | 2Y | 1Y | 6M | 3M |\n",
       "|---|---|---|---|---|---|---|---|---|---|\n",
       "| 209 | 2022-02-11 | 1.941      | 1.94       | 1.856      | 1.728      | 1.505      | 1.029      | 0.692      | 0.359      |\n",
       "\n"
      ],
      "text/plain": [
       "    Date       10Y   7Y   5Y    3Y    2Y    1Y    6M    3M   \n",
       "209 2022-02-11 1.941 1.94 1.856 1.728 1.505 1.029 0.692 0.359"
      ]
     },
     "metadata": {},
     "output_type": "display_data"
    }
   ],
   "source": [
    "firstYields"
   ]
  },
  {
   "cell_type": "markdown",
   "id": "9bb11ce8-5322-4e8d-94e3-24b70e8f874c",
   "metadata": {
    "tags": []
   },
   "source": [
    "#### Suponemos que: \n",
    "- $\\alpha_1$ representa la tasa forward entre 0 y 3 meses, \n",
    "- $\\alpha_2$ la tasa entre 3 meses y 1 año, \n",
    "- $\\alpha_3$ la tasa entre 1 y 3 años,\n",
    "- $\\alpha_4$ la tasa entre 3 y 5 años ,\n",
    "- $\\alpha_5$ la tasa entre 5 y 10 años. "
   ]
  },
  {
   "cell_type": "code",
   "execution_count": 11,
   "id": "2c2988b4-ca5a-4939-9c90-284a99ca4a24",
   "metadata": {},
   "outputs": [],
   "source": [
    "today <- firstYields$Date"
   ]
  },
  {
   "cell_type": "markdown",
   "id": "6332eca6-4725-4f2d-bc1f-b9a870a66bb4",
   "metadata": {
    "jp-MarkdownHeadingCollapsed": true,
    "tags": []
   },
   "source": [
    "#### Además, para traer a valor presente usando una curva forward, se sigue el factor de descuento a un plazo T es: "
   ]
  },
  {
   "cell_type": "markdown",
   "id": "9bae4002-2617-48f6-b0de-9ae6c48409ae",
   "metadata": {},
   "source": [
    "### $$ e^{-\\int_{0}^{T} f(t) \\,dt}$$"
   ]
  },
  {
   "cell_type": "markdown",
   "id": "28e8e0a4-27ee-497a-bdc5-754c4fd9956a",
   "metadata": {},
   "source": [
    "#### Definamos algunos objetos de utilidad. Cuántos cupones paga cada bono? Cómo ajustamos la tasa para cada pago?"
   ]
  },
  {
   "cell_type": "code",
   "execution_count": 175,
   "id": "6b2d359a-d534-45da-80f3-5b59d853b3eb",
   "metadata": {},
   "outputs": [],
   "source": [
    "alpha <- c(0.1,0.11,0.12,0.13,0.14)"
   ]
  },
  {
   "cell_type": "code",
   "execution_count": 176,
   "id": "81f5e08e-ea9d-4eb5-b77b-d3c0b97a53c1",
   "metadata": {},
   "outputs": [
    {
     "data": {
      "text/html": [
       "<ol class=list-inline>\n",
       "\t<li>0.1</li>\n",
       "\t<li>0.11</li>\n",
       "\t<li>0.12</li>\n",
       "\t<li>0.13</li>\n",
       "\t<li>0.14</li>\n",
       "</ol>\n"
      ],
      "text/latex": [
       "\\begin{enumerate*}\n",
       "\\item 0.1\n",
       "\\item 0.11\n",
       "\\item 0.12\n",
       "\\item 0.13\n",
       "\\item 0.14\n",
       "\\end{enumerate*}\n"
      ],
      "text/markdown": [
       "1. 0.1\n",
       "2. 0.11\n",
       "3. 0.12\n",
       "4. 0.13\n",
       "5. 0.14\n",
       "\n",
       "\n"
      ],
      "text/plain": [
       "[1] 0.10 0.11 0.12 0.13 0.14"
      ]
     },
     "metadata": {},
     "output_type": "display_data"
    }
   ],
   "source": [
    "alpha"
   ]
  },
  {
   "cell_type": "code",
   "execution_count": 14,
   "id": "59e4a6f7-faa9-4487-924f-d0ae2183bae8",
   "metadata": {},
   "outputs": [],
   "source": [
    "today = firstYields$Date"
   ]
  },
  {
   "cell_type": "code",
   "execution_count": 15,
   "id": "c70ad683-f043-40a1-8c79-c2b252a180c3",
   "metadata": {},
   "outputs": [],
   "source": [
    "threeMonthBond <- 100 + RateConverter(firstYields[[\"3M\"]],3,today)*DiscountFactor(alpha, 3)"
   ]
  },
  {
   "cell_type": "code",
   "execution_count": 16,
   "id": "49fcd4d8-e5f0-4a20-a6be-c88a6824e404",
   "metadata": {},
   "outputs": [],
   "source": [
    "sixMonthBond <- 100 + RateConverter(firstYields[[\"6M\"]], 6, today)*DiscountFactor(alpha, 6)"
   ]
  },
  {
   "cell_type": "code",
   "execution_count": 17,
   "id": "9be5d8b6-9a81-4afc-8886-3a0d41b3ec35",
   "metadata": {},
   "outputs": [
    {
     "data": {
      "text/html": [
       "100.141454619505"
      ],
      "text/latex": [
       "100.141454619505"
      ],
      "text/markdown": [
       "100.141454619505"
      ],
      "text/plain": [
       "[1] 100.1415"
      ]
     },
     "metadata": {},
     "output_type": "display_data"
    }
   ],
   "source": [
    "sixMonthBond"
   ]
  },
  {
   "cell_type": "code",
   "execution_count": 18,
   "id": "daf01f17-8f1a-4914-aaf2-f1e0a94d5b88",
   "metadata": {},
   "outputs": [],
   "source": [
    "oneYearBond <- 100 +  RateConverter(firstYields[[\"1Y\"]], 6, today) *DiscountFactor(alpha, 6) + RateConverter(firstYields[[\"1Y\"]], 12, today)*DiscountFactor(alpha, 12)"
   ]
  },
  {
   "cell_type": "code",
   "execution_count": 19,
   "id": "9c98ba37-727e-49ea-afa2-0bd47f372468",
   "metadata": {},
   "outputs": [
    {
     "data": {
      "text/html": [
       "100.338099972673"
      ],
      "text/latex": [
       "100.338099972673"
      ],
      "text/markdown": [
       "100.338099972673"
      ],
      "text/plain": [
       "[1] 100.3381"
      ]
     },
     "metadata": {},
     "output_type": "display_data"
    }
   ],
   "source": [
    "oneYearBond"
   ]
  },
  {
   "cell_type": "code",
   "execution_count": 20,
   "id": "96e3f441-d8d9-45b8-acb7-729870b91fdc",
   "metadata": {},
   "outputs": [],
   "source": [
    "maturity<- 36"
   ]
  },
  {
   "cell_type": "code",
   "execution_count": 21,
   "id": "8e363417-8362-44e5-93bd-73a14c0f09c2",
   "metadata": {},
   "outputs": [],
   "source": [
    "periods <- seq(6, maturity, 6)"
   ]
  },
  {
   "cell_type": "code",
   "execution_count": 22,
   "id": "af2e17af-7784-482b-b5c0-b86a49bb7b7e",
   "metadata": {},
   "outputs": [
    {
     "data": {
      "text/html": [
       "100.065749674914"
      ],
      "text/latex": [
       "100.065749674914"
      ],
      "text/markdown": [
       "100.065749674914"
      ],
      "text/plain": [
       "[1] 100.0657"
      ]
     },
     "metadata": {},
     "output_type": "display_data"
    }
   ],
   "source": [
    "threeMonthBond"
   ]
  },
  {
   "cell_type": "code",
   "execution_count": 23,
   "id": "55ec8d82-c8eb-4cc3-b192-56ce7e3cd55a",
   "metadata": {},
   "outputs": [],
   "source": [
    "singleBondPayment <- function(maturity, yield, alpha, today){\n",
    "    return (RateConverter(yield, maturity,today)*DiscountFactor(alpha, maturity))\n",
    "}"
   ]
  },
  {
   "cell_type": "code",
   "execution_count": 24,
   "id": "50ca64bd-641b-49e6-9862-25920a4de86a",
   "metadata": {},
   "outputs": [
    {
     "data": {
      "text/html": [
       "0.0657496749138932"
      ],
      "text/latex": [
       "0.0657496749138932"
      ],
      "text/markdown": [
       "0.0657496749138932"
      ],
      "text/plain": [
       "[1] 0.06574967"
      ]
     },
     "metadata": {},
     "output_type": "display_data"
    }
   ],
   "source": [
    "singleBondPayment(3,firstYields[[\"3M\"]], alpha, today)"
   ]
  },
  {
   "cell_type": "code",
   "execution_count": 59,
   "id": "ce498c1e-5ec0-487f-9ec2-d9a32b077f61",
   "metadata": {},
   "outputs": [],
   "source": [
    "yieldList <- list(firstYields)"
   ]
  },
  {
   "cell_type": "code",
   "execution_count": 129,
   "id": "c504d27d-c7d9-459b-92bc-989981ea5db8",
   "metadata": {},
   "outputs": [],
   "source": [
    "nombres <- colnames(firstYields)"
   ]
  },
  {
   "cell_type": "code",
   "execution_count": 130,
   "id": "8d12a55e-80db-4d9b-9d63-6d4fee00e44f",
   "metadata": {},
   "outputs": [],
   "source": [
    "nombres <- nombres[-1]"
   ]
  },
  {
   "cell_type": "code",
   "execution_count": 131,
   "id": "d7231767-3339-4bc2-a79f-118be492db4f",
   "metadata": {},
   "outputs": [
    {
     "data": {
      "text/html": [
       "<ol class=list-inline>\n",
       "\t<li>'10Y'</li>\n",
       "\t<li>'7Y'</li>\n",
       "\t<li>'5Y'</li>\n",
       "\t<li>'3Y'</li>\n",
       "\t<li>'2Y'</li>\n",
       "\t<li>'1Y'</li>\n",
       "\t<li>'6M'</li>\n",
       "\t<li>'3M'</li>\n",
       "</ol>\n"
      ],
      "text/latex": [
       "\\begin{enumerate*}\n",
       "\\item '10Y'\n",
       "\\item '7Y'\n",
       "\\item '5Y'\n",
       "\\item '3Y'\n",
       "\\item '2Y'\n",
       "\\item '1Y'\n",
       "\\item '6M'\n",
       "\\item '3M'\n",
       "\\end{enumerate*}\n"
      ],
      "text/markdown": [
       "1. '10Y'\n",
       "2. '7Y'\n",
       "3. '5Y'\n",
       "4. '3Y'\n",
       "5. '2Y'\n",
       "6. '1Y'\n",
       "7. '6M'\n",
       "8. '3M'\n",
       "\n",
       "\n"
      ],
      "text/plain": [
       "[1] \"10Y\" \"7Y\"  \"5Y\"  \"3Y\"  \"2Y\"  \"1Y\"  \"6M\"  \"3M\" "
      ]
     },
     "metadata": {},
     "output_type": "display_data"
    }
   ],
   "source": [
    "nombres"
   ]
  },
  {
   "cell_type": "code",
   "execution_count": 133,
   "id": "cb1dbc36-9b49-4b39-8d74-b7ae078b89d2",
   "metadata": {},
   "outputs": [],
   "source": [
    "nombres <- as.list(nombres)"
   ]
  },
  {
   "cell_type": "code",
   "execution_count": 134,
   "id": "7ae67d55-2043-4beb-81c1-cd95a63c9ffe",
   "metadata": {},
   "outputs": [],
   "source": [
    "names(nombres) <- c(120,84,60,36,24,12,6,3) "
   ]
  },
  {
   "cell_type": "code",
   "execution_count": 177,
   "id": "f6812e41-02f5-43be-8f93-d2270415c6c8",
   "metadata": {},
   "outputs": [],
   "source": [
    "BondValue <- function (today, maturity, yieldlist,alpha ){\n",
    "    if (maturity == 3){\n",
    "        return (100 + singleBondPayment(3,yieldlist[[\"3M\"]], alpha, today))\n",
    "        }\n",
    "    setter <- as.character(maturity)\n",
    "    periods <- seq(6, maturity, 6)\n",
    "    bondSum <- sum(unlist(lapply(periods, function(x) singleBondPayment(x, yield = yieldlist[[nombres[[setter]]]],  alpha = alpha, today = today))))\n",
    "    return(bondSum +100)\n",
    "}"
   ]
  },
  {
   "cell_type": "code",
   "execution_count": 189,
   "id": "e115c3d4-be49-46e5-8e11-3f9ef159fb8c",
   "metadata": {},
   "outputs": [
    {
     "data": {
      "text/html": [
       "102.060264192098"
      ],
      "text/latex": [
       "102.060264192098"
      ],
      "text/markdown": [
       "102.060264192098"
      ],
      "text/plain": [
       "[1] 102.0603"
      ]
     },
     "metadata": {},
     "output_type": "display_data"
    }
   ],
   "source": [
    "BondValue(today, 120, firstYields, alpha)"
   ]
  },
  {
   "cell_type": "code",
   "execution_count": 191,
   "id": "a02e0b57-dea3-4c91-9c7d-3af12d4cdacd",
   "metadata": {},
   "outputs": [],
   "source": [
    "maturities <- c(120,84,60,36,24,12,6,3) "
   ]
  },
  {
   "cell_type": "code",
   "execution_count": 192,
   "id": "c12697eb-70c7-41cb-a52c-b9e0c43eae60",
   "metadata": {},
   "outputs": [],
   "source": [
    "bondValues <- list()\n",
    "for (i in maturities){\n",
    "    bondValues <- append(bondValues, BondValue(today, i, firstYields, alpha))\n",
    "}"
   ]
  },
  {
   "cell_type": "code",
   "execution_count": 193,
   "id": "e09def6e-e88a-447e-ab5c-7a7417b38b47",
   "metadata": {},
   "outputs": [
    {
     "data": {
      "text/html": [
       "<ol>\n",
       "\t<li>102.060264192098</li>\n",
       "\t<li>102.058926091009</li>\n",
       "\t<li>101.964308194047</li>\n",
       "\t<li>101.744937026126</li>\n",
       "\t<li>101.327915218621</li>\n",
       "\t<li>100.56272852059</li>\n",
       "\t<li>100.185300522944</li>\n",
       "\t<li>100.065749674914</li>\n",
       "</ol>\n"
      ],
      "text/latex": [
       "\\begin{enumerate}\n",
       "\\item 102.060264192098\n",
       "\\item 102.058926091009\n",
       "\\item 101.964308194047\n",
       "\\item 101.744937026126\n",
       "\\item 101.327915218621\n",
       "\\item 100.56272852059\n",
       "\\item 100.185300522944\n",
       "\\item 100.065749674914\n",
       "\\end{enumerate}\n"
      ],
      "text/markdown": [
       "1. 102.060264192098\n",
       "2. 102.058926091009\n",
       "3. 101.964308194047\n",
       "4. 101.744937026126\n",
       "5. 101.327915218621\n",
       "6. 100.56272852059\n",
       "7. 100.185300522944\n",
       "8. 100.065749674914\n",
       "\n",
       "\n"
      ],
      "text/plain": [
       "[[1]]\n",
       "[1] 102.0603\n",
       "\n",
       "[[2]]\n",
       "[1] 102.0589\n",
       "\n",
       "[[3]]\n",
       "[1] 101.9643\n",
       "\n",
       "[[4]]\n",
       "[1] 101.7449\n",
       "\n",
       "[[5]]\n",
       "[1] 101.3279\n",
       "\n",
       "[[6]]\n",
       "[1] 100.5627\n",
       "\n",
       "[[7]]\n",
       "[1] 100.1853\n",
       "\n",
       "[[8]]\n",
       "[1] 100.0657\n"
      ]
     },
     "metadata": {},
     "output_type": "display_data"
    }
   ],
   "source": [
    "bondValues"
   ]
  },
  {
   "cell_type": "code",
   "execution_count": 207,
   "id": "58a47576-09dd-44a6-9d58-47053a7f21fe",
   "metadata": {},
   "outputs": [],
   "source": [
    "error <-function(alpha){\n",
    "    maturities <- c(3,6,12,24,36,60,84,120) \n",
    "    bondValues <- list()\n",
    "    for (i in maturities){\n",
    "        bondValues <- append(bondValues, BondValue(today, i, firstYields, alpha))\n",
    "    }\n",
    "    error <- sum((unlist(bondValues)-100)**2)\n",
    "    return (error)\n",
    "}"
   ]
  },
  {
   "cell_type": "code",
   "execution_count": 211,
   "id": "7c7a9065-9e84-47c2-9239-9d782356225c",
   "metadata": {},
   "outputs": [
    {
     "name": "stderr",
     "output_type": "stream",
     "text": [
      "Warning message in optim(alpha, error, lower = 0, upper = 1, method = \"BFGS\"):\n",
      "“bounds can only be used with method L-BFGS-B (or Brent)”"
     ]
    },
    {
     "data": {
      "text/html": [
       "<dl>\n",
       "\t<dt>$par</dt>\n",
       "\t\t<dd><ol class=list-inline>\n",
       "\t<li>1</li>\n",
       "\t<li>1</li>\n",
       "\t<li>1</li>\n",
       "\t<li>1</li>\n",
       "\t<li>0.654372718982784</li>\n",
       "</ol>\n",
       "</dd>\n",
       "\t<dt>$value</dt>\n",
       "\t\t<dd>4.73865778151899e-05</dd>\n",
       "\t<dt>$counts</dt>\n",
       "\t\t<dd><dl class=dl-horizontal>\n",
       "\t<dt>function</dt>\n",
       "\t\t<dd>2</dd>\n",
       "\t<dt>gradient</dt>\n",
       "\t\t<dd>2</dd>\n",
       "</dl>\n",
       "</dd>\n",
       "\t<dt>$convergence</dt>\n",
       "\t\t<dd>0</dd>\n",
       "\t<dt>$message</dt>\n",
       "\t\t<dd>'CONVERGENCE: NORM OF PROJECTED GRADIENT &lt;= PGTOL'</dd>\n",
       "</dl>\n"
      ],
      "text/latex": [
       "\\begin{description}\n",
       "\\item[\\$par] \\begin{enumerate*}\n",
       "\\item 1\n",
       "\\item 1\n",
       "\\item 1\n",
       "\\item 1\n",
       "\\item 0.654372718982784\n",
       "\\end{enumerate*}\n",
       "\n",
       "\\item[\\$value] 4.73865778151899e-05\n",
       "\\item[\\$counts] \\begin{description*}\n",
       "\\item[function] 2\n",
       "\\item[gradient] 2\n",
       "\\end{description*}\n",
       "\n",
       "\\item[\\$convergence] 0\n",
       "\\item[\\$message] 'CONVERGENCE: NORM OF PROJECTED GRADIENT <= PGTOL'\n",
       "\\end{description}\n"
      ],
      "text/markdown": [
       "$par\n",
       ":   1. 1\n",
       "2. 1\n",
       "3. 1\n",
       "4. 1\n",
       "5. 0.654372718982784\n",
       "\n",
       "\n",
       "\n",
       "$value\n",
       ":   4.73865778151899e-05\n",
       "$counts\n",
       ":   function\n",
       ":   2gradient\n",
       ":   2\n",
       "\n",
       "\n",
       "$convergence\n",
       ":   0\n",
       "$message\n",
       ":   'CONVERGENCE: NORM OF PROJECTED GRADIENT &lt;= PGTOL'\n",
       "\n",
       "\n"
      ],
      "text/plain": [
       "$par\n",
       "[1] 1.0000000 1.0000000 1.0000000 1.0000000 0.6543727\n",
       "\n",
       "$value\n",
       "[1] 4.738658e-05\n",
       "\n",
       "$counts\n",
       "function gradient \n",
       "       2        2 \n",
       "\n",
       "$convergence\n",
       "[1] 0\n",
       "\n",
       "$message\n",
       "[1] \"CONVERGENCE: NORM OF PROJECTED GRADIENT <= PGTOL\"\n"
      ]
     },
     "metadata": {},
     "output_type": "display_data"
    }
   ],
   "source": [
    "optim(alpha, error, lower = 0, upper= 1, method = \"BFGS\")"
   ]
  },
  {
   "cell_type": "code",
   "execution_count": null,
   "id": "a40166af-e090-43ee-bc10-27c225afcea5",
   "metadata": {},
   "outputs": [],
   "source": []
  }
 ],
 "metadata": {
  "kernelspec": {
   "display_name": "R",
   "language": "R",
   "name": "python382jvsc74a57bd0148b0dbddbe6a2b7a7d89d2923ec102c67402376322f0d25049076043f0f1ae2"
  },
  "language_info": {
   "codemirror_mode": "r",
   "file_extension": ".r",
   "mimetype": "text/x-r-source",
   "name": "R",
   "pygments_lexer": "r",
   "version": "3.6.1"
  }
 },
 "nbformat": 4,
 "nbformat_minor": 5
}
