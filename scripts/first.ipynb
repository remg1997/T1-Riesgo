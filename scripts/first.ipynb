{
 "cells": [
  {
   "cell_type": "code",
   "execution_count": 1,
   "id": "f0afcc4e-e98c-48ad-b51f-f6dc2b1c3226",
   "metadata": {},
   "outputs": [
    {
     "name": "stderr",
     "output_type": "stream",
     "text": [
      "Warning message:\n",
      "\"package 'readxl' was built under R version 3.6.3\""
     ]
    }
   ],
   "source": [
    "library(\"readxl\")"
   ]
  },
  {
   "cell_type": "code",
   "execution_count": 2,
   "id": "d18f324a-67d1-44be-aae4-6da1209ff9c8",
   "metadata": {},
   "outputs": [
    {
     "name": "stderr",
     "output_type": "stream",
     "text": [
      "Warning message:\n",
      "\"package 'lubridate' was built under R version 3.6.3\"\n",
      "Attaching package: 'lubridate'\n",
      "\n",
      "The following objects are masked from 'package:base':\n",
      "\n",
      "    date, intersect, setdiff, union\n",
      "\n"
     ]
    }
   ],
   "source": [
    "library(\"lubridate\")"
   ]
  },
  {
   "cell_type": "code",
   "execution_count": 3,
   "id": "fd9a067d-bee2-44b6-97f5-5b0a841eacab",
   "metadata": {},
   "outputs": [
    {
     "data": {
      "text/html": [
       "<style>\n",
       ".list-inline {list-style: none; margin:0; padding: 0}\n",
       ".list-inline>li {display: inline-block}\n",
       ".list-inline>li:not(:last-child)::after {content: \"\\00b7\"; padding: 0 .5ex}\n",
       "</style>\n",
       "<ol class=list-inline><li>'.GlobalEnv'</li><li>'package:lubridate'</li><li>'package:readxl'</li><li>'jupyter:irkernel'</li><li>'jupyter:irkernel'</li><li>'package:stats'</li><li>'package:graphics'</li><li>'package:grDevices'</li><li>'package:utils'</li><li>'package:datasets'</li><li>'package:methods'</li><li>'Autoloads'</li><li>'package:base'</li></ol>\n"
      ],
      "text/latex": [
       "\\begin{enumerate*}\n",
       "\\item '.GlobalEnv'\n",
       "\\item 'package:lubridate'\n",
       "\\item 'package:readxl'\n",
       "\\item 'jupyter:irkernel'\n",
       "\\item 'jupyter:irkernel'\n",
       "\\item 'package:stats'\n",
       "\\item 'package:graphics'\n",
       "\\item 'package:grDevices'\n",
       "\\item 'package:utils'\n",
       "\\item 'package:datasets'\n",
       "\\item 'package:methods'\n",
       "\\item 'Autoloads'\n",
       "\\item 'package:base'\n",
       "\\end{enumerate*}\n"
      ],
      "text/markdown": [
       "1. '.GlobalEnv'\n",
       "2. 'package:lubridate'\n",
       "3. 'package:readxl'\n",
       "4. 'jupyter:irkernel'\n",
       "5. 'jupyter:irkernel'\n",
       "6. 'package:stats'\n",
       "7. 'package:graphics'\n",
       "8. 'package:grDevices'\n",
       "9. 'package:utils'\n",
       "10. 'package:datasets'\n",
       "11. 'package:methods'\n",
       "12. 'Autoloads'\n",
       "13. 'package:base'\n",
       "\n",
       "\n"
      ],
      "text/plain": [
       " [1] \".GlobalEnv\"        \"package:lubridate\" \"package:readxl\"   \n",
       " [4] \"jupyter:irkernel\"  \"jupyter:irkernel\"  \"package:stats\"    \n",
       " [7] \"package:graphics\"  \"package:grDevices\" \"package:utils\"    \n",
       "[10] \"package:datasets\"  \"package:methods\"   \"Autoloads\"        \n",
       "[13] \"package:base\"     "
      ]
     },
     "metadata": {},
     "output_type": "display_data"
    }
   ],
   "source": [
    "search()"
   ]
  },
  {
   "cell_type": "code",
   "execution_count": 4,
   "id": "5ba0a704-f05a-4a5f-a80e-2af93790495f",
   "metadata": {},
   "outputs": [],
   "source": [
    "source(\"helpers.R\")"
   ]
  },
  {
   "cell_type": "code",
   "execution_count": 5,
   "id": "9f0daf38-b921-4bb5-8ae8-d7111b9c9888",
   "metadata": {},
   "outputs": [],
   "source": [
    "path <- \"../data/data.xlsx\""
   ]
  },
  {
   "cell_type": "code",
   "execution_count": 6,
   "id": "1273d7c3-de1a-4dd6-92b4-ac589352aecd",
   "metadata": {},
   "outputs": [],
   "source": [
    "df <- Dataframing(path)"
   ]
  },
  {
   "cell_type": "code",
   "execution_count": 7,
   "id": "4301fc67-fb5d-4370-9e65-45a7b97fb714",
   "metadata": {},
   "outputs": [],
   "source": [
    "df <- df[-c(210),]"
   ]
  },
  {
   "cell_type": "code",
   "execution_count": 8,
   "id": "fbe01fa1-e480-4471-b334-0c3f9b8d8bbe",
   "metadata": {},
   "outputs": [],
   "source": [
    "df$Date <- as.Date(df$Date)"
   ]
  },
  {
   "cell_type": "code",
   "execution_count": 9,
   "id": "4b94c154-5d47-4cc6-b0eb-6a950de33181",
   "metadata": {},
   "outputs": [],
   "source": [
    "firstYields <- df[df$Date == \"2022-02-11\",]"
   ]
  },
  {
   "cell_type": "code",
   "execution_count": 10,
   "id": "7086da3b-8eb5-4aef-bd27-988ebcf96117",
   "metadata": {},
   "outputs": [
    {
     "data": {
      "text/html": [
       "<table class=\"dataframe\">\n",
       "<caption>A data.frame: 1 × 9</caption>\n",
       "<thead>\n",
       "\t<tr><th></th><th scope=col>Date</th><th scope=col>10Y</th><th scope=col>7Y</th><th scope=col>5Y</th><th scope=col>3Y</th><th scope=col>2Y</th><th scope=col>1Y</th><th scope=col>6M</th><th scope=col>3M</th></tr>\n",
       "\t<tr><th></th><th scope=col>&lt;date&gt;</th><th scope=col>&lt;dbl&gt;</th><th scope=col>&lt;dbl&gt;</th><th scope=col>&lt;dbl&gt;</th><th scope=col>&lt;dbl&gt;</th><th scope=col>&lt;dbl&gt;</th><th scope=col>&lt;dbl&gt;</th><th scope=col>&lt;dbl&gt;</th><th scope=col>&lt;dbl&gt;</th></tr>\n",
       "</thead>\n",
       "<tbody>\n",
       "\t<tr><th scope=row>209</th><td>2022-02-11</td><td>1.941</td><td>1.94</td><td>1.856</td><td>1.728</td><td>1.505</td><td>1.029</td><td>0.692</td><td>0.359</td></tr>\n",
       "</tbody>\n",
       "</table>\n"
      ],
      "text/latex": [
       "A data.frame: 1 × 9\n",
       "\\begin{tabular}{r|lllllllll}\n",
       "  & Date & 10Y & 7Y & 5Y & 3Y & 2Y & 1Y & 6M & 3M\\\\\n",
       "  & <date> & <dbl> & <dbl> & <dbl> & <dbl> & <dbl> & <dbl> & <dbl> & <dbl>\\\\\n",
       "\\hline\n",
       "\t209 & 2022-02-11 & 1.941 & 1.94 & 1.856 & 1.728 & 1.505 & 1.029 & 0.692 & 0.359\\\\\n",
       "\\end{tabular}\n"
      ],
      "text/markdown": [
       "\n",
       "A data.frame: 1 × 9\n",
       "\n",
       "| <!--/--> | Date &lt;date&gt; | 10Y &lt;dbl&gt; | 7Y &lt;dbl&gt; | 5Y &lt;dbl&gt; | 3Y &lt;dbl&gt; | 2Y &lt;dbl&gt; | 1Y &lt;dbl&gt; | 6M &lt;dbl&gt; | 3M &lt;dbl&gt; |\n",
       "|---|---|---|---|---|---|---|---|---|---|\n",
       "| 209 | 2022-02-11 | 1.941 | 1.94 | 1.856 | 1.728 | 1.505 | 1.029 | 0.692 | 0.359 |\n",
       "\n"
      ],
      "text/plain": [
       "    Date       10Y   7Y   5Y    3Y    2Y    1Y    6M    3M   \n",
       "209 2022-02-11 1.941 1.94 1.856 1.728 1.505 1.029 0.692 0.359"
      ]
     },
     "metadata": {},
     "output_type": "display_data"
    }
   ],
   "source": [
    "firstYields"
   ]
  },
  {
   "cell_type": "markdown",
   "id": "9bb11ce8-5322-4e8d-94e3-24b70e8f874c",
   "metadata": {
    "tags": []
   },
   "source": [
    "#### Suponemos que: \n",
    "- $\\alpha_1$ representa la tasa forward entre 0 y 3 meses, \n",
    "- $\\alpha_2$ la tasa entre 3 meses y 1 año, \n",
    "- $\\alpha_3$ la tasa entre 1 y 3 años,\n",
    "- $\\alpha_4$ la tasa entre 3 y 5 años ,\n",
    "- $\\alpha_5$ la tasa entre 5 y 10 años. "
   ]
  },
  {
   "cell_type": "code",
   "execution_count": 11,
   "id": "2c2988b4-ca5a-4939-9c90-284a99ca4a24",
   "metadata": {},
   "outputs": [],
   "source": [
    "today <- firstYields$Date"
   ]
  },
  {
   "cell_type": "markdown",
   "id": "6332eca6-4725-4f2d-bc1f-b9a870a66bb4",
   "metadata": {
    "jp-MarkdownHeadingCollapsed": true,
    "tags": []
   },
   "source": [
    "#### Además, para traer a valor presente usando una curva forward, se sigue el factor de descuento a un plazo T es: "
   ]
  },
  {
   "cell_type": "markdown",
   "id": "9bae4002-2617-48f6-b0de-9ae6c48409ae",
   "metadata": {},
   "source": [
    "### $$ e^{-\\int_{0}^{T} f(t) \\,dt}$$"
   ]
  },
  {
   "cell_type": "markdown",
   "id": "28e8e0a4-27ee-497a-bdc5-754c4fd9956a",
   "metadata": {},
   "source": [
    "#### Definamos algunos objetos de utilidad. Cuántos cupones paga cada bono? Cómo ajustamos la tasa para cada pago?"
   ]
  },
  {
   "cell_type": "code",
   "execution_count": 12,
   "id": "6b2d359a-d534-45da-80f3-5b59d853b3eb",
   "metadata": {},
   "outputs": [],
   "source": [
    "alpha <- c(0.1,0.11,0.12,0.13,0.14)"
   ]
  },
  {
   "cell_type": "code",
   "execution_count": 13,
   "id": "81f5e08e-ea9d-4eb5-b77b-d3c0b97a53c1",
   "metadata": {},
   "outputs": [
    {
     "data": {
      "text/html": [
       "<style>\n",
       ".list-inline {list-style: none; margin:0; padding: 0}\n",
       ".list-inline>li {display: inline-block}\n",
       ".list-inline>li:not(:last-child)::after {content: \"\\00b7\"; padding: 0 .5ex}\n",
       "</style>\n",
       "<ol class=list-inline><li>0.1</li><li>0.11</li><li>0.12</li><li>0.13</li><li>0.14</li></ol>\n"
      ],
      "text/latex": [
       "\\begin{enumerate*}\n",
       "\\item 0.1\n",
       "\\item 0.11\n",
       "\\item 0.12\n",
       "\\item 0.13\n",
       "\\item 0.14\n",
       "\\end{enumerate*}\n"
      ],
      "text/markdown": [
       "1. 0.1\n",
       "2. 0.11\n",
       "3. 0.12\n",
       "4. 0.13\n",
       "5. 0.14\n",
       "\n",
       "\n"
      ],
      "text/plain": [
       "[1] 0.10 0.11 0.12 0.13 0.14"
      ]
     },
     "metadata": {},
     "output_type": "display_data"
    }
   ],
   "source": [
    "alpha"
   ]
  },
  {
   "cell_type": "code",
   "execution_count": 14,
   "id": "59e4a6f7-faa9-4487-924f-d0ae2183bae8",
   "metadata": {},
   "outputs": [],
   "source": [
    "today = firstYields$Date"
   ]
  },
  {
   "cell_type": "code",
   "execution_count": 15,
   "id": "c70ad683-f043-40a1-8c79-c2b252a180c3",
   "metadata": {},
   "outputs": [
    {
     "data": {
      "text/html": [
       "100.039968141341"
      ],
      "text/latex": [
       "100.039968141341"
      ],
      "text/markdown": [
       "100.039968141341"
      ],
      "text/plain": [
       "[1] 100.04"
      ]
     },
     "metadata": {},
     "output_type": "display_data"
    },
    {
     "data": {
      "text/html": [
       "0.0409799396557053"
      ],
      "text/latex": [
       "0.0409799396557053"
      ],
      "text/markdown": [
       "0.0409799396557053"
      ],
      "text/plain": [
       "[1] 0.04097994"
      ]
     },
     "metadata": {},
     "output_type": "display_data"
    },
    {
     "data": {
      "text/html": [
       "0.0409799396557053"
      ],
      "text/latex": [
       "0.0409799396557053"
      ],
      "text/markdown": [
       "0.0409799396557053"
      ],
      "text/plain": [
       "[1] 0.04097994"
      ]
     },
     "metadata": {},
     "output_type": "display_data"
    },
    {
     "data": {
      "text/html": [
       "0.430324567535074"
      ],
      "text/latex": [
       "0.430324567535074"
      ],
      "text/markdown": [
       "0.430324567535074"
      ],
      "text/plain": [
       "[1] 0.4303246"
      ]
     },
     "metadata": {},
     "output_type": "display_data"
    }
   ],
   "source": [
    "threeMonthBond <- 100 + RateConverter(firstYields[[\"3M\"]],3,today)*DiscountFactor(alpha, 3)\n",
    "threeMonthBond\n",
    "RateConverter(firstYields[[\"3M\"]],3,today)\n",
    "RateConverter(0.359,3,today)\n",
    "RateConverter(firstYields[[\"1Y\"]],12,today)\n"
   ]
  },
  {
   "cell_type": "code",
   "execution_count": 16,
   "id": "49fcd4d8-e5f0-4a20-a6be-c88a6824e404",
   "metadata": {},
   "outputs": [],
   "source": [
    "sixMonthBond <- 100 + RateConverter(firstYields[[\"6M\"]], 6, today)*DiscountFactor(alpha, 6)"
   ]
  },
  {
   "cell_type": "code",
   "execution_count": 17,
   "id": "9be5d8b6-9a81-4afc-8886-3a0d41b3ec35",
   "metadata": {},
   "outputs": [
    {
     "data": {
      "text/html": [
       "100.143485723021"
      ],
      "text/latex": [
       "100.143485723021"
      ],
      "text/markdown": [
       "100.143485723021"
      ],
      "text/plain": [
       "[1] 100.1435"
      ]
     },
     "metadata": {},
     "output_type": "display_data"
    }
   ],
   "source": [
    "sixMonthBond"
   ]
  },
  {
   "cell_type": "code",
   "execution_count": 18,
   "id": "daf01f17-8f1a-4914-aaf2-f1e0a94d5b88",
   "metadata": {},
   "outputs": [],
   "source": [
    "oneYearBond <- 100 +  RateConverter(firstYields[[\"1Y\"]], 6, today) *DiscountFactor(alpha, 6) + RateConverter(firstYields[[\"1Y\"]], 12, today)*DiscountFactor(alpha, 12)"
   ]
  },
  {
   "cell_type": "code",
   "execution_count": 19,
   "id": "9c98ba37-727e-49ea-afa2-0bd47f372468",
   "metadata": {},
   "outputs": [
    {
     "data": {
      "text/html": [
       "100.588944045632"
      ],
      "text/latex": [
       "100.588944045632"
      ],
      "text/markdown": [
       "100.588944045632"
      ],
      "text/plain": [
       "[1] 100.5889"
      ]
     },
     "metadata": {},
     "output_type": "display_data"
    }
   ],
   "source": [
    "oneYearBond"
   ]
  },
  {
   "cell_type": "code",
   "execution_count": 20,
   "id": "96e3f441-d8d9-45b8-acb7-729870b91fdc",
   "metadata": {},
   "outputs": [],
   "source": [
    "maturity<- 36"
   ]
  },
  {
   "cell_type": "code",
   "execution_count": 21,
   "id": "8e363417-8362-44e5-93bd-73a14c0f09c2",
   "metadata": {},
   "outputs": [],
   "source": [
    "periods <- seq(6, maturity, 6)"
   ]
  },
  {
   "cell_type": "code",
   "execution_count": 22,
   "id": "af2e17af-7784-482b-b5c0-b86a49bb7b7e",
   "metadata": {},
   "outputs": [
    {
     "data": {
      "text/html": [
       "100.039968141341"
      ],
      "text/latex": [
       "100.039968141341"
      ],
      "text/markdown": [
       "100.039968141341"
      ],
      "text/plain": [
       "[1] 100.04"
      ]
     },
     "metadata": {},
     "output_type": "display_data"
    }
   ],
   "source": [
    "threeMonthBond"
   ]
  },
  {
   "cell_type": "markdown",
   "metadata": {},
   "source": [
    "Recordemos que cada pago está dado por :  \n",
    "\n",
    "$$\\$100\\times R \\times \\frac{ACT}{360}$$"
   ]
  },
  {
   "cell_type": "code",
   "execution_count": 23,
   "id": "55ec8d82-c8eb-4cc3-b192-56ce7e3cd55a",
   "metadata": {},
   "outputs": [],
   "source": [
    "singleBondPayment <- function(maturity, yield, alpha, today){\n",
    "    return (RateConverter(yield, maturity,today)*DiscountFactor(alpha, maturity))\n",
    "}"
   ]
  },
  {
   "cell_type": "code",
   "execution_count": 24,
   "id": "50ca64bd-641b-49e6-9862-25920a4de86a",
   "metadata": {},
   "outputs": [
    {
     "data": {
      "text/html": [
       "1.96179863434273"
      ],
      "text/latex": [
       "1.96179863434273"
      ],
      "text/markdown": [
       "1.96179863434273"
      ],
      "text/plain": [
       "[1] 1.961799"
      ]
     },
     "metadata": {},
     "output_type": "display_data"
    },
    {
     "data": {
      "text/html": [
       "1.941"
      ],
      "text/latex": [
       "1.941"
      ],
      "text/markdown": [
       "1.941"
      ],
      "text/plain": [
       "[1] 1.941"
      ]
     },
     "metadata": {},
     "output_type": "display_data"
    }
   ],
   "source": [
    "singleBondPayment(120,firstYields[[\"10Y\"]], alpha, today)\n",
    "firstYields[[\"10Y\"]]"
   ]
  },
  {
   "cell_type": "code",
   "execution_count": 25,
   "id": "ce498c1e-5ec0-487f-9ec2-d9a32b077f61",
   "metadata": {},
   "outputs": [],
   "source": [
    "yieldList <- list(firstYields)"
   ]
  },
  {
   "cell_type": "code",
   "execution_count": 26,
   "id": "c504d27d-c7d9-459b-92bc-989981ea5db8",
   "metadata": {},
   "outputs": [],
   "source": [
    "nombres <- colnames(firstYields)"
   ]
  },
  {
   "cell_type": "code",
   "execution_count": 27,
   "id": "8d12a55e-80db-4d9b-9d63-6d4fee00e44f",
   "metadata": {},
   "outputs": [],
   "source": [
    "nombres <- nombres[-1]"
   ]
  },
  {
   "cell_type": "code",
   "execution_count": 28,
   "id": "d7231767-3339-4bc2-a79f-118be492db4f",
   "metadata": {},
   "outputs": [
    {
     "data": {
      "text/html": [
       "<style>\n",
       ".list-inline {list-style: none; margin:0; padding: 0}\n",
       ".list-inline>li {display: inline-block}\n",
       ".list-inline>li:not(:last-child)::after {content: \"\\00b7\"; padding: 0 .5ex}\n",
       "</style>\n",
       "<ol class=list-inline><li>'10Y'</li><li>'7Y'</li><li>'5Y'</li><li>'3Y'</li><li>'2Y'</li><li>'1Y'</li><li>'6M'</li><li>'3M'</li></ol>\n"
      ],
      "text/latex": [
       "\\begin{enumerate*}\n",
       "\\item '10Y'\n",
       "\\item '7Y'\n",
       "\\item '5Y'\n",
       "\\item '3Y'\n",
       "\\item '2Y'\n",
       "\\item '1Y'\n",
       "\\item '6M'\n",
       "\\item '3M'\n",
       "\\end{enumerate*}\n"
      ],
      "text/markdown": [
       "1. '10Y'\n",
       "2. '7Y'\n",
       "3. '5Y'\n",
       "4. '3Y'\n",
       "5. '2Y'\n",
       "6. '1Y'\n",
       "7. '6M'\n",
       "8. '3M'\n",
       "\n",
       "\n"
      ],
      "text/plain": [
       "[1] \"10Y\" \"7Y\"  \"5Y\"  \"3Y\"  \"2Y\"  \"1Y\"  \"6M\"  \"3M\" "
      ]
     },
     "metadata": {},
     "output_type": "display_data"
    }
   ],
   "source": [
    "nombres"
   ]
  },
  {
   "cell_type": "code",
   "execution_count": 29,
   "id": "cb1dbc36-9b49-4b39-8d74-b7ae078b89d2",
   "metadata": {},
   "outputs": [],
   "source": [
    "nombres <- as.list(nombres)"
   ]
  },
  {
   "cell_type": "code",
   "execution_count": 30,
   "id": "7ae67d55-2043-4beb-81c1-cd95a63c9ffe",
   "metadata": {},
   "outputs": [],
   "source": [
    "names(nombres) <- c(120,84,60,36,24,12,6,3) "
   ]
  },
  {
   "cell_type": "code",
   "execution_count": 31,
   "id": "f6812e41-02f5-43be-8f93-d2270415c6c8",
   "metadata": {},
   "outputs": [],
   "source": [
    "BondValue <- function (today, maturity, yieldlist,alpha ){\n",
    "    if (maturity == 3){\n",
    "        return (100*DiscountFactor(alpha, maturity) + singleBondPayment(3,yieldlist[[\"3M\"]], alpha, today))\n",
    "        }\n",
    "    setter <- as.character(maturity)\n",
    "    periods <- seq(6, maturity, 6)\n",
    "    bondSum <- sum(unlist(lapply(periods, function(x) singleBondPayment(x, yield = yieldlist[[nombres[[setter]]]],  alpha = alpha, today = today))))\n",
    "    return(bondSum +100*DiscountFactor(alpha, maturity))\n",
    "}\n",
    "\n"
   ]
  },
  {
   "cell_type": "code",
   "execution_count": 32,
   "id": "e115c3d4-be49-46e5-8e11-3f9ef159fb8c",
   "metadata": {},
   "outputs": [
    {
     "data": {
      "text/html": [
       "60.8266718934138"
      ],
      "text/latex": [
       "60.8266718934138"
      ],
      "text/markdown": [
       "60.8266718934138"
      ],
      "text/plain": [
       "[1] 60.82667"
      ]
     },
     "metadata": {},
     "output_type": "display_data"
    }
   ],
   "source": [
    "BondValue(today, 120, firstYields, alpha)"
   ]
  },
  {
   "cell_type": "code",
   "execution_count": 33,
   "id": "a02e0b57-dea3-4c91-9c7d-3af12d4cdacd",
   "metadata": {},
   "outputs": [],
   "source": [
    "maturities <- c(120,84,60,36,24,12,6,3) "
   ]
  },
  {
   "cell_type": "code",
   "execution_count": 34,
   "id": "c12697eb-70c7-41cb-a52c-b9e0c43eae60",
   "metadata": {},
   "outputs": [],
   "source": [
    "alpha <- c(0.00343939424789704, 0.0105322205923502, 0.0817121232717679, 0.159800322624318, 0.274481567907549)\n",
    "bondValues <- list()\n",
    "for (i in maturities){\n",
    "    bondValues <- append(bondValues, BondValue(today, i, firstYields, alpha))\n",
    "}"
   ]
  },
  {
   "cell_type": "code",
   "execution_count": 35,
   "id": "e09def6e-e88a-447e-ab5c-7a7417b38b47",
   "metadata": {},
   "outputs": [
    {
     "data": {
      "text/html": [
       "<ol>\n",
       "\t<li>46.9901122453894</li>\n",
       "\t<li>58.443321086136</li>\n",
       "\t<li>75.9036056092045</li>\n",
       "\t<li>90.4294540296271</li>\n",
       "\t<li>94.1481135226441</li>\n",
       "\t<li>99.7671450109006</li>\n",
       "\t<li>99.8020116338974</li>\n",
       "\t<li>99.9549968184452</li>\n",
       "</ol>\n"
      ],
      "text/latex": [
       "\\begin{enumerate}\n",
       "\\item 46.9901122453894\n",
       "\\item 58.443321086136\n",
       "\\item 75.9036056092045\n",
       "\\item 90.4294540296271\n",
       "\\item 94.1481135226441\n",
       "\\item 99.7671450109006\n",
       "\\item 99.8020116338974\n",
       "\\item 99.9549968184452\n",
       "\\end{enumerate}\n"
      ],
      "text/markdown": [
       "1. 46.9901122453894\n",
       "2. 58.443321086136\n",
       "3. 75.9036056092045\n",
       "4. 90.4294540296271\n",
       "5. 94.1481135226441\n",
       "6. 99.7671450109006\n",
       "7. 99.8020116338974\n",
       "8. 99.9549968184452\n",
       "\n",
       "\n"
      ],
      "text/plain": [
       "[[1]]\n",
       "[1] 46.99011\n",
       "\n",
       "[[2]]\n",
       "[1] 58.44332\n",
       "\n",
       "[[3]]\n",
       "[1] 75.90361\n",
       "\n",
       "[[4]]\n",
       "[1] 90.42945\n",
       "\n",
       "[[5]]\n",
       "[1] 94.14811\n",
       "\n",
       "[[6]]\n",
       "[1] 99.76715\n",
       "\n",
       "[[7]]\n",
       "[1] 99.80201\n",
       "\n",
       "[[8]]\n",
       "[1] 99.955\n"
      ]
     },
     "metadata": {},
     "output_type": "display_data"
    }
   ],
   "source": [
    "bondValues"
   ]
  },
  {
   "cell_type": "code",
   "execution_count": 36,
   "id": "58a47576-09dd-44a6-9d58-47053a7f21fe",
   "metadata": {},
   "outputs": [
    {
     "data": {
      "text/html": [
       "5243.57735638346"
      ],
      "text/latex": [
       "5243.57735638346"
      ],
      "text/markdown": [
       "5243.57735638346"
      ],
      "text/plain": [
       "[1] 5243.577"
      ]
     },
     "metadata": {},
     "output_type": "display_data"
    }
   ],
   "source": [
    "error <-function(alpha){\n",
    "    maturities <- c(3,6,12,24,36,60,84,120) \n",
    "    bondValues <- list()\n",
    "    for (i in maturities){\n",
    "        bondValues <- append(bondValues, BondValue(today, i, firstYields, alpha))\n",
    "    }\n",
    "    error <- sum((unlist(bondValues)-100)**2)\n",
    "    return (error)\n",
    "}\n",
    "\n",
    "error(alpha)"
   ]
  },
  {
   "cell_type": "code",
   "execution_count": 37,
   "id": "a40166af-e090-43ee-bc10-27c225afcea5",
   "metadata": {},
   "outputs": [],
   "source": [
    "opt <- optim(alpha, error, lower = 0, upper= 1, method = \"L-BFGS-B\")"
   ]
  },
  {
   "cell_type": "code",
   "execution_count": 38,
   "id": "329fea40",
   "metadata": {},
   "outputs": [
    {
     "data": {
      "text/html": [
       "<ol>\n",
       "\t<li><style>\n",
       ".list-inline {list-style: none; margin:0; padding: 0}\n",
       ".list-inline>li {display: inline-block}\n",
       ".list-inline>li:not(:last-child)::after {content: \"\\00b7\"; padding: 0 .5ex}\n",
       "</style>\n",
       "<ol class=list-inline><li>0.00153176703580069</li><li>0.00452618246959063</li><li>0.0310850593894786</li><li>0.0572623926364791</li><li>0.108576414250742</li></ol>\n",
       "</li>\n",
       "</ol>\n"
      ],
      "text/latex": [
       "\\begin{enumerate}\n",
       "\\item \\begin{enumerate*}\n",
       "\\item 0.00153176703580069\n",
       "\\item 0.00452618246959063\n",
       "\\item 0.0310850593894786\n",
       "\\item 0.0572623926364791\n",
       "\\item 0.108576414250742\n",
       "\\end{enumerate*}\n",
       "\n",
       "\\end{enumerate}\n"
      ],
      "text/markdown": [
       "1. 1. 0.00153176703580069\n",
       "2. 0.00452618246959063\n",
       "3. 0.0310850593894786\n",
       "4. 0.0572623926364791\n",
       "5. 0.108576414250742\n",
       "\n",
       "\n",
       "\n",
       "\n",
       "\n"
      ],
      "text/plain": [
       "[[1]]\n",
       "[1] 0.001531767 0.004526182 0.031085059 0.057262393 0.108576414\n"
      ]
     },
     "metadata": {},
     "output_type": "display_data"
    }
   ],
   "source": [
    "list(opt$par)"
   ]
  },
  {
   "cell_type": "markdown",
   "id": "c52edb93",
   "metadata": {},
   "source": [
    "Valoración de bono de 7 años"
   ]
  },
  {
   "cell_type": "code",
   "execution_count": 39,
   "id": "5c82c495",
   "metadata": {},
   "outputs": [
    {
     "data": {
      "text/html": [
       "33.0240608631299"
      ],
      "text/latex": [
       "33.0240608631299"
      ],
      "text/markdown": [
       "33.0240608631299"
      ],
      "text/plain": [
       "[1] 33.02406"
      ]
     },
     "metadata": {},
     "output_type": "display_data"
    },
    {
     "data": {
      "text/html": [
       "<dl>\n",
       "\t<dt>$par</dt>\n",
       "\t\t<dd>3.93898076797126</dd>\n",
       "\t<dt>$value</dt>\n",
       "\t\t<dd>5.75913809086614e-07</dd>\n",
       "\t<dt>$counts</dt>\n",
       "\t\t<dd><style>\n",
       ".dl-inline {width: auto; margin:0; padding: 0}\n",
       ".dl-inline>dt, .dl-inline>dd {float: none; width: auto; display: inline-block}\n",
       ".dl-inline>dt::after {content: \":\\0020\"; padding-right: .5ex}\n",
       ".dl-inline>dt:not(:first-of-type) {padding-left: .5ex}\n",
       "</style><dl class=dl-inline><dt>function</dt><dd>&lt;NA&gt;</dd><dt>gradient</dt><dd>&lt;NA&gt;</dd></dl>\n",
       "</dd>\n",
       "\t<dt>$convergence</dt>\n",
       "\t\t<dd>0</dd>\n",
       "\t<dt>$message</dt>\n",
       "\t\t<dd>NULL</dd>\n",
       "</dl>\n"
      ],
      "text/latex": [
       "\\begin{description}\n",
       "\\item[\\$par] 3.93898076797126\n",
       "\\item[\\$value] 5.75913809086614e-07\n",
       "\\item[\\$counts] \\begin{description*}\n",
       "\\item[function] <NA>\n",
       "\\item[gradient] <NA>\n",
       "\\end{description*}\n",
       "\n",
       "\\item[\\$convergence] 0\n",
       "\\item[\\$message] NULL\n",
       "\\end{description}\n"
      ],
      "text/markdown": [
       "$par\n",
       ":   3.93898076797126\n",
       "$value\n",
       ":   5.75913809086614e-07\n",
       "$counts\n",
       ":   function\n",
       ":   &lt;NA&gt;gradient\n",
       ":   &lt;NA&gt;\n",
       "\n",
       "\n",
       "$convergence\n",
       ":   0\n",
       "$message\n",
       ":   NULL\n",
       "\n",
       "\n"
      ],
      "text/plain": [
       "$par\n",
       "[1] 3.938981\n",
       "\n",
       "$value\n",
       "[1] 5.759138e-07\n",
       "\n",
       "$counts\n",
       "function gradient \n",
       "      NA       NA \n",
       "\n",
       "$convergence\n",
       "[1] 0\n",
       "\n",
       "$message\n",
       "NULL\n"
      ]
     },
     "metadata": {},
     "output_type": "display_data"
    }
   ],
   "source": [
    "alpha <- opt$par\n",
    "pvnotional <- 100 - DiscountFactor(alpha[4], 84)*100\n",
    "pvnotional\n",
    "couponsum <- function (c){\n",
    "pvcoupon <- DiscountFactor(alpha[2], 12)*RateConverter(c, 12,today) + DiscountFactor(alpha[2], 24)*RateConverter(c,24,today) +\n",
    " DiscountFactor(alpha[3], 36)*RateConverter(c, 36,today) +DiscountFactor(alpha[3], 48)*RateConverter(c, 48,today) +\n",
    " DiscountFactor(alpha[4], 60)*RateConverter(c, 60,today) + DiscountFactor(alpha[4], 72)*RateConverter(c, 72,today) +  \n",
    " DiscountFactor(alpha[4], 84)*RateConverter(c, 84,today) + DiscountFactor(alpha[4], 84)*RateConverter(c, 84,today)\n",
    " result <-pvnotional- pvcoupon\n",
    "    if (result <0){\n",
    "        return (500)\n",
    "    }\n",
    "    else {\n",
    "        return (pvnotional- pvcoupon)\n",
    "    }\n",
    "    \n",
    "}\n",
    "\n",
    "opti <- optim(c,couponsum,lower = 0, upper=10,  method = \"Brent\")\n",
    "opti\n"
   ]
  },
  {
   "cell_type": "markdown",
   "id": "a0ac085d",
   "metadata": {},
   "source": [
    "Matriz de curvas 3 años en el pasado"
   ]
  },
  {
   "cell_type": "code",
   "execution_count": 40,
   "id": "f154bbc5",
   "metadata": {},
   "outputs": [],
   "source": [
    "\n",
    "matAlphas <- list()\n",
    "for ( r in 1:nrow(df)){ \n",
    "    firstYields <- df[r,]\n",
    "    today <- firstYields$Date\n",
    "    alpha <- opt$par\n",
    "    opt <- optim(alpha, error, lower = 0, upper= 1, method = \"L-BFGS-B\")\n",
    "    matAlphas <- append(matAlphas, list(opt$par))\n",
    "}"
   ]
  },
  {
   "cell_type": "code",
   "execution_count": 41,
   "id": "6c7c98be",
   "metadata": {},
   "outputs": [
    {
     "data": {
      "text/html": [
       "<table class=\"dataframe\">\n",
       "<caption>A matrix: 209 × 5 of type dbl</caption>\n",
       "<tbody>\n",
       "\t<tr><td>0.005732163</td><td>0.008365817</td><td>0.03855734</td><td>0.07573650</td><td>0.1468967</td></tr>\n",
       "\t<tr><td>0.005730203</td><td>0.008736903</td><td>0.03855725</td><td>0.07507592</td><td>0.1466868</td></tr>\n",
       "\t<tr><td>0.005839715</td><td>0.008947748</td><td>0.03867916</td><td>0.07533730</td><td>0.1464051</td></tr>\n",
       "\t<tr><td>0.006065502</td><td>0.008683511</td><td>0.03920832</td><td>0.07553581</td><td>0.1475984</td></tr>\n",
       "\t<tr><td>0.006369937</td><td>0.008852003</td><td>0.03931360</td><td>0.07509871</td><td>0.1450026</td></tr>\n",
       "\t<tr><td>0.006215890</td><td>0.008743961</td><td>0.03883230</td><td>0.07407387</td><td>0.1441879</td></tr>\n",
       "\t<tr><td>0.005984790</td><td>0.009340253</td><td>0.03840258</td><td>0.07313997</td><td>0.1408319</td></tr>\n",
       "\t<tr><td>0.006007077</td><td>0.009013525</td><td>0.03870613</td><td>0.07358605</td><td>0.1422060</td></tr>\n",
       "\t<tr><td>0.006180894</td><td>0.009123558</td><td>0.04001447</td><td>0.07530378</td><td>0.1434042</td></tr>\n",
       "\t<tr><td>0.006240368</td><td>0.009472351</td><td>0.04139540</td><td>0.07826057</td><td>0.1480469</td></tr>\n",
       "\t<tr><td>0.006123415</td><td>0.009823279</td><td>0.04133481</td><td>0.07836993</td><td>0.1478789</td></tr>\n",
       "\t<tr><td>0.006282991</td><td>0.009792647</td><td>0.04157467</td><td>0.07739513</td><td>0.1478582</td></tr>\n",
       "\t<tr><td>0.006486859</td><td>0.009703522</td><td>0.04231135</td><td>0.07868161</td><td>0.1478276</td></tr>\n",
       "\t<tr><td>0.006515949</td><td>0.009826923</td><td>0.04251367</td><td>0.08007181</td><td>0.1514540</td></tr>\n",
       "\t<tr><td>0.006460922</td><td>0.009837481</td><td>0.04119410</td><td>0.07717650</td><td>0.1472132</td></tr>\n",
       "\t<tr><td>0.006495250</td><td>0.009862038</td><td>0.04102817</td><td>0.07663966</td><td>0.1459526</td></tr>\n",
       "\t<tr><td>0.006540756</td><td>0.009927002</td><td>0.04142573</td><td>0.07740955</td><td>0.1476127</td></tr>\n",
       "\t<tr><td>0.006401707</td><td>0.010076347</td><td>0.04196630</td><td>0.07730712</td><td>0.1459217</td></tr>\n",
       "\t<tr><td>0.006333624</td><td>0.010333779</td><td>0.04148643</td><td>0.07650854</td><td>0.1451776</td></tr>\n",
       "\t<tr><td>0.006396118</td><td>0.010317864</td><td>0.04123143</td><td>0.07580284</td><td>0.1438535</td></tr>\n",
       "\t<tr><td>0.006498034</td><td>0.010283707</td><td>0.04139594</td><td>0.07498787</td><td>0.1421968</td></tr>\n",
       "\t<tr><td>0.006544191</td><td>0.010555435</td><td>0.04161334</td><td>0.07485830</td><td>0.1423282</td></tr>\n",
       "\t<tr><td>0.006436227</td><td>0.010725964</td><td>0.04184638</td><td>0.07583076</td><td>0.1451552</td></tr>\n",
       "\t<tr><td>0.006556539</td><td>0.010718142</td><td>0.04294363</td><td>0.07731882</td><td>0.1469397</td></tr>\n",
       "\t<tr><td>0.006602687</td><td>0.010760367</td><td>0.04252054</td><td>0.07670766</td><td>0.1472258</td></tr>\n",
       "\t<tr><td>0.006743267</td><td>0.010727741</td><td>0.04185479</td><td>0.07499693</td><td>0.1444496</td></tr>\n",
       "\t<tr><td>0.006670075</td><td>0.010894656</td><td>0.04179041</td><td>0.07478645</td><td>0.1438239</td></tr>\n",
       "\t<tr><td>0.006786663</td><td>0.010942753</td><td>0.04172469</td><td>0.07384025</td><td>0.1416635</td></tr>\n",
       "\t<tr><td>0.006709012</td><td>0.010912515</td><td>0.04186500</td><td>0.07442670</td><td>0.1438152</td></tr>\n",
       "\t<tr><td>0.006774120</td><td>0.011122268</td><td>0.04281939</td><td>0.07622327</td><td>0.1464824</td></tr>\n",
       "\t<tr><td>...</td><td>...</td><td>...</td><td>...</td><td>...</td></tr>\n",
       "\t<tr><td>0.0000000000</td><td>0.000000e+00</td><td>0.008250087</td><td>0.02858707</td><td>0.09132602</td></tr>\n",
       "\t<tr><td>0.0000000000</td><td>0.000000e+00</td><td>0.007554658</td><td>0.02862317</td><td>0.08794253</td></tr>\n",
       "\t<tr><td>0.0000000000</td><td>0.000000e+00</td><td>0.008932284</td><td>0.03118378</td><td>0.09139342</td></tr>\n",
       "\t<tr><td>0.0000000000</td><td>0.000000e+00</td><td>0.009321860</td><td>0.03111935</td><td>0.08971414</td></tr>\n",
       "\t<tr><td>0.0000000000</td><td>0.000000e+00</td><td>0.009650979</td><td>0.03138750</td><td>0.08787811</td></tr>\n",
       "\t<tr><td>0.0000000000</td><td>0.000000e+00</td><td>0.009197063</td><td>0.03281702</td><td>0.09125415</td></tr>\n",
       "\t<tr><td>0.0000000000</td><td>0.000000e+00</td><td>0.008879862</td><td>0.03189577</td><td>0.09272727</td></tr>\n",
       "\t<tr><td>0.0000000000</td><td>0.000000e+00</td><td>0.009567367</td><td>0.03301530</td><td>0.09329964</td></tr>\n",
       "\t<tr><td>0.0000000000</td><td>0.000000e+00</td><td>0.010071335</td><td>0.03518930</td><td>0.09355582</td></tr>\n",
       "\t<tr><td>0.0000000000</td><td>0.000000e+00</td><td>0.011489818</td><td>0.03811678</td><td>0.09761710</td></tr>\n",
       "\t<tr><td>0.0000000000</td><td>0.000000e+00</td><td>0.010522783</td><td>0.03820236</td><td>0.09875691</td></tr>\n",
       "\t<tr><td>0.0000000000</td><td>0.000000e+00</td><td>0.012388606</td><td>0.04255393</td><td>0.10592274</td></tr>\n",
       "\t<tr><td>0.0000000000</td><td>0.000000e+00</td><td>0.014611782</td><td>0.04390944</td><td>0.10142018</td></tr>\n",
       "\t<tr><td>0.0000000000</td><td>0.000000e+00</td><td>0.016082004</td><td>0.04557576</td><td>0.10390830</td></tr>\n",
       "\t<tr><td>0.0000000000</td><td>0.000000e+00</td><td>0.016016563</td><td>0.04622335</td><td>0.09877027</td></tr>\n",
       "\t<tr><td>0.0000000000</td><td>0.000000e+00</td><td>0.014051536</td><td>0.04146708</td><td>0.09495526</td></tr>\n",
       "\t<tr><td>0.0000000000</td><td>0.000000e+00</td><td>0.017482582</td><td>0.04596232</td><td>0.09846905</td></tr>\n",
       "\t<tr><td>0.0000000000</td><td>0.000000e+00</td><td>0.017726654</td><td>0.04591870</td><td>0.09743593</td></tr>\n",
       "\t<tr><td>0.0000000000</td><td>0.000000e+00</td><td>0.016807297</td><td>0.04433234</td><td>0.09389884</td></tr>\n",
       "\t<tr><td>0.0000000000</td><td>0.000000e+00</td><td>0.017923673</td><td>0.04221565</td><td>0.08540236</td></tr>\n",
       "\t<tr><td>0.0000000000</td><td>0.000000e+00</td><td>0.020255482</td><td>0.04474443</td><td>0.09238406</td></tr>\n",
       "\t<tr><td>0.0000000000</td><td>0.000000e+00</td><td>0.019168963</td><td>0.04231862</td><td>0.08858122</td></tr>\n",
       "\t<tr><td>0.0000000000</td><td>0.000000e+00</td><td>0.020134794</td><td>0.04418462</td><td>0.09322725</td></tr>\n",
       "\t<tr><td>0.0014447188</td><td>0.000000e+00</td><td>0.019872744</td><td>0.04529315</td><td>0.09394290</td></tr>\n",
       "\t<tr><td>0.0013812924</td><td>0.000000e+00</td><td>0.023247073</td><td>0.05228357</td><td>0.10525517</td></tr>\n",
       "\t<tr><td>0.0021234944</td><td>0.000000e+00</td><td>0.025132744</td><td>0.05281024</td><td>0.10539032</td></tr>\n",
       "\t<tr><td>0.0022351945</td><td>2.074592e-05</td><td>0.025504089</td><td>0.05241042</td><td>0.10366866</td></tr>\n",
       "\t<tr><td>0.0008149737</td><td>3.076350e-03</td><td>0.026093771</td><td>0.05310129</td><td>0.10319047</td></tr>\n",
       "\t<tr><td>0.0011396743</td><td>3.681194e-03</td><td>0.028424705</td><td>0.05681089</td><td>0.10858843</td></tr>\n",
       "\t<tr><td>0.0015915400</td><td>4.498608e-03</td><td>0.031087294</td><td>0.05726240</td><td>0.10857802</td></tr>\n",
       "</tbody>\n",
       "</table>\n"
      ],
      "text/latex": [
       "A matrix: 209 × 5 of type dbl\n",
       "\\begin{tabular}{lllll}\n",
       "\t 0.005732163 & 0.008365817 & 0.03855734 & 0.07573650 & 0.1468967\\\\\n",
       "\t 0.005730203 & 0.008736903 & 0.03855725 & 0.07507592 & 0.1466868\\\\\n",
       "\t 0.005839715 & 0.008947748 & 0.03867916 & 0.07533730 & 0.1464051\\\\\n",
       "\t 0.006065502 & 0.008683511 & 0.03920832 & 0.07553581 & 0.1475984\\\\\n",
       "\t 0.006369937 & 0.008852003 & 0.03931360 & 0.07509871 & 0.1450026\\\\\n",
       "\t 0.006215890 & 0.008743961 & 0.03883230 & 0.07407387 & 0.1441879\\\\\n",
       "\t 0.005984790 & 0.009340253 & 0.03840258 & 0.07313997 & 0.1408319\\\\\n",
       "\t 0.006007077 & 0.009013525 & 0.03870613 & 0.07358605 & 0.1422060\\\\\n",
       "\t 0.006180894 & 0.009123558 & 0.04001447 & 0.07530378 & 0.1434042\\\\\n",
       "\t 0.006240368 & 0.009472351 & 0.04139540 & 0.07826057 & 0.1480469\\\\\n",
       "\t 0.006123415 & 0.009823279 & 0.04133481 & 0.07836993 & 0.1478789\\\\\n",
       "\t 0.006282991 & 0.009792647 & 0.04157467 & 0.07739513 & 0.1478582\\\\\n",
       "\t 0.006486859 & 0.009703522 & 0.04231135 & 0.07868161 & 0.1478276\\\\\n",
       "\t 0.006515949 & 0.009826923 & 0.04251367 & 0.08007181 & 0.1514540\\\\\n",
       "\t 0.006460922 & 0.009837481 & 0.04119410 & 0.07717650 & 0.1472132\\\\\n",
       "\t 0.006495250 & 0.009862038 & 0.04102817 & 0.07663966 & 0.1459526\\\\\n",
       "\t 0.006540756 & 0.009927002 & 0.04142573 & 0.07740955 & 0.1476127\\\\\n",
       "\t 0.006401707 & 0.010076347 & 0.04196630 & 0.07730712 & 0.1459217\\\\\n",
       "\t 0.006333624 & 0.010333779 & 0.04148643 & 0.07650854 & 0.1451776\\\\\n",
       "\t 0.006396118 & 0.010317864 & 0.04123143 & 0.07580284 & 0.1438535\\\\\n",
       "\t 0.006498034 & 0.010283707 & 0.04139594 & 0.07498787 & 0.1421968\\\\\n",
       "\t 0.006544191 & 0.010555435 & 0.04161334 & 0.07485830 & 0.1423282\\\\\n",
       "\t 0.006436227 & 0.010725964 & 0.04184638 & 0.07583076 & 0.1451552\\\\\n",
       "\t 0.006556539 & 0.010718142 & 0.04294363 & 0.07731882 & 0.1469397\\\\\n",
       "\t 0.006602687 & 0.010760367 & 0.04252054 & 0.07670766 & 0.1472258\\\\\n",
       "\t 0.006743267 & 0.010727741 & 0.04185479 & 0.07499693 & 0.1444496\\\\\n",
       "\t 0.006670075 & 0.010894656 & 0.04179041 & 0.07478645 & 0.1438239\\\\\n",
       "\t 0.006786663 & 0.010942753 & 0.04172469 & 0.07384025 & 0.1416635\\\\\n",
       "\t 0.006709012 & 0.010912515 & 0.04186500 & 0.07442670 & 0.1438152\\\\\n",
       "\t 0.006774120 & 0.011122268 & 0.04281939 & 0.07622327 & 0.1464824\\\\\n",
       "\t ... & ... & ... & ... & ...\\\\\n",
       "\t 0.0000000000 & 0.000000e+00 & 0.008250087 & 0.02858707 & 0.09132602\\\\\n",
       "\t 0.0000000000 & 0.000000e+00 & 0.007554658 & 0.02862317 & 0.08794253\\\\\n",
       "\t 0.0000000000 & 0.000000e+00 & 0.008932284 & 0.03118378 & 0.09139342\\\\\n",
       "\t 0.0000000000 & 0.000000e+00 & 0.009321860 & 0.03111935 & 0.08971414\\\\\n",
       "\t 0.0000000000 & 0.000000e+00 & 0.009650979 & 0.03138750 & 0.08787811\\\\\n",
       "\t 0.0000000000 & 0.000000e+00 & 0.009197063 & 0.03281702 & 0.09125415\\\\\n",
       "\t 0.0000000000 & 0.000000e+00 & 0.008879862 & 0.03189577 & 0.09272727\\\\\n",
       "\t 0.0000000000 & 0.000000e+00 & 0.009567367 & 0.03301530 & 0.09329964\\\\\n",
       "\t 0.0000000000 & 0.000000e+00 & 0.010071335 & 0.03518930 & 0.09355582\\\\\n",
       "\t 0.0000000000 & 0.000000e+00 & 0.011489818 & 0.03811678 & 0.09761710\\\\\n",
       "\t 0.0000000000 & 0.000000e+00 & 0.010522783 & 0.03820236 & 0.09875691\\\\\n",
       "\t 0.0000000000 & 0.000000e+00 & 0.012388606 & 0.04255393 & 0.10592274\\\\\n",
       "\t 0.0000000000 & 0.000000e+00 & 0.014611782 & 0.04390944 & 0.10142018\\\\\n",
       "\t 0.0000000000 & 0.000000e+00 & 0.016082004 & 0.04557576 & 0.10390830\\\\\n",
       "\t 0.0000000000 & 0.000000e+00 & 0.016016563 & 0.04622335 & 0.09877027\\\\\n",
       "\t 0.0000000000 & 0.000000e+00 & 0.014051536 & 0.04146708 & 0.09495526\\\\\n",
       "\t 0.0000000000 & 0.000000e+00 & 0.017482582 & 0.04596232 & 0.09846905\\\\\n",
       "\t 0.0000000000 & 0.000000e+00 & 0.017726654 & 0.04591870 & 0.09743593\\\\\n",
       "\t 0.0000000000 & 0.000000e+00 & 0.016807297 & 0.04433234 & 0.09389884\\\\\n",
       "\t 0.0000000000 & 0.000000e+00 & 0.017923673 & 0.04221565 & 0.08540236\\\\\n",
       "\t 0.0000000000 & 0.000000e+00 & 0.020255482 & 0.04474443 & 0.09238406\\\\\n",
       "\t 0.0000000000 & 0.000000e+00 & 0.019168963 & 0.04231862 & 0.08858122\\\\\n",
       "\t 0.0000000000 & 0.000000e+00 & 0.020134794 & 0.04418462 & 0.09322725\\\\\n",
       "\t 0.0014447188 & 0.000000e+00 & 0.019872744 & 0.04529315 & 0.09394290\\\\\n",
       "\t 0.0013812924 & 0.000000e+00 & 0.023247073 & 0.05228357 & 0.10525517\\\\\n",
       "\t 0.0021234944 & 0.000000e+00 & 0.025132744 & 0.05281024 & 0.10539032\\\\\n",
       "\t 0.0022351945 & 2.074592e-05 & 0.025504089 & 0.05241042 & 0.10366866\\\\\n",
       "\t 0.0008149737 & 3.076350e-03 & 0.026093771 & 0.05310129 & 0.10319047\\\\\n",
       "\t 0.0011396743 & 3.681194e-03 & 0.028424705 & 0.05681089 & 0.10858843\\\\\n",
       "\t 0.0015915400 & 4.498608e-03 & 0.031087294 & 0.05726240 & 0.10857802\\\\\n",
       "\\end{tabular}\n"
      ],
      "text/markdown": [
       "\n",
       "A matrix: 209 × 5 of type dbl\n",
       "\n",
       "| 0.005732163 | 0.008365817 | 0.03855734 | 0.07573650 | 0.1468967 |\n",
       "| 0.005730203 | 0.008736903 | 0.03855725 | 0.07507592 | 0.1466868 |\n",
       "| 0.005839715 | 0.008947748 | 0.03867916 | 0.07533730 | 0.1464051 |\n",
       "| 0.006065502 | 0.008683511 | 0.03920832 | 0.07553581 | 0.1475984 |\n",
       "| 0.006369937 | 0.008852003 | 0.03931360 | 0.07509871 | 0.1450026 |\n",
       "| 0.006215890 | 0.008743961 | 0.03883230 | 0.07407387 | 0.1441879 |\n",
       "| 0.005984790 | 0.009340253 | 0.03840258 | 0.07313997 | 0.1408319 |\n",
       "| 0.006007077 | 0.009013525 | 0.03870613 | 0.07358605 | 0.1422060 |\n",
       "| 0.006180894 | 0.009123558 | 0.04001447 | 0.07530378 | 0.1434042 |\n",
       "| 0.006240368 | 0.009472351 | 0.04139540 | 0.07826057 | 0.1480469 |\n",
       "| 0.006123415 | 0.009823279 | 0.04133481 | 0.07836993 | 0.1478789 |\n",
       "| 0.006282991 | 0.009792647 | 0.04157467 | 0.07739513 | 0.1478582 |\n",
       "| 0.006486859 | 0.009703522 | 0.04231135 | 0.07868161 | 0.1478276 |\n",
       "| 0.006515949 | 0.009826923 | 0.04251367 | 0.08007181 | 0.1514540 |\n",
       "| 0.006460922 | 0.009837481 | 0.04119410 | 0.07717650 | 0.1472132 |\n",
       "| 0.006495250 | 0.009862038 | 0.04102817 | 0.07663966 | 0.1459526 |\n",
       "| 0.006540756 | 0.009927002 | 0.04142573 | 0.07740955 | 0.1476127 |\n",
       "| 0.006401707 | 0.010076347 | 0.04196630 | 0.07730712 | 0.1459217 |\n",
       "| 0.006333624 | 0.010333779 | 0.04148643 | 0.07650854 | 0.1451776 |\n",
       "| 0.006396118 | 0.010317864 | 0.04123143 | 0.07580284 | 0.1438535 |\n",
       "| 0.006498034 | 0.010283707 | 0.04139594 | 0.07498787 | 0.1421968 |\n",
       "| 0.006544191 | 0.010555435 | 0.04161334 | 0.07485830 | 0.1423282 |\n",
       "| 0.006436227 | 0.010725964 | 0.04184638 | 0.07583076 | 0.1451552 |\n",
       "| 0.006556539 | 0.010718142 | 0.04294363 | 0.07731882 | 0.1469397 |\n",
       "| 0.006602687 | 0.010760367 | 0.04252054 | 0.07670766 | 0.1472258 |\n",
       "| 0.006743267 | 0.010727741 | 0.04185479 | 0.07499693 | 0.1444496 |\n",
       "| 0.006670075 | 0.010894656 | 0.04179041 | 0.07478645 | 0.1438239 |\n",
       "| 0.006786663 | 0.010942753 | 0.04172469 | 0.07384025 | 0.1416635 |\n",
       "| 0.006709012 | 0.010912515 | 0.04186500 | 0.07442670 | 0.1438152 |\n",
       "| 0.006774120 | 0.011122268 | 0.04281939 | 0.07622327 | 0.1464824 |\n",
       "| ... | ... | ... | ... | ... |\n",
       "| 0.0000000000 | 0.000000e+00 | 0.008250087 | 0.02858707 | 0.09132602 |\n",
       "| 0.0000000000 | 0.000000e+00 | 0.007554658 | 0.02862317 | 0.08794253 |\n",
       "| 0.0000000000 | 0.000000e+00 | 0.008932284 | 0.03118378 | 0.09139342 |\n",
       "| 0.0000000000 | 0.000000e+00 | 0.009321860 | 0.03111935 | 0.08971414 |\n",
       "| 0.0000000000 | 0.000000e+00 | 0.009650979 | 0.03138750 | 0.08787811 |\n",
       "| 0.0000000000 | 0.000000e+00 | 0.009197063 | 0.03281702 | 0.09125415 |\n",
       "| 0.0000000000 | 0.000000e+00 | 0.008879862 | 0.03189577 | 0.09272727 |\n",
       "| 0.0000000000 | 0.000000e+00 | 0.009567367 | 0.03301530 | 0.09329964 |\n",
       "| 0.0000000000 | 0.000000e+00 | 0.010071335 | 0.03518930 | 0.09355582 |\n",
       "| 0.0000000000 | 0.000000e+00 | 0.011489818 | 0.03811678 | 0.09761710 |\n",
       "| 0.0000000000 | 0.000000e+00 | 0.010522783 | 0.03820236 | 0.09875691 |\n",
       "| 0.0000000000 | 0.000000e+00 | 0.012388606 | 0.04255393 | 0.10592274 |\n",
       "| 0.0000000000 | 0.000000e+00 | 0.014611782 | 0.04390944 | 0.10142018 |\n",
       "| 0.0000000000 | 0.000000e+00 | 0.016082004 | 0.04557576 | 0.10390830 |\n",
       "| 0.0000000000 | 0.000000e+00 | 0.016016563 | 0.04622335 | 0.09877027 |\n",
       "| 0.0000000000 | 0.000000e+00 | 0.014051536 | 0.04146708 | 0.09495526 |\n",
       "| 0.0000000000 | 0.000000e+00 | 0.017482582 | 0.04596232 | 0.09846905 |\n",
       "| 0.0000000000 | 0.000000e+00 | 0.017726654 | 0.04591870 | 0.09743593 |\n",
       "| 0.0000000000 | 0.000000e+00 | 0.016807297 | 0.04433234 | 0.09389884 |\n",
       "| 0.0000000000 | 0.000000e+00 | 0.017923673 | 0.04221565 | 0.08540236 |\n",
       "| 0.0000000000 | 0.000000e+00 | 0.020255482 | 0.04474443 | 0.09238406 |\n",
       "| 0.0000000000 | 0.000000e+00 | 0.019168963 | 0.04231862 | 0.08858122 |\n",
       "| 0.0000000000 | 0.000000e+00 | 0.020134794 | 0.04418462 | 0.09322725 |\n",
       "| 0.0014447188 | 0.000000e+00 | 0.019872744 | 0.04529315 | 0.09394290 |\n",
       "| 0.0013812924 | 0.000000e+00 | 0.023247073 | 0.05228357 | 0.10525517 |\n",
       "| 0.0021234944 | 0.000000e+00 | 0.025132744 | 0.05281024 | 0.10539032 |\n",
       "| 0.0022351945 | 2.074592e-05 | 0.025504089 | 0.05241042 | 0.10366866 |\n",
       "| 0.0008149737 | 3.076350e-03 | 0.026093771 | 0.05310129 | 0.10319047 |\n",
       "| 0.0011396743 | 3.681194e-03 | 0.028424705 | 0.05681089 | 0.10858843 |\n",
       "| 0.0015915400 | 4.498608e-03 | 0.031087294 | 0.05726240 | 0.10857802 |\n",
       "\n"
      ],
      "text/plain": [
       "      [,1]         [,2]         [,3]        [,4]       [,5]      \n",
       " [1,] 0.005732163  0.008365817  0.03855734  0.07573650 0.1468967 \n",
       " [2,] 0.005730203  0.008736903  0.03855725  0.07507592 0.1466868 \n",
       " [3,] 0.005839715  0.008947748  0.03867916  0.07533730 0.1464051 \n",
       " [4,] 0.006065502  0.008683511  0.03920832  0.07553581 0.1475984 \n",
       " [5,] 0.006369937  0.008852003  0.03931360  0.07509871 0.1450026 \n",
       " [6,] 0.006215890  0.008743961  0.03883230  0.07407387 0.1441879 \n",
       " [7,] 0.005984790  0.009340253  0.03840258  0.07313997 0.1408319 \n",
       " [8,] 0.006007077  0.009013525  0.03870613  0.07358605 0.1422060 \n",
       " [9,] 0.006180894  0.009123558  0.04001447  0.07530378 0.1434042 \n",
       "[10,] 0.006240368  0.009472351  0.04139540  0.07826057 0.1480469 \n",
       "[11,] 0.006123415  0.009823279  0.04133481  0.07836993 0.1478789 \n",
       "[12,] 0.006282991  0.009792647  0.04157467  0.07739513 0.1478582 \n",
       "[13,] 0.006486859  0.009703522  0.04231135  0.07868161 0.1478276 \n",
       "[14,] 0.006515949  0.009826923  0.04251367  0.08007181 0.1514540 \n",
       "[15,] 0.006460922  0.009837481  0.04119410  0.07717650 0.1472132 \n",
       "[16,] 0.006495250  0.009862038  0.04102817  0.07663966 0.1459526 \n",
       "[17,] 0.006540756  0.009927002  0.04142573  0.07740955 0.1476127 \n",
       "[18,] 0.006401707  0.010076347  0.04196630  0.07730712 0.1459217 \n",
       "[19,] 0.006333624  0.010333779  0.04148643  0.07650854 0.1451776 \n",
       "[20,] 0.006396118  0.010317864  0.04123143  0.07580284 0.1438535 \n",
       "[21,] 0.006498034  0.010283707  0.04139594  0.07498787 0.1421968 \n",
       "[22,] 0.006544191  0.010555435  0.04161334  0.07485830 0.1423282 \n",
       "[23,] 0.006436227  0.010725964  0.04184638  0.07583076 0.1451552 \n",
       "[24,] 0.006556539  0.010718142  0.04294363  0.07731882 0.1469397 \n",
       "[25,] 0.006602687  0.010760367  0.04252054  0.07670766 0.1472258 \n",
       "[26,] 0.006743267  0.010727741  0.04185479  0.07499693 0.1444496 \n",
       "[27,] 0.006670075  0.010894656  0.04179041  0.07478645 0.1438239 \n",
       "[28,] 0.006786663  0.010942753  0.04172469  0.07384025 0.1416635 \n",
       "[29,] 0.006709012  0.010912515  0.04186500  0.07442670 0.1438152 \n",
       "[30,] 0.006774120  0.011122268  0.04281939  0.07622327 0.1464824 \n",
       "[31,] ...          ...          ...         ...        ...       \n",
       "[32,] 0.0000000000 0.000000e+00 0.008250087 0.02858707 0.09132602\n",
       "[33,] 0.0000000000 0.000000e+00 0.007554658 0.02862317 0.08794253\n",
       "[34,] 0.0000000000 0.000000e+00 0.008932284 0.03118378 0.09139342\n",
       "[35,] 0.0000000000 0.000000e+00 0.009321860 0.03111935 0.08971414\n",
       "[36,] 0.0000000000 0.000000e+00 0.009650979 0.03138750 0.08787811\n",
       "[37,] 0.0000000000 0.000000e+00 0.009197063 0.03281702 0.09125415\n",
       "[38,] 0.0000000000 0.000000e+00 0.008879862 0.03189577 0.09272727\n",
       "[39,] 0.0000000000 0.000000e+00 0.009567367 0.03301530 0.09329964\n",
       "[40,] 0.0000000000 0.000000e+00 0.010071335 0.03518930 0.09355582\n",
       "[41,] 0.0000000000 0.000000e+00 0.011489818 0.03811678 0.09761710\n",
       "[42,] 0.0000000000 0.000000e+00 0.010522783 0.03820236 0.09875691\n",
       "[43,] 0.0000000000 0.000000e+00 0.012388606 0.04255393 0.10592274\n",
       "[44,] 0.0000000000 0.000000e+00 0.014611782 0.04390944 0.10142018\n",
       "[45,] 0.0000000000 0.000000e+00 0.016082004 0.04557576 0.10390830\n",
       "[46,] 0.0000000000 0.000000e+00 0.016016563 0.04622335 0.09877027\n",
       "[47,] 0.0000000000 0.000000e+00 0.014051536 0.04146708 0.09495526\n",
       "[48,] 0.0000000000 0.000000e+00 0.017482582 0.04596232 0.09846905\n",
       "[49,] 0.0000000000 0.000000e+00 0.017726654 0.04591870 0.09743593\n",
       "[50,] 0.0000000000 0.000000e+00 0.016807297 0.04433234 0.09389884\n",
       "[51,] 0.0000000000 0.000000e+00 0.017923673 0.04221565 0.08540236\n",
       "[52,] 0.0000000000 0.000000e+00 0.020255482 0.04474443 0.09238406\n",
       "[53,] 0.0000000000 0.000000e+00 0.019168963 0.04231862 0.08858122\n",
       "[54,] 0.0000000000 0.000000e+00 0.020134794 0.04418462 0.09322725\n",
       "[55,] 0.0014447188 0.000000e+00 0.019872744 0.04529315 0.09394290\n",
       "[56,] 0.0013812924 0.000000e+00 0.023247073 0.05228357 0.10525517\n",
       "[57,] 0.0021234944 0.000000e+00 0.025132744 0.05281024 0.10539032\n",
       "[58,] 0.0022351945 2.074592e-05 0.025504089 0.05241042 0.10366866\n",
       "[59,] 0.0008149737 3.076350e-03 0.026093771 0.05310129 0.10319047\n",
       "[60,] 0.0011396743 3.681194e-03 0.028424705 0.05681089 0.10858843\n",
       "[61,] 0.0015915400 4.498608e-03 0.031087294 0.05726240 0.10857802"
      ]
     },
     "metadata": {},
     "output_type": "display_data"
    }
   ],
   "source": [
    "MatofAlphas <- matrix(unlist(matAlphas), ncol = 5, byrow = TRUE)\n",
    "MatofAlphas"
   ]
  },
  {
   "cell_type": "code",
   "execution_count": 42,
   "id": "75147ad5",
   "metadata": {},
   "outputs": [],
   "source": [
    "write.csv(MatofAlphas,\"../data/sim.csv\", row.names = FALSE)"
   ]
  },
  {
   "cell_type": "code",
   "execution_count": 43,
   "id": "89765d2f",
   "metadata": {},
   "outputs": [
    {
     "data": {
      "text/html": [
       "<table class=\"dataframe\">\n",
       "<caption>A data.frame: 209 × 5</caption>\n",
       "<thead>\n",
       "\t<tr><th scope=col>V1</th><th scope=col>V2</th><th scope=col>V3</th><th scope=col>V4</th><th scope=col>V5</th></tr>\n",
       "\t<tr><th scope=col>&lt;dbl&gt;</th><th scope=col>&lt;dbl&gt;</th><th scope=col>&lt;dbl&gt;</th><th scope=col>&lt;dbl&gt;</th><th scope=col>&lt;dbl&gt;</th></tr>\n",
       "</thead>\n",
       "<tbody>\n",
       "\t<tr><td>0.005732163</td><td>0.008365817</td><td>0.03855734</td><td>0.07573650</td><td>0.1468967</td></tr>\n",
       "\t<tr><td>0.005730203</td><td>0.008736903</td><td>0.03855725</td><td>0.07507592</td><td>0.1466868</td></tr>\n",
       "\t<tr><td>0.005839715</td><td>0.008947748</td><td>0.03867916</td><td>0.07533730</td><td>0.1464051</td></tr>\n",
       "\t<tr><td>0.006065502</td><td>0.008683511</td><td>0.03920832</td><td>0.07553581</td><td>0.1475984</td></tr>\n",
       "\t<tr><td>0.006369937</td><td>0.008852003</td><td>0.03931360</td><td>0.07509871</td><td>0.1450026</td></tr>\n",
       "\t<tr><td>0.006215890</td><td>0.008743961</td><td>0.03883230</td><td>0.07407387</td><td>0.1441879</td></tr>\n",
       "\t<tr><td>0.005984790</td><td>0.009340253</td><td>0.03840258</td><td>0.07313997</td><td>0.1408319</td></tr>\n",
       "\t<tr><td>0.006007077</td><td>0.009013525</td><td>0.03870613</td><td>0.07358605</td><td>0.1422060</td></tr>\n",
       "\t<tr><td>0.006180894</td><td>0.009123558</td><td>0.04001447</td><td>0.07530378</td><td>0.1434042</td></tr>\n",
       "\t<tr><td>0.006240368</td><td>0.009472351</td><td>0.04139540</td><td>0.07826057</td><td>0.1480469</td></tr>\n",
       "\t<tr><td>0.006123415</td><td>0.009823279</td><td>0.04133481</td><td>0.07836993</td><td>0.1478789</td></tr>\n",
       "\t<tr><td>0.006282991</td><td>0.009792647</td><td>0.04157467</td><td>0.07739513</td><td>0.1478582</td></tr>\n",
       "\t<tr><td>0.006486859</td><td>0.009703522</td><td>0.04231135</td><td>0.07868161</td><td>0.1478276</td></tr>\n",
       "\t<tr><td>0.006515949</td><td>0.009826923</td><td>0.04251367</td><td>0.08007181</td><td>0.1514540</td></tr>\n",
       "\t<tr><td>0.006460922</td><td>0.009837481</td><td>0.04119410</td><td>0.07717650</td><td>0.1472132</td></tr>\n",
       "\t<tr><td>0.006495250</td><td>0.009862038</td><td>0.04102817</td><td>0.07663966</td><td>0.1459526</td></tr>\n",
       "\t<tr><td>0.006540756</td><td>0.009927002</td><td>0.04142573</td><td>0.07740955</td><td>0.1476127</td></tr>\n",
       "\t<tr><td>0.006401707</td><td>0.010076347</td><td>0.04196630</td><td>0.07730712</td><td>0.1459217</td></tr>\n",
       "\t<tr><td>0.006333624</td><td>0.010333779</td><td>0.04148643</td><td>0.07650854</td><td>0.1451776</td></tr>\n",
       "\t<tr><td>0.006396118</td><td>0.010317864</td><td>0.04123143</td><td>0.07580284</td><td>0.1438535</td></tr>\n",
       "\t<tr><td>0.006498034</td><td>0.010283707</td><td>0.04139594</td><td>0.07498787</td><td>0.1421968</td></tr>\n",
       "\t<tr><td>0.006544191</td><td>0.010555435</td><td>0.04161334</td><td>0.07485830</td><td>0.1423282</td></tr>\n",
       "\t<tr><td>0.006436227</td><td>0.010725964</td><td>0.04184638</td><td>0.07583076</td><td>0.1451552</td></tr>\n",
       "\t<tr><td>0.006556539</td><td>0.010718142</td><td>0.04294363</td><td>0.07731882</td><td>0.1469397</td></tr>\n",
       "\t<tr><td>0.006602687</td><td>0.010760367</td><td>0.04252054</td><td>0.07670766</td><td>0.1472258</td></tr>\n",
       "\t<tr><td>0.006743267</td><td>0.010727741</td><td>0.04185479</td><td>0.07499693</td><td>0.1444496</td></tr>\n",
       "\t<tr><td>0.006670075</td><td>0.010894656</td><td>0.04179041</td><td>0.07478645</td><td>0.1438239</td></tr>\n",
       "\t<tr><td>0.006786663</td><td>0.010942753</td><td>0.04172469</td><td>0.07384025</td><td>0.1416635</td></tr>\n",
       "\t<tr><td>0.006709012</td><td>0.010912515</td><td>0.04186500</td><td>0.07442670</td><td>0.1438152</td></tr>\n",
       "\t<tr><td>0.006774120</td><td>0.011122268</td><td>0.04281939</td><td>0.07622327</td><td>0.1464824</td></tr>\n",
       "\t<tr><td>...</td><td>...</td><td>...</td><td>...</td><td>...</td></tr>\n",
       "\t<tr><td>0.0000000000</td><td>0.000000e+00</td><td>0.008250087</td><td>0.02858707</td><td>0.09132602</td></tr>\n",
       "\t<tr><td>0.0000000000</td><td>0.000000e+00</td><td>0.007554658</td><td>0.02862317</td><td>0.08794253</td></tr>\n",
       "\t<tr><td>0.0000000000</td><td>0.000000e+00</td><td>0.008932284</td><td>0.03118378</td><td>0.09139342</td></tr>\n",
       "\t<tr><td>0.0000000000</td><td>0.000000e+00</td><td>0.009321860</td><td>0.03111935</td><td>0.08971414</td></tr>\n",
       "\t<tr><td>0.0000000000</td><td>0.000000e+00</td><td>0.009650979</td><td>0.03138750</td><td>0.08787811</td></tr>\n",
       "\t<tr><td>0.0000000000</td><td>0.000000e+00</td><td>0.009197063</td><td>0.03281702</td><td>0.09125415</td></tr>\n",
       "\t<tr><td>0.0000000000</td><td>0.000000e+00</td><td>0.008879862</td><td>0.03189577</td><td>0.09272727</td></tr>\n",
       "\t<tr><td>0.0000000000</td><td>0.000000e+00</td><td>0.009567367</td><td>0.03301530</td><td>0.09329964</td></tr>\n",
       "\t<tr><td>0.0000000000</td><td>0.000000e+00</td><td>0.010071335</td><td>0.03518930</td><td>0.09355582</td></tr>\n",
       "\t<tr><td>0.0000000000</td><td>0.000000e+00</td><td>0.011489818</td><td>0.03811678</td><td>0.09761710</td></tr>\n",
       "\t<tr><td>0.0000000000</td><td>0.000000e+00</td><td>0.010522783</td><td>0.03820236</td><td>0.09875691</td></tr>\n",
       "\t<tr><td>0.0000000000</td><td>0.000000e+00</td><td>0.012388606</td><td>0.04255393</td><td>0.10592274</td></tr>\n",
       "\t<tr><td>0.0000000000</td><td>0.000000e+00</td><td>0.014611782</td><td>0.04390944</td><td>0.10142018</td></tr>\n",
       "\t<tr><td>0.0000000000</td><td>0.000000e+00</td><td>0.016082004</td><td>0.04557576</td><td>0.10390830</td></tr>\n",
       "\t<tr><td>0.0000000000</td><td>0.000000e+00</td><td>0.016016563</td><td>0.04622335</td><td>0.09877027</td></tr>\n",
       "\t<tr><td>0.0000000000</td><td>0.000000e+00</td><td>0.014051536</td><td>0.04146708</td><td>0.09495526</td></tr>\n",
       "\t<tr><td>0.0000000000</td><td>0.000000e+00</td><td>0.017482582</td><td>0.04596232</td><td>0.09846905</td></tr>\n",
       "\t<tr><td>0.0000000000</td><td>0.000000e+00</td><td>0.017726654</td><td>0.04591870</td><td>0.09743593</td></tr>\n",
       "\t<tr><td>0.0000000000</td><td>0.000000e+00</td><td>0.016807297</td><td>0.04433234</td><td>0.09389884</td></tr>\n",
       "\t<tr><td>0.0000000000</td><td>0.000000e+00</td><td>0.017923673</td><td>0.04221565</td><td>0.08540236</td></tr>\n",
       "\t<tr><td>0.0000000000</td><td>0.000000e+00</td><td>0.020255482</td><td>0.04474443</td><td>0.09238406</td></tr>\n",
       "\t<tr><td>0.0000000000</td><td>0.000000e+00</td><td>0.019168963</td><td>0.04231862</td><td>0.08858122</td></tr>\n",
       "\t<tr><td>0.0000000000</td><td>0.000000e+00</td><td>0.020134794</td><td>0.04418462</td><td>0.09322725</td></tr>\n",
       "\t<tr><td>0.0014447188</td><td>0.000000e+00</td><td>0.019872744</td><td>0.04529315</td><td>0.09394290</td></tr>\n",
       "\t<tr><td>0.0013812924</td><td>0.000000e+00</td><td>0.023247073</td><td>0.05228357</td><td>0.10525517</td></tr>\n",
       "\t<tr><td>0.0021234944</td><td>0.000000e+00</td><td>0.025132744</td><td>0.05281024</td><td>0.10539032</td></tr>\n",
       "\t<tr><td>0.0022351945</td><td>2.074592e-05</td><td>0.025504089</td><td>0.05241042</td><td>0.10366866</td></tr>\n",
       "\t<tr><td>0.0008149737</td><td>3.076350e-03</td><td>0.026093771</td><td>0.05310129</td><td>0.10319047</td></tr>\n",
       "\t<tr><td>0.0011396743</td><td>3.681194e-03</td><td>0.028424705</td><td>0.05681089</td><td>0.10858843</td></tr>\n",
       "\t<tr><td>0.0015915400</td><td>4.498608e-03</td><td>0.031087294</td><td>0.05726240</td><td>0.10857802</td></tr>\n",
       "</tbody>\n",
       "</table>\n"
      ],
      "text/latex": [
       "A data.frame: 209 × 5\n",
       "\\begin{tabular}{lllll}\n",
       " V1 & V2 & V3 & V4 & V5\\\\\n",
       " <dbl> & <dbl> & <dbl> & <dbl> & <dbl>\\\\\n",
       "\\hline\n",
       "\t 0.005732163 & 0.008365817 & 0.03855734 & 0.07573650 & 0.1468967\\\\\n",
       "\t 0.005730203 & 0.008736903 & 0.03855725 & 0.07507592 & 0.1466868\\\\\n",
       "\t 0.005839715 & 0.008947748 & 0.03867916 & 0.07533730 & 0.1464051\\\\\n",
       "\t 0.006065502 & 0.008683511 & 0.03920832 & 0.07553581 & 0.1475984\\\\\n",
       "\t 0.006369937 & 0.008852003 & 0.03931360 & 0.07509871 & 0.1450026\\\\\n",
       "\t 0.006215890 & 0.008743961 & 0.03883230 & 0.07407387 & 0.1441879\\\\\n",
       "\t 0.005984790 & 0.009340253 & 0.03840258 & 0.07313997 & 0.1408319\\\\\n",
       "\t 0.006007077 & 0.009013525 & 0.03870613 & 0.07358605 & 0.1422060\\\\\n",
       "\t 0.006180894 & 0.009123558 & 0.04001447 & 0.07530378 & 0.1434042\\\\\n",
       "\t 0.006240368 & 0.009472351 & 0.04139540 & 0.07826057 & 0.1480469\\\\\n",
       "\t 0.006123415 & 0.009823279 & 0.04133481 & 0.07836993 & 0.1478789\\\\\n",
       "\t 0.006282991 & 0.009792647 & 0.04157467 & 0.07739513 & 0.1478582\\\\\n",
       "\t 0.006486859 & 0.009703522 & 0.04231135 & 0.07868161 & 0.1478276\\\\\n",
       "\t 0.006515949 & 0.009826923 & 0.04251367 & 0.08007181 & 0.1514540\\\\\n",
       "\t 0.006460922 & 0.009837481 & 0.04119410 & 0.07717650 & 0.1472132\\\\\n",
       "\t 0.006495250 & 0.009862038 & 0.04102817 & 0.07663966 & 0.1459526\\\\\n",
       "\t 0.006540756 & 0.009927002 & 0.04142573 & 0.07740955 & 0.1476127\\\\\n",
       "\t 0.006401707 & 0.010076347 & 0.04196630 & 0.07730712 & 0.1459217\\\\\n",
       "\t 0.006333624 & 0.010333779 & 0.04148643 & 0.07650854 & 0.1451776\\\\\n",
       "\t 0.006396118 & 0.010317864 & 0.04123143 & 0.07580284 & 0.1438535\\\\\n",
       "\t 0.006498034 & 0.010283707 & 0.04139594 & 0.07498787 & 0.1421968\\\\\n",
       "\t 0.006544191 & 0.010555435 & 0.04161334 & 0.07485830 & 0.1423282\\\\\n",
       "\t 0.006436227 & 0.010725964 & 0.04184638 & 0.07583076 & 0.1451552\\\\\n",
       "\t 0.006556539 & 0.010718142 & 0.04294363 & 0.07731882 & 0.1469397\\\\\n",
       "\t 0.006602687 & 0.010760367 & 0.04252054 & 0.07670766 & 0.1472258\\\\\n",
       "\t 0.006743267 & 0.010727741 & 0.04185479 & 0.07499693 & 0.1444496\\\\\n",
       "\t 0.006670075 & 0.010894656 & 0.04179041 & 0.07478645 & 0.1438239\\\\\n",
       "\t 0.006786663 & 0.010942753 & 0.04172469 & 0.07384025 & 0.1416635\\\\\n",
       "\t 0.006709012 & 0.010912515 & 0.04186500 & 0.07442670 & 0.1438152\\\\\n",
       "\t 0.006774120 & 0.011122268 & 0.04281939 & 0.07622327 & 0.1464824\\\\\n",
       "\t ... & ... & ... & ... & ...\\\\\n",
       "\t 0.0000000000 & 0.000000e+00 & 0.008250087 & 0.02858707 & 0.09132602\\\\\n",
       "\t 0.0000000000 & 0.000000e+00 & 0.007554658 & 0.02862317 & 0.08794253\\\\\n",
       "\t 0.0000000000 & 0.000000e+00 & 0.008932284 & 0.03118378 & 0.09139342\\\\\n",
       "\t 0.0000000000 & 0.000000e+00 & 0.009321860 & 0.03111935 & 0.08971414\\\\\n",
       "\t 0.0000000000 & 0.000000e+00 & 0.009650979 & 0.03138750 & 0.08787811\\\\\n",
       "\t 0.0000000000 & 0.000000e+00 & 0.009197063 & 0.03281702 & 0.09125415\\\\\n",
       "\t 0.0000000000 & 0.000000e+00 & 0.008879862 & 0.03189577 & 0.09272727\\\\\n",
       "\t 0.0000000000 & 0.000000e+00 & 0.009567367 & 0.03301530 & 0.09329964\\\\\n",
       "\t 0.0000000000 & 0.000000e+00 & 0.010071335 & 0.03518930 & 0.09355582\\\\\n",
       "\t 0.0000000000 & 0.000000e+00 & 0.011489818 & 0.03811678 & 0.09761710\\\\\n",
       "\t 0.0000000000 & 0.000000e+00 & 0.010522783 & 0.03820236 & 0.09875691\\\\\n",
       "\t 0.0000000000 & 0.000000e+00 & 0.012388606 & 0.04255393 & 0.10592274\\\\\n",
       "\t 0.0000000000 & 0.000000e+00 & 0.014611782 & 0.04390944 & 0.10142018\\\\\n",
       "\t 0.0000000000 & 0.000000e+00 & 0.016082004 & 0.04557576 & 0.10390830\\\\\n",
       "\t 0.0000000000 & 0.000000e+00 & 0.016016563 & 0.04622335 & 0.09877027\\\\\n",
       "\t 0.0000000000 & 0.000000e+00 & 0.014051536 & 0.04146708 & 0.09495526\\\\\n",
       "\t 0.0000000000 & 0.000000e+00 & 0.017482582 & 0.04596232 & 0.09846905\\\\\n",
       "\t 0.0000000000 & 0.000000e+00 & 0.017726654 & 0.04591870 & 0.09743593\\\\\n",
       "\t 0.0000000000 & 0.000000e+00 & 0.016807297 & 0.04433234 & 0.09389884\\\\\n",
       "\t 0.0000000000 & 0.000000e+00 & 0.017923673 & 0.04221565 & 0.08540236\\\\\n",
       "\t 0.0000000000 & 0.000000e+00 & 0.020255482 & 0.04474443 & 0.09238406\\\\\n",
       "\t 0.0000000000 & 0.000000e+00 & 0.019168963 & 0.04231862 & 0.08858122\\\\\n",
       "\t 0.0000000000 & 0.000000e+00 & 0.020134794 & 0.04418462 & 0.09322725\\\\\n",
       "\t 0.0014447188 & 0.000000e+00 & 0.019872744 & 0.04529315 & 0.09394290\\\\\n",
       "\t 0.0013812924 & 0.000000e+00 & 0.023247073 & 0.05228357 & 0.10525517\\\\\n",
       "\t 0.0021234944 & 0.000000e+00 & 0.025132744 & 0.05281024 & 0.10539032\\\\\n",
       "\t 0.0022351945 & 2.074592e-05 & 0.025504089 & 0.05241042 & 0.10366866\\\\\n",
       "\t 0.0008149737 & 3.076350e-03 & 0.026093771 & 0.05310129 & 0.10319047\\\\\n",
       "\t 0.0011396743 & 3.681194e-03 & 0.028424705 & 0.05681089 & 0.10858843\\\\\n",
       "\t 0.0015915400 & 4.498608e-03 & 0.031087294 & 0.05726240 & 0.10857802\\\\\n",
       "\\end{tabular}\n"
      ],
      "text/markdown": [
       "\n",
       "A data.frame: 209 × 5\n",
       "\n",
       "| V1 &lt;dbl&gt; | V2 &lt;dbl&gt; | V3 &lt;dbl&gt; | V4 &lt;dbl&gt; | V5 &lt;dbl&gt; |\n",
       "|---|---|---|---|---|\n",
       "| 0.005732163 | 0.008365817 | 0.03855734 | 0.07573650 | 0.1468967 |\n",
       "| 0.005730203 | 0.008736903 | 0.03855725 | 0.07507592 | 0.1466868 |\n",
       "| 0.005839715 | 0.008947748 | 0.03867916 | 0.07533730 | 0.1464051 |\n",
       "| 0.006065502 | 0.008683511 | 0.03920832 | 0.07553581 | 0.1475984 |\n",
       "| 0.006369937 | 0.008852003 | 0.03931360 | 0.07509871 | 0.1450026 |\n",
       "| 0.006215890 | 0.008743961 | 0.03883230 | 0.07407387 | 0.1441879 |\n",
       "| 0.005984790 | 0.009340253 | 0.03840258 | 0.07313997 | 0.1408319 |\n",
       "| 0.006007077 | 0.009013525 | 0.03870613 | 0.07358605 | 0.1422060 |\n",
       "| 0.006180894 | 0.009123558 | 0.04001447 | 0.07530378 | 0.1434042 |\n",
       "| 0.006240368 | 0.009472351 | 0.04139540 | 0.07826057 | 0.1480469 |\n",
       "| 0.006123415 | 0.009823279 | 0.04133481 | 0.07836993 | 0.1478789 |\n",
       "| 0.006282991 | 0.009792647 | 0.04157467 | 0.07739513 | 0.1478582 |\n",
       "| 0.006486859 | 0.009703522 | 0.04231135 | 0.07868161 | 0.1478276 |\n",
       "| 0.006515949 | 0.009826923 | 0.04251367 | 0.08007181 | 0.1514540 |\n",
       "| 0.006460922 | 0.009837481 | 0.04119410 | 0.07717650 | 0.1472132 |\n",
       "| 0.006495250 | 0.009862038 | 0.04102817 | 0.07663966 | 0.1459526 |\n",
       "| 0.006540756 | 0.009927002 | 0.04142573 | 0.07740955 | 0.1476127 |\n",
       "| 0.006401707 | 0.010076347 | 0.04196630 | 0.07730712 | 0.1459217 |\n",
       "| 0.006333624 | 0.010333779 | 0.04148643 | 0.07650854 | 0.1451776 |\n",
       "| 0.006396118 | 0.010317864 | 0.04123143 | 0.07580284 | 0.1438535 |\n",
       "| 0.006498034 | 0.010283707 | 0.04139594 | 0.07498787 | 0.1421968 |\n",
       "| 0.006544191 | 0.010555435 | 0.04161334 | 0.07485830 | 0.1423282 |\n",
       "| 0.006436227 | 0.010725964 | 0.04184638 | 0.07583076 | 0.1451552 |\n",
       "| 0.006556539 | 0.010718142 | 0.04294363 | 0.07731882 | 0.1469397 |\n",
       "| 0.006602687 | 0.010760367 | 0.04252054 | 0.07670766 | 0.1472258 |\n",
       "| 0.006743267 | 0.010727741 | 0.04185479 | 0.07499693 | 0.1444496 |\n",
       "| 0.006670075 | 0.010894656 | 0.04179041 | 0.07478645 | 0.1438239 |\n",
       "| 0.006786663 | 0.010942753 | 0.04172469 | 0.07384025 | 0.1416635 |\n",
       "| 0.006709012 | 0.010912515 | 0.04186500 | 0.07442670 | 0.1438152 |\n",
       "| 0.006774120 | 0.011122268 | 0.04281939 | 0.07622327 | 0.1464824 |\n",
       "| ... | ... | ... | ... | ... |\n",
       "| 0.0000000000 | 0.000000e+00 | 0.008250087 | 0.02858707 | 0.09132602 |\n",
       "| 0.0000000000 | 0.000000e+00 | 0.007554658 | 0.02862317 | 0.08794253 |\n",
       "| 0.0000000000 | 0.000000e+00 | 0.008932284 | 0.03118378 | 0.09139342 |\n",
       "| 0.0000000000 | 0.000000e+00 | 0.009321860 | 0.03111935 | 0.08971414 |\n",
       "| 0.0000000000 | 0.000000e+00 | 0.009650979 | 0.03138750 | 0.08787811 |\n",
       "| 0.0000000000 | 0.000000e+00 | 0.009197063 | 0.03281702 | 0.09125415 |\n",
       "| 0.0000000000 | 0.000000e+00 | 0.008879862 | 0.03189577 | 0.09272727 |\n",
       "| 0.0000000000 | 0.000000e+00 | 0.009567367 | 0.03301530 | 0.09329964 |\n",
       "| 0.0000000000 | 0.000000e+00 | 0.010071335 | 0.03518930 | 0.09355582 |\n",
       "| 0.0000000000 | 0.000000e+00 | 0.011489818 | 0.03811678 | 0.09761710 |\n",
       "| 0.0000000000 | 0.000000e+00 | 0.010522783 | 0.03820236 | 0.09875691 |\n",
       "| 0.0000000000 | 0.000000e+00 | 0.012388606 | 0.04255393 | 0.10592274 |\n",
       "| 0.0000000000 | 0.000000e+00 | 0.014611782 | 0.04390944 | 0.10142018 |\n",
       "| 0.0000000000 | 0.000000e+00 | 0.016082004 | 0.04557576 | 0.10390830 |\n",
       "| 0.0000000000 | 0.000000e+00 | 0.016016563 | 0.04622335 | 0.09877027 |\n",
       "| 0.0000000000 | 0.000000e+00 | 0.014051536 | 0.04146708 | 0.09495526 |\n",
       "| 0.0000000000 | 0.000000e+00 | 0.017482582 | 0.04596232 | 0.09846905 |\n",
       "| 0.0000000000 | 0.000000e+00 | 0.017726654 | 0.04591870 | 0.09743593 |\n",
       "| 0.0000000000 | 0.000000e+00 | 0.016807297 | 0.04433234 | 0.09389884 |\n",
       "| 0.0000000000 | 0.000000e+00 | 0.017923673 | 0.04221565 | 0.08540236 |\n",
       "| 0.0000000000 | 0.000000e+00 | 0.020255482 | 0.04474443 | 0.09238406 |\n",
       "| 0.0000000000 | 0.000000e+00 | 0.019168963 | 0.04231862 | 0.08858122 |\n",
       "| 0.0000000000 | 0.000000e+00 | 0.020134794 | 0.04418462 | 0.09322725 |\n",
       "| 0.0014447188 | 0.000000e+00 | 0.019872744 | 0.04529315 | 0.09394290 |\n",
       "| 0.0013812924 | 0.000000e+00 | 0.023247073 | 0.05228357 | 0.10525517 |\n",
       "| 0.0021234944 | 0.000000e+00 | 0.025132744 | 0.05281024 | 0.10539032 |\n",
       "| 0.0022351945 | 2.074592e-05 | 0.025504089 | 0.05241042 | 0.10366866 |\n",
       "| 0.0008149737 | 3.076350e-03 | 0.026093771 | 0.05310129 | 0.10319047 |\n",
       "| 0.0011396743 | 3.681194e-03 | 0.028424705 | 0.05681089 | 0.10858843 |\n",
       "| 0.0015915400 | 4.498608e-03 | 0.031087294 | 0.05726240 | 0.10857802 |\n",
       "\n"
      ],
      "text/plain": [
       "    V1           V2           V3          V4         V5        \n",
       "1   0.005732163  0.008365817  0.03855734  0.07573650 0.1468967 \n",
       "2   0.005730203  0.008736903  0.03855725  0.07507592 0.1466868 \n",
       "3   0.005839715  0.008947748  0.03867916  0.07533730 0.1464051 \n",
       "4   0.006065502  0.008683511  0.03920832  0.07553581 0.1475984 \n",
       "5   0.006369937  0.008852003  0.03931360  0.07509871 0.1450026 \n",
       "6   0.006215890  0.008743961  0.03883230  0.07407387 0.1441879 \n",
       "7   0.005984790  0.009340253  0.03840258  0.07313997 0.1408319 \n",
       "8   0.006007077  0.009013525  0.03870613  0.07358605 0.1422060 \n",
       "9   0.006180894  0.009123558  0.04001447  0.07530378 0.1434042 \n",
       "10  0.006240368  0.009472351  0.04139540  0.07826057 0.1480469 \n",
       "11  0.006123415  0.009823279  0.04133481  0.07836993 0.1478789 \n",
       "12  0.006282991  0.009792647  0.04157467  0.07739513 0.1478582 \n",
       "13  0.006486859  0.009703522  0.04231135  0.07868161 0.1478276 \n",
       "14  0.006515949  0.009826923  0.04251367  0.08007181 0.1514540 \n",
       "15  0.006460922  0.009837481  0.04119410  0.07717650 0.1472132 \n",
       "16  0.006495250  0.009862038  0.04102817  0.07663966 0.1459526 \n",
       "17  0.006540756  0.009927002  0.04142573  0.07740955 0.1476127 \n",
       "18  0.006401707  0.010076347  0.04196630  0.07730712 0.1459217 \n",
       "19  0.006333624  0.010333779  0.04148643  0.07650854 0.1451776 \n",
       "20  0.006396118  0.010317864  0.04123143  0.07580284 0.1438535 \n",
       "21  0.006498034  0.010283707  0.04139594  0.07498787 0.1421968 \n",
       "22  0.006544191  0.010555435  0.04161334  0.07485830 0.1423282 \n",
       "23  0.006436227  0.010725964  0.04184638  0.07583076 0.1451552 \n",
       "24  0.006556539  0.010718142  0.04294363  0.07731882 0.1469397 \n",
       "25  0.006602687  0.010760367  0.04252054  0.07670766 0.1472258 \n",
       "26  0.006743267  0.010727741  0.04185479  0.07499693 0.1444496 \n",
       "27  0.006670075  0.010894656  0.04179041  0.07478645 0.1438239 \n",
       "28  0.006786663  0.010942753  0.04172469  0.07384025 0.1416635 \n",
       "29  0.006709012  0.010912515  0.04186500  0.07442670 0.1438152 \n",
       "30  0.006774120  0.011122268  0.04281939  0.07622327 0.1464824 \n",
       "... ...          ...          ...         ...        ...       \n",
       "180 0.0000000000 0.000000e+00 0.008250087 0.02858707 0.09132602\n",
       "181 0.0000000000 0.000000e+00 0.007554658 0.02862317 0.08794253\n",
       "182 0.0000000000 0.000000e+00 0.008932284 0.03118378 0.09139342\n",
       "183 0.0000000000 0.000000e+00 0.009321860 0.03111935 0.08971414\n",
       "184 0.0000000000 0.000000e+00 0.009650979 0.03138750 0.08787811\n",
       "185 0.0000000000 0.000000e+00 0.009197063 0.03281702 0.09125415\n",
       "186 0.0000000000 0.000000e+00 0.008879862 0.03189577 0.09272727\n",
       "187 0.0000000000 0.000000e+00 0.009567367 0.03301530 0.09329964\n",
       "188 0.0000000000 0.000000e+00 0.010071335 0.03518930 0.09355582\n",
       "189 0.0000000000 0.000000e+00 0.011489818 0.03811678 0.09761710\n",
       "190 0.0000000000 0.000000e+00 0.010522783 0.03820236 0.09875691\n",
       "191 0.0000000000 0.000000e+00 0.012388606 0.04255393 0.10592274\n",
       "192 0.0000000000 0.000000e+00 0.014611782 0.04390944 0.10142018\n",
       "193 0.0000000000 0.000000e+00 0.016082004 0.04557576 0.10390830\n",
       "194 0.0000000000 0.000000e+00 0.016016563 0.04622335 0.09877027\n",
       "195 0.0000000000 0.000000e+00 0.014051536 0.04146708 0.09495526\n",
       "196 0.0000000000 0.000000e+00 0.017482582 0.04596232 0.09846905\n",
       "197 0.0000000000 0.000000e+00 0.017726654 0.04591870 0.09743593\n",
       "198 0.0000000000 0.000000e+00 0.016807297 0.04433234 0.09389884\n",
       "199 0.0000000000 0.000000e+00 0.017923673 0.04221565 0.08540236\n",
       "200 0.0000000000 0.000000e+00 0.020255482 0.04474443 0.09238406\n",
       "201 0.0000000000 0.000000e+00 0.019168963 0.04231862 0.08858122\n",
       "202 0.0000000000 0.000000e+00 0.020134794 0.04418462 0.09322725\n",
       "203 0.0014447188 0.000000e+00 0.019872744 0.04529315 0.09394290\n",
       "204 0.0013812924 0.000000e+00 0.023247073 0.05228357 0.10525517\n",
       "205 0.0021234944 0.000000e+00 0.025132744 0.05281024 0.10539032\n",
       "206 0.0022351945 2.074592e-05 0.025504089 0.05241042 0.10366866\n",
       "207 0.0008149737 3.076350e-03 0.026093771 0.05310129 0.10319047\n",
       "208 0.0011396743 3.681194e-03 0.028424705 0.05681089 0.10858843\n",
       "209 0.0015915400 4.498608e-03 0.031087294 0.05726240 0.10857802"
      ]
     },
     "metadata": {},
     "output_type": "display_data"
    },
    {
     "data": {
      "text/html": [
       "<table class=\"dataframe\">\n",
       "<caption>A matrix: 5 × 5 of type dbl</caption>\n",
       "<thead>\n",
       "\t<tr><th></th><th scope=col>V1</th><th scope=col>V2</th><th scope=col>V3</th><th scope=col>V4</th><th scope=col>V5</th></tr>\n",
       "</thead>\n",
       "<tbody>\n",
       "\t<tr><th scope=row>V1</th><td>1.429905e-07</td><td>2.633902e-08</td><td>1.809064e-07</td><td>3.367939e-07</td><td>5.004966e-07</td></tr>\n",
       "\t<tr><th scope=row>V2</th><td>2.633902e-08</td><td>1.767814e-07</td><td>2.265376e-07</td><td>3.308812e-07</td><td>5.490863e-07</td></tr>\n",
       "\t<tr><th scope=row>V3</th><td>1.809064e-07</td><td>2.265376e-07</td><td>1.674500e-06</td><td>2.973988e-06</td><td>4.159642e-06</td></tr>\n",
       "\t<tr><th scope=row>V4</th><td>3.367939e-07</td><td>3.308812e-07</td><td>2.973988e-06</td><td>6.821224e-06</td><td>9.892204e-06</td></tr>\n",
       "\t<tr><th scope=row>V5</th><td>5.004966e-07</td><td>5.490863e-07</td><td>4.159642e-06</td><td>9.892204e-06</td><td>2.265409e-05</td></tr>\n",
       "</tbody>\n",
       "</table>\n"
      ],
      "text/latex": [
       "A matrix: 5 × 5 of type dbl\n",
       "\\begin{tabular}{r|lllll}\n",
       "  & V1 & V2 & V3 & V4 & V5\\\\\n",
       "\\hline\n",
       "\tV1 & 1.429905e-07 & 2.633902e-08 & 1.809064e-07 & 3.367939e-07 & 5.004966e-07\\\\\n",
       "\tV2 & 2.633902e-08 & 1.767814e-07 & 2.265376e-07 & 3.308812e-07 & 5.490863e-07\\\\\n",
       "\tV3 & 1.809064e-07 & 2.265376e-07 & 1.674500e-06 & 2.973988e-06 & 4.159642e-06\\\\\n",
       "\tV4 & 3.367939e-07 & 3.308812e-07 & 2.973988e-06 & 6.821224e-06 & 9.892204e-06\\\\\n",
       "\tV5 & 5.004966e-07 & 5.490863e-07 & 4.159642e-06 & 9.892204e-06 & 2.265409e-05\\\\\n",
       "\\end{tabular}\n"
      ],
      "text/markdown": [
       "\n",
       "A matrix: 5 × 5 of type dbl\n",
       "\n",
       "| <!--/--> | V1 | V2 | V3 | V4 | V5 |\n",
       "|---|---|---|---|---|---|\n",
       "| V1 | 1.429905e-07 | 2.633902e-08 | 1.809064e-07 | 3.367939e-07 | 5.004966e-07 |\n",
       "| V2 | 2.633902e-08 | 1.767814e-07 | 2.265376e-07 | 3.308812e-07 | 5.490863e-07 |\n",
       "| V3 | 1.809064e-07 | 2.265376e-07 | 1.674500e-06 | 2.973988e-06 | 4.159642e-06 |\n",
       "| V4 | 3.367939e-07 | 3.308812e-07 | 2.973988e-06 | 6.821224e-06 | 9.892204e-06 |\n",
       "| V5 | 5.004966e-07 | 5.490863e-07 | 4.159642e-06 | 9.892204e-06 | 2.265409e-05 |\n",
       "\n"
      ],
      "text/plain": [
       "   V1           V2           V3           V4           V5          \n",
       "V1 1.429905e-07 2.633902e-08 1.809064e-07 3.367939e-07 5.004966e-07\n",
       "V2 2.633902e-08 1.767814e-07 2.265376e-07 3.308812e-07 5.490863e-07\n",
       "V3 1.809064e-07 2.265376e-07 1.674500e-06 2.973988e-06 4.159642e-06\n",
       "V4 3.367939e-07 3.308812e-07 2.973988e-06 6.821224e-06 9.892204e-06\n",
       "V5 5.004966e-07 5.490863e-07 4.159642e-06 9.892204e-06 2.265409e-05"
      ]
     },
     "metadata": {},
     "output_type": "display_data"
    }
   ],
   "source": [
    "MatofAlphas <- read.csv(\"../data/sim.csv\")\n",
    "i_alpha <- MatofAlphas[-nrow(MatofAlphas),]\n",
    "f_alpha <- MatofAlphas[-1,]\n",
    "delta_alpha <- f_alpha - i_alpha\n",
    "cov_delta_a <- cov(delta_alpha)\n",
    "MatofAlphas\n",
    "cov_delta_a"
   ]
  },
  {
   "cell_type": "code",
   "execution_count": 44,
   "id": "15b0e16c",
   "metadata": {},
   "outputs": [
    {
     "data": {
      "text/html": [
       "<table class=\"dataframe\">\n",
       "<caption>A matrix: 5 × 5 of type dbl</caption>\n",
       "<tbody>\n",
       "\t<tr><td>-0.02198697</td><td>-0.04396285</td><td> 0.11746619</td><td> 0.23146598</td><td> 0.964473452</td></tr>\n",
       "\t<tr><td>-0.02374151</td><td>-0.04134217</td><td> 0.36715326</td><td>-0.91288622</td><td> 0.171943024</td></tr>\n",
       "\t<tr><td>-0.18573440</td><td>-0.43110682</td><td> 0.80301705</td><td> 0.31036971</td><td>-0.196173152</td></tr>\n",
       "\t<tr><td>-0.43104369</td><td>-0.76878266</td><td>-0.45278622</td><td>-0.12834246</td><td> 0.041078129</td></tr>\n",
       "\t<tr><td>-0.88241543</td><td> 0.46848503</td><td> 0.03935023</td><td> 0.01615899</td><td>-0.007432324</td></tr>\n",
       "</tbody>\n",
       "</table>\n"
      ],
      "text/latex": [
       "A matrix: 5 × 5 of type dbl\n",
       "\\begin{tabular}{lllll}\n",
       "\t -0.02198697 & -0.04396285 &  0.11746619 &  0.23146598 &  0.964473452\\\\\n",
       "\t -0.02374151 & -0.04134217 &  0.36715326 & -0.91288622 &  0.171943024\\\\\n",
       "\t -0.18573440 & -0.43110682 &  0.80301705 &  0.31036971 & -0.196173152\\\\\n",
       "\t -0.43104369 & -0.76878266 & -0.45278622 & -0.12834246 &  0.041078129\\\\\n",
       "\t -0.88241543 &  0.46848503 &  0.03935023 &  0.01615899 & -0.007432324\\\\\n",
       "\\end{tabular}\n"
      ],
      "text/markdown": [
       "\n",
       "A matrix: 5 × 5 of type dbl\n",
       "\n",
       "| -0.02198697 | -0.04396285 |  0.11746619 |  0.23146598 |  0.964473452 |\n",
       "| -0.02374151 | -0.04134217 |  0.36715326 | -0.91288622 |  0.171943024 |\n",
       "| -0.18573440 | -0.43110682 |  0.80301705 |  0.31036971 | -0.196173152 |\n",
       "| -0.43104369 | -0.76878266 | -0.45278622 | -0.12834246 |  0.041078129 |\n",
       "| -0.88241543 |  0.46848503 |  0.03935023 |  0.01615899 | -0.007432324 |\n",
       "\n"
      ],
      "text/plain": [
       "     [,1]        [,2]        [,3]        [,4]        [,5]        \n",
       "[1,] -0.02198697 -0.04396285  0.11746619  0.23146598  0.964473452\n",
       "[2,] -0.02374151 -0.04134217  0.36715326 -0.91288622  0.171943024\n",
       "[3,] -0.18573440 -0.43110682  0.80301705  0.31036971 -0.196173152\n",
       "[4,] -0.43104369 -0.76878266 -0.45278622 -0.12834246  0.041078129\n",
       "[5,] -0.88241543  0.46848503  0.03935023  0.01615899 -0.007432324"
      ]
     },
     "metadata": {},
     "output_type": "display_data"
    },
    {
     "data": {
      "text/html": [
       "<style>\n",
       ".list-inline {list-style: none; margin:0; padding: 0}\n",
       ".list-inline>li {display: inline-block}\n",
       ".list-inline>li:not(:last-child)::after {content: \"\\00b7\"; padding: 0 .5ex}\n",
       "</style>\n",
       "<ol class=list-inline><li>0.00532813556354705</li><li>0.00158044951331607</li><li>0.000575737357247955</li><li>0.000360391886849743</li><li>0.000348392797660339</li></ol>\n"
      ],
      "text/latex": [
       "\\begin{enumerate*}\n",
       "\\item 0.00532813556354705\n",
       "\\item 0.00158044951331607\n",
       "\\item 0.000575737357247955\n",
       "\\item 0.000360391886849743\n",
       "\\item 0.000348392797660339\n",
       "\\end{enumerate*}\n"
      ],
      "text/markdown": [
       "1. 0.00532813556354705\n",
       "2. 0.00158044951331607\n",
       "3. 0.000575737357247955\n",
       "4. 0.000360391886849743\n",
       "5. 0.000348392797660339\n",
       "\n",
       "\n"
      ],
      "text/plain": [
       "[1] 0.0053281356 0.0015804495 0.0005757374 0.0003603919 0.0003483928"
      ]
     },
     "metadata": {},
     "output_type": "display_data"
    },
    {
     "data": {
      "text/html": [
       "<table class=\"dataframe\">\n",
       "<caption>A matrix: 5 × 5 of type dbl</caption>\n",
       "<tbody>\n",
       "\t<tr><td>-0.0001171495</td><td>-6.948106e-05</td><td> 6.762967e-05</td><td> 8.341846e-05</td><td> 3.360156e-04</td></tr>\n",
       "\t<tr><td>-0.0001264980</td><td>-6.533922e-05</td><td> 2.113838e-04</td><td>-3.289968e-04</td><td> 5.990371e-05</td></tr>\n",
       "\t<tr><td>-0.0009896181</td><td>-6.813426e-04</td><td> 4.623269e-04</td><td> 1.118547e-04</td><td>-6.834531e-05</td></tr>\n",
       "\t<tr><td>-0.0022966592</td><td>-1.215022e-03</td><td>-2.606859e-04</td><td>-4.625358e-05</td><td> 1.431132e-05</td></tr>\n",
       "\t<tr><td>-0.0047016290</td><td> 7.404169e-04</td><td> 2.265540e-05</td><td> 5.823567e-06</td><td>-2.589368e-06</td></tr>\n",
       "</tbody>\n",
       "</table>\n"
      ],
      "text/latex": [
       "A matrix: 5 × 5 of type dbl\n",
       "\\begin{tabular}{lllll}\n",
       "\t -0.0001171495 & -6.948106e-05 &  6.762967e-05 &  8.341846e-05 &  3.360156e-04\\\\\n",
       "\t -0.0001264980 & -6.533922e-05 &  2.113838e-04 & -3.289968e-04 &  5.990371e-05\\\\\n",
       "\t -0.0009896181 & -6.813426e-04 &  4.623269e-04 &  1.118547e-04 & -6.834531e-05\\\\\n",
       "\t -0.0022966592 & -1.215022e-03 & -2.606859e-04 & -4.625358e-05 &  1.431132e-05\\\\\n",
       "\t -0.0047016290 &  7.404169e-04 &  2.265540e-05 &  5.823567e-06 & -2.589368e-06\\\\\n",
       "\\end{tabular}\n"
      ],
      "text/markdown": [
       "\n",
       "A matrix: 5 × 5 of type dbl\n",
       "\n",
       "| -0.0001171495 | -6.948106e-05 |  6.762967e-05 |  8.341846e-05 |  3.360156e-04 |\n",
       "| -0.0001264980 | -6.533922e-05 |  2.113838e-04 | -3.289968e-04 |  5.990371e-05 |\n",
       "| -0.0009896181 | -6.813426e-04 |  4.623269e-04 |  1.118547e-04 | -6.834531e-05 |\n",
       "| -0.0022966592 | -1.215022e-03 | -2.606859e-04 | -4.625358e-05 |  1.431132e-05 |\n",
       "| -0.0047016290 |  7.404169e-04 |  2.265540e-05 |  5.823567e-06 | -2.589368e-06 |\n",
       "\n"
      ],
      "text/plain": [
       "     [,1]          [,2]          [,3]          [,4]          [,5]         \n",
       "[1,] -0.0001171495 -6.948106e-05  6.762967e-05  8.341846e-05  3.360156e-04\n",
       "[2,] -0.0001264980 -6.533922e-05  2.113838e-04 -3.289968e-04  5.990371e-05\n",
       "[3,] -0.0009896181 -6.813426e-04  4.623269e-04  1.118547e-04 -6.834531e-05\n",
       "[4,] -0.0022966592 -1.215022e-03 -2.606859e-04 -4.625358e-05  1.431132e-05\n",
       "[5,] -0.0047016290  7.404169e-04  2.265540e-05  5.823567e-06 -2.589368e-06"
      ]
     },
     "metadata": {},
     "output_type": "display_data"
    }
   ],
   "source": [
    "eigen_delta <- eigen(cov_delta_a)\n",
    "A <- eigen_delta$vectors \n",
    "sqrt <- eigen_delta$values**(1/2)\n",
    "A \n",
    "sqrt\n",
    "B <- t(t(A) * sqrt)\n",
    "B"
   ]
  },
  {
   "cell_type": "code",
   "execution_count": 45,
   "id": "ba867aef",
   "metadata": {},
   "outputs": [
    {
     "data": {
      "text/html": [
       "<style>\n",
       ".list-inline {list-style: none; margin:0; padding: 0}\n",
       ".list-inline>li {display: inline-block}\n",
       ".list-inline>li:not(:last-child)::after {content: \"\\00b7\"; padding: 0 .5ex}\n",
       "</style>\n",
       "<ol class=list-inline><li>'V1'</li><li>'V2'</li><li>'V3'</li><li>'V4'</li><li>'V5'</li></ol>\n"
      ],
      "text/latex": [
       "\\begin{enumerate*}\n",
       "\\item 'V1'\n",
       "\\item 'V2'\n",
       "\\item 'V3'\n",
       "\\item 'V4'\n",
       "\\item 'V5'\n",
       "\\end{enumerate*}\n"
      ],
      "text/markdown": [
       "1. 'V1'\n",
       "2. 'V2'\n",
       "3. 'V3'\n",
       "4. 'V4'\n",
       "5. 'V5'\n",
       "\n",
       "\n"
      ],
      "text/plain": [
       "[1] \"V1\" \"V2\" \"V3\" \"V4\" \"V5\""
      ]
     },
     "metadata": {},
     "output_type": "display_data"
    },
    {
     "data": {
      "text/html": [
       "<table class=\"dataframe\">\n",
       "<caption>A data.frame: 5 × 6</caption>\n",
       "<thead>\n",
       "\t<tr><th scope=col>V1</th><th scope=col>V2</th><th scope=col>V3</th><th scope=col>V4</th><th scope=col>V5</th><th scope=col>N</th></tr>\n",
       "\t<tr><th scope=col>&lt;dbl&gt;</th><th scope=col>&lt;dbl&gt;</th><th scope=col>&lt;dbl&gt;</th><th scope=col>&lt;dbl&gt;</th><th scope=col>&lt;dbl&gt;</th><th scope=col>&lt;dbl&gt;</th></tr>\n",
       "</thead>\n",
       "<tbody>\n",
       "\t<tr><td>-0.0001171495</td><td>-6.948106e-05</td><td> 6.762967e-05</td><td> 8.341846e-05</td><td> 3.360156e-04</td><td>1</td></tr>\n",
       "\t<tr><td>-0.0001264980</td><td>-6.533922e-05</td><td> 2.113838e-04</td><td>-3.289968e-04</td><td> 5.990371e-05</td><td>2</td></tr>\n",
       "\t<tr><td>-0.0009896181</td><td>-6.813426e-04</td><td> 4.623269e-04</td><td> 1.118547e-04</td><td>-6.834531e-05</td><td>3</td></tr>\n",
       "\t<tr><td>-0.0022966592</td><td>-1.215022e-03</td><td>-2.606859e-04</td><td>-4.625358e-05</td><td> 1.431132e-05</td><td>4</td></tr>\n",
       "\t<tr><td>-0.0047016290</td><td> 7.404169e-04</td><td> 2.265540e-05</td><td> 5.823567e-06</td><td>-2.589368e-06</td><td>5</td></tr>\n",
       "</tbody>\n",
       "</table>\n"
      ],
      "text/latex": [
       "A data.frame: 5 × 6\n",
       "\\begin{tabular}{llllll}\n",
       " V1 & V2 & V3 & V4 & V5 & N\\\\\n",
       " <dbl> & <dbl> & <dbl> & <dbl> & <dbl> & <dbl>\\\\\n",
       "\\hline\n",
       "\t -0.0001171495 & -6.948106e-05 &  6.762967e-05 &  8.341846e-05 &  3.360156e-04 & 1\\\\\n",
       "\t -0.0001264980 & -6.533922e-05 &  2.113838e-04 & -3.289968e-04 &  5.990371e-05 & 2\\\\\n",
       "\t -0.0009896181 & -6.813426e-04 &  4.623269e-04 &  1.118547e-04 & -6.834531e-05 & 3\\\\\n",
       "\t -0.0022966592 & -1.215022e-03 & -2.606859e-04 & -4.625358e-05 &  1.431132e-05 & 4\\\\\n",
       "\t -0.0047016290 &  7.404169e-04 &  2.265540e-05 &  5.823567e-06 & -2.589368e-06 & 5\\\\\n",
       "\\end{tabular}\n"
      ],
      "text/markdown": [
       "\n",
       "A data.frame: 5 × 6\n",
       "\n",
       "| V1 &lt;dbl&gt; | V2 &lt;dbl&gt; | V3 &lt;dbl&gt; | V4 &lt;dbl&gt; | V5 &lt;dbl&gt; | N &lt;dbl&gt; |\n",
       "|---|---|---|---|---|---|\n",
       "| -0.0001171495 | -6.948106e-05 |  6.762967e-05 |  8.341846e-05 |  3.360156e-04 | 1 |\n",
       "| -0.0001264980 | -6.533922e-05 |  2.113838e-04 | -3.289968e-04 |  5.990371e-05 | 2 |\n",
       "| -0.0009896181 | -6.813426e-04 |  4.623269e-04 |  1.118547e-04 | -6.834531e-05 | 3 |\n",
       "| -0.0022966592 | -1.215022e-03 | -2.606859e-04 | -4.625358e-05 |  1.431132e-05 | 4 |\n",
       "| -0.0047016290 |  7.404169e-04 |  2.265540e-05 |  5.823567e-06 | -2.589368e-06 | 5 |\n",
       "\n"
      ],
      "text/plain": [
       "  V1            V2            V3            V4            V5            N\n",
       "1 -0.0001171495 -6.948106e-05  6.762967e-05  8.341846e-05  3.360156e-04 1\n",
       "2 -0.0001264980 -6.533922e-05  2.113838e-04 -3.289968e-04  5.990371e-05 2\n",
       "3 -0.0009896181 -6.813426e-04  4.623269e-04  1.118547e-04 -6.834531e-05 3\n",
       "4 -0.0022966592 -1.215022e-03 -2.606859e-04 -4.625358e-05  1.431132e-05 4\n",
       "5 -0.0047016290  7.404169e-04  2.265540e-05  5.823567e-06 -2.589368e-06 5"
      ]
     },
     "metadata": {},
     "output_type": "display_data"
    },
    {
     "data": {
      "image/png": "[encoded data removed]",
      "text/plain": [
       "plot without title"
      ]
     },
     "metadata": {},
     "output_type": "display_data"
    },
    {
     "data": {
      "text/html": [],
      "text/latex": [],
      "text/markdown": [],
      "text/plain": [
       "integer(0)"
      ]
     },
     "metadata": {},
     "output_type": "display_data"
    },
    {
     "data": {
      "image/png": "[encoded data removed]",
      "text/plain": [
       "plot without title"
      ]
     },
     "metadata": {},
     "output_type": "display_data"
    }
   ],
   "source": [
    "Bbase <- as.data.frame(B)\n",
    "names(Bbase)\n",
    "Bbase$N <- c(1,2,3,4,5)\n",
    "Bbase\n",
    "plot(Bbase$N ,Bbase$V1 ) + plot(Bbase$N ,Bbase$V2 )\n"
   ]
  },
  {
   "cell_type": "code",
   "execution_count": 46,
   "id": "890bd92a",
   "metadata": {},
   "outputs": [
    {
     "data": {
      "text/html": [
       "<table class=\"dataframe\">\n",
       "<caption>A data.frame: 209 × 5</caption>\n",
       "<thead>\n",
       "\t<tr><th scope=col>V1</th><th scope=col>V2</th><th scope=col>V3</th><th scope=col>V4</th><th scope=col>V5</th></tr>\n",
       "\t<tr><th scope=col>&lt;dbl&gt;</th><th scope=col>&lt;dbl&gt;</th><th scope=col>&lt;dbl&gt;</th><th scope=col>&lt;dbl&gt;</th><th scope=col>&lt;dbl&gt;</th></tr>\n",
       "</thead>\n",
       "<tbody>\n",
       "\t<tr><td>-1.260329e-04</td><td> 3.919260e-03</td><td>-0.0049485433</td><td>-0.0140668740</td><td> 0.053933595</td></tr>\n",
       "\t<tr><td>-1.360437e-04</td><td> 1.026291e-03</td><td> 0.0006230461</td><td>-0.0323610012</td><td> 0.117791964</td></tr>\n",
       "\t<tr><td>-1.084636e-03</td><td> 3.285195e-03</td><td> 0.0373050223</td><td>-0.0664787941</td><td>-0.066290207</td></tr>\n",
       "\t<tr><td>-2.614496e-03</td><td> 6.973007e-03</td><td> 0.0067415973</td><td>-0.0033207692</td><td> 0.005808030</td></tr>\n",
       "\t<tr><td>-5.620931e-03</td><td>-4.008065e-03</td><td>-0.0077122732</td><td>-0.0031047439</td><td> 0.033563161</td></tr>\n",
       "\t<tr><td>-2.732682e-04</td><td> 3.440769e-04</td><td> 0.0015951581</td><td>-0.0319337511</td><td>-0.131627132</td></tr>\n",
       "\t<tr><td>-2.474242e-04</td><td> 2.161951e-03</td><td>-0.0002854204</td><td>-0.0562287421</td><td> 0.043709950</td></tr>\n",
       "\t<tr><td>-2.589692e-03</td><td>-8.228323e-03</td><td>-0.0008510304</td><td> 0.0344739619</td><td>-0.018251069</td></tr>\n",
       "\t<tr><td>-4.751764e-03</td><td> 2.831676e-03</td><td>-0.0009500040</td><td> 0.0088456475</td><td> 0.002317267</td></tr>\n",
       "\t<tr><td> 2.923519e-03</td><td>-1.215705e-03</td><td>-0.0076885506</td><td> 0.0287336235</td><td> 0.142787321</td></tr>\n",
       "\t<tr><td> 7.192942e-04</td><td> 1.587342e-04</td><td>-0.0178171092</td><td> 0.0629323901</td><td> 0.025426747</td></tr>\n",
       "\t<tr><td> 2.306821e-03</td><td> 9.444748e-03</td><td>-0.0366861270</td><td>-0.0350434482</td><td>-0.029005816</td></tr>\n",
       "\t<tr><td> 5.209058e-03</td><td> 1.668453e-03</td><td>-0.0018601273</td><td> 0.0030961395</td><td> 0.006072480</td></tr>\n",
       "\t<tr><td>-2.950332e-03</td><td>-1.927778e-03</td><td>-0.0017576075</td><td> 0.0185338989</td><td>-0.001125655</td></tr>\n",
       "\t<tr><td> 2.542388e-04</td><td> 4.041053e-04</td><td>-0.0177590559</td><td>-0.0704533662</td><td>-0.003236772</td></tr>\n",
       "\t<tr><td> 1.503429e-03</td><td>-7.329786e-05</td><td>-0.0315417466</td><td> 0.0237866304</td><td>-0.003465135</td></tr>\n",
       "\t<tr><td>-5.970966e-03</td><td>-2.182647e-04</td><td> 0.0194073329</td><td>-0.0099349323</td><td>-0.027416756</td></tr>\n",
       "\t<tr><td> 1.986896e-03</td><td>-2.392277e-04</td><td> 0.0049296216</td><td> 0.0012492047</td><td>-0.062898647</td></tr>\n",
       "\t<tr><td>-8.128728e-04</td><td>-1.919338e-03</td><td> 0.0152318798</td><td> 0.0737904565</td><td>-0.128106933</td></tr>\n",
       "\t<tr><td> 1.033548e-04</td><td>-4.447450e-03</td><td> 0.0331095383</td><td> 0.0130337689</td><td>-0.006324209</td></tr>\n",
       "\t<tr><td> 6.267181e-03</td><td>-9.074502e-03</td><td>-0.0187435108</td><td>-0.0147106062</td><td>-0.005878724</td></tr>\n",
       "\t<tr><td> 1.125228e-03</td><td>-4.640470e-04</td><td> 0.0016374943</td><td> 0.0030750391</td><td>-0.061358678</td></tr>\n",
       "\t<tr><td>-1.262615e-03</td><td>-4.434347e-04</td><td> 0.0096860125</td><td>-0.0005635988</td><td>-0.111592793</td></tr>\n",
       "\t<tr><td> 2.693303e-04</td><td>-4.620664e-03</td><td>-0.0392026468</td><td>-0.0017000064</td><td> 0.068839027</td></tr>\n",
       "\t<tr><td>-4.907331e-05</td><td>-8.272383e-03</td><td> 0.0131970891</td><td>-0.0018211557</td><td> 0.017294054</td></tr>\n",
       "\t<tr><td>-1.482640e-04</td><td> 5.025786e-03</td><td>-0.0053717470</td><td>-0.0139295105</td><td> 0.053035141</td></tr>\n",
       "\t<tr><td>-1.583577e-04</td><td> 1.279754e-03</td><td> 0.0006752907</td><td>-0.0322362261</td><td> 0.115493010</td></tr>\n",
       "\t<tr><td>-1.260517e-03</td><td> 4.017668e-03</td><td> 0.0402423580</td><td>-0.0651577727</td><td>-0.064143273</td></tr>\n",
       "\t<tr><td>-2.891877e-03</td><td> 8.762936e-03</td><td> 0.0071983955</td><td>-0.0032720094</td><td> 0.005659160</td></tr>\n",
       "\t<tr><td>-5.977588e-03</td><td>-5.036010e-03</td><td>-0.0084000139</td><td>-0.0031512358</td><td> 0.033905683</td></tr>\n",
       "\t<tr><td>...</td><td>...</td><td>...</td><td>...</td><td>...</td></tr>\n",
       "\t<tr><td> 0.000000e+00</td><td> 0.000000e+00</td><td>-1.618445e-03</td><td>-0.0011818516</td><td> 0.0211388672</td></tr>\n",
       "\t<tr><td> 0.000000e+00</td><td> 0.000000e+00</td><td> 3.103312e-04</td><td>-0.0123396427</td><td>-0.0802815192</td></tr>\n",
       "\t<tr><td> 0.000000e+00</td><td> 0.000000e+00</td><td>-6.638763e-05</td><td>-0.0239735484</td><td> 0.0283657502</td></tr>\n",
       "\t<tr><td> 0.000000e+00</td><td> 0.000000e+00</td><td>-2.049594e-04</td><td> 0.0145789507</td><td>-0.0115141340</td></tr>\n",
       "\t<tr><td> 0.000000e+00</td><td> 0.000000e+00</td><td>-2.291288e-04</td><td> 0.0036869694</td><td> 0.0014200211</td></tr>\n",
       "\t<tr><td> 0.000000e+00</td><td> 0.000000e+00</td><td>-1.708211e-03</td><td> 0.0120488759</td><td> 0.0880122027</td></tr>\n",
       "\t<tr><td> 0.000000e+00</td><td> 0.000000e+00</td><td>-3.827608e-03</td><td> 0.0256128498</td><td> 0.0159438068</td></tr>\n",
       "\t<tr><td> 0.000000e+00</td><td> 0.000000e+00</td><td>-8.442393e-03</td><td>-0.0149488727</td><td>-0.0183028854</td></tr>\n",
       "\t<tr><td> 0.000000e+00</td><td> 0.000000e+00</td><td>-4.427646e-04</td><td> 0.0013847070</td><td> 0.0038430982</td></tr>\n",
       "\t<tr><td> 0.000000e+00</td><td> 0.000000e+00</td><td>-4.750141e-04</td><td> 0.0088227383</td><td>-0.0007255219</td></tr>\n",
       "\t<tr><td> 0.000000e+00</td><td> 0.000000e+00</td><td>-4.536444e-03</td><td>-0.0348744094</td><td>-0.0021713648</td></tr>\n",
       "\t<tr><td> 0.000000e+00</td><td> 0.000000e+00</td><td>-9.524146e-03</td><td> 0.0132074505</td><td>-0.0025147661</td></tr>\n",
       "\t<tr><td> 0.000000e+00</td><td> 0.000000e+00</td><td> 6.845401e-03</td><td>-0.0056354456</td><td>-0.0188372163</td></tr>\n",
       "\t<tr><td> 0.000000e+00</td><td> 0.000000e+00</td><td> 1.889092e-03</td><td> 0.0007364581</td><td>-0.0447890156</td></tr>\n",
       "\t<tr><td> 0.000000e+00</td><td> 0.000000e+00</td><td> 5.880533e-03</td><td> 0.0445811955</td><td>-0.0871564079</td></tr>\n",
       "\t<tr><td> 0.000000e+00</td><td> 0.000000e+00</td><td> 1.128362e-02</td><td> 0.0071299751</td><td>-0.0041745036</td></tr>\n",
       "\t<tr><td> 0.000000e+00</td><td> 0.000000e+00</td><td>-7.915872e-03</td><td>-0.0090165739</td><td>-0.0040709247</td></tr>\n",
       "\t<tr><td> 0.000000e+00</td><td> 0.000000e+00</td><td> 6.975479e-04</td><td> 0.0018862541</td><td>-0.0420052958</td></tr>\n",
       "\t<tr><td> 0.000000e+00</td><td> 0.000000e+00</td><td> 3.890317e-03</td><td>-0.0003294923</td><td>-0.0721878003</td></tr>\n",
       "\t<tr><td> 0.000000e+00</td><td> 0.000000e+00</td><td>-1.636227e-02</td><td>-0.0009281941</td><td> 0.0400097287</td></tr>\n",
       "\t<tr><td> 0.000000e+00</td><td> 0.000000e+00</td><td> 6.286688e-03</td><td>-0.0010623005</td><td> 0.0108520030</td></tr>\n",
       "\t<tr><td> 0.000000e+00</td><td> 0.000000e+00</td><td>-2.460192e-03</td><td>-0.0078600232</td><td> 0.0325228823</td></tr>\n",
       "\t<tr><td> 0.000000e+00</td><td> 0.000000e+00</td><td> 3.253579e-04</td><td>-0.0190455010</td><td> 0.0748630692</td></tr>\n",
       "\t<tr><td>-2.683340e-04</td><td> 0.000000e+00</td><td> 1.916673e-02</td><td>-0.0399673742</td><td>-0.0425360516</td></tr>\n",
       "\t<tr><td>-5.953974e-04</td><td> 0.000000e+00</td><td> 3.997172e-03</td><td>-0.0022985344</td><td> 0.0041418152</td></tr>\n",
       "\t<tr><td>-1.873804e-03</td><td> 0.000000e+00</td><td>-4.930370e-03</td><td>-0.0021832903</td><td> 0.0243942721</td></tr>\n",
       "\t<tr><td>-9.826551e-05</td><td> 8.163567e-07</td><td> 1.047660e-03</td><td>-0.0225944905</td><td>-0.0946376862</td></tr>\n",
       "\t<tr><td>-3.369279e-05</td><td> 7.120704e-04</td><td>-1.939374e-04</td><td>-0.0408233494</td><td> 0.0320271963</td></tr>\n",
       "\t<tr><td>-4.913214e-04</td><td>-3.360512e-03</td><td>-6.249730e-04</td><td> 0.0266150526</td><td>-0.0139365067</td></tr>\n",
       "\t<tr><td>-1.223548e-03</td><td> 1.396232e-03</td><td>-7.380594e-04</td><td> 0.0067263958</td><td> 0.0017545107</td></tr>\n",
       "</tbody>\n",
       "</table>\n"
      ],
      "text/latex": [
       "A data.frame: 209 × 5\n",
       "\\begin{tabular}{lllll}\n",
       " V1 & V2 & V3 & V4 & V5\\\\\n",
       " <dbl> & <dbl> & <dbl> & <dbl> & <dbl>\\\\\n",
       "\\hline\n",
       "\t -1.260329e-04 &  3.919260e-03 & -0.0049485433 & -0.0140668740 &  0.053933595\\\\\n",
       "\t -1.360437e-04 &  1.026291e-03 &  0.0006230461 & -0.0323610012 &  0.117791964\\\\\n",
       "\t -1.084636e-03 &  3.285195e-03 &  0.0373050223 & -0.0664787941 & -0.066290207\\\\\n",
       "\t -2.614496e-03 &  6.973007e-03 &  0.0067415973 & -0.0033207692 &  0.005808030\\\\\n",
       "\t -5.620931e-03 & -4.008065e-03 & -0.0077122732 & -0.0031047439 &  0.033563161\\\\\n",
       "\t -2.732682e-04 &  3.440769e-04 &  0.0015951581 & -0.0319337511 & -0.131627132\\\\\n",
       "\t -2.474242e-04 &  2.161951e-03 & -0.0002854204 & -0.0562287421 &  0.043709950\\\\\n",
       "\t -2.589692e-03 & -8.228323e-03 & -0.0008510304 &  0.0344739619 & -0.018251069\\\\\n",
       "\t -4.751764e-03 &  2.831676e-03 & -0.0009500040 &  0.0088456475 &  0.002317267\\\\\n",
       "\t  2.923519e-03 & -1.215705e-03 & -0.0076885506 &  0.0287336235 &  0.142787321\\\\\n",
       "\t  7.192942e-04 &  1.587342e-04 & -0.0178171092 &  0.0629323901 &  0.025426747\\\\\n",
       "\t  2.306821e-03 &  9.444748e-03 & -0.0366861270 & -0.0350434482 & -0.029005816\\\\\n",
       "\t  5.209058e-03 &  1.668453e-03 & -0.0018601273 &  0.0030961395 &  0.006072480\\\\\n",
       "\t -2.950332e-03 & -1.927778e-03 & -0.0017576075 &  0.0185338989 & -0.001125655\\\\\n",
       "\t  2.542388e-04 &  4.041053e-04 & -0.0177590559 & -0.0704533662 & -0.003236772\\\\\n",
       "\t  1.503429e-03 & -7.329786e-05 & -0.0315417466 &  0.0237866304 & -0.003465135\\\\\n",
       "\t -5.970966e-03 & -2.182647e-04 &  0.0194073329 & -0.0099349323 & -0.027416756\\\\\n",
       "\t  1.986896e-03 & -2.392277e-04 &  0.0049296216 &  0.0012492047 & -0.062898647\\\\\n",
       "\t -8.128728e-04 & -1.919338e-03 &  0.0152318798 &  0.0737904565 & -0.128106933\\\\\n",
       "\t  1.033548e-04 & -4.447450e-03 &  0.0331095383 &  0.0130337689 & -0.006324209\\\\\n",
       "\t  6.267181e-03 & -9.074502e-03 & -0.0187435108 & -0.0147106062 & -0.005878724\\\\\n",
       "\t  1.125228e-03 & -4.640470e-04 &  0.0016374943 &  0.0030750391 & -0.061358678\\\\\n",
       "\t -1.262615e-03 & -4.434347e-04 &  0.0096860125 & -0.0005635988 & -0.111592793\\\\\n",
       "\t  2.693303e-04 & -4.620664e-03 & -0.0392026468 & -0.0017000064 &  0.068839027\\\\\n",
       "\t -4.907331e-05 & -8.272383e-03 &  0.0131970891 & -0.0018211557 &  0.017294054\\\\\n",
       "\t -1.482640e-04 &  5.025786e-03 & -0.0053717470 & -0.0139295105 &  0.053035141\\\\\n",
       "\t -1.583577e-04 &  1.279754e-03 &  0.0006752907 & -0.0322362261 &  0.115493010\\\\\n",
       "\t -1.260517e-03 &  4.017668e-03 &  0.0402423580 & -0.0651577727 & -0.064143273\\\\\n",
       "\t -2.891877e-03 &  8.762936e-03 &  0.0071983955 & -0.0032720094 &  0.005659160\\\\\n",
       "\t -5.977588e-03 & -5.036010e-03 & -0.0084000139 & -0.0031512358 &  0.033905683\\\\\n",
       "\t ... & ... & ... & ... & ...\\\\\n",
       "\t  0.000000e+00 &  0.000000e+00 & -1.618445e-03 & -0.0011818516 &  0.0211388672\\\\\n",
       "\t  0.000000e+00 &  0.000000e+00 &  3.103312e-04 & -0.0123396427 & -0.0802815192\\\\\n",
       "\t  0.000000e+00 &  0.000000e+00 & -6.638763e-05 & -0.0239735484 &  0.0283657502\\\\\n",
       "\t  0.000000e+00 &  0.000000e+00 & -2.049594e-04 &  0.0145789507 & -0.0115141340\\\\\n",
       "\t  0.000000e+00 &  0.000000e+00 & -2.291288e-04 &  0.0036869694 &  0.0014200211\\\\\n",
       "\t  0.000000e+00 &  0.000000e+00 & -1.708211e-03 &  0.0120488759 &  0.0880122027\\\\\n",
       "\t  0.000000e+00 &  0.000000e+00 & -3.827608e-03 &  0.0256128498 &  0.0159438068\\\\\n",
       "\t  0.000000e+00 &  0.000000e+00 & -8.442393e-03 & -0.0149488727 & -0.0183028854\\\\\n",
       "\t  0.000000e+00 &  0.000000e+00 & -4.427646e-04 &  0.0013847070 &  0.0038430982\\\\\n",
       "\t  0.000000e+00 &  0.000000e+00 & -4.750141e-04 &  0.0088227383 & -0.0007255219\\\\\n",
       "\t  0.000000e+00 &  0.000000e+00 & -4.536444e-03 & -0.0348744094 & -0.0021713648\\\\\n",
       "\t  0.000000e+00 &  0.000000e+00 & -9.524146e-03 &  0.0132074505 & -0.0025147661\\\\\n",
       "\t  0.000000e+00 &  0.000000e+00 &  6.845401e-03 & -0.0056354456 & -0.0188372163\\\\\n",
       "\t  0.000000e+00 &  0.000000e+00 &  1.889092e-03 &  0.0007364581 & -0.0447890156\\\\\n",
       "\t  0.000000e+00 &  0.000000e+00 &  5.880533e-03 &  0.0445811955 & -0.0871564079\\\\\n",
       "\t  0.000000e+00 &  0.000000e+00 &  1.128362e-02 &  0.0071299751 & -0.0041745036\\\\\n",
       "\t  0.000000e+00 &  0.000000e+00 & -7.915872e-03 & -0.0090165739 & -0.0040709247\\\\\n",
       "\t  0.000000e+00 &  0.000000e+00 &  6.975479e-04 &  0.0018862541 & -0.0420052958\\\\\n",
       "\t  0.000000e+00 &  0.000000e+00 &  3.890317e-03 & -0.0003294923 & -0.0721878003\\\\\n",
       "\t  0.000000e+00 &  0.000000e+00 & -1.636227e-02 & -0.0009281941 &  0.0400097287\\\\\n",
       "\t  0.000000e+00 &  0.000000e+00 &  6.286688e-03 & -0.0010623005 &  0.0108520030\\\\\n",
       "\t  0.000000e+00 &  0.000000e+00 & -2.460192e-03 & -0.0078600232 &  0.0325228823\\\\\n",
       "\t  0.000000e+00 &  0.000000e+00 &  3.253579e-04 & -0.0190455010 &  0.0748630692\\\\\n",
       "\t -2.683340e-04 &  0.000000e+00 &  1.916673e-02 & -0.0399673742 & -0.0425360516\\\\\n",
       "\t -5.953974e-04 &  0.000000e+00 &  3.997172e-03 & -0.0022985344 &  0.0041418152\\\\\n",
       "\t -1.873804e-03 &  0.000000e+00 & -4.930370e-03 & -0.0021832903 &  0.0243942721\\\\\n",
       "\t -9.826551e-05 &  8.163567e-07 &  1.047660e-03 & -0.0225944905 & -0.0946376862\\\\\n",
       "\t -3.369279e-05 &  7.120704e-04 & -1.939374e-04 & -0.0408233494 &  0.0320271963\\\\\n",
       "\t -4.913214e-04 & -3.360512e-03 & -6.249730e-04 &  0.0266150526 & -0.0139365067\\\\\n",
       "\t -1.223548e-03 &  1.396232e-03 & -7.380594e-04 &  0.0067263958 &  0.0017545107\\\\\n",
       "\\end{tabular}\n"
      ],
      "text/markdown": [
       "\n",
       "A data.frame: 209 × 5\n",
       "\n",
       "| V1 &lt;dbl&gt; | V2 &lt;dbl&gt; | V3 &lt;dbl&gt; | V4 &lt;dbl&gt; | V5 &lt;dbl&gt; |\n",
       "|---|---|---|---|---|\n",
       "| -1.260329e-04 |  3.919260e-03 | -0.0049485433 | -0.0140668740 |  0.053933595 |\n",
       "| -1.360437e-04 |  1.026291e-03 |  0.0006230461 | -0.0323610012 |  0.117791964 |\n",
       "| -1.084636e-03 |  3.285195e-03 |  0.0373050223 | -0.0664787941 | -0.066290207 |\n",
       "| -2.614496e-03 |  6.973007e-03 |  0.0067415973 | -0.0033207692 |  0.005808030 |\n",
       "| -5.620931e-03 | -4.008065e-03 | -0.0077122732 | -0.0031047439 |  0.033563161 |\n",
       "| -2.732682e-04 |  3.440769e-04 |  0.0015951581 | -0.0319337511 | -0.131627132 |\n",
       "| -2.474242e-04 |  2.161951e-03 | -0.0002854204 | -0.0562287421 |  0.043709950 |\n",
       "| -2.589692e-03 | -8.228323e-03 | -0.0008510304 |  0.0344739619 | -0.018251069 |\n",
       "| -4.751764e-03 |  2.831676e-03 | -0.0009500040 |  0.0088456475 |  0.002317267 |\n",
       "|  2.923519e-03 | -1.215705e-03 | -0.0076885506 |  0.0287336235 |  0.142787321 |\n",
       "|  7.192942e-04 |  1.587342e-04 | -0.0178171092 |  0.0629323901 |  0.025426747 |\n",
       "|  2.306821e-03 |  9.444748e-03 | -0.0366861270 | -0.0350434482 | -0.029005816 |\n",
       "|  5.209058e-03 |  1.668453e-03 | -0.0018601273 |  0.0030961395 |  0.006072480 |\n",
       "| -2.950332e-03 | -1.927778e-03 | -0.0017576075 |  0.0185338989 | -0.001125655 |\n",
       "|  2.542388e-04 |  4.041053e-04 | -0.0177590559 | -0.0704533662 | -0.003236772 |\n",
       "|  1.503429e-03 | -7.329786e-05 | -0.0315417466 |  0.0237866304 | -0.003465135 |\n",
       "| -5.970966e-03 | -2.182647e-04 |  0.0194073329 | -0.0099349323 | -0.027416756 |\n",
       "|  1.986896e-03 | -2.392277e-04 |  0.0049296216 |  0.0012492047 | -0.062898647 |\n",
       "| -8.128728e-04 | -1.919338e-03 |  0.0152318798 |  0.0737904565 | -0.128106933 |\n",
       "|  1.033548e-04 | -4.447450e-03 |  0.0331095383 |  0.0130337689 | -0.006324209 |\n",
       "|  6.267181e-03 | -9.074502e-03 | -0.0187435108 | -0.0147106062 | -0.005878724 |\n",
       "|  1.125228e-03 | -4.640470e-04 |  0.0016374943 |  0.0030750391 | -0.061358678 |\n",
       "| -1.262615e-03 | -4.434347e-04 |  0.0096860125 | -0.0005635988 | -0.111592793 |\n",
       "|  2.693303e-04 | -4.620664e-03 | -0.0392026468 | -0.0017000064 |  0.068839027 |\n",
       "| -4.907331e-05 | -8.272383e-03 |  0.0131970891 | -0.0018211557 |  0.017294054 |\n",
       "| -1.482640e-04 |  5.025786e-03 | -0.0053717470 | -0.0139295105 |  0.053035141 |\n",
       "| -1.583577e-04 |  1.279754e-03 |  0.0006752907 | -0.0322362261 |  0.115493010 |\n",
       "| -1.260517e-03 |  4.017668e-03 |  0.0402423580 | -0.0651577727 | -0.064143273 |\n",
       "| -2.891877e-03 |  8.762936e-03 |  0.0071983955 | -0.0032720094 |  0.005659160 |\n",
       "| -5.977588e-03 | -5.036010e-03 | -0.0084000139 | -0.0031512358 |  0.033905683 |\n",
       "| ... | ... | ... | ... | ... |\n",
       "|  0.000000e+00 |  0.000000e+00 | -1.618445e-03 | -0.0011818516 |  0.0211388672 |\n",
       "|  0.000000e+00 |  0.000000e+00 |  3.103312e-04 | -0.0123396427 | -0.0802815192 |\n",
       "|  0.000000e+00 |  0.000000e+00 | -6.638763e-05 | -0.0239735484 |  0.0283657502 |\n",
       "|  0.000000e+00 |  0.000000e+00 | -2.049594e-04 |  0.0145789507 | -0.0115141340 |\n",
       "|  0.000000e+00 |  0.000000e+00 | -2.291288e-04 |  0.0036869694 |  0.0014200211 |\n",
       "|  0.000000e+00 |  0.000000e+00 | -1.708211e-03 |  0.0120488759 |  0.0880122027 |\n",
       "|  0.000000e+00 |  0.000000e+00 | -3.827608e-03 |  0.0256128498 |  0.0159438068 |\n",
       "|  0.000000e+00 |  0.000000e+00 | -8.442393e-03 | -0.0149488727 | -0.0183028854 |\n",
       "|  0.000000e+00 |  0.000000e+00 | -4.427646e-04 |  0.0013847070 |  0.0038430982 |\n",
       "|  0.000000e+00 |  0.000000e+00 | -4.750141e-04 |  0.0088227383 | -0.0007255219 |\n",
       "|  0.000000e+00 |  0.000000e+00 | -4.536444e-03 | -0.0348744094 | -0.0021713648 |\n",
       "|  0.000000e+00 |  0.000000e+00 | -9.524146e-03 |  0.0132074505 | -0.0025147661 |\n",
       "|  0.000000e+00 |  0.000000e+00 |  6.845401e-03 | -0.0056354456 | -0.0188372163 |\n",
       "|  0.000000e+00 |  0.000000e+00 |  1.889092e-03 |  0.0007364581 | -0.0447890156 |\n",
       "|  0.000000e+00 |  0.000000e+00 |  5.880533e-03 |  0.0445811955 | -0.0871564079 |\n",
       "|  0.000000e+00 |  0.000000e+00 |  1.128362e-02 |  0.0071299751 | -0.0041745036 |\n",
       "|  0.000000e+00 |  0.000000e+00 | -7.915872e-03 | -0.0090165739 | -0.0040709247 |\n",
       "|  0.000000e+00 |  0.000000e+00 |  6.975479e-04 |  0.0018862541 | -0.0420052958 |\n",
       "|  0.000000e+00 |  0.000000e+00 |  3.890317e-03 | -0.0003294923 | -0.0721878003 |\n",
       "|  0.000000e+00 |  0.000000e+00 | -1.636227e-02 | -0.0009281941 |  0.0400097287 |\n",
       "|  0.000000e+00 |  0.000000e+00 |  6.286688e-03 | -0.0010623005 |  0.0108520030 |\n",
       "|  0.000000e+00 |  0.000000e+00 | -2.460192e-03 | -0.0078600232 |  0.0325228823 |\n",
       "|  0.000000e+00 |  0.000000e+00 |  3.253579e-04 | -0.0190455010 |  0.0748630692 |\n",
       "| -2.683340e-04 |  0.000000e+00 |  1.916673e-02 | -0.0399673742 | -0.0425360516 |\n",
       "| -5.953974e-04 |  0.000000e+00 |  3.997172e-03 | -0.0022985344 |  0.0041418152 |\n",
       "| -1.873804e-03 |  0.000000e+00 | -4.930370e-03 | -0.0021832903 |  0.0243942721 |\n",
       "| -9.826551e-05 |  8.163567e-07 |  1.047660e-03 | -0.0225944905 | -0.0946376862 |\n",
       "| -3.369279e-05 |  7.120704e-04 | -1.939374e-04 | -0.0408233494 |  0.0320271963 |\n",
       "| -4.913214e-04 | -3.360512e-03 | -6.249730e-04 |  0.0266150526 | -0.0139365067 |\n",
       "| -1.223548e-03 |  1.396232e-03 | -7.380594e-04 |  0.0067263958 |  0.0017545107 |\n",
       "\n"
      ],
      "text/plain": [
       "    V1            V2            V3            V4            V5           \n",
       "1   -1.260329e-04  3.919260e-03 -0.0049485433 -0.0140668740  0.053933595 \n",
       "2   -1.360437e-04  1.026291e-03  0.0006230461 -0.0323610012  0.117791964 \n",
       "3   -1.084636e-03  3.285195e-03  0.0373050223 -0.0664787941 -0.066290207 \n",
       "4   -2.614496e-03  6.973007e-03  0.0067415973 -0.0033207692  0.005808030 \n",
       "5   -5.620931e-03 -4.008065e-03 -0.0077122732 -0.0031047439  0.033563161 \n",
       "6   -2.732682e-04  3.440769e-04  0.0015951581 -0.0319337511 -0.131627132 \n",
       "7   -2.474242e-04  2.161951e-03 -0.0002854204 -0.0562287421  0.043709950 \n",
       "8   -2.589692e-03 -8.228323e-03 -0.0008510304  0.0344739619 -0.018251069 \n",
       "9   -4.751764e-03  2.831676e-03 -0.0009500040  0.0088456475  0.002317267 \n",
       "10   2.923519e-03 -1.215705e-03 -0.0076885506  0.0287336235  0.142787321 \n",
       "11   7.192942e-04  1.587342e-04 -0.0178171092  0.0629323901  0.025426747 \n",
       "12   2.306821e-03  9.444748e-03 -0.0366861270 -0.0350434482 -0.029005816 \n",
       "13   5.209058e-03  1.668453e-03 -0.0018601273  0.0030961395  0.006072480 \n",
       "14  -2.950332e-03 -1.927778e-03 -0.0017576075  0.0185338989 -0.001125655 \n",
       "15   2.542388e-04  4.041053e-04 -0.0177590559 -0.0704533662 -0.003236772 \n",
       "16   1.503429e-03 -7.329786e-05 -0.0315417466  0.0237866304 -0.003465135 \n",
       "17  -5.970966e-03 -2.182647e-04  0.0194073329 -0.0099349323 -0.027416756 \n",
       "18   1.986896e-03 -2.392277e-04  0.0049296216  0.0012492047 -0.062898647 \n",
       "19  -8.128728e-04 -1.919338e-03  0.0152318798  0.0737904565 -0.128106933 \n",
       "20   1.033548e-04 -4.447450e-03  0.0331095383  0.0130337689 -0.006324209 \n",
       "21   6.267181e-03 -9.074502e-03 -0.0187435108 -0.0147106062 -0.005878724 \n",
       "22   1.125228e-03 -4.640470e-04  0.0016374943  0.0030750391 -0.061358678 \n",
       "23  -1.262615e-03 -4.434347e-04  0.0096860125 -0.0005635988 -0.111592793 \n",
       "24   2.693303e-04 -4.620664e-03 -0.0392026468 -0.0017000064  0.068839027 \n",
       "25  -4.907331e-05 -8.272383e-03  0.0131970891 -0.0018211557  0.017294054 \n",
       "26  -1.482640e-04  5.025786e-03 -0.0053717470 -0.0139295105  0.053035141 \n",
       "27  -1.583577e-04  1.279754e-03  0.0006752907 -0.0322362261  0.115493010 \n",
       "28  -1.260517e-03  4.017668e-03  0.0402423580 -0.0651577727 -0.064143273 \n",
       "29  -2.891877e-03  8.762936e-03  0.0071983955 -0.0032720094  0.005659160 \n",
       "30  -5.977588e-03 -5.036010e-03 -0.0084000139 -0.0031512358  0.033905683 \n",
       "... ...           ...           ...           ...           ...          \n",
       "180  0.000000e+00  0.000000e+00 -1.618445e-03 -0.0011818516  0.0211388672\n",
       "181  0.000000e+00  0.000000e+00  3.103312e-04 -0.0123396427 -0.0802815192\n",
       "182  0.000000e+00  0.000000e+00 -6.638763e-05 -0.0239735484  0.0283657502\n",
       "183  0.000000e+00  0.000000e+00 -2.049594e-04  0.0145789507 -0.0115141340\n",
       "184  0.000000e+00  0.000000e+00 -2.291288e-04  0.0036869694  0.0014200211\n",
       "185  0.000000e+00  0.000000e+00 -1.708211e-03  0.0120488759  0.0880122027\n",
       "186  0.000000e+00  0.000000e+00 -3.827608e-03  0.0256128498  0.0159438068\n",
       "187  0.000000e+00  0.000000e+00 -8.442393e-03 -0.0149488727 -0.0183028854\n",
       "188  0.000000e+00  0.000000e+00 -4.427646e-04  0.0013847070  0.0038430982\n",
       "189  0.000000e+00  0.000000e+00 -4.750141e-04  0.0088227383 -0.0007255219\n",
       "190  0.000000e+00  0.000000e+00 -4.536444e-03 -0.0348744094 -0.0021713648\n",
       "191  0.000000e+00  0.000000e+00 -9.524146e-03  0.0132074505 -0.0025147661\n",
       "192  0.000000e+00  0.000000e+00  6.845401e-03 -0.0056354456 -0.0188372163\n",
       "193  0.000000e+00  0.000000e+00  1.889092e-03  0.0007364581 -0.0447890156\n",
       "194  0.000000e+00  0.000000e+00  5.880533e-03  0.0445811955 -0.0871564079\n",
       "195  0.000000e+00  0.000000e+00  1.128362e-02  0.0071299751 -0.0041745036\n",
       "196  0.000000e+00  0.000000e+00 -7.915872e-03 -0.0090165739 -0.0040709247\n",
       "197  0.000000e+00  0.000000e+00  6.975479e-04  0.0018862541 -0.0420052958\n",
       "198  0.000000e+00  0.000000e+00  3.890317e-03 -0.0003294923 -0.0721878003\n",
       "199  0.000000e+00  0.000000e+00 -1.636227e-02 -0.0009281941  0.0400097287\n",
       "200  0.000000e+00  0.000000e+00  6.286688e-03 -0.0010623005  0.0108520030\n",
       "201  0.000000e+00  0.000000e+00 -2.460192e-03 -0.0078600232  0.0325228823\n",
       "202  0.000000e+00  0.000000e+00  3.253579e-04 -0.0190455010  0.0748630692\n",
       "203 -2.683340e-04  0.000000e+00  1.916673e-02 -0.0399673742 -0.0425360516\n",
       "204 -5.953974e-04  0.000000e+00  3.997172e-03 -0.0022985344  0.0041418152\n",
       "205 -1.873804e-03  0.000000e+00 -4.930370e-03 -0.0021832903  0.0243942721\n",
       "206 -9.826551e-05  8.163567e-07  1.047660e-03 -0.0225944905 -0.0946376862\n",
       "207 -3.369279e-05  7.120704e-04 -1.939374e-04 -0.0408233494  0.0320271963\n",
       "208 -4.913214e-04 -3.360512e-03 -6.249730e-04  0.0266150526 -0.0139365067\n",
       "209 -1.223548e-03  1.396232e-03 -7.380594e-04  0.0067263958  0.0017545107"
      ]
     },
     "metadata": {},
     "output_type": "display_data"
    }
   ],
   "source": [
    "Y <- MatofAlphas*A\n",
    "Y"
   ]
  },
  {
   "cell_type": "code",
   "execution_count": 47,
   "id": "8891c81a",
   "metadata": {},
   "outputs": [
    {
     "data": {
      "text/html": [
       "<table class=\"dataframe\">\n",
       "<caption>A data.frame: 209 × 5</caption>\n",
       "<thead>\n",
       "\t<tr><th scope=col>V1</th><th scope=col>V2</th><th scope=col>V3</th><th scope=col>V4</th><th scope=col>V5</th></tr>\n",
       "\t<tr><th scope=col>&lt;dbl&gt;</th><th scope=col>&lt;dbl&gt;</th><th scope=col>&lt;dbl&gt;</th><th scope=col>&lt;dbl&gt;</th><th scope=col>&lt;dbl&gt;</th></tr>\n",
       "</thead>\n",
       "<tbody>\n",
       "\t<tr><td>-6.715203e-07</td><td> 6.194193e-06</td><td>-1.783415e-06</td><td>-7.495021e-05</td><td> 3.105159e-05</td></tr>\n",
       "\t<tr><td>-7.248592e-07</td><td> 5.908739e-07</td><td> 2.245408e-07</td><td>-1.724238e-04</td><td> 6.781723e-05</td></tr>\n",
       "\t<tr><td>-5.779087e-06</td><td> 1.891409e-06</td><td> 1.299680e-05</td><td>-3.542080e-04</td><td>-3.816575e-05</td></tr>\n",
       "\t<tr><td>-1.393039e-05</td><td> 4.014621e-06</td><td> 2.348724e-06</td><td>-5.248308e-06</td><td> 3.343900e-06</td></tr>\n",
       "\t<tr><td>-2.994908e-05</td><td>-2.307593e-06</td><td>-2.686900e-06</td><td>-4.906891e-06</td><td> 1.209589e-05</td></tr>\n",
       "\t<tr><td>-4.318866e-07</td><td> 1.980979e-07</td><td> 5.557416e-07</td><td>-5.046968e-05</td><td>-4.743735e-05</td></tr>\n",
       "\t<tr><td>-3.910415e-07</td><td> 7.791495e-07</td><td>-9.943842e-08</td><td>-8.886669e-05</td><td> 1.575271e-05</td></tr>\n",
       "\t<tr><td>-4.092878e-06</td><td>-2.965421e-06</td><td>-4.534405e-06</td><td> 5.448436e-05</td><td>-6.577537e-06</td></tr>\n",
       "\t<tr><td>-7.509923e-06</td><td> 1.020513e-06</td><td>-5.061750e-06</td><td> 5.092770e-06</td><td> 8.351243e-07</td></tr>\n",
       "\t<tr><td> 4.620474e-06</td><td>-4.381302e-07</td><td>-4.096564e-05</td><td> 1.654302e-05</td><td> 4.974607e-05</td></tr>\n",
       "\t<tr><td> 4.141246e-07</td><td> 5.720653e-08</td><td>-9.493197e-05</td><td> 3.623253e-05</td><td> 8.858496e-06</td></tr>\n",
       "\t<tr><td> 1.328123e-06</td><td> 3.290482e-06</td><td>-1.954687e-04</td><td>-2.017582e-05</td><td>-1.010542e-05</td></tr>\n",
       "\t<tr><td> 2.999049e-06</td><td> 5.812770e-07</td><td>-2.939837e-06</td><td> 1.782563e-06</td><td> 2.115608e-06</td></tr>\n",
       "\t<tr><td>-1.698616e-06</td><td>-6.716241e-07</td><td>-2.777810e-06</td><td> 6.679467e-06</td><td>-3.921702e-07</td></tr>\n",
       "\t<tr><td> 1.463747e-07</td><td> 1.407874e-07</td><td>-2.806729e-05</td><td>-2.539082e-05</td><td>-1.724596e-05</td></tr>\n",
       "\t<tr><td> 5.418237e-07</td><td>-2.553645e-08</td><td>-4.985014e-05</td><td> 8.572509e-06</td><td>-1.846271e-05</td></tr>\n",
       "\t<tr><td>-2.151888e-06</td><td>-1.162944e-06</td><td> 3.067231e-05</td><td>-3.580469e-06</td><td>-1.460802e-04</td></tr>\n",
       "\t<tr><td> 7.160612e-07</td><td>-1.274638e-06</td><td> 2.838167e-06</td><td> 4.502033e-07</td><td>-3.351325e-04</td></tr>\n",
       "\t<tr><td>-2.929528e-07</td><td>-1.022650e-05</td><td> 8.769562e-06</td><td> 2.570806e-05</td><td>-6.825711e-04</td></tr>\n",
       "\t<tr><td> 3.724822e-08</td><td>-2.369662e-05</td><td> 1.906240e-05</td><td> 4.540871e-06</td><td>-9.995093e-06</td></tr>\n",
       "\t<tr><td> 2.183441e-06</td><td>-4.835017e-05</td><td>-1.079134e-05</td><td>-5.125069e-06</td><td>-9.291026e-06</td></tr>\n",
       "\t<tr><td> 3.920213e-07</td><td>-7.334028e-07</td><td> 9.427667e-07</td><td> 1.071321e-06</td><td>-9.697429e-05</td></tr>\n",
       "\t<tr><td>-4.398859e-07</td><td>-7.008261e-07</td><td> 3.490760e-06</td><td>-1.963538e-07</td><td>-1.763668e-04</td></tr>\n",
       "\t<tr><td> 9.383275e-08</td><td>-7.302726e-06</td><td>-1.412832e-05</td><td>-9.057864e-06</td><td> 1.087966e-04</td></tr>\n",
       "\t<tr><td>-1.709679e-08</td><td>-1.307408e-05</td><td> 4.756124e-06</td><td>-9.703365e-06</td><td> 9.956833e-06</td></tr>\n",
       "\t<tr><td>-7.899706e-07</td><td> 7.943001e-06</td><td>-1.935934e-06</td><td>-7.421832e-05</td><td> 3.053431e-05</td></tr>\n",
       "\t<tr><td>-8.437511e-07</td><td> 7.368020e-07</td><td> 2.433693e-07</td><td>-1.717590e-04</td><td> 6.649364e-05</td></tr>\n",
       "\t<tr><td>-6.716204e-06</td><td> 2.313121e-06</td><td> 1.402015e-05</td><td>-3.471694e-04</td><td>-3.692968e-05</td></tr>\n",
       "\t<tr><td>-1.540831e-05</td><td> 5.045149e-06</td><td> 2.507869e-06</td><td>-5.171246e-06</td><td> 3.258190e-06</td></tr>\n",
       "\t<tr><td>-3.184940e-05</td><td>-2.899419e-06</td><td>-2.926504e-06</td><td>-4.980369e-06</td><td> 1.221933e-05</td></tr>\n",
       "\t<tr><td>...</td><td>...</td><td>...</td><td>...</td><td>...</td></tr>\n",
       "\t<tr><td> 0.000000e+00</td><td> 0.000000e+00</td><td>-5.638547e-07</td><td>-1.867857e-06</td><td> 7.618276e-06</td></tr>\n",
       "\t<tr><td> 0.000000e+00</td><td> 0.000000e+00</td><td> 1.081172e-07</td><td>-1.950218e-05</td><td>-2.893281e-05</td></tr>\n",
       "\t<tr><td> 0.000000e+00</td><td> 0.000000e+00</td><td>-2.312897e-08</td><td>-3.788898e-05</td><td> 1.022279e-05</td></tr>\n",
       "\t<tr><td> 0.000000e+00</td><td> 0.000000e+00</td><td>-1.092052e-06</td><td> 2.304130e-05</td><td>-4.149600e-06</td></tr>\n",
       "\t<tr><td> 0.000000e+00</td><td> 0.000000e+00</td><td>-1.220830e-06</td><td> 2.122726e-06</td><td> 5.117641e-07</td></tr>\n",
       "\t<tr><td> 0.000000e+00</td><td> 0.000000e+00</td><td>-9.101580e-06</td><td> 6.936988e-06</td><td> 3.066282e-05</td></tr>\n",
       "\t<tr><td> 0.000000e+00</td><td> 0.000000e+00</td><td>-2.039402e-05</td><td> 1.474627e-05</td><td> 5.554707e-06</td></tr>\n",
       "\t<tr><td> 0.000000e+00</td><td> 0.000000e+00</td><td>-4.498221e-05</td><td>-8.606624e-06</td><td>-6.376593e-06</td></tr>\n",
       "\t<tr><td> 0.000000e+00</td><td> 0.000000e+00</td><td>-6.997671e-07</td><td> 7.972275e-07</td><td> 1.338908e-06</td></tr>\n",
       "\t<tr><td> 0.000000e+00</td><td> 0.000000e+00</td><td>-7.507358e-07</td><td> 3.179643e-06</td><td>-2.527666e-07</td></tr>\n",
       "\t<tr><td> 0.000000e+00</td><td> 0.000000e+00</td><td>-7.169620e-06</td><td>-1.256845e-05</td><td>-1.156933e-05</td></tr>\n",
       "\t<tr><td> 0.000000e+00</td><td> 0.000000e+00</td><td>-1.505243e-05</td><td> 4.759858e-06</td><td>-1.339901e-05</td></tr>\n",
       "\t<tr><td> 0.000000e+00</td><td> 0.000000e+00</td><td> 1.081881e-05</td><td>-2.030969e-06</td><td>-1.003672e-04</td></tr>\n",
       "\t<tr><td> 0.000000e+00</td><td> 0.000000e+00</td><td> 1.087621e-06</td><td> 2.654135e-07</td><td>-2.386419e-04</td></tr>\n",
       "\t<tr><td> 0.000000e+00</td><td> 0.000000e+00</td><td> 3.385643e-06</td><td> 1.553177e-05</td><td>-4.643812e-04</td></tr>\n",
       "\t<tr><td> 0.000000e+00</td><td> 0.000000e+00</td><td> 6.496403e-06</td><td> 2.484032e-06</td><td>-6.597592e-06</td></tr>\n",
       "\t<tr><td> 0.000000e+00</td><td> 0.000000e+00</td><td>-4.557463e-06</td><td>-3.141309e-06</td><td>-6.433891e-06</td></tr>\n",
       "\t<tr><td> 0.000000e+00</td><td> 0.000000e+00</td><td> 4.016044e-07</td><td> 6.571574e-07</td><td>-6.638725e-05</td></tr>\n",
       "\t<tr><td> 0.000000e+00</td><td> 0.000000e+00</td><td> 1.402039e-06</td><td>-1.147928e-07</td><td>-1.140892e-04</td></tr>\n",
       "\t<tr><td> 0.000000e+00</td><td> 0.000000e+00</td><td>-5.896831e-06</td><td>-4.945544e-06</td><td> 6.323336e-05</td></tr>\n",
       "\t<tr><td> 0.000000e+00</td><td> 0.000000e+00</td><td> 2.265671e-06</td><td>-5.660081e-06</td><td> 6.247904e-06</td></tr>\n",
       "\t<tr><td> 0.000000e+00</td><td> 0.000000e+00</td><td>-8.866332e-07</td><td>-4.187927e-05</td><td> 1.872464e-05</td></tr>\n",
       "\t<tr><td> 0.000000e+00</td><td> 0.000000e+00</td><td> 1.172563e-07</td><td>-1.014770e-04</td><td> 4.310147e-05</td></tr>\n",
       "\t<tr><td>-1.429720e-06</td><td> 0.000000e+00</td><td> 6.677552e-06</td><td>-2.129516e-04</td><td>-2.448959e-05</td></tr>\n",
       "\t<tr><td>-3.172358e-06</td><td> 0.000000e+00</td><td> 1.392586e-06</td><td>-3.632718e-06</td><td> 2.384598e-06</td></tr>\n",
       "\t<tr><td>-9.983883e-06</td><td> 0.000000e+00</td><td>-1.717705e-06</td><td>-3.450580e-06</td><td> 8.791498e-06</td></tr>\n",
       "\t<tr><td>-1.553037e-07</td><td> 4.700071e-10</td><td> 3.649973e-07</td><td>-3.570945e-05</td><td>-3.410665e-05</td></tr>\n",
       "\t<tr><td>-5.324975e-08</td><td> 2.566244e-07</td><td>-6.756638e-08</td><td>-6.451924e-05</td><td> 1.154234e-05</td></tr>\n",
       "\t<tr><td>-7.765086e-07</td><td>-1.211101e-06</td><td>-3.329941e-06</td><td> 4.206375e-05</td><td>-5.022604e-06</td></tr>\n",
       "\t<tr><td>-1.933756e-06</td><td> 5.031906e-07</td><td>-3.932480e-06</td><td> 3.872637e-06</td><td> 6.323114e-07</td></tr>\n",
       "</tbody>\n",
       "</table>\n"
      ],
      "text/latex": [
       "A data.frame: 209 × 5\n",
       "\\begin{tabular}{lllll}\n",
       " V1 & V2 & V3 & V4 & V5\\\\\n",
       " <dbl> & <dbl> & <dbl> & <dbl> & <dbl>\\\\\n",
       "\\hline\n",
       "\t -6.715203e-07 &  6.194193e-06 & -1.783415e-06 & -7.495021e-05 &  3.105159e-05\\\\\n",
       "\t -7.248592e-07 &  5.908739e-07 &  2.245408e-07 & -1.724238e-04 &  6.781723e-05\\\\\n",
       "\t -5.779087e-06 &  1.891409e-06 &  1.299680e-05 & -3.542080e-04 & -3.816575e-05\\\\\n",
       "\t -1.393039e-05 &  4.014621e-06 &  2.348724e-06 & -5.248308e-06 &  3.343900e-06\\\\\n",
       "\t -2.994908e-05 & -2.307593e-06 & -2.686900e-06 & -4.906891e-06 &  1.209589e-05\\\\\n",
       "\t -4.318866e-07 &  1.980979e-07 &  5.557416e-07 & -5.046968e-05 & -4.743735e-05\\\\\n",
       "\t -3.910415e-07 &  7.791495e-07 & -9.943842e-08 & -8.886669e-05 &  1.575271e-05\\\\\n",
       "\t -4.092878e-06 & -2.965421e-06 & -4.534405e-06 &  5.448436e-05 & -6.577537e-06\\\\\n",
       "\t -7.509923e-06 &  1.020513e-06 & -5.061750e-06 &  5.092770e-06 &  8.351243e-07\\\\\n",
       "\t  4.620474e-06 & -4.381302e-07 & -4.096564e-05 &  1.654302e-05 &  4.974607e-05\\\\\n",
       "\t  4.141246e-07 &  5.720653e-08 & -9.493197e-05 &  3.623253e-05 &  8.858496e-06\\\\\n",
       "\t  1.328123e-06 &  3.290482e-06 & -1.954687e-04 & -2.017582e-05 & -1.010542e-05\\\\\n",
       "\t  2.999049e-06 &  5.812770e-07 & -2.939837e-06 &  1.782563e-06 &  2.115608e-06\\\\\n",
       "\t -1.698616e-06 & -6.716241e-07 & -2.777810e-06 &  6.679467e-06 & -3.921702e-07\\\\\n",
       "\t  1.463747e-07 &  1.407874e-07 & -2.806729e-05 & -2.539082e-05 & -1.724596e-05\\\\\n",
       "\t  5.418237e-07 & -2.553645e-08 & -4.985014e-05 &  8.572509e-06 & -1.846271e-05\\\\\n",
       "\t -2.151888e-06 & -1.162944e-06 &  3.067231e-05 & -3.580469e-06 & -1.460802e-04\\\\\n",
       "\t  7.160612e-07 & -1.274638e-06 &  2.838167e-06 &  4.502033e-07 & -3.351325e-04\\\\\n",
       "\t -2.929528e-07 & -1.022650e-05 &  8.769562e-06 &  2.570806e-05 & -6.825711e-04\\\\\n",
       "\t  3.724822e-08 & -2.369662e-05 &  1.906240e-05 &  4.540871e-06 & -9.995093e-06\\\\\n",
       "\t  2.183441e-06 & -4.835017e-05 & -1.079134e-05 & -5.125069e-06 & -9.291026e-06\\\\\n",
       "\t  3.920213e-07 & -7.334028e-07 &  9.427667e-07 &  1.071321e-06 & -9.697429e-05\\\\\n",
       "\t -4.398859e-07 & -7.008261e-07 &  3.490760e-06 & -1.963538e-07 & -1.763668e-04\\\\\n",
       "\t  9.383275e-08 & -7.302726e-06 & -1.412832e-05 & -9.057864e-06 &  1.087966e-04\\\\\n",
       "\t -1.709679e-08 & -1.307408e-05 &  4.756124e-06 & -9.703365e-06 &  9.956833e-06\\\\\n",
       "\t -7.899706e-07 &  7.943001e-06 & -1.935934e-06 & -7.421832e-05 &  3.053431e-05\\\\\n",
       "\t -8.437511e-07 &  7.368020e-07 &  2.433693e-07 & -1.717590e-04 &  6.649364e-05\\\\\n",
       "\t -6.716204e-06 &  2.313121e-06 &  1.402015e-05 & -3.471694e-04 & -3.692968e-05\\\\\n",
       "\t -1.540831e-05 &  5.045149e-06 &  2.507869e-06 & -5.171246e-06 &  3.258190e-06\\\\\n",
       "\t -3.184940e-05 & -2.899419e-06 & -2.926504e-06 & -4.980369e-06 &  1.221933e-05\\\\\n",
       "\t ... & ... & ... & ... & ...\\\\\n",
       "\t  0.000000e+00 &  0.000000e+00 & -5.638547e-07 & -1.867857e-06 &  7.618276e-06\\\\\n",
       "\t  0.000000e+00 &  0.000000e+00 &  1.081172e-07 & -1.950218e-05 & -2.893281e-05\\\\\n",
       "\t  0.000000e+00 &  0.000000e+00 & -2.312897e-08 & -3.788898e-05 &  1.022279e-05\\\\\n",
       "\t  0.000000e+00 &  0.000000e+00 & -1.092052e-06 &  2.304130e-05 & -4.149600e-06\\\\\n",
       "\t  0.000000e+00 &  0.000000e+00 & -1.220830e-06 &  2.122726e-06 &  5.117641e-07\\\\\n",
       "\t  0.000000e+00 &  0.000000e+00 & -9.101580e-06 &  6.936988e-06 &  3.066282e-05\\\\\n",
       "\t  0.000000e+00 &  0.000000e+00 & -2.039402e-05 &  1.474627e-05 &  5.554707e-06\\\\\n",
       "\t  0.000000e+00 &  0.000000e+00 & -4.498221e-05 & -8.606624e-06 & -6.376593e-06\\\\\n",
       "\t  0.000000e+00 &  0.000000e+00 & -6.997671e-07 &  7.972275e-07 &  1.338908e-06\\\\\n",
       "\t  0.000000e+00 &  0.000000e+00 & -7.507358e-07 &  3.179643e-06 & -2.527666e-07\\\\\n",
       "\t  0.000000e+00 &  0.000000e+00 & -7.169620e-06 & -1.256845e-05 & -1.156933e-05\\\\\n",
       "\t  0.000000e+00 &  0.000000e+00 & -1.505243e-05 &  4.759858e-06 & -1.339901e-05\\\\\n",
       "\t  0.000000e+00 &  0.000000e+00 &  1.081881e-05 & -2.030969e-06 & -1.003672e-04\\\\\n",
       "\t  0.000000e+00 &  0.000000e+00 &  1.087621e-06 &  2.654135e-07 & -2.386419e-04\\\\\n",
       "\t  0.000000e+00 &  0.000000e+00 &  3.385643e-06 &  1.553177e-05 & -4.643812e-04\\\\\n",
       "\t  0.000000e+00 &  0.000000e+00 &  6.496403e-06 &  2.484032e-06 & -6.597592e-06\\\\\n",
       "\t  0.000000e+00 &  0.000000e+00 & -4.557463e-06 & -3.141309e-06 & -6.433891e-06\\\\\n",
       "\t  0.000000e+00 &  0.000000e+00 &  4.016044e-07 &  6.571574e-07 & -6.638725e-05\\\\\n",
       "\t  0.000000e+00 &  0.000000e+00 &  1.402039e-06 & -1.147928e-07 & -1.140892e-04\\\\\n",
       "\t  0.000000e+00 &  0.000000e+00 & -5.896831e-06 & -4.945544e-06 &  6.323336e-05\\\\\n",
       "\t  0.000000e+00 &  0.000000e+00 &  2.265671e-06 & -5.660081e-06 &  6.247904e-06\\\\\n",
       "\t  0.000000e+00 &  0.000000e+00 & -8.866332e-07 & -4.187927e-05 &  1.872464e-05\\\\\n",
       "\t  0.000000e+00 &  0.000000e+00 &  1.172563e-07 & -1.014770e-04 &  4.310147e-05\\\\\n",
       "\t -1.429720e-06 &  0.000000e+00 &  6.677552e-06 & -2.129516e-04 & -2.448959e-05\\\\\n",
       "\t -3.172358e-06 &  0.000000e+00 &  1.392586e-06 & -3.632718e-06 &  2.384598e-06\\\\\n",
       "\t -9.983883e-06 &  0.000000e+00 & -1.717705e-06 & -3.450580e-06 &  8.791498e-06\\\\\n",
       "\t -1.553037e-07 &  4.700071e-10 &  3.649973e-07 & -3.570945e-05 & -3.410665e-05\\\\\n",
       "\t -5.324975e-08 &  2.566244e-07 & -6.756638e-08 & -6.451924e-05 &  1.154234e-05\\\\\n",
       "\t -7.765086e-07 & -1.211101e-06 & -3.329941e-06 &  4.206375e-05 & -5.022604e-06\\\\\n",
       "\t -1.933756e-06 &  5.031906e-07 & -3.932480e-06 &  3.872637e-06 &  6.323114e-07\\\\\n",
       "\\end{tabular}\n"
      ],
      "text/markdown": [
       "\n",
       "A data.frame: 209 × 5\n",
       "\n",
       "| V1 &lt;dbl&gt; | V2 &lt;dbl&gt; | V3 &lt;dbl&gt; | V4 &lt;dbl&gt; | V5 &lt;dbl&gt; |\n",
       "|---|---|---|---|---|\n",
       "| -6.715203e-07 |  6.194193e-06 | -1.783415e-06 | -7.495021e-05 |  3.105159e-05 |\n",
       "| -7.248592e-07 |  5.908739e-07 |  2.245408e-07 | -1.724238e-04 |  6.781723e-05 |\n",
       "| -5.779087e-06 |  1.891409e-06 |  1.299680e-05 | -3.542080e-04 | -3.816575e-05 |\n",
       "| -1.393039e-05 |  4.014621e-06 |  2.348724e-06 | -5.248308e-06 |  3.343900e-06 |\n",
       "| -2.994908e-05 | -2.307593e-06 | -2.686900e-06 | -4.906891e-06 |  1.209589e-05 |\n",
       "| -4.318866e-07 |  1.980979e-07 |  5.557416e-07 | -5.046968e-05 | -4.743735e-05 |\n",
       "| -3.910415e-07 |  7.791495e-07 | -9.943842e-08 | -8.886669e-05 |  1.575271e-05 |\n",
       "| -4.092878e-06 | -2.965421e-06 | -4.534405e-06 |  5.448436e-05 | -6.577537e-06 |\n",
       "| -7.509923e-06 |  1.020513e-06 | -5.061750e-06 |  5.092770e-06 |  8.351243e-07 |\n",
       "|  4.620474e-06 | -4.381302e-07 | -4.096564e-05 |  1.654302e-05 |  4.974607e-05 |\n",
       "|  4.141246e-07 |  5.720653e-08 | -9.493197e-05 |  3.623253e-05 |  8.858496e-06 |\n",
       "|  1.328123e-06 |  3.290482e-06 | -1.954687e-04 | -2.017582e-05 | -1.010542e-05 |\n",
       "|  2.999049e-06 |  5.812770e-07 | -2.939837e-06 |  1.782563e-06 |  2.115608e-06 |\n",
       "| -1.698616e-06 | -6.716241e-07 | -2.777810e-06 |  6.679467e-06 | -3.921702e-07 |\n",
       "|  1.463747e-07 |  1.407874e-07 | -2.806729e-05 | -2.539082e-05 | -1.724596e-05 |\n",
       "|  5.418237e-07 | -2.553645e-08 | -4.985014e-05 |  8.572509e-06 | -1.846271e-05 |\n",
       "| -2.151888e-06 | -1.162944e-06 |  3.067231e-05 | -3.580469e-06 | -1.460802e-04 |\n",
       "|  7.160612e-07 | -1.274638e-06 |  2.838167e-06 |  4.502033e-07 | -3.351325e-04 |\n",
       "| -2.929528e-07 | -1.022650e-05 |  8.769562e-06 |  2.570806e-05 | -6.825711e-04 |\n",
       "|  3.724822e-08 | -2.369662e-05 |  1.906240e-05 |  4.540871e-06 | -9.995093e-06 |\n",
       "|  2.183441e-06 | -4.835017e-05 | -1.079134e-05 | -5.125069e-06 | -9.291026e-06 |\n",
       "|  3.920213e-07 | -7.334028e-07 |  9.427667e-07 |  1.071321e-06 | -9.697429e-05 |\n",
       "| -4.398859e-07 | -7.008261e-07 |  3.490760e-06 | -1.963538e-07 | -1.763668e-04 |\n",
       "|  9.383275e-08 | -7.302726e-06 | -1.412832e-05 | -9.057864e-06 |  1.087966e-04 |\n",
       "| -1.709679e-08 | -1.307408e-05 |  4.756124e-06 | -9.703365e-06 |  9.956833e-06 |\n",
       "| -7.899706e-07 |  7.943001e-06 | -1.935934e-06 | -7.421832e-05 |  3.053431e-05 |\n",
       "| -8.437511e-07 |  7.368020e-07 |  2.433693e-07 | -1.717590e-04 |  6.649364e-05 |\n",
       "| -6.716204e-06 |  2.313121e-06 |  1.402015e-05 | -3.471694e-04 | -3.692968e-05 |\n",
       "| -1.540831e-05 |  5.045149e-06 |  2.507869e-06 | -5.171246e-06 |  3.258190e-06 |\n",
       "| -3.184940e-05 | -2.899419e-06 | -2.926504e-06 | -4.980369e-06 |  1.221933e-05 |\n",
       "| ... | ... | ... | ... | ... |\n",
       "|  0.000000e+00 |  0.000000e+00 | -5.638547e-07 | -1.867857e-06 |  7.618276e-06 |\n",
       "|  0.000000e+00 |  0.000000e+00 |  1.081172e-07 | -1.950218e-05 | -2.893281e-05 |\n",
       "|  0.000000e+00 |  0.000000e+00 | -2.312897e-08 | -3.788898e-05 |  1.022279e-05 |\n",
       "|  0.000000e+00 |  0.000000e+00 | -1.092052e-06 |  2.304130e-05 | -4.149600e-06 |\n",
       "|  0.000000e+00 |  0.000000e+00 | -1.220830e-06 |  2.122726e-06 |  5.117641e-07 |\n",
       "|  0.000000e+00 |  0.000000e+00 | -9.101580e-06 |  6.936988e-06 |  3.066282e-05 |\n",
       "|  0.000000e+00 |  0.000000e+00 | -2.039402e-05 |  1.474627e-05 |  5.554707e-06 |\n",
       "|  0.000000e+00 |  0.000000e+00 | -4.498221e-05 | -8.606624e-06 | -6.376593e-06 |\n",
       "|  0.000000e+00 |  0.000000e+00 | -6.997671e-07 |  7.972275e-07 |  1.338908e-06 |\n",
       "|  0.000000e+00 |  0.000000e+00 | -7.507358e-07 |  3.179643e-06 | -2.527666e-07 |\n",
       "|  0.000000e+00 |  0.000000e+00 | -7.169620e-06 | -1.256845e-05 | -1.156933e-05 |\n",
       "|  0.000000e+00 |  0.000000e+00 | -1.505243e-05 |  4.759858e-06 | -1.339901e-05 |\n",
       "|  0.000000e+00 |  0.000000e+00 |  1.081881e-05 | -2.030969e-06 | -1.003672e-04 |\n",
       "|  0.000000e+00 |  0.000000e+00 |  1.087621e-06 |  2.654135e-07 | -2.386419e-04 |\n",
       "|  0.000000e+00 |  0.000000e+00 |  3.385643e-06 |  1.553177e-05 | -4.643812e-04 |\n",
       "|  0.000000e+00 |  0.000000e+00 |  6.496403e-06 |  2.484032e-06 | -6.597592e-06 |\n",
       "|  0.000000e+00 |  0.000000e+00 | -4.557463e-06 | -3.141309e-06 | -6.433891e-06 |\n",
       "|  0.000000e+00 |  0.000000e+00 |  4.016044e-07 |  6.571574e-07 | -6.638725e-05 |\n",
       "|  0.000000e+00 |  0.000000e+00 |  1.402039e-06 | -1.147928e-07 | -1.140892e-04 |\n",
       "|  0.000000e+00 |  0.000000e+00 | -5.896831e-06 | -4.945544e-06 |  6.323336e-05 |\n",
       "|  0.000000e+00 |  0.000000e+00 |  2.265671e-06 | -5.660081e-06 |  6.247904e-06 |\n",
       "|  0.000000e+00 |  0.000000e+00 | -8.866332e-07 | -4.187927e-05 |  1.872464e-05 |\n",
       "|  0.000000e+00 |  0.000000e+00 |  1.172563e-07 | -1.014770e-04 |  4.310147e-05 |\n",
       "| -1.429720e-06 |  0.000000e+00 |  6.677552e-06 | -2.129516e-04 | -2.448959e-05 |\n",
       "| -3.172358e-06 |  0.000000e+00 |  1.392586e-06 | -3.632718e-06 |  2.384598e-06 |\n",
       "| -9.983883e-06 |  0.000000e+00 | -1.717705e-06 | -3.450580e-06 |  8.791498e-06 |\n",
       "| -1.553037e-07 |  4.700071e-10 |  3.649973e-07 | -3.570945e-05 | -3.410665e-05 |\n",
       "| -5.324975e-08 |  2.566244e-07 | -6.756638e-08 | -6.451924e-05 |  1.154234e-05 |\n",
       "| -7.765086e-07 | -1.211101e-06 | -3.329941e-06 |  4.206375e-05 | -5.022604e-06 |\n",
       "| -1.933756e-06 |  5.031906e-07 | -3.932480e-06 |  3.872637e-06 |  6.323114e-07 |\n",
       "\n"
      ],
      "text/plain": [
       "    V1            V2            V3            V4            V5           \n",
       "1   -6.715203e-07  6.194193e-06 -1.783415e-06 -7.495021e-05  3.105159e-05\n",
       "2   -7.248592e-07  5.908739e-07  2.245408e-07 -1.724238e-04  6.781723e-05\n",
       "3   -5.779087e-06  1.891409e-06  1.299680e-05 -3.542080e-04 -3.816575e-05\n",
       "4   -1.393039e-05  4.014621e-06  2.348724e-06 -5.248308e-06  3.343900e-06\n",
       "5   -2.994908e-05 -2.307593e-06 -2.686900e-06 -4.906891e-06  1.209589e-05\n",
       "6   -4.318866e-07  1.980979e-07  5.557416e-07 -5.046968e-05 -4.743735e-05\n",
       "7   -3.910415e-07  7.791495e-07 -9.943842e-08 -8.886669e-05  1.575271e-05\n",
       "8   -4.092878e-06 -2.965421e-06 -4.534405e-06  5.448436e-05 -6.577537e-06\n",
       "9   -7.509923e-06  1.020513e-06 -5.061750e-06  5.092770e-06  8.351243e-07\n",
       "10   4.620474e-06 -4.381302e-07 -4.096564e-05  1.654302e-05  4.974607e-05\n",
       "11   4.141246e-07  5.720653e-08 -9.493197e-05  3.623253e-05  8.858496e-06\n",
       "12   1.328123e-06  3.290482e-06 -1.954687e-04 -2.017582e-05 -1.010542e-05\n",
       "13   2.999049e-06  5.812770e-07 -2.939837e-06  1.782563e-06  2.115608e-06\n",
       "14  -1.698616e-06 -6.716241e-07 -2.777810e-06  6.679467e-06 -3.921702e-07\n",
       "15   1.463747e-07  1.407874e-07 -2.806729e-05 -2.539082e-05 -1.724596e-05\n",
       "16   5.418237e-07 -2.553645e-08 -4.985014e-05  8.572509e-06 -1.846271e-05\n",
       "17  -2.151888e-06 -1.162944e-06  3.067231e-05 -3.580469e-06 -1.460802e-04\n",
       "18   7.160612e-07 -1.274638e-06  2.838167e-06  4.502033e-07 -3.351325e-04\n",
       "19  -2.929528e-07 -1.022650e-05  8.769562e-06  2.570806e-05 -6.825711e-04\n",
       "20   3.724822e-08 -2.369662e-05  1.906240e-05  4.540871e-06 -9.995093e-06\n",
       "21   2.183441e-06 -4.835017e-05 -1.079134e-05 -5.125069e-06 -9.291026e-06\n",
       "22   3.920213e-07 -7.334028e-07  9.427667e-07  1.071321e-06 -9.697429e-05\n",
       "23  -4.398859e-07 -7.008261e-07  3.490760e-06 -1.963538e-07 -1.763668e-04\n",
       "24   9.383275e-08 -7.302726e-06 -1.412832e-05 -9.057864e-06  1.087966e-04\n",
       "25  -1.709679e-08 -1.307408e-05  4.756124e-06 -9.703365e-06  9.956833e-06\n",
       "26  -7.899706e-07  7.943001e-06 -1.935934e-06 -7.421832e-05  3.053431e-05\n",
       "27  -8.437511e-07  7.368020e-07  2.433693e-07 -1.717590e-04  6.649364e-05\n",
       "28  -6.716204e-06  2.313121e-06  1.402015e-05 -3.471694e-04 -3.692968e-05\n",
       "29  -1.540831e-05  5.045149e-06  2.507869e-06 -5.171246e-06  3.258190e-06\n",
       "30  -3.184940e-05 -2.899419e-06 -2.926504e-06 -4.980369e-06  1.221933e-05\n",
       "... ...           ...           ...           ...           ...          \n",
       "180  0.000000e+00  0.000000e+00 -5.638547e-07 -1.867857e-06  7.618276e-06\n",
       "181  0.000000e+00  0.000000e+00  1.081172e-07 -1.950218e-05 -2.893281e-05\n",
       "182  0.000000e+00  0.000000e+00 -2.312897e-08 -3.788898e-05  1.022279e-05\n",
       "183  0.000000e+00  0.000000e+00 -1.092052e-06  2.304130e-05 -4.149600e-06\n",
       "184  0.000000e+00  0.000000e+00 -1.220830e-06  2.122726e-06  5.117641e-07\n",
       "185  0.000000e+00  0.000000e+00 -9.101580e-06  6.936988e-06  3.066282e-05\n",
       "186  0.000000e+00  0.000000e+00 -2.039402e-05  1.474627e-05  5.554707e-06\n",
       "187  0.000000e+00  0.000000e+00 -4.498221e-05 -8.606624e-06 -6.376593e-06\n",
       "188  0.000000e+00  0.000000e+00 -6.997671e-07  7.972275e-07  1.338908e-06\n",
       "189  0.000000e+00  0.000000e+00 -7.507358e-07  3.179643e-06 -2.527666e-07\n",
       "190  0.000000e+00  0.000000e+00 -7.169620e-06 -1.256845e-05 -1.156933e-05\n",
       "191  0.000000e+00  0.000000e+00 -1.505243e-05  4.759858e-06 -1.339901e-05\n",
       "192  0.000000e+00  0.000000e+00  1.081881e-05 -2.030969e-06 -1.003672e-04\n",
       "193  0.000000e+00  0.000000e+00  1.087621e-06  2.654135e-07 -2.386419e-04\n",
       "194  0.000000e+00  0.000000e+00  3.385643e-06  1.553177e-05 -4.643812e-04\n",
       "195  0.000000e+00  0.000000e+00  6.496403e-06  2.484032e-06 -6.597592e-06\n",
       "196  0.000000e+00  0.000000e+00 -4.557463e-06 -3.141309e-06 -6.433891e-06\n",
       "197  0.000000e+00  0.000000e+00  4.016044e-07  6.571574e-07 -6.638725e-05\n",
       "198  0.000000e+00  0.000000e+00  1.402039e-06 -1.147928e-07 -1.140892e-04\n",
       "199  0.000000e+00  0.000000e+00 -5.896831e-06 -4.945544e-06  6.323336e-05\n",
       "200  0.000000e+00  0.000000e+00  2.265671e-06 -5.660081e-06  6.247904e-06\n",
       "201  0.000000e+00  0.000000e+00 -8.866332e-07 -4.187927e-05  1.872464e-05\n",
       "202  0.000000e+00  0.000000e+00  1.172563e-07 -1.014770e-04  4.310147e-05\n",
       "203 -1.429720e-06  0.000000e+00  6.677552e-06 -2.129516e-04 -2.448959e-05\n",
       "204 -3.172358e-06  0.000000e+00  1.392586e-06 -3.632718e-06  2.384598e-06\n",
       "205 -9.983883e-06  0.000000e+00 -1.717705e-06 -3.450580e-06  8.791498e-06\n",
       "206 -1.553037e-07  4.700071e-10  3.649973e-07 -3.570945e-05 -3.410665e-05\n",
       "207 -5.324975e-08  2.566244e-07 -6.756638e-08 -6.451924e-05  1.154234e-05\n",
       "208 -7.765086e-07 -1.211101e-06 -3.329941e-06  4.206375e-05 -5.022604e-06\n",
       "209 -1.933756e-06  5.031906e-07 -3.932480e-06  3.872637e-06  6.323114e-07"
      ]
     },
     "metadata": {},
     "output_type": "display_data"
    }
   ],
   "source": [
    "W <- MatofAlphas*B\n",
    "W"
   ]
  },
  {
   "cell_type": "code",
   "execution_count": 48,
   "id": "e196be6b",
   "metadata": {},
   "outputs": [
    {
     "data": {
      "text/plain": [
       "Importance of components:\n",
       "                            Comp.1      Comp.2       Comp.3       Comp.4\n",
       "Standard deviation     0.005315312 0.001576646 0.0005743517 0.0003595245\n",
       "Proportion of Variance 0.902110109 0.079372539 0.0105331395 0.0041272334\n",
       "Cumulative Proportion  0.902110109 0.981482647 0.9920157869 0.9961430203\n",
       "                             Comp.5\n",
       "Standard deviation     0.0003475543\n",
       "Proportion of Variance 0.0038569797\n",
       "Cumulative Proportion  1.0000000000"
      ]
     },
     "metadata": {},
     "output_type": "display_data"
    }
   ],
   "source": [
    "components <- princomp(delta_alpha)\n",
    "summary(components)"
   ]
  },
  {
   "cell_type": "code",
   "execution_count": 49,
   "id": "76080d28",
   "metadata": {},
   "outputs": [],
   "source": [
    "cum_variance <- cumsum(components$sdev^2 / sum(components$sdev^2))\n",
    "best_components <- components$scores[,1:2]"
   ]
  },
  {
   "cell_type": "code",
   "execution_count": 50,
   "id": "2e78a1b1",
   "metadata": {},
   "outputs": [
    {
     "data": {
      "text/html": [
       "<table class=\"dataframe\">\n",
       "<caption>A matrix: 208 × 2 of type dbl</caption>\n",
       "<thead>\n",
       "\t<tr><th></th><th scope=col>Comp.1</th><th scope=col>Comp.2</th></tr>\n",
       "</thead>\n",
       "<tbody>\n",
       "\t<tr><th scope=row>2</th><td>-0.0002528322</td><td>-3.951757e-04</td></tr>\n",
       "\t<tr><th scope=row>3</th><td> 0.0001025732</td><td> 3.980855e-04</td></tr>\n",
       "\t<tr><th scope=row>4</th><td> 0.0014439081</td><td>-1.801934e-04</td></tr>\n",
       "\t<tr><th scope=row>5</th><td>-0.0022403413</td><td> 9.448971e-04</td></tr>\n",
       "\t<tr><th scope=row>6</th><td>-0.0010475918</td><td>-6.258394e-04</td></tr>\n",
       "\t<tr><th scope=row>7</th><td>-0.0032262846</td><td> 6.826125e-04</td></tr>\n",
       "\t<tr><th scope=row>8</th><td> 0.0016623384</td><td>-1.833866e-04</td></tr>\n",
       "\t<tr><th scope=row>9</th><td> 0.0022555963</td><td> 1.334531e-03</td></tr>\n",
       "\t<tr><th scope=row>10</th><td> 0.0058457426</td><td> 7.095740e-04</td></tr>\n",
       "\t<tr><th scope=row>11</th><td> 0.0001017914</td><td> 1.451286e-04</td></tr>\n",
       "\t<tr><th scope=row>12</th><td>-0.0001827007</td><td>-6.314680e-04</td></tr>\n",
       "\t<tr><th scope=row>13</th><td> 0.0008750567</td><td> 1.325361e-03</td></tr>\n",
       "\t<tr><th scope=row>14</th><td> 0.0040487921</td><td>-5.374643e-04</td></tr>\n",
       "\t<tr><th scope=row>15</th><td>-0.0050277925</td><td>-8.108707e-04</td></tr>\n",
       "\t<tr><th scope=row>16</th><td>-0.0011648651</td><td> 1.079568e-04</td></tr>\n",
       "\t<tr><th scope=row>17</th><td> 0.0020815308</td><td>-1.067757e-05</td></tr>\n",
       "\t<tr><th scope=row>18</th><td>-0.0012269805</td><td> 9.456492e-04</td></tr>\n",
       "\t<tr><th scope=row>19</th><td>-0.0008770070</td><td>-4.654295e-04</td></tr>\n",
       "\t<tr><th scope=row>20</th><td>-0.0013105611</td><td>-3.096040e-05</td></tr>\n",
       "\t<tr><th scope=row>21</th><td>-0.0015728175</td><td> 2.227053e-04</td></tr>\n",
       "\t<tr><th scope=row>22</th><td> 0.0003164131</td><td>-5.511538e-05</td></tr>\n",
       "\t<tr><th scope=row>23</th><td> 0.0031670618</td><td>-4.749039e-04</td></tr>\n",
       "\t<tr><th scope=row>24</th><td> 0.0026307110</td><td> 7.851049e-04</td></tr>\n",
       "\t<tr><th scope=row>25</th><td> 0.0001209030</td><td>-7.834339e-04</td></tr>\n",
       "\t<tr><th scope=row>26</th><td>-0.0031001107</td><td>-2.976378e-04</td></tr>\n",
       "\t<tr><th scope=row>27</th><td>-0.0004440973</td><td> 1.063624e-04</td></tr>\n",
       "\t<tr><th scope=row>28</th><td>-0.0021143049</td><td> 2.625629e-04</td></tr>\n",
       "\t<tr><th scope=row>29</th><td> 0.0023835037</td><td>-5.022566e-04</td></tr>\n",
       "\t<tr><th scope=row>30</th><td> 0.0035200364</td><td> 5.537164e-04</td></tr>\n",
       "\t<tr><th scope=row>31</th><td> 0.0023831157</td><td> 1.208603e-03</td></tr>\n",
       "\t<tr><th scope=row>...</th><td>...</td><td>...</td></tr>\n",
       "\t<tr><th scope=row>180</th><td>-0.0004614952</td><td>-2.563448e-03</td></tr>\n",
       "\t<tr><th scope=row>181</th><td>-0.0028908598</td><td> 1.312169e-03</td></tr>\n",
       "\t<tr><th scope=row>182</th><td> 0.0046131286</td><td> 9.448656e-04</td></tr>\n",
       "\t<tr><th scope=row>183</th><td>-0.0012288375</td><td> 9.042369e-04</td></tr>\n",
       "\t<tr><th scope=row>184</th><td>-0.0012350390</td><td> 1.207287e-03</td></tr>\n",
       "\t<tr><th scope=row>185</th><td> 0.0037193439</td><td>-6.792152e-04</td></tr>\n",
       "\t<tr><th scope=row>186</th><td> 0.0010522875</td><td>-1.536019e-03</td></tr>\n",
       "\t<tr><th scope=row>187</th><td> 0.0013237289</td><td> 8.880122e-04</td></tr>\n",
       "\t<tr><th scope=row>188</th><td> 0.0014651448</td><td> 1.767683e-03</td></tr>\n",
       "\t<tr><th scope=row>189</th><td> 0.0053174616</td><td> 9.585723e-04</td></tr>\n",
       "\t<tr><th scope=row>190</th><td> 0.0010714589</td><td>-8.859862e-04</td></tr>\n",
       "\t<tr><th scope=row>191</th><td> 0.0087539037</td><td> 7.917926e-04</td></tr>\n",
       "\t<tr><th scope=row>192</th><td>-0.0027675323</td><td> 4.109007e-03</td></tr>\n",
       "\t<tr><th scope=row>193</th><td> 0.0033952794</td><td> 7.483178e-04</td></tr>\n",
       "\t<tr><th scope=row>194</th><td>-0.0040584952</td><td> 2.875835e-03</td></tr>\n",
       "\t<tr><th scope=row>195</th><td>-0.0055731587</td><td>-2.717301e-03</td></tr>\n",
       "\t<tr><th scope=row>196</th><td> 0.0058839285</td><td> 3.287957e-03</td></tr>\n",
       "\t<tr><th scope=row>197</th><td>-0.0006767140</td><td> 5.547818e-04</td></tr>\n",
       "\t<tr><th scope=row>198</th><td>-0.0037673352</td><td> 4.027428e-05</td></tr>\n",
       "\t<tr><th scope=row>199</th><td>-0.0079940633</td><td> 2.833575e-03</td></tr>\n",
       "\t<tr><th scope=row>200</th><td> 0.0078922660</td><td>-3.223739e-04</td></tr>\n",
       "\t<tr><th scope=row>201</th><td>-0.0043947286</td><td>-5.526547e-04</td></tr>\n",
       "\t<tr><th scope=row>202</th><td> 0.0052918430</td><td>-3.265689e-04</td></tr>\n",
       "\t<tr><th scope=row>203</th><td> 0.0013008202</td><td> 4.665897e-04</td></tr>\n",
       "\t<tr><th scope=row>204</th><td> 0.0138290276</td><td> 1.525491e-03</td></tr>\n",
       "\t<tr><th scope=row>205</th><td> 0.0009212208</td><td> 1.186245e-03</td></tr>\n",
       "\t<tr><th scope=row>206</th><td>-0.0014112435</td><td> 6.641562e-04</td></tr>\n",
       "\t<tr><th scope=row>207</th><td> 0.0002350731</td><td> 1.072354e-03</td></tr>\n",
       "\t<tr><th scope=row>208</th><td> 0.0070250784</td><td> 1.366278e-03</td></tr>\n",
       "\t<tr><th scope=row>209</th><td> 0.0009177036</td><td> 1.552612e-03</td></tr>\n",
       "</tbody>\n",
       "</table>\n"
      ],
      "text/latex": [
       "A matrix: 208 × 2 of type dbl\n",
       "\\begin{tabular}{r|ll}\n",
       "  & Comp.1 & Comp.2\\\\\n",
       "\\hline\n",
       "\t2 & -0.0002528322 & -3.951757e-04\\\\\n",
       "\t3 &  0.0001025732 &  3.980855e-04\\\\\n",
       "\t4 &  0.0014439081 & -1.801934e-04\\\\\n",
       "\t5 & -0.0022403413 &  9.448971e-04\\\\\n",
       "\t6 & -0.0010475918 & -6.258394e-04\\\\\n",
       "\t7 & -0.0032262846 &  6.826125e-04\\\\\n",
       "\t8 &  0.0016623384 & -1.833866e-04\\\\\n",
       "\t9 &  0.0022555963 &  1.334531e-03\\\\\n",
       "\t10 &  0.0058457426 &  7.095740e-04\\\\\n",
       "\t11 &  0.0001017914 &  1.451286e-04\\\\\n",
       "\t12 & -0.0001827007 & -6.314680e-04\\\\\n",
       "\t13 &  0.0008750567 &  1.325361e-03\\\\\n",
       "\t14 &  0.0040487921 & -5.374643e-04\\\\\n",
       "\t15 & -0.0050277925 & -8.108707e-04\\\\\n",
       "\t16 & -0.0011648651 &  1.079568e-04\\\\\n",
       "\t17 &  0.0020815308 & -1.067757e-05\\\\\n",
       "\t18 & -0.0012269805 &  9.456492e-04\\\\\n",
       "\t19 & -0.0008770070 & -4.654295e-04\\\\\n",
       "\t20 & -0.0013105611 & -3.096040e-05\\\\\n",
       "\t21 & -0.0015728175 &  2.227053e-04\\\\\n",
       "\t22 &  0.0003164131 & -5.511538e-05\\\\\n",
       "\t23 &  0.0031670618 & -4.749039e-04\\\\\n",
       "\t24 &  0.0026307110 &  7.851049e-04\\\\\n",
       "\t25 &  0.0001209030 & -7.834339e-04\\\\\n",
       "\t26 & -0.0031001107 & -2.976378e-04\\\\\n",
       "\t27 & -0.0004440973 &  1.063624e-04\\\\\n",
       "\t28 & -0.0021143049 &  2.625629e-04\\\\\n",
       "\t29 &  0.0023835037 & -5.022566e-04\\\\\n",
       "\t30 &  0.0035200364 &  5.537164e-04\\\\\n",
       "\t31 &  0.0023831157 &  1.208603e-03\\\\\n",
       "\t... & ... & ...\\\\\n",
       "\t180 & -0.0004614952 & -2.563448e-03\\\\\n",
       "\t181 & -0.0028908598 &  1.312169e-03\\\\\n",
       "\t182 &  0.0046131286 &  9.448656e-04\\\\\n",
       "\t183 & -0.0012288375 &  9.042369e-04\\\\\n",
       "\t184 & -0.0012350390 &  1.207287e-03\\\\\n",
       "\t185 &  0.0037193439 & -6.792152e-04\\\\\n",
       "\t186 &  0.0010522875 & -1.536019e-03\\\\\n",
       "\t187 &  0.0013237289 &  8.880122e-04\\\\\n",
       "\t188 &  0.0014651448 &  1.767683e-03\\\\\n",
       "\t189 &  0.0053174616 &  9.585723e-04\\\\\n",
       "\t190 &  0.0010714589 & -8.859862e-04\\\\\n",
       "\t191 &  0.0087539037 &  7.917926e-04\\\\\n",
       "\t192 & -0.0027675323 &  4.109007e-03\\\\\n",
       "\t193 &  0.0033952794 &  7.483178e-04\\\\\n",
       "\t194 & -0.0040584952 &  2.875835e-03\\\\\n",
       "\t195 & -0.0055731587 & -2.717301e-03\\\\\n",
       "\t196 &  0.0058839285 &  3.287957e-03\\\\\n",
       "\t197 & -0.0006767140 &  5.547818e-04\\\\\n",
       "\t198 & -0.0037673352 &  4.027428e-05\\\\\n",
       "\t199 & -0.0079940633 &  2.833575e-03\\\\\n",
       "\t200 &  0.0078922660 & -3.223739e-04\\\\\n",
       "\t201 & -0.0043947286 & -5.526547e-04\\\\\n",
       "\t202 &  0.0052918430 & -3.265689e-04\\\\\n",
       "\t203 &  0.0013008202 &  4.665897e-04\\\\\n",
       "\t204 &  0.0138290276 &  1.525491e-03\\\\\n",
       "\t205 &  0.0009212208 &  1.186245e-03\\\\\n",
       "\t206 & -0.0014112435 &  6.641562e-04\\\\\n",
       "\t207 &  0.0002350731 &  1.072354e-03\\\\\n",
       "\t208 &  0.0070250784 &  1.366278e-03\\\\\n",
       "\t209 &  0.0009177036 &  1.552612e-03\\\\\n",
       "\\end{tabular}\n"
      ],
      "text/markdown": [
       "\n",
       "A matrix: 208 × 2 of type dbl\n",
       "\n",
       "| <!--/--> | Comp.1 | Comp.2 |\n",
       "|---|---|---|\n",
       "| 2 | -0.0002528322 | -3.951757e-04 |\n",
       "| 3 |  0.0001025732 |  3.980855e-04 |\n",
       "| 4 |  0.0014439081 | -1.801934e-04 |\n",
       "| 5 | -0.0022403413 |  9.448971e-04 |\n",
       "| 6 | -0.0010475918 | -6.258394e-04 |\n",
       "| 7 | -0.0032262846 |  6.826125e-04 |\n",
       "| 8 |  0.0016623384 | -1.833866e-04 |\n",
       "| 9 |  0.0022555963 |  1.334531e-03 |\n",
       "| 10 |  0.0058457426 |  7.095740e-04 |\n",
       "| 11 |  0.0001017914 |  1.451286e-04 |\n",
       "| 12 | -0.0001827007 | -6.314680e-04 |\n",
       "| 13 |  0.0008750567 |  1.325361e-03 |\n",
       "| 14 |  0.0040487921 | -5.374643e-04 |\n",
       "| 15 | -0.0050277925 | -8.108707e-04 |\n",
       "| 16 | -0.0011648651 |  1.079568e-04 |\n",
       "| 17 |  0.0020815308 | -1.067757e-05 |\n",
       "| 18 | -0.0012269805 |  9.456492e-04 |\n",
       "| 19 | -0.0008770070 | -4.654295e-04 |\n",
       "| 20 | -0.0013105611 | -3.096040e-05 |\n",
       "| 21 | -0.0015728175 |  2.227053e-04 |\n",
       "| 22 |  0.0003164131 | -5.511538e-05 |\n",
       "| 23 |  0.0031670618 | -4.749039e-04 |\n",
       "| 24 |  0.0026307110 |  7.851049e-04 |\n",
       "| 25 |  0.0001209030 | -7.834339e-04 |\n",
       "| 26 | -0.0031001107 | -2.976378e-04 |\n",
       "| 27 | -0.0004440973 |  1.063624e-04 |\n",
       "| 28 | -0.0021143049 |  2.625629e-04 |\n",
       "| 29 |  0.0023835037 | -5.022566e-04 |\n",
       "| 30 |  0.0035200364 |  5.537164e-04 |\n",
       "| 31 |  0.0023831157 |  1.208603e-03 |\n",
       "| ... | ... | ... |\n",
       "| 180 | -0.0004614952 | -2.563448e-03 |\n",
       "| 181 | -0.0028908598 |  1.312169e-03 |\n",
       "| 182 |  0.0046131286 |  9.448656e-04 |\n",
       "| 183 | -0.0012288375 |  9.042369e-04 |\n",
       "| 184 | -0.0012350390 |  1.207287e-03 |\n",
       "| 185 |  0.0037193439 | -6.792152e-04 |\n",
       "| 186 |  0.0010522875 | -1.536019e-03 |\n",
       "| 187 |  0.0013237289 |  8.880122e-04 |\n",
       "| 188 |  0.0014651448 |  1.767683e-03 |\n",
       "| 189 |  0.0053174616 |  9.585723e-04 |\n",
       "| 190 |  0.0010714589 | -8.859862e-04 |\n",
       "| 191 |  0.0087539037 |  7.917926e-04 |\n",
       "| 192 | -0.0027675323 |  4.109007e-03 |\n",
       "| 193 |  0.0033952794 |  7.483178e-04 |\n",
       "| 194 | -0.0040584952 |  2.875835e-03 |\n",
       "| 195 | -0.0055731587 | -2.717301e-03 |\n",
       "| 196 |  0.0058839285 |  3.287957e-03 |\n",
       "| 197 | -0.0006767140 |  5.547818e-04 |\n",
       "| 198 | -0.0037673352 |  4.027428e-05 |\n",
       "| 199 | -0.0079940633 |  2.833575e-03 |\n",
       "| 200 |  0.0078922660 | -3.223739e-04 |\n",
       "| 201 | -0.0043947286 | -5.526547e-04 |\n",
       "| 202 |  0.0052918430 | -3.265689e-04 |\n",
       "| 203 |  0.0013008202 |  4.665897e-04 |\n",
       "| 204 |  0.0138290276 |  1.525491e-03 |\n",
       "| 205 |  0.0009212208 |  1.186245e-03 |\n",
       "| 206 | -0.0014112435 |  6.641562e-04 |\n",
       "| 207 |  0.0002350731 |  1.072354e-03 |\n",
       "| 208 |  0.0070250784 |  1.366278e-03 |\n",
       "| 209 |  0.0009177036 |  1.552612e-03 |\n",
       "\n"
      ],
      "text/plain": [
       "    Comp.1        Comp.2       \n",
       "2   -0.0002528322 -3.951757e-04\n",
       "3    0.0001025732  3.980855e-04\n",
       "4    0.0014439081 -1.801934e-04\n",
       "5   -0.0022403413  9.448971e-04\n",
       "6   -0.0010475918 -6.258394e-04\n",
       "7   -0.0032262846  6.826125e-04\n",
       "8    0.0016623384 -1.833866e-04\n",
       "9    0.0022555963  1.334531e-03\n",
       "10   0.0058457426  7.095740e-04\n",
       "11   0.0001017914  1.451286e-04\n",
       "12  -0.0001827007 -6.314680e-04\n",
       "13   0.0008750567  1.325361e-03\n",
       "14   0.0040487921 -5.374643e-04\n",
       "15  -0.0050277925 -8.108707e-04\n",
       "16  -0.0011648651  1.079568e-04\n",
       "17   0.0020815308 -1.067757e-05\n",
       "18  -0.0012269805  9.456492e-04\n",
       "19  -0.0008770070 -4.654295e-04\n",
       "20  -0.0013105611 -3.096040e-05\n",
       "21  -0.0015728175  2.227053e-04\n",
       "22   0.0003164131 -5.511538e-05\n",
       "23   0.0031670618 -4.749039e-04\n",
       "24   0.0026307110  7.851049e-04\n",
       "25   0.0001209030 -7.834339e-04\n",
       "26  -0.0031001107 -2.976378e-04\n",
       "27  -0.0004440973  1.063624e-04\n",
       "28  -0.0021143049  2.625629e-04\n",
       "29   0.0023835037 -5.022566e-04\n",
       "30   0.0035200364  5.537164e-04\n",
       "31   0.0023831157  1.208603e-03\n",
       "... ...           ...          \n",
       "180 -0.0004614952 -2.563448e-03\n",
       "181 -0.0028908598  1.312169e-03\n",
       "182  0.0046131286  9.448656e-04\n",
       "183 -0.0012288375  9.042369e-04\n",
       "184 -0.0012350390  1.207287e-03\n",
       "185  0.0037193439 -6.792152e-04\n",
       "186  0.0010522875 -1.536019e-03\n",
       "187  0.0013237289  8.880122e-04\n",
       "188  0.0014651448  1.767683e-03\n",
       "189  0.0053174616  9.585723e-04\n",
       "190  0.0010714589 -8.859862e-04\n",
       "191  0.0087539037  7.917926e-04\n",
       "192 -0.0027675323  4.109007e-03\n",
       "193  0.0033952794  7.483178e-04\n",
       "194 -0.0040584952  2.875835e-03\n",
       "195 -0.0055731587 -2.717301e-03\n",
       "196  0.0058839285  3.287957e-03\n",
       "197 -0.0006767140  5.547818e-04\n",
       "198 -0.0037673352  4.027428e-05\n",
       "199 -0.0079940633  2.833575e-03\n",
       "200  0.0078922660 -3.223739e-04\n",
       "201 -0.0043947286 -5.526547e-04\n",
       "202  0.0052918430 -3.265689e-04\n",
       "203  0.0013008202  4.665897e-04\n",
       "204  0.0138290276  1.525491e-03\n",
       "205  0.0009212208  1.186245e-03\n",
       "206 -0.0014112435  6.641562e-04\n",
       "207  0.0002350731  1.072354e-03\n",
       "208  0.0070250784  1.366278e-03\n",
       "209  0.0009177036  1.552612e-03"
      ]
     },
     "metadata": {},
     "output_type": "display_data"
    }
   ],
   "source": [
    "best_components"
   ]
  },
  {
   "cell_type": "code",
   "execution_count": 51,
   "id": "996b192e",
   "metadata": {},
   "outputs": [],
   "source": [
    "librerias <- c(\"forecast\",\"xts\",\"rugarch\",\"timeSeries\",\"ggplot2\",\"astsa\",\"scales\",\"lubridate\",\"reshape2\",\"quantmod\",\"xtable\",\"tseries\")"
   ]
  },
  {
   "cell_type": "code",
   "execution_count": 52,
   "id": "4aac25c2",
   "metadata": {},
   "outputs": [
    {
     "name": "stderr",
     "output_type": "stream",
     "text": [
      "Warning message:\n",
      "\"package 'forecast' was built under R version 3.6.3\"Registered S3 method overwritten by 'xts':\n",
      "  method     from\n",
      "  as.zoo.xts zoo \n",
      "Registered S3 method overwritten by 'quantmod':\n",
      "  method            from\n",
      "  as.zoo.data.frame zoo \n",
      "Warning message:\n",
      "\"package 'zoo' was built under R version 3.6.3\"\n",
      "Attaching package: 'zoo'\n",
      "\n",
      "The following objects are masked from 'package:base':\n",
      "\n",
      "    as.Date, as.Date.numeric\n",
      "\n",
      "Warning message:\n",
      "\"package 'rugarch' was built under R version 3.6.3\"\n",
      "Attaching package: 'rugarch'\n",
      "\n",
      "The following object is masked from 'package:stats':\n",
      "\n",
      "    sigma\n",
      "\n",
      "Warning message:\n",
      "\"package 'timeSeries' was built under R version 3.6.3\"Warning message:\n",
      "\"package 'timeDate' was built under R version 3.6.2\"\n",
      "Attaching package: 'timeSeries'\n",
      "\n",
      "The following object is masked from 'package:zoo':\n",
      "\n",
      "    time<-\n",
      "\n",
      "\n",
      "Attaching package: 'astsa'\n",
      "\n",
      "The following object is masked from 'package:forecast':\n",
      "\n",
      "    gas\n",
      "\n",
      "Warning message:\n",
      "\"package 'scales' was built under R version 3.6.3\"Warning message:\n",
      "\"package 'reshape2' was built under R version 3.6.3\"Version 0.4-0 included new data defaults. See ?getSymbols.\n",
      "Warning message:\n",
      "\"package 'xtable' was built under R version 3.6.3\"\n",
      "Attaching package: 'xtable'\n",
      "\n",
      "The following object is masked from 'package:timeSeries':\n",
      "\n",
      "    align\n",
      "\n",
      "The following object is masked from 'package:timeDate':\n",
      "\n",
      "    align\n",
      "\n",
      "Warning message:\n",
      "\"package 'tseries' was built under R version 3.6.3\""
     ]
    }
   ],
   "source": [
    "if(length(setdiff(librerias, rownames(installed.packages()))) > 0){\n",
    "  install.packages(setdiff(librerias, rownames(installed.packages())))}\n",
    "invisible(sapply(librerias, require, character.only = TRUE,quietly = TRUE))"
   ]
  },
  {
   "cell_type": "code",
   "execution_count": 53,
   "id": "6c1f4a8d",
   "metadata": {},
   "outputs": [
    {
     "data": {
      "text/plain": [
       "\n",
       "\tBox-Pierce test\n",
       "\n",
       "data:  Arima_1$residuals\n",
       "X-squared = 0.016174, df = 1, p-value = 0.8988\n"
      ]
     },
     "metadata": {},
     "output_type": "display_data"
    },
    {
     "data": {
      "text/plain": [
       "\n",
       "\tBox-Pierce test\n",
       "\n",
       "data:  Arima_2$residuals\n",
       "X-squared = 0.4558, df = 1, p-value = 0.4996\n"
      ]
     },
     "metadata": {},
     "output_type": "display_data"
    }
   ],
   "source": [
    "Arima_1 <- auto.arima(best_components[,1],stepwise = F,approximation = F)\n",
    "Box.test(Arima_1$residuals)\n",
    "Arima_2 <- auto.arima(best_components[,2],stepwise = F,approximation = F)\n",
    "Box.test(Arima_2$residuals)"
   ]
  },
  {
   "cell_type": "markdown",
   "id": "0605c47b",
   "metadata": {},
   "source": [
    "Simulaciones al futuro"
   ]
  },
  {
   "cell_type": "code",
   "execution_count": 54,
   "id": "faae22f1",
   "metadata": {},
   "outputs": [],
   "source": [
    "future <- 52\n",
    "simulations <- 1000\n",
    "Sim_component_1 <- replicate(expr = simulate(object = Arima_1,nsim = future),n = simulations)\n",
    "Sim_component_2 <- replicate(expr = simulate(object = Arima_2,nsim = future),n = simulations)\n",
    "final <- list()\n",
    "M3<-matrix(,nrow=simulations,ncol=2)\n",
    "for (sim in 1:simulations){\n",
    "        nam <- paste(\"S\", sim, sep = \"_\")\n",
    "        assign(nam, cbind(Sim_component_1[,sim] , Sim_component_2[,sim]))\n",
    "        final <- append(final, Sim_component_1[nrow(Sim_component_1),sim] , Sim_component_2[nrow(Sim_component_2),sim])\n",
    "}"
   ]
  },
  {
   "cell_type": "code",
   "execution_count": 55,
   "id": "29d38f90",
   "metadata": {},
   "outputs": [
    {
     "data": {
      "text/html": [
       "<table class=\"dataframe\">\n",
       "<caption>A matrix: 1000 × 2</caption>\n",
       "<tbody>\n",
       "\t<tr><td>-0.00973265</td><td>-0.00973265</td></tr>\n",
       "\t<tr><td>0.008418853</td><td>0.008418853</td></tr>\n",
       "\t<tr><td>-0.00973265</td><td>-0.00973265</td></tr>\n",
       "\t<tr><td>0.002380401</td><td>0.002380401</td></tr>\n",
       "\t<tr><td>-0.00973265</td><td>-0.00973265</td></tr>\n",
       "\t<tr><td>-0.0007737847</td><td>-0.0007737847</td></tr>\n",
       "\t<tr><td>-0.00973265</td><td>-0.00973265</td></tr>\n",
       "\t<tr><td>0.0006312584</td><td>0.0006312584</td></tr>\n",
       "\t<tr><td>-0.00973265</td><td>-0.00973265</td></tr>\n",
       "\t<tr><td>-0.004010197</td><td>-0.004010197</td></tr>\n",
       "\t<tr><td>-0.00973265</td><td>-0.00973265</td></tr>\n",
       "\t<tr><td>-0.007140955</td><td>-0.007140955</td></tr>\n",
       "\t<tr><td>-0.00973265</td><td>-0.00973265</td></tr>\n",
       "\t<tr><td>0.009396886</td><td>0.009396886</td></tr>\n",
       "\t<tr><td>-0.00973265</td><td>-0.00973265</td></tr>\n",
       "\t<tr><td>-0.0001062499</td><td>-0.0001062499</td></tr>\n",
       "\t<tr><td>-0.00973265</td><td>-0.00973265</td></tr>\n",
       "\t<tr><td>0.002452802</td><td>0.002452802</td></tr>\n",
       "\t<tr><td>-0.00973265</td><td>-0.00973265</td></tr>\n",
       "\t<tr><td>-0.002707238</td><td>-0.002707238</td></tr>\n",
       "\t<tr><td>-0.00973265</td><td>-0.00973265</td></tr>\n",
       "\t<tr><td>0.01640987</td><td>0.01640987</td></tr>\n",
       "\t<tr><td>-0.00973265</td><td>-0.00973265</td></tr>\n",
       "\t<tr><td>-0.003452837</td><td>-0.003452837</td></tr>\n",
       "\t<tr><td>-0.00973265</td><td>-0.00973265</td></tr>\n",
       "\t<tr><td>-0.001041866</td><td>-0.001041866</td></tr>\n",
       "\t<tr><td>-0.00973265</td><td>-0.00973265</td></tr>\n",
       "\t<tr><td>0.004267056</td><td>0.004267056</td></tr>\n",
       "\t<tr><td>-0.00973265</td><td>-0.00973265</td></tr>\n",
       "\t<tr><td>0.001590115</td><td>0.001590115</td></tr>\n",
       "\t<tr><td>...</td><td>...</td></tr>\n",
       "\t<tr><td>-0.00973265</td><td>-0.00973265</td></tr>\n",
       "\t<tr><td>0.005484507</td><td>0.005484507</td></tr>\n",
       "\t<tr><td>-0.00973265</td><td>-0.00973265</td></tr>\n",
       "\t<tr><td>0.003373569</td><td>0.003373569</td></tr>\n",
       "\t<tr><td>-0.00973265</td><td>-0.00973265</td></tr>\n",
       "\t<tr><td>0.0006770534</td><td>0.0006770534</td></tr>\n",
       "\t<tr><td>-0.00973265</td><td>-0.00973265</td></tr>\n",
       "\t<tr><td>0.006403513</td><td>0.006403513</td></tr>\n",
       "\t<tr><td>-0.00973265</td><td>-0.00973265</td></tr>\n",
       "\t<tr><td>-0.002744647</td><td>-0.002744647</td></tr>\n",
       "\t<tr><td>-0.00973265</td><td>-0.00973265</td></tr>\n",
       "\t<tr><td>-0.01187662</td><td>-0.01187662</td></tr>\n",
       "\t<tr><td>-0.00973265</td><td>-0.00973265</td></tr>\n",
       "\t<tr><td>0.0001829793</td><td>0.0001829793</td></tr>\n",
       "\t<tr><td>-0.00973265</td><td>-0.00973265</td></tr>\n",
       "\t<tr><td>0.001727879</td><td>0.001727879</td></tr>\n",
       "\t<tr><td>-0.00973265</td><td>-0.00973265</td></tr>\n",
       "\t<tr><td>-0.0009025293</td><td>-0.0009025293</td></tr>\n",
       "\t<tr><td>-0.00973265</td><td>-0.00973265</td></tr>\n",
       "\t<tr><td>-0.005846749</td><td>-0.005846749</td></tr>\n",
       "\t<tr><td>-0.00973265</td><td>-0.00973265</td></tr>\n",
       "\t<tr><td>-0.004452666</td><td>-0.004452666</td></tr>\n",
       "\t<tr><td>-0.00973265</td><td>-0.00973265</td></tr>\n",
       "\t<tr><td>-0.007670046</td><td>-0.007670046</td></tr>\n",
       "\t<tr><td>-0.00973265</td><td>-0.00973265</td></tr>\n",
       "\t<tr><td>-0.003222272</td><td>-0.003222272</td></tr>\n",
       "\t<tr><td>-0.00973265</td><td>-0.00973265</td></tr>\n",
       "\t<tr><td>0.005808174</td><td>0.005808174</td></tr>\n",
       "\t<tr><td>-0.00973265</td><td>-0.00973265</td></tr>\n",
       "\t<tr><td>-0.004939481</td><td>-0.004939481</td></tr>\n",
       "</tbody>\n",
       "</table>\n"
      ],
      "text/latex": [
       "A matrix: 1000 × 2\n",
       "\\begin{tabular}{ll}\n",
       "\t -0.00973265 & -0.00973265\\\\\n",
       "\t 0.008418853 & 0.008418853\\\\\n",
       "\t -0.00973265 & -0.00973265\\\\\n",
       "\t 0.002380401 & 0.002380401\\\\\n",
       "\t -0.00973265 & -0.00973265\\\\\n",
       "\t -0.0007737847 & -0.0007737847\\\\\n",
       "\t -0.00973265 & -0.00973265\\\\\n",
       "\t 0.0006312584 & 0.0006312584\\\\\n",
       "\t -0.00973265 & -0.00973265\\\\\n",
       "\t -0.004010197 & -0.004010197\\\\\n",
       "\t -0.00973265 & -0.00973265\\\\\n",
       "\t -0.007140955 & -0.007140955\\\\\n",
       "\t -0.00973265 & -0.00973265\\\\\n",
       "\t 0.009396886 & 0.009396886\\\\\n",
       "\t -0.00973265 & -0.00973265\\\\\n",
       "\t -0.0001062499 & -0.0001062499\\\\\n",
       "\t -0.00973265 & -0.00973265\\\\\n",
       "\t 0.002452802 & 0.002452802\\\\\n",
       "\t -0.00973265 & -0.00973265\\\\\n",
       "\t -0.002707238 & -0.002707238\\\\\n",
       "\t -0.00973265 & -0.00973265\\\\\n",
       "\t 0.01640987 & 0.01640987\\\\\n",
       "\t -0.00973265 & -0.00973265\\\\\n",
       "\t -0.003452837 & -0.003452837\\\\\n",
       "\t -0.00973265 & -0.00973265\\\\\n",
       "\t -0.001041866 & -0.001041866\\\\\n",
       "\t -0.00973265 & -0.00973265\\\\\n",
       "\t 0.004267056 & 0.004267056\\\\\n",
       "\t -0.00973265 & -0.00973265\\\\\n",
       "\t 0.001590115 & 0.001590115\\\\\n",
       "\t ... & ...\\\\\n",
       "\t -0.00973265 & -0.00973265\\\\\n",
       "\t 0.005484507 & 0.005484507\\\\\n",
       "\t -0.00973265 & -0.00973265\\\\\n",
       "\t 0.003373569 & 0.003373569\\\\\n",
       "\t -0.00973265 & -0.00973265\\\\\n",
       "\t 0.0006770534 & 0.0006770534\\\\\n",
       "\t -0.00973265 & -0.00973265\\\\\n",
       "\t 0.006403513 & 0.006403513\\\\\n",
       "\t -0.00973265 & -0.00973265\\\\\n",
       "\t -0.002744647 & -0.002744647\\\\\n",
       "\t -0.00973265 & -0.00973265\\\\\n",
       "\t -0.01187662 & -0.01187662\\\\\n",
       "\t -0.00973265 & -0.00973265\\\\\n",
       "\t 0.0001829793 & 0.0001829793\\\\\n",
       "\t -0.00973265 & -0.00973265\\\\\n",
       "\t 0.001727879 & 0.001727879\\\\\n",
       "\t -0.00973265 & -0.00973265\\\\\n",
       "\t -0.0009025293 & -0.0009025293\\\\\n",
       "\t -0.00973265 & -0.00973265\\\\\n",
       "\t -0.005846749 & -0.005846749\\\\\n",
       "\t -0.00973265 & -0.00973265\\\\\n",
       "\t -0.004452666 & -0.004452666\\\\\n",
       "\t -0.00973265 & -0.00973265\\\\\n",
       "\t -0.007670046 & -0.007670046\\\\\n",
       "\t -0.00973265 & -0.00973265\\\\\n",
       "\t -0.003222272 & -0.003222272\\\\\n",
       "\t -0.00973265 & -0.00973265\\\\\n",
       "\t 0.005808174 & 0.005808174\\\\\n",
       "\t -0.00973265 & -0.00973265\\\\\n",
       "\t -0.004939481 & -0.004939481\\\\\n",
       "\\end{tabular}\n"
      ],
      "text/markdown": [
       "\n",
       "A matrix: 1000 × 2\n",
       "\n",
       "| -0.00973265 | -0.00973265 |\n",
       "| 0.008418853 | 0.008418853 |\n",
       "| -0.00973265 | -0.00973265 |\n",
       "| 0.002380401 | 0.002380401 |\n",
       "| -0.00973265 | -0.00973265 |\n",
       "| -0.0007737847 | -0.0007737847 |\n",
       "| -0.00973265 | -0.00973265 |\n",
       "| 0.0006312584 | 0.0006312584 |\n",
       "| -0.00973265 | -0.00973265 |\n",
       "| -0.004010197 | -0.004010197 |\n",
       "| -0.00973265 | -0.00973265 |\n",
       "| -0.007140955 | -0.007140955 |\n",
       "| -0.00973265 | -0.00973265 |\n",
       "| 0.009396886 | 0.009396886 |\n",
       "| -0.00973265 | -0.00973265 |\n",
       "| -0.0001062499 | -0.0001062499 |\n",
       "| -0.00973265 | -0.00973265 |\n",
       "| 0.002452802 | 0.002452802 |\n",
       "| -0.00973265 | -0.00973265 |\n",
       "| -0.002707238 | -0.002707238 |\n",
       "| -0.00973265 | -0.00973265 |\n",
       "| 0.01640987 | 0.01640987 |\n",
       "| -0.00973265 | -0.00973265 |\n",
       "| -0.003452837 | -0.003452837 |\n",
       "| -0.00973265 | -0.00973265 |\n",
       "| -0.001041866 | -0.001041866 |\n",
       "| -0.00973265 | -0.00973265 |\n",
       "| 0.004267056 | 0.004267056 |\n",
       "| -0.00973265 | -0.00973265 |\n",
       "| 0.001590115 | 0.001590115 |\n",
       "| ... | ... |\n",
       "| -0.00973265 | -0.00973265 |\n",
       "| 0.005484507 | 0.005484507 |\n",
       "| -0.00973265 | -0.00973265 |\n",
       "| 0.003373569 | 0.003373569 |\n",
       "| -0.00973265 | -0.00973265 |\n",
       "| 0.0006770534 | 0.0006770534 |\n",
       "| -0.00973265 | -0.00973265 |\n",
       "| 0.006403513 | 0.006403513 |\n",
       "| -0.00973265 | -0.00973265 |\n",
       "| -0.002744647 | -0.002744647 |\n",
       "| -0.00973265 | -0.00973265 |\n",
       "| -0.01187662 | -0.01187662 |\n",
       "| -0.00973265 | -0.00973265 |\n",
       "| 0.0001829793 | 0.0001829793 |\n",
       "| -0.00973265 | -0.00973265 |\n",
       "| 0.001727879 | 0.001727879 |\n",
       "| -0.00973265 | -0.00973265 |\n",
       "| -0.0009025293 | -0.0009025293 |\n",
       "| -0.00973265 | -0.00973265 |\n",
       "| -0.005846749 | -0.005846749 |\n",
       "| -0.00973265 | -0.00973265 |\n",
       "| -0.004452666 | -0.004452666 |\n",
       "| -0.00973265 | -0.00973265 |\n",
       "| -0.007670046 | -0.007670046 |\n",
       "| -0.00973265 | -0.00973265 |\n",
       "| -0.003222272 | -0.003222272 |\n",
       "| -0.00973265 | -0.00973265 |\n",
       "| 0.005808174 | 0.005808174 |\n",
       "| -0.00973265 | -0.00973265 |\n",
       "| -0.004939481 | -0.004939481 |\n",
       "\n"
      ],
      "text/plain": [
       "      [,1]          [,2]         \n",
       " [1,] -0.00973265   -0.00973265  \n",
       " [2,] 0.008418853   0.008418853  \n",
       " [3,] -0.00973265   -0.00973265  \n",
       " [4,] 0.002380401   0.002380401  \n",
       " [5,] -0.00973265   -0.00973265  \n",
       " [6,] -0.0007737847 -0.0007737847\n",
       " [7,] -0.00973265   -0.00973265  \n",
       " [8,] 0.0006312584  0.0006312584 \n",
       " [9,] -0.00973265   -0.00973265  \n",
       "[10,] -0.004010197  -0.004010197 \n",
       "[11,] -0.00973265   -0.00973265  \n",
       "[12,] -0.007140955  -0.007140955 \n",
       "[13,] -0.00973265   -0.00973265  \n",
       "[14,] 0.009396886   0.009396886  \n",
       "[15,] -0.00973265   -0.00973265  \n",
       "[16,] -0.0001062499 -0.0001062499\n",
       "[17,] -0.00973265   -0.00973265  \n",
       "[18,] 0.002452802   0.002452802  \n",
       "[19,] -0.00973265   -0.00973265  \n",
       "[20,] -0.002707238  -0.002707238 \n",
       "[21,] -0.00973265   -0.00973265  \n",
       "[22,] 0.01640987    0.01640987   \n",
       "[23,] -0.00973265   -0.00973265  \n",
       "[24,] -0.003452837  -0.003452837 \n",
       "[25,] -0.00973265   -0.00973265  \n",
       "[26,] -0.001041866  -0.001041866 \n",
       "[27,] -0.00973265   -0.00973265  \n",
       "[28,] 0.004267056   0.004267056  \n",
       "[29,] -0.00973265   -0.00973265  \n",
       "[30,] 0.001590115   0.001590115  \n",
       "[31,] ...           ...          \n",
       "[32,] -0.00973265   -0.00973265  \n",
       "[33,] 0.005484507   0.005484507  \n",
       "[34,] -0.00973265   -0.00973265  \n",
       "[35,] 0.003373569   0.003373569  \n",
       "[36,] -0.00973265   -0.00973265  \n",
       "[37,] 0.0006770534  0.0006770534 \n",
       "[38,] -0.00973265   -0.00973265  \n",
       "[39,] 0.006403513   0.006403513  \n",
       "[40,] -0.00973265   -0.00973265  \n",
       "[41,] -0.002744647  -0.002744647 \n",
       "[42,] -0.00973265   -0.00973265  \n",
       "[43,] -0.01187662   -0.01187662  \n",
       "[44,] -0.00973265   -0.00973265  \n",
       "[45,] 0.0001829793  0.0001829793 \n",
       "[46,] -0.00973265   -0.00973265  \n",
       "[47,] 0.001727879   0.001727879  \n",
       "[48,] -0.00973265   -0.00973265  \n",
       "[49,] -0.0009025293 -0.0009025293\n",
       "[50,] -0.00973265   -0.00973265  \n",
       "[51,] -0.005846749  -0.005846749 \n",
       "[52,] -0.00973265   -0.00973265  \n",
       "[53,] -0.004452666  -0.004452666 \n",
       "[54,] -0.00973265   -0.00973265  \n",
       "[55,] -0.007670046  -0.007670046 \n",
       "[56,] -0.00973265   -0.00973265  \n",
       "[57,] -0.003222272  -0.003222272 \n",
       "[58,] -0.00973265   -0.00973265  \n",
       "[59,] 0.005808174   0.005808174  \n",
       "[60,] -0.00973265   -0.00973265  \n",
       "[61,] -0.004939481  -0.004939481 "
      ]
     },
     "metadata": {},
     "output_type": "display_data"
    }
   ],
   "source": [
    "S <- matrix(final, nrow=1000, ncol=2)\n",
    "S"
   ]
  },
  {
   "cell_type": "code",
   "execution_count": 56,
   "id": "cea8a10e",
   "metadata": {},
   "outputs": [
    {
     "data": {
      "text/html": [
       "<dl>\n",
       "\t<dt>$par</dt>\n",
       "\t\t<dd>3.91592806113512</dd>\n",
       "\t<dt>$value</dt>\n",
       "\t\t<dd>7.34057650220166e-08</dd>\n",
       "\t<dt>$counts</dt>\n",
       "\t\t<dd><style>\n",
       ".dl-inline {width: auto; margin:0; padding: 0}\n",
       ".dl-inline>dt, .dl-inline>dd {float: none; width: auto; display: inline-block}\n",
       ".dl-inline>dt::after {content: \":\\0020\"; padding-right: .5ex}\n",
       ".dl-inline>dt:not(:first-of-type) {padding-left: .5ex}\n",
       "</style><dl class=dl-inline><dt>function</dt><dd>&lt;NA&gt;</dd><dt>gradient</dt><dd>&lt;NA&gt;</dd></dl>\n",
       "</dd>\n",
       "\t<dt>$convergence</dt>\n",
       "\t\t<dd>0</dd>\n",
       "\t<dt>$message</dt>\n",
       "\t\t<dd>NULL</dd>\n",
       "</dl>\n"
      ],
      "text/latex": [
       "\\begin{description}\n",
       "\\item[\\$par] 3.91592806113512\n",
       "\\item[\\$value] 7.34057650220166e-08\n",
       "\\item[\\$counts] \\begin{description*}\n",
       "\\item[function] <NA>\n",
       "\\item[gradient] <NA>\n",
       "\\end{description*}\n",
       "\n",
       "\\item[\\$convergence] 0\n",
       "\\item[\\$message] NULL\n",
       "\\end{description}\n"
      ],
      "text/markdown": [
       "$par\n",
       ":   3.91592806113512\n",
       "$value\n",
       ":   7.34057650220166e-08\n",
       "$counts\n",
       ":   function\n",
       ":   &lt;NA&gt;gradient\n",
       ":   &lt;NA&gt;\n",
       "\n",
       "\n",
       "$convergence\n",
       ":   0\n",
       "$message\n",
       ":   NULL\n",
       "\n",
       "\n"
      ],
      "text/plain": [
       "$par\n",
       "[1] 3.915928\n",
       "\n",
       "$value\n",
       "[1] 7.340577e-08\n",
       "\n",
       "$counts\n",
       "function gradient \n",
       "      NA       NA \n",
       "\n",
       "$convergence\n",
       "[1] 0\n",
       "\n",
       "$message\n",
       "NULL\n"
      ]
     },
     "metadata": {},
     "output_type": "display_data"
    }
   ],
   "source": [
    "for (sim in 2:simulations){\n",
    "    \n",
    "}\n"
   ]
  }
 ],
 "metadata": {
  "kernelspec": {
   "display_name": "R",
   "language": "R",
   "name": "ir"
  },
  "language_info": {
   "codemirror_mode": "r",
   "file_extension": ".r",
   "mimetype": "text/x-r-source",
   "name": "R",
   "pygments_lexer": "r",
   "version": "3.6.1"
  }
 },
 "nbformat": 4,
 "nbformat_minor": 5
}
