{
 "cells": [
  {
   "cell_type": "code",
   "execution_count": 1,
   "id": "f0afcc4e-e98c-48ad-b51f-f6dc2b1c3226",
   "metadata": {},
   "outputs": [
    {
     "name": "stderr",
     "output_type": "stream",
     "text": [
      "Warning message:\n",
      "\"package 'readxl' was built under R version 3.6.3\""
     ]
    }
   ],
   "source": [
    "library(\"readxl\")"
   ]
  },
  {
   "cell_type": "code",
   "execution_count": 2,
   "id": "d18f324a-67d1-44be-aae4-6da1209ff9c8",
   "metadata": {},
   "outputs": [
    {
     "name": "stderr",
     "output_type": "stream",
     "text": [
      "Warning message:\n",
      "\"package 'lubridate' was built under R version 3.6.3\"\n",
      "Attaching package: 'lubridate'\n",
      "\n",
      "The following objects are masked from 'package:base':\n",
      "\n",
      "    date, intersect, setdiff, union\n",
      "\n",
      "Warning message:\n",
      "\"package 'tidyr' was built under R version 3.6.3\""
     ]
    }
   ],
   "source": [
    "library(\"lubridate\")\n",
    "library('tidyr')\n",
    "library('ggplot2')"
   ]
  },
  {
   "cell_type": "code",
   "execution_count": 3,
   "id": "fd9a067d-bee2-44b6-97f5-5b0a841eacab",
   "metadata": {},
   "outputs": [
    {
     "data": {
      "text/html": [
       "<style>\n",
       ".list-inline {list-style: none; margin:0; padding: 0}\n",
       ".list-inline>li {display: inline-block}\n",
       ".list-inline>li:not(:last-child)::after {content: \"\\00b7\"; padding: 0 .5ex}\n",
       "</style>\n",
       "<ol class=list-inline><li>'.GlobalEnv'</li><li>'package:ggplot2'</li><li>'package:tidyr'</li><li>'package:lubridate'</li><li>'package:readxl'</li><li>'jupyter:irkernel'</li><li>'jupyter:irkernel'</li><li>'package:stats'</li><li>'package:graphics'</li><li>'package:grDevices'</li><li>'package:utils'</li><li>'package:datasets'</li><li>'package:methods'</li><li>'Autoloads'</li><li>'package:base'</li></ol>\n"
      ],
      "text/latex": [
       "\\begin{enumerate*}\n",
       "\\item '.GlobalEnv'\n",
       "\\item 'package:ggplot2'\n",
       "\\item 'package:tidyr'\n",
       "\\item 'package:lubridate'\n",
       "\\item 'package:readxl'\n",
       "\\item 'jupyter:irkernel'\n",
       "\\item 'jupyter:irkernel'\n",
       "\\item 'package:stats'\n",
       "\\item 'package:graphics'\n",
       "\\item 'package:grDevices'\n",
       "\\item 'package:utils'\n",
       "\\item 'package:datasets'\n",
       "\\item 'package:methods'\n",
       "\\item 'Autoloads'\n",
       "\\item 'package:base'\n",
       "\\end{enumerate*}\n"
      ],
      "text/markdown": [
       "1. '.GlobalEnv'\n",
       "2. 'package:ggplot2'\n",
       "3. 'package:tidyr'\n",
       "4. 'package:lubridate'\n",
       "5. 'package:readxl'\n",
       "6. 'jupyter:irkernel'\n",
       "7. 'jupyter:irkernel'\n",
       "8. 'package:stats'\n",
       "9. 'package:graphics'\n",
       "10. 'package:grDevices'\n",
       "11. 'package:utils'\n",
       "12. 'package:datasets'\n",
       "13. 'package:methods'\n",
       "14. 'Autoloads'\n",
       "15. 'package:base'\n",
       "\n",
       "\n"
      ],
      "text/plain": [
       " [1] \".GlobalEnv\"        \"package:ggplot2\"   \"package:tidyr\"    \n",
       " [4] \"package:lubridate\" \"package:readxl\"    \"jupyter:irkernel\" \n",
       " [7] \"jupyter:irkernel\"  \"package:stats\"     \"package:graphics\" \n",
       "[10] \"package:grDevices\" \"package:utils\"     \"package:datasets\" \n",
       "[13] \"package:methods\"   \"Autoloads\"         \"package:base\"     "
      ]
     },
     "metadata": {},
     "output_type": "display_data"
    }
   ],
   "source": [
    "search()"
   ]
  },
  {
   "cell_type": "code",
   "execution_count": 4,
   "id": "5ba0a704-f05a-4a5f-a80e-2af93790495f",
   "metadata": {},
   "outputs": [],
   "source": [
    "source(\"helpers.R\")"
   ]
  },
  {
   "cell_type": "code",
   "execution_count": 5,
   "id": "9f0daf38-b921-4bb5-8ae8-d7111b9c9888",
   "metadata": {},
   "outputs": [],
   "source": [
    "path <- \"../data/data.xlsx\""
   ]
  },
  {
   "cell_type": "code",
   "execution_count": 6,
   "id": "1273d7c3-de1a-4dd6-92b4-ac589352aecd",
   "metadata": {},
   "outputs": [],
   "source": [
    "df <- Dataframing(path)"
   ]
  },
  {
   "cell_type": "code",
   "execution_count": 7,
   "id": "4301fc67-fb5d-4370-9e65-45a7b97fb714",
   "metadata": {},
   "outputs": [],
   "source": [
    "df <- df[-c(210),]"
   ]
  },
  {
   "cell_type": "code",
   "execution_count": 8,
   "id": "fbe01fa1-e480-4471-b334-0c3f9b8d8bbe",
   "metadata": {},
   "outputs": [],
   "source": [
    "df$Date <- as.Date(df$Date)"
   ]
  },
  {
   "cell_type": "code",
   "execution_count": 9,
   "id": "4b94c154-5d47-4cc6-b0eb-6a950de33181",
   "metadata": {},
   "outputs": [],
   "source": [
    "firstYields <- df[df$Date == \"2022-02-11\",]"
   ]
  },
  {
   "cell_type": "code",
   "execution_count": 10,
   "id": "7086da3b-8eb5-4aef-bd27-988ebcf96117",
   "metadata": {},
   "outputs": [
    {
     "data": {
      "text/html": [
       "<table class=\"dataframe\">\n",
       "<caption>A data.frame: 1 × 9</caption>\n",
       "<thead>\n",
       "\t<tr><th></th><th scope=col>Date</th><th scope=col>10Y</th><th scope=col>7Y</th><th scope=col>5Y</th><th scope=col>3Y</th><th scope=col>2Y</th><th scope=col>1Y</th><th scope=col>6M</th><th scope=col>3M</th></tr>\n",
       "\t<tr><th></th><th scope=col>&lt;date&gt;</th><th scope=col>&lt;dbl&gt;</th><th scope=col>&lt;dbl&gt;</th><th scope=col>&lt;dbl&gt;</th><th scope=col>&lt;dbl&gt;</th><th scope=col>&lt;dbl&gt;</th><th scope=col>&lt;dbl&gt;</th><th scope=col>&lt;dbl&gt;</th><th scope=col>&lt;dbl&gt;</th></tr>\n",
       "</thead>\n",
       "<tbody>\n",
       "\t<tr><th scope=row>209</th><td>2022-02-11</td><td>1.941</td><td>1.94</td><td>1.856</td><td>1.728</td><td>1.505</td><td>1.029</td><td>0.692</td><td>0.359</td></tr>\n",
       "</tbody>\n",
       "</table>\n"
      ],
      "text/latex": [
       "A data.frame: 1 × 9\n",
       "\\begin{tabular}{r|lllllllll}\n",
       "  & Date & 10Y & 7Y & 5Y & 3Y & 2Y & 1Y & 6M & 3M\\\\\n",
       "  & <date> & <dbl> & <dbl> & <dbl> & <dbl> & <dbl> & <dbl> & <dbl> & <dbl>\\\\\n",
       "\\hline\n",
       "\t209 & 2022-02-11 & 1.941 & 1.94 & 1.856 & 1.728 & 1.505 & 1.029 & 0.692 & 0.359\\\\\n",
       "\\end{tabular}\n"
      ],
      "text/markdown": [
       "\n",
       "A data.frame: 1 × 9\n",
       "\n",
       "| <!--/--> | Date &lt;date&gt; | 10Y &lt;dbl&gt; | 7Y &lt;dbl&gt; | 5Y &lt;dbl&gt; | 3Y &lt;dbl&gt; | 2Y &lt;dbl&gt; | 1Y &lt;dbl&gt; | 6M &lt;dbl&gt; | 3M &lt;dbl&gt; |\n",
       "|---|---|---|---|---|---|---|---|---|---|\n",
       "| 209 | 2022-02-11 | 1.941 | 1.94 | 1.856 | 1.728 | 1.505 | 1.029 | 0.692 | 0.359 |\n",
       "\n"
      ],
      "text/plain": [
       "    Date       10Y   7Y   5Y    3Y    2Y    1Y    6M    3M   \n",
       "209 2022-02-11 1.941 1.94 1.856 1.728 1.505 1.029 0.692 0.359"
      ]
     },
     "metadata": {},
     "output_type": "display_data"
    }
   ],
   "source": [
    "firstYields"
   ]
  },
  {
   "cell_type": "markdown",
   "id": "9bb11ce8-5322-4e8d-94e3-24b70e8f874c",
   "metadata": {
    "tags": []
   },
   "source": [
    "#### Suponemos que: \n",
    "- $\\alpha_1$ representa la tasa forward entre 0 y 3 meses, \n",
    "- $\\alpha_2$ la tasa entre 3 meses y 1 año, \n",
    "- $\\alpha_3$ la tasa entre 1 y 3 años,\n",
    "- $\\alpha_4$ la tasa entre 3 y 5 años ,\n",
    "- $\\alpha_5$ la tasa entre 5 y 10 años. "
   ]
  },
  {
   "cell_type": "code",
   "execution_count": 11,
   "id": "2c2988b4-ca5a-4939-9c90-284a99ca4a24",
   "metadata": {},
   "outputs": [],
   "source": [
    "today <- firstYields$Date"
   ]
  },
  {
   "cell_type": "markdown",
   "id": "6332eca6-4725-4f2d-bc1f-b9a870a66bb4",
   "metadata": {
    "jp-MarkdownHeadingCollapsed": true,
    "tags": []
   },
   "source": [
    "#### Además, para traer a valor presente usando una curva forward, se sigue el factor de descuento a un plazo T es: "
   ]
  },
  {
   "cell_type": "markdown",
   "id": "9bae4002-2617-48f6-b0de-9ae6c48409ae",
   "metadata": {},
   "source": [
    "### $$ e^{-\\int_{0}^{T} f(t) \\,dt}$$"
   ]
  },
  {
   "cell_type": "markdown",
   "id": "28e8e0a4-27ee-497a-bdc5-754c4fd9956a",
   "metadata": {},
   "source": [
    "#### Definamos algunos objetos de utilidad. Cuántos cupones paga cada bono? Cómo ajustamos la tasa para cada pago?"
   ]
  },
  {
   "cell_type": "code",
   "execution_count": 12,
   "id": "6b2d359a-d534-45da-80f3-5b59d853b3eb",
   "metadata": {},
   "outputs": [],
   "source": [
    "alpha <- c(0.1,0.11,0.12,0.13,0.14)"
   ]
  },
  {
   "cell_type": "code",
   "execution_count": 13,
   "id": "81f5e08e-ea9d-4eb5-b77b-d3c0b97a53c1",
   "metadata": {},
   "outputs": [
    {
     "data": {
      "text/html": [
       "<style>\n",
       ".list-inline {list-style: none; margin:0; padding: 0}\n",
       ".list-inline>li {display: inline-block}\n",
       ".list-inline>li:not(:last-child)::after {content: \"\\00b7\"; padding: 0 .5ex}\n",
       "</style>\n",
       "<ol class=list-inline><li>0.1</li><li>0.11</li><li>0.12</li><li>0.13</li><li>0.14</li></ol>\n"
      ],
      "text/latex": [
       "\\begin{enumerate*}\n",
       "\\item 0.1\n",
       "\\item 0.11\n",
       "\\item 0.12\n",
       "\\item 0.13\n",
       "\\item 0.14\n",
       "\\end{enumerate*}\n"
      ],
      "text/markdown": [
       "1. 0.1\n",
       "2. 0.11\n",
       "3. 0.12\n",
       "4. 0.13\n",
       "5. 0.14\n",
       "\n",
       "\n"
      ],
      "text/plain": [
       "[1] 0.10 0.11 0.12 0.13 0.14"
      ]
     },
     "metadata": {},
     "output_type": "display_data"
    },
    {
     "data": {
      "image/png": "[encoded data removed]",
      "text/plain": [
       "Plot with title \"Alphas iniciales\""
      ]
     },
     "metadata": {},
     "output_type": "display_data"
    }
   ],
   "source": [
    "alpha\n",
    "xx <- c(1:120)\n",
    "aa <- alphacuts(alpha)\n",
    "plot(xx,aa, type= \"p\",\n",
    "            pch=22, \n",
    "            bg = \"navy\", \n",
    "            col = \"navy\", \n",
    "            main= \"Alphas iniciales\", \n",
    "            xlab = \"Meses\", \n",
    "            ylab = \"Alphas\")"
   ]
  },
  {
   "cell_type": "code",
   "execution_count": 14,
   "id": "59e4a6f7-faa9-4487-924f-d0ae2183bae8",
   "metadata": {},
   "outputs": [],
   "source": [
    "today = firstYields$Date"
   ]
  },
  {
   "cell_type": "code",
   "execution_count": 15,
   "id": "c70ad683-f043-40a1-8c79-c2b252a180c3",
   "metadata": {},
   "outputs": [
    {
     "data": {
      "text/html": [
       "100.086561463887"
      ],
      "text/latex": [
       "100.086561463887"
      ],
      "text/markdown": [
       "100.086561463887"
      ],
      "text/plain": [
       "[1] 100.0866"
      ]
     },
     "metadata": {},
     "output_type": "display_data"
    },
    {
     "data": {
      "text/html": [
       "0.0887527777777778"
      ],
      "text/latex": [
       "0.0887527777777778"
      ],
      "text/markdown": [
       "0.0887527777777778"
      ],
      "text/plain": [
       "[1] 0.08875278"
      ]
     },
     "metadata": {},
     "output_type": "display_data"
    },
    {
     "data": {
      "text/html": [
       "0.0887527777777778"
      ],
      "text/latex": [
       "0.0887527777777778"
      ],
      "text/markdown": [
       "0.0887527777777778"
      ],
      "text/plain": [
       "[1] 0.08875278"
      ]
     },
     "metadata": {},
     "output_type": "display_data"
    },
    {
     "data": {
      "text/html": [
       "1.04329166666667"
      ],
      "text/latex": [
       "1.04329166666667"
      ],
      "text/markdown": [
       "1.04329166666667"
      ],
      "text/plain": [
       "[1] 1.043292"
      ]
     },
     "metadata": {},
     "output_type": "display_data"
    }
   ],
   "source": [
    "threeMonthBond <- 100 + RateConverter(firstYields[[\"3M\"]],3,today)*DiscountFactor(alpha, 3)\n",
    "threeMonthBond\n",
    "RateConverter(firstYields[[\"3M\"]],3,today)\n",
    "RateConverter(0.359,3,today)\n",
    "RateConverter(firstYields[[\"1Y\"]],12,today)\n"
   ]
  },
  {
   "cell_type": "code",
   "execution_count": 16,
   "id": "49fcd4d8-e5f0-4a20-a6be-c88a6824e404",
   "metadata": {},
   "outputs": [],
   "source": [
    "sixMonthBond <- 100 + RateConverter(firstYields[[\"6M\"]], 6, today)*DiscountFactor(alpha, 6)"
   ]
  },
  {
   "cell_type": "code",
   "execution_count": 17,
   "id": "9be5d8b6-9a81-4afc-8886-3a0d41b3ec35",
   "metadata": {},
   "outputs": [
    {
     "data": {
      "text/html": [
       "100.330127503947"
      ],
      "text/latex": [
       "100.330127503947"
      ],
      "text/markdown": [
       "100.330127503947"
      ],
      "text/plain": [
       "[1] 100.3301"
      ]
     },
     "metadata": {},
     "output_type": "display_data"
    }
   ],
   "source": [
    "sixMonthBond"
   ]
  },
  {
   "cell_type": "code",
   "execution_count": 18,
   "id": "daf01f17-8f1a-4914-aaf2-f1e0a94d5b88",
   "metadata": {},
   "outputs": [],
   "source": [
    "oneYearBond <- 100 +  RateConverter(firstYields[[\"1Y\"]], 6, today) *DiscountFactor(alpha, 6) + RateConverter(firstYields[[\"1Y\"]], 12, today)*DiscountFactor(alpha, 12)"
   ]
  },
  {
   "cell_type": "code",
   "execution_count": 19,
   "id": "9c98ba37-727e-49ea-afa2-0bd47f372468",
   "metadata": {},
   "outputs": [
    {
     "data": {
      "text/html": [
       "101.427853442019"
      ],
      "text/latex": [
       "101.427853442019"
      ],
      "text/markdown": [
       "101.427853442019"
      ],
      "text/plain": [
       "[1] 101.4279"
      ]
     },
     "metadata": {},
     "output_type": "display_data"
    }
   ],
   "source": [
    "oneYearBond"
   ]
  },
  {
   "cell_type": "code",
   "execution_count": 20,
   "id": "96e3f441-d8d9-45b8-acb7-729870b91fdc",
   "metadata": {},
   "outputs": [],
   "source": [
    "maturity<- 36"
   ]
  },
  {
   "cell_type": "code",
   "execution_count": 21,
   "id": "8e363417-8362-44e5-93bd-73a14c0f09c2",
   "metadata": {},
   "outputs": [],
   "source": [
    "periods <- seq(6, maturity, 6)"
   ]
  },
  {
   "cell_type": "code",
   "execution_count": 22,
   "id": "af2e17af-7784-482b-b5c0-b86a49bb7b7e",
   "metadata": {},
   "outputs": [
    {
     "data": {
      "text/html": [
       "100.086561463887"
      ],
      "text/latex": [
       "100.086561463887"
      ],
      "text/markdown": [
       "100.086561463887"
      ],
      "text/plain": [
       "[1] 100.0866"
      ]
     },
     "metadata": {},
     "output_type": "display_data"
    }
   ],
   "source": [
    "threeMonthBond"
   ]
  },
  {
   "cell_type": "markdown",
   "metadata": {},
   "source": [
    "Recordemos que cada pago está dado por :  \n",
    "\n",
    "$$\\$100\\times R \\times \\frac{ACT}{360}$$"
   ]
  },
  {
   "cell_type": "code",
   "execution_count": 23,
   "id": "55ec8d82-c8eb-4cc3-b192-56ce7e3cd55a",
   "metadata": {},
   "outputs": [],
   "source": [
    "singleBondPayment <- function(maturity, yield, alpha, today){\n",
    "    return (RateConverter(yield, maturity,today)*DiscountFactor(alpha, maturity))\n",
    "}"
   ]
  },
  {
   "cell_type": "code",
   "execution_count": 24,
   "id": "50ca64bd-641b-49e6-9862-25920a4de86a",
   "metadata": {},
   "outputs": [
    {
     "data": {
      "text/html": [
       "5.32615460036447"
      ],
      "text/latex": [
       "5.32615460036447"
      ],
      "text/markdown": [
       "5.32615460036447"
      ],
      "text/plain": [
       "[1] 5.326155"
      ]
     },
     "metadata": {},
     "output_type": "display_data"
    },
    {
     "data": {
      "text/html": [
       "1.941"
      ],
      "text/latex": [
       "1.941"
      ],
      "text/markdown": [
       "1.941"
      ],
      "text/plain": [
       "[1] 1.941"
      ]
     },
     "metadata": {},
     "output_type": "display_data"
    }
   ],
   "source": [
    "singleBondPayment(120,firstYields[[\"10Y\"]], alpha, today)\n",
    "firstYields[[\"10Y\"]]"
   ]
  },
  {
   "cell_type": "code",
   "execution_count": 25,
   "id": "ce498c1e-5ec0-487f-9ec2-d9a32b077f61",
   "metadata": {},
   "outputs": [],
   "source": [
    "yieldList <- list(firstYields)"
   ]
  },
  {
   "cell_type": "code",
   "execution_count": 26,
   "id": "c504d27d-c7d9-459b-92bc-989981ea5db8",
   "metadata": {},
   "outputs": [],
   "source": [
    "nombres <- colnames(firstYields)"
   ]
  },
  {
   "cell_type": "code",
   "execution_count": 27,
   "id": "8d12a55e-80db-4d9b-9d63-6d4fee00e44f",
   "metadata": {},
   "outputs": [],
   "source": [
    "nombres <- nombres[-1]"
   ]
  },
  {
   "cell_type": "code",
   "execution_count": 28,
   "id": "d7231767-3339-4bc2-a79f-118be492db4f",
   "metadata": {},
   "outputs": [
    {
     "data": {
      "text/html": [
       "<style>\n",
       ".list-inline {list-style: none; margin:0; padding: 0}\n",
       ".list-inline>li {display: inline-block}\n",
       ".list-inline>li:not(:last-child)::after {content: \"\\00b7\"; padding: 0 .5ex}\n",
       "</style>\n",
       "<ol class=list-inline><li>'10Y'</li><li>'7Y'</li><li>'5Y'</li><li>'3Y'</li><li>'2Y'</li><li>'1Y'</li><li>'6M'</li><li>'3M'</li></ol>\n"
      ],
      "text/latex": [
       "\\begin{enumerate*}\n",
       "\\item '10Y'\n",
       "\\item '7Y'\n",
       "\\item '5Y'\n",
       "\\item '3Y'\n",
       "\\item '2Y'\n",
       "\\item '1Y'\n",
       "\\item '6M'\n",
       "\\item '3M'\n",
       "\\end{enumerate*}\n"
      ],
      "text/markdown": [
       "1. '10Y'\n",
       "2. '7Y'\n",
       "3. '5Y'\n",
       "4. '3Y'\n",
       "5. '2Y'\n",
       "6. '1Y'\n",
       "7. '6M'\n",
       "8. '3M'\n",
       "\n",
       "\n"
      ],
      "text/plain": [
       "[1] \"10Y\" \"7Y\"  \"5Y\"  \"3Y\"  \"2Y\"  \"1Y\"  \"6M\"  \"3M\" "
      ]
     },
     "metadata": {},
     "output_type": "display_data"
    }
   ],
   "source": [
    "nombres"
   ]
  },
  {
   "cell_type": "code",
   "execution_count": 29,
   "id": "cb1dbc36-9b49-4b39-8d74-b7ae078b89d2",
   "metadata": {},
   "outputs": [],
   "source": [
    "nombres <- as.list(nombres)"
   ]
  },
  {
   "cell_type": "code",
   "execution_count": 30,
   "id": "7ae67d55-2043-4beb-81c1-cd95a63c9ffe",
   "metadata": {},
   "outputs": [],
   "source": [
    "names(nombres) <- c(120,84,60,36,24,12,6,3) "
   ]
  },
  {
   "cell_type": "code",
   "execution_count": 31,
   "id": "f6812e41-02f5-43be-8f93-d2270415c6c8",
   "metadata": {},
   "outputs": [],
   "source": [
    "BondValue <- function (today, maturity, yieldlist,alpha ){\n",
    "    if (maturity == 3){\n",
    "        return (100*DiscountFactor(alpha, maturity) + singleBondPayment(3,yieldlist[[\"3M\"]], alpha, today))\n",
    "        }\n",
    "    setter <- as.character(maturity)\n",
    "    periods <- seq(6, maturity, 6)\n",
    "    bondSum <- sum(unlist(lapply(periods, function(x) singleBondPayment(x, yield = yieldlist[[nombres[[setter]]]],  alpha = alpha, today = today))))\n",
    "    return(bondSum +100*DiscountFactor(alpha, maturity))\n",
    "}\n",
    "\n"
   ]
  },
  {
   "cell_type": "code",
   "execution_count": 32,
   "id": "e115c3d4-be49-46e5-8e11-3f9ef159fb8c",
   "metadata": {},
   "outputs": [
    {
     "data": {
      "text/html": [
       "118.752228701085"
      ],
      "text/latex": [
       "118.752228701085"
      ],
      "text/markdown": [
       "118.752228701085"
      ],
      "text/plain": [
       "[1] 118.7522"
      ]
     },
     "metadata": {},
     "output_type": "display_data"
    }
   ],
   "source": [
    "BondValue(today, 120, firstYields, alpha)"
   ]
  },
  {
   "cell_type": "code",
   "execution_count": 33,
   "id": "a02e0b57-dea3-4c91-9c7d-3af12d4cdacd",
   "metadata": {},
   "outputs": [],
   "source": [
    "maturities <- c(120,84,60,36,24,12,6,3) "
   ]
  },
  {
   "cell_type": "code",
   "execution_count": 34,
   "id": "c12697eb-70c7-41cb-a52c-b9e0c43eae60",
   "metadata": {},
   "outputs": [],
   "source": [
    "alpha <- c(0.00343, 0.0105, 0.0817, 0.1598, 0.2744)\n",
    "bondValues <- list()\n",
    "for (i in maturities){\n",
    "    bondValues <- append(bondValues, BondValue(today, i, firstYields, alpha))\n",
    "}"
   ]
  },
  {
   "cell_type": "code",
   "execution_count": 35,
   "id": "e09def6e-e88a-447e-ab5c-7a7417b38b47",
   "metadata": {},
   "outputs": [
    {
     "data": {
      "text/html": [
       "<ol>\n",
       "\t<li>101.010037917866</li>\n",
       "\t<li>98.1058377409083</li>\n",
       "\t<li>100.835900758918</li>\n",
       "\t<li>100.752283024266</li>\n",
       "\t<li>98.5803867387196</li>\n",
       "\t<li>100.680332305568</li>\n",
       "\t<li>99.9990683774099</li>\n",
       "\t<li>100.002963459698</li>\n",
       "</ol>\n"
      ],
      "text/latex": [
       "\\begin{enumerate}\n",
       "\\item 101.010037917866\n",
       "\\item 98.1058377409083\n",
       "\\item 100.835900758918\n",
       "\\item 100.752283024266\n",
       "\\item 98.5803867387196\n",
       "\\item 100.680332305568\n",
       "\\item 99.9990683774099\n",
       "\\item 100.002963459698\n",
       "\\end{enumerate}\n"
      ],
      "text/markdown": [
       "1. 101.010037917866\n",
       "2. 98.1058377409083\n",
       "3. 100.835900758918\n",
       "4. 100.752283024266\n",
       "5. 98.5803867387196\n",
       "6. 100.680332305568\n",
       "7. 99.9990683774099\n",
       "8. 100.002963459698\n",
       "\n",
       "\n"
      ],
      "text/plain": [
       "[[1]]\n",
       "[1] 101.01\n",
       "\n",
       "[[2]]\n",
       "[1] 98.10584\n",
       "\n",
       "[[3]]\n",
       "[1] 100.8359\n",
       "\n",
       "[[4]]\n",
       "[1] 100.7523\n",
       "\n",
       "[[5]]\n",
       "[1] 98.58039\n",
       "\n",
       "[[6]]\n",
       "[1] 100.6803\n",
       "\n",
       "[[7]]\n",
       "[1] 99.99907\n",
       "\n",
       "[[8]]\n",
       "[1] 100.003\n"
      ]
     },
     "metadata": {},
     "output_type": "display_data"
    }
   ],
   "source": [
    "bondValues"
   ]
  },
  {
   "cell_type": "code",
   "execution_count": 36,
   "id": "58a47576-09dd-44a6-9d58-47053a7f21fe",
   "metadata": {},
   "outputs": [
    {
     "data": {
      "text/html": [
       "8.35085059427034"
      ],
      "text/latex": [
       "8.35085059427034"
      ],
      "text/markdown": [
       "8.35085059427034"
      ],
      "text/plain": [
       "[1] 8.350851"
      ]
     },
     "metadata": {},
     "output_type": "display_data"
    }
   ],
   "source": [
    "error <-function(alpha){\n",
    "    maturities <- c(3,6,12,24,36,60,84,120) \n",
    "    bondValues <- list()\n",
    "    for (i in maturities){\n",
    "        bondValues <- append(bondValues, BondValue(today, i, firstYields, alpha))\n",
    "    }\n",
    "    error <- sum((unlist(bondValues)-100)**2)\n",
    "    return (error)\n",
    "}\n",
    "\n",
    "error(alpha)"
   ]
  },
  {
   "cell_type": "code",
   "execution_count": 37,
   "id": "a40166af-e090-43ee-bc10-27c225afcea5",
   "metadata": {},
   "outputs": [],
   "source": [
    "opt <- optim(alpha, error, lower = 0, upper= 1, method = \"L-BFGS-B\")"
   ]
  },
  {
   "cell_type": "code",
   "execution_count": 38,
   "id": "329fea40",
   "metadata": {},
   "outputs": [
    {
     "data": {
      "image/png": "[encoded data removed]",
      "text/plain": [
       "Plot with title \"Alphas óptimos\""
      ]
     },
     "metadata": {},
     "output_type": "display_data"
    }
   ],
   "source": [
    "alpha <- opt$par\n",
    "\n",
    "xx <- c(1:120)\n",
    "aa <- alphacuts(alpha)\n",
    "plot(xx,aa, type= \"p\",\n",
    "            pch=22, \n",
    "            bg = \"maroon\", \n",
    "            col = \"maroon\", \n",
    "            main= \"Alphas óptimos\", \n",
    "            xlab = \"Meses\", \n",
    "            ylab = \"Alphas\")"
   ]
  },
  {
   "cell_type": "markdown",
   "id": "c52edb93",
   "metadata": {},
   "source": [
    "Valoración de bono de 7 años"
   ]
  },
  {
   "cell_type": "code",
   "execution_count": 39,
   "id": "5c82c495",
   "metadata": {},
   "outputs": [
    {
     "data": {
      "text/html": [
       "67.3264903246906"
      ],
      "text/latex": [
       "67.3264903246906"
      ],
      "text/markdown": [
       "67.3264903246906"
      ],
      "text/plain": [
       "[1] 67.32649"
      ]
     },
     "metadata": {},
     "output_type": "display_data"
    },
    {
     "data": {
      "text/html": [
       "<dl>\n",
       "\t<dt>$par</dt>\n",
       "\t\t<dd>3.83535856210417</dd>\n",
       "\t<dt>$value</dt>\n",
       "\t\t<dd>3.04793928762592e-07</dd>\n",
       "\t<dt>$counts</dt>\n",
       "\t\t<dd><style>\n",
       ".dl-inline {width: auto; margin:0; padding: 0}\n",
       ".dl-inline>dt, .dl-inline>dd {float: none; width: auto; display: inline-block}\n",
       ".dl-inline>dt::after {content: \":\\0020\"; padding-right: .5ex}\n",
       ".dl-inline>dt:not(:first-of-type) {padding-left: .5ex}\n",
       "</style><dl class=dl-inline><dt>function</dt><dd>&lt;NA&gt;</dd><dt>gradient</dt><dd>&lt;NA&gt;</dd></dl>\n",
       "</dd>\n",
       "\t<dt>$convergence</dt>\n",
       "\t\t<dd>0</dd>\n",
       "\t<dt>$message</dt>\n",
       "\t\t<dd>NULL</dd>\n",
       "</dl>\n"
      ],
      "text/latex": [
       "\\begin{description}\n",
       "\\item[\\$par] 3.83535856210417\n",
       "\\item[\\$value] 3.04793928762592e-07\n",
       "\\item[\\$counts] \\begin{description*}\n",
       "\\item[function] <NA>\n",
       "\\item[gradient] <NA>\n",
       "\\end{description*}\n",
       "\n",
       "\\item[\\$convergence] 0\n",
       "\\item[\\$message] NULL\n",
       "\\end{description}\n"
      ],
      "text/markdown": [
       "$par\n",
       ":   3.83535856210417\n",
       "$value\n",
       ":   3.04793928762592e-07\n",
       "$counts\n",
       ":   function\n",
       ":   &lt;NA&gt;gradient\n",
       ":   &lt;NA&gt;\n",
       "\n",
       "\n",
       "$convergence\n",
       ":   0\n",
       "$message\n",
       ":   NULL\n",
       "\n",
       "\n"
      ],
      "text/plain": [
       "$par\n",
       "[1] 3.835359\n",
       "\n",
       "$value\n",
       "[1] 3.047939e-07\n",
       "\n",
       "$counts\n",
       "function gradient \n",
       "      NA       NA \n",
       "\n",
       "$convergence\n",
       "[1] 0\n",
       "\n",
       "$message\n",
       "NULL\n"
      ]
     },
     "metadata": {},
     "output_type": "display_data"
    }
   ],
   "source": [
    "alpha <- opt$par\n",
    "pvnotional <- 100 - DiscountFactor(alpha[4], 84)*100\n",
    "pvnotional\n",
    "couponsum <- function (c){\n",
    "pvcoupon <- DiscountFactor(alpha[2], 12)*RateConverter(c, 12,today) + DiscountFactor(alpha[2], 24)*RateConverter(c,24,today) +\n",
    " DiscountFactor(alpha[3], 36)*RateConverter(c, 36,today) +DiscountFactor(alpha[3], 48)*RateConverter(c, 48,today) +\n",
    " DiscountFactor(alpha[4], 60)*RateConverter(c, 60,today) + DiscountFactor(alpha[4], 72)*RateConverter(c, 72,today) +  \n",
    " DiscountFactor(alpha[4], 84)*RateConverter(c, 84,today) + DiscountFactor(alpha[4], 84)*RateConverter(c, 84,today)\n",
    " result <-pvnotional- pvcoupon\n",
    "    if (result <0){\n",
    "        return (500)\n",
    "    }\n",
    "    else {\n",
    "        return (pvnotional- pvcoupon)\n",
    "    }\n",
    "    \n",
    "}\n",
    "\n",
    "opti <- optim(c,couponsum,lower = 0, upper=10,  method = \"Brent\")\n",
    "opti\n"
   ]
  },
  {
   "cell_type": "markdown",
   "id": "a0ac085d",
   "metadata": {},
   "source": [
    "Matriz de curvas 3 años en el pasado"
   ]
  },
  {
   "cell_type": "code",
   "execution_count": 40,
   "id": "f154bbc5",
   "metadata": {},
   "outputs": [],
   "source": [
    "\n",
    "matAlphas <- list()\n",
    "df <- df[(nrow(df)-52):nrow(df),]\n",
    "for ( r in 1:nrow(df)){ \n",
    "    firstYields <- df[r,]\n",
    "    today <- firstYields$Date\n",
    "    alpha <- opt$par\n",
    "    opt <- optim(alpha, error, lower = 0, upper= 1, method = \"L-BFGS-B\")\n",
    "    matAlphas <- append(matAlphas, list(opt$par))\n",
    "}"
   ]
  },
  {
   "cell_type": "code",
   "execution_count": 41,
   "id": "6c7c98be",
   "metadata": {},
   "outputs": [
    {
     "data": {
      "text/html": [
       "<table class=\"dataframe\">\n",
       "<caption>A matrix: 53 × 5 of type dbl</caption>\n",
       "<tbody>\n",
       "\t<tr><td>0.000000000</td><td>0.000000000</td><td>0.009312709</td><td>0.04486965</td><td>0.2365507</td></tr>\n",
       "\t<tr><td>0.000000000</td><td>0.000000000</td><td>0.009787633</td><td>0.05733569</td><td>0.2604221</td></tr>\n",
       "\t<tr><td>0.000000000</td><td>0.000000000</td><td>0.012833240</td><td>0.07911961</td><td>0.2640022</td></tr>\n",
       "\t<tr><td>0.000000000</td><td>0.000000000</td><td>0.014269372</td><td>0.08674187</td><td>0.2976020</td></tr>\n",
       "\t<tr><td>0.000000000</td><td>0.000000000</td><td>0.015672577</td><td>0.09123075</td><td>0.3079864</td></tr>\n",
       "\t<tr><td>0.000000000</td><td>0.000000000</td><td>0.015304797</td><td>0.09780729</td><td>0.3293061</td></tr>\n",
       "\t<tr><td>0.000000000</td><td>0.000000000</td><td>0.014354814</td><td>0.09691509</td><td>0.3194387</td></tr>\n",
       "\t<tr><td>0.000000000</td><td>0.000000000</td><td>0.017976136</td><td>0.10989688</td><td>0.3196523</td></tr>\n",
       "\t<tr><td>0.000000000</td><td>0.000000000</td><td>0.015554379</td><td>0.09506204</td><td>0.3146129</td></tr>\n",
       "\t<tr><td>0.000000000</td><td>0.000000000</td><td>0.015916496</td><td>0.08995926</td><td>0.2978120</td></tr>\n",
       "\t<tr><td>0.000000000</td><td>0.000000000</td><td>0.015535902</td><td>0.08857109</td><td>0.2940145</td></tr>\n",
       "\t<tr><td>0.000000000</td><td>0.000000000</td><td>0.015431280</td><td>0.09354040</td><td>0.3085382</td></tr>\n",
       "\t<tr><td>0.000000000</td><td>0.000000000</td><td>0.013606288</td><td>0.08422989</td><td>0.3030717</td></tr>\n",
       "\t<tr><td>0.000000000</td><td>0.000000000</td><td>0.015153994</td><td>0.08790480</td><td>0.3118470</td></tr>\n",
       "\t<tr><td>0.000000000</td><td>0.000000000</td><td>0.015254877</td><td>0.08909837</td><td>0.3090743</td></tr>\n",
       "\t<tr><td>0.000000000</td><td>0.000000000</td><td>0.013911729</td><td>0.08778727</td><td>0.3050746</td></tr>\n",
       "\t<tr><td>0.000000000</td><td>0.000000000</td><td>0.014081814</td><td>0.08447770</td><td>0.2963653</td></tr>\n",
       "\t<tr><td>0.000000000</td><td>0.000000000</td><td>0.014390518</td><td>0.07823325</td><td>0.2744864</td></tr>\n",
       "\t<tr><td>0.000000000</td><td>0.000000000</td><td>0.022289511</td><td>0.09054198</td><td>0.2582176</td></tr>\n",
       "\t<tr><td>0.000000000</td><td>0.000000000</td><td>0.022610042</td><td>0.09698375</td><td>0.2745198</td></tr>\n",
       "\t<tr><td>0.000000000</td><td>0.000000000</td><td>0.020799395</td><td>0.08940339</td><td>0.2566007</td></tr>\n",
       "\t<tr><td>0.000000000</td><td>0.000000000</td><td>0.018701305</td><td>0.08083645</td><td>0.2475594</td></tr>\n",
       "\t<tr><td>0.000000000</td><td>0.000000000</td><td>0.020280796</td><td>0.07747000</td><td>0.2318800</td></tr>\n",
       "\t<tr><td>0.000000000</td><td>0.000000000</td><td>0.017706849</td><td>0.07098897</td><td>0.2341790</td></tr>\n",
       "\t<tr><td>0.000000000</td><td>0.000000000</td><td>0.016099782</td><td>0.07046269</td><td>0.2236114</td></tr>\n",
       "\t<tr><td>0.000000000</td><td>0.000000000</td><td>0.019297962</td><td>0.07795338</td><td>0.2343751</td></tr>\n",
       "\t<tr><td>0.000000000</td><td>0.000000000</td><td>0.020225770</td><td>0.07779342</td><td>0.2287603</td></tr>\n",
       "\t<tr><td>0.000000000</td><td>0.000000000</td><td>0.020997190</td><td>0.07846682</td><td>0.2227481</td></tr>\n",
       "\t<tr><td>0.000000000</td><td>0.000000000</td><td>0.019921421</td><td>0.08239390</td><td>0.2338169</td></tr>\n",
       "\t<tr><td>0.000000000</td><td>0.000000000</td><td>0.019179342</td><td>0.08003901</td><td>0.2386560</td></tr>\n",
       "\t<tr><td>0.000000000</td><td>0.000000000</td><td>0.020808040</td><td>0.08325776</td><td>0.2403944</td></tr>\n",
       "\t<tr><td>0.000000000</td><td>0.000000000</td><td>0.022009011</td><td>0.08921386</td><td>0.2411867</td></tr>\n",
       "\t<tr><td>0.000000000</td><td>0.000000000</td><td>0.025422053</td><td>0.09813218</td><td>0.2542260</td></tr>\n",
       "\t<tr><td>0.000000000</td><td>0.000000000</td><td>0.023058796</td><td>0.09814000</td><td>0.2585048</td></tr>\n",
       "\t<tr><td>0.000000000</td><td>0.000000000</td><td>0.027600120</td><td>0.11193160</td><td>0.2824980</td></tr>\n",
       "\t<tr><td>0.000000000</td><td>0.000000000</td><td>0.033185347</td><td>0.11600372</td><td>0.2655215</td></tr>\n",
       "\t<tr><td>0.000000000</td><td>0.000000000</td><td>0.036962456</td><td>0.12168138</td><td>0.2732120</td></tr>\n",
       "\t<tr><td>0.000000000</td><td>0.000000000</td><td>0.036782942</td><td>0.12255977</td><td>0.2558306</td></tr>\n",
       "\t<tr><td>0.000000000</td><td>0.000000000</td><td>0.031750691</td><td>0.10804687</td><td>0.2440405</td></tr>\n",
       "\t<tr><td>0.000000000</td><td>0.000000000</td><td>0.040656186</td><td>0.12243207</td><td>0.2536075</td></tr>\n",
       "\t<tr><td>0.000000000</td><td>0.000000000</td><td>0.041324558</td><td>0.12210991</td><td>0.2501051</td></tr>\n",
       "\t<tr><td>0.000000000</td><td>0.000000000</td><td>0.038877290</td><td>0.11666578</td><td>0.2391670</td></tr>\n",
       "\t<tr><td>0.000000000</td><td>0.000000000</td><td>0.041805403</td><td>0.10989741</td><td>0.2111809</td></tr>\n",
       "\t<tr><td>0.000000000</td><td>0.000000000</td><td>0.048123571</td><td>0.11855937</td><td>0.2319803</td></tr>\n",
       "\t<tr><td>0.000000000</td><td>0.000000000</td><td>0.045131642</td><td>0.11088658</td><td>0.2205850</td></tr>\n",
       "\t<tr><td>0.000000000</td><td>0.000000000</td><td>0.047750589</td><td>0.11709598</td><td>0.2348661</td></tr>\n",
       "\t<tr><td>0.002241266</td><td>0.000000000</td><td>0.047271566</td><td>0.12048090</td><td>0.2369901</td></tr>\n",
       "\t<tr><td>0.001734729</td><td>0.000000000</td><td>0.056796140</td><td>0.14373675</td><td>0.2720822</td></tr>\n",
       "\t<tr><td>0.003365534</td><td>0.000000000</td><td>0.062330936</td><td>0.14552485</td><td>0.2710714</td></tr>\n",
       "\t<tr><td>0.003158899</td><td>0.001645507</td><td>0.062752959</td><td>0.14433164</td><td>0.2646426</td></tr>\n",
       "\t<tr><td>0.001878630</td><td>0.006511445</td><td>0.065922500</td><td>0.14612891</td><td>0.2615835</td></tr>\n",
       "\t<tr><td>0.002474849</td><td>0.008190230</td><td>0.073159976</td><td>0.15892644</td><td>0.2770331</td></tr>\n",
       "\t<tr><td>0.003439548</td><td>0.010531544</td><td>0.081712397</td><td>0.15980056</td><td>0.2744812</td></tr>\n",
       "</tbody>\n",
       "</table>\n"
      ],
      "text/latex": [
       "A matrix: 53 × 5 of type dbl\n",
       "\\begin{tabular}{lllll}\n",
       "\t 0.000000000 & 0.000000000 & 0.009312709 & 0.04486965 & 0.2365507\\\\\n",
       "\t 0.000000000 & 0.000000000 & 0.009787633 & 0.05733569 & 0.2604221\\\\\n",
       "\t 0.000000000 & 0.000000000 & 0.012833240 & 0.07911961 & 0.2640022\\\\\n",
       "\t 0.000000000 & 0.000000000 & 0.014269372 & 0.08674187 & 0.2976020\\\\\n",
       "\t 0.000000000 & 0.000000000 & 0.015672577 & 0.09123075 & 0.3079864\\\\\n",
       "\t 0.000000000 & 0.000000000 & 0.015304797 & 0.09780729 & 0.3293061\\\\\n",
       "\t 0.000000000 & 0.000000000 & 0.014354814 & 0.09691509 & 0.3194387\\\\\n",
       "\t 0.000000000 & 0.000000000 & 0.017976136 & 0.10989688 & 0.3196523\\\\\n",
       "\t 0.000000000 & 0.000000000 & 0.015554379 & 0.09506204 & 0.3146129\\\\\n",
       "\t 0.000000000 & 0.000000000 & 0.015916496 & 0.08995926 & 0.2978120\\\\\n",
       "\t 0.000000000 & 0.000000000 & 0.015535902 & 0.08857109 & 0.2940145\\\\\n",
       "\t 0.000000000 & 0.000000000 & 0.015431280 & 0.09354040 & 0.3085382\\\\\n",
       "\t 0.000000000 & 0.000000000 & 0.013606288 & 0.08422989 & 0.3030717\\\\\n",
       "\t 0.000000000 & 0.000000000 & 0.015153994 & 0.08790480 & 0.3118470\\\\\n",
       "\t 0.000000000 & 0.000000000 & 0.015254877 & 0.08909837 & 0.3090743\\\\\n",
       "\t 0.000000000 & 0.000000000 & 0.013911729 & 0.08778727 & 0.3050746\\\\\n",
       "\t 0.000000000 & 0.000000000 & 0.014081814 & 0.08447770 & 0.2963653\\\\\n",
       "\t 0.000000000 & 0.000000000 & 0.014390518 & 0.07823325 & 0.2744864\\\\\n",
       "\t 0.000000000 & 0.000000000 & 0.022289511 & 0.09054198 & 0.2582176\\\\\n",
       "\t 0.000000000 & 0.000000000 & 0.022610042 & 0.09698375 & 0.2745198\\\\\n",
       "\t 0.000000000 & 0.000000000 & 0.020799395 & 0.08940339 & 0.2566007\\\\\n",
       "\t 0.000000000 & 0.000000000 & 0.018701305 & 0.08083645 & 0.2475594\\\\\n",
       "\t 0.000000000 & 0.000000000 & 0.020280796 & 0.07747000 & 0.2318800\\\\\n",
       "\t 0.000000000 & 0.000000000 & 0.017706849 & 0.07098897 & 0.2341790\\\\\n",
       "\t 0.000000000 & 0.000000000 & 0.016099782 & 0.07046269 & 0.2236114\\\\\n",
       "\t 0.000000000 & 0.000000000 & 0.019297962 & 0.07795338 & 0.2343751\\\\\n",
       "\t 0.000000000 & 0.000000000 & 0.020225770 & 0.07779342 & 0.2287603\\\\\n",
       "\t 0.000000000 & 0.000000000 & 0.020997190 & 0.07846682 & 0.2227481\\\\\n",
       "\t 0.000000000 & 0.000000000 & 0.019921421 & 0.08239390 & 0.2338169\\\\\n",
       "\t 0.000000000 & 0.000000000 & 0.019179342 & 0.08003901 & 0.2386560\\\\\n",
       "\t 0.000000000 & 0.000000000 & 0.020808040 & 0.08325776 & 0.2403944\\\\\n",
       "\t 0.000000000 & 0.000000000 & 0.022009011 & 0.08921386 & 0.2411867\\\\\n",
       "\t 0.000000000 & 0.000000000 & 0.025422053 & 0.09813218 & 0.2542260\\\\\n",
       "\t 0.000000000 & 0.000000000 & 0.023058796 & 0.09814000 & 0.2585048\\\\\n",
       "\t 0.000000000 & 0.000000000 & 0.027600120 & 0.11193160 & 0.2824980\\\\\n",
       "\t 0.000000000 & 0.000000000 & 0.033185347 & 0.11600372 & 0.2655215\\\\\n",
       "\t 0.000000000 & 0.000000000 & 0.036962456 & 0.12168138 & 0.2732120\\\\\n",
       "\t 0.000000000 & 0.000000000 & 0.036782942 & 0.12255977 & 0.2558306\\\\\n",
       "\t 0.000000000 & 0.000000000 & 0.031750691 & 0.10804687 & 0.2440405\\\\\n",
       "\t 0.000000000 & 0.000000000 & 0.040656186 & 0.12243207 & 0.2536075\\\\\n",
       "\t 0.000000000 & 0.000000000 & 0.041324558 & 0.12210991 & 0.2501051\\\\\n",
       "\t 0.000000000 & 0.000000000 & 0.038877290 & 0.11666578 & 0.2391670\\\\\n",
       "\t 0.000000000 & 0.000000000 & 0.041805403 & 0.10989741 & 0.2111809\\\\\n",
       "\t 0.000000000 & 0.000000000 & 0.048123571 & 0.11855937 & 0.2319803\\\\\n",
       "\t 0.000000000 & 0.000000000 & 0.045131642 & 0.11088658 & 0.2205850\\\\\n",
       "\t 0.000000000 & 0.000000000 & 0.047750589 & 0.11709598 & 0.2348661\\\\\n",
       "\t 0.002241266 & 0.000000000 & 0.047271566 & 0.12048090 & 0.2369901\\\\\n",
       "\t 0.001734729 & 0.000000000 & 0.056796140 & 0.14373675 & 0.2720822\\\\\n",
       "\t 0.003365534 & 0.000000000 & 0.062330936 & 0.14552485 & 0.2710714\\\\\n",
       "\t 0.003158899 & 0.001645507 & 0.062752959 & 0.14433164 & 0.2646426\\\\\n",
       "\t 0.001878630 & 0.006511445 & 0.065922500 & 0.14612891 & 0.2615835\\\\\n",
       "\t 0.002474849 & 0.008190230 & 0.073159976 & 0.15892644 & 0.2770331\\\\\n",
       "\t 0.003439548 & 0.010531544 & 0.081712397 & 0.15980056 & 0.2744812\\\\\n",
       "\\end{tabular}\n"
      ],
      "text/markdown": [
       "\n",
       "A matrix: 53 × 5 of type dbl\n",
       "\n",
       "| 0.000000000 | 0.000000000 | 0.009312709 | 0.04486965 | 0.2365507 |\n",
       "| 0.000000000 | 0.000000000 | 0.009787633 | 0.05733569 | 0.2604221 |\n",
       "| 0.000000000 | 0.000000000 | 0.012833240 | 0.07911961 | 0.2640022 |\n",
       "| 0.000000000 | 0.000000000 | 0.014269372 | 0.08674187 | 0.2976020 |\n",
       "| 0.000000000 | 0.000000000 | 0.015672577 | 0.09123075 | 0.3079864 |\n",
       "| 0.000000000 | 0.000000000 | 0.015304797 | 0.09780729 | 0.3293061 |\n",
       "| 0.000000000 | 0.000000000 | 0.014354814 | 0.09691509 | 0.3194387 |\n",
       "| 0.000000000 | 0.000000000 | 0.017976136 | 0.10989688 | 0.3196523 |\n",
       "| 0.000000000 | 0.000000000 | 0.015554379 | 0.09506204 | 0.3146129 |\n",
       "| 0.000000000 | 0.000000000 | 0.015916496 | 0.08995926 | 0.2978120 |\n",
       "| 0.000000000 | 0.000000000 | 0.015535902 | 0.08857109 | 0.2940145 |\n",
       "| 0.000000000 | 0.000000000 | 0.015431280 | 0.09354040 | 0.3085382 |\n",
       "| 0.000000000 | 0.000000000 | 0.013606288 | 0.08422989 | 0.3030717 |\n",
       "| 0.000000000 | 0.000000000 | 0.015153994 | 0.08790480 | 0.3118470 |\n",
       "| 0.000000000 | 0.000000000 | 0.015254877 | 0.08909837 | 0.3090743 |\n",
       "| 0.000000000 | 0.000000000 | 0.013911729 | 0.08778727 | 0.3050746 |\n",
       "| 0.000000000 | 0.000000000 | 0.014081814 | 0.08447770 | 0.2963653 |\n",
       "| 0.000000000 | 0.000000000 | 0.014390518 | 0.07823325 | 0.2744864 |\n",
       "| 0.000000000 | 0.000000000 | 0.022289511 | 0.09054198 | 0.2582176 |\n",
       "| 0.000000000 | 0.000000000 | 0.022610042 | 0.09698375 | 0.2745198 |\n",
       "| 0.000000000 | 0.000000000 | 0.020799395 | 0.08940339 | 0.2566007 |\n",
       "| 0.000000000 | 0.000000000 | 0.018701305 | 0.08083645 | 0.2475594 |\n",
       "| 0.000000000 | 0.000000000 | 0.020280796 | 0.07747000 | 0.2318800 |\n",
       "| 0.000000000 | 0.000000000 | 0.017706849 | 0.07098897 | 0.2341790 |\n",
       "| 0.000000000 | 0.000000000 | 0.016099782 | 0.07046269 | 0.2236114 |\n",
       "| 0.000000000 | 0.000000000 | 0.019297962 | 0.07795338 | 0.2343751 |\n",
       "| 0.000000000 | 0.000000000 | 0.020225770 | 0.07779342 | 0.2287603 |\n",
       "| 0.000000000 | 0.000000000 | 0.020997190 | 0.07846682 | 0.2227481 |\n",
       "| 0.000000000 | 0.000000000 | 0.019921421 | 0.08239390 | 0.2338169 |\n",
       "| 0.000000000 | 0.000000000 | 0.019179342 | 0.08003901 | 0.2386560 |\n",
       "| 0.000000000 | 0.000000000 | 0.020808040 | 0.08325776 | 0.2403944 |\n",
       "| 0.000000000 | 0.000000000 | 0.022009011 | 0.08921386 | 0.2411867 |\n",
       "| 0.000000000 | 0.000000000 | 0.025422053 | 0.09813218 | 0.2542260 |\n",
       "| 0.000000000 | 0.000000000 | 0.023058796 | 0.09814000 | 0.2585048 |\n",
       "| 0.000000000 | 0.000000000 | 0.027600120 | 0.11193160 | 0.2824980 |\n",
       "| 0.000000000 | 0.000000000 | 0.033185347 | 0.11600372 | 0.2655215 |\n",
       "| 0.000000000 | 0.000000000 | 0.036962456 | 0.12168138 | 0.2732120 |\n",
       "| 0.000000000 | 0.000000000 | 0.036782942 | 0.12255977 | 0.2558306 |\n",
       "| 0.000000000 | 0.000000000 | 0.031750691 | 0.10804687 | 0.2440405 |\n",
       "| 0.000000000 | 0.000000000 | 0.040656186 | 0.12243207 | 0.2536075 |\n",
       "| 0.000000000 | 0.000000000 | 0.041324558 | 0.12210991 | 0.2501051 |\n",
       "| 0.000000000 | 0.000000000 | 0.038877290 | 0.11666578 | 0.2391670 |\n",
       "| 0.000000000 | 0.000000000 | 0.041805403 | 0.10989741 | 0.2111809 |\n",
       "| 0.000000000 | 0.000000000 | 0.048123571 | 0.11855937 | 0.2319803 |\n",
       "| 0.000000000 | 0.000000000 | 0.045131642 | 0.11088658 | 0.2205850 |\n",
       "| 0.000000000 | 0.000000000 | 0.047750589 | 0.11709598 | 0.2348661 |\n",
       "| 0.002241266 | 0.000000000 | 0.047271566 | 0.12048090 | 0.2369901 |\n",
       "| 0.001734729 | 0.000000000 | 0.056796140 | 0.14373675 | 0.2720822 |\n",
       "| 0.003365534 | 0.000000000 | 0.062330936 | 0.14552485 | 0.2710714 |\n",
       "| 0.003158899 | 0.001645507 | 0.062752959 | 0.14433164 | 0.2646426 |\n",
       "| 0.001878630 | 0.006511445 | 0.065922500 | 0.14612891 | 0.2615835 |\n",
       "| 0.002474849 | 0.008190230 | 0.073159976 | 0.15892644 | 0.2770331 |\n",
       "| 0.003439548 | 0.010531544 | 0.081712397 | 0.15980056 | 0.2744812 |\n",
       "\n"
      ],
      "text/plain": [
       "      [,1]        [,2]        [,3]        [,4]       [,5]     \n",
       " [1,] 0.000000000 0.000000000 0.009312709 0.04486965 0.2365507\n",
       " [2,] 0.000000000 0.000000000 0.009787633 0.05733569 0.2604221\n",
       " [3,] 0.000000000 0.000000000 0.012833240 0.07911961 0.2640022\n",
       " [4,] 0.000000000 0.000000000 0.014269372 0.08674187 0.2976020\n",
       " [5,] 0.000000000 0.000000000 0.015672577 0.09123075 0.3079864\n",
       " [6,] 0.000000000 0.000000000 0.015304797 0.09780729 0.3293061\n",
       " [7,] 0.000000000 0.000000000 0.014354814 0.09691509 0.3194387\n",
       " [8,] 0.000000000 0.000000000 0.017976136 0.10989688 0.3196523\n",
       " [9,] 0.000000000 0.000000000 0.015554379 0.09506204 0.3146129\n",
       "[10,] 0.000000000 0.000000000 0.015916496 0.08995926 0.2978120\n",
       "[11,] 0.000000000 0.000000000 0.015535902 0.08857109 0.2940145\n",
       "[12,] 0.000000000 0.000000000 0.015431280 0.09354040 0.3085382\n",
       "[13,] 0.000000000 0.000000000 0.013606288 0.08422989 0.3030717\n",
       "[14,] 0.000000000 0.000000000 0.015153994 0.08790480 0.3118470\n",
       "[15,] 0.000000000 0.000000000 0.015254877 0.08909837 0.3090743\n",
       "[16,] 0.000000000 0.000000000 0.013911729 0.08778727 0.3050746\n",
       "[17,] 0.000000000 0.000000000 0.014081814 0.08447770 0.2963653\n",
       "[18,] 0.000000000 0.000000000 0.014390518 0.07823325 0.2744864\n",
       "[19,] 0.000000000 0.000000000 0.022289511 0.09054198 0.2582176\n",
       "[20,] 0.000000000 0.000000000 0.022610042 0.09698375 0.2745198\n",
       "[21,] 0.000000000 0.000000000 0.020799395 0.08940339 0.2566007\n",
       "[22,] 0.000000000 0.000000000 0.018701305 0.08083645 0.2475594\n",
       "[23,] 0.000000000 0.000000000 0.020280796 0.07747000 0.2318800\n",
       "[24,] 0.000000000 0.000000000 0.017706849 0.07098897 0.2341790\n",
       "[25,] 0.000000000 0.000000000 0.016099782 0.07046269 0.2236114\n",
       "[26,] 0.000000000 0.000000000 0.019297962 0.07795338 0.2343751\n",
       "[27,] 0.000000000 0.000000000 0.020225770 0.07779342 0.2287603\n",
       "[28,] 0.000000000 0.000000000 0.020997190 0.07846682 0.2227481\n",
       "[29,] 0.000000000 0.000000000 0.019921421 0.08239390 0.2338169\n",
       "[30,] 0.000000000 0.000000000 0.019179342 0.08003901 0.2386560\n",
       "[31,] 0.000000000 0.000000000 0.020808040 0.08325776 0.2403944\n",
       "[32,] 0.000000000 0.000000000 0.022009011 0.08921386 0.2411867\n",
       "[33,] 0.000000000 0.000000000 0.025422053 0.09813218 0.2542260\n",
       "[34,] 0.000000000 0.000000000 0.023058796 0.09814000 0.2585048\n",
       "[35,] 0.000000000 0.000000000 0.027600120 0.11193160 0.2824980\n",
       "[36,] 0.000000000 0.000000000 0.033185347 0.11600372 0.2655215\n",
       "[37,] 0.000000000 0.000000000 0.036962456 0.12168138 0.2732120\n",
       "[38,] 0.000000000 0.000000000 0.036782942 0.12255977 0.2558306\n",
       "[39,] 0.000000000 0.000000000 0.031750691 0.10804687 0.2440405\n",
       "[40,] 0.000000000 0.000000000 0.040656186 0.12243207 0.2536075\n",
       "[41,] 0.000000000 0.000000000 0.041324558 0.12210991 0.2501051\n",
       "[42,] 0.000000000 0.000000000 0.038877290 0.11666578 0.2391670\n",
       "[43,] 0.000000000 0.000000000 0.041805403 0.10989741 0.2111809\n",
       "[44,] 0.000000000 0.000000000 0.048123571 0.11855937 0.2319803\n",
       "[45,] 0.000000000 0.000000000 0.045131642 0.11088658 0.2205850\n",
       "[46,] 0.000000000 0.000000000 0.047750589 0.11709598 0.2348661\n",
       "[47,] 0.002241266 0.000000000 0.047271566 0.12048090 0.2369901\n",
       "[48,] 0.001734729 0.000000000 0.056796140 0.14373675 0.2720822\n",
       "[49,] 0.003365534 0.000000000 0.062330936 0.14552485 0.2710714\n",
       "[50,] 0.003158899 0.001645507 0.062752959 0.14433164 0.2646426\n",
       "[51,] 0.001878630 0.006511445 0.065922500 0.14612891 0.2615835\n",
       "[52,] 0.002474849 0.008190230 0.073159976 0.15892644 0.2770331\n",
       "[53,] 0.003439548 0.010531544 0.081712397 0.15980056 0.2744812"
      ]
     },
     "metadata": {},
     "output_type": "display_data"
    }
   ],
   "source": [
    "MatofAlphas <- matrix(unlist(matAlphas), ncol = 5, byrow = TRUE)\n",
    "MatofAlphas"
   ]
  },
  {
   "cell_type": "code",
   "execution_count": 42,
   "id": "75147ad5",
   "metadata": {},
   "outputs": [],
   "source": [
    "write.csv(MatofAlphas,\"../data/sim.csv\", row.names = FALSE)"
   ]
  },
  {
   "cell_type": "code",
   "execution_count": 43,
   "id": "89765d2f",
   "metadata": {},
   "outputs": [
    {
     "data": {
      "text/html": [
       "<table class=\"dataframe\">\n",
       "<caption>A data.frame: 53 × 5</caption>\n",
       "<thead>\n",
       "\t<tr><th scope=col>V1</th><th scope=col>V2</th><th scope=col>V3</th><th scope=col>V4</th><th scope=col>V5</th></tr>\n",
       "\t<tr><th scope=col>&lt;dbl&gt;</th><th scope=col>&lt;dbl&gt;</th><th scope=col>&lt;dbl&gt;</th><th scope=col>&lt;dbl&gt;</th><th scope=col>&lt;dbl&gt;</th></tr>\n",
       "</thead>\n",
       "<tbody>\n",
       "\t<tr><td>0.000000000</td><td>0.000000000</td><td>0.009312709</td><td>0.04486965</td><td>0.2365507</td></tr>\n",
       "\t<tr><td>0.000000000</td><td>0.000000000</td><td>0.009787633</td><td>0.05733569</td><td>0.2604221</td></tr>\n",
       "\t<tr><td>0.000000000</td><td>0.000000000</td><td>0.012833240</td><td>0.07911961</td><td>0.2640022</td></tr>\n",
       "\t<tr><td>0.000000000</td><td>0.000000000</td><td>0.014269372</td><td>0.08674187</td><td>0.2976020</td></tr>\n",
       "\t<tr><td>0.000000000</td><td>0.000000000</td><td>0.015672577</td><td>0.09123075</td><td>0.3079864</td></tr>\n",
       "\t<tr><td>0.000000000</td><td>0.000000000</td><td>0.015304797</td><td>0.09780729</td><td>0.3293061</td></tr>\n",
       "\t<tr><td>0.000000000</td><td>0.000000000</td><td>0.014354814</td><td>0.09691509</td><td>0.3194387</td></tr>\n",
       "\t<tr><td>0.000000000</td><td>0.000000000</td><td>0.017976136</td><td>0.10989688</td><td>0.3196523</td></tr>\n",
       "\t<tr><td>0.000000000</td><td>0.000000000</td><td>0.015554379</td><td>0.09506204</td><td>0.3146129</td></tr>\n",
       "\t<tr><td>0.000000000</td><td>0.000000000</td><td>0.015916496</td><td>0.08995926</td><td>0.2978120</td></tr>\n",
       "\t<tr><td>0.000000000</td><td>0.000000000</td><td>0.015535902</td><td>0.08857109</td><td>0.2940145</td></tr>\n",
       "\t<tr><td>0.000000000</td><td>0.000000000</td><td>0.015431280</td><td>0.09354040</td><td>0.3085382</td></tr>\n",
       "\t<tr><td>0.000000000</td><td>0.000000000</td><td>0.013606288</td><td>0.08422989</td><td>0.3030717</td></tr>\n",
       "\t<tr><td>0.000000000</td><td>0.000000000</td><td>0.015153994</td><td>0.08790480</td><td>0.3118470</td></tr>\n",
       "\t<tr><td>0.000000000</td><td>0.000000000</td><td>0.015254877</td><td>0.08909837</td><td>0.3090743</td></tr>\n",
       "\t<tr><td>0.000000000</td><td>0.000000000</td><td>0.013911729</td><td>0.08778727</td><td>0.3050746</td></tr>\n",
       "\t<tr><td>0.000000000</td><td>0.000000000</td><td>0.014081814</td><td>0.08447770</td><td>0.2963653</td></tr>\n",
       "\t<tr><td>0.000000000</td><td>0.000000000</td><td>0.014390518</td><td>0.07823325</td><td>0.2744864</td></tr>\n",
       "\t<tr><td>0.000000000</td><td>0.000000000</td><td>0.022289511</td><td>0.09054198</td><td>0.2582176</td></tr>\n",
       "\t<tr><td>0.000000000</td><td>0.000000000</td><td>0.022610042</td><td>0.09698375</td><td>0.2745198</td></tr>\n",
       "\t<tr><td>0.000000000</td><td>0.000000000</td><td>0.020799395</td><td>0.08940339</td><td>0.2566007</td></tr>\n",
       "\t<tr><td>0.000000000</td><td>0.000000000</td><td>0.018701305</td><td>0.08083645</td><td>0.2475594</td></tr>\n",
       "\t<tr><td>0.000000000</td><td>0.000000000</td><td>0.020280796</td><td>0.07747000</td><td>0.2318800</td></tr>\n",
       "\t<tr><td>0.000000000</td><td>0.000000000</td><td>0.017706849</td><td>0.07098897</td><td>0.2341790</td></tr>\n",
       "\t<tr><td>0.000000000</td><td>0.000000000</td><td>0.016099782</td><td>0.07046269</td><td>0.2236114</td></tr>\n",
       "\t<tr><td>0.000000000</td><td>0.000000000</td><td>0.019297962</td><td>0.07795338</td><td>0.2343751</td></tr>\n",
       "\t<tr><td>0.000000000</td><td>0.000000000</td><td>0.020225770</td><td>0.07779342</td><td>0.2287603</td></tr>\n",
       "\t<tr><td>0.000000000</td><td>0.000000000</td><td>0.020997190</td><td>0.07846682</td><td>0.2227481</td></tr>\n",
       "\t<tr><td>0.000000000</td><td>0.000000000</td><td>0.019921421</td><td>0.08239390</td><td>0.2338169</td></tr>\n",
       "\t<tr><td>0.000000000</td><td>0.000000000</td><td>0.019179342</td><td>0.08003901</td><td>0.2386560</td></tr>\n",
       "\t<tr><td>0.000000000</td><td>0.000000000</td><td>0.020808040</td><td>0.08325776</td><td>0.2403944</td></tr>\n",
       "\t<tr><td>0.000000000</td><td>0.000000000</td><td>0.022009011</td><td>0.08921386</td><td>0.2411867</td></tr>\n",
       "\t<tr><td>0.000000000</td><td>0.000000000</td><td>0.025422053</td><td>0.09813218</td><td>0.2542260</td></tr>\n",
       "\t<tr><td>0.000000000</td><td>0.000000000</td><td>0.023058796</td><td>0.09814000</td><td>0.2585048</td></tr>\n",
       "\t<tr><td>0.000000000</td><td>0.000000000</td><td>0.027600120</td><td>0.11193160</td><td>0.2824980</td></tr>\n",
       "\t<tr><td>0.000000000</td><td>0.000000000</td><td>0.033185347</td><td>0.11600372</td><td>0.2655215</td></tr>\n",
       "\t<tr><td>0.000000000</td><td>0.000000000</td><td>0.036962456</td><td>0.12168138</td><td>0.2732120</td></tr>\n",
       "\t<tr><td>0.000000000</td><td>0.000000000</td><td>0.036782942</td><td>0.12255977</td><td>0.2558306</td></tr>\n",
       "\t<tr><td>0.000000000</td><td>0.000000000</td><td>0.031750691</td><td>0.10804687</td><td>0.2440405</td></tr>\n",
       "\t<tr><td>0.000000000</td><td>0.000000000</td><td>0.040656186</td><td>0.12243207</td><td>0.2536075</td></tr>\n",
       "\t<tr><td>0.000000000</td><td>0.000000000</td><td>0.041324558</td><td>0.12210991</td><td>0.2501051</td></tr>\n",
       "\t<tr><td>0.000000000</td><td>0.000000000</td><td>0.038877290</td><td>0.11666578</td><td>0.2391670</td></tr>\n",
       "\t<tr><td>0.000000000</td><td>0.000000000</td><td>0.041805403</td><td>0.10989741</td><td>0.2111809</td></tr>\n",
       "\t<tr><td>0.000000000</td><td>0.000000000</td><td>0.048123571</td><td>0.11855937</td><td>0.2319803</td></tr>\n",
       "\t<tr><td>0.000000000</td><td>0.000000000</td><td>0.045131642</td><td>0.11088658</td><td>0.2205850</td></tr>\n",
       "\t<tr><td>0.000000000</td><td>0.000000000</td><td>0.047750589</td><td>0.11709598</td><td>0.2348661</td></tr>\n",
       "\t<tr><td>0.002241266</td><td>0.000000000</td><td>0.047271566</td><td>0.12048090</td><td>0.2369901</td></tr>\n",
       "\t<tr><td>0.001734729</td><td>0.000000000</td><td>0.056796140</td><td>0.14373675</td><td>0.2720822</td></tr>\n",
       "\t<tr><td>0.003365534</td><td>0.000000000</td><td>0.062330936</td><td>0.14552485</td><td>0.2710714</td></tr>\n",
       "\t<tr><td>0.003158899</td><td>0.001645507</td><td>0.062752959</td><td>0.14433164</td><td>0.2646426</td></tr>\n",
       "\t<tr><td>0.001878630</td><td>0.006511445</td><td>0.065922500</td><td>0.14612891</td><td>0.2615835</td></tr>\n",
       "\t<tr><td>0.002474849</td><td>0.008190230</td><td>0.073159976</td><td>0.15892644</td><td>0.2770331</td></tr>\n",
       "\t<tr><td>0.003439548</td><td>0.010531544</td><td>0.081712397</td><td>0.15980056</td><td>0.2744812</td></tr>\n",
       "</tbody>\n",
       "</table>\n"
      ],
      "text/latex": [
       "A data.frame: 53 × 5\n",
       "\\begin{tabular}{lllll}\n",
       " V1 & V2 & V3 & V4 & V5\\\\\n",
       " <dbl> & <dbl> & <dbl> & <dbl> & <dbl>\\\\\n",
       "\\hline\n",
       "\t 0.000000000 & 0.000000000 & 0.009312709 & 0.04486965 & 0.2365507\\\\\n",
       "\t 0.000000000 & 0.000000000 & 0.009787633 & 0.05733569 & 0.2604221\\\\\n",
       "\t 0.000000000 & 0.000000000 & 0.012833240 & 0.07911961 & 0.2640022\\\\\n",
       "\t 0.000000000 & 0.000000000 & 0.014269372 & 0.08674187 & 0.2976020\\\\\n",
       "\t 0.000000000 & 0.000000000 & 0.015672577 & 0.09123075 & 0.3079864\\\\\n",
       "\t 0.000000000 & 0.000000000 & 0.015304797 & 0.09780729 & 0.3293061\\\\\n",
       "\t 0.000000000 & 0.000000000 & 0.014354814 & 0.09691509 & 0.3194387\\\\\n",
       "\t 0.000000000 & 0.000000000 & 0.017976136 & 0.10989688 & 0.3196523\\\\\n",
       "\t 0.000000000 & 0.000000000 & 0.015554379 & 0.09506204 & 0.3146129\\\\\n",
       "\t 0.000000000 & 0.000000000 & 0.015916496 & 0.08995926 & 0.2978120\\\\\n",
       "\t 0.000000000 & 0.000000000 & 0.015535902 & 0.08857109 & 0.2940145\\\\\n",
       "\t 0.000000000 & 0.000000000 & 0.015431280 & 0.09354040 & 0.3085382\\\\\n",
       "\t 0.000000000 & 0.000000000 & 0.013606288 & 0.08422989 & 0.3030717\\\\\n",
       "\t 0.000000000 & 0.000000000 & 0.015153994 & 0.08790480 & 0.3118470\\\\\n",
       "\t 0.000000000 & 0.000000000 & 0.015254877 & 0.08909837 & 0.3090743\\\\\n",
       "\t 0.000000000 & 0.000000000 & 0.013911729 & 0.08778727 & 0.3050746\\\\\n",
       "\t 0.000000000 & 0.000000000 & 0.014081814 & 0.08447770 & 0.2963653\\\\\n",
       "\t 0.000000000 & 0.000000000 & 0.014390518 & 0.07823325 & 0.2744864\\\\\n",
       "\t 0.000000000 & 0.000000000 & 0.022289511 & 0.09054198 & 0.2582176\\\\\n",
       "\t 0.000000000 & 0.000000000 & 0.022610042 & 0.09698375 & 0.2745198\\\\\n",
       "\t 0.000000000 & 0.000000000 & 0.020799395 & 0.08940339 & 0.2566007\\\\\n",
       "\t 0.000000000 & 0.000000000 & 0.018701305 & 0.08083645 & 0.2475594\\\\\n",
       "\t 0.000000000 & 0.000000000 & 0.020280796 & 0.07747000 & 0.2318800\\\\\n",
       "\t 0.000000000 & 0.000000000 & 0.017706849 & 0.07098897 & 0.2341790\\\\\n",
       "\t 0.000000000 & 0.000000000 & 0.016099782 & 0.07046269 & 0.2236114\\\\\n",
       "\t 0.000000000 & 0.000000000 & 0.019297962 & 0.07795338 & 0.2343751\\\\\n",
       "\t 0.000000000 & 0.000000000 & 0.020225770 & 0.07779342 & 0.2287603\\\\\n",
       "\t 0.000000000 & 0.000000000 & 0.020997190 & 0.07846682 & 0.2227481\\\\\n",
       "\t 0.000000000 & 0.000000000 & 0.019921421 & 0.08239390 & 0.2338169\\\\\n",
       "\t 0.000000000 & 0.000000000 & 0.019179342 & 0.08003901 & 0.2386560\\\\\n",
       "\t 0.000000000 & 0.000000000 & 0.020808040 & 0.08325776 & 0.2403944\\\\\n",
       "\t 0.000000000 & 0.000000000 & 0.022009011 & 0.08921386 & 0.2411867\\\\\n",
       "\t 0.000000000 & 0.000000000 & 0.025422053 & 0.09813218 & 0.2542260\\\\\n",
       "\t 0.000000000 & 0.000000000 & 0.023058796 & 0.09814000 & 0.2585048\\\\\n",
       "\t 0.000000000 & 0.000000000 & 0.027600120 & 0.11193160 & 0.2824980\\\\\n",
       "\t 0.000000000 & 0.000000000 & 0.033185347 & 0.11600372 & 0.2655215\\\\\n",
       "\t 0.000000000 & 0.000000000 & 0.036962456 & 0.12168138 & 0.2732120\\\\\n",
       "\t 0.000000000 & 0.000000000 & 0.036782942 & 0.12255977 & 0.2558306\\\\\n",
       "\t 0.000000000 & 0.000000000 & 0.031750691 & 0.10804687 & 0.2440405\\\\\n",
       "\t 0.000000000 & 0.000000000 & 0.040656186 & 0.12243207 & 0.2536075\\\\\n",
       "\t 0.000000000 & 0.000000000 & 0.041324558 & 0.12210991 & 0.2501051\\\\\n",
       "\t 0.000000000 & 0.000000000 & 0.038877290 & 0.11666578 & 0.2391670\\\\\n",
       "\t 0.000000000 & 0.000000000 & 0.041805403 & 0.10989741 & 0.2111809\\\\\n",
       "\t 0.000000000 & 0.000000000 & 0.048123571 & 0.11855937 & 0.2319803\\\\\n",
       "\t 0.000000000 & 0.000000000 & 0.045131642 & 0.11088658 & 0.2205850\\\\\n",
       "\t 0.000000000 & 0.000000000 & 0.047750589 & 0.11709598 & 0.2348661\\\\\n",
       "\t 0.002241266 & 0.000000000 & 0.047271566 & 0.12048090 & 0.2369901\\\\\n",
       "\t 0.001734729 & 0.000000000 & 0.056796140 & 0.14373675 & 0.2720822\\\\\n",
       "\t 0.003365534 & 0.000000000 & 0.062330936 & 0.14552485 & 0.2710714\\\\\n",
       "\t 0.003158899 & 0.001645507 & 0.062752959 & 0.14433164 & 0.2646426\\\\\n",
       "\t 0.001878630 & 0.006511445 & 0.065922500 & 0.14612891 & 0.2615835\\\\\n",
       "\t 0.002474849 & 0.008190230 & 0.073159976 & 0.15892644 & 0.2770331\\\\\n",
       "\t 0.003439548 & 0.010531544 & 0.081712397 & 0.15980056 & 0.2744812\\\\\n",
       "\\end{tabular}\n"
      ],
      "text/markdown": [
       "\n",
       "A data.frame: 53 × 5\n",
       "\n",
       "| V1 &lt;dbl&gt; | V2 &lt;dbl&gt; | V3 &lt;dbl&gt; | V4 &lt;dbl&gt; | V5 &lt;dbl&gt; |\n",
       "|---|---|---|---|---|\n",
       "| 0.000000000 | 0.000000000 | 0.009312709 | 0.04486965 | 0.2365507 |\n",
       "| 0.000000000 | 0.000000000 | 0.009787633 | 0.05733569 | 0.2604221 |\n",
       "| 0.000000000 | 0.000000000 | 0.012833240 | 0.07911961 | 0.2640022 |\n",
       "| 0.000000000 | 0.000000000 | 0.014269372 | 0.08674187 | 0.2976020 |\n",
       "| 0.000000000 | 0.000000000 | 0.015672577 | 0.09123075 | 0.3079864 |\n",
       "| 0.000000000 | 0.000000000 | 0.015304797 | 0.09780729 | 0.3293061 |\n",
       "| 0.000000000 | 0.000000000 | 0.014354814 | 0.09691509 | 0.3194387 |\n",
       "| 0.000000000 | 0.000000000 | 0.017976136 | 0.10989688 | 0.3196523 |\n",
       "| 0.000000000 | 0.000000000 | 0.015554379 | 0.09506204 | 0.3146129 |\n",
       "| 0.000000000 | 0.000000000 | 0.015916496 | 0.08995926 | 0.2978120 |\n",
       "| 0.000000000 | 0.000000000 | 0.015535902 | 0.08857109 | 0.2940145 |\n",
       "| 0.000000000 | 0.000000000 | 0.015431280 | 0.09354040 | 0.3085382 |\n",
       "| 0.000000000 | 0.000000000 | 0.013606288 | 0.08422989 | 0.3030717 |\n",
       "| 0.000000000 | 0.000000000 | 0.015153994 | 0.08790480 | 0.3118470 |\n",
       "| 0.000000000 | 0.000000000 | 0.015254877 | 0.08909837 | 0.3090743 |\n",
       "| 0.000000000 | 0.000000000 | 0.013911729 | 0.08778727 | 0.3050746 |\n",
       "| 0.000000000 | 0.000000000 | 0.014081814 | 0.08447770 | 0.2963653 |\n",
       "| 0.000000000 | 0.000000000 | 0.014390518 | 0.07823325 | 0.2744864 |\n",
       "| 0.000000000 | 0.000000000 | 0.022289511 | 0.09054198 | 0.2582176 |\n",
       "| 0.000000000 | 0.000000000 | 0.022610042 | 0.09698375 | 0.2745198 |\n",
       "| 0.000000000 | 0.000000000 | 0.020799395 | 0.08940339 | 0.2566007 |\n",
       "| 0.000000000 | 0.000000000 | 0.018701305 | 0.08083645 | 0.2475594 |\n",
       "| 0.000000000 | 0.000000000 | 0.020280796 | 0.07747000 | 0.2318800 |\n",
       "| 0.000000000 | 0.000000000 | 0.017706849 | 0.07098897 | 0.2341790 |\n",
       "| 0.000000000 | 0.000000000 | 0.016099782 | 0.07046269 | 0.2236114 |\n",
       "| 0.000000000 | 0.000000000 | 0.019297962 | 0.07795338 | 0.2343751 |\n",
       "| 0.000000000 | 0.000000000 | 0.020225770 | 0.07779342 | 0.2287603 |\n",
       "| 0.000000000 | 0.000000000 | 0.020997190 | 0.07846682 | 0.2227481 |\n",
       "| 0.000000000 | 0.000000000 | 0.019921421 | 0.08239390 | 0.2338169 |\n",
       "| 0.000000000 | 0.000000000 | 0.019179342 | 0.08003901 | 0.2386560 |\n",
       "| 0.000000000 | 0.000000000 | 0.020808040 | 0.08325776 | 0.2403944 |\n",
       "| 0.000000000 | 0.000000000 | 0.022009011 | 0.08921386 | 0.2411867 |\n",
       "| 0.000000000 | 0.000000000 | 0.025422053 | 0.09813218 | 0.2542260 |\n",
       "| 0.000000000 | 0.000000000 | 0.023058796 | 0.09814000 | 0.2585048 |\n",
       "| 0.000000000 | 0.000000000 | 0.027600120 | 0.11193160 | 0.2824980 |\n",
       "| 0.000000000 | 0.000000000 | 0.033185347 | 0.11600372 | 0.2655215 |\n",
       "| 0.000000000 | 0.000000000 | 0.036962456 | 0.12168138 | 0.2732120 |\n",
       "| 0.000000000 | 0.000000000 | 0.036782942 | 0.12255977 | 0.2558306 |\n",
       "| 0.000000000 | 0.000000000 | 0.031750691 | 0.10804687 | 0.2440405 |\n",
       "| 0.000000000 | 0.000000000 | 0.040656186 | 0.12243207 | 0.2536075 |\n",
       "| 0.000000000 | 0.000000000 | 0.041324558 | 0.12210991 | 0.2501051 |\n",
       "| 0.000000000 | 0.000000000 | 0.038877290 | 0.11666578 | 0.2391670 |\n",
       "| 0.000000000 | 0.000000000 | 0.041805403 | 0.10989741 | 0.2111809 |\n",
       "| 0.000000000 | 0.000000000 | 0.048123571 | 0.11855937 | 0.2319803 |\n",
       "| 0.000000000 | 0.000000000 | 0.045131642 | 0.11088658 | 0.2205850 |\n",
       "| 0.000000000 | 0.000000000 | 0.047750589 | 0.11709598 | 0.2348661 |\n",
       "| 0.002241266 | 0.000000000 | 0.047271566 | 0.12048090 | 0.2369901 |\n",
       "| 0.001734729 | 0.000000000 | 0.056796140 | 0.14373675 | 0.2720822 |\n",
       "| 0.003365534 | 0.000000000 | 0.062330936 | 0.14552485 | 0.2710714 |\n",
       "| 0.003158899 | 0.001645507 | 0.062752959 | 0.14433164 | 0.2646426 |\n",
       "| 0.001878630 | 0.006511445 | 0.065922500 | 0.14612891 | 0.2615835 |\n",
       "| 0.002474849 | 0.008190230 | 0.073159976 | 0.15892644 | 0.2770331 |\n",
       "| 0.003439548 | 0.010531544 | 0.081712397 | 0.15980056 | 0.2744812 |\n",
       "\n"
      ],
      "text/plain": [
       "   V1          V2          V3          V4         V5       \n",
       "1  0.000000000 0.000000000 0.009312709 0.04486965 0.2365507\n",
       "2  0.000000000 0.000000000 0.009787633 0.05733569 0.2604221\n",
       "3  0.000000000 0.000000000 0.012833240 0.07911961 0.2640022\n",
       "4  0.000000000 0.000000000 0.014269372 0.08674187 0.2976020\n",
       "5  0.000000000 0.000000000 0.015672577 0.09123075 0.3079864\n",
       "6  0.000000000 0.000000000 0.015304797 0.09780729 0.3293061\n",
       "7  0.000000000 0.000000000 0.014354814 0.09691509 0.3194387\n",
       "8  0.000000000 0.000000000 0.017976136 0.10989688 0.3196523\n",
       "9  0.000000000 0.000000000 0.015554379 0.09506204 0.3146129\n",
       "10 0.000000000 0.000000000 0.015916496 0.08995926 0.2978120\n",
       "11 0.000000000 0.000000000 0.015535902 0.08857109 0.2940145\n",
       "12 0.000000000 0.000000000 0.015431280 0.09354040 0.3085382\n",
       "13 0.000000000 0.000000000 0.013606288 0.08422989 0.3030717\n",
       "14 0.000000000 0.000000000 0.015153994 0.08790480 0.3118470\n",
       "15 0.000000000 0.000000000 0.015254877 0.08909837 0.3090743\n",
       "16 0.000000000 0.000000000 0.013911729 0.08778727 0.3050746\n",
       "17 0.000000000 0.000000000 0.014081814 0.08447770 0.2963653\n",
       "18 0.000000000 0.000000000 0.014390518 0.07823325 0.2744864\n",
       "19 0.000000000 0.000000000 0.022289511 0.09054198 0.2582176\n",
       "20 0.000000000 0.000000000 0.022610042 0.09698375 0.2745198\n",
       "21 0.000000000 0.000000000 0.020799395 0.08940339 0.2566007\n",
       "22 0.000000000 0.000000000 0.018701305 0.08083645 0.2475594\n",
       "23 0.000000000 0.000000000 0.020280796 0.07747000 0.2318800\n",
       "24 0.000000000 0.000000000 0.017706849 0.07098897 0.2341790\n",
       "25 0.000000000 0.000000000 0.016099782 0.07046269 0.2236114\n",
       "26 0.000000000 0.000000000 0.019297962 0.07795338 0.2343751\n",
       "27 0.000000000 0.000000000 0.020225770 0.07779342 0.2287603\n",
       "28 0.000000000 0.000000000 0.020997190 0.07846682 0.2227481\n",
       "29 0.000000000 0.000000000 0.019921421 0.08239390 0.2338169\n",
       "30 0.000000000 0.000000000 0.019179342 0.08003901 0.2386560\n",
       "31 0.000000000 0.000000000 0.020808040 0.08325776 0.2403944\n",
       "32 0.000000000 0.000000000 0.022009011 0.08921386 0.2411867\n",
       "33 0.000000000 0.000000000 0.025422053 0.09813218 0.2542260\n",
       "34 0.000000000 0.000000000 0.023058796 0.09814000 0.2585048\n",
       "35 0.000000000 0.000000000 0.027600120 0.11193160 0.2824980\n",
       "36 0.000000000 0.000000000 0.033185347 0.11600372 0.2655215\n",
       "37 0.000000000 0.000000000 0.036962456 0.12168138 0.2732120\n",
       "38 0.000000000 0.000000000 0.036782942 0.12255977 0.2558306\n",
       "39 0.000000000 0.000000000 0.031750691 0.10804687 0.2440405\n",
       "40 0.000000000 0.000000000 0.040656186 0.12243207 0.2536075\n",
       "41 0.000000000 0.000000000 0.041324558 0.12210991 0.2501051\n",
       "42 0.000000000 0.000000000 0.038877290 0.11666578 0.2391670\n",
       "43 0.000000000 0.000000000 0.041805403 0.10989741 0.2111809\n",
       "44 0.000000000 0.000000000 0.048123571 0.11855937 0.2319803\n",
       "45 0.000000000 0.000000000 0.045131642 0.11088658 0.2205850\n",
       "46 0.000000000 0.000000000 0.047750589 0.11709598 0.2348661\n",
       "47 0.002241266 0.000000000 0.047271566 0.12048090 0.2369901\n",
       "48 0.001734729 0.000000000 0.056796140 0.14373675 0.2720822\n",
       "49 0.003365534 0.000000000 0.062330936 0.14552485 0.2710714\n",
       "50 0.003158899 0.001645507 0.062752959 0.14433164 0.2646426\n",
       "51 0.001878630 0.006511445 0.065922500 0.14612891 0.2615835\n",
       "52 0.002474849 0.008190230 0.073159976 0.15892644 0.2770331\n",
       "53 0.003439548 0.010531544 0.081712397 0.15980056 0.2744812"
      ]
     },
     "metadata": {},
     "output_type": "display_data"
    },
    {
     "data": {
      "text/html": [
       "<table class=\"dataframe\">\n",
       "<caption>A matrix: 5 × 5 of type dbl</caption>\n",
       "<thead>\n",
       "\t<tr><th></th><th scope=col>V1</th><th scope=col>V2</th><th scope=col>V3</th><th scope=col>V4</th><th scope=col>V5</th></tr>\n",
       "</thead>\n",
       "<tbody>\n",
       "\t<tr><th scope=row>V1</th><td> 2.094073e-07</td><td>-7.856380e-08</td><td>1.325427e-07</td><td>-4.824604e-08</td><td>-1.015310e-07</td></tr>\n",
       "\t<tr><th scope=row>V2</th><td>-7.856380e-08</td><td> 6.382778e-07</td><td>6.593767e-07</td><td> 1.379600e-07</td><td>-2.585191e-07</td></tr>\n",
       "\t<tr><th scope=row>V3</th><td> 1.325427e-07</td><td> 6.593767e-07</td><td>1.090426e-05</td><td> 1.900125e-05</td><td> 1.498330e-05</td></tr>\n",
       "\t<tr><th scope=row>V4</th><td>-4.824604e-08</td><td> 1.379600e-07</td><td>1.900125e-05</td><td> 6.476872e-05</td><td> 7.562366e-05</td></tr>\n",
       "\t<tr><th scope=row>V5</th><td>-1.015310e-07</td><td>-2.585191e-07</td><td>1.498330e-05</td><td> 7.562366e-05</td><td> 1.970484e-04</td></tr>\n",
       "</tbody>\n",
       "</table>\n"
      ],
      "text/latex": [
       "A matrix: 5 × 5 of type dbl\n",
       "\\begin{tabular}{r|lllll}\n",
       "  & V1 & V2 & V3 & V4 & V5\\\\\n",
       "\\hline\n",
       "\tV1 &  2.094073e-07 & -7.856380e-08 & 1.325427e-07 & -4.824604e-08 & -1.015310e-07\\\\\n",
       "\tV2 & -7.856380e-08 &  6.382778e-07 & 6.593767e-07 &  1.379600e-07 & -2.585191e-07\\\\\n",
       "\tV3 &  1.325427e-07 &  6.593767e-07 & 1.090426e-05 &  1.900125e-05 &  1.498330e-05\\\\\n",
       "\tV4 & -4.824604e-08 &  1.379600e-07 & 1.900125e-05 &  6.476872e-05 &  7.562366e-05\\\\\n",
       "\tV5 & -1.015310e-07 & -2.585191e-07 & 1.498330e-05 &  7.562366e-05 &  1.970484e-04\\\\\n",
       "\\end{tabular}\n"
      ],
      "text/markdown": [
       "\n",
       "A matrix: 5 × 5 of type dbl\n",
       "\n",
       "| <!--/--> | V1 | V2 | V3 | V4 | V5 |\n",
       "|---|---|---|---|---|---|\n",
       "| V1 |  2.094073e-07 | -7.856380e-08 | 1.325427e-07 | -4.824604e-08 | -1.015310e-07 |\n",
       "| V2 | -7.856380e-08 |  6.382778e-07 | 6.593767e-07 |  1.379600e-07 | -2.585191e-07 |\n",
       "| V3 |  1.325427e-07 |  6.593767e-07 | 1.090426e-05 |  1.900125e-05 |  1.498330e-05 |\n",
       "| V4 | -4.824604e-08 |  1.379600e-07 | 1.900125e-05 |  6.476872e-05 |  7.562366e-05 |\n",
       "| V5 | -1.015310e-07 | -2.585191e-07 | 1.498330e-05 |  7.562366e-05 |  1.970484e-04 |\n",
       "\n"
      ],
      "text/plain": [
       "   V1            V2            V3           V4            V5           \n",
       "V1  2.094073e-07 -7.856380e-08 1.325427e-07 -4.824604e-08 -1.015310e-07\n",
       "V2 -7.856380e-08  6.382778e-07 6.593767e-07  1.379600e-07 -2.585191e-07\n",
       "V3  1.325427e-07  6.593767e-07 1.090426e-05  1.900125e-05  1.498330e-05\n",
       "V4 -4.824604e-08  1.379600e-07 1.900125e-05  6.476872e-05  7.562366e-05\n",
       "V5 -1.015310e-07 -2.585191e-07 1.498330e-05  7.562366e-05  1.970484e-04"
      ]
     },
     "metadata": {},
     "output_type": "display_data"
    }
   ],
   "source": [
    "MatofAlphas <- read.csv(\"../data/sim.csv\")\n",
    "i_alpha <- MatofAlphas[-nrow(MatofAlphas),]\n",
    "f_alpha <- MatofAlphas[-1,]\n",
    "delta_alpha <- f_alpha - i_alpha\n",
    "cov_delta_a <- cov(delta_alpha)\n",
    "MatofAlphas\n",
    "cov_delta_a"
   ]
  },
  {
   "cell_type": "code",
   "execution_count": 44,
   "id": "15b0e16c",
   "metadata": {},
   "outputs": [
    {
     "data": {
      "text/html": [
       "<table class=\"dataframe\">\n",
       "<caption>A matrix: 5 × 5 of type dbl</caption>\n",
       "<tbody>\n",
       "\t<tr><td> 0.0004247133</td><td>-0.001519199</td><td>-0.02948540</td><td> 0.252646125</td><td> 0.967108091</td></tr>\n",
       "\t<tr><td> 0.0004841632</td><td>-0.013816046</td><td>-0.14414374</td><td>-0.958403532</td><td> 0.245955556</td></tr>\n",
       "\t<tr><td>-0.0964041074</td><td>-0.385936447</td><td>-0.90669465</td><td> 0.126183135</td><td>-0.061171343</td></tr>\n",
       "\t<tr><td>-0.4161936854</td><td>-0.821595253</td><td> 0.38680844</td><td>-0.041048209</td><td> 0.021408638</td></tr>\n",
       "\t<tr><td>-0.9041507892</td><td> 0.419334125</td><td>-0.08146921</td><td> 0.005046405</td><td>-0.002746384</td></tr>\n",
       "</tbody>\n",
       "</table>\n"
      ],
      "text/latex": [
       "A matrix: 5 × 5 of type dbl\n",
       "\\begin{tabular}{lllll}\n",
       "\t  0.0004247133 & -0.001519199 & -0.02948540 &  0.252646125 &  0.967108091\\\\\n",
       "\t  0.0004841632 & -0.013816046 & -0.14414374 & -0.958403532 &  0.245955556\\\\\n",
       "\t -0.0964041074 & -0.385936447 & -0.90669465 &  0.126183135 & -0.061171343\\\\\n",
       "\t -0.4161936854 & -0.821595253 &  0.38680844 & -0.041048209 &  0.021408638\\\\\n",
       "\t -0.9041507892 &  0.419334125 & -0.08146921 &  0.005046405 & -0.002746384\\\\\n",
       "\\end{tabular}\n"
      ],
      "text/markdown": [
       "\n",
       "A matrix: 5 × 5 of type dbl\n",
       "\n",
       "|  0.0004247133 | -0.001519199 | -0.02948540 |  0.252646125 |  0.967108091 |\n",
       "|  0.0004841632 | -0.013816046 | -0.14414374 | -0.958403532 |  0.245955556 |\n",
       "| -0.0964041074 | -0.385936447 | -0.90669465 |  0.126183135 | -0.061171343 |\n",
       "| -0.4161936854 | -0.821595253 |  0.38680844 | -0.041048209 |  0.021408638 |\n",
       "| -0.9041507892 |  0.419334125 | -0.08146921 |  0.005046405 | -0.002746384 |\n",
       "\n"
      ],
      "text/plain": [
       "     [,1]          [,2]         [,3]        [,4]         [,5]        \n",
       "[1,]  0.0004247133 -0.001519199 -0.02948540  0.252646125  0.967108091\n",
       "[2,]  0.0004841632 -0.013816046 -0.14414374 -0.958403532  0.245955556\n",
       "[3,] -0.0964041074 -0.385936447 -0.90669465  0.126183135 -0.061171343\n",
       "[4,] -0.4161936854 -0.821595253  0.38680844 -0.041048209  0.021408638\n",
       "[5,] -0.9041507892  0.419334125 -0.08146921  0.005046405 -0.002746384"
      ]
     },
     "metadata": {},
     "output_type": "display_data"
    },
    {
     "data": {
      "text/html": [
       "<style>\n",
       ".list-inline {list-style: none; margin:0; padding: 0}\n",
       ".list-inline>li {display: inline-block}\n",
       ".list-inline>li:not(:last-child)::after {content: \"\\00b7\"; padding: 0 .5ex}\n",
       "</style>\n",
       "<ol class=list-inline><li>0.0152792953402941</li><li>0.00592444353148581</li><li>0.00206240104327495</li><li>0.000761212687703965</li><li>0.000424574708583271</li></ol>\n"
      ],
      "text/latex": [
       "\\begin{enumerate*}\n",
       "\\item 0.0152792953402941\n",
       "\\item 0.00592444353148581\n",
       "\\item 0.00206240104327495\n",
       "\\item 0.000761212687703965\n",
       "\\item 0.000424574708583271\n",
       "\\end{enumerate*}\n"
      ],
      "text/markdown": [
       "1. 0.0152792953402941\n",
       "2. 0.00592444353148581\n",
       "3. 0.00206240104327495\n",
       "4. 0.000761212687703965\n",
       "5. 0.000424574708583271\n",
       "\n",
       "\n"
      ],
      "text/plain": [
       "[1] 0.0152792953 0.0059244435 0.0020624010 0.0007612127 0.0004245747"
      ]
     },
     "metadata": {},
     "output_type": "display_data"
    },
    {
     "data": {
      "text/html": [
       "<table class=\"dataframe\">\n",
       "<caption>A matrix: 5 × 5 of type dbl</caption>\n",
       "<tbody>\n",
       "\t<tr><td> 6.489320e-06</td><td>-9.000411e-06</td><td>-6.081071e-05</td><td> 1.923174e-04</td><td> 4.106096e-04</td></tr>\n",
       "\t<tr><td> 7.397673e-06</td><td>-8.185238e-05</td><td>-2.972822e-04</td><td>-7.295489e-04</td><td> 1.044265e-04</td></tr>\n",
       "\t<tr><td>-1.472987e-03</td><td>-2.286459e-03</td><td>-1.869968e-03</td><td> 9.605220e-05</td><td>-2.597181e-05</td></tr>\n",
       "\t<tr><td>-6.359146e-03</td><td>-4.867495e-03</td><td> 7.977541e-04</td><td>-3.124642e-05</td><td> 9.089566e-06</td></tr>\n",
       "\t<tr><td>-1.381479e-02</td><td> 2.484321e-03</td><td>-1.680222e-04</td><td> 3.841388e-06</td><td>-1.166045e-06</td></tr>\n",
       "</tbody>\n",
       "</table>\n"
      ],
      "text/latex": [
       "A matrix: 5 × 5 of type dbl\n",
       "\\begin{tabular}{lllll}\n",
       "\t  6.489320e-06 & -9.000411e-06 & -6.081071e-05 &  1.923174e-04 &  4.106096e-04\\\\\n",
       "\t  7.397673e-06 & -8.185238e-05 & -2.972822e-04 & -7.295489e-04 &  1.044265e-04\\\\\n",
       "\t -1.472987e-03 & -2.286459e-03 & -1.869968e-03 &  9.605220e-05 & -2.597181e-05\\\\\n",
       "\t -6.359146e-03 & -4.867495e-03 &  7.977541e-04 & -3.124642e-05 &  9.089566e-06\\\\\n",
       "\t -1.381479e-02 &  2.484321e-03 & -1.680222e-04 &  3.841388e-06 & -1.166045e-06\\\\\n",
       "\\end{tabular}\n"
      ],
      "text/markdown": [
       "\n",
       "A matrix: 5 × 5 of type dbl\n",
       "\n",
       "|  6.489320e-06 | -9.000411e-06 | -6.081071e-05 |  1.923174e-04 |  4.106096e-04 |\n",
       "|  7.397673e-06 | -8.185238e-05 | -2.972822e-04 | -7.295489e-04 |  1.044265e-04 |\n",
       "| -1.472987e-03 | -2.286459e-03 | -1.869968e-03 |  9.605220e-05 | -2.597181e-05 |\n",
       "| -6.359146e-03 | -4.867495e-03 |  7.977541e-04 | -3.124642e-05 |  9.089566e-06 |\n",
       "| -1.381479e-02 |  2.484321e-03 | -1.680222e-04 |  3.841388e-06 | -1.166045e-06 |\n",
       "\n"
      ],
      "text/plain": [
       "     [,1]          [,2]          [,3]          [,4]          [,5]         \n",
       "[1,]  6.489320e-06 -9.000411e-06 -6.081071e-05  1.923174e-04  4.106096e-04\n",
       "[2,]  7.397673e-06 -8.185238e-05 -2.972822e-04 -7.295489e-04  1.044265e-04\n",
       "[3,] -1.472987e-03 -2.286459e-03 -1.869968e-03  9.605220e-05 -2.597181e-05\n",
       "[4,] -6.359146e-03 -4.867495e-03  7.977541e-04 -3.124642e-05  9.089566e-06\n",
       "[5,] -1.381479e-02  2.484321e-03 -1.680222e-04  3.841388e-06 -1.166045e-06"
      ]
     },
     "metadata": {},
     "output_type": "display_data"
    }
   ],
   "source": [
    "eigen_delta <- eigen(cov_delta_a)\n",
    "A <- eigen_delta$vectors \n",
    "sqrt <- sqrt(eigen_delta$values)\n",
    "A \n",
    "sqrt\n",
    "B <- t(t(A)*sqrt)\n",
    "B"
   ]
  },
  {
   "cell_type": "code",
   "execution_count": 45,
   "id": "ba867aef",
   "metadata": {},
   "outputs": [
    {
     "data": {
      "image/png": "[encoded data removed]",
      "text/plain": [
       "plot without title"
      ]
     },
     "metadata": {},
     "output_type": "display_data"
    }
   ],
   "source": [
    "Bbase <- as.data.frame(B)\n",
    "Bbase$N <- c(1,2,3,4,5)\n",
    "Bbase <- pivot_longer(Bbase, cols=1:5,names_to= \"component\", values_to='Values')\n",
    "ggplot(Bbase, aes(x = N, y = Values, color = component)) + \n",
    "  geom_line() +\n",
    "  geom_point()"
   ]
  },
  {
   "cell_type": "code",
   "execution_count": 46,
   "id": "890bd92a",
   "metadata": {},
   "outputs": [
    {
     "data": {
      "text/html": [
       "<table class=\"dataframe\">\n",
       "<caption>A data.frame: 53 × 5</caption>\n",
       "<thead>\n",
       "\t<tr><th scope=col>V1</th><th scope=col>V2</th><th scope=col>V3</th><th scope=col>V4</th><th scope=col>V5</th></tr>\n",
       "\t<tr><th scope=col>&lt;dbl&gt;</th><th scope=col>&lt;dbl&gt;</th><th scope=col>&lt;dbl&gt;</th><th scope=col>&lt;dbl&gt;</th><th scope=col>&lt;dbl&gt;</th></tr>\n",
       "</thead>\n",
       "<tbody>\n",
       "\t<tr><td> 0.000000e+00</td><td> 0.000000e+00</td><td>-1.286648e-04</td><td> 1.881538e-02</td><td>-0.2144792743</td></tr>\n",
       "\t<tr><td> 0.000000e+00</td><td> 0.000000e+00</td><td>-3.777404e-03</td><td>-1.690566e-03</td><td> 0.1007334613</td></tr>\n",
       "\t<tr><td> 0.000000e+00</td><td> 0.000000e+00</td><td>-1.054373e-02</td><td>-1.140460e-02</td><td>-0.0215080527</td></tr>\n",
       "\t<tr><td> 0.000000e+00</td><td> 0.000000e+00</td><td> 5.983635e-03</td><td>-7.864839e-02</td><td> 0.0751879856</td></tr>\n",
       "\t<tr><td> 0.000000e+00</td><td> 0.000000e+00</td><td>-4.621121e-04</td><td> 3.528883e-02</td><td>-0.2951752520</td></tr>\n",
       "\t<tr><td> 0.000000e+00</td><td> 0.000000e+00</td><td>-2.206091e-03</td><td>-7.968283e-03</td><td> 0.0415528813</td></tr>\n",
       "\t<tr><td> 0.000000e+00</td><td> 0.000000e+00</td><td>-1.301543e-02</td><td> 2.448522e-02</td><td>-0.0131123873</td></tr>\n",
       "\t<tr><td> 0.000000e+00</td><td> 0.000000e+00</td><td> 6.953321e-03</td><td>-1.053256e-01</td><td> 0.0016130951</td></tr>\n",
       "\t<tr><td> 0.000000e+00</td><td> 0.000000e+00</td><td>-1.267203e-03</td><td> 1.199523e-02</td><td> 0.3042646544</td></tr>\n",
       "\t<tr><td> 0.000000e+00</td><td> 0.000000e+00</td><td> 4.021241e-03</td><td>-3.692667e-03</td><td> 0.0732485073</td></tr>\n",
       "\t<tr><td> 0.000000e+00</td><td> 0.000000e+00</td><td>-1.488966e-02</td><td> 4.469656e-04</td><td>-0.0179852612</td></tr>\n",
       "\t<tr><td> 0.000000e+00</td><td> 0.000000e+00</td><td> 1.947167e-03</td><td> 9.046368e-02</td><td> 0.0066053831</td></tr>\n",
       "\t<tr><td> 0.000000e+00</td><td> 0.000000e+00</td><td>-5.585137e-04</td><td> 2.071681e-02</td><td>-0.0008323511</td></tr>\n",
       "\t<tr><td> 0.000000e+00</td><td> 0.000000e+00</td><td> 7.647319e-05</td><td>-5.377255e-03</td><td> 0.0001324455</td></tr>\n",
       "\t<tr><td> 0.000000e+00</td><td> 0.000000e+00</td><td> 1.475311e-02</td><td> 1.907475e-03</td><td> 0.0001496424</td></tr>\n",
       "\t<tr><td> 0.000000e+00</td><td> 0.000000e+00</td><td> 3.421667e-03</td><td>-2.410975e-04</td><td>-0.0294104443</td></tr>\n",
       "\t<tr><td> 0.000000e+00</td><td> 0.000000e+00</td><td>-8.614035e-04</td><td> 3.587880e-05</td><td>-0.1233453613</td></tr>\n",
       "\t<tr><td> 0.000000e+00</td><td> 0.000000e+00</td><td> 3.080814e-04</td><td> 3.787767e-05</td><td>-0.2481770760</td></tr>\n",
       "\t<tr><td> 0.000000e+00</td><td> 0.000000e+00</td><td>-6.121555e-05</td><td>-8.728619e-03</td><td>-0.0003922840</td></tr>\n",
       "\t<tr><td> 0.000000e+00</td><td> 0.000000e+00</td><td> 9.602785e-06</td><td>-4.036403e-02</td><td>-0.0037927779</td></tr>\n",
       "\t<tr><td> 0.000000e+00</td><td> 0.000000e+00</td><td> 1.007030e-05</td><td>-8.083415e-02</td><td>-0.0990315770</td></tr>\n",
       "\t<tr><td> 0.000000e+00</td><td> 0.000000e+00</td><td>-1.802883e-03</td><td>-1.228067e-04</td><td>-0.2033936424</td></tr>\n",
       "\t<tr><td> 0.000000e+00</td><td> 0.000000e+00</td><td>-8.440739e-03</td><td>-1.070329e-03</td><td> 0.0972352109</td></tr>\n",
       "\t<tr><td> 0.000000e+00</td><td> 0.000000e+00</td><td>-1.600966e-02</td><td>-2.739723e-02</td><td>-0.0069048599</td></tr>\n",
       "\t<tr><td> 0.000000e+00</td><td> 0.000000e+00</td><td>-2.445878e-05</td><td>-5.789181e-02</td><td>-0.0322321848</td></tr>\n",
       "\t<tr><td> 0.000000e+00</td><td> 0.000000e+00</td><td>-2.666215e-04</td><td> 3.268851e-02</td><td>-0.2125066442</td></tr>\n",
       "\t<tr><td> 0.000000e+00</td><td> 0.000000e+00</td><td>-7.805862e-03</td><td>-2.293770e-03</td><td> 0.0884864343</td></tr>\n",
       "\t<tr><td> 0.000000e+00</td><td> 0.000000e+00</td><td>-1.725119e-02</td><td>-1.131050e-02</td><td>-0.0181471101</td></tr>\n",
       "\t<tr><td> 0.000000e+00</td><td> 0.000000e+00</td><td> 8.353731e-03</td><td>-7.470611e-02</td><td> 0.0590729232</td></tr>\n",
       "\t<tr><td> 0.000000e+00</td><td> 0.000000e+00</td><td>-5.655105e-04</td><td> 3.095977e-02</td><td>-0.2287287204</td></tr>\n",
       "\t<tr><td> 0.000000e+00</td><td> 0.000000e+00</td><td>-2.999349e-03</td><td>-6.782944e-03</td><td> 0.0303337134</td></tr>\n",
       "\t<tr><td> 0.000000e+00</td><td> 0.000000e+00</td><td>-1.995545e-02</td><td> 2.253953e-02</td><td>-0.0099002814</td></tr>\n",
       "\t<tr><td> 0.000000e+00</td><td> 0.000000e+00</td><td> 9.833465e-03</td><td>-9.405023e-02</td><td> 0.0012829273</td></tr>\n",
       "\t<tr><td> 0.000000e+00</td><td> 0.000000e+00</td><td>-1.878582e-03</td><td> 1.238361e-02</td><td> 0.2500020962</td></tr>\n",
       "\t<tr><td> 0.000000e+00</td><td> 0.000000e+00</td><td> 6.973063e-03</td><td>-4.594592e-03</td><td> 0.0694819445</td></tr>\n",
       "\t<tr><td> 0.000000e+00</td><td> 0.000000e+00</td><td>-3.180495e-02</td><td> 5.854018e-04</td><td>-0.0162423079</td></tr>\n",
       "\t<tr><td> 0.000000e+00</td><td> 0.000000e+00</td><td> 4.664039e-03</td><td> 1.176790e-01</td><td> 0.0058490958</td></tr>\n",
       "\t<tr><td> 0.000000e+00</td><td> 0.000000e+00</td><td>-1.509874e-03</td><td> 3.014426e-02</td><td>-0.0007026091</td></tr>\n",
       "\t<tr><td> 0.000000e+00</td><td> 0.000000e+00</td><td> 1.602269e-04</td><td>-6.609372e-03</td><td> 0.0001036472</td></tr>\n",
       "\t<tr><td> 0.000000e+00</td><td> 0.000000e+00</td><td> 3.931893e-02</td><td> 2.621104e-03</td><td> 0.0001227874</td></tr>\n",
       "\t<tr><td> 0.000000e+00</td><td> 0.000000e+00</td><td> 1.016400e-02</td><td>-3.353607e-04</td><td>-0.0241111635</td></tr>\n",
       "\t<tr><td> 0.000000e+00</td><td> 0.000000e+00</td><td>-2.378176e-03</td><td> 4.954951e-05</td><td>-0.0995398063</td></tr>\n",
       "\t<tr><td> 0.000000e+00</td><td> 0.000000e+00</td><td> 8.949967e-04</td><td> 5.320828e-05</td><td>-0.1909393377</td></tr>\n",
       "\t<tr><td> 0.000000e+00</td><td> 0.000000e+00</td><td>-1.321658e-04</td><td>-1.142961e-02</td><td>-0.0003524244</td></tr>\n",
       "\t<tr><td> 0.000000e+00</td><td> 0.000000e+00</td><td> 1.916801e-05</td><td>-4.615029e-02</td><td>-0.0030476130</td></tr>\n",
       "\t<tr><td> 0.000000e+00</td><td> 0.000000e+00</td><td> 2.311908e-05</td><td>-1.058724e-01</td><td>-0.0906433851</td></tr>\n",
       "\t<tr><td> 5.512519e-04</td><td> 0.000000e+00</td><td>-4.557173e-03</td><td>-1.830345e-04</td><td>-0.1947099019</td></tr>\n",
       "\t<tr><td>-1.061157e-04</td><td> 0.000000e+00</td><td>-2.363819e-02</td><td>-1.985874e-03</td><td> 0.1140933716</td></tr>\n",
       "\t<tr><td> 7.205149e-05</td><td> 0.000000e+00</td><td>-5.635656e-02</td><td>-5.616334e-02</td><td>-0.0079926472</td></tr>\n",
       "\t<tr><td>-8.675547e-06</td><td>-1.586336e-04</td><td>-9.533426e-05</td><td>-1.185822e-01</td><td>-0.0381465752</td></tr>\n",
       "\t<tr><td> 7.978790e-07</td><td>-2.710022e-03</td><td>-9.107883e-04</td><td> 6.127684e-02</td><td>-0.2371763372</td></tr>\n",
       "\t<tr><td> 1.198231e-06</td><td>-7.405203e-03</td><td>-2.823510e-02</td><td>-4.686009e-03</td><td> 0.1071587423</td></tr>\n",
       "\t<tr><td>-3.315865e-04</td><td>-1.599951e-05</td><td>-6.713452e-02</td><td>-2.303425e-02</td><td>-0.0223617664</td></tr>\n",
       "</tbody>\n",
       "</table>\n"
      ],
      "text/latex": [
       "A data.frame: 53 × 5\n",
       "\\begin{tabular}{lllll}\n",
       " V1 & V2 & V3 & V4 & V5\\\\\n",
       " <dbl> & <dbl> & <dbl> & <dbl> & <dbl>\\\\\n",
       "\\hline\n",
       "\t  0.000000e+00 &  0.000000e+00 & -1.286648e-04 &  1.881538e-02 & -0.2144792743\\\\\n",
       "\t  0.000000e+00 &  0.000000e+00 & -3.777404e-03 & -1.690566e-03 &  0.1007334613\\\\\n",
       "\t  0.000000e+00 &  0.000000e+00 & -1.054373e-02 & -1.140460e-02 & -0.0215080527\\\\\n",
       "\t  0.000000e+00 &  0.000000e+00 &  5.983635e-03 & -7.864839e-02 &  0.0751879856\\\\\n",
       "\t  0.000000e+00 &  0.000000e+00 & -4.621121e-04 &  3.528883e-02 & -0.2951752520\\\\\n",
       "\t  0.000000e+00 &  0.000000e+00 & -2.206091e-03 & -7.968283e-03 &  0.0415528813\\\\\n",
       "\t  0.000000e+00 &  0.000000e+00 & -1.301543e-02 &  2.448522e-02 & -0.0131123873\\\\\n",
       "\t  0.000000e+00 &  0.000000e+00 &  6.953321e-03 & -1.053256e-01 &  0.0016130951\\\\\n",
       "\t  0.000000e+00 &  0.000000e+00 & -1.267203e-03 &  1.199523e-02 &  0.3042646544\\\\\n",
       "\t  0.000000e+00 &  0.000000e+00 &  4.021241e-03 & -3.692667e-03 &  0.0732485073\\\\\n",
       "\t  0.000000e+00 &  0.000000e+00 & -1.488966e-02 &  4.469656e-04 & -0.0179852612\\\\\n",
       "\t  0.000000e+00 &  0.000000e+00 &  1.947167e-03 &  9.046368e-02 &  0.0066053831\\\\\n",
       "\t  0.000000e+00 &  0.000000e+00 & -5.585137e-04 &  2.071681e-02 & -0.0008323511\\\\\n",
       "\t  0.000000e+00 &  0.000000e+00 &  7.647319e-05 & -5.377255e-03 &  0.0001324455\\\\\n",
       "\t  0.000000e+00 &  0.000000e+00 &  1.475311e-02 &  1.907475e-03 &  0.0001496424\\\\\n",
       "\t  0.000000e+00 &  0.000000e+00 &  3.421667e-03 & -2.410975e-04 & -0.0294104443\\\\\n",
       "\t  0.000000e+00 &  0.000000e+00 & -8.614035e-04 &  3.587880e-05 & -0.1233453613\\\\\n",
       "\t  0.000000e+00 &  0.000000e+00 &  3.080814e-04 &  3.787767e-05 & -0.2481770760\\\\\n",
       "\t  0.000000e+00 &  0.000000e+00 & -6.121555e-05 & -8.728619e-03 & -0.0003922840\\\\\n",
       "\t  0.000000e+00 &  0.000000e+00 &  9.602785e-06 & -4.036403e-02 & -0.0037927779\\\\\n",
       "\t  0.000000e+00 &  0.000000e+00 &  1.007030e-05 & -8.083415e-02 & -0.0990315770\\\\\n",
       "\t  0.000000e+00 &  0.000000e+00 & -1.802883e-03 & -1.228067e-04 & -0.2033936424\\\\\n",
       "\t  0.000000e+00 &  0.000000e+00 & -8.440739e-03 & -1.070329e-03 &  0.0972352109\\\\\n",
       "\t  0.000000e+00 &  0.000000e+00 & -1.600966e-02 & -2.739723e-02 & -0.0069048599\\\\\n",
       "\t  0.000000e+00 &  0.000000e+00 & -2.445878e-05 & -5.789181e-02 & -0.0322321848\\\\\n",
       "\t  0.000000e+00 &  0.000000e+00 & -2.666215e-04 &  3.268851e-02 & -0.2125066442\\\\\n",
       "\t  0.000000e+00 &  0.000000e+00 & -7.805862e-03 & -2.293770e-03 &  0.0884864343\\\\\n",
       "\t  0.000000e+00 &  0.000000e+00 & -1.725119e-02 & -1.131050e-02 & -0.0181471101\\\\\n",
       "\t  0.000000e+00 &  0.000000e+00 &  8.353731e-03 & -7.470611e-02 &  0.0590729232\\\\\n",
       "\t  0.000000e+00 &  0.000000e+00 & -5.655105e-04 &  3.095977e-02 & -0.2287287204\\\\\n",
       "\t  0.000000e+00 &  0.000000e+00 & -2.999349e-03 & -6.782944e-03 &  0.0303337134\\\\\n",
       "\t  0.000000e+00 &  0.000000e+00 & -1.995545e-02 &  2.253953e-02 & -0.0099002814\\\\\n",
       "\t  0.000000e+00 &  0.000000e+00 &  9.833465e-03 & -9.405023e-02 &  0.0012829273\\\\\n",
       "\t  0.000000e+00 &  0.000000e+00 & -1.878582e-03 &  1.238361e-02 &  0.2500020962\\\\\n",
       "\t  0.000000e+00 &  0.000000e+00 &  6.973063e-03 & -4.594592e-03 &  0.0694819445\\\\\n",
       "\t  0.000000e+00 &  0.000000e+00 & -3.180495e-02 &  5.854018e-04 & -0.0162423079\\\\\n",
       "\t  0.000000e+00 &  0.000000e+00 &  4.664039e-03 &  1.176790e-01 &  0.0058490958\\\\\n",
       "\t  0.000000e+00 &  0.000000e+00 & -1.509874e-03 &  3.014426e-02 & -0.0007026091\\\\\n",
       "\t  0.000000e+00 &  0.000000e+00 &  1.602269e-04 & -6.609372e-03 &  0.0001036472\\\\\n",
       "\t  0.000000e+00 &  0.000000e+00 &  3.931893e-02 &  2.621104e-03 &  0.0001227874\\\\\n",
       "\t  0.000000e+00 &  0.000000e+00 &  1.016400e-02 & -3.353607e-04 & -0.0241111635\\\\\n",
       "\t  0.000000e+00 &  0.000000e+00 & -2.378176e-03 &  4.954951e-05 & -0.0995398063\\\\\n",
       "\t  0.000000e+00 &  0.000000e+00 &  8.949967e-04 &  5.320828e-05 & -0.1909393377\\\\\n",
       "\t  0.000000e+00 &  0.000000e+00 & -1.321658e-04 & -1.142961e-02 & -0.0003524244\\\\\n",
       "\t  0.000000e+00 &  0.000000e+00 &  1.916801e-05 & -4.615029e-02 & -0.0030476130\\\\\n",
       "\t  0.000000e+00 &  0.000000e+00 &  2.311908e-05 & -1.058724e-01 & -0.0906433851\\\\\n",
       "\t  5.512519e-04 &  0.000000e+00 & -4.557173e-03 & -1.830345e-04 & -0.1947099019\\\\\n",
       "\t -1.061157e-04 &  0.000000e+00 & -2.363819e-02 & -1.985874e-03 &  0.1140933716\\\\\n",
       "\t  7.205149e-05 &  0.000000e+00 & -5.635656e-02 & -5.616334e-02 & -0.0079926472\\\\\n",
       "\t -8.675547e-06 & -1.586336e-04 & -9.533426e-05 & -1.185822e-01 & -0.0381465752\\\\\n",
       "\t  7.978790e-07 & -2.710022e-03 & -9.107883e-04 &  6.127684e-02 & -0.2371763372\\\\\n",
       "\t  1.198231e-06 & -7.405203e-03 & -2.823510e-02 & -4.686009e-03 &  0.1071587423\\\\\n",
       "\t -3.315865e-04 & -1.599951e-05 & -6.713452e-02 & -2.303425e-02 & -0.0223617664\\\\\n",
       "\\end{tabular}\n"
      ],
      "text/markdown": [
       "\n",
       "A data.frame: 53 × 5\n",
       "\n",
       "| V1 &lt;dbl&gt; | V2 &lt;dbl&gt; | V3 &lt;dbl&gt; | V4 &lt;dbl&gt; | V5 &lt;dbl&gt; |\n",
       "|---|---|---|---|---|\n",
       "|  0.000000e+00 |  0.000000e+00 | -1.286648e-04 |  1.881538e-02 | -0.2144792743 |\n",
       "|  0.000000e+00 |  0.000000e+00 | -3.777404e-03 | -1.690566e-03 |  0.1007334613 |\n",
       "|  0.000000e+00 |  0.000000e+00 | -1.054373e-02 | -1.140460e-02 | -0.0215080527 |\n",
       "|  0.000000e+00 |  0.000000e+00 |  5.983635e-03 | -7.864839e-02 |  0.0751879856 |\n",
       "|  0.000000e+00 |  0.000000e+00 | -4.621121e-04 |  3.528883e-02 | -0.2951752520 |\n",
       "|  0.000000e+00 |  0.000000e+00 | -2.206091e-03 | -7.968283e-03 |  0.0415528813 |\n",
       "|  0.000000e+00 |  0.000000e+00 | -1.301543e-02 |  2.448522e-02 | -0.0131123873 |\n",
       "|  0.000000e+00 |  0.000000e+00 |  6.953321e-03 | -1.053256e-01 |  0.0016130951 |\n",
       "|  0.000000e+00 |  0.000000e+00 | -1.267203e-03 |  1.199523e-02 |  0.3042646544 |\n",
       "|  0.000000e+00 |  0.000000e+00 |  4.021241e-03 | -3.692667e-03 |  0.0732485073 |\n",
       "|  0.000000e+00 |  0.000000e+00 | -1.488966e-02 |  4.469656e-04 | -0.0179852612 |\n",
       "|  0.000000e+00 |  0.000000e+00 |  1.947167e-03 |  9.046368e-02 |  0.0066053831 |\n",
       "|  0.000000e+00 |  0.000000e+00 | -5.585137e-04 |  2.071681e-02 | -0.0008323511 |\n",
       "|  0.000000e+00 |  0.000000e+00 |  7.647319e-05 | -5.377255e-03 |  0.0001324455 |\n",
       "|  0.000000e+00 |  0.000000e+00 |  1.475311e-02 |  1.907475e-03 |  0.0001496424 |\n",
       "|  0.000000e+00 |  0.000000e+00 |  3.421667e-03 | -2.410975e-04 | -0.0294104443 |\n",
       "|  0.000000e+00 |  0.000000e+00 | -8.614035e-04 |  3.587880e-05 | -0.1233453613 |\n",
       "|  0.000000e+00 |  0.000000e+00 |  3.080814e-04 |  3.787767e-05 | -0.2481770760 |\n",
       "|  0.000000e+00 |  0.000000e+00 | -6.121555e-05 | -8.728619e-03 | -0.0003922840 |\n",
       "|  0.000000e+00 |  0.000000e+00 |  9.602785e-06 | -4.036403e-02 | -0.0037927779 |\n",
       "|  0.000000e+00 |  0.000000e+00 |  1.007030e-05 | -8.083415e-02 | -0.0990315770 |\n",
       "|  0.000000e+00 |  0.000000e+00 | -1.802883e-03 | -1.228067e-04 | -0.2033936424 |\n",
       "|  0.000000e+00 |  0.000000e+00 | -8.440739e-03 | -1.070329e-03 |  0.0972352109 |\n",
       "|  0.000000e+00 |  0.000000e+00 | -1.600966e-02 | -2.739723e-02 | -0.0069048599 |\n",
       "|  0.000000e+00 |  0.000000e+00 | -2.445878e-05 | -5.789181e-02 | -0.0322321848 |\n",
       "|  0.000000e+00 |  0.000000e+00 | -2.666215e-04 |  3.268851e-02 | -0.2125066442 |\n",
       "|  0.000000e+00 |  0.000000e+00 | -7.805862e-03 | -2.293770e-03 |  0.0884864343 |\n",
       "|  0.000000e+00 |  0.000000e+00 | -1.725119e-02 | -1.131050e-02 | -0.0181471101 |\n",
       "|  0.000000e+00 |  0.000000e+00 |  8.353731e-03 | -7.470611e-02 |  0.0590729232 |\n",
       "|  0.000000e+00 |  0.000000e+00 | -5.655105e-04 |  3.095977e-02 | -0.2287287204 |\n",
       "|  0.000000e+00 |  0.000000e+00 | -2.999349e-03 | -6.782944e-03 |  0.0303337134 |\n",
       "|  0.000000e+00 |  0.000000e+00 | -1.995545e-02 |  2.253953e-02 | -0.0099002814 |\n",
       "|  0.000000e+00 |  0.000000e+00 |  9.833465e-03 | -9.405023e-02 |  0.0012829273 |\n",
       "|  0.000000e+00 |  0.000000e+00 | -1.878582e-03 |  1.238361e-02 |  0.2500020962 |\n",
       "|  0.000000e+00 |  0.000000e+00 |  6.973063e-03 | -4.594592e-03 |  0.0694819445 |\n",
       "|  0.000000e+00 |  0.000000e+00 | -3.180495e-02 |  5.854018e-04 | -0.0162423079 |\n",
       "|  0.000000e+00 |  0.000000e+00 |  4.664039e-03 |  1.176790e-01 |  0.0058490958 |\n",
       "|  0.000000e+00 |  0.000000e+00 | -1.509874e-03 |  3.014426e-02 | -0.0007026091 |\n",
       "|  0.000000e+00 |  0.000000e+00 |  1.602269e-04 | -6.609372e-03 |  0.0001036472 |\n",
       "|  0.000000e+00 |  0.000000e+00 |  3.931893e-02 |  2.621104e-03 |  0.0001227874 |\n",
       "|  0.000000e+00 |  0.000000e+00 |  1.016400e-02 | -3.353607e-04 | -0.0241111635 |\n",
       "|  0.000000e+00 |  0.000000e+00 | -2.378176e-03 |  4.954951e-05 | -0.0995398063 |\n",
       "|  0.000000e+00 |  0.000000e+00 |  8.949967e-04 |  5.320828e-05 | -0.1909393377 |\n",
       "|  0.000000e+00 |  0.000000e+00 | -1.321658e-04 | -1.142961e-02 | -0.0003524244 |\n",
       "|  0.000000e+00 |  0.000000e+00 |  1.916801e-05 | -4.615029e-02 | -0.0030476130 |\n",
       "|  0.000000e+00 |  0.000000e+00 |  2.311908e-05 | -1.058724e-01 | -0.0906433851 |\n",
       "|  5.512519e-04 |  0.000000e+00 | -4.557173e-03 | -1.830345e-04 | -0.1947099019 |\n",
       "| -1.061157e-04 |  0.000000e+00 | -2.363819e-02 | -1.985874e-03 |  0.1140933716 |\n",
       "|  7.205149e-05 |  0.000000e+00 | -5.635656e-02 | -5.616334e-02 | -0.0079926472 |\n",
       "| -8.675547e-06 | -1.586336e-04 | -9.533426e-05 | -1.185822e-01 | -0.0381465752 |\n",
       "|  7.978790e-07 | -2.710022e-03 | -9.107883e-04 |  6.127684e-02 | -0.2371763372 |\n",
       "|  1.198231e-06 | -7.405203e-03 | -2.823510e-02 | -4.686009e-03 |  0.1071587423 |\n",
       "| -3.315865e-04 | -1.599951e-05 | -6.713452e-02 | -2.303425e-02 | -0.0223617664 |\n",
       "\n"
      ],
      "text/plain": [
       "   V1            V2            V3            V4            V5           \n",
       "1   0.000000e+00  0.000000e+00 -1.286648e-04  1.881538e-02 -0.2144792743\n",
       "2   0.000000e+00  0.000000e+00 -3.777404e-03 -1.690566e-03  0.1007334613\n",
       "3   0.000000e+00  0.000000e+00 -1.054373e-02 -1.140460e-02 -0.0215080527\n",
       "4   0.000000e+00  0.000000e+00  5.983635e-03 -7.864839e-02  0.0751879856\n",
       "5   0.000000e+00  0.000000e+00 -4.621121e-04  3.528883e-02 -0.2951752520\n",
       "6   0.000000e+00  0.000000e+00 -2.206091e-03 -7.968283e-03  0.0415528813\n",
       "7   0.000000e+00  0.000000e+00 -1.301543e-02  2.448522e-02 -0.0131123873\n",
       "8   0.000000e+00  0.000000e+00  6.953321e-03 -1.053256e-01  0.0016130951\n",
       "9   0.000000e+00  0.000000e+00 -1.267203e-03  1.199523e-02  0.3042646544\n",
       "10  0.000000e+00  0.000000e+00  4.021241e-03 -3.692667e-03  0.0732485073\n",
       "11  0.000000e+00  0.000000e+00 -1.488966e-02  4.469656e-04 -0.0179852612\n",
       "12  0.000000e+00  0.000000e+00  1.947167e-03  9.046368e-02  0.0066053831\n",
       "13  0.000000e+00  0.000000e+00 -5.585137e-04  2.071681e-02 -0.0008323511\n",
       "14  0.000000e+00  0.000000e+00  7.647319e-05 -5.377255e-03  0.0001324455\n",
       "15  0.000000e+00  0.000000e+00  1.475311e-02  1.907475e-03  0.0001496424\n",
       "16  0.000000e+00  0.000000e+00  3.421667e-03 -2.410975e-04 -0.0294104443\n",
       "17  0.000000e+00  0.000000e+00 -8.614035e-04  3.587880e-05 -0.1233453613\n",
       "18  0.000000e+00  0.000000e+00  3.080814e-04  3.787767e-05 -0.2481770760\n",
       "19  0.000000e+00  0.000000e+00 -6.121555e-05 -8.728619e-03 -0.0003922840\n",
       "20  0.000000e+00  0.000000e+00  9.602785e-06 -4.036403e-02 -0.0037927779\n",
       "21  0.000000e+00  0.000000e+00  1.007030e-05 -8.083415e-02 -0.0990315770\n",
       "22  0.000000e+00  0.000000e+00 -1.802883e-03 -1.228067e-04 -0.2033936424\n",
       "23  0.000000e+00  0.000000e+00 -8.440739e-03 -1.070329e-03  0.0972352109\n",
       "24  0.000000e+00  0.000000e+00 -1.600966e-02 -2.739723e-02 -0.0069048599\n",
       "25  0.000000e+00  0.000000e+00 -2.445878e-05 -5.789181e-02 -0.0322321848\n",
       "26  0.000000e+00  0.000000e+00 -2.666215e-04  3.268851e-02 -0.2125066442\n",
       "27  0.000000e+00  0.000000e+00 -7.805862e-03 -2.293770e-03  0.0884864343\n",
       "28  0.000000e+00  0.000000e+00 -1.725119e-02 -1.131050e-02 -0.0181471101\n",
       "29  0.000000e+00  0.000000e+00  8.353731e-03 -7.470611e-02  0.0590729232\n",
       "30  0.000000e+00  0.000000e+00 -5.655105e-04  3.095977e-02 -0.2287287204\n",
       "31  0.000000e+00  0.000000e+00 -2.999349e-03 -6.782944e-03  0.0303337134\n",
       "32  0.000000e+00  0.000000e+00 -1.995545e-02  2.253953e-02 -0.0099002814\n",
       "33  0.000000e+00  0.000000e+00  9.833465e-03 -9.405023e-02  0.0012829273\n",
       "34  0.000000e+00  0.000000e+00 -1.878582e-03  1.238361e-02  0.2500020962\n",
       "35  0.000000e+00  0.000000e+00  6.973063e-03 -4.594592e-03  0.0694819445\n",
       "36  0.000000e+00  0.000000e+00 -3.180495e-02  5.854018e-04 -0.0162423079\n",
       "37  0.000000e+00  0.000000e+00  4.664039e-03  1.176790e-01  0.0058490958\n",
       "38  0.000000e+00  0.000000e+00 -1.509874e-03  3.014426e-02 -0.0007026091\n",
       "39  0.000000e+00  0.000000e+00  1.602269e-04 -6.609372e-03  0.0001036472\n",
       "40  0.000000e+00  0.000000e+00  3.931893e-02  2.621104e-03  0.0001227874\n",
       "41  0.000000e+00  0.000000e+00  1.016400e-02 -3.353607e-04 -0.0241111635\n",
       "42  0.000000e+00  0.000000e+00 -2.378176e-03  4.954951e-05 -0.0995398063\n",
       "43  0.000000e+00  0.000000e+00  8.949967e-04  5.320828e-05 -0.1909393377\n",
       "44  0.000000e+00  0.000000e+00 -1.321658e-04 -1.142961e-02 -0.0003524244\n",
       "45  0.000000e+00  0.000000e+00  1.916801e-05 -4.615029e-02 -0.0030476130\n",
       "46  0.000000e+00  0.000000e+00  2.311908e-05 -1.058724e-01 -0.0906433851\n",
       "47  5.512519e-04  0.000000e+00 -4.557173e-03 -1.830345e-04 -0.1947099019\n",
       "48 -1.061157e-04  0.000000e+00 -2.363819e-02 -1.985874e-03  0.1140933716\n",
       "49  7.205149e-05  0.000000e+00 -5.635656e-02 -5.616334e-02 -0.0079926472\n",
       "50 -8.675547e-06 -1.586336e-04 -9.533426e-05 -1.185822e-01 -0.0381465752\n",
       "51  7.978790e-07 -2.710022e-03 -9.107883e-04  6.127684e-02 -0.2371763372\n",
       "52  1.198231e-06 -7.405203e-03 -2.823510e-02 -4.686009e-03  0.1071587423\n",
       "53 -3.315865e-04 -1.599951e-05 -6.713452e-02 -2.303425e-02 -0.0223617664"
      ]
     },
     "metadata": {},
     "output_type": "display_data"
    }
   ],
   "source": [
    "Y <- MatofAlphas*A\n",
    "Y"
   ]
  },
  {
   "cell_type": "code",
   "execution_count": 47,
   "id": "8891c81a",
   "metadata": {},
   "outputs": [
    {
     "data": {
      "text/html": [
       "<table class=\"dataframe\">\n",
       "<caption>A data.frame: 53 × 5</caption>\n",
       "<thead>\n",
       "\t<tr><th scope=col>V1</th><th scope=col>V2</th><th scope=col>V3</th><th scope=col>V4</th><th scope=col>V5</th></tr>\n",
       "\t<tr><th scope=col>&lt;dbl&gt;</th><th scope=col>&lt;dbl&gt;</th><th scope=col>&lt;dbl&gt;</th><th scope=col>&lt;dbl&gt;</th><th scope=col>&lt;dbl&gt;</th></tr>\n",
       "</thead>\n",
       "<tbody>\n",
       "\t<tr><td> 0.000000e+00</td><td> 0.000000e+00</td><td>-7.622674e-07</td><td> 1.114706e-04</td><td>-4.423423e-04</td></tr>\n",
       "\t<tr><td> 0.000000e+00</td><td> 0.000000e+00</td><td>-2.237902e-05</td><td>-3.486624e-06</td><td> 2.077528e-04</td></tr>\n",
       "\t<tr><td> 0.000000e+00</td><td> 0.000000e+00</td><td>-6.246573e-05</td><td>-2.352085e-05</td><td>-4.435823e-05</td></tr>\n",
       "\t<tr><td> 0.000000e+00</td><td> 0.000000e+00</td><td> 3.544970e-05</td><td>-1.622045e-04</td><td> 5.723405e-05</td></tr>\n",
       "\t<tr><td> 0.000000e+00</td><td> 0.000000e+00</td><td>-9.530605e-07</td><td> 7.277971e-05</td><td>-2.246911e-04</td></tr>\n",
       "\t<tr><td> 0.000000e+00</td><td> 0.000000e+00</td><td>-4.549844e-06</td><td>-1.643380e-05</td><td> 3.163058e-05</td></tr>\n",
       "\t<tr><td> 0.000000e+00</td><td> 0.000000e+00</td><td>-2.684304e-05</td><td> 1.863846e-05</td><td>-9.981316e-06</td></tr>\n",
       "\t<tr><td> 0.000000e+00</td><td> 0.000000e+00</td><td> 1.434054e-05</td><td>-8.017515e-05</td><td> 1.227908e-06</td></tr>\n",
       "\t<tr><td> 0.000000e+00</td><td> 0.000000e+00</td><td>-2.613481e-06</td><td> 9.130919e-06</td><td> 1.291831e-04</td></tr>\n",
       "\t<tr><td> 0.000000e+00</td><td> 0.000000e+00</td><td> 3.061020e-06</td><td>-2.810905e-06</td><td> 3.109946e-05</td></tr>\n",
       "\t<tr><td> 0.000000e+00</td><td> 0.000000e+00</td><td>-1.133420e-05</td><td> 3.402359e-07</td><td>-7.636087e-06</td></tr>\n",
       "\t<tr><td> 0.000000e+00</td><td> 0.000000e+00</td><td> 1.482208e-06</td><td> 3.840859e-05</td><td> 2.804479e-06</td></tr>\n",
       "\t<tr><td> 0.000000e+00</td><td> 0.000000e+00</td><td>-4.251477e-07</td><td> 8.795833e-06</td><td>-3.533952e-07</td></tr>\n",
       "\t<tr><td> 0.000000e+00</td><td> 0.000000e+00</td><td> 5.821237e-08</td><td>-2.283046e-06</td><td> 2.023675e-06</td></tr>\n",
       "\t<tr><td> 0.000000e+00</td><td> 0.000000e+00</td><td> 6.263799e-06</td><td> 8.098655e-07</td><td> 2.286430e-06</td></tr>\n",
       "\t<tr><td> 0.000000e+00</td><td> 0.000000e+00</td><td> 1.452753e-06</td><td>-1.023639e-07</td><td>-4.493709e-04</td></tr>\n",
       "\t<tr><td> 0.000000e+00</td><td> 0.000000e+00</td><td>-3.657301e-07</td><td> 5.482028e-07</td><td>-1.884630e-03</td></tr>\n",
       "\t<tr><td> 0.000000e+00</td><td> 0.000000e+00</td><td> 1.308036e-07</td><td> 5.787440e-07</td><td>-3.791971e-03</td></tr>\n",
       "\t<tr><td> 0.000000e+00</td><td> 0.000000e+00</td><td>-2.599057e-08</td><td>-1.333671e-04</td><td>-2.324065e-06</td></tr>\n",
       "\t<tr><td> 0.000000e+00</td><td> 0.000000e+00</td><td> 1.467238e-07</td><td>-6.167339e-04</td><td>-2.247010e-05</td></tr>\n",
       "\t<tr><td> 0.000000e+00</td><td> 0.000000e+00</td><td> 1.538671e-07</td><td>-1.235089e-03</td><td>-5.867070e-04</td></tr>\n",
       "\t<tr><td> 0.000000e+00</td><td> 0.000000e+00</td><td>-2.754678e-05</td><td>-7.275612e-07</td><td>-1.204994e-03</td></tr>\n",
       "\t<tr><td> 0.000000e+00</td><td> 0.000000e+00</td><td>-1.289685e-04</td><td>-6.341104e-06</td><td> 5.760645e-04</td></tr>\n",
       "\t<tr><td> 0.000000e+00</td><td> 0.000000e+00</td><td>-2.446163e-04</td><td>-1.623133e-04</td><td>-1.424059e-05</td></tr>\n",
       "\t<tr><td> 0.000000e+00</td><td> 0.000000e+00</td><td>-1.449047e-07</td><td>-3.429768e-04</td><td>-6.647569e-05</td></tr>\n",
       "\t<tr><td> 0.000000e+00</td><td> 0.000000e+00</td><td>-1.579584e-06</td><td> 1.936612e-04</td><td>-4.382739e-04</td></tr>\n",
       "\t<tr><td> 0.000000e+00</td><td> 0.000000e+00</td><td>-4.624539e-05</td><td>-4.730673e-06</td><td> 1.824945e-04</td></tr>\n",
       "\t<tr><td> 0.000000e+00</td><td> 0.000000e+00</td><td>-1.022037e-04</td><td>-2.332679e-05</td><td>-3.742662e-05</td></tr>\n",
       "\t<tr><td> 0.000000e+00</td><td> 0.000000e+00</td><td> 4.949121e-05</td><td>-1.540740e-04</td><td> 4.496706e-05</td></tr>\n",
       "\t<tr><td> 0.000000e+00</td><td> 0.000000e+00</td><td>-1.166309e-06</td><td> 6.385145e-05</td><td>-1.741112e-04</td></tr>\n",
       "\t<tr><td> 0.000000e+00</td><td> 0.000000e+00</td><td>-6.185860e-06</td><td>-1.398915e-05</td><td> 2.309041e-05</td></tr>\n",
       "\t<tr><td> 0.000000e+00</td><td> 0.000000e+00</td><td>-4.115615e-05</td><td> 1.715738e-05</td><td>-7.536220e-06</td></tr>\n",
       "\t<tr><td> 0.000000e+00</td><td> 0.000000e+00</td><td> 2.028055e-05</td><td>-7.159223e-05</td><td> 9.765805e-07</td></tr>\n",
       "\t<tr><td> 0.000000e+00</td><td> 0.000000e+00</td><td>-3.874390e-06</td><td> 9.426563e-06</td><td> 1.061446e-04</td></tr>\n",
       "\t<tr><td> 0.000000e+00</td><td> 0.000000e+00</td><td> 5.307984e-06</td><td>-3.497461e-06</td><td> 2.950028e-05</td></tr>\n",
       "\t<tr><td> 0.000000e+00</td><td> 0.000000e+00</td><td>-2.421033e-05</td><td> 4.456152e-07</td><td>-6.896073e-06</td></tr>\n",
       "\t<tr><td> 0.000000e+00</td><td> 0.000000e+00</td><td> 3.550325e-06</td><td> 4.996355e-05</td><td> 2.483378e-06</td></tr>\n",
       "\t<tr><td> 0.000000e+00</td><td> 0.000000e+00</td><td>-1.149335e-06</td><td> 1.279849e-05</td><td>-2.983100e-07</td></tr>\n",
       "\t<tr><td> 0.000000e+00</td><td> 0.000000e+00</td><td> 1.219667e-07</td><td>-2.806172e-06</td><td> 1.583657e-06</td></tr>\n",
       "\t<tr><td> 0.000000e+00</td><td> 0.000000e+00</td><td> 1.669382e-05</td><td> 1.112854e-06</td><td> 1.876105e-06</td></tr>\n",
       "\t<tr><td> 0.000000e+00</td><td> 0.000000e+00</td><td> 4.315379e-06</td><td>-1.423857e-07</td><td>-3.684016e-04</td></tr>\n",
       "\t<tr><td> 0.000000e+00</td><td> 0.000000e+00</td><td>-1.009713e-06</td><td> 7.570816e-07</td><td>-1.520898e-03</td></tr>\n",
       "\t<tr><td> 0.000000e+00</td><td> 0.000000e+00</td><td> 3.799930e-07</td><td> 8.129851e-07</td><td>-2.917419e-03</td></tr>\n",
       "\t<tr><td> 0.000000e+00</td><td> 0.000000e+00</td><td>-5.611425e-08</td><td>-1.746364e-04</td><td>-2.087918e-06</td></tr>\n",
       "\t<tr><td> 0.000000e+00</td><td> 0.000000e+00</td><td> 2.928736e-07</td><td>-7.051440e-04</td><td>-1.805541e-05</td></tr>\n",
       "\t<tr><td> 0.000000e+00</td><td> 0.000000e+00</td><td> 3.532432e-07</td><td>-1.617656e-03</td><td>-5.370116e-04</td></tr>\n",
       "\t<tr><td> 2.340476e-07</td><td> 0.000000e+00</td><td>-6.963039e-05</td><td>-1.084378e-06</td><td>-1.153548e-03</td></tr>\n",
       "\t<tr><td>-4.505406e-08</td><td> 0.000000e+00</td><td>-3.611750e-04</td><td>-1.176520e-05</td><td> 6.759397e-04</td></tr>\n",
       "\t<tr><td> 3.059124e-08</td><td> 0.000000e+00</td><td>-8.610886e-04</td><td>-3.327365e-04</td><td>-1.648404e-05</td></tr>\n",
       "\t<tr><td>-3.683418e-09</td><td>-2.423810e-06</td><td>-5.648024e-07</td><td>-7.025335e-04</td><td>-7.867354e-05</td></tr>\n",
       "\t<tr><td> 1.219103e-08</td><td>-4.140723e-05</td><td>-5.395914e-06</td><td> 3.630312e-04</td><td>-4.891527e-04</td></tr>\n",
       "\t<tr><td> 1.830813e-08</td><td>-1.131463e-04</td><td>-1.672773e-04</td><td>-9.664430e-06</td><td> 2.210043e-04</td></tr>\n",
       "\t<tr><td>-5.066408e-06</td><td>-9.478822e-08</td><td>-3.977347e-04</td><td>-4.750586e-05</td><td>-4.611893e-05</td></tr>\n",
       "</tbody>\n",
       "</table>\n"
      ],
      "text/latex": [
       "A data.frame: 53 × 5\n",
       "\\begin{tabular}{lllll}\n",
       " V1 & V2 & V3 & V4 & V5\\\\\n",
       " <dbl> & <dbl> & <dbl> & <dbl> & <dbl>\\\\\n",
       "\\hline\n",
       "\t  0.000000e+00 &  0.000000e+00 & -7.622674e-07 &  1.114706e-04 & -4.423423e-04\\\\\n",
       "\t  0.000000e+00 &  0.000000e+00 & -2.237902e-05 & -3.486624e-06 &  2.077528e-04\\\\\n",
       "\t  0.000000e+00 &  0.000000e+00 & -6.246573e-05 & -2.352085e-05 & -4.435823e-05\\\\\n",
       "\t  0.000000e+00 &  0.000000e+00 &  3.544970e-05 & -1.622045e-04 &  5.723405e-05\\\\\n",
       "\t  0.000000e+00 &  0.000000e+00 & -9.530605e-07 &  7.277971e-05 & -2.246911e-04\\\\\n",
       "\t  0.000000e+00 &  0.000000e+00 & -4.549844e-06 & -1.643380e-05 &  3.163058e-05\\\\\n",
       "\t  0.000000e+00 &  0.000000e+00 & -2.684304e-05 &  1.863846e-05 & -9.981316e-06\\\\\n",
       "\t  0.000000e+00 &  0.000000e+00 &  1.434054e-05 & -8.017515e-05 &  1.227908e-06\\\\\n",
       "\t  0.000000e+00 &  0.000000e+00 & -2.613481e-06 &  9.130919e-06 &  1.291831e-04\\\\\n",
       "\t  0.000000e+00 &  0.000000e+00 &  3.061020e-06 & -2.810905e-06 &  3.109946e-05\\\\\n",
       "\t  0.000000e+00 &  0.000000e+00 & -1.133420e-05 &  3.402359e-07 & -7.636087e-06\\\\\n",
       "\t  0.000000e+00 &  0.000000e+00 &  1.482208e-06 &  3.840859e-05 &  2.804479e-06\\\\\n",
       "\t  0.000000e+00 &  0.000000e+00 & -4.251477e-07 &  8.795833e-06 & -3.533952e-07\\\\\n",
       "\t  0.000000e+00 &  0.000000e+00 &  5.821237e-08 & -2.283046e-06 &  2.023675e-06\\\\\n",
       "\t  0.000000e+00 &  0.000000e+00 &  6.263799e-06 &  8.098655e-07 &  2.286430e-06\\\\\n",
       "\t  0.000000e+00 &  0.000000e+00 &  1.452753e-06 & -1.023639e-07 & -4.493709e-04\\\\\n",
       "\t  0.000000e+00 &  0.000000e+00 & -3.657301e-07 &  5.482028e-07 & -1.884630e-03\\\\\n",
       "\t  0.000000e+00 &  0.000000e+00 &  1.308036e-07 &  5.787440e-07 & -3.791971e-03\\\\\n",
       "\t  0.000000e+00 &  0.000000e+00 & -2.599057e-08 & -1.333671e-04 & -2.324065e-06\\\\\n",
       "\t  0.000000e+00 &  0.000000e+00 &  1.467238e-07 & -6.167339e-04 & -2.247010e-05\\\\\n",
       "\t  0.000000e+00 &  0.000000e+00 &  1.538671e-07 & -1.235089e-03 & -5.867070e-04\\\\\n",
       "\t  0.000000e+00 &  0.000000e+00 & -2.754678e-05 & -7.275612e-07 & -1.204994e-03\\\\\n",
       "\t  0.000000e+00 &  0.000000e+00 & -1.289685e-04 & -6.341104e-06 &  5.760645e-04\\\\\n",
       "\t  0.000000e+00 &  0.000000e+00 & -2.446163e-04 & -1.623133e-04 & -1.424059e-05\\\\\n",
       "\t  0.000000e+00 &  0.000000e+00 & -1.449047e-07 & -3.429768e-04 & -6.647569e-05\\\\\n",
       "\t  0.000000e+00 &  0.000000e+00 & -1.579584e-06 &  1.936612e-04 & -4.382739e-04\\\\\n",
       "\t  0.000000e+00 &  0.000000e+00 & -4.624539e-05 & -4.730673e-06 &  1.824945e-04\\\\\n",
       "\t  0.000000e+00 &  0.000000e+00 & -1.022037e-04 & -2.332679e-05 & -3.742662e-05\\\\\n",
       "\t  0.000000e+00 &  0.000000e+00 &  4.949121e-05 & -1.540740e-04 &  4.496706e-05\\\\\n",
       "\t  0.000000e+00 &  0.000000e+00 & -1.166309e-06 &  6.385145e-05 & -1.741112e-04\\\\\n",
       "\t  0.000000e+00 &  0.000000e+00 & -6.185860e-06 & -1.398915e-05 &  2.309041e-05\\\\\n",
       "\t  0.000000e+00 &  0.000000e+00 & -4.115615e-05 &  1.715738e-05 & -7.536220e-06\\\\\n",
       "\t  0.000000e+00 &  0.000000e+00 &  2.028055e-05 & -7.159223e-05 &  9.765805e-07\\\\\n",
       "\t  0.000000e+00 &  0.000000e+00 & -3.874390e-06 &  9.426563e-06 &  1.061446e-04\\\\\n",
       "\t  0.000000e+00 &  0.000000e+00 &  5.307984e-06 & -3.497461e-06 &  2.950028e-05\\\\\n",
       "\t  0.000000e+00 &  0.000000e+00 & -2.421033e-05 &  4.456152e-07 & -6.896073e-06\\\\\n",
       "\t  0.000000e+00 &  0.000000e+00 &  3.550325e-06 &  4.996355e-05 &  2.483378e-06\\\\\n",
       "\t  0.000000e+00 &  0.000000e+00 & -1.149335e-06 &  1.279849e-05 & -2.983100e-07\\\\\n",
       "\t  0.000000e+00 &  0.000000e+00 &  1.219667e-07 & -2.806172e-06 &  1.583657e-06\\\\\n",
       "\t  0.000000e+00 &  0.000000e+00 &  1.669382e-05 &  1.112854e-06 &  1.876105e-06\\\\\n",
       "\t  0.000000e+00 &  0.000000e+00 &  4.315379e-06 & -1.423857e-07 & -3.684016e-04\\\\\n",
       "\t  0.000000e+00 &  0.000000e+00 & -1.009713e-06 &  7.570816e-07 & -1.520898e-03\\\\\n",
       "\t  0.000000e+00 &  0.000000e+00 &  3.799930e-07 &  8.129851e-07 & -2.917419e-03\\\\\n",
       "\t  0.000000e+00 &  0.000000e+00 & -5.611425e-08 & -1.746364e-04 & -2.087918e-06\\\\\n",
       "\t  0.000000e+00 &  0.000000e+00 &  2.928736e-07 & -7.051440e-04 & -1.805541e-05\\\\\n",
       "\t  0.000000e+00 &  0.000000e+00 &  3.532432e-07 & -1.617656e-03 & -5.370116e-04\\\\\n",
       "\t  2.340476e-07 &  0.000000e+00 & -6.963039e-05 & -1.084378e-06 & -1.153548e-03\\\\\n",
       "\t -4.505406e-08 &  0.000000e+00 & -3.611750e-04 & -1.176520e-05 &  6.759397e-04\\\\\n",
       "\t  3.059124e-08 &  0.000000e+00 & -8.610886e-04 & -3.327365e-04 & -1.648404e-05\\\\\n",
       "\t -3.683418e-09 & -2.423810e-06 & -5.648024e-07 & -7.025335e-04 & -7.867354e-05\\\\\n",
       "\t  1.219103e-08 & -4.140723e-05 & -5.395914e-06 &  3.630312e-04 & -4.891527e-04\\\\\n",
       "\t  1.830813e-08 & -1.131463e-04 & -1.672773e-04 & -9.664430e-06 &  2.210043e-04\\\\\n",
       "\t -5.066408e-06 & -9.478822e-08 & -3.977347e-04 & -4.750586e-05 & -4.611893e-05\\\\\n",
       "\\end{tabular}\n"
      ],
      "text/markdown": [
       "\n",
       "A data.frame: 53 × 5\n",
       "\n",
       "| V1 &lt;dbl&gt; | V2 &lt;dbl&gt; | V3 &lt;dbl&gt; | V4 &lt;dbl&gt; | V5 &lt;dbl&gt; |\n",
       "|---|---|---|---|---|\n",
       "|  0.000000e+00 |  0.000000e+00 | -7.622674e-07 |  1.114706e-04 | -4.423423e-04 |\n",
       "|  0.000000e+00 |  0.000000e+00 | -2.237902e-05 | -3.486624e-06 |  2.077528e-04 |\n",
       "|  0.000000e+00 |  0.000000e+00 | -6.246573e-05 | -2.352085e-05 | -4.435823e-05 |\n",
       "|  0.000000e+00 |  0.000000e+00 |  3.544970e-05 | -1.622045e-04 |  5.723405e-05 |\n",
       "|  0.000000e+00 |  0.000000e+00 | -9.530605e-07 |  7.277971e-05 | -2.246911e-04 |\n",
       "|  0.000000e+00 |  0.000000e+00 | -4.549844e-06 | -1.643380e-05 |  3.163058e-05 |\n",
       "|  0.000000e+00 |  0.000000e+00 | -2.684304e-05 |  1.863846e-05 | -9.981316e-06 |\n",
       "|  0.000000e+00 |  0.000000e+00 |  1.434054e-05 | -8.017515e-05 |  1.227908e-06 |\n",
       "|  0.000000e+00 |  0.000000e+00 | -2.613481e-06 |  9.130919e-06 |  1.291831e-04 |\n",
       "|  0.000000e+00 |  0.000000e+00 |  3.061020e-06 | -2.810905e-06 |  3.109946e-05 |\n",
       "|  0.000000e+00 |  0.000000e+00 | -1.133420e-05 |  3.402359e-07 | -7.636087e-06 |\n",
       "|  0.000000e+00 |  0.000000e+00 |  1.482208e-06 |  3.840859e-05 |  2.804479e-06 |\n",
       "|  0.000000e+00 |  0.000000e+00 | -4.251477e-07 |  8.795833e-06 | -3.533952e-07 |\n",
       "|  0.000000e+00 |  0.000000e+00 |  5.821237e-08 | -2.283046e-06 |  2.023675e-06 |\n",
       "|  0.000000e+00 |  0.000000e+00 |  6.263799e-06 |  8.098655e-07 |  2.286430e-06 |\n",
       "|  0.000000e+00 |  0.000000e+00 |  1.452753e-06 | -1.023639e-07 | -4.493709e-04 |\n",
       "|  0.000000e+00 |  0.000000e+00 | -3.657301e-07 |  5.482028e-07 | -1.884630e-03 |\n",
       "|  0.000000e+00 |  0.000000e+00 |  1.308036e-07 |  5.787440e-07 | -3.791971e-03 |\n",
       "|  0.000000e+00 |  0.000000e+00 | -2.599057e-08 | -1.333671e-04 | -2.324065e-06 |\n",
       "|  0.000000e+00 |  0.000000e+00 |  1.467238e-07 | -6.167339e-04 | -2.247010e-05 |\n",
       "|  0.000000e+00 |  0.000000e+00 |  1.538671e-07 | -1.235089e-03 | -5.867070e-04 |\n",
       "|  0.000000e+00 |  0.000000e+00 | -2.754678e-05 | -7.275612e-07 | -1.204994e-03 |\n",
       "|  0.000000e+00 |  0.000000e+00 | -1.289685e-04 | -6.341104e-06 |  5.760645e-04 |\n",
       "|  0.000000e+00 |  0.000000e+00 | -2.446163e-04 | -1.623133e-04 | -1.424059e-05 |\n",
       "|  0.000000e+00 |  0.000000e+00 | -1.449047e-07 | -3.429768e-04 | -6.647569e-05 |\n",
       "|  0.000000e+00 |  0.000000e+00 | -1.579584e-06 |  1.936612e-04 | -4.382739e-04 |\n",
       "|  0.000000e+00 |  0.000000e+00 | -4.624539e-05 | -4.730673e-06 |  1.824945e-04 |\n",
       "|  0.000000e+00 |  0.000000e+00 | -1.022037e-04 | -2.332679e-05 | -3.742662e-05 |\n",
       "|  0.000000e+00 |  0.000000e+00 |  4.949121e-05 | -1.540740e-04 |  4.496706e-05 |\n",
       "|  0.000000e+00 |  0.000000e+00 | -1.166309e-06 |  6.385145e-05 | -1.741112e-04 |\n",
       "|  0.000000e+00 |  0.000000e+00 | -6.185860e-06 | -1.398915e-05 |  2.309041e-05 |\n",
       "|  0.000000e+00 |  0.000000e+00 | -4.115615e-05 |  1.715738e-05 | -7.536220e-06 |\n",
       "|  0.000000e+00 |  0.000000e+00 |  2.028055e-05 | -7.159223e-05 |  9.765805e-07 |\n",
       "|  0.000000e+00 |  0.000000e+00 | -3.874390e-06 |  9.426563e-06 |  1.061446e-04 |\n",
       "|  0.000000e+00 |  0.000000e+00 |  5.307984e-06 | -3.497461e-06 |  2.950028e-05 |\n",
       "|  0.000000e+00 |  0.000000e+00 | -2.421033e-05 |  4.456152e-07 | -6.896073e-06 |\n",
       "|  0.000000e+00 |  0.000000e+00 |  3.550325e-06 |  4.996355e-05 |  2.483378e-06 |\n",
       "|  0.000000e+00 |  0.000000e+00 | -1.149335e-06 |  1.279849e-05 | -2.983100e-07 |\n",
       "|  0.000000e+00 |  0.000000e+00 |  1.219667e-07 | -2.806172e-06 |  1.583657e-06 |\n",
       "|  0.000000e+00 |  0.000000e+00 |  1.669382e-05 |  1.112854e-06 |  1.876105e-06 |\n",
       "|  0.000000e+00 |  0.000000e+00 |  4.315379e-06 | -1.423857e-07 | -3.684016e-04 |\n",
       "|  0.000000e+00 |  0.000000e+00 | -1.009713e-06 |  7.570816e-07 | -1.520898e-03 |\n",
       "|  0.000000e+00 |  0.000000e+00 |  3.799930e-07 |  8.129851e-07 | -2.917419e-03 |\n",
       "|  0.000000e+00 |  0.000000e+00 | -5.611425e-08 | -1.746364e-04 | -2.087918e-06 |\n",
       "|  0.000000e+00 |  0.000000e+00 |  2.928736e-07 | -7.051440e-04 | -1.805541e-05 |\n",
       "|  0.000000e+00 |  0.000000e+00 |  3.532432e-07 | -1.617656e-03 | -5.370116e-04 |\n",
       "|  2.340476e-07 |  0.000000e+00 | -6.963039e-05 | -1.084378e-06 | -1.153548e-03 |\n",
       "| -4.505406e-08 |  0.000000e+00 | -3.611750e-04 | -1.176520e-05 |  6.759397e-04 |\n",
       "|  3.059124e-08 |  0.000000e+00 | -8.610886e-04 | -3.327365e-04 | -1.648404e-05 |\n",
       "| -3.683418e-09 | -2.423810e-06 | -5.648024e-07 | -7.025335e-04 | -7.867354e-05 |\n",
       "|  1.219103e-08 | -4.140723e-05 | -5.395914e-06 |  3.630312e-04 | -4.891527e-04 |\n",
       "|  1.830813e-08 | -1.131463e-04 | -1.672773e-04 | -9.664430e-06 |  2.210043e-04 |\n",
       "| -5.066408e-06 | -9.478822e-08 | -3.977347e-04 | -4.750586e-05 | -4.611893e-05 |\n",
       "\n"
      ],
      "text/plain": [
       "   V1            V2            V3            V4            V5           \n",
       "1   0.000000e+00  0.000000e+00 -7.622674e-07  1.114706e-04 -4.423423e-04\n",
       "2   0.000000e+00  0.000000e+00 -2.237902e-05 -3.486624e-06  2.077528e-04\n",
       "3   0.000000e+00  0.000000e+00 -6.246573e-05 -2.352085e-05 -4.435823e-05\n",
       "4   0.000000e+00  0.000000e+00  3.544970e-05 -1.622045e-04  5.723405e-05\n",
       "5   0.000000e+00  0.000000e+00 -9.530605e-07  7.277971e-05 -2.246911e-04\n",
       "6   0.000000e+00  0.000000e+00 -4.549844e-06 -1.643380e-05  3.163058e-05\n",
       "7   0.000000e+00  0.000000e+00 -2.684304e-05  1.863846e-05 -9.981316e-06\n",
       "8   0.000000e+00  0.000000e+00  1.434054e-05 -8.017515e-05  1.227908e-06\n",
       "9   0.000000e+00  0.000000e+00 -2.613481e-06  9.130919e-06  1.291831e-04\n",
       "10  0.000000e+00  0.000000e+00  3.061020e-06 -2.810905e-06  3.109946e-05\n",
       "11  0.000000e+00  0.000000e+00 -1.133420e-05  3.402359e-07 -7.636087e-06\n",
       "12  0.000000e+00  0.000000e+00  1.482208e-06  3.840859e-05  2.804479e-06\n",
       "13  0.000000e+00  0.000000e+00 -4.251477e-07  8.795833e-06 -3.533952e-07\n",
       "14  0.000000e+00  0.000000e+00  5.821237e-08 -2.283046e-06  2.023675e-06\n",
       "15  0.000000e+00  0.000000e+00  6.263799e-06  8.098655e-07  2.286430e-06\n",
       "16  0.000000e+00  0.000000e+00  1.452753e-06 -1.023639e-07 -4.493709e-04\n",
       "17  0.000000e+00  0.000000e+00 -3.657301e-07  5.482028e-07 -1.884630e-03\n",
       "18  0.000000e+00  0.000000e+00  1.308036e-07  5.787440e-07 -3.791971e-03\n",
       "19  0.000000e+00  0.000000e+00 -2.599057e-08 -1.333671e-04 -2.324065e-06\n",
       "20  0.000000e+00  0.000000e+00  1.467238e-07 -6.167339e-04 -2.247010e-05\n",
       "21  0.000000e+00  0.000000e+00  1.538671e-07 -1.235089e-03 -5.867070e-04\n",
       "22  0.000000e+00  0.000000e+00 -2.754678e-05 -7.275612e-07 -1.204994e-03\n",
       "23  0.000000e+00  0.000000e+00 -1.289685e-04 -6.341104e-06  5.760645e-04\n",
       "24  0.000000e+00  0.000000e+00 -2.446163e-04 -1.623133e-04 -1.424059e-05\n",
       "25  0.000000e+00  0.000000e+00 -1.449047e-07 -3.429768e-04 -6.647569e-05\n",
       "26  0.000000e+00  0.000000e+00 -1.579584e-06  1.936612e-04 -4.382739e-04\n",
       "27  0.000000e+00  0.000000e+00 -4.624539e-05 -4.730673e-06  1.824945e-04\n",
       "28  0.000000e+00  0.000000e+00 -1.022037e-04 -2.332679e-05 -3.742662e-05\n",
       "29  0.000000e+00  0.000000e+00  4.949121e-05 -1.540740e-04  4.496706e-05\n",
       "30  0.000000e+00  0.000000e+00 -1.166309e-06  6.385145e-05 -1.741112e-04\n",
       "31  0.000000e+00  0.000000e+00 -6.185860e-06 -1.398915e-05  2.309041e-05\n",
       "32  0.000000e+00  0.000000e+00 -4.115615e-05  1.715738e-05 -7.536220e-06\n",
       "33  0.000000e+00  0.000000e+00  2.028055e-05 -7.159223e-05  9.765805e-07\n",
       "34  0.000000e+00  0.000000e+00 -3.874390e-06  9.426563e-06  1.061446e-04\n",
       "35  0.000000e+00  0.000000e+00  5.307984e-06 -3.497461e-06  2.950028e-05\n",
       "36  0.000000e+00  0.000000e+00 -2.421033e-05  4.456152e-07 -6.896073e-06\n",
       "37  0.000000e+00  0.000000e+00  3.550325e-06  4.996355e-05  2.483378e-06\n",
       "38  0.000000e+00  0.000000e+00 -1.149335e-06  1.279849e-05 -2.983100e-07\n",
       "39  0.000000e+00  0.000000e+00  1.219667e-07 -2.806172e-06  1.583657e-06\n",
       "40  0.000000e+00  0.000000e+00  1.669382e-05  1.112854e-06  1.876105e-06\n",
       "41  0.000000e+00  0.000000e+00  4.315379e-06 -1.423857e-07 -3.684016e-04\n",
       "42  0.000000e+00  0.000000e+00 -1.009713e-06  7.570816e-07 -1.520898e-03\n",
       "43  0.000000e+00  0.000000e+00  3.799930e-07  8.129851e-07 -2.917419e-03\n",
       "44  0.000000e+00  0.000000e+00 -5.611425e-08 -1.746364e-04 -2.087918e-06\n",
       "45  0.000000e+00  0.000000e+00  2.928736e-07 -7.051440e-04 -1.805541e-05\n",
       "46  0.000000e+00  0.000000e+00  3.532432e-07 -1.617656e-03 -5.370116e-04\n",
       "47  2.340476e-07  0.000000e+00 -6.963039e-05 -1.084378e-06 -1.153548e-03\n",
       "48 -4.505406e-08  0.000000e+00 -3.611750e-04 -1.176520e-05  6.759397e-04\n",
       "49  3.059124e-08  0.000000e+00 -8.610886e-04 -3.327365e-04 -1.648404e-05\n",
       "50 -3.683418e-09 -2.423810e-06 -5.648024e-07 -7.025335e-04 -7.867354e-05\n",
       "51  1.219103e-08 -4.140723e-05 -5.395914e-06  3.630312e-04 -4.891527e-04\n",
       "52  1.830813e-08 -1.131463e-04 -1.672773e-04 -9.664430e-06  2.210043e-04\n",
       "53 -5.066408e-06 -9.478822e-08 -3.977347e-04 -4.750586e-05 -4.611893e-05"
      ]
     },
     "metadata": {},
     "output_type": "display_data"
    }
   ],
   "source": [
    "W <- MatofAlphas*B\n",
    "W"
   ]
  },
  {
   "cell_type": "markdown",
   "id": "b7944d0b",
   "metadata": {},
   "source": [
    "En los siguientes pasos se estiman los componentes principales por medio del comando princomp()"
   ]
  },
  {
   "cell_type": "code",
   "execution_count": 48,
   "id": "e196be6b",
   "metadata": {},
   "outputs": [
    {
     "data": {
      "text/plain": [
       "Importance of components:\n",
       "                           Comp.1      Comp.2      Comp.3       Comp.4\n",
       "Standard deviation     0.01513167 0.005867201 0.002042474 0.0007538578\n",
       "Proportion of Variance 0.85337439 0.128300421 0.015548167 0.0021180928\n",
       "Cumulative Proportion  0.85337439 0.981674807 0.997222974 0.9993410671\n",
       "                             Comp.5\n",
       "Standard deviation     0.0004204724\n",
       "Proportion of Variance 0.0006589329\n",
       "Cumulative Proportion  1.0000000000"
      ]
     },
     "metadata": {},
     "output_type": "display_data"
    }
   ],
   "source": [
    "components <- princomp(delta_alpha)\n",
    "summary(components)"
   ]
  },
  {
   "cell_type": "code",
   "execution_count": 49,
   "id": "76080d28",
   "metadata": {},
   "outputs": [],
   "source": [
    "cum_variance <- cumsum(components$sdev^2 / sum(components$sdev^2))\n",
    "best_components <- components$scores[,1:2]"
   ]
  },
  {
   "cell_type": "code",
   "execution_count": 57,
   "id": "2e78a1b1",
   "metadata": {},
   "outputs": [
    {
     "data": {
      "text/html": [
       "<style>\n",
       ".dl-inline {width: auto; margin:0; padding: 0}\n",
       ".dl-inline>dt, .dl-inline>dd {float: none; width: auto; display: inline-block}\n",
       ".dl-inline>dt::after {content: \":\\0020\"; padding-right: .5ex}\n",
       ".dl-inline>dt:not(:first-of-type) {padding-left: .5ex}\n",
       "</style><dl class=dl-inline><dt>Comp.1</dt><dd>0.853374386546518</dd><dt>Comp.2</dt><dd>0.981674807448792</dd><dt>Comp.3</dt><dd>0.997222974273559</dd><dt>Comp.4</dt><dd>0.999341067098976</dd><dt>Comp.5</dt><dd>1</dd></dl>\n"
      ],
      "text/latex": [
       "\\begin{description*}\n",
       "\\item[Comp.1] 0.853374386546518\n",
       "\\item[Comp.2] 0.981674807448792\n",
       "\\item[Comp.3] 0.997222974273559\n",
       "\\item[Comp.4] 0.999341067098976\n",
       "\\item[Comp.5] 1\n",
       "\\end{description*}\n"
      ],
      "text/markdown": [
       "Comp.1\n",
       ":   0.853374386546518Comp.2\n",
       ":   0.981674807448792Comp.3\n",
       ":   0.997222974273559Comp.4\n",
       ":   0.999341067098976Comp.5\n",
       ":   1\n",
       "\n"
      ],
      "text/plain": [
       "   Comp.1    Comp.2    Comp.3    Comp.4    Comp.5 \n",
       "0.8533744 0.9816748 0.9972230 0.9993411 1.0000000 "
      ]
     },
     "metadata": {},
     "output_type": "display_data"
    },
    {
     "data": {
      "text/html": [
       "<table class=\"dataframe\">\n",
       "<caption>A matrix: 52 × 2 of type dbl</caption>\n",
       "<thead>\n",
       "\t<tr><th></th><th scope=col>Comp.1</th><th scope=col>Comp.2</th></tr>\n",
       "</thead>\n",
       "<tbody>\n",
       "\t<tr><th scope=row>2</th><td>-0.025103894</td><td>-0.0016350078</td></tr>\n",
       "\t<tr><th scope=row>3</th><td>-0.010883419</td><td> 0.0155214421</td></tr>\n",
       "\t<tr><th scope=row>4</th><td>-0.031976551</td><td>-0.0093231194</td></tr>\n",
       "\t<tr><th scope=row>5</th><td>-0.009679115</td><td>-0.0021752111</td></tr>\n",
       "\t<tr><th scope=row>6</th><td>-0.020264433</td><td>-0.0057290412</td></tr>\n",
       "\t<tr><th scope=row>7</th><td> 0.011098037</td><td> 0.0009878241</td></tr>\n",
       "\t<tr><th scope=row>8</th><td>-0.004231687</td><td> 0.0099235449</td></tr>\n",
       "\t<tr><th scope=row>9</th><td> 0.012677543</td><td>-0.0130599244</td></tr>\n",
       "\t<tr><th scope=row>10</th><td> 0.018992879</td><td> 0.0009422682</td></tr>\n",
       "\t<tr><th scope=row>11</th><td> 0.005761421</td><td>-0.0017452561</td></tr>\n",
       "\t<tr><th scope=row>12</th><td>-0.013476267</td><td>-0.0040981697</td></tr>\n",
       "\t<tr><th scope=row>13</th><td> 0.010706989</td><td>-0.0081117545</td></tr>\n",
       "\t<tr><th scope=row>14</th><td>-0.007899389</td><td>-0.0021134325</td></tr>\n",
       "\t<tr><th scope=row>15</th><td> 0.003713968</td><td> 0.0001319970</td></tr>\n",
       "\t<tr><th scope=row>16</th><td> 0.006004934</td><td>-0.0019686330</td></tr>\n",
       "\t<tr><th scope=row>17</th><td> 0.010949043</td><td>-0.0010516317</td></tr>\n",
       "\t<tr><th scope=row>18</th><td> 0.024064462</td><td> 0.0021130431</td></tr>\n",
       "\t<tr><th scope=row>19</th><td> 0.010538594</td><td> 0.0179330880</td></tr>\n",
       "\t<tr><th scope=row>20</th><td>-0.015738053</td><td>-0.0034700803</td></tr>\n",
       "\t<tr><th scope=row>21</th><td> 0.021244461</td><td>-0.0014629806</td></tr>\n",
       "\t<tr><th scope=row>22</th><td> 0.013655979</td><td>-0.0061072171</td></tr>\n",
       "\t<tr><th scope=row>23</th><td> 0.017138842</td><td> 0.0023683655</td></tr>\n",
       "\t<tr><th scope=row>24</th><td> 0.002580397</td><td>-0.0093324507</td></tr>\n",
       "\t<tr><th scope=row>25</th><td> 0.011642121</td><td> 0.0013284688</td></tr>\n",
       "\t<tr><th scope=row>26</th><td>-0.011444393</td><td> 0.0008247698</td></tr>\n",
       "\t<tr><th scope=row>27</th><td> 0.006767194</td><td> 0.0005308487</td></tr>\n",
       "\t<tr><th scope=row>28</th><td> 0.006794869</td><td> 0.0013218696</td></tr>\n",
       "\t<tr><th scope=row>29</th><td>-0.009825086</td><td>-0.0038804901</td></tr>\n",
       "\t<tr><th scope=row>30</th><td>-0.001610166</td><td>-0.0063006204</td></tr>\n",
       "\t<tr><th scope=row>31</th><td>-0.001354911</td><td> 0.0004938495</td></tr>\n",
       "\t<tr><th scope=row>32</th><td>-0.001597566</td><td> 0.0029744906</td></tr>\n",
       "\t<tr><th scope=row>33</th><td>-0.014116777</td><td> 0.0011263938</td></tr>\n",
       "\t<tr><th scope=row>34</th><td>-0.001930650</td><td>-0.0047501732</td></tr>\n",
       "\t<tr><th scope=row>35</th><td>-0.026157720</td><td> 0.0009723696</td></tr>\n",
       "\t<tr><th scope=row>36</th><td> 0.014829530</td><td> 0.0105697184</td></tr>\n",
       "\t<tr><th scope=row>37</th><td>-0.007966961</td><td> 0.0008473412</td></tr>\n",
       "\t<tr><th scope=row>38</th><td> 0.017080540</td><td> 0.0058907131</td></tr>\n",
       "\t<tr><th scope=row>39</th><td> 0.018898854</td><td>-0.0109721095</td></tr>\n",
       "\t<tr><th scope=row>40</th><td>-0.013782051</td><td> 0.0091937435</td></tr>\n",
       "\t<tr><th scope=row>41</th><td> 0.004949773</td><td>-0.0005883426</td></tr>\n",
       "\t<tr><th scope=row>42</th><td> 0.014104939</td><td>-0.0028808939</td></tr>\n",
       "\t<tr><th scope=row>43</th><td> 0.029551881</td><td> 0.0052544944</td></tr>\n",
       "\t<tr><th scope=row>44</th><td>-0.021306515</td><td>-0.0012171452</td></tr>\n",
       "\t<tr><th scope=row>45</th><td> 0.015498344</td><td>-0.0047304557</td></tr>\n",
       "\t<tr><th scope=row>46</th><td>-0.014035528</td><td>-0.0019264310</td></tr>\n",
       "\t<tr><th scope=row>47</th><td>-0.001568543</td><td>-0.0003413396</td></tr>\n",
       "\t<tr><th scope=row>48</th><td>-0.040612508</td><td> 0.0060163887</td></tr>\n",
       "\t<tr><th scope=row>49</th><td> 0.001350380</td><td> 0.0019812732</td></tr>\n",
       "\t<tr><th scope=row>50</th><td> 0.007982698</td><td>-0.0001494934</td></tr>\n",
       "\t<tr><th scope=row>51</th><td> 0.003427656</td><td> 0.0019976976</td></tr>\n",
       "\t<tr><th scope=row>52</th><td>-0.018278208</td><td> 0.0048028766</td></tr>\n",
       "\t<tr><th scope=row>53</th><td> 0.002834059</td><td> 0.0030725248</td></tr>\n",
       "</tbody>\n",
       "</table>\n"
      ],
      "text/latex": [
       "A matrix: 52 × 2 of type dbl\n",
       "\\begin{tabular}{r|ll}\n",
       "  & Comp.1 & Comp.2\\\\\n",
       "\\hline\n",
       "\t2 & -0.025103894 & -0.0016350078\\\\\n",
       "\t3 & -0.010883419 &  0.0155214421\\\\\n",
       "\t4 & -0.031976551 & -0.0093231194\\\\\n",
       "\t5 & -0.009679115 & -0.0021752111\\\\\n",
       "\t6 & -0.020264433 & -0.0057290412\\\\\n",
       "\t7 &  0.011098037 &  0.0009878241\\\\\n",
       "\t8 & -0.004231687 &  0.0099235449\\\\\n",
       "\t9 &  0.012677543 & -0.0130599244\\\\\n",
       "\t10 &  0.018992879 &  0.0009422682\\\\\n",
       "\t11 &  0.005761421 & -0.0017452561\\\\\n",
       "\t12 & -0.013476267 & -0.0040981697\\\\\n",
       "\t13 &  0.010706989 & -0.0081117545\\\\\n",
       "\t14 & -0.007899389 & -0.0021134325\\\\\n",
       "\t15 &  0.003713968 &  0.0001319970\\\\\n",
       "\t16 &  0.006004934 & -0.0019686330\\\\\n",
       "\t17 &  0.010949043 & -0.0010516317\\\\\n",
       "\t18 &  0.024064462 &  0.0021130431\\\\\n",
       "\t19 &  0.010538594 &  0.0179330880\\\\\n",
       "\t20 & -0.015738053 & -0.0034700803\\\\\n",
       "\t21 &  0.021244461 & -0.0014629806\\\\\n",
       "\t22 &  0.013655979 & -0.0061072171\\\\\n",
       "\t23 &  0.017138842 &  0.0023683655\\\\\n",
       "\t24 &  0.002580397 & -0.0093324507\\\\\n",
       "\t25 &  0.011642121 &  0.0013284688\\\\\n",
       "\t26 & -0.011444393 &  0.0008247698\\\\\n",
       "\t27 &  0.006767194 &  0.0005308487\\\\\n",
       "\t28 &  0.006794869 &  0.0013218696\\\\\n",
       "\t29 & -0.009825086 & -0.0038804901\\\\\n",
       "\t30 & -0.001610166 & -0.0063006204\\\\\n",
       "\t31 & -0.001354911 &  0.0004938495\\\\\n",
       "\t32 & -0.001597566 &  0.0029744906\\\\\n",
       "\t33 & -0.014116777 &  0.0011263938\\\\\n",
       "\t34 & -0.001930650 & -0.0047501732\\\\\n",
       "\t35 & -0.026157720 &  0.0009723696\\\\\n",
       "\t36 &  0.014829530 &  0.0105697184\\\\\n",
       "\t37 & -0.007966961 &  0.0008473412\\\\\n",
       "\t38 &  0.017080540 &  0.0058907131\\\\\n",
       "\t39 &  0.018898854 & -0.0109721095\\\\\n",
       "\t40 & -0.013782051 &  0.0091937435\\\\\n",
       "\t41 &  0.004949773 & -0.0005883426\\\\\n",
       "\t42 &  0.014104939 & -0.0028808939\\\\\n",
       "\t43 &  0.029551881 &  0.0052544944\\\\\n",
       "\t44 & -0.021306515 & -0.0012171452\\\\\n",
       "\t45 &  0.015498344 & -0.0047304557\\\\\n",
       "\t46 & -0.014035528 & -0.0019264310\\\\\n",
       "\t47 & -0.001568543 & -0.0003413396\\\\\n",
       "\t48 & -0.040612508 &  0.0060163887\\\\\n",
       "\t49 &  0.001350380 &  0.0019812732\\\\\n",
       "\t50 &  0.007982698 & -0.0001494934\\\\\n",
       "\t51 &  0.003427656 &  0.0019976976\\\\\n",
       "\t52 & -0.018278208 &  0.0048028766\\\\\n",
       "\t53 &  0.002834059 &  0.0030725248\\\\\n",
       "\\end{tabular}\n"
      ],
      "text/markdown": [
       "\n",
       "A matrix: 52 × 2 of type dbl\n",
       "\n",
       "| <!--/--> | Comp.1 | Comp.2 |\n",
       "|---|---|---|\n",
       "| 2 | -0.025103894 | -0.0016350078 |\n",
       "| 3 | -0.010883419 |  0.0155214421 |\n",
       "| 4 | -0.031976551 | -0.0093231194 |\n",
       "| 5 | -0.009679115 | -0.0021752111 |\n",
       "| 6 | -0.020264433 | -0.0057290412 |\n",
       "| 7 |  0.011098037 |  0.0009878241 |\n",
       "| 8 | -0.004231687 |  0.0099235449 |\n",
       "| 9 |  0.012677543 | -0.0130599244 |\n",
       "| 10 |  0.018992879 |  0.0009422682 |\n",
       "| 11 |  0.005761421 | -0.0017452561 |\n",
       "| 12 | -0.013476267 | -0.0040981697 |\n",
       "| 13 |  0.010706989 | -0.0081117545 |\n",
       "| 14 | -0.007899389 | -0.0021134325 |\n",
       "| 15 |  0.003713968 |  0.0001319970 |\n",
       "| 16 |  0.006004934 | -0.0019686330 |\n",
       "| 17 |  0.010949043 | -0.0010516317 |\n",
       "| 18 |  0.024064462 |  0.0021130431 |\n",
       "| 19 |  0.010538594 |  0.0179330880 |\n",
       "| 20 | -0.015738053 | -0.0034700803 |\n",
       "| 21 |  0.021244461 | -0.0014629806 |\n",
       "| 22 |  0.013655979 | -0.0061072171 |\n",
       "| 23 |  0.017138842 |  0.0023683655 |\n",
       "| 24 |  0.002580397 | -0.0093324507 |\n",
       "| 25 |  0.011642121 |  0.0013284688 |\n",
       "| 26 | -0.011444393 |  0.0008247698 |\n",
       "| 27 |  0.006767194 |  0.0005308487 |\n",
       "| 28 |  0.006794869 |  0.0013218696 |\n",
       "| 29 | -0.009825086 | -0.0038804901 |\n",
       "| 30 | -0.001610166 | -0.0063006204 |\n",
       "| 31 | -0.001354911 |  0.0004938495 |\n",
       "| 32 | -0.001597566 |  0.0029744906 |\n",
       "| 33 | -0.014116777 |  0.0011263938 |\n",
       "| 34 | -0.001930650 | -0.0047501732 |\n",
       "| 35 | -0.026157720 |  0.0009723696 |\n",
       "| 36 |  0.014829530 |  0.0105697184 |\n",
       "| 37 | -0.007966961 |  0.0008473412 |\n",
       "| 38 |  0.017080540 |  0.0058907131 |\n",
       "| 39 |  0.018898854 | -0.0109721095 |\n",
       "| 40 | -0.013782051 |  0.0091937435 |\n",
       "| 41 |  0.004949773 | -0.0005883426 |\n",
       "| 42 |  0.014104939 | -0.0028808939 |\n",
       "| 43 |  0.029551881 |  0.0052544944 |\n",
       "| 44 | -0.021306515 | -0.0012171452 |\n",
       "| 45 |  0.015498344 | -0.0047304557 |\n",
       "| 46 | -0.014035528 | -0.0019264310 |\n",
       "| 47 | -0.001568543 | -0.0003413396 |\n",
       "| 48 | -0.040612508 |  0.0060163887 |\n",
       "| 49 |  0.001350380 |  0.0019812732 |\n",
       "| 50 |  0.007982698 | -0.0001494934 |\n",
       "| 51 |  0.003427656 |  0.0019976976 |\n",
       "| 52 | -0.018278208 |  0.0048028766 |\n",
       "| 53 |  0.002834059 |  0.0030725248 |\n",
       "\n"
      ],
      "text/plain": [
       "   Comp.1       Comp.2       \n",
       "2  -0.025103894 -0.0016350078\n",
       "3  -0.010883419  0.0155214421\n",
       "4  -0.031976551 -0.0093231194\n",
       "5  -0.009679115 -0.0021752111\n",
       "6  -0.020264433 -0.0057290412\n",
       "7   0.011098037  0.0009878241\n",
       "8  -0.004231687  0.0099235449\n",
       "9   0.012677543 -0.0130599244\n",
       "10  0.018992879  0.0009422682\n",
       "11  0.005761421 -0.0017452561\n",
       "12 -0.013476267 -0.0040981697\n",
       "13  0.010706989 -0.0081117545\n",
       "14 -0.007899389 -0.0021134325\n",
       "15  0.003713968  0.0001319970\n",
       "16  0.006004934 -0.0019686330\n",
       "17  0.010949043 -0.0010516317\n",
       "18  0.024064462  0.0021130431\n",
       "19  0.010538594  0.0179330880\n",
       "20 -0.015738053 -0.0034700803\n",
       "21  0.021244461 -0.0014629806\n",
       "22  0.013655979 -0.0061072171\n",
       "23  0.017138842  0.0023683655\n",
       "24  0.002580397 -0.0093324507\n",
       "25  0.011642121  0.0013284688\n",
       "26 -0.011444393  0.0008247698\n",
       "27  0.006767194  0.0005308487\n",
       "28  0.006794869  0.0013218696\n",
       "29 -0.009825086 -0.0038804901\n",
       "30 -0.001610166 -0.0063006204\n",
       "31 -0.001354911  0.0004938495\n",
       "32 -0.001597566  0.0029744906\n",
       "33 -0.014116777  0.0011263938\n",
       "34 -0.001930650 -0.0047501732\n",
       "35 -0.026157720  0.0009723696\n",
       "36  0.014829530  0.0105697184\n",
       "37 -0.007966961  0.0008473412\n",
       "38  0.017080540  0.0058907131\n",
       "39  0.018898854 -0.0109721095\n",
       "40 -0.013782051  0.0091937435\n",
       "41  0.004949773 -0.0005883426\n",
       "42  0.014104939 -0.0028808939\n",
       "43  0.029551881  0.0052544944\n",
       "44 -0.021306515 -0.0012171452\n",
       "45  0.015498344 -0.0047304557\n",
       "46 -0.014035528 -0.0019264310\n",
       "47 -0.001568543 -0.0003413396\n",
       "48 -0.040612508  0.0060163887\n",
       "49  0.001350380  0.0019812732\n",
       "50  0.007982698 -0.0001494934\n",
       "51  0.003427656  0.0019976976\n",
       "52 -0.018278208  0.0048028766\n",
       "53  0.002834059  0.0030725248"
      ]
     },
     "metadata": {},
     "output_type": "display_data"
    },
    {
     "data": {
      "image/png": "[encoded data removed]",
      "text/plain": [
       "plot without title"
      ]
     },
     "metadata": {},
     "output_type": "display_data"
    }
   ],
   "source": [
    "cum_variance\n",
    "plot(cum_variance, type='l')\n",
    "best_components"
   ]
  },
  {
   "cell_type": "code",
   "execution_count": 51,
   "id": "996b192e",
   "metadata": {},
   "outputs": [],
   "source": [
    "librerias <- c(\"forecast\",\"xts\",\"rugarch\",\"timeSeries\",\"ggplot2\",\"astsa\",\"scales\",\"lubridate\",\"reshape2\",\"quantmod\",\"xtable\",\"tseries\")"
   ]
  },
  {
   "cell_type": "code",
   "execution_count": 52,
   "id": "4aac25c2",
   "metadata": {},
   "outputs": [
    {
     "name": "stderr",
     "output_type": "stream",
     "text": [
      "Warning message:\n",
      "\"package 'forecast' was built under R version 3.6.3\"Registered S3 method overwritten by 'xts':\n",
      "  method     from\n",
      "  as.zoo.xts zoo \n",
      "Registered S3 method overwritten by 'quantmod':\n",
      "  method            from\n",
      "  as.zoo.data.frame zoo \n",
      "Warning message:\n",
      "\"package 'zoo' was built under R version 3.6.3\"\n",
      "Attaching package: 'zoo'\n",
      "\n",
      "The following objects are masked from 'package:base':\n",
      "\n",
      "    as.Date, as.Date.numeric\n",
      "\n",
      "Warning message:\n",
      "\"package 'rugarch' was built under R version 3.6.3\"\n",
      "Attaching package: 'rugarch'\n",
      "\n",
      "The following object is masked from 'package:stats':\n",
      "\n",
      "    sigma\n",
      "\n",
      "Warning message:\n",
      "\"package 'timeSeries' was built under R version 3.6.3\"Warning message:\n",
      "\"package 'timeDate' was built under R version 3.6.2\"\n",
      "Attaching package: 'timeSeries'\n",
      "\n",
      "The following object is masked from 'package:zoo':\n",
      "\n",
      "    time<-\n",
      "\n",
      "\n",
      "Attaching package: 'astsa'\n",
      "\n",
      "The following object is masked from 'package:forecast':\n",
      "\n",
      "    gas\n",
      "\n",
      "Warning message:\n",
      "\"package 'scales' was built under R version 3.6.3\"Warning message:\n",
      "\"package 'reshape2' was built under R version 3.6.3\"\n",
      "Attaching package: 'reshape2'\n",
      "\n",
      "The following object is masked from 'package:tidyr':\n",
      "\n",
      "    smiths\n",
      "\n",
      "Version 0.4-0 included new data defaults. See ?getSymbols.\n",
      "Warning message:\n",
      "\"package 'xtable' was built under R version 3.6.3\"\n",
      "Attaching package: 'xtable'\n",
      "\n",
      "The following object is masked from 'package:timeSeries':\n",
      "\n",
      "    align\n",
      "\n",
      "The following object is masked from 'package:timeDate':\n",
      "\n",
      "    align\n",
      "\n",
      "Warning message:\n",
      "\"package 'tseries' was built under R version 3.6.3\""
     ]
    }
   ],
   "source": [
    "if(length(setdiff(librerias, rownames(installed.packages()))) > 0){\n",
    "  install.packages(setdiff(librerias, rownames(installed.packages())))}\n",
    "invisible(sapply(librerias, require, character.only = TRUE,quietly = TRUE))"
   ]
  },
  {
   "cell_type": "code",
   "execution_count": 53,
   "id": "6c1f4a8d",
   "metadata": {},
   "outputs": [
    {
     "data": {
      "text/plain": [
       "\n",
       "\tBox-Pierce test\n",
       "\n",
       "data:  Arima_1$residuals\n",
       "X-squared = 0.00020972, df = 1, p-value = 0.9884\n"
      ]
     },
     "metadata": {},
     "output_type": "display_data"
    },
    {
     "data": {
      "text/plain": [
       "\n",
       "\tBox-Pierce test\n",
       "\n",
       "data:  Arima_2$residuals\n",
       "X-squared = 0.0019784, df = 1, p-value = 0.9645\n"
      ]
     },
     "metadata": {},
     "output_type": "display_data"
    }
   ],
   "source": [
    "Arima_1 <- auto.arima(best_components[,1],stepwise = F,approximation = F)\n",
    "Box.test(Arima_1$residuals)\n",
    "Arima_2 <- auto.arima(best_components[,2],stepwise = F,approximation = F)\n",
    "Box.test(Arima_2$residuals)"
   ]
  },
  {
   "cell_type": "markdown",
   "id": "0605c47b",
   "metadata": {},
   "source": [
    "Simulaciones al futuro"
   ]
  },
  {
   "cell_type": "code",
   "execution_count": 54,
   "id": "faae22f1",
   "metadata": {},
   "outputs": [],
   "source": [
    "future <- 52\n",
    "simulations <- 1000\n",
    "Sim_component_1 <- replicate(expr = simulate(object = Arima_1,nsim = future),n = simulations)\n",
    "Sim_component_2 <- replicate(expr = simulate(object = Arima_2,nsim = future),n = simulations)\n",
    "final <- list()\n",
    "M3<-matrix(,nrow=simulations,ncol=2)\n",
    "for (sim in 1:simulations){\n",
    "        nam <- paste(\"S\", sim, sep = \"_\")\n",
    "        assign(nam, cbind(Sim_component_1[,sim] , Sim_component_2[,sim]))\n",
    "        final <- append(final, Sim_component_1[nrow(Sim_component_1),sim] , Sim_component_2[nrow(Sim_component_2),sim])\n",
    "}"
   ]
  },
  {
   "cell_type": "code",
   "execution_count": 55,
   "id": "29d38f90",
   "metadata": {},
   "outputs": [
    {
     "data": {
      "text/html": [
       "<table class=\"dataframe\">\n",
       "<caption>A matrix: 1000 × 2</caption>\n",
       "<tbody>\n",
       "\t<tr><td>-0.001974021</td><td>-0.001974021</td></tr>\n",
       "\t<tr><td>0.001062111</td><td>0.001062111</td></tr>\n",
       "\t<tr><td>-0.001974021</td><td>-0.001974021</td></tr>\n",
       "\t<tr><td>-0.02130044</td><td>-0.02130044</td></tr>\n",
       "\t<tr><td>-0.001974021</td><td>-0.001974021</td></tr>\n",
       "\t<tr><td>-8.38411e-05</td><td>-8.38411e-05</td></tr>\n",
       "\t<tr><td>-0.001974021</td><td>-0.001974021</td></tr>\n",
       "\t<tr><td>0.001098923</td><td>0.001098923</td></tr>\n",
       "\t<tr><td>-0.001974021</td><td>-0.001974021</td></tr>\n",
       "\t<tr><td>0.003932132</td><td>0.003932132</td></tr>\n",
       "\t<tr><td>-0.001974021</td><td>-0.001974021</td></tr>\n",
       "\t<tr><td>0.01279995</td><td>0.01279995</td></tr>\n",
       "\t<tr><td>-0.001974021</td><td>-0.001974021</td></tr>\n",
       "\t<tr><td>0.006224532</td><td>0.006224532</td></tr>\n",
       "\t<tr><td>-0.001974021</td><td>-0.001974021</td></tr>\n",
       "\t<tr><td>-0.01147984</td><td>-0.01147984</td></tr>\n",
       "\t<tr><td>-0.001974021</td><td>-0.001974021</td></tr>\n",
       "\t<tr><td>-0.005726285</td><td>-0.005726285</td></tr>\n",
       "\t<tr><td>-0.001974021</td><td>-0.001974021</td></tr>\n",
       "\t<tr><td>-0.007023988</td><td>-0.007023988</td></tr>\n",
       "\t<tr><td>-0.001974021</td><td>-0.001974021</td></tr>\n",
       "\t<tr><td>0.002293816</td><td>0.002293816</td></tr>\n",
       "\t<tr><td>-0.001974021</td><td>-0.001974021</td></tr>\n",
       "\t<tr><td>-0.0001822219</td><td>-0.0001822219</td></tr>\n",
       "\t<tr><td>-0.001974021</td><td>-0.001974021</td></tr>\n",
       "\t<tr><td>-0.01663869</td><td>-0.01663869</td></tr>\n",
       "\t<tr><td>-0.001974021</td><td>-0.001974021</td></tr>\n",
       "\t<tr><td>-0.007997756</td><td>-0.007997756</td></tr>\n",
       "\t<tr><td>-0.001974021</td><td>-0.001974021</td></tr>\n",
       "\t<tr><td>-0.0005197189</td><td>-0.0005197189</td></tr>\n",
       "\t<tr><td>...</td><td>...</td></tr>\n",
       "\t<tr><td>-0.001974021</td><td>-0.001974021</td></tr>\n",
       "\t<tr><td>-0.0359637</td><td>-0.0359637</td></tr>\n",
       "\t<tr><td>-0.001974021</td><td>-0.001974021</td></tr>\n",
       "\t<tr><td>0.01111248</td><td>0.01111248</td></tr>\n",
       "\t<tr><td>-0.001974021</td><td>-0.001974021</td></tr>\n",
       "\t<tr><td>-0.0007249715</td><td>-0.0007249715</td></tr>\n",
       "\t<tr><td>-0.001974021</td><td>-0.001974021</td></tr>\n",
       "\t<tr><td>0.0167738</td><td>0.0167738</td></tr>\n",
       "\t<tr><td>-0.001974021</td><td>-0.001974021</td></tr>\n",
       "\t<tr><td>-0.006873503</td><td>-0.006873503</td></tr>\n",
       "\t<tr><td>-0.001974021</td><td>-0.001974021</td></tr>\n",
       "\t<tr><td>0.009639295</td><td>0.009639295</td></tr>\n",
       "\t<tr><td>-0.001974021</td><td>-0.001974021</td></tr>\n",
       "\t<tr><td>0.009043184</td><td>0.009043184</td></tr>\n",
       "\t<tr><td>-0.001974021</td><td>-0.001974021</td></tr>\n",
       "\t<tr><td>0.001717991</td><td>0.001717991</td></tr>\n",
       "\t<tr><td>-0.001974021</td><td>-0.001974021</td></tr>\n",
       "\t<tr><td>0.00841523</td><td>0.00841523</td></tr>\n",
       "\t<tr><td>-0.001974021</td><td>-0.001974021</td></tr>\n",
       "\t<tr><td>-0.001888798</td><td>-0.001888798</td></tr>\n",
       "\t<tr><td>-0.001974021</td><td>-0.001974021</td></tr>\n",
       "\t<tr><td>0.003381143</td><td>0.003381143</td></tr>\n",
       "\t<tr><td>-0.001974021</td><td>-0.001974021</td></tr>\n",
       "\t<tr><td>-0.01149083</td><td>-0.01149083</td></tr>\n",
       "\t<tr><td>-0.001974021</td><td>-0.001974021</td></tr>\n",
       "\t<tr><td>0.003578135</td><td>0.003578135</td></tr>\n",
       "\t<tr><td>-0.001974021</td><td>-0.001974021</td></tr>\n",
       "\t<tr><td>-0.005814241</td><td>-0.005814241</td></tr>\n",
       "\t<tr><td>-0.001974021</td><td>-0.001974021</td></tr>\n",
       "\t<tr><td>0.01263315</td><td>0.01263315</td></tr>\n",
       "</tbody>\n",
       "</table>\n"
      ],
      "text/latex": [
       "A matrix: 1000 × 2\n",
       "\\begin{tabular}{ll}\n",
       "\t -0.001974021 & -0.001974021\\\\\n",
       "\t 0.001062111 & 0.001062111\\\\\n",
       "\t -0.001974021 & -0.001974021\\\\\n",
       "\t -0.02130044 & -0.02130044\\\\\n",
       "\t -0.001974021 & -0.001974021\\\\\n",
       "\t -8.38411e-05 & -8.38411e-05\\\\\n",
       "\t -0.001974021 & -0.001974021\\\\\n",
       "\t 0.001098923 & 0.001098923\\\\\n",
       "\t -0.001974021 & -0.001974021\\\\\n",
       "\t 0.003932132 & 0.003932132\\\\\n",
       "\t -0.001974021 & -0.001974021\\\\\n",
       "\t 0.01279995 & 0.01279995\\\\\n",
       "\t -0.001974021 & -0.001974021\\\\\n",
       "\t 0.006224532 & 0.006224532\\\\\n",
       "\t -0.001974021 & -0.001974021\\\\\n",
       "\t -0.01147984 & -0.01147984\\\\\n",
       "\t -0.001974021 & -0.001974021\\\\\n",
       "\t -0.005726285 & -0.005726285\\\\\n",
       "\t -0.001974021 & -0.001974021\\\\\n",
       "\t -0.007023988 & -0.007023988\\\\\n",
       "\t -0.001974021 & -0.001974021\\\\\n",
       "\t 0.002293816 & 0.002293816\\\\\n",
       "\t -0.001974021 & -0.001974021\\\\\n",
       "\t -0.0001822219 & -0.0001822219\\\\\n",
       "\t -0.001974021 & -0.001974021\\\\\n",
       "\t -0.01663869 & -0.01663869\\\\\n",
       "\t -0.001974021 & -0.001974021\\\\\n",
       "\t -0.007997756 & -0.007997756\\\\\n",
       "\t -0.001974021 & -0.001974021\\\\\n",
       "\t -0.0005197189 & -0.0005197189\\\\\n",
       "\t ... & ...\\\\\n",
       "\t -0.001974021 & -0.001974021\\\\\n",
       "\t -0.0359637 & -0.0359637\\\\\n",
       "\t -0.001974021 & -0.001974021\\\\\n",
       "\t 0.01111248 & 0.01111248\\\\\n",
       "\t -0.001974021 & -0.001974021\\\\\n",
       "\t -0.0007249715 & -0.0007249715\\\\\n",
       "\t -0.001974021 & -0.001974021\\\\\n",
       "\t 0.0167738 & 0.0167738\\\\\n",
       "\t -0.001974021 & -0.001974021\\\\\n",
       "\t -0.006873503 & -0.006873503\\\\\n",
       "\t -0.001974021 & -0.001974021\\\\\n",
       "\t 0.009639295 & 0.009639295\\\\\n",
       "\t -0.001974021 & -0.001974021\\\\\n",
       "\t 0.009043184 & 0.009043184\\\\\n",
       "\t -0.001974021 & -0.001974021\\\\\n",
       "\t 0.001717991 & 0.001717991\\\\\n",
       "\t -0.001974021 & -0.001974021\\\\\n",
       "\t 0.00841523 & 0.00841523\\\\\n",
       "\t -0.001974021 & -0.001974021\\\\\n",
       "\t -0.001888798 & -0.001888798\\\\\n",
       "\t -0.001974021 & -0.001974021\\\\\n",
       "\t 0.003381143 & 0.003381143\\\\\n",
       "\t -0.001974021 & -0.001974021\\\\\n",
       "\t -0.01149083 & -0.01149083\\\\\n",
       "\t -0.001974021 & -0.001974021\\\\\n",
       "\t 0.003578135 & 0.003578135\\\\\n",
       "\t -0.001974021 & -0.001974021\\\\\n",
       "\t -0.005814241 & -0.005814241\\\\\n",
       "\t -0.001974021 & -0.001974021\\\\\n",
       "\t 0.01263315 & 0.01263315\\\\\n",
       "\\end{tabular}\n"
      ],
      "text/markdown": [
       "\n",
       "A matrix: 1000 × 2\n",
       "\n",
       "| -0.001974021 | -0.001974021 |\n",
       "| 0.001062111 | 0.001062111 |\n",
       "| -0.001974021 | -0.001974021 |\n",
       "| -0.02130044 | -0.02130044 |\n",
       "| -0.001974021 | -0.001974021 |\n",
       "| -8.38411e-05 | -8.38411e-05 |\n",
       "| -0.001974021 | -0.001974021 |\n",
       "| 0.001098923 | 0.001098923 |\n",
       "| -0.001974021 | -0.001974021 |\n",
       "| 0.003932132 | 0.003932132 |\n",
       "| -0.001974021 | -0.001974021 |\n",
       "| 0.01279995 | 0.01279995 |\n",
       "| -0.001974021 | -0.001974021 |\n",
       "| 0.006224532 | 0.006224532 |\n",
       "| -0.001974021 | -0.001974021 |\n",
       "| -0.01147984 | -0.01147984 |\n",
       "| -0.001974021 | -0.001974021 |\n",
       "| -0.005726285 | -0.005726285 |\n",
       "| -0.001974021 | -0.001974021 |\n",
       "| -0.007023988 | -0.007023988 |\n",
       "| -0.001974021 | -0.001974021 |\n",
       "| 0.002293816 | 0.002293816 |\n",
       "| -0.001974021 | -0.001974021 |\n",
       "| -0.0001822219 | -0.0001822219 |\n",
       "| -0.001974021 | -0.001974021 |\n",
       "| -0.01663869 | -0.01663869 |\n",
       "| -0.001974021 | -0.001974021 |\n",
       "| -0.007997756 | -0.007997756 |\n",
       "| -0.001974021 | -0.001974021 |\n",
       "| -0.0005197189 | -0.0005197189 |\n",
       "| ... | ... |\n",
       "| -0.001974021 | -0.001974021 |\n",
       "| -0.0359637 | -0.0359637 |\n",
       "| -0.001974021 | -0.001974021 |\n",
       "| 0.01111248 | 0.01111248 |\n",
       "| -0.001974021 | -0.001974021 |\n",
       "| -0.0007249715 | -0.0007249715 |\n",
       "| -0.001974021 | -0.001974021 |\n",
       "| 0.0167738 | 0.0167738 |\n",
       "| -0.001974021 | -0.001974021 |\n",
       "| -0.006873503 | -0.006873503 |\n",
       "| -0.001974021 | -0.001974021 |\n",
       "| 0.009639295 | 0.009639295 |\n",
       "| -0.001974021 | -0.001974021 |\n",
       "| 0.009043184 | 0.009043184 |\n",
       "| -0.001974021 | -0.001974021 |\n",
       "| 0.001717991 | 0.001717991 |\n",
       "| -0.001974021 | -0.001974021 |\n",
       "| 0.00841523 | 0.00841523 |\n",
       "| -0.001974021 | -0.001974021 |\n",
       "| -0.001888798 | -0.001888798 |\n",
       "| -0.001974021 | -0.001974021 |\n",
       "| 0.003381143 | 0.003381143 |\n",
       "| -0.001974021 | -0.001974021 |\n",
       "| -0.01149083 | -0.01149083 |\n",
       "| -0.001974021 | -0.001974021 |\n",
       "| 0.003578135 | 0.003578135 |\n",
       "| -0.001974021 | -0.001974021 |\n",
       "| -0.005814241 | -0.005814241 |\n",
       "| -0.001974021 | -0.001974021 |\n",
       "| 0.01263315 | 0.01263315 |\n",
       "\n"
      ],
      "text/plain": [
       "      [,1]          [,2]         \n",
       " [1,] -0.001974021  -0.001974021 \n",
       " [2,] 0.001062111   0.001062111  \n",
       " [3,] -0.001974021  -0.001974021 \n",
       " [4,] -0.02130044   -0.02130044  \n",
       " [5,] -0.001974021  -0.001974021 \n",
       " [6,] -8.38411e-05  -8.38411e-05 \n",
       " [7,] -0.001974021  -0.001974021 \n",
       " [8,] 0.001098923   0.001098923  \n",
       " [9,] -0.001974021  -0.001974021 \n",
       "[10,] 0.003932132   0.003932132  \n",
       "[11,] -0.001974021  -0.001974021 \n",
       "[12,] 0.01279995    0.01279995   \n",
       "[13,] -0.001974021  -0.001974021 \n",
       "[14,] 0.006224532   0.006224532  \n",
       "[15,] -0.001974021  -0.001974021 \n",
       "[16,] -0.01147984   -0.01147984  \n",
       "[17,] -0.001974021  -0.001974021 \n",
       "[18,] -0.005726285  -0.005726285 \n",
       "[19,] -0.001974021  -0.001974021 \n",
       "[20,] -0.007023988  -0.007023988 \n",
       "[21,] -0.001974021  -0.001974021 \n",
       "[22,] 0.002293816   0.002293816  \n",
       "[23,] -0.001974021  -0.001974021 \n",
       "[24,] -0.0001822219 -0.0001822219\n",
       "[25,] -0.001974021  -0.001974021 \n",
       "[26,] -0.01663869   -0.01663869  \n",
       "[27,] -0.001974021  -0.001974021 \n",
       "[28,] -0.007997756  -0.007997756 \n",
       "[29,] -0.001974021  -0.001974021 \n",
       "[30,] -0.0005197189 -0.0005197189\n",
       "[31,] ...           ...          \n",
       "[32,] -0.001974021  -0.001974021 \n",
       "[33,] -0.0359637    -0.0359637   \n",
       "[34,] -0.001974021  -0.001974021 \n",
       "[35,] 0.01111248    0.01111248   \n",
       "[36,] -0.001974021  -0.001974021 \n",
       "[37,] -0.0007249715 -0.0007249715\n",
       "[38,] -0.001974021  -0.001974021 \n",
       "[39,] 0.0167738     0.0167738    \n",
       "[40,] -0.001974021  -0.001974021 \n",
       "[41,] -0.006873503  -0.006873503 \n",
       "[42,] -0.001974021  -0.001974021 \n",
       "[43,] 0.009639295   0.009639295  \n",
       "[44,] -0.001974021  -0.001974021 \n",
       "[45,] 0.009043184   0.009043184  \n",
       "[46,] -0.001974021  -0.001974021 \n",
       "[47,] 0.001717991   0.001717991  \n",
       "[48,] -0.001974021  -0.001974021 \n",
       "[49,] 0.00841523    0.00841523   \n",
       "[50,] -0.001974021  -0.001974021 \n",
       "[51,] -0.001888798  -0.001888798 \n",
       "[52,] -0.001974021  -0.001974021 \n",
       "[53,] 0.003381143   0.003381143  \n",
       "[54,] -0.001974021  -0.001974021 \n",
       "[55,] -0.01149083   -0.01149083  \n",
       "[56,] -0.001974021  -0.001974021 \n",
       "[57,] 0.003578135   0.003578135  \n",
       "[58,] -0.001974021  -0.001974021 \n",
       "[59,] -0.005814241  -0.005814241 \n",
       "[60,] -0.001974021  -0.001974021 \n",
       "[61,] 0.01263315    0.01263315   "
      ]
     },
     "metadata": {},
     "output_type": "display_data"
    }
   ],
   "source": [
    "S <- matrix(final, nrow=1000, ncol=2)\n",
    "S"
   ]
  },
  {
   "cell_type": "code",
   "execution_count": 56,
   "id": "cea8a10e",
   "metadata": {},
   "outputs": [],
   "source": [
    "\n"
   ]
  }
 ],
 "metadata": {
  "kernelspec": {
   "display_name": "R",
   "language": "R",
   "name": "ir"
  },
  "language_info": {
   "codemirror_mode": "r",
   "file_extension": ".r",
   "mimetype": "text/x-r-source",
   "name": "R",
   "pygments_lexer": "r",
   "version": "3.6.1"
  }
 },
 "nbformat": 4,
 "nbformat_minor": 5
}
