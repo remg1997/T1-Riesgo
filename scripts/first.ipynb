{
 "cells": [
  {
   "cell_type": "code",
   "execution_count": 1,
   "id": "f0afcc4e-e98c-48ad-b51f-f6dc2b1c3226",
   "metadata": {},
   "outputs": [
    {
     "name": "stderr",
     "output_type": "stream",
     "text": [
      "Warning message:\n",
      "\"package 'readxl' was built under R version 3.6.3\""
     ]
    }
   ],
   "source": [
    "library(\"readxl\")"
   ]
  },
  {
   "cell_type": "code",
   "execution_count": 2,
   "id": "d18f324a-67d1-44be-aae4-6da1209ff9c8",
   "metadata": {},
   "outputs": [
    {
     "name": "stderr",
     "output_type": "stream",
     "text": [
      "Warning message:\n",
      "\"package 'lubridate' was built under R version 3.6.3\"\n",
      "Attaching package: 'lubridate'\n",
      "\n",
      "The following objects are masked from 'package:base':\n",
      "\n",
      "    date, intersect, setdiff, union\n",
      "\n"
     ]
    }
   ],
   "source": [
    "library(\"lubridate\")"
   ]
  },
  {
   "cell_type": "code",
   "execution_count": 6,
   "id": "fd9a067d-bee2-44b6-97f5-5b0a841eacab",
   "metadata": {},
   "outputs": [
    {
     "data": {
      "text/html": [
       "<style>\n",
       ".list-inline {list-style: none; margin:0; padding: 0}\n",
       ".list-inline>li {display: inline-block}\n",
       ".list-inline>li:not(:last-child)::after {content: \"\\00b7\"; padding: 0 .5ex}\n",
       "</style>\n",
       "<ol class=list-inline><li>'.GlobalEnv'</li><li>'package:readxl'</li><li>'package:tseries'</li><li>'package:xtable'</li><li>'package:quantmod'</li><li>'package:TTR'</li><li>'package:reshape2'</li><li>'package:lubridate'</li><li>'package:scales'</li><li>'package:astsa'</li><li>'package:ggplot2'</li><li>'package:timeSeries'</li><li>'package:timeDate'</li><li>'package:rugarch'</li><li>'package:parallel'</li><li>'package:xts'</li><li>'package:zoo'</li><li>'package:forecast'</li><li>'jupyter:irkernel'</li><li>'package:stats'</li><li>'package:graphics'</li><li>'package:grDevices'</li><li>'package:utils'</li><li>'package:datasets'</li><li>'package:methods'</li><li>'Autoloads'</li><li>'package:base'</li></ol>\n"
      ],
      "text/latex": [
       "\\begin{enumerate*}\n",
       "\\item '.GlobalEnv'\n",
       "\\item 'package:readxl'\n",
       "\\item 'package:tseries'\n",
       "\\item 'package:xtable'\n",
       "\\item 'package:quantmod'\n",
       "\\item 'package:TTR'\n",
       "\\item 'package:reshape2'\n",
       "\\item 'package:lubridate'\n",
       "\\item 'package:scales'\n",
       "\\item 'package:astsa'\n",
       "\\item 'package:ggplot2'\n",
       "\\item 'package:timeSeries'\n",
       "\\item 'package:timeDate'\n",
       "\\item 'package:rugarch'\n",
       "\\item 'package:parallel'\n",
       "\\item 'package:xts'\n",
       "\\item 'package:zoo'\n",
       "\\item 'package:forecast'\n",
       "\\item 'jupyter:irkernel'\n",
       "\\item 'package:stats'\n",
       "\\item 'package:graphics'\n",
       "\\item 'package:grDevices'\n",
       "\\item 'package:utils'\n",
       "\\item 'package:datasets'\n",
       "\\item 'package:methods'\n",
       "\\item 'Autoloads'\n",
       "\\item 'package:base'\n",
       "\\end{enumerate*}\n"
      ],
      "text/markdown": [
       "1. '.GlobalEnv'\n",
       "2. 'package:readxl'\n",
       "3. 'package:tseries'\n",
       "4. 'package:xtable'\n",
       "5. 'package:quantmod'\n",
       "6. 'package:TTR'\n",
       "7. 'package:reshape2'\n",
       "8. 'package:lubridate'\n",
       "9. 'package:scales'\n",
       "10. 'package:astsa'\n",
       "11. 'package:ggplot2'\n",
       "12. 'package:timeSeries'\n",
       "13. 'package:timeDate'\n",
       "14. 'package:rugarch'\n",
       "15. 'package:parallel'\n",
       "16. 'package:xts'\n",
       "17. 'package:zoo'\n",
       "18. 'package:forecast'\n",
       "19. 'jupyter:irkernel'\n",
       "20. 'package:stats'\n",
       "21. 'package:graphics'\n",
       "22. 'package:grDevices'\n",
       "23. 'package:utils'\n",
       "24. 'package:datasets'\n",
       "25. 'package:methods'\n",
       "26. 'Autoloads'\n",
       "27. 'package:base'\n",
       "\n",
       "\n"
      ],
      "text/plain": [
       " [1] \".GlobalEnv\"         \"package:readxl\"     \"package:tseries\"   \n",
       " [4] \"package:xtable\"     \"package:quantmod\"   \"package:TTR\"       \n",
       " [7] \"package:reshape2\"   \"package:lubridate\"  \"package:scales\"    \n",
       "[10] \"package:astsa\"      \"package:ggplot2\"    \"package:timeSeries\"\n",
       "[13] \"package:timeDate\"   \"package:rugarch\"    \"package:parallel\"  \n",
       "[16] \"package:xts\"        \"package:zoo\"        \"package:forecast\"  \n",
       "[19] \"jupyter:irkernel\"   \"package:stats\"      \"package:graphics\"  \n",
       "[22] \"package:grDevices\"  \"package:utils\"      \"package:datasets\"  \n",
       "[25] \"package:methods\"    \"Autoloads\"          \"package:base\"      "
      ]
     },
     "metadata": {},
     "output_type": "display_data"
    }
   ],
   "source": [
    "search()"
   ]
  },
  {
   "cell_type": "code",
   "execution_count": 3,
   "id": "5ba0a704-f05a-4a5f-a80e-2af93790495f",
   "metadata": {},
   "outputs": [],
   "source": [
    "source(\"helpers.R\")"
   ]
  },
  {
   "cell_type": "code",
   "execution_count": 8,
   "id": "9f0daf38-b921-4bb5-8ae8-d7111b9c9888",
   "metadata": {},
   "outputs": [],
   "source": [
    "path <- \"../data/data.xlsx\""
   ]
  },
  {
   "cell_type": "code",
   "execution_count": 9,
   "id": "1273d7c3-de1a-4dd6-92b4-ac589352aecd",
   "metadata": {},
   "outputs": [],
   "source": [
    "df <- Dataframing(path)"
   ]
  },
  {
   "cell_type": "code",
   "execution_count": 10,
   "id": "4301fc67-fb5d-4370-9e65-45a7b97fb714",
   "metadata": {},
   "outputs": [],
   "source": [
    "df <- df[-c(210),]"
   ]
  },
  {
   "cell_type": "code",
   "execution_count": 11,
   "id": "fbe01fa1-e480-4471-b334-0c3f9b8d8bbe",
   "metadata": {},
   "outputs": [],
   "source": [
    "df$Date <- as.Date(df$Date)"
   ]
  },
  {
   "cell_type": "code",
   "execution_count": 12,
   "id": "4b94c154-5d47-4cc6-b0eb-6a950de33181",
   "metadata": {},
   "outputs": [],
   "source": [
    "firstYields <- df[df$Date == \"2022-02-11\",]"
   ]
  },
  {
   "cell_type": "code",
   "execution_count": 11,
   "id": "7086da3b-8eb5-4aef-bd27-988ebcf96117",
   "metadata": {},
   "outputs": [
    {
     "data": {
      "text/html": [
       "<table class=\"dataframe\">\n",
       "<caption>A data.frame: 1 × 9</caption>\n",
       "<thead>\n",
       "\t<tr><th></th><th scope=col>Date</th><th scope=col>10Y</th><th scope=col>7Y</th><th scope=col>5Y</th><th scope=col>3Y</th><th scope=col>2Y</th><th scope=col>1Y</th><th scope=col>6M</th><th scope=col>3M</th></tr>\n",
       "\t<tr><th></th><th scope=col>&lt;date&gt;</th><th scope=col>&lt;dbl&gt;</th><th scope=col>&lt;dbl&gt;</th><th scope=col>&lt;dbl&gt;</th><th scope=col>&lt;dbl&gt;</th><th scope=col>&lt;dbl&gt;</th><th scope=col>&lt;dbl&gt;</th><th scope=col>&lt;dbl&gt;</th><th scope=col>&lt;dbl&gt;</th></tr>\n",
       "</thead>\n",
       "<tbody>\n",
       "\t<tr><th scope=row>209</th><td>2022-02-11</td><td>1.941</td><td>1.94</td><td>1.856</td><td>1.728</td><td>1.505</td><td>1.029</td><td>0.692</td><td>0.359</td></tr>\n",
       "</tbody>\n",
       "</table>\n"
      ],
      "text/latex": [
       "A data.frame: 1 × 9\n",
       "\\begin{tabular}{r|lllllllll}\n",
       "  & Date & 10Y & 7Y & 5Y & 3Y & 2Y & 1Y & 6M & 3M\\\\\n",
       "  & <date> & <dbl> & <dbl> & <dbl> & <dbl> & <dbl> & <dbl> & <dbl> & <dbl>\\\\\n",
       "\\hline\n",
       "\t209 & 2022-02-11 & 1.941 & 1.94 & 1.856 & 1.728 & 1.505 & 1.029 & 0.692 & 0.359\\\\\n",
       "\\end{tabular}\n"
      ],
      "text/markdown": [
       "\n",
       "A data.frame: 1 × 9\n",
       "\n",
       "| <!--/--> | Date &lt;date&gt; | 10Y &lt;dbl&gt; | 7Y &lt;dbl&gt; | 5Y &lt;dbl&gt; | 3Y &lt;dbl&gt; | 2Y &lt;dbl&gt; | 1Y &lt;dbl&gt; | 6M &lt;dbl&gt; | 3M &lt;dbl&gt; |\n",
       "|---|---|---|---|---|---|---|---|---|---|\n",
       "| 209 | 2022-02-11 | 1.941 | 1.94 | 1.856 | 1.728 | 1.505 | 1.029 | 0.692 | 0.359 |\n",
       "\n"
      ],
      "text/plain": [
       "    Date       10Y   7Y   5Y    3Y    2Y    1Y    6M    3M   \n",
       "209 2022-02-11 1.941 1.94 1.856 1.728 1.505 1.029 0.692 0.359"
      ]
     },
     "metadata": {},
     "output_type": "display_data"
    }
   ],
   "source": [
    "firstYields"
   ]
  },
  {
   "cell_type": "markdown",
   "id": "9bb11ce8-5322-4e8d-94e3-24b70e8f874c",
   "metadata": {
    "tags": []
   },
   "source": [
    "#### Suponemos que: \n",
    "- $\\alpha_1$ representa la tasa forward entre 0 y 3 meses, \n",
    "- $\\alpha_2$ la tasa entre 3 meses y 1 año, \n",
    "- $\\alpha_3$ la tasa entre 1 y 3 años,\n",
    "- $\\alpha_4$ la tasa entre 3 y 5 años ,\n",
    "- $\\alpha_5$ la tasa entre 5 y 10 años. "
   ]
  },
  {
   "cell_type": "code",
   "execution_count": 12,
   "id": "2c2988b4-ca5a-4939-9c90-284a99ca4a24",
   "metadata": {},
   "outputs": [],
   "source": [
    "today <- firstYields$Date"
   ]
  },
  {
   "cell_type": "markdown",
   "id": "6332eca6-4725-4f2d-bc1f-b9a870a66bb4",
   "metadata": {
    "jp-MarkdownHeadingCollapsed": true,
    "tags": []
   },
   "source": [
    "#### Además, para traer a valor presente usando una curva forward, se sigue el factor de descuento a un plazo T es: "
   ]
  },
  {
   "cell_type": "markdown",
   "id": "9bae4002-2617-48f6-b0de-9ae6c48409ae",
   "metadata": {},
   "source": [
    "### $$ e^{-\\int_{0}^{T} f(t) \\,dt}$$"
   ]
  },
  {
   "cell_type": "markdown",
   "id": "28e8e0a4-27ee-497a-bdc5-754c4fd9956a",
   "metadata": {},
   "source": [
    "#### Definamos algunos objetos de utilidad. Cuántos cupones paga cada bono? Cómo ajustamos la tasa para cada pago?"
   ]
  },
  {
   "cell_type": "code",
   "execution_count": 13,
   "id": "6b2d359a-d534-45da-80f3-5b59d853b3eb",
   "metadata": {},
   "outputs": [],
   "source": [
    "alpha <- c(0.1,0.11,0.12,0.13,0.14)"
   ]
  },
  {
   "cell_type": "code",
   "execution_count": 14,
   "id": "81f5e08e-ea9d-4eb5-b77b-d3c0b97a53c1",
   "metadata": {},
   "outputs": [
    {
     "data": {
      "text/html": [
       "<style>\n",
       ".list-inline {list-style: none; margin:0; padding: 0}\n",
       ".list-inline>li {display: inline-block}\n",
       ".list-inline>li:not(:last-child)::after {content: \"\\00b7\"; padding: 0 .5ex}\n",
       "</style>\n",
       "<ol class=list-inline><li>0.1</li><li>0.11</li><li>0.12</li><li>0.13</li><li>0.14</li></ol>\n"
      ],
      "text/latex": [
       "\\begin{enumerate*}\n",
       "\\item 0.1\n",
       "\\item 0.11\n",
       "\\item 0.12\n",
       "\\item 0.13\n",
       "\\item 0.14\n",
       "\\end{enumerate*}\n"
      ],
      "text/markdown": [
       "1. 0.1\n",
       "2. 0.11\n",
       "3. 0.12\n",
       "4. 0.13\n",
       "5. 0.14\n",
       "\n",
       "\n"
      ],
      "text/plain": [
       "[1] 0.10 0.11 0.12 0.13 0.14"
      ]
     },
     "metadata": {},
     "output_type": "display_data"
    }
   ],
   "source": [
    "alpha"
   ]
  },
  {
   "cell_type": "code",
   "execution_count": 15,
   "id": "59e4a6f7-faa9-4487-924f-d0ae2183bae8",
   "metadata": {},
   "outputs": [],
   "source": [
    "today = firstYields$Date"
   ]
  },
  {
   "cell_type": "code",
   "execution_count": 16,
   "id": "c70ad683-f043-40a1-8c79-c2b252a180c3",
   "metadata": {},
   "outputs": [
    {
     "data": {
      "text/html": [
       "100.086561463887"
      ],
      "text/latex": [
       "100.086561463887"
      ],
      "text/markdown": [
       "100.086561463887"
      ],
      "text/plain": [
       "[1] 100.0866"
      ]
     },
     "metadata": {},
     "output_type": "display_data"
    },
    {
     "data": {
      "text/html": [
       "0.0887527777777778"
      ],
      "text/latex": [
       "0.0887527777777778"
      ],
      "text/markdown": [
       "0.0887527777777778"
      ],
      "text/plain": [
       "[1] 0.08875278"
      ]
     },
     "metadata": {},
     "output_type": "display_data"
    },
    {
     "data": {
      "text/html": [
       "0.0887527777777778"
      ],
      "text/latex": [
       "0.0887527777777778"
      ],
      "text/markdown": [
       "0.0887527777777778"
      ],
      "text/plain": [
       "[1] 0.08875278"
      ]
     },
     "metadata": {},
     "output_type": "display_data"
    },
    {
     "data": {
      "text/html": [
       "1.04329166666667"
      ],
      "text/latex": [
       "1.04329166666667"
      ],
      "text/markdown": [
       "1.04329166666667"
      ],
      "text/plain": [
       "[1] 1.043292"
      ]
     },
     "metadata": {},
     "output_type": "display_data"
    }
   ],
   "source": [
    "threeMonthBond <- 100 + RateConverter(firstYields[[\"3M\"]],3,today)*DiscountFactor(alpha, 3)\n",
    "threeMonthBond\n",
    "RateConverter(firstYields[[\"3M\"]],3,today)\n",
    "RateConverter(0.359,3,today)\n",
    "RateConverter(firstYields[[\"1Y\"]],12,today)\n"
   ]
  },
  {
   "cell_type": "code",
   "execution_count": 17,
   "id": "49fcd4d8-e5f0-4a20-a6be-c88a6824e404",
   "metadata": {},
   "outputs": [],
   "source": [
    "sixMonthBond <- 100 + RateConverter(firstYields[[\"6M\"]], 6, today)*DiscountFactor(alpha, 6)"
   ]
  },
  {
   "cell_type": "code",
   "execution_count": 18,
   "id": "9be5d8b6-9a81-4afc-8886-3a0d41b3ec35",
   "metadata": {},
   "outputs": [
    {
     "data": {
      "text/html": [
       "100.330127503947"
      ],
      "text/latex": [
       "100.330127503947"
      ],
      "text/markdown": [
       "100.330127503947"
      ],
      "text/plain": [
       "[1] 100.3301"
      ]
     },
     "metadata": {},
     "output_type": "display_data"
    }
   ],
   "source": [
    "sixMonthBond"
   ]
  },
  {
   "cell_type": "code",
   "execution_count": 19,
   "id": "daf01f17-8f1a-4914-aaf2-f1e0a94d5b88",
   "metadata": {},
   "outputs": [],
   "source": [
    "oneYearBond <- 100 +  RateConverter(firstYields[[\"1Y\"]], 6, today) *DiscountFactor(alpha, 6) + RateConverter(firstYields[[\"1Y\"]], 12, today)*DiscountFactor(alpha, 12)"
   ]
  },
  {
   "cell_type": "code",
   "execution_count": 20,
   "id": "9c98ba37-727e-49ea-afa2-0bd47f372468",
   "metadata": {},
   "outputs": [
    {
     "data": {
      "text/html": [
       "101.427853442019"
      ],
      "text/latex": [
       "101.427853442019"
      ],
      "text/markdown": [
       "101.427853442019"
      ],
      "text/plain": [
       "[1] 101.4279"
      ]
     },
     "metadata": {},
     "output_type": "display_data"
    }
   ],
   "source": [
    "oneYearBond"
   ]
  },
  {
   "cell_type": "code",
   "execution_count": 21,
   "id": "96e3f441-d8d9-45b8-acb7-729870b91fdc",
   "metadata": {},
   "outputs": [],
   "source": [
    "maturity<- 36"
   ]
  },
  {
   "cell_type": "code",
   "execution_count": 22,
   "id": "8e363417-8362-44e5-93bd-73a14c0f09c2",
   "metadata": {},
   "outputs": [],
   "source": [
    "periods <- seq(6, maturity, 6)"
   ]
  },
  {
   "cell_type": "code",
   "execution_count": 23,
   "id": "af2e17af-7784-482b-b5c0-b86a49bb7b7e",
   "metadata": {},
   "outputs": [
    {
     "data": {
      "text/html": [
       "100.086561463887"
      ],
      "text/latex": [
       "100.086561463887"
      ],
      "text/markdown": [
       "100.086561463887"
      ],
      "text/plain": [
       "[1] 100.0866"
      ]
     },
     "metadata": {},
     "output_type": "display_data"
    }
   ],
   "source": [
    "threeMonthBond"
   ]
  },
  {
   "cell_type": "markdown",
   "metadata": {},
   "source": [
    "Recordemos que cada pago está dado por :  \n",
    "\n",
    "$$\\$100\\times R \\times \\frac{ACT}{360}$$"
   ]
  },
  {
   "cell_type": "code",
   "execution_count": 19,
   "id": "55ec8d82-c8eb-4cc3-b192-56ce7e3cd55a",
   "metadata": {},
   "outputs": [],
   "source": [
    "singleBondPayment <- function(maturity, yield, alpha, today){\n",
    "    return (RateConverter(yield, maturity,today)*DiscountFactor(alpha, maturity))\n",
    "}"
   ]
  },
  {
   "cell_type": "code",
   "execution_count": 20,
   "id": "50ca64bd-641b-49e6-9862-25920a4de86a",
   "metadata": {},
   "outputs": [
    {
     "data": {
      "text/html": [
       "5.32615460036447"
      ],
      "text/latex": [
       "5.32615460036447"
      ],
      "text/markdown": [
       "5.32615460036447"
      ],
      "text/plain": [
       "[1] 5.326155"
      ]
     },
     "metadata": {},
     "output_type": "display_data"
    },
    {
     "data": {
      "text/html": [
       "1.941"
      ],
      "text/latex": [
       "1.941"
      ],
      "text/markdown": [
       "1.941"
      ],
      "text/plain": [
       "[1] 1.941"
      ]
     },
     "metadata": {},
     "output_type": "display_data"
    }
   ],
   "source": [
    "singleBondPayment(120,firstYields[[\"10Y\"]], alpha, today)\n",
    "firstYields[[\"10Y\"]]"
   ]
  },
  {
   "cell_type": "code",
   "execution_count": 21,
   "id": "ce498c1e-5ec0-487f-9ec2-d9a32b077f61",
   "metadata": {},
   "outputs": [],
   "source": [
    "yieldList <- list(firstYields)"
   ]
  },
  {
   "cell_type": "code",
   "execution_count": 22,
   "id": "c504d27d-c7d9-459b-92bc-989981ea5db8",
   "metadata": {},
   "outputs": [],
   "source": [
    "nombres <- colnames(firstYields)"
   ]
  },
  {
   "cell_type": "code",
   "execution_count": 23,
   "id": "8d12a55e-80db-4d9b-9d63-6d4fee00e44f",
   "metadata": {},
   "outputs": [],
   "source": [
    "nombres <- nombres[-1]"
   ]
  },
  {
   "cell_type": "code",
   "execution_count": 24,
   "id": "d7231767-3339-4bc2-a79f-118be492db4f",
   "metadata": {},
   "outputs": [
    {
     "data": {
      "text/html": [
       "<style>\n",
       ".list-inline {list-style: none; margin:0; padding: 0}\n",
       ".list-inline>li {display: inline-block}\n",
       ".list-inline>li:not(:last-child)::after {content: \"\\00b7\"; padding: 0 .5ex}\n",
       "</style>\n",
       "<ol class=list-inline><li>'10Y'</li><li>'7Y'</li><li>'5Y'</li><li>'3Y'</li><li>'2Y'</li><li>'1Y'</li><li>'6M'</li><li>'3M'</li></ol>\n"
      ],
      "text/latex": [
       "\\begin{enumerate*}\n",
       "\\item '10Y'\n",
       "\\item '7Y'\n",
       "\\item '5Y'\n",
       "\\item '3Y'\n",
       "\\item '2Y'\n",
       "\\item '1Y'\n",
       "\\item '6M'\n",
       "\\item '3M'\n",
       "\\end{enumerate*}\n"
      ],
      "text/markdown": [
       "1. '10Y'\n",
       "2. '7Y'\n",
       "3. '5Y'\n",
       "4. '3Y'\n",
       "5. '2Y'\n",
       "6. '1Y'\n",
       "7. '6M'\n",
       "8. '3M'\n",
       "\n",
       "\n"
      ],
      "text/plain": [
       "[1] \"10Y\" \"7Y\"  \"5Y\"  \"3Y\"  \"2Y\"  \"1Y\"  \"6M\"  \"3M\" "
      ]
     },
     "metadata": {},
     "output_type": "display_data"
    }
   ],
   "source": [
    "nombres"
   ]
  },
  {
   "cell_type": "code",
   "execution_count": 25,
   "id": "cb1dbc36-9b49-4b39-8d74-b7ae078b89d2",
   "metadata": {},
   "outputs": [],
   "source": [
    "nombres <- as.list(nombres)"
   ]
  },
  {
   "cell_type": "code",
   "execution_count": 26,
   "id": "7ae67d55-2043-4beb-81c1-cd95a63c9ffe",
   "metadata": {},
   "outputs": [],
   "source": [
    "names(nombres) <- c(120,84,60,36,24,12,6,3) "
   ]
  },
  {
   "cell_type": "code",
   "execution_count": 27,
   "id": "f6812e41-02f5-43be-8f93-d2270415c6c8",
   "metadata": {},
   "outputs": [],
   "source": [
    "BondValue <- function (today, maturity, yieldlist,alpha ){\n",
    "    if (maturity == 3){\n",
    "        return (100*DiscountFactor(alpha, maturity) + singleBondPayment(3,yieldlist[[\"3M\"]], alpha, today))\n",
    "        }\n",
    "    setter <- as.character(maturity)\n",
    "    periods <- seq(6, maturity, 6)\n",
    "    bondSum <- sum(unlist(lapply(periods, function(x) singleBondPayment(x, yield = yieldlist[[nombres[[setter]]]],  alpha = alpha, today = today))))\n",
    "    return(bondSum +100*DiscountFactor(alpha, maturity))\n",
    "}\n",
    "\n"
   ]
  },
  {
   "cell_type": "code",
   "execution_count": 28,
   "id": "e115c3d4-be49-46e5-8e11-3f9ef159fb8c",
   "metadata": {},
   "outputs": [
    {
     "data": {
      "text/html": [
       "118.752228701085"
      ],
      "text/latex": [
       "118.752228701085"
      ],
      "text/markdown": [
       "118.752228701085"
      ],
      "text/plain": [
       "[1] 118.7522"
      ]
     },
     "metadata": {},
     "output_type": "display_data"
    }
   ],
   "source": [
    "BondValue(today, 120, firstYields, alpha)"
   ]
  },
  {
   "cell_type": "code",
   "execution_count": 29,
   "id": "a02e0b57-dea3-4c91-9c7d-3af12d4cdacd",
   "metadata": {},
   "outputs": [],
   "source": [
    "maturities <- c(120,84,60,36,24,12,6,3) "
   ]
  },
  {
   "cell_type": "code",
   "execution_count": 30,
   "id": "c12697eb-70c7-41cb-a52c-b9e0c43eae60",
   "metadata": {},
   "outputs": [],
   "source": [
    "alpha <- c(0.00343939424789704, 0.0105322205923502, 0.0817121232717679, 0.159800322624318, 0.274481567907549)\n",
    "bondValues <- list()\n",
    "for (i in maturities){\n",
    "    bondValues <- append(bondValues, BondValue(today, i, firstYields, alpha))\n",
    "}"
   ]
  },
  {
   "cell_type": "code",
   "execution_count": 36,
   "id": "e09def6e-e88a-447e-ab5c-7a7417b38b47",
   "metadata": {},
   "outputs": [
    {
     "data": {
      "text/html": [
       "<ol>\n",
       "\t<li>100.989909452258</li>\n",
       "\t<li>98.0931461413023</li>\n",
       "\t<li>100.830932085909</li>\n",
       "\t<li>100.747353387395</li>\n",
       "\t<li>98.576630727408</li>\n",
       "\t<li>100.677671207665</li>\n",
       "\t<li>99.9980280215078</li>\n",
       "\t<li>100.002728596816</li>\n",
       "</ol>\n"
      ],
      "text/latex": [
       "\\begin{enumerate}\n",
       "\\item 100.989909452258\n",
       "\\item 98.0931461413023\n",
       "\\item 100.830932085909\n",
       "\\item 100.747353387395\n",
       "\\item 98.576630727408\n",
       "\\item 100.677671207665\n",
       "\\item 99.9980280215078\n",
       "\\item 100.002728596816\n",
       "\\end{enumerate}\n"
      ],
      "text/markdown": [
       "1. 100.989909452258\n",
       "2. 98.0931461413023\n",
       "3. 100.830932085909\n",
       "4. 100.747353387395\n",
       "5. 98.576630727408\n",
       "6. 100.677671207665\n",
       "7. 99.9980280215078\n",
       "8. 100.002728596816\n",
       "\n",
       "\n"
      ],
      "text/plain": [
       "[[1]]\n",
       "[1] 100.9899\n",
       "\n",
       "[[2]]\n",
       "[1] 98.09315\n",
       "\n",
       "[[3]]\n",
       "[1] 100.8309\n",
       "\n",
       "[[4]]\n",
       "[1] 100.7474\n",
       "\n",
       "[[5]]\n",
       "[1] 98.57663\n",
       "\n",
       "[[6]]\n",
       "[1] 100.6777\n",
       "\n",
       "[[7]]\n",
       "[1] 99.99803\n",
       "\n",
       "[[8]]\n",
       "[1] 100.0027\n"
      ]
     },
     "metadata": {},
     "output_type": "display_data"
    }
   ],
   "source": [
    "bondValues"
   ]
  },
  {
   "cell_type": "code",
   "execution_count": 31,
   "id": "58a47576-09dd-44a6-9d58-47053a7f21fe",
   "metadata": {},
   "outputs": [
    {
     "data": {
      "text/html": [
       "8.35022726494102"
      ],
      "text/latex": [
       "8.35022726494102"
      ],
      "text/markdown": [
       "8.35022726494102"
      ],
      "text/plain": [
       "[1] 8.350227"
      ]
     },
     "metadata": {},
     "output_type": "display_data"
    }
   ],
   "source": [
    "error <-function(alpha){\n",
    "    maturities <- c(3,6,12,24,36,60,84,120) \n",
    "    bondValues <- list()\n",
    "    for (i in maturities){\n",
    "        bondValues <- append(bondValues, BondValue(today, i, firstYields, alpha))\n",
    "    }\n",
    "    error <- sum((unlist(bondValues)-100)**2)\n",
    "    return (error)\n",
    "}\n",
    "\n",
    "error(alpha)"
   ]
  },
  {
   "cell_type": "code",
   "execution_count": 32,
   "id": "7c7a9065-9e84-47c2-9239-9d782356225c",
   "metadata": {},
   "outputs": [
    {
     "data": {
      "text/html": [
       "<dl>\n",
       "\t<dt>$par</dt>\n",
       "\t\t<dd><style>\n",
       ".list-inline {list-style: none; margin:0; padding: 0}\n",
       ".list-inline>li {display: inline-block}\n",
       ".list-inline>li:not(:last-child)::after {content: \"\\00b7\"; padding: 0 .5ex}\n",
       "</style>\n",
       "<ol class=list-inline><li>0.00343939424789704</li><li>0.0105322205923502</li><li>0.0817121232717679</li><li>0.159800322624318</li><li>0.274481567907549</li></ol>\n",
       "</dd>\n",
       "\t<dt>$value</dt>\n",
       "\t\t<dd>8.35022726494102</dd>\n",
       "\t<dt>$counts</dt>\n",
       "\t\t<dd><style>\n",
       ".dl-inline {width: auto; margin:0; padding: 0}\n",
       ".dl-inline>dt, .dl-inline>dd {float: none; width: auto; display: inline-block}\n",
       ".dl-inline>dt::after {content: \":\\0020\"; padding-right: .5ex}\n",
       ".dl-inline>dt:not(:first-of-type) {padding-left: .5ex}\n",
       "</style><dl class=dl-inline><dt>function</dt><dd>21</dd><dt>gradient</dt><dd>21</dd></dl>\n",
       "</dd>\n",
       "\t<dt>$convergence</dt>\n",
       "\t\t<dd>52</dd>\n",
       "\t<dt>$message</dt>\n",
       "\t\t<dd>'ERROR: ABNORMAL_TERMINATION_IN_LNSRCH'</dd>\n",
       "</dl>\n"
      ],
      "text/latex": [
       "\\begin{description}\n",
       "\\item[\\$par] \\begin{enumerate*}\n",
       "\\item 0.00343939424789704\n",
       "\\item 0.0105322205923502\n",
       "\\item 0.0817121232717679\n",
       "\\item 0.159800322624318\n",
       "\\item 0.274481567907549\n",
       "\\end{enumerate*}\n",
       "\n",
       "\\item[\\$value] 8.35022726494102\n",
       "\\item[\\$counts] \\begin{description*}\n",
       "\\item[function] 21\n",
       "\\item[gradient] 21\n",
       "\\end{description*}\n",
       "\n",
       "\\item[\\$convergence] 52\n",
       "\\item[\\$message] 'ERROR: ABNORMAL\\_TERMINATION\\_IN\\_LNSRCH'\n",
       "\\end{description}\n"
      ],
      "text/markdown": [
       "$par\n",
       ":   1. 0.00343939424789704\n",
       "2. 0.0105322205923502\n",
       "3. 0.0817121232717679\n",
       "4. 0.159800322624318\n",
       "5. 0.274481567907549\n",
       "\n",
       "\n",
       "\n",
       "$value\n",
       ":   8.35022726494102\n",
       "$counts\n",
       ":   function\n",
       ":   21gradient\n",
       ":   21\n",
       "\n",
       "\n",
       "$convergence\n",
       ":   52\n",
       "$message\n",
       ":   'ERROR: ABNORMAL_TERMINATION_IN_LNSRCH'\n",
       "\n",
       "\n"
      ],
      "text/plain": [
       "$par\n",
       "[1] 0.003439394 0.010532221 0.081712123 0.159800323 0.274481568\n",
       "\n",
       "$value\n",
       "[1] 8.350227\n",
       "\n",
       "$counts\n",
       "function gradient \n",
       "      21       21 \n",
       "\n",
       "$convergence\n",
       "[1] 52\n",
       "\n",
       "$message\n",
       "[1] \"ERROR: ABNORMAL_TERMINATION_IN_LNSRCH\"\n"
      ]
     },
     "metadata": {},
     "output_type": "display_data"
    }
   ],
   "source": [
    "\n",
    "optim(alpha, error, lower = 0, upper= 1, method = \"L-BFGS-B\")"
   ]
  },
  {
   "cell_type": "code",
   "execution_count": 39,
   "id": "a40166af-e090-43ee-bc10-27c225afcea5",
   "metadata": {},
   "outputs": [],
   "source": [
    "opt <- optim(alpha, error, lower = 0, upper= 1, method = \"L-BFGS-B\")"
   ]
  },
  {
   "cell_type": "code",
   "execution_count": 2,
   "id": "329fea40",
   "metadata": {},
   "outputs": [
    {
     "ename": "ERROR",
     "evalue": "Error in eval(expr, envir, enclos): objeto 'opt' no encontrado\n",
     "output_type": "error",
     "traceback": [
      "Error in eval(expr, envir, enclos): objeto 'opt' no encontrado\nTraceback:\n"
     ]
    }
   ],
   "source": [
    "list(opt$par)"
   ]
  },
  {
   "cell_type": "markdown",
   "id": "c52edb93",
   "metadata": {},
   "source": [
    "Valoración de bono de 7 años"
   ]
  },
  {
   "cell_type": "code",
   "execution_count": 33,
   "id": "5c82c495",
   "metadata": {},
   "outputs": [
    {
     "data": {
      "text/html": [
       "67.3263831653086"
      ],
      "text/latex": [
       "67.3263831653086"
      ],
      "text/markdown": [
       "67.3263831653086"
      ],
      "text/plain": [
       "[1] 67.32638"
      ]
     },
     "metadata": {},
     "output_type": "display_data"
    },
    {
     "data": {
      "text/html": [
       "<dl>\n",
       "\t<dt>$par</dt>\n",
       "\t\t<dd>3.8353524030111</dd>\n",
       "\t<dt>$value</dt>\n",
       "\t\t<dd>1.17478769823265e-06</dd>\n",
       "\t<dt>$counts</dt>\n",
       "\t\t<dd><style>\n",
       ".dl-inline {width: auto; margin:0; padding: 0}\n",
       ".dl-inline>dt, .dl-inline>dd {float: none; width: auto; display: inline-block}\n",
       ".dl-inline>dt::after {content: \":\\0020\"; padding-right: .5ex}\n",
       ".dl-inline>dt:not(:first-of-type) {padding-left: .5ex}\n",
       "</style><dl class=dl-inline><dt>function</dt><dd>&lt;NA&gt;</dd><dt>gradient</dt><dd>&lt;NA&gt;</dd></dl>\n",
       "</dd>\n",
       "\t<dt>$convergence</dt>\n",
       "\t\t<dd>0</dd>\n",
       "\t<dt>$message</dt>\n",
       "\t\t<dd>NULL</dd>\n",
       "</dl>\n"
      ],
      "text/latex": [
       "\\begin{description}\n",
       "\\item[\\$par] 3.8353524030111\n",
       "\\item[\\$value] 1.17478769823265e-06\n",
       "\\item[\\$counts] \\begin{description*}\n",
       "\\item[function] <NA>\n",
       "\\item[gradient] <NA>\n",
       "\\end{description*}\n",
       "\n",
       "\\item[\\$convergence] 0\n",
       "\\item[\\$message] NULL\n",
       "\\end{description}\n"
      ],
      "text/markdown": [
       "$par\n",
       ":   3.8353524030111\n",
       "$value\n",
       ":   1.17478769823265e-06\n",
       "$counts\n",
       ":   function\n",
       ":   &lt;NA&gt;gradient\n",
       ":   &lt;NA&gt;\n",
       "\n",
       "\n",
       "$convergence\n",
       ":   0\n",
       "$message\n",
       ":   NULL\n",
       "\n",
       "\n"
      ],
      "text/plain": [
       "$par\n",
       "[1] 3.835352\n",
       "\n",
       "$value\n",
       "[1] 1.174788e-06\n",
       "\n",
       "$counts\n",
       "function gradient \n",
       "      NA       NA \n",
       "\n",
       "$convergence\n",
       "[1] 0\n",
       "\n",
       "$message\n",
       "NULL\n"
      ]
     },
     "metadata": {},
     "output_type": "display_data"
    }
   ],
   "source": [
    "alpha <- c(0.00343939424789704, 0.0105322205923502, 0.0817121232717679, 0.159800322624318, 0.274481567907549)\n",
    "pvnotional <- 100 - DiscountFactor(alpha[4], 84)*100\n",
    "pvnotional\n",
    "couponsum <- function (c){\n",
    "pvcoupon <- DiscountFactor(alpha[2], 12)*RateConverter(c, 12,today) + DiscountFactor(alpha[2], 24)*RateConverter(c,24,today) +\n",
    " DiscountFactor(alpha[3], 36)*RateConverter(c, 36,today) +DiscountFactor(alpha[3], 48)*RateConverter(c, 48,today) +\n",
    " DiscountFactor(alpha[4], 60)*RateConverter(c, 60,today) + DiscountFactor(alpha[4], 72)*RateConverter(c, 72,today) +  \n",
    " DiscountFactor(alpha[4], 84)*RateConverter(c, 84,today) + DiscountFactor(alpha[4], 84)*RateConverter(c, 84,today)\n",
    " result <-pvnotional- pvcoupon\n",
    "    if (result <0){\n",
    "        return (500)\n",
    "    }\n",
    "    else {\n",
    "        return (pvnotional- pvcoupon)\n",
    "    }\n",
    "    \n",
    "}\n",
    "\n",
    "opti <- optim(c,couponsum,lower = 0, upper=10,  method = \"Brent\")\n",
    "opti\n"
   ]
  },
  {
   "cell_type": "markdown",
   "id": "a0ac085d",
   "metadata": {},
   "source": [
    "Matriz de curvas 3 años en el pasado"
   ]
  },
  {
   "cell_type": "code",
   "execution_count": 48,
   "id": "f154bbc5",
   "metadata": {},
   "outputs": [],
   "source": [
    "\n",
    "matAlphas <- list()\n",
    "for ( r in 1:nrow(df)){ \n",
    "    firstYields <- df[r,]\n",
    "    today <- firstYields$Date\n",
    "    alpha <- c(0.00343939424789704, 0.0105322205923502, 0.0817121232717679, 0.159800322624318, 0.274481567907549)\n",
    "    opt <- optim(alpha, error, lower = 0, upper= 1, method = \"L-BFGS-B\")\n",
    "    matAlphas <- append(matAlphas, list(opt$par))\n",
    "}"
   ]
  },
  {
   "cell_type": "code",
   "execution_count": 49,
   "id": "6c7c98be",
   "metadata": {},
   "outputs": [],
   "source": [
    "MatofAlphas <- matrix(unlist(matAlphas), ncol = 5, byrow = TRUE)"
   ]
  },
  {
   "cell_type": "code",
   "execution_count": 1,
   "id": "75147ad5",
   "metadata": {},
   "outputs": [
    {
     "ename": "ERROR",
     "evalue": "Error in is.data.frame(x): objeto 'MatofAlphas' no encontrado\n",
     "output_type": "error",
     "traceback": [
      "Error in is.data.frame(x): objeto 'MatofAlphas' no encontrado\nTraceback:\n",
      "1. write.csv(MatofAlphas, \"../data/sim.csv\", row.names = FALSE)",
      "2. eval.parent(Call)",
      "3. eval(expr, p)",
      "4. eval(expr, p)",
      "5. write.table(MatofAlphas, \"../data/sim.csv\", row.names = FALSE, \n .     col.names = TRUE, sep = \",\", dec = \".\", qmethod = \"double\")",
      "6. is.data.frame(x)"
     ]
    }
   ],
   "source": [
    "write.csv(MatofAlphas,\"../data/sim.csv\", row.names = FALSE)"
   ]
  },
  {
   "cell_type": "code",
   "execution_count": 4,
   "id": "89765d2f",
   "metadata": {},
   "outputs": [
    {
     "data": {
      "text/html": [
       "<table class=\"dataframe\">\n",
       "<caption>A data.frame: 209 × 5</caption>\n",
       "<thead>\n",
       "\t<tr><th scope=col>V1</th><th scope=col>V2</th><th scope=col>V3</th><th scope=col>V4</th><th scope=col>V5</th></tr>\n",
       "\t<tr><th scope=col>&lt;dbl&gt;</th><th scope=col>&lt;dbl&gt;</th><th scope=col>&lt;dbl&gt;</th><th scope=col>&lt;dbl&gt;</th><th scope=col>&lt;dbl&gt;</th></tr>\n",
       "</thead>\n",
       "<tbody>\n",
       "\t<tr><td>0.01469253</td><td>0.02332216</td><td>0.1072190</td><td>0.2294691</td><td>0.4065073</td></tr>\n",
       "\t<tr><td>0.01469100</td><td>0.02455477</td><td>0.1072255</td><td>0.2269062</td><td>0.4057698</td></tr>\n",
       "\t<tr><td>0.01490613</td><td>0.02528225</td><td>0.1075780</td><td>0.2279427</td><td>0.4036473</td></tr>\n",
       "\t<tr><td>0.01564085</td><td>0.02441550</td><td>0.1094505</td><td>0.2287888</td><td>0.4081671</td></tr>\n",
       "\t<tr><td>0.01664205</td><td>0.02500139</td><td>0.1098298</td><td>0.2266441</td><td>0.3961503</td></tr>\n",
       "\t<tr><td>0.01613533</td><td>0.02459101</td><td>0.1081273</td><td>0.2228312</td><td>0.3942095</td></tr>\n",
       "\t<tr><td>0.01536457</td><td>0.02662238</td><td>0.1066000</td><td>0.2187469</td><td>0.3804598</td></tr>\n",
       "\t<tr><td>0.01546857</td><td>0.02551777</td><td>0.1076873</td><td>0.2208042</td><td>0.3855213</td></tr>\n",
       "\t<tr><td>0.01601275</td><td>0.02596776</td><td>0.1123567</td><td>0.2269432</td><td>0.3872429</td></tr>\n",
       "\t<tr><td>0.01619090</td><td>0.02728561</td><td>0.1173354</td><td>0.2383830</td><td>0.4032142</td></tr>\n",
       "\t<tr><td>0.01578245</td><td>0.02849808</td><td>0.1171247</td><td>0.2384970</td><td>0.4027017</td></tr>\n",
       "\t<tr><td>0.01630912</td><td>0.02836373</td><td>0.1179892</td><td>0.2346758</td><td>0.4029714</td></tr>\n",
       "\t<tr><td>0.01700808</td><td>0.02812859</td><td>0.1206710</td><td>0.2392869</td><td>0.4003933</td></tr>\n",
       "\t<tr><td>0.01702693</td><td>0.02863879</td><td>0.1213965</td><td>0.2452483</td><td>0.4154787</td></tr>\n",
       "\t<tr><td>0.01694168</td><td>0.02852843</td><td>0.1165962</td><td>0.2337870</td><td>0.4009589</td></tr>\n",
       "\t<tr><td>0.01712213</td><td>0.02859734</td><td>0.1160081</td><td>0.2316695</td><td>0.3957257</td></tr>\n",
       "\t<tr><td>0.01714903</td><td>0.02893412</td><td>0.1174261</td><td>0.2347499</td><td>0.4018514</td></tr>\n",
       "\t<tr><td>0.01666570</td><td>0.02948001</td><td>0.1194087</td><td>0.2337870</td><td>0.3931917</td></tr>\n",
       "\t<tr><td>0.01643831</td><td>0.03034775</td><td>0.1176508</td><td>0.2309416</td><td>0.3908806</td></tr>\n",
       "\t<tr><td>0.01664489</td><td>0.03027933</td><td>0.1167235</td><td>0.2280595</td><td>0.3861333</td></tr>\n",
       "\t<tr><td>0.01698482</td><td>0.03013818</td><td>0.1173081</td><td>0.2245480</td><td>0.3793520</td></tr>\n",
       "\t<tr><td>0.01713430</td><td>0.03111948</td><td>0.1180983</td><td>0.2238612</td><td>0.3795902</td></tr>\n",
       "\t<tr><td>0.01673441</td><td>0.03178910</td><td>0.1189244</td><td>0.2279662</td><td>0.3907481</td></tr>\n",
       "\t<tr><td>0.01711045</td><td>0.03181261</td><td>0.1229811</td><td>0.2333988</td><td>0.3955861</td></tr>\n",
       "\t<tr><td>0.01743368</td><td>0.03188491</td><td>0.1214159</td><td>0.2313131</td><td>0.3981347</td></tr>\n",
       "\t<tr><td>0.01782103</td><td>0.03176989</td><td>0.1189526</td><td>0.2246773</td><td>0.3881801</td></tr>\n",
       "\t<tr><td>0.01754234</td><td>0.03239771</td><td>0.1186994</td><td>0.2239138</td><td>0.3853168</td></tr>\n",
       "\t<tr><td>0.01796092</td><td>0.03254294</td><td>0.1184703</td><td>0.2198914</td><td>0.3767964</td></tr>\n",
       "\t<tr><td>0.01778771</td><td>0.03250781</td><td>0.1190223</td><td>0.2223899</td><td>0.3855710</td></tr>\n",
       "\t<tr><td>0.01795729</td><td>0.03336971</td><td>0.1225246</td><td>0.2291861</td><td>0.3940780</td></tr>\n",
       "\t<tr><td>...</td><td>...</td><td>...</td><td>...</td><td>...</td></tr>\n",
       "\t<tr><td>0.000000000</td><td>0.0000000000</td><td>0.01770637</td><td>0.07098965</td><td>0.2341786</td></tr>\n",
       "\t<tr><td>0.000000000</td><td>0.0000000000</td><td>0.01609976</td><td>0.07046173</td><td>0.2236131</td></tr>\n",
       "\t<tr><td>0.000000000</td><td>0.0000000000</td><td>0.01929790</td><td>0.07795410</td><td>0.2343743</td></tr>\n",
       "\t<tr><td>0.000000000</td><td>0.0000000000</td><td>0.02022432</td><td>0.07779523</td><td>0.2287593</td></tr>\n",
       "\t<tr><td>0.000000000</td><td>0.0000000000</td><td>0.02099777</td><td>0.07846659</td><td>0.2227478</td></tr>\n",
       "\t<tr><td>0.000000000</td><td>0.0000000000</td><td>0.01992135</td><td>0.08239410</td><td>0.2338167</td></tr>\n",
       "\t<tr><td>0.000000000</td><td>0.0000000000</td><td>0.01917900</td><td>0.08003977</td><td>0.2386556</td></tr>\n",
       "\t<tr><td>0.000000000</td><td>0.0000000000</td><td>0.02080875</td><td>0.08325577</td><td>0.2403968</td></tr>\n",
       "\t<tr><td>0.000000000</td><td>0.0000000000</td><td>0.02200901</td><td>0.08921386</td><td>0.2411867</td></tr>\n",
       "\t<tr><td>0.000000000</td><td>0.0000000000</td><td>0.02542209</td><td>0.09813223</td><td>0.2542260</td></tr>\n",
       "\t<tr><td>0.000000000</td><td>0.0000000000</td><td>0.02306019</td><td>0.09813855</td><td>0.2585035</td></tr>\n",
       "\t<tr><td>0.000000000</td><td>0.0000000000</td><td>0.02760001</td><td>0.11193183</td><td>0.2824987</td></tr>\n",
       "\t<tr><td>0.000000000</td><td>0.0000000000</td><td>0.03318536</td><td>0.11600367</td><td>0.2655216</td></tr>\n",
       "\t<tr><td>0.000000000</td><td>0.0000000000</td><td>0.03696243</td><td>0.12168135</td><td>0.2732121</td></tr>\n",
       "\t<tr><td>0.000000000</td><td>0.0000000000</td><td>0.03678288</td><td>0.12255974</td><td>0.2558307</td></tr>\n",
       "\t<tr><td>0.000000000</td><td>0.0000000000</td><td>0.03175069</td><td>0.10804687</td><td>0.2440405</td></tr>\n",
       "\t<tr><td>0.000000000</td><td>0.0000000000</td><td>0.04065632</td><td>0.12243184</td><td>0.2536076</td></tr>\n",
       "\t<tr><td>0.000000000</td><td>0.0000000000</td><td>0.04132471</td><td>0.12210925</td><td>0.2501052</td></tr>\n",
       "\t<tr><td>0.000000000</td><td>0.0000000000</td><td>0.03887733</td><td>0.11666572</td><td>0.2391670</td></tr>\n",
       "\t<tr><td>0.000000000</td><td>0.0000000000</td><td>0.04180561</td><td>0.10989731</td><td>0.2111805</td></tr>\n",
       "\t<tr><td>0.000000000</td><td>0.0000000000</td><td>0.04812389</td><td>0.11855896</td><td>0.2319788</td></tr>\n",
       "\t<tr><td>0.000000000</td><td>0.0000000000</td><td>0.04513176</td><td>0.11088708</td><td>0.2205849</td></tr>\n",
       "\t<tr><td>0.000000000</td><td>0.0000000000</td><td>0.04775064</td><td>0.11709596</td><td>0.2348661</td></tr>\n",
       "\t<tr><td>0.002236020</td><td>0.0000000000</td><td>0.04727249</td><td>0.12047940</td><td>0.2369928</td></tr>\n",
       "\t<tr><td>0.001734900</td><td>0.0000000000</td><td>0.05679555</td><td>0.14373753</td><td>0.2720827</td></tr>\n",
       "\t<tr><td>0.001398142</td><td>0.0007572627</td><td>0.06245783</td><td>0.14538451</td><td>0.2709915</td></tr>\n",
       "\t<tr><td>0.003158009</td><td>0.0016420656</td><td>0.06275393</td><td>0.14433260</td><td>0.2646428</td></tr>\n",
       "\t<tr><td>0.001877288</td><td>0.0065152684</td><td>0.06591898</td><td>0.14613170</td><td>0.2615823</td></tr>\n",
       "\t<tr><td>0.002466540</td><td>0.0081916398</td><td>0.07316063</td><td>0.15892691</td><td>0.2770325</td></tr>\n",
       "\t<tr><td>0.003439394</td><td>0.0105322206</td><td>0.08171212</td><td>0.15980032</td><td>0.2744816</td></tr>\n",
       "</tbody>\n",
       "</table>\n"
      ],
      "text/latex": [
       "A data.frame: 209 × 5\n",
       "\\begin{tabular}{lllll}\n",
       " V1 & V2 & V3 & V4 & V5\\\\\n",
       " <dbl> & <dbl> & <dbl> & <dbl> & <dbl>\\\\\n",
       "\\hline\n",
       "\t 0.01469253 & 0.02332216 & 0.1072190 & 0.2294691 & 0.4065073\\\\\n",
       "\t 0.01469100 & 0.02455477 & 0.1072255 & 0.2269062 & 0.4057698\\\\\n",
       "\t 0.01490613 & 0.02528225 & 0.1075780 & 0.2279427 & 0.4036473\\\\\n",
       "\t 0.01564085 & 0.02441550 & 0.1094505 & 0.2287888 & 0.4081671\\\\\n",
       "\t 0.01664205 & 0.02500139 & 0.1098298 & 0.2266441 & 0.3961503\\\\\n",
       "\t 0.01613533 & 0.02459101 & 0.1081273 & 0.2228312 & 0.3942095\\\\\n",
       "\t 0.01536457 & 0.02662238 & 0.1066000 & 0.2187469 & 0.3804598\\\\\n",
       "\t 0.01546857 & 0.02551777 & 0.1076873 & 0.2208042 & 0.3855213\\\\\n",
       "\t 0.01601275 & 0.02596776 & 0.1123567 & 0.2269432 & 0.3872429\\\\\n",
       "\t 0.01619090 & 0.02728561 & 0.1173354 & 0.2383830 & 0.4032142\\\\\n",
       "\t 0.01578245 & 0.02849808 & 0.1171247 & 0.2384970 & 0.4027017\\\\\n",
       "\t 0.01630912 & 0.02836373 & 0.1179892 & 0.2346758 & 0.4029714\\\\\n",
       "\t 0.01700808 & 0.02812859 & 0.1206710 & 0.2392869 & 0.4003933\\\\\n",
       "\t 0.01702693 & 0.02863879 & 0.1213965 & 0.2452483 & 0.4154787\\\\\n",
       "\t 0.01694168 & 0.02852843 & 0.1165962 & 0.2337870 & 0.4009589\\\\\n",
       "\t 0.01712213 & 0.02859734 & 0.1160081 & 0.2316695 & 0.3957257\\\\\n",
       "\t 0.01714903 & 0.02893412 & 0.1174261 & 0.2347499 & 0.4018514\\\\\n",
       "\t 0.01666570 & 0.02948001 & 0.1194087 & 0.2337870 & 0.3931917\\\\\n",
       "\t 0.01643831 & 0.03034775 & 0.1176508 & 0.2309416 & 0.3908806\\\\\n",
       "\t 0.01664489 & 0.03027933 & 0.1167235 & 0.2280595 & 0.3861333\\\\\n",
       "\t 0.01698482 & 0.03013818 & 0.1173081 & 0.2245480 & 0.3793520\\\\\n",
       "\t 0.01713430 & 0.03111948 & 0.1180983 & 0.2238612 & 0.3795902\\\\\n",
       "\t 0.01673441 & 0.03178910 & 0.1189244 & 0.2279662 & 0.3907481\\\\\n",
       "\t 0.01711045 & 0.03181261 & 0.1229811 & 0.2333988 & 0.3955861\\\\\n",
       "\t 0.01743368 & 0.03188491 & 0.1214159 & 0.2313131 & 0.3981347\\\\\n",
       "\t 0.01782103 & 0.03176989 & 0.1189526 & 0.2246773 & 0.3881801\\\\\n",
       "\t 0.01754234 & 0.03239771 & 0.1186994 & 0.2239138 & 0.3853168\\\\\n",
       "\t 0.01796092 & 0.03254294 & 0.1184703 & 0.2198914 & 0.3767964\\\\\n",
       "\t 0.01778771 & 0.03250781 & 0.1190223 & 0.2223899 & 0.3855710\\\\\n",
       "\t 0.01795729 & 0.03336971 & 0.1225246 & 0.2291861 & 0.3940780\\\\\n",
       "\t ... & ... & ... & ... & ...\\\\\n",
       "\t 0.000000000 & 0.0000000000 & 0.01770637 & 0.07098965 & 0.2341786\\\\\n",
       "\t 0.000000000 & 0.0000000000 & 0.01609976 & 0.07046173 & 0.2236131\\\\\n",
       "\t 0.000000000 & 0.0000000000 & 0.01929790 & 0.07795410 & 0.2343743\\\\\n",
       "\t 0.000000000 & 0.0000000000 & 0.02022432 & 0.07779523 & 0.2287593\\\\\n",
       "\t 0.000000000 & 0.0000000000 & 0.02099777 & 0.07846659 & 0.2227478\\\\\n",
       "\t 0.000000000 & 0.0000000000 & 0.01992135 & 0.08239410 & 0.2338167\\\\\n",
       "\t 0.000000000 & 0.0000000000 & 0.01917900 & 0.08003977 & 0.2386556\\\\\n",
       "\t 0.000000000 & 0.0000000000 & 0.02080875 & 0.08325577 & 0.2403968\\\\\n",
       "\t 0.000000000 & 0.0000000000 & 0.02200901 & 0.08921386 & 0.2411867\\\\\n",
       "\t 0.000000000 & 0.0000000000 & 0.02542209 & 0.09813223 & 0.2542260\\\\\n",
       "\t 0.000000000 & 0.0000000000 & 0.02306019 & 0.09813855 & 0.2585035\\\\\n",
       "\t 0.000000000 & 0.0000000000 & 0.02760001 & 0.11193183 & 0.2824987\\\\\n",
       "\t 0.000000000 & 0.0000000000 & 0.03318536 & 0.11600367 & 0.2655216\\\\\n",
       "\t 0.000000000 & 0.0000000000 & 0.03696243 & 0.12168135 & 0.2732121\\\\\n",
       "\t 0.000000000 & 0.0000000000 & 0.03678288 & 0.12255974 & 0.2558307\\\\\n",
       "\t 0.000000000 & 0.0000000000 & 0.03175069 & 0.10804687 & 0.2440405\\\\\n",
       "\t 0.000000000 & 0.0000000000 & 0.04065632 & 0.12243184 & 0.2536076\\\\\n",
       "\t 0.000000000 & 0.0000000000 & 0.04132471 & 0.12210925 & 0.2501052\\\\\n",
       "\t 0.000000000 & 0.0000000000 & 0.03887733 & 0.11666572 & 0.2391670\\\\\n",
       "\t 0.000000000 & 0.0000000000 & 0.04180561 & 0.10989731 & 0.2111805\\\\\n",
       "\t 0.000000000 & 0.0000000000 & 0.04812389 & 0.11855896 & 0.2319788\\\\\n",
       "\t 0.000000000 & 0.0000000000 & 0.04513176 & 0.11088708 & 0.2205849\\\\\n",
       "\t 0.000000000 & 0.0000000000 & 0.04775064 & 0.11709596 & 0.2348661\\\\\n",
       "\t 0.002236020 & 0.0000000000 & 0.04727249 & 0.12047940 & 0.2369928\\\\\n",
       "\t 0.001734900 & 0.0000000000 & 0.05679555 & 0.14373753 & 0.2720827\\\\\n",
       "\t 0.001398142 & 0.0007572627 & 0.06245783 & 0.14538451 & 0.2709915\\\\\n",
       "\t 0.003158009 & 0.0016420656 & 0.06275393 & 0.14433260 & 0.2646428\\\\\n",
       "\t 0.001877288 & 0.0065152684 & 0.06591898 & 0.14613170 & 0.2615823\\\\\n",
       "\t 0.002466540 & 0.0081916398 & 0.07316063 & 0.15892691 & 0.2770325\\\\\n",
       "\t 0.003439394 & 0.0105322206 & 0.08171212 & 0.15980032 & 0.2744816\\\\\n",
       "\\end{tabular}\n"
      ],
      "text/markdown": [
       "\n",
       "A data.frame: 209 × 5\n",
       "\n",
       "| V1 &lt;dbl&gt; | V2 &lt;dbl&gt; | V3 &lt;dbl&gt; | V4 &lt;dbl&gt; | V5 &lt;dbl&gt; |\n",
       "|---|---|---|---|---|\n",
       "| 0.01469253 | 0.02332216 | 0.1072190 | 0.2294691 | 0.4065073 |\n",
       "| 0.01469100 | 0.02455477 | 0.1072255 | 0.2269062 | 0.4057698 |\n",
       "| 0.01490613 | 0.02528225 | 0.1075780 | 0.2279427 | 0.4036473 |\n",
       "| 0.01564085 | 0.02441550 | 0.1094505 | 0.2287888 | 0.4081671 |\n",
       "| 0.01664205 | 0.02500139 | 0.1098298 | 0.2266441 | 0.3961503 |\n",
       "| 0.01613533 | 0.02459101 | 0.1081273 | 0.2228312 | 0.3942095 |\n",
       "| 0.01536457 | 0.02662238 | 0.1066000 | 0.2187469 | 0.3804598 |\n",
       "| 0.01546857 | 0.02551777 | 0.1076873 | 0.2208042 | 0.3855213 |\n",
       "| 0.01601275 | 0.02596776 | 0.1123567 | 0.2269432 | 0.3872429 |\n",
       "| 0.01619090 | 0.02728561 | 0.1173354 | 0.2383830 | 0.4032142 |\n",
       "| 0.01578245 | 0.02849808 | 0.1171247 | 0.2384970 | 0.4027017 |\n",
       "| 0.01630912 | 0.02836373 | 0.1179892 | 0.2346758 | 0.4029714 |\n",
       "| 0.01700808 | 0.02812859 | 0.1206710 | 0.2392869 | 0.4003933 |\n",
       "| 0.01702693 | 0.02863879 | 0.1213965 | 0.2452483 | 0.4154787 |\n",
       "| 0.01694168 | 0.02852843 | 0.1165962 | 0.2337870 | 0.4009589 |\n",
       "| 0.01712213 | 0.02859734 | 0.1160081 | 0.2316695 | 0.3957257 |\n",
       "| 0.01714903 | 0.02893412 | 0.1174261 | 0.2347499 | 0.4018514 |\n",
       "| 0.01666570 | 0.02948001 | 0.1194087 | 0.2337870 | 0.3931917 |\n",
       "| 0.01643831 | 0.03034775 | 0.1176508 | 0.2309416 | 0.3908806 |\n",
       "| 0.01664489 | 0.03027933 | 0.1167235 | 0.2280595 | 0.3861333 |\n",
       "| 0.01698482 | 0.03013818 | 0.1173081 | 0.2245480 | 0.3793520 |\n",
       "| 0.01713430 | 0.03111948 | 0.1180983 | 0.2238612 | 0.3795902 |\n",
       "| 0.01673441 | 0.03178910 | 0.1189244 | 0.2279662 | 0.3907481 |\n",
       "| 0.01711045 | 0.03181261 | 0.1229811 | 0.2333988 | 0.3955861 |\n",
       "| 0.01743368 | 0.03188491 | 0.1214159 | 0.2313131 | 0.3981347 |\n",
       "| 0.01782103 | 0.03176989 | 0.1189526 | 0.2246773 | 0.3881801 |\n",
       "| 0.01754234 | 0.03239771 | 0.1186994 | 0.2239138 | 0.3853168 |\n",
       "| 0.01796092 | 0.03254294 | 0.1184703 | 0.2198914 | 0.3767964 |\n",
       "| 0.01778771 | 0.03250781 | 0.1190223 | 0.2223899 | 0.3855710 |\n",
       "| 0.01795729 | 0.03336971 | 0.1225246 | 0.2291861 | 0.3940780 |\n",
       "| ... | ... | ... | ... | ... |\n",
       "| 0.000000000 | 0.0000000000 | 0.01770637 | 0.07098965 | 0.2341786 |\n",
       "| 0.000000000 | 0.0000000000 | 0.01609976 | 0.07046173 | 0.2236131 |\n",
       "| 0.000000000 | 0.0000000000 | 0.01929790 | 0.07795410 | 0.2343743 |\n",
       "| 0.000000000 | 0.0000000000 | 0.02022432 | 0.07779523 | 0.2287593 |\n",
       "| 0.000000000 | 0.0000000000 | 0.02099777 | 0.07846659 | 0.2227478 |\n",
       "| 0.000000000 | 0.0000000000 | 0.01992135 | 0.08239410 | 0.2338167 |\n",
       "| 0.000000000 | 0.0000000000 | 0.01917900 | 0.08003977 | 0.2386556 |\n",
       "| 0.000000000 | 0.0000000000 | 0.02080875 | 0.08325577 | 0.2403968 |\n",
       "| 0.000000000 | 0.0000000000 | 0.02200901 | 0.08921386 | 0.2411867 |\n",
       "| 0.000000000 | 0.0000000000 | 0.02542209 | 0.09813223 | 0.2542260 |\n",
       "| 0.000000000 | 0.0000000000 | 0.02306019 | 0.09813855 | 0.2585035 |\n",
       "| 0.000000000 | 0.0000000000 | 0.02760001 | 0.11193183 | 0.2824987 |\n",
       "| 0.000000000 | 0.0000000000 | 0.03318536 | 0.11600367 | 0.2655216 |\n",
       "| 0.000000000 | 0.0000000000 | 0.03696243 | 0.12168135 | 0.2732121 |\n",
       "| 0.000000000 | 0.0000000000 | 0.03678288 | 0.12255974 | 0.2558307 |\n",
       "| 0.000000000 | 0.0000000000 | 0.03175069 | 0.10804687 | 0.2440405 |\n",
       "| 0.000000000 | 0.0000000000 | 0.04065632 | 0.12243184 | 0.2536076 |\n",
       "| 0.000000000 | 0.0000000000 | 0.04132471 | 0.12210925 | 0.2501052 |\n",
       "| 0.000000000 | 0.0000000000 | 0.03887733 | 0.11666572 | 0.2391670 |\n",
       "| 0.000000000 | 0.0000000000 | 0.04180561 | 0.10989731 | 0.2111805 |\n",
       "| 0.000000000 | 0.0000000000 | 0.04812389 | 0.11855896 | 0.2319788 |\n",
       "| 0.000000000 | 0.0000000000 | 0.04513176 | 0.11088708 | 0.2205849 |\n",
       "| 0.000000000 | 0.0000000000 | 0.04775064 | 0.11709596 | 0.2348661 |\n",
       "| 0.002236020 | 0.0000000000 | 0.04727249 | 0.12047940 | 0.2369928 |\n",
       "| 0.001734900 | 0.0000000000 | 0.05679555 | 0.14373753 | 0.2720827 |\n",
       "| 0.001398142 | 0.0007572627 | 0.06245783 | 0.14538451 | 0.2709915 |\n",
       "| 0.003158009 | 0.0016420656 | 0.06275393 | 0.14433260 | 0.2646428 |\n",
       "| 0.001877288 | 0.0065152684 | 0.06591898 | 0.14613170 | 0.2615823 |\n",
       "| 0.002466540 | 0.0081916398 | 0.07316063 | 0.15892691 | 0.2770325 |\n",
       "| 0.003439394 | 0.0105322206 | 0.08171212 | 0.15980032 | 0.2744816 |\n",
       "\n"
      ],
      "text/plain": [
       "    V1          V2           V3         V4         V5       \n",
       "1   0.01469253  0.02332216   0.1072190  0.2294691  0.4065073\n",
       "2   0.01469100  0.02455477   0.1072255  0.2269062  0.4057698\n",
       "3   0.01490613  0.02528225   0.1075780  0.2279427  0.4036473\n",
       "4   0.01564085  0.02441550   0.1094505  0.2287888  0.4081671\n",
       "5   0.01664205  0.02500139   0.1098298  0.2266441  0.3961503\n",
       "6   0.01613533  0.02459101   0.1081273  0.2228312  0.3942095\n",
       "7   0.01536457  0.02662238   0.1066000  0.2187469  0.3804598\n",
       "8   0.01546857  0.02551777   0.1076873  0.2208042  0.3855213\n",
       "9   0.01601275  0.02596776   0.1123567  0.2269432  0.3872429\n",
       "10  0.01619090  0.02728561   0.1173354  0.2383830  0.4032142\n",
       "11  0.01578245  0.02849808   0.1171247  0.2384970  0.4027017\n",
       "12  0.01630912  0.02836373   0.1179892  0.2346758  0.4029714\n",
       "13  0.01700808  0.02812859   0.1206710  0.2392869  0.4003933\n",
       "14  0.01702693  0.02863879   0.1213965  0.2452483  0.4154787\n",
       "15  0.01694168  0.02852843   0.1165962  0.2337870  0.4009589\n",
       "16  0.01712213  0.02859734   0.1160081  0.2316695  0.3957257\n",
       "17  0.01714903  0.02893412   0.1174261  0.2347499  0.4018514\n",
       "18  0.01666570  0.02948001   0.1194087  0.2337870  0.3931917\n",
       "19  0.01643831  0.03034775   0.1176508  0.2309416  0.3908806\n",
       "20  0.01664489  0.03027933   0.1167235  0.2280595  0.3861333\n",
       "21  0.01698482  0.03013818   0.1173081  0.2245480  0.3793520\n",
       "22  0.01713430  0.03111948   0.1180983  0.2238612  0.3795902\n",
       "23  0.01673441  0.03178910   0.1189244  0.2279662  0.3907481\n",
       "24  0.01711045  0.03181261   0.1229811  0.2333988  0.3955861\n",
       "25  0.01743368  0.03188491   0.1214159  0.2313131  0.3981347\n",
       "26  0.01782103  0.03176989   0.1189526  0.2246773  0.3881801\n",
       "27  0.01754234  0.03239771   0.1186994  0.2239138  0.3853168\n",
       "28  0.01796092  0.03254294   0.1184703  0.2198914  0.3767964\n",
       "29  0.01778771  0.03250781   0.1190223  0.2223899  0.3855710\n",
       "30  0.01795729  0.03336971   0.1225246  0.2291861  0.3940780\n",
       "... ...         ...          ...        ...        ...      \n",
       "180 0.000000000 0.0000000000 0.01770637 0.07098965 0.2341786\n",
       "181 0.000000000 0.0000000000 0.01609976 0.07046173 0.2236131\n",
       "182 0.000000000 0.0000000000 0.01929790 0.07795410 0.2343743\n",
       "183 0.000000000 0.0000000000 0.02022432 0.07779523 0.2287593\n",
       "184 0.000000000 0.0000000000 0.02099777 0.07846659 0.2227478\n",
       "185 0.000000000 0.0000000000 0.01992135 0.08239410 0.2338167\n",
       "186 0.000000000 0.0000000000 0.01917900 0.08003977 0.2386556\n",
       "187 0.000000000 0.0000000000 0.02080875 0.08325577 0.2403968\n",
       "188 0.000000000 0.0000000000 0.02200901 0.08921386 0.2411867\n",
       "189 0.000000000 0.0000000000 0.02542209 0.09813223 0.2542260\n",
       "190 0.000000000 0.0000000000 0.02306019 0.09813855 0.2585035\n",
       "191 0.000000000 0.0000000000 0.02760001 0.11193183 0.2824987\n",
       "192 0.000000000 0.0000000000 0.03318536 0.11600367 0.2655216\n",
       "193 0.000000000 0.0000000000 0.03696243 0.12168135 0.2732121\n",
       "194 0.000000000 0.0000000000 0.03678288 0.12255974 0.2558307\n",
       "195 0.000000000 0.0000000000 0.03175069 0.10804687 0.2440405\n",
       "196 0.000000000 0.0000000000 0.04065632 0.12243184 0.2536076\n",
       "197 0.000000000 0.0000000000 0.04132471 0.12210925 0.2501052\n",
       "198 0.000000000 0.0000000000 0.03887733 0.11666572 0.2391670\n",
       "199 0.000000000 0.0000000000 0.04180561 0.10989731 0.2111805\n",
       "200 0.000000000 0.0000000000 0.04812389 0.11855896 0.2319788\n",
       "201 0.000000000 0.0000000000 0.04513176 0.11088708 0.2205849\n",
       "202 0.000000000 0.0000000000 0.04775064 0.11709596 0.2348661\n",
       "203 0.002236020 0.0000000000 0.04727249 0.12047940 0.2369928\n",
       "204 0.001734900 0.0000000000 0.05679555 0.14373753 0.2720827\n",
       "205 0.001398142 0.0007572627 0.06245783 0.14538451 0.2709915\n",
       "206 0.003158009 0.0016420656 0.06275393 0.14433260 0.2646428\n",
       "207 0.001877288 0.0065152684 0.06591898 0.14613170 0.2615823\n",
       "208 0.002466540 0.0081916398 0.07316063 0.15892691 0.2770325\n",
       "209 0.003439394 0.0105322206 0.08171212 0.15980032 0.2744816"
      ]
     },
     "metadata": {},
     "output_type": "display_data"
    },
    {
     "data": {
      "text/html": [
       "<table class=\"dataframe\">\n",
       "<caption>A matrix: 5 × 5 of type dbl</caption>\n",
       "<thead>\n",
       "\t<tr><th></th><th scope=col>V1</th><th scope=col>V2</th><th scope=col>V3</th><th scope=col>V4</th><th scope=col>V5</th></tr>\n",
       "</thead>\n",
       "<tbody>\n",
       "\t<tr><th scope=row>V1</th><td>6.029197e-07</td><td>4.079473e-07</td><td>1.073900e-06</td><td>2.077693e-06</td><td>3.446827e-06</td></tr>\n",
       "\t<tr><th scope=row>V2</th><td>4.079473e-07</td><td>1.202395e-06</td><td>2.188503e-06</td><td>3.439836e-06</td><td>4.395852e-06</td></tr>\n",
       "\t<tr><th scope=row>V3</th><td>1.073900e-06</td><td>2.188503e-06</td><td>1.418655e-05</td><td>2.654489e-05</td><td>3.529536e-05</td></tr>\n",
       "\t<tr><th scope=row>V4</th><td>2.077693e-06</td><td>3.439836e-06</td><td>2.654489e-05</td><td>6.365702e-05</td><td>9.191198e-05</td></tr>\n",
       "\t<tr><th scope=row>V5</th><td>3.446827e-06</td><td>4.395852e-06</td><td>3.529536e-05</td><td>9.191198e-05</td><td>2.068846e-04</td></tr>\n",
       "</tbody>\n",
       "</table>\n"
      ],
      "text/latex": [
       "A matrix: 5 × 5 of type dbl\n",
       "\\begin{tabular}{r|lllll}\n",
       "  & V1 & V2 & V3 & V4 & V5\\\\\n",
       "\\hline\n",
       "\tV1 & 6.029197e-07 & 4.079473e-07 & 1.073900e-06 & 2.077693e-06 & 3.446827e-06\\\\\n",
       "\tV2 & 4.079473e-07 & 1.202395e-06 & 2.188503e-06 & 3.439836e-06 & 4.395852e-06\\\\\n",
       "\tV3 & 1.073900e-06 & 2.188503e-06 & 1.418655e-05 & 2.654489e-05 & 3.529536e-05\\\\\n",
       "\tV4 & 2.077693e-06 & 3.439836e-06 & 2.654489e-05 & 6.365702e-05 & 9.191198e-05\\\\\n",
       "\tV5 & 3.446827e-06 & 4.395852e-06 & 3.529536e-05 & 9.191198e-05 & 2.068846e-04\\\\\n",
       "\\end{tabular}\n"
      ],
      "text/markdown": [
       "\n",
       "A matrix: 5 × 5 of type dbl\n",
       "\n",
       "| <!--/--> | V1 | V2 | V3 | V4 | V5 |\n",
       "|---|---|---|---|---|---|\n",
       "| V1 | 6.029197e-07 | 4.079473e-07 | 1.073900e-06 | 2.077693e-06 | 3.446827e-06 |\n",
       "| V2 | 4.079473e-07 | 1.202395e-06 | 2.188503e-06 | 3.439836e-06 | 4.395852e-06 |\n",
       "| V3 | 1.073900e-06 | 2.188503e-06 | 1.418655e-05 | 2.654489e-05 | 3.529536e-05 |\n",
       "| V4 | 2.077693e-06 | 3.439836e-06 | 2.654489e-05 | 6.365702e-05 | 9.191198e-05 |\n",
       "| V5 | 3.446827e-06 | 4.395852e-06 | 3.529536e-05 | 9.191198e-05 | 2.068846e-04 |\n",
       "\n"
      ],
      "text/plain": [
       "   V1           V2           V3           V4           V5          \n",
       "V1 6.029197e-07 4.079473e-07 1.073900e-06 2.077693e-06 3.446827e-06\n",
       "V2 4.079473e-07 1.202395e-06 2.188503e-06 3.439836e-06 4.395852e-06\n",
       "V3 1.073900e-06 2.188503e-06 1.418655e-05 2.654489e-05 3.529536e-05\n",
       "V4 2.077693e-06 3.439836e-06 2.654489e-05 6.365702e-05 9.191198e-05\n",
       "V5 3.446827e-06 4.395852e-06 3.529536e-05 9.191198e-05 2.068846e-04"
      ]
     },
     "metadata": {},
     "output_type": "display_data"
    }
   ],
   "source": [
    "MatofAlphas <- read.csv(\"../data/sim.csv\")\n",
    "i_alpha <- MatofAlphas[-nrow(MatofAlphas),]\n",
    "f_alpha <- MatofAlphas[-1,]\n",
    "delta_alpha <- f_alpha - i_alpha\n",
    "cov_delta_a <- cov(delta_alpha)\n",
    "MatofAlphas\n",
    "cov_delta_a"
   ]
  },
  {
   "cell_type": "code",
   "execution_count": 5,
   "id": "15b0e16c",
   "metadata": {},
   "outputs": [
    {
     "data": {
      "text/html": [
       "<table class=\"dataframe\">\n",
       "<caption>A matrix: 5 × 5 of type dbl</caption>\n",
       "<tbody>\n",
       "\t<tr><td>-0.01599859</td><td>-0.02116783</td><td> 0.12298140</td><td>-0.47243402</td><td> 0.872340326</td></tr>\n",
       "\t<tr><td>-0.02232141</td><td>-0.07065955</td><td> 0.34082166</td><td>-0.80218478</td><td>-0.484612381</td></tr>\n",
       "\t<tr><td>-0.17436245</td><td>-0.44177253</td><td> 0.80556336</td><td> 0.34889055</td><td> 0.061464005</td></tr>\n",
       "\t<tr><td>-0.43761759</td><td>-0.76197566</td><td>-0.46488144</td><td>-0.10683784</td><td>-0.018837481</td></tr>\n",
       "\t<tr><td>-0.88166568</td><td> 0.46774915</td><td> 0.06057301</td><td> 0.01291292</td><td>-0.006365662</td></tr>\n",
       "</tbody>\n",
       "</table>\n"
      ],
      "text/latex": [
       "A matrix: 5 × 5 of type dbl\n",
       "\\begin{tabular}{lllll}\n",
       "\t -0.01599859 & -0.02116783 &  0.12298140 & -0.47243402 &  0.872340326\\\\\n",
       "\t -0.02232141 & -0.07065955 &  0.34082166 & -0.80218478 & -0.484612381\\\\\n",
       "\t -0.17436245 & -0.44177253 &  0.80556336 &  0.34889055 &  0.061464005\\\\\n",
       "\t -0.43761759 & -0.76197566 & -0.46488144 & -0.10683784 & -0.018837481\\\\\n",
       "\t -0.88166568 &  0.46774915 &  0.06057301 &  0.01291292 & -0.006365662\\\\\n",
       "\\end{tabular}\n"
      ],
      "text/markdown": [
       "\n",
       "A matrix: 5 × 5 of type dbl\n",
       "\n",
       "| -0.01599859 | -0.02116783 |  0.12298140 | -0.47243402 |  0.872340326 |\n",
       "| -0.02232141 | -0.07065955 |  0.34082166 | -0.80218478 | -0.484612381 |\n",
       "| -0.17436245 | -0.44177253 |  0.80556336 |  0.34889055 |  0.061464005 |\n",
       "| -0.43761759 | -0.76197566 | -0.46488144 | -0.10683784 | -0.018837481 |\n",
       "| -0.88166568 |  0.46774915 |  0.06057301 |  0.01291292 | -0.006365662 |\n",
       "\n"
      ],
      "text/plain": [
       "     [,1]        [,2]        [,3]        [,4]        [,5]        \n",
       "[1,] -0.01599859 -0.02116783  0.12298140 -0.47243402  0.872340326\n",
       "[2,] -0.02232141 -0.07065955  0.34082166 -0.80218478 -0.484612381\n",
       "[3,] -0.17436245 -0.44177253  0.80556336  0.34889055  0.061464005\n",
       "[4,] -0.43761759 -0.76197566 -0.46488144 -0.10683784 -0.018837481\n",
       "[5,] -0.88166568  0.46774915  0.06057301  0.01291292 -0.006365662"
      ]
     },
     "metadata": {},
     "output_type": "display_data"
    },
    {
     "data": {
      "text/html": [
       "<style>\n",
       ".list-inline {list-style: none; margin:0; padding: 0}\n",
       ".list-inline>li {display: inline-block}\n",
       ".list-inline>li:not(:last-child)::after {content: \"\\00b7\"; padding: 0 .5ex}\n",
       "</style>\n",
       "<ol class=list-inline><li>0.0161139505427681</li><li>0.00479607026597325</li><li>0.00161605754306166</li><li>0.000937113585610607</li><li>0.000618012509456347</li></ol>\n"
      ],
      "text/latex": [
       "\\begin{enumerate*}\n",
       "\\item 0.0161139505427681\n",
       "\\item 0.00479607026597325\n",
       "\\item 0.00161605754306166\n",
       "\\item 0.000937113585610607\n",
       "\\item 0.000618012509456347\n",
       "\\end{enumerate*}\n"
      ],
      "text/markdown": [
       "1. 0.0161139505427681\n",
       "2. 0.00479607026597325\n",
       "3. 0.00161605754306166\n",
       "4. 0.000937113585610607\n",
       "5. 0.000618012509456347\n",
       "\n",
       "\n"
      ],
      "text/plain": [
       "[1] 0.0161139505 0.0047960703 0.0016160575 0.0009371136 0.0006180125"
      ]
     },
     "metadata": {},
     "output_type": "display_data"
    },
    {
     "data": {
      "text/html": [
       "<table class=\"dataframe\">\n",
       "<caption>A matrix: 5 × 5 of type dbl</caption>\n",
       "<tbody>\n",
       "\t<tr><td>-0.0002578005</td><td>-0.0001015224</td><td> 1.987450e-04</td><td>-4.427243e-04</td><td> 5.391172e-04</td></tr>\n",
       "\t<tr><td>-0.0003596860</td><td>-0.0003388882</td><td> 5.507874e-04</td><td>-7.517383e-04</td><td>-2.994965e-04</td></tr>\n",
       "\t<tr><td>-0.0028096680</td><td>-0.0021187721</td><td> 1.301837e-03</td><td> 3.269501e-04</td><td> 3.798552e-05</td></tr>\n",
       "\t<tr><td>-0.0070517483</td><td>-0.0036544888</td><td>-7.512752e-04</td><td>-1.001192e-04</td><td>-1.164180e-05</td></tr>\n",
       "\t<tr><td>-0.0142071172</td><td> 0.0022433578</td><td> 9.788948e-05</td><td> 1.210087e-05</td><td>-3.934059e-06</td></tr>\n",
       "</tbody>\n",
       "</table>\n"
      ],
      "text/latex": [
       "A matrix: 5 × 5 of type dbl\n",
       "\\begin{tabular}{lllll}\n",
       "\t -0.0002578005 & -0.0001015224 &  1.987450e-04 & -4.427243e-04 &  5.391172e-04\\\\\n",
       "\t -0.0003596860 & -0.0003388882 &  5.507874e-04 & -7.517383e-04 & -2.994965e-04\\\\\n",
       "\t -0.0028096680 & -0.0021187721 &  1.301837e-03 &  3.269501e-04 &  3.798552e-05\\\\\n",
       "\t -0.0070517483 & -0.0036544888 & -7.512752e-04 & -1.001192e-04 & -1.164180e-05\\\\\n",
       "\t -0.0142071172 &  0.0022433578 &  9.788948e-05 &  1.210087e-05 & -3.934059e-06\\\\\n",
       "\\end{tabular}\n"
      ],
      "text/markdown": [
       "\n",
       "A matrix: 5 × 5 of type dbl\n",
       "\n",
       "| -0.0002578005 | -0.0001015224 |  1.987450e-04 | -4.427243e-04 |  5.391172e-04 |\n",
       "| -0.0003596860 | -0.0003388882 |  5.507874e-04 | -7.517383e-04 | -2.994965e-04 |\n",
       "| -0.0028096680 | -0.0021187721 |  1.301837e-03 |  3.269501e-04 |  3.798552e-05 |\n",
       "| -0.0070517483 | -0.0036544888 | -7.512752e-04 | -1.001192e-04 | -1.164180e-05 |\n",
       "| -0.0142071172 |  0.0022433578 |  9.788948e-05 |  1.210087e-05 | -3.934059e-06 |\n",
       "\n"
      ],
      "text/plain": [
       "     [,1]          [,2]          [,3]          [,4]          [,5]         \n",
       "[1,] -0.0002578005 -0.0001015224  1.987450e-04 -4.427243e-04  5.391172e-04\n",
       "[2,] -0.0003596860 -0.0003388882  5.507874e-04 -7.517383e-04 -2.994965e-04\n",
       "[3,] -0.0028096680 -0.0021187721  1.301837e-03  3.269501e-04  3.798552e-05\n",
       "[4,] -0.0070517483 -0.0036544888 -7.512752e-04 -1.001192e-04 -1.164180e-05\n",
       "[5,] -0.0142071172  0.0022433578  9.788948e-05  1.210087e-05 -3.934059e-06"
      ]
     },
     "metadata": {},
     "output_type": "display_data"
    }
   ],
   "source": [
    "eigen_delta <- eigen(cov_delta_a)\n",
    "A <- eigen_delta$vectors \n",
    "sqrt <- eigen_delta$values**(1/2)\n",
    "A \n",
    "sqrt\n",
    "B <- t(t(A) * sqrt)\n",
    "B"
   ]
  },
  {
   "cell_type": "code",
   "execution_count": 6,
   "id": "890bd92a",
   "metadata": {},
   "outputs": [
    {
     "data": {
      "text/html": [
       "<table class=\"dataframe\">\n",
       "<caption>A data.frame: 209 × 5</caption>\n",
       "<thead>\n",
       "\t<tr><th scope=col>V1</th><th scope=col>V2</th><th scope=col>V3</th><th scope=col>V4</th><th scope=col>V5</th></tr>\n",
       "\t<tr><th scope=col>&lt;dbl&gt;</th><th scope=col>&lt;dbl&gt;</th><th scope=col>&lt;dbl&gt;</th><th scope=col>&lt;dbl&gt;</th><th scope=col>&lt;dbl&gt;</th></tr>\n",
       "</thead>\n",
       "<tbody>\n",
       "\t<tr><td>-0.0002350598</td><td> 0.0109089203</td><td>-0.0114550450</td><td>-0.040010790</td><td> 0.138546506</td></tr>\n",
       "\t<tr><td>-0.0003279239</td><td> 0.0030197798</td><td> 0.0013845938</td><td>-0.099298131</td><td> 0.326873307</td></tr>\n",
       "\t<tr><td>-0.0025990690</td><td> 0.0086167371</td><td> 0.0938446003</td><td>-0.200969233</td><td>-0.187648146</td></tr>\n",
       "\t<tr><td>-0.0068447108</td><td> 0.0196682315</td><td>-0.0530410466</td><td>-0.004842962</td><td> 0.024723914</td></tr>\n",
       "\t<tr><td>-0.0146727208</td><td>-0.0116226840</td><td> 0.0067505812</td><td>-0.016014569</td><td>-0.187154878</td></tr>\n",
       "\t<tr><td>-0.0003415500</td><td> 0.0014895517</td><td>-0.0020368452</td><td>-0.098440708</td><td>-0.316228886</td></tr>\n",
       "\t<tr><td>-0.0010856535</td><td>-0.0125773167</td><td>-0.0006785798</td><td>-0.166679847</td><td> 0.132738812</td></tr>\n",
       "\t<tr><td>-0.0068335882</td><td>-0.0204699682</td><td>-0.0017228454</td><td> 0.103280960</td><td>-0.041188257</td></tr>\n",
       "\t<tr><td>-0.0122013264</td><td> 0.0090599068</td><td>-0.0025079588</td><td> 0.027909787</td><td> 0.005000436</td></tr>\n",
       "\t<tr><td> 0.0075732812</td><td>-0.0029151356</td><td>-0.0204588801</td><td> 0.081246081</td><td> 0.351739993</td></tr>\n",
       "\t<tr><td> 0.0019409473</td><td> 0.0003679934</td><td>-0.0512558415</td><td> 0.192124445</td><td>-0.195154207</td></tr>\n",
       "\t<tr><td> 0.0055584998</td><td> 0.0247428297</td><td>-0.1040270718</td><td>-0.109096428</td><td> 0.024768238</td></tr>\n",
       "\t<tr><td> 0.0137010866</td><td>-0.0136314608</td><td>-0.0025543442</td><td> 0.014494330</td><td>-0.007542402</td></tr>\n",
       "\t<tr><td>-0.0079155030</td><td> 0.0017602549</td><td>-0.0085778221</td><td>-0.115863618</td><td>-0.002644797</td></tr>\n",
       "\t<tr><td> 0.0010262085</td><td>-0.0005374038</td><td>-0.0515089894</td><td>-0.187540362</td><td>-0.006414777</td></tr>\n",
       "\t<tr><td>-0.0080890744</td><td>-0.0001820410</td><td>-0.0883953529</td><td> 0.080827289</td><td>-0.008833154</td></tr>\n",
       "\t<tr><td>-0.0137566921</td><td>-0.0004629051</td><td> 0.0549259603</td><td>-0.025080169</td><td>-0.070067796</td></tr>\n",
       "\t<tr><td> 0.0058145069</td><td>-0.0006580352</td><td> 0.0146850515</td><td> 0.003018872</td><td>-0.172067592</td></tr>\n",
       "\t<tr><td>-0.0017562329</td><td>-0.0052915077</td><td> 0.0400979515</td><td> 0.201459663</td><td>-0.344626018</td></tr>\n",
       "\t<tr><td> 0.0002149341</td><td>-0.0132507684</td><td> 0.0940281961</td><td>-0.110520458</td><td>-0.008173605</td></tr>\n",
       "\t<tr><td> 0.0148165424</td><td>-0.0265717982</td><td>-0.0545343412</td><td> 0.013801622</td><td>-0.026804841</td></tr>\n",
       "\t<tr><td>-0.0083034932</td><td>-0.0006587320</td><td> 0.0071535703</td><td>-0.004216981</td><td>-0.167692513</td></tr>\n",
       "\t<tr><td> 0.0010285637</td><td>-0.0022462034</td><td>-0.0561839529</td><td>-0.001451156</td><td>-0.297740568</td></tr>\n",
       "\t<tr><td>-0.0003223178</td><td>-0.0140539358</td><td>-0.0986535697</td><td>-0.003734052</td><td> 0.185035067</td></tr>\n",
       "\t<tr><td>-0.0001109769</td><td>-0.0242955235</td><td> 0.0423608533</td><td>-0.005163235</td><td> 0.048963165</td></tr>\n",
       "\t<tr><td>-0.0002851113</td><td> 0.0148603403</td><td>-0.0127086353</td><td>-0.039175279</td><td> 0.132300181</td></tr>\n",
       "\t<tr><td>-0.0003915696</td><td> 0.0039843159</td><td> 0.0015327558</td><td>-0.097988611</td><td> 0.310397066</td></tr>\n",
       "\t<tr><td>-0.0031317107</td><td> 0.0110913377</td><td> 0.1033463790</td><td>-0.193870682</td><td>-0.175165631</td></tr>\n",
       "\t<tr><td>-0.0077842155</td><td> 0.0261871016</td><td>-0.0576796855</td><td>-0.004707513</td><td> 0.023355196</td></tr>\n",
       "\t<tr><td>-0.0158323279</td><td>-0.0155129611</td><td> 0.0075308499</td><td>-0.016194187</td><td>-0.186175870</td></tr>\n",
       "\t<tr><td>...</td><td>...</td><td>...</td><td>...</td><td>...</td></tr>\n",
       "\t<tr><td> 0.000000e+00</td><td> 0.000000e+00</td><td> 0.0010883044</td><td>-0.0050160968</td><td>-0.110633946</td></tr>\n",
       "\t<tr><td> 0.000000e+00</td><td> 0.000000e+00</td><td>-0.0003032789</td><td>-0.0311280579</td><td>-0.179379038</td></tr>\n",
       "\t<tr><td> 0.000000e+00</td><td> 0.000000e+00</td><td>-0.0001228439</td><td>-0.0593991254</td><td> 0.081770995</td></tr>\n",
       "\t<tr><td> 0.000000e+00</td><td> 0.000000e+00</td><td>-0.0003235606</td><td> 0.0363886527</td><td>-0.024440149</td></tr>\n",
       "\t<tr><td> 0.000000e+00</td><td> 0.000000e+00</td><td>-0.0004686997</td><td> 0.0096499318</td><td> 0.002876324</td></tr>\n",
       "\t<tr><td> 0.000000e+00</td><td> 0.000000e+00</td><td>-0.0034735361</td><td> 0.0280816948</td><td> 0.203967727</td></tr>\n",
       "\t<tr><td> 0.000000e+00</td><td> 0.000000e+00</td><td>-0.0083930691</td><td> 0.0644771058</td><td>-0.115655437</td></tr>\n",
       "\t<tr><td> 0.000000e+00</td><td> 0.000000e+00</td><td>-0.0183463619</td><td>-0.0387040606</td><td> 0.014775751</td></tr>\n",
       "\t<tr><td> 0.000000e+00</td><td> 0.000000e+00</td><td>-0.0004658830</td><td> 0.0054039522</td><td>-0.004543350</td></tr>\n",
       "\t<tr><td> 0.000000e+00</td><td> 0.000000e+00</td><td>-0.0017963135</td><td>-0.0463610051</td><td>-0.001618317</td></tr>\n",
       "\t<tr><td> 0.000000e+00</td><td> 0.000000e+00</td><td>-0.0101873591</td><td>-0.0787252542</td><td>-0.004135692</td></tr>\n",
       "\t<tr><td> 0.000000e+00</td><td> 0.000000e+00</td><td>-0.0210305361</td><td> 0.0390519577</td><td>-0.006305768</td></tr>\n",
       "\t<tr><td> 0.000000e+00</td><td> 0.000000e+00</td><td> 0.0155224226</td><td>-0.0123935806</td><td>-0.046296997</td></tr>\n",
       "\t<tr><td> 0.000000e+00</td><td> 0.000000e+00</td><td> 0.0045456910</td><td> 0.0015712611</td><td>-0.119562413</td></tr>\n",
       "\t<tr><td> 0.000000e+00</td><td> 0.000000e+00</td><td> 0.0125364009</td><td> 0.1069138054</td><td>-0.225557112</td></tr>\n",
       "\t<tr><td> 0.000000e+00</td><td> 0.000000e+00</td><td> 0.0255771947</td><td>-0.0523608508</td><td>-0.005165809</td></tr>\n",
       "\t<tr><td> 0.000000e+00</td><td> 0.000000e+00</td><td>-0.0189003664</td><td> 0.0075251514</td><td>-0.017919800</td></tr>\n",
       "\t<tr><td> 0.000000e+00</td><td> 0.000000e+00</td><td> 0.0025031620</td><td>-0.0023002306</td><td>-0.110489607</td></tr>\n",
       "\t<tr><td> 0.000000e+00</td><td> 0.000000e+00</td><td>-0.0183669721</td><td>-0.0007426546</td><td>-0.182239427</td></tr>\n",
       "\t<tr><td> 0.000000e+00</td><td> 0.000000e+00</td><td>-0.0335358269</td><td>-0.0017582018</td><td> 0.098779512</td></tr>\n",
       "\t<tr><td> 0.000000e+00</td><td> 0.000000e+00</td><td> 0.0167899699</td><td>-0.0026464027</td><td> 0.028529083</td></tr>\n",
       "\t<tr><td> 0.000000e+00</td><td> 0.000000e+00</td><td>-0.0048217796</td><td>-0.0193345437</td><td> 0.075180110</td></tr>\n",
       "\t<tr><td> 0.000000e+00</td><td> 0.000000e+00</td><td> 0.0006166001</td><td>-0.0512432540</td><td> 0.189199536</td></tr>\n",
       "\t<tr><td>-3.898779e-04</td><td> 0.000000e+00</td><td> 0.0412376956</td><td>-0.1062225510</td><td>-0.110173545</td></tr>\n",
       "\t<tr><td>-7.592227e-04</td><td> 0.000000e+00</td><td>-0.0275238248</td><td>-0.0030426121</td><td> 0.016480868</td></tr>\n",
       "\t<tr><td>-1.232694e-03</td><td>-3.520374e-04</td><td> 0.0038389083</td><td>-0.0102728047</td><td>-0.128025614</td></tr>\n",
       "\t<tr><td>-6.684821e-05</td><td> 9.946486e-05</td><td>-0.0011821259</td><td>-0.0637621790</td><td>-0.212292435</td></tr>\n",
       "\t<tr><td>-1.326484e-04</td><td>-3.078034e-03</td><td>-0.0004196180</td><td>-0.1113487964</td><td> 0.091263594</td></tr>\n",
       "\t<tr><td>-1.089650e-03</td><td>-6.571209e-03</td><td>-0.0011704668</td><td> 0.0743379261</td><td>-0.029597551</td></tr>\n",
       "\t<tr><td>-2.620735e-03</td><td> 3.674592e-03</td><td>-0.0018239295</td><td> 0.0196524675</td><td> 0.003544358</td></tr>\n",
       "</tbody>\n",
       "</table>\n"
      ],
      "text/latex": [
       "A data.frame: 209 × 5\n",
       "\\begin{tabular}{lllll}\n",
       " V1 & V2 & V3 & V4 & V5\\\\\n",
       " <dbl> & <dbl> & <dbl> & <dbl> & <dbl>\\\\\n",
       "\\hline\n",
       "\t -0.0002350598 &  0.0109089203 & -0.0114550450 & -0.040010790 &  0.138546506\\\\\n",
       "\t -0.0003279239 &  0.0030197798 &  0.0013845938 & -0.099298131 &  0.326873307\\\\\n",
       "\t -0.0025990690 &  0.0086167371 &  0.0938446003 & -0.200969233 & -0.187648146\\\\\n",
       "\t -0.0068447108 &  0.0196682315 & -0.0530410466 & -0.004842962 &  0.024723914\\\\\n",
       "\t -0.0146727208 & -0.0116226840 &  0.0067505812 & -0.016014569 & -0.187154878\\\\\n",
       "\t -0.0003415500 &  0.0014895517 & -0.0020368452 & -0.098440708 & -0.316228886\\\\\n",
       "\t -0.0010856535 & -0.0125773167 & -0.0006785798 & -0.166679847 &  0.132738812\\\\\n",
       "\t -0.0068335882 & -0.0204699682 & -0.0017228454 &  0.103280960 & -0.041188257\\\\\n",
       "\t -0.0122013264 &  0.0090599068 & -0.0025079588 &  0.027909787 &  0.005000436\\\\\n",
       "\t  0.0075732812 & -0.0029151356 & -0.0204588801 &  0.081246081 &  0.351739993\\\\\n",
       "\t  0.0019409473 &  0.0003679934 & -0.0512558415 &  0.192124445 & -0.195154207\\\\\n",
       "\t  0.0055584998 &  0.0247428297 & -0.1040270718 & -0.109096428 &  0.024768238\\\\\n",
       "\t  0.0137010866 & -0.0136314608 & -0.0025543442 &  0.014494330 & -0.007542402\\\\\n",
       "\t -0.0079155030 &  0.0017602549 & -0.0085778221 & -0.115863618 & -0.002644797\\\\\n",
       "\t  0.0010262085 & -0.0005374038 & -0.0515089894 & -0.187540362 & -0.006414777\\\\\n",
       "\t -0.0080890744 & -0.0001820410 & -0.0883953529 &  0.080827289 & -0.008833154\\\\\n",
       "\t -0.0137566921 & -0.0004629051 &  0.0549259603 & -0.025080169 & -0.070067796\\\\\n",
       "\t  0.0058145069 & -0.0006580352 &  0.0146850515 &  0.003018872 & -0.172067592\\\\\n",
       "\t -0.0017562329 & -0.0052915077 &  0.0400979515 &  0.201459663 & -0.344626018\\\\\n",
       "\t  0.0002149341 & -0.0132507684 &  0.0940281961 & -0.110520458 & -0.008173605\\\\\n",
       "\t  0.0148165424 & -0.0265717982 & -0.0545343412 &  0.013801622 & -0.026804841\\\\\n",
       "\t -0.0083034932 & -0.0006587320 &  0.0071535703 & -0.004216981 & -0.167692513\\\\\n",
       "\t  0.0010285637 & -0.0022462034 & -0.0561839529 & -0.001451156 & -0.297740568\\\\\n",
       "\t -0.0003223178 & -0.0140539358 & -0.0986535697 & -0.003734052 &  0.185035067\\\\\n",
       "\t -0.0001109769 & -0.0242955235 &  0.0423608533 & -0.005163235 &  0.048963165\\\\\n",
       "\t -0.0002851113 &  0.0148603403 & -0.0127086353 & -0.039175279 &  0.132300181\\\\\n",
       "\t -0.0003915696 &  0.0039843159 &  0.0015327558 & -0.097988611 &  0.310397066\\\\\n",
       "\t -0.0031317107 &  0.0110913377 &  0.1033463790 & -0.193870682 & -0.175165631\\\\\n",
       "\t -0.0077842155 &  0.0261871016 & -0.0576796855 & -0.004707513 &  0.023355196\\\\\n",
       "\t -0.0158323279 & -0.0155129611 &  0.0075308499 & -0.016194187 & -0.186175870\\\\\n",
       "\t ... & ... & ... & ... & ...\\\\\n",
       "\t  0.000000e+00 &  0.000000e+00 &  0.0010883044 & -0.0050160968 & -0.110633946\\\\\n",
       "\t  0.000000e+00 &  0.000000e+00 & -0.0003032789 & -0.0311280579 & -0.179379038\\\\\n",
       "\t  0.000000e+00 &  0.000000e+00 & -0.0001228439 & -0.0593991254 &  0.081770995\\\\\n",
       "\t  0.000000e+00 &  0.000000e+00 & -0.0003235606 &  0.0363886527 & -0.024440149\\\\\n",
       "\t  0.000000e+00 &  0.000000e+00 & -0.0004686997 &  0.0096499318 &  0.002876324\\\\\n",
       "\t  0.000000e+00 &  0.000000e+00 & -0.0034735361 &  0.0280816948 &  0.203967727\\\\\n",
       "\t  0.000000e+00 &  0.000000e+00 & -0.0083930691 &  0.0644771058 & -0.115655437\\\\\n",
       "\t  0.000000e+00 &  0.000000e+00 & -0.0183463619 & -0.0387040606 &  0.014775751\\\\\n",
       "\t  0.000000e+00 &  0.000000e+00 & -0.0004658830 &  0.0054039522 & -0.004543350\\\\\n",
       "\t  0.000000e+00 &  0.000000e+00 & -0.0017963135 & -0.0463610051 & -0.001618317\\\\\n",
       "\t  0.000000e+00 &  0.000000e+00 & -0.0101873591 & -0.0787252542 & -0.004135692\\\\\n",
       "\t  0.000000e+00 &  0.000000e+00 & -0.0210305361 &  0.0390519577 & -0.006305768\\\\\n",
       "\t  0.000000e+00 &  0.000000e+00 &  0.0155224226 & -0.0123935806 & -0.046296997\\\\\n",
       "\t  0.000000e+00 &  0.000000e+00 &  0.0045456910 &  0.0015712611 & -0.119562413\\\\\n",
       "\t  0.000000e+00 &  0.000000e+00 &  0.0125364009 &  0.1069138054 & -0.225557112\\\\\n",
       "\t  0.000000e+00 &  0.000000e+00 &  0.0255771947 & -0.0523608508 & -0.005165809\\\\\n",
       "\t  0.000000e+00 &  0.000000e+00 & -0.0189003664 &  0.0075251514 & -0.017919800\\\\\n",
       "\t  0.000000e+00 &  0.000000e+00 &  0.0025031620 & -0.0023002306 & -0.110489607\\\\\n",
       "\t  0.000000e+00 &  0.000000e+00 & -0.0183669721 & -0.0007426546 & -0.182239427\\\\\n",
       "\t  0.000000e+00 &  0.000000e+00 & -0.0335358269 & -0.0017582018 &  0.098779512\\\\\n",
       "\t  0.000000e+00 &  0.000000e+00 &  0.0167899699 & -0.0026464027 &  0.028529083\\\\\n",
       "\t  0.000000e+00 &  0.000000e+00 & -0.0048217796 & -0.0193345437 &  0.075180110\\\\\n",
       "\t  0.000000e+00 &  0.000000e+00 &  0.0006166001 & -0.0512432540 &  0.189199536\\\\\n",
       "\t -3.898779e-04 &  0.000000e+00 &  0.0412376956 & -0.1062225510 & -0.110173545\\\\\n",
       "\t -7.592227e-04 &  0.000000e+00 & -0.0275238248 & -0.0030426121 &  0.016480868\\\\\n",
       "\t -1.232694e-03 & -3.520374e-04 &  0.0038389083 & -0.0102728047 & -0.128025614\\\\\n",
       "\t -6.684821e-05 &  9.946486e-05 & -0.0011821259 & -0.0637621790 & -0.212292435\\\\\n",
       "\t -1.326484e-04 & -3.078034e-03 & -0.0004196180 & -0.1113487964 &  0.091263594\\\\\n",
       "\t -1.089650e-03 & -6.571209e-03 & -0.0011704668 &  0.0743379261 & -0.029597551\\\\\n",
       "\t -2.620735e-03 &  3.674592e-03 & -0.0018239295 &  0.0196524675 &  0.003544358\\\\\n",
       "\\end{tabular}\n"
      ],
      "text/markdown": [
       "\n",
       "A data.frame: 209 × 5\n",
       "\n",
       "| V1 &lt;dbl&gt; | V2 &lt;dbl&gt; | V3 &lt;dbl&gt; | V4 &lt;dbl&gt; | V5 &lt;dbl&gt; |\n",
       "|---|---|---|---|---|\n",
       "| -0.0002350598 |  0.0109089203 | -0.0114550450 | -0.040010790 |  0.138546506 |\n",
       "| -0.0003279239 |  0.0030197798 |  0.0013845938 | -0.099298131 |  0.326873307 |\n",
       "| -0.0025990690 |  0.0086167371 |  0.0938446003 | -0.200969233 | -0.187648146 |\n",
       "| -0.0068447108 |  0.0196682315 | -0.0530410466 | -0.004842962 |  0.024723914 |\n",
       "| -0.0146727208 | -0.0116226840 |  0.0067505812 | -0.016014569 | -0.187154878 |\n",
       "| -0.0003415500 |  0.0014895517 | -0.0020368452 | -0.098440708 | -0.316228886 |\n",
       "| -0.0010856535 | -0.0125773167 | -0.0006785798 | -0.166679847 |  0.132738812 |\n",
       "| -0.0068335882 | -0.0204699682 | -0.0017228454 |  0.103280960 | -0.041188257 |\n",
       "| -0.0122013264 |  0.0090599068 | -0.0025079588 |  0.027909787 |  0.005000436 |\n",
       "|  0.0075732812 | -0.0029151356 | -0.0204588801 |  0.081246081 |  0.351739993 |\n",
       "|  0.0019409473 |  0.0003679934 | -0.0512558415 |  0.192124445 | -0.195154207 |\n",
       "|  0.0055584998 |  0.0247428297 | -0.1040270718 | -0.109096428 |  0.024768238 |\n",
       "|  0.0137010866 | -0.0136314608 | -0.0025543442 |  0.014494330 | -0.007542402 |\n",
       "| -0.0079155030 |  0.0017602549 | -0.0085778221 | -0.115863618 | -0.002644797 |\n",
       "|  0.0010262085 | -0.0005374038 | -0.0515089894 | -0.187540362 | -0.006414777 |\n",
       "| -0.0080890744 | -0.0001820410 | -0.0883953529 |  0.080827289 | -0.008833154 |\n",
       "| -0.0137566921 | -0.0004629051 |  0.0549259603 | -0.025080169 | -0.070067796 |\n",
       "|  0.0058145069 | -0.0006580352 |  0.0146850515 |  0.003018872 | -0.172067592 |\n",
       "| -0.0017562329 | -0.0052915077 |  0.0400979515 |  0.201459663 | -0.344626018 |\n",
       "|  0.0002149341 | -0.0132507684 |  0.0940281961 | -0.110520458 | -0.008173605 |\n",
       "|  0.0148165424 | -0.0265717982 | -0.0545343412 |  0.013801622 | -0.026804841 |\n",
       "| -0.0083034932 | -0.0006587320 |  0.0071535703 | -0.004216981 | -0.167692513 |\n",
       "|  0.0010285637 | -0.0022462034 | -0.0561839529 | -0.001451156 | -0.297740568 |\n",
       "| -0.0003223178 | -0.0140539358 | -0.0986535697 | -0.003734052 |  0.185035067 |\n",
       "| -0.0001109769 | -0.0242955235 |  0.0423608533 | -0.005163235 |  0.048963165 |\n",
       "| -0.0002851113 |  0.0148603403 | -0.0127086353 | -0.039175279 |  0.132300181 |\n",
       "| -0.0003915696 |  0.0039843159 |  0.0015327558 | -0.097988611 |  0.310397066 |\n",
       "| -0.0031317107 |  0.0110913377 |  0.1033463790 | -0.193870682 | -0.175165631 |\n",
       "| -0.0077842155 |  0.0261871016 | -0.0576796855 | -0.004707513 |  0.023355196 |\n",
       "| -0.0158323279 | -0.0155129611 |  0.0075308499 | -0.016194187 | -0.186175870 |\n",
       "| ... | ... | ... | ... | ... |\n",
       "|  0.000000e+00 |  0.000000e+00 |  0.0010883044 | -0.0050160968 | -0.110633946 |\n",
       "|  0.000000e+00 |  0.000000e+00 | -0.0003032789 | -0.0311280579 | -0.179379038 |\n",
       "|  0.000000e+00 |  0.000000e+00 | -0.0001228439 | -0.0593991254 |  0.081770995 |\n",
       "|  0.000000e+00 |  0.000000e+00 | -0.0003235606 |  0.0363886527 | -0.024440149 |\n",
       "|  0.000000e+00 |  0.000000e+00 | -0.0004686997 |  0.0096499318 |  0.002876324 |\n",
       "|  0.000000e+00 |  0.000000e+00 | -0.0034735361 |  0.0280816948 |  0.203967727 |\n",
       "|  0.000000e+00 |  0.000000e+00 | -0.0083930691 |  0.0644771058 | -0.115655437 |\n",
       "|  0.000000e+00 |  0.000000e+00 | -0.0183463619 | -0.0387040606 |  0.014775751 |\n",
       "|  0.000000e+00 |  0.000000e+00 | -0.0004658830 |  0.0054039522 | -0.004543350 |\n",
       "|  0.000000e+00 |  0.000000e+00 | -0.0017963135 | -0.0463610051 | -0.001618317 |\n",
       "|  0.000000e+00 |  0.000000e+00 | -0.0101873591 | -0.0787252542 | -0.004135692 |\n",
       "|  0.000000e+00 |  0.000000e+00 | -0.0210305361 |  0.0390519577 | -0.006305768 |\n",
       "|  0.000000e+00 |  0.000000e+00 |  0.0155224226 | -0.0123935806 | -0.046296997 |\n",
       "|  0.000000e+00 |  0.000000e+00 |  0.0045456910 |  0.0015712611 | -0.119562413 |\n",
       "|  0.000000e+00 |  0.000000e+00 |  0.0125364009 |  0.1069138054 | -0.225557112 |\n",
       "|  0.000000e+00 |  0.000000e+00 |  0.0255771947 | -0.0523608508 | -0.005165809 |\n",
       "|  0.000000e+00 |  0.000000e+00 | -0.0189003664 |  0.0075251514 | -0.017919800 |\n",
       "|  0.000000e+00 |  0.000000e+00 |  0.0025031620 | -0.0023002306 | -0.110489607 |\n",
       "|  0.000000e+00 |  0.000000e+00 | -0.0183669721 | -0.0007426546 | -0.182239427 |\n",
       "|  0.000000e+00 |  0.000000e+00 | -0.0335358269 | -0.0017582018 |  0.098779512 |\n",
       "|  0.000000e+00 |  0.000000e+00 |  0.0167899699 | -0.0026464027 |  0.028529083 |\n",
       "|  0.000000e+00 |  0.000000e+00 | -0.0048217796 | -0.0193345437 |  0.075180110 |\n",
       "|  0.000000e+00 |  0.000000e+00 |  0.0006166001 | -0.0512432540 |  0.189199536 |\n",
       "| -3.898779e-04 |  0.000000e+00 |  0.0412376956 | -0.1062225510 | -0.110173545 |\n",
       "| -7.592227e-04 |  0.000000e+00 | -0.0275238248 | -0.0030426121 |  0.016480868 |\n",
       "| -1.232694e-03 | -3.520374e-04 |  0.0038389083 | -0.0102728047 | -0.128025614 |\n",
       "| -6.684821e-05 |  9.946486e-05 | -0.0011821259 | -0.0637621790 | -0.212292435 |\n",
       "| -1.326484e-04 | -3.078034e-03 | -0.0004196180 | -0.1113487964 |  0.091263594 |\n",
       "| -1.089650e-03 | -6.571209e-03 | -0.0011704668 |  0.0743379261 | -0.029597551 |\n",
       "| -2.620735e-03 |  3.674592e-03 | -0.0018239295 |  0.0196524675 |  0.003544358 |\n",
       "\n"
      ],
      "text/plain": [
       "    V1            V2            V3            V4            V5          \n",
       "1   -0.0002350598  0.0109089203 -0.0114550450 -0.040010790   0.138546506\n",
       "2   -0.0003279239  0.0030197798  0.0013845938 -0.099298131   0.326873307\n",
       "3   -0.0025990690  0.0086167371  0.0938446003 -0.200969233  -0.187648146\n",
       "4   -0.0068447108  0.0196682315 -0.0530410466 -0.004842962   0.024723914\n",
       "5   -0.0146727208 -0.0116226840  0.0067505812 -0.016014569  -0.187154878\n",
       "6   -0.0003415500  0.0014895517 -0.0020368452 -0.098440708  -0.316228886\n",
       "7   -0.0010856535 -0.0125773167 -0.0006785798 -0.166679847   0.132738812\n",
       "8   -0.0068335882 -0.0204699682 -0.0017228454  0.103280960  -0.041188257\n",
       "9   -0.0122013264  0.0090599068 -0.0025079588  0.027909787   0.005000436\n",
       "10   0.0075732812 -0.0029151356 -0.0204588801  0.081246081   0.351739993\n",
       "11   0.0019409473  0.0003679934 -0.0512558415  0.192124445  -0.195154207\n",
       "12   0.0055584998  0.0247428297 -0.1040270718 -0.109096428   0.024768238\n",
       "13   0.0137010866 -0.0136314608 -0.0025543442  0.014494330  -0.007542402\n",
       "14  -0.0079155030  0.0017602549 -0.0085778221 -0.115863618  -0.002644797\n",
       "15   0.0010262085 -0.0005374038 -0.0515089894 -0.187540362  -0.006414777\n",
       "16  -0.0080890744 -0.0001820410 -0.0883953529  0.080827289  -0.008833154\n",
       "17  -0.0137566921 -0.0004629051  0.0549259603 -0.025080169  -0.070067796\n",
       "18   0.0058145069 -0.0006580352  0.0146850515  0.003018872  -0.172067592\n",
       "19  -0.0017562329 -0.0052915077  0.0400979515  0.201459663  -0.344626018\n",
       "20   0.0002149341 -0.0132507684  0.0940281961 -0.110520458  -0.008173605\n",
       "21   0.0148165424 -0.0265717982 -0.0545343412  0.013801622  -0.026804841\n",
       "22  -0.0083034932 -0.0006587320  0.0071535703 -0.004216981  -0.167692513\n",
       "23   0.0010285637 -0.0022462034 -0.0561839529 -0.001451156  -0.297740568\n",
       "24  -0.0003223178 -0.0140539358 -0.0986535697 -0.003734052   0.185035067\n",
       "25  -0.0001109769 -0.0242955235  0.0423608533 -0.005163235   0.048963165\n",
       "26  -0.0002851113  0.0148603403 -0.0127086353 -0.039175279   0.132300181\n",
       "27  -0.0003915696  0.0039843159  0.0015327558 -0.097988611   0.310397066\n",
       "28  -0.0031317107  0.0110913377  0.1033463790 -0.193870682  -0.175165631\n",
       "29  -0.0077842155  0.0261871016 -0.0576796855 -0.004707513   0.023355196\n",
       "30  -0.0158323279 -0.0155129611  0.0075308499 -0.016194187  -0.186175870\n",
       "... ...           ...           ...           ...           ...         \n",
       "180  0.000000e+00  0.000000e+00  0.0010883044 -0.0050160968 -0.110633946\n",
       "181  0.000000e+00  0.000000e+00 -0.0003032789 -0.0311280579 -0.179379038\n",
       "182  0.000000e+00  0.000000e+00 -0.0001228439 -0.0593991254  0.081770995\n",
       "183  0.000000e+00  0.000000e+00 -0.0003235606  0.0363886527 -0.024440149\n",
       "184  0.000000e+00  0.000000e+00 -0.0004686997  0.0096499318  0.002876324\n",
       "185  0.000000e+00  0.000000e+00 -0.0034735361  0.0280816948  0.203967727\n",
       "186  0.000000e+00  0.000000e+00 -0.0083930691  0.0644771058 -0.115655437\n",
       "187  0.000000e+00  0.000000e+00 -0.0183463619 -0.0387040606  0.014775751\n",
       "188  0.000000e+00  0.000000e+00 -0.0004658830  0.0054039522 -0.004543350\n",
       "189  0.000000e+00  0.000000e+00 -0.0017963135 -0.0463610051 -0.001618317\n",
       "190  0.000000e+00  0.000000e+00 -0.0101873591 -0.0787252542 -0.004135692\n",
       "191  0.000000e+00  0.000000e+00 -0.0210305361  0.0390519577 -0.006305768\n",
       "192  0.000000e+00  0.000000e+00  0.0155224226 -0.0123935806 -0.046296997\n",
       "193  0.000000e+00  0.000000e+00  0.0045456910  0.0015712611 -0.119562413\n",
       "194  0.000000e+00  0.000000e+00  0.0125364009  0.1069138054 -0.225557112\n",
       "195  0.000000e+00  0.000000e+00  0.0255771947 -0.0523608508 -0.005165809\n",
       "196  0.000000e+00  0.000000e+00 -0.0189003664  0.0075251514 -0.017919800\n",
       "197  0.000000e+00  0.000000e+00  0.0025031620 -0.0023002306 -0.110489607\n",
       "198  0.000000e+00  0.000000e+00 -0.0183669721 -0.0007426546 -0.182239427\n",
       "199  0.000000e+00  0.000000e+00 -0.0335358269 -0.0017582018  0.098779512\n",
       "200  0.000000e+00  0.000000e+00  0.0167899699 -0.0026464027  0.028529083\n",
       "201  0.000000e+00  0.000000e+00 -0.0048217796 -0.0193345437  0.075180110\n",
       "202  0.000000e+00  0.000000e+00  0.0006166001 -0.0512432540  0.189199536\n",
       "203 -3.898779e-04  0.000000e+00  0.0412376956 -0.1062225510 -0.110173545\n",
       "204 -7.592227e-04  0.000000e+00 -0.0275238248 -0.0030426121  0.016480868\n",
       "205 -1.232694e-03 -3.520374e-04  0.0038389083 -0.0102728047 -0.128025614\n",
       "206 -6.684821e-05  9.946486e-05 -0.0011821259 -0.0637621790 -0.212292435\n",
       "207 -1.326484e-04 -3.078034e-03 -0.0004196180 -0.1113487964  0.091263594\n",
       "208 -1.089650e-03 -6.571209e-03 -0.0011704668  0.0743379261 -0.029597551\n",
       "209 -2.620735e-03  3.674592e-03 -0.0018239295  0.0196524675  0.003544358"
      ]
     },
     "metadata": {},
     "output_type": "display_data"
    }
   ],
   "source": [
    "Y <- MatofAlphas*A\n",
    "Y"
   ]
  },
  {
   "cell_type": "code",
   "execution_count": 7,
   "id": "8891c81a",
   "metadata": {},
   "outputs": [
    {
     "data": {
      "text/html": [
       "<table class=\"dataframe\">\n",
       "<caption>A data.frame: 209 × 5</caption>\n",
       "<thead>\n",
       "\t<tr><th scope=col>V1</th><th scope=col>V2</th><th scope=col>V3</th><th scope=col>V4</th><th scope=col>V5</th></tr>\n",
       "\t<tr><th scope=col>&lt;dbl&gt;</th><th scope=col>&lt;dbl&gt;</th><th scope=col>&lt;dbl&gt;</th><th scope=col>&lt;dbl&gt;</th><th scope=col>&lt;dbl&gt;</th></tr>\n",
       "</thead>\n",
       "<tbody>\n",
       "\t<tr><td>-3.787742e-06</td><td> 5.231995e-05</td><td>-1.073468e-05</td><td>-6.447319e-04</td><td> 2.238991e-04</td></tr>\n",
       "\t<tr><td>-5.284149e-06</td><td> 4.880138e-06</td><td> 1.297522e-06</td><td>-1.600085e-03</td><td> 5.282461e-04</td></tr>\n",
       "\t<tr><td>-4.188127e-05</td><td> 1.392514e-05</td><td> 5.799714e-05</td><td>-3.238408e-03</td><td>-3.032502e-04</td></tr>\n",
       "\t<tr><td>-1.102953e-04</td><td> 3.178499e-05</td><td>-3.278003e-05</td><td>-2.322719e-05</td><td> 3.995527e-05</td></tr>\n",
       "\t<tr><td>-2.364355e-04</td><td>-1.878293e-05</td><td> 4.171944e-06</td><td>-7.680700e-05</td><td>-1.753854e-04</td></tr>\n",
       "\t<tr><td>-1.638098e-06</td><td> 2.407201e-06</td><td>-1.258796e-06</td><td>-4.721286e-04</td><td>-2.963424e-04</td></tr>\n",
       "\t<tr><td>-5.206870e-06</td><td>-1.178637e-05</td><td>-4.193708e-07</td><td>-7.994083e-04</td><td> 1.243913e-04</td></tr>\n",
       "\t<tr><td>-3.277437e-05</td><td>-1.918269e-05</td><td>-2.776185e-05</td><td> 4.953427e-04</td><td>-3.859807e-05</td></tr>\n",
       "\t<tr><td>-5.851842e-05</td><td> 8.490162e-06</td><td>-4.041312e-05</td><td> 4.510382e-05</td><td> 4.685976e-06</td></tr>\n",
       "\t<tr><td> 3.632199e-05</td><td>-2.731813e-06</td><td>-3.296734e-04</td><td> 1.312983e-04</td><td> 2.173797e-04</td></tr>\n",
       "\t<tr><td> 3.136683e-06</td><td> 3.448516e-07</td><td>-8.259341e-04</td><td> 3.104842e-04</td><td>-1.206077e-04</td></tr>\n",
       "\t<tr><td> 8.982856e-06</td><td> 1.529138e-05</td><td>-1.676287e-03</td><td>-1.763061e-04</td><td> 1.530708e-05</td></tr>\n",
       "\t<tr><td> 2.214174e-05</td><td>-8.424413e-06</td><td>-1.225081e-05</td><td> 2.342367e-05</td><td>-4.661299e-06</td></tr>\n",
       "\t<tr><td>-1.279191e-05</td><td> 1.087860e-06</td><td>-4.113984e-05</td><td>-1.085774e-04</td><td>-1.634518e-06</td></tr>\n",
       "\t<tr><td> 1.658412e-06</td><td>-3.321223e-07</td><td>-2.470407e-04</td><td>-1.757466e-04</td><td>-1.033674e-04</td></tr>\n",
       "\t<tr><td>-7.580382e-06</td><td>-1.125036e-07</td><td>-4.239503e-04</td><td> 7.574435e-05</td><td>-1.423370e-04</td></tr>\n",
       "\t<tr><td>-1.289158e-05</td><td>-7.459230e-06</td><td> 2.634288e-04</td><td>-2.350297e-05</td><td>-1.129069e-03</td></tr>\n",
       "\t<tr><td> 5.448853e-06</td><td>-1.060355e-05</td><td> 2.373189e-05</td><td> 2.829026e-06</td><td>-2.772689e-03</td></tr>\n",
       "\t<tr><td>-1.645790e-06</td><td>-8.526709e-05</td><td> 6.480060e-05</td><td> 1.245046e-04</td><td>-5.553287e-03</td></tr>\n",
       "\t<tr><td> 2.014176e-07</td><td>-2.135222e-04</td><td> 1.519550e-04</td><td>-6.830303e-05</td><td>-3.920118e-05</td></tr>\n",
       "\t<tr><td> 9.156809e-06</td><td>-4.281766e-04</td><td>-8.813063e-05</td><td> 8.529575e-06</td><td>-1.285579e-04</td></tr>\n",
       "\t<tr><td>-5.131663e-06</td><td>-3.159325e-06</td><td> 1.156058e-05</td><td>-2.606147e-06</td><td>-8.042651e-04</td></tr>\n",
       "\t<tr><td> 6.356652e-07</td><td>-1.077295e-05</td><td>-5.265075e-05</td><td>-8.968323e-07</td><td>-1.427985e-03</td></tr>\n",
       "\t<tr><td>-1.991964e-07</td><td>-6.740366e-05</td><td>-9.244960e-05</td><td>-6.017033e-05</td><td> 8.874412e-04</td></tr>\n",
       "\t<tr><td>-6.858511e-08</td><td>-1.165230e-04</td><td> 3.969693e-05</td><td>-8.320011e-05</td><td> 7.912729e-05</td></tr>\n",
       "\t<tr><td>-4.594269e-06</td><td> 7.127124e-05</td><td>-1.190943e-05</td><td>-6.312685e-04</td><td> 2.138047e-04</td></tr>\n",
       "\t<tr><td>-6.309734e-06</td><td> 6.438884e-06</td><td> 1.436366e-06</td><td>-1.578984e-03</td><td> 5.016195e-04</td></tr>\n",
       "\t<tr><td>-5.046423e-05</td><td> 1.792424e-05</td><td> 6.386936e-05</td><td>-3.124023e-03</td><td>-2.830777e-04</td></tr>\n",
       "\t<tr><td>-1.254345e-04</td><td> 4.231986e-05</td><td>-3.564677e-05</td><td>-2.257756e-05</td><td> 3.774334e-05</td></tr>\n",
       "\t<tr><td>-2.551213e-04</td><td>-2.506984e-05</td><td> 4.654159e-06</td><td>-7.766846e-05</td><td>-1.744679e-04</td></tr>\n",
       "\t<tr><td>...</td><td>...</td><td>...</td><td>...</td><td>...</td></tr>\n",
       "\t<tr><td> 0.000000e+00</td><td> 0.000000e+00</td><td> 6.725858e-07</td><td>-2.405755e-05</td><td>-1.036766e-04</td></tr>\n",
       "\t<tr><td> 0.000000e+00</td><td> 0.000000e+00</td><td>-1.874302e-07</td><td>-1.492924e-04</td><td>-1.680985e-04</td></tr>\n",
       "\t<tr><td> 0.000000e+00</td><td> 0.000000e+00</td><td>-7.591907e-08</td><td>-2.848824e-04</td><td> 7.662871e-05</td></tr>\n",
       "\t<tr><td> 0.000000e+00</td><td> 0.000000e+00</td><td>-5.213840e-06</td><td> 1.745225e-04</td><td>-2.290320e-05</td></tr>\n",
       "\t<tr><td> 0.000000e+00</td><td> 0.000000e+00</td><td>-7.552604e-06</td><td> 1.559485e-05</td><td> 2.695442e-06</td></tr>\n",
       "\t<tr><td> 0.000000e+00</td><td> 0.000000e+00</td><td>-5.597239e-05</td><td> 4.538163e-05</td><td> 1.260546e-04</td></tr>\n",
       "\t<tr><td> 0.000000e+00</td><td> 0.000000e+00</td><td>-1.352455e-04</td><td> 1.041987e-04</td><td>-7.147651e-05</td></tr>\n",
       "\t<tr><td> 0.000000e+00</td><td> 0.000000e+00</td><td>-2.956324e-04</td><td>-6.254799e-05</td><td> 9.131599e-06</td></tr>\n",
       "\t<tr><td> 0.000000e+00</td><td> 0.000000e+00</td><td>-2.234408e-06</td><td> 8.733098e-06</td><td>-2.807847e-06</td></tr>\n",
       "\t<tr><td> 0.000000e+00</td><td> 0.000000e+00</td><td>-8.615246e-06</td><td>-4.344553e-05</td><td>-1.000140e-06</td></tr>\n",
       "\t<tr><td> 0.000000e+00</td><td> 0.000000e+00</td><td>-4.885929e-05</td><td>-7.377451e-05</td><td>-6.664233e-05</td></tr>\n",
       "\t<tr><td> 0.000000e+00</td><td> 0.000000e+00</td><td>-1.008639e-04</td><td> 3.659612e-05</td><td>-1.016108e-04</td></tr>\n",
       "\t<tr><td> 0.000000e+00</td><td> 0.000000e+00</td><td> 7.444663e-05</td><td>-1.161419e-05</td><td>-7.460275e-04</td></tr>\n",
       "\t<tr><td> 0.000000e+00</td><td> 0.000000e+00</td><td> 7.346098e-06</td><td> 1.472450e-06</td><td>-1.926623e-03</td></tr>\n",
       "\t<tr><td> 0.000000e+00</td><td> 0.000000e+00</td><td> 2.025955e-05</td><td> 6.607407e-05</td><td>-3.634616e-03</td></tr>\n",
       "\t<tr><td> 0.000000e+00</td><td> 0.000000e+00</td><td> 4.133422e-05</td><td>-3.235966e-05</td><td>-2.477558e-05</td></tr>\n",
       "\t<tr><td> 0.000000e+00</td><td> 0.000000e+00</td><td>-3.054408e-05</td><td> 4.650638e-06</td><td>-8.594462e-05</td></tr>\n",
       "\t<tr><td> 0.000000e+00</td><td> 0.000000e+00</td><td> 4.045254e-06</td><td>-1.421571e-06</td><td>-5.299159e-04</td></tr>\n",
       "\t<tr><td> 0.000000e+00</td><td> 0.000000e+00</td><td>-1.721194e-05</td><td>-4.589698e-07</td><td>-8.740331e-04</td></tr>\n",
       "\t<tr><td> 0.000000e+00</td><td> 0.000000e+00</td><td>-3.142688e-05</td><td>-2.833158e-05</td><td> 4.737535e-04</td></tr>\n",
       "\t<tr><td> 0.000000e+00</td><td> 0.000000e+00</td><td> 1.573411e-05</td><td>-4.264400e-05</td><td> 4.610464e-05</td></tr>\n",
       "\t<tr><td> 0.000000e+00</td><td> 0.000000e+00</td><td>-4.518555e-06</td><td>-3.115559e-04</td><td> 1.214954e-04</td></tr>\n",
       "\t<tr><td> 0.000000e+00</td><td> 0.000000e+00</td><td> 5.778243e-07</td><td>-8.257313e-04</td><td> 3.057573e-04</td></tr>\n",
       "\t<tr><td>-6.282473e-06</td><td> 0.000000e+00</td><td> 2.548541e-05</td><td>-1.711665e-03</td><td>-1.780468e-04</td></tr>\n",
       "\t<tr><td>-1.223408e-05</td><td> 0.000000e+00</td><td>-1.701007e-05</td><td>-1.459258e-05</td><td> 2.663403e-05</td></tr>\n",
       "\t<tr><td>-1.986357e-05</td><td>-5.689126e-07</td><td> 2.372493e-06</td><td>-4.926909e-05</td><td>-1.199745e-04</td></tr>\n",
       "\t<tr><td>-3.206087e-07</td><td> 1.607409e-07</td><td>-7.305686e-07</td><td>-3.058079e-04</td><td>-1.989421e-04</td></tr>\n",
       "\t<tr><td>-6.361909e-07</td><td>-2.884468e-06</td><td>-2.593292e-07</td><td>-5.340367e-04</td><td> 8.552435e-05</td></tr>\n",
       "\t<tr><td>-5.226036e-06</td><td>-6.157969e-06</td><td>-1.886084e-05</td><td> 3.565299e-04</td><td>-2.773627e-05</td></tr>\n",
       "\t<tr><td>-1.256923e-05</td><td> 3.443510e-06</td><td>-2.939071e-05</td><td> 3.175952e-05</td><td> 3.321466e-06</td></tr>\n",
       "</tbody>\n",
       "</table>\n"
      ],
      "text/latex": [
       "A data.frame: 209 × 5\n",
       "\\begin{tabular}{lllll}\n",
       " V1 & V2 & V3 & V4 & V5\\\\\n",
       " <dbl> & <dbl> & <dbl> & <dbl> & <dbl>\\\\\n",
       "\\hline\n",
       "\t -3.787742e-06 &  5.231995e-05 & -1.073468e-05 & -6.447319e-04 &  2.238991e-04\\\\\n",
       "\t -5.284149e-06 &  4.880138e-06 &  1.297522e-06 & -1.600085e-03 &  5.282461e-04\\\\\n",
       "\t -4.188127e-05 &  1.392514e-05 &  5.799714e-05 & -3.238408e-03 & -3.032502e-04\\\\\n",
       "\t -1.102953e-04 &  3.178499e-05 & -3.278003e-05 & -2.322719e-05 &  3.995527e-05\\\\\n",
       "\t -2.364355e-04 & -1.878293e-05 &  4.171944e-06 & -7.680700e-05 & -1.753854e-04\\\\\n",
       "\t -1.638098e-06 &  2.407201e-06 & -1.258796e-06 & -4.721286e-04 & -2.963424e-04\\\\\n",
       "\t -5.206870e-06 & -1.178637e-05 & -4.193708e-07 & -7.994083e-04 &  1.243913e-04\\\\\n",
       "\t -3.277437e-05 & -1.918269e-05 & -2.776185e-05 &  4.953427e-04 & -3.859807e-05\\\\\n",
       "\t -5.851842e-05 &  8.490162e-06 & -4.041312e-05 &  4.510382e-05 &  4.685976e-06\\\\\n",
       "\t  3.632199e-05 & -2.731813e-06 & -3.296734e-04 &  1.312983e-04 &  2.173797e-04\\\\\n",
       "\t  3.136683e-06 &  3.448516e-07 & -8.259341e-04 &  3.104842e-04 & -1.206077e-04\\\\\n",
       "\t  8.982856e-06 &  1.529138e-05 & -1.676287e-03 & -1.763061e-04 &  1.530708e-05\\\\\n",
       "\t  2.214174e-05 & -8.424413e-06 & -1.225081e-05 &  2.342367e-05 & -4.661299e-06\\\\\n",
       "\t -1.279191e-05 &  1.087860e-06 & -4.113984e-05 & -1.085774e-04 & -1.634518e-06\\\\\n",
       "\t  1.658412e-06 & -3.321223e-07 & -2.470407e-04 & -1.757466e-04 & -1.033674e-04\\\\\n",
       "\t -7.580382e-06 & -1.125036e-07 & -4.239503e-04 &  7.574435e-05 & -1.423370e-04\\\\\n",
       "\t -1.289158e-05 & -7.459230e-06 &  2.634288e-04 & -2.350297e-05 & -1.129069e-03\\\\\n",
       "\t  5.448853e-06 & -1.060355e-05 &  2.373189e-05 &  2.829026e-06 & -2.772689e-03\\\\\n",
       "\t -1.645790e-06 & -8.526709e-05 &  6.480060e-05 &  1.245046e-04 & -5.553287e-03\\\\\n",
       "\t  2.014176e-07 & -2.135222e-04 &  1.519550e-04 & -6.830303e-05 & -3.920118e-05\\\\\n",
       "\t  9.156809e-06 & -4.281766e-04 & -8.813063e-05 &  8.529575e-06 & -1.285579e-04\\\\\n",
       "\t -5.131663e-06 & -3.159325e-06 &  1.156058e-05 & -2.606147e-06 & -8.042651e-04\\\\\n",
       "\t  6.356652e-07 & -1.077295e-05 & -5.265075e-05 & -8.968323e-07 & -1.427985e-03\\\\\n",
       "\t -1.991964e-07 & -6.740366e-05 & -9.244960e-05 & -6.017033e-05 &  8.874412e-04\\\\\n",
       "\t -6.858511e-08 & -1.165230e-04 &  3.969693e-05 & -8.320011e-05 &  7.912729e-05\\\\\n",
       "\t -4.594269e-06 &  7.127124e-05 & -1.190943e-05 & -6.312685e-04 &  2.138047e-04\\\\\n",
       "\t -6.309734e-06 &  6.438884e-06 &  1.436366e-06 & -1.578984e-03 &  5.016195e-04\\\\\n",
       "\t -5.046423e-05 &  1.792424e-05 &  6.386936e-05 & -3.124023e-03 & -2.830777e-04\\\\\n",
       "\t -1.254345e-04 &  4.231986e-05 & -3.564677e-05 & -2.257756e-05 &  3.774334e-05\\\\\n",
       "\t -2.551213e-04 & -2.506984e-05 &  4.654159e-06 & -7.766846e-05 & -1.744679e-04\\\\\n",
       "\t ... & ... & ... & ... & ...\\\\\n",
       "\t  0.000000e+00 &  0.000000e+00 &  6.725858e-07 & -2.405755e-05 & -1.036766e-04\\\\\n",
       "\t  0.000000e+00 &  0.000000e+00 & -1.874302e-07 & -1.492924e-04 & -1.680985e-04\\\\\n",
       "\t  0.000000e+00 &  0.000000e+00 & -7.591907e-08 & -2.848824e-04 &  7.662871e-05\\\\\n",
       "\t  0.000000e+00 &  0.000000e+00 & -5.213840e-06 &  1.745225e-04 & -2.290320e-05\\\\\n",
       "\t  0.000000e+00 &  0.000000e+00 & -7.552604e-06 &  1.559485e-05 &  2.695442e-06\\\\\n",
       "\t  0.000000e+00 &  0.000000e+00 & -5.597239e-05 &  4.538163e-05 &  1.260546e-04\\\\\n",
       "\t  0.000000e+00 &  0.000000e+00 & -1.352455e-04 &  1.041987e-04 & -7.147651e-05\\\\\n",
       "\t  0.000000e+00 &  0.000000e+00 & -2.956324e-04 & -6.254799e-05 &  9.131599e-06\\\\\n",
       "\t  0.000000e+00 &  0.000000e+00 & -2.234408e-06 &  8.733098e-06 & -2.807847e-06\\\\\n",
       "\t  0.000000e+00 &  0.000000e+00 & -8.615246e-06 & -4.344553e-05 & -1.000140e-06\\\\\n",
       "\t  0.000000e+00 &  0.000000e+00 & -4.885929e-05 & -7.377451e-05 & -6.664233e-05\\\\\n",
       "\t  0.000000e+00 &  0.000000e+00 & -1.008639e-04 &  3.659612e-05 & -1.016108e-04\\\\\n",
       "\t  0.000000e+00 &  0.000000e+00 &  7.444663e-05 & -1.161419e-05 & -7.460275e-04\\\\\n",
       "\t  0.000000e+00 &  0.000000e+00 &  7.346098e-06 &  1.472450e-06 & -1.926623e-03\\\\\n",
       "\t  0.000000e+00 &  0.000000e+00 &  2.025955e-05 &  6.607407e-05 & -3.634616e-03\\\\\n",
       "\t  0.000000e+00 &  0.000000e+00 &  4.133422e-05 & -3.235966e-05 & -2.477558e-05\\\\\n",
       "\t  0.000000e+00 &  0.000000e+00 & -3.054408e-05 &  4.650638e-06 & -8.594462e-05\\\\\n",
       "\t  0.000000e+00 &  0.000000e+00 &  4.045254e-06 & -1.421571e-06 & -5.299159e-04\\\\\n",
       "\t  0.000000e+00 &  0.000000e+00 & -1.721194e-05 & -4.589698e-07 & -8.740331e-04\\\\\n",
       "\t  0.000000e+00 &  0.000000e+00 & -3.142688e-05 & -2.833158e-05 &  4.737535e-04\\\\\n",
       "\t  0.000000e+00 &  0.000000e+00 &  1.573411e-05 & -4.264400e-05 &  4.610464e-05\\\\\n",
       "\t  0.000000e+00 &  0.000000e+00 & -4.518555e-06 & -3.115559e-04 &  1.214954e-04\\\\\n",
       "\t  0.000000e+00 &  0.000000e+00 &  5.778243e-07 & -8.257313e-04 &  3.057573e-04\\\\\n",
       "\t -6.282473e-06 &  0.000000e+00 &  2.548541e-05 & -1.711665e-03 & -1.780468e-04\\\\\n",
       "\t -1.223408e-05 &  0.000000e+00 & -1.701007e-05 & -1.459258e-05 &  2.663403e-05\\\\\n",
       "\t -1.986357e-05 & -5.689126e-07 &  2.372493e-06 & -4.926909e-05 & -1.199745e-04\\\\\n",
       "\t -3.206087e-07 &  1.607409e-07 & -7.305686e-07 & -3.058079e-04 & -1.989421e-04\\\\\n",
       "\t -6.361909e-07 & -2.884468e-06 & -2.593292e-07 & -5.340367e-04 &  8.552435e-05\\\\\n",
       "\t -5.226036e-06 & -6.157969e-06 & -1.886084e-05 &  3.565299e-04 & -2.773627e-05\\\\\n",
       "\t -1.256923e-05 &  3.443510e-06 & -2.939071e-05 &  3.175952e-05 &  3.321466e-06\\\\\n",
       "\\end{tabular}\n"
      ],
      "text/markdown": [
       "\n",
       "A data.frame: 209 × 5\n",
       "\n",
       "| V1 &lt;dbl&gt; | V2 &lt;dbl&gt; | V3 &lt;dbl&gt; | V4 &lt;dbl&gt; | V5 &lt;dbl&gt; |\n",
       "|---|---|---|---|---|\n",
       "| -3.787742e-06 |  5.231995e-05 | -1.073468e-05 | -6.447319e-04 |  2.238991e-04 |\n",
       "| -5.284149e-06 |  4.880138e-06 |  1.297522e-06 | -1.600085e-03 |  5.282461e-04 |\n",
       "| -4.188127e-05 |  1.392514e-05 |  5.799714e-05 | -3.238408e-03 | -3.032502e-04 |\n",
       "| -1.102953e-04 |  3.178499e-05 | -3.278003e-05 | -2.322719e-05 |  3.995527e-05 |\n",
       "| -2.364355e-04 | -1.878293e-05 |  4.171944e-06 | -7.680700e-05 | -1.753854e-04 |\n",
       "| -1.638098e-06 |  2.407201e-06 | -1.258796e-06 | -4.721286e-04 | -2.963424e-04 |\n",
       "| -5.206870e-06 | -1.178637e-05 | -4.193708e-07 | -7.994083e-04 |  1.243913e-04 |\n",
       "| -3.277437e-05 | -1.918269e-05 | -2.776185e-05 |  4.953427e-04 | -3.859807e-05 |\n",
       "| -5.851842e-05 |  8.490162e-06 | -4.041312e-05 |  4.510382e-05 |  4.685976e-06 |\n",
       "|  3.632199e-05 | -2.731813e-06 | -3.296734e-04 |  1.312983e-04 |  2.173797e-04 |\n",
       "|  3.136683e-06 |  3.448516e-07 | -8.259341e-04 |  3.104842e-04 | -1.206077e-04 |\n",
       "|  8.982856e-06 |  1.529138e-05 | -1.676287e-03 | -1.763061e-04 |  1.530708e-05 |\n",
       "|  2.214174e-05 | -8.424413e-06 | -1.225081e-05 |  2.342367e-05 | -4.661299e-06 |\n",
       "| -1.279191e-05 |  1.087860e-06 | -4.113984e-05 | -1.085774e-04 | -1.634518e-06 |\n",
       "|  1.658412e-06 | -3.321223e-07 | -2.470407e-04 | -1.757466e-04 | -1.033674e-04 |\n",
       "| -7.580382e-06 | -1.125036e-07 | -4.239503e-04 |  7.574435e-05 | -1.423370e-04 |\n",
       "| -1.289158e-05 | -7.459230e-06 |  2.634288e-04 | -2.350297e-05 | -1.129069e-03 |\n",
       "|  5.448853e-06 | -1.060355e-05 |  2.373189e-05 |  2.829026e-06 | -2.772689e-03 |\n",
       "| -1.645790e-06 | -8.526709e-05 |  6.480060e-05 |  1.245046e-04 | -5.553287e-03 |\n",
       "|  2.014176e-07 | -2.135222e-04 |  1.519550e-04 | -6.830303e-05 | -3.920118e-05 |\n",
       "|  9.156809e-06 | -4.281766e-04 | -8.813063e-05 |  8.529575e-06 | -1.285579e-04 |\n",
       "| -5.131663e-06 | -3.159325e-06 |  1.156058e-05 | -2.606147e-06 | -8.042651e-04 |\n",
       "|  6.356652e-07 | -1.077295e-05 | -5.265075e-05 | -8.968323e-07 | -1.427985e-03 |\n",
       "| -1.991964e-07 | -6.740366e-05 | -9.244960e-05 | -6.017033e-05 |  8.874412e-04 |\n",
       "| -6.858511e-08 | -1.165230e-04 |  3.969693e-05 | -8.320011e-05 |  7.912729e-05 |\n",
       "| -4.594269e-06 |  7.127124e-05 | -1.190943e-05 | -6.312685e-04 |  2.138047e-04 |\n",
       "| -6.309734e-06 |  6.438884e-06 |  1.436366e-06 | -1.578984e-03 |  5.016195e-04 |\n",
       "| -5.046423e-05 |  1.792424e-05 |  6.386936e-05 | -3.124023e-03 | -2.830777e-04 |\n",
       "| -1.254345e-04 |  4.231986e-05 | -3.564677e-05 | -2.257756e-05 |  3.774334e-05 |\n",
       "| -2.551213e-04 | -2.506984e-05 |  4.654159e-06 | -7.766846e-05 | -1.744679e-04 |\n",
       "| ... | ... | ... | ... | ... |\n",
       "|  0.000000e+00 |  0.000000e+00 |  6.725858e-07 | -2.405755e-05 | -1.036766e-04 |\n",
       "|  0.000000e+00 |  0.000000e+00 | -1.874302e-07 | -1.492924e-04 | -1.680985e-04 |\n",
       "|  0.000000e+00 |  0.000000e+00 | -7.591907e-08 | -2.848824e-04 |  7.662871e-05 |\n",
       "|  0.000000e+00 |  0.000000e+00 | -5.213840e-06 |  1.745225e-04 | -2.290320e-05 |\n",
       "|  0.000000e+00 |  0.000000e+00 | -7.552604e-06 |  1.559485e-05 |  2.695442e-06 |\n",
       "|  0.000000e+00 |  0.000000e+00 | -5.597239e-05 |  4.538163e-05 |  1.260546e-04 |\n",
       "|  0.000000e+00 |  0.000000e+00 | -1.352455e-04 |  1.041987e-04 | -7.147651e-05 |\n",
       "|  0.000000e+00 |  0.000000e+00 | -2.956324e-04 | -6.254799e-05 |  9.131599e-06 |\n",
       "|  0.000000e+00 |  0.000000e+00 | -2.234408e-06 |  8.733098e-06 | -2.807847e-06 |\n",
       "|  0.000000e+00 |  0.000000e+00 | -8.615246e-06 | -4.344553e-05 | -1.000140e-06 |\n",
       "|  0.000000e+00 |  0.000000e+00 | -4.885929e-05 | -7.377451e-05 | -6.664233e-05 |\n",
       "|  0.000000e+00 |  0.000000e+00 | -1.008639e-04 |  3.659612e-05 | -1.016108e-04 |\n",
       "|  0.000000e+00 |  0.000000e+00 |  7.444663e-05 | -1.161419e-05 | -7.460275e-04 |\n",
       "|  0.000000e+00 |  0.000000e+00 |  7.346098e-06 |  1.472450e-06 | -1.926623e-03 |\n",
       "|  0.000000e+00 |  0.000000e+00 |  2.025955e-05 |  6.607407e-05 | -3.634616e-03 |\n",
       "|  0.000000e+00 |  0.000000e+00 |  4.133422e-05 | -3.235966e-05 | -2.477558e-05 |\n",
       "|  0.000000e+00 |  0.000000e+00 | -3.054408e-05 |  4.650638e-06 | -8.594462e-05 |\n",
       "|  0.000000e+00 |  0.000000e+00 |  4.045254e-06 | -1.421571e-06 | -5.299159e-04 |\n",
       "|  0.000000e+00 |  0.000000e+00 | -1.721194e-05 | -4.589698e-07 | -8.740331e-04 |\n",
       "|  0.000000e+00 |  0.000000e+00 | -3.142688e-05 | -2.833158e-05 |  4.737535e-04 |\n",
       "|  0.000000e+00 |  0.000000e+00 |  1.573411e-05 | -4.264400e-05 |  4.610464e-05 |\n",
       "|  0.000000e+00 |  0.000000e+00 | -4.518555e-06 | -3.115559e-04 |  1.214954e-04 |\n",
       "|  0.000000e+00 |  0.000000e+00 |  5.778243e-07 | -8.257313e-04 |  3.057573e-04 |\n",
       "| -6.282473e-06 |  0.000000e+00 |  2.548541e-05 | -1.711665e-03 | -1.780468e-04 |\n",
       "| -1.223408e-05 |  0.000000e+00 | -1.701007e-05 | -1.459258e-05 |  2.663403e-05 |\n",
       "| -1.986357e-05 | -5.689126e-07 |  2.372493e-06 | -4.926909e-05 | -1.199745e-04 |\n",
       "| -3.206087e-07 |  1.607409e-07 | -7.305686e-07 | -3.058079e-04 | -1.989421e-04 |\n",
       "| -6.361909e-07 | -2.884468e-06 | -2.593292e-07 | -5.340367e-04 |  8.552435e-05 |\n",
       "| -5.226036e-06 | -6.157969e-06 | -1.886084e-05 |  3.565299e-04 | -2.773627e-05 |\n",
       "| -1.256923e-05 |  3.443510e-06 | -2.939071e-05 |  3.175952e-05 |  3.321466e-06 |\n",
       "\n"
      ],
      "text/plain": [
       "    V1            V2            V3            V4            V5           \n",
       "1   -3.787742e-06  5.231995e-05 -1.073468e-05 -6.447319e-04  2.238991e-04\n",
       "2   -5.284149e-06  4.880138e-06  1.297522e-06 -1.600085e-03  5.282461e-04\n",
       "3   -4.188127e-05  1.392514e-05  5.799714e-05 -3.238408e-03 -3.032502e-04\n",
       "4   -1.102953e-04  3.178499e-05 -3.278003e-05 -2.322719e-05  3.995527e-05\n",
       "5   -2.364355e-04 -1.878293e-05  4.171944e-06 -7.680700e-05 -1.753854e-04\n",
       "6   -1.638098e-06  2.407201e-06 -1.258796e-06 -4.721286e-04 -2.963424e-04\n",
       "7   -5.206870e-06 -1.178637e-05 -4.193708e-07 -7.994083e-04  1.243913e-04\n",
       "8   -3.277437e-05 -1.918269e-05 -2.776185e-05  4.953427e-04 -3.859807e-05\n",
       "9   -5.851842e-05  8.490162e-06 -4.041312e-05  4.510382e-05  4.685976e-06\n",
       "10   3.632199e-05 -2.731813e-06 -3.296734e-04  1.312983e-04  2.173797e-04\n",
       "11   3.136683e-06  3.448516e-07 -8.259341e-04  3.104842e-04 -1.206077e-04\n",
       "12   8.982856e-06  1.529138e-05 -1.676287e-03 -1.763061e-04  1.530708e-05\n",
       "13   2.214174e-05 -8.424413e-06 -1.225081e-05  2.342367e-05 -4.661299e-06\n",
       "14  -1.279191e-05  1.087860e-06 -4.113984e-05 -1.085774e-04 -1.634518e-06\n",
       "15   1.658412e-06 -3.321223e-07 -2.470407e-04 -1.757466e-04 -1.033674e-04\n",
       "16  -7.580382e-06 -1.125036e-07 -4.239503e-04  7.574435e-05 -1.423370e-04\n",
       "17  -1.289158e-05 -7.459230e-06  2.634288e-04 -2.350297e-05 -1.129069e-03\n",
       "18   5.448853e-06 -1.060355e-05  2.373189e-05  2.829026e-06 -2.772689e-03\n",
       "19  -1.645790e-06 -8.526709e-05  6.480060e-05  1.245046e-04 -5.553287e-03\n",
       "20   2.014176e-07 -2.135222e-04  1.519550e-04 -6.830303e-05 -3.920118e-05\n",
       "21   9.156809e-06 -4.281766e-04 -8.813063e-05  8.529575e-06 -1.285579e-04\n",
       "22  -5.131663e-06 -3.159325e-06  1.156058e-05 -2.606147e-06 -8.042651e-04\n",
       "23   6.356652e-07 -1.077295e-05 -5.265075e-05 -8.968323e-07 -1.427985e-03\n",
       "24  -1.991964e-07 -6.740366e-05 -9.244960e-05 -6.017033e-05  8.874412e-04\n",
       "25  -6.858511e-08 -1.165230e-04  3.969693e-05 -8.320011e-05  7.912729e-05\n",
       "26  -4.594269e-06  7.127124e-05 -1.190943e-05 -6.312685e-04  2.138047e-04\n",
       "27  -6.309734e-06  6.438884e-06  1.436366e-06 -1.578984e-03  5.016195e-04\n",
       "28  -5.046423e-05  1.792424e-05  6.386936e-05 -3.124023e-03 -2.830777e-04\n",
       "29  -1.254345e-04  4.231986e-05 -3.564677e-05 -2.257756e-05  3.774334e-05\n",
       "30  -2.551213e-04 -2.506984e-05  4.654159e-06 -7.766846e-05 -1.744679e-04\n",
       "... ...           ...           ...           ...           ...          \n",
       "180  0.000000e+00  0.000000e+00  6.725858e-07 -2.405755e-05 -1.036766e-04\n",
       "181  0.000000e+00  0.000000e+00 -1.874302e-07 -1.492924e-04 -1.680985e-04\n",
       "182  0.000000e+00  0.000000e+00 -7.591907e-08 -2.848824e-04  7.662871e-05\n",
       "183  0.000000e+00  0.000000e+00 -5.213840e-06  1.745225e-04 -2.290320e-05\n",
       "184  0.000000e+00  0.000000e+00 -7.552604e-06  1.559485e-05  2.695442e-06\n",
       "185  0.000000e+00  0.000000e+00 -5.597239e-05  4.538163e-05  1.260546e-04\n",
       "186  0.000000e+00  0.000000e+00 -1.352455e-04  1.041987e-04 -7.147651e-05\n",
       "187  0.000000e+00  0.000000e+00 -2.956324e-04 -6.254799e-05  9.131599e-06\n",
       "188  0.000000e+00  0.000000e+00 -2.234408e-06  8.733098e-06 -2.807847e-06\n",
       "189  0.000000e+00  0.000000e+00 -8.615246e-06 -4.344553e-05 -1.000140e-06\n",
       "190  0.000000e+00  0.000000e+00 -4.885929e-05 -7.377451e-05 -6.664233e-05\n",
       "191  0.000000e+00  0.000000e+00 -1.008639e-04  3.659612e-05 -1.016108e-04\n",
       "192  0.000000e+00  0.000000e+00  7.444663e-05 -1.161419e-05 -7.460275e-04\n",
       "193  0.000000e+00  0.000000e+00  7.346098e-06  1.472450e-06 -1.926623e-03\n",
       "194  0.000000e+00  0.000000e+00  2.025955e-05  6.607407e-05 -3.634616e-03\n",
       "195  0.000000e+00  0.000000e+00  4.133422e-05 -3.235966e-05 -2.477558e-05\n",
       "196  0.000000e+00  0.000000e+00 -3.054408e-05  4.650638e-06 -8.594462e-05\n",
       "197  0.000000e+00  0.000000e+00  4.045254e-06 -1.421571e-06 -5.299159e-04\n",
       "198  0.000000e+00  0.000000e+00 -1.721194e-05 -4.589698e-07 -8.740331e-04\n",
       "199  0.000000e+00  0.000000e+00 -3.142688e-05 -2.833158e-05  4.737535e-04\n",
       "200  0.000000e+00  0.000000e+00  1.573411e-05 -4.264400e-05  4.610464e-05\n",
       "201  0.000000e+00  0.000000e+00 -4.518555e-06 -3.115559e-04  1.214954e-04\n",
       "202  0.000000e+00  0.000000e+00  5.778243e-07 -8.257313e-04  3.057573e-04\n",
       "203 -6.282473e-06  0.000000e+00  2.548541e-05 -1.711665e-03 -1.780468e-04\n",
       "204 -1.223408e-05  0.000000e+00 -1.701007e-05 -1.459258e-05  2.663403e-05\n",
       "205 -1.986357e-05 -5.689126e-07  2.372493e-06 -4.926909e-05 -1.199745e-04\n",
       "206 -3.206087e-07  1.607409e-07 -7.305686e-07 -3.058079e-04 -1.989421e-04\n",
       "207 -6.361909e-07 -2.884468e-06 -2.593292e-07 -5.340367e-04  8.552435e-05\n",
       "208 -5.226036e-06 -6.157969e-06 -1.886084e-05  3.565299e-04 -2.773627e-05\n",
       "209 -1.256923e-05  3.443510e-06 -2.939071e-05  3.175952e-05  3.321466e-06"
      ]
     },
     "metadata": {},
     "output_type": "display_data"
    }
   ],
   "source": [
    "W <- MatofAlphas*B\n",
    "W"
   ]
  },
  {
   "cell_type": "code",
   "execution_count": 8,
   "id": "e196be6b",
   "metadata": {},
   "outputs": [
    {
     "data": {
      "text/plain": [
       "Importance of components:\n",
       "                           Comp.1      Comp.2      Comp.3       Comp.4\n",
       "Standard deviation     0.01607517 0.004784527 0.001612168 0.0009348582\n",
       "Proportion of Variance 0.90620972 0.080277851 0.009114614 0.0030648493\n",
       "Cumulative Proportion  0.90620972 0.986487570 0.995602184 0.9986670336\n",
       "                             Comp.5\n",
       "Standard deviation     0.0006165251\n",
       "Proportion of Variance 0.0013329664\n",
       "Cumulative Proportion  1.0000000000"
      ]
     },
     "metadata": {},
     "output_type": "display_data"
    }
   ],
   "source": [
    "components <- princomp(delta_alpha)\n",
    "summary(components)"
   ]
  },
  {
   "cell_type": "code",
   "execution_count": 9,
   "id": "76080d28",
   "metadata": {},
   "outputs": [],
   "source": [
    "cum_variance <- cumsum(components$sdev^2 / sum(components$sdev^2))\n",
    "best_components <- components$scores[,1:2]"
   ]
  },
  {
   "cell_type": "code",
   "execution_count": 10,
   "id": "2e78a1b1",
   "metadata": {},
   "outputs": [
    {
     "data": {
      "text/html": [
       "<table class=\"dataframe\">\n",
       "<caption>A matrix: 208 × 2 of type dbl</caption>\n",
       "<thead>\n",
       "\t<tr><th></th><th scope=col>Comp.1</th><th scope=col>Comp.2</th></tr>\n",
       "</thead>\n",
       "<tbody>\n",
       "\t<tr><th scope=row>2</th><td>-0.0010133629</td><td>-0.0014999750</td></tr>\n",
       "\t<tr><th scope=row>3</th><td>-0.0006067909</td><td> 0.0020122557</td></tr>\n",
       "\t<tr><th scope=row>4</th><td> 0.0054039694</td><td>-0.0006699329</td></tr>\n",
       "\t<tr><th scope=row>5</th><td>-0.0107083224</td><td> 0.0042348343</td></tr>\n",
       "\t<tr><th scope=row>6</th><td>-0.0029639914</td><td>-0.0027713995</td></tr>\n",
       "\t<tr><th scope=row>7</th><td>-0.0134135066</td><td> 0.0027898480</td></tr>\n",
       "\t<tr><th scope=row>8</th><td> 0.0062592469</td><td>-0.0003774793</td></tr>\n",
       "\t<tr><th scope=row>9</th><td> 0.0057672171</td><td> 0.0059965248</td></tr>\n",
       "\t<tr><th scope=row>10</th><td> 0.0207177497</td><td> 0.0035606578</td></tr>\n",
       "\t<tr><th scope=row>11</th><td> 0.0003116482</td><td> 0.0003285832</td></tr>\n",
       "\t<tr><th scope=row>12</th><td>-0.0005483813</td><td>-0.0026362780</td></tr>\n",
       "\t<tr><th scope=row>13</th><td> 0.0009482481</td><td> 0.0059203569</td></tr>\n",
       "\t<tr><th scope=row>14</th><td> 0.0167770167</td><td>-0.0021388298</td></tr>\n",
       "\t<tr><th scope=row>15</th><td>-0.0179281942</td><td>-0.0040538814</td></tr>\n",
       "\t<tr><th scope=row>16</th><td>-0.0049089113</td><td> 0.0006012269</td></tr>\n",
       "\t<tr><th scope=row>17</th><td> 0.0077338761</td><td> 0.0001506899</td></tr>\n",
       "\t<tr><th scope=row>18</th><td>-0.0069764003</td><td> 0.0042390638</td></tr>\n",
       "\t<tr><th scope=row>19</th><td>-0.0028437227</td><td>-0.0017892155</td></tr>\n",
       "\t<tr><th scope=row>20</th><td>-0.0048768742</td><td>-0.0003676657</td></tr>\n",
       "\t<tr><th scope=row>21</th><td>-0.0066815050</td><td> 0.0007697589</td></tr>\n",
       "\t<tr><th scope=row>22</th><td> 0.0008013595</td><td>-0.0001951711</td></tr>\n",
       "\t<tr><th scope=row>23</th><td> 0.0125164045</td><td>-0.0016694611</td></tr>\n",
       "\t<tr><th scope=row>24</th><td> 0.0080866005</td><td> 0.0036963239</td></tr>\n",
       "\t<tr><th scope=row>25</th><td> 0.0017979830</td><td>-0.0034428843</td></tr>\n",
       "\t<tr><th scope=row>26</th><td>-0.0113766783</td><td>-0.0014702675</td></tr>\n",
       "\t<tr><th scope=row>27</th><td>-0.0021633700</td><td> 0.0007021785</td></tr>\n",
       "\t<tr><th scope=row>28</th><td>-0.0085726238</td><td> 0.0008563092</td></tr>\n",
       "\t<tr><th scope=row>29</th><td> 0.0096522235</td><td>-0.0019447618</td></tr>\n",
       "\t<tr><th scope=row>30</th><td> 0.0118369422</td><td> 0.0028290013</td></tr>\n",
       "\t<tr><th scope=row>31</th><td> 0.0065843996</td><td> 0.0056266654</td></tr>\n",
       "\t<tr><th scope=row>...</th><td>...</td><td>...</td></tr>\n",
       "\t<tr><th scope=row>180</th><td>-0.0005282728</td><td>-7.132262e-03</td></tr>\n",
       "\t<tr><th scope=row>181</th><td>-0.0090965745</td><td> 3.847978e-03</td></tr>\n",
       "\t<tr><th scope=row>182</th><td> 0.0140540628</td><td> 2.106278e-03</td></tr>\n",
       "\t<tr><th scope=row>183</th><td>-0.0041287600</td><td> 2.932636e-03</td></tr>\n",
       "\t<tr><th scope=row>184</th><td>-0.0041416316</td><td> 3.683102e-03</td></tr>\n",
       "\t<tr><th scope=row>185</th><td> 0.0120199318</td><td>-2.642333e-03</td></tr>\n",
       "\t<tr><th scope=row>186</th><td> 0.0038363517</td><td>-4.367285e-03</td></tr>\n",
       "\t<tr><th scope=row>187</th><td> 0.0039565767</td><td> 2.374003e-03</td></tr>\n",
       "\t<tr><th scope=row>188</th><td> 0.0042428763</td><td> 4.718685e-03</td></tr>\n",
       "\t<tr><th scope=row>189</th><td> 0.0167240747</td><td> 2.222259e-03</td></tr>\n",
       "\t<tr><th scope=row>190</th><td> 0.0040921422</td><td>-3.021444e-03</td></tr>\n",
       "\t<tr><th scope=row>191</th><td> 0.0287132923</td><td> 1.309979e-03</td></tr>\n",
       "\t<tr><th scope=row>192</th><td>-0.0114825210</td><td> 1.352910e-02</td></tr>\n",
       "\t<tr><th scope=row>193</th><td> 0.0106534916</td><td> 2.415629e-03</td></tr>\n",
       "\t<tr><th scope=row>194</th><td>-0.0142416815</td><td> 8.738128e-03</td></tr>\n",
       "\t<tr><th scope=row>195</th><td>-0.0168936560</td><td>-7.748718e-03</td></tr>\n",
       "\t<tr><th scope=row>196</th><td> 0.0170127209</td><td> 1.043825e-02</td></tr>\n",
       "\t<tr><th scope=row>197</th><td>-0.0023827462</td><td> 1.705699e-03</td></tr>\n",
       "\t<tr><th scope=row>198</th><td>-0.0117229328</td><td>-9.469945e-05</td></tr>\n",
       "\t<tr><th scope=row>199</th><td>-0.0263962726</td><td> 9.244904e-03</td></tr>\n",
       "\t<tr><th scope=row>200</th><td> 0.0239591471</td><td>-3.191993e-04</td></tr>\n",
       "\t<tr><th scope=row>201</th><td>-0.0131948864</td><td>-1.820130e-03</td></tr>\n",
       "\t<tr><th scope=row>202</th><td> 0.0164948364</td><td>-7.740744e-04</td></tr>\n",
       "\t<tr><th scope=row>203</th><td> 0.0040378841</td><td> 1.437431e-03</td></tr>\n",
       "\t<tr><th scope=row>204</th><td> 0.0434980091</td><td> 5.523265e-03</td></tr>\n",
       "\t<tr><th scope=row>205</th><td> 0.0014873380</td><td> 4.331151e-03</td></tr>\n",
       "\t<tr><th scope=row>206</th><td>-0.0052284173</td><td> 2.416643e-03</td></tr>\n",
       "\t<tr><th scope=row>207</th><td>-0.0005410443</td><td> 4.535863e-03</td></tr>\n",
       "\t<tr><th scope=row>208</th><td> 0.0212606428</td><td> 5.870904e-03</td></tr>\n",
       "\t<tr><th scope=row>209</th><td> 0.0004218616</td><td> 5.840489e-03</td></tr>\n",
       "</tbody>\n",
       "</table>\n"
      ],
      "text/latex": [
       "A matrix: 208 × 2 of type dbl\n",
       "\\begin{tabular}{r|ll}\n",
       "  & Comp.1 & Comp.2\\\\\n",
       "\\hline\n",
       "\t2 & -0.0010133629 & -0.0014999750\\\\\n",
       "\t3 & -0.0006067909 &  0.0020122557\\\\\n",
       "\t4 &  0.0054039694 & -0.0006699329\\\\\n",
       "\t5 & -0.0107083224 &  0.0042348343\\\\\n",
       "\t6 & -0.0029639914 & -0.0027713995\\\\\n",
       "\t7 & -0.0134135066 &  0.0027898480\\\\\n",
       "\t8 &  0.0062592469 & -0.0003774793\\\\\n",
       "\t9 &  0.0057672171 &  0.0059965248\\\\\n",
       "\t10 &  0.0207177497 &  0.0035606578\\\\\n",
       "\t11 &  0.0003116482 &  0.0003285832\\\\\n",
       "\t12 & -0.0005483813 & -0.0026362780\\\\\n",
       "\t13 &  0.0009482481 &  0.0059203569\\\\\n",
       "\t14 &  0.0167770167 & -0.0021388298\\\\\n",
       "\t15 & -0.0179281942 & -0.0040538814\\\\\n",
       "\t16 & -0.0049089113 &  0.0006012269\\\\\n",
       "\t17 &  0.0077338761 &  0.0001506899\\\\\n",
       "\t18 & -0.0069764003 &  0.0042390638\\\\\n",
       "\t19 & -0.0028437227 & -0.0017892155\\\\\n",
       "\t20 & -0.0048768742 & -0.0003676657\\\\\n",
       "\t21 & -0.0066815050 &  0.0007697589\\\\\n",
       "\t22 &  0.0008013595 & -0.0001951711\\\\\n",
       "\t23 &  0.0125164045 & -0.0016694611\\\\\n",
       "\t24 &  0.0080866005 &  0.0036963239\\\\\n",
       "\t25 &  0.0017979830 & -0.0034428843\\\\\n",
       "\t26 & -0.0113766783 & -0.0014702675\\\\\n",
       "\t27 & -0.0021633700 &  0.0007021785\\\\\n",
       "\t28 & -0.0085726238 &  0.0008563092\\\\\n",
       "\t29 &  0.0096522235 & -0.0019447618\\\\\n",
       "\t30 &  0.0118369422 &  0.0028290013\\\\\n",
       "\t31 &  0.0065843996 &  0.0056266654\\\\\n",
       "\t... & ... & ...\\\\\n",
       "\t180 & -0.0005282728 & -7.132262e-03\\\\\n",
       "\t181 & -0.0090965745 &  3.847978e-03\\\\\n",
       "\t182 &  0.0140540628 &  2.106278e-03\\\\\n",
       "\t183 & -0.0041287600 &  2.932636e-03\\\\\n",
       "\t184 & -0.0041416316 &  3.683102e-03\\\\\n",
       "\t185 &  0.0120199318 & -2.642333e-03\\\\\n",
       "\t186 &  0.0038363517 & -4.367285e-03\\\\\n",
       "\t187 &  0.0039565767 &  2.374003e-03\\\\\n",
       "\t188 &  0.0042428763 &  4.718685e-03\\\\\n",
       "\t189 &  0.0167240747 &  2.222259e-03\\\\\n",
       "\t190 &  0.0040921422 & -3.021444e-03\\\\\n",
       "\t191 &  0.0287132923 &  1.309979e-03\\\\\n",
       "\t192 & -0.0114825210 &  1.352910e-02\\\\\n",
       "\t193 &  0.0106534916 &  2.415629e-03\\\\\n",
       "\t194 & -0.0142416815 &  8.738128e-03\\\\\n",
       "\t195 & -0.0168936560 & -7.748718e-03\\\\\n",
       "\t196 &  0.0170127209 &  1.043825e-02\\\\\n",
       "\t197 & -0.0023827462 &  1.705699e-03\\\\\n",
       "\t198 & -0.0117229328 & -9.469945e-05\\\\\n",
       "\t199 & -0.0263962726 &  9.244904e-03\\\\\n",
       "\t200 &  0.0239591471 & -3.191993e-04\\\\\n",
       "\t201 & -0.0131948864 & -1.820130e-03\\\\\n",
       "\t202 &  0.0164948364 & -7.740744e-04\\\\\n",
       "\t203 &  0.0040378841 &  1.437431e-03\\\\\n",
       "\t204 &  0.0434980091 &  5.523265e-03\\\\\n",
       "\t205 &  0.0014873380 &  4.331151e-03\\\\\n",
       "\t206 & -0.0052284173 &  2.416643e-03\\\\\n",
       "\t207 & -0.0005410443 &  4.535863e-03\\\\\n",
       "\t208 &  0.0212606428 &  5.870904e-03\\\\\n",
       "\t209 &  0.0004218616 &  5.840489e-03\\\\\n",
       "\\end{tabular}\n"
      ],
      "text/markdown": [
       "\n",
       "A matrix: 208 × 2 of type dbl\n",
       "\n",
       "| <!--/--> | Comp.1 | Comp.2 |\n",
       "|---|---|---|\n",
       "| 2 | -0.0010133629 | -0.0014999750 |\n",
       "| 3 | -0.0006067909 |  0.0020122557 |\n",
       "| 4 |  0.0054039694 | -0.0006699329 |\n",
       "| 5 | -0.0107083224 |  0.0042348343 |\n",
       "| 6 | -0.0029639914 | -0.0027713995 |\n",
       "| 7 | -0.0134135066 |  0.0027898480 |\n",
       "| 8 |  0.0062592469 | -0.0003774793 |\n",
       "| 9 |  0.0057672171 |  0.0059965248 |\n",
       "| 10 |  0.0207177497 |  0.0035606578 |\n",
       "| 11 |  0.0003116482 |  0.0003285832 |\n",
       "| 12 | -0.0005483813 | -0.0026362780 |\n",
       "| 13 |  0.0009482481 |  0.0059203569 |\n",
       "| 14 |  0.0167770167 | -0.0021388298 |\n",
       "| 15 | -0.0179281942 | -0.0040538814 |\n",
       "| 16 | -0.0049089113 |  0.0006012269 |\n",
       "| 17 |  0.0077338761 |  0.0001506899 |\n",
       "| 18 | -0.0069764003 |  0.0042390638 |\n",
       "| 19 | -0.0028437227 | -0.0017892155 |\n",
       "| 20 | -0.0048768742 | -0.0003676657 |\n",
       "| 21 | -0.0066815050 |  0.0007697589 |\n",
       "| 22 |  0.0008013595 | -0.0001951711 |\n",
       "| 23 |  0.0125164045 | -0.0016694611 |\n",
       "| 24 |  0.0080866005 |  0.0036963239 |\n",
       "| 25 |  0.0017979830 | -0.0034428843 |\n",
       "| 26 | -0.0113766783 | -0.0014702675 |\n",
       "| 27 | -0.0021633700 |  0.0007021785 |\n",
       "| 28 | -0.0085726238 |  0.0008563092 |\n",
       "| 29 |  0.0096522235 | -0.0019447618 |\n",
       "| 30 |  0.0118369422 |  0.0028290013 |\n",
       "| 31 |  0.0065843996 |  0.0056266654 |\n",
       "| ... | ... | ... |\n",
       "| 180 | -0.0005282728 | -7.132262e-03 |\n",
       "| 181 | -0.0090965745 |  3.847978e-03 |\n",
       "| 182 |  0.0140540628 |  2.106278e-03 |\n",
       "| 183 | -0.0041287600 |  2.932636e-03 |\n",
       "| 184 | -0.0041416316 |  3.683102e-03 |\n",
       "| 185 |  0.0120199318 | -2.642333e-03 |\n",
       "| 186 |  0.0038363517 | -4.367285e-03 |\n",
       "| 187 |  0.0039565767 |  2.374003e-03 |\n",
       "| 188 |  0.0042428763 |  4.718685e-03 |\n",
       "| 189 |  0.0167240747 |  2.222259e-03 |\n",
       "| 190 |  0.0040921422 | -3.021444e-03 |\n",
       "| 191 |  0.0287132923 |  1.309979e-03 |\n",
       "| 192 | -0.0114825210 |  1.352910e-02 |\n",
       "| 193 |  0.0106534916 |  2.415629e-03 |\n",
       "| 194 | -0.0142416815 |  8.738128e-03 |\n",
       "| 195 | -0.0168936560 | -7.748718e-03 |\n",
       "| 196 |  0.0170127209 |  1.043825e-02 |\n",
       "| 197 | -0.0023827462 |  1.705699e-03 |\n",
       "| 198 | -0.0117229328 | -9.469945e-05 |\n",
       "| 199 | -0.0263962726 |  9.244904e-03 |\n",
       "| 200 |  0.0239591471 | -3.191993e-04 |\n",
       "| 201 | -0.0131948864 | -1.820130e-03 |\n",
       "| 202 |  0.0164948364 | -7.740744e-04 |\n",
       "| 203 |  0.0040378841 |  1.437431e-03 |\n",
       "| 204 |  0.0434980091 |  5.523265e-03 |\n",
       "| 205 |  0.0014873380 |  4.331151e-03 |\n",
       "| 206 | -0.0052284173 |  2.416643e-03 |\n",
       "| 207 | -0.0005410443 |  4.535863e-03 |\n",
       "| 208 |  0.0212606428 |  5.870904e-03 |\n",
       "| 209 |  0.0004218616 |  5.840489e-03 |\n",
       "\n"
      ],
      "text/plain": [
       "    Comp.1        Comp.2       \n",
       "2   -0.0010133629 -0.0014999750\n",
       "3   -0.0006067909  0.0020122557\n",
       "4    0.0054039694 -0.0006699329\n",
       "5   -0.0107083224  0.0042348343\n",
       "6   -0.0029639914 -0.0027713995\n",
       "7   -0.0134135066  0.0027898480\n",
       "8    0.0062592469 -0.0003774793\n",
       "9    0.0057672171  0.0059965248\n",
       "10   0.0207177497  0.0035606578\n",
       "11   0.0003116482  0.0003285832\n",
       "12  -0.0005483813 -0.0026362780\n",
       "13   0.0009482481  0.0059203569\n",
       "14   0.0167770167 -0.0021388298\n",
       "15  -0.0179281942 -0.0040538814\n",
       "16  -0.0049089113  0.0006012269\n",
       "17   0.0077338761  0.0001506899\n",
       "18  -0.0069764003  0.0042390638\n",
       "19  -0.0028437227 -0.0017892155\n",
       "20  -0.0048768742 -0.0003676657\n",
       "21  -0.0066815050  0.0007697589\n",
       "22   0.0008013595 -0.0001951711\n",
       "23   0.0125164045 -0.0016694611\n",
       "24   0.0080866005  0.0036963239\n",
       "25   0.0017979830 -0.0034428843\n",
       "26  -0.0113766783 -0.0014702675\n",
       "27  -0.0021633700  0.0007021785\n",
       "28  -0.0085726238  0.0008563092\n",
       "29   0.0096522235 -0.0019447618\n",
       "30   0.0118369422  0.0028290013\n",
       "31   0.0065843996  0.0056266654\n",
       "... ...           ...          \n",
       "180 -0.0005282728 -7.132262e-03\n",
       "181 -0.0090965745  3.847978e-03\n",
       "182  0.0140540628  2.106278e-03\n",
       "183 -0.0041287600  2.932636e-03\n",
       "184 -0.0041416316  3.683102e-03\n",
       "185  0.0120199318 -2.642333e-03\n",
       "186  0.0038363517 -4.367285e-03\n",
       "187  0.0039565767  2.374003e-03\n",
       "188  0.0042428763  4.718685e-03\n",
       "189  0.0167240747  2.222259e-03\n",
       "190  0.0040921422 -3.021444e-03\n",
       "191  0.0287132923  1.309979e-03\n",
       "192 -0.0114825210  1.352910e-02\n",
       "193  0.0106534916  2.415629e-03\n",
       "194 -0.0142416815  8.738128e-03\n",
       "195 -0.0168936560 -7.748718e-03\n",
       "196  0.0170127209  1.043825e-02\n",
       "197 -0.0023827462  1.705699e-03\n",
       "198 -0.0117229328 -9.469945e-05\n",
       "199 -0.0263962726  9.244904e-03\n",
       "200  0.0239591471 -3.191993e-04\n",
       "201 -0.0131948864 -1.820130e-03\n",
       "202  0.0164948364 -7.740744e-04\n",
       "203  0.0040378841  1.437431e-03\n",
       "204  0.0434980091  5.523265e-03\n",
       "205  0.0014873380  4.331151e-03\n",
       "206 -0.0052284173  2.416643e-03\n",
       "207 -0.0005410443  4.535863e-03\n",
       "208  0.0212606428  5.870904e-03\n",
       "209  0.0004218616  5.840489e-03"
      ]
     },
     "metadata": {},
     "output_type": "display_data"
    }
   ],
   "source": [
    "best_components"
   ]
  },
  {
   "cell_type": "code",
   "execution_count": 11,
   "id": "996b192e",
   "metadata": {},
   "outputs": [],
   "source": [
    "librerias <- c(\"forecast\",\"xts\",\"rugarch\",\"timeSeries\",\"ggplot2\",\"astsa\",\"scales\",\"lubridate\",\"reshape2\",\"quantmod\",\"xtable\",\"tseries\")"
   ]
  },
  {
   "cell_type": "code",
   "execution_count": 12,
   "id": "4aac25c2",
   "metadata": {},
   "outputs": [
    {
     "name": "stderr",
     "output_type": "stream",
     "text": [
      "Warning message:\n",
      "\"package 'forecast' was built under R version 3.6.3\"Registered S3 method overwritten by 'xts':\n",
      "  method     from\n",
      "  as.zoo.xts zoo \n",
      "Registered S3 method overwritten by 'quantmod':\n",
      "  method            from\n",
      "  as.zoo.data.frame zoo \n",
      "Warning message:\n",
      "\"package 'zoo' was built under R version 3.6.3\"\n",
      "Attaching package: 'zoo'\n",
      "\n",
      "The following objects are masked from 'package:base':\n",
      "\n",
      "    as.Date, as.Date.numeric\n",
      "\n",
      "Warning message:\n",
      "\"package 'rugarch' was built under R version 3.6.3\"\n",
      "Attaching package: 'rugarch'\n",
      "\n",
      "The following object is masked from 'package:stats':\n",
      "\n",
      "    sigma\n",
      "\n",
      "Warning message:\n",
      "\"package 'timeSeries' was built under R version 3.6.3\"Warning message:\n",
      "\"package 'timeDate' was built under R version 3.6.2\"\n",
      "Attaching package: 'timeSeries'\n",
      "\n",
      "The following object is masked from 'package:zoo':\n",
      "\n",
      "    time<-\n",
      "\n",
      "\n",
      "Attaching package: 'astsa'\n",
      "\n",
      "The following object is masked from 'package:forecast':\n",
      "\n",
      "    gas\n",
      "\n",
      "Warning message:\n",
      "\"package 'scales' was built under R version 3.6.3\"Warning message:\n",
      "\"package 'reshape2' was built under R version 3.6.3\"Version 0.4-0 included new data defaults. See ?getSymbols.\n",
      "Warning message:\n",
      "\"package 'xtable' was built under R version 3.6.3\"\n",
      "Attaching package: 'xtable'\n",
      "\n",
      "The following object is masked from 'package:timeSeries':\n",
      "\n",
      "    align\n",
      "\n",
      "The following object is masked from 'package:timeDate':\n",
      "\n",
      "    align\n",
      "\n",
      "Warning message:\n",
      "\"package 'tseries' was built under R version 3.6.3\""
     ]
    }
   ],
   "source": [
    "if(length(setdiff(librerias, rownames(installed.packages()))) > 0){\n",
    "  install.packages(setdiff(librerias, rownames(installed.packages())))}\n",
    "invisible(sapply(librerias, require, character.only = TRUE,quietly = TRUE))"
   ]
  },
  {
   "cell_type": "code",
   "execution_count": 14,
   "id": "6c1f4a8d",
   "metadata": {},
   "outputs": [
    {
     "data": {
      "text/plain": [
       "\n",
       "\tBox-Pierce test\n",
       "\n",
       "data:  Arima_1$residuals\n",
       "X-squared = 0.0027584, df = 1, p-value = 0.9581\n"
      ]
     },
     "metadata": {},
     "output_type": "display_data"
    },
    {
     "data": {
      "text/plain": [
       "\n",
       "\tBox-Pierce test\n",
       "\n",
       "data:  Arima_2$residuals\n",
       "X-squared = 0.022699, df = 1, p-value = 0.8802\n"
      ]
     },
     "metadata": {},
     "output_type": "display_data"
    }
   ],
   "source": [
    "Arima_1 <- auto.arima(best_components[,1],stepwise = F,approximation = F)\n",
    "Box.test(Arima_1$residuals)\n",
    "Arima_2 <- auto.arima(best_components[,2],stepwise = F,approximation = F)\n",
    "Box.test(Arima_2$residuals)"
   ]
  },
  {
   "cell_type": "markdown",
   "id": "0605c47b",
   "metadata": {},
   "source": [
    "Simulaciones al futuro"
   ]
  },
  {
   "cell_type": "code",
   "execution_count": 15,
   "id": "faae22f1",
   "metadata": {},
   "outputs": [],
   "source": [
    "future <- 52\n",
    "simulations <- 1000\n",
    "Sim_component_1 <- replicate(expr = simulate(object = Arima_1,nsim = future),n = simulations)\n",
    "Sim_component_2 <- replicate(expr = simulate(object = Arima_2,nsim = future),n = simulations)\n",
    "for (sim in 1:simulations){\n",
    "        nam <- paste(\"S\", sim, sep = \"_\")\n",
    "        assign(nam, cbind(Sim_component_1[,sim] , Sim_component_2[,sim]))\n",
    "}"
   ]
  },
  {
   "cell_type": "code",
   "execution_count": 17,
   "id": "29d38f90",
   "metadata": {},
   "outputs": [
    {
     "data": {
      "text/html": [
       "<table class=\"dataframe\">\n",
       "<caption>A matrix: 52 × 2 of type dbl</caption>\n",
       "<tbody>\n",
       "\t<tr><th scope=row></th><td> 0.0358589962</td><td> 6.034971e-04</td></tr>\n",
       "\t<tr><th scope=row></th><td>-0.0088991189</td><td> 9.009222e-03</td></tr>\n",
       "\t<tr><th scope=row></th><td>-0.0058358649</td><td> 9.508562e-03</td></tr>\n",
       "\t<tr><th scope=row></th><td>-0.0050305032</td><td>-3.087159e-03</td></tr>\n",
       "\t<tr><th scope=row></th><td>-0.0029199330</td><td> 6.709224e-03</td></tr>\n",
       "\t<tr><th scope=row></th><td> 0.0086950866</td><td>-3.074918e-03</td></tr>\n",
       "\t<tr><th scope=row></th><td>-0.0091219235</td><td>-3.132309e-03</td></tr>\n",
       "\t<tr><th scope=row></th><td>-0.0034793557</td><td> 1.183359e-02</td></tr>\n",
       "\t<tr><th scope=row></th><td>-0.0245180468</td><td>-2.009493e-03</td></tr>\n",
       "\t<tr><th scope=row></th><td> 0.0120605487</td><td>-3.134490e-03</td></tr>\n",
       "\t<tr><th scope=row></th><td>-0.0405953685</td><td> 1.208458e-02</td></tr>\n",
       "\t<tr><th scope=row></th><td> 0.0029533149</td><td> 7.974328e-03</td></tr>\n",
       "\t<tr><th scope=row></th><td>-0.0001567329</td><td> 7.776450e-03</td></tr>\n",
       "\t<tr><th scope=row></th><td>-0.0323989110</td><td> 4.272519e-04</td></tr>\n",
       "\t<tr><th scope=row></th><td> 0.0018712497</td><td> 6.219125e-03</td></tr>\n",
       "\t<tr><th scope=row></th><td>-0.0045946891</td><td> 1.683014e-03</td></tr>\n",
       "\t<tr><th scope=row></th><td> 0.0026857589</td><td> 3.105265e-03</td></tr>\n",
       "\t<tr><th scope=row></th><td> 0.0001596162</td><td>-2.466473e-03</td></tr>\n",
       "\t<tr><th scope=row></th><td> 0.0394703793</td><td>-4.030133e-03</td></tr>\n",
       "\t<tr><th scope=row></th><td>-0.0070501073</td><td> 5.622033e-03</td></tr>\n",
       "\t<tr><th scope=row></th><td>-0.0174743749</td><td> 3.700291e-03</td></tr>\n",
       "\t<tr><th scope=row></th><td>-0.0072606816</td><td> 3.141159e-03</td></tr>\n",
       "\t<tr><th scope=row></th><td> 0.0116060007</td><td>-7.041607e-03</td></tr>\n",
       "\t<tr><th scope=row></th><td> 0.0057181667</td><td> 3.270817e-03</td></tr>\n",
       "\t<tr><th scope=row></th><td>-0.0176035320</td><td> 6.135004e-03</td></tr>\n",
       "\t<tr><th scope=row></th><td> 0.0182743638</td><td> 6.004338e-03</td></tr>\n",
       "\t<tr><th scope=row></th><td> 0.0005284956</td><td> 5.452158e-03</td></tr>\n",
       "\t<tr><th scope=row></th><td>-0.0338117064</td><td> 4.790331e-03</td></tr>\n",
       "\t<tr><th scope=row></th><td>-0.0056179223</td><td> 4.442251e-03</td></tr>\n",
       "\t<tr><th scope=row></th><td>-0.0184274003</td><td> 7.278777e-03</td></tr>\n",
       "\t<tr><th scope=row></th><td> 0.0175832996</td><td> 8.896234e-03</td></tr>\n",
       "\t<tr><th scope=row></th><td>-0.0311905483</td><td> 3.201002e-03</td></tr>\n",
       "\t<tr><th scope=row></th><td> 0.0302943347</td><td> 5.607686e-03</td></tr>\n",
       "\t<tr><th scope=row></th><td> 0.0058965013</td><td>-6.755496e-04</td></tr>\n",
       "\t<tr><th scope=row></th><td>-0.0147611307</td><td> 3.409269e-03</td></tr>\n",
       "\t<tr><th scope=row></th><td>-0.0278617904</td><td> 2.607025e-05</td></tr>\n",
       "\t<tr><th scope=row></th><td> 0.0181872711</td><td> 3.387891e-03</td></tr>\n",
       "\t<tr><th scope=row></th><td>-0.0037243728</td><td>-9.726790e-04</td></tr>\n",
       "\t<tr><th scope=row></th><td> 0.0082701943</td><td> 3.665076e-03</td></tr>\n",
       "\t<tr><th scope=row></th><td> 0.0169247261</td><td> 5.297347e-03</td></tr>\n",
       "\t<tr><th scope=row></th><td> 0.0177842638</td><td> 3.197874e-03</td></tr>\n",
       "\t<tr><th scope=row></th><td>-0.0063926175</td><td> 3.656212e-03</td></tr>\n",
       "\t<tr><th scope=row></th><td> 0.0220206589</td><td> 4.193163e-03</td></tr>\n",
       "\t<tr><th scope=row></th><td> 0.0042823313</td><td> 5.209145e-03</td></tr>\n",
       "\t<tr><th scope=row></th><td>-0.0101951744</td><td> 4.545519e-03</td></tr>\n",
       "\t<tr><th scope=row></th><td> 0.0066041046</td><td> 5.388789e-03</td></tr>\n",
       "\t<tr><th scope=row></th><td> 0.0117247410</td><td>-1.142149e-03</td></tr>\n",
       "\t<tr><th scope=row></th><td> 0.0078337059</td><td> 7.067746e-03</td></tr>\n",
       "\t<tr><th scope=row></th><td> 0.0140584036</td><td>-3.150286e-03</td></tr>\n",
       "\t<tr><th scope=row></th><td>-0.0050364452</td><td> 1.321071e-02</td></tr>\n",
       "\t<tr><th scope=row></th><td> 0.0051101538</td><td> 6.452837e-03</td></tr>\n",
       "\t<tr><th scope=row></th><td> 0.0191963621</td><td> 2.762292e-03</td></tr>\n",
       "</tbody>\n",
       "</table>\n"
      ],
      "text/latex": [
       "A matrix: 52 × 2 of type dbl\n",
       "\\begin{tabular}{r|ll}\n",
       "\t &  0.0358589962 &  6.034971e-04\\\\\n",
       "\t & -0.0088991189 &  9.009222e-03\\\\\n",
       "\t & -0.0058358649 &  9.508562e-03\\\\\n",
       "\t & -0.0050305032 & -3.087159e-03\\\\\n",
       "\t & -0.0029199330 &  6.709224e-03\\\\\n",
       "\t &  0.0086950866 & -3.074918e-03\\\\\n",
       "\t & -0.0091219235 & -3.132309e-03\\\\\n",
       "\t & -0.0034793557 &  1.183359e-02\\\\\n",
       "\t & -0.0245180468 & -2.009493e-03\\\\\n",
       "\t &  0.0120605487 & -3.134490e-03\\\\\n",
       "\t & -0.0405953685 &  1.208458e-02\\\\\n",
       "\t &  0.0029533149 &  7.974328e-03\\\\\n",
       "\t & -0.0001567329 &  7.776450e-03\\\\\n",
       "\t & -0.0323989110 &  4.272519e-04\\\\\n",
       "\t &  0.0018712497 &  6.219125e-03\\\\\n",
       "\t & -0.0045946891 &  1.683014e-03\\\\\n",
       "\t &  0.0026857589 &  3.105265e-03\\\\\n",
       "\t &  0.0001596162 & -2.466473e-03\\\\\n",
       "\t &  0.0394703793 & -4.030133e-03\\\\\n",
       "\t & -0.0070501073 &  5.622033e-03\\\\\n",
       "\t & -0.0174743749 &  3.700291e-03\\\\\n",
       "\t & -0.0072606816 &  3.141159e-03\\\\\n",
       "\t &  0.0116060007 & -7.041607e-03\\\\\n",
       "\t &  0.0057181667 &  3.270817e-03\\\\\n",
       "\t & -0.0176035320 &  6.135004e-03\\\\\n",
       "\t &  0.0182743638 &  6.004338e-03\\\\\n",
       "\t &  0.0005284956 &  5.452158e-03\\\\\n",
       "\t & -0.0338117064 &  4.790331e-03\\\\\n",
       "\t & -0.0056179223 &  4.442251e-03\\\\\n",
       "\t & -0.0184274003 &  7.278777e-03\\\\\n",
       "\t &  0.0175832996 &  8.896234e-03\\\\\n",
       "\t & -0.0311905483 &  3.201002e-03\\\\\n",
       "\t &  0.0302943347 &  5.607686e-03\\\\\n",
       "\t &  0.0058965013 & -6.755496e-04\\\\\n",
       "\t & -0.0147611307 &  3.409269e-03\\\\\n",
       "\t & -0.0278617904 &  2.607025e-05\\\\\n",
       "\t &  0.0181872711 &  3.387891e-03\\\\\n",
       "\t & -0.0037243728 & -9.726790e-04\\\\\n",
       "\t &  0.0082701943 &  3.665076e-03\\\\\n",
       "\t &  0.0169247261 &  5.297347e-03\\\\\n",
       "\t &  0.0177842638 &  3.197874e-03\\\\\n",
       "\t & -0.0063926175 &  3.656212e-03\\\\\n",
       "\t &  0.0220206589 &  4.193163e-03\\\\\n",
       "\t &  0.0042823313 &  5.209145e-03\\\\\n",
       "\t & -0.0101951744 &  4.545519e-03\\\\\n",
       "\t &  0.0066041046 &  5.388789e-03\\\\\n",
       "\t &  0.0117247410 & -1.142149e-03\\\\\n",
       "\t &  0.0078337059 &  7.067746e-03\\\\\n",
       "\t &  0.0140584036 & -3.150286e-03\\\\\n",
       "\t & -0.0050364452 &  1.321071e-02\\\\\n",
       "\t &  0.0051101538 &  6.452837e-03\\\\\n",
       "\t &  0.0191963621 &  2.762292e-03\\\\\n",
       "\\end{tabular}\n"
      ],
      "text/markdown": [
       "\n",
       "A matrix: 52 × 2 of type dbl\n",
       "\n",
       "| <!----> |  0.0358589962 |  6.034971e-04 |\n",
       "| <!----> | -0.0088991189 |  9.009222e-03 |\n",
       "| <!----> | -0.0058358649 |  9.508562e-03 |\n",
       "| <!----> | -0.0050305032 | -3.087159e-03 |\n",
       "| <!----> | -0.0029199330 |  6.709224e-03 |\n",
       "| <!----> |  0.0086950866 | -3.074918e-03 |\n",
       "| <!----> | -0.0091219235 | -3.132309e-03 |\n",
       "| <!----> | -0.0034793557 |  1.183359e-02 |\n",
       "| <!----> | -0.0245180468 | -2.009493e-03 |\n",
       "| <!----> |  0.0120605487 | -3.134490e-03 |\n",
       "| <!----> | -0.0405953685 |  1.208458e-02 |\n",
       "| <!----> |  0.0029533149 |  7.974328e-03 |\n",
       "| <!----> | -0.0001567329 |  7.776450e-03 |\n",
       "| <!----> | -0.0323989110 |  4.272519e-04 |\n",
       "| <!----> |  0.0018712497 |  6.219125e-03 |\n",
       "| <!----> | -0.0045946891 |  1.683014e-03 |\n",
       "| <!----> |  0.0026857589 |  3.105265e-03 |\n",
       "| <!----> |  0.0001596162 | -2.466473e-03 |\n",
       "| <!----> |  0.0394703793 | -4.030133e-03 |\n",
       "| <!----> | -0.0070501073 |  5.622033e-03 |\n",
       "| <!----> | -0.0174743749 |  3.700291e-03 |\n",
       "| <!----> | -0.0072606816 |  3.141159e-03 |\n",
       "| <!----> |  0.0116060007 | -7.041607e-03 |\n",
       "| <!----> |  0.0057181667 |  3.270817e-03 |\n",
       "| <!----> | -0.0176035320 |  6.135004e-03 |\n",
       "| <!----> |  0.0182743638 |  6.004338e-03 |\n",
       "| <!----> |  0.0005284956 |  5.452158e-03 |\n",
       "| <!----> | -0.0338117064 |  4.790331e-03 |\n",
       "| <!----> | -0.0056179223 |  4.442251e-03 |\n",
       "| <!----> | -0.0184274003 |  7.278777e-03 |\n",
       "| <!----> |  0.0175832996 |  8.896234e-03 |\n",
       "| <!----> | -0.0311905483 |  3.201002e-03 |\n",
       "| <!----> |  0.0302943347 |  5.607686e-03 |\n",
       "| <!----> |  0.0058965013 | -6.755496e-04 |\n",
       "| <!----> | -0.0147611307 |  3.409269e-03 |\n",
       "| <!----> | -0.0278617904 |  2.607025e-05 |\n",
       "| <!----> |  0.0181872711 |  3.387891e-03 |\n",
       "| <!----> | -0.0037243728 | -9.726790e-04 |\n",
       "| <!----> |  0.0082701943 |  3.665076e-03 |\n",
       "| <!----> |  0.0169247261 |  5.297347e-03 |\n",
       "| <!----> |  0.0177842638 |  3.197874e-03 |\n",
       "| <!----> | -0.0063926175 |  3.656212e-03 |\n",
       "| <!----> |  0.0220206589 |  4.193163e-03 |\n",
       "| <!----> |  0.0042823313 |  5.209145e-03 |\n",
       "| <!----> | -0.0101951744 |  4.545519e-03 |\n",
       "| <!----> |  0.0066041046 |  5.388789e-03 |\n",
       "| <!----> |  0.0117247410 | -1.142149e-03 |\n",
       "| <!----> |  0.0078337059 |  7.067746e-03 |\n",
       "| <!----> |  0.0140584036 | -3.150286e-03 |\n",
       "| <!----> | -0.0050364452 |  1.321071e-02 |\n",
       "| <!----> |  0.0051101538 |  6.452837e-03 |\n",
       "| <!----> |  0.0191963621 |  2.762292e-03 |\n",
       "\n"
      ],
      "text/plain": [
       " [,1]          [,2]         \n",
       "  0.0358589962  6.034971e-04\n",
       " -0.0088991189  9.009222e-03\n",
       " -0.0058358649  9.508562e-03\n",
       " -0.0050305032 -3.087159e-03\n",
       " -0.0029199330  6.709224e-03\n",
       "  0.0086950866 -3.074918e-03\n",
       " -0.0091219235 -3.132309e-03\n",
       " -0.0034793557  1.183359e-02\n",
       " -0.0245180468 -2.009493e-03\n",
       "  0.0120605487 -3.134490e-03\n",
       " -0.0405953685  1.208458e-02\n",
       "  0.0029533149  7.974328e-03\n",
       " -0.0001567329  7.776450e-03\n",
       " -0.0323989110  4.272519e-04\n",
       "  0.0018712497  6.219125e-03\n",
       " -0.0045946891  1.683014e-03\n",
       "  0.0026857589  3.105265e-03\n",
       "  0.0001596162 -2.466473e-03\n",
       "  0.0394703793 -4.030133e-03\n",
       " -0.0070501073  5.622033e-03\n",
       " -0.0174743749  3.700291e-03\n",
       " -0.0072606816  3.141159e-03\n",
       "  0.0116060007 -7.041607e-03\n",
       "  0.0057181667  3.270817e-03\n",
       " -0.0176035320  6.135004e-03\n",
       "  0.0182743638  6.004338e-03\n",
       "  0.0005284956  5.452158e-03\n",
       " -0.0338117064  4.790331e-03\n",
       " -0.0056179223  4.442251e-03\n",
       " -0.0184274003  7.278777e-03\n",
       "  0.0175832996  8.896234e-03\n",
       " -0.0311905483  3.201002e-03\n",
       "  0.0302943347  5.607686e-03\n",
       "  0.0058965013 -6.755496e-04\n",
       " -0.0147611307  3.409269e-03\n",
       " -0.0278617904  2.607025e-05\n",
       "  0.0181872711  3.387891e-03\n",
       " -0.0037243728 -9.726790e-04\n",
       "  0.0082701943  3.665076e-03\n",
       "  0.0169247261  5.297347e-03\n",
       "  0.0177842638  3.197874e-03\n",
       " -0.0063926175  3.656212e-03\n",
       "  0.0220206589  4.193163e-03\n",
       "  0.0042823313  5.209145e-03\n",
       " -0.0101951744  4.545519e-03\n",
       "  0.0066041046  5.388789e-03\n",
       "  0.0117247410 -1.142149e-03\n",
       "  0.0078337059  7.067746e-03\n",
       "  0.0140584036 -3.150286e-03\n",
       " -0.0050364452  1.321071e-02\n",
       "  0.0051101538  6.452837e-03\n",
       "  0.0191963621  2.762292e-03"
      ]
     },
     "metadata": {},
     "output_type": "display_data"
    }
   ],
   "source": [
    "for (sim in 1:simulations){\n",
    "        nam <- paste(\"S\", sim, sep = \"_\")\n",
    "        assign(nam, cbind(Sim_component_1[,sim] , Sim_component_2[,sim]))\n",
    "}\n",
    "S_1"
   ]
  }
 ],
 "metadata": {
  "kernelspec": {
   "display_name": "R",
   "language": "R",
   "name": "ir"
  },
  "language_info": {
   "codemirror_mode": "r",
   "file_extension": ".r",
   "mimetype": "text/x-r-source",
   "name": "R",
   "pygments_lexer": "r",
   "version": "3.6.1"
  }
 },
 "nbformat": 4,
 "nbformat_minor": 5
}
