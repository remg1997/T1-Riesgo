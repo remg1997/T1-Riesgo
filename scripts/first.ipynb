{
 "cells": [
  {
   "cell_type": "code",
   "execution_count": 1,
   "id": "f0afcc4e-e98c-48ad-b51f-f6dc2b1c3226",
   "metadata": {},
   "outputs": [
    {
     "name": "stderr",
     "output_type": "stream",
     "text": [
      "Warning message:\n",
      "\"package 'readxl' was built under R version 3.6.3\""
     ]
    }
   ],
   "source": [
    "library(\"readxl\")"
   ]
  },
  {
   "cell_type": "code",
   "execution_count": 2,
   "id": "d18f324a-67d1-44be-aae4-6da1209ff9c8",
   "metadata": {},
   "outputs": [
    {
     "name": "stderr",
     "output_type": "stream",
     "text": [
      "Warning message:\n",
      "\"package 'lubridate' was built under R version 3.6.3\"\n",
      "Attaching package: 'lubridate'\n",
      "\n",
      "The following objects are masked from 'package:base':\n",
      "\n",
      "    date, intersect, setdiff, union\n",
      "\n",
      "Warning message:\n",
      "\"package 'tidyr' was built under R version 3.6.3\""
     ]
    }
   ],
   "source": [
    "library(\"lubridate\")\n",
    "library('tidyr')\n",
    "library('ggplot2')"
   ]
  },
  {
   "cell_type": "code",
   "execution_count": 3,
   "id": "fd9a067d-bee2-44b6-97f5-5b0a841eacab",
   "metadata": {},
   "outputs": [
    {
     "data": {
      "text/html": [
       "<style>\n",
       ".list-inline {list-style: none; margin:0; padding: 0}\n",
       ".list-inline>li {display: inline-block}\n",
       ".list-inline>li:not(:last-child)::after {content: \"\\00b7\"; padding: 0 .5ex}\n",
       "</style>\n",
       "<ol class=list-inline><li>'.GlobalEnv'</li><li>'package:ggplot2'</li><li>'package:tidyr'</li><li>'package:lubridate'</li><li>'package:readxl'</li><li>'jupyter:irkernel'</li><li>'jupyter:irkernel'</li><li>'package:stats'</li><li>'package:graphics'</li><li>'package:grDevices'</li><li>'package:utils'</li><li>'package:datasets'</li><li>'package:methods'</li><li>'Autoloads'</li><li>'package:base'</li></ol>\n"
      ],
      "text/latex": [
       "\\begin{enumerate*}\n",
       "\\item '.GlobalEnv'\n",
       "\\item 'package:ggplot2'\n",
       "\\item 'package:tidyr'\n",
       "\\item 'package:lubridate'\n",
       "\\item 'package:readxl'\n",
       "\\item 'jupyter:irkernel'\n",
       "\\item 'jupyter:irkernel'\n",
       "\\item 'package:stats'\n",
       "\\item 'package:graphics'\n",
       "\\item 'package:grDevices'\n",
       "\\item 'package:utils'\n",
       "\\item 'package:datasets'\n",
       "\\item 'package:methods'\n",
       "\\item 'Autoloads'\n",
       "\\item 'package:base'\n",
       "\\end{enumerate*}\n"
      ],
      "text/markdown": [
       "1. '.GlobalEnv'\n",
       "2. 'package:ggplot2'\n",
       "3. 'package:tidyr'\n",
       "4. 'package:lubridate'\n",
       "5. 'package:readxl'\n",
       "6. 'jupyter:irkernel'\n",
       "7. 'jupyter:irkernel'\n",
       "8. 'package:stats'\n",
       "9. 'package:graphics'\n",
       "10. 'package:grDevices'\n",
       "11. 'package:utils'\n",
       "12. 'package:datasets'\n",
       "13. 'package:methods'\n",
       "14. 'Autoloads'\n",
       "15. 'package:base'\n",
       "\n",
       "\n"
      ],
      "text/plain": [
       " [1] \".GlobalEnv\"        \"package:ggplot2\"   \"package:tidyr\"    \n",
       " [4] \"package:lubridate\" \"package:readxl\"    \"jupyter:irkernel\" \n",
       " [7] \"jupyter:irkernel\"  \"package:stats\"     \"package:graphics\" \n",
       "[10] \"package:grDevices\" \"package:utils\"     \"package:datasets\" \n",
       "[13] \"package:methods\"   \"Autoloads\"         \"package:base\"     "
      ]
     },
     "metadata": {},
     "output_type": "display_data"
    }
   ],
   "source": [
    "search()"
   ]
  },
  {
   "cell_type": "code",
   "execution_count": 4,
   "id": "5ba0a704-f05a-4a5f-a80e-2af93790495f",
   "metadata": {},
   "outputs": [],
   "source": [
    "source(\"helpers.R\")"
   ]
  },
  {
   "cell_type": "code",
   "execution_count": 5,
   "id": "9f0daf38-b921-4bb5-8ae8-d7111b9c9888",
   "metadata": {},
   "outputs": [],
   "source": [
    "path <- \"../data/data.xlsx\""
   ]
  },
  {
   "cell_type": "code",
   "execution_count": 6,
   "id": "1273d7c3-de1a-4dd6-92b4-ac589352aecd",
   "metadata": {},
   "outputs": [],
   "source": [
    "df <- Dataframing(path)"
   ]
  },
  {
   "cell_type": "code",
   "execution_count": 7,
   "id": "4301fc67-fb5d-4370-9e65-45a7b97fb714",
   "metadata": {},
   "outputs": [],
   "source": [
    "df <- df[-c(210),]"
   ]
  },
  {
   "cell_type": "code",
   "execution_count": 8,
   "id": "fbe01fa1-e480-4471-b334-0c3f9b8d8bbe",
   "metadata": {},
   "outputs": [],
   "source": [
    "df$Date <- as.Date(df$Date)"
   ]
  },
  {
   "cell_type": "code",
   "execution_count": 9,
   "id": "4b94c154-5d47-4cc6-b0eb-6a950de33181",
   "metadata": {},
   "outputs": [],
   "source": [
    "firstYields <- df[df$Date == \"2022-02-11\",]"
   ]
  },
  {
   "cell_type": "code",
   "execution_count": 10,
   "id": "7086da3b-8eb5-4aef-bd27-988ebcf96117",
   "metadata": {},
   "outputs": [
    {
     "data": {
      "text/html": [
       "<table class=\"dataframe\">\n",
       "<caption>A data.frame: 1 × 9</caption>\n",
       "<thead>\n",
       "\t<tr><th></th><th scope=col>Date</th><th scope=col>10Y</th><th scope=col>7Y</th><th scope=col>5Y</th><th scope=col>3Y</th><th scope=col>2Y</th><th scope=col>1Y</th><th scope=col>6M</th><th scope=col>3M</th></tr>\n",
       "\t<tr><th></th><th scope=col>&lt;date&gt;</th><th scope=col>&lt;dbl&gt;</th><th scope=col>&lt;dbl&gt;</th><th scope=col>&lt;dbl&gt;</th><th scope=col>&lt;dbl&gt;</th><th scope=col>&lt;dbl&gt;</th><th scope=col>&lt;dbl&gt;</th><th scope=col>&lt;dbl&gt;</th><th scope=col>&lt;dbl&gt;</th></tr>\n",
       "</thead>\n",
       "<tbody>\n",
       "\t<tr><th scope=row>209</th><td>2022-02-11</td><td>1.941</td><td>1.94</td><td>1.856</td><td>1.728</td><td>1.505</td><td>1.029</td><td>0.692</td><td>0.359</td></tr>\n",
       "</tbody>\n",
       "</table>\n"
      ],
      "text/latex": [
       "A data.frame: 1 × 9\n",
       "\\begin{tabular}{r|lllllllll}\n",
       "  & Date & 10Y & 7Y & 5Y & 3Y & 2Y & 1Y & 6M & 3M\\\\\n",
       "  & <date> & <dbl> & <dbl> & <dbl> & <dbl> & <dbl> & <dbl> & <dbl> & <dbl>\\\\\n",
       "\\hline\n",
       "\t209 & 2022-02-11 & 1.941 & 1.94 & 1.856 & 1.728 & 1.505 & 1.029 & 0.692 & 0.359\\\\\n",
       "\\end{tabular}\n"
      ],
      "text/markdown": [
       "\n",
       "A data.frame: 1 × 9\n",
       "\n",
       "| <!--/--> | Date &lt;date&gt; | 10Y &lt;dbl&gt; | 7Y &lt;dbl&gt; | 5Y &lt;dbl&gt; | 3Y &lt;dbl&gt; | 2Y &lt;dbl&gt; | 1Y &lt;dbl&gt; | 6M &lt;dbl&gt; | 3M &lt;dbl&gt; |\n",
       "|---|---|---|---|---|---|---|---|---|---|\n",
       "| 209 | 2022-02-11 | 1.941 | 1.94 | 1.856 | 1.728 | 1.505 | 1.029 | 0.692 | 0.359 |\n",
       "\n"
      ],
      "text/plain": [
       "    Date       10Y   7Y   5Y    3Y    2Y    1Y    6M    3M   \n",
       "209 2022-02-11 1.941 1.94 1.856 1.728 1.505 1.029 0.692 0.359"
      ]
     },
     "metadata": {},
     "output_type": "display_data"
    }
   ],
   "source": [
    "firstYields"
   ]
  },
  {
   "cell_type": "markdown",
   "id": "9bb11ce8-5322-4e8d-94e3-24b70e8f874c",
   "metadata": {
    "tags": []
   },
   "source": [
    "#### Suponemos que: \n",
    "- $\\alpha_1$ representa la tasa forward entre 0 y 3 meses, \n",
    "- $\\alpha_2$ la tasa entre 3 meses y 1 año, \n",
    "- $\\alpha_3$ la tasa entre 1 y 3 años,\n",
    "- $\\alpha_4$ la tasa entre 3 y 5 años ,\n",
    "- $\\alpha_5$ la tasa entre 5 y 10 años. "
   ]
  },
  {
   "cell_type": "code",
   "execution_count": 11,
   "id": "2c2988b4-ca5a-4939-9c90-284a99ca4a24",
   "metadata": {},
   "outputs": [],
   "source": [
    "today <- firstYields$Date"
   ]
  },
  {
   "cell_type": "markdown",
   "id": "6332eca6-4725-4f2d-bc1f-b9a870a66bb4",
   "metadata": {
    "jp-MarkdownHeadingCollapsed": true,
    "tags": []
   },
   "source": [
    "#### Además, para traer a valor presente usando una curva forward, se sigue el factor de descuento a un plazo T es: "
   ]
  },
  {
   "cell_type": "markdown",
   "id": "9bae4002-2617-48f6-b0de-9ae6c48409ae",
   "metadata": {},
   "source": [
    "### $$ e^{-\\int_{0}^{T} f(t) \\,dt}$$"
   ]
  },
  {
   "cell_type": "markdown",
   "id": "28e8e0a4-27ee-497a-bdc5-754c4fd9956a",
   "metadata": {},
   "source": [
    "#### Definamos algunos objetos de utilidad. Cuántos cupones paga cada bono? Cómo ajustamos la tasa para cada pago?"
   ]
  },
  {
   "cell_type": "code",
   "execution_count": 12,
   "id": "6b2d359a-d534-45da-80f3-5b59d853b3eb",
   "metadata": {},
   "outputs": [],
   "source": [
    "alpha <- c(0.1,0.11,0.12,0.13,0.14)"
   ]
  },
  {
   "cell_type": "code",
   "execution_count": 13,
   "id": "81f5e08e-ea9d-4eb5-b77b-d3c0b97a53c1",
   "metadata": {},
   "outputs": [
    {
     "data": {
      "text/html": [
       "<style>\n",
       ".list-inline {list-style: none; margin:0; padding: 0}\n",
       ".list-inline>li {display: inline-block}\n",
       ".list-inline>li:not(:last-child)::after {content: \"\\00b7\"; padding: 0 .5ex}\n",
       "</style>\n",
       "<ol class=list-inline><li>0.1</li><li>0.11</li><li>0.12</li><li>0.13</li><li>0.14</li></ol>\n"
      ],
      "text/latex": [
       "\\begin{enumerate*}\n",
       "\\item 0.1\n",
       "\\item 0.11\n",
       "\\item 0.12\n",
       "\\item 0.13\n",
       "\\item 0.14\n",
       "\\end{enumerate*}\n"
      ],
      "text/markdown": [
       "1. 0.1\n",
       "2. 0.11\n",
       "3. 0.12\n",
       "4. 0.13\n",
       "5. 0.14\n",
       "\n",
       "\n"
      ],
      "text/plain": [
       "[1] 0.10 0.11 0.12 0.13 0.14"
      ]
     },
     "metadata": {},
     "output_type": "display_data"
    },
    {
     "data": {
      "image/png": "[encoded data removed]",
      "text/plain": [
       "Plot with title \"Alphas iniciales\""
      ]
     },
     "metadata": {},
     "output_type": "display_data"
    }
   ],
   "source": [
    "alpha\n",
    "xx <- c(1:120)\n",
    "aa <- alphacuts(alpha)\n",
    "plot(xx,aa, type= \"p\",\n",
    "            pch=22, \n",
    "            bg = \"navy\", \n",
    "            col = \"navy\", \n",
    "            main= \"Alphas iniciales\", \n",
    "            xlab = \"Meses\", \n",
    "            ylab = \"Alphas\")"
   ]
  },
  {
   "cell_type": "code",
   "execution_count": 14,
   "id": "59e4a6f7-faa9-4487-924f-d0ae2183bae8",
   "metadata": {},
   "outputs": [],
   "source": [
    "today = firstYields$Date"
   ]
  },
  {
   "cell_type": "code",
   "execution_count": 15,
   "id": "c70ad683-f043-40a1-8c79-c2b252a180c3",
   "metadata": {},
   "outputs": [
    {
     "data": {
      "text/html": [
       "100.019218183929"
      ],
      "text/latex": [
       "100.019218183929"
      ],
      "text/markdown": [
       "100.019218183929"
      ],
      "text/plain": [
       "[1] 100.0192"
      ]
     },
     "metadata": {},
     "output_type": "display_data"
    },
    {
     "data": {
      "text/html": [
       "0.0197046945709514"
      ],
      "text/latex": [
       "0.0197046945709514"
      ],
      "text/markdown": [
       "0.0197046945709514"
      ],
      "text/plain": [
       "[1] 0.01970469"
      ]
     },
     "metadata": {},
     "output_type": "display_data"
    },
    {
     "data": {
      "text/html": [
       "0.430324567535074"
      ],
      "text/latex": [
       "0.430324567535074"
      ],
      "text/markdown": [
       "0.430324567535074"
      ],
      "text/plain": [
       "[1] 0.4303246"
      ]
     },
     "metadata": {},
     "output_type": "display_data"
    }
   ],
   "source": [
    "threeMonthBond <- 100 + RateConverter(firstYields[[\"3M\"]],3,today)*DiscountFactor(alpha, 3)\n",
    "threeMonthBond\n",
    "RateConverter(firstYields[[\"3M\"]],3,today)\n",
    "\n",
    "RateConverter(firstYields[[\"1Y\"]],12,today)\n"
   ]
  },
  {
   "cell_type": "code",
   "execution_count": 16,
   "id": "49fcd4d8-e5f0-4a20-a6be-c88a6824e404",
   "metadata": {},
   "outputs": [],
   "source": [
    "sixMonthBond <- 100 + RateConverter(firstYields[[\"6M\"]], 6, today)*DiscountFactor(alpha, 6)"
   ]
  },
  {
   "cell_type": "code",
   "execution_count": 17,
   "id": "9be5d8b6-9a81-4afc-8886-3a0d41b3ec35",
   "metadata": {},
   "outputs": [
    {
     "data": {
      "text/html": [
       "100.143485723021"
      ],
      "text/latex": [
       "100.143485723021"
      ],
      "text/markdown": [
       "100.143485723021"
      ],
      "text/plain": [
       "[1] 100.1435"
      ]
     },
     "metadata": {},
     "output_type": "display_data"
    }
   ],
   "source": [
    "sixMonthBond"
   ]
  },
  {
   "cell_type": "code",
   "execution_count": 18,
   "id": "daf01f17-8f1a-4914-aaf2-f1e0a94d5b88",
   "metadata": {},
   "outputs": [],
   "source": [
    "oneYearBond <- 100 +  RateConverter(firstYields[[\"1Y\"]], 6, today) *DiscountFactor(alpha, 6) + RateConverter(firstYields[[\"1Y\"]], 12, today)*DiscountFactor(alpha, 12)"
   ]
  },
  {
   "cell_type": "code",
   "execution_count": 19,
   "id": "9c98ba37-727e-49ea-afa2-0bd47f372468",
   "metadata": {},
   "outputs": [
    {
     "data": {
      "text/html": [
       "100.588944045632"
      ],
      "text/latex": [
       "100.588944045632"
      ],
      "text/markdown": [
       "100.588944045632"
      ],
      "text/plain": [
       "[1] 100.5889"
      ]
     },
     "metadata": {},
     "output_type": "display_data"
    }
   ],
   "source": [
    "oneYearBond"
   ]
  },
  {
   "cell_type": "code",
   "execution_count": 20,
   "id": "96e3f441-d8d9-45b8-acb7-729870b91fdc",
   "metadata": {},
   "outputs": [],
   "source": [
    "maturity<- 36"
   ]
  },
  {
   "cell_type": "code",
   "execution_count": 21,
   "id": "8e363417-8362-44e5-93bd-73a14c0f09c2",
   "metadata": {},
   "outputs": [],
   "source": [
    "periods <- seq(6, maturity, 6)"
   ]
  },
  {
   "cell_type": "code",
   "execution_count": 22,
   "id": "af2e17af-7784-482b-b5c0-b86a49bb7b7e",
   "metadata": {},
   "outputs": [
    {
     "data": {
      "text/html": [
       "100.019218183929"
      ],
      "text/latex": [
       "100.019218183929"
      ],
      "text/markdown": [
       "100.019218183929"
      ],
      "text/plain": [
       "[1] 100.0192"
      ]
     },
     "metadata": {},
     "output_type": "display_data"
    }
   ],
   "source": [
    "threeMonthBond"
   ]
  },
  {
   "cell_type": "markdown",
   "metadata": {},
   "source": [
    "Recordemos que cada pago está dado por :  \n",
    "\n",
    "$$\\$100\\times R \\times \\frac{ACT}{360}$$"
   ]
  },
  {
   "cell_type": "code",
   "execution_count": 23,
   "id": "55ec8d82-c8eb-4cc3-b192-56ce7e3cd55a",
   "metadata": {},
   "outputs": [],
   "source": [
    "singleBondPayment <- function(maturity, yield, alpha, today){\n",
    "    return (RateConverter(yield, maturity,today)*DiscountFactor(alpha, maturity))\n",
    "}"
   ]
  },
  {
   "cell_type": "code",
   "execution_count": 24,
   "id": "50ca64bd-641b-49e6-9862-25920a4de86a",
   "metadata": {},
   "outputs": [
    {
     "data": {
      "text/html": [
       "1.96179863434273"
      ],
      "text/latex": [
       "1.96179863434273"
      ],
      "text/markdown": [
       "1.96179863434273"
      ],
      "text/plain": [
       "[1] 1.961799"
      ]
     },
     "metadata": {},
     "output_type": "display_data"
    },
    {
     "data": {
      "text/html": [
       "1.941"
      ],
      "text/latex": [
       "1.941"
      ],
      "text/markdown": [
       "1.941"
      ],
      "text/plain": [
       "[1] 1.941"
      ]
     },
     "metadata": {},
     "output_type": "display_data"
    }
   ],
   "source": [
    "singleBondPayment(120,firstYields[[\"10Y\"]], alpha, today)\n",
    "firstYields[[\"10Y\"]]"
   ]
  },
  {
   "cell_type": "code",
   "execution_count": 25,
   "id": "ce498c1e-5ec0-487f-9ec2-d9a32b077f61",
   "metadata": {},
   "outputs": [],
   "source": [
    "yieldList <- list(firstYields)"
   ]
  },
  {
   "cell_type": "code",
   "execution_count": 26,
   "id": "c504d27d-c7d9-459b-92bc-989981ea5db8",
   "metadata": {},
   "outputs": [],
   "source": [
    "nombres <- colnames(firstYields)"
   ]
  },
  {
   "cell_type": "code",
   "execution_count": 27,
   "id": "8d12a55e-80db-4d9b-9d63-6d4fee00e44f",
   "metadata": {},
   "outputs": [],
   "source": [
    "nombres <- nombres[-1]"
   ]
  },
  {
   "cell_type": "code",
   "execution_count": 28,
   "id": "d7231767-3339-4bc2-a79f-118be492db4f",
   "metadata": {},
   "outputs": [
    {
     "data": {
      "text/html": [
       "<style>\n",
       ".list-inline {list-style: none; margin:0; padding: 0}\n",
       ".list-inline>li {display: inline-block}\n",
       ".list-inline>li:not(:last-child)::after {content: \"\\00b7\"; padding: 0 .5ex}\n",
       "</style>\n",
       "<ol class=list-inline><li>'10Y'</li><li>'7Y'</li><li>'5Y'</li><li>'3Y'</li><li>'2Y'</li><li>'1Y'</li><li>'6M'</li><li>'3M'</li></ol>\n"
      ],
      "text/latex": [
       "\\begin{enumerate*}\n",
       "\\item '10Y'\n",
       "\\item '7Y'\n",
       "\\item '5Y'\n",
       "\\item '3Y'\n",
       "\\item '2Y'\n",
       "\\item '1Y'\n",
       "\\item '6M'\n",
       "\\item '3M'\n",
       "\\end{enumerate*}\n"
      ],
      "text/markdown": [
       "1. '10Y'\n",
       "2. '7Y'\n",
       "3. '5Y'\n",
       "4. '3Y'\n",
       "5. '2Y'\n",
       "6. '1Y'\n",
       "7. '6M'\n",
       "8. '3M'\n",
       "\n",
       "\n"
      ],
      "text/plain": [
       "[1] \"10Y\" \"7Y\"  \"5Y\"  \"3Y\"  \"2Y\"  \"1Y\"  \"6M\"  \"3M\" "
      ]
     },
     "metadata": {},
     "output_type": "display_data"
    }
   ],
   "source": [
    "nombres"
   ]
  },
  {
   "cell_type": "code",
   "execution_count": 29,
   "id": "cb1dbc36-9b49-4b39-8d74-b7ae078b89d2",
   "metadata": {},
   "outputs": [],
   "source": [
    "nombres <- as.list(nombres)"
   ]
  },
  {
   "cell_type": "code",
   "execution_count": 30,
   "id": "7ae67d55-2043-4beb-81c1-cd95a63c9ffe",
   "metadata": {},
   "outputs": [],
   "source": [
    "names(nombres) <- c(120,84,60,36,24,12,6,3) "
   ]
  },
  {
   "cell_type": "code",
   "execution_count": 31,
   "id": "f6812e41-02f5-43be-8f93-d2270415c6c8",
   "metadata": {},
   "outputs": [],
   "source": [
    "BondValue <- function (today, maturity, yieldlist,alpha ){\n",
    "    if (maturity == 3){\n",
    "        return (100*DiscountFactor(alpha, maturity) + singleBondPayment(3,yieldlist[[\"3M\"]], alpha, today))\n",
    "        }\n",
    "    setter <- as.character(maturity)\n",
    "    periods <- seq(6, maturity, 6)\n",
    "    bondSum <- sum(unlist(lapply(periods, function(x) singleBondPayment(x, yield = yieldlist[[nombres[[setter]]]],  alpha = alpha, today = today))))\n",
    "    return(bondSum +100*DiscountFactor(alpha, maturity))\n",
    "}\n",
    "\n"
   ]
  },
  {
   "cell_type": "code",
   "execution_count": 32,
   "id": "e115c3d4-be49-46e5-8e11-3f9ef159fb8c",
   "metadata": {},
   "outputs": [
    {
     "data": {
      "text/html": [
       "60.8266718934138"
      ],
      "text/latex": [
       "60.8266718934138"
      ],
      "text/markdown": [
       "60.8266718934138"
      ],
      "text/plain": [
       "[1] 60.82667"
      ]
     },
     "metadata": {},
     "output_type": "display_data"
    }
   ],
   "source": [
    "BondValue(today, 120, firstYields, alpha)"
   ]
  },
  {
   "cell_type": "code",
   "execution_count": 33,
   "id": "a02e0b57-dea3-4c91-9c7d-3af12d4cdacd",
   "metadata": {},
   "outputs": [],
   "source": [
    "maturities <- c(120,84,60,36,24,12,6,3) "
   ]
  },
  {
   "cell_type": "code",
   "execution_count": 34,
   "id": "c12697eb-70c7-41cb-a52c-b9e0c43eae60",
   "metadata": {},
   "outputs": [],
   "source": [
    "alpha <- c(0.00343, 0.0105, 0.0817, 0.1598, 0.2744)\n",
    "bondValues <- list()\n",
    "for (i in maturities){\n",
    "    bondValues <- append(bondValues, BondValue(today, i, firstYields, alpha))\n",
    "}"
   ]
  },
  {
   "cell_type": "code",
   "execution_count": 35,
   "id": "e09def6e-e88a-447e-ab5c-7a7417b38b47",
   "metadata": {},
   "outputs": [
    {
     "data": {
      "text/html": [
       "<ol>\n",
       "\t<li>47.0020242759478</li>\n",
       "\t<li>58.4527829374849</li>\n",
       "\t<li>75.9074277595729</li>\n",
       "\t<li>90.4339748220746</li>\n",
       "\t<li>94.1517307781383</li>\n",
       "\t<li>99.7697868467598</li>\n",
       "\t<li>99.8030499504912</li>\n",
       "\t<li>99.9339745598438</li>\n",
       "</ol>\n"
      ],
      "text/latex": [
       "\\begin{enumerate}\n",
       "\\item 47.0020242759478\n",
       "\\item 58.4527829374849\n",
       "\\item 75.9074277595729\n",
       "\\item 90.4339748220746\n",
       "\\item 94.1517307781383\n",
       "\\item 99.7697868467598\n",
       "\\item 99.8030499504912\n",
       "\\item 99.9339745598438\n",
       "\\end{enumerate}\n"
      ],
      "text/markdown": [
       "1. 47.0020242759478\n",
       "2. 58.4527829374849\n",
       "3. 75.9074277595729\n",
       "4. 90.4339748220746\n",
       "5. 94.1517307781383\n",
       "6. 99.7697868467598\n",
       "7. 99.8030499504912\n",
       "8. 99.9339745598438\n",
       "\n",
       "\n"
      ],
      "text/plain": [
       "[[1]]\n",
       "[1] 47.00202\n",
       "\n",
       "[[2]]\n",
       "[1] 58.45278\n",
       "\n",
       "[[3]]\n",
       "[1] 75.90743\n",
       "\n",
       "[[4]]\n",
       "[1] 90.43397\n",
       "\n",
       "[[5]]\n",
       "[1] 94.15173\n",
       "\n",
       "[[6]]\n",
       "[1] 99.76979\n",
       "\n",
       "[[7]]\n",
       "[1] 99.80305\n",
       "\n",
       "[[8]]\n",
       "[1] 99.93397\n"
      ]
     },
     "metadata": {},
     "output_type": "display_data"
    }
   ],
   "source": [
    "bondValues"
   ]
  },
  {
   "cell_type": "code",
   "execution_count": 36,
   "id": "58a47576-09dd-44a6-9d58-47053a7f21fe",
   "metadata": {},
   "outputs": [
    {
     "data": {
      "text/html": [
       "5241.21595101992"
      ],
      "text/latex": [
       "5241.21595101992"
      ],
      "text/markdown": [
       "5241.21595101992"
      ],
      "text/plain": [
       "[1] 5241.216"
      ]
     },
     "metadata": {},
     "output_type": "display_data"
    }
   ],
   "source": [
    "error <-function(alpha){\n",
    "    maturities <- c(3,6,12,24,36,60,84,120) \n",
    "    bondValues <- list()\n",
    "    for (i in maturities){\n",
    "        bondValues <- append(bondValues, BondValue(today, i, firstYields, alpha))\n",
    "    }\n",
    "    error <- sum((unlist(bondValues)-100)**2)\n",
    "    return (error)\n",
    "}\n",
    "\n",
    "error(alpha)"
   ]
  },
  {
   "cell_type": "code",
   "execution_count": 37,
   "id": "a40166af-e090-43ee-bc10-27c225afcea5",
   "metadata": {},
   "outputs": [],
   "source": [
    "opt <- optim(alpha, error, lower = 0, upper= 1, method = \"L-BFGS-B\")"
   ]
  },
  {
   "cell_type": "code",
   "execution_count": 38,
   "id": "329fea40",
   "metadata": {},
   "outputs": [
    {
     "data": {
      "image/png": "[encoded data removed]",
      "text/plain": [
       "Plot with title \"Alphas óptimos\""
      ]
     },
     "metadata": {},
     "output_type": "display_data"
    }
   ],
   "source": [
    "alpha <- opt$par\n",
    "\n",
    "xx <- c(1:120)\n",
    "aa <- alphacuts(alpha)\n",
    "plot(xx,aa, type= \"p\",\n",
    "            pch=22, \n",
    "            bg = \"maroon\", \n",
    "            col = \"maroon\", \n",
    "            main= \"Alphas óptimos\", \n",
    "            xlab = \"Meses\", \n",
    "            ylab = \"Alphas\")"
   ]
  },
  {
   "cell_type": "markdown",
   "id": "c52edb93",
   "metadata": {},
   "source": [
    "Valoración de bono de 7 años"
   ]
  },
  {
   "cell_type": "code",
   "execution_count": 39,
   "id": "5c82c495",
   "metadata": {},
   "outputs": [
    {
     "data": {
      "text/html": [
       "33.0260555238977"
      ],
      "text/latex": [
       "33.0260555238977"
      ],
      "text/markdown": [
       "33.0260555238977"
      ],
      "text/plain": [
       "[1] 33.02606"
      ]
     },
     "metadata": {},
     "output_type": "display_data"
    },
    {
     "data": {
      "text/html": [
       "<dl>\n",
       "\t<dt>$par</dt>\n",
       "\t\t<dd>3.93957166428661</dd>\n",
       "\t<dt>$value</dt>\n",
       "\t\t<dd>6.40975656551745e-07</dd>\n",
       "\t<dt>$counts</dt>\n",
       "\t\t<dd><style>\n",
       ".dl-inline {width: auto; margin:0; padding: 0}\n",
       ".dl-inline>dt, .dl-inline>dd {float: none; width: auto; display: inline-block}\n",
       ".dl-inline>dt::after {content: \":\\0020\"; padding-right: .5ex}\n",
       ".dl-inline>dt:not(:first-of-type) {padding-left: .5ex}\n",
       "</style><dl class=dl-inline><dt>function</dt><dd>&lt;NA&gt;</dd><dt>gradient</dt><dd>&lt;NA&gt;</dd></dl>\n",
       "</dd>\n",
       "\t<dt>$convergence</dt>\n",
       "\t\t<dd>0</dd>\n",
       "\t<dt>$message</dt>\n",
       "\t\t<dd>NULL</dd>\n",
       "</dl>\n"
      ],
      "text/latex": [
       "\\begin{description}\n",
       "\\item[\\$par] 3.93957166428661\n",
       "\\item[\\$value] 6.40975656551745e-07\n",
       "\\item[\\$counts] \\begin{description*}\n",
       "\\item[function] <NA>\n",
       "\\item[gradient] <NA>\n",
       "\\end{description*}\n",
       "\n",
       "\\item[\\$convergence] 0\n",
       "\\item[\\$message] NULL\n",
       "\\end{description}\n"
      ],
      "text/markdown": [
       "$par\n",
       ":   3.93957166428661\n",
       "$value\n",
       ":   6.40975656551745e-07\n",
       "$counts\n",
       ":   function\n",
       ":   &lt;NA&gt;gradient\n",
       ":   &lt;NA&gt;\n",
       "\n",
       "\n",
       "$convergence\n",
       ":   0\n",
       "$message\n",
       ":   NULL\n",
       "\n",
       "\n"
      ],
      "text/plain": [
       "$par\n",
       "[1] 3.939572\n",
       "\n",
       "$value\n",
       "[1] 6.409757e-07\n",
       "\n",
       "$counts\n",
       "function gradient \n",
       "      NA       NA \n",
       "\n",
       "$convergence\n",
       "[1] 0\n",
       "\n",
       "$message\n",
       "NULL\n"
      ]
     },
     "metadata": {},
     "output_type": "display_data"
    }
   ],
   "source": [
    "alpha <- opt$par\n",
    "pvnotional <- 100 - DiscountFactor(alpha[4], 84)*100\n",
    "pvnotional\n",
    "couponsum <- function (c){\n",
    "pvcoupon <- DiscountFactor(alpha[2], 12)*RateConverter(c, 12,today) + DiscountFactor(alpha[2], 24)*RateConverter(c,24,today) +\n",
    " DiscountFactor(alpha[3], 36)*RateConverter(c, 36,today) +DiscountFactor(alpha[3], 48)*RateConverter(c, 48,today) +\n",
    " DiscountFactor(alpha[4], 60)*RateConverter(c, 60,today) + DiscountFactor(alpha[4], 72)*RateConverter(c, 72,today) +  \n",
    " DiscountFactor(alpha[4], 84)*RateConverter(c, 84,today) + DiscountFactor(alpha[4], 84)*RateConverter(c, 84,today)\n",
    " result <-pvnotional- pvcoupon\n",
    "    if (result <0){\n",
    "        return (500)\n",
    "    }\n",
    "    else {\n",
    "        return (pvnotional- pvcoupon)\n",
    "    }\n",
    "    \n",
    "}\n",
    "\n",
    "opti <- optim(c,couponsum,lower = 0, upper=10,  method = \"Brent\")\n",
    "opti\n"
   ]
  },
  {
   "cell_type": "markdown",
   "id": "a0ac085d",
   "metadata": {},
   "source": [
    "Matriz de curvas 3 años en el pasado"
   ]
  },
  {
   "cell_type": "code",
   "execution_count": 40,
   "id": "f154bbc5",
   "metadata": {},
   "outputs": [],
   "source": [
    "\n",
    "matAlphas <- list()\n",
    "df <- df[(nrow(df)-52):nrow(df),]\n",
    "for ( r in 1:nrow(df)){ \n",
    "    firstYields <- df[r,]\n",
    "    today <- firstYields$Date\n",
    "    alpha <- opt$par\n",
    "    opt <- optim(alpha, error, lower = 0, upper= 1, method = \"L-BFGS-B\")\n",
    "    matAlphas <- append(matAlphas, list(opt$par))\n",
    "}"
   ]
  },
  {
   "cell_type": "code",
   "execution_count": 41,
   "id": "6c7c98be",
   "metadata": {},
   "outputs": [
    {
     "data": {
      "text/html": [
       "<table class=\"dataframe\">\n",
       "<caption>A matrix: 53 × 5 of type dbl</caption>\n",
       "<tbody>\n",
       "\t<tr><td>0.000000e+00</td><td> 0.000000e+00</td><td>0.004479686</td><td>0.01840584</td><td>0.09237962</td></tr>\n",
       "\t<tr><td>0.000000e+00</td><td> 0.000000e+00</td><td>0.004706973</td><td>0.02325406</td><td>0.09939886</td></tr>\n",
       "\t<tr><td>0.000000e+00</td><td> 0.000000e+00</td><td>0.006106605</td><td>0.03171539</td><td>0.10005125</td></tr>\n",
       "\t<tr><td>0.000000e+00</td><td> 0.000000e+00</td><td>0.006740605</td><td>0.03408690</td><td>0.10965080</td></tr>\n",
       "\t<tr><td>0.000000e+00</td><td> 0.000000e+00</td><td>0.007353796</td><td>0.03552450</td><td>0.11252459</td></tr>\n",
       "\t<tr><td>0.000000e+00</td><td> 0.000000e+00</td><td>0.007191029</td><td>0.03778698</td><td>0.11806777</td></tr>\n",
       "\t<tr><td>0.000000e+00</td><td> 0.000000e+00</td><td>0.006776310</td><td>0.03766010</td><td>0.11542087</td></tr>\n",
       "\t<tr><td>0.000000e+00</td><td> 0.000000e+00</td><td>0.008363223</td><td>0.04205166</td><td>0.11554998</td></tr>\n",
       "\t<tr><td>0.000000e+00</td><td> 0.000000e+00</td><td>0.007303816</td><td>0.03692244</td><td>0.11421266</td></tr>\n",
       "\t<tr><td>0.000000e+00</td><td> 0.000000e+00</td><td>0.007467144</td><td>0.03518958</td><td>0.10970437</td></tr>\n",
       "\t<tr><td>0.000000e+00</td><td> 0.000000e+00</td><td>0.007301729</td><td>0.03480937</td><td>0.10857967</td></tr>\n",
       "\t<tr><td>0.000000e+00</td><td> 0.000000e+00</td><td>0.007256204</td><td>0.03656099</td><td>0.11244526</td></tr>\n",
       "\t<tr><td>0.000000e+00</td><td> 0.000000e+00</td><td>0.006447998</td><td>0.03322999</td><td>0.11105502</td></tr>\n",
       "\t<tr><td>0.000000e+00</td><td> 0.000000e+00</td><td>0.007123050</td><td>0.03435132</td><td>0.11351463</td></tr>\n",
       "\t<tr><td>0.000000e+00</td><td> 0.000000e+00</td><td>0.007173572</td><td>0.03481338</td><td>0.11275451</td></tr>\n",
       "\t<tr><td>0.000000e+00</td><td> 0.000000e+00</td><td>0.006583438</td><td>0.03453316</td><td>0.11155940</td></tr>\n",
       "\t<tr><td>0.000000e+00</td><td> 0.000000e+00</td><td>0.006659571</td><td>0.03335038</td><td>0.10922647</td></tr>\n",
       "\t<tr><td>0.000000e+00</td><td> 0.000000e+00</td><td>0.006797552</td><td>0.03117190</td><td>0.10314742</td></tr>\n",
       "\t<tr><td>0.000000e+00</td><td> 0.000000e+00</td><td>0.010203212</td><td>0.03548703</td><td>0.09862162</td></tr>\n",
       "\t<tr><td>0.000000e+00</td><td> 0.000000e+00</td><td>0.010340269</td><td>0.03763866</td><td>0.10335050</td></tr>\n",
       "\t<tr><td>0.000000e+00</td><td> 0.000000e+00</td><td>0.009574979</td><td>0.03512907</td><td>0.09813249</td></tr>\n",
       "\t<tr><td>0.000000e+00</td><td> 0.000000e+00</td><td>0.008682060</td><td>0.03213751</td><td>0.09539388</td></tr>\n",
       "\t<tr><td>0.000000e+00</td><td> 0.000000e+00</td><td>0.009351022</td><td>0.03092756</td><td>0.09071019</td></tr>\n",
       "\t<tr><td>0.000000e+00</td><td> 0.000000e+00</td><td>0.008250087</td><td>0.02858707</td><td>0.09132602</td></tr>\n",
       "\t<tr><td>0.000000e+00</td><td> 0.000000e+00</td><td>0.007554658</td><td>0.02862317</td><td>0.08794253</td></tr>\n",
       "\t<tr><td>0.000000e+00</td><td> 0.000000e+00</td><td>0.008932284</td><td>0.03118378</td><td>0.09139342</td></tr>\n",
       "\t<tr><td>0.000000e+00</td><td> 0.000000e+00</td><td>0.009321860</td><td>0.03111935</td><td>0.08971414</td></tr>\n",
       "\t<tr><td>0.000000e+00</td><td> 0.000000e+00</td><td>0.009650822</td><td>0.03138710</td><td>0.08787765</td></tr>\n",
       "\t<tr><td>0.000000e+00</td><td> 0.000000e+00</td><td>0.009196249</td><td>0.03281912</td><td>0.09125365</td></tr>\n",
       "\t<tr><td>0.000000e+00</td><td> 0.000000e+00</td><td>0.008879862</td><td>0.03189577</td><td>0.09272727</td></tr>\n",
       "\t<tr><td>0.000000e+00</td><td> 0.000000e+00</td><td>0.009568788</td><td>0.03301364</td><td>0.09329970</td></tr>\n",
       "\t<tr><td>0.000000e+00</td><td> 0.000000e+00</td><td>0.010071337</td><td>0.03518929</td><td>0.09355582</td></tr>\n",
       "\t<tr><td>0.000000e+00</td><td> 0.000000e+00</td><td>0.011489836</td><td>0.03811676</td><td>0.09761711</td></tr>\n",
       "\t<tr><td>0.000000e+00</td><td> 0.000000e+00</td><td>0.010522783</td><td>0.03820236</td><td>0.09875691</td></tr>\n",
       "\t<tr><td>0.000000e+00</td><td> 0.000000e+00</td><td>0.012388608</td><td>0.04255389</td><td>0.10592276</td></tr>\n",
       "\t<tr><td>0.000000e+00</td><td> 0.000000e+00</td><td>0.014611773</td><td>0.04390943</td><td>0.10142021</td></tr>\n",
       "\t<tr><td>0.000000e+00</td><td> 0.000000e+00</td><td>0.016081852</td><td>0.04557589</td><td>0.10390843</td></tr>\n",
       "\t<tr><td>0.000000e+00</td><td> 0.000000e+00</td><td>0.016016566</td><td>0.04622335</td><td>0.09877027</td></tr>\n",
       "\t<tr><td>0.000000e+00</td><td> 0.000000e+00</td><td>0.014051536</td><td>0.04146708</td><td>0.09495526</td></tr>\n",
       "\t<tr><td>0.000000e+00</td><td> 0.000000e+00</td><td>0.017482534</td><td>0.04596218</td><td>0.09846904</td></tr>\n",
       "\t<tr><td>0.000000e+00</td><td> 0.000000e+00</td><td>0.017726655</td><td>0.04591870</td><td>0.09743595</td></tr>\n",
       "\t<tr><td>0.000000e+00</td><td> 0.000000e+00</td><td>0.016807297</td><td>0.04433234</td><td>0.09389884</td></tr>\n",
       "\t<tr><td>0.000000e+00</td><td> 0.000000e+00</td><td>0.017923807</td><td>0.04221549</td><td>0.08540248</td></tr>\n",
       "\t<tr><td>0.000000e+00</td><td> 0.000000e+00</td><td>0.020254734</td><td>0.04474422</td><td>0.09238385</td></tr>\n",
       "\t<tr><td>0.000000e+00</td><td> 0.000000e+00</td><td>0.019168961</td><td>0.04231862</td><td>0.08858122</td></tr>\n",
       "\t<tr><td>0.000000e+00</td><td> 0.000000e+00</td><td>0.020134455</td><td>0.04418300</td><td>0.09322977</td></tr>\n",
       "\t<tr><td>1.410354e-03</td><td> 0.000000e+00</td><td>0.019877381</td><td>0.04529377</td><td>0.09394227</td></tr>\n",
       "\t<tr><td>1.307971e-03</td><td> 0.000000e+00</td><td>0.023258248</td><td>0.05228165</td><td>0.10525518</td></tr>\n",
       "\t<tr><td>2.034132e-03</td><td>-1.084202e-19</td><td>0.025146492</td><td>0.05280762</td><td>0.10539071</td></tr>\n",
       "\t<tr><td>2.882194e-03</td><td> 0.000000e+00</td><td>0.025412811</td><td>0.05247199</td><td>0.10363480</td></tr>\n",
       "\t<tr><td>8.156729e-05</td><td> 3.385995e-03</td><td>0.026059219</td><td>0.05310978</td><td>0.10319265</td></tr>\n",
       "\t<tr><td>7.091317e-04</td><td> 3.863799e-03</td><td>0.028408607</td><td>0.05681218</td><td>0.10858479</td></tr>\n",
       "\t<tr><td>9.908726e-04</td><td> 4.736228e-03</td><td>0.031069314</td><td>0.05726521</td><td>0.10857898</td></tr>\n",
       "</tbody>\n",
       "</table>\n"
      ],
      "text/latex": [
       "A matrix: 53 × 5 of type dbl\n",
       "\\begin{tabular}{lllll}\n",
       "\t 0.000000e+00 &  0.000000e+00 & 0.004479686 & 0.01840584 & 0.09237962\\\\\n",
       "\t 0.000000e+00 &  0.000000e+00 & 0.004706973 & 0.02325406 & 0.09939886\\\\\n",
       "\t 0.000000e+00 &  0.000000e+00 & 0.006106605 & 0.03171539 & 0.10005125\\\\\n",
       "\t 0.000000e+00 &  0.000000e+00 & 0.006740605 & 0.03408690 & 0.10965080\\\\\n",
       "\t 0.000000e+00 &  0.000000e+00 & 0.007353796 & 0.03552450 & 0.11252459\\\\\n",
       "\t 0.000000e+00 &  0.000000e+00 & 0.007191029 & 0.03778698 & 0.11806777\\\\\n",
       "\t 0.000000e+00 &  0.000000e+00 & 0.006776310 & 0.03766010 & 0.11542087\\\\\n",
       "\t 0.000000e+00 &  0.000000e+00 & 0.008363223 & 0.04205166 & 0.11554998\\\\\n",
       "\t 0.000000e+00 &  0.000000e+00 & 0.007303816 & 0.03692244 & 0.11421266\\\\\n",
       "\t 0.000000e+00 &  0.000000e+00 & 0.007467144 & 0.03518958 & 0.10970437\\\\\n",
       "\t 0.000000e+00 &  0.000000e+00 & 0.007301729 & 0.03480937 & 0.10857967\\\\\n",
       "\t 0.000000e+00 &  0.000000e+00 & 0.007256204 & 0.03656099 & 0.11244526\\\\\n",
       "\t 0.000000e+00 &  0.000000e+00 & 0.006447998 & 0.03322999 & 0.11105502\\\\\n",
       "\t 0.000000e+00 &  0.000000e+00 & 0.007123050 & 0.03435132 & 0.11351463\\\\\n",
       "\t 0.000000e+00 &  0.000000e+00 & 0.007173572 & 0.03481338 & 0.11275451\\\\\n",
       "\t 0.000000e+00 &  0.000000e+00 & 0.006583438 & 0.03453316 & 0.11155940\\\\\n",
       "\t 0.000000e+00 &  0.000000e+00 & 0.006659571 & 0.03335038 & 0.10922647\\\\\n",
       "\t 0.000000e+00 &  0.000000e+00 & 0.006797552 & 0.03117190 & 0.10314742\\\\\n",
       "\t 0.000000e+00 &  0.000000e+00 & 0.010203212 & 0.03548703 & 0.09862162\\\\\n",
       "\t 0.000000e+00 &  0.000000e+00 & 0.010340269 & 0.03763866 & 0.10335050\\\\\n",
       "\t 0.000000e+00 &  0.000000e+00 & 0.009574979 & 0.03512907 & 0.09813249\\\\\n",
       "\t 0.000000e+00 &  0.000000e+00 & 0.008682060 & 0.03213751 & 0.09539388\\\\\n",
       "\t 0.000000e+00 &  0.000000e+00 & 0.009351022 & 0.03092756 & 0.09071019\\\\\n",
       "\t 0.000000e+00 &  0.000000e+00 & 0.008250087 & 0.02858707 & 0.09132602\\\\\n",
       "\t 0.000000e+00 &  0.000000e+00 & 0.007554658 & 0.02862317 & 0.08794253\\\\\n",
       "\t 0.000000e+00 &  0.000000e+00 & 0.008932284 & 0.03118378 & 0.09139342\\\\\n",
       "\t 0.000000e+00 &  0.000000e+00 & 0.009321860 & 0.03111935 & 0.08971414\\\\\n",
       "\t 0.000000e+00 &  0.000000e+00 & 0.009650822 & 0.03138710 & 0.08787765\\\\\n",
       "\t 0.000000e+00 &  0.000000e+00 & 0.009196249 & 0.03281912 & 0.09125365\\\\\n",
       "\t 0.000000e+00 &  0.000000e+00 & 0.008879862 & 0.03189577 & 0.09272727\\\\\n",
       "\t 0.000000e+00 &  0.000000e+00 & 0.009568788 & 0.03301364 & 0.09329970\\\\\n",
       "\t 0.000000e+00 &  0.000000e+00 & 0.010071337 & 0.03518929 & 0.09355582\\\\\n",
       "\t 0.000000e+00 &  0.000000e+00 & 0.011489836 & 0.03811676 & 0.09761711\\\\\n",
       "\t 0.000000e+00 &  0.000000e+00 & 0.010522783 & 0.03820236 & 0.09875691\\\\\n",
       "\t 0.000000e+00 &  0.000000e+00 & 0.012388608 & 0.04255389 & 0.10592276\\\\\n",
       "\t 0.000000e+00 &  0.000000e+00 & 0.014611773 & 0.04390943 & 0.10142021\\\\\n",
       "\t 0.000000e+00 &  0.000000e+00 & 0.016081852 & 0.04557589 & 0.10390843\\\\\n",
       "\t 0.000000e+00 &  0.000000e+00 & 0.016016566 & 0.04622335 & 0.09877027\\\\\n",
       "\t 0.000000e+00 &  0.000000e+00 & 0.014051536 & 0.04146708 & 0.09495526\\\\\n",
       "\t 0.000000e+00 &  0.000000e+00 & 0.017482534 & 0.04596218 & 0.09846904\\\\\n",
       "\t 0.000000e+00 &  0.000000e+00 & 0.017726655 & 0.04591870 & 0.09743595\\\\\n",
       "\t 0.000000e+00 &  0.000000e+00 & 0.016807297 & 0.04433234 & 0.09389884\\\\\n",
       "\t 0.000000e+00 &  0.000000e+00 & 0.017923807 & 0.04221549 & 0.08540248\\\\\n",
       "\t 0.000000e+00 &  0.000000e+00 & 0.020254734 & 0.04474422 & 0.09238385\\\\\n",
       "\t 0.000000e+00 &  0.000000e+00 & 0.019168961 & 0.04231862 & 0.08858122\\\\\n",
       "\t 0.000000e+00 &  0.000000e+00 & 0.020134455 & 0.04418300 & 0.09322977\\\\\n",
       "\t 1.410354e-03 &  0.000000e+00 & 0.019877381 & 0.04529377 & 0.09394227\\\\\n",
       "\t 1.307971e-03 &  0.000000e+00 & 0.023258248 & 0.05228165 & 0.10525518\\\\\n",
       "\t 2.034132e-03 & -1.084202e-19 & 0.025146492 & 0.05280762 & 0.10539071\\\\\n",
       "\t 2.882194e-03 &  0.000000e+00 & 0.025412811 & 0.05247199 & 0.10363480\\\\\n",
       "\t 8.156729e-05 &  3.385995e-03 & 0.026059219 & 0.05310978 & 0.10319265\\\\\n",
       "\t 7.091317e-04 &  3.863799e-03 & 0.028408607 & 0.05681218 & 0.10858479\\\\\n",
       "\t 9.908726e-04 &  4.736228e-03 & 0.031069314 & 0.05726521 & 0.10857898\\\\\n",
       "\\end{tabular}\n"
      ],
      "text/markdown": [
       "\n",
       "A matrix: 53 × 5 of type dbl\n",
       "\n",
       "| 0.000000e+00 |  0.000000e+00 | 0.004479686 | 0.01840584 | 0.09237962 |\n",
       "| 0.000000e+00 |  0.000000e+00 | 0.004706973 | 0.02325406 | 0.09939886 |\n",
       "| 0.000000e+00 |  0.000000e+00 | 0.006106605 | 0.03171539 | 0.10005125 |\n",
       "| 0.000000e+00 |  0.000000e+00 | 0.006740605 | 0.03408690 | 0.10965080 |\n",
       "| 0.000000e+00 |  0.000000e+00 | 0.007353796 | 0.03552450 | 0.11252459 |\n",
       "| 0.000000e+00 |  0.000000e+00 | 0.007191029 | 0.03778698 | 0.11806777 |\n",
       "| 0.000000e+00 |  0.000000e+00 | 0.006776310 | 0.03766010 | 0.11542087 |\n",
       "| 0.000000e+00 |  0.000000e+00 | 0.008363223 | 0.04205166 | 0.11554998 |\n",
       "| 0.000000e+00 |  0.000000e+00 | 0.007303816 | 0.03692244 | 0.11421266 |\n",
       "| 0.000000e+00 |  0.000000e+00 | 0.007467144 | 0.03518958 | 0.10970437 |\n",
       "| 0.000000e+00 |  0.000000e+00 | 0.007301729 | 0.03480937 | 0.10857967 |\n",
       "| 0.000000e+00 |  0.000000e+00 | 0.007256204 | 0.03656099 | 0.11244526 |\n",
       "| 0.000000e+00 |  0.000000e+00 | 0.006447998 | 0.03322999 | 0.11105502 |\n",
       "| 0.000000e+00 |  0.000000e+00 | 0.007123050 | 0.03435132 | 0.11351463 |\n",
       "| 0.000000e+00 |  0.000000e+00 | 0.007173572 | 0.03481338 | 0.11275451 |\n",
       "| 0.000000e+00 |  0.000000e+00 | 0.006583438 | 0.03453316 | 0.11155940 |\n",
       "| 0.000000e+00 |  0.000000e+00 | 0.006659571 | 0.03335038 | 0.10922647 |\n",
       "| 0.000000e+00 |  0.000000e+00 | 0.006797552 | 0.03117190 | 0.10314742 |\n",
       "| 0.000000e+00 |  0.000000e+00 | 0.010203212 | 0.03548703 | 0.09862162 |\n",
       "| 0.000000e+00 |  0.000000e+00 | 0.010340269 | 0.03763866 | 0.10335050 |\n",
       "| 0.000000e+00 |  0.000000e+00 | 0.009574979 | 0.03512907 | 0.09813249 |\n",
       "| 0.000000e+00 |  0.000000e+00 | 0.008682060 | 0.03213751 | 0.09539388 |\n",
       "| 0.000000e+00 |  0.000000e+00 | 0.009351022 | 0.03092756 | 0.09071019 |\n",
       "| 0.000000e+00 |  0.000000e+00 | 0.008250087 | 0.02858707 | 0.09132602 |\n",
       "| 0.000000e+00 |  0.000000e+00 | 0.007554658 | 0.02862317 | 0.08794253 |\n",
       "| 0.000000e+00 |  0.000000e+00 | 0.008932284 | 0.03118378 | 0.09139342 |\n",
       "| 0.000000e+00 |  0.000000e+00 | 0.009321860 | 0.03111935 | 0.08971414 |\n",
       "| 0.000000e+00 |  0.000000e+00 | 0.009650822 | 0.03138710 | 0.08787765 |\n",
       "| 0.000000e+00 |  0.000000e+00 | 0.009196249 | 0.03281912 | 0.09125365 |\n",
       "| 0.000000e+00 |  0.000000e+00 | 0.008879862 | 0.03189577 | 0.09272727 |\n",
       "| 0.000000e+00 |  0.000000e+00 | 0.009568788 | 0.03301364 | 0.09329970 |\n",
       "| 0.000000e+00 |  0.000000e+00 | 0.010071337 | 0.03518929 | 0.09355582 |\n",
       "| 0.000000e+00 |  0.000000e+00 | 0.011489836 | 0.03811676 | 0.09761711 |\n",
       "| 0.000000e+00 |  0.000000e+00 | 0.010522783 | 0.03820236 | 0.09875691 |\n",
       "| 0.000000e+00 |  0.000000e+00 | 0.012388608 | 0.04255389 | 0.10592276 |\n",
       "| 0.000000e+00 |  0.000000e+00 | 0.014611773 | 0.04390943 | 0.10142021 |\n",
       "| 0.000000e+00 |  0.000000e+00 | 0.016081852 | 0.04557589 | 0.10390843 |\n",
       "| 0.000000e+00 |  0.000000e+00 | 0.016016566 | 0.04622335 | 0.09877027 |\n",
       "| 0.000000e+00 |  0.000000e+00 | 0.014051536 | 0.04146708 | 0.09495526 |\n",
       "| 0.000000e+00 |  0.000000e+00 | 0.017482534 | 0.04596218 | 0.09846904 |\n",
       "| 0.000000e+00 |  0.000000e+00 | 0.017726655 | 0.04591870 | 0.09743595 |\n",
       "| 0.000000e+00 |  0.000000e+00 | 0.016807297 | 0.04433234 | 0.09389884 |\n",
       "| 0.000000e+00 |  0.000000e+00 | 0.017923807 | 0.04221549 | 0.08540248 |\n",
       "| 0.000000e+00 |  0.000000e+00 | 0.020254734 | 0.04474422 | 0.09238385 |\n",
       "| 0.000000e+00 |  0.000000e+00 | 0.019168961 | 0.04231862 | 0.08858122 |\n",
       "| 0.000000e+00 |  0.000000e+00 | 0.020134455 | 0.04418300 | 0.09322977 |\n",
       "| 1.410354e-03 |  0.000000e+00 | 0.019877381 | 0.04529377 | 0.09394227 |\n",
       "| 1.307971e-03 |  0.000000e+00 | 0.023258248 | 0.05228165 | 0.10525518 |\n",
       "| 2.034132e-03 | -1.084202e-19 | 0.025146492 | 0.05280762 | 0.10539071 |\n",
       "| 2.882194e-03 |  0.000000e+00 | 0.025412811 | 0.05247199 | 0.10363480 |\n",
       "| 8.156729e-05 |  3.385995e-03 | 0.026059219 | 0.05310978 | 0.10319265 |\n",
       "| 7.091317e-04 |  3.863799e-03 | 0.028408607 | 0.05681218 | 0.10858479 |\n",
       "| 9.908726e-04 |  4.736228e-03 | 0.031069314 | 0.05726521 | 0.10857898 |\n",
       "\n"
      ],
      "text/plain": [
       "      [,1]         [,2]          [,3]        [,4]       [,5]      \n",
       " [1,] 0.000000e+00  0.000000e+00 0.004479686 0.01840584 0.09237962\n",
       " [2,] 0.000000e+00  0.000000e+00 0.004706973 0.02325406 0.09939886\n",
       " [3,] 0.000000e+00  0.000000e+00 0.006106605 0.03171539 0.10005125\n",
       " [4,] 0.000000e+00  0.000000e+00 0.006740605 0.03408690 0.10965080\n",
       " [5,] 0.000000e+00  0.000000e+00 0.007353796 0.03552450 0.11252459\n",
       " [6,] 0.000000e+00  0.000000e+00 0.007191029 0.03778698 0.11806777\n",
       " [7,] 0.000000e+00  0.000000e+00 0.006776310 0.03766010 0.11542087\n",
       " [8,] 0.000000e+00  0.000000e+00 0.008363223 0.04205166 0.11554998\n",
       " [9,] 0.000000e+00  0.000000e+00 0.007303816 0.03692244 0.11421266\n",
       "[10,] 0.000000e+00  0.000000e+00 0.007467144 0.03518958 0.10970437\n",
       "[11,] 0.000000e+00  0.000000e+00 0.007301729 0.03480937 0.10857967\n",
       "[12,] 0.000000e+00  0.000000e+00 0.007256204 0.03656099 0.11244526\n",
       "[13,] 0.000000e+00  0.000000e+00 0.006447998 0.03322999 0.11105502\n",
       "[14,] 0.000000e+00  0.000000e+00 0.007123050 0.03435132 0.11351463\n",
       "[15,] 0.000000e+00  0.000000e+00 0.007173572 0.03481338 0.11275451\n",
       "[16,] 0.000000e+00  0.000000e+00 0.006583438 0.03453316 0.11155940\n",
       "[17,] 0.000000e+00  0.000000e+00 0.006659571 0.03335038 0.10922647\n",
       "[18,] 0.000000e+00  0.000000e+00 0.006797552 0.03117190 0.10314742\n",
       "[19,] 0.000000e+00  0.000000e+00 0.010203212 0.03548703 0.09862162\n",
       "[20,] 0.000000e+00  0.000000e+00 0.010340269 0.03763866 0.10335050\n",
       "[21,] 0.000000e+00  0.000000e+00 0.009574979 0.03512907 0.09813249\n",
       "[22,] 0.000000e+00  0.000000e+00 0.008682060 0.03213751 0.09539388\n",
       "[23,] 0.000000e+00  0.000000e+00 0.009351022 0.03092756 0.09071019\n",
       "[24,] 0.000000e+00  0.000000e+00 0.008250087 0.02858707 0.09132602\n",
       "[25,] 0.000000e+00  0.000000e+00 0.007554658 0.02862317 0.08794253\n",
       "[26,] 0.000000e+00  0.000000e+00 0.008932284 0.03118378 0.09139342\n",
       "[27,] 0.000000e+00  0.000000e+00 0.009321860 0.03111935 0.08971414\n",
       "[28,] 0.000000e+00  0.000000e+00 0.009650822 0.03138710 0.08787765\n",
       "[29,] 0.000000e+00  0.000000e+00 0.009196249 0.03281912 0.09125365\n",
       "[30,] 0.000000e+00  0.000000e+00 0.008879862 0.03189577 0.09272727\n",
       "[31,] 0.000000e+00  0.000000e+00 0.009568788 0.03301364 0.09329970\n",
       "[32,] 0.000000e+00  0.000000e+00 0.010071337 0.03518929 0.09355582\n",
       "[33,] 0.000000e+00  0.000000e+00 0.011489836 0.03811676 0.09761711\n",
       "[34,] 0.000000e+00  0.000000e+00 0.010522783 0.03820236 0.09875691\n",
       "[35,] 0.000000e+00  0.000000e+00 0.012388608 0.04255389 0.10592276\n",
       "[36,] 0.000000e+00  0.000000e+00 0.014611773 0.04390943 0.10142021\n",
       "[37,] 0.000000e+00  0.000000e+00 0.016081852 0.04557589 0.10390843\n",
       "[38,] 0.000000e+00  0.000000e+00 0.016016566 0.04622335 0.09877027\n",
       "[39,] 0.000000e+00  0.000000e+00 0.014051536 0.04146708 0.09495526\n",
       "[40,] 0.000000e+00  0.000000e+00 0.017482534 0.04596218 0.09846904\n",
       "[41,] 0.000000e+00  0.000000e+00 0.017726655 0.04591870 0.09743595\n",
       "[42,] 0.000000e+00  0.000000e+00 0.016807297 0.04433234 0.09389884\n",
       "[43,] 0.000000e+00  0.000000e+00 0.017923807 0.04221549 0.08540248\n",
       "[44,] 0.000000e+00  0.000000e+00 0.020254734 0.04474422 0.09238385\n",
       "[45,] 0.000000e+00  0.000000e+00 0.019168961 0.04231862 0.08858122\n",
       "[46,] 0.000000e+00  0.000000e+00 0.020134455 0.04418300 0.09322977\n",
       "[47,] 1.410354e-03  0.000000e+00 0.019877381 0.04529377 0.09394227\n",
       "[48,] 1.307971e-03  0.000000e+00 0.023258248 0.05228165 0.10525518\n",
       "[49,] 2.034132e-03 -1.084202e-19 0.025146492 0.05280762 0.10539071\n",
       "[50,] 2.882194e-03  0.000000e+00 0.025412811 0.05247199 0.10363480\n",
       "[51,] 8.156729e-05  3.385995e-03 0.026059219 0.05310978 0.10319265\n",
       "[52,] 7.091317e-04  3.863799e-03 0.028408607 0.05681218 0.10858479\n",
       "[53,] 9.908726e-04  4.736228e-03 0.031069314 0.05726521 0.10857898"
      ]
     },
     "metadata": {},
     "output_type": "display_data"
    }
   ],
   "source": [
    "MatofAlphas <- matrix(unlist(matAlphas), ncol = 5, byrow = TRUE)\n",
    "MatofAlphas"
   ]
  },
  {
   "cell_type": "code",
   "execution_count": 42,
   "id": "75147ad5",
   "metadata": {},
   "outputs": [],
   "source": [
    "write.csv(MatofAlphas,\"../data/sim.csv\", row.names = FALSE)"
   ]
  },
  {
   "cell_type": "code",
   "execution_count": 43,
   "id": "89765d2f",
   "metadata": {},
   "outputs": [
    {
     "data": {
      "text/html": [
       "<table class=\"dataframe\">\n",
       "<caption>A data.frame: 53 × 5</caption>\n",
       "<thead>\n",
       "\t<tr><th scope=col>V1</th><th scope=col>V2</th><th scope=col>V3</th><th scope=col>V4</th><th scope=col>V5</th></tr>\n",
       "\t<tr><th scope=col>&lt;dbl&gt;</th><th scope=col>&lt;dbl&gt;</th><th scope=col>&lt;dbl&gt;</th><th scope=col>&lt;dbl&gt;</th><th scope=col>&lt;dbl&gt;</th></tr>\n",
       "</thead>\n",
       "<tbody>\n",
       "\t<tr><td>0.000000e+00</td><td> 0.000000e+00</td><td>0.004479686</td><td>0.01840584</td><td>0.09237962</td></tr>\n",
       "\t<tr><td>0.000000e+00</td><td> 0.000000e+00</td><td>0.004706973</td><td>0.02325406</td><td>0.09939886</td></tr>\n",
       "\t<tr><td>0.000000e+00</td><td> 0.000000e+00</td><td>0.006106605</td><td>0.03171539</td><td>0.10005125</td></tr>\n",
       "\t<tr><td>0.000000e+00</td><td> 0.000000e+00</td><td>0.006740605</td><td>0.03408690</td><td>0.10965080</td></tr>\n",
       "\t<tr><td>0.000000e+00</td><td> 0.000000e+00</td><td>0.007353796</td><td>0.03552450</td><td>0.11252459</td></tr>\n",
       "\t<tr><td>0.000000e+00</td><td> 0.000000e+00</td><td>0.007191029</td><td>0.03778698</td><td>0.11806777</td></tr>\n",
       "\t<tr><td>0.000000e+00</td><td> 0.000000e+00</td><td>0.006776310</td><td>0.03766010</td><td>0.11542087</td></tr>\n",
       "\t<tr><td>0.000000e+00</td><td> 0.000000e+00</td><td>0.008363223</td><td>0.04205166</td><td>0.11554998</td></tr>\n",
       "\t<tr><td>0.000000e+00</td><td> 0.000000e+00</td><td>0.007303816</td><td>0.03692244</td><td>0.11421266</td></tr>\n",
       "\t<tr><td>0.000000e+00</td><td> 0.000000e+00</td><td>0.007467144</td><td>0.03518958</td><td>0.10970437</td></tr>\n",
       "\t<tr><td>0.000000e+00</td><td> 0.000000e+00</td><td>0.007301729</td><td>0.03480937</td><td>0.10857967</td></tr>\n",
       "\t<tr><td>0.000000e+00</td><td> 0.000000e+00</td><td>0.007256204</td><td>0.03656099</td><td>0.11244526</td></tr>\n",
       "\t<tr><td>0.000000e+00</td><td> 0.000000e+00</td><td>0.006447998</td><td>0.03322999</td><td>0.11105502</td></tr>\n",
       "\t<tr><td>0.000000e+00</td><td> 0.000000e+00</td><td>0.007123050</td><td>0.03435132</td><td>0.11351463</td></tr>\n",
       "\t<tr><td>0.000000e+00</td><td> 0.000000e+00</td><td>0.007173572</td><td>0.03481338</td><td>0.11275451</td></tr>\n",
       "\t<tr><td>0.000000e+00</td><td> 0.000000e+00</td><td>0.006583438</td><td>0.03453316</td><td>0.11155940</td></tr>\n",
       "\t<tr><td>0.000000e+00</td><td> 0.000000e+00</td><td>0.006659571</td><td>0.03335038</td><td>0.10922647</td></tr>\n",
       "\t<tr><td>0.000000e+00</td><td> 0.000000e+00</td><td>0.006797552</td><td>0.03117190</td><td>0.10314742</td></tr>\n",
       "\t<tr><td>0.000000e+00</td><td> 0.000000e+00</td><td>0.010203212</td><td>0.03548703</td><td>0.09862162</td></tr>\n",
       "\t<tr><td>0.000000e+00</td><td> 0.000000e+00</td><td>0.010340269</td><td>0.03763866</td><td>0.10335050</td></tr>\n",
       "\t<tr><td>0.000000e+00</td><td> 0.000000e+00</td><td>0.009574979</td><td>0.03512907</td><td>0.09813249</td></tr>\n",
       "\t<tr><td>0.000000e+00</td><td> 0.000000e+00</td><td>0.008682060</td><td>0.03213751</td><td>0.09539388</td></tr>\n",
       "\t<tr><td>0.000000e+00</td><td> 0.000000e+00</td><td>0.009351022</td><td>0.03092756</td><td>0.09071019</td></tr>\n",
       "\t<tr><td>0.000000e+00</td><td> 0.000000e+00</td><td>0.008250087</td><td>0.02858707</td><td>0.09132602</td></tr>\n",
       "\t<tr><td>0.000000e+00</td><td> 0.000000e+00</td><td>0.007554658</td><td>0.02862317</td><td>0.08794253</td></tr>\n",
       "\t<tr><td>0.000000e+00</td><td> 0.000000e+00</td><td>0.008932284</td><td>0.03118378</td><td>0.09139342</td></tr>\n",
       "\t<tr><td>0.000000e+00</td><td> 0.000000e+00</td><td>0.009321860</td><td>0.03111935</td><td>0.08971414</td></tr>\n",
       "\t<tr><td>0.000000e+00</td><td> 0.000000e+00</td><td>0.009650822</td><td>0.03138710</td><td>0.08787765</td></tr>\n",
       "\t<tr><td>0.000000e+00</td><td> 0.000000e+00</td><td>0.009196249</td><td>0.03281912</td><td>0.09125365</td></tr>\n",
       "\t<tr><td>0.000000e+00</td><td> 0.000000e+00</td><td>0.008879862</td><td>0.03189577</td><td>0.09272727</td></tr>\n",
       "\t<tr><td>0.000000e+00</td><td> 0.000000e+00</td><td>0.009568788</td><td>0.03301364</td><td>0.09329970</td></tr>\n",
       "\t<tr><td>0.000000e+00</td><td> 0.000000e+00</td><td>0.010071337</td><td>0.03518929</td><td>0.09355582</td></tr>\n",
       "\t<tr><td>0.000000e+00</td><td> 0.000000e+00</td><td>0.011489836</td><td>0.03811676</td><td>0.09761711</td></tr>\n",
       "\t<tr><td>0.000000e+00</td><td> 0.000000e+00</td><td>0.010522783</td><td>0.03820236</td><td>0.09875691</td></tr>\n",
       "\t<tr><td>0.000000e+00</td><td> 0.000000e+00</td><td>0.012388608</td><td>0.04255389</td><td>0.10592276</td></tr>\n",
       "\t<tr><td>0.000000e+00</td><td> 0.000000e+00</td><td>0.014611773</td><td>0.04390943</td><td>0.10142021</td></tr>\n",
       "\t<tr><td>0.000000e+00</td><td> 0.000000e+00</td><td>0.016081852</td><td>0.04557589</td><td>0.10390843</td></tr>\n",
       "\t<tr><td>0.000000e+00</td><td> 0.000000e+00</td><td>0.016016566</td><td>0.04622335</td><td>0.09877027</td></tr>\n",
       "\t<tr><td>0.000000e+00</td><td> 0.000000e+00</td><td>0.014051536</td><td>0.04146708</td><td>0.09495526</td></tr>\n",
       "\t<tr><td>0.000000e+00</td><td> 0.000000e+00</td><td>0.017482534</td><td>0.04596218</td><td>0.09846904</td></tr>\n",
       "\t<tr><td>0.000000e+00</td><td> 0.000000e+00</td><td>0.017726655</td><td>0.04591870</td><td>0.09743595</td></tr>\n",
       "\t<tr><td>0.000000e+00</td><td> 0.000000e+00</td><td>0.016807297</td><td>0.04433234</td><td>0.09389884</td></tr>\n",
       "\t<tr><td>0.000000e+00</td><td> 0.000000e+00</td><td>0.017923807</td><td>0.04221549</td><td>0.08540248</td></tr>\n",
       "\t<tr><td>0.000000e+00</td><td> 0.000000e+00</td><td>0.020254734</td><td>0.04474422</td><td>0.09238385</td></tr>\n",
       "\t<tr><td>0.000000e+00</td><td> 0.000000e+00</td><td>0.019168961</td><td>0.04231862</td><td>0.08858122</td></tr>\n",
       "\t<tr><td>0.000000e+00</td><td> 0.000000e+00</td><td>0.020134455</td><td>0.04418300</td><td>0.09322977</td></tr>\n",
       "\t<tr><td>1.410354e-03</td><td> 0.000000e+00</td><td>0.019877381</td><td>0.04529377</td><td>0.09394227</td></tr>\n",
       "\t<tr><td>1.307971e-03</td><td> 0.000000e+00</td><td>0.023258248</td><td>0.05228165</td><td>0.10525518</td></tr>\n",
       "\t<tr><td>2.034132e-03</td><td>-1.084202e-19</td><td>0.025146492</td><td>0.05280762</td><td>0.10539071</td></tr>\n",
       "\t<tr><td>2.882194e-03</td><td> 0.000000e+00</td><td>0.025412811</td><td>0.05247199</td><td>0.10363480</td></tr>\n",
       "\t<tr><td>8.156729e-05</td><td> 3.385995e-03</td><td>0.026059219</td><td>0.05310978</td><td>0.10319265</td></tr>\n",
       "\t<tr><td>7.091317e-04</td><td> 3.863799e-03</td><td>0.028408607</td><td>0.05681218</td><td>0.10858479</td></tr>\n",
       "\t<tr><td>9.908726e-04</td><td> 4.736228e-03</td><td>0.031069314</td><td>0.05726521</td><td>0.10857898</td></tr>\n",
       "</tbody>\n",
       "</table>\n"
      ],
      "text/latex": [
       "A data.frame: 53 × 5\n",
       "\\begin{tabular}{lllll}\n",
       " V1 & V2 & V3 & V4 & V5\\\\\n",
       " <dbl> & <dbl> & <dbl> & <dbl> & <dbl>\\\\\n",
       "\\hline\n",
       "\t 0.000000e+00 &  0.000000e+00 & 0.004479686 & 0.01840584 & 0.09237962\\\\\n",
       "\t 0.000000e+00 &  0.000000e+00 & 0.004706973 & 0.02325406 & 0.09939886\\\\\n",
       "\t 0.000000e+00 &  0.000000e+00 & 0.006106605 & 0.03171539 & 0.10005125\\\\\n",
       "\t 0.000000e+00 &  0.000000e+00 & 0.006740605 & 0.03408690 & 0.10965080\\\\\n",
       "\t 0.000000e+00 &  0.000000e+00 & 0.007353796 & 0.03552450 & 0.11252459\\\\\n",
       "\t 0.000000e+00 &  0.000000e+00 & 0.007191029 & 0.03778698 & 0.11806777\\\\\n",
       "\t 0.000000e+00 &  0.000000e+00 & 0.006776310 & 0.03766010 & 0.11542087\\\\\n",
       "\t 0.000000e+00 &  0.000000e+00 & 0.008363223 & 0.04205166 & 0.11554998\\\\\n",
       "\t 0.000000e+00 &  0.000000e+00 & 0.007303816 & 0.03692244 & 0.11421266\\\\\n",
       "\t 0.000000e+00 &  0.000000e+00 & 0.007467144 & 0.03518958 & 0.10970437\\\\\n",
       "\t 0.000000e+00 &  0.000000e+00 & 0.007301729 & 0.03480937 & 0.10857967\\\\\n",
       "\t 0.000000e+00 &  0.000000e+00 & 0.007256204 & 0.03656099 & 0.11244526\\\\\n",
       "\t 0.000000e+00 &  0.000000e+00 & 0.006447998 & 0.03322999 & 0.11105502\\\\\n",
       "\t 0.000000e+00 &  0.000000e+00 & 0.007123050 & 0.03435132 & 0.11351463\\\\\n",
       "\t 0.000000e+00 &  0.000000e+00 & 0.007173572 & 0.03481338 & 0.11275451\\\\\n",
       "\t 0.000000e+00 &  0.000000e+00 & 0.006583438 & 0.03453316 & 0.11155940\\\\\n",
       "\t 0.000000e+00 &  0.000000e+00 & 0.006659571 & 0.03335038 & 0.10922647\\\\\n",
       "\t 0.000000e+00 &  0.000000e+00 & 0.006797552 & 0.03117190 & 0.10314742\\\\\n",
       "\t 0.000000e+00 &  0.000000e+00 & 0.010203212 & 0.03548703 & 0.09862162\\\\\n",
       "\t 0.000000e+00 &  0.000000e+00 & 0.010340269 & 0.03763866 & 0.10335050\\\\\n",
       "\t 0.000000e+00 &  0.000000e+00 & 0.009574979 & 0.03512907 & 0.09813249\\\\\n",
       "\t 0.000000e+00 &  0.000000e+00 & 0.008682060 & 0.03213751 & 0.09539388\\\\\n",
       "\t 0.000000e+00 &  0.000000e+00 & 0.009351022 & 0.03092756 & 0.09071019\\\\\n",
       "\t 0.000000e+00 &  0.000000e+00 & 0.008250087 & 0.02858707 & 0.09132602\\\\\n",
       "\t 0.000000e+00 &  0.000000e+00 & 0.007554658 & 0.02862317 & 0.08794253\\\\\n",
       "\t 0.000000e+00 &  0.000000e+00 & 0.008932284 & 0.03118378 & 0.09139342\\\\\n",
       "\t 0.000000e+00 &  0.000000e+00 & 0.009321860 & 0.03111935 & 0.08971414\\\\\n",
       "\t 0.000000e+00 &  0.000000e+00 & 0.009650822 & 0.03138710 & 0.08787765\\\\\n",
       "\t 0.000000e+00 &  0.000000e+00 & 0.009196249 & 0.03281912 & 0.09125365\\\\\n",
       "\t 0.000000e+00 &  0.000000e+00 & 0.008879862 & 0.03189577 & 0.09272727\\\\\n",
       "\t 0.000000e+00 &  0.000000e+00 & 0.009568788 & 0.03301364 & 0.09329970\\\\\n",
       "\t 0.000000e+00 &  0.000000e+00 & 0.010071337 & 0.03518929 & 0.09355582\\\\\n",
       "\t 0.000000e+00 &  0.000000e+00 & 0.011489836 & 0.03811676 & 0.09761711\\\\\n",
       "\t 0.000000e+00 &  0.000000e+00 & 0.010522783 & 0.03820236 & 0.09875691\\\\\n",
       "\t 0.000000e+00 &  0.000000e+00 & 0.012388608 & 0.04255389 & 0.10592276\\\\\n",
       "\t 0.000000e+00 &  0.000000e+00 & 0.014611773 & 0.04390943 & 0.10142021\\\\\n",
       "\t 0.000000e+00 &  0.000000e+00 & 0.016081852 & 0.04557589 & 0.10390843\\\\\n",
       "\t 0.000000e+00 &  0.000000e+00 & 0.016016566 & 0.04622335 & 0.09877027\\\\\n",
       "\t 0.000000e+00 &  0.000000e+00 & 0.014051536 & 0.04146708 & 0.09495526\\\\\n",
       "\t 0.000000e+00 &  0.000000e+00 & 0.017482534 & 0.04596218 & 0.09846904\\\\\n",
       "\t 0.000000e+00 &  0.000000e+00 & 0.017726655 & 0.04591870 & 0.09743595\\\\\n",
       "\t 0.000000e+00 &  0.000000e+00 & 0.016807297 & 0.04433234 & 0.09389884\\\\\n",
       "\t 0.000000e+00 &  0.000000e+00 & 0.017923807 & 0.04221549 & 0.08540248\\\\\n",
       "\t 0.000000e+00 &  0.000000e+00 & 0.020254734 & 0.04474422 & 0.09238385\\\\\n",
       "\t 0.000000e+00 &  0.000000e+00 & 0.019168961 & 0.04231862 & 0.08858122\\\\\n",
       "\t 0.000000e+00 &  0.000000e+00 & 0.020134455 & 0.04418300 & 0.09322977\\\\\n",
       "\t 1.410354e-03 &  0.000000e+00 & 0.019877381 & 0.04529377 & 0.09394227\\\\\n",
       "\t 1.307971e-03 &  0.000000e+00 & 0.023258248 & 0.05228165 & 0.10525518\\\\\n",
       "\t 2.034132e-03 & -1.084202e-19 & 0.025146492 & 0.05280762 & 0.10539071\\\\\n",
       "\t 2.882194e-03 &  0.000000e+00 & 0.025412811 & 0.05247199 & 0.10363480\\\\\n",
       "\t 8.156729e-05 &  3.385995e-03 & 0.026059219 & 0.05310978 & 0.10319265\\\\\n",
       "\t 7.091317e-04 &  3.863799e-03 & 0.028408607 & 0.05681218 & 0.10858479\\\\\n",
       "\t 9.908726e-04 &  4.736228e-03 & 0.031069314 & 0.05726521 & 0.10857898\\\\\n",
       "\\end{tabular}\n"
      ],
      "text/markdown": [
       "\n",
       "A data.frame: 53 × 5\n",
       "\n",
       "| V1 &lt;dbl&gt; | V2 &lt;dbl&gt; | V3 &lt;dbl&gt; | V4 &lt;dbl&gt; | V5 &lt;dbl&gt; |\n",
       "|---|---|---|---|---|\n",
       "| 0.000000e+00 |  0.000000e+00 | 0.004479686 | 0.01840584 | 0.09237962 |\n",
       "| 0.000000e+00 |  0.000000e+00 | 0.004706973 | 0.02325406 | 0.09939886 |\n",
       "| 0.000000e+00 |  0.000000e+00 | 0.006106605 | 0.03171539 | 0.10005125 |\n",
       "| 0.000000e+00 |  0.000000e+00 | 0.006740605 | 0.03408690 | 0.10965080 |\n",
       "| 0.000000e+00 |  0.000000e+00 | 0.007353796 | 0.03552450 | 0.11252459 |\n",
       "| 0.000000e+00 |  0.000000e+00 | 0.007191029 | 0.03778698 | 0.11806777 |\n",
       "| 0.000000e+00 |  0.000000e+00 | 0.006776310 | 0.03766010 | 0.11542087 |\n",
       "| 0.000000e+00 |  0.000000e+00 | 0.008363223 | 0.04205166 | 0.11554998 |\n",
       "| 0.000000e+00 |  0.000000e+00 | 0.007303816 | 0.03692244 | 0.11421266 |\n",
       "| 0.000000e+00 |  0.000000e+00 | 0.007467144 | 0.03518958 | 0.10970437 |\n",
       "| 0.000000e+00 |  0.000000e+00 | 0.007301729 | 0.03480937 | 0.10857967 |\n",
       "| 0.000000e+00 |  0.000000e+00 | 0.007256204 | 0.03656099 | 0.11244526 |\n",
       "| 0.000000e+00 |  0.000000e+00 | 0.006447998 | 0.03322999 | 0.11105502 |\n",
       "| 0.000000e+00 |  0.000000e+00 | 0.007123050 | 0.03435132 | 0.11351463 |\n",
       "| 0.000000e+00 |  0.000000e+00 | 0.007173572 | 0.03481338 | 0.11275451 |\n",
       "| 0.000000e+00 |  0.000000e+00 | 0.006583438 | 0.03453316 | 0.11155940 |\n",
       "| 0.000000e+00 |  0.000000e+00 | 0.006659571 | 0.03335038 | 0.10922647 |\n",
       "| 0.000000e+00 |  0.000000e+00 | 0.006797552 | 0.03117190 | 0.10314742 |\n",
       "| 0.000000e+00 |  0.000000e+00 | 0.010203212 | 0.03548703 | 0.09862162 |\n",
       "| 0.000000e+00 |  0.000000e+00 | 0.010340269 | 0.03763866 | 0.10335050 |\n",
       "| 0.000000e+00 |  0.000000e+00 | 0.009574979 | 0.03512907 | 0.09813249 |\n",
       "| 0.000000e+00 |  0.000000e+00 | 0.008682060 | 0.03213751 | 0.09539388 |\n",
       "| 0.000000e+00 |  0.000000e+00 | 0.009351022 | 0.03092756 | 0.09071019 |\n",
       "| 0.000000e+00 |  0.000000e+00 | 0.008250087 | 0.02858707 | 0.09132602 |\n",
       "| 0.000000e+00 |  0.000000e+00 | 0.007554658 | 0.02862317 | 0.08794253 |\n",
       "| 0.000000e+00 |  0.000000e+00 | 0.008932284 | 0.03118378 | 0.09139342 |\n",
       "| 0.000000e+00 |  0.000000e+00 | 0.009321860 | 0.03111935 | 0.08971414 |\n",
       "| 0.000000e+00 |  0.000000e+00 | 0.009650822 | 0.03138710 | 0.08787765 |\n",
       "| 0.000000e+00 |  0.000000e+00 | 0.009196249 | 0.03281912 | 0.09125365 |\n",
       "| 0.000000e+00 |  0.000000e+00 | 0.008879862 | 0.03189577 | 0.09272727 |\n",
       "| 0.000000e+00 |  0.000000e+00 | 0.009568788 | 0.03301364 | 0.09329970 |\n",
       "| 0.000000e+00 |  0.000000e+00 | 0.010071337 | 0.03518929 | 0.09355582 |\n",
       "| 0.000000e+00 |  0.000000e+00 | 0.011489836 | 0.03811676 | 0.09761711 |\n",
       "| 0.000000e+00 |  0.000000e+00 | 0.010522783 | 0.03820236 | 0.09875691 |\n",
       "| 0.000000e+00 |  0.000000e+00 | 0.012388608 | 0.04255389 | 0.10592276 |\n",
       "| 0.000000e+00 |  0.000000e+00 | 0.014611773 | 0.04390943 | 0.10142021 |\n",
       "| 0.000000e+00 |  0.000000e+00 | 0.016081852 | 0.04557589 | 0.10390843 |\n",
       "| 0.000000e+00 |  0.000000e+00 | 0.016016566 | 0.04622335 | 0.09877027 |\n",
       "| 0.000000e+00 |  0.000000e+00 | 0.014051536 | 0.04146708 | 0.09495526 |\n",
       "| 0.000000e+00 |  0.000000e+00 | 0.017482534 | 0.04596218 | 0.09846904 |\n",
       "| 0.000000e+00 |  0.000000e+00 | 0.017726655 | 0.04591870 | 0.09743595 |\n",
       "| 0.000000e+00 |  0.000000e+00 | 0.016807297 | 0.04433234 | 0.09389884 |\n",
       "| 0.000000e+00 |  0.000000e+00 | 0.017923807 | 0.04221549 | 0.08540248 |\n",
       "| 0.000000e+00 |  0.000000e+00 | 0.020254734 | 0.04474422 | 0.09238385 |\n",
       "| 0.000000e+00 |  0.000000e+00 | 0.019168961 | 0.04231862 | 0.08858122 |\n",
       "| 0.000000e+00 |  0.000000e+00 | 0.020134455 | 0.04418300 | 0.09322977 |\n",
       "| 1.410354e-03 |  0.000000e+00 | 0.019877381 | 0.04529377 | 0.09394227 |\n",
       "| 1.307971e-03 |  0.000000e+00 | 0.023258248 | 0.05228165 | 0.10525518 |\n",
       "| 2.034132e-03 | -1.084202e-19 | 0.025146492 | 0.05280762 | 0.10539071 |\n",
       "| 2.882194e-03 |  0.000000e+00 | 0.025412811 | 0.05247199 | 0.10363480 |\n",
       "| 8.156729e-05 |  3.385995e-03 | 0.026059219 | 0.05310978 | 0.10319265 |\n",
       "| 7.091317e-04 |  3.863799e-03 | 0.028408607 | 0.05681218 | 0.10858479 |\n",
       "| 9.908726e-04 |  4.736228e-03 | 0.031069314 | 0.05726521 | 0.10857898 |\n",
       "\n"
      ],
      "text/plain": [
       "   V1           V2            V3          V4         V5        \n",
       "1  0.000000e+00  0.000000e+00 0.004479686 0.01840584 0.09237962\n",
       "2  0.000000e+00  0.000000e+00 0.004706973 0.02325406 0.09939886\n",
       "3  0.000000e+00  0.000000e+00 0.006106605 0.03171539 0.10005125\n",
       "4  0.000000e+00  0.000000e+00 0.006740605 0.03408690 0.10965080\n",
       "5  0.000000e+00  0.000000e+00 0.007353796 0.03552450 0.11252459\n",
       "6  0.000000e+00  0.000000e+00 0.007191029 0.03778698 0.11806777\n",
       "7  0.000000e+00  0.000000e+00 0.006776310 0.03766010 0.11542087\n",
       "8  0.000000e+00  0.000000e+00 0.008363223 0.04205166 0.11554998\n",
       "9  0.000000e+00  0.000000e+00 0.007303816 0.03692244 0.11421266\n",
       "10 0.000000e+00  0.000000e+00 0.007467144 0.03518958 0.10970437\n",
       "11 0.000000e+00  0.000000e+00 0.007301729 0.03480937 0.10857967\n",
       "12 0.000000e+00  0.000000e+00 0.007256204 0.03656099 0.11244526\n",
       "13 0.000000e+00  0.000000e+00 0.006447998 0.03322999 0.11105502\n",
       "14 0.000000e+00  0.000000e+00 0.007123050 0.03435132 0.11351463\n",
       "15 0.000000e+00  0.000000e+00 0.007173572 0.03481338 0.11275451\n",
       "16 0.000000e+00  0.000000e+00 0.006583438 0.03453316 0.11155940\n",
       "17 0.000000e+00  0.000000e+00 0.006659571 0.03335038 0.10922647\n",
       "18 0.000000e+00  0.000000e+00 0.006797552 0.03117190 0.10314742\n",
       "19 0.000000e+00  0.000000e+00 0.010203212 0.03548703 0.09862162\n",
       "20 0.000000e+00  0.000000e+00 0.010340269 0.03763866 0.10335050\n",
       "21 0.000000e+00  0.000000e+00 0.009574979 0.03512907 0.09813249\n",
       "22 0.000000e+00  0.000000e+00 0.008682060 0.03213751 0.09539388\n",
       "23 0.000000e+00  0.000000e+00 0.009351022 0.03092756 0.09071019\n",
       "24 0.000000e+00  0.000000e+00 0.008250087 0.02858707 0.09132602\n",
       "25 0.000000e+00  0.000000e+00 0.007554658 0.02862317 0.08794253\n",
       "26 0.000000e+00  0.000000e+00 0.008932284 0.03118378 0.09139342\n",
       "27 0.000000e+00  0.000000e+00 0.009321860 0.03111935 0.08971414\n",
       "28 0.000000e+00  0.000000e+00 0.009650822 0.03138710 0.08787765\n",
       "29 0.000000e+00  0.000000e+00 0.009196249 0.03281912 0.09125365\n",
       "30 0.000000e+00  0.000000e+00 0.008879862 0.03189577 0.09272727\n",
       "31 0.000000e+00  0.000000e+00 0.009568788 0.03301364 0.09329970\n",
       "32 0.000000e+00  0.000000e+00 0.010071337 0.03518929 0.09355582\n",
       "33 0.000000e+00  0.000000e+00 0.011489836 0.03811676 0.09761711\n",
       "34 0.000000e+00  0.000000e+00 0.010522783 0.03820236 0.09875691\n",
       "35 0.000000e+00  0.000000e+00 0.012388608 0.04255389 0.10592276\n",
       "36 0.000000e+00  0.000000e+00 0.014611773 0.04390943 0.10142021\n",
       "37 0.000000e+00  0.000000e+00 0.016081852 0.04557589 0.10390843\n",
       "38 0.000000e+00  0.000000e+00 0.016016566 0.04622335 0.09877027\n",
       "39 0.000000e+00  0.000000e+00 0.014051536 0.04146708 0.09495526\n",
       "40 0.000000e+00  0.000000e+00 0.017482534 0.04596218 0.09846904\n",
       "41 0.000000e+00  0.000000e+00 0.017726655 0.04591870 0.09743595\n",
       "42 0.000000e+00  0.000000e+00 0.016807297 0.04433234 0.09389884\n",
       "43 0.000000e+00  0.000000e+00 0.017923807 0.04221549 0.08540248\n",
       "44 0.000000e+00  0.000000e+00 0.020254734 0.04474422 0.09238385\n",
       "45 0.000000e+00  0.000000e+00 0.019168961 0.04231862 0.08858122\n",
       "46 0.000000e+00  0.000000e+00 0.020134455 0.04418300 0.09322977\n",
       "47 1.410354e-03  0.000000e+00 0.019877381 0.04529377 0.09394227\n",
       "48 1.307971e-03  0.000000e+00 0.023258248 0.05228165 0.10525518\n",
       "49 2.034132e-03 -1.084202e-19 0.025146492 0.05280762 0.10539071\n",
       "50 2.882194e-03  0.000000e+00 0.025412811 0.05247199 0.10363480\n",
       "51 8.156729e-05  3.385995e-03 0.026059219 0.05310978 0.10319265\n",
       "52 7.091317e-04  3.863799e-03 0.028408607 0.05681218 0.10858479\n",
       "53 9.908726e-04  4.736228e-03 0.031069314 0.05726521 0.10857898"
      ]
     },
     "metadata": {},
     "output_type": "display_data"
    },
    {
     "data": {
      "text/html": [
       "<table class=\"dataframe\">\n",
       "<caption>A matrix: 5 × 5 of type dbl</caption>\n",
       "<thead>\n",
       "\t<tr><th></th><th scope=col>V1</th><th scope=col>V2</th><th scope=col>V3</th><th scope=col>V4</th><th scope=col>V5</th></tr>\n",
       "</thead>\n",
       "<tbody>\n",
       "\t<tr><th scope=row>V1</th><td> 2.263518e-07</td><td>-1.770099e-07</td><td>1.559447e-08</td><td>1.711553e-08</td><td> 5.427058e-08</td></tr>\n",
       "\t<tr><th scope=row>V2</th><td>-1.770099e-07</td><td> 2.357452e-07</td><td>6.295578e-08</td><td>1.538140e-08</td><td>-7.867548e-09</td></tr>\n",
       "\t<tr><th scope=row>V3</th><td> 1.559447e-08</td><td> 6.295578e-08</td><td>1.567100e-06</td><td>2.416956e-06</td><td> 1.921950e-06</td></tr>\n",
       "\t<tr><th scope=row>V4</th><td> 1.711553e-08</td><td> 1.538140e-08</td><td>2.416956e-06</td><td>7.320522e-06</td><td> 7.321334e-06</td></tr>\n",
       "\t<tr><th scope=row>V5</th><td> 5.427058e-08</td><td>-7.867548e-09</td><td>1.921950e-06</td><td>7.321334e-06</td><td> 1.759335e-05</td></tr>\n",
       "</tbody>\n",
       "</table>\n"
      ],
      "text/latex": [
       "A matrix: 5 × 5 of type dbl\n",
       "\\begin{tabular}{r|lllll}\n",
       "  & V1 & V2 & V3 & V4 & V5\\\\\n",
       "\\hline\n",
       "\tV1 &  2.263518e-07 & -1.770099e-07 & 1.559447e-08 & 1.711553e-08 &  5.427058e-08\\\\\n",
       "\tV2 & -1.770099e-07 &  2.357452e-07 & 6.295578e-08 & 1.538140e-08 & -7.867548e-09\\\\\n",
       "\tV3 &  1.559447e-08 &  6.295578e-08 & 1.567100e-06 & 2.416956e-06 &  1.921950e-06\\\\\n",
       "\tV4 &  1.711553e-08 &  1.538140e-08 & 2.416956e-06 & 7.320522e-06 &  7.321334e-06\\\\\n",
       "\tV5 &  5.427058e-08 & -7.867548e-09 & 1.921950e-06 & 7.321334e-06 &  1.759335e-05\\\\\n",
       "\\end{tabular}\n"
      ],
      "text/markdown": [
       "\n",
       "A matrix: 5 × 5 of type dbl\n",
       "\n",
       "| <!--/--> | V1 | V2 | V3 | V4 | V5 |\n",
       "|---|---|---|---|---|---|\n",
       "| V1 |  2.263518e-07 | -1.770099e-07 | 1.559447e-08 | 1.711553e-08 |  5.427058e-08 |\n",
       "| V2 | -1.770099e-07 |  2.357452e-07 | 6.295578e-08 | 1.538140e-08 | -7.867548e-09 |\n",
       "| V3 |  1.559447e-08 |  6.295578e-08 | 1.567100e-06 | 2.416956e-06 |  1.921950e-06 |\n",
       "| V4 |  1.711553e-08 |  1.538140e-08 | 2.416956e-06 | 7.320522e-06 |  7.321334e-06 |\n",
       "| V5 |  5.427058e-08 | -7.867548e-09 | 1.921950e-06 | 7.321334e-06 |  1.759335e-05 |\n",
       "\n"
      ],
      "text/plain": [
       "   V1            V2            V3           V4           V5           \n",
       "V1  2.263518e-07 -1.770099e-07 1.559447e-08 1.711553e-08  5.427058e-08\n",
       "V2 -1.770099e-07  2.357452e-07 6.295578e-08 1.538140e-08 -7.867548e-09\n",
       "V3  1.559447e-08  6.295578e-08 1.567100e-06 2.416956e-06  1.921950e-06\n",
       "V4  1.711553e-08  1.538140e-08 2.416956e-06 7.320522e-06  7.321334e-06\n",
       "V5  5.427058e-08 -7.867548e-09 1.921950e-06 7.321334e-06  1.759335e-05"
      ]
     },
     "metadata": {},
     "output_type": "display_data"
    }
   ],
   "source": [
    "MatofAlphas <- read.csv(\"../data/sim.csv\")\n",
    "i_alpha <- MatofAlphas[-nrow(MatofAlphas),]\n",
    "f_alpha <- MatofAlphas[-1,]\n",
    "delta_alpha <- f_alpha - i_alpha\n",
    "cov_delta_a <- cov(delta_alpha)\n",
    "MatofAlphas\n",
    "cov_delta_a"
   ]
  },
  {
   "cell_type": "code",
   "execution_count": 44,
   "id": "15b0e16c",
   "metadata": {},
   "outputs": [
    {
     "data": {
      "text/html": [
       "<table class=\"dataframe\">\n",
       "<caption>A matrix: 5 × 5 of type dbl</caption>\n",
       "<tbody>\n",
       "\t<tr><td>0.002665869</td><td> 0.00219449</td><td> 0.03159736</td><td> 0.703379734</td><td> 0.710103256</td></tr>\n",
       "\t<tr><td>0.000395984</td><td>-0.01072731</td><td>-0.13662533</td><td>-0.700696616</td><td> 0.700173221</td></tr>\n",
       "\t<tr><td>0.138663191</td><td>-0.39234767</td><td>-0.89971081</td><td> 0.111675472</td><td>-0.069891854</td></tr>\n",
       "\t<tr><td>0.465326709</td><td>-0.78463804</td><td> 0.40670376</td><td>-0.042432518</td><td> 0.024611616</td></tr>\n",
       "\t<tr><td>0.874206103</td><td> 0.47988182</td><td>-0.07380809</td><td> 0.003045109</td><td>-0.004497011</td></tr>\n",
       "</tbody>\n",
       "</table>\n"
      ],
      "text/latex": [
       "A matrix: 5 × 5 of type dbl\n",
       "\\begin{tabular}{lllll}\n",
       "\t 0.002665869 &  0.00219449 &  0.03159736 &  0.703379734 &  0.710103256\\\\\n",
       "\t 0.000395984 & -0.01072731 & -0.13662533 & -0.700696616 &  0.700173221\\\\\n",
       "\t 0.138663191 & -0.39234767 & -0.89971081 &  0.111675472 & -0.069891854\\\\\n",
       "\t 0.465326709 & -0.78463804 &  0.40670376 & -0.042432518 &  0.024611616\\\\\n",
       "\t 0.874206103 &  0.47988182 & -0.07380809 &  0.003045109 & -0.004497011\\\\\n",
       "\\end{tabular}\n"
      ],
      "text/markdown": [
       "\n",
       "A matrix: 5 × 5 of type dbl\n",
       "\n",
       "| 0.002665869 |  0.00219449 |  0.03159736 |  0.703379734 |  0.710103256 |\n",
       "| 0.000395984 | -0.01072731 | -0.13662533 | -0.700696616 |  0.700173221 |\n",
       "| 0.138663191 | -0.39234767 | -0.89971081 |  0.111675472 | -0.069891854 |\n",
       "| 0.465326709 | -0.78463804 |  0.40670376 | -0.042432518 |  0.024611616 |\n",
       "| 0.874206103 |  0.47988182 | -0.07380809 |  0.003045109 | -0.004497011 |\n",
       "\n"
      ],
      "text/plain": [
       "     [,1]        [,2]        [,3]        [,4]         [,5]        \n",
       "[1,] 0.002665869  0.00219449  0.03159736  0.703379734  0.710103256\n",
       "[2,] 0.000395984 -0.01072731 -0.13662533 -0.700696616  0.700173221\n",
       "[3,] 0.138663191 -0.39234767 -0.89971081  0.111675472 -0.069891854\n",
       "[4,] 0.465326709 -0.78463804  0.40670376 -0.042432518  0.024611616\n",
       "[5,] 0.874206103  0.47988182 -0.07380809  0.003045109 -0.004497011"
      ]
     },
     "metadata": {},
     "output_type": "display_data"
    },
    {
     "data": {
      "text/html": [
       "<style>\n",
       ".list-inline {list-style: none; margin:0; padding: 0}\n",
       ".list-inline>li {display: inline-block}\n",
       ".list-inline>li:not(:last-child)::after {content: \"\\00b7\"; padding: 0 .5ex}\n",
       "</style>\n",
       "<ol class=list-inline><li>0.00466855488264881</li><li>0.00201284604298272</li><li>0.000800764680719527</li><li>0.00063589688933654</li><li>0.000224792911466482</li></ol>\n"
      ],
      "text/latex": [
       "\\begin{enumerate*}\n",
       "\\item 0.00466855488264881\n",
       "\\item 0.00201284604298272\n",
       "\\item 0.000800764680719527\n",
       "\\item 0.00063589688933654\n",
       "\\item 0.000224792911466482\n",
       "\\end{enumerate*}\n"
      ],
      "text/markdown": [
       "1. 0.00466855488264881\n",
       "2. 0.00201284604298272\n",
       "3. 0.000800764680719527\n",
       "4. 0.00063589688933654\n",
       "5. 0.000224792911466482\n",
       "\n",
       "\n"
      ],
      "text/plain": [
       "[1] 0.0046685549 0.0020128460 0.0008007647 0.0006358969 0.0002247929"
      ]
     },
     "metadata": {},
     "output_type": "display_data"
    },
    {
     "data": {
      "text/html": [
       "<table class=\"dataframe\">\n",
       "<caption>A matrix: 5 × 5 of type dbl</caption>\n",
       "<tbody>\n",
       "\t<tr><td>1.244576e-05</td><td> 4.417170e-06</td><td> 2.530205e-05</td><td> 4.472770e-04</td><td> 1.596262e-04</td></tr>\n",
       "\t<tr><td>1.848673e-06</td><td>-2.159243e-05</td><td>-1.094047e-04</td><td>-4.455708e-04</td><td> 1.573940e-04</td></tr>\n",
       "\t<tr><td>6.473567e-04</td><td>-7.897355e-04</td><td>-7.204566e-04</td><td> 7.101409e-05</td><td>-1.571119e-05</td></tr>\n",
       "\t<tr><td>2.172403e-03</td><td>-1.579356e-03</td><td> 3.256740e-04</td><td>-2.698271e-05</td><td> 5.532517e-06</td></tr>\n",
       "\t<tr><td>4.081279e-03</td><td> 9.659282e-04</td><td>-5.910291e-05</td><td> 1.936375e-06</td><td>-1.010896e-06</td></tr>\n",
       "</tbody>\n",
       "</table>\n"
      ],
      "text/latex": [
       "A matrix: 5 × 5 of type dbl\n",
       "\\begin{tabular}{lllll}\n",
       "\t 1.244576e-05 &  4.417170e-06 &  2.530205e-05 &  4.472770e-04 &  1.596262e-04\\\\\n",
       "\t 1.848673e-06 & -2.159243e-05 & -1.094047e-04 & -4.455708e-04 &  1.573940e-04\\\\\n",
       "\t 6.473567e-04 & -7.897355e-04 & -7.204566e-04 &  7.101409e-05 & -1.571119e-05\\\\\n",
       "\t 2.172403e-03 & -1.579356e-03 &  3.256740e-04 & -2.698271e-05 &  5.532517e-06\\\\\n",
       "\t 4.081279e-03 &  9.659282e-04 & -5.910291e-05 &  1.936375e-06 & -1.010896e-06\\\\\n",
       "\\end{tabular}\n"
      ],
      "text/markdown": [
       "\n",
       "A matrix: 5 × 5 of type dbl\n",
       "\n",
       "| 1.244576e-05 |  4.417170e-06 |  2.530205e-05 |  4.472770e-04 |  1.596262e-04 |\n",
       "| 1.848673e-06 | -2.159243e-05 | -1.094047e-04 | -4.455708e-04 |  1.573940e-04 |\n",
       "| 6.473567e-04 | -7.897355e-04 | -7.204566e-04 |  7.101409e-05 | -1.571119e-05 |\n",
       "| 2.172403e-03 | -1.579356e-03 |  3.256740e-04 | -2.698271e-05 |  5.532517e-06 |\n",
       "| 4.081279e-03 |  9.659282e-04 | -5.910291e-05 |  1.936375e-06 | -1.010896e-06 |\n",
       "\n"
      ],
      "text/plain": [
       "     [,1]         [,2]          [,3]          [,4]          [,5]         \n",
       "[1,] 1.244576e-05  4.417170e-06  2.530205e-05  4.472770e-04  1.596262e-04\n",
       "[2,] 1.848673e-06 -2.159243e-05 -1.094047e-04 -4.455708e-04  1.573940e-04\n",
       "[3,] 6.473567e-04 -7.897355e-04 -7.204566e-04  7.101409e-05 -1.571119e-05\n",
       "[4,] 2.172403e-03 -1.579356e-03  3.256740e-04 -2.698271e-05  5.532517e-06\n",
       "[5,] 4.081279e-03  9.659282e-04 -5.910291e-05  1.936375e-06 -1.010896e-06"
      ]
     },
     "metadata": {},
     "output_type": "display_data"
    }
   ],
   "source": [
    "eigen_delta <- eigen(cov_delta_a)\n",
    "A <- eigen_delta$vectors \n",
    "sqrt <- sqrt(eigen_delta$values)\n",
    "A \n",
    "sqrt\n",
    "B <- t(t(A)*sqrt)\n",
    "B"
   ]
  },
  {
   "cell_type": "code",
   "execution_count": 45,
   "id": "ba867aef",
   "metadata": {},
   "outputs": [
    {
     "data": {
      "image/png": "[encoded data removed]",
      "text/plain": [
       "plot without title"
      ]
     },
     "metadata": {},
     "output_type": "display_data"
    }
   ],
   "source": [
    "Bbase <- as.data.frame(B)\n",
    "Bbase$N <- c(1,2,3,4,5)\n",
    "Bbase <- pivot_longer(Bbase, cols=1:5,names_to= \"component\", values_to='Values')\n",
    "ggplot(Bbase, aes(x = N, y = Values, color = component)) + \n",
    "  geom_line() +\n",
    "  geom_point()"
   ]
  },
  {
   "cell_type": "code",
   "execution_count": 46,
   "id": "890bd92a",
   "metadata": {},
   "outputs": [
    {
     "data": {
      "text/html": [
       "<table class=\"dataframe\">\n",
       "<caption>A data.frame: 53 × 5</caption>\n",
       "<thead>\n",
       "\t<tr><th scope=col>V1</th><th scope=col>V2</th><th scope=col>V3</th><th scope=col>V4</th><th scope=col>V5</th></tr>\n",
       "\t<tr><th scope=col>&lt;dbl&gt;</th><th scope=col>&lt;dbl&gt;</th><th scope=col>&lt;dbl&gt;</th><th scope=col>&lt;dbl&gt;</th><th scope=col>&lt;dbl&gt;</th></tr>\n",
       "</thead>\n",
       "<tbody>\n",
       "\t<tr><td> 0.000000e+00</td><td> 0.000000e+00</td><td>-4.805499e-05</td><td> 8.832627e-03</td><td>-8.311495e-02</td></tr>\n",
       "\t<tr><td> 0.000000e+00</td><td> 0.000000e+00</td><td>-1.846770e-03</td><td> 7.347669e-04</td><td> 4.042589e-02</td></tr>\n",
       "\t<tr><td> 0.000000e+00</td><td> 0.000000e+00</td><td>-4.791474e-03</td><td>-4.333126e-03</td><td>-7.384592e-03</td></tr>\n",
       "\t<tr><td> 0.000000e+00</td><td> 0.000000e+00</td><td> 3.234694e-03</td><td>-3.066835e-02</td><td> 7.712615e-02</td></tr>\n",
       "\t<tr><td> 0.000000e+00</td><td> 0.000000e+00</td><td> 2.323605e-04</td><td> 1.444795e-02</td><td>-7.884560e-02</td></tr>\n",
       "\t<tr><td> 0.000000e+00</td><td> 0.000000e+00</td><td>-9.824767e-04</td><td>-2.788985e-03</td><td> 1.318527e-02</td></tr>\n",
       "\t<tr><td> 0.000000e+00</td><td> 0.000000e+00</td><td>-6.096719e-03</td><td> 2.648935e-02</td><td>-4.897598e-03</td></tr>\n",
       "\t<tr><td> 0.000000e+00</td><td> 0.000000e+00</td><td> 3.401354e-03</td><td>-2.946546e-02</td><td> 3.518623e-04</td></tr>\n",
       "\t<tr><td> 0.000000e+00</td><td> 0.000000e+00</td><td>-5.390807e-04</td><td> 4.123331e-03</td><td> 8.110278e-02</td></tr>\n",
       "\t<tr><td> 0.000000e+00</td><td> 0.000000e+00</td><td> 5.252238e-03</td><td>-1.493183e-03</td><td> 7.681206e-02</td></tr>\n",
       "\t<tr><td> 0.000000e+00</td><td> 0.000000e+00</td><td>-5.116297e-03</td><td> 1.059983e-04</td><td>-7.588835e-03</td></tr>\n",
       "\t<tr><td> 0.000000e+00</td><td> 0.000000e+00</td><td> 8.103400e-04</td><td> 2.596208e-02</td><td> 2.767460e-03</td></tr>\n",
       "\t<tr><td> 0.000000e+00</td><td> 0.000000e+00</td><td>-2.736048e-04</td><td> 2.326675e-02</td><td>-4.994156e-04</td></tr>\n",
       "\t<tr><td> 0.000000e+00</td><td> 0.000000e+00</td><td> 2.169046e-05</td><td>-2.400878e-03</td><td> 3.026151e-04</td></tr>\n",
       "\t<tr><td> 0.000000e+00</td><td> 0.000000e+00</td><td> 5.093977e-03</td><td> 8.568136e-04</td><td> 4.464898e-05</td></tr>\n",
       "\t<tr><td> 0.000000e+00</td><td> 0.000000e+00</td><td> 4.609547e-03</td><td>-1.552960e-04</td><td> 1.546918e-02</td></tr>\n",
       "\t<tr><td> 0.000000e+00</td><td> 0.000000e+00</td><td>-4.654498e-04</td><td> 8.890774e-05</td><td> 5.082599e-02</td></tr>\n",
       "\t<tr><td> 0.000000e+00</td><td> 0.000000e+00</td><td> 1.672987e-04</td><td> 1.234357e-05</td><td> 9.017210e-02</td></tr>\n",
       "\t<tr><td> 0.000000e+00</td><td> 0.000000e+00</td><td>-4.588396e-05</td><td> 4.920745e-03</td><td> 2.164242e-04</td></tr>\n",
       "\t<tr><td> 0.000000e+00</td><td> 0.000000e+00</td><td> 2.756580e-05</td><td> 1.751427e-02</td><td>-1.108673e-03</td></tr>\n",
       "\t<tr><td> 0.000000e+00</td><td> 0.000000e+00</td><td> 3.791538e-06</td><td> 3.071004e-02</td><td>-3.850205e-02</td></tr>\n",
       "\t<tr><td> 0.000000e+00</td><td> 0.000000e+00</td><td> 1.203882e-03</td><td> 7.052544e-05</td><td>-7.484967e-02</td></tr>\n",
       "\t<tr><td> 0.000000e+00</td><td> 0.000000e+00</td><td> 4.351280e-03</td><td>-3.317696e-04</td><td> 4.353017e-02</td></tr>\n",
       "\t<tr><td> 0.000000e+00</td><td> 0.000000e+00</td><td> 7.212276e-03</td><td>-1.121607e-02</td><td> 2.885661e-03</td></tr>\n",
       "\t<tr><td> 0.000000e+00</td><td> 0.000000e+00</td><td> 1.657862e-05</td><td>-2.245883e-02</td><td>-1.201518e-02</td></tr>\n",
       "\t<tr><td> 0.000000e+00</td><td> 0.000000e+00</td><td>-9.581941e-05</td><td> 1.496453e-02</td><td>-8.222765e-02</td></tr>\n",
       "\t<tr><td> 0.000000e+00</td><td> 0.000000e+00</td><td>-3.657410e-03</td><td> 9.832893e-04</td><td> 3.648708e-02</td></tr>\n",
       "\t<tr><td> 0.000000e+00</td><td> 0.000000e+00</td><td>-7.572402e-03</td><td>-4.288273e-03</td><td>-6.486082e-03</td></tr>\n",
       "\t<tr><td> 0.000000e+00</td><td> 0.000000e+00</td><td> 4.413113e-03</td><td>-2.952772e-02</td><td> 6.418597e-02</td></tr>\n",
       "\t<tr><td> 0.000000e+00</td><td> 0.000000e+00</td><td> 2.805802e-04</td><td> 1.297213e-02</td><td>-6.497368e-02</td></tr>\n",
       "\t<tr><td> 0.000000e+00</td><td> 0.000000e+00</td><td>-1.307339e-03</td><td>-2.436674e-03</td><td> 1.041929e-02</td></tr>\n",
       "\t<tr><td> 0.000000e+00</td><td> 0.000000e+00</td><td>-9.061291e-03</td><td> 2.475143e-02</td><td>-3.969809e-03</td></tr>\n",
       "\t<tr><td> 0.000000e+00</td><td> 0.000000e+00</td><td> 4.672960e-03</td><td>-2.670828e-02</td><td> 2.972547e-04</td></tr>\n",
       "\t<tr><td> 0.000000e+00</td><td> 0.000000e+00</td><td>-7.766666e-04</td><td> 4.266267e-03</td><td> 7.012760e-02</td></tr>\n",
       "\t<tr><td> 0.000000e+00</td><td> 0.000000e+00</td><td> 8.713895e-03</td><td>-1.805669e-03</td><td> 7.416428e-02</td></tr>\n",
       "\t<tr><td> 0.000000e+00</td><td> 0.000000e+00</td><td>-1.023842e-02</td><td> 1.337090e-04</td><td>-7.088446e-03</td></tr>\n",
       "\t<tr><td> 0.000000e+00</td><td> 0.000000e+00</td><td> 1.795948e-03</td><td> 3.236359e-02</td><td> 2.557354e-03</td></tr>\n",
       "\t<tr><td> 0.000000e+00</td><td> 0.000000e+00</td><td>-6.796232e-04</td><td> 3.236435e-02</td><td>-4.441710e-04</td></tr>\n",
       "\t<tr><td> 0.000000e+00</td><td> 0.000000e+00</td><td> 4.278846e-05</td><td>-2.898211e-03</td><td> 2.531383e-04</td></tr>\n",
       "\t<tr><td> 0.000000e+00</td><td> 0.000000e+00</td><td> 1.241440e-02</td><td> 1.131204e-03</td><td> 3.899216e-05</td></tr>\n",
       "\t<tr><td> 0.000000e+00</td><td> 0.000000e+00</td><td> 1.241173e-02</td><td>-2.064969e-04</td><td> 1.351078e-02</td></tr>\n",
       "\t<tr><td> 0.000000e+00</td><td> 0.000000e+00</td><td>-1.174693e-03</td><td> 1.181842e-04</td><td> 4.369364e-02</td></tr>\n",
       "\t<tr><td> 0.000000e+00</td><td> 0.000000e+00</td><td> 4.411339e-04</td><td> 1.671666e-05</td><td> 7.465937e-02</td></tr>\n",
       "\t<tr><td> 0.000000e+00</td><td> 0.000000e+00</td><td>-9.108576e-05</td><td> 6.204376e-03</td><td> 2.027354e-04</td></tr>\n",
       "\t<tr><td> 0.000000e+00</td><td> 0.000000e+00</td><td> 5.110194e-05</td><td> 1.969198e-02</td><td>-9.502384e-04</td></tr>\n",
       "\t<tr><td> 0.000000e+00</td><td> 0.000000e+00</td><td> 7.972922e-06</td><td> 3.862505e-02</td><td>-3.657848e-02</td></tr>\n",
       "\t<tr><td> 9.874920e-04</td><td> 0.000000e+00</td><td> 2.756261e-03</td><td> 9.939673e-05</td><td>-7.371068e-02</td></tr>\n",
       "\t<tr><td>-9.141650e-05</td><td> 0.000000e+00</td><td> 1.082268e-02</td><td>-5.608416e-04</td><td> 5.051005e-02</td></tr>\n",
       "\t<tr><td> 5.006328e-05</td><td>-4.293267e-23</td><td> 2.198322e-02</td><td>-2.071895e-02</td><td> 3.330068e-03</td></tr>\n",
       "\t<tr><td>-1.296126e-05</td><td> 0.000000e+00</td><td> 5.576816e-05</td><td>-4.117152e-02</td><td>-1.415914e-02</td></tr>\n",
       "\t<tr><td> 2.174477e-07</td><td> 1.575594e-03</td><td>-2.795454e-04</td><td> 2.548642e-02</td><td>-9.284355e-02</td></tr>\n",
       "\t<tr><td> 2.808048e-07</td><td> 3.377756e-03</td><td>-1.114605e-02</td><td> 1.795115e-03</td><td> 4.416184e-02</td></tr>\n",
       "\t<tr><td> 1.373976e-04</td><td> 1.039361e-05</td><td>-2.437817e-02</td><td>-7.823879e-03</td><td>-8.014007e-03</td></tr>\n",
       "</tbody>\n",
       "</table>\n"
      ],
      "text/latex": [
       "A data.frame: 53 × 5\n",
       "\\begin{tabular}{lllll}\n",
       " V1 & V2 & V3 & V4 & V5\\\\\n",
       " <dbl> & <dbl> & <dbl> & <dbl> & <dbl>\\\\\n",
       "\\hline\n",
       "\t  0.000000e+00 &  0.000000e+00 & -4.805499e-05 &  8.832627e-03 & -8.311495e-02\\\\\n",
       "\t  0.000000e+00 &  0.000000e+00 & -1.846770e-03 &  7.347669e-04 &  4.042589e-02\\\\\n",
       "\t  0.000000e+00 &  0.000000e+00 & -4.791474e-03 & -4.333126e-03 & -7.384592e-03\\\\\n",
       "\t  0.000000e+00 &  0.000000e+00 &  3.234694e-03 & -3.066835e-02 &  7.712615e-02\\\\\n",
       "\t  0.000000e+00 &  0.000000e+00 &  2.323605e-04 &  1.444795e-02 & -7.884560e-02\\\\\n",
       "\t  0.000000e+00 &  0.000000e+00 & -9.824767e-04 & -2.788985e-03 &  1.318527e-02\\\\\n",
       "\t  0.000000e+00 &  0.000000e+00 & -6.096719e-03 &  2.648935e-02 & -4.897598e-03\\\\\n",
       "\t  0.000000e+00 &  0.000000e+00 &  3.401354e-03 & -2.946546e-02 &  3.518623e-04\\\\\n",
       "\t  0.000000e+00 &  0.000000e+00 & -5.390807e-04 &  4.123331e-03 &  8.110278e-02\\\\\n",
       "\t  0.000000e+00 &  0.000000e+00 &  5.252238e-03 & -1.493183e-03 &  7.681206e-02\\\\\n",
       "\t  0.000000e+00 &  0.000000e+00 & -5.116297e-03 &  1.059983e-04 & -7.588835e-03\\\\\n",
       "\t  0.000000e+00 &  0.000000e+00 &  8.103400e-04 &  2.596208e-02 &  2.767460e-03\\\\\n",
       "\t  0.000000e+00 &  0.000000e+00 & -2.736048e-04 &  2.326675e-02 & -4.994156e-04\\\\\n",
       "\t  0.000000e+00 &  0.000000e+00 &  2.169046e-05 & -2.400878e-03 &  3.026151e-04\\\\\n",
       "\t  0.000000e+00 &  0.000000e+00 &  5.093977e-03 &  8.568136e-04 &  4.464898e-05\\\\\n",
       "\t  0.000000e+00 &  0.000000e+00 &  4.609547e-03 & -1.552960e-04 &  1.546918e-02\\\\\n",
       "\t  0.000000e+00 &  0.000000e+00 & -4.654498e-04 &  8.890774e-05 &  5.082599e-02\\\\\n",
       "\t  0.000000e+00 &  0.000000e+00 &  1.672987e-04 &  1.234357e-05 &  9.017210e-02\\\\\n",
       "\t  0.000000e+00 &  0.000000e+00 & -4.588396e-05 &  4.920745e-03 &  2.164242e-04\\\\\n",
       "\t  0.000000e+00 &  0.000000e+00 &  2.756580e-05 &  1.751427e-02 & -1.108673e-03\\\\\n",
       "\t  0.000000e+00 &  0.000000e+00 &  3.791538e-06 &  3.071004e-02 & -3.850205e-02\\\\\n",
       "\t  0.000000e+00 &  0.000000e+00 &  1.203882e-03 &  7.052544e-05 & -7.484967e-02\\\\\n",
       "\t  0.000000e+00 &  0.000000e+00 &  4.351280e-03 & -3.317696e-04 &  4.353017e-02\\\\\n",
       "\t  0.000000e+00 &  0.000000e+00 &  7.212276e-03 & -1.121607e-02 &  2.885661e-03\\\\\n",
       "\t  0.000000e+00 &  0.000000e+00 &  1.657862e-05 & -2.245883e-02 & -1.201518e-02\\\\\n",
       "\t  0.000000e+00 &  0.000000e+00 & -9.581941e-05 &  1.496453e-02 & -8.222765e-02\\\\\n",
       "\t  0.000000e+00 &  0.000000e+00 & -3.657410e-03 &  9.832893e-04 &  3.648708e-02\\\\\n",
       "\t  0.000000e+00 &  0.000000e+00 & -7.572402e-03 & -4.288273e-03 & -6.486082e-03\\\\\n",
       "\t  0.000000e+00 &  0.000000e+00 &  4.413113e-03 & -2.952772e-02 &  6.418597e-02\\\\\n",
       "\t  0.000000e+00 &  0.000000e+00 &  2.805802e-04 &  1.297213e-02 & -6.497368e-02\\\\\n",
       "\t  0.000000e+00 &  0.000000e+00 & -1.307339e-03 & -2.436674e-03 &  1.041929e-02\\\\\n",
       "\t  0.000000e+00 &  0.000000e+00 & -9.061291e-03 &  2.475143e-02 & -3.969809e-03\\\\\n",
       "\t  0.000000e+00 &  0.000000e+00 &  4.672960e-03 & -2.670828e-02 &  2.972547e-04\\\\\n",
       "\t  0.000000e+00 &  0.000000e+00 & -7.766666e-04 &  4.266267e-03 &  7.012760e-02\\\\\n",
       "\t  0.000000e+00 &  0.000000e+00 &  8.713895e-03 & -1.805669e-03 &  7.416428e-02\\\\\n",
       "\t  0.000000e+00 &  0.000000e+00 & -1.023842e-02 &  1.337090e-04 & -7.088446e-03\\\\\n",
       "\t  0.000000e+00 &  0.000000e+00 &  1.795948e-03 &  3.236359e-02 &  2.557354e-03\\\\\n",
       "\t  0.000000e+00 &  0.000000e+00 & -6.796232e-04 &  3.236435e-02 & -4.441710e-04\\\\\n",
       "\t  0.000000e+00 &  0.000000e+00 &  4.278846e-05 & -2.898211e-03 &  2.531383e-04\\\\\n",
       "\t  0.000000e+00 &  0.000000e+00 &  1.241440e-02 &  1.131204e-03 &  3.899216e-05\\\\\n",
       "\t  0.000000e+00 &  0.000000e+00 &  1.241173e-02 & -2.064969e-04 &  1.351078e-02\\\\\n",
       "\t  0.000000e+00 &  0.000000e+00 & -1.174693e-03 &  1.181842e-04 &  4.369364e-02\\\\\n",
       "\t  0.000000e+00 &  0.000000e+00 &  4.411339e-04 &  1.671666e-05 &  7.465937e-02\\\\\n",
       "\t  0.000000e+00 &  0.000000e+00 & -9.108576e-05 &  6.204376e-03 &  2.027354e-04\\\\\n",
       "\t  0.000000e+00 &  0.000000e+00 &  5.110194e-05 &  1.969198e-02 & -9.502384e-04\\\\\n",
       "\t  0.000000e+00 &  0.000000e+00 &  7.972922e-06 &  3.862505e-02 & -3.657848e-02\\\\\n",
       "\t  9.874920e-04 &  0.000000e+00 &  2.756261e-03 &  9.939673e-05 & -7.371068e-02\\\\\n",
       "\t -9.141650e-05 &  0.000000e+00 &  1.082268e-02 & -5.608416e-04 &  5.051005e-02\\\\\n",
       "\t  5.006328e-05 & -4.293267e-23 &  2.198322e-02 & -2.071895e-02 &  3.330068e-03\\\\\n",
       "\t -1.296126e-05 &  0.000000e+00 &  5.576816e-05 & -4.117152e-02 & -1.415914e-02\\\\\n",
       "\t  2.174477e-07 &  1.575594e-03 & -2.795454e-04 &  2.548642e-02 & -9.284355e-02\\\\\n",
       "\t  2.808048e-07 &  3.377756e-03 & -1.114605e-02 &  1.795115e-03 &  4.416184e-02\\\\\n",
       "\t  1.373976e-04 &  1.039361e-05 & -2.437817e-02 & -7.823879e-03 & -8.014007e-03\\\\\n",
       "\\end{tabular}\n"
      ],
      "text/markdown": [
       "\n",
       "A data.frame: 53 × 5\n",
       "\n",
       "| V1 &lt;dbl&gt; | V2 &lt;dbl&gt; | V3 &lt;dbl&gt; | V4 &lt;dbl&gt; | V5 &lt;dbl&gt; |\n",
       "|---|---|---|---|---|\n",
       "|  0.000000e+00 |  0.000000e+00 | -4.805499e-05 |  8.832627e-03 | -8.311495e-02 |\n",
       "|  0.000000e+00 |  0.000000e+00 | -1.846770e-03 |  7.347669e-04 |  4.042589e-02 |\n",
       "|  0.000000e+00 |  0.000000e+00 | -4.791474e-03 | -4.333126e-03 | -7.384592e-03 |\n",
       "|  0.000000e+00 |  0.000000e+00 |  3.234694e-03 | -3.066835e-02 |  7.712615e-02 |\n",
       "|  0.000000e+00 |  0.000000e+00 |  2.323605e-04 |  1.444795e-02 | -7.884560e-02 |\n",
       "|  0.000000e+00 |  0.000000e+00 | -9.824767e-04 | -2.788985e-03 |  1.318527e-02 |\n",
       "|  0.000000e+00 |  0.000000e+00 | -6.096719e-03 |  2.648935e-02 | -4.897598e-03 |\n",
       "|  0.000000e+00 |  0.000000e+00 |  3.401354e-03 | -2.946546e-02 |  3.518623e-04 |\n",
       "|  0.000000e+00 |  0.000000e+00 | -5.390807e-04 |  4.123331e-03 |  8.110278e-02 |\n",
       "|  0.000000e+00 |  0.000000e+00 |  5.252238e-03 | -1.493183e-03 |  7.681206e-02 |\n",
       "|  0.000000e+00 |  0.000000e+00 | -5.116297e-03 |  1.059983e-04 | -7.588835e-03 |\n",
       "|  0.000000e+00 |  0.000000e+00 |  8.103400e-04 |  2.596208e-02 |  2.767460e-03 |\n",
       "|  0.000000e+00 |  0.000000e+00 | -2.736048e-04 |  2.326675e-02 | -4.994156e-04 |\n",
       "|  0.000000e+00 |  0.000000e+00 |  2.169046e-05 | -2.400878e-03 |  3.026151e-04 |\n",
       "|  0.000000e+00 |  0.000000e+00 |  5.093977e-03 |  8.568136e-04 |  4.464898e-05 |\n",
       "|  0.000000e+00 |  0.000000e+00 |  4.609547e-03 | -1.552960e-04 |  1.546918e-02 |\n",
       "|  0.000000e+00 |  0.000000e+00 | -4.654498e-04 |  8.890774e-05 |  5.082599e-02 |\n",
       "|  0.000000e+00 |  0.000000e+00 |  1.672987e-04 |  1.234357e-05 |  9.017210e-02 |\n",
       "|  0.000000e+00 |  0.000000e+00 | -4.588396e-05 |  4.920745e-03 |  2.164242e-04 |\n",
       "|  0.000000e+00 |  0.000000e+00 |  2.756580e-05 |  1.751427e-02 | -1.108673e-03 |\n",
       "|  0.000000e+00 |  0.000000e+00 |  3.791538e-06 |  3.071004e-02 | -3.850205e-02 |\n",
       "|  0.000000e+00 |  0.000000e+00 |  1.203882e-03 |  7.052544e-05 | -7.484967e-02 |\n",
       "|  0.000000e+00 |  0.000000e+00 |  4.351280e-03 | -3.317696e-04 |  4.353017e-02 |\n",
       "|  0.000000e+00 |  0.000000e+00 |  7.212276e-03 | -1.121607e-02 |  2.885661e-03 |\n",
       "|  0.000000e+00 |  0.000000e+00 |  1.657862e-05 | -2.245883e-02 | -1.201518e-02 |\n",
       "|  0.000000e+00 |  0.000000e+00 | -9.581941e-05 |  1.496453e-02 | -8.222765e-02 |\n",
       "|  0.000000e+00 |  0.000000e+00 | -3.657410e-03 |  9.832893e-04 |  3.648708e-02 |\n",
       "|  0.000000e+00 |  0.000000e+00 | -7.572402e-03 | -4.288273e-03 | -6.486082e-03 |\n",
       "|  0.000000e+00 |  0.000000e+00 |  4.413113e-03 | -2.952772e-02 |  6.418597e-02 |\n",
       "|  0.000000e+00 |  0.000000e+00 |  2.805802e-04 |  1.297213e-02 | -6.497368e-02 |\n",
       "|  0.000000e+00 |  0.000000e+00 | -1.307339e-03 | -2.436674e-03 |  1.041929e-02 |\n",
       "|  0.000000e+00 |  0.000000e+00 | -9.061291e-03 |  2.475143e-02 | -3.969809e-03 |\n",
       "|  0.000000e+00 |  0.000000e+00 |  4.672960e-03 | -2.670828e-02 |  2.972547e-04 |\n",
       "|  0.000000e+00 |  0.000000e+00 | -7.766666e-04 |  4.266267e-03 |  7.012760e-02 |\n",
       "|  0.000000e+00 |  0.000000e+00 |  8.713895e-03 | -1.805669e-03 |  7.416428e-02 |\n",
       "|  0.000000e+00 |  0.000000e+00 | -1.023842e-02 |  1.337090e-04 | -7.088446e-03 |\n",
       "|  0.000000e+00 |  0.000000e+00 |  1.795948e-03 |  3.236359e-02 |  2.557354e-03 |\n",
       "|  0.000000e+00 |  0.000000e+00 | -6.796232e-04 |  3.236435e-02 | -4.441710e-04 |\n",
       "|  0.000000e+00 |  0.000000e+00 |  4.278846e-05 | -2.898211e-03 |  2.531383e-04 |\n",
       "|  0.000000e+00 |  0.000000e+00 |  1.241440e-02 |  1.131204e-03 |  3.899216e-05 |\n",
       "|  0.000000e+00 |  0.000000e+00 |  1.241173e-02 | -2.064969e-04 |  1.351078e-02 |\n",
       "|  0.000000e+00 |  0.000000e+00 | -1.174693e-03 |  1.181842e-04 |  4.369364e-02 |\n",
       "|  0.000000e+00 |  0.000000e+00 |  4.411339e-04 |  1.671666e-05 |  7.465937e-02 |\n",
       "|  0.000000e+00 |  0.000000e+00 | -9.108576e-05 |  6.204376e-03 |  2.027354e-04 |\n",
       "|  0.000000e+00 |  0.000000e+00 |  5.110194e-05 |  1.969198e-02 | -9.502384e-04 |\n",
       "|  0.000000e+00 |  0.000000e+00 |  7.972922e-06 |  3.862505e-02 | -3.657848e-02 |\n",
       "|  9.874920e-04 |  0.000000e+00 |  2.756261e-03 |  9.939673e-05 | -7.371068e-02 |\n",
       "| -9.141650e-05 |  0.000000e+00 |  1.082268e-02 | -5.608416e-04 |  5.051005e-02 |\n",
       "|  5.006328e-05 | -4.293267e-23 |  2.198322e-02 | -2.071895e-02 |  3.330068e-03 |\n",
       "| -1.296126e-05 |  0.000000e+00 |  5.576816e-05 | -4.117152e-02 | -1.415914e-02 |\n",
       "|  2.174477e-07 |  1.575594e-03 | -2.795454e-04 |  2.548642e-02 | -9.284355e-02 |\n",
       "|  2.808048e-07 |  3.377756e-03 | -1.114605e-02 |  1.795115e-03 |  4.416184e-02 |\n",
       "|  1.373976e-04 |  1.039361e-05 | -2.437817e-02 | -7.823879e-03 | -8.014007e-03 |\n",
       "\n"
      ],
      "text/plain": [
       "   V1            V2            V3            V4            V5           \n",
       "1   0.000000e+00  0.000000e+00 -4.805499e-05  8.832627e-03 -8.311495e-02\n",
       "2   0.000000e+00  0.000000e+00 -1.846770e-03  7.347669e-04  4.042589e-02\n",
       "3   0.000000e+00  0.000000e+00 -4.791474e-03 -4.333126e-03 -7.384592e-03\n",
       "4   0.000000e+00  0.000000e+00  3.234694e-03 -3.066835e-02  7.712615e-02\n",
       "5   0.000000e+00  0.000000e+00  2.323605e-04  1.444795e-02 -7.884560e-02\n",
       "6   0.000000e+00  0.000000e+00 -9.824767e-04 -2.788985e-03  1.318527e-02\n",
       "7   0.000000e+00  0.000000e+00 -6.096719e-03  2.648935e-02 -4.897598e-03\n",
       "8   0.000000e+00  0.000000e+00  3.401354e-03 -2.946546e-02  3.518623e-04\n",
       "9   0.000000e+00  0.000000e+00 -5.390807e-04  4.123331e-03  8.110278e-02\n",
       "10  0.000000e+00  0.000000e+00  5.252238e-03 -1.493183e-03  7.681206e-02\n",
       "11  0.000000e+00  0.000000e+00 -5.116297e-03  1.059983e-04 -7.588835e-03\n",
       "12  0.000000e+00  0.000000e+00  8.103400e-04  2.596208e-02  2.767460e-03\n",
       "13  0.000000e+00  0.000000e+00 -2.736048e-04  2.326675e-02 -4.994156e-04\n",
       "14  0.000000e+00  0.000000e+00  2.169046e-05 -2.400878e-03  3.026151e-04\n",
       "15  0.000000e+00  0.000000e+00  5.093977e-03  8.568136e-04  4.464898e-05\n",
       "16  0.000000e+00  0.000000e+00  4.609547e-03 -1.552960e-04  1.546918e-02\n",
       "17  0.000000e+00  0.000000e+00 -4.654498e-04  8.890774e-05  5.082599e-02\n",
       "18  0.000000e+00  0.000000e+00  1.672987e-04  1.234357e-05  9.017210e-02\n",
       "19  0.000000e+00  0.000000e+00 -4.588396e-05  4.920745e-03  2.164242e-04\n",
       "20  0.000000e+00  0.000000e+00  2.756580e-05  1.751427e-02 -1.108673e-03\n",
       "21  0.000000e+00  0.000000e+00  3.791538e-06  3.071004e-02 -3.850205e-02\n",
       "22  0.000000e+00  0.000000e+00  1.203882e-03  7.052544e-05 -7.484967e-02\n",
       "23  0.000000e+00  0.000000e+00  4.351280e-03 -3.317696e-04  4.353017e-02\n",
       "24  0.000000e+00  0.000000e+00  7.212276e-03 -1.121607e-02  2.885661e-03\n",
       "25  0.000000e+00  0.000000e+00  1.657862e-05 -2.245883e-02 -1.201518e-02\n",
       "26  0.000000e+00  0.000000e+00 -9.581941e-05  1.496453e-02 -8.222765e-02\n",
       "27  0.000000e+00  0.000000e+00 -3.657410e-03  9.832893e-04  3.648708e-02\n",
       "28  0.000000e+00  0.000000e+00 -7.572402e-03 -4.288273e-03 -6.486082e-03\n",
       "29  0.000000e+00  0.000000e+00  4.413113e-03 -2.952772e-02  6.418597e-02\n",
       "30  0.000000e+00  0.000000e+00  2.805802e-04  1.297213e-02 -6.497368e-02\n",
       "31  0.000000e+00  0.000000e+00 -1.307339e-03 -2.436674e-03  1.041929e-02\n",
       "32  0.000000e+00  0.000000e+00 -9.061291e-03  2.475143e-02 -3.969809e-03\n",
       "33  0.000000e+00  0.000000e+00  4.672960e-03 -2.670828e-02  2.972547e-04\n",
       "34  0.000000e+00  0.000000e+00 -7.766666e-04  4.266267e-03  7.012760e-02\n",
       "35  0.000000e+00  0.000000e+00  8.713895e-03 -1.805669e-03  7.416428e-02\n",
       "36  0.000000e+00  0.000000e+00 -1.023842e-02  1.337090e-04 -7.088446e-03\n",
       "37  0.000000e+00  0.000000e+00  1.795948e-03  3.236359e-02  2.557354e-03\n",
       "38  0.000000e+00  0.000000e+00 -6.796232e-04  3.236435e-02 -4.441710e-04\n",
       "39  0.000000e+00  0.000000e+00  4.278846e-05 -2.898211e-03  2.531383e-04\n",
       "40  0.000000e+00  0.000000e+00  1.241440e-02  1.131204e-03  3.899216e-05\n",
       "41  0.000000e+00  0.000000e+00  1.241173e-02 -2.064969e-04  1.351078e-02\n",
       "42  0.000000e+00  0.000000e+00 -1.174693e-03  1.181842e-04  4.369364e-02\n",
       "43  0.000000e+00  0.000000e+00  4.411339e-04  1.671666e-05  7.465937e-02\n",
       "44  0.000000e+00  0.000000e+00 -9.108576e-05  6.204376e-03  2.027354e-04\n",
       "45  0.000000e+00  0.000000e+00  5.110194e-05  1.969198e-02 -9.502384e-04\n",
       "46  0.000000e+00  0.000000e+00  7.972922e-06  3.862505e-02 -3.657848e-02\n",
       "47  9.874920e-04  0.000000e+00  2.756261e-03  9.939673e-05 -7.371068e-02\n",
       "48 -9.141650e-05  0.000000e+00  1.082268e-02 -5.608416e-04  5.051005e-02\n",
       "49  5.006328e-05 -4.293267e-23  2.198322e-02 -2.071895e-02  3.330068e-03\n",
       "50 -1.296126e-05  0.000000e+00  5.576816e-05 -4.117152e-02 -1.415914e-02\n",
       "51  2.174477e-07  1.575594e-03 -2.795454e-04  2.548642e-02 -9.284355e-02\n",
       "52  2.808048e-07  3.377756e-03 -1.114605e-02  1.795115e-03  4.416184e-02\n",
       "53  1.373976e-04  1.039361e-05 -2.437817e-02 -7.823879e-03 -8.014007e-03"
      ]
     },
     "metadata": {},
     "output_type": "display_data"
    }
   ],
   "source": [
    "Y <- MatofAlphas*A\n",
    "Y"
   ]
  },
  {
   "cell_type": "code",
   "execution_count": 47,
   "id": "8891c81a",
   "metadata": {},
   "outputs": [
    {
     "data": {
      "text/html": [
       "<table class=\"dataframe\">\n",
       "<caption>A data.frame: 53 × 5</caption>\n",
       "<thead>\n",
       "\t<tr><th scope=col>V1</th><th scope=col>V2</th><th scope=col>V3</th><th scope=col>V4</th><th scope=col>V5</th></tr>\n",
       "\t<tr><th scope=col>&lt;dbl&gt;</th><th scope=col>&lt;dbl&gt;</th><th scope=col>&lt;dbl&gt;</th><th scope=col>&lt;dbl&gt;</th><th scope=col>&lt;dbl&gt;</th></tr>\n",
       "</thead>\n",
       "<tbody>\n",
       "\t<tr><td> 0.000000e+00</td><td> 0.000000e+00</td><td>-9.672730e-08</td><td> 1.777872e-05</td><td>-6.655551e-05</td></tr>\n",
       "\t<tr><td> 0.000000e+00</td><td> 0.000000e+00</td><td>-3.717263e-06</td><td> 5.883754e-07</td><td> 3.237163e-05</td></tr>\n",
       "\t<tr><td> 0.000000e+00</td><td> 0.000000e+00</td><td>-9.644500e-06</td><td>-3.469814e-06</td><td>-5.913320e-06</td></tr>\n",
       "\t<tr><td> 0.000000e+00</td><td> 0.000000e+00</td><td> 6.510941e-06</td><td>-2.455813e-05</td><td> 4.904428e-05</td></tr>\n",
       "\t<tr><td> 0.000000e+00</td><td> 0.000000e+00</td><td> 1.860661e-07</td><td> 1.156941e-05</td><td>-5.013767e-05</td></tr>\n",
       "\t<tr><td> 0.000000e+00</td><td> 0.000000e+00</td><td>-7.867326e-07</td><td>-2.233321e-06</td><td> 8.384475e-06</td></tr>\n",
       "\t<tr><td> 0.000000e+00</td><td> 0.000000e+00</td><td>-4.882037e-06</td><td> 1.684449e-05</td><td>-3.114367e-06</td></tr>\n",
       "\t<tr><td> 0.000000e+00</td><td> 0.000000e+00</td><td> 2.723684e-06</td><td>-1.873699e-05</td><td> 2.237481e-07</td></tr>\n",
       "\t<tr><td> 0.000000e+00</td><td> 0.000000e+00</td><td>-4.316768e-07</td><td> 2.622013e-06</td><td> 1.823133e-05</td></tr>\n",
       "\t<tr><td> 0.000000e+00</td><td> 0.000000e+00</td><td> 3.339882e-06</td><td>-9.495101e-07</td><td> 1.726681e-05</td></tr>\n",
       "\t<tr><td> 0.000000e+00</td><td> 0.000000e+00</td><td>-3.253437e-06</td><td> 6.740400e-08</td><td>-1.705916e-06</td></tr>\n",
       "\t<tr><td> 0.000000e+00</td><td> 0.000000e+00</td><td> 5.152927e-07</td><td> 5.836091e-06</td><td> 6.221053e-07</td></tr>\n",
       "\t<tr><td> 0.000000e+00</td><td> 0.000000e+00</td><td>-1.739844e-07</td><td> 5.230200e-06</td><td>-1.122651e-07</td></tr>\n",
       "\t<tr><td> 0.000000e+00</td><td> 0.000000e+00</td><td> 1.379290e-08</td><td>-5.397003e-07</td><td> 1.412775e-06</td></tr>\n",
       "\t<tr><td> 0.000000e+00</td><td> 0.000000e+00</td><td> 1.145090e-06</td><td> 1.926056e-07</td><td> 2.084462e-07</td></tr>\n",
       "\t<tr><td> 0.000000e+00</td><td> 0.000000e+00</td><td> 1.036193e-06</td><td>-3.490944e-08</td><td> 7.221873e-05</td></tr>\n",
       "\t<tr><td> 0.000000e+00</td><td> 0.000000e+00</td><td>-1.046298e-07</td><td> 4.150707e-07</td><td> 2.372839e-04</td></tr>\n",
       "\t<tr><td> 0.000000e+00</td><td> 0.000000e+00</td><td> 3.760757e-08</td><td> 5.762665e-08</td><td> 4.209734e-04</td></tr>\n",
       "\t<tr><td> 0.000000e+00</td><td> 0.000000e+00</td><td>-1.031439e-08</td><td> 2.297277e-05</td><td> 4.356285e-07</td></tr>\n",
       "\t<tr><td> 0.000000e+00</td><td> 0.000000e+00</td><td> 1.286925e-07</td><td> 8.176634e-05</td><td>-2.231588e-06</td></tr>\n",
       "\t<tr><td> 0.000000e+00</td><td> 0.000000e+00</td><td> 1.770100e-08</td><td> 1.433715e-04</td><td>-7.749870e-05</td></tr>\n",
       "\t<tr><td> 0.000000e+00</td><td> 0.000000e+00</td><td> 5.620390e-06</td><td> 1.419568e-07</td><td>-1.506609e-04</td></tr>\n",
       "\t<tr><td> 0.000000e+00</td><td> 0.000000e+00</td><td> 2.031419e-05</td><td>-6.678010e-07</td><td> 8.761953e-05</td></tr>\n",
       "\t<tr><td> 0.000000e+00</td><td> 0.000000e+00</td><td> 3.367091e-05</td><td>-2.257622e-05</td><td> 2.310736e-06</td></tr>\n",
       "\t<tr><td> 0.000000e+00</td><td> 0.000000e+00</td><td> 3.337021e-08</td><td>-4.520616e-05</td><td>-9.621329e-06</td></tr>\n",
       "\t<tr><td> 0.000000e+00</td><td> 0.000000e+00</td><td>-1.928697e-07</td><td> 3.012129e-05</td><td>-6.584500e-05</td></tr>\n",
       "\t<tr><td> 0.000000e+00</td><td> 0.000000e+00</td><td>-7.361803e-06</td><td> 7.873834e-07</td><td> 2.921757e-05</td></tr>\n",
       "\t<tr><td> 0.000000e+00</td><td> 0.000000e+00</td><td>-1.524208e-05</td><td>-3.433898e-06</td><td>-5.193825e-06</td></tr>\n",
       "\t<tr><td> 0.000000e+00</td><td> 0.000000e+00</td><td> 8.882916e-06</td><td>-2.364475e-05</td><td> 4.081566e-05</td></tr>\n",
       "\t<tr><td> 0.000000e+00</td><td> 0.000000e+00</td><td> 2.246787e-07</td><td> 1.038762e-05</td><td>-4.131656e-05</td></tr>\n",
       "\t<tr><td> 0.000000e+00</td><td> 0.000000e+00</td><td>-1.046871e-06</td><td>-1.951203e-06</td><td> 6.625593e-06</td></tr>\n",
       "\t<tr><td> 0.000000e+00</td><td> 0.000000e+00</td><td>-7.255961e-06</td><td> 1.573936e-05</td><td>-2.524389e-06</td></tr>\n",
       "\t<tr><td> 0.000000e+00</td><td> 0.000000e+00</td><td> 3.741941e-06</td><td>-1.698371e-05</td><td> 1.890234e-07</td></tr>\n",
       "\t<tr><td> 0.000000e+00</td><td> 0.000000e+00</td><td>-6.219271e-07</td><td> 2.712906e-06</td><td> 1.576419e-05</td></tr>\n",
       "\t<tr><td> 0.000000e+00</td><td> 0.000000e+00</td><td> 5.541139e-06</td><td>-1.148219e-06</td><td> 1.667160e-05</td></tr>\n",
       "\t<tr><td> 0.000000e+00</td><td> 0.000000e+00</td><td>-6.510579e-06</td><td> 8.502513e-08</td><td>-1.593432e-06</td></tr>\n",
       "\t<tr><td> 0.000000e+00</td><td> 0.000000e+00</td><td> 1.142038e-06</td><td> 7.275106e-06</td><td> 5.748751e-07</td></tr>\n",
       "\t<tr><td> 0.000000e+00</td><td> 0.000000e+00</td><td>-4.321703e-07</td><td> 7.275277e-06</td><td>-9.984648e-08</td></tr>\n",
       "\t<tr><td> 0.000000e+00</td><td> 0.000000e+00</td><td> 2.720905e-08</td><td>-6.514973e-07</td><td> 1.181790e-06</td></tr>\n",
       "\t<tr><td> 0.000000e+00</td><td> 0.000000e+00</td><td> 2.790670e-06</td><td> 2.542865e-07</td><td> 1.820371e-07</td></tr>\n",
       "\t<tr><td> 0.000000e+00</td><td> 0.000000e+00</td><td> 2.790069e-06</td><td>-4.641904e-08</td><td> 6.307581e-05</td></tr>\n",
       "\t<tr><td> 0.000000e+00</td><td> 0.000000e+00</td><td>-2.640627e-07</td><td> 5.517495e-07</td><td> 2.039861e-04</td></tr>\n",
       "\t<tr><td> 0.000000e+00</td><td> 0.000000e+00</td><td> 9.916376e-08</td><td> 7.804264e-08</td><td> 3.485514e-04</td></tr>\n",
       "\t<tr><td> 0.000000e+00</td><td> 0.000000e+00</td><td>-2.047543e-08</td><td> 2.896547e-05</td><td> 4.080752e-07</td></tr>\n",
       "\t<tr><td> 0.000000e+00</td><td> 0.000000e+00</td><td> 2.385722e-07</td><td> 9.193310e-05</td><td>-1.912684e-06</td></tr>\n",
       "\t<tr><td> 0.000000e+00</td><td> 0.000000e+00</td><td> 3.722202e-08</td><td> 1.803232e-04</td><td>-7.362686e-05</td></tr>\n",
       "\t<tr><td> 2.219812e-07</td><td> 0.000000e+00</td><td> 1.286776e-05</td><td> 2.000703e-07</td><td>-1.483682e-04</td></tr>\n",
       "\t<tr><td>-2.054978e-08</td><td> 0.000000e+00</td><td> 5.052629e-05</td><td>-1.128888e-06</td><td> 1.016689e-04</td></tr>\n",
       "\t<tr><td> 1.125387e-08</td><td>-2.004335e-25</td><td> 1.026299e-04</td><td>-4.170405e-05</td><td> 2.666601e-06</td></tr>\n",
       "\t<tr><td>-2.913599e-09</td><td> 0.000000e+00</td><td> 1.122527e-07</td><td>-8.287193e-05</td><td>-1.133814e-05</td></tr>\n",
       "\t<tr><td> 1.015167e-09</td><td> 7.355746e-06</td><td>-5.626818e-07</td><td> 5.130024e-05</td><td>-7.434583e-05</td></tr>\n",
       "\t<tr><td> 1.310953e-09</td><td> 1.576924e-05</td><td>-2.243528e-05</td><td> 1.437464e-06</td><td> 3.536324e-05</td></tr>\n",
       "\t<tr><td> 6.414480e-07</td><td> 2.092073e-08</td><td>-4.906949e-05</td><td>-6.265086e-06</td><td>-6.417334e-06</td></tr>\n",
       "</tbody>\n",
       "</table>\n"
      ],
      "text/latex": [
       "A data.frame: 53 × 5\n",
       "\\begin{tabular}{lllll}\n",
       " V1 & V2 & V3 & V4 & V5\\\\\n",
       " <dbl> & <dbl> & <dbl> & <dbl> & <dbl>\\\\\n",
       "\\hline\n",
       "\t  0.000000e+00 &  0.000000e+00 & -9.672730e-08 &  1.777872e-05 & -6.655551e-05\\\\\n",
       "\t  0.000000e+00 &  0.000000e+00 & -3.717263e-06 &  5.883754e-07 &  3.237163e-05\\\\\n",
       "\t  0.000000e+00 &  0.000000e+00 & -9.644500e-06 & -3.469814e-06 & -5.913320e-06\\\\\n",
       "\t  0.000000e+00 &  0.000000e+00 &  6.510941e-06 & -2.455813e-05 &  4.904428e-05\\\\\n",
       "\t  0.000000e+00 &  0.000000e+00 &  1.860661e-07 &  1.156941e-05 & -5.013767e-05\\\\\n",
       "\t  0.000000e+00 &  0.000000e+00 & -7.867326e-07 & -2.233321e-06 &  8.384475e-06\\\\\n",
       "\t  0.000000e+00 &  0.000000e+00 & -4.882037e-06 &  1.684449e-05 & -3.114367e-06\\\\\n",
       "\t  0.000000e+00 &  0.000000e+00 &  2.723684e-06 & -1.873699e-05 &  2.237481e-07\\\\\n",
       "\t  0.000000e+00 &  0.000000e+00 & -4.316768e-07 &  2.622013e-06 &  1.823133e-05\\\\\n",
       "\t  0.000000e+00 &  0.000000e+00 &  3.339882e-06 & -9.495101e-07 &  1.726681e-05\\\\\n",
       "\t  0.000000e+00 &  0.000000e+00 & -3.253437e-06 &  6.740400e-08 & -1.705916e-06\\\\\n",
       "\t  0.000000e+00 &  0.000000e+00 &  5.152927e-07 &  5.836091e-06 &  6.221053e-07\\\\\n",
       "\t  0.000000e+00 &  0.000000e+00 & -1.739844e-07 &  5.230200e-06 & -1.122651e-07\\\\\n",
       "\t  0.000000e+00 &  0.000000e+00 &  1.379290e-08 & -5.397003e-07 &  1.412775e-06\\\\\n",
       "\t  0.000000e+00 &  0.000000e+00 &  1.145090e-06 &  1.926056e-07 &  2.084462e-07\\\\\n",
       "\t  0.000000e+00 &  0.000000e+00 &  1.036193e-06 & -3.490944e-08 &  7.221873e-05\\\\\n",
       "\t  0.000000e+00 &  0.000000e+00 & -1.046298e-07 &  4.150707e-07 &  2.372839e-04\\\\\n",
       "\t  0.000000e+00 &  0.000000e+00 &  3.760757e-08 &  5.762665e-08 &  4.209734e-04\\\\\n",
       "\t  0.000000e+00 &  0.000000e+00 & -1.031439e-08 &  2.297277e-05 &  4.356285e-07\\\\\n",
       "\t  0.000000e+00 &  0.000000e+00 &  1.286925e-07 &  8.176634e-05 & -2.231588e-06\\\\\n",
       "\t  0.000000e+00 &  0.000000e+00 &  1.770100e-08 &  1.433715e-04 & -7.749870e-05\\\\\n",
       "\t  0.000000e+00 &  0.000000e+00 &  5.620390e-06 &  1.419568e-07 & -1.506609e-04\\\\\n",
       "\t  0.000000e+00 &  0.000000e+00 &  2.031419e-05 & -6.678010e-07 &  8.761953e-05\\\\\n",
       "\t  0.000000e+00 &  0.000000e+00 &  3.367091e-05 & -2.257622e-05 &  2.310736e-06\\\\\n",
       "\t  0.000000e+00 &  0.000000e+00 &  3.337021e-08 & -4.520616e-05 & -9.621329e-06\\\\\n",
       "\t  0.000000e+00 &  0.000000e+00 & -1.928697e-07 &  3.012129e-05 & -6.584500e-05\\\\\n",
       "\t  0.000000e+00 &  0.000000e+00 & -7.361803e-06 &  7.873834e-07 &  2.921757e-05\\\\\n",
       "\t  0.000000e+00 &  0.000000e+00 & -1.524208e-05 & -3.433898e-06 & -5.193825e-06\\\\\n",
       "\t  0.000000e+00 &  0.000000e+00 &  8.882916e-06 & -2.364475e-05 &  4.081566e-05\\\\\n",
       "\t  0.000000e+00 &  0.000000e+00 &  2.246787e-07 &  1.038762e-05 & -4.131656e-05\\\\\n",
       "\t  0.000000e+00 &  0.000000e+00 & -1.046871e-06 & -1.951203e-06 &  6.625593e-06\\\\\n",
       "\t  0.000000e+00 &  0.000000e+00 & -7.255961e-06 &  1.573936e-05 & -2.524389e-06\\\\\n",
       "\t  0.000000e+00 &  0.000000e+00 &  3.741941e-06 & -1.698371e-05 &  1.890234e-07\\\\\n",
       "\t  0.000000e+00 &  0.000000e+00 & -6.219271e-07 &  2.712906e-06 &  1.576419e-05\\\\\n",
       "\t  0.000000e+00 &  0.000000e+00 &  5.541139e-06 & -1.148219e-06 &  1.667160e-05\\\\\n",
       "\t  0.000000e+00 &  0.000000e+00 & -6.510579e-06 &  8.502513e-08 & -1.593432e-06\\\\\n",
       "\t  0.000000e+00 &  0.000000e+00 &  1.142038e-06 &  7.275106e-06 &  5.748751e-07\\\\\n",
       "\t  0.000000e+00 &  0.000000e+00 & -4.321703e-07 &  7.275277e-06 & -9.984648e-08\\\\\n",
       "\t  0.000000e+00 &  0.000000e+00 &  2.720905e-08 & -6.514973e-07 &  1.181790e-06\\\\\n",
       "\t  0.000000e+00 &  0.000000e+00 &  2.790670e-06 &  2.542865e-07 &  1.820371e-07\\\\\n",
       "\t  0.000000e+00 &  0.000000e+00 &  2.790069e-06 & -4.641904e-08 &  6.307581e-05\\\\\n",
       "\t  0.000000e+00 &  0.000000e+00 & -2.640627e-07 &  5.517495e-07 &  2.039861e-04\\\\\n",
       "\t  0.000000e+00 &  0.000000e+00 &  9.916376e-08 &  7.804264e-08 &  3.485514e-04\\\\\n",
       "\t  0.000000e+00 &  0.000000e+00 & -2.047543e-08 &  2.896547e-05 &  4.080752e-07\\\\\n",
       "\t  0.000000e+00 &  0.000000e+00 &  2.385722e-07 &  9.193310e-05 & -1.912684e-06\\\\\n",
       "\t  0.000000e+00 &  0.000000e+00 &  3.722202e-08 &  1.803232e-04 & -7.362686e-05\\\\\n",
       "\t  2.219812e-07 &  0.000000e+00 &  1.286776e-05 &  2.000703e-07 & -1.483682e-04\\\\\n",
       "\t -2.054978e-08 &  0.000000e+00 &  5.052629e-05 & -1.128888e-06 &  1.016689e-04\\\\\n",
       "\t  1.125387e-08 & -2.004335e-25 &  1.026299e-04 & -4.170405e-05 &  2.666601e-06\\\\\n",
       "\t -2.913599e-09 &  0.000000e+00 &  1.122527e-07 & -8.287193e-05 & -1.133814e-05\\\\\n",
       "\t  1.015167e-09 &  7.355746e-06 & -5.626818e-07 &  5.130024e-05 & -7.434583e-05\\\\\n",
       "\t  1.310953e-09 &  1.576924e-05 & -2.243528e-05 &  1.437464e-06 &  3.536324e-05\\\\\n",
       "\t  6.414480e-07 &  2.092073e-08 & -4.906949e-05 & -6.265086e-06 & -6.417334e-06\\\\\n",
       "\\end{tabular}\n"
      ],
      "text/markdown": [
       "\n",
       "A data.frame: 53 × 5\n",
       "\n",
       "| V1 &lt;dbl&gt; | V2 &lt;dbl&gt; | V3 &lt;dbl&gt; | V4 &lt;dbl&gt; | V5 &lt;dbl&gt; |\n",
       "|---|---|---|---|---|\n",
       "|  0.000000e+00 |  0.000000e+00 | -9.672730e-08 |  1.777872e-05 | -6.655551e-05 |\n",
       "|  0.000000e+00 |  0.000000e+00 | -3.717263e-06 |  5.883754e-07 |  3.237163e-05 |\n",
       "|  0.000000e+00 |  0.000000e+00 | -9.644500e-06 | -3.469814e-06 | -5.913320e-06 |\n",
       "|  0.000000e+00 |  0.000000e+00 |  6.510941e-06 | -2.455813e-05 |  4.904428e-05 |\n",
       "|  0.000000e+00 |  0.000000e+00 |  1.860661e-07 |  1.156941e-05 | -5.013767e-05 |\n",
       "|  0.000000e+00 |  0.000000e+00 | -7.867326e-07 | -2.233321e-06 |  8.384475e-06 |\n",
       "|  0.000000e+00 |  0.000000e+00 | -4.882037e-06 |  1.684449e-05 | -3.114367e-06 |\n",
       "|  0.000000e+00 |  0.000000e+00 |  2.723684e-06 | -1.873699e-05 |  2.237481e-07 |\n",
       "|  0.000000e+00 |  0.000000e+00 | -4.316768e-07 |  2.622013e-06 |  1.823133e-05 |\n",
       "|  0.000000e+00 |  0.000000e+00 |  3.339882e-06 | -9.495101e-07 |  1.726681e-05 |\n",
       "|  0.000000e+00 |  0.000000e+00 | -3.253437e-06 |  6.740400e-08 | -1.705916e-06 |\n",
       "|  0.000000e+00 |  0.000000e+00 |  5.152927e-07 |  5.836091e-06 |  6.221053e-07 |\n",
       "|  0.000000e+00 |  0.000000e+00 | -1.739844e-07 |  5.230200e-06 | -1.122651e-07 |\n",
       "|  0.000000e+00 |  0.000000e+00 |  1.379290e-08 | -5.397003e-07 |  1.412775e-06 |\n",
       "|  0.000000e+00 |  0.000000e+00 |  1.145090e-06 |  1.926056e-07 |  2.084462e-07 |\n",
       "|  0.000000e+00 |  0.000000e+00 |  1.036193e-06 | -3.490944e-08 |  7.221873e-05 |\n",
       "|  0.000000e+00 |  0.000000e+00 | -1.046298e-07 |  4.150707e-07 |  2.372839e-04 |\n",
       "|  0.000000e+00 |  0.000000e+00 |  3.760757e-08 |  5.762665e-08 |  4.209734e-04 |\n",
       "|  0.000000e+00 |  0.000000e+00 | -1.031439e-08 |  2.297277e-05 |  4.356285e-07 |\n",
       "|  0.000000e+00 |  0.000000e+00 |  1.286925e-07 |  8.176634e-05 | -2.231588e-06 |\n",
       "|  0.000000e+00 |  0.000000e+00 |  1.770100e-08 |  1.433715e-04 | -7.749870e-05 |\n",
       "|  0.000000e+00 |  0.000000e+00 |  5.620390e-06 |  1.419568e-07 | -1.506609e-04 |\n",
       "|  0.000000e+00 |  0.000000e+00 |  2.031419e-05 | -6.678010e-07 |  8.761953e-05 |\n",
       "|  0.000000e+00 |  0.000000e+00 |  3.367091e-05 | -2.257622e-05 |  2.310736e-06 |\n",
       "|  0.000000e+00 |  0.000000e+00 |  3.337021e-08 | -4.520616e-05 | -9.621329e-06 |\n",
       "|  0.000000e+00 |  0.000000e+00 | -1.928697e-07 |  3.012129e-05 | -6.584500e-05 |\n",
       "|  0.000000e+00 |  0.000000e+00 | -7.361803e-06 |  7.873834e-07 |  2.921757e-05 |\n",
       "|  0.000000e+00 |  0.000000e+00 | -1.524208e-05 | -3.433898e-06 | -5.193825e-06 |\n",
       "|  0.000000e+00 |  0.000000e+00 |  8.882916e-06 | -2.364475e-05 |  4.081566e-05 |\n",
       "|  0.000000e+00 |  0.000000e+00 |  2.246787e-07 |  1.038762e-05 | -4.131656e-05 |\n",
       "|  0.000000e+00 |  0.000000e+00 | -1.046871e-06 | -1.951203e-06 |  6.625593e-06 |\n",
       "|  0.000000e+00 |  0.000000e+00 | -7.255961e-06 |  1.573936e-05 | -2.524389e-06 |\n",
       "|  0.000000e+00 |  0.000000e+00 |  3.741941e-06 | -1.698371e-05 |  1.890234e-07 |\n",
       "|  0.000000e+00 |  0.000000e+00 | -6.219271e-07 |  2.712906e-06 |  1.576419e-05 |\n",
       "|  0.000000e+00 |  0.000000e+00 |  5.541139e-06 | -1.148219e-06 |  1.667160e-05 |\n",
       "|  0.000000e+00 |  0.000000e+00 | -6.510579e-06 |  8.502513e-08 | -1.593432e-06 |\n",
       "|  0.000000e+00 |  0.000000e+00 |  1.142038e-06 |  7.275106e-06 |  5.748751e-07 |\n",
       "|  0.000000e+00 |  0.000000e+00 | -4.321703e-07 |  7.275277e-06 | -9.984648e-08 |\n",
       "|  0.000000e+00 |  0.000000e+00 |  2.720905e-08 | -6.514973e-07 |  1.181790e-06 |\n",
       "|  0.000000e+00 |  0.000000e+00 |  2.790670e-06 |  2.542865e-07 |  1.820371e-07 |\n",
       "|  0.000000e+00 |  0.000000e+00 |  2.790069e-06 | -4.641904e-08 |  6.307581e-05 |\n",
       "|  0.000000e+00 |  0.000000e+00 | -2.640627e-07 |  5.517495e-07 |  2.039861e-04 |\n",
       "|  0.000000e+00 |  0.000000e+00 |  9.916376e-08 |  7.804264e-08 |  3.485514e-04 |\n",
       "|  0.000000e+00 |  0.000000e+00 | -2.047543e-08 |  2.896547e-05 |  4.080752e-07 |\n",
       "|  0.000000e+00 |  0.000000e+00 |  2.385722e-07 |  9.193310e-05 | -1.912684e-06 |\n",
       "|  0.000000e+00 |  0.000000e+00 |  3.722202e-08 |  1.803232e-04 | -7.362686e-05 |\n",
       "|  2.219812e-07 |  0.000000e+00 |  1.286776e-05 |  2.000703e-07 | -1.483682e-04 |\n",
       "| -2.054978e-08 |  0.000000e+00 |  5.052629e-05 | -1.128888e-06 |  1.016689e-04 |\n",
       "|  1.125387e-08 | -2.004335e-25 |  1.026299e-04 | -4.170405e-05 |  2.666601e-06 |\n",
       "| -2.913599e-09 |  0.000000e+00 |  1.122527e-07 | -8.287193e-05 | -1.133814e-05 |\n",
       "|  1.015167e-09 |  7.355746e-06 | -5.626818e-07 |  5.130024e-05 | -7.434583e-05 |\n",
       "|  1.310953e-09 |  1.576924e-05 | -2.243528e-05 |  1.437464e-06 |  3.536324e-05 |\n",
       "|  6.414480e-07 |  2.092073e-08 | -4.906949e-05 | -6.265086e-06 | -6.417334e-06 |\n",
       "\n"
      ],
      "text/plain": [
       "   V1            V2            V3            V4            V5           \n",
       "1   0.000000e+00  0.000000e+00 -9.672730e-08  1.777872e-05 -6.655551e-05\n",
       "2   0.000000e+00  0.000000e+00 -3.717263e-06  5.883754e-07  3.237163e-05\n",
       "3   0.000000e+00  0.000000e+00 -9.644500e-06 -3.469814e-06 -5.913320e-06\n",
       "4   0.000000e+00  0.000000e+00  6.510941e-06 -2.455813e-05  4.904428e-05\n",
       "5   0.000000e+00  0.000000e+00  1.860661e-07  1.156941e-05 -5.013767e-05\n",
       "6   0.000000e+00  0.000000e+00 -7.867326e-07 -2.233321e-06  8.384475e-06\n",
       "7   0.000000e+00  0.000000e+00 -4.882037e-06  1.684449e-05 -3.114367e-06\n",
       "8   0.000000e+00  0.000000e+00  2.723684e-06 -1.873699e-05  2.237481e-07\n",
       "9   0.000000e+00  0.000000e+00 -4.316768e-07  2.622013e-06  1.823133e-05\n",
       "10  0.000000e+00  0.000000e+00  3.339882e-06 -9.495101e-07  1.726681e-05\n",
       "11  0.000000e+00  0.000000e+00 -3.253437e-06  6.740400e-08 -1.705916e-06\n",
       "12  0.000000e+00  0.000000e+00  5.152927e-07  5.836091e-06  6.221053e-07\n",
       "13  0.000000e+00  0.000000e+00 -1.739844e-07  5.230200e-06 -1.122651e-07\n",
       "14  0.000000e+00  0.000000e+00  1.379290e-08 -5.397003e-07  1.412775e-06\n",
       "15  0.000000e+00  0.000000e+00  1.145090e-06  1.926056e-07  2.084462e-07\n",
       "16  0.000000e+00  0.000000e+00  1.036193e-06 -3.490944e-08  7.221873e-05\n",
       "17  0.000000e+00  0.000000e+00 -1.046298e-07  4.150707e-07  2.372839e-04\n",
       "18  0.000000e+00  0.000000e+00  3.760757e-08  5.762665e-08  4.209734e-04\n",
       "19  0.000000e+00  0.000000e+00 -1.031439e-08  2.297277e-05  4.356285e-07\n",
       "20  0.000000e+00  0.000000e+00  1.286925e-07  8.176634e-05 -2.231588e-06\n",
       "21  0.000000e+00  0.000000e+00  1.770100e-08  1.433715e-04 -7.749870e-05\n",
       "22  0.000000e+00  0.000000e+00  5.620390e-06  1.419568e-07 -1.506609e-04\n",
       "23  0.000000e+00  0.000000e+00  2.031419e-05 -6.678010e-07  8.761953e-05\n",
       "24  0.000000e+00  0.000000e+00  3.367091e-05 -2.257622e-05  2.310736e-06\n",
       "25  0.000000e+00  0.000000e+00  3.337021e-08 -4.520616e-05 -9.621329e-06\n",
       "26  0.000000e+00  0.000000e+00 -1.928697e-07  3.012129e-05 -6.584500e-05\n",
       "27  0.000000e+00  0.000000e+00 -7.361803e-06  7.873834e-07  2.921757e-05\n",
       "28  0.000000e+00  0.000000e+00 -1.524208e-05 -3.433898e-06 -5.193825e-06\n",
       "29  0.000000e+00  0.000000e+00  8.882916e-06 -2.364475e-05  4.081566e-05\n",
       "30  0.000000e+00  0.000000e+00  2.246787e-07  1.038762e-05 -4.131656e-05\n",
       "31  0.000000e+00  0.000000e+00 -1.046871e-06 -1.951203e-06  6.625593e-06\n",
       "32  0.000000e+00  0.000000e+00 -7.255961e-06  1.573936e-05 -2.524389e-06\n",
       "33  0.000000e+00  0.000000e+00  3.741941e-06 -1.698371e-05  1.890234e-07\n",
       "34  0.000000e+00  0.000000e+00 -6.219271e-07  2.712906e-06  1.576419e-05\n",
       "35  0.000000e+00  0.000000e+00  5.541139e-06 -1.148219e-06  1.667160e-05\n",
       "36  0.000000e+00  0.000000e+00 -6.510579e-06  8.502513e-08 -1.593432e-06\n",
       "37  0.000000e+00  0.000000e+00  1.142038e-06  7.275106e-06  5.748751e-07\n",
       "38  0.000000e+00  0.000000e+00 -4.321703e-07  7.275277e-06 -9.984648e-08\n",
       "39  0.000000e+00  0.000000e+00  2.720905e-08 -6.514973e-07  1.181790e-06\n",
       "40  0.000000e+00  0.000000e+00  2.790670e-06  2.542865e-07  1.820371e-07\n",
       "41  0.000000e+00  0.000000e+00  2.790069e-06 -4.641904e-08  6.307581e-05\n",
       "42  0.000000e+00  0.000000e+00 -2.640627e-07  5.517495e-07  2.039861e-04\n",
       "43  0.000000e+00  0.000000e+00  9.916376e-08  7.804264e-08  3.485514e-04\n",
       "44  0.000000e+00  0.000000e+00 -2.047543e-08  2.896547e-05  4.080752e-07\n",
       "45  0.000000e+00  0.000000e+00  2.385722e-07  9.193310e-05 -1.912684e-06\n",
       "46  0.000000e+00  0.000000e+00  3.722202e-08  1.803232e-04 -7.362686e-05\n",
       "47  2.219812e-07  0.000000e+00  1.286776e-05  2.000703e-07 -1.483682e-04\n",
       "48 -2.054978e-08  0.000000e+00  5.052629e-05 -1.128888e-06  1.016689e-04\n",
       "49  1.125387e-08 -2.004335e-25  1.026299e-04 -4.170405e-05  2.666601e-06\n",
       "50 -2.913599e-09  0.000000e+00  1.122527e-07 -8.287193e-05 -1.133814e-05\n",
       "51  1.015167e-09  7.355746e-06 -5.626818e-07  5.130024e-05 -7.434583e-05\n",
       "52  1.310953e-09  1.576924e-05 -2.243528e-05  1.437464e-06  3.536324e-05\n",
       "53  6.414480e-07  2.092073e-08 -4.906949e-05 -6.265086e-06 -6.417334e-06"
      ]
     },
     "metadata": {},
     "output_type": "display_data"
    }
   ],
   "source": [
    "W <- MatofAlphas*B\n",
    "W"
   ]
  },
  {
   "cell_type": "markdown",
   "id": "b7944d0b",
   "metadata": {},
   "source": [
    "En los siguientes pasos se estiman los componentes principales por medio del comando princomp()"
   ]
  },
  {
   "cell_type": "code",
   "execution_count": 48,
   "id": "e196be6b",
   "metadata": {},
   "outputs": [
    {
     "data": {
      "text/plain": [
       "Importance of components:\n",
       "                            Comp.1      Comp.2       Comp.3       Comp.4\n",
       "Standard deviation     0.004623447 0.001993398 0.0007930276 0.0006297528\n",
       "Proportion of Variance 0.808942742 0.150374419 0.0237992168 0.0150081184\n",
       "Cumulative Proportion  0.808942742 0.959317161 0.9831163773 0.9981244957\n",
       "                             Comp.5\n",
       "Standard deviation     0.0002226209\n",
       "Proportion of Variance 0.0018755043\n",
       "Cumulative Proportion  1.0000000000"
      ]
     },
     "metadata": {},
     "output_type": "display_data"
    }
   ],
   "source": [
    "components <- princomp(delta_alpha)\n",
    "summary(components)"
   ]
  },
  {
   "cell_type": "code",
   "execution_count": 49,
   "id": "76080d28",
   "metadata": {},
   "outputs": [],
   "source": [
    "cum_variance <- cumsum(components$sdev^2 / sum(components$sdev^2))\n",
    "best_components <- components$scores[,1:2]"
   ]
  },
  {
   "cell_type": "code",
   "execution_count": 50,
   "id": "2e78a1b1",
   "metadata": {},
   "outputs": [
    {
     "data": {
      "text/html": [
       "<style>\n",
       ".dl-inline {width: auto; margin:0; padding: 0}\n",
       ".dl-inline>dt, .dl-inline>dd {float: none; width: auto; display: inline-block}\n",
       ".dl-inline>dt::after {content: \":\\0020\"; padding-right: .5ex}\n",
       ".dl-inline>dt:not(:first-of-type) {padding-left: .5ex}\n",
       "</style><dl class=dl-inline><dt>Comp.1</dt><dd>0.808942741784558</dd><dt>Comp.2</dt><dd>0.95931716055442</dd><dt>Comp.3</dt><dd>0.983116377304557</dd><dt>Comp.4</dt><dd>0.998124495675706</dd><dt>Comp.5</dt><dd>1</dd></dl>\n"
      ],
      "text/latex": [
       "\\begin{description*}\n",
       "\\item[Comp.1] 0.808942741784558\n",
       "\\item[Comp.2] 0.95931716055442\n",
       "\\item[Comp.3] 0.983116377304557\n",
       "\\item[Comp.4] 0.998124495675706\n",
       "\\item[Comp.5] 1\n",
       "\\end{description*}\n"
      ],
      "text/markdown": [
       "Comp.1\n",
       ":   0.808942741784558Comp.2\n",
       ":   0.95931716055442Comp.3\n",
       ":   0.983116377304557Comp.4\n",
       ":   0.998124495675706Comp.5\n",
       ":   1\n",
       "\n"
      ],
      "text/plain": [
       "   Comp.1    Comp.2    Comp.3    Comp.4    Comp.5 \n",
       "0.8089427 0.9593172 0.9831164 0.9981245 1.0000000 "
      ]
     },
     "metadata": {},
     "output_type": "display_data"
    },
    {
     "data": {
      "text/html": [
       "<table class=\"dataframe\">\n",
       "<caption>A matrix: 52 × 2 of type dbl</caption>\n",
       "<thead>\n",
       "\t<tr><th></th><th scope=col>Comp.1</th><th scope=col>Comp.2</th></tr>\n",
       "</thead>\n",
       "<tbody>\n",
       "\t<tr><th scope=row>2</th><td> 7.732720e-03</td><td> 1.135492e-04</td></tr>\n",
       "\t<tr><th scope=row>3</th><td> 4.010615e-03</td><td>-6.236736e-03</td></tr>\n",
       "\t<tr><th scope=row>4</th><td> 8.892358e-03</td><td> 3.135544e-03</td></tr>\n",
       "\t<tr><th scope=row>5</th><td> 2.575205e-03</td><td> 6.489170e-04</td></tr>\n",
       "\t<tr><th scope=row>6</th><td> 5.185036e-03</td><td> 1.587125e-03</td></tr>\n",
       "\t<tr><th scope=row>7</th><td>-3.121548e-03</td><td>-3.695086e-04</td></tr>\n",
       "\t<tr><th scope=row>8</th><td> 1.685362e-03</td><td>-3.368033e-03</td></tr>\n",
       "\t<tr><th scope=row>9</th><td>-4.393828e-03</td><td> 4.436899e-03</td></tr>\n",
       "\t<tr><th scope=row>10</th><td>-5.415934e-03</td><td>-2.294397e-04</td></tr>\n",
       "\t<tr><th scope=row>11</th><td>-1.874146e-03</td><td> 4.619275e-04</td></tr>\n",
       "\t<tr><th scope=row>12</th><td> 3.497021e-03</td><td> 1.136916e-03</td></tr>\n",
       "\t<tr><th scope=row>13</th><td>-3.568499e-03</td><td> 2.901990e-03</td></tr>\n",
       "\t<tr><th scope=row>14</th><td> 2.074533e-03</td><td> 6.740481e-04</td></tr>\n",
       "\t<tr><th scope=row>15</th><td>-1.133547e-03</td><td>-1.087177e-04</td></tr>\n",
       "\t<tr><th scope=row>16</th><td>-1.948064e-03</td><td> 5.163132e-04</td></tr>\n",
       "\t<tr><th scope=row>17</th><td>-3.270356e-03</td><td> 4.170737e-04</td></tr>\n",
       "\t<tr><th scope=row>18</th><td>-6.999976e-03</td><td>-6.236267e-04</td></tr>\n",
       "\t<tr><th scope=row>19</th><td>-2.167358e-03</td><td>-6.255449e-03</td></tr>\n",
       "\t<tr><th scope=row>20</th><td> 4.463157e-03</td><td> 1.165700e-03</td></tr>\n",
       "\t<tr><th scope=row>21</th><td>-6.526579e-03</td><td> 4.037701e-04</td></tr>\n",
       "\t<tr><th scope=row>22</th><td>-4.601038e-03</td><td> 2.021839e-03</td></tr>\n",
       "\t<tr><th scope=row>23</th><td>-5.255837e-03</td><td>-9.222901e-04</td></tr>\n",
       "\t<tr><th scope=row>24</th><td>-1.394452e-03</td><td> 3.202330e-03</td></tr>\n",
       "\t<tr><th scope=row>25</th><td>-3.728573e-03</td><td>-7.407359e-04</td></tr>\n",
       "\t<tr><th scope=row>26</th><td> 3.708276e-03</td><td>-2.552198e-04</td></tr>\n",
       "\t<tr><th scope=row>27</th><td>-2.135060e-03</td><td>-2.697336e-04</td></tr>\n",
       "\t<tr><th scope=row>28</th><td>-2.126331e-03</td><td>-5.820338e-04</td></tr>\n",
       "\t<tr><th scope=row>29</th><td> 2.863577e-03</td><td> 1.313235e-03</td></tr>\n",
       "\t<tr><th scope=row>30</th><td> 1.236491e-04</td><td> 2.194205e-03</td></tr>\n",
       "\t<tr><th scope=row>31</th><td> 4.250650e-04</td><td>-2.343019e-04</td></tr>\n",
       "\t<tr><th scope=row>32</th><td> 6.149077e-04</td><td>-1.142944e-03</td></tr>\n",
       "\t<tr><th scope=row>33</th><td> 4.418254e-03</td><td>-2.661894e-04</td></tr>\n",
       "\t<tr><th scope=row>34</th><td> 2.110965e-04</td><td> 1.497640e-03</td></tr>\n",
       "\t<tr><th scope=row>35</th><td> 7.856968e-03</td><td>-6.924457e-05</td></tr>\n",
       "\t<tr><th scope=row>36</th><td>-3.688184e-03</td><td>-3.458136e-03</td></tr>\n",
       "\t<tr><th scope=row>37</th><td> 2.463448e-03</td><td>-5.188484e-05</td></tr>\n",
       "\t<tr><th scope=row>38</th><td>-4.890650e-03</td><td>-2.309694e-03</td></tr>\n",
       "\t<tr><th scope=row>39</th><td>-6.511864e-03</td><td> 3.310593e-03</td></tr>\n",
       "\t<tr><th scope=row>40</th><td> 4.948150e-03</td><td>-2.548552e-03</td></tr>\n",
       "\t<tr><th scope=row>41</th><td>-1.580590e-03</td><td> 8.099062e-05</td></tr>\n",
       "\t<tr><th scope=row>42</th><td>-4.648880e-03</td><td> 5.464511e-04</td></tr>\n",
       "\t<tr><th scope=row>43</th><td>-8.948844e-03</td><td>-2.215930e-03</td></tr>\n",
       "\t<tr><th scope=row>44</th><td> 6.911992e-03</td><td> 1.089984e-03</td></tr>\n",
       "\t<tr><th scope=row>45</th><td>-5.294607e-03</td><td> 1.142822e-03</td></tr>\n",
       "\t<tr><th scope=row>46</th><td> 4.374154e-03</td><td> 1.027501e-03</td></tr>\n",
       "\t<tr><th scope=row>47</th><td> 4.167904e-04</td><td> 2.127379e-04</td></tr>\n",
       "\t<tr><th scope=row>48</th><td> 1.291893e-02</td><td>-7.423775e-04</td></tr>\n",
       "\t<tr><th scope=row>49</th><td>-6.407691e-05</td><td>-4.484921e-04</td></tr>\n",
       "\t<tr><th scope=row>50</th><td>-2.343074e-03</td><td>-4.349394e-05</td></tr>\n",
       "\t<tr><th scope=row>51</th><td>-6.973042e-04</td><td>-3.702782e-04</td></tr>\n",
       "\t<tr><th scope=row>52</th><td> 6.073228e-03</td><td>-6.045591e-04</td></tr>\n",
       "\t<tr><th scope=row>53</th><td>-1.152904e-04</td><td>-7.725016e-04</td></tr>\n",
       "</tbody>\n",
       "</table>\n"
      ],
      "text/latex": [
       "A matrix: 52 × 2 of type dbl\n",
       "\\begin{tabular}{r|ll}\n",
       "  & Comp.1 & Comp.2\\\\\n",
       "\\hline\n",
       "\t2 &  7.732720e-03 &  1.135492e-04\\\\\n",
       "\t3 &  4.010615e-03 & -6.236736e-03\\\\\n",
       "\t4 &  8.892358e-03 &  3.135544e-03\\\\\n",
       "\t5 &  2.575205e-03 &  6.489170e-04\\\\\n",
       "\t6 &  5.185036e-03 &  1.587125e-03\\\\\n",
       "\t7 & -3.121548e-03 & -3.695086e-04\\\\\n",
       "\t8 &  1.685362e-03 & -3.368033e-03\\\\\n",
       "\t9 & -4.393828e-03 &  4.436899e-03\\\\\n",
       "\t10 & -5.415934e-03 & -2.294397e-04\\\\\n",
       "\t11 & -1.874146e-03 &  4.619275e-04\\\\\n",
       "\t12 &  3.497021e-03 &  1.136916e-03\\\\\n",
       "\t13 & -3.568499e-03 &  2.901990e-03\\\\\n",
       "\t14 &  2.074533e-03 &  6.740481e-04\\\\\n",
       "\t15 & -1.133547e-03 & -1.087177e-04\\\\\n",
       "\t16 & -1.948064e-03 &  5.163132e-04\\\\\n",
       "\t17 & -3.270356e-03 &  4.170737e-04\\\\\n",
       "\t18 & -6.999976e-03 & -6.236267e-04\\\\\n",
       "\t19 & -2.167358e-03 & -6.255449e-03\\\\\n",
       "\t20 &  4.463157e-03 &  1.165700e-03\\\\\n",
       "\t21 & -6.526579e-03 &  4.037701e-04\\\\\n",
       "\t22 & -4.601038e-03 &  2.021839e-03\\\\\n",
       "\t23 & -5.255837e-03 & -9.222901e-04\\\\\n",
       "\t24 & -1.394452e-03 &  3.202330e-03\\\\\n",
       "\t25 & -3.728573e-03 & -7.407359e-04\\\\\n",
       "\t26 &  3.708276e-03 & -2.552198e-04\\\\\n",
       "\t27 & -2.135060e-03 & -2.697336e-04\\\\\n",
       "\t28 & -2.126331e-03 & -5.820338e-04\\\\\n",
       "\t29 &  2.863577e-03 &  1.313235e-03\\\\\n",
       "\t30 &  1.236491e-04 &  2.194205e-03\\\\\n",
       "\t31 &  4.250650e-04 & -2.343019e-04\\\\\n",
       "\t32 &  6.149077e-04 & -1.142944e-03\\\\\n",
       "\t33 &  4.418254e-03 & -2.661894e-04\\\\\n",
       "\t34 &  2.110965e-04 &  1.497640e-03\\\\\n",
       "\t35 &  7.856968e-03 & -6.924457e-05\\\\\n",
       "\t36 & -3.688184e-03 & -3.458136e-03\\\\\n",
       "\t37 &  2.463448e-03 & -5.188484e-05\\\\\n",
       "\t38 & -4.890650e-03 & -2.309694e-03\\\\\n",
       "\t39 & -6.511864e-03 &  3.310593e-03\\\\\n",
       "\t40 &  4.948150e-03 & -2.548552e-03\\\\\n",
       "\t41 & -1.580590e-03 &  8.099062e-05\\\\\n",
       "\t42 & -4.648880e-03 &  5.464511e-04\\\\\n",
       "\t43 & -8.948844e-03 & -2.215930e-03\\\\\n",
       "\t44 &  6.911992e-03 &  1.089984e-03\\\\\n",
       "\t45 & -5.294607e-03 &  1.142822e-03\\\\\n",
       "\t46 &  4.374154e-03 &  1.027501e-03\\\\\n",
       "\t47 &  4.167904e-04 &  2.127379e-04\\\\\n",
       "\t48 &  1.291893e-02 & -7.423775e-04\\\\\n",
       "\t49 & -6.407691e-05 & -4.484921e-04\\\\\n",
       "\t50 & -2.343074e-03 & -4.349394e-05\\\\\n",
       "\t51 & -6.973042e-04 & -3.702782e-04\\\\\n",
       "\t52 &  6.073228e-03 & -6.045591e-04\\\\\n",
       "\t53 & -1.152904e-04 & -7.725016e-04\\\\\n",
       "\\end{tabular}\n"
      ],
      "text/markdown": [
       "\n",
       "A matrix: 52 × 2 of type dbl\n",
       "\n",
       "| <!--/--> | Comp.1 | Comp.2 |\n",
       "|---|---|---|\n",
       "| 2 |  7.732720e-03 |  1.135492e-04 |\n",
       "| 3 |  4.010615e-03 | -6.236736e-03 |\n",
       "| 4 |  8.892358e-03 |  3.135544e-03 |\n",
       "| 5 |  2.575205e-03 |  6.489170e-04 |\n",
       "| 6 |  5.185036e-03 |  1.587125e-03 |\n",
       "| 7 | -3.121548e-03 | -3.695086e-04 |\n",
       "| 8 |  1.685362e-03 | -3.368033e-03 |\n",
       "| 9 | -4.393828e-03 |  4.436899e-03 |\n",
       "| 10 | -5.415934e-03 | -2.294397e-04 |\n",
       "| 11 | -1.874146e-03 |  4.619275e-04 |\n",
       "| 12 |  3.497021e-03 |  1.136916e-03 |\n",
       "| 13 | -3.568499e-03 |  2.901990e-03 |\n",
       "| 14 |  2.074533e-03 |  6.740481e-04 |\n",
       "| 15 | -1.133547e-03 | -1.087177e-04 |\n",
       "| 16 | -1.948064e-03 |  5.163132e-04 |\n",
       "| 17 | -3.270356e-03 |  4.170737e-04 |\n",
       "| 18 | -6.999976e-03 | -6.236267e-04 |\n",
       "| 19 | -2.167358e-03 | -6.255449e-03 |\n",
       "| 20 |  4.463157e-03 |  1.165700e-03 |\n",
       "| 21 | -6.526579e-03 |  4.037701e-04 |\n",
       "| 22 | -4.601038e-03 |  2.021839e-03 |\n",
       "| 23 | -5.255837e-03 | -9.222901e-04 |\n",
       "| 24 | -1.394452e-03 |  3.202330e-03 |\n",
       "| 25 | -3.728573e-03 | -7.407359e-04 |\n",
       "| 26 |  3.708276e-03 | -2.552198e-04 |\n",
       "| 27 | -2.135060e-03 | -2.697336e-04 |\n",
       "| 28 | -2.126331e-03 | -5.820338e-04 |\n",
       "| 29 |  2.863577e-03 |  1.313235e-03 |\n",
       "| 30 |  1.236491e-04 |  2.194205e-03 |\n",
       "| 31 |  4.250650e-04 | -2.343019e-04 |\n",
       "| 32 |  6.149077e-04 | -1.142944e-03 |\n",
       "| 33 |  4.418254e-03 | -2.661894e-04 |\n",
       "| 34 |  2.110965e-04 |  1.497640e-03 |\n",
       "| 35 |  7.856968e-03 | -6.924457e-05 |\n",
       "| 36 | -3.688184e-03 | -3.458136e-03 |\n",
       "| 37 |  2.463448e-03 | -5.188484e-05 |\n",
       "| 38 | -4.890650e-03 | -2.309694e-03 |\n",
       "| 39 | -6.511864e-03 |  3.310593e-03 |\n",
       "| 40 |  4.948150e-03 | -2.548552e-03 |\n",
       "| 41 | -1.580590e-03 |  8.099062e-05 |\n",
       "| 42 | -4.648880e-03 |  5.464511e-04 |\n",
       "| 43 | -8.948844e-03 | -2.215930e-03 |\n",
       "| 44 |  6.911992e-03 |  1.089984e-03 |\n",
       "| 45 | -5.294607e-03 |  1.142822e-03 |\n",
       "| 46 |  4.374154e-03 |  1.027501e-03 |\n",
       "| 47 |  4.167904e-04 |  2.127379e-04 |\n",
       "| 48 |  1.291893e-02 | -7.423775e-04 |\n",
       "| 49 | -6.407691e-05 | -4.484921e-04 |\n",
       "| 50 | -2.343074e-03 | -4.349394e-05 |\n",
       "| 51 | -6.973042e-04 | -3.702782e-04 |\n",
       "| 52 |  6.073228e-03 | -6.045591e-04 |\n",
       "| 53 | -1.152904e-04 | -7.725016e-04 |\n",
       "\n"
      ],
      "text/plain": [
       "   Comp.1        Comp.2       \n",
       "2   7.732720e-03  1.135492e-04\n",
       "3   4.010615e-03 -6.236736e-03\n",
       "4   8.892358e-03  3.135544e-03\n",
       "5   2.575205e-03  6.489170e-04\n",
       "6   5.185036e-03  1.587125e-03\n",
       "7  -3.121548e-03 -3.695086e-04\n",
       "8   1.685362e-03 -3.368033e-03\n",
       "9  -4.393828e-03  4.436899e-03\n",
       "10 -5.415934e-03 -2.294397e-04\n",
       "11 -1.874146e-03  4.619275e-04\n",
       "12  3.497021e-03  1.136916e-03\n",
       "13 -3.568499e-03  2.901990e-03\n",
       "14  2.074533e-03  6.740481e-04\n",
       "15 -1.133547e-03 -1.087177e-04\n",
       "16 -1.948064e-03  5.163132e-04\n",
       "17 -3.270356e-03  4.170737e-04\n",
       "18 -6.999976e-03 -6.236267e-04\n",
       "19 -2.167358e-03 -6.255449e-03\n",
       "20  4.463157e-03  1.165700e-03\n",
       "21 -6.526579e-03  4.037701e-04\n",
       "22 -4.601038e-03  2.021839e-03\n",
       "23 -5.255837e-03 -9.222901e-04\n",
       "24 -1.394452e-03  3.202330e-03\n",
       "25 -3.728573e-03 -7.407359e-04\n",
       "26  3.708276e-03 -2.552198e-04\n",
       "27 -2.135060e-03 -2.697336e-04\n",
       "28 -2.126331e-03 -5.820338e-04\n",
       "29  2.863577e-03  1.313235e-03\n",
       "30  1.236491e-04  2.194205e-03\n",
       "31  4.250650e-04 -2.343019e-04\n",
       "32  6.149077e-04 -1.142944e-03\n",
       "33  4.418254e-03 -2.661894e-04\n",
       "34  2.110965e-04  1.497640e-03\n",
       "35  7.856968e-03 -6.924457e-05\n",
       "36 -3.688184e-03 -3.458136e-03\n",
       "37  2.463448e-03 -5.188484e-05\n",
       "38 -4.890650e-03 -2.309694e-03\n",
       "39 -6.511864e-03  3.310593e-03\n",
       "40  4.948150e-03 -2.548552e-03\n",
       "41 -1.580590e-03  8.099062e-05\n",
       "42 -4.648880e-03  5.464511e-04\n",
       "43 -8.948844e-03 -2.215930e-03\n",
       "44  6.911992e-03  1.089984e-03\n",
       "45 -5.294607e-03  1.142822e-03\n",
       "46  4.374154e-03  1.027501e-03\n",
       "47  4.167904e-04  2.127379e-04\n",
       "48  1.291893e-02 -7.423775e-04\n",
       "49 -6.407691e-05 -4.484921e-04\n",
       "50 -2.343074e-03 -4.349394e-05\n",
       "51 -6.973042e-04 -3.702782e-04\n",
       "52  6.073228e-03 -6.045591e-04\n",
       "53 -1.152904e-04 -7.725016e-04"
      ]
     },
     "metadata": {},
     "output_type": "display_data"
    },
    {
     "data": {
      "image/png": "[encoded data removed]",
      "text/plain": [
       "plot without title"
      ]
     },
     "metadata": {},
     "output_type": "display_data"
    }
   ],
   "source": [
    "cum_variance\n",
    "plot(cum_variance, type='l')\n",
    "best_components"
   ]
  },
  {
   "cell_type": "code",
   "execution_count": 51,
   "id": "996b192e",
   "metadata": {},
   "outputs": [],
   "source": [
    "librerias <- c(\"forecast\",\"xts\",\"rugarch\",\"timeSeries\",\"ggplot2\",\"astsa\",\"scales\",\"lubridate\",\"reshape2\",\"quantmod\",\"xtable\",\"tseries\")"
   ]
  },
  {
   "cell_type": "code",
   "execution_count": 52,
   "id": "4aac25c2",
   "metadata": {},
   "outputs": [
    {
     "name": "stderr",
     "output_type": "stream",
     "text": [
      "Warning message:\n",
      "\"package 'forecast' was built under R version 3.6.3\"Registered S3 method overwritten by 'xts':\n",
      "  method     from\n",
      "  as.zoo.xts zoo \n",
      "Registered S3 method overwritten by 'quantmod':\n",
      "  method            from\n",
      "  as.zoo.data.frame zoo \n",
      "Warning message:\n",
      "\"package 'zoo' was built under R version 3.6.3\"\n",
      "Attaching package: 'zoo'\n",
      "\n",
      "The following objects are masked from 'package:base':\n",
      "\n",
      "    as.Date, as.Date.numeric\n",
      "\n",
      "Warning message:\n",
      "\"package 'rugarch' was built under R version 3.6.3\"\n",
      "Attaching package: 'rugarch'\n",
      "\n",
      "The following object is masked from 'package:stats':\n",
      "\n",
      "    sigma\n",
      "\n",
      "Warning message:\n",
      "\"package 'timeSeries' was built under R version 3.6.3\"Warning message:\n",
      "\"package 'timeDate' was built under R version 3.6.2\"\n",
      "Attaching package: 'timeSeries'\n",
      "\n",
      "The following object is masked from 'package:zoo':\n",
      "\n",
      "    time<-\n",
      "\n",
      "\n",
      "Attaching package: 'astsa'\n",
      "\n",
      "The following object is masked from 'package:forecast':\n",
      "\n",
      "    gas\n",
      "\n",
      "Warning message:\n",
      "\"package 'scales' was built under R version 3.6.3\"Warning message:\n",
      "\"package 'reshape2' was built under R version 3.6.3\"\n",
      "Attaching package: 'reshape2'\n",
      "\n",
      "The following object is masked from 'package:tidyr':\n",
      "\n",
      "    smiths\n",
      "\n",
      "Version 0.4-0 included new data defaults. See ?getSymbols.\n",
      "Warning message:\n",
      "\"package 'xtable' was built under R version 3.6.3\"\n",
      "Attaching package: 'xtable'\n",
      "\n",
      "The following object is masked from 'package:timeSeries':\n",
      "\n",
      "    align\n",
      "\n",
      "The following object is masked from 'package:timeDate':\n",
      "\n",
      "    align\n",
      "\n",
      "Warning message:\n",
      "\"package 'tseries' was built under R version 3.6.3\""
     ]
    }
   ],
   "source": [
    "if(length(setdiff(librerias, rownames(installed.packages()))) > 0){\n",
    "  install.packages(setdiff(librerias, rownames(installed.packages())))}\n",
    "invisible(sapply(librerias, require, character.only = TRUE,quietly = TRUE))"
   ]
  },
  {
   "cell_type": "code",
   "execution_count": 53,
   "id": "6c1f4a8d",
   "metadata": {},
   "outputs": [
    {
     "data": {
      "text/plain": [
       "\n",
       "\tBox-Pierce test\n",
       "\n",
       "data:  Arima_1$residuals\n",
       "X-squared = 0.003231, df = 1, p-value = 0.9547\n"
      ]
     },
     "metadata": {},
     "output_type": "display_data"
    },
    {
     "data": {
      "text/plain": [
       "\n",
       "\tBox-Pierce test\n",
       "\n",
       "data:  Arima_2$residuals\n",
       "X-squared = 0.013449, df = 1, p-value = 0.9077\n"
      ]
     },
     "metadata": {},
     "output_type": "display_data"
    }
   ],
   "source": [
    "Arima_1 <- auto.arima(best_components[,1],stepwise = F,approximation = F)\n",
    "Box.test(Arima_1$residuals)\n",
    "Arima_2 <- auto.arima(best_components[,2],stepwise = F,approximation = F)\n",
    "Box.test(Arima_2$residuals)"
   ]
  },
  {
   "cell_type": "markdown",
   "id": "0605c47b",
   "metadata": {},
   "source": [
    "Simulaciones al futuro"
   ]
  },
  {
   "cell_type": "code",
   "execution_count": 70,
   "id": "faae22f1",
   "metadata": {},
   "outputs": [
    {
     "data": {
      "text/html": [
       "<table class=\"dataframe\">\n",
       "<caption>A matrix: 52 × 1000 of type dbl</caption>\n",
       "<tbody>\n",
       "\t<tr><td>-3.192057e-05</td><td>-5.116766e-05</td><td> 6.847868e-05</td><td> 3.196030e-05</td><td> 7.392832e-05</td><td> 5.135848e-05</td><td>-3.200134e-05</td><td>-8.411190e-06</td><td> 1.997505e-05</td><td>-5.544337e-05</td><td>...</td><td>-3.975222e-07</td><td>-4.108188e-05</td><td>-2.582389e-05</td><td>-2.662744e-06</td><td> 4.092493e-05</td><td> 2.145839e-05</td><td>-5.052722e-05</td><td>-4.681206e-06</td><td> 6.138450e-05</td><td> 2.927406e-05</td></tr>\n",
       "\t<tr><td> 1.148431e-05</td><td>-7.568494e-05</td><td> 5.933587e-06</td><td> 2.836976e-05</td><td> 4.450079e-05</td><td>-3.845784e-05</td><td> 2.093517e-05</td><td> 1.780804e-05</td><td>-5.513594e-05</td><td> 7.157082e-06</td><td>...</td><td>-6.470660e-05</td><td>-2.332107e-05</td><td>-2.220066e-05</td><td>-4.187143e-05</td><td>-1.075483e-05</td><td>-5.099367e-07</td><td> 4.608625e-05</td><td> 8.329716e-06</td><td>-3.097462e-05</td><td>-1.520706e-06</td></tr>\n",
       "\t<tr><td>-8.081826e-05</td><td>-3.241419e-05</td><td> 1.066458e-05</td><td> 1.107053e-05</td><td> 3.354442e-05</td><td> 6.755511e-08</td><td>-4.368571e-06</td><td>-1.373853e-05</td><td>-3.452744e-05</td><td> 2.959357e-05</td><td>...</td><td> 1.917129e-05</td><td>-1.148602e-05</td><td> 5.991506e-06</td><td>-3.207890e-05</td><td>-8.404142e-06</td><td>-3.221012e-05</td><td>-4.188728e-06</td><td> 3.540838e-05</td><td>-9.176172e-06</td><td>-6.369080e-06</td></tr>\n",
       "\t<tr><td>-4.388551e-05</td><td>-1.088681e-05</td><td> 3.234271e-05</td><td> 5.803832e-06</td><td>-1.610868e-05</td><td> 2.907584e-06</td><td>-8.855780e-07</td><td> 4.031826e-05</td><td> 1.314439e-05</td><td> 1.255349e-05</td><td>...</td><td> 1.178372e-05</td><td>-6.048363e-05</td><td>-3.280824e-05</td><td> 4.413611e-05</td><td> 1.448248e-06</td><td> 1.798862e-05</td><td>-2.816865e-06</td><td> 2.456008e-05</td><td> 9.939793e-06</td><td> 5.666131e-05</td></tr>\n",
       "\t<tr><td>-1.963582e-05</td><td>-2.753066e-05</td><td> 5.049506e-05</td><td>-9.396723e-05</td><td>-4.800230e-05</td><td>-2.191763e-05</td><td>-3.085236e-05</td><td> 3.521888e-06</td><td> 5.212070e-05</td><td>-1.560155e-05</td><td>...</td><td> 4.475314e-06</td><td>-8.812380e-06</td><td>-7.917414e-06</td><td> 6.709911e-05</td><td> 1.341398e-05</td><td>-5.074992e-05</td><td>-1.668710e-05</td><td> 8.440125e-06</td><td> 3.441699e-05</td><td>-5.934876e-05</td></tr>\n",
       "\t<tr><td>-8.777699e-05</td><td> 7.725079e-05</td><td> 3.920962e-05</td><td>-3.074351e-05</td><td>-4.836167e-06</td><td>-2.210192e-05</td><td>-2.203180e-05</td><td>-2.628638e-05</td><td> 1.297452e-05</td><td>-5.502115e-05</td><td>...</td><td> 4.481707e-05</td><td> 1.156388e-05</td><td>-3.684439e-05</td><td>-3.021369e-05</td><td> 4.664212e-05</td><td>-4.489788e-05</td><td> 7.996226e-06</td><td>-2.328768e-05</td><td> 5.902382e-05</td><td> 1.859022e-06</td></tr>\n",
       "\t<tr><td>-8.006689e-06</td><td>-4.919645e-06</td><td> 1.166879e-05</td><td> 2.027304e-05</td><td> 4.422858e-05</td><td>-2.686224e-05</td><td> 1.646696e-05</td><td> 4.571538e-05</td><td>-7.934270e-06</td><td> 3.053202e-05</td><td>...</td><td>-2.961968e-06</td><td>-3.409628e-05</td><td>-6.461021e-05</td><td> 2.226797e-06</td><td> 5.109144e-05</td><td> 1.981600e-05</td><td> 2.018449e-06</td><td> 1.089630e-05</td><td>-2.520895e-05</td><td> 1.306405e-05</td></tr>\n",
       "\t<tr><td>-1.903073e-05</td><td>-4.868787e-05</td><td>-2.379734e-05</td><td> 5.883623e-05</td><td> 2.925066e-05</td><td> 1.692850e-05</td><td>-3.984111e-05</td><td>-1.547693e-05</td><td> 8.698198e-06</td><td>-5.042853e-05</td><td>...</td><td>-4.589138e-05</td><td>-1.624528e-05</td><td> 1.897885e-05</td><td>-1.284604e-05</td><td> 4.595098e-06</td><td>-3.451735e-05</td><td> 2.922118e-05</td><td>-2.321780e-06</td><td>-7.379619e-05</td><td>-6.150603e-05</td></tr>\n",
       "\t<tr><td> 2.415780e-05</td><td> 5.268514e-05</td><td> 7.319957e-07</td><td> 1.286078e-05</td><td> 7.730104e-05</td><td>-4.754145e-05</td><td> 1.771979e-05</td><td> 4.406768e-06</td><td> 1.171403e-05</td><td>-9.135884e-06</td><td>...</td><td> 3.320961e-05</td><td> 4.250157e-05</td><td> 1.904813e-05</td><td> 4.979224e-06</td><td>-7.210870e-05</td><td> 2.505600e-05</td><td>-2.473779e-05</td><td> 3.410970e-06</td><td>-1.312680e-05</td><td>-3.611749e-05</td></tr>\n",
       "\t<tr><td> 3.703174e-05</td><td> 8.649874e-06</td><td>-3.126520e-05</td><td>-3.535502e-05</td><td>-4.511418e-05</td><td>-1.666586e-05</td><td> 5.799272e-05</td><td>-1.885171e-05</td><td>-4.494154e-05</td><td> 2.621894e-05</td><td>...</td><td> 3.937372e-05</td><td> 3.077375e-05</td><td> 4.189497e-05</td><td>-2.963048e-05</td><td>-1.842175e-06</td><td> 2.572838e-05</td><td>-1.154328e-05</td><td> 3.225926e-05</td><td>-3.355453e-05</td><td>-9.038509e-06</td></tr>\n",
       "\t<tr><td> 1.147635e-05</td><td> 1.025978e-05</td><td> 1.206534e-05</td><td>-2.952197e-05</td><td> 7.246545e-06</td><td> 6.525621e-05</td><td> 4.975525e-06</td><td> 2.168471e-05</td><td>-1.107718e-05</td><td>-5.082431e-06</td><td>...</td><td> 6.762707e-06</td><td> 2.602318e-06</td><td> 5.445174e-05</td><td>-2.651120e-05</td><td> 2.410449e-05</td><td>-8.933646e-06</td><td> 6.196129e-06</td><td>-6.377696e-05</td><td> 4.320147e-05</td><td> 3.323138e-05</td></tr>\n",
       "\t<tr><td>-6.389959e-05</td><td>-1.154731e-05</td><td> 2.226770e-05</td><td> 2.215627e-05</td><td>-2.957105e-06</td><td>-2.941032e-05</td><td>-2.938692e-06</td><td> 1.017819e-05</td><td>-3.025054e-05</td><td>-3.738717e-05</td><td>...</td><td>-1.019625e-04</td><td> 3.193301e-05</td><td> 5.069841e-05</td><td>-4.117546e-05</td><td>-1.703978e-05</td><td>-8.088081e-07</td><td>-3.598810e-06</td><td> 3.906483e-05</td><td> 1.283938e-05</td><td> 2.254614e-05</td></tr>\n",
       "\t<tr><td> 1.427459e-05</td><td> 6.682468e-06</td><td> 1.998492e-05</td><td> 2.112933e-05</td><td> 1.316358e-07</td><td>-7.825551e-06</td><td> 1.483745e-05</td><td> 2.993627e-05</td><td>-5.070440e-05</td><td>-2.145363e-05</td><td>...</td><td>-4.856012e-06</td><td>-7.266634e-07</td><td>-2.095114e-05</td><td>-1.294516e-05</td><td>-4.782723e-05</td><td>-2.042875e-05</td><td> 1.172638e-05</td><td> 3.641072e-06</td><td>-5.267336e-05</td><td>-7.829554e-06</td></tr>\n",
       "\t<tr><td> 1.019694e-05</td><td>-3.547528e-06</td><td>-1.702437e-05</td><td> 5.116734e-05</td><td> 3.438444e-05</td><td>-4.134828e-05</td><td> 3.586128e-05</td><td> 9.872248e-06</td><td> 1.711328e-05</td><td> 2.028361e-05</td><td>...</td><td> 3.993489e-05</td><td> 5.308445e-05</td><td> 3.207700e-05</td><td>-9.754472e-06</td><td>-6.586834e-05</td><td>-4.397204e-05</td><td>-4.760353e-05</td><td>-1.147705e-05</td><td> 6.261246e-05</td><td> 9.592296e-06</td></tr>\n",
       "\t<tr><td> 8.641935e-05</td><td>-5.363385e-05</td><td> 5.342562e-05</td><td> 2.792948e-05</td><td> 2.417739e-05</td><td> 1.040520e-05</td><td> 2.105685e-05</td><td> 2.904841e-05</td><td>-3.303648e-05</td><td> 2.269336e-05</td><td>...</td><td> 2.688113e-05</td><td> 6.055211e-06</td><td>-2.520770e-06</td><td>-1.582390e-06</td><td>-3.675152e-05</td><td>-1.991101e-05</td><td>-5.548020e-05</td><td> 1.702959e-05</td><td>-5.987153e-07</td><td>-4.699810e-05</td></tr>\n",
       "\t<tr><td> 3.047195e-05</td><td>-4.044170e-05</td><td>-1.124498e-05</td><td> 3.942214e-05</td><td>-1.175646e-05</td><td> 2.432364e-05</td><td> 4.641458e-05</td><td>-8.225758e-06</td><td> 1.933937e-05</td><td> 8.920213e-06</td><td>...</td><td> 1.677417e-05</td><td>-6.209632e-07</td><td>-3.991329e-05</td><td>-3.412043e-05</td><td>-1.965353e-05</td><td>-5.847300e-05</td><td>-6.165530e-05</td><td>-2.960716e-05</td><td>-6.275644e-07</td><td> 1.157940e-05</td></tr>\n",
       "\t<tr><td> 2.412529e-05</td><td> 2.219564e-05</td><td> 2.762914e-05</td><td> 4.215652e-05</td><td>-2.314198e-05</td><td> 1.505945e-05</td><td> 4.618333e-05</td><td> 1.663078e-06</td><td>-4.986856e-05</td><td> 4.612132e-05</td><td>...</td><td> 1.725408e-05</td><td>-1.592084e-05</td><td>-6.779622e-07</td><td> 2.037825e-05</td><td>-1.619323e-05</td><td>-6.090947e-06</td><td>-2.556429e-05</td><td>-7.084343e-05</td><td> 3.877676e-05</td><td>-1.916871e-05</td></tr>\n",
       "\t<tr><td> 4.318350e-05</td><td>-3.196519e-05</td><td> 6.727556e-06</td><td>-2.006627e-05</td><td> 1.714464e-05</td><td>-9.210726e-06</td><td> 3.041238e-06</td><td> 2.107162e-05</td><td> 1.973151e-05</td><td>-3.154018e-05</td><td>...</td><td>-4.753260e-05</td><td> 8.394144e-06</td><td> 1.273502e-05</td><td>-5.400950e-05</td><td>-4.557150e-05</td><td> 5.769448e-05</td><td>-3.884252e-06</td><td>-3.998954e-05</td><td> 1.662288e-05</td><td> 2.838207e-05</td></tr>\n",
       "\t<tr><td> 5.553645e-05</td><td>-3.738948e-05</td><td>-1.108712e-05</td><td> 1.186220e-05</td><td> 1.079956e-06</td><td> 5.922090e-05</td><td> 1.139041e-05</td><td>-3.627400e-06</td><td>-1.458142e-05</td><td>-1.247101e-05</td><td>...</td><td> 1.735671e-05</td><td>-3.523662e-05</td><td>-3.676876e-06</td><td> 3.957509e-06</td><td> 3.986851e-05</td><td>-1.120428e-04</td><td> 4.047862e-05</td><td>-3.792324e-05</td><td> 1.053107e-05</td><td>-1.739277e-05</td></tr>\n",
       "\t<tr><td>-3.443770e-06</td><td>-1.797154e-05</td><td> 2.105453e-05</td><td> 2.185999e-05</td><td>-1.109296e-05</td><td> 8.581967e-06</td><td> 1.276237e-05</td><td> 3.016814e-05</td><td> 2.408839e-05</td><td>-3.544568e-05</td><td>...</td><td> 1.459974e-06</td><td> 2.857900e-06</td><td>-1.031119e-05</td><td> 3.396733e-05</td><td> 1.883976e-05</td><td> 3.663057e-05</td><td> 1.234126e-05</td><td> 3.339745e-05</td><td> 3.210253e-05</td><td> 3.829815e-05</td></tr>\n",
       "\t<tr><td>-4.178037e-05</td><td>-2.796779e-05</td><td>-2.760121e-05</td><td>-1.510746e-05</td><td>-5.871888e-05</td><td> 2.131415e-05</td><td>-2.260397e-05</td><td>-3.271726e-05</td><td>-2.904556e-05</td><td>-5.690044e-06</td><td>...</td><td> 7.900105e-05</td><td> 3.782290e-06</td><td>-2.322035e-05</td><td> 2.586915e-05</td><td> 4.138837e-05</td><td> 8.815674e-06</td><td>-1.845414e-05</td><td> 4.949582e-05</td><td>-3.847969e-05</td><td> 1.345917e-05</td></tr>\n",
       "\t<tr><td> 1.070593e-05</td><td>-7.591357e-06</td><td> 2.813848e-05</td><td> 2.506823e-05</td><td>-2.590607e-05</td><td>-2.017907e-05</td><td>-1.164154e-05</td><td> 1.645912e-05</td><td>-4.368728e-05</td><td> 5.065935e-06</td><td>...</td><td> 1.581403e-05</td><td> 1.032174e-06</td><td> 3.489739e-05</td><td>-1.033551e-05</td><td>-3.923746e-05</td><td> 1.318841e-06</td><td>-4.546497e-05</td><td>-1.553266e-05</td><td>-7.025526e-05</td><td> 8.275924e-05</td></tr>\n",
       "\t<tr><td> 5.069711e-06</td><td>-2.348010e-05</td><td> 4.144198e-06</td><td>-6.685847e-08</td><td> 1.830766e-05</td><td>-6.396179e-05</td><td> 3.938306e-05</td><td> 2.156861e-05</td><td>-5.337572e-05</td><td>-4.560356e-05</td><td>...</td><td> 6.891309e-05</td><td>-2.998382e-05</td><td> 1.658476e-06</td><td>-2.662398e-05</td><td> 1.655760e-05</td><td>-2.001680e-05</td><td> 2.882744e-05</td><td> 3.861921e-05</td><td> 2.369284e-05</td><td> 3.130860e-05</td></tr>\n",
       "\t<tr><td> 1.603414e-05</td><td> 2.757445e-05</td><td>-7.039510e-06</td><td>-2.870994e-07</td><td> 2.769108e-06</td><td>-2.455923e-05</td><td> 4.464378e-06</td><td> 1.733011e-05</td><td>-6.577148e-05</td><td> 1.440372e-06</td><td>...</td><td>-1.862173e-05</td><td>-2.332394e-05</td><td>-2.864526e-05</td><td>-2.627430e-05</td><td>-6.520281e-05</td><td> 2.639469e-05</td><td> 2.031238e-05</td><td> 2.095827e-05</td><td>-4.555747e-05</td><td>-1.809515e-07</td></tr>\n",
       "\t<tr><td>-2.119921e-05</td><td> 6.771490e-05</td><td> 2.758613e-05</td><td>-6.610747e-05</td><td> 2.805902e-05</td><td>-4.556167e-05</td><td>-2.942794e-05</td><td> 4.078079e-05</td><td> 3.945203e-05</td><td>-1.539792e-05</td><td>...</td><td>-3.361987e-05</td><td> 1.754741e-05</td><td> 9.548286e-06</td><td> 2.245125e-05</td><td> 6.236541e-06</td><td> 4.654823e-05</td><td>-1.796441e-05</td><td> 5.435949e-05</td><td>-2.538068e-05</td><td> 3.805766e-06</td></tr>\n",
       "\t<tr><td> 1.726934e-05</td><td>-3.939060e-07</td><td> 3.642054e-05</td><td> 8.885564e-06</td><td>-2.263017e-05</td><td>-6.130535e-06</td><td>-5.005761e-05</td><td>-3.496845e-06</td><td>-2.522111e-06</td><td> 1.701548e-06</td><td>...</td><td>-6.110025e-05</td><td> 1.488973e-05</td><td> 2.800938e-05</td><td>-1.746504e-05</td><td> 1.380811e-05</td><td>-2.832022e-05</td><td>-8.513536e-06</td><td> 2.017150e-05</td><td> 4.157811e-05</td><td> 5.389562e-05</td></tr>\n",
       "\t<tr><td> 2.982975e-05</td><td> 5.433303e-05</td><td> 4.063332e-05</td><td> 3.155345e-05</td><td> 4.552296e-06</td><td> 2.251678e-05</td><td> 2.889910e-05</td><td> 2.354829e-05</td><td>-1.158760e-05</td><td>-2.358910e-05</td><td>...</td><td> 1.961522e-05</td><td>-1.726309e-05</td><td> 2.621497e-05</td><td> 3.704704e-06</td><td> 8.570256e-05</td><td> 7.296492e-05</td><td> 1.013532e-05</td><td>-8.670009e-06</td><td> 9.197977e-07</td><td> 3.968180e-05</td></tr>\n",
       "\t<tr><td>-1.339008e-05</td><td>-2.775063e-05</td><td> 2.791353e-05</td><td>-3.743614e-05</td><td>-2.257522e-06</td><td> 5.753080e-05</td><td> 3.757268e-05</td><td> 2.331344e-05</td><td> 6.541151e-05</td><td> 2.812412e-05</td><td>...</td><td> 1.706938e-06</td><td> 9.182193e-07</td><td>-2.205059e-05</td><td>-2.941706e-05</td><td>-5.869569e-05</td><td>-6.080817e-05</td><td> 4.327395e-06</td><td> 1.842276e-05</td><td> 1.858814e-05</td><td>-3.524761e-05</td></tr>\n",
       "\t<tr><td> 6.425502e-05</td><td> 2.017942e-05</td><td>-3.301479e-05</td><td> 6.369357e-06</td><td> 1.006732e-05</td><td>-2.204368e-05</td><td>-2.909698e-05</td><td> 2.844507e-05</td><td>-3.456973e-05</td><td>-4.698244e-05</td><td>...</td><td>-1.519881e-06</td><td>-2.877127e-06</td><td> 5.211884e-05</td><td> 2.005969e-05</td><td>-1.726632e-05</td><td>-6.092656e-07</td><td> 3.196901e-06</td><td>-2.462407e-05</td><td> 4.487128e-05</td><td>-5.589954e-05</td></tr>\n",
       "\t<tr><td>-2.122228e-05</td><td> 1.175102e-05</td><td> 2.991379e-06</td><td> 4.757086e-06</td><td>-4.519027e-05</td><td> 2.280625e-05</td><td>-2.433854e-05</td><td>-2.170610e-05</td><td>-9.809716e-06</td><td> 2.764365e-05</td><td>...</td><td>-4.396336e-06</td><td> 2.141254e-05</td><td> 7.982930e-05</td><td>-2.978207e-05</td><td>-5.183487e-05</td><td> 7.337927e-05</td><td> 6.278458e-05</td><td> 3.026283e-05</td><td> 2.231345e-06</td><td>-1.836926e-05</td></tr>\n",
       "\t<tr><td> 2.609314e-05</td><td> 1.988949e-05</td><td> 4.221838e-05</td><td> 3.809073e-05</td><td>-1.252325e-05</td><td> 2.120057e-05</td><td>-2.697332e-05</td><td> 2.934380e-08</td><td> 5.292860e-06</td><td>-5.225313e-05</td><td>...</td><td> 4.501251e-06</td><td> 6.178453e-05</td><td> 5.895311e-05</td><td> 2.143849e-05</td><td> 6.773301e-05</td><td>-1.334232e-05</td><td> 1.111137e-05</td><td>-6.890676e-06</td><td> 3.577187e-05</td><td> 2.194050e-05</td></tr>\n",
       "\t<tr><td> 1.307606e-05</td><td>-4.312126e-05</td><td> 2.863860e-05</td><td> 1.451935e-05</td><td> 2.395211e-05</td><td>-6.769338e-06</td><td> 6.457677e-06</td><td> 2.230484e-05</td><td> 3.650705e-05</td><td> 1.905825e-05</td><td>...</td><td>-4.483701e-05</td><td>-3.532289e-05</td><td> 2.454465e-05</td><td> 2.927970e-05</td><td>-2.417736e-05</td><td>-1.841379e-05</td><td> 3.653718e-05</td><td> 8.203372e-07</td><td>-2.999160e-05</td><td>-1.209526e-05</td></tr>\n",
       "\t<tr><td>-8.292919e-06</td><td>-4.556580e-05</td><td>-4.502732e-05</td><td>-1.951627e-05</td><td> 2.419565e-07</td><td>-8.388007e-05</td><td> 2.804087e-05</td><td> 1.689930e-06</td><td>-1.105318e-05</td><td>-2.021350e-05</td><td>...</td><td>-2.463961e-05</td><td>-6.120949e-05</td><td> 4.287091e-05</td><td>-1.766238e-05</td><td>-2.015444e-05</td><td> 2.208300e-05</td><td>-2.277025e-05</td><td>-1.267352e-05</td><td>-1.822680e-05</td><td>-2.803180e-05</td></tr>\n",
       "\t<tr><td>-4.534363e-05</td><td>-1.816575e-05</td><td> 9.784133e-06</td><td>-6.726334e-05</td><td>-1.078725e-06</td><td>-1.057516e-05</td><td> 7.302226e-06</td><td> 6.298753e-06</td><td>-2.236387e-05</td><td>-7.138525e-05</td><td>...</td><td>-2.306957e-05</td><td> 3.733190e-05</td><td>-2.644080e-05</td><td>-3.676170e-06</td><td> 3.672863e-05</td><td>-6.600307e-06</td><td> 3.299915e-05</td><td> 1.406001e-05</td><td> 2.143124e-05</td><td>-7.848007e-05</td></tr>\n",
       "\t<tr><td> 2.459099e-05</td><td> 1.747740e-05</td><td>-6.286364e-05</td><td> 1.586472e-05</td><td> 1.872073e-05</td><td>-5.429329e-05</td><td>-5.053523e-05</td><td>-9.949107e-07</td><td> 2.028400e-05</td><td> 3.221771e-05</td><td>...</td><td>-2.234256e-05</td><td> 2.326362e-05</td><td>-2.559407e-05</td><td>-1.751395e-05</td><td>-3.003939e-05</td><td>-4.712347e-05</td><td> 3.091112e-05</td><td> 1.749762e-05</td><td> 3.513315e-05</td><td>-2.224443e-05</td></tr>\n",
       "\t<tr><td> 2.589471e-05</td><td>-2.221196e-05</td><td>-2.208911e-05</td><td>-4.967302e-06</td><td> 1.221766e-05</td><td>-8.249226e-06</td><td>-6.713101e-07</td><td>-2.361890e-06</td><td> 9.399549e-05</td><td>-1.623511e-06</td><td>...</td><td> 2.926506e-05</td><td> 1.117129e-05</td><td>-5.034519e-05</td><td> 1.792402e-05</td><td> 5.941865e-05</td><td>-1.907770e-05</td><td>-1.894358e-05</td><td>-2.361639e-05</td><td> 2.976289e-05</td><td> 9.156029e-06</td></tr>\n",
       "\t<tr><td> 4.477263e-06</td><td> 6.684489e-06</td><td> 6.298302e-05</td><td> 5.501008e-05</td><td> 2.617195e-05</td><td>-1.354658e-05</td><td> 4.354270e-06</td><td>-6.405564e-05</td><td>-6.689222e-05</td><td>-1.938396e-05</td><td>...</td><td>-1.312188e-05</td><td>-1.891697e-05</td><td>-9.998157e-06</td><td> 5.542146e-05</td><td> 4.823973e-06</td><td> 4.458365e-05</td><td> 1.752070e-05</td><td> 1.760862e-05</td><td> 1.545069e-05</td><td> 6.077009e-06</td></tr>\n",
       "\t<tr><td> 9.565985e-06</td><td>-6.461947e-06</td><td> 2.254924e-05</td><td> 3.629552e-05</td><td> 1.605555e-05</td><td> 1.322314e-05</td><td> 1.728348e-05</td><td>-4.998564e-05</td><td> 3.329229e-05</td><td> 3.564111e-05</td><td>...</td><td>-6.750025e-05</td><td>-6.563686e-06</td><td> 4.923848e-06</td><td>-2.205776e-05</td><td>-7.469345e-05</td><td>-5.770858e-05</td><td> 2.971366e-05</td><td>-1.524080e-05</td><td>-3.331207e-05</td><td>-3.823480e-05</td></tr>\n",
       "\t<tr><td> 2.730572e-05</td><td> 3.507073e-05</td><td> 8.896507e-06</td><td>-9.231203e-07</td><td>-3.629079e-05</td><td> 4.474621e-06</td><td> 5.426696e-05</td><td> 3.514924e-06</td><td>-5.119348e-05</td><td> 3.003094e-05</td><td>...</td><td> 1.076506e-05</td><td> 2.308781e-05</td><td>-1.302999e-06</td><td>-3.440386e-05</td><td>-3.254673e-07</td><td> 4.320320e-05</td><td> 2.256335e-06</td><td>-1.506841e-06</td><td>-4.560488e-05</td><td> 3.200970e-05</td></tr>\n",
       "\t<tr><td>-2.393729e-05</td><td> 3.599160e-06</td><td> 1.894224e-06</td><td> 2.918058e-05</td><td>-4.817409e-05</td><td>-4.696093e-06</td><td>-7.494942e-06</td><td>-3.879790e-05</td><td>-3.277151e-05</td><td> 3.726593e-05</td><td>...</td><td> 1.170169e-05</td><td>-7.285443e-05</td><td> 3.506730e-05</td><td>-1.965722e-05</td><td> 2.970709e-06</td><td> 4.194056e-05</td><td> 4.653620e-05</td><td> 2.204130e-05</td><td> 2.534224e-05</td><td> 5.193450e-05</td></tr>\n",
       "\t<tr><td>-2.887071e-05</td><td> 3.943600e-05</td><td>-3.158776e-05</td><td>-1.630005e-05</td><td> 7.083515e-06</td><td> 2.822718e-05</td><td>-3.570820e-05</td><td>-5.734236e-06</td><td> 2.578965e-05</td><td> 1.241138e-05</td><td>...</td><td>-9.852791e-06</td><td> 5.085687e-07</td><td> 2.480083e-05</td><td> 6.555040e-06</td><td> 1.067405e-05</td><td> 2.046373e-06</td><td> 1.564862e-05</td><td>-4.658300e-05</td><td> 9.060441e-06</td><td> 2.704295e-05</td></tr>\n",
       "\t<tr><td>-3.207860e-06</td><td>-1.185612e-05</td><td> 1.354321e-05</td><td>-3.544849e-05</td><td>-5.784810e-06</td><td> 1.245582e-05</td><td>-2.126196e-05</td><td>-2.352163e-05</td><td>-5.523849e-06</td><td>-4.125539e-06</td><td>...</td><td>-1.796483e-05</td><td> 4.044068e-05</td><td>-2.324416e-05</td><td>-9.121691e-06</td><td>-2.829848e-05</td><td>-1.105129e-05</td><td> 9.499641e-06</td><td>-2.172299e-06</td><td> 3.716047e-06</td><td>-4.205086e-05</td></tr>\n",
       "\t<tr><td>-2.979487e-05</td><td>-1.061124e-05</td><td>-1.504540e-05</td><td>-7.438427e-05</td><td>-2.088707e-05</td><td>-6.026721e-06</td><td> 1.063458e-05</td><td> 1.385870e-06</td><td>-4.591538e-05</td><td> 1.217051e-04</td><td>...</td><td> 2.981301e-05</td><td> 5.398221e-05</td><td>-6.978353e-06</td><td> 6.795261e-06</td><td>-2.841480e-05</td><td>-3.165401e-06</td><td>-2.249741e-06</td><td>-1.458335e-05</td><td> 2.020226e-05</td><td> 2.331822e-05</td></tr>\n",
       "\t<tr><td>-8.141274e-05</td><td> 3.247476e-06</td><td>-2.548144e-05</td><td> 4.058643e-06</td><td>-1.833445e-05</td><td>-2.876913e-05</td><td> 1.553260e-05</td><td>-1.105820e-05</td><td>-6.013395e-05</td><td>-1.291686e-05</td><td>...</td><td>-1.807324e-05</td><td>-1.990238e-05</td><td>-2.071478e-06</td><td>-6.238199e-05</td><td>-2.036871e-05</td><td> 6.744297e-06</td><td> 2.881606e-05</td><td> 1.821513e-05</td><td>-2.028786e-05</td><td>-6.413079e-05</td></tr>\n",
       "\t<tr><td>-6.603150e-06</td><td>-1.441366e-06</td><td>-2.966892e-05</td><td>-3.483849e-06</td><td>-6.878929e-05</td><td> 1.145011e-05</td><td> 4.099019e-05</td><td>-4.050482e-05</td><td>-5.316141e-05</td><td> 2.883482e-05</td><td>...</td><td>-6.495482e-06</td><td>-1.638344e-05</td><td>-2.541566e-05</td><td>-5.056495e-05</td><td>-1.076459e-05</td><td>-8.028562e-06</td><td>-4.998682e-05</td><td> 3.992738e-06</td><td> 1.863179e-05</td><td> 2.462897e-05</td></tr>\n",
       "\t<tr><td> 3.187416e-05</td><td>-1.521344e-05</td><td> 1.366552e-05</td><td> 2.031159e-05</td><td> 6.704199e-06</td><td>-4.546562e-07</td><td>-6.409672e-06</td><td>-4.223298e-06</td><td> 2.287096e-05</td><td>-1.570875e-05</td><td>...</td><td>-3.598934e-05</td><td>-1.970492e-05</td><td> 1.585020e-05</td><td>-7.625152e-05</td><td>-2.064715e-05</td><td>-5.405175e-05</td><td>-1.301831e-05</td><td>-4.087973e-06</td><td>-6.266439e-05</td><td> 1.142452e-05</td></tr>\n",
       "\t<tr><td>-1.380115e-06</td><td>-1.659036e-05</td><td> 1.878604e-05</td><td> 1.969816e-05</td><td>-3.556463e-05</td><td> 3.489214e-05</td><td> 1.041654e-05</td><td> 1.216491e-05</td><td> 2.462085e-06</td><td> 2.353376e-05</td><td>...</td><td> 8.289108e-06</td><td>-1.507168e-05</td><td>-2.815128e-05</td><td>-2.671657e-06</td><td>-5.162554e-05</td><td> 9.920215e-05</td><td>-4.061368e-07</td><td>-3.758099e-05</td><td>-4.184492e-05</td><td> 5.650306e-05</td></tr>\n",
       "\t<tr><td>-1.625356e-05</td><td>-6.067111e-06</td><td> 1.540952e-05</td><td> 1.020967e-05</td><td> 8.321290e-06</td><td> 1.420424e-05</td><td> 3.161879e-05</td><td>-6.908251e-07</td><td> 2.955291e-05</td><td>-5.038639e-05</td><td>...</td><td> 2.962157e-05</td><td> 2.784095e-05</td><td> 6.177459e-05</td><td>-1.613910e-05</td><td> 1.009963e-05</td><td> 4.951227e-05</td><td> 1.055607e-05</td><td>-4.709023e-05</td><td>-4.954805e-05</td><td> 2.670064e-05</td></tr>\n",
       "\t<tr><td> 5.869845e-05</td><td> 6.860630e-06</td><td> 1.427155e-05</td><td> 1.091861e-05</td><td>-5.137965e-05</td><td> 1.741679e-05</td><td>-4.841533e-06</td><td> 4.941533e-05</td><td> 2.651062e-05</td><td> 2.884002e-05</td><td>...</td><td>-5.440799e-06</td><td> 9.997566e-06</td><td> 2.699477e-05</td><td> 4.187839e-05</td><td> 2.520280e-05</td><td> 1.902181e-05</td><td>-1.034433e-05</td><td> 3.327600e-05</td><td> 3.266215e-06</td><td>-4.120212e-05</td></tr>\n",
       "\t<tr><td>-1.760670e-05</td><td> 5.151222e-05</td><td> 2.489365e-05</td><td> 3.073955e-05</td><td>-3.087732e-05</td><td>-6.468348e-06</td><td> 3.570397e-06</td><td>-2.176406e-05</td><td> 1.511314e-06</td><td> 2.230829e-05</td><td>...</td><td> 5.589068e-05</td><td> 2.072674e-05</td><td>-5.994099e-05</td><td>-1.059150e-05</td><td> 6.673446e-06</td><td> 7.944199e-06</td><td> 5.874051e-05</td><td>-4.849144e-06</td><td> 3.956557e-05</td><td>-4.074157e-05</td></tr>\n",
       "\t<tr><td> 3.927867e-05</td><td> 4.322462e-05</td><td>-1.036259e-05</td><td> 6.651092e-05</td><td>-1.597420e-05</td><td>-3.061148e-05</td><td>-2.740104e-06</td><td> 2.166843e-05</td><td>-1.289579e-05</td><td>-3.977731e-05</td><td>...</td><td> 5.421483e-07</td><td> 2.324140e-05</td><td>-1.139912e-05</td><td>-4.101488e-05</td><td> 2.616875e-05</td><td>-3.561005e-05</td><td> 3.875408e-05</td><td>-2.652273e-05</td><td>-7.084959e-07</td><td>-4.137500e-05</td></tr>\n",
       "\t<tr><td> 1.050527e-06</td><td> 4.252252e-05</td><td>-8.795362e-06</td><td>-3.938704e-06</td><td>-5.414050e-05</td><td>-4.458598e-05</td><td>-4.264365e-05</td><td>-2.600932e-05</td><td> 2.754134e-05</td><td> 1.556113e-05</td><td>...</td><td>-4.173476e-05</td><td> 4.066535e-06</td><td> 5.912114e-05</td><td>-1.082667e-05</td><td>-6.261592e-05</td><td> 1.525407e-05</td><td> 1.011393e-05</td><td>-7.281618e-05</td><td> 1.313213e-05</td><td> 2.877967e-05</td></tr>\n",
       "</tbody>\n",
       "</table>\n"
      ],
      "text/latex": [
       "A matrix: 52 × 1000 of type dbl\n",
       "\\begin{tabular}{lllllllllllllllllllll}\n",
       "\t -3.192057e-05 & -5.116766e-05 &  6.847868e-05 &  3.196030e-05 &  7.392832e-05 &  5.135848e-05 & -3.200134e-05 & -8.411190e-06 &  1.997505e-05 & -5.544337e-05 & ... & -3.975222e-07 & -4.108188e-05 & -2.582389e-05 & -2.662744e-06 &  4.092493e-05 &  2.145839e-05 & -5.052722e-05 & -4.681206e-06 &  6.138450e-05 &  2.927406e-05\\\\\n",
       "\t  1.148431e-05 & -7.568494e-05 &  5.933587e-06 &  2.836976e-05 &  4.450079e-05 & -3.845784e-05 &  2.093517e-05 &  1.780804e-05 & -5.513594e-05 &  7.157082e-06 & ... & -6.470660e-05 & -2.332107e-05 & -2.220066e-05 & -4.187143e-05 & -1.075483e-05 & -5.099367e-07 &  4.608625e-05 &  8.329716e-06 & -3.097462e-05 & -1.520706e-06\\\\\n",
       "\t -8.081826e-05 & -3.241419e-05 &  1.066458e-05 &  1.107053e-05 &  3.354442e-05 &  6.755511e-08 & -4.368571e-06 & -1.373853e-05 & -3.452744e-05 &  2.959357e-05 & ... &  1.917129e-05 & -1.148602e-05 &  5.991506e-06 & -3.207890e-05 & -8.404142e-06 & -3.221012e-05 & -4.188728e-06 &  3.540838e-05 & -9.176172e-06 & -6.369080e-06\\\\\n",
       "\t -4.388551e-05 & -1.088681e-05 &  3.234271e-05 &  5.803832e-06 & -1.610868e-05 &  2.907584e-06 & -8.855780e-07 &  4.031826e-05 &  1.314439e-05 &  1.255349e-05 & ... &  1.178372e-05 & -6.048363e-05 & -3.280824e-05 &  4.413611e-05 &  1.448248e-06 &  1.798862e-05 & -2.816865e-06 &  2.456008e-05 &  9.939793e-06 &  5.666131e-05\\\\\n",
       "\t -1.963582e-05 & -2.753066e-05 &  5.049506e-05 & -9.396723e-05 & -4.800230e-05 & -2.191763e-05 & -3.085236e-05 &  3.521888e-06 &  5.212070e-05 & -1.560155e-05 & ... &  4.475314e-06 & -8.812380e-06 & -7.917414e-06 &  6.709911e-05 &  1.341398e-05 & -5.074992e-05 & -1.668710e-05 &  8.440125e-06 &  3.441699e-05 & -5.934876e-05\\\\\n",
       "\t -8.777699e-05 &  7.725079e-05 &  3.920962e-05 & -3.074351e-05 & -4.836167e-06 & -2.210192e-05 & -2.203180e-05 & -2.628638e-05 &  1.297452e-05 & -5.502115e-05 & ... &  4.481707e-05 &  1.156388e-05 & -3.684439e-05 & -3.021369e-05 &  4.664212e-05 & -4.489788e-05 &  7.996226e-06 & -2.328768e-05 &  5.902382e-05 &  1.859022e-06\\\\\n",
       "\t -8.006689e-06 & -4.919645e-06 &  1.166879e-05 &  2.027304e-05 &  4.422858e-05 & -2.686224e-05 &  1.646696e-05 &  4.571538e-05 & -7.934270e-06 &  3.053202e-05 & ... & -2.961968e-06 & -3.409628e-05 & -6.461021e-05 &  2.226797e-06 &  5.109144e-05 &  1.981600e-05 &  2.018449e-06 &  1.089630e-05 & -2.520895e-05 &  1.306405e-05\\\\\n",
       "\t -1.903073e-05 & -4.868787e-05 & -2.379734e-05 &  5.883623e-05 &  2.925066e-05 &  1.692850e-05 & -3.984111e-05 & -1.547693e-05 &  8.698198e-06 & -5.042853e-05 & ... & -4.589138e-05 & -1.624528e-05 &  1.897885e-05 & -1.284604e-05 &  4.595098e-06 & -3.451735e-05 &  2.922118e-05 & -2.321780e-06 & -7.379619e-05 & -6.150603e-05\\\\\n",
       "\t  2.415780e-05 &  5.268514e-05 &  7.319957e-07 &  1.286078e-05 &  7.730104e-05 & -4.754145e-05 &  1.771979e-05 &  4.406768e-06 &  1.171403e-05 & -9.135884e-06 & ... &  3.320961e-05 &  4.250157e-05 &  1.904813e-05 &  4.979224e-06 & -7.210870e-05 &  2.505600e-05 & -2.473779e-05 &  3.410970e-06 & -1.312680e-05 & -3.611749e-05\\\\\n",
       "\t  3.703174e-05 &  8.649874e-06 & -3.126520e-05 & -3.535502e-05 & -4.511418e-05 & -1.666586e-05 &  5.799272e-05 & -1.885171e-05 & -4.494154e-05 &  2.621894e-05 & ... &  3.937372e-05 &  3.077375e-05 &  4.189497e-05 & -2.963048e-05 & -1.842175e-06 &  2.572838e-05 & -1.154328e-05 &  3.225926e-05 & -3.355453e-05 & -9.038509e-06\\\\\n",
       "\t  1.147635e-05 &  1.025978e-05 &  1.206534e-05 & -2.952197e-05 &  7.246545e-06 &  6.525621e-05 &  4.975525e-06 &  2.168471e-05 & -1.107718e-05 & -5.082431e-06 & ... &  6.762707e-06 &  2.602318e-06 &  5.445174e-05 & -2.651120e-05 &  2.410449e-05 & -8.933646e-06 &  6.196129e-06 & -6.377696e-05 &  4.320147e-05 &  3.323138e-05\\\\\n",
       "\t -6.389959e-05 & -1.154731e-05 &  2.226770e-05 &  2.215627e-05 & -2.957105e-06 & -2.941032e-05 & -2.938692e-06 &  1.017819e-05 & -3.025054e-05 & -3.738717e-05 & ... & -1.019625e-04 &  3.193301e-05 &  5.069841e-05 & -4.117546e-05 & -1.703978e-05 & -8.088081e-07 & -3.598810e-06 &  3.906483e-05 &  1.283938e-05 &  2.254614e-05\\\\\n",
       "\t  1.427459e-05 &  6.682468e-06 &  1.998492e-05 &  2.112933e-05 &  1.316358e-07 & -7.825551e-06 &  1.483745e-05 &  2.993627e-05 & -5.070440e-05 & -2.145363e-05 & ... & -4.856012e-06 & -7.266634e-07 & -2.095114e-05 & -1.294516e-05 & -4.782723e-05 & -2.042875e-05 &  1.172638e-05 &  3.641072e-06 & -5.267336e-05 & -7.829554e-06\\\\\n",
       "\t  1.019694e-05 & -3.547528e-06 & -1.702437e-05 &  5.116734e-05 &  3.438444e-05 & -4.134828e-05 &  3.586128e-05 &  9.872248e-06 &  1.711328e-05 &  2.028361e-05 & ... &  3.993489e-05 &  5.308445e-05 &  3.207700e-05 & -9.754472e-06 & -6.586834e-05 & -4.397204e-05 & -4.760353e-05 & -1.147705e-05 &  6.261246e-05 &  9.592296e-06\\\\\n",
       "\t  8.641935e-05 & -5.363385e-05 &  5.342562e-05 &  2.792948e-05 &  2.417739e-05 &  1.040520e-05 &  2.105685e-05 &  2.904841e-05 & -3.303648e-05 &  2.269336e-05 & ... &  2.688113e-05 &  6.055211e-06 & -2.520770e-06 & -1.582390e-06 & -3.675152e-05 & -1.991101e-05 & -5.548020e-05 &  1.702959e-05 & -5.987153e-07 & -4.699810e-05\\\\\n",
       "\t  3.047195e-05 & -4.044170e-05 & -1.124498e-05 &  3.942214e-05 & -1.175646e-05 &  2.432364e-05 &  4.641458e-05 & -8.225758e-06 &  1.933937e-05 &  8.920213e-06 & ... &  1.677417e-05 & -6.209632e-07 & -3.991329e-05 & -3.412043e-05 & -1.965353e-05 & -5.847300e-05 & -6.165530e-05 & -2.960716e-05 & -6.275644e-07 &  1.157940e-05\\\\\n",
       "\t  2.412529e-05 &  2.219564e-05 &  2.762914e-05 &  4.215652e-05 & -2.314198e-05 &  1.505945e-05 &  4.618333e-05 &  1.663078e-06 & -4.986856e-05 &  4.612132e-05 & ... &  1.725408e-05 & -1.592084e-05 & -6.779622e-07 &  2.037825e-05 & -1.619323e-05 & -6.090947e-06 & -2.556429e-05 & -7.084343e-05 &  3.877676e-05 & -1.916871e-05\\\\\n",
       "\t  4.318350e-05 & -3.196519e-05 &  6.727556e-06 & -2.006627e-05 &  1.714464e-05 & -9.210726e-06 &  3.041238e-06 &  2.107162e-05 &  1.973151e-05 & -3.154018e-05 & ... & -4.753260e-05 &  8.394144e-06 &  1.273502e-05 & -5.400950e-05 & -4.557150e-05 &  5.769448e-05 & -3.884252e-06 & -3.998954e-05 &  1.662288e-05 &  2.838207e-05\\\\\n",
       "\t  5.553645e-05 & -3.738948e-05 & -1.108712e-05 &  1.186220e-05 &  1.079956e-06 &  5.922090e-05 &  1.139041e-05 & -3.627400e-06 & -1.458142e-05 & -1.247101e-05 & ... &  1.735671e-05 & -3.523662e-05 & -3.676876e-06 &  3.957509e-06 &  3.986851e-05 & -1.120428e-04 &  4.047862e-05 & -3.792324e-05 &  1.053107e-05 & -1.739277e-05\\\\\n",
       "\t -3.443770e-06 & -1.797154e-05 &  2.105453e-05 &  2.185999e-05 & -1.109296e-05 &  8.581967e-06 &  1.276237e-05 &  3.016814e-05 &  2.408839e-05 & -3.544568e-05 & ... &  1.459974e-06 &  2.857900e-06 & -1.031119e-05 &  3.396733e-05 &  1.883976e-05 &  3.663057e-05 &  1.234126e-05 &  3.339745e-05 &  3.210253e-05 &  3.829815e-05\\\\\n",
       "\t -4.178037e-05 & -2.796779e-05 & -2.760121e-05 & -1.510746e-05 & -5.871888e-05 &  2.131415e-05 & -2.260397e-05 & -3.271726e-05 & -2.904556e-05 & -5.690044e-06 & ... &  7.900105e-05 &  3.782290e-06 & -2.322035e-05 &  2.586915e-05 &  4.138837e-05 &  8.815674e-06 & -1.845414e-05 &  4.949582e-05 & -3.847969e-05 &  1.345917e-05\\\\\n",
       "\t  1.070593e-05 & -7.591357e-06 &  2.813848e-05 &  2.506823e-05 & -2.590607e-05 & -2.017907e-05 & -1.164154e-05 &  1.645912e-05 & -4.368728e-05 &  5.065935e-06 & ... &  1.581403e-05 &  1.032174e-06 &  3.489739e-05 & -1.033551e-05 & -3.923746e-05 &  1.318841e-06 & -4.546497e-05 & -1.553266e-05 & -7.025526e-05 &  8.275924e-05\\\\\n",
       "\t  5.069711e-06 & -2.348010e-05 &  4.144198e-06 & -6.685847e-08 &  1.830766e-05 & -6.396179e-05 &  3.938306e-05 &  2.156861e-05 & -5.337572e-05 & -4.560356e-05 & ... &  6.891309e-05 & -2.998382e-05 &  1.658476e-06 & -2.662398e-05 &  1.655760e-05 & -2.001680e-05 &  2.882744e-05 &  3.861921e-05 &  2.369284e-05 &  3.130860e-05\\\\\n",
       "\t  1.603414e-05 &  2.757445e-05 & -7.039510e-06 & -2.870994e-07 &  2.769108e-06 & -2.455923e-05 &  4.464378e-06 &  1.733011e-05 & -6.577148e-05 &  1.440372e-06 & ... & -1.862173e-05 & -2.332394e-05 & -2.864526e-05 & -2.627430e-05 & -6.520281e-05 &  2.639469e-05 &  2.031238e-05 &  2.095827e-05 & -4.555747e-05 & -1.809515e-07\\\\\n",
       "\t -2.119921e-05 &  6.771490e-05 &  2.758613e-05 & -6.610747e-05 &  2.805902e-05 & -4.556167e-05 & -2.942794e-05 &  4.078079e-05 &  3.945203e-05 & -1.539792e-05 & ... & -3.361987e-05 &  1.754741e-05 &  9.548286e-06 &  2.245125e-05 &  6.236541e-06 &  4.654823e-05 & -1.796441e-05 &  5.435949e-05 & -2.538068e-05 &  3.805766e-06\\\\\n",
       "\t  1.726934e-05 & -3.939060e-07 &  3.642054e-05 &  8.885564e-06 & -2.263017e-05 & -6.130535e-06 & -5.005761e-05 & -3.496845e-06 & -2.522111e-06 &  1.701548e-06 & ... & -6.110025e-05 &  1.488973e-05 &  2.800938e-05 & -1.746504e-05 &  1.380811e-05 & -2.832022e-05 & -8.513536e-06 &  2.017150e-05 &  4.157811e-05 &  5.389562e-05\\\\\n",
       "\t  2.982975e-05 &  5.433303e-05 &  4.063332e-05 &  3.155345e-05 &  4.552296e-06 &  2.251678e-05 &  2.889910e-05 &  2.354829e-05 & -1.158760e-05 & -2.358910e-05 & ... &  1.961522e-05 & -1.726309e-05 &  2.621497e-05 &  3.704704e-06 &  8.570256e-05 &  7.296492e-05 &  1.013532e-05 & -8.670009e-06 &  9.197977e-07 &  3.968180e-05\\\\\n",
       "\t -1.339008e-05 & -2.775063e-05 &  2.791353e-05 & -3.743614e-05 & -2.257522e-06 &  5.753080e-05 &  3.757268e-05 &  2.331344e-05 &  6.541151e-05 &  2.812412e-05 & ... &  1.706938e-06 &  9.182193e-07 & -2.205059e-05 & -2.941706e-05 & -5.869569e-05 & -6.080817e-05 &  4.327395e-06 &  1.842276e-05 &  1.858814e-05 & -3.524761e-05\\\\\n",
       "\t  6.425502e-05 &  2.017942e-05 & -3.301479e-05 &  6.369357e-06 &  1.006732e-05 & -2.204368e-05 & -2.909698e-05 &  2.844507e-05 & -3.456973e-05 & -4.698244e-05 & ... & -1.519881e-06 & -2.877127e-06 &  5.211884e-05 &  2.005969e-05 & -1.726632e-05 & -6.092656e-07 &  3.196901e-06 & -2.462407e-05 &  4.487128e-05 & -5.589954e-05\\\\\n",
       "\t -2.122228e-05 &  1.175102e-05 &  2.991379e-06 &  4.757086e-06 & -4.519027e-05 &  2.280625e-05 & -2.433854e-05 & -2.170610e-05 & -9.809716e-06 &  2.764365e-05 & ... & -4.396336e-06 &  2.141254e-05 &  7.982930e-05 & -2.978207e-05 & -5.183487e-05 &  7.337927e-05 &  6.278458e-05 &  3.026283e-05 &  2.231345e-06 & -1.836926e-05\\\\\n",
       "\t  2.609314e-05 &  1.988949e-05 &  4.221838e-05 &  3.809073e-05 & -1.252325e-05 &  2.120057e-05 & -2.697332e-05 &  2.934380e-08 &  5.292860e-06 & -5.225313e-05 & ... &  4.501251e-06 &  6.178453e-05 &  5.895311e-05 &  2.143849e-05 &  6.773301e-05 & -1.334232e-05 &  1.111137e-05 & -6.890676e-06 &  3.577187e-05 &  2.194050e-05\\\\\n",
       "\t  1.307606e-05 & -4.312126e-05 &  2.863860e-05 &  1.451935e-05 &  2.395211e-05 & -6.769338e-06 &  6.457677e-06 &  2.230484e-05 &  3.650705e-05 &  1.905825e-05 & ... & -4.483701e-05 & -3.532289e-05 &  2.454465e-05 &  2.927970e-05 & -2.417736e-05 & -1.841379e-05 &  3.653718e-05 &  8.203372e-07 & -2.999160e-05 & -1.209526e-05\\\\\n",
       "\t -8.292919e-06 & -4.556580e-05 & -4.502732e-05 & -1.951627e-05 &  2.419565e-07 & -8.388007e-05 &  2.804087e-05 &  1.689930e-06 & -1.105318e-05 & -2.021350e-05 & ... & -2.463961e-05 & -6.120949e-05 &  4.287091e-05 & -1.766238e-05 & -2.015444e-05 &  2.208300e-05 & -2.277025e-05 & -1.267352e-05 & -1.822680e-05 & -2.803180e-05\\\\\n",
       "\t -4.534363e-05 & -1.816575e-05 &  9.784133e-06 & -6.726334e-05 & -1.078725e-06 & -1.057516e-05 &  7.302226e-06 &  6.298753e-06 & -2.236387e-05 & -7.138525e-05 & ... & -2.306957e-05 &  3.733190e-05 & -2.644080e-05 & -3.676170e-06 &  3.672863e-05 & -6.600307e-06 &  3.299915e-05 &  1.406001e-05 &  2.143124e-05 & -7.848007e-05\\\\\n",
       "\t  2.459099e-05 &  1.747740e-05 & -6.286364e-05 &  1.586472e-05 &  1.872073e-05 & -5.429329e-05 & -5.053523e-05 & -9.949107e-07 &  2.028400e-05 &  3.221771e-05 & ... & -2.234256e-05 &  2.326362e-05 & -2.559407e-05 & -1.751395e-05 & -3.003939e-05 & -4.712347e-05 &  3.091112e-05 &  1.749762e-05 &  3.513315e-05 & -2.224443e-05\\\\\n",
       "\t  2.589471e-05 & -2.221196e-05 & -2.208911e-05 & -4.967302e-06 &  1.221766e-05 & -8.249226e-06 & -6.713101e-07 & -2.361890e-06 &  9.399549e-05 & -1.623511e-06 & ... &  2.926506e-05 &  1.117129e-05 & -5.034519e-05 &  1.792402e-05 &  5.941865e-05 & -1.907770e-05 & -1.894358e-05 & -2.361639e-05 &  2.976289e-05 &  9.156029e-06\\\\\n",
       "\t  4.477263e-06 &  6.684489e-06 &  6.298302e-05 &  5.501008e-05 &  2.617195e-05 & -1.354658e-05 &  4.354270e-06 & -6.405564e-05 & -6.689222e-05 & -1.938396e-05 & ... & -1.312188e-05 & -1.891697e-05 & -9.998157e-06 &  5.542146e-05 &  4.823973e-06 &  4.458365e-05 &  1.752070e-05 &  1.760862e-05 &  1.545069e-05 &  6.077009e-06\\\\\n",
       "\t  9.565985e-06 & -6.461947e-06 &  2.254924e-05 &  3.629552e-05 &  1.605555e-05 &  1.322314e-05 &  1.728348e-05 & -4.998564e-05 &  3.329229e-05 &  3.564111e-05 & ... & -6.750025e-05 & -6.563686e-06 &  4.923848e-06 & -2.205776e-05 & -7.469345e-05 & -5.770858e-05 &  2.971366e-05 & -1.524080e-05 & -3.331207e-05 & -3.823480e-05\\\\\n",
       "\t  2.730572e-05 &  3.507073e-05 &  8.896507e-06 & -9.231203e-07 & -3.629079e-05 &  4.474621e-06 &  5.426696e-05 &  3.514924e-06 & -5.119348e-05 &  3.003094e-05 & ... &  1.076506e-05 &  2.308781e-05 & -1.302999e-06 & -3.440386e-05 & -3.254673e-07 &  4.320320e-05 &  2.256335e-06 & -1.506841e-06 & -4.560488e-05 &  3.200970e-05\\\\\n",
       "\t -2.393729e-05 &  3.599160e-06 &  1.894224e-06 &  2.918058e-05 & -4.817409e-05 & -4.696093e-06 & -7.494942e-06 & -3.879790e-05 & -3.277151e-05 &  3.726593e-05 & ... &  1.170169e-05 & -7.285443e-05 &  3.506730e-05 & -1.965722e-05 &  2.970709e-06 &  4.194056e-05 &  4.653620e-05 &  2.204130e-05 &  2.534224e-05 &  5.193450e-05\\\\\n",
       "\t -2.887071e-05 &  3.943600e-05 & -3.158776e-05 & -1.630005e-05 &  7.083515e-06 &  2.822718e-05 & -3.570820e-05 & -5.734236e-06 &  2.578965e-05 &  1.241138e-05 & ... & -9.852791e-06 &  5.085687e-07 &  2.480083e-05 &  6.555040e-06 &  1.067405e-05 &  2.046373e-06 &  1.564862e-05 & -4.658300e-05 &  9.060441e-06 &  2.704295e-05\\\\\n",
       "\t -3.207860e-06 & -1.185612e-05 &  1.354321e-05 & -3.544849e-05 & -5.784810e-06 &  1.245582e-05 & -2.126196e-05 & -2.352163e-05 & -5.523849e-06 & -4.125539e-06 & ... & -1.796483e-05 &  4.044068e-05 & -2.324416e-05 & -9.121691e-06 & -2.829848e-05 & -1.105129e-05 &  9.499641e-06 & -2.172299e-06 &  3.716047e-06 & -4.205086e-05\\\\\n",
       "\t -2.979487e-05 & -1.061124e-05 & -1.504540e-05 & -7.438427e-05 & -2.088707e-05 & -6.026721e-06 &  1.063458e-05 &  1.385870e-06 & -4.591538e-05 &  1.217051e-04 & ... &  2.981301e-05 &  5.398221e-05 & -6.978353e-06 &  6.795261e-06 & -2.841480e-05 & -3.165401e-06 & -2.249741e-06 & -1.458335e-05 &  2.020226e-05 &  2.331822e-05\\\\\n",
       "\t -8.141274e-05 &  3.247476e-06 & -2.548144e-05 &  4.058643e-06 & -1.833445e-05 & -2.876913e-05 &  1.553260e-05 & -1.105820e-05 & -6.013395e-05 & -1.291686e-05 & ... & -1.807324e-05 & -1.990238e-05 & -2.071478e-06 & -6.238199e-05 & -2.036871e-05 &  6.744297e-06 &  2.881606e-05 &  1.821513e-05 & -2.028786e-05 & -6.413079e-05\\\\\n",
       "\t -6.603150e-06 & -1.441366e-06 & -2.966892e-05 & -3.483849e-06 & -6.878929e-05 &  1.145011e-05 &  4.099019e-05 & -4.050482e-05 & -5.316141e-05 &  2.883482e-05 & ... & -6.495482e-06 & -1.638344e-05 & -2.541566e-05 & -5.056495e-05 & -1.076459e-05 & -8.028562e-06 & -4.998682e-05 &  3.992738e-06 &  1.863179e-05 &  2.462897e-05\\\\\n",
       "\t  3.187416e-05 & -1.521344e-05 &  1.366552e-05 &  2.031159e-05 &  6.704199e-06 & -4.546562e-07 & -6.409672e-06 & -4.223298e-06 &  2.287096e-05 & -1.570875e-05 & ... & -3.598934e-05 & -1.970492e-05 &  1.585020e-05 & -7.625152e-05 & -2.064715e-05 & -5.405175e-05 & -1.301831e-05 & -4.087973e-06 & -6.266439e-05 &  1.142452e-05\\\\\n",
       "\t -1.380115e-06 & -1.659036e-05 &  1.878604e-05 &  1.969816e-05 & -3.556463e-05 &  3.489214e-05 &  1.041654e-05 &  1.216491e-05 &  2.462085e-06 &  2.353376e-05 & ... &  8.289108e-06 & -1.507168e-05 & -2.815128e-05 & -2.671657e-06 & -5.162554e-05 &  9.920215e-05 & -4.061368e-07 & -3.758099e-05 & -4.184492e-05 &  5.650306e-05\\\\\n",
       "\t -1.625356e-05 & -6.067111e-06 &  1.540952e-05 &  1.020967e-05 &  8.321290e-06 &  1.420424e-05 &  3.161879e-05 & -6.908251e-07 &  2.955291e-05 & -5.038639e-05 & ... &  2.962157e-05 &  2.784095e-05 &  6.177459e-05 & -1.613910e-05 &  1.009963e-05 &  4.951227e-05 &  1.055607e-05 & -4.709023e-05 & -4.954805e-05 &  2.670064e-05\\\\\n",
       "\t  5.869845e-05 &  6.860630e-06 &  1.427155e-05 &  1.091861e-05 & -5.137965e-05 &  1.741679e-05 & -4.841533e-06 &  4.941533e-05 &  2.651062e-05 &  2.884002e-05 & ... & -5.440799e-06 &  9.997566e-06 &  2.699477e-05 &  4.187839e-05 &  2.520280e-05 &  1.902181e-05 & -1.034433e-05 &  3.327600e-05 &  3.266215e-06 & -4.120212e-05\\\\\n",
       "\t -1.760670e-05 &  5.151222e-05 &  2.489365e-05 &  3.073955e-05 & -3.087732e-05 & -6.468348e-06 &  3.570397e-06 & -2.176406e-05 &  1.511314e-06 &  2.230829e-05 & ... &  5.589068e-05 &  2.072674e-05 & -5.994099e-05 & -1.059150e-05 &  6.673446e-06 &  7.944199e-06 &  5.874051e-05 & -4.849144e-06 &  3.956557e-05 & -4.074157e-05\\\\\n",
       "\t  3.927867e-05 &  4.322462e-05 & -1.036259e-05 &  6.651092e-05 & -1.597420e-05 & -3.061148e-05 & -2.740104e-06 &  2.166843e-05 & -1.289579e-05 & -3.977731e-05 & ... &  5.421483e-07 &  2.324140e-05 & -1.139912e-05 & -4.101488e-05 &  2.616875e-05 & -3.561005e-05 &  3.875408e-05 & -2.652273e-05 & -7.084959e-07 & -4.137500e-05\\\\\n",
       "\t  1.050527e-06 &  4.252252e-05 & -8.795362e-06 & -3.938704e-06 & -5.414050e-05 & -4.458598e-05 & -4.264365e-05 & -2.600932e-05 &  2.754134e-05 &  1.556113e-05 & ... & -4.173476e-05 &  4.066535e-06 &  5.912114e-05 & -1.082667e-05 & -6.261592e-05 &  1.525407e-05 &  1.011393e-05 & -7.281618e-05 &  1.313213e-05 &  2.877967e-05\\\\\n",
       "\\end{tabular}\n"
      ],
      "text/markdown": [
       "\n",
       "A matrix: 52 × 1000 of type dbl\n",
       "\n",
       "| -3.192057e-05 | -5.116766e-05 |  6.847868e-05 |  3.196030e-05 |  7.392832e-05 |  5.135848e-05 | -3.200134e-05 | -8.411190e-06 |  1.997505e-05 | -5.544337e-05 | ... | -3.975222e-07 | -4.108188e-05 | -2.582389e-05 | -2.662744e-06 |  4.092493e-05 |  2.145839e-05 | -5.052722e-05 | -4.681206e-06 |  6.138450e-05 |  2.927406e-05 |\n",
       "|  1.148431e-05 | -7.568494e-05 |  5.933587e-06 |  2.836976e-05 |  4.450079e-05 | -3.845784e-05 |  2.093517e-05 |  1.780804e-05 | -5.513594e-05 |  7.157082e-06 | ... | -6.470660e-05 | -2.332107e-05 | -2.220066e-05 | -4.187143e-05 | -1.075483e-05 | -5.099367e-07 |  4.608625e-05 |  8.329716e-06 | -3.097462e-05 | -1.520706e-06 |\n",
       "| -8.081826e-05 | -3.241419e-05 |  1.066458e-05 |  1.107053e-05 |  3.354442e-05 |  6.755511e-08 | -4.368571e-06 | -1.373853e-05 | -3.452744e-05 |  2.959357e-05 | ... |  1.917129e-05 | -1.148602e-05 |  5.991506e-06 | -3.207890e-05 | -8.404142e-06 | -3.221012e-05 | -4.188728e-06 |  3.540838e-05 | -9.176172e-06 | -6.369080e-06 |\n",
       "| -4.388551e-05 | -1.088681e-05 |  3.234271e-05 |  5.803832e-06 | -1.610868e-05 |  2.907584e-06 | -8.855780e-07 |  4.031826e-05 |  1.314439e-05 |  1.255349e-05 | ... |  1.178372e-05 | -6.048363e-05 | -3.280824e-05 |  4.413611e-05 |  1.448248e-06 |  1.798862e-05 | -2.816865e-06 |  2.456008e-05 |  9.939793e-06 |  5.666131e-05 |\n",
       "| -1.963582e-05 | -2.753066e-05 |  5.049506e-05 | -9.396723e-05 | -4.800230e-05 | -2.191763e-05 | -3.085236e-05 |  3.521888e-06 |  5.212070e-05 | -1.560155e-05 | ... |  4.475314e-06 | -8.812380e-06 | -7.917414e-06 |  6.709911e-05 |  1.341398e-05 | -5.074992e-05 | -1.668710e-05 |  8.440125e-06 |  3.441699e-05 | -5.934876e-05 |\n",
       "| -8.777699e-05 |  7.725079e-05 |  3.920962e-05 | -3.074351e-05 | -4.836167e-06 | -2.210192e-05 | -2.203180e-05 | -2.628638e-05 |  1.297452e-05 | -5.502115e-05 | ... |  4.481707e-05 |  1.156388e-05 | -3.684439e-05 | -3.021369e-05 |  4.664212e-05 | -4.489788e-05 |  7.996226e-06 | -2.328768e-05 |  5.902382e-05 |  1.859022e-06 |\n",
       "| -8.006689e-06 | -4.919645e-06 |  1.166879e-05 |  2.027304e-05 |  4.422858e-05 | -2.686224e-05 |  1.646696e-05 |  4.571538e-05 | -7.934270e-06 |  3.053202e-05 | ... | -2.961968e-06 | -3.409628e-05 | -6.461021e-05 |  2.226797e-06 |  5.109144e-05 |  1.981600e-05 |  2.018449e-06 |  1.089630e-05 | -2.520895e-05 |  1.306405e-05 |\n",
       "| -1.903073e-05 | -4.868787e-05 | -2.379734e-05 |  5.883623e-05 |  2.925066e-05 |  1.692850e-05 | -3.984111e-05 | -1.547693e-05 |  8.698198e-06 | -5.042853e-05 | ... | -4.589138e-05 | -1.624528e-05 |  1.897885e-05 | -1.284604e-05 |  4.595098e-06 | -3.451735e-05 |  2.922118e-05 | -2.321780e-06 | -7.379619e-05 | -6.150603e-05 |\n",
       "|  2.415780e-05 |  5.268514e-05 |  7.319957e-07 |  1.286078e-05 |  7.730104e-05 | -4.754145e-05 |  1.771979e-05 |  4.406768e-06 |  1.171403e-05 | -9.135884e-06 | ... |  3.320961e-05 |  4.250157e-05 |  1.904813e-05 |  4.979224e-06 | -7.210870e-05 |  2.505600e-05 | -2.473779e-05 |  3.410970e-06 | -1.312680e-05 | -3.611749e-05 |\n",
       "|  3.703174e-05 |  8.649874e-06 | -3.126520e-05 | -3.535502e-05 | -4.511418e-05 | -1.666586e-05 |  5.799272e-05 | -1.885171e-05 | -4.494154e-05 |  2.621894e-05 | ... |  3.937372e-05 |  3.077375e-05 |  4.189497e-05 | -2.963048e-05 | -1.842175e-06 |  2.572838e-05 | -1.154328e-05 |  3.225926e-05 | -3.355453e-05 | -9.038509e-06 |\n",
       "|  1.147635e-05 |  1.025978e-05 |  1.206534e-05 | -2.952197e-05 |  7.246545e-06 |  6.525621e-05 |  4.975525e-06 |  2.168471e-05 | -1.107718e-05 | -5.082431e-06 | ... |  6.762707e-06 |  2.602318e-06 |  5.445174e-05 | -2.651120e-05 |  2.410449e-05 | -8.933646e-06 |  6.196129e-06 | -6.377696e-05 |  4.320147e-05 |  3.323138e-05 |\n",
       "| -6.389959e-05 | -1.154731e-05 |  2.226770e-05 |  2.215627e-05 | -2.957105e-06 | -2.941032e-05 | -2.938692e-06 |  1.017819e-05 | -3.025054e-05 | -3.738717e-05 | ... | -1.019625e-04 |  3.193301e-05 |  5.069841e-05 | -4.117546e-05 | -1.703978e-05 | -8.088081e-07 | -3.598810e-06 |  3.906483e-05 |  1.283938e-05 |  2.254614e-05 |\n",
       "|  1.427459e-05 |  6.682468e-06 |  1.998492e-05 |  2.112933e-05 |  1.316358e-07 | -7.825551e-06 |  1.483745e-05 |  2.993627e-05 | -5.070440e-05 | -2.145363e-05 | ... | -4.856012e-06 | -7.266634e-07 | -2.095114e-05 | -1.294516e-05 | -4.782723e-05 | -2.042875e-05 |  1.172638e-05 |  3.641072e-06 | -5.267336e-05 | -7.829554e-06 |\n",
       "|  1.019694e-05 | -3.547528e-06 | -1.702437e-05 |  5.116734e-05 |  3.438444e-05 | -4.134828e-05 |  3.586128e-05 |  9.872248e-06 |  1.711328e-05 |  2.028361e-05 | ... |  3.993489e-05 |  5.308445e-05 |  3.207700e-05 | -9.754472e-06 | -6.586834e-05 | -4.397204e-05 | -4.760353e-05 | -1.147705e-05 |  6.261246e-05 |  9.592296e-06 |\n",
       "|  8.641935e-05 | -5.363385e-05 |  5.342562e-05 |  2.792948e-05 |  2.417739e-05 |  1.040520e-05 |  2.105685e-05 |  2.904841e-05 | -3.303648e-05 |  2.269336e-05 | ... |  2.688113e-05 |  6.055211e-06 | -2.520770e-06 | -1.582390e-06 | -3.675152e-05 | -1.991101e-05 | -5.548020e-05 |  1.702959e-05 | -5.987153e-07 | -4.699810e-05 |\n",
       "|  3.047195e-05 | -4.044170e-05 | -1.124498e-05 |  3.942214e-05 | -1.175646e-05 |  2.432364e-05 |  4.641458e-05 | -8.225758e-06 |  1.933937e-05 |  8.920213e-06 | ... |  1.677417e-05 | -6.209632e-07 | -3.991329e-05 | -3.412043e-05 | -1.965353e-05 | -5.847300e-05 | -6.165530e-05 | -2.960716e-05 | -6.275644e-07 |  1.157940e-05 |\n",
       "|  2.412529e-05 |  2.219564e-05 |  2.762914e-05 |  4.215652e-05 | -2.314198e-05 |  1.505945e-05 |  4.618333e-05 |  1.663078e-06 | -4.986856e-05 |  4.612132e-05 | ... |  1.725408e-05 | -1.592084e-05 | -6.779622e-07 |  2.037825e-05 | -1.619323e-05 | -6.090947e-06 | -2.556429e-05 | -7.084343e-05 |  3.877676e-05 | -1.916871e-05 |\n",
       "|  4.318350e-05 | -3.196519e-05 |  6.727556e-06 | -2.006627e-05 |  1.714464e-05 | -9.210726e-06 |  3.041238e-06 |  2.107162e-05 |  1.973151e-05 | -3.154018e-05 | ... | -4.753260e-05 |  8.394144e-06 |  1.273502e-05 | -5.400950e-05 | -4.557150e-05 |  5.769448e-05 | -3.884252e-06 | -3.998954e-05 |  1.662288e-05 |  2.838207e-05 |\n",
       "|  5.553645e-05 | -3.738948e-05 | -1.108712e-05 |  1.186220e-05 |  1.079956e-06 |  5.922090e-05 |  1.139041e-05 | -3.627400e-06 | -1.458142e-05 | -1.247101e-05 | ... |  1.735671e-05 | -3.523662e-05 | -3.676876e-06 |  3.957509e-06 |  3.986851e-05 | -1.120428e-04 |  4.047862e-05 | -3.792324e-05 |  1.053107e-05 | -1.739277e-05 |\n",
       "| -3.443770e-06 | -1.797154e-05 |  2.105453e-05 |  2.185999e-05 | -1.109296e-05 |  8.581967e-06 |  1.276237e-05 |  3.016814e-05 |  2.408839e-05 | -3.544568e-05 | ... |  1.459974e-06 |  2.857900e-06 | -1.031119e-05 |  3.396733e-05 |  1.883976e-05 |  3.663057e-05 |  1.234126e-05 |  3.339745e-05 |  3.210253e-05 |  3.829815e-05 |\n",
       "| -4.178037e-05 | -2.796779e-05 | -2.760121e-05 | -1.510746e-05 | -5.871888e-05 |  2.131415e-05 | -2.260397e-05 | -3.271726e-05 | -2.904556e-05 | -5.690044e-06 | ... |  7.900105e-05 |  3.782290e-06 | -2.322035e-05 |  2.586915e-05 |  4.138837e-05 |  8.815674e-06 | -1.845414e-05 |  4.949582e-05 | -3.847969e-05 |  1.345917e-05 |\n",
       "|  1.070593e-05 | -7.591357e-06 |  2.813848e-05 |  2.506823e-05 | -2.590607e-05 | -2.017907e-05 | -1.164154e-05 |  1.645912e-05 | -4.368728e-05 |  5.065935e-06 | ... |  1.581403e-05 |  1.032174e-06 |  3.489739e-05 | -1.033551e-05 | -3.923746e-05 |  1.318841e-06 | -4.546497e-05 | -1.553266e-05 | -7.025526e-05 |  8.275924e-05 |\n",
       "|  5.069711e-06 | -2.348010e-05 |  4.144198e-06 | -6.685847e-08 |  1.830766e-05 | -6.396179e-05 |  3.938306e-05 |  2.156861e-05 | -5.337572e-05 | -4.560356e-05 | ... |  6.891309e-05 | -2.998382e-05 |  1.658476e-06 | -2.662398e-05 |  1.655760e-05 | -2.001680e-05 |  2.882744e-05 |  3.861921e-05 |  2.369284e-05 |  3.130860e-05 |\n",
       "|  1.603414e-05 |  2.757445e-05 | -7.039510e-06 | -2.870994e-07 |  2.769108e-06 | -2.455923e-05 |  4.464378e-06 |  1.733011e-05 | -6.577148e-05 |  1.440372e-06 | ... | -1.862173e-05 | -2.332394e-05 | -2.864526e-05 | -2.627430e-05 | -6.520281e-05 |  2.639469e-05 |  2.031238e-05 |  2.095827e-05 | -4.555747e-05 | -1.809515e-07 |\n",
       "| -2.119921e-05 |  6.771490e-05 |  2.758613e-05 | -6.610747e-05 |  2.805902e-05 | -4.556167e-05 | -2.942794e-05 |  4.078079e-05 |  3.945203e-05 | -1.539792e-05 | ... | -3.361987e-05 |  1.754741e-05 |  9.548286e-06 |  2.245125e-05 |  6.236541e-06 |  4.654823e-05 | -1.796441e-05 |  5.435949e-05 | -2.538068e-05 |  3.805766e-06 |\n",
       "|  1.726934e-05 | -3.939060e-07 |  3.642054e-05 |  8.885564e-06 | -2.263017e-05 | -6.130535e-06 | -5.005761e-05 | -3.496845e-06 | -2.522111e-06 |  1.701548e-06 | ... | -6.110025e-05 |  1.488973e-05 |  2.800938e-05 | -1.746504e-05 |  1.380811e-05 | -2.832022e-05 | -8.513536e-06 |  2.017150e-05 |  4.157811e-05 |  5.389562e-05 |\n",
       "|  2.982975e-05 |  5.433303e-05 |  4.063332e-05 |  3.155345e-05 |  4.552296e-06 |  2.251678e-05 |  2.889910e-05 |  2.354829e-05 | -1.158760e-05 | -2.358910e-05 | ... |  1.961522e-05 | -1.726309e-05 |  2.621497e-05 |  3.704704e-06 |  8.570256e-05 |  7.296492e-05 |  1.013532e-05 | -8.670009e-06 |  9.197977e-07 |  3.968180e-05 |\n",
       "| -1.339008e-05 | -2.775063e-05 |  2.791353e-05 | -3.743614e-05 | -2.257522e-06 |  5.753080e-05 |  3.757268e-05 |  2.331344e-05 |  6.541151e-05 |  2.812412e-05 | ... |  1.706938e-06 |  9.182193e-07 | -2.205059e-05 | -2.941706e-05 | -5.869569e-05 | -6.080817e-05 |  4.327395e-06 |  1.842276e-05 |  1.858814e-05 | -3.524761e-05 |\n",
       "|  6.425502e-05 |  2.017942e-05 | -3.301479e-05 |  6.369357e-06 |  1.006732e-05 | -2.204368e-05 | -2.909698e-05 |  2.844507e-05 | -3.456973e-05 | -4.698244e-05 | ... | -1.519881e-06 | -2.877127e-06 |  5.211884e-05 |  2.005969e-05 | -1.726632e-05 | -6.092656e-07 |  3.196901e-06 | -2.462407e-05 |  4.487128e-05 | -5.589954e-05 |\n",
       "| -2.122228e-05 |  1.175102e-05 |  2.991379e-06 |  4.757086e-06 | -4.519027e-05 |  2.280625e-05 | -2.433854e-05 | -2.170610e-05 | -9.809716e-06 |  2.764365e-05 | ... | -4.396336e-06 |  2.141254e-05 |  7.982930e-05 | -2.978207e-05 | -5.183487e-05 |  7.337927e-05 |  6.278458e-05 |  3.026283e-05 |  2.231345e-06 | -1.836926e-05 |\n",
       "|  2.609314e-05 |  1.988949e-05 |  4.221838e-05 |  3.809073e-05 | -1.252325e-05 |  2.120057e-05 | -2.697332e-05 |  2.934380e-08 |  5.292860e-06 | -5.225313e-05 | ... |  4.501251e-06 |  6.178453e-05 |  5.895311e-05 |  2.143849e-05 |  6.773301e-05 | -1.334232e-05 |  1.111137e-05 | -6.890676e-06 |  3.577187e-05 |  2.194050e-05 |\n",
       "|  1.307606e-05 | -4.312126e-05 |  2.863860e-05 |  1.451935e-05 |  2.395211e-05 | -6.769338e-06 |  6.457677e-06 |  2.230484e-05 |  3.650705e-05 |  1.905825e-05 | ... | -4.483701e-05 | -3.532289e-05 |  2.454465e-05 |  2.927970e-05 | -2.417736e-05 | -1.841379e-05 |  3.653718e-05 |  8.203372e-07 | -2.999160e-05 | -1.209526e-05 |\n",
       "| -8.292919e-06 | -4.556580e-05 | -4.502732e-05 | -1.951627e-05 |  2.419565e-07 | -8.388007e-05 |  2.804087e-05 |  1.689930e-06 | -1.105318e-05 | -2.021350e-05 | ... | -2.463961e-05 | -6.120949e-05 |  4.287091e-05 | -1.766238e-05 | -2.015444e-05 |  2.208300e-05 | -2.277025e-05 | -1.267352e-05 | -1.822680e-05 | -2.803180e-05 |\n",
       "| -4.534363e-05 | -1.816575e-05 |  9.784133e-06 | -6.726334e-05 | -1.078725e-06 | -1.057516e-05 |  7.302226e-06 |  6.298753e-06 | -2.236387e-05 | -7.138525e-05 | ... | -2.306957e-05 |  3.733190e-05 | -2.644080e-05 | -3.676170e-06 |  3.672863e-05 | -6.600307e-06 |  3.299915e-05 |  1.406001e-05 |  2.143124e-05 | -7.848007e-05 |\n",
       "|  2.459099e-05 |  1.747740e-05 | -6.286364e-05 |  1.586472e-05 |  1.872073e-05 | -5.429329e-05 | -5.053523e-05 | -9.949107e-07 |  2.028400e-05 |  3.221771e-05 | ... | -2.234256e-05 |  2.326362e-05 | -2.559407e-05 | -1.751395e-05 | -3.003939e-05 | -4.712347e-05 |  3.091112e-05 |  1.749762e-05 |  3.513315e-05 | -2.224443e-05 |\n",
       "|  2.589471e-05 | -2.221196e-05 | -2.208911e-05 | -4.967302e-06 |  1.221766e-05 | -8.249226e-06 | -6.713101e-07 | -2.361890e-06 |  9.399549e-05 | -1.623511e-06 | ... |  2.926506e-05 |  1.117129e-05 | -5.034519e-05 |  1.792402e-05 |  5.941865e-05 | -1.907770e-05 | -1.894358e-05 | -2.361639e-05 |  2.976289e-05 |  9.156029e-06 |\n",
       "|  4.477263e-06 |  6.684489e-06 |  6.298302e-05 |  5.501008e-05 |  2.617195e-05 | -1.354658e-05 |  4.354270e-06 | -6.405564e-05 | -6.689222e-05 | -1.938396e-05 | ... | -1.312188e-05 | -1.891697e-05 | -9.998157e-06 |  5.542146e-05 |  4.823973e-06 |  4.458365e-05 |  1.752070e-05 |  1.760862e-05 |  1.545069e-05 |  6.077009e-06 |\n",
       "|  9.565985e-06 | -6.461947e-06 |  2.254924e-05 |  3.629552e-05 |  1.605555e-05 |  1.322314e-05 |  1.728348e-05 | -4.998564e-05 |  3.329229e-05 |  3.564111e-05 | ... | -6.750025e-05 | -6.563686e-06 |  4.923848e-06 | -2.205776e-05 | -7.469345e-05 | -5.770858e-05 |  2.971366e-05 | -1.524080e-05 | -3.331207e-05 | -3.823480e-05 |\n",
       "|  2.730572e-05 |  3.507073e-05 |  8.896507e-06 | -9.231203e-07 | -3.629079e-05 |  4.474621e-06 |  5.426696e-05 |  3.514924e-06 | -5.119348e-05 |  3.003094e-05 | ... |  1.076506e-05 |  2.308781e-05 | -1.302999e-06 | -3.440386e-05 | -3.254673e-07 |  4.320320e-05 |  2.256335e-06 | -1.506841e-06 | -4.560488e-05 |  3.200970e-05 |\n",
       "| -2.393729e-05 |  3.599160e-06 |  1.894224e-06 |  2.918058e-05 | -4.817409e-05 | -4.696093e-06 | -7.494942e-06 | -3.879790e-05 | -3.277151e-05 |  3.726593e-05 | ... |  1.170169e-05 | -7.285443e-05 |  3.506730e-05 | -1.965722e-05 |  2.970709e-06 |  4.194056e-05 |  4.653620e-05 |  2.204130e-05 |  2.534224e-05 |  5.193450e-05 |\n",
       "| -2.887071e-05 |  3.943600e-05 | -3.158776e-05 | -1.630005e-05 |  7.083515e-06 |  2.822718e-05 | -3.570820e-05 | -5.734236e-06 |  2.578965e-05 |  1.241138e-05 | ... | -9.852791e-06 |  5.085687e-07 |  2.480083e-05 |  6.555040e-06 |  1.067405e-05 |  2.046373e-06 |  1.564862e-05 | -4.658300e-05 |  9.060441e-06 |  2.704295e-05 |\n",
       "| -3.207860e-06 | -1.185612e-05 |  1.354321e-05 | -3.544849e-05 | -5.784810e-06 |  1.245582e-05 | -2.126196e-05 | -2.352163e-05 | -5.523849e-06 | -4.125539e-06 | ... | -1.796483e-05 |  4.044068e-05 | -2.324416e-05 | -9.121691e-06 | -2.829848e-05 | -1.105129e-05 |  9.499641e-06 | -2.172299e-06 |  3.716047e-06 | -4.205086e-05 |\n",
       "| -2.979487e-05 | -1.061124e-05 | -1.504540e-05 | -7.438427e-05 | -2.088707e-05 | -6.026721e-06 |  1.063458e-05 |  1.385870e-06 | -4.591538e-05 |  1.217051e-04 | ... |  2.981301e-05 |  5.398221e-05 | -6.978353e-06 |  6.795261e-06 | -2.841480e-05 | -3.165401e-06 | -2.249741e-06 | -1.458335e-05 |  2.020226e-05 |  2.331822e-05 |\n",
       "| -8.141274e-05 |  3.247476e-06 | -2.548144e-05 |  4.058643e-06 | -1.833445e-05 | -2.876913e-05 |  1.553260e-05 | -1.105820e-05 | -6.013395e-05 | -1.291686e-05 | ... | -1.807324e-05 | -1.990238e-05 | -2.071478e-06 | -6.238199e-05 | -2.036871e-05 |  6.744297e-06 |  2.881606e-05 |  1.821513e-05 | -2.028786e-05 | -6.413079e-05 |\n",
       "| -6.603150e-06 | -1.441366e-06 | -2.966892e-05 | -3.483849e-06 | -6.878929e-05 |  1.145011e-05 |  4.099019e-05 | -4.050482e-05 | -5.316141e-05 |  2.883482e-05 | ... | -6.495482e-06 | -1.638344e-05 | -2.541566e-05 | -5.056495e-05 | -1.076459e-05 | -8.028562e-06 | -4.998682e-05 |  3.992738e-06 |  1.863179e-05 |  2.462897e-05 |\n",
       "|  3.187416e-05 | -1.521344e-05 |  1.366552e-05 |  2.031159e-05 |  6.704199e-06 | -4.546562e-07 | -6.409672e-06 | -4.223298e-06 |  2.287096e-05 | -1.570875e-05 | ... | -3.598934e-05 | -1.970492e-05 |  1.585020e-05 | -7.625152e-05 | -2.064715e-05 | -5.405175e-05 | -1.301831e-05 | -4.087973e-06 | -6.266439e-05 |  1.142452e-05 |\n",
       "| -1.380115e-06 | -1.659036e-05 |  1.878604e-05 |  1.969816e-05 | -3.556463e-05 |  3.489214e-05 |  1.041654e-05 |  1.216491e-05 |  2.462085e-06 |  2.353376e-05 | ... |  8.289108e-06 | -1.507168e-05 | -2.815128e-05 | -2.671657e-06 | -5.162554e-05 |  9.920215e-05 | -4.061368e-07 | -3.758099e-05 | -4.184492e-05 |  5.650306e-05 |\n",
       "| -1.625356e-05 | -6.067111e-06 |  1.540952e-05 |  1.020967e-05 |  8.321290e-06 |  1.420424e-05 |  3.161879e-05 | -6.908251e-07 |  2.955291e-05 | -5.038639e-05 | ... |  2.962157e-05 |  2.784095e-05 |  6.177459e-05 | -1.613910e-05 |  1.009963e-05 |  4.951227e-05 |  1.055607e-05 | -4.709023e-05 | -4.954805e-05 |  2.670064e-05 |\n",
       "|  5.869845e-05 |  6.860630e-06 |  1.427155e-05 |  1.091861e-05 | -5.137965e-05 |  1.741679e-05 | -4.841533e-06 |  4.941533e-05 |  2.651062e-05 |  2.884002e-05 | ... | -5.440799e-06 |  9.997566e-06 |  2.699477e-05 |  4.187839e-05 |  2.520280e-05 |  1.902181e-05 | -1.034433e-05 |  3.327600e-05 |  3.266215e-06 | -4.120212e-05 |\n",
       "| -1.760670e-05 |  5.151222e-05 |  2.489365e-05 |  3.073955e-05 | -3.087732e-05 | -6.468348e-06 |  3.570397e-06 | -2.176406e-05 |  1.511314e-06 |  2.230829e-05 | ... |  5.589068e-05 |  2.072674e-05 | -5.994099e-05 | -1.059150e-05 |  6.673446e-06 |  7.944199e-06 |  5.874051e-05 | -4.849144e-06 |  3.956557e-05 | -4.074157e-05 |\n",
       "|  3.927867e-05 |  4.322462e-05 | -1.036259e-05 |  6.651092e-05 | -1.597420e-05 | -3.061148e-05 | -2.740104e-06 |  2.166843e-05 | -1.289579e-05 | -3.977731e-05 | ... |  5.421483e-07 |  2.324140e-05 | -1.139912e-05 | -4.101488e-05 |  2.616875e-05 | -3.561005e-05 |  3.875408e-05 | -2.652273e-05 | -7.084959e-07 | -4.137500e-05 |\n",
       "|  1.050527e-06 |  4.252252e-05 | -8.795362e-06 | -3.938704e-06 | -5.414050e-05 | -4.458598e-05 | -4.264365e-05 | -2.600932e-05 |  2.754134e-05 |  1.556113e-05 | ... | -4.173476e-05 |  4.066535e-06 |  5.912114e-05 | -1.082667e-05 | -6.261592e-05 |  1.525407e-05 |  1.011393e-05 | -7.281618e-05 |  1.313213e-05 |  2.877967e-05 |\n",
       "\n"
      ],
      "text/plain": [
       "      [,1]          [,2]          [,3]          [,4]          [,5]         \n",
       " [1,] -3.192057e-05 -5.116766e-05  6.847868e-05  3.196030e-05  7.392832e-05\n",
       " [2,]  1.148431e-05 -7.568494e-05  5.933587e-06  2.836976e-05  4.450079e-05\n",
       " [3,] -8.081826e-05 -3.241419e-05  1.066458e-05  1.107053e-05  3.354442e-05\n",
       " [4,] -4.388551e-05 -1.088681e-05  3.234271e-05  5.803832e-06 -1.610868e-05\n",
       " [5,] -1.963582e-05 -2.753066e-05  5.049506e-05 -9.396723e-05 -4.800230e-05\n",
       " [6,] -8.777699e-05  7.725079e-05  3.920962e-05 -3.074351e-05 -4.836167e-06\n",
       " [7,] -8.006689e-06 -4.919645e-06  1.166879e-05  2.027304e-05  4.422858e-05\n",
       " [8,] -1.903073e-05 -4.868787e-05 -2.379734e-05  5.883623e-05  2.925066e-05\n",
       " [9,]  2.415780e-05  5.268514e-05  7.319957e-07  1.286078e-05  7.730104e-05\n",
       "[10,]  3.703174e-05  8.649874e-06 -3.126520e-05 -3.535502e-05 -4.511418e-05\n",
       "[11,]  1.147635e-05  1.025978e-05  1.206534e-05 -2.952197e-05  7.246545e-06\n",
       "[12,] -6.389959e-05 -1.154731e-05  2.226770e-05  2.215627e-05 -2.957105e-06\n",
       "[13,]  1.427459e-05  6.682468e-06  1.998492e-05  2.112933e-05  1.316358e-07\n",
       "[14,]  1.019694e-05 -3.547528e-06 -1.702437e-05  5.116734e-05  3.438444e-05\n",
       "[15,]  8.641935e-05 -5.363385e-05  5.342562e-05  2.792948e-05  2.417739e-05\n",
       "[16,]  3.047195e-05 -4.044170e-05 -1.124498e-05  3.942214e-05 -1.175646e-05\n",
       "[17,]  2.412529e-05  2.219564e-05  2.762914e-05  4.215652e-05 -2.314198e-05\n",
       "[18,]  4.318350e-05 -3.196519e-05  6.727556e-06 -2.006627e-05  1.714464e-05\n",
       "[19,]  5.553645e-05 -3.738948e-05 -1.108712e-05  1.186220e-05  1.079956e-06\n",
       "[20,] -3.443770e-06 -1.797154e-05  2.105453e-05  2.185999e-05 -1.109296e-05\n",
       "[21,] -4.178037e-05 -2.796779e-05 -2.760121e-05 -1.510746e-05 -5.871888e-05\n",
       "[22,]  1.070593e-05 -7.591357e-06  2.813848e-05  2.506823e-05 -2.590607e-05\n",
       "[23,]  5.069711e-06 -2.348010e-05  4.144198e-06 -6.685847e-08  1.830766e-05\n",
       "[24,]  1.603414e-05  2.757445e-05 -7.039510e-06 -2.870994e-07  2.769108e-06\n",
       "[25,] -2.119921e-05  6.771490e-05  2.758613e-05 -6.610747e-05  2.805902e-05\n",
       "[26,]  1.726934e-05 -3.939060e-07  3.642054e-05  8.885564e-06 -2.263017e-05\n",
       "[27,]  2.982975e-05  5.433303e-05  4.063332e-05  3.155345e-05  4.552296e-06\n",
       "[28,] -1.339008e-05 -2.775063e-05  2.791353e-05 -3.743614e-05 -2.257522e-06\n",
       "[29,]  6.425502e-05  2.017942e-05 -3.301479e-05  6.369357e-06  1.006732e-05\n",
       "[30,] -2.122228e-05  1.175102e-05  2.991379e-06  4.757086e-06 -4.519027e-05\n",
       "[31,]  2.609314e-05  1.988949e-05  4.221838e-05  3.809073e-05 -1.252325e-05\n",
       "[32,]  1.307606e-05 -4.312126e-05  2.863860e-05  1.451935e-05  2.395211e-05\n",
       "[33,] -8.292919e-06 -4.556580e-05 -4.502732e-05 -1.951627e-05  2.419565e-07\n",
       "[34,] -4.534363e-05 -1.816575e-05  9.784133e-06 -6.726334e-05 -1.078725e-06\n",
       "[35,]  2.459099e-05  1.747740e-05 -6.286364e-05  1.586472e-05  1.872073e-05\n",
       "[36,]  2.589471e-05 -2.221196e-05 -2.208911e-05 -4.967302e-06  1.221766e-05\n",
       "[37,]  4.477263e-06  6.684489e-06  6.298302e-05  5.501008e-05  2.617195e-05\n",
       "[38,]  9.565985e-06 -6.461947e-06  2.254924e-05  3.629552e-05  1.605555e-05\n",
       "[39,]  2.730572e-05  3.507073e-05  8.896507e-06 -9.231203e-07 -3.629079e-05\n",
       "[40,] -2.393729e-05  3.599160e-06  1.894224e-06  2.918058e-05 -4.817409e-05\n",
       "[41,] -2.887071e-05  3.943600e-05 -3.158776e-05 -1.630005e-05  7.083515e-06\n",
       "[42,] -3.207860e-06 -1.185612e-05  1.354321e-05 -3.544849e-05 -5.784810e-06\n",
       "[43,] -2.979487e-05 -1.061124e-05 -1.504540e-05 -7.438427e-05 -2.088707e-05\n",
       "[44,] -8.141274e-05  3.247476e-06 -2.548144e-05  4.058643e-06 -1.833445e-05\n",
       "[45,] -6.603150e-06 -1.441366e-06 -2.966892e-05 -3.483849e-06 -6.878929e-05\n",
       "[46,]  3.187416e-05 -1.521344e-05  1.366552e-05  2.031159e-05  6.704199e-06\n",
       "[47,] -1.380115e-06 -1.659036e-05  1.878604e-05  1.969816e-05 -3.556463e-05\n",
       "[48,] -1.625356e-05 -6.067111e-06  1.540952e-05  1.020967e-05  8.321290e-06\n",
       "[49,]  5.869845e-05  6.860630e-06  1.427155e-05  1.091861e-05 -5.137965e-05\n",
       "[50,] -1.760670e-05  5.151222e-05  2.489365e-05  3.073955e-05 -3.087732e-05\n",
       "[51,]  3.927867e-05  4.322462e-05 -1.036259e-05  6.651092e-05 -1.597420e-05\n",
       "[52,]  1.050527e-06  4.252252e-05 -8.795362e-06 -3.938704e-06 -5.414050e-05\n",
       "      [,6]          [,7]          [,8]          [,9]          [,10]        \n",
       " [1,]  5.135848e-05 -3.200134e-05 -8.411190e-06  1.997505e-05 -5.544337e-05\n",
       " [2,] -3.845784e-05  2.093517e-05  1.780804e-05 -5.513594e-05  7.157082e-06\n",
       " [3,]  6.755511e-08 -4.368571e-06 -1.373853e-05 -3.452744e-05  2.959357e-05\n",
       " [4,]  2.907584e-06 -8.855780e-07  4.031826e-05  1.314439e-05  1.255349e-05\n",
       " [5,] -2.191763e-05 -3.085236e-05  3.521888e-06  5.212070e-05 -1.560155e-05\n",
       " [6,] -2.210192e-05 -2.203180e-05 -2.628638e-05  1.297452e-05 -5.502115e-05\n",
       " [7,] -2.686224e-05  1.646696e-05  4.571538e-05 -7.934270e-06  3.053202e-05\n",
       " [8,]  1.692850e-05 -3.984111e-05 -1.547693e-05  8.698198e-06 -5.042853e-05\n",
       " [9,] -4.754145e-05  1.771979e-05  4.406768e-06  1.171403e-05 -9.135884e-06\n",
       "[10,] -1.666586e-05  5.799272e-05 -1.885171e-05 -4.494154e-05  2.621894e-05\n",
       "[11,]  6.525621e-05  4.975525e-06  2.168471e-05 -1.107718e-05 -5.082431e-06\n",
       "[12,] -2.941032e-05 -2.938692e-06  1.017819e-05 -3.025054e-05 -3.738717e-05\n",
       "[13,] -7.825551e-06  1.483745e-05  2.993627e-05 -5.070440e-05 -2.145363e-05\n",
       "[14,] -4.134828e-05  3.586128e-05  9.872248e-06  1.711328e-05  2.028361e-05\n",
       "[15,]  1.040520e-05  2.105685e-05  2.904841e-05 -3.303648e-05  2.269336e-05\n",
       "[16,]  2.432364e-05  4.641458e-05 -8.225758e-06  1.933937e-05  8.920213e-06\n",
       "[17,]  1.505945e-05  4.618333e-05  1.663078e-06 -4.986856e-05  4.612132e-05\n",
       "[18,] -9.210726e-06  3.041238e-06  2.107162e-05  1.973151e-05 -3.154018e-05\n",
       "[19,]  5.922090e-05  1.139041e-05 -3.627400e-06 -1.458142e-05 -1.247101e-05\n",
       "[20,]  8.581967e-06  1.276237e-05  3.016814e-05  2.408839e-05 -3.544568e-05\n",
       "[21,]  2.131415e-05 -2.260397e-05 -3.271726e-05 -2.904556e-05 -5.690044e-06\n",
       "[22,] -2.017907e-05 -1.164154e-05  1.645912e-05 -4.368728e-05  5.065935e-06\n",
       "[23,] -6.396179e-05  3.938306e-05  2.156861e-05 -5.337572e-05 -4.560356e-05\n",
       "[24,] -2.455923e-05  4.464378e-06  1.733011e-05 -6.577148e-05  1.440372e-06\n",
       "[25,] -4.556167e-05 -2.942794e-05  4.078079e-05  3.945203e-05 -1.539792e-05\n",
       "[26,] -6.130535e-06 -5.005761e-05 -3.496845e-06 -2.522111e-06  1.701548e-06\n",
       "[27,]  2.251678e-05  2.889910e-05  2.354829e-05 -1.158760e-05 -2.358910e-05\n",
       "[28,]  5.753080e-05  3.757268e-05  2.331344e-05  6.541151e-05  2.812412e-05\n",
       "[29,] -2.204368e-05 -2.909698e-05  2.844507e-05 -3.456973e-05 -4.698244e-05\n",
       "[30,]  2.280625e-05 -2.433854e-05 -2.170610e-05 -9.809716e-06  2.764365e-05\n",
       "[31,]  2.120057e-05 -2.697332e-05  2.934380e-08  5.292860e-06 -5.225313e-05\n",
       "[32,] -6.769338e-06  6.457677e-06  2.230484e-05  3.650705e-05  1.905825e-05\n",
       "[33,] -8.388007e-05  2.804087e-05  1.689930e-06 -1.105318e-05 -2.021350e-05\n",
       "[34,] -1.057516e-05  7.302226e-06  6.298753e-06 -2.236387e-05 -7.138525e-05\n",
       "[35,] -5.429329e-05 -5.053523e-05 -9.949107e-07  2.028400e-05  3.221771e-05\n",
       "[36,] -8.249226e-06 -6.713101e-07 -2.361890e-06  9.399549e-05 -1.623511e-06\n",
       "[37,] -1.354658e-05  4.354270e-06 -6.405564e-05 -6.689222e-05 -1.938396e-05\n",
       "[38,]  1.322314e-05  1.728348e-05 -4.998564e-05  3.329229e-05  3.564111e-05\n",
       "[39,]  4.474621e-06  5.426696e-05  3.514924e-06 -5.119348e-05  3.003094e-05\n",
       "[40,] -4.696093e-06 -7.494942e-06 -3.879790e-05 -3.277151e-05  3.726593e-05\n",
       "[41,]  2.822718e-05 -3.570820e-05 -5.734236e-06  2.578965e-05  1.241138e-05\n",
       "[42,]  1.245582e-05 -2.126196e-05 -2.352163e-05 -5.523849e-06 -4.125539e-06\n",
       "[43,] -6.026721e-06  1.063458e-05  1.385870e-06 -4.591538e-05  1.217051e-04\n",
       "[44,] -2.876913e-05  1.553260e-05 -1.105820e-05 -6.013395e-05 -1.291686e-05\n",
       "[45,]  1.145011e-05  4.099019e-05 -4.050482e-05 -5.316141e-05  2.883482e-05\n",
       "[46,] -4.546562e-07 -6.409672e-06 -4.223298e-06  2.287096e-05 -1.570875e-05\n",
       "[47,]  3.489214e-05  1.041654e-05  1.216491e-05  2.462085e-06  2.353376e-05\n",
       "[48,]  1.420424e-05  3.161879e-05 -6.908251e-07  2.955291e-05 -5.038639e-05\n",
       "[49,]  1.741679e-05 -4.841533e-06  4.941533e-05  2.651062e-05  2.884002e-05\n",
       "[50,] -6.468348e-06  3.570397e-06 -2.176406e-05  1.511314e-06  2.230829e-05\n",
       "[51,] -3.061148e-05 -2.740104e-06  2.166843e-05 -1.289579e-05 -3.977731e-05\n",
       "[52,] -4.458598e-05 -4.264365e-05 -2.600932e-05  2.754134e-05  1.556113e-05\n",
       "      [,11] [,12]         [,13]         [,14]         [,15]        \n",
       " [1,] ...   -3.975222e-07 -4.108188e-05 -2.582389e-05 -2.662744e-06\n",
       " [2,] ...   -6.470660e-05 -2.332107e-05 -2.220066e-05 -4.187143e-05\n",
       " [3,] ...    1.917129e-05 -1.148602e-05  5.991506e-06 -3.207890e-05\n",
       " [4,] ...    1.178372e-05 -6.048363e-05 -3.280824e-05  4.413611e-05\n",
       " [5,] ...    4.475314e-06 -8.812380e-06 -7.917414e-06  6.709911e-05\n",
       " [6,] ...    4.481707e-05  1.156388e-05 -3.684439e-05 -3.021369e-05\n",
       " [7,] ...   -2.961968e-06 -3.409628e-05 -6.461021e-05  2.226797e-06\n",
       " [8,] ...   -4.589138e-05 -1.624528e-05  1.897885e-05 -1.284604e-05\n",
       " [9,] ...    3.320961e-05  4.250157e-05  1.904813e-05  4.979224e-06\n",
       "[10,] ...    3.937372e-05  3.077375e-05  4.189497e-05 -2.963048e-05\n",
       "[11,] ...    6.762707e-06  2.602318e-06  5.445174e-05 -2.651120e-05\n",
       "[12,] ...   -1.019625e-04  3.193301e-05  5.069841e-05 -4.117546e-05\n",
       "[13,] ...   -4.856012e-06 -7.266634e-07 -2.095114e-05 -1.294516e-05\n",
       "[14,] ...    3.993489e-05  5.308445e-05  3.207700e-05 -9.754472e-06\n",
       "[15,] ...    2.688113e-05  6.055211e-06 -2.520770e-06 -1.582390e-06\n",
       "[16,] ...    1.677417e-05 -6.209632e-07 -3.991329e-05 -3.412043e-05\n",
       "[17,] ...    1.725408e-05 -1.592084e-05 -6.779622e-07  2.037825e-05\n",
       "[18,] ...   -4.753260e-05  8.394144e-06  1.273502e-05 -5.400950e-05\n",
       "[19,] ...    1.735671e-05 -3.523662e-05 -3.676876e-06  3.957509e-06\n",
       "[20,] ...    1.459974e-06  2.857900e-06 -1.031119e-05  3.396733e-05\n",
       "[21,] ...    7.900105e-05  3.782290e-06 -2.322035e-05  2.586915e-05\n",
       "[22,] ...    1.581403e-05  1.032174e-06  3.489739e-05 -1.033551e-05\n",
       "[23,] ...    6.891309e-05 -2.998382e-05  1.658476e-06 -2.662398e-05\n",
       "[24,] ...   -1.862173e-05 -2.332394e-05 -2.864526e-05 -2.627430e-05\n",
       "[25,] ...   -3.361987e-05  1.754741e-05  9.548286e-06  2.245125e-05\n",
       "[26,] ...   -6.110025e-05  1.488973e-05  2.800938e-05 -1.746504e-05\n",
       "[27,] ...    1.961522e-05 -1.726309e-05  2.621497e-05  3.704704e-06\n",
       "[28,] ...    1.706938e-06  9.182193e-07 -2.205059e-05 -2.941706e-05\n",
       "[29,] ...   -1.519881e-06 -2.877127e-06  5.211884e-05  2.005969e-05\n",
       "[30,] ...   -4.396336e-06  2.141254e-05  7.982930e-05 -2.978207e-05\n",
       "[31,] ...    4.501251e-06  6.178453e-05  5.895311e-05  2.143849e-05\n",
       "[32,] ...   -4.483701e-05 -3.532289e-05  2.454465e-05  2.927970e-05\n",
       "[33,] ...   -2.463961e-05 -6.120949e-05  4.287091e-05 -1.766238e-05\n",
       "[34,] ...   -2.306957e-05  3.733190e-05 -2.644080e-05 -3.676170e-06\n",
       "[35,] ...   -2.234256e-05  2.326362e-05 -2.559407e-05 -1.751395e-05\n",
       "[36,] ...    2.926506e-05  1.117129e-05 -5.034519e-05  1.792402e-05\n",
       "[37,] ...   -1.312188e-05 -1.891697e-05 -9.998157e-06  5.542146e-05\n",
       "[38,] ...   -6.750025e-05 -6.563686e-06  4.923848e-06 -2.205776e-05\n",
       "[39,] ...    1.076506e-05  2.308781e-05 -1.302999e-06 -3.440386e-05\n",
       "[40,] ...    1.170169e-05 -7.285443e-05  3.506730e-05 -1.965722e-05\n",
       "[41,] ...   -9.852791e-06  5.085687e-07  2.480083e-05  6.555040e-06\n",
       "[42,] ...   -1.796483e-05  4.044068e-05 -2.324416e-05 -9.121691e-06\n",
       "[43,] ...    2.981301e-05  5.398221e-05 -6.978353e-06  6.795261e-06\n",
       "[44,] ...   -1.807324e-05 -1.990238e-05 -2.071478e-06 -6.238199e-05\n",
       "[45,] ...   -6.495482e-06 -1.638344e-05 -2.541566e-05 -5.056495e-05\n",
       "[46,] ...   -3.598934e-05 -1.970492e-05  1.585020e-05 -7.625152e-05\n",
       "[47,] ...    8.289108e-06 -1.507168e-05 -2.815128e-05 -2.671657e-06\n",
       "[48,] ...    2.962157e-05  2.784095e-05  6.177459e-05 -1.613910e-05\n",
       "[49,] ...   -5.440799e-06  9.997566e-06  2.699477e-05  4.187839e-05\n",
       "[50,] ...    5.589068e-05  2.072674e-05 -5.994099e-05 -1.059150e-05\n",
       "[51,] ...    5.421483e-07  2.324140e-05 -1.139912e-05 -4.101488e-05\n",
       "[52,] ...   -4.173476e-05  4.066535e-06  5.912114e-05 -1.082667e-05\n",
       "      [,16]         [,17]         [,18]         [,19]         [,20]        \n",
       " [1,]  4.092493e-05  2.145839e-05 -5.052722e-05 -4.681206e-06  6.138450e-05\n",
       " [2,] -1.075483e-05 -5.099367e-07  4.608625e-05  8.329716e-06 -3.097462e-05\n",
       " [3,] -8.404142e-06 -3.221012e-05 -4.188728e-06  3.540838e-05 -9.176172e-06\n",
       " [4,]  1.448248e-06  1.798862e-05 -2.816865e-06  2.456008e-05  9.939793e-06\n",
       " [5,]  1.341398e-05 -5.074992e-05 -1.668710e-05  8.440125e-06  3.441699e-05\n",
       " [6,]  4.664212e-05 -4.489788e-05  7.996226e-06 -2.328768e-05  5.902382e-05\n",
       " [7,]  5.109144e-05  1.981600e-05  2.018449e-06  1.089630e-05 -2.520895e-05\n",
       " [8,]  4.595098e-06 -3.451735e-05  2.922118e-05 -2.321780e-06 -7.379619e-05\n",
       " [9,] -7.210870e-05  2.505600e-05 -2.473779e-05  3.410970e-06 -1.312680e-05\n",
       "[10,] -1.842175e-06  2.572838e-05 -1.154328e-05  3.225926e-05 -3.355453e-05\n",
       "[11,]  2.410449e-05 -8.933646e-06  6.196129e-06 -6.377696e-05  4.320147e-05\n",
       "[12,] -1.703978e-05 -8.088081e-07 -3.598810e-06  3.906483e-05  1.283938e-05\n",
       "[13,] -4.782723e-05 -2.042875e-05  1.172638e-05  3.641072e-06 -5.267336e-05\n",
       "[14,] -6.586834e-05 -4.397204e-05 -4.760353e-05 -1.147705e-05  6.261246e-05\n",
       "[15,] -3.675152e-05 -1.991101e-05 -5.548020e-05  1.702959e-05 -5.987153e-07\n",
       "[16,] -1.965353e-05 -5.847300e-05 -6.165530e-05 -2.960716e-05 -6.275644e-07\n",
       "[17,] -1.619323e-05 -6.090947e-06 -2.556429e-05 -7.084343e-05  3.877676e-05\n",
       "[18,] -4.557150e-05  5.769448e-05 -3.884252e-06 -3.998954e-05  1.662288e-05\n",
       "[19,]  3.986851e-05 -1.120428e-04  4.047862e-05 -3.792324e-05  1.053107e-05\n",
       "[20,]  1.883976e-05  3.663057e-05  1.234126e-05  3.339745e-05  3.210253e-05\n",
       "[21,]  4.138837e-05  8.815674e-06 -1.845414e-05  4.949582e-05 -3.847969e-05\n",
       "[22,] -3.923746e-05  1.318841e-06 -4.546497e-05 -1.553266e-05 -7.025526e-05\n",
       "[23,]  1.655760e-05 -2.001680e-05  2.882744e-05  3.861921e-05  2.369284e-05\n",
       "[24,] -6.520281e-05  2.639469e-05  2.031238e-05  2.095827e-05 -4.555747e-05\n",
       "[25,]  6.236541e-06  4.654823e-05 -1.796441e-05  5.435949e-05 -2.538068e-05\n",
       "[26,]  1.380811e-05 -2.832022e-05 -8.513536e-06  2.017150e-05  4.157811e-05\n",
       "[27,]  8.570256e-05  7.296492e-05  1.013532e-05 -8.670009e-06  9.197977e-07\n",
       "[28,] -5.869569e-05 -6.080817e-05  4.327395e-06  1.842276e-05  1.858814e-05\n",
       "[29,] -1.726632e-05 -6.092656e-07  3.196901e-06 -2.462407e-05  4.487128e-05\n",
       "[30,] -5.183487e-05  7.337927e-05  6.278458e-05  3.026283e-05  2.231345e-06\n",
       "[31,]  6.773301e-05 -1.334232e-05  1.111137e-05 -6.890676e-06  3.577187e-05\n",
       "[32,] -2.417736e-05 -1.841379e-05  3.653718e-05  8.203372e-07 -2.999160e-05\n",
       "[33,] -2.015444e-05  2.208300e-05 -2.277025e-05 -1.267352e-05 -1.822680e-05\n",
       "[34,]  3.672863e-05 -6.600307e-06  3.299915e-05  1.406001e-05  2.143124e-05\n",
       "[35,] -3.003939e-05 -4.712347e-05  3.091112e-05  1.749762e-05  3.513315e-05\n",
       "[36,]  5.941865e-05 -1.907770e-05 -1.894358e-05 -2.361639e-05  2.976289e-05\n",
       "[37,]  4.823973e-06  4.458365e-05  1.752070e-05  1.760862e-05  1.545069e-05\n",
       "[38,] -7.469345e-05 -5.770858e-05  2.971366e-05 -1.524080e-05 -3.331207e-05\n",
       "[39,] -3.254673e-07  4.320320e-05  2.256335e-06 -1.506841e-06 -4.560488e-05\n",
       "[40,]  2.970709e-06  4.194056e-05  4.653620e-05  2.204130e-05  2.534224e-05\n",
       "[41,]  1.067405e-05  2.046373e-06  1.564862e-05 -4.658300e-05  9.060441e-06\n",
       "[42,] -2.829848e-05 -1.105129e-05  9.499641e-06 -2.172299e-06  3.716047e-06\n",
       "[43,] -2.841480e-05 -3.165401e-06 -2.249741e-06 -1.458335e-05  2.020226e-05\n",
       "[44,] -2.036871e-05  6.744297e-06  2.881606e-05  1.821513e-05 -2.028786e-05\n",
       "[45,] -1.076459e-05 -8.028562e-06 -4.998682e-05  3.992738e-06  1.863179e-05\n",
       "[46,] -2.064715e-05 -5.405175e-05 -1.301831e-05 -4.087973e-06 -6.266439e-05\n",
       "[47,] -5.162554e-05  9.920215e-05 -4.061368e-07 -3.758099e-05 -4.184492e-05\n",
       "[48,]  1.009963e-05  4.951227e-05  1.055607e-05 -4.709023e-05 -4.954805e-05\n",
       "[49,]  2.520280e-05  1.902181e-05 -1.034433e-05  3.327600e-05  3.266215e-06\n",
       "[50,]  6.673446e-06  7.944199e-06  5.874051e-05 -4.849144e-06  3.956557e-05\n",
       "[51,]  2.616875e-05 -3.561005e-05  3.875408e-05 -2.652273e-05 -7.084959e-07\n",
       "[52,] -6.261592e-05  1.525407e-05  1.011393e-05 -7.281618e-05  1.313213e-05\n",
       "      [,21]        \n",
       " [1,]  2.927406e-05\n",
       " [2,] -1.520706e-06\n",
       " [3,] -6.369080e-06\n",
       " [4,]  5.666131e-05\n",
       " [5,] -5.934876e-05\n",
       " [6,]  1.859022e-06\n",
       " [7,]  1.306405e-05\n",
       " [8,] -6.150603e-05\n",
       " [9,] -3.611749e-05\n",
       "[10,] -9.038509e-06\n",
       "[11,]  3.323138e-05\n",
       "[12,]  2.254614e-05\n",
       "[13,] -7.829554e-06\n",
       "[14,]  9.592296e-06\n",
       "[15,] -4.699810e-05\n",
       "[16,]  1.157940e-05\n",
       "[17,] -1.916871e-05\n",
       "[18,]  2.838207e-05\n",
       "[19,] -1.739277e-05\n",
       "[20,]  3.829815e-05\n",
       "[21,]  1.345917e-05\n",
       "[22,]  8.275924e-05\n",
       "[23,]  3.130860e-05\n",
       "[24,] -1.809515e-07\n",
       "[25,]  3.805766e-06\n",
       "[26,]  5.389562e-05\n",
       "[27,]  3.968180e-05\n",
       "[28,] -3.524761e-05\n",
       "[29,] -5.589954e-05\n",
       "[30,] -1.836926e-05\n",
       "[31,]  2.194050e-05\n",
       "[32,] -1.209526e-05\n",
       "[33,] -2.803180e-05\n",
       "[34,] -7.848007e-05\n",
       "[35,] -2.224443e-05\n",
       "[36,]  9.156029e-06\n",
       "[37,]  6.077009e-06\n",
       "[38,] -3.823480e-05\n",
       "[39,]  3.200970e-05\n",
       "[40,]  5.193450e-05\n",
       "[41,]  2.704295e-05\n",
       "[42,] -4.205086e-05\n",
       "[43,]  2.331822e-05\n",
       "[44,] -6.413079e-05\n",
       "[45,]  2.462897e-05\n",
       "[46,]  1.142452e-05\n",
       "[47,]  5.650306e-05\n",
       "[48,]  2.670064e-05\n",
       "[49,] -4.120212e-05\n",
       "[50,] -4.074157e-05\n",
       "[51,] -4.137500e-05\n",
       "[52,]  2.877967e-05"
      ]
     },
     "metadata": {},
     "output_type": "display_data"
    }
   ],
   "source": [
    "future <- 52\n",
    "simulations <- 1000\n",
    "Sim_component_1 <- replicate(expr = simulate(object = Arima_1,nsim = future),n = simulations)\n",
    "Sim_component_2 <- replicate(expr = simulate(object = Arima_2,nsim = future),n = simulations)\n",
    "Bt1 <- t(B[,1])\n",
    "Bt2 <- t(B[,2])\n",
    "delta<-matrix(,nrow=future, ncol=simulations)\n",
    "\n",
    "for (i in 1:future){\n",
    "        for (j in 1:simulations){\n",
    "                delta[i,j] <- sum(Sim_component_1[i,j]*Bt1)+sum(Sim_component_2[i,j]*Bt2)\n",
    "        }\n",
    "}\n",
    "delta\n"
   ]
  },
  {
   "cell_type": "code",
   "execution_count": 72,
   "id": "cea8a10e",
   "metadata": {},
   "outputs": [],
   "source": [
    "\n",
    "forwards <- list()\n",
    "for (i in 1:simulations){\n",
    "        newalph <- alpha\n",
    "        for (j in 1:future){\n",
    "                newalph <-  newalph + delta[j,i] \n",
    "                if (j==52){\n",
    "                        forwards <- append(forwards, newalph)\n",
    "                }    \n",
    "        }\n",
    "}\n",
    "matforwards <- matrix(forwards, ncol=5)"
   ]
  },
  {
   "cell_type": "code",
   "execution_count": 73,
   "id": "3bfdeb6e",
   "metadata": {},
   "outputs": [
    {
     "data": {
      "text/html": [
       "<table class=\"dataframe\">\n",
       "<caption>A matrix: 1000 × 5</caption>\n",
       "<tbody>\n",
       "\t<tr><td>0.0007438461</td><td>0.0005853167</td><td>0.000833277</td><td>0.0005898257</td><td>0.0006380283</td></tr>\n",
       "\t<tr><td>0.003898513</td><td>0.003739984</td><td>0.003987944</td><td>0.003744493</td><td>0.003792695</td></tr>\n",
       "\t<tr><td>0.02844332</td><td>0.02828479</td><td>0.02853275</td><td>0.0282893</td><td>0.0283375</td></tr>\n",
       "\t<tr><td>0.05684689</td><td>0.05668836</td><td>0.05693632</td><td>0.05669287</td><td>0.05674107</td></tr>\n",
       "\t<tr><td>0.1086195</td><td>0.108461</td><td>0.1087089</td><td>0.1084655</td><td>0.1085137</td></tr>\n",
       "\t<tr><td>0.0006056544</td><td>0.001074889</td><td>0.0004084169</td><td>0.0007932234</td><td>0.0009547952</td></tr>\n",
       "\t<tr><td>0.003760321</td><td>0.004229556</td><td>0.003563084</td><td>0.00394789</td><td>0.004109462</td></tr>\n",
       "\t<tr><td>0.02830513</td><td>0.02877436</td><td>0.02810789</td><td>0.0284927</td><td>0.02865427</td></tr>\n",
       "\t<tr><td>0.0567087</td><td>0.05717793</td><td>0.05651146</td><td>0.05689627</td><td>0.05705784</td></tr>\n",
       "\t<tr><td>0.1084813</td><td>0.1089505</td><td>0.1082841</td><td>0.1086689</td><td>0.1088304</td></tr>\n",
       "\t<tr><td>0.001124177</td><td>0.0007391106</td><td>0.0006750338</td><td>0.0003911291</td><td>0.001103682</td></tr>\n",
       "\t<tr><td>0.004278844</td><td>0.003893778</td><td>0.003829701</td><td>0.003545796</td><td>0.004258349</td></tr>\n",
       "\t<tr><td>0.02882365</td><td>0.02843859</td><td>0.02837451</td><td>0.0280906</td><td>0.02880316</td></tr>\n",
       "\t<tr><td>0.05722722</td><td>0.05684215</td><td>0.05677808</td><td>0.05649417</td><td>0.05720673</td></tr>\n",
       "\t<tr><td>0.1089998</td><td>0.1086148</td><td>0.1085507</td><td>0.1082668</td><td>0.1089793</td></tr>\n",
       "\t<tr><td>0.0009891468</td><td>0.0005216865</td><td>0.001022296</td><td>0.0006485514</td><td>0.0002762905</td></tr>\n",
       "\t<tr><td>0.004143814</td><td>0.003676354</td><td>0.004176963</td><td>0.003803218</td><td>0.003430958</td></tr>\n",
       "\t<tr><td>0.02868862</td><td>0.02822116</td><td>0.02872177</td><td>0.02834803</td><td>0.02797577</td></tr>\n",
       "\t<tr><td>0.05709219</td><td>0.05662473</td><td>0.05712534</td><td>0.0567516</td><td>0.05637933</td></tr>\n",
       "\t<tr><td>0.1088648</td><td>0.1083973</td><td>0.1088979</td><td>0.1085242</td><td>0.1081519</td></tr>\n",
       "\t<tr><td>0.0005617629</td><td>0.0006642037</td><td>0.0005310472</td><td>0.0004739338</td><td>0.0006967983</td></tr>\n",
       "\t<tr><td>0.00371643</td><td>0.003818871</td><td>0.003685714</td><td>0.003628601</td><td>0.003851465</td></tr>\n",
       "\t<tr><td>0.02826124</td><td>0.02836368</td><td>0.02823052</td><td>0.02817341</td><td>0.02839627</td></tr>\n",
       "\t<tr><td>0.05666481</td><td>0.05676725</td><td>0.05663409</td><td>0.05657698</td><td>0.05679984</td></tr>\n",
       "\t<tr><td>0.1084374</td><td>0.1085399</td><td>0.1084067</td><td>0.1083496</td><td>0.1085725</td></tr>\n",
       "\t<tr><td>0.0005022499</td><td>0.000584132</td><td>0.0007431007</td><td>0.0006703425</td><td>0.0006964413</td></tr>\n",
       "\t<tr><td>0.003656917</td><td>0.003738799</td><td>0.003897768</td><td>0.003825009</td><td>0.003851108</td></tr>\n",
       "\t<tr><td>0.02820173</td><td>0.02828361</td><td>0.02844258</td><td>0.02836982</td><td>0.02839592</td></tr>\n",
       "\t<tr><td>0.05660529</td><td>0.05668718</td><td>0.05684614</td><td>0.05677339</td><td>0.05679949</td></tr>\n",
       "\t<tr><td>0.1083779</td><td>0.1084598</td><td>0.1086188</td><td>0.108546</td><td>0.1085721</td></tr>\n",
       "\t<tr><td>...</td><td>...</td><td>...</td><td>...</td><td>...</td></tr>\n",
       "\t<tr><td>0.0008051377</td><td>0.0006163118</td><td>0.0003891948</td><td>0.0009341108</td><td>0.0004178697</td></tr>\n",
       "\t<tr><td>0.003959805</td><td>0.003770979</td><td>0.003543862</td><td>0.004088778</td><td>0.003572537</td></tr>\n",
       "\t<tr><td>0.02850461</td><td>0.02831579</td><td>0.02808867</td><td>0.02863359</td><td>0.02811734</td></tr>\n",
       "\t<tr><td>0.05690818</td><td>0.05671936</td><td>0.05649224</td><td>0.05703715</td><td>0.05652091</td></tr>\n",
       "\t<tr><td>0.1086808</td><td>0.108492</td><td>0.1082648</td><td>0.1088098</td><td>0.1082935</td></tr>\n",
       "\t<tr><td>0.0005963408</td><td>0.0006589954</td><td>0.0004350912</td><td>0.0008355016</td><td>0.0006769874</td></tr>\n",
       "\t<tr><td>0.003751008</td><td>0.003813662</td><td>0.003589758</td><td>0.003990169</td><td>0.003831654</td></tr>\n",
       "\t<tr><td>0.02829582</td><td>0.02835847</td><td>0.02813457</td><td>0.02853498</td><td>0.02837646</td></tr>\n",
       "\t<tr><td>0.05669938</td><td>0.05676204</td><td>0.05653814</td><td>0.05693855</td><td>0.05678003</td></tr>\n",
       "\t<tr><td>0.108472</td><td>0.1085346</td><td>0.1083107</td><td>0.1087112</td><td>0.1085526</td></tr>\n",
       "\t<tr><td>0.0006371985</td><td>0.0009413644</td><td>0.0009294108</td><td>0.0007420796</td><td>0.0008580912</td></tr>\n",
       "\t<tr><td>0.003791866</td><td>0.004096031</td><td>0.004084078</td><td>0.003896747</td><td>0.004012758</td></tr>\n",
       "\t<tr><td>0.02833667</td><td>0.02864084</td><td>0.02862889</td><td>0.02844155</td><td>0.02855757</td></tr>\n",
       "\t<tr><td>0.05674024</td><td>0.05704441</td><td>0.05703245</td><td>0.05684512</td><td>0.05696114</td></tr>\n",
       "\t<tr><td>0.1085129</td><td>0.108817</td><td>0.1088051</td><td>0.1086177</td><td>0.1087337</td></tr>\n",
       "\t<tr><td>0.0007688246</td><td>0.000889146</td><td>0.0009727547</td><td>0.001193813</td><td>0.0006364222</td></tr>\n",
       "\t<tr><td>0.003923492</td><td>0.004043813</td><td>0.004127422</td><td>0.00434848</td><td>0.003791089</td></tr>\n",
       "\t<tr><td>0.0284683</td><td>0.02858862</td><td>0.02867223</td><td>0.02889329</td><td>0.0283359</td></tr>\n",
       "\t<tr><td>0.05687187</td><td>0.05699219</td><td>0.0570758</td><td>0.05729686</td><td>0.05673947</td></tr>\n",
       "\t<tr><td>0.1086445</td><td>0.1087648</td><td>0.1088484</td><td>0.1090695</td><td>0.1085121</td></tr>\n",
       "\t<tr><td>0.0008222588</td><td>0.0008753187</td><td>0.0006114263</td><td>0.001132209</td><td>0.0007713323</td></tr>\n",
       "\t<tr><td>0.003976926</td><td>0.004029986</td><td>0.003766093</td><td>0.004286876</td><td>0.003925999</td></tr>\n",
       "\t<tr><td>0.02852173</td><td>0.02857479</td><td>0.0283109</td><td>0.02883168</td><td>0.02847081</td></tr>\n",
       "\t<tr><td>0.0569253</td><td>0.05697836</td><td>0.05671447</td><td>0.05723525</td><td>0.05687438</td></tr>\n",
       "\t<tr><td>0.1086979</td><td>0.108751</td><td>0.1084871</td><td>0.1090079</td><td>0.108647</td></tr>\n",
       "\t<tr><td>0.0005790684</td><td>0.0006241472</td><td>0.0009136987</td><td>0.0008130424</td><td>0.0007144717</td></tr>\n",
       "\t<tr><td>0.003733735</td><td>0.003778814</td><td>0.004068366</td><td>0.003967709</td><td>0.003869139</td></tr>\n",
       "\t<tr><td>0.02827854</td><td>0.02832362</td><td>0.02861317</td><td>0.02851252</td><td>0.02841395</td></tr>\n",
       "\t<tr><td>0.05668211</td><td>0.05672719</td><td>0.05701674</td><td>0.05691609</td><td>0.05681752</td></tr>\n",
       "\t<tr><td>0.1084547</td><td>0.1084998</td><td>0.1087894</td><td>0.1086887</td><td>0.1085901</td></tr>\n",
       "</tbody>\n",
       "</table>\n"
      ],
      "text/latex": [
       "A matrix: 1000 × 5\n",
       "\\begin{tabular}{lllll}\n",
       "\t 0.0007438461 & 0.0005853167 & 0.000833277 & 0.0005898257 & 0.0006380283\\\\\n",
       "\t 0.003898513 & 0.003739984 & 0.003987944 & 0.003744493 & 0.003792695\\\\\n",
       "\t 0.02844332 & 0.02828479 & 0.02853275 & 0.0282893 & 0.0283375\\\\\n",
       "\t 0.05684689 & 0.05668836 & 0.05693632 & 0.05669287 & 0.05674107\\\\\n",
       "\t 0.1086195 & 0.108461 & 0.1087089 & 0.1084655 & 0.1085137\\\\\n",
       "\t 0.0006056544 & 0.001074889 & 0.0004084169 & 0.0007932234 & 0.0009547952\\\\\n",
       "\t 0.003760321 & 0.004229556 & 0.003563084 & 0.00394789 & 0.004109462\\\\\n",
       "\t 0.02830513 & 0.02877436 & 0.02810789 & 0.0284927 & 0.02865427\\\\\n",
       "\t 0.0567087 & 0.05717793 & 0.05651146 & 0.05689627 & 0.05705784\\\\\n",
       "\t 0.1084813 & 0.1089505 & 0.1082841 & 0.1086689 & 0.1088304\\\\\n",
       "\t 0.001124177 & 0.0007391106 & 0.0006750338 & 0.0003911291 & 0.001103682\\\\\n",
       "\t 0.004278844 & 0.003893778 & 0.003829701 & 0.003545796 & 0.004258349\\\\\n",
       "\t 0.02882365 & 0.02843859 & 0.02837451 & 0.0280906 & 0.02880316\\\\\n",
       "\t 0.05722722 & 0.05684215 & 0.05677808 & 0.05649417 & 0.05720673\\\\\n",
       "\t 0.1089998 & 0.1086148 & 0.1085507 & 0.1082668 & 0.1089793\\\\\n",
       "\t 0.0009891468 & 0.0005216865 & 0.001022296 & 0.0006485514 & 0.0002762905\\\\\n",
       "\t 0.004143814 & 0.003676354 & 0.004176963 & 0.003803218 & 0.003430958\\\\\n",
       "\t 0.02868862 & 0.02822116 & 0.02872177 & 0.02834803 & 0.02797577\\\\\n",
       "\t 0.05709219 & 0.05662473 & 0.05712534 & 0.0567516 & 0.05637933\\\\\n",
       "\t 0.1088648 & 0.1083973 & 0.1088979 & 0.1085242 & 0.1081519\\\\\n",
       "\t 0.0005617629 & 0.0006642037 & 0.0005310472 & 0.0004739338 & 0.0006967983\\\\\n",
       "\t 0.00371643 & 0.003818871 & 0.003685714 & 0.003628601 & 0.003851465\\\\\n",
       "\t 0.02826124 & 0.02836368 & 0.02823052 & 0.02817341 & 0.02839627\\\\\n",
       "\t 0.05666481 & 0.05676725 & 0.05663409 & 0.05657698 & 0.05679984\\\\\n",
       "\t 0.1084374 & 0.1085399 & 0.1084067 & 0.1083496 & 0.1085725\\\\\n",
       "\t 0.0005022499 & 0.000584132 & 0.0007431007 & 0.0006703425 & 0.0006964413\\\\\n",
       "\t 0.003656917 & 0.003738799 & 0.003897768 & 0.003825009 & 0.003851108\\\\\n",
       "\t 0.02820173 & 0.02828361 & 0.02844258 & 0.02836982 & 0.02839592\\\\\n",
       "\t 0.05660529 & 0.05668718 & 0.05684614 & 0.05677339 & 0.05679949\\\\\n",
       "\t 0.1083779 & 0.1084598 & 0.1086188 & 0.108546 & 0.1085721\\\\\n",
       "\t ... & ... & ... & ... & ...\\\\\n",
       "\t 0.0008051377 & 0.0006163118 & 0.0003891948 & 0.0009341108 & 0.0004178697\\\\\n",
       "\t 0.003959805 & 0.003770979 & 0.003543862 & 0.004088778 & 0.003572537\\\\\n",
       "\t 0.02850461 & 0.02831579 & 0.02808867 & 0.02863359 & 0.02811734\\\\\n",
       "\t 0.05690818 & 0.05671936 & 0.05649224 & 0.05703715 & 0.05652091\\\\\n",
       "\t 0.1086808 & 0.108492 & 0.1082648 & 0.1088098 & 0.1082935\\\\\n",
       "\t 0.0005963408 & 0.0006589954 & 0.0004350912 & 0.0008355016 & 0.0006769874\\\\\n",
       "\t 0.003751008 & 0.003813662 & 0.003589758 & 0.003990169 & 0.003831654\\\\\n",
       "\t 0.02829582 & 0.02835847 & 0.02813457 & 0.02853498 & 0.02837646\\\\\n",
       "\t 0.05669938 & 0.05676204 & 0.05653814 & 0.05693855 & 0.05678003\\\\\n",
       "\t 0.108472 & 0.1085346 & 0.1083107 & 0.1087112 & 0.1085526\\\\\n",
       "\t 0.0006371985 & 0.0009413644 & 0.0009294108 & 0.0007420796 & 0.0008580912\\\\\n",
       "\t 0.003791866 & 0.004096031 & 0.004084078 & 0.003896747 & 0.004012758\\\\\n",
       "\t 0.02833667 & 0.02864084 & 0.02862889 & 0.02844155 & 0.02855757\\\\\n",
       "\t 0.05674024 & 0.05704441 & 0.05703245 & 0.05684512 & 0.05696114\\\\\n",
       "\t 0.1085129 & 0.108817 & 0.1088051 & 0.1086177 & 0.1087337\\\\\n",
       "\t 0.0007688246 & 0.000889146 & 0.0009727547 & 0.001193813 & 0.0006364222\\\\\n",
       "\t 0.003923492 & 0.004043813 & 0.004127422 & 0.00434848 & 0.003791089\\\\\n",
       "\t 0.0284683 & 0.02858862 & 0.02867223 & 0.02889329 & 0.0283359\\\\\n",
       "\t 0.05687187 & 0.05699219 & 0.0570758 & 0.05729686 & 0.05673947\\\\\n",
       "\t 0.1086445 & 0.1087648 & 0.1088484 & 0.1090695 & 0.1085121\\\\\n",
       "\t 0.0008222588 & 0.0008753187 & 0.0006114263 & 0.001132209 & 0.0007713323\\\\\n",
       "\t 0.003976926 & 0.004029986 & 0.003766093 & 0.004286876 & 0.003925999\\\\\n",
       "\t 0.02852173 & 0.02857479 & 0.0283109 & 0.02883168 & 0.02847081\\\\\n",
       "\t 0.0569253 & 0.05697836 & 0.05671447 & 0.05723525 & 0.05687438\\\\\n",
       "\t 0.1086979 & 0.108751 & 0.1084871 & 0.1090079 & 0.108647\\\\\n",
       "\t 0.0005790684 & 0.0006241472 & 0.0009136987 & 0.0008130424 & 0.0007144717\\\\\n",
       "\t 0.003733735 & 0.003778814 & 0.004068366 & 0.003967709 & 0.003869139\\\\\n",
       "\t 0.02827854 & 0.02832362 & 0.02861317 & 0.02851252 & 0.02841395\\\\\n",
       "\t 0.05668211 & 0.05672719 & 0.05701674 & 0.05691609 & 0.05681752\\\\\n",
       "\t 0.1084547 & 0.1084998 & 0.1087894 & 0.1086887 & 0.1085901\\\\\n",
       "\\end{tabular}\n"
      ],
      "text/markdown": [
       "\n",
       "A matrix: 1000 × 5\n",
       "\n",
       "| 0.0007438461 | 0.0005853167 | 0.000833277 | 0.0005898257 | 0.0006380283 |\n",
       "| 0.003898513 | 0.003739984 | 0.003987944 | 0.003744493 | 0.003792695 |\n",
       "| 0.02844332 | 0.02828479 | 0.02853275 | 0.0282893 | 0.0283375 |\n",
       "| 0.05684689 | 0.05668836 | 0.05693632 | 0.05669287 | 0.05674107 |\n",
       "| 0.1086195 | 0.108461 | 0.1087089 | 0.1084655 | 0.1085137 |\n",
       "| 0.0006056544 | 0.001074889 | 0.0004084169 | 0.0007932234 | 0.0009547952 |\n",
       "| 0.003760321 | 0.004229556 | 0.003563084 | 0.00394789 | 0.004109462 |\n",
       "| 0.02830513 | 0.02877436 | 0.02810789 | 0.0284927 | 0.02865427 |\n",
       "| 0.0567087 | 0.05717793 | 0.05651146 | 0.05689627 | 0.05705784 |\n",
       "| 0.1084813 | 0.1089505 | 0.1082841 | 0.1086689 | 0.1088304 |\n",
       "| 0.001124177 | 0.0007391106 | 0.0006750338 | 0.0003911291 | 0.001103682 |\n",
       "| 0.004278844 | 0.003893778 | 0.003829701 | 0.003545796 | 0.004258349 |\n",
       "| 0.02882365 | 0.02843859 | 0.02837451 | 0.0280906 | 0.02880316 |\n",
       "| 0.05722722 | 0.05684215 | 0.05677808 | 0.05649417 | 0.05720673 |\n",
       "| 0.1089998 | 0.1086148 | 0.1085507 | 0.1082668 | 0.1089793 |\n",
       "| 0.0009891468 | 0.0005216865 | 0.001022296 | 0.0006485514 | 0.0002762905 |\n",
       "| 0.004143814 | 0.003676354 | 0.004176963 | 0.003803218 | 0.003430958 |\n",
       "| 0.02868862 | 0.02822116 | 0.02872177 | 0.02834803 | 0.02797577 |\n",
       "| 0.05709219 | 0.05662473 | 0.05712534 | 0.0567516 | 0.05637933 |\n",
       "| 0.1088648 | 0.1083973 | 0.1088979 | 0.1085242 | 0.1081519 |\n",
       "| 0.0005617629 | 0.0006642037 | 0.0005310472 | 0.0004739338 | 0.0006967983 |\n",
       "| 0.00371643 | 0.003818871 | 0.003685714 | 0.003628601 | 0.003851465 |\n",
       "| 0.02826124 | 0.02836368 | 0.02823052 | 0.02817341 | 0.02839627 |\n",
       "| 0.05666481 | 0.05676725 | 0.05663409 | 0.05657698 | 0.05679984 |\n",
       "| 0.1084374 | 0.1085399 | 0.1084067 | 0.1083496 | 0.1085725 |\n",
       "| 0.0005022499 | 0.000584132 | 0.0007431007 | 0.0006703425 | 0.0006964413 |\n",
       "| 0.003656917 | 0.003738799 | 0.003897768 | 0.003825009 | 0.003851108 |\n",
       "| 0.02820173 | 0.02828361 | 0.02844258 | 0.02836982 | 0.02839592 |\n",
       "| 0.05660529 | 0.05668718 | 0.05684614 | 0.05677339 | 0.05679949 |\n",
       "| 0.1083779 | 0.1084598 | 0.1086188 | 0.108546 | 0.1085721 |\n",
       "| ... | ... | ... | ... | ... |\n",
       "| 0.0008051377 | 0.0006163118 | 0.0003891948 | 0.0009341108 | 0.0004178697 |\n",
       "| 0.003959805 | 0.003770979 | 0.003543862 | 0.004088778 | 0.003572537 |\n",
       "| 0.02850461 | 0.02831579 | 0.02808867 | 0.02863359 | 0.02811734 |\n",
       "| 0.05690818 | 0.05671936 | 0.05649224 | 0.05703715 | 0.05652091 |\n",
       "| 0.1086808 | 0.108492 | 0.1082648 | 0.1088098 | 0.1082935 |\n",
       "| 0.0005963408 | 0.0006589954 | 0.0004350912 | 0.0008355016 | 0.0006769874 |\n",
       "| 0.003751008 | 0.003813662 | 0.003589758 | 0.003990169 | 0.003831654 |\n",
       "| 0.02829582 | 0.02835847 | 0.02813457 | 0.02853498 | 0.02837646 |\n",
       "| 0.05669938 | 0.05676204 | 0.05653814 | 0.05693855 | 0.05678003 |\n",
       "| 0.108472 | 0.1085346 | 0.1083107 | 0.1087112 | 0.1085526 |\n",
       "| 0.0006371985 | 0.0009413644 | 0.0009294108 | 0.0007420796 | 0.0008580912 |\n",
       "| 0.003791866 | 0.004096031 | 0.004084078 | 0.003896747 | 0.004012758 |\n",
       "| 0.02833667 | 0.02864084 | 0.02862889 | 0.02844155 | 0.02855757 |\n",
       "| 0.05674024 | 0.05704441 | 0.05703245 | 0.05684512 | 0.05696114 |\n",
       "| 0.1085129 | 0.108817 | 0.1088051 | 0.1086177 | 0.1087337 |\n",
       "| 0.0007688246 | 0.000889146 | 0.0009727547 | 0.001193813 | 0.0006364222 |\n",
       "| 0.003923492 | 0.004043813 | 0.004127422 | 0.00434848 | 0.003791089 |\n",
       "| 0.0284683 | 0.02858862 | 0.02867223 | 0.02889329 | 0.0283359 |\n",
       "| 0.05687187 | 0.05699219 | 0.0570758 | 0.05729686 | 0.05673947 |\n",
       "| 0.1086445 | 0.1087648 | 0.1088484 | 0.1090695 | 0.1085121 |\n",
       "| 0.0008222588 | 0.0008753187 | 0.0006114263 | 0.001132209 | 0.0007713323 |\n",
       "| 0.003976926 | 0.004029986 | 0.003766093 | 0.004286876 | 0.003925999 |\n",
       "| 0.02852173 | 0.02857479 | 0.0283109 | 0.02883168 | 0.02847081 |\n",
       "| 0.0569253 | 0.05697836 | 0.05671447 | 0.05723525 | 0.05687438 |\n",
       "| 0.1086979 | 0.108751 | 0.1084871 | 0.1090079 | 0.108647 |\n",
       "| 0.0005790684 | 0.0006241472 | 0.0009136987 | 0.0008130424 | 0.0007144717 |\n",
       "| 0.003733735 | 0.003778814 | 0.004068366 | 0.003967709 | 0.003869139 |\n",
       "| 0.02827854 | 0.02832362 | 0.02861317 | 0.02851252 | 0.02841395 |\n",
       "| 0.05668211 | 0.05672719 | 0.05701674 | 0.05691609 | 0.05681752 |\n",
       "| 0.1084547 | 0.1084998 | 0.1087894 | 0.1086887 | 0.1085901 |\n",
       "\n"
      ],
      "text/plain": [
       "      [,1]         [,2]         [,3]         [,4]         [,5]        \n",
       " [1,] 0.0007438461 0.0005853167 0.000833277  0.0005898257 0.0006380283\n",
       " [2,] 0.003898513  0.003739984  0.003987944  0.003744493  0.003792695 \n",
       " [3,] 0.02844332   0.02828479   0.02853275   0.0282893    0.0283375   \n",
       " [4,] 0.05684689   0.05668836   0.05693632   0.05669287   0.05674107  \n",
       " [5,] 0.1086195    0.108461     0.1087089    0.1084655    0.1085137   \n",
       " [6,] 0.0006056544 0.001074889  0.0004084169 0.0007932234 0.0009547952\n",
       " [7,] 0.003760321  0.004229556  0.003563084  0.00394789   0.004109462 \n",
       " [8,] 0.02830513   0.02877436   0.02810789   0.0284927    0.02865427  \n",
       " [9,] 0.0567087    0.05717793   0.05651146   0.05689627   0.05705784  \n",
       "[10,] 0.1084813    0.1089505    0.1082841    0.1086689    0.1088304   \n",
       "[11,] 0.001124177  0.0007391106 0.0006750338 0.0003911291 0.001103682 \n",
       "[12,] 0.004278844  0.003893778  0.003829701  0.003545796  0.004258349 \n",
       "[13,] 0.02882365   0.02843859   0.02837451   0.0280906    0.02880316  \n",
       "[14,] 0.05722722   0.05684215   0.05677808   0.05649417   0.05720673  \n",
       "[15,] 0.1089998    0.1086148    0.1085507    0.1082668    0.1089793   \n",
       "[16,] 0.0009891468 0.0005216865 0.001022296  0.0006485514 0.0002762905\n",
       "[17,] 0.004143814  0.003676354  0.004176963  0.003803218  0.003430958 \n",
       "[18,] 0.02868862   0.02822116   0.02872177   0.02834803   0.02797577  \n",
       "[19,] 0.05709219   0.05662473   0.05712534   0.0567516    0.05637933  \n",
       "[20,] 0.1088648    0.1083973    0.1088979    0.1085242    0.1081519   \n",
       "[21,] 0.0005617629 0.0006642037 0.0005310472 0.0004739338 0.0006967983\n",
       "[22,] 0.00371643   0.003818871  0.003685714  0.003628601  0.003851465 \n",
       "[23,] 0.02826124   0.02836368   0.02823052   0.02817341   0.02839627  \n",
       "[24,] 0.05666481   0.05676725   0.05663409   0.05657698   0.05679984  \n",
       "[25,] 0.1084374    0.1085399    0.1084067    0.1083496    0.1085725   \n",
       "[26,] 0.0005022499 0.000584132  0.0007431007 0.0006703425 0.0006964413\n",
       "[27,] 0.003656917  0.003738799  0.003897768  0.003825009  0.003851108 \n",
       "[28,] 0.02820173   0.02828361   0.02844258   0.02836982   0.02839592  \n",
       "[29,] 0.05660529   0.05668718   0.05684614   0.05677339   0.05679949  \n",
       "[30,] 0.1083779    0.1084598    0.1086188    0.108546     0.1085721   \n",
       "[31,] ...          ...          ...          ...          ...         \n",
       "[32,] 0.0008051377 0.0006163118 0.0003891948 0.0009341108 0.0004178697\n",
       "[33,] 0.003959805  0.003770979  0.003543862  0.004088778  0.003572537 \n",
       "[34,] 0.02850461   0.02831579   0.02808867   0.02863359   0.02811734  \n",
       "[35,] 0.05690818   0.05671936   0.05649224   0.05703715   0.05652091  \n",
       "[36,] 0.1086808    0.108492     0.1082648    0.1088098    0.1082935   \n",
       "[37,] 0.0005963408 0.0006589954 0.0004350912 0.0008355016 0.0006769874\n",
       "[38,] 0.003751008  0.003813662  0.003589758  0.003990169  0.003831654 \n",
       "[39,] 0.02829582   0.02835847   0.02813457   0.02853498   0.02837646  \n",
       "[40,] 0.05669938   0.05676204   0.05653814   0.05693855   0.05678003  \n",
       "[41,] 0.108472     0.1085346    0.1083107    0.1087112    0.1085526   \n",
       "[42,] 0.0006371985 0.0009413644 0.0009294108 0.0007420796 0.0008580912\n",
       "[43,] 0.003791866  0.004096031  0.004084078  0.003896747  0.004012758 \n",
       "[44,] 0.02833667   0.02864084   0.02862889   0.02844155   0.02855757  \n",
       "[45,] 0.05674024   0.05704441   0.05703245   0.05684512   0.05696114  \n",
       "[46,] 0.1085129    0.108817     0.1088051    0.1086177    0.1087337   \n",
       "[47,] 0.0007688246 0.000889146  0.0009727547 0.001193813  0.0006364222\n",
       "[48,] 0.003923492  0.004043813  0.004127422  0.00434848   0.003791089 \n",
       "[49,] 0.0284683    0.02858862   0.02867223   0.02889329   0.0283359   \n",
       "[50,] 0.05687187   0.05699219   0.0570758    0.05729686   0.05673947  \n",
       "[51,] 0.1086445    0.1087648    0.1088484    0.1090695    0.1085121   \n",
       "[52,] 0.0008222588 0.0008753187 0.0006114263 0.001132209  0.0007713323\n",
       "[53,] 0.003976926  0.004029986  0.003766093  0.004286876  0.003925999 \n",
       "[54,] 0.02852173   0.02857479   0.0283109    0.02883168   0.02847081  \n",
       "[55,] 0.0569253    0.05697836   0.05671447   0.05723525   0.05687438  \n",
       "[56,] 0.1086979    0.108751     0.1084871    0.1090079    0.108647    \n",
       "[57,] 0.0005790684 0.0006241472 0.0009136987 0.0008130424 0.0007144717\n",
       "[58,] 0.003733735  0.003778814  0.004068366  0.003967709  0.003869139 \n",
       "[59,] 0.02827854   0.02832362   0.02861317   0.02851252   0.02841395  \n",
       "[60,] 0.05668211   0.05672719   0.05701674   0.05691609   0.05681752  \n",
       "[61,] 0.1084547    0.1084998    0.1087894    0.1086887    0.1085901   "
      ]
     },
     "metadata": {},
     "output_type": "display_data"
    }
   ],
   "source": [
    "matforwards"
   ]
  },
  {
   "cell_type": "code",
   "execution_count": 88,
   "id": "629609d6",
   "metadata": {},
   "outputs": [
    {
     "ename": "ERROR",
     "evalue": "Error in ((minimum - intervals_l)/12) * curve: argumento no-numérico para operador binario\n",
     "output_type": "error",
     "traceback": [
      "Error in ((minimum - intervals_l)/12) * curve: argumento no-numérico para operador binario\nTraceback:\n",
      "1. DiscountFactor(alpha[4], 84)"
     ]
    }
   ],
   "source": [
    "couponsim <- list()\n",
    "for (i in 1:simulations){\n",
    "    alpha <- as.vector(matforwards[i,])\n",
    "        pvnotional <- 100 - DiscountFactor(alpha[4], 84)*100\n",
    "        pvnotional\n",
    "        couponsum <- function (c){\n",
    "        pvcoupon <- DiscountFactor(alpha[2], 12)*RateConverter(c, 12,today) + DiscountFactor(alpha[2], 24)*RateConverter(c,24,today) +\n",
    "        DiscountFactor(alpha[3], 36)*RateConverter(c, 36,today) +DiscountFactor(alpha[3], 48)*RateConverter(c, 48,today) +\n",
    "        DiscountFactor(alpha[4], 60)*RateConverter(c, 60,today) + DiscountFactor(alpha[4], 72)*RateConverter(c, 72,today) +  \n",
    "        DiscountFactor(alpha[4], 84)*RateConverter(c, 84,today) + DiscountFactor(alpha[4], 84)*RateConverter(c, 84,today)\n",
    "        result <-pvnotional- pvcoupon\n",
    "            if (result <0){\n",
    "                return (500)\n",
    "            }\n",
    "            else {\n",
    "                return (pvnotional- pvcoupon)\n",
    "            }\n",
    "            \n",
    "        }\n",
    "}\n",
    "matcoupon <- matrix(couponsim, ncol=1)"
   ]
  },
  {
   "cell_type": "code",
   "execution_count": null,
   "id": "d27117f9",
   "metadata": {},
   "outputs": [],
   "source": [
    "hist(matcoupon)"
   ]
  },
  {
   "cell_type": "code",
   "execution_count": 82,
   "id": "a25cbd74",
   "metadata": {},
   "outputs": [
    {
     "data": {
      "text/html": [
       "<ol>\n",
       "\t<li>0.000589825668784803</li>\n",
       "</ol>\n"
      ],
      "text/latex": [
       "\\begin{enumerate}\n",
       "\\item 0.000589825668784803\n",
       "\\end{enumerate}\n"
      ],
      "text/markdown": [
       "1. 0.000589825668784803\n",
       "\n",
       "\n"
      ],
      "text/plain": [
       "[[1]]\n",
       "[1] 0.0005898257\n"
      ]
     },
     "metadata": {},
     "output_type": "display_data"
    }
   ],
   "source": [
    "as.vector(matforwards[1,])[4]"
   ]
  }
 ],
 "metadata": {
  "kernelspec": {
   "display_name": "R",
   "language": "R",
   "name": "ir"
  },
  "language_info": {
   "codemirror_mode": "r",
   "file_extension": ".r",
   "mimetype": "text/x-r-source",
   "name": "R",
   "pygments_lexer": "r",
   "version": "3.6.1"
  }
 },
 "nbformat": 4,
 "nbformat_minor": 5
}
