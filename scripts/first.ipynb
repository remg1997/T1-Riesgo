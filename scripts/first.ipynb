{
 "cells": [
  {
   "cell_type": "code",
   "execution_count": 1,
   "id": "fd9a067d-bee2-44b6-97f5-5b0a841eacab",
   "metadata": {},
   "outputs": [
    {
     "data": {
      "text/html": [
       "<style>\n",
       ".list-inline {list-style: none; margin:0; padding: 0}\n",
       ".list-inline>li {display: inline-block}\n",
       ".list-inline>li:not(:last-child)::after {content: \"\\00b7\"; padding: 0 .5ex}\n",
       "</style>\n",
       "<ol class=list-inline><li>'.GlobalEnv'</li><li>'jupyter:irkernel'</li><li>'jupyter:irkernel'</li><li>'package:stats'</li><li>'package:graphics'</li><li>'package:grDevices'</li><li>'package:utils'</li><li>'package:datasets'</li><li>'package:methods'</li><li>'Autoloads'</li><li>'package:base'</li></ol>\n"
      ],
      "text/latex": [
       "\\begin{enumerate*}\n",
       "\\item '.GlobalEnv'\n",
       "\\item 'jupyter:irkernel'\n",
       "\\item 'jupyter:irkernel'\n",
       "\\item 'package:stats'\n",
       "\\item 'package:graphics'\n",
       "\\item 'package:grDevices'\n",
       "\\item 'package:utils'\n",
       "\\item 'package:datasets'\n",
       "\\item 'package:methods'\n",
       "\\item 'Autoloads'\n",
       "\\item 'package:base'\n",
       "\\end{enumerate*}\n"
      ],
      "text/markdown": [
       "1. '.GlobalEnv'\n",
       "2. 'jupyter:irkernel'\n",
       "3. 'jupyter:irkernel'\n",
       "4. 'package:stats'\n",
       "5. 'package:graphics'\n",
       "6. 'package:grDevices'\n",
       "7. 'package:utils'\n",
       "8. 'package:datasets'\n",
       "9. 'package:methods'\n",
       "10. 'Autoloads'\n",
       "11. 'package:base'\n",
       "\n",
       "\n"
      ],
      "text/plain": [
       " [1] \".GlobalEnv\"        \"jupyter:irkernel\"  \"jupyter:irkernel\" \n",
       " [4] \"package:stats\"     \"package:graphics\"  \"package:grDevices\"\n",
       " [7] \"package:utils\"     \"package:datasets\"  \"package:methods\"  \n",
       "[10] \"Autoloads\"         \"package:base\"     "
      ]
     },
     "metadata": {},
     "output_type": "display_data"
    }
   ],
   "source": [
    "search()"
   ]
  },
  {
   "cell_type": "code",
   "execution_count": 2,
   "id": "5ba0a704-f05a-4a5f-a80e-2af93790495f",
   "metadata": {},
   "outputs": [],
   "source": [
    "source(\"helpers.R\")"
   ]
  },
  {
   "cell_type": "code",
   "execution_count": 3,
   "id": "aeef287d-a904-490e-bd82-a5d0f2c91add",
   "metadata": {},
   "outputs": [
    {
     "name": "stderr",
     "output_type": "stream",
     "text": [
      "Warning message:\n",
      "\"package 'readxl' was built under R version 3.6.3\""
     ]
    }
   ],
   "source": [
    "library(\"readxl\")"
   ]
  },
  {
   "cell_type": "code",
   "execution_count": 4,
   "id": "9f0daf38-b921-4bb5-8ae8-d7111b9c9888",
   "metadata": {},
   "outputs": [],
   "source": [
    "path <- \"../data/data.xlsx\""
   ]
  },
  {
   "cell_type": "code",
   "execution_count": 5,
   "id": "1273d7c3-de1a-4dd6-92b4-ac589352aecd",
   "metadata": {},
   "outputs": [],
   "source": [
    "df <- dataframing(path)"
   ]
  },
  {
   "cell_type": "code",
   "execution_count": 6,
   "id": "1c6c4657-2e89-4351-8191-bbbe5ca4f1b6",
   "metadata": {},
   "outputs": [
    {
     "data": {
      "text/html": [
       "<table class=\"dataframe\">\n",
       "<caption>A data.frame: 210 × 9</caption>\n",
       "<thead>\n",
       "\t<tr><th scope=col>Date</th><th scope=col>10Y</th><th scope=col>7Y</th><th scope=col>5Y</th><th scope=col>3Y</th><th scope=col>2Y</th><th scope=col>1Y</th><th scope=col>6M</th><th scope=col>3M</th></tr>\n",
       "\t<tr><th scope=col>&lt;dttm&gt;</th><th scope=col>&lt;dbl&gt;</th><th scope=col>&lt;dbl&gt;</th><th scope=col>&lt;dbl&gt;</th><th scope=col>&lt;dbl&gt;</th><th scope=col>&lt;dbl&gt;</th><th scope=col>&lt;dbl&gt;</th><th scope=col>&lt;dbl&gt;</th><th scope=col>&lt;dbl&gt;</th></tr>\n",
       "</thead>\n",
       "<tbody>\n",
       "\t<tr><td>2018-02-16</td><td>2.876</td><td>2.805</td><td>2.630</td><td>2.385</td><td>2.192</td><td>1.975</td><td>1.825</td><td>1.594</td></tr>\n",
       "\t<tr><td>2018-02-23</td><td>2.868</td><td>2.791</td><td>2.619</td><td>2.388</td><td>2.240</td><td>2.001</td><td>1.852</td><td>1.641</td></tr>\n",
       "\t<tr><td>2018-03-02</td><td>2.865</td><td>2.788</td><td>2.629</td><td>2.397</td><td>2.243</td><td>2.044</td><td>1.841</td><td>1.644</td></tr>\n",
       "\t<tr><td>2018-03-09</td><td>2.895</td><td>2.811</td><td>2.651</td><td>2.432</td><td>2.260</td><td>2.023</td><td>1.874</td><td>1.664</td></tr>\n",
       "\t<tr><td>2018-03-16</td><td>2.845</td><td>2.778</td><td>2.643</td><td>2.444</td><td>2.293</td><td>2.054</td><td>1.945</td><td>1.773</td></tr>\n",
       "\t<tr><td>2018-03-23</td><td>2.814</td><td>2.740</td><td>2.600</td><td>2.404</td><td>2.256</td><td>2.017</td><td>1.902</td><td>1.720</td></tr>\n",
       "\t<tr><td>2018-03-30</td><td>2.740</td><td>2.685</td><td>2.563</td><td>2.384</td><td>2.268</td><td>2.090</td><td>1.918</td><td>1.706</td></tr>\n",
       "\t<tr><td>2018-04-06</td><td>2.774</td><td>2.708</td><td>2.587</td><td>2.401</td><td>2.268</td><td>2.049</td><td>1.896</td><td>1.712</td></tr>\n",
       "\t<tr><td>2018-04-13</td><td>2.828</td><td>2.778</td><td>2.673</td><td>2.502</td><td>2.359</td><td>2.095</td><td>1.956</td><td>1.752</td></tr>\n",
       "\t<tr><td>2018-04-20</td><td>2.961</td><td>2.914</td><td>2.801</td><td>2.618</td><td>2.459</td><td>2.195</td><td>2.003</td><td>1.805</td></tr>\n",
       "\t<tr><td>2018-04-27</td><td>2.958</td><td>2.921</td><td>2.801</td><td>2.619</td><td>2.485</td><td>2.234</td><td>2.011</td><td>1.807</td></tr>\n",
       "\t<tr><td>2018-05-04</td><td>2.951</td><td>2.901</td><td>2.785</td><td>2.635</td><td>2.499</td><td>2.233</td><td>2.026</td><td>1.830</td></tr>\n",
       "\t<tr><td>2018-05-11</td><td>2.971</td><td>2.941</td><td>2.839</td><td>2.692</td><td>2.538</td><td>2.252</td><td>2.047</td><td>1.902</td></tr>\n",
       "\t<tr><td>2018-05-18</td><td>3.057</td><td>3.012</td><td>2.889</td><td>2.714</td><td>2.549</td><td>2.293</td><td>2.082</td><td>1.891</td></tr>\n",
       "\t<tr><td>2018-05-25</td><td>2.932</td><td>2.886</td><td>2.766</td><td>2.610</td><td>2.478</td><td>2.251</td><td>2.066</td><td>1.892</td></tr>\n",
       "\t<tr><td>2018-06-01</td><td>2.903</td><td>2.859</td><td>2.749</td><td>2.601</td><td>2.473</td><td>2.259</td><td>2.091</td><td>1.907</td></tr>\n",
       "\t<tr><td>2018-06-08</td><td>2.947</td><td>2.899</td><td>2.785</td><td>2.634</td><td>2.500</td><td>2.286</td><td>2.106</td><td>1.915</td></tr>\n",
       "\t<tr><td>2018-06-15</td><td>2.921</td><td>2.889</td><td>2.798</td><td>2.676</td><td>2.548</td><td>2.306</td><td>2.065</td><td>1.924</td></tr>\n",
       "\t<tr><td>2018-06-22</td><td>2.896</td><td>2.854</td><td>2.768</td><td>2.643</td><td>2.543</td><td>2.323</td><td>2.089</td><td>1.912</td></tr>\n",
       "\t<tr><td>2018-06-29</td><td>2.861</td><td>2.823</td><td>2.739</td><td>2.623</td><td>2.530</td><td>2.314</td><td>2.109</td><td>1.917</td></tr>\n",
       "\t<tr><td>2018-07-06</td><td>2.823</td><td>2.791</td><td>2.719</td><td>2.632</td><td>2.539</td><td>2.307</td><td>2.110</td><td>1.946</td></tr>\n",
       "\t<tr><td>2018-07-13</td><td>2.828</td><td>2.796</td><td>2.726</td><td>2.654</td><td>2.580</td><td>2.347</td><td>2.158</td><td>1.971</td></tr>\n",
       "\t<tr><td>2018-07-20</td><td>2.894</td><td>2.849</td><td>2.765</td><td>2.678</td><td>2.594</td><td>2.393</td><td>2.139</td><td>1.974</td></tr>\n",
       "\t<tr><td>2018-07-27</td><td>2.955</td><td>2.918</td><td>2.840</td><td>2.762</td><td>2.671</td><td>2.406</td><td>2.180</td><td>1.985</td></tr>\n",
       "\t<tr><td>2018-08-03</td><td>2.950</td><td>2.901</td><td>2.813</td><td>2.732</td><td>2.644</td><td>2.413</td><td>2.208</td><td>2.004</td></tr>\n",
       "\t<tr><td>2018-08-10</td><td>2.874</td><td>2.824</td><td>2.746</td><td>2.680</td><td>2.606</td><td>2.399</td><td>2.220</td><td>2.045</td></tr>\n",
       "\t<tr><td>2018-08-17</td><td>2.861</td><td>2.810</td><td>2.742</td><td>2.680</td><td>2.607</td><td>2.431</td><td>2.223</td><td>2.035</td></tr>\n",
       "\t<tr><td>2018-08-24</td><td>2.811</td><td>2.769</td><td>2.713</td><td>2.674</td><td>2.621</td><td>2.427</td><td>2.238</td><td>2.093</td></tr>\n",
       "\t<tr><td>2018-08-31</td><td>2.861</td><td>2.811</td><td>2.739</td><td>2.693</td><td>2.628</td><td>2.450</td><td>2.265</td><td>2.098</td></tr>\n",
       "\t<tr><td>2018-09-07</td><td>2.941</td><td>2.893</td><td>2.822</td><td>2.773</td><td>2.705</td><td>2.508</td><td>2.303</td><td>2.135</td></tr>\n",
       "\t<tr><td>...</td><td>...</td><td>...</td><td>...</td><td>...</td><td>...</td><td>...</td><td>...</td><td>...</td></tr>\n",
       "\t<tr><td>2021-07-30</td><td>1.224</td><td>0.998</td><td>0.691</td><td>0.339</td><td>0.186</td><td>0.065</td><td>0.048</td><td>0.043</td></tr>\n",
       "\t<tr><td>2021-08-06</td><td>1.299</td><td>1.073</td><td>0.768</td><td>0.409</td><td>0.210</td><td>0.071</td><td>0.048</td><td>0.048</td></tr>\n",
       "\t<tr><td>2021-08-13</td><td>1.278</td><td>1.061</td><td>0.774</td><td>0.431</td><td>0.209</td><td>0.072</td><td>0.049</td><td>0.052</td></tr>\n",
       "\t<tr><td>2021-08-20</td><td>1.256</td><td>1.053</td><td>0.783</td><td>0.445</td><td>0.226</td><td>0.062</td><td>0.046</td><td>0.047</td></tr>\n",
       "\t<tr><td>2021-08-27</td><td>1.309</td><td>1.097</td><td>0.801</td><td>0.422</td><td>0.217</td><td>0.063</td><td>0.048</td><td>0.048</td></tr>\n",
       "\t<tr><td>2021-09-03</td><td>1.324</td><td>1.092</td><td>0.784</td><td>0.408</td><td>0.207</td><td>0.063</td><td>0.048</td><td>0.041</td></tr>\n",
       "\t<tr><td>2021-09-10</td><td>1.344</td><td>1.121</td><td>0.817</td><td>0.445</td><td>0.214</td><td>0.068</td><td>0.048</td><td>0.041</td></tr>\n",
       "\t<tr><td>2021-09-17</td><td>1.364</td><td>1.163</td><td>0.862</td><td>0.471</td><td>0.224</td><td>0.068</td><td>0.046</td><td>0.037</td></tr>\n",
       "\t<tr><td>2021-09-24</td><td>1.453</td><td>1.255</td><td>0.949</td><td>0.541</td><td>0.271</td><td>0.072</td><td>0.046</td><td>0.033</td></tr>\n",
       "\t<tr><td>2021-10-01</td><td>1.462</td><td>1.255</td><td>0.930</td><td>0.486</td><td>0.265</td><td>0.075</td><td>0.047</td><td>0.035</td></tr>\n",
       "\t<tr><td>2021-10-08</td><td>1.614</td><td>1.399</td><td>1.061</td><td>0.581</td><td>0.320</td><td>0.091</td><td>0.068</td><td>0.061</td></tr>\n",
       "\t<tr><td>2021-10-15</td><td>1.572</td><td>1.411</td><td>1.126</td><td>0.695</td><td>0.396</td><td>0.103</td><td>0.053</td><td>0.047</td></tr>\n",
       "\t<tr><td>2021-10-22</td><td>1.634</td><td>1.474</td><td>1.196</td><td>0.771</td><td>0.455</td><td>0.117</td><td>0.062</td><td>0.056</td></tr>\n",
       "\t<tr><td>2021-10-29</td><td>1.555</td><td>1.454</td><td>1.185</td><td>0.755</td><td>0.499</td><td>0.124</td><td>0.060</td><td>0.055</td></tr>\n",
       "\t<tr><td>2021-11-05</td><td>1.454</td><td>1.316</td><td>1.057</td><td>0.659</td><td>0.404</td><td>0.137</td><td>0.063</td><td>0.042</td></tr>\n",
       "\t<tr><td>2021-11-12</td><td>1.564</td><td>1.456</td><td>1.223</td><td>0.845</td><td>0.514</td><td>0.160</td><td>0.063</td><td>0.048</td></tr>\n",
       "\t<tr><td>2021-11-19</td><td>1.549</td><td>1.453</td><td>1.223</td><td>0.862</td><td>0.509</td><td>0.155</td><td>0.063</td><td>0.048</td></tr>\n",
       "\t<tr><td>2021-11-26</td><td>1.476</td><td>1.393</td><td>1.161</td><td>0.805</td><td>0.501</td><td>0.169</td><td>0.089</td><td>0.048</td></tr>\n",
       "\t<tr><td>2021-12-03</td><td>1.345</td><td>1.299</td><td>1.134</td><td>0.852</td><td>0.590</td><td>0.253</td><td>0.090</td><td>0.049</td></tr>\n",
       "\t<tr><td>2021-12-10</td><td>1.485</td><td>1.420</td><td>1.252</td><td>0.988</td><td>0.656</td><td>0.255</td><td>0.119</td><td>0.052</td></tr>\n",
       "\t<tr><td>2021-12-17</td><td>1.404</td><td>1.336</td><td>1.176</td><td>0.920</td><td>0.640</td><td>0.251</td><td>0.127</td><td>0.039</td></tr>\n",
       "\t<tr><td>2021-12-24</td><td>1.494</td><td>1.414</td><td>1.243</td><td>0.971</td><td>0.690</td><td>0.276</td><td>0.167</td><td>0.066</td></tr>\n",
       "\t<tr><td>2021-12-31</td><td>1.512</td><td>1.437</td><td>1.264</td><td>0.958</td><td>0.734</td><td>0.383</td><td>0.185</td><td>0.044</td></tr>\n",
       "\t<tr><td>2022-01-07</td><td>1.764</td><td>1.692</td><td>1.500</td><td>1.154</td><td>0.864</td><td>0.416</td><td>0.236</td><td>0.095</td></tr>\n",
       "\t<tr><td>2022-01-14</td><td>1.787</td><td>1.730</td><td>1.559</td><td>1.268</td><td>0.969</td><td>0.491</td><td>0.292</td><td>0.120</td></tr>\n",
       "\t<tr><td>2022-01-21</td><td>1.760</td><td>1.713</td><td>1.559</td><td>1.287</td><td>1.005</td><td>0.555</td><td>0.354</td><td>0.167</td></tr>\n",
       "\t<tr><td>2022-01-28</td><td>1.772</td><td>1.739</td><td>1.613</td><td>1.375</td><td>1.164</td><td>0.744</td><td>0.424</td><td>0.185</td></tr>\n",
       "\t<tr><td>2022-02-04</td><td>1.911</td><td>1.884</td><td>1.770</td><td>1.536</td><td>1.313</td><td>0.869</td><td>0.550</td><td>0.230</td></tr>\n",
       "\t<tr><td>2022-02-11</td><td>1.941</td><td>1.940</td><td>1.856</td><td>1.728</td><td>1.505</td><td>1.029</td><td>0.692</td><td>0.359</td></tr>\n",
       "\t<tr><td>2022-02-16</td><td>2.044</td><td>2.025</td><td>1.921</td><td>1.762</td><td>1.530</td><td>1.043</td><td>0.699</td><td>0.402</td></tr>\n",
       "</tbody>\n",
       "</table>\n"
      ],
      "text/latex": [
       "A data.frame: 210 × 9\n",
       "\\begin{tabular}{lllllllll}\n",
       " Date & 10Y & 7Y & 5Y & 3Y & 2Y & 1Y & 6M & 3M\\\\\n",
       " <dttm> & <dbl> & <dbl> & <dbl> & <dbl> & <dbl> & <dbl> & <dbl> & <dbl>\\\\\n",
       "\\hline\n",
       "\t 2018-02-16 & 2.876 & 2.805 & 2.630 & 2.385 & 2.192 & 1.975 & 1.825 & 1.594\\\\\n",
       "\t 2018-02-23 & 2.868 & 2.791 & 2.619 & 2.388 & 2.240 & 2.001 & 1.852 & 1.641\\\\\n",
       "\t 2018-03-02 & 2.865 & 2.788 & 2.629 & 2.397 & 2.243 & 2.044 & 1.841 & 1.644\\\\\n",
       "\t 2018-03-09 & 2.895 & 2.811 & 2.651 & 2.432 & 2.260 & 2.023 & 1.874 & 1.664\\\\\n",
       "\t 2018-03-16 & 2.845 & 2.778 & 2.643 & 2.444 & 2.293 & 2.054 & 1.945 & 1.773\\\\\n",
       "\t 2018-03-23 & 2.814 & 2.740 & 2.600 & 2.404 & 2.256 & 2.017 & 1.902 & 1.720\\\\\n",
       "\t 2018-03-30 & 2.740 & 2.685 & 2.563 & 2.384 & 2.268 & 2.090 & 1.918 & 1.706\\\\\n",
       "\t 2018-04-06 & 2.774 & 2.708 & 2.587 & 2.401 & 2.268 & 2.049 & 1.896 & 1.712\\\\\n",
       "\t 2018-04-13 & 2.828 & 2.778 & 2.673 & 2.502 & 2.359 & 2.095 & 1.956 & 1.752\\\\\n",
       "\t 2018-04-20 & 2.961 & 2.914 & 2.801 & 2.618 & 2.459 & 2.195 & 2.003 & 1.805\\\\\n",
       "\t 2018-04-27 & 2.958 & 2.921 & 2.801 & 2.619 & 2.485 & 2.234 & 2.011 & 1.807\\\\\n",
       "\t 2018-05-04 & 2.951 & 2.901 & 2.785 & 2.635 & 2.499 & 2.233 & 2.026 & 1.830\\\\\n",
       "\t 2018-05-11 & 2.971 & 2.941 & 2.839 & 2.692 & 2.538 & 2.252 & 2.047 & 1.902\\\\\n",
       "\t 2018-05-18 & 3.057 & 3.012 & 2.889 & 2.714 & 2.549 & 2.293 & 2.082 & 1.891\\\\\n",
       "\t 2018-05-25 & 2.932 & 2.886 & 2.766 & 2.610 & 2.478 & 2.251 & 2.066 & 1.892\\\\\n",
       "\t 2018-06-01 & 2.903 & 2.859 & 2.749 & 2.601 & 2.473 & 2.259 & 2.091 & 1.907\\\\\n",
       "\t 2018-06-08 & 2.947 & 2.899 & 2.785 & 2.634 & 2.500 & 2.286 & 2.106 & 1.915\\\\\n",
       "\t 2018-06-15 & 2.921 & 2.889 & 2.798 & 2.676 & 2.548 & 2.306 & 2.065 & 1.924\\\\\n",
       "\t 2018-06-22 & 2.896 & 2.854 & 2.768 & 2.643 & 2.543 & 2.323 & 2.089 & 1.912\\\\\n",
       "\t 2018-06-29 & 2.861 & 2.823 & 2.739 & 2.623 & 2.530 & 2.314 & 2.109 & 1.917\\\\\n",
       "\t 2018-07-06 & 2.823 & 2.791 & 2.719 & 2.632 & 2.539 & 2.307 & 2.110 & 1.946\\\\\n",
       "\t 2018-07-13 & 2.828 & 2.796 & 2.726 & 2.654 & 2.580 & 2.347 & 2.158 & 1.971\\\\\n",
       "\t 2018-07-20 & 2.894 & 2.849 & 2.765 & 2.678 & 2.594 & 2.393 & 2.139 & 1.974\\\\\n",
       "\t 2018-07-27 & 2.955 & 2.918 & 2.840 & 2.762 & 2.671 & 2.406 & 2.180 & 1.985\\\\\n",
       "\t 2018-08-03 & 2.950 & 2.901 & 2.813 & 2.732 & 2.644 & 2.413 & 2.208 & 2.004\\\\\n",
       "\t 2018-08-10 & 2.874 & 2.824 & 2.746 & 2.680 & 2.606 & 2.399 & 2.220 & 2.045\\\\\n",
       "\t 2018-08-17 & 2.861 & 2.810 & 2.742 & 2.680 & 2.607 & 2.431 & 2.223 & 2.035\\\\\n",
       "\t 2018-08-24 & 2.811 & 2.769 & 2.713 & 2.674 & 2.621 & 2.427 & 2.238 & 2.093\\\\\n",
       "\t 2018-08-31 & 2.861 & 2.811 & 2.739 & 2.693 & 2.628 & 2.450 & 2.265 & 2.098\\\\\n",
       "\t 2018-09-07 & 2.941 & 2.893 & 2.822 & 2.773 & 2.705 & 2.508 & 2.303 & 2.135\\\\\n",
       "\t ... & ... & ... & ... & ... & ... & ... & ... & ...\\\\\n",
       "\t 2021-07-30 & 1.224 & 0.998 & 0.691 & 0.339 & 0.186 & 0.065 & 0.048 & 0.043\\\\\n",
       "\t 2021-08-06 & 1.299 & 1.073 & 0.768 & 0.409 & 0.210 & 0.071 & 0.048 & 0.048\\\\\n",
       "\t 2021-08-13 & 1.278 & 1.061 & 0.774 & 0.431 & 0.209 & 0.072 & 0.049 & 0.052\\\\\n",
       "\t 2021-08-20 & 1.256 & 1.053 & 0.783 & 0.445 & 0.226 & 0.062 & 0.046 & 0.047\\\\\n",
       "\t 2021-08-27 & 1.309 & 1.097 & 0.801 & 0.422 & 0.217 & 0.063 & 0.048 & 0.048\\\\\n",
       "\t 2021-09-03 & 1.324 & 1.092 & 0.784 & 0.408 & 0.207 & 0.063 & 0.048 & 0.041\\\\\n",
       "\t 2021-09-10 & 1.344 & 1.121 & 0.817 & 0.445 & 0.214 & 0.068 & 0.048 & 0.041\\\\\n",
       "\t 2021-09-17 & 1.364 & 1.163 & 0.862 & 0.471 & 0.224 & 0.068 & 0.046 & 0.037\\\\\n",
       "\t 2021-09-24 & 1.453 & 1.255 & 0.949 & 0.541 & 0.271 & 0.072 & 0.046 & 0.033\\\\\n",
       "\t 2021-10-01 & 1.462 & 1.255 & 0.930 & 0.486 & 0.265 & 0.075 & 0.047 & 0.035\\\\\n",
       "\t 2021-10-08 & 1.614 & 1.399 & 1.061 & 0.581 & 0.320 & 0.091 & 0.068 & 0.061\\\\\n",
       "\t 2021-10-15 & 1.572 & 1.411 & 1.126 & 0.695 & 0.396 & 0.103 & 0.053 & 0.047\\\\\n",
       "\t 2021-10-22 & 1.634 & 1.474 & 1.196 & 0.771 & 0.455 & 0.117 & 0.062 & 0.056\\\\\n",
       "\t 2021-10-29 & 1.555 & 1.454 & 1.185 & 0.755 & 0.499 & 0.124 & 0.060 & 0.055\\\\\n",
       "\t 2021-11-05 & 1.454 & 1.316 & 1.057 & 0.659 & 0.404 & 0.137 & 0.063 & 0.042\\\\\n",
       "\t 2021-11-12 & 1.564 & 1.456 & 1.223 & 0.845 & 0.514 & 0.160 & 0.063 & 0.048\\\\\n",
       "\t 2021-11-19 & 1.549 & 1.453 & 1.223 & 0.862 & 0.509 & 0.155 & 0.063 & 0.048\\\\\n",
       "\t 2021-11-26 & 1.476 & 1.393 & 1.161 & 0.805 & 0.501 & 0.169 & 0.089 & 0.048\\\\\n",
       "\t 2021-12-03 & 1.345 & 1.299 & 1.134 & 0.852 & 0.590 & 0.253 & 0.090 & 0.049\\\\\n",
       "\t 2021-12-10 & 1.485 & 1.420 & 1.252 & 0.988 & 0.656 & 0.255 & 0.119 & 0.052\\\\\n",
       "\t 2021-12-17 & 1.404 & 1.336 & 1.176 & 0.920 & 0.640 & 0.251 & 0.127 & 0.039\\\\\n",
       "\t 2021-12-24 & 1.494 & 1.414 & 1.243 & 0.971 & 0.690 & 0.276 & 0.167 & 0.066\\\\\n",
       "\t 2021-12-31 & 1.512 & 1.437 & 1.264 & 0.958 & 0.734 & 0.383 & 0.185 & 0.044\\\\\n",
       "\t 2022-01-07 & 1.764 & 1.692 & 1.500 & 1.154 & 0.864 & 0.416 & 0.236 & 0.095\\\\\n",
       "\t 2022-01-14 & 1.787 & 1.730 & 1.559 & 1.268 & 0.969 & 0.491 & 0.292 & 0.120\\\\\n",
       "\t 2022-01-21 & 1.760 & 1.713 & 1.559 & 1.287 & 1.005 & 0.555 & 0.354 & 0.167\\\\\n",
       "\t 2022-01-28 & 1.772 & 1.739 & 1.613 & 1.375 & 1.164 & 0.744 & 0.424 & 0.185\\\\\n",
       "\t 2022-02-04 & 1.911 & 1.884 & 1.770 & 1.536 & 1.313 & 0.869 & 0.550 & 0.230\\\\\n",
       "\t 2022-02-11 & 1.941 & 1.940 & 1.856 & 1.728 & 1.505 & 1.029 & 0.692 & 0.359\\\\\n",
       "\t 2022-02-16 & 2.044 & 2.025 & 1.921 & 1.762 & 1.530 & 1.043 & 0.699 & 0.402\\\\\n",
       "\\end{tabular}\n"
      ],
      "text/markdown": [
       "\n",
       "A data.frame: 210 × 9\n",
       "\n",
       "| Date &lt;dttm&gt; | 10Y &lt;dbl&gt; | 7Y &lt;dbl&gt; | 5Y &lt;dbl&gt; | 3Y &lt;dbl&gt; | 2Y &lt;dbl&gt; | 1Y &lt;dbl&gt; | 6M &lt;dbl&gt; | 3M &lt;dbl&gt; |\n",
       "|---|---|---|---|---|---|---|---|---|\n",
       "| 2018-02-16 | 2.876 | 2.805 | 2.630 | 2.385 | 2.192 | 1.975 | 1.825 | 1.594 |\n",
       "| 2018-02-23 | 2.868 | 2.791 | 2.619 | 2.388 | 2.240 | 2.001 | 1.852 | 1.641 |\n",
       "| 2018-03-02 | 2.865 | 2.788 | 2.629 | 2.397 | 2.243 | 2.044 | 1.841 | 1.644 |\n",
       "| 2018-03-09 | 2.895 | 2.811 | 2.651 | 2.432 | 2.260 | 2.023 | 1.874 | 1.664 |\n",
       "| 2018-03-16 | 2.845 | 2.778 | 2.643 | 2.444 | 2.293 | 2.054 | 1.945 | 1.773 |\n",
       "| 2018-03-23 | 2.814 | 2.740 | 2.600 | 2.404 | 2.256 | 2.017 | 1.902 | 1.720 |\n",
       "| 2018-03-30 | 2.740 | 2.685 | 2.563 | 2.384 | 2.268 | 2.090 | 1.918 | 1.706 |\n",
       "| 2018-04-06 | 2.774 | 2.708 | 2.587 | 2.401 | 2.268 | 2.049 | 1.896 | 1.712 |\n",
       "| 2018-04-13 | 2.828 | 2.778 | 2.673 | 2.502 | 2.359 | 2.095 | 1.956 | 1.752 |\n",
       "| 2018-04-20 | 2.961 | 2.914 | 2.801 | 2.618 | 2.459 | 2.195 | 2.003 | 1.805 |\n",
       "| 2018-04-27 | 2.958 | 2.921 | 2.801 | 2.619 | 2.485 | 2.234 | 2.011 | 1.807 |\n",
       "| 2018-05-04 | 2.951 | 2.901 | 2.785 | 2.635 | 2.499 | 2.233 | 2.026 | 1.830 |\n",
       "| 2018-05-11 | 2.971 | 2.941 | 2.839 | 2.692 | 2.538 | 2.252 | 2.047 | 1.902 |\n",
       "| 2018-05-18 | 3.057 | 3.012 | 2.889 | 2.714 | 2.549 | 2.293 | 2.082 | 1.891 |\n",
       "| 2018-05-25 | 2.932 | 2.886 | 2.766 | 2.610 | 2.478 | 2.251 | 2.066 | 1.892 |\n",
       "| 2018-06-01 | 2.903 | 2.859 | 2.749 | 2.601 | 2.473 | 2.259 | 2.091 | 1.907 |\n",
       "| 2018-06-08 | 2.947 | 2.899 | 2.785 | 2.634 | 2.500 | 2.286 | 2.106 | 1.915 |\n",
       "| 2018-06-15 | 2.921 | 2.889 | 2.798 | 2.676 | 2.548 | 2.306 | 2.065 | 1.924 |\n",
       "| 2018-06-22 | 2.896 | 2.854 | 2.768 | 2.643 | 2.543 | 2.323 | 2.089 | 1.912 |\n",
       "| 2018-06-29 | 2.861 | 2.823 | 2.739 | 2.623 | 2.530 | 2.314 | 2.109 | 1.917 |\n",
       "| 2018-07-06 | 2.823 | 2.791 | 2.719 | 2.632 | 2.539 | 2.307 | 2.110 | 1.946 |\n",
       "| 2018-07-13 | 2.828 | 2.796 | 2.726 | 2.654 | 2.580 | 2.347 | 2.158 | 1.971 |\n",
       "| 2018-07-20 | 2.894 | 2.849 | 2.765 | 2.678 | 2.594 | 2.393 | 2.139 | 1.974 |\n",
       "| 2018-07-27 | 2.955 | 2.918 | 2.840 | 2.762 | 2.671 | 2.406 | 2.180 | 1.985 |\n",
       "| 2018-08-03 | 2.950 | 2.901 | 2.813 | 2.732 | 2.644 | 2.413 | 2.208 | 2.004 |\n",
       "| 2018-08-10 | 2.874 | 2.824 | 2.746 | 2.680 | 2.606 | 2.399 | 2.220 | 2.045 |\n",
       "| 2018-08-17 | 2.861 | 2.810 | 2.742 | 2.680 | 2.607 | 2.431 | 2.223 | 2.035 |\n",
       "| 2018-08-24 | 2.811 | 2.769 | 2.713 | 2.674 | 2.621 | 2.427 | 2.238 | 2.093 |\n",
       "| 2018-08-31 | 2.861 | 2.811 | 2.739 | 2.693 | 2.628 | 2.450 | 2.265 | 2.098 |\n",
       "| 2018-09-07 | 2.941 | 2.893 | 2.822 | 2.773 | 2.705 | 2.508 | 2.303 | 2.135 |\n",
       "| ... | ... | ... | ... | ... | ... | ... | ... | ... |\n",
       "| 2021-07-30 | 1.224 | 0.998 | 0.691 | 0.339 | 0.186 | 0.065 | 0.048 | 0.043 |\n",
       "| 2021-08-06 | 1.299 | 1.073 | 0.768 | 0.409 | 0.210 | 0.071 | 0.048 | 0.048 |\n",
       "| 2021-08-13 | 1.278 | 1.061 | 0.774 | 0.431 | 0.209 | 0.072 | 0.049 | 0.052 |\n",
       "| 2021-08-20 | 1.256 | 1.053 | 0.783 | 0.445 | 0.226 | 0.062 | 0.046 | 0.047 |\n",
       "| 2021-08-27 | 1.309 | 1.097 | 0.801 | 0.422 | 0.217 | 0.063 | 0.048 | 0.048 |\n",
       "| 2021-09-03 | 1.324 | 1.092 | 0.784 | 0.408 | 0.207 | 0.063 | 0.048 | 0.041 |\n",
       "| 2021-09-10 | 1.344 | 1.121 | 0.817 | 0.445 | 0.214 | 0.068 | 0.048 | 0.041 |\n",
       "| 2021-09-17 | 1.364 | 1.163 | 0.862 | 0.471 | 0.224 | 0.068 | 0.046 | 0.037 |\n",
       "| 2021-09-24 | 1.453 | 1.255 | 0.949 | 0.541 | 0.271 | 0.072 | 0.046 | 0.033 |\n",
       "| 2021-10-01 | 1.462 | 1.255 | 0.930 | 0.486 | 0.265 | 0.075 | 0.047 | 0.035 |\n",
       "| 2021-10-08 | 1.614 | 1.399 | 1.061 | 0.581 | 0.320 | 0.091 | 0.068 | 0.061 |\n",
       "| 2021-10-15 | 1.572 | 1.411 | 1.126 | 0.695 | 0.396 | 0.103 | 0.053 | 0.047 |\n",
       "| 2021-10-22 | 1.634 | 1.474 | 1.196 | 0.771 | 0.455 | 0.117 | 0.062 | 0.056 |\n",
       "| 2021-10-29 | 1.555 | 1.454 | 1.185 | 0.755 | 0.499 | 0.124 | 0.060 | 0.055 |\n",
       "| 2021-11-05 | 1.454 | 1.316 | 1.057 | 0.659 | 0.404 | 0.137 | 0.063 | 0.042 |\n",
       "| 2021-11-12 | 1.564 | 1.456 | 1.223 | 0.845 | 0.514 | 0.160 | 0.063 | 0.048 |\n",
       "| 2021-11-19 | 1.549 | 1.453 | 1.223 | 0.862 | 0.509 | 0.155 | 0.063 | 0.048 |\n",
       "| 2021-11-26 | 1.476 | 1.393 | 1.161 | 0.805 | 0.501 | 0.169 | 0.089 | 0.048 |\n",
       "| 2021-12-03 | 1.345 | 1.299 | 1.134 | 0.852 | 0.590 | 0.253 | 0.090 | 0.049 |\n",
       "| 2021-12-10 | 1.485 | 1.420 | 1.252 | 0.988 | 0.656 | 0.255 | 0.119 | 0.052 |\n",
       "| 2021-12-17 | 1.404 | 1.336 | 1.176 | 0.920 | 0.640 | 0.251 | 0.127 | 0.039 |\n",
       "| 2021-12-24 | 1.494 | 1.414 | 1.243 | 0.971 | 0.690 | 0.276 | 0.167 | 0.066 |\n",
       "| 2021-12-31 | 1.512 | 1.437 | 1.264 | 0.958 | 0.734 | 0.383 | 0.185 | 0.044 |\n",
       "| 2022-01-07 | 1.764 | 1.692 | 1.500 | 1.154 | 0.864 | 0.416 | 0.236 | 0.095 |\n",
       "| 2022-01-14 | 1.787 | 1.730 | 1.559 | 1.268 | 0.969 | 0.491 | 0.292 | 0.120 |\n",
       "| 2022-01-21 | 1.760 | 1.713 | 1.559 | 1.287 | 1.005 | 0.555 | 0.354 | 0.167 |\n",
       "| 2022-01-28 | 1.772 | 1.739 | 1.613 | 1.375 | 1.164 | 0.744 | 0.424 | 0.185 |\n",
       "| 2022-02-04 | 1.911 | 1.884 | 1.770 | 1.536 | 1.313 | 0.869 | 0.550 | 0.230 |\n",
       "| 2022-02-11 | 1.941 | 1.940 | 1.856 | 1.728 | 1.505 | 1.029 | 0.692 | 0.359 |\n",
       "| 2022-02-16 | 2.044 | 2.025 | 1.921 | 1.762 | 1.530 | 1.043 | 0.699 | 0.402 |\n",
       "\n"
      ],
      "text/plain": [
       "    Date       10Y   7Y    5Y    3Y    2Y    1Y    6M    3M   \n",
       "1   2018-02-16 2.876 2.805 2.630 2.385 2.192 1.975 1.825 1.594\n",
       "2   2018-02-23 2.868 2.791 2.619 2.388 2.240 2.001 1.852 1.641\n",
       "3   2018-03-02 2.865 2.788 2.629 2.397 2.243 2.044 1.841 1.644\n",
       "4   2018-03-09 2.895 2.811 2.651 2.432 2.260 2.023 1.874 1.664\n",
       "5   2018-03-16 2.845 2.778 2.643 2.444 2.293 2.054 1.945 1.773\n",
       "6   2018-03-23 2.814 2.740 2.600 2.404 2.256 2.017 1.902 1.720\n",
       "7   2018-03-30 2.740 2.685 2.563 2.384 2.268 2.090 1.918 1.706\n",
       "8   2018-04-06 2.774 2.708 2.587 2.401 2.268 2.049 1.896 1.712\n",
       "9   2018-04-13 2.828 2.778 2.673 2.502 2.359 2.095 1.956 1.752\n",
       "10  2018-04-20 2.961 2.914 2.801 2.618 2.459 2.195 2.003 1.805\n",
       "11  2018-04-27 2.958 2.921 2.801 2.619 2.485 2.234 2.011 1.807\n",
       "12  2018-05-04 2.951 2.901 2.785 2.635 2.499 2.233 2.026 1.830\n",
       "13  2018-05-11 2.971 2.941 2.839 2.692 2.538 2.252 2.047 1.902\n",
       "14  2018-05-18 3.057 3.012 2.889 2.714 2.549 2.293 2.082 1.891\n",
       "15  2018-05-25 2.932 2.886 2.766 2.610 2.478 2.251 2.066 1.892\n",
       "16  2018-06-01 2.903 2.859 2.749 2.601 2.473 2.259 2.091 1.907\n",
       "17  2018-06-08 2.947 2.899 2.785 2.634 2.500 2.286 2.106 1.915\n",
       "18  2018-06-15 2.921 2.889 2.798 2.676 2.548 2.306 2.065 1.924\n",
       "19  2018-06-22 2.896 2.854 2.768 2.643 2.543 2.323 2.089 1.912\n",
       "20  2018-06-29 2.861 2.823 2.739 2.623 2.530 2.314 2.109 1.917\n",
       "21  2018-07-06 2.823 2.791 2.719 2.632 2.539 2.307 2.110 1.946\n",
       "22  2018-07-13 2.828 2.796 2.726 2.654 2.580 2.347 2.158 1.971\n",
       "23  2018-07-20 2.894 2.849 2.765 2.678 2.594 2.393 2.139 1.974\n",
       "24  2018-07-27 2.955 2.918 2.840 2.762 2.671 2.406 2.180 1.985\n",
       "25  2018-08-03 2.950 2.901 2.813 2.732 2.644 2.413 2.208 2.004\n",
       "26  2018-08-10 2.874 2.824 2.746 2.680 2.606 2.399 2.220 2.045\n",
       "27  2018-08-17 2.861 2.810 2.742 2.680 2.607 2.431 2.223 2.035\n",
       "28  2018-08-24 2.811 2.769 2.713 2.674 2.621 2.427 2.238 2.093\n",
       "29  2018-08-31 2.861 2.811 2.739 2.693 2.628 2.450 2.265 2.098\n",
       "30  2018-09-07 2.941 2.893 2.822 2.773 2.705 2.508 2.303 2.135\n",
       "... ...        ...   ...   ...   ...   ...   ...   ...   ...  \n",
       "181 2021-07-30 1.224 0.998 0.691 0.339 0.186 0.065 0.048 0.043\n",
       "182 2021-08-06 1.299 1.073 0.768 0.409 0.210 0.071 0.048 0.048\n",
       "183 2021-08-13 1.278 1.061 0.774 0.431 0.209 0.072 0.049 0.052\n",
       "184 2021-08-20 1.256 1.053 0.783 0.445 0.226 0.062 0.046 0.047\n",
       "185 2021-08-27 1.309 1.097 0.801 0.422 0.217 0.063 0.048 0.048\n",
       "186 2021-09-03 1.324 1.092 0.784 0.408 0.207 0.063 0.048 0.041\n",
       "187 2021-09-10 1.344 1.121 0.817 0.445 0.214 0.068 0.048 0.041\n",
       "188 2021-09-17 1.364 1.163 0.862 0.471 0.224 0.068 0.046 0.037\n",
       "189 2021-09-24 1.453 1.255 0.949 0.541 0.271 0.072 0.046 0.033\n",
       "190 2021-10-01 1.462 1.255 0.930 0.486 0.265 0.075 0.047 0.035\n",
       "191 2021-10-08 1.614 1.399 1.061 0.581 0.320 0.091 0.068 0.061\n",
       "192 2021-10-15 1.572 1.411 1.126 0.695 0.396 0.103 0.053 0.047\n",
       "193 2021-10-22 1.634 1.474 1.196 0.771 0.455 0.117 0.062 0.056\n",
       "194 2021-10-29 1.555 1.454 1.185 0.755 0.499 0.124 0.060 0.055\n",
       "195 2021-11-05 1.454 1.316 1.057 0.659 0.404 0.137 0.063 0.042\n",
       "196 2021-11-12 1.564 1.456 1.223 0.845 0.514 0.160 0.063 0.048\n",
       "197 2021-11-19 1.549 1.453 1.223 0.862 0.509 0.155 0.063 0.048\n",
       "198 2021-11-26 1.476 1.393 1.161 0.805 0.501 0.169 0.089 0.048\n",
       "199 2021-12-03 1.345 1.299 1.134 0.852 0.590 0.253 0.090 0.049\n",
       "200 2021-12-10 1.485 1.420 1.252 0.988 0.656 0.255 0.119 0.052\n",
       "201 2021-12-17 1.404 1.336 1.176 0.920 0.640 0.251 0.127 0.039\n",
       "202 2021-12-24 1.494 1.414 1.243 0.971 0.690 0.276 0.167 0.066\n",
       "203 2021-12-31 1.512 1.437 1.264 0.958 0.734 0.383 0.185 0.044\n",
       "204 2022-01-07 1.764 1.692 1.500 1.154 0.864 0.416 0.236 0.095\n",
       "205 2022-01-14 1.787 1.730 1.559 1.268 0.969 0.491 0.292 0.120\n",
       "206 2022-01-21 1.760 1.713 1.559 1.287 1.005 0.555 0.354 0.167\n",
       "207 2022-01-28 1.772 1.739 1.613 1.375 1.164 0.744 0.424 0.185\n",
       "208 2022-02-04 1.911 1.884 1.770 1.536 1.313 0.869 0.550 0.230\n",
       "209 2022-02-11 1.941 1.940 1.856 1.728 1.505 1.029 0.692 0.359\n",
       "210 2022-02-16 2.044 2.025 1.921 1.762 1.530 1.043 0.699 0.402"
      ]
     },
     "metadata": {},
     "output_type": "display_data"
    }
   ],
   "source": [
    "df"
   ]
  },
  {
   "cell_type": "code",
   "execution_count": 7,
   "id": "7cce4699-8f73-49ca-a41f-f07cd2707bb2",
   "metadata": {},
   "outputs": [
    {
     "data": {
      "text/html": [
       "<style>\n",
       ".list-inline {list-style: none; margin:0; padding: 0}\n",
       ".list-inline>li {display: inline-block}\n",
       ".list-inline>li:not(:last-child)::after {content: \"\\00b7\"; padding: 0 .5ex}\n",
       "</style>\n",
       "<ol class=list-inline><li>0.25</li><li>0.5</li><li>1</li><li>2</li><li>3</li><li>5</li><li>7</li><li>10</li></ol>\n"
      ],
      "text/latex": [
       "\\begin{enumerate*}\n",
       "\\item 0.25\n",
       "\\item 0.5\n",
       "\\item 1\n",
       "\\item 2\n",
       "\\item 3\n",
       "\\item 5\n",
       "\\item 7\n",
       "\\item 10\n",
       "\\end{enumerate*}\n"
      ],
      "text/markdown": [
       "1. 0.25\n",
       "2. 0.5\n",
       "3. 1\n",
       "4. 2\n",
       "5. 3\n",
       "6. 5\n",
       "7. 7\n",
       "8. 10\n",
       "\n",
       "\n"
      ],
      "text/plain": [
       "[1]  0.25  0.50  1.00  2.00  3.00  5.00  7.00 10.00"
      ]
     },
     "metadata": {},
     "output_type": "display_data"
    },
    {
     "data": {
      "text/html": [
       "<style>\n",
       ".list-inline {list-style: none; margin:0; padding: 0}\n",
       ".list-inline>li {display: inline-block}\n",
       ".list-inline>li:not(:last-child)::after {content: \"\\00b7\"; padding: 0 .5ex}\n",
       "</style>\n",
       "<ol class=list-inline><li>0.359</li><li>0.692</li><li>1.029</li><li>1.505</li><li>1.728</li><li>1.856</li><li>1.94</li><li>1.941</li></ol>\n"
      ],
      "text/latex": [
       "\\begin{enumerate*}\n",
       "\\item 0.359\n",
       "\\item 0.692\n",
       "\\item 1.029\n",
       "\\item 1.505\n",
       "\\item 1.728\n",
       "\\item 1.856\n",
       "\\item 1.94\n",
       "\\item 1.941\n",
       "\\end{enumerate*}\n"
      ],
      "text/markdown": [
       "1. 0.359\n",
       "2. 0.692\n",
       "3. 1.029\n",
       "4. 1.505\n",
       "5. 1.728\n",
       "6. 1.856\n",
       "7. 1.94\n",
       "8. 1.941\n",
       "\n",
       "\n"
      ],
      "text/plain": [
       "[1] 0.359 0.692 1.029 1.505 1.728 1.856 1.940 1.941"
      ]
     },
     "metadata": {},
     "output_type": "display_data"
    }
   ],
   "source": [
    "frwd <- as.data.frame(t(df[nrow(df)-1,seq(9, 2, by = -1)]))\n",
    "tms <- c(0.25,0.5,1,2,3,5,7,10)\n",
    "frwd <- as.list(frwd)[[1]]\n",
    "tms\n",
    "frwd"
   ]
  },
  {
   "cell_type": "code",
   "execution_count": 8,
   "id": "a9584107",
   "metadata": {},
   "outputs": [
    {
     "data": {
      "image/png": "[encoded data removed]",
      "text/plain": [
       "plot without title"
      ]
     },
     "metadata": {},
     "output_type": "display_data"
    }
   ],
   "source": [
    "\n",
    "cs <- splinefun(tms, frwd, method = \"fmm\")\n",
    "curve(cs(x, deriv = 0), 0, 10, col = \"blue\", ylab = \"Tasa\", xlab = \"Años\")\n",
    "points(tms, frwd, col = \"red\", cex = 1)"
   ]
  },
  {
   "cell_type": "code",
   "execution_count": 9,
   "id": "21547735",
   "metadata": {},
   "outputs": [
    {
     "data": {
      "text/html": [
       "<pre class=language-r><code>function (x) \n",
       "{\n",
       "<span style=white-space:pre-wrap>    args &lt;- lapply(as.list(match.call())[-1L], eval, parent.frame())</span>\n",
       "<span style=white-space:pre-wrap>    names &lt;- if (is.null(names(args))) </span>\n",
       "<span style=white-space:pre-wrap>        character(length(args))</span>\n",
       "<span style=white-space:pre-wrap>    else names(args)</span>\n",
       "<span style=white-space:pre-wrap>    dovec &lt;- names %in% vectorize.args</span>\n",
       "<span style=white-space:pre-wrap>    do.call(\"mapply\", c(FUN = FUN, args[dovec], MoreArgs = list(args[!dovec]), </span>\n",
       "<span style=white-space:pre-wrap>        SIMPLIFY = SIMPLIFY, USE.NAMES = USE.NAMES))</span>\n",
       "}</code></pre>"
      ],
      "text/latex": [
       "\\begin{minted}{r}\n",
       "function (x) \n",
       "\\{\n",
       "    args <- lapply(as.list(match.call()){[}-1L{]}, eval, parent.frame())\n",
       "    names <- if (is.null(names(args))) \n",
       "        character(length(args))\n",
       "    else names(args)\n",
       "    dovec <- names \\%in\\% vectorize.args\n",
       "    do.call(\"mapply\", c(FUN = FUN, args{[}dovec{]}, MoreArgs = list(args{[}!dovec{]}), \n",
       "        SIMPLIFY = SIMPLIFY, USE.NAMES = USE.NAMES))\n",
       "\\}\n",
       "\\end{minted}"
      ],
      "text/markdown": [
       "```r\n",
       "function (x) \n",
       "{\n",
       "    args <- lapply(as.list(match.call())[-1L], eval, parent.frame())\n",
       "    names <- if (is.null(names(args))) \n",
       "        character(length(args))\n",
       "    else names(args)\n",
       "    dovec <- names %in% vectorize.args\n",
       "    do.call(\"mapply\", c(FUN = FUN, args[dovec], MoreArgs = list(args[!dovec]), \n",
       "        SIMPLIFY = SIMPLIFY, USE.NAMES = USE.NAMES))\n",
       "}\n",
       "```"
      ],
      "text/plain": [
       "function (x) \n",
       "{\n",
       "    args <- lapply(as.list(match.call())[-1L], eval, parent.frame())\n",
       "    names <- if (is.null(names(args))) \n",
       "        character(length(args))\n",
       "    else names(args)\n",
       "    dovec <- names %in% vectorize.args\n",
       "    do.call(\"mapply\", c(FUN = FUN, args[dovec], MoreArgs = list(args[!dovec]), \n",
       "        SIMPLIFY = SIMPLIFY, USE.NAMES = USE.NAMES))\n",
       "}\n",
       "<environment: 0x0000000035c43950>"
      ]
     },
     "metadata": {},
     "output_type": "display_data"
    },
    {
     "data": {
      "image/png": "[encoded data removed]",
      "text/plain": [
       "Plot with title \"Forward a trozos\""
      ]
     },
     "metadata": {},
     "output_type": "display_data"
    }
   ],
   "source": [
    "a <- function(x){ \n",
    "    ifelse((x>=0 & x<=0.25),frwd[1],\n",
    "    ifelse((x>0.25 & x<=0.5),frwd[2], \n",
    "    ifelse((x>0.5 & x<=1),frwd[3], \n",
    "    ifelse((x>1 & x<=2),frwd[4],\n",
    "    ifelse((x>2 & x<=3),frwd[5],\n",
    "    ifelse((x>3 & x<=5),frwd[6],\n",
    "    ifelse((x>5 & x<=7),frwd[7],\n",
    "    ifelse((x>7 & x<=10),frwd[8])))))))) \n",
    "}\n",
    "vectFunc <- Vectorize(a)\n",
    "vectFunc\n",
    "plot(vectFunc,0,10, type = \"l\", col = \"blue\", ylab = \"Tasa\", xlab = \"Años\", main = \"Forward a trozos\")"
   ]
  }
 ],
 "metadata": {
  "interpreter": {
   "hash": "b3ba2566441a7c06988d0923437866b63cedc61552a5af99d1f4fb67d367b25f"
  },
  "kernelspec": {
   "display_name": "R",
   "language": "R",
   "name": "python3711jvsc74a57bd0aa5dfc9bc22e8b9bd7d7586b99fc6c73114eec00d3f85e09b6fdc2730a892aa2"
  },
  "language_info": {
   "codemirror_mode": "r",
   "file_extension": ".r",
   "mimetype": "text/x-r-source",
   "name": "R",
   "pygments_lexer": "r",
   "version": "3.6.1"
  }
 },
 "nbformat": 4,
 "nbformat_minor": 5
}
