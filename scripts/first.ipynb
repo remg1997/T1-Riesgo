{
 "cells": [
  {
   "cell_type": "code",
   "execution_count": 1,
   "id": "f0afcc4e-e98c-48ad-b51f-f6dc2b1c3226",
   "metadata": {},
   "outputs": [
    {
     "name": "stderr",
     "output_type": "stream",
     "text": [
      "Warning message:\n",
      "\"package 'readxl' was built under R version 3.6.3\""
     ]
    }
   ],
   "source": [
    "library(\"readxl\")"
   ]
  },
  {
   "cell_type": "code",
   "execution_count": 2,
   "id": "d18f324a-67d1-44be-aae4-6da1209ff9c8",
   "metadata": {},
   "outputs": [
    {
     "name": "stderr",
     "output_type": "stream",
     "text": [
      "Warning message:\n",
      "\"package 'lubridate' was built under R version 3.6.3\"\n",
      "Attaching package: 'lubridate'\n",
      "\n",
      "The following objects are masked from 'package:base':\n",
      "\n",
      "    date, intersect, setdiff, union\n",
      "\n"
     ]
    }
   ],
   "source": [
    "library(\"lubridate\")"
   ]
  },
  {
   "cell_type": "code",
   "execution_count": 3,
   "id": "fd9a067d-bee2-44b6-97f5-5b0a841eacab",
   "metadata": {},
   "outputs": [
    {
     "data": {
      "text/html": [
       "<style>\n",
       ".list-inline {list-style: none; margin:0; padding: 0}\n",
       ".list-inline>li {display: inline-block}\n",
       ".list-inline>li:not(:last-child)::after {content: \"\\00b7\"; padding: 0 .5ex}\n",
       "</style>\n",
       "<ol class=list-inline><li>'.GlobalEnv'</li><li>'package:lubridate'</li><li>'package:readxl'</li><li>'jupyter:irkernel'</li><li>'jupyter:irkernel'</li><li>'package:stats'</li><li>'package:graphics'</li><li>'package:grDevices'</li><li>'package:utils'</li><li>'package:datasets'</li><li>'package:methods'</li><li>'Autoloads'</li><li>'package:base'</li></ol>\n"
      ],
      "text/latex": [
       "\\begin{enumerate*}\n",
       "\\item '.GlobalEnv'\n",
       "\\item 'package:lubridate'\n",
       "\\item 'package:readxl'\n",
       "\\item 'jupyter:irkernel'\n",
       "\\item 'jupyter:irkernel'\n",
       "\\item 'package:stats'\n",
       "\\item 'package:graphics'\n",
       "\\item 'package:grDevices'\n",
       "\\item 'package:utils'\n",
       "\\item 'package:datasets'\n",
       "\\item 'package:methods'\n",
       "\\item 'Autoloads'\n",
       "\\item 'package:base'\n",
       "\\end{enumerate*}\n"
      ],
      "text/markdown": [
       "1. '.GlobalEnv'\n",
       "2. 'package:lubridate'\n",
       "3. 'package:readxl'\n",
       "4. 'jupyter:irkernel'\n",
       "5. 'jupyter:irkernel'\n",
       "6. 'package:stats'\n",
       "7. 'package:graphics'\n",
       "8. 'package:grDevices'\n",
       "9. 'package:utils'\n",
       "10. 'package:datasets'\n",
       "11. 'package:methods'\n",
       "12. 'Autoloads'\n",
       "13. 'package:base'\n",
       "\n",
       "\n"
      ],
      "text/plain": [
       " [1] \".GlobalEnv\"        \"package:lubridate\" \"package:readxl\"   \n",
       " [4] \"jupyter:irkernel\"  \"jupyter:irkernel\"  \"package:stats\"    \n",
       " [7] \"package:graphics\"  \"package:grDevices\" \"package:utils\"    \n",
       "[10] \"package:datasets\"  \"package:methods\"   \"Autoloads\"        \n",
       "[13] \"package:base\"     "
      ]
     },
     "metadata": {},
     "output_type": "display_data"
    }
   ],
   "source": [
    "search()"
   ]
  },
  {
   "cell_type": "code",
   "execution_count": 4,
   "id": "5ba0a704-f05a-4a5f-a80e-2af93790495f",
   "metadata": {},
   "outputs": [],
   "source": [
    "source(\"helpers.R\")"
   ]
  },
  {
   "cell_type": "code",
   "execution_count": 5,
   "id": "9f0daf38-b921-4bb5-8ae8-d7111b9c9888",
   "metadata": {},
   "outputs": [],
   "source": [
    "path <- \"../data/data.xlsx\""
   ]
  },
  {
   "cell_type": "code",
   "execution_count": 6,
   "id": "1273d7c3-de1a-4dd6-92b4-ac589352aecd",
   "metadata": {},
   "outputs": [],
   "source": [
    "df <- Dataframing(path)"
   ]
  },
  {
   "cell_type": "code",
   "execution_count": 7,
   "id": "4301fc67-fb5d-4370-9e65-45a7b97fb714",
   "metadata": {},
   "outputs": [],
   "source": [
    "df <- df[-c(210),]"
   ]
  },
  {
   "cell_type": "code",
   "execution_count": 8,
   "id": "fbe01fa1-e480-4471-b334-0c3f9b8d8bbe",
   "metadata": {},
   "outputs": [],
   "source": [
    "df$Date <- as.Date(df$Date)"
   ]
  },
  {
   "cell_type": "code",
   "execution_count": 9,
   "id": "4b94c154-5d47-4cc6-b0eb-6a950de33181",
   "metadata": {},
   "outputs": [],
   "source": [
    "firstYields <- df[df$Date == \"2022-02-11\",]"
   ]
  },
  {
   "cell_type": "code",
   "execution_count": 10,
   "id": "7086da3b-8eb5-4aef-bd27-988ebcf96117",
   "metadata": {},
   "outputs": [
    {
     "data": {
      "text/html": [
       "<table class=\"dataframe\">\n",
       "<caption>A data.frame: 1 × 9</caption>\n",
       "<thead>\n",
       "\t<tr><th></th><th scope=col>Date</th><th scope=col>10Y</th><th scope=col>7Y</th><th scope=col>5Y</th><th scope=col>3Y</th><th scope=col>2Y</th><th scope=col>1Y</th><th scope=col>6M</th><th scope=col>3M</th></tr>\n",
       "\t<tr><th></th><th scope=col>&lt;date&gt;</th><th scope=col>&lt;dbl&gt;</th><th scope=col>&lt;dbl&gt;</th><th scope=col>&lt;dbl&gt;</th><th scope=col>&lt;dbl&gt;</th><th scope=col>&lt;dbl&gt;</th><th scope=col>&lt;dbl&gt;</th><th scope=col>&lt;dbl&gt;</th><th scope=col>&lt;dbl&gt;</th></tr>\n",
       "</thead>\n",
       "<tbody>\n",
       "\t<tr><th scope=row>209</th><td>2022-02-11</td><td>1.941</td><td>1.94</td><td>1.856</td><td>1.728</td><td>1.505</td><td>1.029</td><td>0.692</td><td>0.359</td></tr>\n",
       "</tbody>\n",
       "</table>\n"
      ],
      "text/latex": [
       "A data.frame: 1 × 9\n",
       "\\begin{tabular}{r|lllllllll}\n",
       "  & Date & 10Y & 7Y & 5Y & 3Y & 2Y & 1Y & 6M & 3M\\\\\n",
       "  & <date> & <dbl> & <dbl> & <dbl> & <dbl> & <dbl> & <dbl> & <dbl> & <dbl>\\\\\n",
       "\\hline\n",
       "\t209 & 2022-02-11 & 1.941 & 1.94 & 1.856 & 1.728 & 1.505 & 1.029 & 0.692 & 0.359\\\\\n",
       "\\end{tabular}\n"
      ],
      "text/markdown": [
       "\n",
       "A data.frame: 1 × 9\n",
       "\n",
       "| <!--/--> | Date &lt;date&gt; | 10Y &lt;dbl&gt; | 7Y &lt;dbl&gt; | 5Y &lt;dbl&gt; | 3Y &lt;dbl&gt; | 2Y &lt;dbl&gt; | 1Y &lt;dbl&gt; | 6M &lt;dbl&gt; | 3M &lt;dbl&gt; |\n",
       "|---|---|---|---|---|---|---|---|---|---|\n",
       "| 209 | 2022-02-11 | 1.941 | 1.94 | 1.856 | 1.728 | 1.505 | 1.029 | 0.692 | 0.359 |\n",
       "\n"
      ],
      "text/plain": [
       "    Date       10Y   7Y   5Y    3Y    2Y    1Y    6M    3M   \n",
       "209 2022-02-11 1.941 1.94 1.856 1.728 1.505 1.029 0.692 0.359"
      ]
     },
     "metadata": {},
     "output_type": "display_data"
    }
   ],
   "source": [
    "firstYields"
   ]
  },
  {
   "cell_type": "markdown",
   "id": "9bb11ce8-5322-4e8d-94e3-24b70e8f874c",
   "metadata": {
    "tags": []
   },
   "source": [
    "#### Suponemos que: \n",
    "- $\\alpha_1$ representa la tasa forward entre 0 y 3 meses, \n",
    "- $\\alpha_2$ la tasa entre 3 meses y 1 año, \n",
    "- $\\alpha_3$ la tasa entre 1 y 3 años,\n",
    "- $\\alpha_4$ la tasa entre 3 y 5 años ,\n",
    "- $\\alpha_5$ la tasa entre 5 y 10 años. "
   ]
  },
  {
   "cell_type": "code",
   "execution_count": 11,
   "id": "2c2988b4-ca5a-4939-9c90-284a99ca4a24",
   "metadata": {},
   "outputs": [],
   "source": [
    "today <- firstYields$Date"
   ]
  },
  {
   "cell_type": "markdown",
   "id": "6332eca6-4725-4f2d-bc1f-b9a870a66bb4",
   "metadata": {
    "jp-MarkdownHeadingCollapsed": true,
    "tags": []
   },
   "source": [
    "#### Además, para traer a valor presente usando una curva forward, se sigue el factor de descuento a un plazo T es: "
   ]
  },
  {
   "cell_type": "markdown",
   "id": "9bae4002-2617-48f6-b0de-9ae6c48409ae",
   "metadata": {},
   "source": [
    "### $$ e^{-\\int_{0}^{T} f(t) \\,dt}$$"
   ]
  },
  {
   "cell_type": "markdown",
   "id": "28e8e0a4-27ee-497a-bdc5-754c4fd9956a",
   "metadata": {},
   "source": [
    "#### Definamos algunos objetos de utilidad. Cuántos cupones paga cada bono? Cómo ajustamos la tasa para cada pago?"
   ]
  },
  {
   "cell_type": "code",
   "execution_count": 12,
   "id": "6b2d359a-d534-45da-80f3-5b59d853b3eb",
   "metadata": {},
   "outputs": [],
   "source": [
    "alpha <- c(0.1,0.11,0.12,0.13,0.14)"
   ]
  },
  {
   "cell_type": "code",
   "execution_count": 13,
   "id": "81f5e08e-ea9d-4eb5-b77b-d3c0b97a53c1",
   "metadata": {},
   "outputs": [
    {
     "data": {
      "text/html": [
       "<style>\n",
       ".list-inline {list-style: none; margin:0; padding: 0}\n",
       ".list-inline>li {display: inline-block}\n",
       ".list-inline>li:not(:last-child)::after {content: \"\\00b7\"; padding: 0 .5ex}\n",
       "</style>\n",
       "<ol class=list-inline><li>0.1</li><li>0.11</li><li>0.12</li><li>0.13</li><li>0.14</li></ol>\n"
      ],
      "text/latex": [
       "\\begin{enumerate*}\n",
       "\\item 0.1\n",
       "\\item 0.11\n",
       "\\item 0.12\n",
       "\\item 0.13\n",
       "\\item 0.14\n",
       "\\end{enumerate*}\n"
      ],
      "text/markdown": [
       "1. 0.1\n",
       "2. 0.11\n",
       "3. 0.12\n",
       "4. 0.13\n",
       "5. 0.14\n",
       "\n",
       "\n"
      ],
      "text/plain": [
       "[1] 0.10 0.11 0.12 0.13 0.14"
      ]
     },
     "metadata": {},
     "output_type": "display_data"
    }
   ],
   "source": [
    "alpha"
   ]
  },
  {
   "cell_type": "code",
   "execution_count": 14,
   "id": "59e4a6f7-faa9-4487-924f-d0ae2183bae8",
   "metadata": {},
   "outputs": [],
   "source": [
    "today = firstYields$Date"
   ]
  },
  {
   "cell_type": "code",
   "execution_count": 15,
   "id": "c70ad683-f043-40a1-8c79-c2b252a180c3",
   "metadata": {},
   "outputs": [
    {
     "data": {
      "text/html": [
       "100.086561463887"
      ],
      "text/latex": [
       "100.086561463887"
      ],
      "text/markdown": [
       "100.086561463887"
      ],
      "text/plain": [
       "[1] 100.0866"
      ]
     },
     "metadata": {},
     "output_type": "display_data"
    },
    {
     "data": {
      "text/html": [
       "0.0887527777777778"
      ],
      "text/latex": [
       "0.0887527777777778"
      ],
      "text/markdown": [
       "0.0887527777777778"
      ],
      "text/plain": [
       "[1] 0.08875278"
      ]
     },
     "metadata": {},
     "output_type": "display_data"
    },
    {
     "data": {
      "text/html": [
       "0.0887527777777778"
      ],
      "text/latex": [
       "0.0887527777777778"
      ],
      "text/markdown": [
       "0.0887527777777778"
      ],
      "text/plain": [
       "[1] 0.08875278"
      ]
     },
     "metadata": {},
     "output_type": "display_data"
    },
    {
     "data": {
      "text/html": [
       "1.04329166666667"
      ],
      "text/latex": [
       "1.04329166666667"
      ],
      "text/markdown": [
       "1.04329166666667"
      ],
      "text/plain": [
       "[1] 1.043292"
      ]
     },
     "metadata": {},
     "output_type": "display_data"
    }
   ],
   "source": [
    "threeMonthBond <- 100 + RateConverter(firstYields[[\"3M\"]],3,today)*DiscountFactor(alpha, 3)\n",
    "threeMonthBond\n",
    "RateConverter(firstYields[[\"3M\"]],3,today)\n",
    "RateConverter(0.359,3,today)\n",
    "RateConverter(firstYields[[\"1Y\"]],12,today)\n"
   ]
  },
  {
   "cell_type": "code",
   "execution_count": 16,
   "id": "49fcd4d8-e5f0-4a20-a6be-c88a6824e404",
   "metadata": {},
   "outputs": [],
   "source": [
    "sixMonthBond <- 100 + RateConverter(firstYields[[\"6M\"]], 6, today)*DiscountFactor(alpha, 6)"
   ]
  },
  {
   "cell_type": "code",
   "execution_count": 17,
   "id": "9be5d8b6-9a81-4afc-8886-3a0d41b3ec35",
   "metadata": {},
   "outputs": [
    {
     "data": {
      "text/html": [
       "100.330127503947"
      ],
      "text/latex": [
       "100.330127503947"
      ],
      "text/markdown": [
       "100.330127503947"
      ],
      "text/plain": [
       "[1] 100.3301"
      ]
     },
     "metadata": {},
     "output_type": "display_data"
    }
   ],
   "source": [
    "sixMonthBond"
   ]
  },
  {
   "cell_type": "code",
   "execution_count": 18,
   "id": "daf01f17-8f1a-4914-aaf2-f1e0a94d5b88",
   "metadata": {},
   "outputs": [],
   "source": [
    "oneYearBond <- 100 +  RateConverter(firstYields[[\"1Y\"]], 6, today) *DiscountFactor(alpha, 6) + RateConverter(firstYields[[\"1Y\"]], 12, today)*DiscountFactor(alpha, 12)"
   ]
  },
  {
   "cell_type": "code",
   "execution_count": 19,
   "id": "9c98ba37-727e-49ea-afa2-0bd47f372468",
   "metadata": {},
   "outputs": [
    {
     "data": {
      "text/html": [
       "101.427853442019"
      ],
      "text/latex": [
       "101.427853442019"
      ],
      "text/markdown": [
       "101.427853442019"
      ],
      "text/plain": [
       "[1] 101.4279"
      ]
     },
     "metadata": {},
     "output_type": "display_data"
    }
   ],
   "source": [
    "oneYearBond"
   ]
  },
  {
   "cell_type": "code",
   "execution_count": 20,
   "id": "96e3f441-d8d9-45b8-acb7-729870b91fdc",
   "metadata": {},
   "outputs": [],
   "source": [
    "maturity<- 36"
   ]
  },
  {
   "cell_type": "code",
   "execution_count": 21,
   "id": "8e363417-8362-44e5-93bd-73a14c0f09c2",
   "metadata": {},
   "outputs": [],
   "source": [
    "periods <- seq(6, maturity, 6)"
   ]
  },
  {
   "cell_type": "code",
   "execution_count": 22,
   "id": "af2e17af-7784-482b-b5c0-b86a49bb7b7e",
   "metadata": {},
   "outputs": [
    {
     "data": {
      "text/html": [
       "100.086561463887"
      ],
      "text/latex": [
       "100.086561463887"
      ],
      "text/markdown": [
       "100.086561463887"
      ],
      "text/plain": [
       "[1] 100.0866"
      ]
     },
     "metadata": {},
     "output_type": "display_data"
    }
   ],
   "source": [
    "threeMonthBond"
   ]
  },
  {
   "cell_type": "markdown",
   "metadata": {},
   "source": [
    "Recordemos que cada pago está dado por :  \n",
    "\n",
    "$$\\$100\\times R \\times \\frac{ACT}{360}$$"
   ]
  },
  {
   "cell_type": "code",
   "execution_count": 23,
   "id": "55ec8d82-c8eb-4cc3-b192-56ce7e3cd55a",
   "metadata": {},
   "outputs": [],
   "source": [
    "singleBondPayment <- function(maturity, yield, alpha, today){\n",
    "    return (RateConverter(yield, maturity,today)*DiscountFactor(alpha, maturity))\n",
    "}"
   ]
  },
  {
   "cell_type": "code",
   "execution_count": 24,
   "id": "50ca64bd-641b-49e6-9862-25920a4de86a",
   "metadata": {},
   "outputs": [
    {
     "data": {
      "text/html": [
       "5.32615460036447"
      ],
      "text/latex": [
       "5.32615460036447"
      ],
      "text/markdown": [
       "5.32615460036447"
      ],
      "text/plain": [
       "[1] 5.326155"
      ]
     },
     "metadata": {},
     "output_type": "display_data"
    },
    {
     "data": {
      "text/html": [
       "1.941"
      ],
      "text/latex": [
       "1.941"
      ],
      "text/markdown": [
       "1.941"
      ],
      "text/plain": [
       "[1] 1.941"
      ]
     },
     "metadata": {},
     "output_type": "display_data"
    }
   ],
   "source": [
    "singleBondPayment(120,firstYields[[\"10Y\"]], alpha, today)\n",
    "firstYields[[\"10Y\"]]"
   ]
  },
  {
   "cell_type": "code",
   "execution_count": 25,
   "id": "ce498c1e-5ec0-487f-9ec2-d9a32b077f61",
   "metadata": {},
   "outputs": [],
   "source": [
    "yieldList <- list(firstYields)"
   ]
  },
  {
   "cell_type": "code",
   "execution_count": 26,
   "id": "c504d27d-c7d9-459b-92bc-989981ea5db8",
   "metadata": {},
   "outputs": [],
   "source": [
    "nombres <- colnames(firstYields)"
   ]
  },
  {
   "cell_type": "code",
   "execution_count": 27,
   "id": "8d12a55e-80db-4d9b-9d63-6d4fee00e44f",
   "metadata": {},
   "outputs": [],
   "source": [
    "nombres <- nombres[-1]"
   ]
  },
  {
   "cell_type": "code",
   "execution_count": 28,
   "id": "d7231767-3339-4bc2-a79f-118be492db4f",
   "metadata": {},
   "outputs": [
    {
     "data": {
      "text/html": [
       "<style>\n",
       ".list-inline {list-style: none; margin:0; padding: 0}\n",
       ".list-inline>li {display: inline-block}\n",
       ".list-inline>li:not(:last-child)::after {content: \"\\00b7\"; padding: 0 .5ex}\n",
       "</style>\n",
       "<ol class=list-inline><li>'10Y'</li><li>'7Y'</li><li>'5Y'</li><li>'3Y'</li><li>'2Y'</li><li>'1Y'</li><li>'6M'</li><li>'3M'</li></ol>\n"
      ],
      "text/latex": [
       "\\begin{enumerate*}\n",
       "\\item '10Y'\n",
       "\\item '7Y'\n",
       "\\item '5Y'\n",
       "\\item '3Y'\n",
       "\\item '2Y'\n",
       "\\item '1Y'\n",
       "\\item '6M'\n",
       "\\item '3M'\n",
       "\\end{enumerate*}\n"
      ],
      "text/markdown": [
       "1. '10Y'\n",
       "2. '7Y'\n",
       "3. '5Y'\n",
       "4. '3Y'\n",
       "5. '2Y'\n",
       "6. '1Y'\n",
       "7. '6M'\n",
       "8. '3M'\n",
       "\n",
       "\n"
      ],
      "text/plain": [
       "[1] \"10Y\" \"7Y\"  \"5Y\"  \"3Y\"  \"2Y\"  \"1Y\"  \"6M\"  \"3M\" "
      ]
     },
     "metadata": {},
     "output_type": "display_data"
    }
   ],
   "source": [
    "nombres"
   ]
  },
  {
   "cell_type": "code",
   "execution_count": 29,
   "id": "cb1dbc36-9b49-4b39-8d74-b7ae078b89d2",
   "metadata": {},
   "outputs": [],
   "source": [
    "nombres <- as.list(nombres)"
   ]
  },
  {
   "cell_type": "code",
   "execution_count": 30,
   "id": "7ae67d55-2043-4beb-81c1-cd95a63c9ffe",
   "metadata": {},
   "outputs": [],
   "source": [
    "names(nombres) <- c(120,84,60,36,24,12,6,3) "
   ]
  },
  {
   "cell_type": "code",
   "execution_count": 31,
   "id": "f6812e41-02f5-43be-8f93-d2270415c6c8",
   "metadata": {},
   "outputs": [],
   "source": [
    "BondValue <- function (today, maturity, yieldlist,alpha ){\n",
    "    if (maturity == 3){\n",
    "        return (100*DiscountFactor(alpha, maturity) + singleBondPayment(3,yieldlist[[\"3M\"]], alpha, today))\n",
    "        }\n",
    "    setter <- as.character(maturity)\n",
    "    periods <- seq(6, maturity, 6)\n",
    "    bondSum <- sum(unlist(lapply(periods, function(x) singleBondPayment(x, yield = yieldlist[[nombres[[setter]]]],  alpha = alpha, today = today))))\n",
    "    return(bondSum +100*DiscountFactor(alpha, maturity))\n",
    "}\n",
    "\n"
   ]
  },
  {
   "cell_type": "code",
   "execution_count": 32,
   "id": "e115c3d4-be49-46e5-8e11-3f9ef159fb8c",
   "metadata": {},
   "outputs": [
    {
     "data": {
      "text/html": [
       "118.752228701085"
      ],
      "text/latex": [
       "118.752228701085"
      ],
      "text/markdown": [
       "118.752228701085"
      ],
      "text/plain": [
       "[1] 118.7522"
      ]
     },
     "metadata": {},
     "output_type": "display_data"
    }
   ],
   "source": [
    "BondValue(today, 120, firstYields, alpha)"
   ]
  },
  {
   "cell_type": "code",
   "execution_count": 33,
   "id": "a02e0b57-dea3-4c91-9c7d-3af12d4cdacd",
   "metadata": {},
   "outputs": [],
   "source": [
    "maturities <- c(120,84,60,36,24,12,6,3) "
   ]
  },
  {
   "cell_type": "code",
   "execution_count": 34,
   "id": "c12697eb-70c7-41cb-a52c-b9e0c43eae60",
   "metadata": {},
   "outputs": [],
   "source": [
    "alpha <- c(0.00343939424789704, 0.0105322205923502, 0.0817121232717679, 0.159800322624318, 0.274481567907549)\n",
    "bondValues <- list()\n",
    "for (i in maturities){\n",
    "    bondValues <- append(bondValues, BondValue(today, i, firstYields, alpha))\n",
    "}"
   ]
  },
  {
   "cell_type": "code",
   "execution_count": 35,
   "id": "e09def6e-e88a-447e-ab5c-7a7417b38b47",
   "metadata": {},
   "outputs": [
    {
     "data": {
      "text/html": [
       "<ol>\n",
       "\t<li>100.989909452258</li>\n",
       "\t<li>98.0931461413023</li>\n",
       "\t<li>100.830932085909</li>\n",
       "\t<li>100.747353387395</li>\n",
       "\t<li>98.576630727408</li>\n",
       "\t<li>100.677671207665</li>\n",
       "\t<li>99.9980280215078</li>\n",
       "\t<li>100.002728596816</li>\n",
       "</ol>\n"
      ],
      "text/latex": [
       "\\begin{enumerate}\n",
       "\\item 100.989909452258\n",
       "\\item 98.0931461413023\n",
       "\\item 100.830932085909\n",
       "\\item 100.747353387395\n",
       "\\item 98.576630727408\n",
       "\\item 100.677671207665\n",
       "\\item 99.9980280215078\n",
       "\\item 100.002728596816\n",
       "\\end{enumerate}\n"
      ],
      "text/markdown": [
       "1. 100.989909452258\n",
       "2. 98.0931461413023\n",
       "3. 100.830932085909\n",
       "4. 100.747353387395\n",
       "5. 98.576630727408\n",
       "6. 100.677671207665\n",
       "7. 99.9980280215078\n",
       "8. 100.002728596816\n",
       "\n",
       "\n"
      ],
      "text/plain": [
       "[[1]]\n",
       "[1] 100.9899\n",
       "\n",
       "[[2]]\n",
       "[1] 98.09315\n",
       "\n",
       "[[3]]\n",
       "[1] 100.8309\n",
       "\n",
       "[[4]]\n",
       "[1] 100.7474\n",
       "\n",
       "[[5]]\n",
       "[1] 98.57663\n",
       "\n",
       "[[6]]\n",
       "[1] 100.6777\n",
       "\n",
       "[[7]]\n",
       "[1] 99.99803\n",
       "\n",
       "[[8]]\n",
       "[1] 100.0027\n"
      ]
     },
     "metadata": {},
     "output_type": "display_data"
    }
   ],
   "source": [
    "bondValues"
   ]
  },
  {
   "cell_type": "code",
   "execution_count": 36,
   "id": "58a47576-09dd-44a6-9d58-47053a7f21fe",
   "metadata": {},
   "outputs": [
    {
     "data": {
      "text/html": [
       "8.35022726494102"
      ],
      "text/latex": [
       "8.35022726494102"
      ],
      "text/markdown": [
       "8.35022726494102"
      ],
      "text/plain": [
       "[1] 8.350227"
      ]
     },
     "metadata": {},
     "output_type": "display_data"
    }
   ],
   "source": [
    "error <-function(alpha){\n",
    "    maturities <- c(3,6,12,24,36,60,84,120) \n",
    "    bondValues <- list()\n",
    "    for (i in maturities){\n",
    "        bondValues <- append(bondValues, BondValue(today, i, firstYields, alpha))\n",
    "    }\n",
    "    error <- sum((unlist(bondValues)-100)**2)\n",
    "    return (error)\n",
    "}\n",
    "\n",
    "error(alpha)"
   ]
  },
  {
   "cell_type": "code",
   "execution_count": 37,
   "id": "7c7a9065-9e84-47c2-9239-9d782356225c",
   "metadata": {},
   "outputs": [
    {
     "data": {
      "text/html": [
       "<dl>\n",
       "\t<dt>$par</dt>\n",
       "\t\t<dd><style>\n",
       ".list-inline {list-style: none; margin:0; padding: 0}\n",
       ".list-inline>li {display: inline-block}\n",
       ".list-inline>li:not(:last-child)::after {content: \"\\00b7\"; padding: 0 .5ex}\n",
       "</style>\n",
       "<ol class=list-inline><li>0.00343939424789704</li><li>0.0105322205923502</li><li>0.0817121232717679</li><li>0.159800322624318</li><li>0.274481567907549</li></ol>\n",
       "</dd>\n",
       "\t<dt>$value</dt>\n",
       "\t\t<dd>8.35022726494102</dd>\n",
       "\t<dt>$counts</dt>\n",
       "\t\t<dd><style>\n",
       ".dl-inline {width: auto; margin:0; padding: 0}\n",
       ".dl-inline>dt, .dl-inline>dd {float: none; width: auto; display: inline-block}\n",
       ".dl-inline>dt::after {content: \":\\0020\"; padding-right: .5ex}\n",
       ".dl-inline>dt:not(:first-of-type) {padding-left: .5ex}\n",
       "</style><dl class=dl-inline><dt>function</dt><dd>21</dd><dt>gradient</dt><dd>21</dd></dl>\n",
       "</dd>\n",
       "\t<dt>$convergence</dt>\n",
       "\t\t<dd>52</dd>\n",
       "\t<dt>$message</dt>\n",
       "\t\t<dd>'ERROR: ABNORMAL_TERMINATION_IN_LNSRCH'</dd>\n",
       "</dl>\n"
      ],
      "text/latex": [
       "\\begin{description}\n",
       "\\item[\\$par] \\begin{enumerate*}\n",
       "\\item 0.00343939424789704\n",
       "\\item 0.0105322205923502\n",
       "\\item 0.0817121232717679\n",
       "\\item 0.159800322624318\n",
       "\\item 0.274481567907549\n",
       "\\end{enumerate*}\n",
       "\n",
       "\\item[\\$value] 8.35022726494102\n",
       "\\item[\\$counts] \\begin{description*}\n",
       "\\item[function] 21\n",
       "\\item[gradient] 21\n",
       "\\end{description*}\n",
       "\n",
       "\\item[\\$convergence] 52\n",
       "\\item[\\$message] 'ERROR: ABNORMAL\\_TERMINATION\\_IN\\_LNSRCH'\n",
       "\\end{description}\n"
      ],
      "text/markdown": [
       "$par\n",
       ":   1. 0.00343939424789704\n",
       "2. 0.0105322205923502\n",
       "3. 0.0817121232717679\n",
       "4. 0.159800322624318\n",
       "5. 0.274481567907549\n",
       "\n",
       "\n",
       "\n",
       "$value\n",
       ":   8.35022726494102\n",
       "$counts\n",
       ":   function\n",
       ":   21gradient\n",
       ":   21\n",
       "\n",
       "\n",
       "$convergence\n",
       ":   52\n",
       "$message\n",
       ":   'ERROR: ABNORMAL_TERMINATION_IN_LNSRCH'\n",
       "\n",
       "\n"
      ],
      "text/plain": [
       "$par\n",
       "[1] 0.003439394 0.010532221 0.081712123 0.159800323 0.274481568\n",
       "\n",
       "$value\n",
       "[1] 8.350227\n",
       "\n",
       "$counts\n",
       "function gradient \n",
       "      21       21 \n",
       "\n",
       "$convergence\n",
       "[1] 52\n",
       "\n",
       "$message\n",
       "[1] \"ERROR: ABNORMAL_TERMINATION_IN_LNSRCH\"\n"
      ]
     },
     "metadata": {},
     "output_type": "display_data"
    }
   ],
   "source": [
    "\n",
    "optim(alpha, error, lower = 0, upper= 1, method = \"L-BFGS-B\")"
   ]
  },
  {
   "cell_type": "code",
   "execution_count": 38,
   "id": "a40166af-e090-43ee-bc10-27c225afcea5",
   "metadata": {},
   "outputs": [],
   "source": [
    "opt <- optim(alpha, error, lower = 0, upper= 1, method = \"L-BFGS-B\")"
   ]
  },
  {
   "cell_type": "code",
   "execution_count": 39,
   "id": "329fea40",
   "metadata": {},
   "outputs": [
    {
     "data": {
      "text/html": [
       "<ol>\n",
       "\t<li><style>\n",
       ".list-inline {list-style: none; margin:0; padding: 0}\n",
       ".list-inline>li {display: inline-block}\n",
       ".list-inline>li:not(:last-child)::after {content: \"\\00b7\"; padding: 0 .5ex}\n",
       "</style>\n",
       "<ol class=list-inline><li>0.00343939424789704</li><li>0.0105322205923502</li><li>0.0817121232717679</li><li>0.159800322624318</li><li>0.274481567907549</li></ol>\n",
       "</li>\n",
       "</ol>\n"
      ],
      "text/latex": [
       "\\begin{enumerate}\n",
       "\\item \\begin{enumerate*}\n",
       "\\item 0.00343939424789704\n",
       "\\item 0.0105322205923502\n",
       "\\item 0.0817121232717679\n",
       "\\item 0.159800322624318\n",
       "\\item 0.274481567907549\n",
       "\\end{enumerate*}\n",
       "\n",
       "\\end{enumerate}\n"
      ],
      "text/markdown": [
       "1. 1. 0.00343939424789704\n",
       "2. 0.0105322205923502\n",
       "3. 0.0817121232717679\n",
       "4. 0.159800322624318\n",
       "5. 0.274481567907549\n",
       "\n",
       "\n",
       "\n",
       "\n",
       "\n"
      ],
      "text/plain": [
       "[[1]]\n",
       "[1] 0.003439394 0.010532221 0.081712123 0.159800323 0.274481568\n"
      ]
     },
     "metadata": {},
     "output_type": "display_data"
    }
   ],
   "source": [
    "list(opt$par)"
   ]
  },
  {
   "cell_type": "markdown",
   "id": "c52edb93",
   "metadata": {},
   "source": [
    "Valoración de bono de 7 años"
   ]
  },
  {
   "cell_type": "code",
   "execution_count": 95,
   "id": "5c82c495",
   "metadata": {},
   "outputs": [
    {
     "data": {
      "text/html": [
       "<time datetime=\"2022-02-11\">2022-02-11</time>"
      ],
      "text/latex": [
       "2022-02-11"
      ],
      "text/markdown": [
       "2022-02-11"
      ],
      "text/plain": [
       "[1] \"2022-02-11\""
      ]
     },
     "metadata": {},
     "output_type": "display_data"
    },
    {
     "data": {
      "text/html": [
       "67.3263831653086"
      ],
      "text/latex": [
       "67.3263831653086"
      ],
      "text/markdown": [
       "67.3263831653086"
      ],
      "text/plain": [
       "[1] 67.32638"
      ]
     },
     "metadata": {},
     "output_type": "display_data"
    },
    {
     "data": {
      "text/html": [
       "<dl>\n",
       "\t<dt>$par</dt>\n",
       "\t\t<dd>3.8353524030111</dd>\n",
       "\t<dt>$value</dt>\n",
       "\t\t<dd>1.17478769823265e-06</dd>\n",
       "\t<dt>$counts</dt>\n",
       "\t\t<dd><style>\n",
       ".dl-inline {width: auto; margin:0; padding: 0}\n",
       ".dl-inline>dt, .dl-inline>dd {float: none; width: auto; display: inline-block}\n",
       ".dl-inline>dt::after {content: \":\\0020\"; padding-right: .5ex}\n",
       ".dl-inline>dt:not(:first-of-type) {padding-left: .5ex}\n",
       "</style><dl class=dl-inline><dt>function</dt><dd>&lt;NA&gt;</dd><dt>gradient</dt><dd>&lt;NA&gt;</dd></dl>\n",
       "</dd>\n",
       "\t<dt>$convergence</dt>\n",
       "\t\t<dd>0</dd>\n",
       "\t<dt>$message</dt>\n",
       "\t\t<dd>NULL</dd>\n",
       "</dl>\n"
      ],
      "text/latex": [
       "\\begin{description}\n",
       "\\item[\\$par] 3.8353524030111\n",
       "\\item[\\$value] 1.17478769823265e-06\n",
       "\\item[\\$counts] \\begin{description*}\n",
       "\\item[function] <NA>\n",
       "\\item[gradient] <NA>\n",
       "\\end{description*}\n",
       "\n",
       "\\item[\\$convergence] 0\n",
       "\\item[\\$message] NULL\n",
       "\\end{description}\n"
      ],
      "text/markdown": [
       "$par\n",
       ":   3.8353524030111\n",
       "$value\n",
       ":   1.17478769823265e-06\n",
       "$counts\n",
       ":   function\n",
       ":   &lt;NA&gt;gradient\n",
       ":   &lt;NA&gt;\n",
       "\n",
       "\n",
       "$convergence\n",
       ":   0\n",
       "$message\n",
       ":   NULL\n",
       "\n",
       "\n"
      ],
      "text/plain": [
       "$par\n",
       "[1] 3.835352\n",
       "\n",
       "$value\n",
       "[1] 1.174788e-06\n",
       "\n",
       "$counts\n",
       "function gradient \n",
       "      NA       NA \n",
       "\n",
       "$convergence\n",
       "[1] 0\n",
       "\n",
       "$message\n",
       "NULL\n"
      ]
     },
     "metadata": {},
     "output_type": "display_data"
    }
   ],
   "source": [
    "alpha <- c(0.00343939424789704, 0.0105322205923502, 0.0817121232717679, 0.159800322624318, 0.274481567907549)\n",
    "pvnotional <- 100 - DiscountFactor(alpha[4], 84)*100\n",
    "pvnotional\n",
    "couponsum <- function (c){\n",
    "pvcoupon <- DiscountFactor(alpha[2], 12)*RateConverter(c, 12,today) + DiscountFactor(alpha[2], 24)*RateConverter(c,24,today) +\n",
    " DiscountFactor(alpha[3], 36)*RateConverter(c, 36,today) +DiscountFactor(alpha[3], 48)*RateConverter(c, 48,today) +\n",
    " DiscountFactor(alpha[4], 60)*RateConverter(c, 60,today) + DiscountFactor(alpha[4], 72)*RateConverter(c, 72,today) +  \n",
    " DiscountFactor(alpha[4], 84)*RateConverter(c, 84,today) + DiscountFactor(alpha[4], 84)*RateConverter(c, 84,today)\n",
    " result <-pvnotional- pvcoupon\n",
    "    if (result <0){\n",
    "        return (500)\n",
    "    }\n",
    "    else {\n",
    "        return (pvnotional- pvcoupon)\n",
    "    }\n",
    "    \n",
    "}\n",
    "\n",
    "opti <- optim(c,couponsum,lower = 0, upper=10,  method = \"Brent\")\n",
    "opti\n"
   ]
  },
  {
   "cell_type": "markdown",
   "id": "a0ac085d",
   "metadata": {},
   "source": [
    "Matriz de curvas 3 años en el pasado"
   ]
  },
  {
   "cell_type": "code",
   "execution_count": null,
   "id": "f154bbc5",
   "metadata": {},
   "outputs": [],
   "source": [
    "\n",
    "matAlphas <- list()\n",
    "for ( r in 1:nrow(df)){ \n",
    "    firstYields <- df[r,]\n",
    "    today <- firstYields$Date\n",
    "    alpha <- c(0.00343939424789704, 0.0105322205923502, 0.0817121232717679, 0.159800322624318, 0.274481567907549)\n",
    "    opt <- optim(alpha, error, lower = 0, upper= 1, method = \"L-BFGS-B\")\n",
    "    matAlphas <- append(matAlphas, list(opt$par))\n",
    "}"
   ]
  },
  {
   "cell_type": "code",
   "execution_count": null,
   "id": "6c7c98be",
   "metadata": {},
   "outputs": [],
   "source": [
    "MatofAlphas <- matrix(unlist(matAlphas), ncol = 5, byrow = TRUE)"
   ]
  },
  {
   "cell_type": "code",
   "execution_count": null,
   "id": "75147ad5",
   "metadata": {},
   "outputs": [],
   "source": [
    "write.csv(MatofAlphas,\"../data/sim.csv\", row.names = FALSE)"
   ]
  },
  {
   "cell_type": "code",
   "execution_count": 125,
   "id": "89765d2f",
   "metadata": {},
   "outputs": [
    {
     "data": {
      "text/html": [
       "<table class=\"dataframe\">\n",
       "<caption>A matrix: 5 × 5 of type dbl</caption>\n",
       "<thead>\n",
       "\t<tr><th></th><th scope=col>V1</th><th scope=col>V2</th><th scope=col>V3</th><th scope=col>V4</th><th scope=col>V5</th></tr>\n",
       "</thead>\n",
       "<tbody>\n",
       "\t<tr><th scope=row>V1</th><td> 9.771328e-07</td><td>-7.073570e-07</td><td>2.228744e-07</td><td>2.053774e-07</td><td> 4.229014e-07</td></tr>\n",
       "\t<tr><th scope=row>V2</th><td>-7.073570e-07</td><td> 1.112762e-06</td><td>6.264724e-07</td><td>8.720981e-08</td><td>-4.166142e-07</td></tr>\n",
       "\t<tr><th scope=row>V3</th><td> 2.228744e-07</td><td> 6.264724e-07</td><td>1.087694e-05</td><td>1.898993e-05</td><td> 1.497373e-05</td></tr>\n",
       "\t<tr><th scope=row>V4</th><td> 2.053774e-07</td><td> 8.720981e-08</td><td>1.898993e-05</td><td>6.477341e-05</td><td> 7.562438e-05</td></tr>\n",
       "\t<tr><th scope=row>V5</th><td> 4.229014e-07</td><td>-4.166142e-07</td><td>1.497373e-05</td><td>7.562438e-05</td><td> 1.970531e-04</td></tr>\n",
       "</tbody>\n",
       "</table>\n"
      ],
      "text/latex": [
       "A matrix: 5 × 5 of type dbl\n",
       "\\begin{tabular}{r|lllll}\n",
       "  & V1 & V2 & V3 & V4 & V5\\\\\n",
       "\\hline\n",
       "\tV1 &  9.771328e-07 & -7.073570e-07 & 2.228744e-07 & 2.053774e-07 &  4.229014e-07\\\\\n",
       "\tV2 & -7.073570e-07 &  1.112762e-06 & 6.264724e-07 & 8.720981e-08 & -4.166142e-07\\\\\n",
       "\tV3 &  2.228744e-07 &  6.264724e-07 & 1.087694e-05 & 1.898993e-05 &  1.497373e-05\\\\\n",
       "\tV4 &  2.053774e-07 &  8.720981e-08 & 1.898993e-05 & 6.477341e-05 &  7.562438e-05\\\\\n",
       "\tV5 &  4.229014e-07 & -4.166142e-07 & 1.497373e-05 & 7.562438e-05 &  1.970531e-04\\\\\n",
       "\\end{tabular}\n"
      ],
      "text/markdown": [
       "\n",
       "A matrix: 5 × 5 of type dbl\n",
       "\n",
       "| <!--/--> | V1 | V2 | V3 | V4 | V5 |\n",
       "|---|---|---|---|---|---|\n",
       "| V1 |  9.771328e-07 | -7.073570e-07 | 2.228744e-07 | 2.053774e-07 |  4.229014e-07 |\n",
       "| V2 | -7.073570e-07 |  1.112762e-06 | 6.264724e-07 | 8.720981e-08 | -4.166142e-07 |\n",
       "| V3 |  2.228744e-07 |  6.264724e-07 | 1.087694e-05 | 1.898993e-05 |  1.497373e-05 |\n",
       "| V4 |  2.053774e-07 |  8.720981e-08 | 1.898993e-05 | 6.477341e-05 |  7.562438e-05 |\n",
       "| V5 |  4.229014e-07 | -4.166142e-07 | 1.497373e-05 | 7.562438e-05 |  1.970531e-04 |\n",
       "\n"
      ],
      "text/plain": [
       "   V1            V2            V3           V4           V5           \n",
       "V1  9.771328e-07 -7.073570e-07 2.228744e-07 2.053774e-07  4.229014e-07\n",
       "V2 -7.073570e-07  1.112762e-06 6.264724e-07 8.720981e-08 -4.166142e-07\n",
       "V3  2.228744e-07  6.264724e-07 1.087694e-05 1.898993e-05  1.497373e-05\n",
       "V4  2.053774e-07  8.720981e-08 1.898993e-05 6.477341e-05  7.562438e-05\n",
       "V5  4.229014e-07 -4.166142e-07 1.497373e-05 7.562438e-05  1.970531e-04"
      ]
     },
     "metadata": {},
     "output_type": "display_data"
    }
   ],
   "source": [
    "MatofAlphas <- read.csv(\"../data/sim.csv\")\n",
    "i_alpha <- MatofAlphas[-nrow(MatofAlphas),]\n",
    "f_alpha <- MatofAlphas[-1,]\n",
    "delta_alpha <- f_alpha - i_alpha\n",
    "cov_delta_a <- cov(delta_alpha)\n",
    "cov_delta_a"
   ]
  },
  {
   "cell_type": "code",
   "execution_count": 127,
   "id": "15b0e16c",
   "metadata": {},
   "outputs": [
    {
     "data": {
      "text/html": [
       "<table class=\"dataframe\">\n",
       "<caption>A matrix: 5 × 5 of type dbl</caption>\n",
       "<tbody>\n",
       "\t<tr><td>-3.221540e-05</td><td>-3.010975e-05</td><td>-2.161982e-04</td><td> 1.062240e-02</td><td> 1.098073e-02</td></tr>\n",
       "\t<tr><td> 7.178107e-06</td><td>-8.480842e-05</td><td>-9.277103e-04</td><td>-4.214107e-03</td><td> 4.058110e-03</td></tr>\n",
       "\t<tr><td>-1.983426e-04</td><td>-7.937410e-04</td><td>-1.864125e-03</td><td> 2.008804e-04</td><td>-2.337859e-04</td></tr>\n",
       "\t<tr><td>-5.464285e-04</td><td>-1.078950e-03</td><td> 5.067286e-04</td><td>-4.429352e-05</td><td> 4.826334e-05</td></tr>\n",
       "\t<tr><td>-4.740559e-04</td><td> 2.198597e-04</td><td>-4.266474e-05</td><td> 1.342217e-06</td><td>-2.926360e-06</td></tr>\n",
       "</tbody>\n",
       "</table>\n"
      ],
      "text/latex": [
       "A matrix: 5 × 5 of type dbl\n",
       "\\begin{tabular}{lllll}\n",
       "\t -3.221540e-05 & -3.010975e-05 & -2.161982e-04 &  1.062240e-02 &  1.098073e-02\\\\\n",
       "\t  7.178107e-06 & -8.480842e-05 & -9.277103e-04 & -4.214107e-03 &  4.058110e-03\\\\\n",
       "\t -1.983426e-04 & -7.937410e-04 & -1.864125e-03 &  2.008804e-04 & -2.337859e-04\\\\\n",
       "\t -5.464285e-04 & -1.078950e-03 &  5.067286e-04 & -4.429352e-05 &  4.826334e-05\\\\\n",
       "\t -4.740559e-04 &  2.198597e-04 & -4.266474e-05 &  1.342217e-06 & -2.926360e-06\\\\\n",
       "\\end{tabular}\n"
      ],
      "text/markdown": [
       "\n",
       "A matrix: 5 × 5 of type dbl\n",
       "\n",
       "| -3.221540e-05 | -3.010975e-05 | -2.161982e-04 |  1.062240e-02 |  1.098073e-02 |\n",
       "|  7.178107e-06 | -8.480842e-05 | -9.277103e-04 | -4.214107e-03 |  4.058110e-03 |\n",
       "| -1.983426e-04 | -7.937410e-04 | -1.864125e-03 |  2.008804e-04 | -2.337859e-04 |\n",
       "| -5.464285e-04 | -1.078950e-03 |  5.067286e-04 | -4.429352e-05 |  4.826334e-05 |\n",
       "| -4.740559e-04 |  2.198597e-04 | -4.266474e-05 |  1.342217e-06 | -2.926360e-06 |\n",
       "\n"
      ],
      "text/plain": [
       "     [,1]          [,2]          [,3]          [,4]          [,5]         \n",
       "[1,] -3.221540e-05 -3.010975e-05 -2.161982e-04  1.062240e-02  1.098073e-02\n",
       "[2,]  7.178107e-06 -8.480842e-05 -9.277103e-04 -4.214107e-03  4.058110e-03\n",
       "[3,] -1.983426e-04 -7.937410e-04 -1.864125e-03  2.008804e-04 -2.337859e-04\n",
       "[4,] -5.464285e-04 -1.078950e-03  5.067286e-04 -4.429352e-05  4.826334e-05\n",
       "[5,] -4.740559e-04  2.198597e-04 -4.266474e-05  1.342217e-06 -2.926360e-06"
      ]
     },
     "metadata": {},
     "output_type": "display_data"
    }
   ],
   "source": [
    "eigen_delta <- eigen(cov_delta_a)\n",
    "A <- eigen_delta$vectors \n",
    "sqrt <- eigen_delta$values**(1/2)\n",
    "B <- A*sqrt\n",
    "B"
   ]
  },
  {
   "cell_type": "code",
   "execution_count": 129,
   "id": "890bd92a",
   "metadata": {},
   "outputs": [
    {
     "data": {
      "text/html": [
       "<table class=\"dataframe\">\n",
       "<caption>A data.frame: 53 × 5</caption>\n",
       "<thead>\n",
       "\t<tr><th scope=col>V1</th><th scope=col>V2</th><th scope=col>V3</th><th scope=col>V4</th><th scope=col>V5</th></tr>\n",
       "\t<tr><th scope=col>&lt;dbl&gt;</th><th scope=col>&lt;dbl&gt;</th><th scope=col>&lt;dbl&gt;</th><th scope=col>&lt;dbl&gt;</th><th scope=col>&lt;dbl&gt;</th></tr>\n",
       "</thead>\n",
       "<tbody>\n",
       "\t<tr><td> 0.000000e+00</td><td> 0.000000e+00</td><td>-1.333184e-04</td><td> 1.881514e-02</td><td>-0.2141663918</td></tr>\n",
       "\t<tr><td> 0.000000e+00</td><td> 0.000000e+00</td><td>-3.773180e-03</td><td>-8.112788e-04</td><td> 0.1005106588</td></tr>\n",
       "\t<tr><td> 0.000000e+00</td><td> 0.000000e+00</td><td>-1.054658e-02</td><td>-1.239013e-02</td><td>-0.0214826169</td></tr>\n",
       "\t<tr><td> 0.000000e+00</td><td> 0.000000e+00</td><td> 5.984417e-03</td><td>-7.853055e-02</td><td> 0.2068971694</td></tr>\n",
       "\t<tr><td> 0.000000e+00</td><td> 0.000000e+00</td><td>-2.217448e-04</td><td> 3.521188e-02</td><td>-0.2190847695</td></tr>\n",
       "\t<tr><td> 0.000000e+00</td><td> 0.000000e+00</td><td>-2.396780e-03</td><td>-7.958888e-03</td><td> 0.0321283608</td></tr>\n",
       "\t<tr><td> 0.000000e+00</td><td> 0.000000e+00</td><td>-1.299649e-02</td><td> 6.737609e-02</td><td>-0.0107767563</td></tr>\n",
       "\t<tr><td> 0.000000e+00</td><td> 0.000000e+00</td><td> 6.937991e-03</td><td>-7.817517e-02</td><td> 0.0008183035</td></tr>\n",
       "\t<tr><td> 0.000000e+00</td><td> 0.000000e+00</td><td>-1.265708e-03</td><td> 9.274631e-03</td><td> 0.2261002076</td></tr>\n",
       "\t<tr><td> 0.000000e+00</td><td> 0.000000e+00</td><td> 1.106529e-02</td><td>-3.034905e-03</td><td> 0.2040066334</td></tr>\n",
       "\t<tr><td> 0.000000e+00</td><td> 0.000000e+00</td><td>-1.105144e-02</td><td> 2.267406e-04</td><td>-0.0333839772</td></tr>\n",
       "\t<tr><td> 0.000000e+00</td><td> 0.000000e+00</td><td> 1.505554e-03</td><td> 6.722379e-02</td><td> 0.0113418829</td></tr>\n",
       "\t<tr><td> 0.000000e+00</td><td> 0.000000e+00</td><td>-4.590354e-04</td><td> 5.769880e-02</td><td>-0.0016915615</td></tr>\n",
       "\t<tr><td> 0.000000e+00</td><td> 0.000000e+00</td><td> 3.879301e-05</td><td>-9.981259e-03</td><td>-0.0006575046</td></tr>\n",
       "\t<tr><td> 0.000000e+00</td><td> 0.000000e+00</td><td> 1.096314e-02</td><td> 3.275258e-03</td><td> 0.0003744993</td></tr>\n",
       "\t<tr><td> 0.000000e+00</td><td> 0.000000e+00</td><td> 9.529747e-03</td><td>-4.899746e-04</td><td>-0.0293882044</td></tr>\n",
       "\t<tr><td> 0.000000e+00</td><td> 0.000000e+00</td><td>-1.598916e-03</td><td>-1.781147e-04</td><td>-0.1233444151</td></tr>\n",
       "\t<tr><td> 0.000000e+00</td><td> 0.000000e+00</td><td> 5.289945e-04</td><td> 9.479413e-05</td><td>-0.2481775331</td></tr>\n",
       "\t<tr><td> 0.000000e+00</td><td> 0.000000e+00</td><td>-1.244170e-04</td><td>-8.721779e-03</td><td>-0.0005088483</td></tr>\n",
       "\t<tr><td> 0.000000e+00</td><td> 0.000000e+00</td><td>-4.767230e-05</td><td>-4.036303e-02</td><td>-0.0039299999</td></tr>\n",
       "\t<tr><td> 0.000000e+00</td><td> 0.000000e+00</td><td> 2.520257e-05</td><td>-8.083437e-02</td><td>-0.0989206983</td></tr>\n",
       "\t<tr><td> 0.000000e+00</td><td> 0.000000e+00</td><td>-1.801455e-03</td><td>-1.592982e-04</td><td>-0.2034408488</td></tr>\n",
       "\t<tr><td> 0.000000e+00</td><td> 0.000000e+00</td><td>-8.440582e-03</td><td>-1.109053e-03</td><td> 0.0972345891</td></tr>\n",
       "\t<tr><td> 0.000000e+00</td><td> 0.000000e+00</td><td>-1.600986e-02</td><td>-2.736657e-02</td><td>-0.0033135461</td></tr>\n",
       "\t<tr><td> 0.000000e+00</td><td> 0.000000e+00</td><td>-3.172754e-05</td><td>-5.790356e-02</td><td>-0.0350178594</td></tr>\n",
       "\t<tr><td> 0.000000e+00</td><td> 0.000000e+00</td><td>-2.762669e-04</td><td> 3.268849e-02</td><td>-0.2121962098</td></tr>\n",
       "\t<tr><td> 0.000000e+00</td><td> 0.000000e+00</td><td>-7.797200e-03</td><td>-1.100749e-03</td><td> 0.0882906705</td></tr>\n",
       "\t<tr><td> 0.000000e+00</td><td> 0.000000e+00</td><td>-1.725572e-02</td><td>-1.228784e-02</td><td>-0.0181257838</td></tr>\n",
       "\t<tr><td> 0.000000e+00</td><td> 0.000000e+00</td><td> 8.353477e-03</td><td>-7.459736e-02</td><td> 0.1625519227</td></tr>\n",
       "\t<tr><td> 0.000000e+00</td><td> 0.000000e+00</td><td>-2.713865e-04</td><td> 3.089097e-02</td><td>-0.1697676469</td></tr>\n",
       "\t<tr><td> 0.000000e+00</td><td> 0.000000e+00</td><td>-3.258760e-03</td><td>-6.774630e-03</td><td> 0.0234541853</td></tr>\n",
       "\t<tr><td> 0.000000e+00</td><td> 0.000000e+00</td><td>-1.992630e-02</td><td> 6.202233e-02</td><td>-0.0081367778</td></tr>\n",
       "\t<tr><td> 0.000000e+00</td><td> 0.000000e+00</td><td> 9.811724e-03</td><td>-6.980647e-02</td><td> 0.0006508139</td></tr>\n",
       "\t<tr><td> 0.000000e+00</td><td> 0.000000e+00</td><td>-1.876452e-03</td><td> 9.574854e-03</td><td> 0.1857772214</td></tr>\n",
       "\t<tr><td> 0.000000e+00</td><td> 0.000000e+00</td><td> 1.918773e-02</td><td>-3.776187e-03</td><td> 0.1935166781</td></tr>\n",
       "\t<tr><td> 0.000000e+00</td><td> 0.000000e+00</td><td>-2.360643e-02</td><td> 2.969673e-04</td><td>-0.0301487436</td></tr>\n",
       "\t<tr><td> 0.000000e+00</td><td> 0.000000e+00</td><td> 3.606199e-03</td><td> 8.744774e-02</td><td> 0.0100432902</td></tr>\n",
       "\t<tr><td> 0.000000e+00</td><td> 0.000000e+00</td><td>-1.240925e-03</td><td> 8.395568e-02</td><td>-0.0014278879</td></tr>\n",
       "\t<tr><td> 0.000000e+00</td><td> 0.000000e+00</td><td> 8.128120e-05</td><td>-1.226822e-02</td><td>-0.0005145396</td></tr>\n",
       "\t<tr><td> 0.000000e+00</td><td> 0.000000e+00</td><td> 2.921797e-02</td><td> 4.500617e-03</td><td> 0.0003072913</td></tr>\n",
       "\t<tr><td> 0.000000e+00</td><td> 0.000000e+00</td><td> 2.830809e-02</td><td>-6.815476e-04</td><td>-0.0240927928</td></tr>\n",
       "\t<tr><td> 0.000000e+00</td><td> 0.000000e+00</td><td>-4.414330e-03</td><td>-2.459808e-04</td><td>-0.0995389499</td></tr>\n",
       "\t<tr><td> 0.000000e+00</td><td> 0.000000e+00</td><td> 1.536780e-03</td><td> 1.331606e-04</td><td>-0.1909404574</td></tr>\n",
       "\t<tr><td> 0.000000e+00</td><td> 0.000000e+00</td><td>-2.685935e-04</td><td>-1.142105e-02</td><td>-0.0004571416</td></tr>\n",
       "\t<tr><td> 0.000000e+00</td><td> 0.000000e+00</td><td>-9.515507e-05</td><td>-4.615132e-02</td><td>-0.0031578226</td></tr>\n",
       "\t<tr><td> 0.000000e+00</td><td> 0.000000e+00</td><td> 5.785853e-05</td><td>-1.058731e-01</td><td>-0.0905420365</td></tr>\n",
       "\t<tr><td> 1.535513e-03</td><td> 0.000000e+00</td><td>-4.553681e-03</td><td>-2.374205e-04</td><td>-0.1947573589</td></tr>\n",
       "\t<tr><td>-1.968794e-04</td><td> 0.000000e+00</td><td>-2.363778e-02</td><td>-2.057730e-03</td><td> 0.1140934381</td></tr>\n",
       "\t<tr><td> 1.235851e-04</td><td> 0.000000e+00</td><td>-5.635913e-02</td><td>-5.609933e-02</td><td>-0.0038355759</td></tr>\n",
       "\t<tr><td>-3.079177e-05</td><td> 0.000000e+00</td><td>-1.244503e-04</td><td>-1.185518e-01</td><td>-0.0414430971</td></tr>\n",
       "\t<tr><td> 0.000000e+00</td><td>-3.015843e-03</td><td>-9.430245e-04</td><td> 6.128090e-02</td><td>-0.2368293472</td></tr>\n",
       "\t<tr><td> 2.996217e-06</td><td>-7.405486e-03</td><td>-2.820346e-02</td><td>-2.248777e-03</td><td> 0.1069212643</td></tr>\n",
       "\t<tr><td>-3.313210e-04</td><td>-2.075489e-05</td><td>-6.715008e-02</td><td>-2.502467e-02</td><td>-0.0223355438</td></tr>\n",
       "</tbody>\n",
       "</table>\n"
      ],
      "text/latex": [
       "A data.frame: 53 × 5\n",
       "\\begin{tabular}{lllll}\n",
       " V1 & V2 & V3 & V4 & V5\\\\\n",
       " <dbl> & <dbl> & <dbl> & <dbl> & <dbl>\\\\\n",
       "\\hline\n",
       "\t  0.000000e+00 &  0.000000e+00 & -1.333184e-04 &  1.881514e-02 & -0.2141663918\\\\\n",
       "\t  0.000000e+00 &  0.000000e+00 & -3.773180e-03 & -8.112788e-04 &  0.1005106588\\\\\n",
       "\t  0.000000e+00 &  0.000000e+00 & -1.054658e-02 & -1.239013e-02 & -0.0214826169\\\\\n",
       "\t  0.000000e+00 &  0.000000e+00 &  5.984417e-03 & -7.853055e-02 &  0.2068971694\\\\\n",
       "\t  0.000000e+00 &  0.000000e+00 & -2.217448e-04 &  3.521188e-02 & -0.2190847695\\\\\n",
       "\t  0.000000e+00 &  0.000000e+00 & -2.396780e-03 & -7.958888e-03 &  0.0321283608\\\\\n",
       "\t  0.000000e+00 &  0.000000e+00 & -1.299649e-02 &  6.737609e-02 & -0.0107767563\\\\\n",
       "\t  0.000000e+00 &  0.000000e+00 &  6.937991e-03 & -7.817517e-02 &  0.0008183035\\\\\n",
       "\t  0.000000e+00 &  0.000000e+00 & -1.265708e-03 &  9.274631e-03 &  0.2261002076\\\\\n",
       "\t  0.000000e+00 &  0.000000e+00 &  1.106529e-02 & -3.034905e-03 &  0.2040066334\\\\\n",
       "\t  0.000000e+00 &  0.000000e+00 & -1.105144e-02 &  2.267406e-04 & -0.0333839772\\\\\n",
       "\t  0.000000e+00 &  0.000000e+00 &  1.505554e-03 &  6.722379e-02 &  0.0113418829\\\\\n",
       "\t  0.000000e+00 &  0.000000e+00 & -4.590354e-04 &  5.769880e-02 & -0.0016915615\\\\\n",
       "\t  0.000000e+00 &  0.000000e+00 &  3.879301e-05 & -9.981259e-03 & -0.0006575046\\\\\n",
       "\t  0.000000e+00 &  0.000000e+00 &  1.096314e-02 &  3.275258e-03 &  0.0003744993\\\\\n",
       "\t  0.000000e+00 &  0.000000e+00 &  9.529747e-03 & -4.899746e-04 & -0.0293882044\\\\\n",
       "\t  0.000000e+00 &  0.000000e+00 & -1.598916e-03 & -1.781147e-04 & -0.1233444151\\\\\n",
       "\t  0.000000e+00 &  0.000000e+00 &  5.289945e-04 &  9.479413e-05 & -0.2481775331\\\\\n",
       "\t  0.000000e+00 &  0.000000e+00 & -1.244170e-04 & -8.721779e-03 & -0.0005088483\\\\\n",
       "\t  0.000000e+00 &  0.000000e+00 & -4.767230e-05 & -4.036303e-02 & -0.0039299999\\\\\n",
       "\t  0.000000e+00 &  0.000000e+00 &  2.520257e-05 & -8.083437e-02 & -0.0989206983\\\\\n",
       "\t  0.000000e+00 &  0.000000e+00 & -1.801455e-03 & -1.592982e-04 & -0.2034408488\\\\\n",
       "\t  0.000000e+00 &  0.000000e+00 & -8.440582e-03 & -1.109053e-03 &  0.0972345891\\\\\n",
       "\t  0.000000e+00 &  0.000000e+00 & -1.600986e-02 & -2.736657e-02 & -0.0033135461\\\\\n",
       "\t  0.000000e+00 &  0.000000e+00 & -3.172754e-05 & -5.790356e-02 & -0.0350178594\\\\\n",
       "\t  0.000000e+00 &  0.000000e+00 & -2.762669e-04 &  3.268849e-02 & -0.2121962098\\\\\n",
       "\t  0.000000e+00 &  0.000000e+00 & -7.797200e-03 & -1.100749e-03 &  0.0882906705\\\\\n",
       "\t  0.000000e+00 &  0.000000e+00 & -1.725572e-02 & -1.228784e-02 & -0.0181257838\\\\\n",
       "\t  0.000000e+00 &  0.000000e+00 &  8.353477e-03 & -7.459736e-02 &  0.1625519227\\\\\n",
       "\t  0.000000e+00 &  0.000000e+00 & -2.713865e-04 &  3.089097e-02 & -0.1697676469\\\\\n",
       "\t  0.000000e+00 &  0.000000e+00 & -3.258760e-03 & -6.774630e-03 &  0.0234541853\\\\\n",
       "\t  0.000000e+00 &  0.000000e+00 & -1.992630e-02 &  6.202233e-02 & -0.0081367778\\\\\n",
       "\t  0.000000e+00 &  0.000000e+00 &  9.811724e-03 & -6.980647e-02 &  0.0006508139\\\\\n",
       "\t  0.000000e+00 &  0.000000e+00 & -1.876452e-03 &  9.574854e-03 &  0.1857772214\\\\\n",
       "\t  0.000000e+00 &  0.000000e+00 &  1.918773e-02 & -3.776187e-03 &  0.1935166781\\\\\n",
       "\t  0.000000e+00 &  0.000000e+00 & -2.360643e-02 &  2.969673e-04 & -0.0301487436\\\\\n",
       "\t  0.000000e+00 &  0.000000e+00 &  3.606199e-03 &  8.744774e-02 &  0.0100432902\\\\\n",
       "\t  0.000000e+00 &  0.000000e+00 & -1.240925e-03 &  8.395568e-02 & -0.0014278879\\\\\n",
       "\t  0.000000e+00 &  0.000000e+00 &  8.128120e-05 & -1.226822e-02 & -0.0005145396\\\\\n",
       "\t  0.000000e+00 &  0.000000e+00 &  2.921797e-02 &  4.500617e-03 &  0.0003072913\\\\\n",
       "\t  0.000000e+00 &  0.000000e+00 &  2.830809e-02 & -6.815476e-04 & -0.0240927928\\\\\n",
       "\t  0.000000e+00 &  0.000000e+00 & -4.414330e-03 & -2.459808e-04 & -0.0995389499\\\\\n",
       "\t  0.000000e+00 &  0.000000e+00 &  1.536780e-03 &  1.331606e-04 & -0.1909404574\\\\\n",
       "\t  0.000000e+00 &  0.000000e+00 & -2.685935e-04 & -1.142105e-02 & -0.0004571416\\\\\n",
       "\t  0.000000e+00 &  0.000000e+00 & -9.515507e-05 & -4.615132e-02 & -0.0031578226\\\\\n",
       "\t  0.000000e+00 &  0.000000e+00 &  5.785853e-05 & -1.058731e-01 & -0.0905420365\\\\\n",
       "\t  1.535513e-03 &  0.000000e+00 & -4.553681e-03 & -2.374205e-04 & -0.1947573589\\\\\n",
       "\t -1.968794e-04 &  0.000000e+00 & -2.363778e-02 & -2.057730e-03 &  0.1140934381\\\\\n",
       "\t  1.235851e-04 &  0.000000e+00 & -5.635913e-02 & -5.609933e-02 & -0.0038355759\\\\\n",
       "\t -3.079177e-05 &  0.000000e+00 & -1.244503e-04 & -1.185518e-01 & -0.0414430971\\\\\n",
       "\t  0.000000e+00 & -3.015843e-03 & -9.430245e-04 &  6.128090e-02 & -0.2368293472\\\\\n",
       "\t  2.996217e-06 & -7.405486e-03 & -2.820346e-02 & -2.248777e-03 &  0.1069212643\\\\\n",
       "\t -3.313210e-04 & -2.075489e-05 & -6.715008e-02 & -2.502467e-02 & -0.0223355438\\\\\n",
       "\\end{tabular}\n"
      ],
      "text/markdown": [
       "\n",
       "A data.frame: 53 × 5\n",
       "\n",
       "| V1 &lt;dbl&gt; | V2 &lt;dbl&gt; | V3 &lt;dbl&gt; | V4 &lt;dbl&gt; | V5 &lt;dbl&gt; |\n",
       "|---|---|---|---|---|\n",
       "|  0.000000e+00 |  0.000000e+00 | -1.333184e-04 |  1.881514e-02 | -0.2141663918 |\n",
       "|  0.000000e+00 |  0.000000e+00 | -3.773180e-03 | -8.112788e-04 |  0.1005106588 |\n",
       "|  0.000000e+00 |  0.000000e+00 | -1.054658e-02 | -1.239013e-02 | -0.0214826169 |\n",
       "|  0.000000e+00 |  0.000000e+00 |  5.984417e-03 | -7.853055e-02 |  0.2068971694 |\n",
       "|  0.000000e+00 |  0.000000e+00 | -2.217448e-04 |  3.521188e-02 | -0.2190847695 |\n",
       "|  0.000000e+00 |  0.000000e+00 | -2.396780e-03 | -7.958888e-03 |  0.0321283608 |\n",
       "|  0.000000e+00 |  0.000000e+00 | -1.299649e-02 |  6.737609e-02 | -0.0107767563 |\n",
       "|  0.000000e+00 |  0.000000e+00 |  6.937991e-03 | -7.817517e-02 |  0.0008183035 |\n",
       "|  0.000000e+00 |  0.000000e+00 | -1.265708e-03 |  9.274631e-03 |  0.2261002076 |\n",
       "|  0.000000e+00 |  0.000000e+00 |  1.106529e-02 | -3.034905e-03 |  0.2040066334 |\n",
       "|  0.000000e+00 |  0.000000e+00 | -1.105144e-02 |  2.267406e-04 | -0.0333839772 |\n",
       "|  0.000000e+00 |  0.000000e+00 |  1.505554e-03 |  6.722379e-02 |  0.0113418829 |\n",
       "|  0.000000e+00 |  0.000000e+00 | -4.590354e-04 |  5.769880e-02 | -0.0016915615 |\n",
       "|  0.000000e+00 |  0.000000e+00 |  3.879301e-05 | -9.981259e-03 | -0.0006575046 |\n",
       "|  0.000000e+00 |  0.000000e+00 |  1.096314e-02 |  3.275258e-03 |  0.0003744993 |\n",
       "|  0.000000e+00 |  0.000000e+00 |  9.529747e-03 | -4.899746e-04 | -0.0293882044 |\n",
       "|  0.000000e+00 |  0.000000e+00 | -1.598916e-03 | -1.781147e-04 | -0.1233444151 |\n",
       "|  0.000000e+00 |  0.000000e+00 |  5.289945e-04 |  9.479413e-05 | -0.2481775331 |\n",
       "|  0.000000e+00 |  0.000000e+00 | -1.244170e-04 | -8.721779e-03 | -0.0005088483 |\n",
       "|  0.000000e+00 |  0.000000e+00 | -4.767230e-05 | -4.036303e-02 | -0.0039299999 |\n",
       "|  0.000000e+00 |  0.000000e+00 |  2.520257e-05 | -8.083437e-02 | -0.0989206983 |\n",
       "|  0.000000e+00 |  0.000000e+00 | -1.801455e-03 | -1.592982e-04 | -0.2034408488 |\n",
       "|  0.000000e+00 |  0.000000e+00 | -8.440582e-03 | -1.109053e-03 |  0.0972345891 |\n",
       "|  0.000000e+00 |  0.000000e+00 | -1.600986e-02 | -2.736657e-02 | -0.0033135461 |\n",
       "|  0.000000e+00 |  0.000000e+00 | -3.172754e-05 | -5.790356e-02 | -0.0350178594 |\n",
       "|  0.000000e+00 |  0.000000e+00 | -2.762669e-04 |  3.268849e-02 | -0.2121962098 |\n",
       "|  0.000000e+00 |  0.000000e+00 | -7.797200e-03 | -1.100749e-03 |  0.0882906705 |\n",
       "|  0.000000e+00 |  0.000000e+00 | -1.725572e-02 | -1.228784e-02 | -0.0181257838 |\n",
       "|  0.000000e+00 |  0.000000e+00 |  8.353477e-03 | -7.459736e-02 |  0.1625519227 |\n",
       "|  0.000000e+00 |  0.000000e+00 | -2.713865e-04 |  3.089097e-02 | -0.1697676469 |\n",
       "|  0.000000e+00 |  0.000000e+00 | -3.258760e-03 | -6.774630e-03 |  0.0234541853 |\n",
       "|  0.000000e+00 |  0.000000e+00 | -1.992630e-02 |  6.202233e-02 | -0.0081367778 |\n",
       "|  0.000000e+00 |  0.000000e+00 |  9.811724e-03 | -6.980647e-02 |  0.0006508139 |\n",
       "|  0.000000e+00 |  0.000000e+00 | -1.876452e-03 |  9.574854e-03 |  0.1857772214 |\n",
       "|  0.000000e+00 |  0.000000e+00 |  1.918773e-02 | -3.776187e-03 |  0.1935166781 |\n",
       "|  0.000000e+00 |  0.000000e+00 | -2.360643e-02 |  2.969673e-04 | -0.0301487436 |\n",
       "|  0.000000e+00 |  0.000000e+00 |  3.606199e-03 |  8.744774e-02 |  0.0100432902 |\n",
       "|  0.000000e+00 |  0.000000e+00 | -1.240925e-03 |  8.395568e-02 | -0.0014278879 |\n",
       "|  0.000000e+00 |  0.000000e+00 |  8.128120e-05 | -1.226822e-02 | -0.0005145396 |\n",
       "|  0.000000e+00 |  0.000000e+00 |  2.921797e-02 |  4.500617e-03 |  0.0003072913 |\n",
       "|  0.000000e+00 |  0.000000e+00 |  2.830809e-02 | -6.815476e-04 | -0.0240927928 |\n",
       "|  0.000000e+00 |  0.000000e+00 | -4.414330e-03 | -2.459808e-04 | -0.0995389499 |\n",
       "|  0.000000e+00 |  0.000000e+00 |  1.536780e-03 |  1.331606e-04 | -0.1909404574 |\n",
       "|  0.000000e+00 |  0.000000e+00 | -2.685935e-04 | -1.142105e-02 | -0.0004571416 |\n",
       "|  0.000000e+00 |  0.000000e+00 | -9.515507e-05 | -4.615132e-02 | -0.0031578226 |\n",
       "|  0.000000e+00 |  0.000000e+00 |  5.785853e-05 | -1.058731e-01 | -0.0905420365 |\n",
       "|  1.535513e-03 |  0.000000e+00 | -4.553681e-03 | -2.374205e-04 | -0.1947573589 |\n",
       "| -1.968794e-04 |  0.000000e+00 | -2.363778e-02 | -2.057730e-03 |  0.1140934381 |\n",
       "|  1.235851e-04 |  0.000000e+00 | -5.635913e-02 | -5.609933e-02 | -0.0038355759 |\n",
       "| -3.079177e-05 |  0.000000e+00 | -1.244503e-04 | -1.185518e-01 | -0.0414430971 |\n",
       "|  0.000000e+00 | -3.015843e-03 | -9.430245e-04 |  6.128090e-02 | -0.2368293472 |\n",
       "|  2.996217e-06 | -7.405486e-03 | -2.820346e-02 | -2.248777e-03 |  0.1069212643 |\n",
       "| -3.313210e-04 | -2.075489e-05 | -6.715008e-02 | -2.502467e-02 | -0.0223355438 |\n",
       "\n"
      ],
      "text/plain": [
       "   V1            V2            V3            V4            V5           \n",
       "1   0.000000e+00  0.000000e+00 -1.333184e-04  1.881514e-02 -0.2141663918\n",
       "2   0.000000e+00  0.000000e+00 -3.773180e-03 -8.112788e-04  0.1005106588\n",
       "3   0.000000e+00  0.000000e+00 -1.054658e-02 -1.239013e-02 -0.0214826169\n",
       "4   0.000000e+00  0.000000e+00  5.984417e-03 -7.853055e-02  0.2068971694\n",
       "5   0.000000e+00  0.000000e+00 -2.217448e-04  3.521188e-02 -0.2190847695\n",
       "6   0.000000e+00  0.000000e+00 -2.396780e-03 -7.958888e-03  0.0321283608\n",
       "7   0.000000e+00  0.000000e+00 -1.299649e-02  6.737609e-02 -0.0107767563\n",
       "8   0.000000e+00  0.000000e+00  6.937991e-03 -7.817517e-02  0.0008183035\n",
       "9   0.000000e+00  0.000000e+00 -1.265708e-03  9.274631e-03  0.2261002076\n",
       "10  0.000000e+00  0.000000e+00  1.106529e-02 -3.034905e-03  0.2040066334\n",
       "11  0.000000e+00  0.000000e+00 -1.105144e-02  2.267406e-04 -0.0333839772\n",
       "12  0.000000e+00  0.000000e+00  1.505554e-03  6.722379e-02  0.0113418829\n",
       "13  0.000000e+00  0.000000e+00 -4.590354e-04  5.769880e-02 -0.0016915615\n",
       "14  0.000000e+00  0.000000e+00  3.879301e-05 -9.981259e-03 -0.0006575046\n",
       "15  0.000000e+00  0.000000e+00  1.096314e-02  3.275258e-03  0.0003744993\n",
       "16  0.000000e+00  0.000000e+00  9.529747e-03 -4.899746e-04 -0.0293882044\n",
       "17  0.000000e+00  0.000000e+00 -1.598916e-03 -1.781147e-04 -0.1233444151\n",
       "18  0.000000e+00  0.000000e+00  5.289945e-04  9.479413e-05 -0.2481775331\n",
       "19  0.000000e+00  0.000000e+00 -1.244170e-04 -8.721779e-03 -0.0005088483\n",
       "20  0.000000e+00  0.000000e+00 -4.767230e-05 -4.036303e-02 -0.0039299999\n",
       "21  0.000000e+00  0.000000e+00  2.520257e-05 -8.083437e-02 -0.0989206983\n",
       "22  0.000000e+00  0.000000e+00 -1.801455e-03 -1.592982e-04 -0.2034408488\n",
       "23  0.000000e+00  0.000000e+00 -8.440582e-03 -1.109053e-03  0.0972345891\n",
       "24  0.000000e+00  0.000000e+00 -1.600986e-02 -2.736657e-02 -0.0033135461\n",
       "25  0.000000e+00  0.000000e+00 -3.172754e-05 -5.790356e-02 -0.0350178594\n",
       "26  0.000000e+00  0.000000e+00 -2.762669e-04  3.268849e-02 -0.2121962098\n",
       "27  0.000000e+00  0.000000e+00 -7.797200e-03 -1.100749e-03  0.0882906705\n",
       "28  0.000000e+00  0.000000e+00 -1.725572e-02 -1.228784e-02 -0.0181257838\n",
       "29  0.000000e+00  0.000000e+00  8.353477e-03 -7.459736e-02  0.1625519227\n",
       "30  0.000000e+00  0.000000e+00 -2.713865e-04  3.089097e-02 -0.1697676469\n",
       "31  0.000000e+00  0.000000e+00 -3.258760e-03 -6.774630e-03  0.0234541853\n",
       "32  0.000000e+00  0.000000e+00 -1.992630e-02  6.202233e-02 -0.0081367778\n",
       "33  0.000000e+00  0.000000e+00  9.811724e-03 -6.980647e-02  0.0006508139\n",
       "34  0.000000e+00  0.000000e+00 -1.876452e-03  9.574854e-03  0.1857772214\n",
       "35  0.000000e+00  0.000000e+00  1.918773e-02 -3.776187e-03  0.1935166781\n",
       "36  0.000000e+00  0.000000e+00 -2.360643e-02  2.969673e-04 -0.0301487436\n",
       "37  0.000000e+00  0.000000e+00  3.606199e-03  8.744774e-02  0.0100432902\n",
       "38  0.000000e+00  0.000000e+00 -1.240925e-03  8.395568e-02 -0.0014278879\n",
       "39  0.000000e+00  0.000000e+00  8.128120e-05 -1.226822e-02 -0.0005145396\n",
       "40  0.000000e+00  0.000000e+00  2.921797e-02  4.500617e-03  0.0003072913\n",
       "41  0.000000e+00  0.000000e+00  2.830809e-02 -6.815476e-04 -0.0240927928\n",
       "42  0.000000e+00  0.000000e+00 -4.414330e-03 -2.459808e-04 -0.0995389499\n",
       "43  0.000000e+00  0.000000e+00  1.536780e-03  1.331606e-04 -0.1909404574\n",
       "44  0.000000e+00  0.000000e+00 -2.685935e-04 -1.142105e-02 -0.0004571416\n",
       "45  0.000000e+00  0.000000e+00 -9.515507e-05 -4.615132e-02 -0.0031578226\n",
       "46  0.000000e+00  0.000000e+00  5.785853e-05 -1.058731e-01 -0.0905420365\n",
       "47  1.535513e-03  0.000000e+00 -4.553681e-03 -2.374205e-04 -0.1947573589\n",
       "48 -1.968794e-04  0.000000e+00 -2.363778e-02 -2.057730e-03  0.1140934381\n",
       "49  1.235851e-04  0.000000e+00 -5.635913e-02 -5.609933e-02 -0.0038355759\n",
       "50 -3.079177e-05  0.000000e+00 -1.244503e-04 -1.185518e-01 -0.0414430971\n",
       "51  0.000000e+00 -3.015843e-03 -9.430245e-04  6.128090e-02 -0.2368293472\n",
       "52  2.996217e-06 -7.405486e-03 -2.820346e-02 -2.248777e-03  0.1069212643\n",
       "53 -3.313210e-04 -2.075489e-05 -6.715008e-02 -2.502467e-02 -0.0223355438"
      ]
     },
     "metadata": {},
     "output_type": "display_data"
    }
   ],
   "source": [
    "Y <- MatofAlphas*A\n",
    "Y"
   ]
  },
  {
   "cell_type": "code",
   "execution_count": 130,
   "id": "8891c81a",
   "metadata": {},
   "outputs": [
    {
     "data": {
      "text/html": [
       "<table class=\"dataframe\">\n",
       "<caption>A data.frame: 53 × 5</caption>\n",
       "<thead>\n",
       "\t<tr><th scope=col>V1</th><th scope=col>V2</th><th scope=col>V3</th><th scope=col>V4</th><th scope=col>V5</th></tr>\n",
       "\t<tr><th scope=col>&lt;dbl&gt;</th><th scope=col>&lt;dbl&gt;</th><th scope=col>&lt;dbl&gt;</th><th scope=col>&lt;dbl&gt;</th><th scope=col>&lt;dbl&gt;</th></tr>\n",
       "</thead>\n",
       "<tbody>\n",
       "\t<tr><td> 0.000000e+00</td><td> 0.000000e+00</td><td>-7.897900e-07</td><td> 9.864910e-06</td><td>-4.409611e-04</td></tr>\n",
       "\t<tr><td> 0.000000e+00</td><td> 0.000000e+00</td><td>-7.768845e-06</td><td>-1.239586e-05</td><td> 1.319633e-04</td></tr>\n",
       "\t<tr><td> 0.000000e+00</td><td> 0.000000e+00</td><td>-1.384690e-05</td><td>-7.340026e-05</td><td>-1.126349e-05</td></tr>\n",
       "\t<tr><td> 0.000000e+00</td><td> 0.000000e+00</td><td> 3.137672e-06</td><td>-1.616916e-04</td><td> 3.161267e-03</td></tr>\n",
       "\t<tr><td> 0.000000e+00</td><td> 0.000000e+00</td><td>-3.388131e-06</td><td> 4.623069e-05</td><td>-1.297878e-03</td></tr>\n",
       "\t<tr><td> 0.000000e+00</td><td> 0.000000e+00</td><td>-1.419874e-05</td><td>-4.172901e-06</td><td> 6.615117e-05</td></tr>\n",
       "\t<tr><td> 0.000000e+00</td><td> 0.000000e+00</td><td>-2.675931e-05</td><td> 1.029467e-03</td><td>-1.414911e-05</td></tr>\n",
       "\t<tr><td> 0.000000e+00</td><td> 0.000000e+00</td><td> 9.109087e-06</td><td>-4.631168e-04</td><td> 4.290423e-07</td></tr>\n",
       "\t<tr><td> 0.000000e+00</td><td> 0.000000e+00</td><td>-6.636197e-07</td><td> 1.909614e-05</td><td> 3.454678e-03</td></tr>\n",
       "\t<tr><td> 0.000000e+00</td><td> 0.000000e+00</td><td> 1.690711e-04</td><td>-3.984614e-06</td><td> 1.208554e-03</td></tr>\n",
       "\t<tr><td> 0.000000e+00</td><td> 0.000000e+00</td><td>-6.546974e-05</td><td> 1.188817e-07</td><td>-6.873643e-05</td></tr>\n",
       "\t<tr><td> 0.000000e+00</td><td> 0.000000e+00</td><td> 3.099883e-06</td><td> 1.027140e-03</td><td> 1.489108e-05</td></tr>\n",
       "\t<tr><td> 0.000000e+00</td><td> 0.000000e+00</td><td>-6.026807e-07</td><td> 3.418129e-04</td><td>-8.868976e-07</td></tr>\n",
       "\t<tr><td> 0.000000e+00</td><td> 0.000000e+00</td><td> 2.033945e-08</td><td>-2.055106e-05</td><td>-1.004628e-05</td></tr>\n",
       "\t<tr><td> 0.000000e+00</td><td> 0.000000e+00</td><td> 1.675104e-04</td><td> 4.300180e-06</td><td> 2.218568e-06</td></tr>\n",
       "\t<tr><td> 0.000000e+00</td><td> 0.000000e+00</td><td> 5.645509e-05</td><td>-2.568971e-07</td><td>-6.050928e-05</td></tr>\n",
       "\t<tr><td> 0.000000e+00</td><td> 0.000000e+00</td><td>-3.292112e-06</td><td>-2.721487e-06</td><td>-1.619424e-04</td></tr>\n",
       "\t<tr><td> 0.000000e+00</td><td> 0.000000e+00</td><td> 6.945320e-07</td><td> 5.615690e-07</td><td>-1.301212e-04</td></tr>\n",
       "\t<tr><td> 0.000000e+00</td><td> 0.000000e+00</td><td>-6.523272e-08</td><td>-1.795784e-05</td><td>-7.774903e-06</td></tr>\n",
       "\t<tr><td> 0.000000e+00</td><td> 0.000000e+00</td><td>-7.284047e-07</td><td>-5.299378e-05</td><td>-2.328168e-05</td></tr>\n",
       "\t<tr><td> 0.000000e+00</td><td> 0.000000e+00</td><td> 1.493023e-07</td><td>-4.238203e-05</td><td>-2.036742e-04</td></tr>\n",
       "\t<tr><td> 0.000000e+00</td><td> 0.000000e+00</td><td>-3.709132e-06</td><td>-2.433983e-06</td><td>-2.671033e-04</td></tr>\n",
       "\t<tr><td> 0.000000e+00</td><td> 0.000000e+00</td><td>-1.108188e-05</td><td>-6.570132e-06</td><td> 5.098078e-05</td></tr>\n",
       "\t<tr><td> 0.000000e+00</td><td> 0.000000e+00</td><td>-8.394084e-06</td><td>-5.634682e-05</td><td>-5.062904e-05</td></tr>\n",
       "\t<tr><td> 0.000000e+00</td><td> 0.000000e+00</td><td>-4.847782e-07</td><td>-7.602324e-05</td><td>-2.074490e-04</td></tr>\n",
       "\t<tr><td> 0.000000e+00</td><td> 0.000000e+00</td><td>-1.636630e-06</td><td> 1.713880e-05</td><td>-4.369045e-04</td></tr>\n",
       "\t<tr><td> 0.000000e+00</td><td> 0.000000e+00</td><td>-1.605416e-05</td><td>-1.681880e-05</td><td> 1.159193e-04</td></tr>\n",
       "\t<tr><td> 0.000000e+00</td><td> 0.000000e+00</td><td>-2.265553e-05</td><td>-7.279426e-05</td><td>-9.503476e-06</td></tr>\n",
       "\t<tr><td> 0.000000e+00</td><td> 0.000000e+00</td><td> 4.379787e-06</td><td>-1.535933e-04</td><td> 2.483698e-03</td></tr>\n",
       "\t<tr><td> 0.000000e+00</td><td> 0.000000e+00</td><td>-4.146626e-06</td><td> 4.055764e-05</td><td>-1.005719e-03</td></tr>\n",
       "\t<tr><td> 0.000000e+00</td><td> 0.000000e+00</td><td>-1.930519e-05</td><td>-3.551987e-06</td><td> 4.829134e-05</td></tr>\n",
       "\t<tr><td> 0.000000e+00</td><td> 0.000000e+00</td><td>-4.102756e-05</td><td> 9.476648e-04</td><td>-1.068301e-05</td></tr>\n",
       "\t<tr><td> 0.000000e+00</td><td> 0.000000e+00</td><td> 1.288209e-05</td><td>-4.135399e-04</td><td> 3.412263e-07</td></tr>\n",
       "\t<tr><td> 0.000000e+00</td><td> 0.000000e+00</td><td>-9.838369e-07</td><td> 1.971429e-05</td><td> 2.838567e-03</td></tr>\n",
       "\t<tr><td> 0.000000e+00</td><td> 0.000000e+00</td><td> 2.931773e-04</td><td>-4.957864e-06</td><td> 1.146410e-03</td></tr>\n",
       "\t<tr><td> 0.000000e+00</td><td> 0.000000e+00</td><td>-1.398467e-04</td><td> 1.557021e-07</td><td>-6.207520e-05</td></tr>\n",
       "\t<tr><td> 0.000000e+00</td><td> 0.000000e+00</td><td> 7.425038e-06</td><td> 1.336150e-03</td><td> 1.318612e-05</td></tr>\n",
       "\t<tr><td> 0.000000e+00</td><td> 0.000000e+00</td><td>-1.629246e-06</td><td> 4.973611e-04</td><td>-7.486517e-07</td></tr>\n",
       "\t<tr><td> 0.000000e+00</td><td> 0.000000e+00</td><td> 4.261631e-08</td><td>-2.525983e-05</td><td>-7.861863e-06</td></tr>\n",
       "\t<tr><td> 0.000000e+00</td><td> 0.000000e+00</td><td> 4.464335e-04</td><td> 5.908989e-06</td><td> 1.820422e-06</td></tr>\n",
       "\t<tr><td> 0.000000e+00</td><td> 0.000000e+00</td><td> 1.676997e-04</td><td>-3.573402e-07</td><td>-4.960621e-05</td></tr>\n",
       "\t<tr><td> 0.000000e+00</td><td> 0.000000e+00</td><td>-9.088949e-06</td><td>-3.758442e-06</td><td>-1.306875e-04</td></tr>\n",
       "\t<tr><td> 0.000000e+00</td><td> 0.000000e+00</td><td> 2.017682e-06</td><td> 7.888554e-07</td><td>-1.001114e-04</td></tr>\n",
       "\t<tr><td> 0.000000e+00</td><td> 0.000000e+00</td><td>-1.408255e-07</td><td>-2.351554e-05</td><td>-6.984855e-06</td></tr>\n",
       "\t<tr><td> 0.000000e+00</td><td> 0.000000e+00</td><td>-1.453914e-06</td><td>-6.059339e-05</td><td>-1.870723e-05</td></tr>\n",
       "\t<tr><td> 0.000000e+00</td><td> 0.000000e+00</td><td> 3.427592e-07</td><td>-5.551003e-05</td><td>-1.864229e-04</td></tr>\n",
       "\t<tr><td> 9.096517e-06</td><td> 0.000000e+00</td><td>-9.375869e-06</td><td>-3.627646e-06</td><td>-2.557025e-04</td></tr>\n",
       "\t<tr><td>-4.053678e-07</td><td> 0.000000e+00</td><td>-3.103472e-05</td><td>-1.219018e-05</td><td> 5.982000e-05</td></tr>\n",
       "\t<tr><td> 1.622584e-07</td><td> 0.000000e+00</td><td>-2.954949e-05</td><td>-1.155066e-04</td><td>-5.860535e-05</td></tr>\n",
       "\t<tr><td>-1.614434e-08</td><td> 0.000000e+00</td><td>-1.901527e-06</td><td>-1.556501e-04</td><td>-2.455127e-04</td></tr>\n",
       "\t<tr><td> 0.000000e+00</td><td>-3.959586e-06</td><td>-5.586563e-06</td><td> 3.213001e-05</td><td>-4.876233e-04</td></tr>\n",
       "\t<tr><td> 1.774986e-08</td><td>-3.882749e-06</td><td>-5.806993e-05</td><td>-3.435999e-05</td><td> 1.403800e-04</td></tr>\n",
       "\t<tr><td>-6.821782e-07</td><td>-3.171225e-07</td><td>-8.816326e-05</td><td>-1.482484e-04</td><td>-1.171068e-05</td></tr>\n",
       "</tbody>\n",
       "</table>\n"
      ],
      "text/latex": [
       "A data.frame: 53 × 5\n",
       "\\begin{tabular}{lllll}\n",
       " V1 & V2 & V3 & V4 & V5\\\\\n",
       " <dbl> & <dbl> & <dbl> & <dbl> & <dbl>\\\\\n",
       "\\hline\n",
       "\t  0.000000e+00 &  0.000000e+00 & -7.897900e-07 &  9.864910e-06 & -4.409611e-04\\\\\n",
       "\t  0.000000e+00 &  0.000000e+00 & -7.768845e-06 & -1.239586e-05 &  1.319633e-04\\\\\n",
       "\t  0.000000e+00 &  0.000000e+00 & -1.384690e-05 & -7.340026e-05 & -1.126349e-05\\\\\n",
       "\t  0.000000e+00 &  0.000000e+00 &  3.137672e-06 & -1.616916e-04 &  3.161267e-03\\\\\n",
       "\t  0.000000e+00 &  0.000000e+00 & -3.388131e-06 &  4.623069e-05 & -1.297878e-03\\\\\n",
       "\t  0.000000e+00 &  0.000000e+00 & -1.419874e-05 & -4.172901e-06 &  6.615117e-05\\\\\n",
       "\t  0.000000e+00 &  0.000000e+00 & -2.675931e-05 &  1.029467e-03 & -1.414911e-05\\\\\n",
       "\t  0.000000e+00 &  0.000000e+00 &  9.109087e-06 & -4.631168e-04 &  4.290423e-07\\\\\n",
       "\t  0.000000e+00 &  0.000000e+00 & -6.636197e-07 &  1.909614e-05 &  3.454678e-03\\\\\n",
       "\t  0.000000e+00 &  0.000000e+00 &  1.690711e-04 & -3.984614e-06 &  1.208554e-03\\\\\n",
       "\t  0.000000e+00 &  0.000000e+00 & -6.546974e-05 &  1.188817e-07 & -6.873643e-05\\\\\n",
       "\t  0.000000e+00 &  0.000000e+00 &  3.099883e-06 &  1.027140e-03 &  1.489108e-05\\\\\n",
       "\t  0.000000e+00 &  0.000000e+00 & -6.026807e-07 &  3.418129e-04 & -8.868976e-07\\\\\n",
       "\t  0.000000e+00 &  0.000000e+00 &  2.033945e-08 & -2.055106e-05 & -1.004628e-05\\\\\n",
       "\t  0.000000e+00 &  0.000000e+00 &  1.675104e-04 &  4.300180e-06 &  2.218568e-06\\\\\n",
       "\t  0.000000e+00 &  0.000000e+00 &  5.645509e-05 & -2.568971e-07 & -6.050928e-05\\\\\n",
       "\t  0.000000e+00 &  0.000000e+00 & -3.292112e-06 & -2.721487e-06 & -1.619424e-04\\\\\n",
       "\t  0.000000e+00 &  0.000000e+00 &  6.945320e-07 &  5.615690e-07 & -1.301212e-04\\\\\n",
       "\t  0.000000e+00 &  0.000000e+00 & -6.523272e-08 & -1.795784e-05 & -7.774903e-06\\\\\n",
       "\t  0.000000e+00 &  0.000000e+00 & -7.284047e-07 & -5.299378e-05 & -2.328168e-05\\\\\n",
       "\t  0.000000e+00 &  0.000000e+00 &  1.493023e-07 & -4.238203e-05 & -2.036742e-04\\\\\n",
       "\t  0.000000e+00 &  0.000000e+00 & -3.709132e-06 & -2.433983e-06 & -2.671033e-04\\\\\n",
       "\t  0.000000e+00 &  0.000000e+00 & -1.108188e-05 & -6.570132e-06 &  5.098078e-05\\\\\n",
       "\t  0.000000e+00 &  0.000000e+00 & -8.394084e-06 & -5.634682e-05 & -5.062904e-05\\\\\n",
       "\t  0.000000e+00 &  0.000000e+00 & -4.847782e-07 & -7.602324e-05 & -2.074490e-04\\\\\n",
       "\t  0.000000e+00 &  0.000000e+00 & -1.636630e-06 &  1.713880e-05 & -4.369045e-04\\\\\n",
       "\t  0.000000e+00 &  0.000000e+00 & -1.605416e-05 & -1.681880e-05 &  1.159193e-04\\\\\n",
       "\t  0.000000e+00 &  0.000000e+00 & -2.265553e-05 & -7.279426e-05 & -9.503476e-06\\\\\n",
       "\t  0.000000e+00 &  0.000000e+00 &  4.379787e-06 & -1.535933e-04 &  2.483698e-03\\\\\n",
       "\t  0.000000e+00 &  0.000000e+00 & -4.146626e-06 &  4.055764e-05 & -1.005719e-03\\\\\n",
       "\t  0.000000e+00 &  0.000000e+00 & -1.930519e-05 & -3.551987e-06 &  4.829134e-05\\\\\n",
       "\t  0.000000e+00 &  0.000000e+00 & -4.102756e-05 &  9.476648e-04 & -1.068301e-05\\\\\n",
       "\t  0.000000e+00 &  0.000000e+00 &  1.288209e-05 & -4.135399e-04 &  3.412263e-07\\\\\n",
       "\t  0.000000e+00 &  0.000000e+00 & -9.838369e-07 &  1.971429e-05 &  2.838567e-03\\\\\n",
       "\t  0.000000e+00 &  0.000000e+00 &  2.931773e-04 & -4.957864e-06 &  1.146410e-03\\\\\n",
       "\t  0.000000e+00 &  0.000000e+00 & -1.398467e-04 &  1.557021e-07 & -6.207520e-05\\\\\n",
       "\t  0.000000e+00 &  0.000000e+00 &  7.425038e-06 &  1.336150e-03 &  1.318612e-05\\\\\n",
       "\t  0.000000e+00 &  0.000000e+00 & -1.629246e-06 &  4.973611e-04 & -7.486517e-07\\\\\n",
       "\t  0.000000e+00 &  0.000000e+00 &  4.261631e-08 & -2.525983e-05 & -7.861863e-06\\\\\n",
       "\t  0.000000e+00 &  0.000000e+00 &  4.464335e-04 &  5.908989e-06 &  1.820422e-06\\\\\n",
       "\t  0.000000e+00 &  0.000000e+00 &  1.676997e-04 & -3.573402e-07 & -4.960621e-05\\\\\n",
       "\t  0.000000e+00 &  0.000000e+00 & -9.088949e-06 & -3.758442e-06 & -1.306875e-04\\\\\n",
       "\t  0.000000e+00 &  0.000000e+00 &  2.017682e-06 &  7.888554e-07 & -1.001114e-04\\\\\n",
       "\t  0.000000e+00 &  0.000000e+00 & -1.408255e-07 & -2.351554e-05 & -6.984855e-06\\\\\n",
       "\t  0.000000e+00 &  0.000000e+00 & -1.453914e-06 & -6.059339e-05 & -1.870723e-05\\\\\n",
       "\t  0.000000e+00 &  0.000000e+00 &  3.427592e-07 & -5.551003e-05 & -1.864229e-04\\\\\n",
       "\t  9.096517e-06 &  0.000000e+00 & -9.375869e-06 & -3.627646e-06 & -2.557025e-04\\\\\n",
       "\t -4.053678e-07 &  0.000000e+00 & -3.103472e-05 & -1.219018e-05 &  5.982000e-05\\\\\n",
       "\t  1.622584e-07 &  0.000000e+00 & -2.954949e-05 & -1.155066e-04 & -5.860535e-05\\\\\n",
       "\t -1.614434e-08 &  0.000000e+00 & -1.901527e-06 & -1.556501e-04 & -2.455127e-04\\\\\n",
       "\t  0.000000e+00 & -3.959586e-06 & -5.586563e-06 &  3.213001e-05 & -4.876233e-04\\\\\n",
       "\t  1.774986e-08 & -3.882749e-06 & -5.806993e-05 & -3.435999e-05 &  1.403800e-04\\\\\n",
       "\t -6.821782e-07 & -3.171225e-07 & -8.816326e-05 & -1.482484e-04 & -1.171068e-05\\\\\n",
       "\\end{tabular}\n"
      ],
      "text/markdown": [
       "\n",
       "A data.frame: 53 × 5\n",
       "\n",
       "| V1 &lt;dbl&gt; | V2 &lt;dbl&gt; | V3 &lt;dbl&gt; | V4 &lt;dbl&gt; | V5 &lt;dbl&gt; |\n",
       "|---|---|---|---|---|\n",
       "|  0.000000e+00 |  0.000000e+00 | -7.897900e-07 |  9.864910e-06 | -4.409611e-04 |\n",
       "|  0.000000e+00 |  0.000000e+00 | -7.768845e-06 | -1.239586e-05 |  1.319633e-04 |\n",
       "|  0.000000e+00 |  0.000000e+00 | -1.384690e-05 | -7.340026e-05 | -1.126349e-05 |\n",
       "|  0.000000e+00 |  0.000000e+00 |  3.137672e-06 | -1.616916e-04 |  3.161267e-03 |\n",
       "|  0.000000e+00 |  0.000000e+00 | -3.388131e-06 |  4.623069e-05 | -1.297878e-03 |\n",
       "|  0.000000e+00 |  0.000000e+00 | -1.419874e-05 | -4.172901e-06 |  6.615117e-05 |\n",
       "|  0.000000e+00 |  0.000000e+00 | -2.675931e-05 |  1.029467e-03 | -1.414911e-05 |\n",
       "|  0.000000e+00 |  0.000000e+00 |  9.109087e-06 | -4.631168e-04 |  4.290423e-07 |\n",
       "|  0.000000e+00 |  0.000000e+00 | -6.636197e-07 |  1.909614e-05 |  3.454678e-03 |\n",
       "|  0.000000e+00 |  0.000000e+00 |  1.690711e-04 | -3.984614e-06 |  1.208554e-03 |\n",
       "|  0.000000e+00 |  0.000000e+00 | -6.546974e-05 |  1.188817e-07 | -6.873643e-05 |\n",
       "|  0.000000e+00 |  0.000000e+00 |  3.099883e-06 |  1.027140e-03 |  1.489108e-05 |\n",
       "|  0.000000e+00 |  0.000000e+00 | -6.026807e-07 |  3.418129e-04 | -8.868976e-07 |\n",
       "|  0.000000e+00 |  0.000000e+00 |  2.033945e-08 | -2.055106e-05 | -1.004628e-05 |\n",
       "|  0.000000e+00 |  0.000000e+00 |  1.675104e-04 |  4.300180e-06 |  2.218568e-06 |\n",
       "|  0.000000e+00 |  0.000000e+00 |  5.645509e-05 | -2.568971e-07 | -6.050928e-05 |\n",
       "|  0.000000e+00 |  0.000000e+00 | -3.292112e-06 | -2.721487e-06 | -1.619424e-04 |\n",
       "|  0.000000e+00 |  0.000000e+00 |  6.945320e-07 |  5.615690e-07 | -1.301212e-04 |\n",
       "|  0.000000e+00 |  0.000000e+00 | -6.523272e-08 | -1.795784e-05 | -7.774903e-06 |\n",
       "|  0.000000e+00 |  0.000000e+00 | -7.284047e-07 | -5.299378e-05 | -2.328168e-05 |\n",
       "|  0.000000e+00 |  0.000000e+00 |  1.493023e-07 | -4.238203e-05 | -2.036742e-04 |\n",
       "|  0.000000e+00 |  0.000000e+00 | -3.709132e-06 | -2.433983e-06 | -2.671033e-04 |\n",
       "|  0.000000e+00 |  0.000000e+00 | -1.108188e-05 | -6.570132e-06 |  5.098078e-05 |\n",
       "|  0.000000e+00 |  0.000000e+00 | -8.394084e-06 | -5.634682e-05 | -5.062904e-05 |\n",
       "|  0.000000e+00 |  0.000000e+00 | -4.847782e-07 | -7.602324e-05 | -2.074490e-04 |\n",
       "|  0.000000e+00 |  0.000000e+00 | -1.636630e-06 |  1.713880e-05 | -4.369045e-04 |\n",
       "|  0.000000e+00 |  0.000000e+00 | -1.605416e-05 | -1.681880e-05 |  1.159193e-04 |\n",
       "|  0.000000e+00 |  0.000000e+00 | -2.265553e-05 | -7.279426e-05 | -9.503476e-06 |\n",
       "|  0.000000e+00 |  0.000000e+00 |  4.379787e-06 | -1.535933e-04 |  2.483698e-03 |\n",
       "|  0.000000e+00 |  0.000000e+00 | -4.146626e-06 |  4.055764e-05 | -1.005719e-03 |\n",
       "|  0.000000e+00 |  0.000000e+00 | -1.930519e-05 | -3.551987e-06 |  4.829134e-05 |\n",
       "|  0.000000e+00 |  0.000000e+00 | -4.102756e-05 |  9.476648e-04 | -1.068301e-05 |\n",
       "|  0.000000e+00 |  0.000000e+00 |  1.288209e-05 | -4.135399e-04 |  3.412263e-07 |\n",
       "|  0.000000e+00 |  0.000000e+00 | -9.838369e-07 |  1.971429e-05 |  2.838567e-03 |\n",
       "|  0.000000e+00 |  0.000000e+00 |  2.931773e-04 | -4.957864e-06 |  1.146410e-03 |\n",
       "|  0.000000e+00 |  0.000000e+00 | -1.398467e-04 |  1.557021e-07 | -6.207520e-05 |\n",
       "|  0.000000e+00 |  0.000000e+00 |  7.425038e-06 |  1.336150e-03 |  1.318612e-05 |\n",
       "|  0.000000e+00 |  0.000000e+00 | -1.629246e-06 |  4.973611e-04 | -7.486517e-07 |\n",
       "|  0.000000e+00 |  0.000000e+00 |  4.261631e-08 | -2.525983e-05 | -7.861863e-06 |\n",
       "|  0.000000e+00 |  0.000000e+00 |  4.464335e-04 |  5.908989e-06 |  1.820422e-06 |\n",
       "|  0.000000e+00 |  0.000000e+00 |  1.676997e-04 | -3.573402e-07 | -4.960621e-05 |\n",
       "|  0.000000e+00 |  0.000000e+00 | -9.088949e-06 | -3.758442e-06 | -1.306875e-04 |\n",
       "|  0.000000e+00 |  0.000000e+00 |  2.017682e-06 |  7.888554e-07 | -1.001114e-04 |\n",
       "|  0.000000e+00 |  0.000000e+00 | -1.408255e-07 | -2.351554e-05 | -6.984855e-06 |\n",
       "|  0.000000e+00 |  0.000000e+00 | -1.453914e-06 | -6.059339e-05 | -1.870723e-05 |\n",
       "|  0.000000e+00 |  0.000000e+00 |  3.427592e-07 | -5.551003e-05 | -1.864229e-04 |\n",
       "|  9.096517e-06 |  0.000000e+00 | -9.375869e-06 | -3.627646e-06 | -2.557025e-04 |\n",
       "| -4.053678e-07 |  0.000000e+00 | -3.103472e-05 | -1.219018e-05 |  5.982000e-05 |\n",
       "|  1.622584e-07 |  0.000000e+00 | -2.954949e-05 | -1.155066e-04 | -5.860535e-05 |\n",
       "| -1.614434e-08 |  0.000000e+00 | -1.901527e-06 | -1.556501e-04 | -2.455127e-04 |\n",
       "|  0.000000e+00 | -3.959586e-06 | -5.586563e-06 |  3.213001e-05 | -4.876233e-04 |\n",
       "|  1.774986e-08 | -3.882749e-06 | -5.806993e-05 | -3.435999e-05 |  1.403800e-04 |\n",
       "| -6.821782e-07 | -3.171225e-07 | -8.816326e-05 | -1.482484e-04 | -1.171068e-05 |\n",
       "\n"
      ],
      "text/plain": [
       "   V1            V2            V3            V4            V5           \n",
       "1   0.000000e+00  0.000000e+00 -7.897900e-07  9.864910e-06 -4.409611e-04\n",
       "2   0.000000e+00  0.000000e+00 -7.768845e-06 -1.239586e-05  1.319633e-04\n",
       "3   0.000000e+00  0.000000e+00 -1.384690e-05 -7.340026e-05 -1.126349e-05\n",
       "4   0.000000e+00  0.000000e+00  3.137672e-06 -1.616916e-04  3.161267e-03\n",
       "5   0.000000e+00  0.000000e+00 -3.388131e-06  4.623069e-05 -1.297878e-03\n",
       "6   0.000000e+00  0.000000e+00 -1.419874e-05 -4.172901e-06  6.615117e-05\n",
       "7   0.000000e+00  0.000000e+00 -2.675931e-05  1.029467e-03 -1.414911e-05\n",
       "8   0.000000e+00  0.000000e+00  9.109087e-06 -4.631168e-04  4.290423e-07\n",
       "9   0.000000e+00  0.000000e+00 -6.636197e-07  1.909614e-05  3.454678e-03\n",
       "10  0.000000e+00  0.000000e+00  1.690711e-04 -3.984614e-06  1.208554e-03\n",
       "11  0.000000e+00  0.000000e+00 -6.546974e-05  1.188817e-07 -6.873643e-05\n",
       "12  0.000000e+00  0.000000e+00  3.099883e-06  1.027140e-03  1.489108e-05\n",
       "13  0.000000e+00  0.000000e+00 -6.026807e-07  3.418129e-04 -8.868976e-07\n",
       "14  0.000000e+00  0.000000e+00  2.033945e-08 -2.055106e-05 -1.004628e-05\n",
       "15  0.000000e+00  0.000000e+00  1.675104e-04  4.300180e-06  2.218568e-06\n",
       "16  0.000000e+00  0.000000e+00  5.645509e-05 -2.568971e-07 -6.050928e-05\n",
       "17  0.000000e+00  0.000000e+00 -3.292112e-06 -2.721487e-06 -1.619424e-04\n",
       "18  0.000000e+00  0.000000e+00  6.945320e-07  5.615690e-07 -1.301212e-04\n",
       "19  0.000000e+00  0.000000e+00 -6.523272e-08 -1.795784e-05 -7.774903e-06\n",
       "20  0.000000e+00  0.000000e+00 -7.284047e-07 -5.299378e-05 -2.328168e-05\n",
       "21  0.000000e+00  0.000000e+00  1.493023e-07 -4.238203e-05 -2.036742e-04\n",
       "22  0.000000e+00  0.000000e+00 -3.709132e-06 -2.433983e-06 -2.671033e-04\n",
       "23  0.000000e+00  0.000000e+00 -1.108188e-05 -6.570132e-06  5.098078e-05\n",
       "24  0.000000e+00  0.000000e+00 -8.394084e-06 -5.634682e-05 -5.062904e-05\n",
       "25  0.000000e+00  0.000000e+00 -4.847782e-07 -7.602324e-05 -2.074490e-04\n",
       "26  0.000000e+00  0.000000e+00 -1.636630e-06  1.713880e-05 -4.369045e-04\n",
       "27  0.000000e+00  0.000000e+00 -1.605416e-05 -1.681880e-05  1.159193e-04\n",
       "28  0.000000e+00  0.000000e+00 -2.265553e-05 -7.279426e-05 -9.503476e-06\n",
       "29  0.000000e+00  0.000000e+00  4.379787e-06 -1.535933e-04  2.483698e-03\n",
       "30  0.000000e+00  0.000000e+00 -4.146626e-06  4.055764e-05 -1.005719e-03\n",
       "31  0.000000e+00  0.000000e+00 -1.930519e-05 -3.551987e-06  4.829134e-05\n",
       "32  0.000000e+00  0.000000e+00 -4.102756e-05  9.476648e-04 -1.068301e-05\n",
       "33  0.000000e+00  0.000000e+00  1.288209e-05 -4.135399e-04  3.412263e-07\n",
       "34  0.000000e+00  0.000000e+00 -9.838369e-07  1.971429e-05  2.838567e-03\n",
       "35  0.000000e+00  0.000000e+00  2.931773e-04 -4.957864e-06  1.146410e-03\n",
       "36  0.000000e+00  0.000000e+00 -1.398467e-04  1.557021e-07 -6.207520e-05\n",
       "37  0.000000e+00  0.000000e+00  7.425038e-06  1.336150e-03  1.318612e-05\n",
       "38  0.000000e+00  0.000000e+00 -1.629246e-06  4.973611e-04 -7.486517e-07\n",
       "39  0.000000e+00  0.000000e+00  4.261631e-08 -2.525983e-05 -7.861863e-06\n",
       "40  0.000000e+00  0.000000e+00  4.464335e-04  5.908989e-06  1.820422e-06\n",
       "41  0.000000e+00  0.000000e+00  1.676997e-04 -3.573402e-07 -4.960621e-05\n",
       "42  0.000000e+00  0.000000e+00 -9.088949e-06 -3.758442e-06 -1.306875e-04\n",
       "43  0.000000e+00  0.000000e+00  2.017682e-06  7.888554e-07 -1.001114e-04\n",
       "44  0.000000e+00  0.000000e+00 -1.408255e-07 -2.351554e-05 -6.984855e-06\n",
       "45  0.000000e+00  0.000000e+00 -1.453914e-06 -6.059339e-05 -1.870723e-05\n",
       "46  0.000000e+00  0.000000e+00  3.427592e-07 -5.551003e-05 -1.864229e-04\n",
       "47  9.096517e-06  0.000000e+00 -9.375869e-06 -3.627646e-06 -2.557025e-04\n",
       "48 -4.053678e-07  0.000000e+00 -3.103472e-05 -1.219018e-05  5.982000e-05\n",
       "49  1.622584e-07  0.000000e+00 -2.954949e-05 -1.155066e-04 -5.860535e-05\n",
       "50 -1.614434e-08  0.000000e+00 -1.901527e-06 -1.556501e-04 -2.455127e-04\n",
       "51  0.000000e+00 -3.959586e-06 -5.586563e-06  3.213001e-05 -4.876233e-04\n",
       "52  1.774986e-08 -3.882749e-06 -5.806993e-05 -3.435999e-05  1.403800e-04\n",
       "53 -6.821782e-07 -3.171225e-07 -8.816326e-05 -1.482484e-04 -1.171068e-05"
      ]
     },
     "metadata": {},
     "output_type": "display_data"
    }
   ],
   "source": [
    "W <- MatofAlphas*B\n",
    "W"
   ]
  },
  {
   "cell_type": "code",
   "execution_count": 132,
   "id": "e196be6b",
   "metadata": {},
   "outputs": [
    {
     "data": {
      "text/plain": [
       "Importance of components:\n",
       "                           Comp.1      Comp.2      Comp.3      Comp.4\n",
       "Standard deviation     0.01513178 0.005866852 0.002039071 0.001300243\n",
       "Proportion of Variance 0.84958563 0.127713619 0.015427362 0.006273011\n",
       "Cumulative Proportion  0.84958563 0.977299247 0.992726609 0.998999619\n",
       "                             Comp.5\n",
       "Standard deviation     0.0005192412\n",
       "Proportion of Variance 0.0010003805\n",
       "Cumulative Proportion  1.0000000000"
      ]
     },
     "metadata": {},
     "output_type": "display_data"
    }
   ],
   "source": [
    "components <- princomp(delta_alpha)\n",
    "summary(components)"
   ]
  },
  {
   "cell_type": "code",
   "execution_count": 134,
   "id": "76080d28",
   "metadata": {},
   "outputs": [],
   "source": [
    "cum_variance <- cumsum(components$sdev^2 / sum(components$sdev^2))\n",
    "best_components <- components$scores[,1:2]"
   ]
  },
  {
   "cell_type": "code",
   "execution_count": null,
   "id": "2e78a1b1",
   "metadata": {},
   "outputs": [],
   "source": []
  }
 ],
 "metadata": {
  "kernelspec": {
   "display_name": "R",
   "language": "R",
   "name": "ir"
  },
  "language_info": {
   "codemirror_mode": "r",
   "file_extension": ".r",
   "mimetype": "text/x-r-source",
   "name": "R",
   "pygments_lexer": "r",
   "version": "3.6.1"
  }
 },
 "nbformat": 4,
 "nbformat_minor": 5
}
