{
 "cells": [
  {
   "cell_type": "code",
   "execution_count": 4,
   "id": "f0afcc4e-e98c-48ad-b51f-f6dc2b1c3226",
   "metadata": {},
   "outputs": [
    {
     "name": "stderr",
     "output_type": "stream",
     "text": [
      "Warning message:\n",
      "\"package 'readxl' was built under R version 3.6.3\""
     ]
    }
   ],
   "source": [
    "library(\"readxl\")"
   ]
  },
  {
   "cell_type": "code",
   "execution_count": 5,
   "id": "d18f324a-67d1-44be-aae4-6da1209ff9c8",
   "metadata": {},
   "outputs": [],
   "source": [
    "library(\"lubridate\")"
   ]
  },
  {
   "cell_type": "code",
   "execution_count": 6,
   "id": "fd9a067d-bee2-44b6-97f5-5b0a841eacab",
   "metadata": {},
   "outputs": [
    {
     "data": {
      "text/html": [
       "<style>\n",
       ".list-inline {list-style: none; margin:0; padding: 0}\n",
       ".list-inline>li {display: inline-block}\n",
       ".list-inline>li:not(:last-child)::after {content: \"\\00b7\"; padding: 0 .5ex}\n",
       "</style>\n",
       "<ol class=list-inline><li>'.GlobalEnv'</li><li>'package:readxl'</li><li>'package:tseries'</li><li>'package:xtable'</li><li>'package:quantmod'</li><li>'package:TTR'</li><li>'package:reshape2'</li><li>'package:lubridate'</li><li>'package:scales'</li><li>'package:astsa'</li><li>'package:ggplot2'</li><li>'package:timeSeries'</li><li>'package:timeDate'</li><li>'package:rugarch'</li><li>'package:parallel'</li><li>'package:xts'</li><li>'package:zoo'</li><li>'package:forecast'</li><li>'jupyter:irkernel'</li><li>'package:stats'</li><li>'package:graphics'</li><li>'package:grDevices'</li><li>'package:utils'</li><li>'package:datasets'</li><li>'package:methods'</li><li>'Autoloads'</li><li>'package:base'</li></ol>\n"
      ],
      "text/latex": [
       "\\begin{enumerate*}\n",
       "\\item '.GlobalEnv'\n",
       "\\item 'package:readxl'\n",
       "\\item 'package:tseries'\n",
       "\\item 'package:xtable'\n",
       "\\item 'package:quantmod'\n",
       "\\item 'package:TTR'\n",
       "\\item 'package:reshape2'\n",
       "\\item 'package:lubridate'\n",
       "\\item 'package:scales'\n",
       "\\item 'package:astsa'\n",
       "\\item 'package:ggplot2'\n",
       "\\item 'package:timeSeries'\n",
       "\\item 'package:timeDate'\n",
       "\\item 'package:rugarch'\n",
       "\\item 'package:parallel'\n",
       "\\item 'package:xts'\n",
       "\\item 'package:zoo'\n",
       "\\item 'package:forecast'\n",
       "\\item 'jupyter:irkernel'\n",
       "\\item 'package:stats'\n",
       "\\item 'package:graphics'\n",
       "\\item 'package:grDevices'\n",
       "\\item 'package:utils'\n",
       "\\item 'package:datasets'\n",
       "\\item 'package:methods'\n",
       "\\item 'Autoloads'\n",
       "\\item 'package:base'\n",
       "\\end{enumerate*}\n"
      ],
      "text/markdown": [
       "1. '.GlobalEnv'\n",
       "2. 'package:readxl'\n",
       "3. 'package:tseries'\n",
       "4. 'package:xtable'\n",
       "5. 'package:quantmod'\n",
       "6. 'package:TTR'\n",
       "7. 'package:reshape2'\n",
       "8. 'package:lubridate'\n",
       "9. 'package:scales'\n",
       "10. 'package:astsa'\n",
       "11. 'package:ggplot2'\n",
       "12. 'package:timeSeries'\n",
       "13. 'package:timeDate'\n",
       "14. 'package:rugarch'\n",
       "15. 'package:parallel'\n",
       "16. 'package:xts'\n",
       "17. 'package:zoo'\n",
       "18. 'package:forecast'\n",
       "19. 'jupyter:irkernel'\n",
       "20. 'package:stats'\n",
       "21. 'package:graphics'\n",
       "22. 'package:grDevices'\n",
       "23. 'package:utils'\n",
       "24. 'package:datasets'\n",
       "25. 'package:methods'\n",
       "26. 'Autoloads'\n",
       "27. 'package:base'\n",
       "\n",
       "\n"
      ],
      "text/plain": [
       " [1] \".GlobalEnv\"         \"package:readxl\"     \"package:tseries\"   \n",
       " [4] \"package:xtable\"     \"package:quantmod\"   \"package:TTR\"       \n",
       " [7] \"package:reshape2\"   \"package:lubridate\"  \"package:scales\"    \n",
       "[10] \"package:astsa\"      \"package:ggplot2\"    \"package:timeSeries\"\n",
       "[13] \"package:timeDate\"   \"package:rugarch\"    \"package:parallel\"  \n",
       "[16] \"package:xts\"        \"package:zoo\"        \"package:forecast\"  \n",
       "[19] \"jupyter:irkernel\"   \"package:stats\"      \"package:graphics\"  \n",
       "[22] \"package:grDevices\"  \"package:utils\"      \"package:datasets\"  \n",
       "[25] \"package:methods\"    \"Autoloads\"          \"package:base\"      "
      ]
     },
     "metadata": {},
     "output_type": "display_data"
    }
   ],
   "source": [
    "search()"
   ]
  },
  {
   "cell_type": "code",
   "execution_count": 7,
   "id": "5ba0a704-f05a-4a5f-a80e-2af93790495f",
   "metadata": {},
   "outputs": [],
   "source": [
    "source(\"helpers.R\")"
   ]
  },
  {
   "cell_type": "code",
   "execution_count": 8,
   "id": "9f0daf38-b921-4bb5-8ae8-d7111b9c9888",
   "metadata": {},
   "outputs": [],
   "source": [
    "path <- \"../data/data.xlsx\""
   ]
  },
  {
   "cell_type": "code",
   "execution_count": 9,
   "id": "1273d7c3-de1a-4dd6-92b4-ac589352aecd",
   "metadata": {},
   "outputs": [],
   "source": [
    "df <- Dataframing(path)"
   ]
  },
  {
   "cell_type": "code",
   "execution_count": 10,
   "id": "4301fc67-fb5d-4370-9e65-45a7b97fb714",
   "metadata": {},
   "outputs": [],
   "source": [
    "df <- df[-c(210),]"
   ]
  },
  {
   "cell_type": "code",
   "execution_count": 11,
   "id": "fbe01fa1-e480-4471-b334-0c3f9b8d8bbe",
   "metadata": {},
   "outputs": [],
   "source": [
    "df$Date <- as.Date(df$Date)"
   ]
  },
  {
   "cell_type": "code",
   "execution_count": 12,
   "id": "4b94c154-5d47-4cc6-b0eb-6a950de33181",
   "metadata": {},
   "outputs": [],
   "source": [
    "firstYields <- df[df$Date == \"2022-02-11\",]"
   ]
  },
  {
   "cell_type": "code",
   "execution_count": 11,
   "id": "7086da3b-8eb5-4aef-bd27-988ebcf96117",
   "metadata": {},
   "outputs": [
    {
     "data": {
      "text/html": [
       "<table class=\"dataframe\">\n",
       "<caption>A data.frame: 1 × 9</caption>\n",
       "<thead>\n",
       "\t<tr><th></th><th scope=col>Date</th><th scope=col>10Y</th><th scope=col>7Y</th><th scope=col>5Y</th><th scope=col>3Y</th><th scope=col>2Y</th><th scope=col>1Y</th><th scope=col>6M</th><th scope=col>3M</th></tr>\n",
       "\t<tr><th></th><th scope=col>&lt;date&gt;</th><th scope=col>&lt;dbl&gt;</th><th scope=col>&lt;dbl&gt;</th><th scope=col>&lt;dbl&gt;</th><th scope=col>&lt;dbl&gt;</th><th scope=col>&lt;dbl&gt;</th><th scope=col>&lt;dbl&gt;</th><th scope=col>&lt;dbl&gt;</th><th scope=col>&lt;dbl&gt;</th></tr>\n",
       "</thead>\n",
       "<tbody>\n",
       "\t<tr><th scope=row>209</th><td>2022-02-11</td><td>1.941</td><td>1.94</td><td>1.856</td><td>1.728</td><td>1.505</td><td>1.029</td><td>0.692</td><td>0.359</td></tr>\n",
       "</tbody>\n",
       "</table>\n"
      ],
      "text/latex": [
       "A data.frame: 1 × 9\n",
       "\\begin{tabular}{r|lllllllll}\n",
       "  & Date & 10Y & 7Y & 5Y & 3Y & 2Y & 1Y & 6M & 3M\\\\\n",
       "  & <date> & <dbl> & <dbl> & <dbl> & <dbl> & <dbl> & <dbl> & <dbl> & <dbl>\\\\\n",
       "\\hline\n",
       "\t209 & 2022-02-11 & 1.941 & 1.94 & 1.856 & 1.728 & 1.505 & 1.029 & 0.692 & 0.359\\\\\n",
       "\\end{tabular}\n"
      ],
      "text/markdown": [
       "\n",
       "A data.frame: 1 × 9\n",
       "\n",
       "| <!--/--> | Date &lt;date&gt; | 10Y &lt;dbl&gt; | 7Y &lt;dbl&gt; | 5Y &lt;dbl&gt; | 3Y &lt;dbl&gt; | 2Y &lt;dbl&gt; | 1Y &lt;dbl&gt; | 6M &lt;dbl&gt; | 3M &lt;dbl&gt; |\n",
       "|---|---|---|---|---|---|---|---|---|---|\n",
       "| 209 | 2022-02-11 | 1.941 | 1.94 | 1.856 | 1.728 | 1.505 | 1.029 | 0.692 | 0.359 |\n",
       "\n"
      ],
      "text/plain": [
       "    Date       10Y   7Y   5Y    3Y    2Y    1Y    6M    3M   \n",
       "209 2022-02-11 1.941 1.94 1.856 1.728 1.505 1.029 0.692 0.359"
      ]
     },
     "metadata": {},
     "output_type": "display_data"
    }
   ],
   "source": [
    "firstYields"
   ]
  },
  {
   "cell_type": "markdown",
   "id": "9bb11ce8-5322-4e8d-94e3-24b70e8f874c",
   "metadata": {
    "tags": []
   },
   "source": [
    "#### Suponemos que: \n",
    "- $\\alpha_1$ representa la tasa forward entre 0 y 3 meses, \n",
    "- $\\alpha_2$ la tasa entre 3 meses y 1 año, \n",
    "- $\\alpha_3$ la tasa entre 1 y 3 años,\n",
    "- $\\alpha_4$ la tasa entre 3 y 5 años ,\n",
    "- $\\alpha_5$ la tasa entre 5 y 10 años. "
   ]
  },
  {
   "cell_type": "code",
   "execution_count": 12,
   "id": "2c2988b4-ca5a-4939-9c90-284a99ca4a24",
   "metadata": {},
   "outputs": [],
   "source": [
    "today <- firstYields$Date"
   ]
  },
  {
   "cell_type": "markdown",
   "id": "6332eca6-4725-4f2d-bc1f-b9a870a66bb4",
   "metadata": {
    "jp-MarkdownHeadingCollapsed": true,
    "tags": []
   },
   "source": [
    "#### Además, para traer a valor presente usando una curva forward, se sigue el factor de descuento a un plazo T es: "
   ]
  },
  {
   "cell_type": "markdown",
   "id": "9bae4002-2617-48f6-b0de-9ae6c48409ae",
   "metadata": {},
   "source": [
    "### $$ e^{-\\int_{0}^{T} f(t) \\,dt}$$"
   ]
  },
  {
   "cell_type": "markdown",
   "id": "28e8e0a4-27ee-497a-bdc5-754c4fd9956a",
   "metadata": {},
   "source": [
    "#### Definamos algunos objetos de utilidad. Cuántos cupones paga cada bono? Cómo ajustamos la tasa para cada pago?"
   ]
  },
  {
   "cell_type": "code",
   "execution_count": 13,
   "id": "6b2d359a-d534-45da-80f3-5b59d853b3eb",
   "metadata": {},
   "outputs": [],
   "source": [
    "alpha <- c(0.1,0.11,0.12,0.13,0.14)"
   ]
  },
  {
   "cell_type": "code",
   "execution_count": 14,
   "id": "81f5e08e-ea9d-4eb5-b77b-d3c0b97a53c1",
   "metadata": {},
   "outputs": [
    {
     "data": {
      "text/html": [
       "<style>\n",
       ".list-inline {list-style: none; margin:0; padding: 0}\n",
       ".list-inline>li {display: inline-block}\n",
       ".list-inline>li:not(:last-child)::after {content: \"\\00b7\"; padding: 0 .5ex}\n",
       "</style>\n",
       "<ol class=list-inline><li>0.1</li><li>0.11</li><li>0.12</li><li>0.13</li><li>0.14</li></ol>\n"
      ],
      "text/latex": [
       "\\begin{enumerate*}\n",
       "\\item 0.1\n",
       "\\item 0.11\n",
       "\\item 0.12\n",
       "\\item 0.13\n",
       "\\item 0.14\n",
       "\\end{enumerate*}\n"
      ],
      "text/markdown": [
       "1. 0.1\n",
       "2. 0.11\n",
       "3. 0.12\n",
       "4. 0.13\n",
       "5. 0.14\n",
       "\n",
       "\n"
      ],
      "text/plain": [
       "[1] 0.10 0.11 0.12 0.13 0.14"
      ]
     },
     "metadata": {},
     "output_type": "display_data"
    }
   ],
   "source": [
    "alpha"
   ]
  },
  {
   "cell_type": "code",
   "execution_count": 15,
   "id": "59e4a6f7-faa9-4487-924f-d0ae2183bae8",
   "metadata": {},
   "outputs": [],
   "source": [
    "today = firstYields$Date"
   ]
  },
  {
   "cell_type": "code",
   "execution_count": 16,
   "id": "c70ad683-f043-40a1-8c79-c2b252a180c3",
   "metadata": {},
   "outputs": [
    {
     "data": {
      "text/html": [
       "100.086561463887"
      ],
      "text/latex": [
       "100.086561463887"
      ],
      "text/markdown": [
       "100.086561463887"
      ],
      "text/plain": [
       "[1] 100.0866"
      ]
     },
     "metadata": {},
     "output_type": "display_data"
    },
    {
     "data": {
      "text/html": [
       "0.0887527777777778"
      ],
      "text/latex": [
       "0.0887527777777778"
      ],
      "text/markdown": [
       "0.0887527777777778"
      ],
      "text/plain": [
       "[1] 0.08875278"
      ]
     },
     "metadata": {},
     "output_type": "display_data"
    },
    {
     "data": {
      "text/html": [
       "0.0887527777777778"
      ],
      "text/latex": [
       "0.0887527777777778"
      ],
      "text/markdown": [
       "0.0887527777777778"
      ],
      "text/plain": [
       "[1] 0.08875278"
      ]
     },
     "metadata": {},
     "output_type": "display_data"
    },
    {
     "data": {
      "text/html": [
       "1.04329166666667"
      ],
      "text/latex": [
       "1.04329166666667"
      ],
      "text/markdown": [
       "1.04329166666667"
      ],
      "text/plain": [
       "[1] 1.043292"
      ]
     },
     "metadata": {},
     "output_type": "display_data"
    }
   ],
   "source": [
    "threeMonthBond <- 100 + RateConverter(firstYields[[\"3M\"]],3,today)*DiscountFactor(alpha, 3)\n",
    "threeMonthBond\n",
    "RateConverter(firstYields[[\"3M\"]],3,today)\n",
    "RateConverter(0.359,3,today)\n",
    "RateConverter(firstYields[[\"1Y\"]],12,today)\n"
   ]
  },
  {
   "cell_type": "code",
   "execution_count": 17,
   "id": "49fcd4d8-e5f0-4a20-a6be-c88a6824e404",
   "metadata": {},
   "outputs": [],
   "source": [
    "sixMonthBond <- 100 + RateConverter(firstYields[[\"6M\"]], 6, today)*DiscountFactor(alpha, 6)"
   ]
  },
  {
   "cell_type": "code",
   "execution_count": 18,
   "id": "9be5d8b6-9a81-4afc-8886-3a0d41b3ec35",
   "metadata": {},
   "outputs": [
    {
     "data": {
      "text/html": [
       "100.330127503947"
      ],
      "text/latex": [
       "100.330127503947"
      ],
      "text/markdown": [
       "100.330127503947"
      ],
      "text/plain": [
       "[1] 100.3301"
      ]
     },
     "metadata": {},
     "output_type": "display_data"
    }
   ],
   "source": [
    "sixMonthBond"
   ]
  },
  {
   "cell_type": "code",
   "execution_count": 19,
   "id": "daf01f17-8f1a-4914-aaf2-f1e0a94d5b88",
   "metadata": {},
   "outputs": [],
   "source": [
    "oneYearBond <- 100 +  RateConverter(firstYields[[\"1Y\"]], 6, today) *DiscountFactor(alpha, 6) + RateConverter(firstYields[[\"1Y\"]], 12, today)*DiscountFactor(alpha, 12)"
   ]
  },
  {
   "cell_type": "code",
   "execution_count": 20,
   "id": "9c98ba37-727e-49ea-afa2-0bd47f372468",
   "metadata": {},
   "outputs": [
    {
     "data": {
      "text/html": [
       "101.427853442019"
      ],
      "text/latex": [
       "101.427853442019"
      ],
      "text/markdown": [
       "101.427853442019"
      ],
      "text/plain": [
       "[1] 101.4279"
      ]
     },
     "metadata": {},
     "output_type": "display_data"
    }
   ],
   "source": [
    "oneYearBond"
   ]
  },
  {
   "cell_type": "code",
   "execution_count": 21,
   "id": "96e3f441-d8d9-45b8-acb7-729870b91fdc",
   "metadata": {},
   "outputs": [],
   "source": [
    "maturity<- 36"
   ]
  },
  {
   "cell_type": "code",
   "execution_count": 22,
   "id": "8e363417-8362-44e5-93bd-73a14c0f09c2",
   "metadata": {},
   "outputs": [],
   "source": [
    "periods <- seq(6, maturity, 6)"
   ]
  },
  {
   "cell_type": "code",
   "execution_count": 23,
   "id": "af2e17af-7784-482b-b5c0-b86a49bb7b7e",
   "metadata": {},
   "outputs": [
    {
     "data": {
      "text/html": [
       "100.086561463887"
      ],
      "text/latex": [
       "100.086561463887"
      ],
      "text/markdown": [
       "100.086561463887"
      ],
      "text/plain": [
       "[1] 100.0866"
      ]
     },
     "metadata": {},
     "output_type": "display_data"
    }
   ],
   "source": [
    "threeMonthBond"
   ]
  },
  {
   "cell_type": "markdown",
   "metadata": {},
   "source": [
    "Recordemos que cada pago está dado por :  \n",
    "\n",
    "$$\\$100\\times R \\times \\frac{ACT}{360}$$"
   ]
  },
  {
   "cell_type": "code",
   "execution_count": 19,
   "id": "55ec8d82-c8eb-4cc3-b192-56ce7e3cd55a",
   "metadata": {},
   "outputs": [],
   "source": [
    "singleBondPayment <- function(maturity, yield, alpha, today){\n",
    "    return (RateConverter(yield, maturity,today)*DiscountFactor(alpha, maturity))\n",
    "}"
   ]
  },
  {
   "cell_type": "code",
   "execution_count": 20,
   "id": "50ca64bd-641b-49e6-9862-25920a4de86a",
   "metadata": {},
   "outputs": [
    {
     "data": {
      "text/html": [
       "5.32615460036447"
      ],
      "text/latex": [
       "5.32615460036447"
      ],
      "text/markdown": [
       "5.32615460036447"
      ],
      "text/plain": [
       "[1] 5.326155"
      ]
     },
     "metadata": {},
     "output_type": "display_data"
    },
    {
     "data": {
      "text/html": [
       "1.941"
      ],
      "text/latex": [
       "1.941"
      ],
      "text/markdown": [
       "1.941"
      ],
      "text/plain": [
       "[1] 1.941"
      ]
     },
     "metadata": {},
     "output_type": "display_data"
    }
   ],
   "source": [
    "singleBondPayment(120,firstYields[[\"10Y\"]], alpha, today)\n",
    "firstYields[[\"10Y\"]]"
   ]
  },
  {
   "cell_type": "code",
   "execution_count": 21,
   "id": "ce498c1e-5ec0-487f-9ec2-d9a32b077f61",
   "metadata": {},
   "outputs": [],
   "source": [
    "yieldList <- list(firstYields)"
   ]
  },
  {
   "cell_type": "code",
   "execution_count": 22,
   "id": "c504d27d-c7d9-459b-92bc-989981ea5db8",
   "metadata": {},
   "outputs": [],
   "source": [
    "nombres <- colnames(firstYields)"
   ]
  },
  {
   "cell_type": "code",
   "execution_count": 23,
   "id": "8d12a55e-80db-4d9b-9d63-6d4fee00e44f",
   "metadata": {},
   "outputs": [],
   "source": [
    "nombres <- nombres[-1]"
   ]
  },
  {
   "cell_type": "code",
   "execution_count": 24,
   "id": "d7231767-3339-4bc2-a79f-118be492db4f",
   "metadata": {},
   "outputs": [
    {
     "data": {
      "text/html": [
       "<style>\n",
       ".list-inline {list-style: none; margin:0; padding: 0}\n",
       ".list-inline>li {display: inline-block}\n",
       ".list-inline>li:not(:last-child)::after {content: \"\\00b7\"; padding: 0 .5ex}\n",
       "</style>\n",
       "<ol class=list-inline><li>'10Y'</li><li>'7Y'</li><li>'5Y'</li><li>'3Y'</li><li>'2Y'</li><li>'1Y'</li><li>'6M'</li><li>'3M'</li></ol>\n"
      ],
      "text/latex": [
       "\\begin{enumerate*}\n",
       "\\item '10Y'\n",
       "\\item '7Y'\n",
       "\\item '5Y'\n",
       "\\item '3Y'\n",
       "\\item '2Y'\n",
       "\\item '1Y'\n",
       "\\item '6M'\n",
       "\\item '3M'\n",
       "\\end{enumerate*}\n"
      ],
      "text/markdown": [
       "1. '10Y'\n",
       "2. '7Y'\n",
       "3. '5Y'\n",
       "4. '3Y'\n",
       "5. '2Y'\n",
       "6. '1Y'\n",
       "7. '6M'\n",
       "8. '3M'\n",
       "\n",
       "\n"
      ],
      "text/plain": [
       "[1] \"10Y\" \"7Y\"  \"5Y\"  \"3Y\"  \"2Y\"  \"1Y\"  \"6M\"  \"3M\" "
      ]
     },
     "metadata": {},
     "output_type": "display_data"
    }
   ],
   "source": [
    "nombres"
   ]
  },
  {
   "cell_type": "code",
   "execution_count": 25,
   "id": "cb1dbc36-9b49-4b39-8d74-b7ae078b89d2",
   "metadata": {},
   "outputs": [],
   "source": [
    "nombres <- as.list(nombres)"
   ]
  },
  {
   "cell_type": "code",
   "execution_count": 26,
   "id": "7ae67d55-2043-4beb-81c1-cd95a63c9ffe",
   "metadata": {},
   "outputs": [],
   "source": [
    "names(nombres) <- c(120,84,60,36,24,12,6,3) "
   ]
  },
  {
   "cell_type": "code",
   "execution_count": 27,
   "id": "f6812e41-02f5-43be-8f93-d2270415c6c8",
   "metadata": {},
   "outputs": [],
   "source": [
    "BondValue <- function (today, maturity, yieldlist,alpha ){\n",
    "    if (maturity == 3){\n",
    "        return (100*DiscountFactor(alpha, maturity) + singleBondPayment(3,yieldlist[[\"3M\"]], alpha, today))\n",
    "        }\n",
    "    setter <- as.character(maturity)\n",
    "    periods <- seq(6, maturity, 6)\n",
    "    bondSum <- sum(unlist(lapply(periods, function(x) singleBondPayment(x, yield = yieldlist[[nombres[[setter]]]],  alpha = alpha, today = today))))\n",
    "    return(bondSum +100*DiscountFactor(alpha, maturity))\n",
    "}\n",
    "\n"
   ]
  },
  {
   "cell_type": "code",
   "execution_count": 28,
   "id": "e115c3d4-be49-46e5-8e11-3f9ef159fb8c",
   "metadata": {},
   "outputs": [
    {
     "data": {
      "text/html": [
       "118.752228701085"
      ],
      "text/latex": [
       "118.752228701085"
      ],
      "text/markdown": [
       "118.752228701085"
      ],
      "text/plain": [
       "[1] 118.7522"
      ]
     },
     "metadata": {},
     "output_type": "display_data"
    }
   ],
   "source": [
    "BondValue(today, 120, firstYields, alpha)"
   ]
  },
  {
   "cell_type": "code",
   "execution_count": 29,
   "id": "a02e0b57-dea3-4c91-9c7d-3af12d4cdacd",
   "metadata": {},
   "outputs": [],
   "source": [
    "maturities <- c(120,84,60,36,24,12,6,3) "
   ]
  },
  {
   "cell_type": "code",
   "execution_count": 30,
   "id": "c12697eb-70c7-41cb-a52c-b9e0c43eae60",
   "metadata": {},
   "outputs": [],
   "source": [
    "alpha <- c(0.00343939424789704, 0.0105322205923502, 0.0817121232717679, 0.159800322624318, 0.274481567907549)\n",
    "bondValues <- list()\n",
    "for (i in maturities){\n",
    "    bondValues <- append(bondValues, BondValue(today, i, firstYields, alpha))\n",
    "}"
   ]
  },
  {
   "cell_type": "code",
   "execution_count": 36,
   "id": "e09def6e-e88a-447e-ab5c-7a7417b38b47",
   "metadata": {},
   "outputs": [
    {
     "data": {
      "text/html": [
       "<ol>\n",
       "\t<li>100.989909452258</li>\n",
       "\t<li>98.0931461413023</li>\n",
       "\t<li>100.830932085909</li>\n",
       "\t<li>100.747353387395</li>\n",
       "\t<li>98.576630727408</li>\n",
       "\t<li>100.677671207665</li>\n",
       "\t<li>99.9980280215078</li>\n",
       "\t<li>100.002728596816</li>\n",
       "</ol>\n"
      ],
      "text/latex": [
       "\\begin{enumerate}\n",
       "\\item 100.989909452258\n",
       "\\item 98.0931461413023\n",
       "\\item 100.830932085909\n",
       "\\item 100.747353387395\n",
       "\\item 98.576630727408\n",
       "\\item 100.677671207665\n",
       "\\item 99.9980280215078\n",
       "\\item 100.002728596816\n",
       "\\end{enumerate}\n"
      ],
      "text/markdown": [
       "1. 100.989909452258\n",
       "2. 98.0931461413023\n",
       "3. 100.830932085909\n",
       "4. 100.747353387395\n",
       "5. 98.576630727408\n",
       "6. 100.677671207665\n",
       "7. 99.9980280215078\n",
       "8. 100.002728596816\n",
       "\n",
       "\n"
      ],
      "text/plain": [
       "[[1]]\n",
       "[1] 100.9899\n",
       "\n",
       "[[2]]\n",
       "[1] 98.09315\n",
       "\n",
       "[[3]]\n",
       "[1] 100.8309\n",
       "\n",
       "[[4]]\n",
       "[1] 100.7474\n",
       "\n",
       "[[5]]\n",
       "[1] 98.57663\n",
       "\n",
       "[[6]]\n",
       "[1] 100.6777\n",
       "\n",
       "[[7]]\n",
       "[1] 99.99803\n",
       "\n",
       "[[8]]\n",
       "[1] 100.0027\n"
      ]
     },
     "metadata": {},
     "output_type": "display_data"
    }
   ],
   "source": [
    "bondValues"
   ]
  },
  {
   "cell_type": "code",
   "execution_count": 31,
   "id": "58a47576-09dd-44a6-9d58-47053a7f21fe",
   "metadata": {},
   "outputs": [
    {
     "data": {
      "text/html": [
       "8.35022726494102"
      ],
      "text/latex": [
       "8.35022726494102"
      ],
      "text/markdown": [
       "8.35022726494102"
      ],
      "text/plain": [
       "[1] 8.350227"
      ]
     },
     "metadata": {},
     "output_type": "display_data"
    }
   ],
   "source": [
    "error <-function(alpha){\n",
    "    maturities <- c(3,6,12,24,36,60,84,120) \n",
    "    bondValues <- list()\n",
    "    for (i in maturities){\n",
    "        bondValues <- append(bondValues, BondValue(today, i, firstYields, alpha))\n",
    "    }\n",
    "    error <- sum((unlist(bondValues)-100)**2)\n",
    "    return (error)\n",
    "}\n",
    "\n",
    "error(alpha)"
   ]
  },
  {
   "cell_type": "code",
   "execution_count": 32,
   "id": "7c7a9065-9e84-47c2-9239-9d782356225c",
   "metadata": {},
   "outputs": [
    {
     "data": {
      "text/html": [
       "<dl>\n",
       "\t<dt>$par</dt>\n",
       "\t\t<dd><style>\n",
       ".list-inline {list-style: none; margin:0; padding: 0}\n",
       ".list-inline>li {display: inline-block}\n",
       ".list-inline>li:not(:last-child)::after {content: \"\\00b7\"; padding: 0 .5ex}\n",
       "</style>\n",
       "<ol class=list-inline><li>0.00343939424789704</li><li>0.0105322205923502</li><li>0.0817121232717679</li><li>0.159800322624318</li><li>0.274481567907549</li></ol>\n",
       "</dd>\n",
       "\t<dt>$value</dt>\n",
       "\t\t<dd>8.35022726494102</dd>\n",
       "\t<dt>$counts</dt>\n",
       "\t\t<dd><style>\n",
       ".dl-inline {width: auto; margin:0; padding: 0}\n",
       ".dl-inline>dt, .dl-inline>dd {float: none; width: auto; display: inline-block}\n",
       ".dl-inline>dt::after {content: \":\\0020\"; padding-right: .5ex}\n",
       ".dl-inline>dt:not(:first-of-type) {padding-left: .5ex}\n",
       "</style><dl class=dl-inline><dt>function</dt><dd>21</dd><dt>gradient</dt><dd>21</dd></dl>\n",
       "</dd>\n",
       "\t<dt>$convergence</dt>\n",
       "\t\t<dd>52</dd>\n",
       "\t<dt>$message</dt>\n",
       "\t\t<dd>'ERROR: ABNORMAL_TERMINATION_IN_LNSRCH'</dd>\n",
       "</dl>\n"
      ],
      "text/latex": [
       "\\begin{description}\n",
       "\\item[\\$par] \\begin{enumerate*}\n",
       "\\item 0.00343939424789704\n",
       "\\item 0.0105322205923502\n",
       "\\item 0.0817121232717679\n",
       "\\item 0.159800322624318\n",
       "\\item 0.274481567907549\n",
       "\\end{enumerate*}\n",
       "\n",
       "\\item[\\$value] 8.35022726494102\n",
       "\\item[\\$counts] \\begin{description*}\n",
       "\\item[function] 21\n",
       "\\item[gradient] 21\n",
       "\\end{description*}\n",
       "\n",
       "\\item[\\$convergence] 52\n",
       "\\item[\\$message] 'ERROR: ABNORMAL\\_TERMINATION\\_IN\\_LNSRCH'\n",
       "\\end{description}\n"
      ],
      "text/markdown": [
       "$par\n",
       ":   1. 0.00343939424789704\n",
       "2. 0.0105322205923502\n",
       "3. 0.0817121232717679\n",
       "4. 0.159800322624318\n",
       "5. 0.274481567907549\n",
       "\n",
       "\n",
       "\n",
       "$value\n",
       ":   8.35022726494102\n",
       "$counts\n",
       ":   function\n",
       ":   21gradient\n",
       ":   21\n",
       "\n",
       "\n",
       "$convergence\n",
       ":   52\n",
       "$message\n",
       ":   'ERROR: ABNORMAL_TERMINATION_IN_LNSRCH'\n",
       "\n",
       "\n"
      ],
      "text/plain": [
       "$par\n",
       "[1] 0.003439394 0.010532221 0.081712123 0.159800323 0.274481568\n",
       "\n",
       "$value\n",
       "[1] 8.350227\n",
       "\n",
       "$counts\n",
       "function gradient \n",
       "      21       21 \n",
       "\n",
       "$convergence\n",
       "[1] 52\n",
       "\n",
       "$message\n",
       "[1] \"ERROR: ABNORMAL_TERMINATION_IN_LNSRCH\"\n"
      ]
     },
     "metadata": {},
     "output_type": "display_data"
    }
   ],
   "source": [
    "\n",
    "optim(alpha, error, lower = 0, upper= 1, method = \"L-BFGS-B\")"
   ]
  },
  {
   "cell_type": "code",
   "execution_count": 39,
   "id": "a40166af-e090-43ee-bc10-27c225afcea5",
   "metadata": {},
   "outputs": [],
   "source": [
    "opt <- optim(alpha, error, lower = 0, upper= 1, method = \"L-BFGS-B\")"
   ]
  },
  {
   "cell_type": "code",
   "execution_count": 2,
   "id": "329fea40",
   "metadata": {},
   "outputs": [
    {
     "ename": "ERROR",
     "evalue": "Error in eval(expr, envir, enclos): objeto 'opt' no encontrado\n",
     "output_type": "error",
     "traceback": [
      "Error in eval(expr, envir, enclos): objeto 'opt' no encontrado\nTraceback:\n"
     ]
    }
   ],
   "source": [
    "list(opt$par)"
   ]
  },
  {
   "cell_type": "markdown",
   "id": "c52edb93",
   "metadata": {},
   "source": [
    "Valoración de bono de 7 años"
   ]
  },
  {
   "cell_type": "code",
   "execution_count": 33,
   "id": "5c82c495",
   "metadata": {},
   "outputs": [
    {
     "data": {
      "text/html": [
       "67.3263831653086"
      ],
      "text/latex": [
       "67.3263831653086"
      ],
      "text/markdown": [
       "67.3263831653086"
      ],
      "text/plain": [
       "[1] 67.32638"
      ]
     },
     "metadata": {},
     "output_type": "display_data"
    },
    {
     "data": {
      "text/html": [
       "<dl>\n",
       "\t<dt>$par</dt>\n",
       "\t\t<dd>3.8353524030111</dd>\n",
       "\t<dt>$value</dt>\n",
       "\t\t<dd>1.17478769823265e-06</dd>\n",
       "\t<dt>$counts</dt>\n",
       "\t\t<dd><style>\n",
       ".dl-inline {width: auto; margin:0; padding: 0}\n",
       ".dl-inline>dt, .dl-inline>dd {float: none; width: auto; display: inline-block}\n",
       ".dl-inline>dt::after {content: \":\\0020\"; padding-right: .5ex}\n",
       ".dl-inline>dt:not(:first-of-type) {padding-left: .5ex}\n",
       "</style><dl class=dl-inline><dt>function</dt><dd>&lt;NA&gt;</dd><dt>gradient</dt><dd>&lt;NA&gt;</dd></dl>\n",
       "</dd>\n",
       "\t<dt>$convergence</dt>\n",
       "\t\t<dd>0</dd>\n",
       "\t<dt>$message</dt>\n",
       "\t\t<dd>NULL</dd>\n",
       "</dl>\n"
      ],
      "text/latex": [
       "\\begin{description}\n",
       "\\item[\\$par] 3.8353524030111\n",
       "\\item[\\$value] 1.17478769823265e-06\n",
       "\\item[\\$counts] \\begin{description*}\n",
       "\\item[function] <NA>\n",
       "\\item[gradient] <NA>\n",
       "\\end{description*}\n",
       "\n",
       "\\item[\\$convergence] 0\n",
       "\\item[\\$message] NULL\n",
       "\\end{description}\n"
      ],
      "text/markdown": [
       "$par\n",
       ":   3.8353524030111\n",
       "$value\n",
       ":   1.17478769823265e-06\n",
       "$counts\n",
       ":   function\n",
       ":   &lt;NA&gt;gradient\n",
       ":   &lt;NA&gt;\n",
       "\n",
       "\n",
       "$convergence\n",
       ":   0\n",
       "$message\n",
       ":   NULL\n",
       "\n",
       "\n"
      ],
      "text/plain": [
       "$par\n",
       "[1] 3.835352\n",
       "\n",
       "$value\n",
       "[1] 1.174788e-06\n",
       "\n",
       "$counts\n",
       "function gradient \n",
       "      NA       NA \n",
       "\n",
       "$convergence\n",
       "[1] 0\n",
       "\n",
       "$message\n",
       "NULL\n"
      ]
     },
     "metadata": {},
     "output_type": "display_data"
    }
   ],
   "source": [
    "alpha <- c(0.00343939424789704, 0.0105322205923502, 0.0817121232717679, 0.159800322624318, 0.274481567907549)\n",
    "pvnotional <- 100 - DiscountFactor(alpha[4], 84)*100\n",
    "pvnotional\n",
    "couponsum <- function (c){\n",
    "pvcoupon <- DiscountFactor(alpha[2], 12)*RateConverter(c, 12,today) + DiscountFactor(alpha[2], 24)*RateConverter(c,24,today) +\n",
    " DiscountFactor(alpha[3], 36)*RateConverter(c, 36,today) +DiscountFactor(alpha[3], 48)*RateConverter(c, 48,today) +\n",
    " DiscountFactor(alpha[4], 60)*RateConverter(c, 60,today) + DiscountFactor(alpha[4], 72)*RateConverter(c, 72,today) +  \n",
    " DiscountFactor(alpha[4], 84)*RateConverter(c, 84,today) + DiscountFactor(alpha[4], 84)*RateConverter(c, 84,today)\n",
    " result <-pvnotional- pvcoupon\n",
    "    if (result <0){\n",
    "        return (500)\n",
    "    }\n",
    "    else {\n",
    "        return (pvnotional- pvcoupon)\n",
    "    }\n",
    "    \n",
    "}\n",
    "\n",
    "opti <- optim(c,couponsum,lower = 0, upper=10,  method = \"Brent\")\n",
    "opti\n"
   ]
  },
  {
   "cell_type": "markdown",
   "id": "a0ac085d",
   "metadata": {},
   "source": [
    "Matriz de curvas 3 años en el pasado"
   ]
  },
  {
   "cell_type": "code",
   "execution_count": 48,
   "id": "f154bbc5",
   "metadata": {},
   "outputs": [],
   "source": [
    "\n",
    "matAlphas <- list()\n",
    "for ( r in 1:nrow(df)){ \n",
    "    firstYields <- df[r,]\n",
    "    today <- firstYields$Date\n",
    "    alpha <- c(0.00343939424789704, 0.0105322205923502, 0.0817121232717679, 0.159800322624318, 0.274481567907549)\n",
    "    opt <- optim(alpha, error, lower = 0, upper= 1, method = \"L-BFGS-B\")\n",
    "    matAlphas <- append(matAlphas, list(opt$par))\n",
    "}"
   ]
  },
  {
   "cell_type": "code",
   "execution_count": 49,
   "id": "6c7c98be",
   "metadata": {},
   "outputs": [],
   "source": [
    "MatofAlphas <- matrix(unlist(matAlphas), ncol = 5, byrow = TRUE)"
   ]
  },
  {
   "cell_type": "code",
   "execution_count": 1,
   "id": "75147ad5",
   "metadata": {},
   "outputs": [
    {
     "ename": "ERROR",
     "evalue": "Error in is.data.frame(x): objeto 'MatofAlphas' no encontrado\n",
     "output_type": "error",
     "traceback": [
      "Error in is.data.frame(x): objeto 'MatofAlphas' no encontrado\nTraceback:\n",
      "1. write.csv(MatofAlphas, \"../data/sim.csv\", row.names = FALSE)",
      "2. eval.parent(Call)",
      "3. eval(expr, p)",
      "4. eval(expr, p)",
      "5. write.table(MatofAlphas, \"../data/sim.csv\", row.names = FALSE, \n .     col.names = TRUE, sep = \",\", dec = \".\", qmethod = \"double\")",
      "6. is.data.frame(x)"
     ]
    }
   ],
   "source": [
    "write.csv(MatofAlphas,\"../data/sim.csv\", row.names = FALSE)"
   ]
  },
  {
   "cell_type": "code",
   "execution_count": 2,
   "id": "89765d2f",
   "metadata": {},
   "outputs": [
    {
     "data": {
      "text/html": [
       "<table class=\"dataframe\">\n",
       "<caption>A matrix: 5 × 5 of type dbl</caption>\n",
       "<thead>\n",
       "\t<tr><th></th><th scope=col>V1</th><th scope=col>V2</th><th scope=col>V3</th><th scope=col>V4</th><th scope=col>V5</th></tr>\n",
       "</thead>\n",
       "<tbody>\n",
       "\t<tr><th scope=row>V1</th><td>6.029197e-07</td><td>4.079473e-07</td><td>1.073900e-06</td><td>2.077693e-06</td><td>3.446827e-06</td></tr>\n",
       "\t<tr><th scope=row>V2</th><td>4.079473e-07</td><td>1.202395e-06</td><td>2.188503e-06</td><td>3.439836e-06</td><td>4.395852e-06</td></tr>\n",
       "\t<tr><th scope=row>V3</th><td>1.073900e-06</td><td>2.188503e-06</td><td>1.418655e-05</td><td>2.654489e-05</td><td>3.529536e-05</td></tr>\n",
       "\t<tr><th scope=row>V4</th><td>2.077693e-06</td><td>3.439836e-06</td><td>2.654489e-05</td><td>6.365702e-05</td><td>9.191198e-05</td></tr>\n",
       "\t<tr><th scope=row>V5</th><td>3.446827e-06</td><td>4.395852e-06</td><td>3.529536e-05</td><td>9.191198e-05</td><td>2.068846e-04</td></tr>\n",
       "</tbody>\n",
       "</table>\n"
      ],
      "text/latex": [
       "A matrix: 5 × 5 of type dbl\n",
       "\\begin{tabular}{r|lllll}\n",
       "  & V1 & V2 & V3 & V4 & V5\\\\\n",
       "\\hline\n",
       "\tV1 & 6.029197e-07 & 4.079473e-07 & 1.073900e-06 & 2.077693e-06 & 3.446827e-06\\\\\n",
       "\tV2 & 4.079473e-07 & 1.202395e-06 & 2.188503e-06 & 3.439836e-06 & 4.395852e-06\\\\\n",
       "\tV3 & 1.073900e-06 & 2.188503e-06 & 1.418655e-05 & 2.654489e-05 & 3.529536e-05\\\\\n",
       "\tV4 & 2.077693e-06 & 3.439836e-06 & 2.654489e-05 & 6.365702e-05 & 9.191198e-05\\\\\n",
       "\tV5 & 3.446827e-06 & 4.395852e-06 & 3.529536e-05 & 9.191198e-05 & 2.068846e-04\\\\\n",
       "\\end{tabular}\n"
      ],
      "text/markdown": [
       "\n",
       "A matrix: 5 × 5 of type dbl\n",
       "\n",
       "| <!--/--> | V1 | V2 | V3 | V4 | V5 |\n",
       "|---|---|---|---|---|---|\n",
       "| V1 | 6.029197e-07 | 4.079473e-07 | 1.073900e-06 | 2.077693e-06 | 3.446827e-06 |\n",
       "| V2 | 4.079473e-07 | 1.202395e-06 | 2.188503e-06 | 3.439836e-06 | 4.395852e-06 |\n",
       "| V3 | 1.073900e-06 | 2.188503e-06 | 1.418655e-05 | 2.654489e-05 | 3.529536e-05 |\n",
       "| V4 | 2.077693e-06 | 3.439836e-06 | 2.654489e-05 | 6.365702e-05 | 9.191198e-05 |\n",
       "| V5 | 3.446827e-06 | 4.395852e-06 | 3.529536e-05 | 9.191198e-05 | 2.068846e-04 |\n",
       "\n"
      ],
      "text/plain": [
       "   V1           V2           V3           V4           V5          \n",
       "V1 6.029197e-07 4.079473e-07 1.073900e-06 2.077693e-06 3.446827e-06\n",
       "V2 4.079473e-07 1.202395e-06 2.188503e-06 3.439836e-06 4.395852e-06\n",
       "V3 1.073900e-06 2.188503e-06 1.418655e-05 2.654489e-05 3.529536e-05\n",
       "V4 2.077693e-06 3.439836e-06 2.654489e-05 6.365702e-05 9.191198e-05\n",
       "V5 3.446827e-06 4.395852e-06 3.529536e-05 9.191198e-05 2.068846e-04"
      ]
     },
     "metadata": {},
     "output_type": "display_data"
    }
   ],
   "source": [
    "MatofAlphas <- read.csv(\"../data/sim.csv\")\n",
    "i_alpha <- MatofAlphas[-nrow(MatofAlphas),]\n",
    "f_alpha <- MatofAlphas[-1,]\n",
    "delta_alpha <- f_alpha - i_alpha\n",
    "cov_delta_a <- cov(delta_alpha)\n",
    "cov_delta_a"
   ]
  },
  {
   "cell_type": "code",
   "execution_count": 3,
   "id": "15b0e16c",
   "metadata": {},
   "outputs": [
    {
     "data": {
      "text/html": [
       "<table class=\"dataframe\">\n",
       "<caption>A matrix: 5 × 5 of type dbl</caption>\n",
       "<tbody>\n",
       "\t<tr><td>-0.01599859</td><td>-0.02116783</td><td> 0.12298140</td><td>-0.47243402</td><td> 0.872340326</td></tr>\n",
       "\t<tr><td>-0.02232141</td><td>-0.07065955</td><td> 0.34082166</td><td>-0.80218478</td><td>-0.484612381</td></tr>\n",
       "\t<tr><td>-0.17436245</td><td>-0.44177253</td><td> 0.80556336</td><td> 0.34889055</td><td> 0.061464005</td></tr>\n",
       "\t<tr><td>-0.43761759</td><td>-0.76197566</td><td>-0.46488144</td><td>-0.10683784</td><td>-0.018837481</td></tr>\n",
       "\t<tr><td>-0.88166568</td><td> 0.46774915</td><td> 0.06057301</td><td> 0.01291292</td><td>-0.006365662</td></tr>\n",
       "</tbody>\n",
       "</table>\n"
      ],
      "text/latex": [
       "A matrix: 5 × 5 of type dbl\n",
       "\\begin{tabular}{lllll}\n",
       "\t -0.01599859 & -0.02116783 &  0.12298140 & -0.47243402 &  0.872340326\\\\\n",
       "\t -0.02232141 & -0.07065955 &  0.34082166 & -0.80218478 & -0.484612381\\\\\n",
       "\t -0.17436245 & -0.44177253 &  0.80556336 &  0.34889055 &  0.061464005\\\\\n",
       "\t -0.43761759 & -0.76197566 & -0.46488144 & -0.10683784 & -0.018837481\\\\\n",
       "\t -0.88166568 &  0.46774915 &  0.06057301 &  0.01291292 & -0.006365662\\\\\n",
       "\\end{tabular}\n"
      ],
      "text/markdown": [
       "\n",
       "A matrix: 5 × 5 of type dbl\n",
       "\n",
       "| -0.01599859 | -0.02116783 |  0.12298140 | -0.47243402 |  0.872340326 |\n",
       "| -0.02232141 | -0.07065955 |  0.34082166 | -0.80218478 | -0.484612381 |\n",
       "| -0.17436245 | -0.44177253 |  0.80556336 |  0.34889055 |  0.061464005 |\n",
       "| -0.43761759 | -0.76197566 | -0.46488144 | -0.10683784 | -0.018837481 |\n",
       "| -0.88166568 |  0.46774915 |  0.06057301 |  0.01291292 | -0.006365662 |\n",
       "\n"
      ],
      "text/plain": [
       "     [,1]        [,2]        [,3]        [,4]        [,5]        \n",
       "[1,] -0.01599859 -0.02116783  0.12298140 -0.47243402  0.872340326\n",
       "[2,] -0.02232141 -0.07065955  0.34082166 -0.80218478 -0.484612381\n",
       "[3,] -0.17436245 -0.44177253  0.80556336  0.34889055  0.061464005\n",
       "[4,] -0.43761759 -0.76197566 -0.46488144 -0.10683784 -0.018837481\n",
       "[5,] -0.88166568  0.46774915  0.06057301  0.01291292 -0.006365662"
      ]
     },
     "metadata": {},
     "output_type": "display_data"
    },
    {
     "data": {
      "text/html": [
       "<style>\n",
       ".list-inline {list-style: none; margin:0; padding: 0}\n",
       ".list-inline>li {display: inline-block}\n",
       ".list-inline>li:not(:last-child)::after {content: \"\\00b7\"; padding: 0 .5ex}\n",
       "</style>\n",
       "<ol class=list-inline><li>0.0161139505427681</li><li>0.00479607026597325</li><li>0.00161605754306166</li><li>0.000937113585610607</li><li>0.000618012509456347</li></ol>\n"
      ],
      "text/latex": [
       "\\begin{enumerate*}\n",
       "\\item 0.0161139505427681\n",
       "\\item 0.00479607026597325\n",
       "\\item 0.00161605754306166\n",
       "\\item 0.000937113585610607\n",
       "\\item 0.000618012509456347\n",
       "\\end{enumerate*}\n"
      ],
      "text/markdown": [
       "1. 0.0161139505427681\n",
       "2. 0.00479607026597325\n",
       "3. 0.00161605754306166\n",
       "4. 0.000937113585610607\n",
       "5. 0.000618012509456347\n",
       "\n",
       "\n"
      ],
      "text/plain": [
       "[1] 0.0161139505 0.0047960703 0.0016160575 0.0009371136 0.0006180125"
      ]
     },
     "metadata": {},
     "output_type": "display_data"
    },
    {
     "data": {
      "text/html": [
       "<table class=\"dataframe\">\n",
       "<caption>A matrix: 5 × 5 of type dbl</caption>\n",
       "<tbody>\n",
       "\t<tr><td>-0.0002578005</td><td>-0.0001015224</td><td> 1.987450e-04</td><td>-4.427243e-04</td><td> 5.391172e-04</td></tr>\n",
       "\t<tr><td>-0.0003596860</td><td>-0.0003388882</td><td> 5.507874e-04</td><td>-7.517383e-04</td><td>-2.994965e-04</td></tr>\n",
       "\t<tr><td>-0.0028096680</td><td>-0.0021187721</td><td> 1.301837e-03</td><td> 3.269501e-04</td><td> 3.798552e-05</td></tr>\n",
       "\t<tr><td>-0.0070517483</td><td>-0.0036544888</td><td>-7.512752e-04</td><td>-1.001192e-04</td><td>-1.164180e-05</td></tr>\n",
       "\t<tr><td>-0.0142071172</td><td> 0.0022433578</td><td> 9.788948e-05</td><td> 1.210087e-05</td><td>-3.934059e-06</td></tr>\n",
       "</tbody>\n",
       "</table>\n"
      ],
      "text/latex": [
       "A matrix: 5 × 5 of type dbl\n",
       "\\begin{tabular}{lllll}\n",
       "\t -0.0002578005 & -0.0001015224 &  1.987450e-04 & -4.427243e-04 &  5.391172e-04\\\\\n",
       "\t -0.0003596860 & -0.0003388882 &  5.507874e-04 & -7.517383e-04 & -2.994965e-04\\\\\n",
       "\t -0.0028096680 & -0.0021187721 &  1.301837e-03 &  3.269501e-04 &  3.798552e-05\\\\\n",
       "\t -0.0070517483 & -0.0036544888 & -7.512752e-04 & -1.001192e-04 & -1.164180e-05\\\\\n",
       "\t -0.0142071172 &  0.0022433578 &  9.788948e-05 &  1.210087e-05 & -3.934059e-06\\\\\n",
       "\\end{tabular}\n"
      ],
      "text/markdown": [
       "\n",
       "A matrix: 5 × 5 of type dbl\n",
       "\n",
       "| -0.0002578005 | -0.0001015224 |  1.987450e-04 | -4.427243e-04 |  5.391172e-04 |\n",
       "| -0.0003596860 | -0.0003388882 |  5.507874e-04 | -7.517383e-04 | -2.994965e-04 |\n",
       "| -0.0028096680 | -0.0021187721 |  1.301837e-03 |  3.269501e-04 |  3.798552e-05 |\n",
       "| -0.0070517483 | -0.0036544888 | -7.512752e-04 | -1.001192e-04 | -1.164180e-05 |\n",
       "| -0.0142071172 |  0.0022433578 |  9.788948e-05 |  1.210087e-05 | -3.934059e-06 |\n",
       "\n"
      ],
      "text/plain": [
       "     [,1]          [,2]          [,3]          [,4]          [,5]         \n",
       "[1,] -0.0002578005 -0.0001015224  1.987450e-04 -4.427243e-04  5.391172e-04\n",
       "[2,] -0.0003596860 -0.0003388882  5.507874e-04 -7.517383e-04 -2.994965e-04\n",
       "[3,] -0.0028096680 -0.0021187721  1.301837e-03  3.269501e-04  3.798552e-05\n",
       "[4,] -0.0070517483 -0.0036544888 -7.512752e-04 -1.001192e-04 -1.164180e-05\n",
       "[5,] -0.0142071172  0.0022433578  9.788948e-05  1.210087e-05 -3.934059e-06"
      ]
     },
     "metadata": {},
     "output_type": "display_data"
    }
   ],
   "source": [
    "eigen_delta <- eigen(cov_delta_a)\n",
    "A <- eigen_delta$vectors \n",
    "sqrt <- eigen_delta$values**(1/2)\n",
    "A \n",
    "sqrt\n",
    "B <- t(t(A) * sqrt)\n",
    "B"
   ]
  },
  {
   "cell_type": "code",
   "execution_count": 4,
   "id": "890bd92a",
   "metadata": {},
   "outputs": [],
   "source": [
    "Y <- MatofAlphas*A\n"
   ]
  },
  {
   "cell_type": "code",
   "execution_count": 5,
   "id": "8891c81a",
   "metadata": {},
   "outputs": [],
   "source": [
    "W <- MatofAlphas*B"
   ]
  },
  {
   "cell_type": "code",
   "execution_count": 6,
   "id": "e196be6b",
   "metadata": {},
   "outputs": [
    {
     "data": {
      "text/plain": [
       "Importance of components:\n",
       "                           Comp.1      Comp.2      Comp.3       Comp.4\n",
       "Standard deviation     0.01607517 0.004784527 0.001612168 0.0009348582\n",
       "Proportion of Variance 0.90620972 0.080277851 0.009114614 0.0030648493\n",
       "Cumulative Proportion  0.90620972 0.986487570 0.995602184 0.9986670336\n",
       "                             Comp.5\n",
       "Standard deviation     0.0006165251\n",
       "Proportion of Variance 0.0013329664\n",
       "Cumulative Proportion  1.0000000000"
      ]
     },
     "metadata": {},
     "output_type": "display_data"
    }
   ],
   "source": [
    "components <- princomp(delta_alpha)\n",
    "summary(components)"
   ]
  },
  {
   "cell_type": "code",
   "execution_count": 7,
   "id": "76080d28",
   "metadata": {},
   "outputs": [],
   "source": [
    "cum_variance <- cumsum(components$sdev^2 / sum(components$sdev^2))\n",
    "best_components <- components$scores[,1:2]"
   ]
  },
  {
   "cell_type": "code",
   "execution_count": 8,
   "id": "2e78a1b1",
   "metadata": {},
   "outputs": [
    {
     "data": {
      "text/html": [
       "<table class=\"dataframe\">\n",
       "<caption>A matrix: 208 × 2 of type dbl</caption>\n",
       "<thead>\n",
       "\t<tr><th></th><th scope=col>Comp.1</th><th scope=col>Comp.2</th></tr>\n",
       "</thead>\n",
       "<tbody>\n",
       "\t<tr><th scope=row>2</th><td>-0.0010133629</td><td>-0.0014999750</td></tr>\n",
       "\t<tr><th scope=row>3</th><td>-0.0006067909</td><td> 0.0020122557</td></tr>\n",
       "\t<tr><th scope=row>4</th><td> 0.0054039694</td><td>-0.0006699329</td></tr>\n",
       "\t<tr><th scope=row>5</th><td>-0.0107083224</td><td> 0.0042348343</td></tr>\n",
       "\t<tr><th scope=row>6</th><td>-0.0029639914</td><td>-0.0027713995</td></tr>\n",
       "\t<tr><th scope=row>7</th><td>-0.0134135066</td><td> 0.0027898480</td></tr>\n",
       "\t<tr><th scope=row>8</th><td> 0.0062592469</td><td>-0.0003774793</td></tr>\n",
       "\t<tr><th scope=row>9</th><td> 0.0057672171</td><td> 0.0059965248</td></tr>\n",
       "\t<tr><th scope=row>10</th><td> 0.0207177497</td><td> 0.0035606578</td></tr>\n",
       "\t<tr><th scope=row>11</th><td> 0.0003116482</td><td> 0.0003285832</td></tr>\n",
       "\t<tr><th scope=row>12</th><td>-0.0005483813</td><td>-0.0026362780</td></tr>\n",
       "\t<tr><th scope=row>13</th><td> 0.0009482481</td><td> 0.0059203569</td></tr>\n",
       "\t<tr><th scope=row>14</th><td> 0.0167770167</td><td>-0.0021388298</td></tr>\n",
       "\t<tr><th scope=row>15</th><td>-0.0179281942</td><td>-0.0040538814</td></tr>\n",
       "\t<tr><th scope=row>16</th><td>-0.0049089113</td><td> 0.0006012269</td></tr>\n",
       "\t<tr><th scope=row>17</th><td> 0.0077338761</td><td> 0.0001506899</td></tr>\n",
       "\t<tr><th scope=row>18</th><td>-0.0069764003</td><td> 0.0042390638</td></tr>\n",
       "\t<tr><th scope=row>19</th><td>-0.0028437227</td><td>-0.0017892155</td></tr>\n",
       "\t<tr><th scope=row>20</th><td>-0.0048768742</td><td>-0.0003676657</td></tr>\n",
       "\t<tr><th scope=row>21</th><td>-0.0066815050</td><td> 0.0007697589</td></tr>\n",
       "\t<tr><th scope=row>22</th><td> 0.0008013595</td><td>-0.0001951711</td></tr>\n",
       "\t<tr><th scope=row>23</th><td> 0.0125164045</td><td>-0.0016694611</td></tr>\n",
       "\t<tr><th scope=row>24</th><td> 0.0080866005</td><td> 0.0036963239</td></tr>\n",
       "\t<tr><th scope=row>25</th><td> 0.0017979830</td><td>-0.0034428843</td></tr>\n",
       "\t<tr><th scope=row>26</th><td>-0.0113766783</td><td>-0.0014702675</td></tr>\n",
       "\t<tr><th scope=row>27</th><td>-0.0021633700</td><td> 0.0007021785</td></tr>\n",
       "\t<tr><th scope=row>28</th><td>-0.0085726238</td><td> 0.0008563092</td></tr>\n",
       "\t<tr><th scope=row>29</th><td> 0.0096522235</td><td>-0.0019447618</td></tr>\n",
       "\t<tr><th scope=row>30</th><td> 0.0118369422</td><td> 0.0028290013</td></tr>\n",
       "\t<tr><th scope=row>31</th><td> 0.0065843996</td><td> 0.0056266654</td></tr>\n",
       "\t<tr><th scope=row>...</th><td>...</td><td>...</td></tr>\n",
       "\t<tr><th scope=row>180</th><td>-0.0005282728</td><td>-7.132262e-03</td></tr>\n",
       "\t<tr><th scope=row>181</th><td>-0.0090965745</td><td> 3.847978e-03</td></tr>\n",
       "\t<tr><th scope=row>182</th><td> 0.0140540628</td><td> 2.106278e-03</td></tr>\n",
       "\t<tr><th scope=row>183</th><td>-0.0041287600</td><td> 2.932636e-03</td></tr>\n",
       "\t<tr><th scope=row>184</th><td>-0.0041416316</td><td> 3.683102e-03</td></tr>\n",
       "\t<tr><th scope=row>185</th><td> 0.0120199318</td><td>-2.642333e-03</td></tr>\n",
       "\t<tr><th scope=row>186</th><td> 0.0038363517</td><td>-4.367285e-03</td></tr>\n",
       "\t<tr><th scope=row>187</th><td> 0.0039565767</td><td> 2.374003e-03</td></tr>\n",
       "\t<tr><th scope=row>188</th><td> 0.0042428763</td><td> 4.718685e-03</td></tr>\n",
       "\t<tr><th scope=row>189</th><td> 0.0167240747</td><td> 2.222259e-03</td></tr>\n",
       "\t<tr><th scope=row>190</th><td> 0.0040921422</td><td>-3.021444e-03</td></tr>\n",
       "\t<tr><th scope=row>191</th><td> 0.0287132923</td><td> 1.309979e-03</td></tr>\n",
       "\t<tr><th scope=row>192</th><td>-0.0114825210</td><td> 1.352910e-02</td></tr>\n",
       "\t<tr><th scope=row>193</th><td> 0.0106534916</td><td> 2.415629e-03</td></tr>\n",
       "\t<tr><th scope=row>194</th><td>-0.0142416815</td><td> 8.738128e-03</td></tr>\n",
       "\t<tr><th scope=row>195</th><td>-0.0168936560</td><td>-7.748718e-03</td></tr>\n",
       "\t<tr><th scope=row>196</th><td> 0.0170127209</td><td> 1.043825e-02</td></tr>\n",
       "\t<tr><th scope=row>197</th><td>-0.0023827462</td><td> 1.705699e-03</td></tr>\n",
       "\t<tr><th scope=row>198</th><td>-0.0117229328</td><td>-9.469945e-05</td></tr>\n",
       "\t<tr><th scope=row>199</th><td>-0.0263962726</td><td> 9.244904e-03</td></tr>\n",
       "\t<tr><th scope=row>200</th><td> 0.0239591471</td><td>-3.191993e-04</td></tr>\n",
       "\t<tr><th scope=row>201</th><td>-0.0131948864</td><td>-1.820130e-03</td></tr>\n",
       "\t<tr><th scope=row>202</th><td> 0.0164948364</td><td>-7.740744e-04</td></tr>\n",
       "\t<tr><th scope=row>203</th><td> 0.0040378841</td><td> 1.437431e-03</td></tr>\n",
       "\t<tr><th scope=row>204</th><td> 0.0434980091</td><td> 5.523265e-03</td></tr>\n",
       "\t<tr><th scope=row>205</th><td> 0.0014873380</td><td> 4.331151e-03</td></tr>\n",
       "\t<tr><th scope=row>206</th><td>-0.0052284173</td><td> 2.416643e-03</td></tr>\n",
       "\t<tr><th scope=row>207</th><td>-0.0005410443</td><td> 4.535863e-03</td></tr>\n",
       "\t<tr><th scope=row>208</th><td> 0.0212606428</td><td> 5.870904e-03</td></tr>\n",
       "\t<tr><th scope=row>209</th><td> 0.0004218616</td><td> 5.840489e-03</td></tr>\n",
       "</tbody>\n",
       "</table>\n"
      ],
      "text/latex": [
       "A matrix: 208 × 2 of type dbl\n",
       "\\begin{tabular}{r|ll}\n",
       "  & Comp.1 & Comp.2\\\\\n",
       "\\hline\n",
       "\t2 & -0.0010133629 & -0.0014999750\\\\\n",
       "\t3 & -0.0006067909 &  0.0020122557\\\\\n",
       "\t4 &  0.0054039694 & -0.0006699329\\\\\n",
       "\t5 & -0.0107083224 &  0.0042348343\\\\\n",
       "\t6 & -0.0029639914 & -0.0027713995\\\\\n",
       "\t7 & -0.0134135066 &  0.0027898480\\\\\n",
       "\t8 &  0.0062592469 & -0.0003774793\\\\\n",
       "\t9 &  0.0057672171 &  0.0059965248\\\\\n",
       "\t10 &  0.0207177497 &  0.0035606578\\\\\n",
       "\t11 &  0.0003116482 &  0.0003285832\\\\\n",
       "\t12 & -0.0005483813 & -0.0026362780\\\\\n",
       "\t13 &  0.0009482481 &  0.0059203569\\\\\n",
       "\t14 &  0.0167770167 & -0.0021388298\\\\\n",
       "\t15 & -0.0179281942 & -0.0040538814\\\\\n",
       "\t16 & -0.0049089113 &  0.0006012269\\\\\n",
       "\t17 &  0.0077338761 &  0.0001506899\\\\\n",
       "\t18 & -0.0069764003 &  0.0042390638\\\\\n",
       "\t19 & -0.0028437227 & -0.0017892155\\\\\n",
       "\t20 & -0.0048768742 & -0.0003676657\\\\\n",
       "\t21 & -0.0066815050 &  0.0007697589\\\\\n",
       "\t22 &  0.0008013595 & -0.0001951711\\\\\n",
       "\t23 &  0.0125164045 & -0.0016694611\\\\\n",
       "\t24 &  0.0080866005 &  0.0036963239\\\\\n",
       "\t25 &  0.0017979830 & -0.0034428843\\\\\n",
       "\t26 & -0.0113766783 & -0.0014702675\\\\\n",
       "\t27 & -0.0021633700 &  0.0007021785\\\\\n",
       "\t28 & -0.0085726238 &  0.0008563092\\\\\n",
       "\t29 &  0.0096522235 & -0.0019447618\\\\\n",
       "\t30 &  0.0118369422 &  0.0028290013\\\\\n",
       "\t31 &  0.0065843996 &  0.0056266654\\\\\n",
       "\t... & ... & ...\\\\\n",
       "\t180 & -0.0005282728 & -7.132262e-03\\\\\n",
       "\t181 & -0.0090965745 &  3.847978e-03\\\\\n",
       "\t182 &  0.0140540628 &  2.106278e-03\\\\\n",
       "\t183 & -0.0041287600 &  2.932636e-03\\\\\n",
       "\t184 & -0.0041416316 &  3.683102e-03\\\\\n",
       "\t185 &  0.0120199318 & -2.642333e-03\\\\\n",
       "\t186 &  0.0038363517 & -4.367285e-03\\\\\n",
       "\t187 &  0.0039565767 &  2.374003e-03\\\\\n",
       "\t188 &  0.0042428763 &  4.718685e-03\\\\\n",
       "\t189 &  0.0167240747 &  2.222259e-03\\\\\n",
       "\t190 &  0.0040921422 & -3.021444e-03\\\\\n",
       "\t191 &  0.0287132923 &  1.309979e-03\\\\\n",
       "\t192 & -0.0114825210 &  1.352910e-02\\\\\n",
       "\t193 &  0.0106534916 &  2.415629e-03\\\\\n",
       "\t194 & -0.0142416815 &  8.738128e-03\\\\\n",
       "\t195 & -0.0168936560 & -7.748718e-03\\\\\n",
       "\t196 &  0.0170127209 &  1.043825e-02\\\\\n",
       "\t197 & -0.0023827462 &  1.705699e-03\\\\\n",
       "\t198 & -0.0117229328 & -9.469945e-05\\\\\n",
       "\t199 & -0.0263962726 &  9.244904e-03\\\\\n",
       "\t200 &  0.0239591471 & -3.191993e-04\\\\\n",
       "\t201 & -0.0131948864 & -1.820130e-03\\\\\n",
       "\t202 &  0.0164948364 & -7.740744e-04\\\\\n",
       "\t203 &  0.0040378841 &  1.437431e-03\\\\\n",
       "\t204 &  0.0434980091 &  5.523265e-03\\\\\n",
       "\t205 &  0.0014873380 &  4.331151e-03\\\\\n",
       "\t206 & -0.0052284173 &  2.416643e-03\\\\\n",
       "\t207 & -0.0005410443 &  4.535863e-03\\\\\n",
       "\t208 &  0.0212606428 &  5.870904e-03\\\\\n",
       "\t209 &  0.0004218616 &  5.840489e-03\\\\\n",
       "\\end{tabular}\n"
      ],
      "text/markdown": [
       "\n",
       "A matrix: 208 × 2 of type dbl\n",
       "\n",
       "| <!--/--> | Comp.1 | Comp.2 |\n",
       "|---|---|---|\n",
       "| 2 | -0.0010133629 | -0.0014999750 |\n",
       "| 3 | -0.0006067909 |  0.0020122557 |\n",
       "| 4 |  0.0054039694 | -0.0006699329 |\n",
       "| 5 | -0.0107083224 |  0.0042348343 |\n",
       "| 6 | -0.0029639914 | -0.0027713995 |\n",
       "| 7 | -0.0134135066 |  0.0027898480 |\n",
       "| 8 |  0.0062592469 | -0.0003774793 |\n",
       "| 9 |  0.0057672171 |  0.0059965248 |\n",
       "| 10 |  0.0207177497 |  0.0035606578 |\n",
       "| 11 |  0.0003116482 |  0.0003285832 |\n",
       "| 12 | -0.0005483813 | -0.0026362780 |\n",
       "| 13 |  0.0009482481 |  0.0059203569 |\n",
       "| 14 |  0.0167770167 | -0.0021388298 |\n",
       "| 15 | -0.0179281942 | -0.0040538814 |\n",
       "| 16 | -0.0049089113 |  0.0006012269 |\n",
       "| 17 |  0.0077338761 |  0.0001506899 |\n",
       "| 18 | -0.0069764003 |  0.0042390638 |\n",
       "| 19 | -0.0028437227 | -0.0017892155 |\n",
       "| 20 | -0.0048768742 | -0.0003676657 |\n",
       "| 21 | -0.0066815050 |  0.0007697589 |\n",
       "| 22 |  0.0008013595 | -0.0001951711 |\n",
       "| 23 |  0.0125164045 | -0.0016694611 |\n",
       "| 24 |  0.0080866005 |  0.0036963239 |\n",
       "| 25 |  0.0017979830 | -0.0034428843 |\n",
       "| 26 | -0.0113766783 | -0.0014702675 |\n",
       "| 27 | -0.0021633700 |  0.0007021785 |\n",
       "| 28 | -0.0085726238 |  0.0008563092 |\n",
       "| 29 |  0.0096522235 | -0.0019447618 |\n",
       "| 30 |  0.0118369422 |  0.0028290013 |\n",
       "| 31 |  0.0065843996 |  0.0056266654 |\n",
       "| ... | ... | ... |\n",
       "| 180 | -0.0005282728 | -7.132262e-03 |\n",
       "| 181 | -0.0090965745 |  3.847978e-03 |\n",
       "| 182 |  0.0140540628 |  2.106278e-03 |\n",
       "| 183 | -0.0041287600 |  2.932636e-03 |\n",
       "| 184 | -0.0041416316 |  3.683102e-03 |\n",
       "| 185 |  0.0120199318 | -2.642333e-03 |\n",
       "| 186 |  0.0038363517 | -4.367285e-03 |\n",
       "| 187 |  0.0039565767 |  2.374003e-03 |\n",
       "| 188 |  0.0042428763 |  4.718685e-03 |\n",
       "| 189 |  0.0167240747 |  2.222259e-03 |\n",
       "| 190 |  0.0040921422 | -3.021444e-03 |\n",
       "| 191 |  0.0287132923 |  1.309979e-03 |\n",
       "| 192 | -0.0114825210 |  1.352910e-02 |\n",
       "| 193 |  0.0106534916 |  2.415629e-03 |\n",
       "| 194 | -0.0142416815 |  8.738128e-03 |\n",
       "| 195 | -0.0168936560 | -7.748718e-03 |\n",
       "| 196 |  0.0170127209 |  1.043825e-02 |\n",
       "| 197 | -0.0023827462 |  1.705699e-03 |\n",
       "| 198 | -0.0117229328 | -9.469945e-05 |\n",
       "| 199 | -0.0263962726 |  9.244904e-03 |\n",
       "| 200 |  0.0239591471 | -3.191993e-04 |\n",
       "| 201 | -0.0131948864 | -1.820130e-03 |\n",
       "| 202 |  0.0164948364 | -7.740744e-04 |\n",
       "| 203 |  0.0040378841 |  1.437431e-03 |\n",
       "| 204 |  0.0434980091 |  5.523265e-03 |\n",
       "| 205 |  0.0014873380 |  4.331151e-03 |\n",
       "| 206 | -0.0052284173 |  2.416643e-03 |\n",
       "| 207 | -0.0005410443 |  4.535863e-03 |\n",
       "| 208 |  0.0212606428 |  5.870904e-03 |\n",
       "| 209 |  0.0004218616 |  5.840489e-03 |\n",
       "\n"
      ],
      "text/plain": [
       "    Comp.1        Comp.2       \n",
       "2   -0.0010133629 -0.0014999750\n",
       "3   -0.0006067909  0.0020122557\n",
       "4    0.0054039694 -0.0006699329\n",
       "5   -0.0107083224  0.0042348343\n",
       "6   -0.0029639914 -0.0027713995\n",
       "7   -0.0134135066  0.0027898480\n",
       "8    0.0062592469 -0.0003774793\n",
       "9    0.0057672171  0.0059965248\n",
       "10   0.0207177497  0.0035606578\n",
       "11   0.0003116482  0.0003285832\n",
       "12  -0.0005483813 -0.0026362780\n",
       "13   0.0009482481  0.0059203569\n",
       "14   0.0167770167 -0.0021388298\n",
       "15  -0.0179281942 -0.0040538814\n",
       "16  -0.0049089113  0.0006012269\n",
       "17   0.0077338761  0.0001506899\n",
       "18  -0.0069764003  0.0042390638\n",
       "19  -0.0028437227 -0.0017892155\n",
       "20  -0.0048768742 -0.0003676657\n",
       "21  -0.0066815050  0.0007697589\n",
       "22   0.0008013595 -0.0001951711\n",
       "23   0.0125164045 -0.0016694611\n",
       "24   0.0080866005  0.0036963239\n",
       "25   0.0017979830 -0.0034428843\n",
       "26  -0.0113766783 -0.0014702675\n",
       "27  -0.0021633700  0.0007021785\n",
       "28  -0.0085726238  0.0008563092\n",
       "29   0.0096522235 -0.0019447618\n",
       "30   0.0118369422  0.0028290013\n",
       "31   0.0065843996  0.0056266654\n",
       "... ...           ...          \n",
       "180 -0.0005282728 -7.132262e-03\n",
       "181 -0.0090965745  3.847978e-03\n",
       "182  0.0140540628  2.106278e-03\n",
       "183 -0.0041287600  2.932636e-03\n",
       "184 -0.0041416316  3.683102e-03\n",
       "185  0.0120199318 -2.642333e-03\n",
       "186  0.0038363517 -4.367285e-03\n",
       "187  0.0039565767  2.374003e-03\n",
       "188  0.0042428763  4.718685e-03\n",
       "189  0.0167240747  2.222259e-03\n",
       "190  0.0040921422 -3.021444e-03\n",
       "191  0.0287132923  1.309979e-03\n",
       "192 -0.0114825210  1.352910e-02\n",
       "193  0.0106534916  2.415629e-03\n",
       "194 -0.0142416815  8.738128e-03\n",
       "195 -0.0168936560 -7.748718e-03\n",
       "196  0.0170127209  1.043825e-02\n",
       "197 -0.0023827462  1.705699e-03\n",
       "198 -0.0117229328 -9.469945e-05\n",
       "199 -0.0263962726  9.244904e-03\n",
       "200  0.0239591471 -3.191993e-04\n",
       "201 -0.0131948864 -1.820130e-03\n",
       "202  0.0164948364 -7.740744e-04\n",
       "203  0.0040378841  1.437431e-03\n",
       "204  0.0434980091  5.523265e-03\n",
       "205  0.0014873380  4.331151e-03\n",
       "206 -0.0052284173  2.416643e-03\n",
       "207 -0.0005410443  4.535863e-03\n",
       "208  0.0212606428  5.870904e-03\n",
       "209  0.0004218616  5.840489e-03"
      ]
     },
     "metadata": {},
     "output_type": "display_data"
    }
   ],
   "source": [
    "best_components"
   ]
  },
  {
   "cell_type": "code",
   "execution_count": 9,
   "id": "996b192e",
   "metadata": {},
   "outputs": [],
   "source": [
    "librerias <- c(\"forecast\",\"xts\",\"rugarch\",\"timeSeries\",\"ggplot2\",\"astsa\",\"scales\",\"lubridate\",\"reshape2\",\"quantmod\",\"xtable\",\"tseries\")"
   ]
  },
  {
   "cell_type": "code",
   "execution_count": 10,
   "id": "4aac25c2",
   "metadata": {},
   "outputs": [
    {
     "name": "stderr",
     "output_type": "stream",
     "text": [
      "Warning message:\n",
      "\"package 'forecast' was built under R version 3.6.3\"Registered S3 method overwritten by 'xts':\n",
      "  method     from\n",
      "  as.zoo.xts zoo \n",
      "Registered S3 method overwritten by 'quantmod':\n",
      "  method            from\n",
      "  as.zoo.data.frame zoo \n",
      "Warning message:\n",
      "\"package 'zoo' was built under R version 3.6.3\"\n",
      "Attaching package: 'zoo'\n",
      "\n",
      "The following objects are masked from 'package:base':\n",
      "\n",
      "    as.Date, as.Date.numeric\n",
      "\n",
      "Warning message:\n",
      "\"package 'rugarch' was built under R version 3.6.3\"\n",
      "Attaching package: 'rugarch'\n",
      "\n",
      "The following object is masked from 'package:stats':\n",
      "\n",
      "    sigma\n",
      "\n",
      "Warning message:\n",
      "\"package 'timeSeries' was built under R version 3.6.3\"Warning message:\n",
      "\"package 'timeDate' was built under R version 3.6.2\"\n",
      "Attaching package: 'timeSeries'\n",
      "\n",
      "The following object is masked from 'package:zoo':\n",
      "\n",
      "    time<-\n",
      "\n",
      "\n",
      "Attaching package: 'astsa'\n",
      "\n",
      "The following object is masked from 'package:forecast':\n",
      "\n",
      "    gas\n",
      "\n",
      "Warning message:\n",
      "\"package 'scales' was built under R version 3.6.3\"Warning message:\n",
      "\"package 'lubridate' was built under R version 3.6.3\"\n",
      "Attaching package: 'lubridate'\n",
      "\n",
      "The following objects are masked from 'package:base':\n",
      "\n",
      "    date, intersect, setdiff, union\n",
      "\n",
      "Warning message:\n",
      "\"package 'reshape2' was built under R version 3.6.3\"Version 0.4-0 included new data defaults. See ?getSymbols.\n",
      "Warning message:\n",
      "\"package 'xtable' was built under R version 3.6.3\"\n",
      "Attaching package: 'xtable'\n",
      "\n",
      "The following object is masked from 'package:timeSeries':\n",
      "\n",
      "    align\n",
      "\n",
      "The following object is masked from 'package:timeDate':\n",
      "\n",
      "    align\n",
      "\n",
      "Warning message:\n",
      "\"package 'tseries' was built under R version 3.6.3\""
     ]
    }
   ],
   "source": [
    "if(length(setdiff(librerias, rownames(installed.packages()))) > 0){\n",
    "  install.packages(setdiff(librerias, rownames(installed.packages())))}\n",
    "invisible(sapply(librerias, require, character.only = TRUE,quietly = TRUE))"
   ]
  },
  {
   "cell_type": "code",
   "execution_count": 17,
   "id": "6c1f4a8d",
   "metadata": {},
   "outputs": [
    {
     "data": {
      "text/plain": [
       "\n",
       "\tBox-Pierce test\n",
       "\n",
       "data:  Arima_1$residuals\n",
       "X-squared = 0.0027584, df = 1, p-value = 0.9581\n"
      ]
     },
     "metadata": {},
     "output_type": "display_data"
    },
    {
     "data": {
      "text/plain": [
       "\n",
       "\tBox-Pierce test\n",
       "\n",
       "data:  Arima_2$residuals\n",
       "X-squared = 0.022699, df = 1, p-value = 0.8802\n"
      ]
     },
     "metadata": {},
     "output_type": "display_data"
    }
   ],
   "source": [
    "Arima_1 <- auto.arima(best_components[,1],stepwise = F,approximation = F)\n",
    "Box.test(Arima_1$residuals)\n",
    "Arima_2 <- auto.arima(best_components[,2],stepwise = F,approximation = F)\n",
    "Box.test(Arima_2$residuals)"
   ]
  },
  {
   "cell_type": "markdown",
   "id": "0605c47b",
   "metadata": {},
   "source": [
    "Simulaciones al futuro"
   ]
  },
  {
   "cell_type": "code",
   "execution_count": 27,
   "id": "faae22f1",
   "metadata": {},
   "outputs": [],
   "source": [
    "future <- 52\n",
    "simulations <- 1000\n",
    "Sim_component_1 <- replicate(expr = simulate(object = Arima_1,nsim = future),n = simulations)\n",
    "Sim_component_2 <- replicate(expr = simulate(object = Arima_2,nsim = future),n = simulations)\n",
    "for (sim in 1:simulations){\n",
    "        nam <- paste(\"S\", sim, sep = \"_\")\n",
    "        assign(nam, cbind(Sim_component_1[,sim] , Sim_component_2[,sim]))\n",
    "}"
   ]
  },
  {
   "cell_type": "code",
   "execution_count": 39,
   "id": "29d38f90",
   "metadata": {},
   "outputs": [],
   "source": [
    "for (sim in 1:simulations){\n",
    "        nam <- paste(\"S\", sim, sep = \"_\")\n",
    "        assign(nam, cbind(Sim_component_1[,sim] , Sim_component_2[,sim]))\n",
    "}"
   ]
  }
 ],
 "metadata": {
  "kernelspec": {
   "display_name": "R",
   "language": "R",
   "name": "ir"
  },
  "language_info": {
   "codemirror_mode": "r",
   "file_extension": ".r",
   "mimetype": "text/x-r-source",
   "name": "R",
   "pygments_lexer": "r",
   "version": "3.6.1"
  }
 },
 "nbformat": 4,
 "nbformat_minor": 5
}
