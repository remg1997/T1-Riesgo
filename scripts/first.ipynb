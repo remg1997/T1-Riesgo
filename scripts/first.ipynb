{
 "cells": [
  {
   "cell_type": "code",
   "execution_count": 1,
   "id": "f0afcc4e-e98c-48ad-b51f-f6dc2b1c3226",
   "metadata": {},
   "outputs": [
    {
     "name": "stderr",
     "output_type": "stream",
     "text": [
      "Warning message:\n",
      "\"package 'readxl' was built under R version 3.6.3\""
     ]
    }
   ],
   "source": [
    "library(\"readxl\")"
   ]
  },
  {
   "cell_type": "code",
   "execution_count": 2,
   "id": "d18f324a-67d1-44be-aae4-6da1209ff9c8",
   "metadata": {},
   "outputs": [
    {
     "name": "stderr",
     "output_type": "stream",
     "text": [
      "Warning message:\n",
      "\"package 'lubridate' was built under R version 3.6.3\"\n",
      "Attaching package: 'lubridate'\n",
      "\n",
      "The following objects are masked from 'package:base':\n",
      "\n",
      "    date, intersect, setdiff, union\n",
      "\n",
      "Warning message:\n",
      "\"package 'tidyr' was built under R version 3.6.3\""
     ]
    }
   ],
   "source": [
    "library(\"lubridate\")\n",
    "library('tidyr')\n",
    "library('ggplot2')"
   ]
  },
  {
   "cell_type": "code",
   "execution_count": 3,
   "id": "fd9a067d-bee2-44b6-97f5-5b0a841eacab",
   "metadata": {},
   "outputs": [
    {
     "data": {
      "text/html": [
       "<style>\n",
       ".list-inline {list-style: none; margin:0; padding: 0}\n",
       ".list-inline>li {display: inline-block}\n",
       ".list-inline>li:not(:last-child)::after {content: \"\\00b7\"; padding: 0 .5ex}\n",
       "</style>\n",
       "<ol class=list-inline><li>'.GlobalEnv'</li><li>'package:ggplot2'</li><li>'package:tidyr'</li><li>'package:lubridate'</li><li>'package:readxl'</li><li>'jupyter:irkernel'</li><li>'jupyter:irkernel'</li><li>'package:stats'</li><li>'package:graphics'</li><li>'package:grDevices'</li><li>'package:utils'</li><li>'package:datasets'</li><li>'package:methods'</li><li>'Autoloads'</li><li>'package:base'</li></ol>\n"
      ],
      "text/latex": [
       "\\begin{enumerate*}\n",
       "\\item '.GlobalEnv'\n",
       "\\item 'package:ggplot2'\n",
       "\\item 'package:tidyr'\n",
       "\\item 'package:lubridate'\n",
       "\\item 'package:readxl'\n",
       "\\item 'jupyter:irkernel'\n",
       "\\item 'jupyter:irkernel'\n",
       "\\item 'package:stats'\n",
       "\\item 'package:graphics'\n",
       "\\item 'package:grDevices'\n",
       "\\item 'package:utils'\n",
       "\\item 'package:datasets'\n",
       "\\item 'package:methods'\n",
       "\\item 'Autoloads'\n",
       "\\item 'package:base'\n",
       "\\end{enumerate*}\n"
      ],
      "text/markdown": [
       "1. '.GlobalEnv'\n",
       "2. 'package:ggplot2'\n",
       "3. 'package:tidyr'\n",
       "4. 'package:lubridate'\n",
       "5. 'package:readxl'\n",
       "6. 'jupyter:irkernel'\n",
       "7. 'jupyter:irkernel'\n",
       "8. 'package:stats'\n",
       "9. 'package:graphics'\n",
       "10. 'package:grDevices'\n",
       "11. 'package:utils'\n",
       "12. 'package:datasets'\n",
       "13. 'package:methods'\n",
       "14. 'Autoloads'\n",
       "15. 'package:base'\n",
       "\n",
       "\n"
      ],
      "text/plain": [
       " [1] \".GlobalEnv\"        \"package:ggplot2\"   \"package:tidyr\"    \n",
       " [4] \"package:lubridate\" \"package:readxl\"    \"jupyter:irkernel\" \n",
       " [7] \"jupyter:irkernel\"  \"package:stats\"     \"package:graphics\" \n",
       "[10] \"package:grDevices\" \"package:utils\"     \"package:datasets\" \n",
       "[13] \"package:methods\"   \"Autoloads\"         \"package:base\"     "
      ]
     },
     "metadata": {},
     "output_type": "display_data"
    }
   ],
   "source": [
    "search()"
   ]
  },
  {
   "cell_type": "code",
   "execution_count": 92,
   "id": "5ba0a704-f05a-4a5f-a80e-2af93790495f",
   "metadata": {},
   "outputs": [],
   "source": [
    "source(\"helpers.R\")"
   ]
  },
  {
   "cell_type": "code",
   "execution_count": 5,
   "id": "9f0daf38-b921-4bb5-8ae8-d7111b9c9888",
   "metadata": {},
   "outputs": [],
   "source": [
    "path <- \"../data/data.xlsx\""
   ]
  },
  {
   "cell_type": "code",
   "execution_count": 6,
   "id": "1273d7c3-de1a-4dd6-92b4-ac589352aecd",
   "metadata": {},
   "outputs": [],
   "source": [
    "df <- Dataframing(path)"
   ]
  },
  {
   "cell_type": "code",
   "execution_count": 7,
   "id": "4301fc67-fb5d-4370-9e65-45a7b97fb714",
   "metadata": {},
   "outputs": [],
   "source": [
    "df <- df[-c(210),]"
   ]
  },
  {
   "cell_type": "code",
   "execution_count": 8,
   "id": "fbe01fa1-e480-4471-b334-0c3f9b8d8bbe",
   "metadata": {},
   "outputs": [],
   "source": [
    "df$Date <- as.Date(df$Date)"
   ]
  },
  {
   "cell_type": "code",
   "execution_count": 9,
   "id": "4b94c154-5d47-4cc6-b0eb-6a950de33181",
   "metadata": {},
   "outputs": [],
   "source": [
    "firstYields <- df[df$Date == \"2022-02-11\",]"
   ]
  },
  {
   "cell_type": "code",
   "execution_count": 10,
   "id": "7086da3b-8eb5-4aef-bd27-988ebcf96117",
   "metadata": {},
   "outputs": [
    {
     "data": {
      "text/html": [
       "<table class=\"dataframe\">\n",
       "<caption>A data.frame: 1 × 9</caption>\n",
       "<thead>\n",
       "\t<tr><th></th><th scope=col>Date</th><th scope=col>10Y</th><th scope=col>7Y</th><th scope=col>5Y</th><th scope=col>3Y</th><th scope=col>2Y</th><th scope=col>1Y</th><th scope=col>6M</th><th scope=col>3M</th></tr>\n",
       "\t<tr><th></th><th scope=col>&lt;date&gt;</th><th scope=col>&lt;dbl&gt;</th><th scope=col>&lt;dbl&gt;</th><th scope=col>&lt;dbl&gt;</th><th scope=col>&lt;dbl&gt;</th><th scope=col>&lt;dbl&gt;</th><th scope=col>&lt;dbl&gt;</th><th scope=col>&lt;dbl&gt;</th><th scope=col>&lt;dbl&gt;</th></tr>\n",
       "</thead>\n",
       "<tbody>\n",
       "\t<tr><th scope=row>209</th><td>2022-02-11</td><td>1.941</td><td>1.94</td><td>1.856</td><td>1.728</td><td>1.505</td><td>1.029</td><td>0.692</td><td>0.359</td></tr>\n",
       "</tbody>\n",
       "</table>\n"
      ],
      "text/latex": [
       "A data.frame: 1 × 9\n",
       "\\begin{tabular}{r|lllllllll}\n",
       "  & Date & 10Y & 7Y & 5Y & 3Y & 2Y & 1Y & 6M & 3M\\\\\n",
       "  & <date> & <dbl> & <dbl> & <dbl> & <dbl> & <dbl> & <dbl> & <dbl> & <dbl>\\\\\n",
       "\\hline\n",
       "\t209 & 2022-02-11 & 1.941 & 1.94 & 1.856 & 1.728 & 1.505 & 1.029 & 0.692 & 0.359\\\\\n",
       "\\end{tabular}\n"
      ],
      "text/markdown": [
       "\n",
       "A data.frame: 1 × 9\n",
       "\n",
       "| <!--/--> | Date &lt;date&gt; | 10Y &lt;dbl&gt; | 7Y &lt;dbl&gt; | 5Y &lt;dbl&gt; | 3Y &lt;dbl&gt; | 2Y &lt;dbl&gt; | 1Y &lt;dbl&gt; | 6M &lt;dbl&gt; | 3M &lt;dbl&gt; |\n",
       "|---|---|---|---|---|---|---|---|---|---|\n",
       "| 209 | 2022-02-11 | 1.941 | 1.94 | 1.856 | 1.728 | 1.505 | 1.029 | 0.692 | 0.359 |\n",
       "\n"
      ],
      "text/plain": [
       "    Date       10Y   7Y   5Y    3Y    2Y    1Y    6M    3M   \n",
       "209 2022-02-11 1.941 1.94 1.856 1.728 1.505 1.029 0.692 0.359"
      ]
     },
     "metadata": {},
     "output_type": "display_data"
    }
   ],
   "source": [
    "firstYields"
   ]
  },
  {
   "cell_type": "markdown",
   "id": "9bb11ce8-5322-4e8d-94e3-24b70e8f874c",
   "metadata": {
    "tags": []
   },
   "source": [
    "#### Suponemos que: \n",
    "- $\\alpha_1$ representa la tasa forward entre 0 y 3 meses, \n",
    "- $\\alpha_2$ la tasa entre 3 meses y 1 año, \n",
    "- $\\alpha_3$ la tasa entre 1 y 3 años,\n",
    "- $\\alpha_4$ la tasa entre 3 y 5 años ,\n",
    "- $\\alpha_5$ la tasa entre 5 y 10 años. "
   ]
  },
  {
   "cell_type": "code",
   "execution_count": 11,
   "id": "2c2988b4-ca5a-4939-9c90-284a99ca4a24",
   "metadata": {},
   "outputs": [],
   "source": [
    "today <- firstYields$Date"
   ]
  },
  {
   "cell_type": "markdown",
   "id": "6332eca6-4725-4f2d-bc1f-b9a870a66bb4",
   "metadata": {
    "jp-MarkdownHeadingCollapsed": true,
    "tags": []
   },
   "source": [
    "#### Además, para traer a valor presente usando una curva forward, se sigue el factor de descuento a un plazo T es: "
   ]
  },
  {
   "cell_type": "markdown",
   "id": "9bae4002-2617-48f6-b0de-9ae6c48409ae",
   "metadata": {},
   "source": [
    "### $$ e^{-\\int_{0}^{T} f(t) \\,dt}$$"
   ]
  },
  {
   "cell_type": "markdown",
   "id": "28e8e0a4-27ee-497a-bdc5-754c4fd9956a",
   "metadata": {},
   "source": [
    "#### Definamos algunos objetos de utilidad. Cuántos cupones paga cada bono? Cómo ajustamos la tasa para cada pago?"
   ]
  },
  {
   "cell_type": "code",
   "execution_count": 12,
   "id": "6b2d359a-d534-45da-80f3-5b59d853b3eb",
   "metadata": {},
   "outputs": [],
   "source": [
    "alpha <- c(0.1,0.11,0.12,0.13,0.14)"
   ]
  },
  {
   "cell_type": "code",
   "execution_count": 13,
   "id": "81f5e08e-ea9d-4eb5-b77b-d3c0b97a53c1",
   "metadata": {},
   "outputs": [
    {
     "data": {
      "text/html": [
       "<style>\n",
       ".list-inline {list-style: none; margin:0; padding: 0}\n",
       ".list-inline>li {display: inline-block}\n",
       ".list-inline>li:not(:last-child)::after {content: \"\\00b7\"; padding: 0 .5ex}\n",
       "</style>\n",
       "<ol class=list-inline><li>0.1</li><li>0.11</li><li>0.12</li><li>0.13</li><li>0.14</li></ol>\n"
      ],
      "text/latex": [
       "\\begin{enumerate*}\n",
       "\\item 0.1\n",
       "\\item 0.11\n",
       "\\item 0.12\n",
       "\\item 0.13\n",
       "\\item 0.14\n",
       "\\end{enumerate*}\n"
      ],
      "text/markdown": [
       "1. 0.1\n",
       "2. 0.11\n",
       "3. 0.12\n",
       "4. 0.13\n",
       "5. 0.14\n",
       "\n",
       "\n"
      ],
      "text/plain": [
       "[1] 0.10 0.11 0.12 0.13 0.14"
      ]
     },
     "metadata": {},
     "output_type": "display_data"
    },
    {
     "data": {
      "image/png": "[encoded data removed]",
      "text/plain": [
       "Plot with title \"Alphas iniciales\""
      ]
     },
     "metadata": {},
     "output_type": "display_data"
    }
   ],
   "source": [
    "alpha\n",
    "xx <- c(1:120)\n",
    "aa <- alphacuts(alpha)\n",
    "plot(xx,aa, type= \"p\",\n",
    "            pch=22, \n",
    "            bg = \"navy\", \n",
    "            col = \"navy\", \n",
    "            main= \"Alphas iniciales\", \n",
    "            xlab = \"Meses\", \n",
    "            ylab = \"Alphas\")"
   ]
  },
  {
   "cell_type": "code",
   "execution_count": 14,
   "id": "59e4a6f7-faa9-4487-924f-d0ae2183bae8",
   "metadata": {},
   "outputs": [],
   "source": [
    "today = firstYields$Date"
   ]
  },
  {
   "cell_type": "code",
   "execution_count": 15,
   "id": "c70ad683-f043-40a1-8c79-c2b252a180c3",
   "metadata": {},
   "outputs": [
    {
     "data": {
      "text/html": [
       "100.019218183929"
      ],
      "text/latex": [
       "100.019218183929"
      ],
      "text/markdown": [
       "100.019218183929"
      ],
      "text/plain": [
       "[1] 100.0192"
      ]
     },
     "metadata": {},
     "output_type": "display_data"
    },
    {
     "data": {
      "text/html": [
       "0.0197046945709514"
      ],
      "text/latex": [
       "0.0197046945709514"
      ],
      "text/markdown": [
       "0.0197046945709514"
      ],
      "text/plain": [
       "[1] 0.01970469"
      ]
     },
     "metadata": {},
     "output_type": "display_data"
    },
    {
     "data": {
      "text/html": [
       "0.430324567535074"
      ],
      "text/latex": [
       "0.430324567535074"
      ],
      "text/markdown": [
       "0.430324567535074"
      ],
      "text/plain": [
       "[1] 0.4303246"
      ]
     },
     "metadata": {},
     "output_type": "display_data"
    }
   ],
   "source": [
    "threeMonthBond <- 100 + RateConverter(firstYields[[\"3M\"]],3,today)*DiscountFactor(alpha, 3)\n",
    "threeMonthBond\n",
    "RateConverter(firstYields[[\"3M\"]],3,today)\n",
    "\n",
    "RateConverter(firstYields[[\"1Y\"]],12,today)\n"
   ]
  },
  {
   "cell_type": "code",
   "execution_count": 16,
   "id": "49fcd4d8-e5f0-4a20-a6be-c88a6824e404",
   "metadata": {},
   "outputs": [],
   "source": [
    "sixMonthBond <- 100 + RateConverter(firstYields[[\"6M\"]], 6, today)*DiscountFactor(alpha, 6)"
   ]
  },
  {
   "cell_type": "code",
   "execution_count": 17,
   "id": "9be5d8b6-9a81-4afc-8886-3a0d41b3ec35",
   "metadata": {},
   "outputs": [
    {
     "data": {
      "text/html": [
       "100.143485723021"
      ],
      "text/latex": [
       "100.143485723021"
      ],
      "text/markdown": [
       "100.143485723021"
      ],
      "text/plain": [
       "[1] 100.1435"
      ]
     },
     "metadata": {},
     "output_type": "display_data"
    }
   ],
   "source": [
    "sixMonthBond"
   ]
  },
  {
   "cell_type": "code",
   "execution_count": 18,
   "id": "daf01f17-8f1a-4914-aaf2-f1e0a94d5b88",
   "metadata": {},
   "outputs": [],
   "source": [
    "oneYearBond <- 100 +  RateConverter(firstYields[[\"1Y\"]], 6, today) *DiscountFactor(alpha, 6) + RateConverter(firstYields[[\"1Y\"]], 12, today)*DiscountFactor(alpha, 12)"
   ]
  },
  {
   "cell_type": "code",
   "execution_count": 19,
   "id": "9c98ba37-727e-49ea-afa2-0bd47f372468",
   "metadata": {},
   "outputs": [
    {
     "data": {
      "text/html": [
       "100.588944045632"
      ],
      "text/latex": [
       "100.588944045632"
      ],
      "text/markdown": [
       "100.588944045632"
      ],
      "text/plain": [
       "[1] 100.5889"
      ]
     },
     "metadata": {},
     "output_type": "display_data"
    }
   ],
   "source": [
    "oneYearBond"
   ]
  },
  {
   "cell_type": "code",
   "execution_count": 20,
   "id": "96e3f441-d8d9-45b8-acb7-729870b91fdc",
   "metadata": {},
   "outputs": [],
   "source": [
    "maturity<- 36"
   ]
  },
  {
   "cell_type": "code",
   "execution_count": 21,
   "id": "8e363417-8362-44e5-93bd-73a14c0f09c2",
   "metadata": {},
   "outputs": [],
   "source": [
    "periods <- seq(6, maturity, 6)"
   ]
  },
  {
   "cell_type": "code",
   "execution_count": 22,
   "id": "af2e17af-7784-482b-b5c0-b86a49bb7b7e",
   "metadata": {},
   "outputs": [
    {
     "data": {
      "text/html": [
       "100.019218183929"
      ],
      "text/latex": [
       "100.019218183929"
      ],
      "text/markdown": [
       "100.019218183929"
      ],
      "text/plain": [
       "[1] 100.0192"
      ]
     },
     "metadata": {},
     "output_type": "display_data"
    }
   ],
   "source": [
    "threeMonthBond"
   ]
  },
  {
   "cell_type": "markdown",
   "metadata": {},
   "source": [
    "Recordemos que cada pago está dado por :  \n",
    "\n",
    "$$\\$100\\times R \\times \\frac{ACT}{360}$$"
   ]
  },
  {
   "cell_type": "code",
   "execution_count": 23,
   "id": "55ec8d82-c8eb-4cc3-b192-56ce7e3cd55a",
   "metadata": {},
   "outputs": [],
   "source": [
    "singleBondPayment <- function(maturity, yield, alpha, today){\n",
    "    return (RateConverter(yield, maturity,today)*DiscountFactor(alpha, maturity))\n",
    "}"
   ]
  },
  {
   "cell_type": "code",
   "execution_count": 24,
   "id": "50ca64bd-641b-49e6-9862-25920a4de86a",
   "metadata": {},
   "outputs": [
    {
     "data": {
      "text/html": [
       "1.96179863434273"
      ],
      "text/latex": [
       "1.96179863434273"
      ],
      "text/markdown": [
       "1.96179863434273"
      ],
      "text/plain": [
       "[1] 1.961799"
      ]
     },
     "metadata": {},
     "output_type": "display_data"
    },
    {
     "data": {
      "text/html": [
       "1.941"
      ],
      "text/latex": [
       "1.941"
      ],
      "text/markdown": [
       "1.941"
      ],
      "text/plain": [
       "[1] 1.941"
      ]
     },
     "metadata": {},
     "output_type": "display_data"
    }
   ],
   "source": [
    "singleBondPayment(120,firstYields[[\"10Y\"]], alpha, today)\n",
    "firstYields[[\"10Y\"]]"
   ]
  },
  {
   "cell_type": "code",
   "execution_count": 25,
   "id": "ce498c1e-5ec0-487f-9ec2-d9a32b077f61",
   "metadata": {},
   "outputs": [],
   "source": [
    "yieldList <- list(firstYields)"
   ]
  },
  {
   "cell_type": "code",
   "execution_count": 26,
   "id": "c504d27d-c7d9-459b-92bc-989981ea5db8",
   "metadata": {},
   "outputs": [],
   "source": [
    "nombres <- colnames(firstYields)"
   ]
  },
  {
   "cell_type": "code",
   "execution_count": 27,
   "id": "8d12a55e-80db-4d9b-9d63-6d4fee00e44f",
   "metadata": {},
   "outputs": [],
   "source": [
    "nombres <- nombres[-1]"
   ]
  },
  {
   "cell_type": "code",
   "execution_count": 28,
   "id": "d7231767-3339-4bc2-a79f-118be492db4f",
   "metadata": {},
   "outputs": [
    {
     "data": {
      "text/html": [
       "<style>\n",
       ".list-inline {list-style: none; margin:0; padding: 0}\n",
       ".list-inline>li {display: inline-block}\n",
       ".list-inline>li:not(:last-child)::after {content: \"\\00b7\"; padding: 0 .5ex}\n",
       "</style>\n",
       "<ol class=list-inline><li>'10Y'</li><li>'7Y'</li><li>'5Y'</li><li>'3Y'</li><li>'2Y'</li><li>'1Y'</li><li>'6M'</li><li>'3M'</li></ol>\n"
      ],
      "text/latex": [
       "\\begin{enumerate*}\n",
       "\\item '10Y'\n",
       "\\item '7Y'\n",
       "\\item '5Y'\n",
       "\\item '3Y'\n",
       "\\item '2Y'\n",
       "\\item '1Y'\n",
       "\\item '6M'\n",
       "\\item '3M'\n",
       "\\end{enumerate*}\n"
      ],
      "text/markdown": [
       "1. '10Y'\n",
       "2. '7Y'\n",
       "3. '5Y'\n",
       "4. '3Y'\n",
       "5. '2Y'\n",
       "6. '1Y'\n",
       "7. '6M'\n",
       "8. '3M'\n",
       "\n",
       "\n"
      ],
      "text/plain": [
       "[1] \"10Y\" \"7Y\"  \"5Y\"  \"3Y\"  \"2Y\"  \"1Y\"  \"6M\"  \"3M\" "
      ]
     },
     "metadata": {},
     "output_type": "display_data"
    }
   ],
   "source": [
    "nombres"
   ]
  },
  {
   "cell_type": "code",
   "execution_count": 29,
   "id": "cb1dbc36-9b49-4b39-8d74-b7ae078b89d2",
   "metadata": {},
   "outputs": [],
   "source": [
    "nombres <- as.list(nombres)"
   ]
  },
  {
   "cell_type": "code",
   "execution_count": 30,
   "id": "7ae67d55-2043-4beb-81c1-cd95a63c9ffe",
   "metadata": {},
   "outputs": [],
   "source": [
    "names(nombres) <- c(120,84,60,36,24,12,6,3) "
   ]
  },
  {
   "cell_type": "code",
   "execution_count": 31,
   "id": "f6812e41-02f5-43be-8f93-d2270415c6c8",
   "metadata": {},
   "outputs": [],
   "source": [
    "BondValue <- function (today, maturity, yieldlist,alpha ){\n",
    "    if (maturity == 3){\n",
    "        return (100*DiscountFactor(alpha, maturity) + singleBondPayment(3,yieldlist[[\"3M\"]], alpha, today))\n",
    "        }\n",
    "    setter <- as.character(maturity)\n",
    "    periods <- seq(6, maturity, 6)\n",
    "    bondSum <- sum(unlist(lapply(periods, function(x) singleBondPayment(x, yield = yieldlist[[nombres[[setter]]]],  alpha = alpha, today = today))))\n",
    "    return(bondSum +100*DiscountFactor(alpha, maturity))\n",
    "}\n",
    "\n"
   ]
  },
  {
   "cell_type": "code",
   "execution_count": 32,
   "id": "e115c3d4-be49-46e5-8e11-3f9ef159fb8c",
   "metadata": {},
   "outputs": [
    {
     "data": {
      "text/html": [
       "60.8266718934138"
      ],
      "text/latex": [
       "60.8266718934138"
      ],
      "text/markdown": [
       "60.8266718934138"
      ],
      "text/plain": [
       "[1] 60.82667"
      ]
     },
     "metadata": {},
     "output_type": "display_data"
    }
   ],
   "source": [
    "BondValue(today, 120, firstYields, alpha)"
   ]
  },
  {
   "cell_type": "code",
   "execution_count": 33,
   "id": "a02e0b57-dea3-4c91-9c7d-3af12d4cdacd",
   "metadata": {},
   "outputs": [],
   "source": [
    "maturities <- c(120,84,60,36,24,12,6,3) "
   ]
  },
  {
   "cell_type": "code",
   "execution_count": 96,
   "id": "c12697eb-70c7-41cb-a52c-b9e0c43eae60",
   "metadata": {},
   "outputs": [],
   "source": [
    "alpha <- c(0.00343, 0.0105, 0.0817, 0.1598, 0.2744)\n",
    "bondValues <- list()\n",
    "for (i in maturities){\n",
    "    bondValues <- append(bondValues, BondValue(today, i, firstYields, alpha))\n",
    "}"
   ]
  },
  {
   "cell_type": "code",
   "execution_count": 35,
   "id": "e09def6e-e88a-447e-ab5c-7a7417b38b47",
   "metadata": {},
   "outputs": [
    {
     "data": {
      "text/html": [
       "<ol>\n",
       "\t<li>47.0020242759478</li>\n",
       "\t<li>58.4527829374849</li>\n",
       "\t<li>75.9074277595729</li>\n",
       "\t<li>90.4339748220746</li>\n",
       "\t<li>94.1517307781383</li>\n",
       "\t<li>99.7697868467598</li>\n",
       "\t<li>99.8030499504912</li>\n",
       "\t<li>99.9339745598438</li>\n",
       "</ol>\n"
      ],
      "text/latex": [
       "\\begin{enumerate}\n",
       "\\item 47.0020242759478\n",
       "\\item 58.4527829374849\n",
       "\\item 75.9074277595729\n",
       "\\item 90.4339748220746\n",
       "\\item 94.1517307781383\n",
       "\\item 99.7697868467598\n",
       "\\item 99.8030499504912\n",
       "\\item 99.9339745598438\n",
       "\\end{enumerate}\n"
      ],
      "text/markdown": [
       "1. 47.0020242759478\n",
       "2. 58.4527829374849\n",
       "3. 75.9074277595729\n",
       "4. 90.4339748220746\n",
       "5. 94.1517307781383\n",
       "6. 99.7697868467598\n",
       "7. 99.8030499504912\n",
       "8. 99.9339745598438\n",
       "\n",
       "\n"
      ],
      "text/plain": [
       "[[1]]\n",
       "[1] 47.00202\n",
       "\n",
       "[[2]]\n",
       "[1] 58.45278\n",
       "\n",
       "[[3]]\n",
       "[1] 75.90743\n",
       "\n",
       "[[4]]\n",
       "[1] 90.43397\n",
       "\n",
       "[[5]]\n",
       "[1] 94.15173\n",
       "\n",
       "[[6]]\n",
       "[1] 99.76979\n",
       "\n",
       "[[7]]\n",
       "[1] 99.80305\n",
       "\n",
       "[[8]]\n",
       "[1] 99.93397\n"
      ]
     },
     "metadata": {},
     "output_type": "display_data"
    }
   ],
   "source": [
    "bondValues"
   ]
  },
  {
   "cell_type": "code",
   "execution_count": 97,
   "id": "58a47576-09dd-44a6-9d58-47053a7f21fe",
   "metadata": {},
   "outputs": [
    {
     "data": {
      "text/html": [
       "5241.21595101992"
      ],
      "text/latex": [
       "5241.21595101992"
      ],
      "text/markdown": [
       "5241.21595101992"
      ],
      "text/plain": [
       "[1] 5241.216"
      ]
     },
     "metadata": {},
     "output_type": "display_data"
    }
   ],
   "source": [
    "error <-function(alpha){\n",
    "    maturities <- c(3,6,12,24,36,60,84,120) \n",
    "    bondValues <- list()\n",
    "    for (i in maturities){\n",
    "        bondValues <- append(bondValues, BondValue(today, i, firstYields, alpha))\n",
    "    }\n",
    "    error <- sum((unlist(bondValues)-100)**2)\n",
    "    return (error)\n",
    "}\n",
    "\n",
    "error(alpha)"
   ]
  },
  {
   "cell_type": "code",
   "execution_count": 98,
   "id": "a40166af-e090-43ee-bc10-27c225afcea5",
   "metadata": {},
   "outputs": [],
   "source": [
    "opt <- optim(alpha, error, lower = 0, upper= 1, method = \"L-BFGS-B\")"
   ]
  },
  {
   "cell_type": "code",
   "execution_count": 99,
   "id": "329fea40",
   "metadata": {},
   "outputs": [
    {
     "data": {
      "text/html": [
       "<style>\n",
       ".list-inline {list-style: none; margin:0; padding: 0}\n",
       ".list-inline>li {display: inline-block}\n",
       ".list-inline>li:not(:last-child)::after {content: \"\\00b7\"; padding: 0 .5ex}\n",
       "</style>\n",
       "<ol class=list-inline><li>0.00094758212473742</li><li>0.00474081656472024</li><li>0.0310742014344086</li><li>0.0572666850897677</li><li>0.108575498368936</li></ol>\n"
      ],
      "text/latex": [
       "\\begin{enumerate*}\n",
       "\\item 0.00094758212473742\n",
       "\\item 0.00474081656472024\n",
       "\\item 0.0310742014344086\n",
       "\\item 0.0572666850897677\n",
       "\\item 0.108575498368936\n",
       "\\end{enumerate*}\n"
      ],
      "text/markdown": [
       "1. 0.00094758212473742\n",
       "2. 0.00474081656472024\n",
       "3. 0.0310742014344086\n",
       "4. 0.0572666850897677\n",
       "5. 0.108575498368936\n",
       "\n",
       "\n"
      ],
      "text/plain": [
       "[1] 0.0009475821 0.0047408166 0.0310742014 0.0572666851 0.1085754984"
      ]
     },
     "metadata": {},
     "output_type": "display_data"
    },
    {
     "data": {
      "image/png": "[encoded data removed]",
      "text/plain": [
       "Plot with title \"Alphas óptimos\""
      ]
     },
     "metadata": {},
     "output_type": "display_data"
    }
   ],
   "source": [
    "alpha <- opt$par\n",
    "alpha\n",
    "xx <- c(1:120)\n",
    "aa <- alphacuts(alpha)\n",
    "plot(xx,aa, type= \"p\",\n",
    "            pch=22, \n",
    "            bg = \"maroon\", \n",
    "            col = \"maroon\", \n",
    "            main= \"Alphas óptimos\", \n",
    "            xlab = \"Meses\", \n",
    "            ylab = \"Alphas\")"
   ]
  },
  {
   "cell_type": "markdown",
   "id": "c52edb93",
   "metadata": {},
   "source": [
    "Valoración de bono de 7 años"
   ]
  },
  {
   "cell_type": "code",
   "execution_count": 100,
   "id": "5c82c495",
   "metadata": {},
   "outputs": [
    {
     "data": {
      "text/html": [
       "33.0260732705276"
      ],
      "text/latex": [
       "33.0260732705276"
      ],
      "text/markdown": [
       "33.0260732705276"
      ],
      "text/plain": [
       "[1] 33.02607"
      ]
     },
     "metadata": {},
     "output_type": "display_data"
    },
    {
     "data": {
      "text/html": [
       "<dl>\n",
       "\t<dt>$par</dt>\n",
       "\t\t<dd>9.99999970046681</dd>\n",
       "\t<dt>$value</dt>\n",
       "\t\t<dd>500</dd>\n",
       "\t<dt>$counts</dt>\n",
       "\t\t<dd><style>\n",
       ".dl-inline {width: auto; margin:0; padding: 0}\n",
       ".dl-inline>dt, .dl-inline>dd {float: none; width: auto; display: inline-block}\n",
       ".dl-inline>dt::after {content: \":\\0020\"; padding-right: .5ex}\n",
       ".dl-inline>dt:not(:first-of-type) {padding-left: .5ex}\n",
       "</style><dl class=dl-inline><dt>function</dt><dd>&lt;NA&gt;</dd><dt>gradient</dt><dd>&lt;NA&gt;</dd></dl>\n",
       "</dd>\n",
       "\t<dt>$convergence</dt>\n",
       "\t\t<dd>0</dd>\n",
       "\t<dt>$message</dt>\n",
       "\t\t<dd>NULL</dd>\n",
       "</dl>\n"
      ],
      "text/latex": [
       "\\begin{description}\n",
       "\\item[\\$par] 9.99999970046681\n",
       "\\item[\\$value] 500\n",
       "\\item[\\$counts] \\begin{description*}\n",
       "\\item[function] <NA>\n",
       "\\item[gradient] <NA>\n",
       "\\end{description*}\n",
       "\n",
       "\\item[\\$convergence] 0\n",
       "\\item[\\$message] NULL\n",
       "\\end{description}\n"
      ],
      "text/markdown": [
       "$par\n",
       ":   9.99999970046681\n",
       "$value\n",
       ":   500\n",
       "$counts\n",
       ":   function\n",
       ":   &lt;NA&gt;gradient\n",
       ":   &lt;NA&gt;\n",
       "\n",
       "\n",
       "$convergence\n",
       ":   0\n",
       "$message\n",
       ":   NULL\n",
       "\n",
       "\n"
      ],
      "text/plain": [
       "$par\n",
       "[1] 10\n",
       "\n",
       "$value\n",
       "[1] 500\n",
       "\n",
       "$counts\n",
       "function gradient \n",
       "      NA       NA \n",
       "\n",
       "$convergence\n",
       "[1] 0\n",
       "\n",
       "$message\n",
       "NULL\n"
      ]
     },
     "metadata": {},
     "output_type": "display_data"
    }
   ],
   "source": [
    "alpha <- opt$par\n",
    "pvnotional <- 100 - DiscountFactor(alpha[4], 84)*100\n",
    "pvnotional\n",
    "couponsum <- function (c){\n",
    "    pvcoupon <- DiscountFactor(alpha[2], 12)*RateConverter(c, 12,today) + DiscountFactor(alpha[2], 24)*RateConverter(c,24,today) +\n",
    "        DiscountFactor(alpha[3], 36)*RateConverter(c, 36,today) +DiscountFactor(alpha[3], 48)*RateConverter(c, 48,today) +\n",
    "        DiscountFactor(alpha[4], 60)*RateConverter(c, 60,today) + DiscountFactor(alpha[4], 72)*RateConverter(c, 72,today) +  \n",
    "        DiscountFactor(alpha[4], 84)*RateConverter(c, 84,today) + DiscountFactor(alpha[4], 84)*RateConverter(c, 84,today)\n",
    "        result <-pvnotional- pvcoupon\n",
    "    if (result <0){\n",
    "        return (500)\n",
    "    }\n",
    "    else {\n",
    "        return (pvnotional- pvcoupon)\n",
    "    }\n",
    "    \n",
    "}\n",
    "\n",
    "opti <- optim(c,couponsum,lower = 0, upper=10,  method = \"Brent\")\n",
    "opti\n"
   ]
  },
  {
   "cell_type": "markdown",
   "id": "a0ac085d",
   "metadata": {},
   "source": [
    "Matriz de curvas 1 año en el pasado"
   ]
  },
  {
   "cell_type": "code",
   "execution_count": 40,
   "id": "f154bbc5",
   "metadata": {},
   "outputs": [],
   "source": [
    "\n",
    "matAlphas <- list()\n",
    "df <- df[(nrow(df)-52):nrow(df),]\n",
    "for ( r in 1:nrow(df)){ \n",
    "    firstYields <- df[r,]\n",
    "    today <- firstYields$Date\n",
    "    alpha <- opt$par\n",
    "    opt <- optim(alpha, error, lower = 0, upper= 1, method = \"L-BFGS-B\")\n",
    "    matAlphas <- append(matAlphas, list(opt$par))\n",
    "}"
   ]
  },
  {
   "cell_type": "code",
   "execution_count": 41,
   "id": "6c7c98be",
   "metadata": {},
   "outputs": [
    {
     "data": {
      "text/html": [
       "<table class=\"dataframe\">\n",
       "<caption>A matrix: 53 × 5 of type dbl</caption>\n",
       "<tbody>\n",
       "\t<tr><td>0.0000000000</td><td>0.000000e+00</td><td>0.004479686</td><td>0.01840584</td><td>0.09237962</td></tr>\n",
       "\t<tr><td>0.0000000000</td><td>0.000000e+00</td><td>0.004706973</td><td>0.02325406</td><td>0.09939886</td></tr>\n",
       "\t<tr><td>0.0000000000</td><td>0.000000e+00</td><td>0.006106605</td><td>0.03171539</td><td>0.10005125</td></tr>\n",
       "\t<tr><td>0.0000000000</td><td>0.000000e+00</td><td>0.006740558</td><td>0.03408666</td><td>0.10965079</td></tr>\n",
       "\t<tr><td>0.0000000000</td><td>0.000000e+00</td><td>0.007353796</td><td>0.03552450</td><td>0.11252459</td></tr>\n",
       "\t<tr><td>0.0000000000</td><td>0.000000e+00</td><td>0.007191029</td><td>0.03778698</td><td>0.11806777</td></tr>\n",
       "\t<tr><td>0.0000000000</td><td>0.000000e+00</td><td>0.006776310</td><td>0.03766010</td><td>0.11542087</td></tr>\n",
       "\t<tr><td>0.0000000000</td><td>0.000000e+00</td><td>0.008363223</td><td>0.04205166</td><td>0.11554998</td></tr>\n",
       "\t<tr><td>0.0000000000</td><td>0.000000e+00</td><td>0.007303816</td><td>0.03692244</td><td>0.11421266</td></tr>\n",
       "\t<tr><td>0.0000000000</td><td>0.000000e+00</td><td>0.007467144</td><td>0.03518958</td><td>0.10970437</td></tr>\n",
       "\t<tr><td>0.0000000000</td><td>0.000000e+00</td><td>0.007301729</td><td>0.03480937</td><td>0.10857967</td></tr>\n",
       "\t<tr><td>0.0000000000</td><td>0.000000e+00</td><td>0.007256204</td><td>0.03656099</td><td>0.11244526</td></tr>\n",
       "\t<tr><td>0.0000000000</td><td>0.000000e+00</td><td>0.006447998</td><td>0.03322999</td><td>0.11105502</td></tr>\n",
       "\t<tr><td>0.0000000000</td><td>0.000000e+00</td><td>0.007123050</td><td>0.03435132</td><td>0.11351463</td></tr>\n",
       "\t<tr><td>0.0000000000</td><td>0.000000e+00</td><td>0.007173572</td><td>0.03481338</td><td>0.11275451</td></tr>\n",
       "\t<tr><td>0.0000000000</td><td>0.000000e+00</td><td>0.006583438</td><td>0.03453316</td><td>0.11155940</td></tr>\n",
       "\t<tr><td>0.0000000000</td><td>0.000000e+00</td><td>0.006659571</td><td>0.03335038</td><td>0.10922647</td></tr>\n",
       "\t<tr><td>0.0000000000</td><td>0.000000e+00</td><td>0.006797552</td><td>0.03117190</td><td>0.10314742</td></tr>\n",
       "\t<tr><td>0.0000000000</td><td>0.000000e+00</td><td>0.010203212</td><td>0.03548703</td><td>0.09862162</td></tr>\n",
       "\t<tr><td>0.0000000000</td><td>0.000000e+00</td><td>0.010340269</td><td>0.03763866</td><td>0.10335050</td></tr>\n",
       "\t<tr><td>0.0000000000</td><td>0.000000e+00</td><td>0.009574979</td><td>0.03512907</td><td>0.09813249</td></tr>\n",
       "\t<tr><td>0.0000000000</td><td>0.000000e+00</td><td>0.008682060</td><td>0.03213751</td><td>0.09539388</td></tr>\n",
       "\t<tr><td>0.0000000000</td><td>0.000000e+00</td><td>0.009351022</td><td>0.03092756</td><td>0.09071019</td></tr>\n",
       "\t<tr><td>0.0000000000</td><td>0.000000e+00</td><td>0.008250087</td><td>0.02858707</td><td>0.09132602</td></tr>\n",
       "\t<tr><td>0.0000000000</td><td>0.000000e+00</td><td>0.007554658</td><td>0.02862317</td><td>0.08794253</td></tr>\n",
       "\t<tr><td>0.0000000000</td><td>0.000000e+00</td><td>0.008932284</td><td>0.03118378</td><td>0.09139342</td></tr>\n",
       "\t<tr><td>0.0000000000</td><td>0.000000e+00</td><td>0.009321860</td><td>0.03111935</td><td>0.08971414</td></tr>\n",
       "\t<tr><td>0.0000000000</td><td>0.000000e+00</td><td>0.009650822</td><td>0.03138710</td><td>0.08787765</td></tr>\n",
       "\t<tr><td>0.0000000000</td><td>0.000000e+00</td><td>0.009196249</td><td>0.03281912</td><td>0.09125365</td></tr>\n",
       "\t<tr><td>0.0000000000</td><td>0.000000e+00</td><td>0.008879862</td><td>0.03189577</td><td>0.09272727</td></tr>\n",
       "\t<tr><td>0.0000000000</td><td>0.000000e+00</td><td>0.009568788</td><td>0.03301364</td><td>0.09329970</td></tr>\n",
       "\t<tr><td>0.0000000000</td><td>0.000000e+00</td><td>0.010071337</td><td>0.03518929</td><td>0.09355582</td></tr>\n",
       "\t<tr><td>0.0000000000</td><td>0.000000e+00</td><td>0.011489836</td><td>0.03811676</td><td>0.09761711</td></tr>\n",
       "\t<tr><td>0.0000000000</td><td>0.000000e+00</td><td>0.010522783</td><td>0.03820236</td><td>0.09875691</td></tr>\n",
       "\t<tr><td>0.0000000000</td><td>0.000000e+00</td><td>0.012388611</td><td>0.04255389</td><td>0.10592276</td></tr>\n",
       "\t<tr><td>0.0000000000</td><td>0.000000e+00</td><td>0.014611773</td><td>0.04390943</td><td>0.10142021</td></tr>\n",
       "\t<tr><td>0.0000000000</td><td>0.000000e+00</td><td>0.016081852</td><td>0.04557589</td><td>0.10390843</td></tr>\n",
       "\t<tr><td>0.0000000000</td><td>0.000000e+00</td><td>0.016016566</td><td>0.04622335</td><td>0.09877027</td></tr>\n",
       "\t<tr><td>0.0000000000</td><td>0.000000e+00</td><td>0.014051536</td><td>0.04146708</td><td>0.09495526</td></tr>\n",
       "\t<tr><td>0.0000000000</td><td>0.000000e+00</td><td>0.017482534</td><td>0.04596218</td><td>0.09846904</td></tr>\n",
       "\t<tr><td>0.0000000000</td><td>0.000000e+00</td><td>0.017726655</td><td>0.04591870</td><td>0.09743595</td></tr>\n",
       "\t<tr><td>0.0000000000</td><td>0.000000e+00</td><td>0.016807297</td><td>0.04433234</td><td>0.09389884</td></tr>\n",
       "\t<tr><td>0.0000000000</td><td>0.000000e+00</td><td>0.017923807</td><td>0.04221549</td><td>0.08540248</td></tr>\n",
       "\t<tr><td>0.0000000000</td><td>0.000000e+00</td><td>0.020254734</td><td>0.04474422</td><td>0.09238385</td></tr>\n",
       "\t<tr><td>0.0000000000</td><td>0.000000e+00</td><td>0.019168961</td><td>0.04231862</td><td>0.08858122</td></tr>\n",
       "\t<tr><td>0.0000000000</td><td>0.000000e+00</td><td>0.020134455</td><td>0.04418300</td><td>0.09322977</td></tr>\n",
       "\t<tr><td>0.0014103539</td><td>0.000000e+00</td><td>0.019877381</td><td>0.04529377</td><td>0.09394227</td></tr>\n",
       "\t<tr><td>0.0013079708</td><td>0.000000e+00</td><td>0.023258248</td><td>0.05228165</td><td>0.10525518</td></tr>\n",
       "\t<tr><td>0.0020341323</td><td>0.000000e+00</td><td>0.025146492</td><td>0.05280762</td><td>0.10539071</td></tr>\n",
       "\t<tr><td>0.0021523847</td><td>2.769834e-05</td><td>0.025523530</td><td>0.05241476</td><td>0.10366830</td></tr>\n",
       "\t<tr><td>0.0002182421</td><td>3.334262e-03</td><td>0.026046729</td><td>0.05313162</td><td>0.10317725</td></tr>\n",
       "\t<tr><td>0.0007711319</td><td>3.828633e-03</td><td>0.028416462</td><td>0.05681383</td><td>0.10858469</td></tr>\n",
       "\t<tr><td>0.0009797059</td><td>4.741322e-03</td><td>0.031068589</td><td>0.05726700</td><td>0.10857771</td></tr>\n",
       "</tbody>\n",
       "</table>\n"
      ],
      "text/latex": [
       "A matrix: 53 × 5 of type dbl\n",
       "\\begin{tabular}{lllll}\n",
       "\t 0.0000000000 & 0.000000e+00 & 0.004479686 & 0.01840584 & 0.09237962\\\\\n",
       "\t 0.0000000000 & 0.000000e+00 & 0.004706973 & 0.02325406 & 0.09939886\\\\\n",
       "\t 0.0000000000 & 0.000000e+00 & 0.006106605 & 0.03171539 & 0.10005125\\\\\n",
       "\t 0.0000000000 & 0.000000e+00 & 0.006740558 & 0.03408666 & 0.10965079\\\\\n",
       "\t 0.0000000000 & 0.000000e+00 & 0.007353796 & 0.03552450 & 0.11252459\\\\\n",
       "\t 0.0000000000 & 0.000000e+00 & 0.007191029 & 0.03778698 & 0.11806777\\\\\n",
       "\t 0.0000000000 & 0.000000e+00 & 0.006776310 & 0.03766010 & 0.11542087\\\\\n",
       "\t 0.0000000000 & 0.000000e+00 & 0.008363223 & 0.04205166 & 0.11554998\\\\\n",
       "\t 0.0000000000 & 0.000000e+00 & 0.007303816 & 0.03692244 & 0.11421266\\\\\n",
       "\t 0.0000000000 & 0.000000e+00 & 0.007467144 & 0.03518958 & 0.10970437\\\\\n",
       "\t 0.0000000000 & 0.000000e+00 & 0.007301729 & 0.03480937 & 0.10857967\\\\\n",
       "\t 0.0000000000 & 0.000000e+00 & 0.007256204 & 0.03656099 & 0.11244526\\\\\n",
       "\t 0.0000000000 & 0.000000e+00 & 0.006447998 & 0.03322999 & 0.11105502\\\\\n",
       "\t 0.0000000000 & 0.000000e+00 & 0.007123050 & 0.03435132 & 0.11351463\\\\\n",
       "\t 0.0000000000 & 0.000000e+00 & 0.007173572 & 0.03481338 & 0.11275451\\\\\n",
       "\t 0.0000000000 & 0.000000e+00 & 0.006583438 & 0.03453316 & 0.11155940\\\\\n",
       "\t 0.0000000000 & 0.000000e+00 & 0.006659571 & 0.03335038 & 0.10922647\\\\\n",
       "\t 0.0000000000 & 0.000000e+00 & 0.006797552 & 0.03117190 & 0.10314742\\\\\n",
       "\t 0.0000000000 & 0.000000e+00 & 0.010203212 & 0.03548703 & 0.09862162\\\\\n",
       "\t 0.0000000000 & 0.000000e+00 & 0.010340269 & 0.03763866 & 0.10335050\\\\\n",
       "\t 0.0000000000 & 0.000000e+00 & 0.009574979 & 0.03512907 & 0.09813249\\\\\n",
       "\t 0.0000000000 & 0.000000e+00 & 0.008682060 & 0.03213751 & 0.09539388\\\\\n",
       "\t 0.0000000000 & 0.000000e+00 & 0.009351022 & 0.03092756 & 0.09071019\\\\\n",
       "\t 0.0000000000 & 0.000000e+00 & 0.008250087 & 0.02858707 & 0.09132602\\\\\n",
       "\t 0.0000000000 & 0.000000e+00 & 0.007554658 & 0.02862317 & 0.08794253\\\\\n",
       "\t 0.0000000000 & 0.000000e+00 & 0.008932284 & 0.03118378 & 0.09139342\\\\\n",
       "\t 0.0000000000 & 0.000000e+00 & 0.009321860 & 0.03111935 & 0.08971414\\\\\n",
       "\t 0.0000000000 & 0.000000e+00 & 0.009650822 & 0.03138710 & 0.08787765\\\\\n",
       "\t 0.0000000000 & 0.000000e+00 & 0.009196249 & 0.03281912 & 0.09125365\\\\\n",
       "\t 0.0000000000 & 0.000000e+00 & 0.008879862 & 0.03189577 & 0.09272727\\\\\n",
       "\t 0.0000000000 & 0.000000e+00 & 0.009568788 & 0.03301364 & 0.09329970\\\\\n",
       "\t 0.0000000000 & 0.000000e+00 & 0.010071337 & 0.03518929 & 0.09355582\\\\\n",
       "\t 0.0000000000 & 0.000000e+00 & 0.011489836 & 0.03811676 & 0.09761711\\\\\n",
       "\t 0.0000000000 & 0.000000e+00 & 0.010522783 & 0.03820236 & 0.09875691\\\\\n",
       "\t 0.0000000000 & 0.000000e+00 & 0.012388611 & 0.04255389 & 0.10592276\\\\\n",
       "\t 0.0000000000 & 0.000000e+00 & 0.014611773 & 0.04390943 & 0.10142021\\\\\n",
       "\t 0.0000000000 & 0.000000e+00 & 0.016081852 & 0.04557589 & 0.10390843\\\\\n",
       "\t 0.0000000000 & 0.000000e+00 & 0.016016566 & 0.04622335 & 0.09877027\\\\\n",
       "\t 0.0000000000 & 0.000000e+00 & 0.014051536 & 0.04146708 & 0.09495526\\\\\n",
       "\t 0.0000000000 & 0.000000e+00 & 0.017482534 & 0.04596218 & 0.09846904\\\\\n",
       "\t 0.0000000000 & 0.000000e+00 & 0.017726655 & 0.04591870 & 0.09743595\\\\\n",
       "\t 0.0000000000 & 0.000000e+00 & 0.016807297 & 0.04433234 & 0.09389884\\\\\n",
       "\t 0.0000000000 & 0.000000e+00 & 0.017923807 & 0.04221549 & 0.08540248\\\\\n",
       "\t 0.0000000000 & 0.000000e+00 & 0.020254734 & 0.04474422 & 0.09238385\\\\\n",
       "\t 0.0000000000 & 0.000000e+00 & 0.019168961 & 0.04231862 & 0.08858122\\\\\n",
       "\t 0.0000000000 & 0.000000e+00 & 0.020134455 & 0.04418300 & 0.09322977\\\\\n",
       "\t 0.0014103539 & 0.000000e+00 & 0.019877381 & 0.04529377 & 0.09394227\\\\\n",
       "\t 0.0013079708 & 0.000000e+00 & 0.023258248 & 0.05228165 & 0.10525518\\\\\n",
       "\t 0.0020341323 & 0.000000e+00 & 0.025146492 & 0.05280762 & 0.10539071\\\\\n",
       "\t 0.0021523847 & 2.769834e-05 & 0.025523530 & 0.05241476 & 0.10366830\\\\\n",
       "\t 0.0002182421 & 3.334262e-03 & 0.026046729 & 0.05313162 & 0.10317725\\\\\n",
       "\t 0.0007711319 & 3.828633e-03 & 0.028416462 & 0.05681383 & 0.10858469\\\\\n",
       "\t 0.0009797059 & 4.741322e-03 & 0.031068589 & 0.05726700 & 0.10857771\\\\\n",
       "\\end{tabular}\n"
      ],
      "text/markdown": [
       "\n",
       "A matrix: 53 × 5 of type dbl\n",
       "\n",
       "| 0.0000000000 | 0.000000e+00 | 0.004479686 | 0.01840584 | 0.09237962 |\n",
       "| 0.0000000000 | 0.000000e+00 | 0.004706973 | 0.02325406 | 0.09939886 |\n",
       "| 0.0000000000 | 0.000000e+00 | 0.006106605 | 0.03171539 | 0.10005125 |\n",
       "| 0.0000000000 | 0.000000e+00 | 0.006740558 | 0.03408666 | 0.10965079 |\n",
       "| 0.0000000000 | 0.000000e+00 | 0.007353796 | 0.03552450 | 0.11252459 |\n",
       "| 0.0000000000 | 0.000000e+00 | 0.007191029 | 0.03778698 | 0.11806777 |\n",
       "| 0.0000000000 | 0.000000e+00 | 0.006776310 | 0.03766010 | 0.11542087 |\n",
       "| 0.0000000000 | 0.000000e+00 | 0.008363223 | 0.04205166 | 0.11554998 |\n",
       "| 0.0000000000 | 0.000000e+00 | 0.007303816 | 0.03692244 | 0.11421266 |\n",
       "| 0.0000000000 | 0.000000e+00 | 0.007467144 | 0.03518958 | 0.10970437 |\n",
       "| 0.0000000000 | 0.000000e+00 | 0.007301729 | 0.03480937 | 0.10857967 |\n",
       "| 0.0000000000 | 0.000000e+00 | 0.007256204 | 0.03656099 | 0.11244526 |\n",
       "| 0.0000000000 | 0.000000e+00 | 0.006447998 | 0.03322999 | 0.11105502 |\n",
       "| 0.0000000000 | 0.000000e+00 | 0.007123050 | 0.03435132 | 0.11351463 |\n",
       "| 0.0000000000 | 0.000000e+00 | 0.007173572 | 0.03481338 | 0.11275451 |\n",
       "| 0.0000000000 | 0.000000e+00 | 0.006583438 | 0.03453316 | 0.11155940 |\n",
       "| 0.0000000000 | 0.000000e+00 | 0.006659571 | 0.03335038 | 0.10922647 |\n",
       "| 0.0000000000 | 0.000000e+00 | 0.006797552 | 0.03117190 | 0.10314742 |\n",
       "| 0.0000000000 | 0.000000e+00 | 0.010203212 | 0.03548703 | 0.09862162 |\n",
       "| 0.0000000000 | 0.000000e+00 | 0.010340269 | 0.03763866 | 0.10335050 |\n",
       "| 0.0000000000 | 0.000000e+00 | 0.009574979 | 0.03512907 | 0.09813249 |\n",
       "| 0.0000000000 | 0.000000e+00 | 0.008682060 | 0.03213751 | 0.09539388 |\n",
       "| 0.0000000000 | 0.000000e+00 | 0.009351022 | 0.03092756 | 0.09071019 |\n",
       "| 0.0000000000 | 0.000000e+00 | 0.008250087 | 0.02858707 | 0.09132602 |\n",
       "| 0.0000000000 | 0.000000e+00 | 0.007554658 | 0.02862317 | 0.08794253 |\n",
       "| 0.0000000000 | 0.000000e+00 | 0.008932284 | 0.03118378 | 0.09139342 |\n",
       "| 0.0000000000 | 0.000000e+00 | 0.009321860 | 0.03111935 | 0.08971414 |\n",
       "| 0.0000000000 | 0.000000e+00 | 0.009650822 | 0.03138710 | 0.08787765 |\n",
       "| 0.0000000000 | 0.000000e+00 | 0.009196249 | 0.03281912 | 0.09125365 |\n",
       "| 0.0000000000 | 0.000000e+00 | 0.008879862 | 0.03189577 | 0.09272727 |\n",
       "| 0.0000000000 | 0.000000e+00 | 0.009568788 | 0.03301364 | 0.09329970 |\n",
       "| 0.0000000000 | 0.000000e+00 | 0.010071337 | 0.03518929 | 0.09355582 |\n",
       "| 0.0000000000 | 0.000000e+00 | 0.011489836 | 0.03811676 | 0.09761711 |\n",
       "| 0.0000000000 | 0.000000e+00 | 0.010522783 | 0.03820236 | 0.09875691 |\n",
       "| 0.0000000000 | 0.000000e+00 | 0.012388611 | 0.04255389 | 0.10592276 |\n",
       "| 0.0000000000 | 0.000000e+00 | 0.014611773 | 0.04390943 | 0.10142021 |\n",
       "| 0.0000000000 | 0.000000e+00 | 0.016081852 | 0.04557589 | 0.10390843 |\n",
       "| 0.0000000000 | 0.000000e+00 | 0.016016566 | 0.04622335 | 0.09877027 |\n",
       "| 0.0000000000 | 0.000000e+00 | 0.014051536 | 0.04146708 | 0.09495526 |\n",
       "| 0.0000000000 | 0.000000e+00 | 0.017482534 | 0.04596218 | 0.09846904 |\n",
       "| 0.0000000000 | 0.000000e+00 | 0.017726655 | 0.04591870 | 0.09743595 |\n",
       "| 0.0000000000 | 0.000000e+00 | 0.016807297 | 0.04433234 | 0.09389884 |\n",
       "| 0.0000000000 | 0.000000e+00 | 0.017923807 | 0.04221549 | 0.08540248 |\n",
       "| 0.0000000000 | 0.000000e+00 | 0.020254734 | 0.04474422 | 0.09238385 |\n",
       "| 0.0000000000 | 0.000000e+00 | 0.019168961 | 0.04231862 | 0.08858122 |\n",
       "| 0.0000000000 | 0.000000e+00 | 0.020134455 | 0.04418300 | 0.09322977 |\n",
       "| 0.0014103539 | 0.000000e+00 | 0.019877381 | 0.04529377 | 0.09394227 |\n",
       "| 0.0013079708 | 0.000000e+00 | 0.023258248 | 0.05228165 | 0.10525518 |\n",
       "| 0.0020341323 | 0.000000e+00 | 0.025146492 | 0.05280762 | 0.10539071 |\n",
       "| 0.0021523847 | 2.769834e-05 | 0.025523530 | 0.05241476 | 0.10366830 |\n",
       "| 0.0002182421 | 3.334262e-03 | 0.026046729 | 0.05313162 | 0.10317725 |\n",
       "| 0.0007711319 | 3.828633e-03 | 0.028416462 | 0.05681383 | 0.10858469 |\n",
       "| 0.0009797059 | 4.741322e-03 | 0.031068589 | 0.05726700 | 0.10857771 |\n",
       "\n"
      ],
      "text/plain": [
       "      [,1]         [,2]         [,3]        [,4]       [,5]      \n",
       " [1,] 0.0000000000 0.000000e+00 0.004479686 0.01840584 0.09237962\n",
       " [2,] 0.0000000000 0.000000e+00 0.004706973 0.02325406 0.09939886\n",
       " [3,] 0.0000000000 0.000000e+00 0.006106605 0.03171539 0.10005125\n",
       " [4,] 0.0000000000 0.000000e+00 0.006740558 0.03408666 0.10965079\n",
       " [5,] 0.0000000000 0.000000e+00 0.007353796 0.03552450 0.11252459\n",
       " [6,] 0.0000000000 0.000000e+00 0.007191029 0.03778698 0.11806777\n",
       " [7,] 0.0000000000 0.000000e+00 0.006776310 0.03766010 0.11542087\n",
       " [8,] 0.0000000000 0.000000e+00 0.008363223 0.04205166 0.11554998\n",
       " [9,] 0.0000000000 0.000000e+00 0.007303816 0.03692244 0.11421266\n",
       "[10,] 0.0000000000 0.000000e+00 0.007467144 0.03518958 0.10970437\n",
       "[11,] 0.0000000000 0.000000e+00 0.007301729 0.03480937 0.10857967\n",
       "[12,] 0.0000000000 0.000000e+00 0.007256204 0.03656099 0.11244526\n",
       "[13,] 0.0000000000 0.000000e+00 0.006447998 0.03322999 0.11105502\n",
       "[14,] 0.0000000000 0.000000e+00 0.007123050 0.03435132 0.11351463\n",
       "[15,] 0.0000000000 0.000000e+00 0.007173572 0.03481338 0.11275451\n",
       "[16,] 0.0000000000 0.000000e+00 0.006583438 0.03453316 0.11155940\n",
       "[17,] 0.0000000000 0.000000e+00 0.006659571 0.03335038 0.10922647\n",
       "[18,] 0.0000000000 0.000000e+00 0.006797552 0.03117190 0.10314742\n",
       "[19,] 0.0000000000 0.000000e+00 0.010203212 0.03548703 0.09862162\n",
       "[20,] 0.0000000000 0.000000e+00 0.010340269 0.03763866 0.10335050\n",
       "[21,] 0.0000000000 0.000000e+00 0.009574979 0.03512907 0.09813249\n",
       "[22,] 0.0000000000 0.000000e+00 0.008682060 0.03213751 0.09539388\n",
       "[23,] 0.0000000000 0.000000e+00 0.009351022 0.03092756 0.09071019\n",
       "[24,] 0.0000000000 0.000000e+00 0.008250087 0.02858707 0.09132602\n",
       "[25,] 0.0000000000 0.000000e+00 0.007554658 0.02862317 0.08794253\n",
       "[26,] 0.0000000000 0.000000e+00 0.008932284 0.03118378 0.09139342\n",
       "[27,] 0.0000000000 0.000000e+00 0.009321860 0.03111935 0.08971414\n",
       "[28,] 0.0000000000 0.000000e+00 0.009650822 0.03138710 0.08787765\n",
       "[29,] 0.0000000000 0.000000e+00 0.009196249 0.03281912 0.09125365\n",
       "[30,] 0.0000000000 0.000000e+00 0.008879862 0.03189577 0.09272727\n",
       "[31,] 0.0000000000 0.000000e+00 0.009568788 0.03301364 0.09329970\n",
       "[32,] 0.0000000000 0.000000e+00 0.010071337 0.03518929 0.09355582\n",
       "[33,] 0.0000000000 0.000000e+00 0.011489836 0.03811676 0.09761711\n",
       "[34,] 0.0000000000 0.000000e+00 0.010522783 0.03820236 0.09875691\n",
       "[35,] 0.0000000000 0.000000e+00 0.012388611 0.04255389 0.10592276\n",
       "[36,] 0.0000000000 0.000000e+00 0.014611773 0.04390943 0.10142021\n",
       "[37,] 0.0000000000 0.000000e+00 0.016081852 0.04557589 0.10390843\n",
       "[38,] 0.0000000000 0.000000e+00 0.016016566 0.04622335 0.09877027\n",
       "[39,] 0.0000000000 0.000000e+00 0.014051536 0.04146708 0.09495526\n",
       "[40,] 0.0000000000 0.000000e+00 0.017482534 0.04596218 0.09846904\n",
       "[41,] 0.0000000000 0.000000e+00 0.017726655 0.04591870 0.09743595\n",
       "[42,] 0.0000000000 0.000000e+00 0.016807297 0.04433234 0.09389884\n",
       "[43,] 0.0000000000 0.000000e+00 0.017923807 0.04221549 0.08540248\n",
       "[44,] 0.0000000000 0.000000e+00 0.020254734 0.04474422 0.09238385\n",
       "[45,] 0.0000000000 0.000000e+00 0.019168961 0.04231862 0.08858122\n",
       "[46,] 0.0000000000 0.000000e+00 0.020134455 0.04418300 0.09322977\n",
       "[47,] 0.0014103539 0.000000e+00 0.019877381 0.04529377 0.09394227\n",
       "[48,] 0.0013079708 0.000000e+00 0.023258248 0.05228165 0.10525518\n",
       "[49,] 0.0020341323 0.000000e+00 0.025146492 0.05280762 0.10539071\n",
       "[50,] 0.0021523847 2.769834e-05 0.025523530 0.05241476 0.10366830\n",
       "[51,] 0.0002182421 3.334262e-03 0.026046729 0.05313162 0.10317725\n",
       "[52,] 0.0007711319 3.828633e-03 0.028416462 0.05681383 0.10858469\n",
       "[53,] 0.0009797059 4.741322e-03 0.031068589 0.05726700 0.10857771"
      ]
     },
     "metadata": {},
     "output_type": "display_data"
    }
   ],
   "source": [
    "MatofAlphas <- matrix(unlist(matAlphas), ncol = 5, byrow = TRUE)\n",
    "MatofAlphas"
   ]
  },
  {
   "cell_type": "code",
   "execution_count": 42,
   "id": "75147ad5",
   "metadata": {},
   "outputs": [],
   "source": [
    "write.csv(MatofAlphas,\"../data/sim.csv\", row.names = FALSE)"
   ]
  },
  {
   "cell_type": "code",
   "execution_count": 43,
   "id": "89765d2f",
   "metadata": {},
   "outputs": [
    {
     "data": {
      "text/html": [
       "<table class=\"dataframe\">\n",
       "<caption>A data.frame: 53 × 5</caption>\n",
       "<thead>\n",
       "\t<tr><th scope=col>V1</th><th scope=col>V2</th><th scope=col>V3</th><th scope=col>V4</th><th scope=col>V5</th></tr>\n",
       "\t<tr><th scope=col>&lt;dbl&gt;</th><th scope=col>&lt;dbl&gt;</th><th scope=col>&lt;dbl&gt;</th><th scope=col>&lt;dbl&gt;</th><th scope=col>&lt;dbl&gt;</th></tr>\n",
       "</thead>\n",
       "<tbody>\n",
       "\t<tr><td>0.0000000000</td><td>0.000000e+00</td><td>0.004479686</td><td>0.01840584</td><td>0.09237962</td></tr>\n",
       "\t<tr><td>0.0000000000</td><td>0.000000e+00</td><td>0.004706973</td><td>0.02325406</td><td>0.09939886</td></tr>\n",
       "\t<tr><td>0.0000000000</td><td>0.000000e+00</td><td>0.006106605</td><td>0.03171539</td><td>0.10005125</td></tr>\n",
       "\t<tr><td>0.0000000000</td><td>0.000000e+00</td><td>0.006740558</td><td>0.03408666</td><td>0.10965079</td></tr>\n",
       "\t<tr><td>0.0000000000</td><td>0.000000e+00</td><td>0.007353796</td><td>0.03552450</td><td>0.11252459</td></tr>\n",
       "\t<tr><td>0.0000000000</td><td>0.000000e+00</td><td>0.007191029</td><td>0.03778698</td><td>0.11806777</td></tr>\n",
       "\t<tr><td>0.0000000000</td><td>0.000000e+00</td><td>0.006776310</td><td>0.03766010</td><td>0.11542087</td></tr>\n",
       "\t<tr><td>0.0000000000</td><td>0.000000e+00</td><td>0.008363223</td><td>0.04205166</td><td>0.11554998</td></tr>\n",
       "\t<tr><td>0.0000000000</td><td>0.000000e+00</td><td>0.007303816</td><td>0.03692244</td><td>0.11421266</td></tr>\n",
       "\t<tr><td>0.0000000000</td><td>0.000000e+00</td><td>0.007467144</td><td>0.03518958</td><td>0.10970437</td></tr>\n",
       "\t<tr><td>0.0000000000</td><td>0.000000e+00</td><td>0.007301729</td><td>0.03480937</td><td>0.10857967</td></tr>\n",
       "\t<tr><td>0.0000000000</td><td>0.000000e+00</td><td>0.007256204</td><td>0.03656099</td><td>0.11244526</td></tr>\n",
       "\t<tr><td>0.0000000000</td><td>0.000000e+00</td><td>0.006447998</td><td>0.03322999</td><td>0.11105502</td></tr>\n",
       "\t<tr><td>0.0000000000</td><td>0.000000e+00</td><td>0.007123050</td><td>0.03435132</td><td>0.11351463</td></tr>\n",
       "\t<tr><td>0.0000000000</td><td>0.000000e+00</td><td>0.007173572</td><td>0.03481338</td><td>0.11275451</td></tr>\n",
       "\t<tr><td>0.0000000000</td><td>0.000000e+00</td><td>0.006583438</td><td>0.03453316</td><td>0.11155940</td></tr>\n",
       "\t<tr><td>0.0000000000</td><td>0.000000e+00</td><td>0.006659571</td><td>0.03335038</td><td>0.10922647</td></tr>\n",
       "\t<tr><td>0.0000000000</td><td>0.000000e+00</td><td>0.006797552</td><td>0.03117190</td><td>0.10314742</td></tr>\n",
       "\t<tr><td>0.0000000000</td><td>0.000000e+00</td><td>0.010203212</td><td>0.03548703</td><td>0.09862162</td></tr>\n",
       "\t<tr><td>0.0000000000</td><td>0.000000e+00</td><td>0.010340269</td><td>0.03763866</td><td>0.10335050</td></tr>\n",
       "\t<tr><td>0.0000000000</td><td>0.000000e+00</td><td>0.009574979</td><td>0.03512907</td><td>0.09813249</td></tr>\n",
       "\t<tr><td>0.0000000000</td><td>0.000000e+00</td><td>0.008682060</td><td>0.03213751</td><td>0.09539388</td></tr>\n",
       "\t<tr><td>0.0000000000</td><td>0.000000e+00</td><td>0.009351022</td><td>0.03092756</td><td>0.09071019</td></tr>\n",
       "\t<tr><td>0.0000000000</td><td>0.000000e+00</td><td>0.008250087</td><td>0.02858707</td><td>0.09132602</td></tr>\n",
       "\t<tr><td>0.0000000000</td><td>0.000000e+00</td><td>0.007554658</td><td>0.02862317</td><td>0.08794253</td></tr>\n",
       "\t<tr><td>0.0000000000</td><td>0.000000e+00</td><td>0.008932284</td><td>0.03118378</td><td>0.09139342</td></tr>\n",
       "\t<tr><td>0.0000000000</td><td>0.000000e+00</td><td>0.009321860</td><td>0.03111935</td><td>0.08971414</td></tr>\n",
       "\t<tr><td>0.0000000000</td><td>0.000000e+00</td><td>0.009650822</td><td>0.03138710</td><td>0.08787765</td></tr>\n",
       "\t<tr><td>0.0000000000</td><td>0.000000e+00</td><td>0.009196249</td><td>0.03281912</td><td>0.09125365</td></tr>\n",
       "\t<tr><td>0.0000000000</td><td>0.000000e+00</td><td>0.008879862</td><td>0.03189577</td><td>0.09272727</td></tr>\n",
       "\t<tr><td>0.0000000000</td><td>0.000000e+00</td><td>0.009568788</td><td>0.03301364</td><td>0.09329970</td></tr>\n",
       "\t<tr><td>0.0000000000</td><td>0.000000e+00</td><td>0.010071337</td><td>0.03518929</td><td>0.09355582</td></tr>\n",
       "\t<tr><td>0.0000000000</td><td>0.000000e+00</td><td>0.011489836</td><td>0.03811676</td><td>0.09761711</td></tr>\n",
       "\t<tr><td>0.0000000000</td><td>0.000000e+00</td><td>0.010522783</td><td>0.03820236</td><td>0.09875691</td></tr>\n",
       "\t<tr><td>0.0000000000</td><td>0.000000e+00</td><td>0.012388611</td><td>0.04255389</td><td>0.10592276</td></tr>\n",
       "\t<tr><td>0.0000000000</td><td>0.000000e+00</td><td>0.014611773</td><td>0.04390943</td><td>0.10142021</td></tr>\n",
       "\t<tr><td>0.0000000000</td><td>0.000000e+00</td><td>0.016081852</td><td>0.04557589</td><td>0.10390843</td></tr>\n",
       "\t<tr><td>0.0000000000</td><td>0.000000e+00</td><td>0.016016566</td><td>0.04622335</td><td>0.09877027</td></tr>\n",
       "\t<tr><td>0.0000000000</td><td>0.000000e+00</td><td>0.014051536</td><td>0.04146708</td><td>0.09495526</td></tr>\n",
       "\t<tr><td>0.0000000000</td><td>0.000000e+00</td><td>0.017482534</td><td>0.04596218</td><td>0.09846904</td></tr>\n",
       "\t<tr><td>0.0000000000</td><td>0.000000e+00</td><td>0.017726655</td><td>0.04591870</td><td>0.09743595</td></tr>\n",
       "\t<tr><td>0.0000000000</td><td>0.000000e+00</td><td>0.016807297</td><td>0.04433234</td><td>0.09389884</td></tr>\n",
       "\t<tr><td>0.0000000000</td><td>0.000000e+00</td><td>0.017923807</td><td>0.04221549</td><td>0.08540248</td></tr>\n",
       "\t<tr><td>0.0000000000</td><td>0.000000e+00</td><td>0.020254734</td><td>0.04474422</td><td>0.09238385</td></tr>\n",
       "\t<tr><td>0.0000000000</td><td>0.000000e+00</td><td>0.019168961</td><td>0.04231862</td><td>0.08858122</td></tr>\n",
       "\t<tr><td>0.0000000000</td><td>0.000000e+00</td><td>0.020134455</td><td>0.04418300</td><td>0.09322977</td></tr>\n",
       "\t<tr><td>0.0014103539</td><td>0.000000e+00</td><td>0.019877381</td><td>0.04529377</td><td>0.09394227</td></tr>\n",
       "\t<tr><td>0.0013079708</td><td>0.000000e+00</td><td>0.023258248</td><td>0.05228165</td><td>0.10525518</td></tr>\n",
       "\t<tr><td>0.0020341323</td><td>0.000000e+00</td><td>0.025146492</td><td>0.05280762</td><td>0.10539071</td></tr>\n",
       "\t<tr><td>0.0021523847</td><td>2.769834e-05</td><td>0.025523530</td><td>0.05241476</td><td>0.10366830</td></tr>\n",
       "\t<tr><td>0.0002182421</td><td>3.334262e-03</td><td>0.026046729</td><td>0.05313162</td><td>0.10317725</td></tr>\n",
       "\t<tr><td>0.0007711319</td><td>3.828633e-03</td><td>0.028416462</td><td>0.05681383</td><td>0.10858469</td></tr>\n",
       "\t<tr><td>0.0009797059</td><td>4.741322e-03</td><td>0.031068589</td><td>0.05726700</td><td>0.10857771</td></tr>\n",
       "</tbody>\n",
       "</table>\n"
      ],
      "text/latex": [
       "A data.frame: 53 × 5\n",
       "\\begin{tabular}{lllll}\n",
       " V1 & V2 & V3 & V4 & V5\\\\\n",
       " <dbl> & <dbl> & <dbl> & <dbl> & <dbl>\\\\\n",
       "\\hline\n",
       "\t 0.0000000000 & 0.000000e+00 & 0.004479686 & 0.01840584 & 0.09237962\\\\\n",
       "\t 0.0000000000 & 0.000000e+00 & 0.004706973 & 0.02325406 & 0.09939886\\\\\n",
       "\t 0.0000000000 & 0.000000e+00 & 0.006106605 & 0.03171539 & 0.10005125\\\\\n",
       "\t 0.0000000000 & 0.000000e+00 & 0.006740558 & 0.03408666 & 0.10965079\\\\\n",
       "\t 0.0000000000 & 0.000000e+00 & 0.007353796 & 0.03552450 & 0.11252459\\\\\n",
       "\t 0.0000000000 & 0.000000e+00 & 0.007191029 & 0.03778698 & 0.11806777\\\\\n",
       "\t 0.0000000000 & 0.000000e+00 & 0.006776310 & 0.03766010 & 0.11542087\\\\\n",
       "\t 0.0000000000 & 0.000000e+00 & 0.008363223 & 0.04205166 & 0.11554998\\\\\n",
       "\t 0.0000000000 & 0.000000e+00 & 0.007303816 & 0.03692244 & 0.11421266\\\\\n",
       "\t 0.0000000000 & 0.000000e+00 & 0.007467144 & 0.03518958 & 0.10970437\\\\\n",
       "\t 0.0000000000 & 0.000000e+00 & 0.007301729 & 0.03480937 & 0.10857967\\\\\n",
       "\t 0.0000000000 & 0.000000e+00 & 0.007256204 & 0.03656099 & 0.11244526\\\\\n",
       "\t 0.0000000000 & 0.000000e+00 & 0.006447998 & 0.03322999 & 0.11105502\\\\\n",
       "\t 0.0000000000 & 0.000000e+00 & 0.007123050 & 0.03435132 & 0.11351463\\\\\n",
       "\t 0.0000000000 & 0.000000e+00 & 0.007173572 & 0.03481338 & 0.11275451\\\\\n",
       "\t 0.0000000000 & 0.000000e+00 & 0.006583438 & 0.03453316 & 0.11155940\\\\\n",
       "\t 0.0000000000 & 0.000000e+00 & 0.006659571 & 0.03335038 & 0.10922647\\\\\n",
       "\t 0.0000000000 & 0.000000e+00 & 0.006797552 & 0.03117190 & 0.10314742\\\\\n",
       "\t 0.0000000000 & 0.000000e+00 & 0.010203212 & 0.03548703 & 0.09862162\\\\\n",
       "\t 0.0000000000 & 0.000000e+00 & 0.010340269 & 0.03763866 & 0.10335050\\\\\n",
       "\t 0.0000000000 & 0.000000e+00 & 0.009574979 & 0.03512907 & 0.09813249\\\\\n",
       "\t 0.0000000000 & 0.000000e+00 & 0.008682060 & 0.03213751 & 0.09539388\\\\\n",
       "\t 0.0000000000 & 0.000000e+00 & 0.009351022 & 0.03092756 & 0.09071019\\\\\n",
       "\t 0.0000000000 & 0.000000e+00 & 0.008250087 & 0.02858707 & 0.09132602\\\\\n",
       "\t 0.0000000000 & 0.000000e+00 & 0.007554658 & 0.02862317 & 0.08794253\\\\\n",
       "\t 0.0000000000 & 0.000000e+00 & 0.008932284 & 0.03118378 & 0.09139342\\\\\n",
       "\t 0.0000000000 & 0.000000e+00 & 0.009321860 & 0.03111935 & 0.08971414\\\\\n",
       "\t 0.0000000000 & 0.000000e+00 & 0.009650822 & 0.03138710 & 0.08787765\\\\\n",
       "\t 0.0000000000 & 0.000000e+00 & 0.009196249 & 0.03281912 & 0.09125365\\\\\n",
       "\t 0.0000000000 & 0.000000e+00 & 0.008879862 & 0.03189577 & 0.09272727\\\\\n",
       "\t 0.0000000000 & 0.000000e+00 & 0.009568788 & 0.03301364 & 0.09329970\\\\\n",
       "\t 0.0000000000 & 0.000000e+00 & 0.010071337 & 0.03518929 & 0.09355582\\\\\n",
       "\t 0.0000000000 & 0.000000e+00 & 0.011489836 & 0.03811676 & 0.09761711\\\\\n",
       "\t 0.0000000000 & 0.000000e+00 & 0.010522783 & 0.03820236 & 0.09875691\\\\\n",
       "\t 0.0000000000 & 0.000000e+00 & 0.012388611 & 0.04255389 & 0.10592276\\\\\n",
       "\t 0.0000000000 & 0.000000e+00 & 0.014611773 & 0.04390943 & 0.10142021\\\\\n",
       "\t 0.0000000000 & 0.000000e+00 & 0.016081852 & 0.04557589 & 0.10390843\\\\\n",
       "\t 0.0000000000 & 0.000000e+00 & 0.016016566 & 0.04622335 & 0.09877027\\\\\n",
       "\t 0.0000000000 & 0.000000e+00 & 0.014051536 & 0.04146708 & 0.09495526\\\\\n",
       "\t 0.0000000000 & 0.000000e+00 & 0.017482534 & 0.04596218 & 0.09846904\\\\\n",
       "\t 0.0000000000 & 0.000000e+00 & 0.017726655 & 0.04591870 & 0.09743595\\\\\n",
       "\t 0.0000000000 & 0.000000e+00 & 0.016807297 & 0.04433234 & 0.09389884\\\\\n",
       "\t 0.0000000000 & 0.000000e+00 & 0.017923807 & 0.04221549 & 0.08540248\\\\\n",
       "\t 0.0000000000 & 0.000000e+00 & 0.020254734 & 0.04474422 & 0.09238385\\\\\n",
       "\t 0.0000000000 & 0.000000e+00 & 0.019168961 & 0.04231862 & 0.08858122\\\\\n",
       "\t 0.0000000000 & 0.000000e+00 & 0.020134455 & 0.04418300 & 0.09322977\\\\\n",
       "\t 0.0014103539 & 0.000000e+00 & 0.019877381 & 0.04529377 & 0.09394227\\\\\n",
       "\t 0.0013079708 & 0.000000e+00 & 0.023258248 & 0.05228165 & 0.10525518\\\\\n",
       "\t 0.0020341323 & 0.000000e+00 & 0.025146492 & 0.05280762 & 0.10539071\\\\\n",
       "\t 0.0021523847 & 2.769834e-05 & 0.025523530 & 0.05241476 & 0.10366830\\\\\n",
       "\t 0.0002182421 & 3.334262e-03 & 0.026046729 & 0.05313162 & 0.10317725\\\\\n",
       "\t 0.0007711319 & 3.828633e-03 & 0.028416462 & 0.05681383 & 0.10858469\\\\\n",
       "\t 0.0009797059 & 4.741322e-03 & 0.031068589 & 0.05726700 & 0.10857771\\\\\n",
       "\\end{tabular}\n"
      ],
      "text/markdown": [
       "\n",
       "A data.frame: 53 × 5\n",
       "\n",
       "| V1 &lt;dbl&gt; | V2 &lt;dbl&gt; | V3 &lt;dbl&gt; | V4 &lt;dbl&gt; | V5 &lt;dbl&gt; |\n",
       "|---|---|---|---|---|\n",
       "| 0.0000000000 | 0.000000e+00 | 0.004479686 | 0.01840584 | 0.09237962 |\n",
       "| 0.0000000000 | 0.000000e+00 | 0.004706973 | 0.02325406 | 0.09939886 |\n",
       "| 0.0000000000 | 0.000000e+00 | 0.006106605 | 0.03171539 | 0.10005125 |\n",
       "| 0.0000000000 | 0.000000e+00 | 0.006740558 | 0.03408666 | 0.10965079 |\n",
       "| 0.0000000000 | 0.000000e+00 | 0.007353796 | 0.03552450 | 0.11252459 |\n",
       "| 0.0000000000 | 0.000000e+00 | 0.007191029 | 0.03778698 | 0.11806777 |\n",
       "| 0.0000000000 | 0.000000e+00 | 0.006776310 | 0.03766010 | 0.11542087 |\n",
       "| 0.0000000000 | 0.000000e+00 | 0.008363223 | 0.04205166 | 0.11554998 |\n",
       "| 0.0000000000 | 0.000000e+00 | 0.007303816 | 0.03692244 | 0.11421266 |\n",
       "| 0.0000000000 | 0.000000e+00 | 0.007467144 | 0.03518958 | 0.10970437 |\n",
       "| 0.0000000000 | 0.000000e+00 | 0.007301729 | 0.03480937 | 0.10857967 |\n",
       "| 0.0000000000 | 0.000000e+00 | 0.007256204 | 0.03656099 | 0.11244526 |\n",
       "| 0.0000000000 | 0.000000e+00 | 0.006447998 | 0.03322999 | 0.11105502 |\n",
       "| 0.0000000000 | 0.000000e+00 | 0.007123050 | 0.03435132 | 0.11351463 |\n",
       "| 0.0000000000 | 0.000000e+00 | 0.007173572 | 0.03481338 | 0.11275451 |\n",
       "| 0.0000000000 | 0.000000e+00 | 0.006583438 | 0.03453316 | 0.11155940 |\n",
       "| 0.0000000000 | 0.000000e+00 | 0.006659571 | 0.03335038 | 0.10922647 |\n",
       "| 0.0000000000 | 0.000000e+00 | 0.006797552 | 0.03117190 | 0.10314742 |\n",
       "| 0.0000000000 | 0.000000e+00 | 0.010203212 | 0.03548703 | 0.09862162 |\n",
       "| 0.0000000000 | 0.000000e+00 | 0.010340269 | 0.03763866 | 0.10335050 |\n",
       "| 0.0000000000 | 0.000000e+00 | 0.009574979 | 0.03512907 | 0.09813249 |\n",
       "| 0.0000000000 | 0.000000e+00 | 0.008682060 | 0.03213751 | 0.09539388 |\n",
       "| 0.0000000000 | 0.000000e+00 | 0.009351022 | 0.03092756 | 0.09071019 |\n",
       "| 0.0000000000 | 0.000000e+00 | 0.008250087 | 0.02858707 | 0.09132602 |\n",
       "| 0.0000000000 | 0.000000e+00 | 0.007554658 | 0.02862317 | 0.08794253 |\n",
       "| 0.0000000000 | 0.000000e+00 | 0.008932284 | 0.03118378 | 0.09139342 |\n",
       "| 0.0000000000 | 0.000000e+00 | 0.009321860 | 0.03111935 | 0.08971414 |\n",
       "| 0.0000000000 | 0.000000e+00 | 0.009650822 | 0.03138710 | 0.08787765 |\n",
       "| 0.0000000000 | 0.000000e+00 | 0.009196249 | 0.03281912 | 0.09125365 |\n",
       "| 0.0000000000 | 0.000000e+00 | 0.008879862 | 0.03189577 | 0.09272727 |\n",
       "| 0.0000000000 | 0.000000e+00 | 0.009568788 | 0.03301364 | 0.09329970 |\n",
       "| 0.0000000000 | 0.000000e+00 | 0.010071337 | 0.03518929 | 0.09355582 |\n",
       "| 0.0000000000 | 0.000000e+00 | 0.011489836 | 0.03811676 | 0.09761711 |\n",
       "| 0.0000000000 | 0.000000e+00 | 0.010522783 | 0.03820236 | 0.09875691 |\n",
       "| 0.0000000000 | 0.000000e+00 | 0.012388611 | 0.04255389 | 0.10592276 |\n",
       "| 0.0000000000 | 0.000000e+00 | 0.014611773 | 0.04390943 | 0.10142021 |\n",
       "| 0.0000000000 | 0.000000e+00 | 0.016081852 | 0.04557589 | 0.10390843 |\n",
       "| 0.0000000000 | 0.000000e+00 | 0.016016566 | 0.04622335 | 0.09877027 |\n",
       "| 0.0000000000 | 0.000000e+00 | 0.014051536 | 0.04146708 | 0.09495526 |\n",
       "| 0.0000000000 | 0.000000e+00 | 0.017482534 | 0.04596218 | 0.09846904 |\n",
       "| 0.0000000000 | 0.000000e+00 | 0.017726655 | 0.04591870 | 0.09743595 |\n",
       "| 0.0000000000 | 0.000000e+00 | 0.016807297 | 0.04433234 | 0.09389884 |\n",
       "| 0.0000000000 | 0.000000e+00 | 0.017923807 | 0.04221549 | 0.08540248 |\n",
       "| 0.0000000000 | 0.000000e+00 | 0.020254734 | 0.04474422 | 0.09238385 |\n",
       "| 0.0000000000 | 0.000000e+00 | 0.019168961 | 0.04231862 | 0.08858122 |\n",
       "| 0.0000000000 | 0.000000e+00 | 0.020134455 | 0.04418300 | 0.09322977 |\n",
       "| 0.0014103539 | 0.000000e+00 | 0.019877381 | 0.04529377 | 0.09394227 |\n",
       "| 0.0013079708 | 0.000000e+00 | 0.023258248 | 0.05228165 | 0.10525518 |\n",
       "| 0.0020341323 | 0.000000e+00 | 0.025146492 | 0.05280762 | 0.10539071 |\n",
       "| 0.0021523847 | 2.769834e-05 | 0.025523530 | 0.05241476 | 0.10366830 |\n",
       "| 0.0002182421 | 3.334262e-03 | 0.026046729 | 0.05313162 | 0.10317725 |\n",
       "| 0.0007711319 | 3.828633e-03 | 0.028416462 | 0.05681383 | 0.10858469 |\n",
       "| 0.0009797059 | 4.741322e-03 | 0.031068589 | 0.05726700 | 0.10857771 |\n",
       "\n"
      ],
      "text/plain": [
       "   V1           V2           V3          V4         V5        \n",
       "1  0.0000000000 0.000000e+00 0.004479686 0.01840584 0.09237962\n",
       "2  0.0000000000 0.000000e+00 0.004706973 0.02325406 0.09939886\n",
       "3  0.0000000000 0.000000e+00 0.006106605 0.03171539 0.10005125\n",
       "4  0.0000000000 0.000000e+00 0.006740558 0.03408666 0.10965079\n",
       "5  0.0000000000 0.000000e+00 0.007353796 0.03552450 0.11252459\n",
       "6  0.0000000000 0.000000e+00 0.007191029 0.03778698 0.11806777\n",
       "7  0.0000000000 0.000000e+00 0.006776310 0.03766010 0.11542087\n",
       "8  0.0000000000 0.000000e+00 0.008363223 0.04205166 0.11554998\n",
       "9  0.0000000000 0.000000e+00 0.007303816 0.03692244 0.11421266\n",
       "10 0.0000000000 0.000000e+00 0.007467144 0.03518958 0.10970437\n",
       "11 0.0000000000 0.000000e+00 0.007301729 0.03480937 0.10857967\n",
       "12 0.0000000000 0.000000e+00 0.007256204 0.03656099 0.11244526\n",
       "13 0.0000000000 0.000000e+00 0.006447998 0.03322999 0.11105502\n",
       "14 0.0000000000 0.000000e+00 0.007123050 0.03435132 0.11351463\n",
       "15 0.0000000000 0.000000e+00 0.007173572 0.03481338 0.11275451\n",
       "16 0.0000000000 0.000000e+00 0.006583438 0.03453316 0.11155940\n",
       "17 0.0000000000 0.000000e+00 0.006659571 0.03335038 0.10922647\n",
       "18 0.0000000000 0.000000e+00 0.006797552 0.03117190 0.10314742\n",
       "19 0.0000000000 0.000000e+00 0.010203212 0.03548703 0.09862162\n",
       "20 0.0000000000 0.000000e+00 0.010340269 0.03763866 0.10335050\n",
       "21 0.0000000000 0.000000e+00 0.009574979 0.03512907 0.09813249\n",
       "22 0.0000000000 0.000000e+00 0.008682060 0.03213751 0.09539388\n",
       "23 0.0000000000 0.000000e+00 0.009351022 0.03092756 0.09071019\n",
       "24 0.0000000000 0.000000e+00 0.008250087 0.02858707 0.09132602\n",
       "25 0.0000000000 0.000000e+00 0.007554658 0.02862317 0.08794253\n",
       "26 0.0000000000 0.000000e+00 0.008932284 0.03118378 0.09139342\n",
       "27 0.0000000000 0.000000e+00 0.009321860 0.03111935 0.08971414\n",
       "28 0.0000000000 0.000000e+00 0.009650822 0.03138710 0.08787765\n",
       "29 0.0000000000 0.000000e+00 0.009196249 0.03281912 0.09125365\n",
       "30 0.0000000000 0.000000e+00 0.008879862 0.03189577 0.09272727\n",
       "31 0.0000000000 0.000000e+00 0.009568788 0.03301364 0.09329970\n",
       "32 0.0000000000 0.000000e+00 0.010071337 0.03518929 0.09355582\n",
       "33 0.0000000000 0.000000e+00 0.011489836 0.03811676 0.09761711\n",
       "34 0.0000000000 0.000000e+00 0.010522783 0.03820236 0.09875691\n",
       "35 0.0000000000 0.000000e+00 0.012388611 0.04255389 0.10592276\n",
       "36 0.0000000000 0.000000e+00 0.014611773 0.04390943 0.10142021\n",
       "37 0.0000000000 0.000000e+00 0.016081852 0.04557589 0.10390843\n",
       "38 0.0000000000 0.000000e+00 0.016016566 0.04622335 0.09877027\n",
       "39 0.0000000000 0.000000e+00 0.014051536 0.04146708 0.09495526\n",
       "40 0.0000000000 0.000000e+00 0.017482534 0.04596218 0.09846904\n",
       "41 0.0000000000 0.000000e+00 0.017726655 0.04591870 0.09743595\n",
       "42 0.0000000000 0.000000e+00 0.016807297 0.04433234 0.09389884\n",
       "43 0.0000000000 0.000000e+00 0.017923807 0.04221549 0.08540248\n",
       "44 0.0000000000 0.000000e+00 0.020254734 0.04474422 0.09238385\n",
       "45 0.0000000000 0.000000e+00 0.019168961 0.04231862 0.08858122\n",
       "46 0.0000000000 0.000000e+00 0.020134455 0.04418300 0.09322977\n",
       "47 0.0014103539 0.000000e+00 0.019877381 0.04529377 0.09394227\n",
       "48 0.0013079708 0.000000e+00 0.023258248 0.05228165 0.10525518\n",
       "49 0.0020341323 0.000000e+00 0.025146492 0.05280762 0.10539071\n",
       "50 0.0021523847 2.769834e-05 0.025523530 0.05241476 0.10366830\n",
       "51 0.0002182421 3.334262e-03 0.026046729 0.05313162 0.10317725\n",
       "52 0.0007711319 3.828633e-03 0.028416462 0.05681383 0.10858469\n",
       "53 0.0009797059 4.741322e-03 0.031068589 0.05726700 0.10857771"
      ]
     },
     "metadata": {},
     "output_type": "display_data"
    },
    {
     "data": {
      "text/html": [
       "<table class=\"dataframe\">\n",
       "<caption>A matrix: 5 × 5 of type dbl</caption>\n",
       "<thead>\n",
       "\t<tr><th></th><th scope=col>V1</th><th scope=col>V2</th><th scope=col>V3</th><th scope=col>V4</th><th scope=col>V5</th></tr>\n",
       "</thead>\n",
       "<tbody>\n",
       "\t<tr><th scope=row>V1</th><td> 1.296571e-07</td><td>-1.179946e-07</td><td>2.073575e-08</td><td>2.349646e-08</td><td> 6.616114e-08</td></tr>\n",
       "\t<tr><th scope=row>V2</th><td>-1.179946e-07</td><td> 2.270436e-07</td><td>5.702298e-08</td><td>2.059048e-08</td><td>-9.439949e-09</td></tr>\n",
       "\t<tr><th scope=row>V3</th><td> 2.073575e-08</td><td> 5.702298e-08</td><td>1.566675e-06</td><td>2.415536e-06</td><td> 1.921766e-06</td></tr>\n",
       "\t<tr><th scope=row>V4</th><td> 2.349646e-08</td><td> 2.059048e-08</td><td>2.415536e-06</td><td>7.320459e-06</td><td> 7.320611e-06</td></tr>\n",
       "\t<tr><th scope=row>V5</th><td> 6.616114e-08</td><td>-9.439949e-09</td><td>1.921766e-06</td><td>7.320611e-06</td><td> 1.759522e-05</td></tr>\n",
       "</tbody>\n",
       "</table>\n"
      ],
      "text/latex": [
       "A matrix: 5 × 5 of type dbl\n",
       "\\begin{tabular}{r|lllll}\n",
       "  & V1 & V2 & V3 & V4 & V5\\\\\n",
       "\\hline\n",
       "\tV1 &  1.296571e-07 & -1.179946e-07 & 2.073575e-08 & 2.349646e-08 &  6.616114e-08\\\\\n",
       "\tV2 & -1.179946e-07 &  2.270436e-07 & 5.702298e-08 & 2.059048e-08 & -9.439949e-09\\\\\n",
       "\tV3 &  2.073575e-08 &  5.702298e-08 & 1.566675e-06 & 2.415536e-06 &  1.921766e-06\\\\\n",
       "\tV4 &  2.349646e-08 &  2.059048e-08 & 2.415536e-06 & 7.320459e-06 &  7.320611e-06\\\\\n",
       "\tV5 &  6.616114e-08 & -9.439949e-09 & 1.921766e-06 & 7.320611e-06 &  1.759522e-05\\\\\n",
       "\\end{tabular}\n"
      ],
      "text/markdown": [
       "\n",
       "A matrix: 5 × 5 of type dbl\n",
       "\n",
       "| <!--/--> | V1 | V2 | V3 | V4 | V5 |\n",
       "|---|---|---|---|---|---|\n",
       "| V1 |  1.296571e-07 | -1.179946e-07 | 2.073575e-08 | 2.349646e-08 |  6.616114e-08 |\n",
       "| V2 | -1.179946e-07 |  2.270436e-07 | 5.702298e-08 | 2.059048e-08 | -9.439949e-09 |\n",
       "| V3 |  2.073575e-08 |  5.702298e-08 | 1.566675e-06 | 2.415536e-06 |  1.921766e-06 |\n",
       "| V4 |  2.349646e-08 |  2.059048e-08 | 2.415536e-06 | 7.320459e-06 |  7.320611e-06 |\n",
       "| V5 |  6.616114e-08 | -9.439949e-09 | 1.921766e-06 | 7.320611e-06 |  1.759522e-05 |\n",
       "\n"
      ],
      "text/plain": [
       "   V1            V2            V3           V4           V5           \n",
       "V1  1.296571e-07 -1.179946e-07 2.073575e-08 2.349646e-08  6.616114e-08\n",
       "V2 -1.179946e-07  2.270436e-07 5.702298e-08 2.059048e-08 -9.439949e-09\n",
       "V3  2.073575e-08  5.702298e-08 1.566675e-06 2.415536e-06  1.921766e-06\n",
       "V4  2.349646e-08  2.059048e-08 2.415536e-06 7.320459e-06  7.320611e-06\n",
       "V5  6.616114e-08 -9.439949e-09 1.921766e-06 7.320611e-06  1.759522e-05"
      ]
     },
     "metadata": {},
     "output_type": "display_data"
    }
   ],
   "source": [
    "MatofAlphas <- read.csv(\"../data/sim.csv\")\n",
    "i_alpha <- MatofAlphas[-nrow(MatofAlphas),]\n",
    "f_alpha <- MatofAlphas[-1,]\n",
    "delta_alpha <- f_alpha - i_alpha\n",
    "cov_delta_a <- cov(delta_alpha)\n",
    "MatofAlphas\n",
    "cov_delta_a"
   ]
  },
  {
   "cell_type": "code",
   "execution_count": 75,
   "id": "15b0e16c",
   "metadata": {},
   "outputs": [
    {
     "data": {
      "text/plain": [
       "eigen() decomposition\n",
       "$values\n",
       "[1] 2.179608e-05 4.051661e-06 6.397811e-07 3.032807e-07 4.825626e-08\n",
       "\n",
       "$vectors\n",
       "              [,1]         [,2]         [,3]          [,4]         [,5]\n",
       "[1,] -0.0033046083  0.001659849 -0.003990415  0.5640718677  0.825707775\n",
       "[2,] -0.0004099048 -0.011305990 -0.101742928 -0.8216011188  0.560795849\n",
       "[3,] -0.1386123097 -0.392052726 -0.904245787  0.0781688794 -0.057536691\n",
       "[4,] -0.4652604669 -0.784813679  0.408085362 -0.0261554380  0.019555520\n",
       "[5,] -0.8742472402  0.479824519 -0.073745154 -0.0002211457 -0.004668737\n"
      ]
     },
     "metadata": {},
     "output_type": "display_data"
    },
    {
     "data": {
      "text/html": [
       "<table class=\"dataframe\">\n",
       "<caption>A matrix: 5 × 5 of type dbl</caption>\n",
       "<tbody>\n",
       "\t<tr><td>-0.0033046083</td><td> 0.001659849</td><td>-0.003990415</td><td> 0.5640718677</td><td> 0.825707775</td></tr>\n",
       "\t<tr><td>-0.0004099048</td><td>-0.011305990</td><td>-0.101742928</td><td>-0.8216011188</td><td> 0.560795849</td></tr>\n",
       "\t<tr><td>-0.1386123097</td><td>-0.392052726</td><td>-0.904245787</td><td> 0.0781688794</td><td>-0.057536691</td></tr>\n",
       "\t<tr><td>-0.4652604669</td><td>-0.784813679</td><td> 0.408085362</td><td>-0.0261554380</td><td> 0.019555520</td></tr>\n",
       "\t<tr><td>-0.8742472402</td><td> 0.479824519</td><td>-0.073745154</td><td>-0.0002211457</td><td>-0.004668737</td></tr>\n",
       "</tbody>\n",
       "</table>\n"
      ],
      "text/latex": [
       "A matrix: 5 × 5 of type dbl\n",
       "\\begin{tabular}{lllll}\n",
       "\t -0.0033046083 &  0.001659849 & -0.003990415 &  0.5640718677 &  0.825707775\\\\\n",
       "\t -0.0004099048 & -0.011305990 & -0.101742928 & -0.8216011188 &  0.560795849\\\\\n",
       "\t -0.1386123097 & -0.392052726 & -0.904245787 &  0.0781688794 & -0.057536691\\\\\n",
       "\t -0.4652604669 & -0.784813679 &  0.408085362 & -0.0261554380 &  0.019555520\\\\\n",
       "\t -0.8742472402 &  0.479824519 & -0.073745154 & -0.0002211457 & -0.004668737\\\\\n",
       "\\end{tabular}\n"
      ],
      "text/markdown": [
       "\n",
       "A matrix: 5 × 5 of type dbl\n",
       "\n",
       "| -0.0033046083 |  0.001659849 | -0.003990415 |  0.5640718677 |  0.825707775 |\n",
       "| -0.0004099048 | -0.011305990 | -0.101742928 | -0.8216011188 |  0.560795849 |\n",
       "| -0.1386123097 | -0.392052726 | -0.904245787 |  0.0781688794 | -0.057536691 |\n",
       "| -0.4652604669 | -0.784813679 |  0.408085362 | -0.0261554380 |  0.019555520 |\n",
       "| -0.8742472402 |  0.479824519 | -0.073745154 | -0.0002211457 | -0.004668737 |\n",
       "\n"
      ],
      "text/plain": [
       "     [,1]          [,2]         [,3]         [,4]          [,5]        \n",
       "[1,] -0.0033046083  0.001659849 -0.003990415  0.5640718677  0.825707775\n",
       "[2,] -0.0004099048 -0.011305990 -0.101742928 -0.8216011188  0.560795849\n",
       "[3,] -0.1386123097 -0.392052726 -0.904245787  0.0781688794 -0.057536691\n",
       "[4,] -0.4652604669 -0.784813679  0.408085362 -0.0261554380  0.019555520\n",
       "[5,] -0.8742472402  0.479824519 -0.073745154 -0.0002211457 -0.004668737"
      ]
     },
     "metadata": {},
     "output_type": "display_data"
    },
    {
     "data": {
      "text/html": [
       "<style>\n",
       ".list-inline {list-style: none; margin:0; padding: 0}\n",
       ".list-inline>li {display: inline-block}\n",
       ".list-inline>li:not(:last-child)::after {content: \"\\00b7\"; padding: 0 .5ex}\n",
       "</style>\n",
       "<ol class=list-inline><li>0.00466862690718836</li><li>0.00201287374103044</li><li>0.000799863199773648</li><li>0.000550709292423151</li><li>0.000219673064850346</li></ol>\n"
      ],
      "text/latex": [
       "\\begin{enumerate*}\n",
       "\\item 0.00466862690718836\n",
       "\\item 0.00201287374103044\n",
       "\\item 0.000799863199773648\n",
       "\\item 0.000550709292423151\n",
       "\\item 0.000219673064850346\n",
       "\\end{enumerate*}\n"
      ],
      "text/markdown": [
       "1. 0.00466862690718836\n",
       "2. 0.00201287374103044\n",
       "3. 0.000799863199773648\n",
       "4. 0.000550709292423151\n",
       "5. 0.000219673064850346\n",
       "\n",
       "\n"
      ],
      "text/plain": [
       "[1] 0.0046686269 0.0020128737 0.0007998632 0.0005507093 0.0002196731"
      ]
     },
     "metadata": {},
     "output_type": "display_data"
    },
    {
     "data": {
      "text/html": [
       "<table class=\"dataframe\">\n",
       "<caption>A matrix: 5 × 5 of type dbl</caption>\n",
       "<tbody>\n",
       "\t<tr><td>-1.542798e-05</td><td> 3.341066e-06</td><td>-3.191786e-06</td><td> 3.106396e-04</td><td> 1.813858e-04</td></tr>\n",
       "\t<tr><td>-1.913692e-06</td><td>-2.275753e-05</td><td>-8.138042e-05</td><td>-4.524634e-04</td><td> 1.231917e-04</td></tr>\n",
       "\t<tr><td>-6.471292e-04</td><td>-7.891526e-04</td><td>-7.232729e-04</td><td> 4.304833e-05</td><td>-1.263926e-05</td></tr>\n",
       "\t<tr><td>-2.172128e-03</td><td>-1.579731e-03</td><td> 3.264125e-04</td><td>-1.440404e-05</td><td> 4.295821e-06</td></tr>\n",
       "\t<tr><td>-4.081534e-03</td><td> 9.658262e-04</td><td>-5.898603e-05</td><td>-1.217870e-07</td><td>-1.025596e-06</td></tr>\n",
       "</tbody>\n",
       "</table>\n"
      ],
      "text/latex": [
       "A matrix: 5 × 5 of type dbl\n",
       "\\begin{tabular}{lllll}\n",
       "\t -1.542798e-05 &  3.341066e-06 & -3.191786e-06 &  3.106396e-04 &  1.813858e-04\\\\\n",
       "\t -1.913692e-06 & -2.275753e-05 & -8.138042e-05 & -4.524634e-04 &  1.231917e-04\\\\\n",
       "\t -6.471292e-04 & -7.891526e-04 & -7.232729e-04 &  4.304833e-05 & -1.263926e-05\\\\\n",
       "\t -2.172128e-03 & -1.579731e-03 &  3.264125e-04 & -1.440404e-05 &  4.295821e-06\\\\\n",
       "\t -4.081534e-03 &  9.658262e-04 & -5.898603e-05 & -1.217870e-07 & -1.025596e-06\\\\\n",
       "\\end{tabular}\n"
      ],
      "text/markdown": [
       "\n",
       "A matrix: 5 × 5 of type dbl\n",
       "\n",
       "| -1.542798e-05 |  3.341066e-06 | -3.191786e-06 |  3.106396e-04 |  1.813858e-04 |\n",
       "| -1.913692e-06 | -2.275753e-05 | -8.138042e-05 | -4.524634e-04 |  1.231917e-04 |\n",
       "| -6.471292e-04 | -7.891526e-04 | -7.232729e-04 |  4.304833e-05 | -1.263926e-05 |\n",
       "| -2.172128e-03 | -1.579731e-03 |  3.264125e-04 | -1.440404e-05 |  4.295821e-06 |\n",
       "| -4.081534e-03 |  9.658262e-04 | -5.898603e-05 | -1.217870e-07 | -1.025596e-06 |\n",
       "\n"
      ],
      "text/plain": [
       "     [,1]          [,2]          [,3]          [,4]          [,5]         \n",
       "[1,] -1.542798e-05  3.341066e-06 -3.191786e-06  3.106396e-04  1.813858e-04\n",
       "[2,] -1.913692e-06 -2.275753e-05 -8.138042e-05 -4.524634e-04  1.231917e-04\n",
       "[3,] -6.471292e-04 -7.891526e-04 -7.232729e-04  4.304833e-05 -1.263926e-05\n",
       "[4,] -2.172128e-03 -1.579731e-03  3.264125e-04 -1.440404e-05  4.295821e-06\n",
       "[5,] -4.081534e-03  9.658262e-04 -5.898603e-05 -1.217870e-07 -1.025596e-06"
      ]
     },
     "metadata": {},
     "output_type": "display_data"
    }
   ],
   "source": [
    "eigen_delta <- eigen(cov_delta_a)\n",
    "eigen(cov_delta_a)\n",
    "A <- eigen_delta$vectors \n",
    "sqrt <- sqrt(eigen_delta$values)\n",
    "A \n",
    "sqrt\n",
    "B <- t(t(A)*sqrt)\n",
    "B"
   ]
  },
  {
   "cell_type": "code",
   "execution_count": 45,
   "id": "ba867aef",
   "metadata": {},
   "outputs": [
    {
     "data": {
      "image/png": "[encoded data removed]",
      "text/plain": [
       "plot without title"
      ]
     },
     "metadata": {},
     "output_type": "display_data"
    }
   ],
   "source": [
    "Bbase <- as.data.frame(B)\n",
    "Bbase$N <- c(1,2,3,4,5)\n",
    "Bbase <- pivot_longer(Bbase, cols=1:5,names_to= \"component\", values_to='Values')\n",
    "ggplot(Bbase, aes(x = N, y = Values, color = component)) + \n",
    "  geom_line() +\n",
    "  geom_point()"
   ]
  },
  {
   "cell_type": "code",
   "execution_count": 46,
   "id": "890bd92a",
   "metadata": {},
   "outputs": [
    {
     "data": {
      "text/html": [
       "<table class=\"dataframe\">\n",
       "<caption>A data.frame: 53 × 5</caption>\n",
       "<thead>\n",
       "\t<tr><th scope=col>V1</th><th scope=col>V2</th><th scope=col>V3</th><th scope=col>V4</th><th scope=col>V5</th></tr>\n",
       "\t<tr><th scope=col>&lt;dbl&gt;</th><th scope=col>&lt;dbl&gt;</th><th scope=col>&lt;dbl&gt;</th><th scope=col>&lt;dbl&gt;</th><th scope=col>&lt;dbl&gt;</th></tr>\n",
       "</thead>\n",
       "<tbody>\n",
       "\t<tr><td> 0.000000e+00</td><td> 0.000000e+00</td><td>-5.064728e-05</td><td> 8.831573e-03</td><td>-8.353388e-02</td></tr>\n",
       "\t<tr><td> 0.000000e+00</td><td> 0.000000e+00</td><td>-1.845381e-03</td><td>-9.279336e-05</td><td> 4.056322e-02</td></tr>\n",
       "\t<tr><td> 0.000000e+00</td><td> 0.000000e+00</td><td>-4.792547e-03</td><td>-3.226817e-03</td><td>-7.378295e-03</td></tr>\n",
       "\t<tr><td> 0.000000e+00</td><td> 0.000000e+00</td><td> 3.234285e-03</td><td>-3.082272e-02</td><td> 6.185093e-02</td></tr>\n",
       "\t<tr><td> 0.000000e+00</td><td> 0.000000e+00</td><td>-2.934470e-05</td><td> 1.449703e-02</td><td>-9.245033e-02</td></tr>\n",
       "\t<tr><td> 0.000000e+00</td><td> 0.000000e+00</td><td>-7.316363e-04</td><td>-2.786607e-03</td><td> 9.229225e-03</td></tr>\n",
       "\t<tr><td> 0.000000e+00</td><td> 0.000000e+00</td><td>-6.127450e-03</td><td> 2.124300e-02</td><td>-3.018883e-03</td></tr>\n",
       "\t<tr><td> 0.000000e+00</td><td> 0.000000e+00</td><td> 3.412909e-03</td><td>-3.454969e-02</td><td>-2.555338e-05</td></tr>\n",
       "\t<tr><td> 0.000000e+00</td><td> 0.000000e+00</td><td>-5.386210e-04</td><td> 2.886186e-03</td><td> 9.430628e-02</td></tr>\n",
       "\t<tr><td> 0.000000e+00</td><td> 0.000000e+00</td><td> 4.212006e-03</td><td>-9.203989e-04</td><td> 6.152176e-02</td></tr>\n",
       "\t<tr><td> 0.000000e+00</td><td> 0.000000e+00</td><td>-5.999109e-03</td><td>-7.697940e-06</td><td>-6.247315e-03</td></tr>\n",
       "\t<tr><td> 0.000000e+00</td><td> 0.000000e+00</td><td> 5.672093e-04</td><td> 3.018869e-02</td><td> 2.198926e-03</td></tr>\n",
       "\t<tr><td> 0.000000e+00</td><td> 0.000000e+00</td><td>-1.686502e-04</td><td> 1.863524e-02</td><td>-5.184867e-04</td></tr>\n",
       "\t<tr><td> 0.000000e+00</td><td> 0.000000e+00</td><td>-1.575232e-06</td><td>-1.976461e-03</td><td>-3.751214e-04</td></tr>\n",
       "\t<tr><td> 0.000000e+00</td><td> 0.000000e+00</td><td> 5.923274e-03</td><td> 6.807938e-04</td><td>-4.621861e-05</td></tr>\n",
       "\t<tr><td> 0.000000e+00</td><td> 0.000000e+00</td><td> 3.691965e-03</td><td>-1.612263e-04</td><td>-1.546351e-02</td></tr>\n",
       "\t<tr><td> 0.000000e+00</td><td> 0.000000e+00</td><td>-3.831697e-04</td><td>-1.102099e-04</td><td>-5.081876e-02</td></tr>\n",
       "\t<tr><td> 0.000000e+00</td><td> 0.000000e+00</td><td> 1.329297e-04</td><td>-1.277751e-05</td><td>-9.017635e-02</td></tr>\n",
       "\t<tr><td> 0.000000e+00</td><td> 0.000000e+00</td><td>-4.763612e-05</td><td>-4.918940e-03</td><td> 1.636970e-04</td></tr>\n",
       "\t<tr><td> 0.000000e+00</td><td> 0.000000e+00</td><td>-3.417054e-05</td><td>-1.751178e-02</td><td>-1.168480e-03</td></tr>\n",
       "\t<tr><td> 0.000000e+00</td><td> 0.000000e+00</td><td>-3.924830e-06</td><td>-3.071149e-02</td><td>-3.847311e-02</td></tr>\n",
       "\t<tr><td> 0.000000e+00</td><td> 0.000000e+00</td><td>-1.203440e-03</td><td> 5.334341e-05</td><td>-7.486642e-02</td></tr>\n",
       "\t<tr><td> 0.000000e+00</td><td> 0.000000e+00</td><td>-4.350661e-03</td><td>-3.496666e-04</td><td> 4.352497e-02</td></tr>\n",
       "\t<tr><td> 0.000000e+00</td><td> 0.000000e+00</td><td>-7.212615e-03</td><td>-1.120764e-02</td><td>-3.644287e-04</td></tr>\n",
       "\t<tr><td> 0.000000e+00</td><td> 0.000000e+00</td><td> 1.253959e-05</td><td>-2.246385e-02</td><td>-8.947530e-03</td></tr>\n",
       "\t<tr><td> 0.000000e+00</td><td> 0.000000e+00</td><td>-1.009883e-04</td><td> 1.496274e-02</td><td>-8.264212e-02</td></tr>\n",
       "\t<tr><td> 0.000000e+00</td><td> 0.000000e+00</td><td>-3.654661e-03</td><td>-1.241791e-04</td><td> 3.661103e-02</td></tr>\n",
       "\t<tr><td> 0.000000e+00</td><td> 0.000000e+00</td><td>-7.574097e-03</td><td>-3.193416e-03</td><td>-6.480551e-03</td></tr>\n",
       "\t<tr><td> 0.000000e+00</td><td> 0.000000e+00</td><td> 4.412586e-03</td><td>-2.967655e-02</td><td> 5.147362e-02</td></tr>\n",
       "\t<tr><td> 0.000000e+00</td><td> 0.000000e+00</td><td>-3.543434e-05</td><td> 1.301620e-02</td><td>-7.618483e-02</td></tr>\n",
       "\t<tr><td> 0.000000e+00</td><td> 0.000000e+00</td><td>-9.735565e-04</td><td>-2.434596e-03</td><td> 7.293133e-03</td></tr>\n",
       "\t<tr><td> 0.000000e+00</td><td> 0.000000e+00</td><td>-9.106964e-03</td><td> 1.984929e-02</td><td>-2.446994e-03</td></tr>\n",
       "\t<tr><td> 0.000000e+00</td><td> 0.000000e+00</td><td> 4.688834e-03</td><td>-3.131677e-02</td><td>-2.158760e-05</td></tr>\n",
       "\t<tr><td> 0.000000e+00</td><td> 0.000000e+00</td><td>-7.760043e-04</td><td> 2.986236e-03</td><td> 8.154435e-02</td></tr>\n",
       "\t<tr><td> 0.000000e+00</td><td> 0.000000e+00</td><td> 6.988067e-03</td><td>-1.113016e-03</td><td> 5.940105e-02</td></tr>\n",
       "\t<tr><td> 0.000000e+00</td><td> 0.000000e+00</td><td>-1.200505e-02</td><td>-9.710380e-06</td><td>-5.835383e-03</td></tr>\n",
       "\t<tr><td> 0.000000e+00</td><td> 0.000000e+00</td><td> 1.257100e-03</td><td> 3.763237e-02</td><td> 2.031983e-03</td></tr>\n",
       "\t<tr><td> 0.000000e+00</td><td> 0.000000e+00</td><td>-4.189203e-04</td><td> 2.592186e-02</td><td>-4.611324e-04</td></tr>\n",
       "\t<tr><td> 0.000000e+00</td><td> 0.000000e+00</td><td>-3.107436e-06</td><td>-2.385879e-03</td><td>-3.137899e-04</td></tr>\n",
       "\t<tr><td> 0.000000e+00</td><td> 0.000000e+00</td><td> 1.443546e-02</td><td> 8.988144e-04</td><td>-4.036293e-05</td></tr>\n",
       "\t<tr><td> 0.000000e+00</td><td> 0.000000e+00</td><td> 9.941034e-03</td><td>-2.143823e-04</td><td>-1.350582e-02</td></tr>\n",
       "\t<tr><td> 0.000000e+00</td><td> 0.000000e+00</td><td>-9.670362e-04</td><td>-1.465010e-04</td><td>-4.368742e-02</td></tr>\n",
       "\t<tr><td> 0.000000e+00</td><td> 0.000000e+00</td><td> 3.505094e-04</td><td>-1.730433e-05</td><td>-7.466288e-02</td></tr>\n",
       "\t<tr><td> 0.000000e+00</td><td> 0.000000e+00</td><td>-9.456403e-05</td><td>-6.202099e-03</td><td> 1.533432e-04</td></tr>\n",
       "\t<tr><td> 0.000000e+00</td><td> 0.000000e+00</td><td>-6.334591e-05</td><td>-1.968918e-02</td><td>-1.001498e-03</td></tr>\n",
       "\t<tr><td> 0.000000e+00</td><td> 0.000000e+00</td><td>-8.253209e-06</td><td>-3.862687e-02</td><td>-3.655099e-02</td></tr>\n",
       "\t<tr><td> 7.909206e-04</td><td> 0.000000e+00</td><td>-2.755250e-03</td><td> 7.518082e-05</td><td>-7.372718e-02</td></tr>\n",
       "\t<tr><td>-7.525631e-05</td><td> 0.000000e+00</td><td>-1.082114e-02</td><td>-5.910958e-04</td><td> 5.050402e-02</td></tr>\n",
       "\t<tr><td> 3.977852e-05</td><td> 0.000000e+00</td><td>-2.198425e-02</td><td>-2.070337e-02</td><td>-4.205527e-04</td></tr>\n",
       "\t<tr><td>-1.004892e-05</td><td>-3.839331e-06</td><td> 4.236520e-05</td><td>-4.113582e-02</td><td>-1.054752e-02</td></tr>\n",
       "\t<tr><td>-7.212047e-07</td><td>-1.551300e-03</td><td>-2.944841e-04</td><td> 2.549385e-02</td><td>-9.329759e-02</td></tr>\n",
       "\t<tr><td>-3.160906e-07</td><td>-3.347172e-03</td><td>-1.114075e-02</td><td>-2.267108e-04</td><td> 4.431182e-02</td></tr>\n",
       "\t<tr><td>-1.357993e-04</td><td> 7.869879e-06</td><td>-2.438305e-02</td><td>-5.826512e-03</td><td>-8.007080e-03</td></tr>\n",
       "</tbody>\n",
       "</table>\n"
      ],
      "text/latex": [
       "A data.frame: 53 × 5\n",
       "\\begin{tabular}{lllll}\n",
       " V1 & V2 & V3 & V4 & V5\\\\\n",
       " <dbl> & <dbl> & <dbl> & <dbl> & <dbl>\\\\\n",
       "\\hline\n",
       "\t  0.000000e+00 &  0.000000e+00 & -5.064728e-05 &  8.831573e-03 & -8.353388e-02\\\\\n",
       "\t  0.000000e+00 &  0.000000e+00 & -1.845381e-03 & -9.279336e-05 &  4.056322e-02\\\\\n",
       "\t  0.000000e+00 &  0.000000e+00 & -4.792547e-03 & -3.226817e-03 & -7.378295e-03\\\\\n",
       "\t  0.000000e+00 &  0.000000e+00 &  3.234285e-03 & -3.082272e-02 &  6.185093e-02\\\\\n",
       "\t  0.000000e+00 &  0.000000e+00 & -2.934470e-05 &  1.449703e-02 & -9.245033e-02\\\\\n",
       "\t  0.000000e+00 &  0.000000e+00 & -7.316363e-04 & -2.786607e-03 &  9.229225e-03\\\\\n",
       "\t  0.000000e+00 &  0.000000e+00 & -6.127450e-03 &  2.124300e-02 & -3.018883e-03\\\\\n",
       "\t  0.000000e+00 &  0.000000e+00 &  3.412909e-03 & -3.454969e-02 & -2.555338e-05\\\\\n",
       "\t  0.000000e+00 &  0.000000e+00 & -5.386210e-04 &  2.886186e-03 &  9.430628e-02\\\\\n",
       "\t  0.000000e+00 &  0.000000e+00 &  4.212006e-03 & -9.203989e-04 &  6.152176e-02\\\\\n",
       "\t  0.000000e+00 &  0.000000e+00 & -5.999109e-03 & -7.697940e-06 & -6.247315e-03\\\\\n",
       "\t  0.000000e+00 &  0.000000e+00 &  5.672093e-04 &  3.018869e-02 &  2.198926e-03\\\\\n",
       "\t  0.000000e+00 &  0.000000e+00 & -1.686502e-04 &  1.863524e-02 & -5.184867e-04\\\\\n",
       "\t  0.000000e+00 &  0.000000e+00 & -1.575232e-06 & -1.976461e-03 & -3.751214e-04\\\\\n",
       "\t  0.000000e+00 &  0.000000e+00 &  5.923274e-03 &  6.807938e-04 & -4.621861e-05\\\\\n",
       "\t  0.000000e+00 &  0.000000e+00 &  3.691965e-03 & -1.612263e-04 & -1.546351e-02\\\\\n",
       "\t  0.000000e+00 &  0.000000e+00 & -3.831697e-04 & -1.102099e-04 & -5.081876e-02\\\\\n",
       "\t  0.000000e+00 &  0.000000e+00 &  1.329297e-04 & -1.277751e-05 & -9.017635e-02\\\\\n",
       "\t  0.000000e+00 &  0.000000e+00 & -4.763612e-05 & -4.918940e-03 &  1.636970e-04\\\\\n",
       "\t  0.000000e+00 &  0.000000e+00 & -3.417054e-05 & -1.751178e-02 & -1.168480e-03\\\\\n",
       "\t  0.000000e+00 &  0.000000e+00 & -3.924830e-06 & -3.071149e-02 & -3.847311e-02\\\\\n",
       "\t  0.000000e+00 &  0.000000e+00 & -1.203440e-03 &  5.334341e-05 & -7.486642e-02\\\\\n",
       "\t  0.000000e+00 &  0.000000e+00 & -4.350661e-03 & -3.496666e-04 &  4.352497e-02\\\\\n",
       "\t  0.000000e+00 &  0.000000e+00 & -7.212615e-03 & -1.120764e-02 & -3.644287e-04\\\\\n",
       "\t  0.000000e+00 &  0.000000e+00 &  1.253959e-05 & -2.246385e-02 & -8.947530e-03\\\\\n",
       "\t  0.000000e+00 &  0.000000e+00 & -1.009883e-04 &  1.496274e-02 & -8.264212e-02\\\\\n",
       "\t  0.000000e+00 &  0.000000e+00 & -3.654661e-03 & -1.241791e-04 &  3.661103e-02\\\\\n",
       "\t  0.000000e+00 &  0.000000e+00 & -7.574097e-03 & -3.193416e-03 & -6.480551e-03\\\\\n",
       "\t  0.000000e+00 &  0.000000e+00 &  4.412586e-03 & -2.967655e-02 &  5.147362e-02\\\\\n",
       "\t  0.000000e+00 &  0.000000e+00 & -3.543434e-05 &  1.301620e-02 & -7.618483e-02\\\\\n",
       "\t  0.000000e+00 &  0.000000e+00 & -9.735565e-04 & -2.434596e-03 &  7.293133e-03\\\\\n",
       "\t  0.000000e+00 &  0.000000e+00 & -9.106964e-03 &  1.984929e-02 & -2.446994e-03\\\\\n",
       "\t  0.000000e+00 &  0.000000e+00 &  4.688834e-03 & -3.131677e-02 & -2.158760e-05\\\\\n",
       "\t  0.000000e+00 &  0.000000e+00 & -7.760043e-04 &  2.986236e-03 &  8.154435e-02\\\\\n",
       "\t  0.000000e+00 &  0.000000e+00 &  6.988067e-03 & -1.113016e-03 &  5.940105e-02\\\\\n",
       "\t  0.000000e+00 &  0.000000e+00 & -1.200505e-02 & -9.710380e-06 & -5.835383e-03\\\\\n",
       "\t  0.000000e+00 &  0.000000e+00 &  1.257100e-03 &  3.763237e-02 &  2.031983e-03\\\\\n",
       "\t  0.000000e+00 &  0.000000e+00 & -4.189203e-04 &  2.592186e-02 & -4.611324e-04\\\\\n",
       "\t  0.000000e+00 &  0.000000e+00 & -3.107436e-06 & -2.385879e-03 & -3.137899e-04\\\\\n",
       "\t  0.000000e+00 &  0.000000e+00 &  1.443546e-02 &  8.988144e-04 & -4.036293e-05\\\\\n",
       "\t  0.000000e+00 &  0.000000e+00 &  9.941034e-03 & -2.143823e-04 & -1.350582e-02\\\\\n",
       "\t  0.000000e+00 &  0.000000e+00 & -9.670362e-04 & -1.465010e-04 & -4.368742e-02\\\\\n",
       "\t  0.000000e+00 &  0.000000e+00 &  3.505094e-04 & -1.730433e-05 & -7.466288e-02\\\\\n",
       "\t  0.000000e+00 &  0.000000e+00 & -9.456403e-05 & -6.202099e-03 &  1.533432e-04\\\\\n",
       "\t  0.000000e+00 &  0.000000e+00 & -6.334591e-05 & -1.968918e-02 & -1.001498e-03\\\\\n",
       "\t  0.000000e+00 &  0.000000e+00 & -8.253209e-06 & -3.862687e-02 & -3.655099e-02\\\\\n",
       "\t  7.909206e-04 &  0.000000e+00 & -2.755250e-03 &  7.518082e-05 & -7.372718e-02\\\\\n",
       "\t -7.525631e-05 &  0.000000e+00 & -1.082114e-02 & -5.910958e-04 &  5.050402e-02\\\\\n",
       "\t  3.977852e-05 &  0.000000e+00 & -2.198425e-02 & -2.070337e-02 & -4.205527e-04\\\\\n",
       "\t -1.004892e-05 & -3.839331e-06 &  4.236520e-05 & -4.113582e-02 & -1.054752e-02\\\\\n",
       "\t -7.212047e-07 & -1.551300e-03 & -2.944841e-04 &  2.549385e-02 & -9.329759e-02\\\\\n",
       "\t -3.160906e-07 & -3.347172e-03 & -1.114075e-02 & -2.267108e-04 &  4.431182e-02\\\\\n",
       "\t -1.357993e-04 &  7.869879e-06 & -2.438305e-02 & -5.826512e-03 & -8.007080e-03\\\\\n",
       "\\end{tabular}\n"
      ],
      "text/markdown": [
       "\n",
       "A data.frame: 53 × 5\n",
       "\n",
       "| V1 &lt;dbl&gt; | V2 &lt;dbl&gt; | V3 &lt;dbl&gt; | V4 &lt;dbl&gt; | V5 &lt;dbl&gt; |\n",
       "|---|---|---|---|---|\n",
       "|  0.000000e+00 |  0.000000e+00 | -5.064728e-05 |  8.831573e-03 | -8.353388e-02 |\n",
       "|  0.000000e+00 |  0.000000e+00 | -1.845381e-03 | -9.279336e-05 |  4.056322e-02 |\n",
       "|  0.000000e+00 |  0.000000e+00 | -4.792547e-03 | -3.226817e-03 | -7.378295e-03 |\n",
       "|  0.000000e+00 |  0.000000e+00 |  3.234285e-03 | -3.082272e-02 |  6.185093e-02 |\n",
       "|  0.000000e+00 |  0.000000e+00 | -2.934470e-05 |  1.449703e-02 | -9.245033e-02 |\n",
       "|  0.000000e+00 |  0.000000e+00 | -7.316363e-04 | -2.786607e-03 |  9.229225e-03 |\n",
       "|  0.000000e+00 |  0.000000e+00 | -6.127450e-03 |  2.124300e-02 | -3.018883e-03 |\n",
       "|  0.000000e+00 |  0.000000e+00 |  3.412909e-03 | -3.454969e-02 | -2.555338e-05 |\n",
       "|  0.000000e+00 |  0.000000e+00 | -5.386210e-04 |  2.886186e-03 |  9.430628e-02 |\n",
       "|  0.000000e+00 |  0.000000e+00 |  4.212006e-03 | -9.203989e-04 |  6.152176e-02 |\n",
       "|  0.000000e+00 |  0.000000e+00 | -5.999109e-03 | -7.697940e-06 | -6.247315e-03 |\n",
       "|  0.000000e+00 |  0.000000e+00 |  5.672093e-04 |  3.018869e-02 |  2.198926e-03 |\n",
       "|  0.000000e+00 |  0.000000e+00 | -1.686502e-04 |  1.863524e-02 | -5.184867e-04 |\n",
       "|  0.000000e+00 |  0.000000e+00 | -1.575232e-06 | -1.976461e-03 | -3.751214e-04 |\n",
       "|  0.000000e+00 |  0.000000e+00 |  5.923274e-03 |  6.807938e-04 | -4.621861e-05 |\n",
       "|  0.000000e+00 |  0.000000e+00 |  3.691965e-03 | -1.612263e-04 | -1.546351e-02 |\n",
       "|  0.000000e+00 |  0.000000e+00 | -3.831697e-04 | -1.102099e-04 | -5.081876e-02 |\n",
       "|  0.000000e+00 |  0.000000e+00 |  1.329297e-04 | -1.277751e-05 | -9.017635e-02 |\n",
       "|  0.000000e+00 |  0.000000e+00 | -4.763612e-05 | -4.918940e-03 |  1.636970e-04 |\n",
       "|  0.000000e+00 |  0.000000e+00 | -3.417054e-05 | -1.751178e-02 | -1.168480e-03 |\n",
       "|  0.000000e+00 |  0.000000e+00 | -3.924830e-06 | -3.071149e-02 | -3.847311e-02 |\n",
       "|  0.000000e+00 |  0.000000e+00 | -1.203440e-03 |  5.334341e-05 | -7.486642e-02 |\n",
       "|  0.000000e+00 |  0.000000e+00 | -4.350661e-03 | -3.496666e-04 |  4.352497e-02 |\n",
       "|  0.000000e+00 |  0.000000e+00 | -7.212615e-03 | -1.120764e-02 | -3.644287e-04 |\n",
       "|  0.000000e+00 |  0.000000e+00 |  1.253959e-05 | -2.246385e-02 | -8.947530e-03 |\n",
       "|  0.000000e+00 |  0.000000e+00 | -1.009883e-04 |  1.496274e-02 | -8.264212e-02 |\n",
       "|  0.000000e+00 |  0.000000e+00 | -3.654661e-03 | -1.241791e-04 |  3.661103e-02 |\n",
       "|  0.000000e+00 |  0.000000e+00 | -7.574097e-03 | -3.193416e-03 | -6.480551e-03 |\n",
       "|  0.000000e+00 |  0.000000e+00 |  4.412586e-03 | -2.967655e-02 |  5.147362e-02 |\n",
       "|  0.000000e+00 |  0.000000e+00 | -3.543434e-05 |  1.301620e-02 | -7.618483e-02 |\n",
       "|  0.000000e+00 |  0.000000e+00 | -9.735565e-04 | -2.434596e-03 |  7.293133e-03 |\n",
       "|  0.000000e+00 |  0.000000e+00 | -9.106964e-03 |  1.984929e-02 | -2.446994e-03 |\n",
       "|  0.000000e+00 |  0.000000e+00 |  4.688834e-03 | -3.131677e-02 | -2.158760e-05 |\n",
       "|  0.000000e+00 |  0.000000e+00 | -7.760043e-04 |  2.986236e-03 |  8.154435e-02 |\n",
       "|  0.000000e+00 |  0.000000e+00 |  6.988067e-03 | -1.113016e-03 |  5.940105e-02 |\n",
       "|  0.000000e+00 |  0.000000e+00 | -1.200505e-02 | -9.710380e-06 | -5.835383e-03 |\n",
       "|  0.000000e+00 |  0.000000e+00 |  1.257100e-03 |  3.763237e-02 |  2.031983e-03 |\n",
       "|  0.000000e+00 |  0.000000e+00 | -4.189203e-04 |  2.592186e-02 | -4.611324e-04 |\n",
       "|  0.000000e+00 |  0.000000e+00 | -3.107436e-06 | -2.385879e-03 | -3.137899e-04 |\n",
       "|  0.000000e+00 |  0.000000e+00 |  1.443546e-02 |  8.988144e-04 | -4.036293e-05 |\n",
       "|  0.000000e+00 |  0.000000e+00 |  9.941034e-03 | -2.143823e-04 | -1.350582e-02 |\n",
       "|  0.000000e+00 |  0.000000e+00 | -9.670362e-04 | -1.465010e-04 | -4.368742e-02 |\n",
       "|  0.000000e+00 |  0.000000e+00 |  3.505094e-04 | -1.730433e-05 | -7.466288e-02 |\n",
       "|  0.000000e+00 |  0.000000e+00 | -9.456403e-05 | -6.202099e-03 |  1.533432e-04 |\n",
       "|  0.000000e+00 |  0.000000e+00 | -6.334591e-05 | -1.968918e-02 | -1.001498e-03 |\n",
       "|  0.000000e+00 |  0.000000e+00 | -8.253209e-06 | -3.862687e-02 | -3.655099e-02 |\n",
       "|  7.909206e-04 |  0.000000e+00 | -2.755250e-03 |  7.518082e-05 | -7.372718e-02 |\n",
       "| -7.525631e-05 |  0.000000e+00 | -1.082114e-02 | -5.910958e-04 |  5.050402e-02 |\n",
       "|  3.977852e-05 |  0.000000e+00 | -2.198425e-02 | -2.070337e-02 | -4.205527e-04 |\n",
       "| -1.004892e-05 | -3.839331e-06 |  4.236520e-05 | -4.113582e-02 | -1.054752e-02 |\n",
       "| -7.212047e-07 | -1.551300e-03 | -2.944841e-04 |  2.549385e-02 | -9.329759e-02 |\n",
       "| -3.160906e-07 | -3.347172e-03 | -1.114075e-02 | -2.267108e-04 |  4.431182e-02 |\n",
       "| -1.357993e-04 |  7.869879e-06 | -2.438305e-02 | -5.826512e-03 | -8.007080e-03 |\n",
       "\n"
      ],
      "text/plain": [
       "   V1            V2            V3            V4            V5           \n",
       "1   0.000000e+00  0.000000e+00 -5.064728e-05  8.831573e-03 -8.353388e-02\n",
       "2   0.000000e+00  0.000000e+00 -1.845381e-03 -9.279336e-05  4.056322e-02\n",
       "3   0.000000e+00  0.000000e+00 -4.792547e-03 -3.226817e-03 -7.378295e-03\n",
       "4   0.000000e+00  0.000000e+00  3.234285e-03 -3.082272e-02  6.185093e-02\n",
       "5   0.000000e+00  0.000000e+00 -2.934470e-05  1.449703e-02 -9.245033e-02\n",
       "6   0.000000e+00  0.000000e+00 -7.316363e-04 -2.786607e-03  9.229225e-03\n",
       "7   0.000000e+00  0.000000e+00 -6.127450e-03  2.124300e-02 -3.018883e-03\n",
       "8   0.000000e+00  0.000000e+00  3.412909e-03 -3.454969e-02 -2.555338e-05\n",
       "9   0.000000e+00  0.000000e+00 -5.386210e-04  2.886186e-03  9.430628e-02\n",
       "10  0.000000e+00  0.000000e+00  4.212006e-03 -9.203989e-04  6.152176e-02\n",
       "11  0.000000e+00  0.000000e+00 -5.999109e-03 -7.697940e-06 -6.247315e-03\n",
       "12  0.000000e+00  0.000000e+00  5.672093e-04  3.018869e-02  2.198926e-03\n",
       "13  0.000000e+00  0.000000e+00 -1.686502e-04  1.863524e-02 -5.184867e-04\n",
       "14  0.000000e+00  0.000000e+00 -1.575232e-06 -1.976461e-03 -3.751214e-04\n",
       "15  0.000000e+00  0.000000e+00  5.923274e-03  6.807938e-04 -4.621861e-05\n",
       "16  0.000000e+00  0.000000e+00  3.691965e-03 -1.612263e-04 -1.546351e-02\n",
       "17  0.000000e+00  0.000000e+00 -3.831697e-04 -1.102099e-04 -5.081876e-02\n",
       "18  0.000000e+00  0.000000e+00  1.329297e-04 -1.277751e-05 -9.017635e-02\n",
       "19  0.000000e+00  0.000000e+00 -4.763612e-05 -4.918940e-03  1.636970e-04\n",
       "20  0.000000e+00  0.000000e+00 -3.417054e-05 -1.751178e-02 -1.168480e-03\n",
       "21  0.000000e+00  0.000000e+00 -3.924830e-06 -3.071149e-02 -3.847311e-02\n",
       "22  0.000000e+00  0.000000e+00 -1.203440e-03  5.334341e-05 -7.486642e-02\n",
       "23  0.000000e+00  0.000000e+00 -4.350661e-03 -3.496666e-04  4.352497e-02\n",
       "24  0.000000e+00  0.000000e+00 -7.212615e-03 -1.120764e-02 -3.644287e-04\n",
       "25  0.000000e+00  0.000000e+00  1.253959e-05 -2.246385e-02 -8.947530e-03\n",
       "26  0.000000e+00  0.000000e+00 -1.009883e-04  1.496274e-02 -8.264212e-02\n",
       "27  0.000000e+00  0.000000e+00 -3.654661e-03 -1.241791e-04  3.661103e-02\n",
       "28  0.000000e+00  0.000000e+00 -7.574097e-03 -3.193416e-03 -6.480551e-03\n",
       "29  0.000000e+00  0.000000e+00  4.412586e-03 -2.967655e-02  5.147362e-02\n",
       "30  0.000000e+00  0.000000e+00 -3.543434e-05  1.301620e-02 -7.618483e-02\n",
       "31  0.000000e+00  0.000000e+00 -9.735565e-04 -2.434596e-03  7.293133e-03\n",
       "32  0.000000e+00  0.000000e+00 -9.106964e-03  1.984929e-02 -2.446994e-03\n",
       "33  0.000000e+00  0.000000e+00  4.688834e-03 -3.131677e-02 -2.158760e-05\n",
       "34  0.000000e+00  0.000000e+00 -7.760043e-04  2.986236e-03  8.154435e-02\n",
       "35  0.000000e+00  0.000000e+00  6.988067e-03 -1.113016e-03  5.940105e-02\n",
       "36  0.000000e+00  0.000000e+00 -1.200505e-02 -9.710380e-06 -5.835383e-03\n",
       "37  0.000000e+00  0.000000e+00  1.257100e-03  3.763237e-02  2.031983e-03\n",
       "38  0.000000e+00  0.000000e+00 -4.189203e-04  2.592186e-02 -4.611324e-04\n",
       "39  0.000000e+00  0.000000e+00 -3.107436e-06 -2.385879e-03 -3.137899e-04\n",
       "40  0.000000e+00  0.000000e+00  1.443546e-02  8.988144e-04 -4.036293e-05\n",
       "41  0.000000e+00  0.000000e+00  9.941034e-03 -2.143823e-04 -1.350582e-02\n",
       "42  0.000000e+00  0.000000e+00 -9.670362e-04 -1.465010e-04 -4.368742e-02\n",
       "43  0.000000e+00  0.000000e+00  3.505094e-04 -1.730433e-05 -7.466288e-02\n",
       "44  0.000000e+00  0.000000e+00 -9.456403e-05 -6.202099e-03  1.533432e-04\n",
       "45  0.000000e+00  0.000000e+00 -6.334591e-05 -1.968918e-02 -1.001498e-03\n",
       "46  0.000000e+00  0.000000e+00 -8.253209e-06 -3.862687e-02 -3.655099e-02\n",
       "47  7.909206e-04  0.000000e+00 -2.755250e-03  7.518082e-05 -7.372718e-02\n",
       "48 -7.525631e-05  0.000000e+00 -1.082114e-02 -5.910958e-04  5.050402e-02\n",
       "49  3.977852e-05  0.000000e+00 -2.198425e-02 -2.070337e-02 -4.205527e-04\n",
       "50 -1.004892e-05 -3.839331e-06  4.236520e-05 -4.113582e-02 -1.054752e-02\n",
       "51 -7.212047e-07 -1.551300e-03 -2.944841e-04  2.549385e-02 -9.329759e-02\n",
       "52 -3.160906e-07 -3.347172e-03 -1.114075e-02 -2.267108e-04  4.431182e-02\n",
       "53 -1.357993e-04  7.869879e-06 -2.438305e-02 -5.826512e-03 -8.007080e-03"
      ]
     },
     "metadata": {},
     "output_type": "display_data"
    }
   ],
   "source": [
    "Y <- MatofAlphas*A\n",
    "Y"
   ]
  },
  {
   "cell_type": "code",
   "execution_count": 47,
   "id": "8891c81a",
   "metadata": {},
   "outputs": [
    {
     "data": {
      "text/html": [
       "<table class=\"dataframe\">\n",
       "<caption>A data.frame: 53 × 5</caption>\n",
       "<thead>\n",
       "\t<tr><th scope=col>V1</th><th scope=col>V2</th><th scope=col>V3</th><th scope=col>V4</th><th scope=col>V5</th></tr>\n",
       "\t<tr><th scope=col>&lt;dbl&gt;</th><th scope=col>&lt;dbl&gt;</th><th scope=col>&lt;dbl&gt;</th><th scope=col>&lt;dbl&gt;</th><th scope=col>&lt;dbl&gt;</th></tr>\n",
       "</thead>\n",
       "<tbody>\n",
       "\t<tr><td> 0.000000e+00</td><td> 0.000000e+00</td><td>-1.019466e-07</td><td> 1.777684e-05</td><td>-6.681568e-05</td></tr>\n",
       "\t<tr><td> 0.000000e+00</td><td> 0.000000e+00</td><td>-3.714520e-06</td><td>-7.422199e-08</td><td> 3.244503e-05</td></tr>\n",
       "\t<tr><td> 0.000000e+00</td><td> 0.000000e+00</td><td>-9.646792e-06</td><td>-2.581012e-06</td><td>-5.901626e-06</td></tr>\n",
       "\t<tr><td> 0.000000e+00</td><td> 0.000000e+00</td><td> 6.510207e-06</td><td>-2.465396e-05</td><td> 3.406188e-05</td></tr>\n",
       "\t<tr><td> 0.000000e+00</td><td> 0.000000e+00</td><td>-2.347174e-08</td><td> 1.159564e-05</td><td>-5.091326e-05</td></tr>\n",
       "\t<tr><td> 0.000000e+00</td><td> 0.000000e+00</td><td>-5.852090e-07</td><td>-2.228904e-06</td><td> 5.082620e-06</td></tr>\n",
       "\t<tr><td> 0.000000e+00</td><td> 0.000000e+00</td><td>-4.901121e-06</td><td> 1.169872e-05</td><td>-1.662527e-06</td></tr>\n",
       "\t<tr><td> 0.000000e+00</td><td> 0.000000e+00</td><td> 2.729860e-06</td><td>-1.902684e-05</td><td>-1.407248e-08</td></tr>\n",
       "\t<tr><td> 0.000000e+00</td><td> 0.000000e+00</td><td>-4.308231e-07</td><td> 1.589449e-06</td><td> 2.071655e-05</td></tr>\n",
       "\t<tr><td> 0.000000e+00</td><td> 0.000000e+00</td><td> 2.319591e-06</td><td>-5.068722e-07</td><td> 1.351467e-05</td></tr>\n",
       "\t<tr><td> 0.000000e+00</td><td> 0.000000e+00</td><td>-3.303765e-06</td><td>-4.239327e-09</td><td>-1.372367e-06</td></tr>\n",
       "\t<tr><td> 0.000000e+00</td><td> 0.000000e+00</td><td> 3.123674e-07</td><td> 6.631643e-06</td><td> 4.830447e-07</td></tr>\n",
       "\t<tr><td> 0.000000e+00</td><td> 0.000000e+00</td><td>-9.287723e-08</td><td> 4.093661e-06</td><td>-1.138976e-07</td></tr>\n",
       "\t<tr><td> 0.000000e+00</td><td> 0.000000e+00</td><td>-8.674948e-10</td><td>-4.341753e-07</td><td>-1.751302e-06</td></tr>\n",
       "\t<tr><td> 0.000000e+00</td><td> 0.000000e+00</td><td> 1.301184e-06</td><td> 1.495521e-07</td><td>-2.157775e-07</td></tr>\n",
       "\t<tr><td> 0.000000e+00</td><td> 0.000000e+00</td><td> 8.110252e-07</td><td>-3.541707e-08</td><td>-7.219334e-05</td></tr>\n",
       "\t<tr><td> 0.000000e+00</td><td> 0.000000e+00</td><td>-8.417206e-08</td><td>-5.145291e-07</td><td>-2.372538e-04</td></tr>\n",
       "\t<tr><td> 0.000000e+00</td><td> 0.000000e+00</td><td> 2.920107e-08</td><td>-5.965343e-08</td><td>-4.209997e-04</td></tr>\n",
       "\t<tr><td> 0.000000e+00</td><td> 0.000000e+00</td><td>-1.046437e-08</td><td>-2.296470e-05</td><td> 3.295014e-07</td></tr>\n",
       "\t<tr><td> 0.000000e+00</td><td> 0.000000e+00</td><td>-1.595295e-07</td><td>-8.175596e-05</td><td>-2.352002e-06</td></tr>\n",
       "\t<tr><td> 0.000000e+00</td><td> 0.000000e+00</td><td>-1.832357e-08</td><td>-1.433805e-04</td><td>-7.744151e-05</td></tr>\n",
       "\t<tr><td> 0.000000e+00</td><td> 0.000000e+00</td><td>-5.618414e-06</td><td> 1.073735e-07</td><td>-1.506967e-04</td></tr>\n",
       "\t<tr><td> 0.000000e+00</td><td> 0.000000e+00</td><td>-2.031161e-05</td><td>-7.038348e-07</td><td> 8.761028e-05</td></tr>\n",
       "\t<tr><td> 0.000000e+00</td><td> 0.000000e+00</td><td>-3.367301e-05</td><td>-2.255956e-05</td><td>-2.914931e-07</td></tr>\n",
       "\t<tr><td> 0.000000e+00</td><td> 0.000000e+00</td><td> 2.524061e-08</td><td>-4.521690e-05</td><td>-7.156800e-06</td></tr>\n",
       "\t<tr><td> 0.000000e+00</td><td> 0.000000e+00</td><td>-2.032767e-07</td><td> 3.011811e-05</td><td>-6.610239e-05</td></tr>\n",
       "\t<tr><td> 0.000000e+00</td><td> 0.000000e+00</td><td>-7.356370e-06</td><td>-9.932632e-08</td><td> 2.928381e-05</td></tr>\n",
       "\t<tr><td> 0.000000e+00</td><td> 0.000000e+00</td><td>-1.524570e-05</td><td>-2.554296e-06</td><td>-5.183554e-06</td></tr>\n",
       "\t<tr><td> 0.000000e+00</td><td> 0.000000e+00</td><td> 8.881978e-06</td><td>-2.373718e-05</td><td> 2.834700e-05</td></tr>\n",
       "\t<tr><td> 0.000000e+00</td><td> 0.000000e+00</td><td>-2.834262e-08</td><td> 1.041118e-05</td><td>-4.195569e-05</td></tr>\n",
       "\t<tr><td> 0.000000e+00</td><td> 0.000000e+00</td><td>-7.787120e-07</td><td>-1.947344e-06</td><td> 4.016396e-06</td></tr>\n",
       "\t<tr><td> 0.000000e+00</td><td> 0.000000e+00</td><td>-7.284325e-06</td><td> 1.093119e-05</td><td>-1.347582e-06</td></tr>\n",
       "\t<tr><td> 0.000000e+00</td><td> 0.000000e+00</td><td> 3.750426e-06</td><td>-1.724644e-05</td><td>-1.188849e-08</td></tr>\n",
       "\t<tr><td> 0.000000e+00</td><td> 0.000000e+00</td><td>-6.206973e-07</td><td> 1.644548e-06</td><td> 1.791310e-05</td></tr>\n",
       "\t<tr><td> 0.000000e+00</td><td> 0.000000e+00</td><td> 3.848393e-06</td><td>-6.129481e-07</td><td> 1.304881e-05</td></tr>\n",
       "\t<tr><td> 0.000000e+00</td><td> 0.000000e+00</td><td>-6.611292e-06</td><td>-5.347596e-09</td><td>-1.281876e-06</td></tr>\n",
       "\t<tr><td> 0.000000e+00</td><td> 0.000000e+00</td><td> 6.922968e-07</td><td> 8.266818e-06</td><td> 4.463720e-07</td></tr>\n",
       "\t<tr><td> 0.000000e+00</td><td> 0.000000e+00</td><td>-2.307033e-07</td><td> 5.694335e-06</td><td>-1.012984e-07</td></tr>\n",
       "\t<tr><td> 0.000000e+00</td><td> 0.000000e+00</td><td>-1.711294e-09</td><td>-5.241133e-07</td><td>-1.464968e-06</td></tr>\n",
       "\t<tr><td> 0.000000e+00</td><td> 0.000000e+00</td><td> 3.171083e-06</td><td> 1.974453e-07</td><td>-1.884395e-07</td></tr>\n",
       "\t<tr><td> 0.000000e+00</td><td> 0.000000e+00</td><td> 2.183778e-06</td><td>-4.709403e-08</td><td>-6.305364e-05</td></tr>\n",
       "\t<tr><td> 0.000000e+00</td><td> 0.000000e+00</td><td>-2.124318e-07</td><td>-6.839586e-07</td><td>-2.039603e-04</td></tr>\n",
       "\t<tr><td> 0.000000e+00</td><td> 0.000000e+00</td><td> 7.699747e-08</td><td>-8.078747e-08</td><td>-3.485731e-04</td></tr>\n",
       "\t<tr><td> 0.000000e+00</td><td> 0.000000e+00</td><td>-2.077317e-08</td><td>-2.895529e-05</td><td> 3.086606e-07</td></tr>\n",
       "\t<tr><td> 0.000000e+00</td><td> 0.000000e+00</td><td>-2.957384e-07</td><td>-9.192143e-05</td><td>-2.015890e-06</td></tr>\n",
       "\t<tr><td> 0.000000e+00</td><td> 0.000000e+00</td><td>-3.853115e-08</td><td>-1.803344e-04</td><td>-7.357252e-05</td></tr>\n",
       "\t<tr><td> 1.737439e-07</td><td> 0.000000e+00</td><td>-1.286323e-05</td><td> 1.513295e-07</td><td>-1.484035e-04</td></tr>\n",
       "\t<tr><td>-1.653178e-08</td><td> 0.000000e+00</td><td>-5.051988e-05</td><td>-1.189801e-06</td><td> 1.016582e-04</td></tr>\n",
       "\t<tr><td> 8.738269e-09</td><td> 0.000000e+00</td><td>-1.026363e-04</td><td>-4.167327e-05</td><td>-3.363846e-07</td></tr>\n",
       "\t<tr><td>-2.207477e-09</td><td>-1.792441e-08</td><td> 8.527581e-08</td><td>-8.280121e-05</td><td>-8.436571e-06</td></tr>\n",
       "\t<tr><td>-3.367036e-09</td><td>-7.242443e-06</td><td>-5.927592e-07</td><td> 5.131591e-05</td><td>-7.462531e-05</td></tr>\n",
       "\t<tr><td>-1.475709e-09</td><td>-1.562670e-05</td><td>-2.242493e-05</td><td>-1.813376e-07</td><td> 3.544340e-05</td></tr>\n",
       "\t<tr><td>-6.339963e-07</td><td> 1.584107e-08</td><td>-4.908001e-05</td><td>-4.660413e-06</td><td>-6.404568e-06</td></tr>\n",
       "</tbody>\n",
       "</table>\n"
      ],
      "text/latex": [
       "A data.frame: 53 × 5\n",
       "\\begin{tabular}{lllll}\n",
       " V1 & V2 & V3 & V4 & V5\\\\\n",
       " <dbl> & <dbl> & <dbl> & <dbl> & <dbl>\\\\\n",
       "\\hline\n",
       "\t  0.000000e+00 &  0.000000e+00 & -1.019466e-07 &  1.777684e-05 & -6.681568e-05\\\\\n",
       "\t  0.000000e+00 &  0.000000e+00 & -3.714520e-06 & -7.422199e-08 &  3.244503e-05\\\\\n",
       "\t  0.000000e+00 &  0.000000e+00 & -9.646792e-06 & -2.581012e-06 & -5.901626e-06\\\\\n",
       "\t  0.000000e+00 &  0.000000e+00 &  6.510207e-06 & -2.465396e-05 &  3.406188e-05\\\\\n",
       "\t  0.000000e+00 &  0.000000e+00 & -2.347174e-08 &  1.159564e-05 & -5.091326e-05\\\\\n",
       "\t  0.000000e+00 &  0.000000e+00 & -5.852090e-07 & -2.228904e-06 &  5.082620e-06\\\\\n",
       "\t  0.000000e+00 &  0.000000e+00 & -4.901121e-06 &  1.169872e-05 & -1.662527e-06\\\\\n",
       "\t  0.000000e+00 &  0.000000e+00 &  2.729860e-06 & -1.902684e-05 & -1.407248e-08\\\\\n",
       "\t  0.000000e+00 &  0.000000e+00 & -4.308231e-07 &  1.589449e-06 &  2.071655e-05\\\\\n",
       "\t  0.000000e+00 &  0.000000e+00 &  2.319591e-06 & -5.068722e-07 &  1.351467e-05\\\\\n",
       "\t  0.000000e+00 &  0.000000e+00 & -3.303765e-06 & -4.239327e-09 & -1.372367e-06\\\\\n",
       "\t  0.000000e+00 &  0.000000e+00 &  3.123674e-07 &  6.631643e-06 &  4.830447e-07\\\\\n",
       "\t  0.000000e+00 &  0.000000e+00 & -9.287723e-08 &  4.093661e-06 & -1.138976e-07\\\\\n",
       "\t  0.000000e+00 &  0.000000e+00 & -8.674948e-10 & -4.341753e-07 & -1.751302e-06\\\\\n",
       "\t  0.000000e+00 &  0.000000e+00 &  1.301184e-06 &  1.495521e-07 & -2.157775e-07\\\\\n",
       "\t  0.000000e+00 &  0.000000e+00 &  8.110252e-07 & -3.541707e-08 & -7.219334e-05\\\\\n",
       "\t  0.000000e+00 &  0.000000e+00 & -8.417206e-08 & -5.145291e-07 & -2.372538e-04\\\\\n",
       "\t  0.000000e+00 &  0.000000e+00 &  2.920107e-08 & -5.965343e-08 & -4.209997e-04\\\\\n",
       "\t  0.000000e+00 &  0.000000e+00 & -1.046437e-08 & -2.296470e-05 &  3.295014e-07\\\\\n",
       "\t  0.000000e+00 &  0.000000e+00 & -1.595295e-07 & -8.175596e-05 & -2.352002e-06\\\\\n",
       "\t  0.000000e+00 &  0.000000e+00 & -1.832357e-08 & -1.433805e-04 & -7.744151e-05\\\\\n",
       "\t  0.000000e+00 &  0.000000e+00 & -5.618414e-06 &  1.073735e-07 & -1.506967e-04\\\\\n",
       "\t  0.000000e+00 &  0.000000e+00 & -2.031161e-05 & -7.038348e-07 &  8.761028e-05\\\\\n",
       "\t  0.000000e+00 &  0.000000e+00 & -3.367301e-05 & -2.255956e-05 & -2.914931e-07\\\\\n",
       "\t  0.000000e+00 &  0.000000e+00 &  2.524061e-08 & -4.521690e-05 & -7.156800e-06\\\\\n",
       "\t  0.000000e+00 &  0.000000e+00 & -2.032767e-07 &  3.011811e-05 & -6.610239e-05\\\\\n",
       "\t  0.000000e+00 &  0.000000e+00 & -7.356370e-06 & -9.932632e-08 &  2.928381e-05\\\\\n",
       "\t  0.000000e+00 &  0.000000e+00 & -1.524570e-05 & -2.554296e-06 & -5.183554e-06\\\\\n",
       "\t  0.000000e+00 &  0.000000e+00 &  8.881978e-06 & -2.373718e-05 &  2.834700e-05\\\\\n",
       "\t  0.000000e+00 &  0.000000e+00 & -2.834262e-08 &  1.041118e-05 & -4.195569e-05\\\\\n",
       "\t  0.000000e+00 &  0.000000e+00 & -7.787120e-07 & -1.947344e-06 &  4.016396e-06\\\\\n",
       "\t  0.000000e+00 &  0.000000e+00 & -7.284325e-06 &  1.093119e-05 & -1.347582e-06\\\\\n",
       "\t  0.000000e+00 &  0.000000e+00 &  3.750426e-06 & -1.724644e-05 & -1.188849e-08\\\\\n",
       "\t  0.000000e+00 &  0.000000e+00 & -6.206973e-07 &  1.644548e-06 &  1.791310e-05\\\\\n",
       "\t  0.000000e+00 &  0.000000e+00 &  3.848393e-06 & -6.129481e-07 &  1.304881e-05\\\\\n",
       "\t  0.000000e+00 &  0.000000e+00 & -6.611292e-06 & -5.347596e-09 & -1.281876e-06\\\\\n",
       "\t  0.000000e+00 &  0.000000e+00 &  6.922968e-07 &  8.266818e-06 &  4.463720e-07\\\\\n",
       "\t  0.000000e+00 &  0.000000e+00 & -2.307033e-07 &  5.694335e-06 & -1.012984e-07\\\\\n",
       "\t  0.000000e+00 &  0.000000e+00 & -1.711294e-09 & -5.241133e-07 & -1.464968e-06\\\\\n",
       "\t  0.000000e+00 &  0.000000e+00 &  3.171083e-06 &  1.974453e-07 & -1.884395e-07\\\\\n",
       "\t  0.000000e+00 &  0.000000e+00 &  2.183778e-06 & -4.709403e-08 & -6.305364e-05\\\\\n",
       "\t  0.000000e+00 &  0.000000e+00 & -2.124318e-07 & -6.839586e-07 & -2.039603e-04\\\\\n",
       "\t  0.000000e+00 &  0.000000e+00 &  7.699747e-08 & -8.078747e-08 & -3.485731e-04\\\\\n",
       "\t  0.000000e+00 &  0.000000e+00 & -2.077317e-08 & -2.895529e-05 &  3.086606e-07\\\\\n",
       "\t  0.000000e+00 &  0.000000e+00 & -2.957384e-07 & -9.192143e-05 & -2.015890e-06\\\\\n",
       "\t  0.000000e+00 &  0.000000e+00 & -3.853115e-08 & -1.803344e-04 & -7.357252e-05\\\\\n",
       "\t  1.737439e-07 &  0.000000e+00 & -1.286323e-05 &  1.513295e-07 & -1.484035e-04\\\\\n",
       "\t -1.653178e-08 &  0.000000e+00 & -5.051988e-05 & -1.189801e-06 &  1.016582e-04\\\\\n",
       "\t  8.738269e-09 &  0.000000e+00 & -1.026363e-04 & -4.167327e-05 & -3.363846e-07\\\\\n",
       "\t -2.207477e-09 & -1.792441e-08 &  8.527581e-08 & -8.280121e-05 & -8.436571e-06\\\\\n",
       "\t -3.367036e-09 & -7.242443e-06 & -5.927592e-07 &  5.131591e-05 & -7.462531e-05\\\\\n",
       "\t -1.475709e-09 & -1.562670e-05 & -2.242493e-05 & -1.813376e-07 &  3.544340e-05\\\\\n",
       "\t -6.339963e-07 &  1.584107e-08 & -4.908001e-05 & -4.660413e-06 & -6.404568e-06\\\\\n",
       "\\end{tabular}\n"
      ],
      "text/markdown": [
       "\n",
       "A data.frame: 53 × 5\n",
       "\n",
       "| V1 &lt;dbl&gt; | V2 &lt;dbl&gt; | V3 &lt;dbl&gt; | V4 &lt;dbl&gt; | V5 &lt;dbl&gt; |\n",
       "|---|---|---|---|---|\n",
       "|  0.000000e+00 |  0.000000e+00 | -1.019466e-07 |  1.777684e-05 | -6.681568e-05 |\n",
       "|  0.000000e+00 |  0.000000e+00 | -3.714520e-06 | -7.422199e-08 |  3.244503e-05 |\n",
       "|  0.000000e+00 |  0.000000e+00 | -9.646792e-06 | -2.581012e-06 | -5.901626e-06 |\n",
       "|  0.000000e+00 |  0.000000e+00 |  6.510207e-06 | -2.465396e-05 |  3.406188e-05 |\n",
       "|  0.000000e+00 |  0.000000e+00 | -2.347174e-08 |  1.159564e-05 | -5.091326e-05 |\n",
       "|  0.000000e+00 |  0.000000e+00 | -5.852090e-07 | -2.228904e-06 |  5.082620e-06 |\n",
       "|  0.000000e+00 |  0.000000e+00 | -4.901121e-06 |  1.169872e-05 | -1.662527e-06 |\n",
       "|  0.000000e+00 |  0.000000e+00 |  2.729860e-06 | -1.902684e-05 | -1.407248e-08 |\n",
       "|  0.000000e+00 |  0.000000e+00 | -4.308231e-07 |  1.589449e-06 |  2.071655e-05 |\n",
       "|  0.000000e+00 |  0.000000e+00 |  2.319591e-06 | -5.068722e-07 |  1.351467e-05 |\n",
       "|  0.000000e+00 |  0.000000e+00 | -3.303765e-06 | -4.239327e-09 | -1.372367e-06 |\n",
       "|  0.000000e+00 |  0.000000e+00 |  3.123674e-07 |  6.631643e-06 |  4.830447e-07 |\n",
       "|  0.000000e+00 |  0.000000e+00 | -9.287723e-08 |  4.093661e-06 | -1.138976e-07 |\n",
       "|  0.000000e+00 |  0.000000e+00 | -8.674948e-10 | -4.341753e-07 | -1.751302e-06 |\n",
       "|  0.000000e+00 |  0.000000e+00 |  1.301184e-06 |  1.495521e-07 | -2.157775e-07 |\n",
       "|  0.000000e+00 |  0.000000e+00 |  8.110252e-07 | -3.541707e-08 | -7.219334e-05 |\n",
       "|  0.000000e+00 |  0.000000e+00 | -8.417206e-08 | -5.145291e-07 | -2.372538e-04 |\n",
       "|  0.000000e+00 |  0.000000e+00 |  2.920107e-08 | -5.965343e-08 | -4.209997e-04 |\n",
       "|  0.000000e+00 |  0.000000e+00 | -1.046437e-08 | -2.296470e-05 |  3.295014e-07 |\n",
       "|  0.000000e+00 |  0.000000e+00 | -1.595295e-07 | -8.175596e-05 | -2.352002e-06 |\n",
       "|  0.000000e+00 |  0.000000e+00 | -1.832357e-08 | -1.433805e-04 | -7.744151e-05 |\n",
       "|  0.000000e+00 |  0.000000e+00 | -5.618414e-06 |  1.073735e-07 | -1.506967e-04 |\n",
       "|  0.000000e+00 |  0.000000e+00 | -2.031161e-05 | -7.038348e-07 |  8.761028e-05 |\n",
       "|  0.000000e+00 |  0.000000e+00 | -3.367301e-05 | -2.255956e-05 | -2.914931e-07 |\n",
       "|  0.000000e+00 |  0.000000e+00 |  2.524061e-08 | -4.521690e-05 | -7.156800e-06 |\n",
       "|  0.000000e+00 |  0.000000e+00 | -2.032767e-07 |  3.011811e-05 | -6.610239e-05 |\n",
       "|  0.000000e+00 |  0.000000e+00 | -7.356370e-06 | -9.932632e-08 |  2.928381e-05 |\n",
       "|  0.000000e+00 |  0.000000e+00 | -1.524570e-05 | -2.554296e-06 | -5.183554e-06 |\n",
       "|  0.000000e+00 |  0.000000e+00 |  8.881978e-06 | -2.373718e-05 |  2.834700e-05 |\n",
       "|  0.000000e+00 |  0.000000e+00 | -2.834262e-08 |  1.041118e-05 | -4.195569e-05 |\n",
       "|  0.000000e+00 |  0.000000e+00 | -7.787120e-07 | -1.947344e-06 |  4.016396e-06 |\n",
       "|  0.000000e+00 |  0.000000e+00 | -7.284325e-06 |  1.093119e-05 | -1.347582e-06 |\n",
       "|  0.000000e+00 |  0.000000e+00 |  3.750426e-06 | -1.724644e-05 | -1.188849e-08 |\n",
       "|  0.000000e+00 |  0.000000e+00 | -6.206973e-07 |  1.644548e-06 |  1.791310e-05 |\n",
       "|  0.000000e+00 |  0.000000e+00 |  3.848393e-06 | -6.129481e-07 |  1.304881e-05 |\n",
       "|  0.000000e+00 |  0.000000e+00 | -6.611292e-06 | -5.347596e-09 | -1.281876e-06 |\n",
       "|  0.000000e+00 |  0.000000e+00 |  6.922968e-07 |  8.266818e-06 |  4.463720e-07 |\n",
       "|  0.000000e+00 |  0.000000e+00 | -2.307033e-07 |  5.694335e-06 | -1.012984e-07 |\n",
       "|  0.000000e+00 |  0.000000e+00 | -1.711294e-09 | -5.241133e-07 | -1.464968e-06 |\n",
       "|  0.000000e+00 |  0.000000e+00 |  3.171083e-06 |  1.974453e-07 | -1.884395e-07 |\n",
       "|  0.000000e+00 |  0.000000e+00 |  2.183778e-06 | -4.709403e-08 | -6.305364e-05 |\n",
       "|  0.000000e+00 |  0.000000e+00 | -2.124318e-07 | -6.839586e-07 | -2.039603e-04 |\n",
       "|  0.000000e+00 |  0.000000e+00 |  7.699747e-08 | -8.078747e-08 | -3.485731e-04 |\n",
       "|  0.000000e+00 |  0.000000e+00 | -2.077317e-08 | -2.895529e-05 |  3.086606e-07 |\n",
       "|  0.000000e+00 |  0.000000e+00 | -2.957384e-07 | -9.192143e-05 | -2.015890e-06 |\n",
       "|  0.000000e+00 |  0.000000e+00 | -3.853115e-08 | -1.803344e-04 | -7.357252e-05 |\n",
       "|  1.737439e-07 |  0.000000e+00 | -1.286323e-05 |  1.513295e-07 | -1.484035e-04 |\n",
       "| -1.653178e-08 |  0.000000e+00 | -5.051988e-05 | -1.189801e-06 |  1.016582e-04 |\n",
       "|  8.738269e-09 |  0.000000e+00 | -1.026363e-04 | -4.167327e-05 | -3.363846e-07 |\n",
       "| -2.207477e-09 | -1.792441e-08 |  8.527581e-08 | -8.280121e-05 | -8.436571e-06 |\n",
       "| -3.367036e-09 | -7.242443e-06 | -5.927592e-07 |  5.131591e-05 | -7.462531e-05 |\n",
       "| -1.475709e-09 | -1.562670e-05 | -2.242493e-05 | -1.813376e-07 |  3.544340e-05 |\n",
       "| -6.339963e-07 |  1.584107e-08 | -4.908001e-05 | -4.660413e-06 | -6.404568e-06 |\n",
       "\n"
      ],
      "text/plain": [
       "   V1            V2            V3            V4            V5           \n",
       "1   0.000000e+00  0.000000e+00 -1.019466e-07  1.777684e-05 -6.681568e-05\n",
       "2   0.000000e+00  0.000000e+00 -3.714520e-06 -7.422199e-08  3.244503e-05\n",
       "3   0.000000e+00  0.000000e+00 -9.646792e-06 -2.581012e-06 -5.901626e-06\n",
       "4   0.000000e+00  0.000000e+00  6.510207e-06 -2.465396e-05  3.406188e-05\n",
       "5   0.000000e+00  0.000000e+00 -2.347174e-08  1.159564e-05 -5.091326e-05\n",
       "6   0.000000e+00  0.000000e+00 -5.852090e-07 -2.228904e-06  5.082620e-06\n",
       "7   0.000000e+00  0.000000e+00 -4.901121e-06  1.169872e-05 -1.662527e-06\n",
       "8   0.000000e+00  0.000000e+00  2.729860e-06 -1.902684e-05 -1.407248e-08\n",
       "9   0.000000e+00  0.000000e+00 -4.308231e-07  1.589449e-06  2.071655e-05\n",
       "10  0.000000e+00  0.000000e+00  2.319591e-06 -5.068722e-07  1.351467e-05\n",
       "11  0.000000e+00  0.000000e+00 -3.303765e-06 -4.239327e-09 -1.372367e-06\n",
       "12  0.000000e+00  0.000000e+00  3.123674e-07  6.631643e-06  4.830447e-07\n",
       "13  0.000000e+00  0.000000e+00 -9.287723e-08  4.093661e-06 -1.138976e-07\n",
       "14  0.000000e+00  0.000000e+00 -8.674948e-10 -4.341753e-07 -1.751302e-06\n",
       "15  0.000000e+00  0.000000e+00  1.301184e-06  1.495521e-07 -2.157775e-07\n",
       "16  0.000000e+00  0.000000e+00  8.110252e-07 -3.541707e-08 -7.219334e-05\n",
       "17  0.000000e+00  0.000000e+00 -8.417206e-08 -5.145291e-07 -2.372538e-04\n",
       "18  0.000000e+00  0.000000e+00  2.920107e-08 -5.965343e-08 -4.209997e-04\n",
       "19  0.000000e+00  0.000000e+00 -1.046437e-08 -2.296470e-05  3.295014e-07\n",
       "20  0.000000e+00  0.000000e+00 -1.595295e-07 -8.175596e-05 -2.352002e-06\n",
       "21  0.000000e+00  0.000000e+00 -1.832357e-08 -1.433805e-04 -7.744151e-05\n",
       "22  0.000000e+00  0.000000e+00 -5.618414e-06  1.073735e-07 -1.506967e-04\n",
       "23  0.000000e+00  0.000000e+00 -2.031161e-05 -7.038348e-07  8.761028e-05\n",
       "24  0.000000e+00  0.000000e+00 -3.367301e-05 -2.255956e-05 -2.914931e-07\n",
       "25  0.000000e+00  0.000000e+00  2.524061e-08 -4.521690e-05 -7.156800e-06\n",
       "26  0.000000e+00  0.000000e+00 -2.032767e-07  3.011811e-05 -6.610239e-05\n",
       "27  0.000000e+00  0.000000e+00 -7.356370e-06 -9.932632e-08  2.928381e-05\n",
       "28  0.000000e+00  0.000000e+00 -1.524570e-05 -2.554296e-06 -5.183554e-06\n",
       "29  0.000000e+00  0.000000e+00  8.881978e-06 -2.373718e-05  2.834700e-05\n",
       "30  0.000000e+00  0.000000e+00 -2.834262e-08  1.041118e-05 -4.195569e-05\n",
       "31  0.000000e+00  0.000000e+00 -7.787120e-07 -1.947344e-06  4.016396e-06\n",
       "32  0.000000e+00  0.000000e+00 -7.284325e-06  1.093119e-05 -1.347582e-06\n",
       "33  0.000000e+00  0.000000e+00  3.750426e-06 -1.724644e-05 -1.188849e-08\n",
       "34  0.000000e+00  0.000000e+00 -6.206973e-07  1.644548e-06  1.791310e-05\n",
       "35  0.000000e+00  0.000000e+00  3.848393e-06 -6.129481e-07  1.304881e-05\n",
       "36  0.000000e+00  0.000000e+00 -6.611292e-06 -5.347596e-09 -1.281876e-06\n",
       "37  0.000000e+00  0.000000e+00  6.922968e-07  8.266818e-06  4.463720e-07\n",
       "38  0.000000e+00  0.000000e+00 -2.307033e-07  5.694335e-06 -1.012984e-07\n",
       "39  0.000000e+00  0.000000e+00 -1.711294e-09 -5.241133e-07 -1.464968e-06\n",
       "40  0.000000e+00  0.000000e+00  3.171083e-06  1.974453e-07 -1.884395e-07\n",
       "41  0.000000e+00  0.000000e+00  2.183778e-06 -4.709403e-08 -6.305364e-05\n",
       "42  0.000000e+00  0.000000e+00 -2.124318e-07 -6.839586e-07 -2.039603e-04\n",
       "43  0.000000e+00  0.000000e+00  7.699747e-08 -8.078747e-08 -3.485731e-04\n",
       "44  0.000000e+00  0.000000e+00 -2.077317e-08 -2.895529e-05  3.086606e-07\n",
       "45  0.000000e+00  0.000000e+00 -2.957384e-07 -9.192143e-05 -2.015890e-06\n",
       "46  0.000000e+00  0.000000e+00 -3.853115e-08 -1.803344e-04 -7.357252e-05\n",
       "47  1.737439e-07  0.000000e+00 -1.286323e-05  1.513295e-07 -1.484035e-04\n",
       "48 -1.653178e-08  0.000000e+00 -5.051988e-05 -1.189801e-06  1.016582e-04\n",
       "49  8.738269e-09  0.000000e+00 -1.026363e-04 -4.167327e-05 -3.363846e-07\n",
       "50 -2.207477e-09 -1.792441e-08  8.527581e-08 -8.280121e-05 -8.436571e-06\n",
       "51 -3.367036e-09 -7.242443e-06 -5.927592e-07  5.131591e-05 -7.462531e-05\n",
       "52 -1.475709e-09 -1.562670e-05 -2.242493e-05 -1.813376e-07  3.544340e-05\n",
       "53 -6.339963e-07  1.584107e-08 -4.908001e-05 -4.660413e-06 -6.404568e-06"
      ]
     },
     "metadata": {},
     "output_type": "display_data"
    }
   ],
   "source": [
    "W <- MatofAlphas*B\n",
    "W"
   ]
  },
  {
   "cell_type": "code",
   "execution_count": 76,
   "id": "b693dd4c",
   "metadata": {},
   "outputs": [],
   "source": [
    "best_components <- W[,1:2]"
   ]
  },
  {
   "cell_type": "code",
   "execution_count": 51,
   "id": "996b192e",
   "metadata": {},
   "outputs": [],
   "source": [
    "librerias <- c(\"forecast\",\"xts\",\"rugarch\",\"timeSeries\",\"ggplot2\",\"astsa\",\"scales\",\"lubridate\",\"reshape2\",\"quantmod\",\"xtable\",\"tseries\")"
   ]
  },
  {
   "cell_type": "code",
   "execution_count": 52,
   "id": "4aac25c2",
   "metadata": {},
   "outputs": [
    {
     "name": "stderr",
     "output_type": "stream",
     "text": [
      "Warning message:\n",
      "\"package 'forecast' was built under R version 3.6.3\"Registered S3 method overwritten by 'xts':\n",
      "  method     from\n",
      "  as.zoo.xts zoo \n",
      "Registered S3 method overwritten by 'quantmod':\n",
      "  method            from\n",
      "  as.zoo.data.frame zoo \n",
      "Warning message:\n",
      "\"package 'zoo' was built under R version 3.6.3\"\n",
      "Attaching package: 'zoo'\n",
      "\n",
      "The following objects are masked from 'package:base':\n",
      "\n",
      "    as.Date, as.Date.numeric\n",
      "\n",
      "Warning message:\n",
      "\"package 'rugarch' was built under R version 3.6.3\"\n",
      "Attaching package: 'rugarch'\n",
      "\n",
      "The following object is masked from 'package:stats':\n",
      "\n",
      "    sigma\n",
      "\n",
      "Warning message:\n",
      "\"package 'timeSeries' was built under R version 3.6.3\"Warning message:\n",
      "\"package 'timeDate' was built under R version 3.6.2\"\n",
      "Attaching package: 'timeSeries'\n",
      "\n",
      "The following object is masked from 'package:zoo':\n",
      "\n",
      "    time<-\n",
      "\n",
      "\n",
      "Attaching package: 'astsa'\n",
      "\n",
      "The following object is masked from 'package:forecast':\n",
      "\n",
      "    gas\n",
      "\n",
      "Warning message:\n",
      "\"package 'scales' was built under R version 3.6.3\"Warning message:\n",
      "\"package 'reshape2' was built under R version 3.6.3\"\n",
      "Attaching package: 'reshape2'\n",
      "\n",
      "The following object is masked from 'package:tidyr':\n",
      "\n",
      "    smiths\n",
      "\n",
      "Version 0.4-0 included new data defaults. See ?getSymbols.\n",
      "Warning message:\n",
      "\"package 'xtable' was built under R version 3.6.3\"\n",
      "Attaching package: 'xtable'\n",
      "\n",
      "The following object is masked from 'package:timeSeries':\n",
      "\n",
      "    align\n",
      "\n",
      "The following object is masked from 'package:timeDate':\n",
      "\n",
      "    align\n",
      "\n",
      "Warning message:\n",
      "\"package 'tseries' was built under R version 3.6.3\""
     ]
    }
   ],
   "source": [
    "if(length(setdiff(librerias, rownames(installed.packages()))) > 0){\n",
    "  install.packages(setdiff(librerias, rownames(installed.packages())))}\n",
    "invisible(sapply(librerias, require, character.only = TRUE,quietly = TRUE))"
   ]
  },
  {
   "cell_type": "code",
   "execution_count": 119,
   "id": "6c1f4a8d",
   "metadata": {},
   "outputs": [
    {
     "data": {
      "text/plain": [
       "\n",
       "\tBox-Pierce test\n",
       "\n",
       "data:  Arima_1$residuals\n",
       "X-squared = 0.00015997, df = 1, p-value = 0.9899\n"
      ]
     },
     "metadata": {},
     "output_type": "display_data"
    },
    {
     "data": {
      "text/plain": [
       "\n",
       "\tBox-Pierce test\n",
       "\n",
       "data:  Arima_2$residuals\n",
       "X-squared = 6.8362, df = 1, p-value = 0.008933\n"
      ]
     },
     "metadata": {},
     "output_type": "display_data"
    },
    {
     "data": {
      "image/png": "[encoded data removed]",
      "text/plain": [
       "plot without title"
      ]
     },
     "metadata": {},
     "output_type": "display_data"
    }
   ],
   "source": [
    "Arima_1 <- auto.arima(best_components[,1],stepwise = T,approximation = F)\n",
    "Box.test(Arima_1$residuals)\n",
    "Arima_2 <- auto.arima(best_components[,2],stepwise = T,approximation = F)\n",
    "Box.test(Arima_2$residuals)\n"
   ]
  },
  {
   "cell_type": "markdown",
   "id": "0605c47b",
   "metadata": {},
   "source": [
    "Simulaciones al futuro"
   ]
  },
  {
   "cell_type": "code",
   "execution_count": 126,
   "id": "faae22f1",
   "metadata": {},
   "outputs": [
    {
     "ename": "ERROR",
     "evalue": "Error in Sim_component_1[i, j] * Bt1: argumento no-numérico para operador binario\n",
     "output_type": "error",
     "traceback": [
      "Error in Sim_component_1[i, j] * Bt1: argumento no-numérico para operador binario\nTraceback:\n"
     ]
    },
    {
     "data": {
      "image/png": "[encoded data removed]",
      "text/plain": [
       "plot without title"
      ]
     },
     "metadata": {},
     "output_type": "display_data"
    }
   ],
   "source": [
    "future <- 52\n",
    "simulations <- 1000\n",
    "sim_prueb <- simulate(object = Arima_1,nsim = future)\n",
    "plot(sim_prueb)\n",
    "Sim_component_1 <- replicate(expr = forecast(object = Arima_1,h = future),n = simulations)\n",
    "Sim_component_2 <- replicate(expr = forecast(object = Arima_2,h = future),n = simulations)\n",
    "Bt1 <- t(B[,1])\n",
    "Bt2 <- t(B[,2])\n",
    "delta<-matrix(,nrow=future, ncol=simulations)\n",
    "\n",
    "for (i in 1:future){\n",
    "        for (j in 1:simulations){\n",
    "                delta[i,j] <- sum(Sim_component_1[i,j]*Bt1)+sum(Sim_component_2[i,j]*Bt2)\n",
    "        }\n",
    "}\n"
   ]
  },
  {
   "cell_type": "code",
   "execution_count": 111,
   "id": "cea8a10e",
   "metadata": {},
   "outputs": [],
   "source": [
    "\n",
    "forwards <- list()\n",
    "alpha <- c( 0.000947582290432353,0.00474077085158422,0.0310741501203435,0.0572666472357455,0.108575410857186)\n",
    "for (i in 1:simulations){\n",
    "        newalph <- alpha\n",
    "        for (j in 1:future){\n",
    "                newalph <-  newalph + delta[j,i] \n",
    "                if (j==52){\n",
    "                        forwards <- append(forwards, newalph)\n",
    "                }    \n",
    "        }\n",
    "}\n",
    "matforwards <- matrix(forwards, ncol=5,byrow=T)\n"
   ]
  },
  {
   "cell_type": "code",
   "execution_count": 112,
   "id": "3bfdeb6e",
   "metadata": {},
   "outputs": [
    {
     "data": {
      "text/html": [
       "<table class=\"dataframe\">\n",
       "<caption>A matrix: 1000 × 5</caption>\n",
       "<tbody>\n",
       "\t<tr><td>0.0009475858</td><td>0.004740774</td><td>0.03107415</td><td>0.05726665</td><td>0.1085754</td></tr>\n",
       "\t<tr><td>0.0009475609</td><td>0.004740749</td><td>0.03107413</td><td>0.05726663</td><td>0.1085754</td></tr>\n",
       "\t<tr><td>0.0009476362</td><td>0.004740825</td><td>0.0310742</td><td>0.0572667</td><td>0.1085755</td></tr>\n",
       "\t<tr><td>0.0009476043</td><td>0.004740793</td><td>0.03107417</td><td>0.05726667</td><td>0.1085754</td></tr>\n",
       "\t<tr><td>0.0009475572</td><td>0.004740746</td><td>0.03107413</td><td>0.05726662</td><td>0.1085754</td></tr>\n",
       "\t<tr><td>0.0009476075</td><td>0.004740796</td><td>0.03107418</td><td>0.05726667</td><td>0.1085754</td></tr>\n",
       "\t<tr><td>0.0009475926</td><td>0.004740781</td><td>0.03107416</td><td>0.05726666</td><td>0.1085754</td></tr>\n",
       "\t<tr><td>0.0009475908</td><td>0.004740779</td><td>0.03107416</td><td>0.05726666</td><td>0.1085754</td></tr>\n",
       "\t<tr><td>0.0009475767</td><td>0.004740765</td><td>0.03107414</td><td>0.05726664</td><td>0.1085754</td></tr>\n",
       "\t<tr><td>0.0009476013</td><td>0.00474079</td><td>0.03107417</td><td>0.05726667</td><td>0.1085754</td></tr>\n",
       "\t<tr><td>0.0009475759</td><td>0.004740764</td><td>0.03107414</td><td>0.05726664</td><td>0.1085754</td></tr>\n",
       "\t<tr><td>0.0009475347</td><td>0.004740723</td><td>0.0310741</td><td>0.0572666</td><td>0.1085754</td></tr>\n",
       "\t<tr><td>0.0009475724</td><td>0.004740761</td><td>0.03107414</td><td>0.05726664</td><td>0.1085754</td></tr>\n",
       "\t<tr><td>0.0009475817</td><td>0.00474077</td><td>0.03107415</td><td>0.05726665</td><td>0.1085754</td></tr>\n",
       "\t<tr><td>0.0009475811</td><td>0.00474077</td><td>0.03107415</td><td>0.05726665</td><td>0.1085754</td></tr>\n",
       "\t<tr><td>0.0009475965</td><td>0.004740785</td><td>0.03107416</td><td>0.05726666</td><td>0.1085754</td></tr>\n",
       "\t<tr><td>0.0009475581</td><td>0.004740747</td><td>0.03107413</td><td>0.05726662</td><td>0.1085754</td></tr>\n",
       "\t<tr><td>0.0009475894</td><td>0.004740778</td><td>0.03107416</td><td>0.05726665</td><td>0.1085754</td></tr>\n",
       "\t<tr><td>0.000947583</td><td>0.004740772</td><td>0.03107415</td><td>0.05726665</td><td>0.1085754</td></tr>\n",
       "\t<tr><td>0.0009475628</td><td>0.004740751</td><td>0.03107413</td><td>0.05726663</td><td>0.1085754</td></tr>\n",
       "\t<tr><td>0.000947569</td><td>0.004740758</td><td>0.03107414</td><td>0.05726663</td><td>0.1085754</td></tr>\n",
       "\t<tr><td>0.00094755</td><td>0.004740739</td><td>0.03107412</td><td>0.05726661</td><td>0.1085754</td></tr>\n",
       "\t<tr><td>0.0009475588</td><td>0.004740747</td><td>0.03107413</td><td>0.05726662</td><td>0.1085754</td></tr>\n",
       "\t<tr><td>0.0009476396</td><td>0.004740828</td><td>0.03107421</td><td>0.0572667</td><td>0.1085755</td></tr>\n",
       "\t<tr><td>0.000947614</td><td>0.004740803</td><td>0.03107418</td><td>0.05726668</td><td>0.1085754</td></tr>\n",
       "\t<tr><td>0.0009476156</td><td>0.004740804</td><td>0.03107418</td><td>0.05726668</td><td>0.1085754</td></tr>\n",
       "\t<tr><td>0.0009475672</td><td>0.004740756</td><td>0.03107414</td><td>0.05726663</td><td>0.1085754</td></tr>\n",
       "\t<tr><td>0.0009476026</td><td>0.004740791</td><td>0.03107417</td><td>0.05726667</td><td>0.1085754</td></tr>\n",
       "\t<tr><td>0.0009476013</td><td>0.00474079</td><td>0.03107417</td><td>0.05726667</td><td>0.1085754</td></tr>\n",
       "\t<tr><td>0.0009475457</td><td>0.004740734</td><td>0.03107411</td><td>0.05726661</td><td>0.1085754</td></tr>\n",
       "\t<tr><td>...</td><td>...</td><td>...</td><td>...</td><td>...</td></tr>\n",
       "\t<tr><td>0.0009475624</td><td>0.004740751</td><td>0.03107413</td><td>0.05726663</td><td>0.1085754</td></tr>\n",
       "\t<tr><td>0.0009475959</td><td>0.004740784</td><td>0.03107416</td><td>0.05726666</td><td>0.1085754</td></tr>\n",
       "\t<tr><td>0.0009475658</td><td>0.004740754</td><td>0.03107413</td><td>0.05726663</td><td>0.1085754</td></tr>\n",
       "\t<tr><td>0.0009475636</td><td>0.004740752</td><td>0.03107413</td><td>0.05726663</td><td>0.1085754</td></tr>\n",
       "\t<tr><td>0.0009475917</td><td>0.00474078</td><td>0.03107416</td><td>0.05726666</td><td>0.1085754</td></tr>\n",
       "\t<tr><td>0.0009475807</td><td>0.004740769</td><td>0.03107415</td><td>0.05726665</td><td>0.1085754</td></tr>\n",
       "\t<tr><td>0.0009475503</td><td>0.004740739</td><td>0.03107412</td><td>0.05726662</td><td>0.1085754</td></tr>\n",
       "\t<tr><td>0.0009475472</td><td>0.004740736</td><td>0.03107412</td><td>0.05726661</td><td>0.1085754</td></tr>\n",
       "\t<tr><td>0.0009475526</td><td>0.004740741</td><td>0.03107412</td><td>0.05726662</td><td>0.1085754</td></tr>\n",
       "\t<tr><td>0.000947591</td><td>0.00474078</td><td>0.03107416</td><td>0.05726666</td><td>0.1085754</td></tr>\n",
       "\t<tr><td>0.0009475949</td><td>0.004740783</td><td>0.03107416</td><td>0.05726666</td><td>0.1085754</td></tr>\n",
       "\t<tr><td>0.0009475407</td><td>0.004740729</td><td>0.03107411</td><td>0.05726661</td><td>0.1085754</td></tr>\n",
       "\t<tr><td>0.0009475762</td><td>0.004740765</td><td>0.03107414</td><td>0.05726664</td><td>0.1085754</td></tr>\n",
       "\t<tr><td>0.0009476094</td><td>0.004740798</td><td>0.03107418</td><td>0.05726667</td><td>0.1085754</td></tr>\n",
       "\t<tr><td>0.0009476208</td><td>0.004740809</td><td>0.03107419</td><td>0.05726669</td><td>0.1085754</td></tr>\n",
       "\t<tr><td>0.0009475554</td><td>0.004740744</td><td>0.03107412</td><td>0.05726662</td><td>0.1085754</td></tr>\n",
       "\t<tr><td>0.0009475597</td><td>0.004740748</td><td>0.03107413</td><td>0.05726662</td><td>0.1085754</td></tr>\n",
       "\t<tr><td>0.0009475803</td><td>0.004740769</td><td>0.03107415</td><td>0.05726665</td><td>0.1085754</td></tr>\n",
       "\t<tr><td>0.0009475897</td><td>0.004740778</td><td>0.03107416</td><td>0.05726665</td><td>0.1085754</td></tr>\n",
       "\t<tr><td>0.0009476528</td><td>0.004740841</td><td>0.03107422</td><td>0.05726672</td><td>0.1085755</td></tr>\n",
       "\t<tr><td>0.000947606</td><td>0.004740795</td><td>0.03107417</td><td>0.05726667</td><td>0.1085754</td></tr>\n",
       "\t<tr><td>0.0009475829</td><td>0.004740771</td><td>0.03107415</td><td>0.05726665</td><td>0.1085754</td></tr>\n",
       "\t<tr><td>0.0009475936</td><td>0.004740782</td><td>0.03107416</td><td>0.05726666</td><td>0.1085754</td></tr>\n",
       "\t<tr><td>0.0009475328</td><td>0.004740721</td><td>0.0310741</td><td>0.0572666</td><td>0.1085754</td></tr>\n",
       "\t<tr><td>0.0009475654</td><td>0.004740754</td><td>0.03107413</td><td>0.05726663</td><td>0.1085754</td></tr>\n",
       "\t<tr><td>0.0009476214</td><td>0.00474081</td><td>0.03107419</td><td>0.05726669</td><td>0.1085754</td></tr>\n",
       "\t<tr><td>0.0009475999</td><td>0.004740789</td><td>0.03107417</td><td>0.05726666</td><td>0.1085754</td></tr>\n",
       "\t<tr><td>0.0009475503</td><td>0.004740739</td><td>0.03107412</td><td>0.05726662</td><td>0.1085754</td></tr>\n",
       "\t<tr><td>0.0009475518</td><td>0.00474074</td><td>0.03107412</td><td>0.05726662</td><td>0.1085754</td></tr>\n",
       "\t<tr><td>0.0009475593</td><td>0.004740748</td><td>0.03107413</td><td>0.05726662</td><td>0.1085754</td></tr>\n",
       "</tbody>\n",
       "</table>\n"
      ],
      "text/latex": [
       "A matrix: 1000 × 5\n",
       "\\begin{tabular}{lllll}\n",
       "\t 0.0009475858 & 0.004740774 & 0.03107415 & 0.05726665 & 0.1085754\\\\\n",
       "\t 0.0009475609 & 0.004740749 & 0.03107413 & 0.05726663 & 0.1085754\\\\\n",
       "\t 0.0009476362 & 0.004740825 & 0.0310742 & 0.0572667 & 0.1085755\\\\\n",
       "\t 0.0009476043 & 0.004740793 & 0.03107417 & 0.05726667 & 0.1085754\\\\\n",
       "\t 0.0009475572 & 0.004740746 & 0.03107413 & 0.05726662 & 0.1085754\\\\\n",
       "\t 0.0009476075 & 0.004740796 & 0.03107418 & 0.05726667 & 0.1085754\\\\\n",
       "\t 0.0009475926 & 0.004740781 & 0.03107416 & 0.05726666 & 0.1085754\\\\\n",
       "\t 0.0009475908 & 0.004740779 & 0.03107416 & 0.05726666 & 0.1085754\\\\\n",
       "\t 0.0009475767 & 0.004740765 & 0.03107414 & 0.05726664 & 0.1085754\\\\\n",
       "\t 0.0009476013 & 0.00474079 & 0.03107417 & 0.05726667 & 0.1085754\\\\\n",
       "\t 0.0009475759 & 0.004740764 & 0.03107414 & 0.05726664 & 0.1085754\\\\\n",
       "\t 0.0009475347 & 0.004740723 & 0.0310741 & 0.0572666 & 0.1085754\\\\\n",
       "\t 0.0009475724 & 0.004740761 & 0.03107414 & 0.05726664 & 0.1085754\\\\\n",
       "\t 0.0009475817 & 0.00474077 & 0.03107415 & 0.05726665 & 0.1085754\\\\\n",
       "\t 0.0009475811 & 0.00474077 & 0.03107415 & 0.05726665 & 0.1085754\\\\\n",
       "\t 0.0009475965 & 0.004740785 & 0.03107416 & 0.05726666 & 0.1085754\\\\\n",
       "\t 0.0009475581 & 0.004740747 & 0.03107413 & 0.05726662 & 0.1085754\\\\\n",
       "\t 0.0009475894 & 0.004740778 & 0.03107416 & 0.05726665 & 0.1085754\\\\\n",
       "\t 0.000947583 & 0.004740772 & 0.03107415 & 0.05726665 & 0.1085754\\\\\n",
       "\t 0.0009475628 & 0.004740751 & 0.03107413 & 0.05726663 & 0.1085754\\\\\n",
       "\t 0.000947569 & 0.004740758 & 0.03107414 & 0.05726663 & 0.1085754\\\\\n",
       "\t 0.00094755 & 0.004740739 & 0.03107412 & 0.05726661 & 0.1085754\\\\\n",
       "\t 0.0009475588 & 0.004740747 & 0.03107413 & 0.05726662 & 0.1085754\\\\\n",
       "\t 0.0009476396 & 0.004740828 & 0.03107421 & 0.0572667 & 0.1085755\\\\\n",
       "\t 0.000947614 & 0.004740803 & 0.03107418 & 0.05726668 & 0.1085754\\\\\n",
       "\t 0.0009476156 & 0.004740804 & 0.03107418 & 0.05726668 & 0.1085754\\\\\n",
       "\t 0.0009475672 & 0.004740756 & 0.03107414 & 0.05726663 & 0.1085754\\\\\n",
       "\t 0.0009476026 & 0.004740791 & 0.03107417 & 0.05726667 & 0.1085754\\\\\n",
       "\t 0.0009476013 & 0.00474079 & 0.03107417 & 0.05726667 & 0.1085754\\\\\n",
       "\t 0.0009475457 & 0.004740734 & 0.03107411 & 0.05726661 & 0.1085754\\\\\n",
       "\t ... & ... & ... & ... & ...\\\\\n",
       "\t 0.0009475624 & 0.004740751 & 0.03107413 & 0.05726663 & 0.1085754\\\\\n",
       "\t 0.0009475959 & 0.004740784 & 0.03107416 & 0.05726666 & 0.1085754\\\\\n",
       "\t 0.0009475658 & 0.004740754 & 0.03107413 & 0.05726663 & 0.1085754\\\\\n",
       "\t 0.0009475636 & 0.004740752 & 0.03107413 & 0.05726663 & 0.1085754\\\\\n",
       "\t 0.0009475917 & 0.00474078 & 0.03107416 & 0.05726666 & 0.1085754\\\\\n",
       "\t 0.0009475807 & 0.004740769 & 0.03107415 & 0.05726665 & 0.1085754\\\\\n",
       "\t 0.0009475503 & 0.004740739 & 0.03107412 & 0.05726662 & 0.1085754\\\\\n",
       "\t 0.0009475472 & 0.004740736 & 0.03107412 & 0.05726661 & 0.1085754\\\\\n",
       "\t 0.0009475526 & 0.004740741 & 0.03107412 & 0.05726662 & 0.1085754\\\\\n",
       "\t 0.000947591 & 0.00474078 & 0.03107416 & 0.05726666 & 0.1085754\\\\\n",
       "\t 0.0009475949 & 0.004740783 & 0.03107416 & 0.05726666 & 0.1085754\\\\\n",
       "\t 0.0009475407 & 0.004740729 & 0.03107411 & 0.05726661 & 0.1085754\\\\\n",
       "\t 0.0009475762 & 0.004740765 & 0.03107414 & 0.05726664 & 0.1085754\\\\\n",
       "\t 0.0009476094 & 0.004740798 & 0.03107418 & 0.05726667 & 0.1085754\\\\\n",
       "\t 0.0009476208 & 0.004740809 & 0.03107419 & 0.05726669 & 0.1085754\\\\\n",
       "\t 0.0009475554 & 0.004740744 & 0.03107412 & 0.05726662 & 0.1085754\\\\\n",
       "\t 0.0009475597 & 0.004740748 & 0.03107413 & 0.05726662 & 0.1085754\\\\\n",
       "\t 0.0009475803 & 0.004740769 & 0.03107415 & 0.05726665 & 0.1085754\\\\\n",
       "\t 0.0009475897 & 0.004740778 & 0.03107416 & 0.05726665 & 0.1085754\\\\\n",
       "\t 0.0009476528 & 0.004740841 & 0.03107422 & 0.05726672 & 0.1085755\\\\\n",
       "\t 0.000947606 & 0.004740795 & 0.03107417 & 0.05726667 & 0.1085754\\\\\n",
       "\t 0.0009475829 & 0.004740771 & 0.03107415 & 0.05726665 & 0.1085754\\\\\n",
       "\t 0.0009475936 & 0.004740782 & 0.03107416 & 0.05726666 & 0.1085754\\\\\n",
       "\t 0.0009475328 & 0.004740721 & 0.0310741 & 0.0572666 & 0.1085754\\\\\n",
       "\t 0.0009475654 & 0.004740754 & 0.03107413 & 0.05726663 & 0.1085754\\\\\n",
       "\t 0.0009476214 & 0.00474081 & 0.03107419 & 0.05726669 & 0.1085754\\\\\n",
       "\t 0.0009475999 & 0.004740789 & 0.03107417 & 0.05726666 & 0.1085754\\\\\n",
       "\t 0.0009475503 & 0.004740739 & 0.03107412 & 0.05726662 & 0.1085754\\\\\n",
       "\t 0.0009475518 & 0.00474074 & 0.03107412 & 0.05726662 & 0.1085754\\\\\n",
       "\t 0.0009475593 & 0.004740748 & 0.03107413 & 0.05726662 & 0.1085754\\\\\n",
       "\\end{tabular}\n"
      ],
      "text/markdown": [
       "\n",
       "A matrix: 1000 × 5\n",
       "\n",
       "| 0.0009475858 | 0.004740774 | 0.03107415 | 0.05726665 | 0.1085754 |\n",
       "| 0.0009475609 | 0.004740749 | 0.03107413 | 0.05726663 | 0.1085754 |\n",
       "| 0.0009476362 | 0.004740825 | 0.0310742 | 0.0572667 | 0.1085755 |\n",
       "| 0.0009476043 | 0.004740793 | 0.03107417 | 0.05726667 | 0.1085754 |\n",
       "| 0.0009475572 | 0.004740746 | 0.03107413 | 0.05726662 | 0.1085754 |\n",
       "| 0.0009476075 | 0.004740796 | 0.03107418 | 0.05726667 | 0.1085754 |\n",
       "| 0.0009475926 | 0.004740781 | 0.03107416 | 0.05726666 | 0.1085754 |\n",
       "| 0.0009475908 | 0.004740779 | 0.03107416 | 0.05726666 | 0.1085754 |\n",
       "| 0.0009475767 | 0.004740765 | 0.03107414 | 0.05726664 | 0.1085754 |\n",
       "| 0.0009476013 | 0.00474079 | 0.03107417 | 0.05726667 | 0.1085754 |\n",
       "| 0.0009475759 | 0.004740764 | 0.03107414 | 0.05726664 | 0.1085754 |\n",
       "| 0.0009475347 | 0.004740723 | 0.0310741 | 0.0572666 | 0.1085754 |\n",
       "| 0.0009475724 | 0.004740761 | 0.03107414 | 0.05726664 | 0.1085754 |\n",
       "| 0.0009475817 | 0.00474077 | 0.03107415 | 0.05726665 | 0.1085754 |\n",
       "| 0.0009475811 | 0.00474077 | 0.03107415 | 0.05726665 | 0.1085754 |\n",
       "| 0.0009475965 | 0.004740785 | 0.03107416 | 0.05726666 | 0.1085754 |\n",
       "| 0.0009475581 | 0.004740747 | 0.03107413 | 0.05726662 | 0.1085754 |\n",
       "| 0.0009475894 | 0.004740778 | 0.03107416 | 0.05726665 | 0.1085754 |\n",
       "| 0.000947583 | 0.004740772 | 0.03107415 | 0.05726665 | 0.1085754 |\n",
       "| 0.0009475628 | 0.004740751 | 0.03107413 | 0.05726663 | 0.1085754 |\n",
       "| 0.000947569 | 0.004740758 | 0.03107414 | 0.05726663 | 0.1085754 |\n",
       "| 0.00094755 | 0.004740739 | 0.03107412 | 0.05726661 | 0.1085754 |\n",
       "| 0.0009475588 | 0.004740747 | 0.03107413 | 0.05726662 | 0.1085754 |\n",
       "| 0.0009476396 | 0.004740828 | 0.03107421 | 0.0572667 | 0.1085755 |\n",
       "| 0.000947614 | 0.004740803 | 0.03107418 | 0.05726668 | 0.1085754 |\n",
       "| 0.0009476156 | 0.004740804 | 0.03107418 | 0.05726668 | 0.1085754 |\n",
       "| 0.0009475672 | 0.004740756 | 0.03107414 | 0.05726663 | 0.1085754 |\n",
       "| 0.0009476026 | 0.004740791 | 0.03107417 | 0.05726667 | 0.1085754 |\n",
       "| 0.0009476013 | 0.00474079 | 0.03107417 | 0.05726667 | 0.1085754 |\n",
       "| 0.0009475457 | 0.004740734 | 0.03107411 | 0.05726661 | 0.1085754 |\n",
       "| ... | ... | ... | ... | ... |\n",
       "| 0.0009475624 | 0.004740751 | 0.03107413 | 0.05726663 | 0.1085754 |\n",
       "| 0.0009475959 | 0.004740784 | 0.03107416 | 0.05726666 | 0.1085754 |\n",
       "| 0.0009475658 | 0.004740754 | 0.03107413 | 0.05726663 | 0.1085754 |\n",
       "| 0.0009475636 | 0.004740752 | 0.03107413 | 0.05726663 | 0.1085754 |\n",
       "| 0.0009475917 | 0.00474078 | 0.03107416 | 0.05726666 | 0.1085754 |\n",
       "| 0.0009475807 | 0.004740769 | 0.03107415 | 0.05726665 | 0.1085754 |\n",
       "| 0.0009475503 | 0.004740739 | 0.03107412 | 0.05726662 | 0.1085754 |\n",
       "| 0.0009475472 | 0.004740736 | 0.03107412 | 0.05726661 | 0.1085754 |\n",
       "| 0.0009475526 | 0.004740741 | 0.03107412 | 0.05726662 | 0.1085754 |\n",
       "| 0.000947591 | 0.00474078 | 0.03107416 | 0.05726666 | 0.1085754 |\n",
       "| 0.0009475949 | 0.004740783 | 0.03107416 | 0.05726666 | 0.1085754 |\n",
       "| 0.0009475407 | 0.004740729 | 0.03107411 | 0.05726661 | 0.1085754 |\n",
       "| 0.0009475762 | 0.004740765 | 0.03107414 | 0.05726664 | 0.1085754 |\n",
       "| 0.0009476094 | 0.004740798 | 0.03107418 | 0.05726667 | 0.1085754 |\n",
       "| 0.0009476208 | 0.004740809 | 0.03107419 | 0.05726669 | 0.1085754 |\n",
       "| 0.0009475554 | 0.004740744 | 0.03107412 | 0.05726662 | 0.1085754 |\n",
       "| 0.0009475597 | 0.004740748 | 0.03107413 | 0.05726662 | 0.1085754 |\n",
       "| 0.0009475803 | 0.004740769 | 0.03107415 | 0.05726665 | 0.1085754 |\n",
       "| 0.0009475897 | 0.004740778 | 0.03107416 | 0.05726665 | 0.1085754 |\n",
       "| 0.0009476528 | 0.004740841 | 0.03107422 | 0.05726672 | 0.1085755 |\n",
       "| 0.000947606 | 0.004740795 | 0.03107417 | 0.05726667 | 0.1085754 |\n",
       "| 0.0009475829 | 0.004740771 | 0.03107415 | 0.05726665 | 0.1085754 |\n",
       "| 0.0009475936 | 0.004740782 | 0.03107416 | 0.05726666 | 0.1085754 |\n",
       "| 0.0009475328 | 0.004740721 | 0.0310741 | 0.0572666 | 0.1085754 |\n",
       "| 0.0009475654 | 0.004740754 | 0.03107413 | 0.05726663 | 0.1085754 |\n",
       "| 0.0009476214 | 0.00474081 | 0.03107419 | 0.05726669 | 0.1085754 |\n",
       "| 0.0009475999 | 0.004740789 | 0.03107417 | 0.05726666 | 0.1085754 |\n",
       "| 0.0009475503 | 0.004740739 | 0.03107412 | 0.05726662 | 0.1085754 |\n",
       "| 0.0009475518 | 0.00474074 | 0.03107412 | 0.05726662 | 0.1085754 |\n",
       "| 0.0009475593 | 0.004740748 | 0.03107413 | 0.05726662 | 0.1085754 |\n",
       "\n"
      ],
      "text/plain": [
       "      [,1]         [,2]        [,3]       [,4]       [,5]     \n",
       " [1,] 0.0009475858 0.004740774 0.03107415 0.05726665 0.1085754\n",
       " [2,] 0.0009475609 0.004740749 0.03107413 0.05726663 0.1085754\n",
       " [3,] 0.0009476362 0.004740825 0.0310742  0.0572667  0.1085755\n",
       " [4,] 0.0009476043 0.004740793 0.03107417 0.05726667 0.1085754\n",
       " [5,] 0.0009475572 0.004740746 0.03107413 0.05726662 0.1085754\n",
       " [6,] 0.0009476075 0.004740796 0.03107418 0.05726667 0.1085754\n",
       " [7,] 0.0009475926 0.004740781 0.03107416 0.05726666 0.1085754\n",
       " [8,] 0.0009475908 0.004740779 0.03107416 0.05726666 0.1085754\n",
       " [9,] 0.0009475767 0.004740765 0.03107414 0.05726664 0.1085754\n",
       "[10,] 0.0009476013 0.00474079  0.03107417 0.05726667 0.1085754\n",
       "[11,] 0.0009475759 0.004740764 0.03107414 0.05726664 0.1085754\n",
       "[12,] 0.0009475347 0.004740723 0.0310741  0.0572666  0.1085754\n",
       "[13,] 0.0009475724 0.004740761 0.03107414 0.05726664 0.1085754\n",
       "[14,] 0.0009475817 0.00474077  0.03107415 0.05726665 0.1085754\n",
       "[15,] 0.0009475811 0.00474077  0.03107415 0.05726665 0.1085754\n",
       "[16,] 0.0009475965 0.004740785 0.03107416 0.05726666 0.1085754\n",
       "[17,] 0.0009475581 0.004740747 0.03107413 0.05726662 0.1085754\n",
       "[18,] 0.0009475894 0.004740778 0.03107416 0.05726665 0.1085754\n",
       "[19,] 0.000947583  0.004740772 0.03107415 0.05726665 0.1085754\n",
       "[20,] 0.0009475628 0.004740751 0.03107413 0.05726663 0.1085754\n",
       "[21,] 0.000947569  0.004740758 0.03107414 0.05726663 0.1085754\n",
       "[22,] 0.00094755   0.004740739 0.03107412 0.05726661 0.1085754\n",
       "[23,] 0.0009475588 0.004740747 0.03107413 0.05726662 0.1085754\n",
       "[24,] 0.0009476396 0.004740828 0.03107421 0.0572667  0.1085755\n",
       "[25,] 0.000947614  0.004740803 0.03107418 0.05726668 0.1085754\n",
       "[26,] 0.0009476156 0.004740804 0.03107418 0.05726668 0.1085754\n",
       "[27,] 0.0009475672 0.004740756 0.03107414 0.05726663 0.1085754\n",
       "[28,] 0.0009476026 0.004740791 0.03107417 0.05726667 0.1085754\n",
       "[29,] 0.0009476013 0.00474079  0.03107417 0.05726667 0.1085754\n",
       "[30,] 0.0009475457 0.004740734 0.03107411 0.05726661 0.1085754\n",
       "[31,] ...          ...         ...        ...        ...      \n",
       "[32,] 0.0009475624 0.004740751 0.03107413 0.05726663 0.1085754\n",
       "[33,] 0.0009475959 0.004740784 0.03107416 0.05726666 0.1085754\n",
       "[34,] 0.0009475658 0.004740754 0.03107413 0.05726663 0.1085754\n",
       "[35,] 0.0009475636 0.004740752 0.03107413 0.05726663 0.1085754\n",
       "[36,] 0.0009475917 0.00474078  0.03107416 0.05726666 0.1085754\n",
       "[37,] 0.0009475807 0.004740769 0.03107415 0.05726665 0.1085754\n",
       "[38,] 0.0009475503 0.004740739 0.03107412 0.05726662 0.1085754\n",
       "[39,] 0.0009475472 0.004740736 0.03107412 0.05726661 0.1085754\n",
       "[40,] 0.0009475526 0.004740741 0.03107412 0.05726662 0.1085754\n",
       "[41,] 0.000947591  0.00474078  0.03107416 0.05726666 0.1085754\n",
       "[42,] 0.0009475949 0.004740783 0.03107416 0.05726666 0.1085754\n",
       "[43,] 0.0009475407 0.004740729 0.03107411 0.05726661 0.1085754\n",
       "[44,] 0.0009475762 0.004740765 0.03107414 0.05726664 0.1085754\n",
       "[45,] 0.0009476094 0.004740798 0.03107418 0.05726667 0.1085754\n",
       "[46,] 0.0009476208 0.004740809 0.03107419 0.05726669 0.1085754\n",
       "[47,] 0.0009475554 0.004740744 0.03107412 0.05726662 0.1085754\n",
       "[48,] 0.0009475597 0.004740748 0.03107413 0.05726662 0.1085754\n",
       "[49,] 0.0009475803 0.004740769 0.03107415 0.05726665 0.1085754\n",
       "[50,] 0.0009475897 0.004740778 0.03107416 0.05726665 0.1085754\n",
       "[51,] 0.0009476528 0.004740841 0.03107422 0.05726672 0.1085755\n",
       "[52,] 0.000947606  0.004740795 0.03107417 0.05726667 0.1085754\n",
       "[53,] 0.0009475829 0.004740771 0.03107415 0.05726665 0.1085754\n",
       "[54,] 0.0009475936 0.004740782 0.03107416 0.05726666 0.1085754\n",
       "[55,] 0.0009475328 0.004740721 0.0310741  0.0572666  0.1085754\n",
       "[56,] 0.0009475654 0.004740754 0.03107413 0.05726663 0.1085754\n",
       "[57,] 0.0009476214 0.00474081  0.03107419 0.05726669 0.1085754\n",
       "[58,] 0.0009475999 0.004740789 0.03107417 0.05726666 0.1085754\n",
       "[59,] 0.0009475503 0.004740739 0.03107412 0.05726662 0.1085754\n",
       "[60,] 0.0009475518 0.00474074  0.03107412 0.05726662 0.1085754\n",
       "[61,] 0.0009475593 0.004740748 0.03107413 0.05726662 0.1085754"
      ]
     },
     "metadata": {},
     "output_type": "display_data"
    }
   ],
   "source": [
    "matforwards"
   ]
  },
  {
   "cell_type": "code",
   "execution_count": 113,
   "id": "629609d6",
   "metadata": {},
   "outputs": [],
   "source": [
    "couponsim <- list()\n",
    "c <- 3.93957166428661\n",
    "for (i in 1:simulations){\n",
    "    alpha <- lapply(as.vector(matforwards[i,]), as.numeric)\n",
    "        pvnotional <- DiscountFactor(as.numeric(alpha[4]), 84 )*100\n",
    "        pvnotional\n",
    "            pvcoupon <- DiscountFactor(as.numeric(alpha[2]), 12)*RateConverter(c, 12,today) + DiscountFactor(as.numeric(alpha[2]), 24)*RateConverter(c,24,today) +\n",
    "                DiscountFactor(as.numeric(alpha[3]), 36)*RateConverter(c, 36,today) +DiscountFactor(as.numeric(alpha[3]), 48)*RateConverter(c, 48,today) +\n",
    "                DiscountFactor(as.numeric(alpha[4]), 60)*RateConverter(c, 60,today) + DiscountFactor(as.numeric(alpha[4]), 72)*RateConverter(c, 72,today) +  \n",
    "                DiscountFactor(as.numeric(alpha[4]), 84)*RateConverter(c, 84,today) + DiscountFactor(as.numeric(alpha[4]), 84)*RateConverter(c, 84,today)\n",
    "                result <-pvnotional + pvcoupon\n",
    "                couponsim <- append(couponsim,list(result))\n",
    "    \n",
    "}\n",
    "matcoupon <- matrix(couponsim, ncol=1)"
   ]
  },
  {
   "cell_type": "code",
   "execution_count": 122,
   "id": "d27117f9",
   "metadata": {},
   "outputs": [],
   "source": [
    "matcoupon <- as.data.frame(matcoupon)\n",
    "bondvaluesim <- as.numeric(matcoupon$V1)\n",
    "\n"
   ]
  },
  {
   "cell_type": "code",
   "execution_count": 115,
   "id": "a25cbd74",
   "metadata": {},
   "outputs": [
    {
     "data": {
      "text/plain": [
       "   Min. 1st Qu.  Median    Mean 3rd Qu.    Max. \n",
       "    100     100     100     100     100     100 "
      ]
     },
     "metadata": {},
     "output_type": "display_data"
    },
    {
     "data": {
      "image/png": "[encoded data removed]",
      "text/plain": [
       "Plot with title \"Histogram of bondvaluesim\""
      ]
     },
     "metadata": {},
     "output_type": "display_data"
    }
   ],
   "source": [
    "\n",
    "hist(bondvaluesim)\n",
    "summary(bondvaluesim)"
   ]
  },
  {
   "cell_type": "code",
   "execution_count": 125,
   "id": "4053c0dd",
   "metadata": {},
   "outputs": [
    {
     "ename": "ERROR",
     "evalue": "Error in forecast.forecast_ARIMA(Arima_1, test, h = 52): Confidence limit out of range\n",
     "output_type": "error",
     "traceback": [
      "Error in forecast.forecast_ARIMA(Arima_1, test, h = 52): Confidence limit out of range\nTraceback:\n",
      "1. forecast(Arima_1, test, h = 52)",
      "2. forecast.forecast_ARIMA(Arima_1, test, h = 52)",
      "3. stop(\"Confidence limit out of range\")"
     ]
    }
   ],
   "source": [
    "train <- best_components[1:40,1]\n",
    "test <- best_components[40:nrow(best_components),1]\n",
    "Arima_1 <- auto.arima(train,stepwise = T,approximation = F)\n",
    "forcast_1 <- forecast(Arima_1,test, h=52)\n"
   ]
  }
 ],
 "metadata": {
  "kernelspec": {
   "display_name": "R",
   "language": "R",
   "name": "ir"
  },
  "language_info": {
   "codemirror_mode": "r",
   "file_extension": ".r",
   "mimetype": "text/x-r-source",
   "name": "R",
   "pygments_lexer": "r",
   "version": "3.6.1"
  }
 },
 "nbformat": 4,
 "nbformat_minor": 5
}
