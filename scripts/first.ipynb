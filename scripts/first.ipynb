{
 "cells": [
  {
   "cell_type": "code",
   "execution_count": 1,
   "id": "f0afcc4e-e98c-48ad-b51f-f6dc2b1c3226",
   "metadata": {},
   "outputs": [
    {
     "name": "stderr",
     "output_type": "stream",
     "text": [
      "Warning message:\n",
      "\"package 'readxl' was built under R version 3.6.3\""
     ]
    }
   ],
   "source": [
    "library(\"readxl\")"
   ]
  },
  {
   "cell_type": "code",
   "execution_count": 2,
   "id": "d18f324a-67d1-44be-aae4-6da1209ff9c8",
   "metadata": {},
   "outputs": [
    {
     "name": "stderr",
     "output_type": "stream",
     "text": [
      "Warning message:\n",
      "\"package 'lubridate' was built under R version 3.6.3\"\n",
      "Attaching package: 'lubridate'\n",
      "\n",
      "The following objects are masked from 'package:base':\n",
      "\n",
      "    date, intersect, setdiff, union\n",
      "\n"
     ]
    }
   ],
   "source": [
    "library(\"lubridate\")"
   ]
  },
  {
   "cell_type": "code",
   "execution_count": 3,
   "id": "fd9a067d-bee2-44b6-97f5-5b0a841eacab",
   "metadata": {},
   "outputs": [
    {
     "data": {
      "text/html": [
       "<style>\n",
       ".list-inline {list-style: none; margin:0; padding: 0}\n",
       ".list-inline>li {display: inline-block}\n",
       ".list-inline>li:not(:last-child)::after {content: \"\\00b7\"; padding: 0 .5ex}\n",
       "</style>\n",
       "<ol class=list-inline><li>'.GlobalEnv'</li><li>'package:lubridate'</li><li>'package:readxl'</li><li>'jupyter:irkernel'</li><li>'jupyter:irkernel'</li><li>'package:stats'</li><li>'package:graphics'</li><li>'package:grDevices'</li><li>'package:utils'</li><li>'package:datasets'</li><li>'package:methods'</li><li>'Autoloads'</li><li>'package:base'</li></ol>\n"
      ],
      "text/latex": [
       "\\begin{enumerate*}\n",
       "\\item '.GlobalEnv'\n",
       "\\item 'package:lubridate'\n",
       "\\item 'package:readxl'\n",
       "\\item 'jupyter:irkernel'\n",
       "\\item 'jupyter:irkernel'\n",
       "\\item 'package:stats'\n",
       "\\item 'package:graphics'\n",
       "\\item 'package:grDevices'\n",
       "\\item 'package:utils'\n",
       "\\item 'package:datasets'\n",
       "\\item 'package:methods'\n",
       "\\item 'Autoloads'\n",
       "\\item 'package:base'\n",
       "\\end{enumerate*}\n"
      ],
      "text/markdown": [
       "1. '.GlobalEnv'\n",
       "2. 'package:lubridate'\n",
       "3. 'package:readxl'\n",
       "4. 'jupyter:irkernel'\n",
       "5. 'jupyter:irkernel'\n",
       "6. 'package:stats'\n",
       "7. 'package:graphics'\n",
       "8. 'package:grDevices'\n",
       "9. 'package:utils'\n",
       "10. 'package:datasets'\n",
       "11. 'package:methods'\n",
       "12. 'Autoloads'\n",
       "13. 'package:base'\n",
       "\n",
       "\n"
      ],
      "text/plain": [
       " [1] \".GlobalEnv\"        \"package:lubridate\" \"package:readxl\"   \n",
       " [4] \"jupyter:irkernel\"  \"jupyter:irkernel\"  \"package:stats\"    \n",
       " [7] \"package:graphics\"  \"package:grDevices\" \"package:utils\"    \n",
       "[10] \"package:datasets\"  \"package:methods\"   \"Autoloads\"        \n",
       "[13] \"package:base\"     "
      ]
     },
     "metadata": {},
     "output_type": "display_data"
    }
   ],
   "source": [
    "search()"
   ]
  },
  {
   "cell_type": "code",
   "execution_count": 4,
   "id": "5ba0a704-f05a-4a5f-a80e-2af93790495f",
   "metadata": {},
   "outputs": [],
   "source": [
    "source(\"helpers.R\")"
   ]
  },
  {
   "cell_type": "code",
   "execution_count": 5,
   "id": "9f0daf38-b921-4bb5-8ae8-d7111b9c9888",
   "metadata": {},
   "outputs": [],
   "source": [
    "path <- \"../data/data.xlsx\""
   ]
  },
  {
   "cell_type": "code",
   "execution_count": 6,
   "id": "1273d7c3-de1a-4dd6-92b4-ac589352aecd",
   "metadata": {},
   "outputs": [],
   "source": [
    "df <- Dataframing(path)"
   ]
  },
  {
   "cell_type": "code",
   "execution_count": 7,
   "id": "4301fc67-fb5d-4370-9e65-45a7b97fb714",
   "metadata": {},
   "outputs": [],
   "source": [
    "df <- df[-c(210),]"
   ]
  },
  {
   "cell_type": "code",
   "execution_count": 8,
   "id": "fbe01fa1-e480-4471-b334-0c3f9b8d8bbe",
   "metadata": {},
   "outputs": [],
   "source": [
    "df$Date <- as.Date(df$Date)"
   ]
  },
  {
   "cell_type": "code",
   "execution_count": 9,
   "id": "4b94c154-5d47-4cc6-b0eb-6a950de33181",
   "metadata": {},
   "outputs": [],
   "source": [
    "firstYields <- df[df$Date == \"2022-02-11\",]"
   ]
  },
  {
   "cell_type": "code",
   "execution_count": 10,
   "id": "7086da3b-8eb5-4aef-bd27-988ebcf96117",
   "metadata": {},
   "outputs": [
    {
     "data": {
      "text/html": [
       "<table class=\"dataframe\">\n",
       "<caption>A data.frame: 1 × 9</caption>\n",
       "<thead>\n",
       "\t<tr><th></th><th scope=col>Date</th><th scope=col>10Y</th><th scope=col>7Y</th><th scope=col>5Y</th><th scope=col>3Y</th><th scope=col>2Y</th><th scope=col>1Y</th><th scope=col>6M</th><th scope=col>3M</th></tr>\n",
       "\t<tr><th></th><th scope=col>&lt;date&gt;</th><th scope=col>&lt;dbl&gt;</th><th scope=col>&lt;dbl&gt;</th><th scope=col>&lt;dbl&gt;</th><th scope=col>&lt;dbl&gt;</th><th scope=col>&lt;dbl&gt;</th><th scope=col>&lt;dbl&gt;</th><th scope=col>&lt;dbl&gt;</th><th scope=col>&lt;dbl&gt;</th></tr>\n",
       "</thead>\n",
       "<tbody>\n",
       "\t<tr><th scope=row>209</th><td>2022-02-11</td><td>1.941</td><td>1.94</td><td>1.856</td><td>1.728</td><td>1.505</td><td>1.029</td><td>0.692</td><td>0.359</td></tr>\n",
       "</tbody>\n",
       "</table>\n"
      ],
      "text/latex": [
       "A data.frame: 1 × 9\n",
       "\\begin{tabular}{r|lllllllll}\n",
       "  & Date & 10Y & 7Y & 5Y & 3Y & 2Y & 1Y & 6M & 3M\\\\\n",
       "  & <date> & <dbl> & <dbl> & <dbl> & <dbl> & <dbl> & <dbl> & <dbl> & <dbl>\\\\\n",
       "\\hline\n",
       "\t209 & 2022-02-11 & 1.941 & 1.94 & 1.856 & 1.728 & 1.505 & 1.029 & 0.692 & 0.359\\\\\n",
       "\\end{tabular}\n"
      ],
      "text/markdown": [
       "\n",
       "A data.frame: 1 × 9\n",
       "\n",
       "| <!--/--> | Date &lt;date&gt; | 10Y &lt;dbl&gt; | 7Y &lt;dbl&gt; | 5Y &lt;dbl&gt; | 3Y &lt;dbl&gt; | 2Y &lt;dbl&gt; | 1Y &lt;dbl&gt; | 6M &lt;dbl&gt; | 3M &lt;dbl&gt; |\n",
       "|---|---|---|---|---|---|---|---|---|---|\n",
       "| 209 | 2022-02-11 | 1.941 | 1.94 | 1.856 | 1.728 | 1.505 | 1.029 | 0.692 | 0.359 |\n",
       "\n"
      ],
      "text/plain": [
       "    Date       10Y   7Y   5Y    3Y    2Y    1Y    6M    3M   \n",
       "209 2022-02-11 1.941 1.94 1.856 1.728 1.505 1.029 0.692 0.359"
      ]
     },
     "metadata": {},
     "output_type": "display_data"
    }
   ],
   "source": [
    "firstYields"
   ]
  },
  {
   "cell_type": "markdown",
   "id": "9bb11ce8-5322-4e8d-94e3-24b70e8f874c",
   "metadata": {
    "tags": []
   },
   "source": [
    "#### Suponemos que: \n",
    "- $\\alpha_1$ representa la tasa forward entre 0 y 3 meses, \n",
    "- $\\alpha_2$ la tasa entre 3 meses y 1 año, \n",
    "- $\\alpha_3$ la tasa entre 1 y 3 años,\n",
    "- $\\alpha_4$ la tasa entre 3 y 5 años ,\n",
    "- $\\alpha_5$ la tasa entre 5 y 10 años. "
   ]
  },
  {
   "cell_type": "code",
   "execution_count": 11,
   "id": "2c2988b4-ca5a-4939-9c90-284a99ca4a24",
   "metadata": {},
   "outputs": [],
   "source": [
    "today <- firstYields$Date"
   ]
  },
  {
   "cell_type": "markdown",
   "id": "6332eca6-4725-4f2d-bc1f-b9a870a66bb4",
   "metadata": {
    "jp-MarkdownHeadingCollapsed": true,
    "tags": []
   },
   "source": [
    "#### Además, para traer a valor presente usando una curva forward, se sigue el factor de descuento a un plazo T es: "
   ]
  },
  {
   "cell_type": "markdown",
   "id": "9bae4002-2617-48f6-b0de-9ae6c48409ae",
   "metadata": {},
   "source": [
    "### $$ e^{-\\int_{0}^{T} f(t) \\,dt}$$"
   ]
  },
  {
   "cell_type": "markdown",
   "id": "28e8e0a4-27ee-497a-bdc5-754c4fd9956a",
   "metadata": {},
   "source": [
    "#### Definamos algunos objetos de utilidad. Cuántos cupones paga cada bono? Cómo ajustamos la tasa para cada pago?"
   ]
  },
  {
   "cell_type": "code",
   "execution_count": 12,
   "id": "6b2d359a-d534-45da-80f3-5b59d853b3eb",
   "metadata": {},
   "outputs": [],
   "source": [
    "alpha <- c(0.1,0.11,0.12,0.13,0.14)"
   ]
  },
  {
   "cell_type": "code",
   "execution_count": 13,
   "id": "81f5e08e-ea9d-4eb5-b77b-d3c0b97a53c1",
   "metadata": {},
   "outputs": [
    {
     "data": {
      "text/html": [
       "<style>\n",
       ".list-inline {list-style: none; margin:0; padding: 0}\n",
       ".list-inline>li {display: inline-block}\n",
       ".list-inline>li:not(:last-child)::after {content: \"\\00b7\"; padding: 0 .5ex}\n",
       "</style>\n",
       "<ol class=list-inline><li>0.1</li><li>0.11</li><li>0.12</li><li>0.13</li><li>0.14</li></ol>\n"
      ],
      "text/latex": [
       "\\begin{enumerate*}\n",
       "\\item 0.1\n",
       "\\item 0.11\n",
       "\\item 0.12\n",
       "\\item 0.13\n",
       "\\item 0.14\n",
       "\\end{enumerate*}\n"
      ],
      "text/markdown": [
       "1. 0.1\n",
       "2. 0.11\n",
       "3. 0.12\n",
       "4. 0.13\n",
       "5. 0.14\n",
       "\n",
       "\n"
      ],
      "text/plain": [
       "[1] 0.10 0.11 0.12 0.13 0.14"
      ]
     },
     "metadata": {},
     "output_type": "display_data"
    }
   ],
   "source": [
    "alpha"
   ]
  },
  {
   "cell_type": "code",
   "execution_count": 14,
   "id": "59e4a6f7-faa9-4487-924f-d0ae2183bae8",
   "metadata": {},
   "outputs": [],
   "source": [
    "today = firstYields$Date"
   ]
  },
  {
   "cell_type": "code",
   "execution_count": 15,
   "id": "c70ad683-f043-40a1-8c79-c2b252a180c3",
   "metadata": {},
   "outputs": [],
   "source": [
    "threeMonthBond <- 100 + 100*RateConverter(firstYields[[\"3M\"]],3,today)*DiscountFactor(alpha, 3)"
   ]
  },
  {
   "cell_type": "code",
   "execution_count": 16,
   "id": "49fcd4d8-e5f0-4a20-a6be-c88a6824e404",
   "metadata": {},
   "outputs": [],
   "source": [
    "sixMonthBond <- 100 + 100*RateConverter(firstYields[[\"6M\"]], 6, today)*DiscountFactor(alpha, 6)"
   ]
  },
  {
   "cell_type": "code",
   "execution_count": 17,
   "id": "9be5d8b6-9a81-4afc-8886-3a0d41b3ec35",
   "metadata": {},
   "outputs": [
    {
     "data": {
      "text/html": [
       "118.530052294366"
      ],
      "text/latex": [
       "118.530052294366"
      ],
      "text/markdown": [
       "118.530052294366"
      ],
      "text/plain": [
       "[1] 118.5301"
      ]
     },
     "metadata": {},
     "output_type": "display_data"
    }
   ],
   "source": [
    "sixMonthBond"
   ]
  },
  {
   "cell_type": "code",
   "execution_count": 18,
   "id": "daf01f17-8f1a-4914-aaf2-f1e0a94d5b88",
   "metadata": {},
   "outputs": [],
   "source": [
    "oneYearBond <- 100 +  100*RateConverter(firstYields[[\"1Y\"]], 6, today) *DiscountFactor(alpha, 6) + RateConverter(firstYields[[\"1Y\"]], 12, today)*DiscountFactor(alpha, 12)"
   ]
  },
  {
   "cell_type": "code",
   "execution_count": 19,
   "id": "9c98ba37-727e-49ea-afa2-0bd47f372468",
   "metadata": {},
   "outputs": [
    {
     "data": {
      "text/html": [
       "127.841268365667"
      ],
      "text/latex": [
       "127.841268365667"
      ],
      "text/markdown": [
       "127.841268365667"
      ],
      "text/plain": [
       "[1] 127.8413"
      ]
     },
     "metadata": {},
     "output_type": "display_data"
    }
   ],
   "source": [
    "oneYearBond"
   ]
  },
  {
   "cell_type": "code",
   "execution_count": 20,
   "id": "96e3f441-d8d9-45b8-acb7-729870b91fdc",
   "metadata": {},
   "outputs": [],
   "source": [
    "maturity<- 36"
   ]
  },
  {
   "cell_type": "code",
   "execution_count": 21,
   "id": "8e363417-8362-44e5-93bd-73a14c0f09c2",
   "metadata": {},
   "outputs": [],
   "source": [
    "periods <- seq(6, maturity, 6)"
   ]
  },
  {
   "cell_type": "code",
   "execution_count": 22,
   "id": "af2e17af-7784-482b-b5c0-b86a49bb7b7e",
   "metadata": {},
   "outputs": [
    {
     "data": {
      "text/html": [
       "106.574967491389"
      ],
      "text/latex": [
       "106.574967491389"
      ],
      "text/markdown": [
       "106.574967491389"
      ],
      "text/plain": [
       "[1] 106.575"
      ]
     },
     "metadata": {},
     "output_type": "display_data"
    }
   ],
   "source": [
    "threeMonthBond"
   ]
  },
  {
   "cell_type": "markdown",
   "metadata": {},
   "source": [
    "Recordemos que cada pago está dado por :  \n",
    "\n",
    "$$\\$100\\times R \\times \\frac{ACT}{360}$$"
   ]
  },
  {
   "cell_type": "code",
   "execution_count": 23,
   "id": "55ec8d82-c8eb-4cc3-b192-56ce7e3cd55a",
   "metadata": {},
   "outputs": [],
   "source": [
    "singleBondPayment <- function(maturity, yield, alpha, today){\n",
    "    return (100*RateConverter(yield, maturity,today)*DiscountFactor(alpha, maturity))\n",
    "}"
   ]
  },
  {
   "cell_type": "code",
   "execution_count": 24,
   "id": "50ca64bd-641b-49e6-9862-25920a4de86a",
   "metadata": {},
   "outputs": [
    {
     "data": {
      "text/html": [
       "6.57496749138932"
      ],
      "text/latex": [
       "6.57496749138932"
      ],
      "text/markdown": [
       "6.57496749138932"
      ],
      "text/plain": [
       "[1] 6.574967"
      ]
     },
     "metadata": {},
     "output_type": "display_data"
    }
   ],
   "source": [
    "singleBondPayment(3,firstYields[[\"3M\"]], alpha, today)"
   ]
  },
  {
   "cell_type": "code",
   "execution_count": 25,
   "id": "ce498c1e-5ec0-487f-9ec2-d9a32b077f61",
   "metadata": {},
   "outputs": [],
   "source": [
    "yieldList <- list(firstYields)"
   ]
  },
  {
   "cell_type": "code",
   "execution_count": 26,
   "id": "c504d27d-c7d9-459b-92bc-989981ea5db8",
   "metadata": {},
   "outputs": [],
   "source": [
    "nombres <- colnames(firstYields)"
   ]
  },
  {
   "cell_type": "code",
   "execution_count": 27,
   "id": "8d12a55e-80db-4d9b-9d63-6d4fee00e44f",
   "metadata": {},
   "outputs": [],
   "source": [
    "nombres <- nombres[-1]"
   ]
  },
  {
   "cell_type": "code",
   "execution_count": 28,
   "id": "d7231767-3339-4bc2-a79f-118be492db4f",
   "metadata": {},
   "outputs": [
    {
     "data": {
      "text/html": [
       "<style>\n",
       ".list-inline {list-style: none; margin:0; padding: 0}\n",
       ".list-inline>li {display: inline-block}\n",
       ".list-inline>li:not(:last-child)::after {content: \"\\00b7\"; padding: 0 .5ex}\n",
       "</style>\n",
       "<ol class=list-inline><li>'10Y'</li><li>'7Y'</li><li>'5Y'</li><li>'3Y'</li><li>'2Y'</li><li>'1Y'</li><li>'6M'</li><li>'3M'</li></ol>\n"
      ],
      "text/latex": [
       "\\begin{enumerate*}\n",
       "\\item '10Y'\n",
       "\\item '7Y'\n",
       "\\item '5Y'\n",
       "\\item '3Y'\n",
       "\\item '2Y'\n",
       "\\item '1Y'\n",
       "\\item '6M'\n",
       "\\item '3M'\n",
       "\\end{enumerate*}\n"
      ],
      "text/markdown": [
       "1. '10Y'\n",
       "2. '7Y'\n",
       "3. '5Y'\n",
       "4. '3Y'\n",
       "5. '2Y'\n",
       "6. '1Y'\n",
       "7. '6M'\n",
       "8. '3M'\n",
       "\n",
       "\n"
      ],
      "text/plain": [
       "[1] \"10Y\" \"7Y\"  \"5Y\"  \"3Y\"  \"2Y\"  \"1Y\"  \"6M\"  \"3M\" "
      ]
     },
     "metadata": {},
     "output_type": "display_data"
    }
   ],
   "source": [
    "nombres"
   ]
  },
  {
   "cell_type": "code",
   "execution_count": 29,
   "id": "cb1dbc36-9b49-4b39-8d74-b7ae078b89d2",
   "metadata": {},
   "outputs": [],
   "source": [
    "nombres <- as.list(nombres)"
   ]
  },
  {
   "cell_type": "code",
   "execution_count": 30,
   "id": "7ae67d55-2043-4beb-81c1-cd95a63c9ffe",
   "metadata": {},
   "outputs": [],
   "source": [
    "names(nombres) <- c(120,84,60,36,24,12,6,3) "
   ]
  },
  {
   "cell_type": "code",
   "execution_count": 31,
   "id": "f6812e41-02f5-43be-8f93-d2270415c6c8",
   "metadata": {},
   "outputs": [],
   "source": [
    "BondValue <- function (today, maturity, yieldlist,alpha ){\n",
    "    if (maturity == 3){\n",
    "        return (100 + singleBondPayment(3,yieldlist[[\"3M\"]], alpha, today))\n",
    "        }\n",
    "    setter <- as.character(maturity)\n",
    "    periods <- seq(6, maturity, 6)\n",
    "    bondSum <- sum(unlist(lapply(periods, function(x) singleBondPayment(x, yield = yieldlist[[nombres[[setter]]]],  alpha = alpha, today = today))))\n",
    "    return(bondSum +100)\n",
    "}"
   ]
  },
  {
   "cell_type": "code",
   "execution_count": 32,
   "id": "e115c3d4-be49-46e5-8e11-3f9ef159fb8c",
   "metadata": {},
   "outputs": [
    {
     "data": {
      "text/html": [
       "306.026419209785"
      ],
      "text/latex": [
       "306.026419209785"
      ],
      "text/markdown": [
       "306.026419209785"
      ],
      "text/plain": [
       "[1] 306.0264"
      ]
     },
     "metadata": {},
     "output_type": "display_data"
    }
   ],
   "source": [
    "BondValue(today, 120, firstYields, alpha)"
   ]
  },
  {
   "cell_type": "code",
   "execution_count": 33,
   "id": "a02e0b57-dea3-4c91-9c7d-3af12d4cdacd",
   "metadata": {},
   "outputs": [],
   "source": [
    "maturities <- c(120,84,60,36,24,12,6,3) "
   ]
  },
  {
   "cell_type": "code",
   "execution_count": 34,
   "id": "c12697eb-70c7-41cb-a52c-b9e0c43eae60",
   "metadata": {},
   "outputs": [],
   "source": [
    "bondValues <- list()\n",
    "for (i in maturities){\n",
    "    bondValues <- append(bondValues, BondValue(today, i, firstYields, alpha))\n",
    "}"
   ]
  },
  {
   "cell_type": "code",
   "execution_count": 35,
   "id": "e09def6e-e88a-447e-ab5c-7a7417b38b47",
   "metadata": {},
   "outputs": [
    {
     "data": {
      "text/html": [
       "<ol>\n",
       "\t<li>306.026419209785</li>\n",
       "\t<li>305.892609100874</li>\n",
       "\t<li>296.430819404703</li>\n",
       "\t<li>274.493702612565</li>\n",
       "\t<li>232.791521862097</li>\n",
       "\t<li>156.272852059027</li>\n",
       "\t<li>118.530052294366</li>\n",
       "\t<li>106.574967491389</li>\n",
       "</ol>\n"
      ],
      "text/latex": [
       "\\begin{enumerate}\n",
       "\\item 306.026419209785\n",
       "\\item 305.892609100874\n",
       "\\item 296.430819404703\n",
       "\\item 274.493702612565\n",
       "\\item 232.791521862097\n",
       "\\item 156.272852059027\n",
       "\\item 118.530052294366\n",
       "\\item 106.574967491389\n",
       "\\end{enumerate}\n"
      ],
      "text/markdown": [
       "1. 306.026419209785\n",
       "2. 305.892609100874\n",
       "3. 296.430819404703\n",
       "4. 274.493702612565\n",
       "5. 232.791521862097\n",
       "6. 156.272852059027\n",
       "7. 118.530052294366\n",
       "8. 106.574967491389\n",
       "\n",
       "\n"
      ],
      "text/plain": [
       "[[1]]\n",
       "[1] 306.0264\n",
       "\n",
       "[[2]]\n",
       "[1] 305.8926\n",
       "\n",
       "[[3]]\n",
       "[1] 296.4308\n",
       "\n",
       "[[4]]\n",
       "[1] 274.4937\n",
       "\n",
       "[[5]]\n",
       "[1] 232.7915\n",
       "\n",
       "[[6]]\n",
       "[1] 156.2729\n",
       "\n",
       "[[7]]\n",
       "[1] 118.5301\n",
       "\n",
       "[[8]]\n",
       "[1] 106.575\n"
      ]
     },
     "metadata": {},
     "output_type": "display_data"
    }
   ],
   "source": [
    "bondValues"
   ]
  },
  {
   "cell_type": "code",
   "execution_count": 36,
   "id": "58a47576-09dd-44a6-9d58-47053a7f21fe",
   "metadata": {},
   "outputs": [],
   "source": [
    "error <-function(alpha){\n",
    "    maturities <- c(120,84,60,36,24,12,6,3)  #c(3,6,12,24,36,60,84,120) \n",
    "    bondValues <- list()\n",
    "    for (i in maturities){\n",
    "        bondValues <- append(bondValues, BondValue(today, i, firstYields, alpha))\n",
    "    }\n",
    "    error <- sum((unlist(bondValues)-100)**2)\n",
    "    return (error)\n",
    "}"
   ]
  },
  {
   "cell_type": "code",
   "execution_count": 37,
   "id": "7c7a9065-9e84-47c2-9239-9d782356225c",
   "metadata": {},
   "outputs": [
    {
     "data": {
      "text/html": [
       "<dl>\n",
       "\t<dt>$par</dt>\n",
       "\t\t<dd><style>\n",
       ".list-inline {list-style: none; margin:0; padding: 0}\n",
       ".list-inline>li {display: inline-block}\n",
       ".list-inline>li:not(:last-child)::after {content: \"\\00b7\"; padding: 0 .5ex}\n",
       "</style>\n",
       "<ol class=list-inline><li>1</li><li>1</li><li>1</li><li>1</li><li>1</li></ol>\n",
       "</dd>\n",
       "\t<dt>$value</dt>\n",
       "\t\t<dd>0.473865778151616</dd>\n",
       "\t<dt>$counts</dt>\n",
       "\t\t<dd><style>\n",
       ".dl-inline {width: auto; margin:0; padding: 0}\n",
       ".dl-inline>dt, .dl-inline>dd {float: none; width: auto; display: inline-block}\n",
       ".dl-inline>dt::after {content: \":\\0020\"; padding-right: .5ex}\n",
       ".dl-inline>dt:not(:first-of-type) {padding-left: .5ex}\n",
       "</style><dl class=dl-inline><dt>function</dt><dd>2</dd><dt>gradient</dt><dd>2</dd></dl>\n",
       "</dd>\n",
       "\t<dt>$convergence</dt>\n",
       "\t\t<dd>0</dd>\n",
       "\t<dt>$message</dt>\n",
       "\t\t<dd>'CONVERGENCE: NORM OF PROJECTED GRADIENT &lt;= PGTOL'</dd>\n",
       "</dl>\n"
      ],
      "text/latex": [
       "\\begin{description}\n",
       "\\item[\\$par] \\begin{enumerate*}\n",
       "\\item 1\n",
       "\\item 1\n",
       "\\item 1\n",
       "\\item 1\n",
       "\\item 1\n",
       "\\end{enumerate*}\n",
       "\n",
       "\\item[\\$value] 0.473865778151616\n",
       "\\item[\\$counts] \\begin{description*}\n",
       "\\item[function] 2\n",
       "\\item[gradient] 2\n",
       "\\end{description*}\n",
       "\n",
       "\\item[\\$convergence] 0\n",
       "\\item[\\$message] 'CONVERGENCE: NORM OF PROJECTED GRADIENT <= PGTOL'\n",
       "\\end{description}\n"
      ],
      "text/markdown": [
       "$par\n",
       ":   1. 1\n",
       "2. 1\n",
       "3. 1\n",
       "4. 1\n",
       "5. 1\n",
       "\n",
       "\n",
       "\n",
       "$value\n",
       ":   0.473865778151616\n",
       "$counts\n",
       ":   function\n",
       ":   2gradient\n",
       ":   2\n",
       "\n",
       "\n",
       "$convergence\n",
       ":   0\n",
       "$message\n",
       ":   'CONVERGENCE: NORM OF PROJECTED GRADIENT &lt;= PGTOL'\n",
       "\n",
       "\n"
      ],
      "text/plain": [
       "$par\n",
       "[1] 1 1 1 1 1\n",
       "\n",
       "$value\n",
       "[1] 0.4738658\n",
       "\n",
       "$counts\n",
       "function gradient \n",
       "       2        2 \n",
       "\n",
       "$convergence\n",
       "[1] 0\n",
       "\n",
       "$message\n",
       "[1] \"CONVERGENCE: NORM OF PROJECTED GRADIENT <= PGTOL\"\n"
      ]
     },
     "metadata": {},
     "output_type": "display_data"
    }
   ],
   "source": [
    "optim(alpha, error, lower = 0, upper= 1, method = \"L-BFGS-B\")"
   ]
  },
  {
   "cell_type": "code",
   "execution_count": 38,
   "id": "a40166af-e090-43ee-bc10-27c225afcea5",
   "metadata": {},
   "outputs": [],
   "source": [
    "opt <- optim(alpha, error, lower = 0, upper= 1, method = \"L-BFGS-B\")"
   ]
  },
  {
   "cell_type": "code",
   "execution_count": 43,
   "id": "329fea40",
   "metadata": {},
   "outputs": [
    {
     "data": {
      "text/html": [
       "<ol>\n",
       "\t<li><style>\n",
       ".list-inline {list-style: none; margin:0; padding: 0}\n",
       ".list-inline>li {display: inline-block}\n",
       ".list-inline>li:not(:last-child)::after {content: \"\\00b7\"; padding: 0 .5ex}\n",
       "</style>\n",
       "<ol class=list-inline><li>1</li><li>1</li><li>1</li><li>1</li><li>1</li></ol>\n",
       "</li>\n",
       "</ol>\n"
      ],
      "text/latex": [
       "\\begin{enumerate}\n",
       "\\item \\begin{enumerate*}\n",
       "\\item 1\n",
       "\\item 1\n",
       "\\item 1\n",
       "\\item 1\n",
       "\\item 1\n",
       "\\end{enumerate*}\n",
       "\n",
       "\\end{enumerate}\n"
      ],
      "text/markdown": [
       "1. 1. 1\n",
       "2. 1\n",
       "3. 1\n",
       "4. 1\n",
       "5. 1\n",
       "\n",
       "\n",
       "\n",
       "\n",
       "\n"
      ],
      "text/plain": [
       "[[1]]\n",
       "[1] 1 1 1 1 1\n"
      ]
     },
     "metadata": {},
     "output_type": "display_data"
    }
   ],
   "source": [
    "list(opt$par)"
   ]
  },
  {
   "cell_type": "code",
   "execution_count": 49,
   "id": "f154bbc5",
   "metadata": {},
   "outputs": [],
   "source": [
    "matAlphas <- list()\n",
    "for ( r in 1:nrow(df)){ \n",
    "    firstYields <- df[r,]\n",
    "    today <- firstYields$Date\n",
    "    alpha <- c(0.1,0.11,0.12,0.13,0.14)\n",
    "    opt <- optim(alpha, error, lower = 0, upper= 1, method = \"L-BFGS-B\")\n",
    "    matAlphas <- append(matAlphas, list(opt$par))\n",
    "}"
   ]
  },
  {
   "cell_type": "code",
   "execution_count": 52,
   "id": "6c7c98be",
   "metadata": {},
   "outputs": [],
   "source": [
    "MatofAlphas <- matrix(unlist(matAlphas), ncol = 5, byrow = TRUE)"
   ]
  },
  {
   "cell_type": "code",
   "execution_count": null,
   "id": "89765d2f",
   "metadata": {},
   "outputs": [],
   "source": [
    "i_alpha <- MatofAlphas[-nrow(df),]\n",
    "f_alpha <- MatofAlphas[-1,]\n",
    "delta_alpha <- f_alpha - i_alpha"
   ]
  },
  {
   "cell_type": "code",
   "execution_count": null,
   "id": "75147ad5",
   "metadata": {},
   "outputs": [],
   "source": []
  }
 ],
 "metadata": {
  "kernelspec": {
   "display_name": "R",
   "language": "R",
   "name": "python3711jvsc74a57bd0aa5dfc9bc22e8b9bd7d7586b99fc6c73114eec00d3f85e09b6fdc2730a892aa2"
  },
  "language_info": {
   "codemirror_mode": "r",
   "file_extension": ".r",
   "mimetype": "text/x-r-source",
   "name": "R",
   "pygments_lexer": "r",
   "version": "3.6.1"
  }
 },
 "nbformat": 4,
 "nbformat_minor": 5
}
